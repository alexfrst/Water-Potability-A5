{
 "cells": [
  {
   "cell_type": "code",
   "execution_count": 62,
   "metadata": {},
   "outputs": [],
   "source": [
    "import pandas as pd\n",
    "import numpy as np\n",
    "import plotly.express as px\n",
    "import plotly.io as pio\n",
    "import plotly.graph_objects as go"
   ]
  },
  {
   "cell_type": "code",
   "execution_count": 63,
   "metadata": {
    "pycharm": {
     "name": "#%%\n"
    }
   },
   "outputs": [
    {
     "data": {
      "text/plain": "            ph    Hardness       Solids  Chloramines     Sulfate  \\\n0          NaN  204.890456  20791.31898     7.300212  368.516441   \n1     3.716080  129.422921  18630.05786     6.635246         NaN   \n2     8.099124  224.236259  19909.54173     9.275884         NaN   \n3     8.316766  214.373394  22018.41744     8.059332  356.886136   \n4     9.092223  181.101509  17978.98634     6.546600  310.135738   \n...        ...         ...          ...          ...         ...   \n3271  4.668102  193.681736  47580.99160     7.166639  359.948574   \n3272  7.808856  193.553212  17329.80216     8.061362         NaN   \n3273  9.419510  175.762646  33155.57822     7.350233         NaN   \n3274  5.126763  230.603758  11983.86938     6.303357         NaN   \n3275  7.874671  195.102299  17404.17706     7.509306         NaN   \n\n      Conductivity  Organic_carbon  Trihalomethanes  Turbidity  Potability  \n0       564.308654       10.379783        86.990970   2.963135           0  \n1       592.885359       15.180013        56.329076   4.500656           0  \n2       418.606213       16.868637        66.420093   3.055934           0  \n3       363.266516       18.436525       100.341674   4.628771           0  \n4       398.410813       11.558279        31.997993   4.075075           0  \n...            ...             ...              ...        ...         ...  \n3271    526.424171       13.894419        66.687695   4.435821           1  \n3272    392.449580       19.903225              NaN   2.798243           1  \n3273    432.044783       11.039070        69.845400   3.298875           1  \n3274    402.883113       11.168946        77.488213   4.708658           1  \n3275    327.459761       16.140368        78.698446   2.309149           1  \n\n[3276 rows x 10 columns]",
      "text/html": "<div>\n<style scoped>\n    .dataframe tbody tr th:only-of-type {\n        vertical-align: middle;\n    }\n\n    .dataframe tbody tr th {\n        vertical-align: top;\n    }\n\n    .dataframe thead th {\n        text-align: right;\n    }\n</style>\n<table border=\"1\" class=\"dataframe\">\n  <thead>\n    <tr style=\"text-align: right;\">\n      <th></th>\n      <th>ph</th>\n      <th>Hardness</th>\n      <th>Solids</th>\n      <th>Chloramines</th>\n      <th>Sulfate</th>\n      <th>Conductivity</th>\n      <th>Organic_carbon</th>\n      <th>Trihalomethanes</th>\n      <th>Turbidity</th>\n      <th>Potability</th>\n    </tr>\n  </thead>\n  <tbody>\n    <tr>\n      <th>0</th>\n      <td>NaN</td>\n      <td>204.890456</td>\n      <td>20791.31898</td>\n      <td>7.300212</td>\n      <td>368.516441</td>\n      <td>564.308654</td>\n      <td>10.379783</td>\n      <td>86.990970</td>\n      <td>2.963135</td>\n      <td>0</td>\n    </tr>\n    <tr>\n      <th>1</th>\n      <td>3.716080</td>\n      <td>129.422921</td>\n      <td>18630.05786</td>\n      <td>6.635246</td>\n      <td>NaN</td>\n      <td>592.885359</td>\n      <td>15.180013</td>\n      <td>56.329076</td>\n      <td>4.500656</td>\n      <td>0</td>\n    </tr>\n    <tr>\n      <th>2</th>\n      <td>8.099124</td>\n      <td>224.236259</td>\n      <td>19909.54173</td>\n      <td>9.275884</td>\n      <td>NaN</td>\n      <td>418.606213</td>\n      <td>16.868637</td>\n      <td>66.420093</td>\n      <td>3.055934</td>\n      <td>0</td>\n    </tr>\n    <tr>\n      <th>3</th>\n      <td>8.316766</td>\n      <td>214.373394</td>\n      <td>22018.41744</td>\n      <td>8.059332</td>\n      <td>356.886136</td>\n      <td>363.266516</td>\n      <td>18.436525</td>\n      <td>100.341674</td>\n      <td>4.628771</td>\n      <td>0</td>\n    </tr>\n    <tr>\n      <th>4</th>\n      <td>9.092223</td>\n      <td>181.101509</td>\n      <td>17978.98634</td>\n      <td>6.546600</td>\n      <td>310.135738</td>\n      <td>398.410813</td>\n      <td>11.558279</td>\n      <td>31.997993</td>\n      <td>4.075075</td>\n      <td>0</td>\n    </tr>\n    <tr>\n      <th>...</th>\n      <td>...</td>\n      <td>...</td>\n      <td>...</td>\n      <td>...</td>\n      <td>...</td>\n      <td>...</td>\n      <td>...</td>\n      <td>...</td>\n      <td>...</td>\n      <td>...</td>\n    </tr>\n    <tr>\n      <th>3271</th>\n      <td>4.668102</td>\n      <td>193.681736</td>\n      <td>47580.99160</td>\n      <td>7.166639</td>\n      <td>359.948574</td>\n      <td>526.424171</td>\n      <td>13.894419</td>\n      <td>66.687695</td>\n      <td>4.435821</td>\n      <td>1</td>\n    </tr>\n    <tr>\n      <th>3272</th>\n      <td>7.808856</td>\n      <td>193.553212</td>\n      <td>17329.80216</td>\n      <td>8.061362</td>\n      <td>NaN</td>\n      <td>392.449580</td>\n      <td>19.903225</td>\n      <td>NaN</td>\n      <td>2.798243</td>\n      <td>1</td>\n    </tr>\n    <tr>\n      <th>3273</th>\n      <td>9.419510</td>\n      <td>175.762646</td>\n      <td>33155.57822</td>\n      <td>7.350233</td>\n      <td>NaN</td>\n      <td>432.044783</td>\n      <td>11.039070</td>\n      <td>69.845400</td>\n      <td>3.298875</td>\n      <td>1</td>\n    </tr>\n    <tr>\n      <th>3274</th>\n      <td>5.126763</td>\n      <td>230.603758</td>\n      <td>11983.86938</td>\n      <td>6.303357</td>\n      <td>NaN</td>\n      <td>402.883113</td>\n      <td>11.168946</td>\n      <td>77.488213</td>\n      <td>4.708658</td>\n      <td>1</td>\n    </tr>\n    <tr>\n      <th>3275</th>\n      <td>7.874671</td>\n      <td>195.102299</td>\n      <td>17404.17706</td>\n      <td>7.509306</td>\n      <td>NaN</td>\n      <td>327.459761</td>\n      <td>16.140368</td>\n      <td>78.698446</td>\n      <td>2.309149</td>\n      <td>1</td>\n    </tr>\n  </tbody>\n</table>\n<p>3276 rows × 10 columns</p>\n</div>"
     },
     "execution_count": 63,
     "metadata": {},
     "output_type": "execute_result"
    }
   ],
   "source": [
    "df = pd.read_csv('drinking_water_potability.csv')\n",
    "df"
   ]
  },
  {
   "cell_type": "code",
   "execution_count": 64,
   "metadata": {
    "pycharm": {
     "name": "#%%\n"
    }
   },
   "outputs": [],
   "source": [
    "df[\"Missing\"] = df.isna().any(axis=1)\n",
    "dimensions = [\"ph\",\n",
    "              \"Hardness\",\n",
    "              \"Solids\",\n",
    "              \"Chloramines\",\n",
    "              \"Sulfate\",\n",
    "              \"Conductivity\",\n",
    "              \"Organic_carbon\",\n",
    "              \"Trihalomethanes\",\n",
    "              \"Turbidity\"]"
   ]
  },
  {
   "cell_type": "markdown",
   "metadata": {},
   "source": [
    "# Gestion des valeurs manquantes : Simple Imputer\n"
   ]
  },
  {
   "cell_type": "code",
   "execution_count": 65,
   "metadata": {},
   "outputs": [],
   "source": [
    "#from sklearn.preprocessing import Imputer\n",
    "from sklearn.impute import SimpleImputer"
   ]
  },
  {
   "cell_type": "code",
   "execution_count": 66,
   "metadata": {
    "scrolled": true
   },
   "outputs": [],
   "source": [
    "# 1 : Suppression de toutes les lignes avec 2 ou 3 valeurs manquantes et imputation pour les lignes avec 1 valeur manquante\n",
    "df_missing_1 = df.dropna(thresh=10)"
   ]
  },
  {
   "cell_type": "code",
   "execution_count": 67,
   "metadata": {},
   "outputs": [
    {
     "data": {
      "text/plain": "         0           1            2         3           4           5   \\\n0  7.078708  204.890456  20791.31898  7.300212  368.516441  564.308654   \n1  3.716080  129.422921  18630.05786  6.635246  333.699670  592.885359   \n2  8.099124  224.236259  19909.54173  9.275884  333.699670  418.606213   \n3  8.316766  214.373394  22018.41744  8.059332  356.886136  363.266516   \n4  9.092223  181.101509  17978.98634  6.546600  310.135738  398.410813   \n\n          6           7         8    9    10  \n0  10.379783   86.990970  2.963135  0.0  1.0  \n1  15.180013   56.329076  4.500656  0.0  1.0  \n2  16.868637   66.420093  3.055934  0.0  1.0  \n3  18.436525  100.341674  4.628771  0.0  0.0  \n4  11.558279   31.997993  4.075075  0.0  0.0  ",
      "text/html": "<div>\n<style scoped>\n    .dataframe tbody tr th:only-of-type {\n        vertical-align: middle;\n    }\n\n    .dataframe tbody tr th {\n        vertical-align: top;\n    }\n\n    .dataframe thead th {\n        text-align: right;\n    }\n</style>\n<table border=\"1\" class=\"dataframe\">\n  <thead>\n    <tr style=\"text-align: right;\">\n      <th></th>\n      <th>0</th>\n      <th>1</th>\n      <th>2</th>\n      <th>3</th>\n      <th>4</th>\n      <th>5</th>\n      <th>6</th>\n      <th>7</th>\n      <th>8</th>\n      <th>9</th>\n      <th>10</th>\n    </tr>\n  </thead>\n  <tbody>\n    <tr>\n      <th>0</th>\n      <td>7.078708</td>\n      <td>204.890456</td>\n      <td>20791.31898</td>\n      <td>7.300212</td>\n      <td>368.516441</td>\n      <td>564.308654</td>\n      <td>10.379783</td>\n      <td>86.990970</td>\n      <td>2.963135</td>\n      <td>0.0</td>\n      <td>1.0</td>\n    </tr>\n    <tr>\n      <th>1</th>\n      <td>3.716080</td>\n      <td>129.422921</td>\n      <td>18630.05786</td>\n      <td>6.635246</td>\n      <td>333.699670</td>\n      <td>592.885359</td>\n      <td>15.180013</td>\n      <td>56.329076</td>\n      <td>4.500656</td>\n      <td>0.0</td>\n      <td>1.0</td>\n    </tr>\n    <tr>\n      <th>2</th>\n      <td>8.099124</td>\n      <td>224.236259</td>\n      <td>19909.54173</td>\n      <td>9.275884</td>\n      <td>333.699670</td>\n      <td>418.606213</td>\n      <td>16.868637</td>\n      <td>66.420093</td>\n      <td>3.055934</td>\n      <td>0.0</td>\n      <td>1.0</td>\n    </tr>\n    <tr>\n      <th>3</th>\n      <td>8.316766</td>\n      <td>214.373394</td>\n      <td>22018.41744</td>\n      <td>8.059332</td>\n      <td>356.886136</td>\n      <td>363.266516</td>\n      <td>18.436525</td>\n      <td>100.341674</td>\n      <td>4.628771</td>\n      <td>0.0</td>\n      <td>0.0</td>\n    </tr>\n    <tr>\n      <th>4</th>\n      <td>9.092223</td>\n      <td>181.101509</td>\n      <td>17978.98634</td>\n      <td>6.546600</td>\n      <td>310.135738</td>\n      <td>398.410813</td>\n      <td>11.558279</td>\n      <td>31.997993</td>\n      <td>4.075075</td>\n      <td>0.0</td>\n      <td>0.0</td>\n    </tr>\n  </tbody>\n</table>\n</div>"
     },
     "execution_count": 67,
     "metadata": {},
     "output_type": "execute_result"
    }
   ],
   "source": [
    "# 1.1 : Mean-imputer\n",
    "imp_mean = SimpleImputer(missing_values=np.nan, strategy='mean')\n",
    "imp_mean.fit(df_missing_1)\n",
    "df_missing_11 = pd.DataFrame(imp_mean.transform(df_missing_1))\n",
    "\n",
    "df_missing_11.head()"
   ]
  },
  {
   "cell_type": "code",
   "execution_count": 68,
   "metadata": {},
   "outputs": [],
   "source": [
    "# 1.2 : Median-imputer\n",
    "imp_median = SimpleImputer(missing_values=np.nan, strategy='median')\n",
    "imp_median.fit(df_missing_1)\n",
    "df_missing_12 = pd.DataFrame(imp_median.transform(df_missing_1))\n"
   ]
  },
  {
   "cell_type": "code",
   "execution_count": 69,
   "metadata": {},
   "outputs": [],
   "source": [
    "# 2 : Suppression des lignes avec 3 valeurs manquantes et imputation pour les autres\n",
    "df_missing_2 = df.dropna(thresh=9)\n"
   ]
  },
  {
   "cell_type": "code",
   "execution_count": 70,
   "metadata": {},
   "outputs": [],
   "source": [
    "# 2.1 : Mean\n",
    "imp_mean.fit(df_missing_2)\n",
    "df_missing_21 = pd.DataFrame(imp_mean.transform(df_missing_2))\n"
   ]
  },
  {
   "cell_type": "code",
   "execution_count": 71,
   "metadata": {},
   "outputs": [],
   "source": [
    "# 2.2 : Median\n",
    "imp_median.fit(df_missing_2)\n",
    "df_missing_22 = pd.DataFrame(imp_median.transform(df_missing_2))"
   ]
  },
  {
   "cell_type": "code",
   "execution_count": 72,
   "metadata": {},
   "outputs": [],
   "source": [
    "#Dictionnaire qui contient les dataframes d'intérêt\n",
    "all_df_missing = {\"df_missing_11\": df_missing_11, \"df_missing_12\": df_missing_12,\n",
    "                  \"df_missing_21\": df_missing_21, \"df_missing_22\": df_missing_22}\n",
    "\n",
    "for dataframe in all_df_missing.values():\n",
    "    #on redonne d'abord les noms des colonnes qui ont disparu\n",
    "    dataframe.columns = ['ph', 'Hardness', 'Solids', 'Chloramines', 'Sulfate', 'Conductivity',\n",
    "                         'Organic_carbon', 'Trihalomethanes', 'Turbidity', 'Potability',\n",
    "                         'Missing']\n",
    "    dataframe.drop('Missing', axis=1, inplace=True)\n",
    "    #fig = px.scatter(y=dataframe.loc[:,\"ph\"])\n",
    "    dataframe.columns\n",
    "    #fig.show()"
   ]
  },
  {
   "cell_type": "markdown",
   "metadata": {},
   "source": [
    "On se rend compte avec ces imputations, du fait que la méthode \"most frequent value\" n'est pas adaptée à notre dataset. en effet, la valeur la plus fréquente est un outlier (0 pour le ph par exemple). \n",
    "On se concentre donc sur la valeur moyenne et la médiane, et on abandonne la \"most frequent value\""
   ]
  },
  {
   "cell_type": "code",
   "execution_count": 73,
   "metadata": {},
   "outputs": [
    {
     "data": {
      "text/plain": "         ph    Hardness       Solids  Chloramines     Sulfate  Conductivity  \\\n0  7.036752  204.890456  20791.31898     7.300212  368.516441    564.308654   \n1  3.716080  129.422921  18630.05786     6.635246  333.073546    592.885359   \n2  8.099124  224.236259  19909.54173     9.275884  333.073546    418.606213   \n3  8.316766  214.373394  22018.41744     8.059332  356.886136    363.266516   \n4  9.092223  181.101509  17978.98634     6.546600  310.135738    398.410813   \n\n   Organic_carbon  Trihalomethanes  Turbidity  Potability  \n0       10.379783        86.990970   2.963135         0.0  \n1       15.180013        56.329076   4.500656         0.0  \n2       16.868637        66.420093   3.055934         0.0  \n3       18.436525       100.341674   4.628771         0.0  \n4       11.558279        31.997993   4.075075         0.0  ",
      "text/html": "<div>\n<style scoped>\n    .dataframe tbody tr th:only-of-type {\n        vertical-align: middle;\n    }\n\n    .dataframe tbody tr th {\n        vertical-align: top;\n    }\n\n    .dataframe thead th {\n        text-align: right;\n    }\n</style>\n<table border=\"1\" class=\"dataframe\">\n  <thead>\n    <tr style=\"text-align: right;\">\n      <th></th>\n      <th>ph</th>\n      <th>Hardness</th>\n      <th>Solids</th>\n      <th>Chloramines</th>\n      <th>Sulfate</th>\n      <th>Conductivity</th>\n      <th>Organic_carbon</th>\n      <th>Trihalomethanes</th>\n      <th>Turbidity</th>\n      <th>Potability</th>\n    </tr>\n  </thead>\n  <tbody>\n    <tr>\n      <th>0</th>\n      <td>7.036752</td>\n      <td>204.890456</td>\n      <td>20791.31898</td>\n      <td>7.300212</td>\n      <td>368.516441</td>\n      <td>564.308654</td>\n      <td>10.379783</td>\n      <td>86.990970</td>\n      <td>2.963135</td>\n      <td>0.0</td>\n    </tr>\n    <tr>\n      <th>1</th>\n      <td>3.716080</td>\n      <td>129.422921</td>\n      <td>18630.05786</td>\n      <td>6.635246</td>\n      <td>333.073546</td>\n      <td>592.885359</td>\n      <td>15.180013</td>\n      <td>56.329076</td>\n      <td>4.500656</td>\n      <td>0.0</td>\n    </tr>\n    <tr>\n      <th>2</th>\n      <td>8.099124</td>\n      <td>224.236259</td>\n      <td>19909.54173</td>\n      <td>9.275884</td>\n      <td>333.073546</td>\n      <td>418.606213</td>\n      <td>16.868637</td>\n      <td>66.420093</td>\n      <td>3.055934</td>\n      <td>0.0</td>\n    </tr>\n    <tr>\n      <th>3</th>\n      <td>8.316766</td>\n      <td>214.373394</td>\n      <td>22018.41744</td>\n      <td>8.059332</td>\n      <td>356.886136</td>\n      <td>363.266516</td>\n      <td>18.436525</td>\n      <td>100.341674</td>\n      <td>4.628771</td>\n      <td>0.0</td>\n    </tr>\n    <tr>\n      <th>4</th>\n      <td>9.092223</td>\n      <td>181.101509</td>\n      <td>17978.98634</td>\n      <td>6.546600</td>\n      <td>310.135738</td>\n      <td>398.410813</td>\n      <td>11.558279</td>\n      <td>31.997993</td>\n      <td>4.075075</td>\n      <td>0.0</td>\n    </tr>\n  </tbody>\n</table>\n</div>"
     },
     "execution_count": 73,
     "metadata": {},
     "output_type": "execute_result"
    }
   ],
   "source": [
    "df_test = all_df_missing[\"df_missing_22\"]\n",
    "df_test.head()"
   ]
  },
  {
   "cell_type": "markdown",
   "metadata": {},
   "source": [
    "# Iterative Imputer\n",
    "\n",
    "### Nous allons ici utiliser une imputation multivariable sur les données ayant max 2 valeurs manquantes."
   ]
  },
  {
   "cell_type": "code",
   "execution_count": 74,
   "metadata": {},
   "outputs": [],
   "source": [
    "from sklearn.experimental import enable_iterative_imputer  # noqa\n",
    "from sklearn.impute import IterativeImputer\n",
    "\n",
    "df_missing_3 = df.dropna(thresh=10)\n",
    "imp_iter = IterativeImputer(random_state=0)\n",
    "df_missing_3 = pd.DataFrame(imp_iter.fit_transform(df_missing_3))\n",
    "df_missing_3.columns = ['ph', 'Hardness', 'Solids', 'Chloramines', 'Sulfate', 'Conductivity',\n",
    "                        'Organic_carbon', 'Trihalomethanes', 'Turbidity', 'Potability',\n",
    "                        'Missing']\n",
    "df_missing_3.drop('Missing', axis=1, inplace=True)\n",
    "all_df_missing[\"df_missing_3\"] = df_missing_3\n"
   ]
  },
  {
   "cell_type": "markdown",
   "metadata": {},
   "source": [
    "## A ce stade, on a donc 7 datasets dont les valeurs manquantes ont été imputées selon différentes méthodes. Nous allons évaluer nos modèles sur chacun de ces datasets et garder celui pour lesquels les résultats sont les plus probants."
   ]
  },
  {
   "cell_type": "markdown",
   "metadata": {},
   "source": [
    "# Best Subset Selection\n"
   ]
  },
  {
   "cell_type": "code",
   "execution_count": 75,
   "metadata": {},
   "outputs": [
    {
     "name": "stdout",
     "output_type": "stream",
     "text": [
      "Processed 9 models on 1 predictors \n",
      "Processed 36 models on 2 predictors \n",
      "Processed 84 models on 3 predictors \n",
      "Processed 126 models on 4 predictors \n",
      "Processed 126 models on 5 predictors \n",
      "Processed 84 models on 6 predictors \n",
      "Processed 36 models on 7 predictors \n",
      "Processed 9 models on 8 predictors \n",
      "Processed 1 models on 9 predictors \n"
     ]
    }
   ],
   "source": [
    "# Subset Selection\n",
    "from sklearn.preprocessing import scale\n",
    "from sklearn import model_selection\n",
    "from sklearn.decomposition import PCA\n",
    "from sklearn.linear_model import LinearRegression\n",
    "from sklearn.cross_decomposition import PLSRegression, PLSSVD\n",
    "from sklearn.metrics import mean_squared_error\n",
    "import itertools\n",
    "import statsmodels.api as sm\n",
    "\n",
    "# Some libraries for PCA visualization\n",
    "import seaborn as sns\n",
    "#Make Plotly figure\n",
    "import plotly.graph_objs as go\n",
    "\n",
    "y = df_missing_11['Potability']  #mettre le bon df\n",
    "X = df_missing_11.drop('Potability', axis=1)\n",
    "\n",
    "\n",
    "def processSubset(feature_set):\n",
    "    # Fit OLS (Ordinary Least Squares) model on feature_set and calculate RSS\n",
    "    model = sm.OLS(y, X[list(feature_set)])\n",
    "    regr = model.fit()\n",
    "    RSS = ((regr.predict(X[list(feature_set)]) - y) ** 2).sum()\n",
    "    return {\"model\": regr, \"RSS\": RSS}\n",
    "\n",
    "\n",
    "def getBest(k):\n",
    "    results = []\n",
    "\n",
    "    for combo in itertools.combinations(X.columns, k):\n",
    "        results.append(processSubset(combo))\n",
    "\n",
    "    # Wrap everything up in a nice dataframe\n",
    "    models = pd.DataFrame(results)\n",
    "\n",
    "    # Choose the model with the highest RSS\n",
    "    best_model = models.loc[models['RSS'].argmin()]\n",
    "\n",
    "    print(\"Processed\", models.shape[0], \"models on\", k, \"predictors \")\n",
    "\n",
    "    # Return the best model, along with some other useful information about the model\n",
    "    return best_model\n",
    "\n",
    "\n",
    "# It might take a while... Please be patient. \n",
    "# As long as the star to the left of the cell is displayed do not run again the cell.\n",
    "\n",
    "models_best = pd.DataFrame(columns=[\"RSS\", \"model\"])\n",
    "\n",
    "for i in range(1, 10):\n",
    "    models_best.loc[i] = getBest(i)\n",
    "\n"
   ]
  },
  {
   "cell_type": "code",
   "execution_count": 76,
   "metadata": {},
   "outputs": [
    {
     "name": "stdout",
     "output_type": "stream",
     "text": [
      "                                 OLS Regression Results                                \n",
      "=======================================================================================\n",
      "Dep. Variable:             Potability   R-squared (uncentered):                   0.392\n",
      "Model:                            OLS   Adj. R-squared (uncentered):              0.391\n",
      "Method:                 Least Squares   F-statistic:                              400.8\n",
      "Date:                Wed, 03 Nov 2021   Prob (F-statistic):                        0.00\n",
      "Time:                        23:56:03   Log-Likelihood:                         -2187.0\n",
      "No. Observations:                3116   AIC:                                      4384.\n",
      "Df Residuals:                    3111   BIC:                                      4414.\n",
      "Df Model:                           5                                                  \n",
      "Covariance Type:            nonrobust                                                  \n",
      "===================================================================================\n",
      "                      coef    std err          t      P>|t|      [0.025      0.975]\n",
      "-----------------------------------------------------------------------------------\n",
      "Solids            3.18e-06   9.56e-07      3.324      0.001     1.3e-06    5.06e-06\n",
      "Chloramines         0.0132      0.005      2.532      0.011       0.003       0.023\n",
      "Sulfate             0.0003      0.000      2.111      0.035    2.39e-05       0.001\n",
      "Trihalomethanes     0.0007      0.001      1.413      0.158      -0.000       0.002\n",
      "Turbidity           0.0166      0.010      1.623      0.105      -0.003       0.037\n",
      "==============================================================================\n",
      "Omnibus:                    12901.474   Durbin-Watson:                   0.033\n",
      "Prob(Omnibus):                  0.000   Jarque-Bera (JB):              511.843\n",
      "Skew:                           0.439   Prob(JB):                    7.16e-112\n",
      "Kurtosis:                       1.219   Cond. No.                     2.79e+04\n",
      "==============================================================================\n",
      "\n",
      "Notes:\n",
      "[1] R² is computed without centering (uncentered) since the model does not contain a constant.\n",
      "[2] Standard Errors assume that the covariance matrix of the errors is correctly specified.\n",
      "[3] The condition number is large, 2.79e+04. This might indicate that there are\n",
      "strong multicollinearity or other numerical problems.\n"
     ]
    }
   ],
   "source": [
    "print(models_best.loc[5, \"model\"].summary())"
   ]
  },
  {
   "cell_type": "markdown",
   "metadata": {},
   "source": [
    "# Définition de la pipeline"
   ]
  },
  {
   "cell_type": "code",
   "execution_count": 77,
   "metadata": {},
   "outputs": [],
   "source": [
    "from sklearn.pipeline import Pipeline\n",
    "from sklearn.preprocessing import StandardScaler\n",
    "from sklearn.linear_model import SGDRegressor\n",
    "from sklearn.impute import SimpleImputer\n",
    "from sklearn.experimental import enable_iterative_imputer  # noqa\n",
    "from sklearn.impute import IterativeImputer\n",
    "\n",
    "# Each object of the pipeline is identified by a key ('std_scaler', 'linreg').\n",
    "# You can use any value as the key of an object in the pipeline\n",
    "pipeline = Pipeline([\n",
    "    ('iterative_imputer', IterativeImputer(sample_posterior=True)),\n",
    "    ('std_scaler', StandardScaler()),\n",
    "    ('linreg', SGDRegressor())\n",
    "])"
   ]
  },
  {
   "cell_type": "markdown",
   "metadata": {},
   "source": [
    "# Train_test_split"
   ]
  },
  {
   "cell_type": "code",
   "execution_count": 78,
   "metadata": {},
   "outputs": [
    {
     "name": "stdout",
     "output_type": "stream",
     "text": [
      "The prediction error (RMSE) is 0.4841371333440589\n"
     ]
    }
   ],
   "source": [
    "import matplotlib.pyplot as plt\n",
    "from sklearn.model_selection import train_test_split\n",
    "from sklearn.metrics import mean_squared_error\n",
    "\n",
    "test_size = 0.2\n",
    "y = df['Potability']  #mettre le bon df\n",
    "X = df.drop('Potability', axis=1)\n",
    "\n",
    "X_train, X_test, y_train, y_test = train_test_split(X, y, test_size=test_size, random_state=0)\n",
    "# The function fit is used to train the linear regressor on the training data.\n",
    "# The result is a line with a given intercept and slope.\n",
    "pipeline.fit(X_train, y_train)\n",
    "predictions = pipeline.predict(X_test)\n",
    "mse = mean_squared_error(y_test, predictions)\n",
    "print(\"The prediction error (RMSE) is {}\".format(np.sqrt(mse)))"
   ]
  },
  {
   "cell_type": "markdown",
   "source": [
    "# Model Testing\n"
   ],
   "metadata": {
    "collapsed": false
   }
  },
  {
   "cell_type": "code",
   "execution_count": 79,
   "outputs": [],
   "source": [
    "from sklearn.model_selection import StratifiedKFold, GridSearchCV, RandomizedSearchCV\n",
    "import plotly.express as px\n",
    "import pandas as pd\n",
    "import sklearn.tree as tree\n",
    "\n",
    "stats = pd.DataFrame()\n",
    "\n",
    "\n",
    "def computeModelStats(model, stats, dataset, hyperParams, randomizedSearch=False):\n",
    "    \"\"\"\n",
    "    :param model: model that will be assessed\n",
    "    :type model: {tuple(predictor,name:str)}\n",
    "    :param stats: Dataframe in which results will be sent\n",
    "    :type stats: {Dataframe}\n",
    "    :param dataset: Dataset that will be used\n",
    "    :type dataset: {tuple(Dict(X:DataFrame,y:array), name)}\n",
    "    :param hyperParams: HyperParams grid that will be assessed\n",
    "    :type hyperParams: {Dict}\n",
    "    :return: void\n",
    "    :rtype: void\n",
    "    \"\"\"\n",
    "    X = dataset[0][\"X\"]\n",
    "    y = dataset[0][\"y\"]\n",
    "\n",
    "    if not randomizedSearch:\n",
    "        grid_search = GridSearchCV(model[0], cv=StratifiedKFold(n_splits=5), refit='f1',\n",
    "                                   scoring=['f1', 'recall', 'precision'], verbose=3, n_jobs=-1, param_grid=hyperParams,\n",
    "                                   return_train_score=True)\n",
    "    else:\n",
    "        grid_search = RandomizedSearchCV(model[0], cv=StratifiedKFold(n_splits=5), refit='f1',\n",
    "                                         scoring=['f1', 'recall', 'precision'], verbose=3, n_jobs=-1,\n",
    "                                         param_distributions=hyperParams, return_train_score=True,\n",
    "                                         n_iter=randomizedSearch)\n",
    "\n",
    "    grid_search.fit(X, y)\n",
    "\n",
    "    temp_test = pd.DataFrame({key.replace(\"_test\", \"\"): grid_search.cv_results_[key] for key in\n",
    "                              [\"mean_test_f1\", \"std_test_f1\", \"mean_test_recall\", \"mean_test_precision\", \"params\"]})\n",
    "    temp_train = pd.DataFrame({key.replace(\"_train\", \"\"): grid_search.cv_results_[key] for key in\n",
    "                               [\"mean_train_f1\", \"std_train_f1\", \"mean_train_recall\", \"mean_train_precision\",\n",
    "                                \"std_test_f1\", \"params\"]})\n",
    "    temp_train[\"type\"] = \"train\"\n",
    "    temp_test[\"type\"] = \"test\"\n",
    "    temp = temp_test.append(temp_train)\n",
    "    temp[\"dataset\"] = dataset[1]\n",
    "    temp[\"model\"] = model[1]\n",
    "    temp[\"params\"] = temp[\"params\"].astype(str)\n",
    "    stats = stats.append(temp)\n",
    "    fig = px.bar(temp, y=\"mean_f1\", hover_data=[\"params\"], barmode=\"group\", hover_name=\"params\", color=\"type\",\n",
    "                  title=f\"Mean f1 score on testing and training set for each parameter combination <br> (Model: {model[1]}, Dataset: {dataset[1]})\",\n",
    "                  labels={\"mean_f1\": f\"Average f1\", \"index\": \"Params\"}, error_y=\"std_f1\")\n",
    "\n",
    "    fig.show()\n",
    "    return stats\n",
    "\n",
    "\n",
    "def extract_features_and_labels(df):\n",
    "    print(df.columns)\n",
    "    y = df.Potability\n",
    "    X = df.drop(\"Potability\", axis=1)\n",
    "    return {\"X\": X, \"y\": y}\n"
   ],
   "metadata": {
    "collapsed": false,
    "pycharm": {
     "name": "#%%\n"
    }
   }
  },
  {
   "cell_type": "code",
   "execution_count": 80,
   "outputs": [
    {
     "name": "stdout",
     "output_type": "stream",
     "text": [
      "Index(['ph', 'Hardness', 'Solids', 'Chloramines', 'Sulfate', 'Conductivity',\n",
      "       'Organic_carbon', 'Trihalomethanes', 'Turbidity', 'Potability'],\n",
      "      dtype='object')\n",
      "Index(['ph', 'Hardness', 'Solids', 'Chloramines', 'Sulfate', 'Conductivity',\n",
      "       'Organic_carbon', 'Trihalomethanes', 'Turbidity', 'Potability'],\n",
      "      dtype='object')\n",
      "Index(['ph', 'Hardness', 'Solids', 'Chloramines', 'Sulfate', 'Conductivity',\n",
      "       'Organic_carbon', 'Trihalomethanes', 'Turbidity', 'Potability'],\n",
      "      dtype='object')\n",
      "Index(['ph', 'Hardness', 'Chloramines', 'Sulfate', 'Potability'], dtype='object')\n",
      "Index(['ph', 'Hardness', 'Chloramines', 'Sulfate', 'Potability'], dtype='object')\n"
     ]
    }
   ],
   "source": [
    "mean_accurracy_3_missing_values = (\n",
    "    extract_features_and_labels(df_missing_11), \"Mean imputation for individuals with 3 MV\")\n",
    "\n",
    "mean_accurracy_2_3_missing_values = (\n",
    "    extract_features_and_labels(df_missing_21), \"Mean imputation for individuals with 2 or 3 MV\")\n",
    "\n",
    "multivariate_feature_imputation = (extract_features_and_labels(df_missing_3), \"Multivariate feature imputation\")\n",
    "\n",
    "multivariate_feature_imputation_subset_selection = (\n",
    "    extract_features_and_labels(df_missing_3[[\"ph\", \"Hardness\", \"Chloramines\", \"Sulfate\", \"Potability\"]]),\n",
    "    \"Multivariate feature imputation with subset selection\")\n",
    "\n",
    "mean_accurracy_2_3_missing_values_subset_selection = (\n",
    "    extract_features_and_labels(df_missing_21[[\"ph\", \"Hardness\", \"Chloramines\", \"Sulfate\", \"Potability\"]]),\n",
    "    \"Mean imputation subset selection for individuals with 2 or 3 MV\")"
   ],
   "metadata": {
    "collapsed": false,
    "pycharm": {
     "name": "#%%\n"
    }
   }
  },
  {
   "cell_type": "markdown",
   "source": [
    "# Random Forest\n",
    "We know usually we tend to end with random forest. However we wanted to test several datasets, given the ability of random forests to ability to match unscaled data it will help us to prune some dataset for the next models."
   ],
   "metadata": {
    "collapsed": false
   }
  },
  {
   "cell_type": "code",
   "execution_count": 81,
   "outputs": [
    {
     "name": "stdout",
     "output_type": "stream",
     "text": [
      "Fitting 5 folds for each of 96 candidates, totalling 480 fits\n"
     ]
    },
    {
     "data": {
      "application/vnd.plotly.v1+json": {
       "config": {
        "plotlyServerURL": "https://plotly.com"
       },
       "data": [
        {
         "alignmentgroup": "True",
         "customdata": [
          [
           "{'max_depth': 3, 'max_features': 'sqrt', 'min_samples_split': 3, 'n_estimators': 50}"
          ],
          [
           "{'max_depth': 3, 'max_features': 'sqrt', 'min_samples_split': 3, 'n_estimators': 80}"
          ],
          [
           "{'max_depth': 3, 'max_features': 'sqrt', 'min_samples_split': 3, 'n_estimators': 110}"
          ],
          [
           "{'max_depth': 3, 'max_features': 'sqrt', 'min_samples_split': 3, 'n_estimators': 130}"
          ],
          [
           "{'max_depth': 3, 'max_features': 'sqrt', 'min_samples_split': 6, 'n_estimators': 50}"
          ],
          [
           "{'max_depth': 3, 'max_features': 'sqrt', 'min_samples_split': 6, 'n_estimators': 80}"
          ],
          [
           "{'max_depth': 3, 'max_features': 'sqrt', 'min_samples_split': 6, 'n_estimators': 110}"
          ],
          [
           "{'max_depth': 3, 'max_features': 'sqrt', 'min_samples_split': 6, 'n_estimators': 130}"
          ],
          [
           "{'max_depth': 3, 'max_features': 'sqrt', 'min_samples_split': 9, 'n_estimators': 50}"
          ],
          [
           "{'max_depth': 3, 'max_features': 'sqrt', 'min_samples_split': 9, 'n_estimators': 80}"
          ],
          [
           "{'max_depth': 3, 'max_features': 'sqrt', 'min_samples_split': 9, 'n_estimators': 110}"
          ],
          [
           "{'max_depth': 3, 'max_features': 'sqrt', 'min_samples_split': 9, 'n_estimators': 130}"
          ],
          [
           "{'max_depth': 3, 'max_features': 'sqrt', 'min_samples_split': 12, 'n_estimators': 50}"
          ],
          [
           "{'max_depth': 3, 'max_features': 'sqrt', 'min_samples_split': 12, 'n_estimators': 80}"
          ],
          [
           "{'max_depth': 3, 'max_features': 'sqrt', 'min_samples_split': 12, 'n_estimators': 110}"
          ],
          [
           "{'max_depth': 3, 'max_features': 'sqrt', 'min_samples_split': 12, 'n_estimators': 130}"
          ],
          [
           "{'max_depth': 3, 'max_features': 'log2', 'min_samples_split': 3, 'n_estimators': 50}"
          ],
          [
           "{'max_depth': 3, 'max_features': 'log2', 'min_samples_split': 3, 'n_estimators': 80}"
          ],
          [
           "{'max_depth': 3, 'max_features': 'log2', 'min_samples_split': 3, 'n_estimators': 110}"
          ],
          [
           "{'max_depth': 3, 'max_features': 'log2', 'min_samples_split': 3, 'n_estimators': 130}"
          ],
          [
           "{'max_depth': 3, 'max_features': 'log2', 'min_samples_split': 6, 'n_estimators': 50}"
          ],
          [
           "{'max_depth': 3, 'max_features': 'log2', 'min_samples_split': 6, 'n_estimators': 80}"
          ],
          [
           "{'max_depth': 3, 'max_features': 'log2', 'min_samples_split': 6, 'n_estimators': 110}"
          ],
          [
           "{'max_depth': 3, 'max_features': 'log2', 'min_samples_split': 6, 'n_estimators': 130}"
          ],
          [
           "{'max_depth': 3, 'max_features': 'log2', 'min_samples_split': 9, 'n_estimators': 50}"
          ],
          [
           "{'max_depth': 3, 'max_features': 'log2', 'min_samples_split': 9, 'n_estimators': 80}"
          ],
          [
           "{'max_depth': 3, 'max_features': 'log2', 'min_samples_split': 9, 'n_estimators': 110}"
          ],
          [
           "{'max_depth': 3, 'max_features': 'log2', 'min_samples_split': 9, 'n_estimators': 130}"
          ],
          [
           "{'max_depth': 3, 'max_features': 'log2', 'min_samples_split': 12, 'n_estimators': 50}"
          ],
          [
           "{'max_depth': 3, 'max_features': 'log2', 'min_samples_split': 12, 'n_estimators': 80}"
          ],
          [
           "{'max_depth': 3, 'max_features': 'log2', 'min_samples_split': 12, 'n_estimators': 110}"
          ],
          [
           "{'max_depth': 3, 'max_features': 'log2', 'min_samples_split': 12, 'n_estimators': 130}"
          ],
          [
           "{'max_depth': 6, 'max_features': 'sqrt', 'min_samples_split': 3, 'n_estimators': 50}"
          ],
          [
           "{'max_depth': 6, 'max_features': 'sqrt', 'min_samples_split': 3, 'n_estimators': 80}"
          ],
          [
           "{'max_depth': 6, 'max_features': 'sqrt', 'min_samples_split': 3, 'n_estimators': 110}"
          ],
          [
           "{'max_depth': 6, 'max_features': 'sqrt', 'min_samples_split': 3, 'n_estimators': 130}"
          ],
          [
           "{'max_depth': 6, 'max_features': 'sqrt', 'min_samples_split': 6, 'n_estimators': 50}"
          ],
          [
           "{'max_depth': 6, 'max_features': 'sqrt', 'min_samples_split': 6, 'n_estimators': 80}"
          ],
          [
           "{'max_depth': 6, 'max_features': 'sqrt', 'min_samples_split': 6, 'n_estimators': 110}"
          ],
          [
           "{'max_depth': 6, 'max_features': 'sqrt', 'min_samples_split': 6, 'n_estimators': 130}"
          ],
          [
           "{'max_depth': 6, 'max_features': 'sqrt', 'min_samples_split': 9, 'n_estimators': 50}"
          ],
          [
           "{'max_depth': 6, 'max_features': 'sqrt', 'min_samples_split': 9, 'n_estimators': 80}"
          ],
          [
           "{'max_depth': 6, 'max_features': 'sqrt', 'min_samples_split': 9, 'n_estimators': 110}"
          ],
          [
           "{'max_depth': 6, 'max_features': 'sqrt', 'min_samples_split': 9, 'n_estimators': 130}"
          ],
          [
           "{'max_depth': 6, 'max_features': 'sqrt', 'min_samples_split': 12, 'n_estimators': 50}"
          ],
          [
           "{'max_depth': 6, 'max_features': 'sqrt', 'min_samples_split': 12, 'n_estimators': 80}"
          ],
          [
           "{'max_depth': 6, 'max_features': 'sqrt', 'min_samples_split': 12, 'n_estimators': 110}"
          ],
          [
           "{'max_depth': 6, 'max_features': 'sqrt', 'min_samples_split': 12, 'n_estimators': 130}"
          ],
          [
           "{'max_depth': 6, 'max_features': 'log2', 'min_samples_split': 3, 'n_estimators': 50}"
          ],
          [
           "{'max_depth': 6, 'max_features': 'log2', 'min_samples_split': 3, 'n_estimators': 80}"
          ],
          [
           "{'max_depth': 6, 'max_features': 'log2', 'min_samples_split': 3, 'n_estimators': 110}"
          ],
          [
           "{'max_depth': 6, 'max_features': 'log2', 'min_samples_split': 3, 'n_estimators': 130}"
          ],
          [
           "{'max_depth': 6, 'max_features': 'log2', 'min_samples_split': 6, 'n_estimators': 50}"
          ],
          [
           "{'max_depth': 6, 'max_features': 'log2', 'min_samples_split': 6, 'n_estimators': 80}"
          ],
          [
           "{'max_depth': 6, 'max_features': 'log2', 'min_samples_split': 6, 'n_estimators': 110}"
          ],
          [
           "{'max_depth': 6, 'max_features': 'log2', 'min_samples_split': 6, 'n_estimators': 130}"
          ],
          [
           "{'max_depth': 6, 'max_features': 'log2', 'min_samples_split': 9, 'n_estimators': 50}"
          ],
          [
           "{'max_depth': 6, 'max_features': 'log2', 'min_samples_split': 9, 'n_estimators': 80}"
          ],
          [
           "{'max_depth': 6, 'max_features': 'log2', 'min_samples_split': 9, 'n_estimators': 110}"
          ],
          [
           "{'max_depth': 6, 'max_features': 'log2', 'min_samples_split': 9, 'n_estimators': 130}"
          ],
          [
           "{'max_depth': 6, 'max_features': 'log2', 'min_samples_split': 12, 'n_estimators': 50}"
          ],
          [
           "{'max_depth': 6, 'max_features': 'log2', 'min_samples_split': 12, 'n_estimators': 80}"
          ],
          [
           "{'max_depth': 6, 'max_features': 'log2', 'min_samples_split': 12, 'n_estimators': 110}"
          ],
          [
           "{'max_depth': 6, 'max_features': 'log2', 'min_samples_split': 12, 'n_estimators': 130}"
          ],
          [
           "{'max_depth': 9, 'max_features': 'sqrt', 'min_samples_split': 3, 'n_estimators': 50}"
          ],
          [
           "{'max_depth': 9, 'max_features': 'sqrt', 'min_samples_split': 3, 'n_estimators': 80}"
          ],
          [
           "{'max_depth': 9, 'max_features': 'sqrt', 'min_samples_split': 3, 'n_estimators': 110}"
          ],
          [
           "{'max_depth': 9, 'max_features': 'sqrt', 'min_samples_split': 3, 'n_estimators': 130}"
          ],
          [
           "{'max_depth': 9, 'max_features': 'sqrt', 'min_samples_split': 6, 'n_estimators': 50}"
          ],
          [
           "{'max_depth': 9, 'max_features': 'sqrt', 'min_samples_split': 6, 'n_estimators': 80}"
          ],
          [
           "{'max_depth': 9, 'max_features': 'sqrt', 'min_samples_split': 6, 'n_estimators': 110}"
          ],
          [
           "{'max_depth': 9, 'max_features': 'sqrt', 'min_samples_split': 6, 'n_estimators': 130}"
          ],
          [
           "{'max_depth': 9, 'max_features': 'sqrt', 'min_samples_split': 9, 'n_estimators': 50}"
          ],
          [
           "{'max_depth': 9, 'max_features': 'sqrt', 'min_samples_split': 9, 'n_estimators': 80}"
          ],
          [
           "{'max_depth': 9, 'max_features': 'sqrt', 'min_samples_split': 9, 'n_estimators': 110}"
          ],
          [
           "{'max_depth': 9, 'max_features': 'sqrt', 'min_samples_split': 9, 'n_estimators': 130}"
          ],
          [
           "{'max_depth': 9, 'max_features': 'sqrt', 'min_samples_split': 12, 'n_estimators': 50}"
          ],
          [
           "{'max_depth': 9, 'max_features': 'sqrt', 'min_samples_split': 12, 'n_estimators': 80}"
          ],
          [
           "{'max_depth': 9, 'max_features': 'sqrt', 'min_samples_split': 12, 'n_estimators': 110}"
          ],
          [
           "{'max_depth': 9, 'max_features': 'sqrt', 'min_samples_split': 12, 'n_estimators': 130}"
          ],
          [
           "{'max_depth': 9, 'max_features': 'log2', 'min_samples_split': 3, 'n_estimators': 50}"
          ],
          [
           "{'max_depth': 9, 'max_features': 'log2', 'min_samples_split': 3, 'n_estimators': 80}"
          ],
          [
           "{'max_depth': 9, 'max_features': 'log2', 'min_samples_split': 3, 'n_estimators': 110}"
          ],
          [
           "{'max_depth': 9, 'max_features': 'log2', 'min_samples_split': 3, 'n_estimators': 130}"
          ],
          [
           "{'max_depth': 9, 'max_features': 'log2', 'min_samples_split': 6, 'n_estimators': 50}"
          ],
          [
           "{'max_depth': 9, 'max_features': 'log2', 'min_samples_split': 6, 'n_estimators': 80}"
          ],
          [
           "{'max_depth': 9, 'max_features': 'log2', 'min_samples_split': 6, 'n_estimators': 110}"
          ],
          [
           "{'max_depth': 9, 'max_features': 'log2', 'min_samples_split': 6, 'n_estimators': 130}"
          ],
          [
           "{'max_depth': 9, 'max_features': 'log2', 'min_samples_split': 9, 'n_estimators': 50}"
          ],
          [
           "{'max_depth': 9, 'max_features': 'log2', 'min_samples_split': 9, 'n_estimators': 80}"
          ],
          [
           "{'max_depth': 9, 'max_features': 'log2', 'min_samples_split': 9, 'n_estimators': 110}"
          ],
          [
           "{'max_depth': 9, 'max_features': 'log2', 'min_samples_split': 9, 'n_estimators': 130}"
          ],
          [
           "{'max_depth': 9, 'max_features': 'log2', 'min_samples_split': 12, 'n_estimators': 50}"
          ],
          [
           "{'max_depth': 9, 'max_features': 'log2', 'min_samples_split': 12, 'n_estimators': 80}"
          ],
          [
           "{'max_depth': 9, 'max_features': 'log2', 'min_samples_split': 12, 'n_estimators': 110}"
          ],
          [
           "{'max_depth': 9, 'max_features': 'log2', 'min_samples_split': 12, 'n_estimators': 130}"
          ]
         ],
         "error_y": {
          "array": [
           0.020666805060710565,
           0.025719876643264444,
           0.03373345396532662,
           0.014723870914085833,
           0.010889799190285127,
           0.020650558903068307,
           0.021578055527737863,
           0.018557052073423643,
           0.019898515426082983,
           0.03284483405294283,
           0.026021498744235778,
           0.024202023574660093,
           0.02075548175955034,
           0.041258476943708454,
           0.02967759677710288,
           0.029733320027023044,
           0.02368263191587772,
           0.019586974489226184,
           0.02016956834550279,
           0.0280268040959315,
           0.025598409622253824,
           0.02885720450259967,
           0.021982246036283522,
           0.020292576046341528,
           0.02522815525268245,
           0.016647823522345936,
           0.03415937956378291,
           0.025731231383242844,
           0.024721688602574083,
           0.024066753654698663,
           0.01981739832173703,
           0.026705441668740962,
           0.037675138973079565,
           0.01194264337274817,
           0.01464677242885895,
           0.02951568905147269,
           0.02224937209385571,
           0.02532243780362315,
           0.03037199986635863,
           0.02097528558740375,
           0.022464151296522687,
           0.0371356291021428,
           0.029722238751781618,
           0.02286853332091656,
           0.02988979898441418,
           0.01763139787245165,
           0.025740680485614776,
           0.03783533579971674,
           0.017753506491621437,
           0.021070372121734175,
           0.03281264954200419,
           0.01702509298075617,
           0.04117508405006116,
           0.04063124813889061,
           0.016488868237264333,
           0.024239306811683927,
           0.025824341456448126,
           0.03090740648060937,
           0.014115528040886253,
           0.00601928896242335,
           0.0321900649897863,
           0.0326192187273934,
           0.04009778426320909,
           0.02384479392280245,
           0.04458184086708674,
           0.040757189564566414,
           0.034421344461361615,
           0.038534806590771964,
           0.01899113275679997,
           0.04025618661422846,
           0.03384571383042,
           0.02883420075685882,
           0.02823823039956605,
           0.022060970535156453,
           0.033155590502836806,
           0.028276566791770704,
           0.030501725700703697,
           0.03862615469930163,
           0.03069590706871614,
           0.024758215502360122,
           0.02660629587588623,
           0.025286156925208303,
           0.03648374147989885,
           0.034205727132447565,
           0.033491893442772196,
           0.022379635381015738,
           0.03659476545814356,
           0.027726469117415456,
           0.041316063848211584,
           0.030915557057319003,
           0.03312845416671048,
           0.029255100960470598,
           0.03504710895611446,
           0.028669505676632703,
           0.044573339571358894,
           0.03531769529339989
          ]
         },
         "hovertemplate": "<b>%{hovertext}</b><br><br>type=test<br>Params=%{x}<br>Average f1=%{y}<br>params=%{customdata[0]}<extra></extra>",
         "hovertext": [
          "{'max_depth': 3, 'max_features': 'sqrt', 'min_samples_split': 3, 'n_estimators': 50}",
          "{'max_depth': 3, 'max_features': 'sqrt', 'min_samples_split': 3, 'n_estimators': 80}",
          "{'max_depth': 3, 'max_features': 'sqrt', 'min_samples_split': 3, 'n_estimators': 110}",
          "{'max_depth': 3, 'max_features': 'sqrt', 'min_samples_split': 3, 'n_estimators': 130}",
          "{'max_depth': 3, 'max_features': 'sqrt', 'min_samples_split': 6, 'n_estimators': 50}",
          "{'max_depth': 3, 'max_features': 'sqrt', 'min_samples_split': 6, 'n_estimators': 80}",
          "{'max_depth': 3, 'max_features': 'sqrt', 'min_samples_split': 6, 'n_estimators': 110}",
          "{'max_depth': 3, 'max_features': 'sqrt', 'min_samples_split': 6, 'n_estimators': 130}",
          "{'max_depth': 3, 'max_features': 'sqrt', 'min_samples_split': 9, 'n_estimators': 50}",
          "{'max_depth': 3, 'max_features': 'sqrt', 'min_samples_split': 9, 'n_estimators': 80}",
          "{'max_depth': 3, 'max_features': 'sqrt', 'min_samples_split': 9, 'n_estimators': 110}",
          "{'max_depth': 3, 'max_features': 'sqrt', 'min_samples_split': 9, 'n_estimators': 130}",
          "{'max_depth': 3, 'max_features': 'sqrt', 'min_samples_split': 12, 'n_estimators': 50}",
          "{'max_depth': 3, 'max_features': 'sqrt', 'min_samples_split': 12, 'n_estimators': 80}",
          "{'max_depth': 3, 'max_features': 'sqrt', 'min_samples_split': 12, 'n_estimators': 110}",
          "{'max_depth': 3, 'max_features': 'sqrt', 'min_samples_split': 12, 'n_estimators': 130}",
          "{'max_depth': 3, 'max_features': 'log2', 'min_samples_split': 3, 'n_estimators': 50}",
          "{'max_depth': 3, 'max_features': 'log2', 'min_samples_split': 3, 'n_estimators': 80}",
          "{'max_depth': 3, 'max_features': 'log2', 'min_samples_split': 3, 'n_estimators': 110}",
          "{'max_depth': 3, 'max_features': 'log2', 'min_samples_split': 3, 'n_estimators': 130}",
          "{'max_depth': 3, 'max_features': 'log2', 'min_samples_split': 6, 'n_estimators': 50}",
          "{'max_depth': 3, 'max_features': 'log2', 'min_samples_split': 6, 'n_estimators': 80}",
          "{'max_depth': 3, 'max_features': 'log2', 'min_samples_split': 6, 'n_estimators': 110}",
          "{'max_depth': 3, 'max_features': 'log2', 'min_samples_split': 6, 'n_estimators': 130}",
          "{'max_depth': 3, 'max_features': 'log2', 'min_samples_split': 9, 'n_estimators': 50}",
          "{'max_depth': 3, 'max_features': 'log2', 'min_samples_split': 9, 'n_estimators': 80}",
          "{'max_depth': 3, 'max_features': 'log2', 'min_samples_split': 9, 'n_estimators': 110}",
          "{'max_depth': 3, 'max_features': 'log2', 'min_samples_split': 9, 'n_estimators': 130}",
          "{'max_depth': 3, 'max_features': 'log2', 'min_samples_split': 12, 'n_estimators': 50}",
          "{'max_depth': 3, 'max_features': 'log2', 'min_samples_split': 12, 'n_estimators': 80}",
          "{'max_depth': 3, 'max_features': 'log2', 'min_samples_split': 12, 'n_estimators': 110}",
          "{'max_depth': 3, 'max_features': 'log2', 'min_samples_split': 12, 'n_estimators': 130}",
          "{'max_depth': 6, 'max_features': 'sqrt', 'min_samples_split': 3, 'n_estimators': 50}",
          "{'max_depth': 6, 'max_features': 'sqrt', 'min_samples_split': 3, 'n_estimators': 80}",
          "{'max_depth': 6, 'max_features': 'sqrt', 'min_samples_split': 3, 'n_estimators': 110}",
          "{'max_depth': 6, 'max_features': 'sqrt', 'min_samples_split': 3, 'n_estimators': 130}",
          "{'max_depth': 6, 'max_features': 'sqrt', 'min_samples_split': 6, 'n_estimators': 50}",
          "{'max_depth': 6, 'max_features': 'sqrt', 'min_samples_split': 6, 'n_estimators': 80}",
          "{'max_depth': 6, 'max_features': 'sqrt', 'min_samples_split': 6, 'n_estimators': 110}",
          "{'max_depth': 6, 'max_features': 'sqrt', 'min_samples_split': 6, 'n_estimators': 130}",
          "{'max_depth': 6, 'max_features': 'sqrt', 'min_samples_split': 9, 'n_estimators': 50}",
          "{'max_depth': 6, 'max_features': 'sqrt', 'min_samples_split': 9, 'n_estimators': 80}",
          "{'max_depth': 6, 'max_features': 'sqrt', 'min_samples_split': 9, 'n_estimators': 110}",
          "{'max_depth': 6, 'max_features': 'sqrt', 'min_samples_split': 9, 'n_estimators': 130}",
          "{'max_depth': 6, 'max_features': 'sqrt', 'min_samples_split': 12, 'n_estimators': 50}",
          "{'max_depth': 6, 'max_features': 'sqrt', 'min_samples_split': 12, 'n_estimators': 80}",
          "{'max_depth': 6, 'max_features': 'sqrt', 'min_samples_split': 12, 'n_estimators': 110}",
          "{'max_depth': 6, 'max_features': 'sqrt', 'min_samples_split': 12, 'n_estimators': 130}",
          "{'max_depth': 6, 'max_features': 'log2', 'min_samples_split': 3, 'n_estimators': 50}",
          "{'max_depth': 6, 'max_features': 'log2', 'min_samples_split': 3, 'n_estimators': 80}",
          "{'max_depth': 6, 'max_features': 'log2', 'min_samples_split': 3, 'n_estimators': 110}",
          "{'max_depth': 6, 'max_features': 'log2', 'min_samples_split': 3, 'n_estimators': 130}",
          "{'max_depth': 6, 'max_features': 'log2', 'min_samples_split': 6, 'n_estimators': 50}",
          "{'max_depth': 6, 'max_features': 'log2', 'min_samples_split': 6, 'n_estimators': 80}",
          "{'max_depth': 6, 'max_features': 'log2', 'min_samples_split': 6, 'n_estimators': 110}",
          "{'max_depth': 6, 'max_features': 'log2', 'min_samples_split': 6, 'n_estimators': 130}",
          "{'max_depth': 6, 'max_features': 'log2', 'min_samples_split': 9, 'n_estimators': 50}",
          "{'max_depth': 6, 'max_features': 'log2', 'min_samples_split': 9, 'n_estimators': 80}",
          "{'max_depth': 6, 'max_features': 'log2', 'min_samples_split': 9, 'n_estimators': 110}",
          "{'max_depth': 6, 'max_features': 'log2', 'min_samples_split': 9, 'n_estimators': 130}",
          "{'max_depth': 6, 'max_features': 'log2', 'min_samples_split': 12, 'n_estimators': 50}",
          "{'max_depth': 6, 'max_features': 'log2', 'min_samples_split': 12, 'n_estimators': 80}",
          "{'max_depth': 6, 'max_features': 'log2', 'min_samples_split': 12, 'n_estimators': 110}",
          "{'max_depth': 6, 'max_features': 'log2', 'min_samples_split': 12, 'n_estimators': 130}",
          "{'max_depth': 9, 'max_features': 'sqrt', 'min_samples_split': 3, 'n_estimators': 50}",
          "{'max_depth': 9, 'max_features': 'sqrt', 'min_samples_split': 3, 'n_estimators': 80}",
          "{'max_depth': 9, 'max_features': 'sqrt', 'min_samples_split': 3, 'n_estimators': 110}",
          "{'max_depth': 9, 'max_features': 'sqrt', 'min_samples_split': 3, 'n_estimators': 130}",
          "{'max_depth': 9, 'max_features': 'sqrt', 'min_samples_split': 6, 'n_estimators': 50}",
          "{'max_depth': 9, 'max_features': 'sqrt', 'min_samples_split': 6, 'n_estimators': 80}",
          "{'max_depth': 9, 'max_features': 'sqrt', 'min_samples_split': 6, 'n_estimators': 110}",
          "{'max_depth': 9, 'max_features': 'sqrt', 'min_samples_split': 6, 'n_estimators': 130}",
          "{'max_depth': 9, 'max_features': 'sqrt', 'min_samples_split': 9, 'n_estimators': 50}",
          "{'max_depth': 9, 'max_features': 'sqrt', 'min_samples_split': 9, 'n_estimators': 80}",
          "{'max_depth': 9, 'max_features': 'sqrt', 'min_samples_split': 9, 'n_estimators': 110}",
          "{'max_depth': 9, 'max_features': 'sqrt', 'min_samples_split': 9, 'n_estimators': 130}",
          "{'max_depth': 9, 'max_features': 'sqrt', 'min_samples_split': 12, 'n_estimators': 50}",
          "{'max_depth': 9, 'max_features': 'sqrt', 'min_samples_split': 12, 'n_estimators': 80}",
          "{'max_depth': 9, 'max_features': 'sqrt', 'min_samples_split': 12, 'n_estimators': 110}",
          "{'max_depth': 9, 'max_features': 'sqrt', 'min_samples_split': 12, 'n_estimators': 130}",
          "{'max_depth': 9, 'max_features': 'log2', 'min_samples_split': 3, 'n_estimators': 50}",
          "{'max_depth': 9, 'max_features': 'log2', 'min_samples_split': 3, 'n_estimators': 80}",
          "{'max_depth': 9, 'max_features': 'log2', 'min_samples_split': 3, 'n_estimators': 110}",
          "{'max_depth': 9, 'max_features': 'log2', 'min_samples_split': 3, 'n_estimators': 130}",
          "{'max_depth': 9, 'max_features': 'log2', 'min_samples_split': 6, 'n_estimators': 50}",
          "{'max_depth': 9, 'max_features': 'log2', 'min_samples_split': 6, 'n_estimators': 80}",
          "{'max_depth': 9, 'max_features': 'log2', 'min_samples_split': 6, 'n_estimators': 110}",
          "{'max_depth': 9, 'max_features': 'log2', 'min_samples_split': 6, 'n_estimators': 130}",
          "{'max_depth': 9, 'max_features': 'log2', 'min_samples_split': 9, 'n_estimators': 50}",
          "{'max_depth': 9, 'max_features': 'log2', 'min_samples_split': 9, 'n_estimators': 80}",
          "{'max_depth': 9, 'max_features': 'log2', 'min_samples_split': 9, 'n_estimators': 110}",
          "{'max_depth': 9, 'max_features': 'log2', 'min_samples_split': 9, 'n_estimators': 130}",
          "{'max_depth': 9, 'max_features': 'log2', 'min_samples_split': 12, 'n_estimators': 50}",
          "{'max_depth': 9, 'max_features': 'log2', 'min_samples_split': 12, 'n_estimators': 80}",
          "{'max_depth': 9, 'max_features': 'log2', 'min_samples_split': 12, 'n_estimators': 110}",
          "{'max_depth': 9, 'max_features': 'log2', 'min_samples_split': 12, 'n_estimators': 130}"
         ],
         "legendgroup": "test",
         "marker": {
          "color": "#636efa",
          "pattern": {
           "shape": ""
          }
         },
         "name": "test",
         "offsetgroup": "test",
         "orientation": "v",
         "showlegend": true,
         "textposition": "auto",
         "type": "bar",
         "x": [
          0,
          1,
          2,
          3,
          4,
          5,
          6,
          7,
          8,
          9,
          10,
          11,
          12,
          13,
          14,
          15,
          16,
          17,
          18,
          19,
          20,
          21,
          22,
          23,
          24,
          25,
          26,
          27,
          28,
          29,
          30,
          31,
          32,
          33,
          34,
          35,
          36,
          37,
          38,
          39,
          40,
          41,
          42,
          43,
          44,
          45,
          46,
          47,
          48,
          49,
          50,
          51,
          52,
          53,
          54,
          55,
          56,
          57,
          58,
          59,
          60,
          61,
          62,
          63,
          64,
          65,
          66,
          67,
          68,
          69,
          70,
          71,
          72,
          73,
          74,
          75,
          76,
          77,
          78,
          79,
          80,
          81,
          82,
          83,
          84,
          85,
          86,
          87,
          88,
          89,
          90,
          91,
          92,
          93,
          94,
          95
         ],
         "xaxis": "x",
         "y": [
          0.10802614189799994,
          0.10640640277096389,
          0.109616383560255,
          0.10939456608291495,
          0.10662318649093323,
          0.0938589316005673,
          0.10935040507735838,
          0.09705365296875773,
          0.10549002793142295,
          0.10962638392365769,
          0.10818206244332598,
          0.09620497010481203,
          0.10546904076029665,
          0.09677489975914597,
          0.10770097377064433,
          0.10628719866605083,
          0.10730836840593046,
          0.11371734652006697,
          0.0982232459292102,
          0.10647818859720048,
          0.0980647274583142,
          0.09090489994433372,
          0.09675979372013863,
          0.09636332043064566,
          0.1100023278811461,
          0.11834573986479668,
          0.0987749729143367,
          0.0923948299885636,
          0.10924968998739289,
          0.1011754684220394,
          0.09938553036898287,
          0.09195121028809122,
          0.2466793055374264,
          0.2324685570496398,
          0.24088748099907925,
          0.2318082935716974,
          0.2569532335304959,
          0.23506208768947562,
          0.23968590242880752,
          0.24665951591344518,
          0.2353953199827638,
          0.2515909441980452,
          0.22475266612038097,
          0.24421985424237933,
          0.24579321514205238,
          0.24609523652076842,
          0.2370438434962153,
          0.23369618885805687,
          0.23637614938422263,
          0.23034252720869192,
          0.2416001739078939,
          0.23903362798328018,
          0.24378111205918832,
          0.23399678151130004,
          0.24260328386170055,
          0.23906841765436299,
          0.23022889135503316,
          0.23803725647690605,
          0.2538633137659077,
          0.23544432197382908,
          0.2520948783455141,
          0.23939416119338514,
          0.22584144587573948,
          0.23037836270652406,
          0.33167103465355774,
          0.3248297706048047,
          0.31685922533023114,
          0.31253740687746456,
          0.3086416191592659,
          0.30754761038127965,
          0.31531455510517337,
          0.31698410633170454,
          0.3339517989765956,
          0.321838000221347,
          0.3128540070862454,
          0.3117550386119017,
          0.31570423804848013,
          0.3247764298513699,
          0.3090796700894255,
          0.31748401848741803,
          0.3095744374122486,
          0.3154266394583825,
          0.31636472113851655,
          0.31580717633033634,
          0.317625358534943,
          0.3282204546364281,
          0.3107030172194961,
          0.3121570864785381,
          0.3235862331387361,
          0.30516256645370293,
          0.31885931344621227,
          0.3006158717368203,
          0.3315951175895767,
          0.31381670455572847,
          0.3051018785394796,
          0.3065797518614856
         ],
         "yaxis": "y"
        },
        {
         "alignmentgroup": "True",
         "customdata": [
          [
           "{'max_depth': 3, 'max_features': 'sqrt', 'min_samples_split': 3, 'n_estimators': 50}"
          ],
          [
           "{'max_depth': 3, 'max_features': 'sqrt', 'min_samples_split': 3, 'n_estimators': 80}"
          ],
          [
           "{'max_depth': 3, 'max_features': 'sqrt', 'min_samples_split': 3, 'n_estimators': 110}"
          ],
          [
           "{'max_depth': 3, 'max_features': 'sqrt', 'min_samples_split': 3, 'n_estimators': 130}"
          ],
          [
           "{'max_depth': 3, 'max_features': 'sqrt', 'min_samples_split': 6, 'n_estimators': 50}"
          ],
          [
           "{'max_depth': 3, 'max_features': 'sqrt', 'min_samples_split': 6, 'n_estimators': 80}"
          ],
          [
           "{'max_depth': 3, 'max_features': 'sqrt', 'min_samples_split': 6, 'n_estimators': 110}"
          ],
          [
           "{'max_depth': 3, 'max_features': 'sqrt', 'min_samples_split': 6, 'n_estimators': 130}"
          ],
          [
           "{'max_depth': 3, 'max_features': 'sqrt', 'min_samples_split': 9, 'n_estimators': 50}"
          ],
          [
           "{'max_depth': 3, 'max_features': 'sqrt', 'min_samples_split': 9, 'n_estimators': 80}"
          ],
          [
           "{'max_depth': 3, 'max_features': 'sqrt', 'min_samples_split': 9, 'n_estimators': 110}"
          ],
          [
           "{'max_depth': 3, 'max_features': 'sqrt', 'min_samples_split': 9, 'n_estimators': 130}"
          ],
          [
           "{'max_depth': 3, 'max_features': 'sqrt', 'min_samples_split': 12, 'n_estimators': 50}"
          ],
          [
           "{'max_depth': 3, 'max_features': 'sqrt', 'min_samples_split': 12, 'n_estimators': 80}"
          ],
          [
           "{'max_depth': 3, 'max_features': 'sqrt', 'min_samples_split': 12, 'n_estimators': 110}"
          ],
          [
           "{'max_depth': 3, 'max_features': 'sqrt', 'min_samples_split': 12, 'n_estimators': 130}"
          ],
          [
           "{'max_depth': 3, 'max_features': 'log2', 'min_samples_split': 3, 'n_estimators': 50}"
          ],
          [
           "{'max_depth': 3, 'max_features': 'log2', 'min_samples_split': 3, 'n_estimators': 80}"
          ],
          [
           "{'max_depth': 3, 'max_features': 'log2', 'min_samples_split': 3, 'n_estimators': 110}"
          ],
          [
           "{'max_depth': 3, 'max_features': 'log2', 'min_samples_split': 3, 'n_estimators': 130}"
          ],
          [
           "{'max_depth': 3, 'max_features': 'log2', 'min_samples_split': 6, 'n_estimators': 50}"
          ],
          [
           "{'max_depth': 3, 'max_features': 'log2', 'min_samples_split': 6, 'n_estimators': 80}"
          ],
          [
           "{'max_depth': 3, 'max_features': 'log2', 'min_samples_split': 6, 'n_estimators': 110}"
          ],
          [
           "{'max_depth': 3, 'max_features': 'log2', 'min_samples_split': 6, 'n_estimators': 130}"
          ],
          [
           "{'max_depth': 3, 'max_features': 'log2', 'min_samples_split': 9, 'n_estimators': 50}"
          ],
          [
           "{'max_depth': 3, 'max_features': 'log2', 'min_samples_split': 9, 'n_estimators': 80}"
          ],
          [
           "{'max_depth': 3, 'max_features': 'log2', 'min_samples_split': 9, 'n_estimators': 110}"
          ],
          [
           "{'max_depth': 3, 'max_features': 'log2', 'min_samples_split': 9, 'n_estimators': 130}"
          ],
          [
           "{'max_depth': 3, 'max_features': 'log2', 'min_samples_split': 12, 'n_estimators': 50}"
          ],
          [
           "{'max_depth': 3, 'max_features': 'log2', 'min_samples_split': 12, 'n_estimators': 80}"
          ],
          [
           "{'max_depth': 3, 'max_features': 'log2', 'min_samples_split': 12, 'n_estimators': 110}"
          ],
          [
           "{'max_depth': 3, 'max_features': 'log2', 'min_samples_split': 12, 'n_estimators': 130}"
          ],
          [
           "{'max_depth': 6, 'max_features': 'sqrt', 'min_samples_split': 3, 'n_estimators': 50}"
          ],
          [
           "{'max_depth': 6, 'max_features': 'sqrt', 'min_samples_split': 3, 'n_estimators': 80}"
          ],
          [
           "{'max_depth': 6, 'max_features': 'sqrt', 'min_samples_split': 3, 'n_estimators': 110}"
          ],
          [
           "{'max_depth': 6, 'max_features': 'sqrt', 'min_samples_split': 3, 'n_estimators': 130}"
          ],
          [
           "{'max_depth': 6, 'max_features': 'sqrt', 'min_samples_split': 6, 'n_estimators': 50}"
          ],
          [
           "{'max_depth': 6, 'max_features': 'sqrt', 'min_samples_split': 6, 'n_estimators': 80}"
          ],
          [
           "{'max_depth': 6, 'max_features': 'sqrt', 'min_samples_split': 6, 'n_estimators': 110}"
          ],
          [
           "{'max_depth': 6, 'max_features': 'sqrt', 'min_samples_split': 6, 'n_estimators': 130}"
          ],
          [
           "{'max_depth': 6, 'max_features': 'sqrt', 'min_samples_split': 9, 'n_estimators': 50}"
          ],
          [
           "{'max_depth': 6, 'max_features': 'sqrt', 'min_samples_split': 9, 'n_estimators': 80}"
          ],
          [
           "{'max_depth': 6, 'max_features': 'sqrt', 'min_samples_split': 9, 'n_estimators': 110}"
          ],
          [
           "{'max_depth': 6, 'max_features': 'sqrt', 'min_samples_split': 9, 'n_estimators': 130}"
          ],
          [
           "{'max_depth': 6, 'max_features': 'sqrt', 'min_samples_split': 12, 'n_estimators': 50}"
          ],
          [
           "{'max_depth': 6, 'max_features': 'sqrt', 'min_samples_split': 12, 'n_estimators': 80}"
          ],
          [
           "{'max_depth': 6, 'max_features': 'sqrt', 'min_samples_split': 12, 'n_estimators': 110}"
          ],
          [
           "{'max_depth': 6, 'max_features': 'sqrt', 'min_samples_split': 12, 'n_estimators': 130}"
          ],
          [
           "{'max_depth': 6, 'max_features': 'log2', 'min_samples_split': 3, 'n_estimators': 50}"
          ],
          [
           "{'max_depth': 6, 'max_features': 'log2', 'min_samples_split': 3, 'n_estimators': 80}"
          ],
          [
           "{'max_depth': 6, 'max_features': 'log2', 'min_samples_split': 3, 'n_estimators': 110}"
          ],
          [
           "{'max_depth': 6, 'max_features': 'log2', 'min_samples_split': 3, 'n_estimators': 130}"
          ],
          [
           "{'max_depth': 6, 'max_features': 'log2', 'min_samples_split': 6, 'n_estimators': 50}"
          ],
          [
           "{'max_depth': 6, 'max_features': 'log2', 'min_samples_split': 6, 'n_estimators': 80}"
          ],
          [
           "{'max_depth': 6, 'max_features': 'log2', 'min_samples_split': 6, 'n_estimators': 110}"
          ],
          [
           "{'max_depth': 6, 'max_features': 'log2', 'min_samples_split': 6, 'n_estimators': 130}"
          ],
          [
           "{'max_depth': 6, 'max_features': 'log2', 'min_samples_split': 9, 'n_estimators': 50}"
          ],
          [
           "{'max_depth': 6, 'max_features': 'log2', 'min_samples_split': 9, 'n_estimators': 80}"
          ],
          [
           "{'max_depth': 6, 'max_features': 'log2', 'min_samples_split': 9, 'n_estimators': 110}"
          ],
          [
           "{'max_depth': 6, 'max_features': 'log2', 'min_samples_split': 9, 'n_estimators': 130}"
          ],
          [
           "{'max_depth': 6, 'max_features': 'log2', 'min_samples_split': 12, 'n_estimators': 50}"
          ],
          [
           "{'max_depth': 6, 'max_features': 'log2', 'min_samples_split': 12, 'n_estimators': 80}"
          ],
          [
           "{'max_depth': 6, 'max_features': 'log2', 'min_samples_split': 12, 'n_estimators': 110}"
          ],
          [
           "{'max_depth': 6, 'max_features': 'log2', 'min_samples_split': 12, 'n_estimators': 130}"
          ],
          [
           "{'max_depth': 9, 'max_features': 'sqrt', 'min_samples_split': 3, 'n_estimators': 50}"
          ],
          [
           "{'max_depth': 9, 'max_features': 'sqrt', 'min_samples_split': 3, 'n_estimators': 80}"
          ],
          [
           "{'max_depth': 9, 'max_features': 'sqrt', 'min_samples_split': 3, 'n_estimators': 110}"
          ],
          [
           "{'max_depth': 9, 'max_features': 'sqrt', 'min_samples_split': 3, 'n_estimators': 130}"
          ],
          [
           "{'max_depth': 9, 'max_features': 'sqrt', 'min_samples_split': 6, 'n_estimators': 50}"
          ],
          [
           "{'max_depth': 9, 'max_features': 'sqrt', 'min_samples_split': 6, 'n_estimators': 80}"
          ],
          [
           "{'max_depth': 9, 'max_features': 'sqrt', 'min_samples_split': 6, 'n_estimators': 110}"
          ],
          [
           "{'max_depth': 9, 'max_features': 'sqrt', 'min_samples_split': 6, 'n_estimators': 130}"
          ],
          [
           "{'max_depth': 9, 'max_features': 'sqrt', 'min_samples_split': 9, 'n_estimators': 50}"
          ],
          [
           "{'max_depth': 9, 'max_features': 'sqrt', 'min_samples_split': 9, 'n_estimators': 80}"
          ],
          [
           "{'max_depth': 9, 'max_features': 'sqrt', 'min_samples_split': 9, 'n_estimators': 110}"
          ],
          [
           "{'max_depth': 9, 'max_features': 'sqrt', 'min_samples_split': 9, 'n_estimators': 130}"
          ],
          [
           "{'max_depth': 9, 'max_features': 'sqrt', 'min_samples_split': 12, 'n_estimators': 50}"
          ],
          [
           "{'max_depth': 9, 'max_features': 'sqrt', 'min_samples_split': 12, 'n_estimators': 80}"
          ],
          [
           "{'max_depth': 9, 'max_features': 'sqrt', 'min_samples_split': 12, 'n_estimators': 110}"
          ],
          [
           "{'max_depth': 9, 'max_features': 'sqrt', 'min_samples_split': 12, 'n_estimators': 130}"
          ],
          [
           "{'max_depth': 9, 'max_features': 'log2', 'min_samples_split': 3, 'n_estimators': 50}"
          ],
          [
           "{'max_depth': 9, 'max_features': 'log2', 'min_samples_split': 3, 'n_estimators': 80}"
          ],
          [
           "{'max_depth': 9, 'max_features': 'log2', 'min_samples_split': 3, 'n_estimators': 110}"
          ],
          [
           "{'max_depth': 9, 'max_features': 'log2', 'min_samples_split': 3, 'n_estimators': 130}"
          ],
          [
           "{'max_depth': 9, 'max_features': 'log2', 'min_samples_split': 6, 'n_estimators': 50}"
          ],
          [
           "{'max_depth': 9, 'max_features': 'log2', 'min_samples_split': 6, 'n_estimators': 80}"
          ],
          [
           "{'max_depth': 9, 'max_features': 'log2', 'min_samples_split': 6, 'n_estimators': 110}"
          ],
          [
           "{'max_depth': 9, 'max_features': 'log2', 'min_samples_split': 6, 'n_estimators': 130}"
          ],
          [
           "{'max_depth': 9, 'max_features': 'log2', 'min_samples_split': 9, 'n_estimators': 50}"
          ],
          [
           "{'max_depth': 9, 'max_features': 'log2', 'min_samples_split': 9, 'n_estimators': 80}"
          ],
          [
           "{'max_depth': 9, 'max_features': 'log2', 'min_samples_split': 9, 'n_estimators': 110}"
          ],
          [
           "{'max_depth': 9, 'max_features': 'log2', 'min_samples_split': 9, 'n_estimators': 130}"
          ],
          [
           "{'max_depth': 9, 'max_features': 'log2', 'min_samples_split': 12, 'n_estimators': 50}"
          ],
          [
           "{'max_depth': 9, 'max_features': 'log2', 'min_samples_split': 12, 'n_estimators': 80}"
          ],
          [
           "{'max_depth': 9, 'max_features': 'log2', 'min_samples_split': 12, 'n_estimators': 110}"
          ],
          [
           "{'max_depth': 9, 'max_features': 'log2', 'min_samples_split': 12, 'n_estimators': 130}"
          ]
         ],
         "error_y": {
          "array": [
           0.03114835072447713,
           0.021782751466130405,
           0.029161571400559434,
           0.02430172550202634,
           0.027341330284611727,
           0.025429810578862747,
           0.028718191199351695,
           0.03247291003460742,
           0.03381415094516275,
           0.030037010331050357,
           0.02741574667163619,
           0.024489487399922676,
           0.03759309536834003,
           0.022051250329642627,
           0.023531732876427083,
           0.027476058261169,
           0.03148412690737533,
           0.03399547678852828,
           0.02216835085026788,
           0.026023397776625934,
           0.02819616208922937,
           0.017776333705328284,
           0.022692789202128354,
           0.02754092871311034,
           0.03381483750692287,
           0.03558526138532488,
           0.025492122374007255,
           0.02061755860563569,
           0.025302497865491033,
           0.020658907996966926,
           0.030405983085874083,
           0.03304846392541163,
           0.03711032010729853,
           0.032948932058524005,
           0.039942286626995775,
           0.031580611288405475,
           0.032319231741410895,
           0.04582320584122613,
           0.04025853876212818,
           0.03473896499521797,
           0.04939295891995165,
           0.03577269324571132,
           0.04176003532404401,
           0.04384082010137067,
           0.04225094122284198,
           0.03622988788189768,
           0.03568065566607487,
           0.030405467146812453,
           0.03485314170895811,
           0.0413678009811747,
           0.037927381978357794,
           0.03727002323327194,
           0.043543624044346745,
           0.03393544700294077,
           0.03430358841629611,
           0.03457749255993636,
           0.030872647276852933,
           0.04307596334498727,
           0.03848325165652796,
           0.03577390451360231,
           0.024003076409299853,
           0.04680261805987635,
           0.037312824566034096,
           0.03840581931527984,
           0.02443208839721653,
           0.01661200562871002,
           0.01809027810366397,
           0.019724963386808497,
           0.027043680354742795,
           0.03217336327446377,
           0.021963349404931644,
           0.03210343994536556,
           0.02821209029306659,
           0.02441080346866147,
           0.026336951899477955,
           0.027580644407988845,
           0.042695222127401705,
           0.020213089301435325,
           0.02082171049773274,
           0.024589415155021725,
           0.015396507814324889,
           0.031848631040086534,
           0.021421090191775984,
           0.024319953599122115,
           0.03371091347663313,
           0.02123221683395971,
           0.02530845435107668,
           0.013724212603763598,
           0.025606327332036518,
           0.02130995137262702,
           0.019973007370936147,
           0.021609229923620646,
           0.03802632764239728,
           0.022677634479018858,
           0.0245803101699879,
           0.03343954330144907
          ]
         },
         "hovertemplate": "<b>%{hovertext}</b><br><br>type=train<br>Params=%{x}<br>Average f1=%{y}<br>params=%{customdata[0]}<extra></extra>",
         "hovertext": [
          "{'max_depth': 3, 'max_features': 'sqrt', 'min_samples_split': 3, 'n_estimators': 50}",
          "{'max_depth': 3, 'max_features': 'sqrt', 'min_samples_split': 3, 'n_estimators': 80}",
          "{'max_depth': 3, 'max_features': 'sqrt', 'min_samples_split': 3, 'n_estimators': 110}",
          "{'max_depth': 3, 'max_features': 'sqrt', 'min_samples_split': 3, 'n_estimators': 130}",
          "{'max_depth': 3, 'max_features': 'sqrt', 'min_samples_split': 6, 'n_estimators': 50}",
          "{'max_depth': 3, 'max_features': 'sqrt', 'min_samples_split': 6, 'n_estimators': 80}",
          "{'max_depth': 3, 'max_features': 'sqrt', 'min_samples_split': 6, 'n_estimators': 110}",
          "{'max_depth': 3, 'max_features': 'sqrt', 'min_samples_split': 6, 'n_estimators': 130}",
          "{'max_depth': 3, 'max_features': 'sqrt', 'min_samples_split': 9, 'n_estimators': 50}",
          "{'max_depth': 3, 'max_features': 'sqrt', 'min_samples_split': 9, 'n_estimators': 80}",
          "{'max_depth': 3, 'max_features': 'sqrt', 'min_samples_split': 9, 'n_estimators': 110}",
          "{'max_depth': 3, 'max_features': 'sqrt', 'min_samples_split': 9, 'n_estimators': 130}",
          "{'max_depth': 3, 'max_features': 'sqrt', 'min_samples_split': 12, 'n_estimators': 50}",
          "{'max_depth': 3, 'max_features': 'sqrt', 'min_samples_split': 12, 'n_estimators': 80}",
          "{'max_depth': 3, 'max_features': 'sqrt', 'min_samples_split': 12, 'n_estimators': 110}",
          "{'max_depth': 3, 'max_features': 'sqrt', 'min_samples_split': 12, 'n_estimators': 130}",
          "{'max_depth': 3, 'max_features': 'log2', 'min_samples_split': 3, 'n_estimators': 50}",
          "{'max_depth': 3, 'max_features': 'log2', 'min_samples_split': 3, 'n_estimators': 80}",
          "{'max_depth': 3, 'max_features': 'log2', 'min_samples_split': 3, 'n_estimators': 110}",
          "{'max_depth': 3, 'max_features': 'log2', 'min_samples_split': 3, 'n_estimators': 130}",
          "{'max_depth': 3, 'max_features': 'log2', 'min_samples_split': 6, 'n_estimators': 50}",
          "{'max_depth': 3, 'max_features': 'log2', 'min_samples_split': 6, 'n_estimators': 80}",
          "{'max_depth': 3, 'max_features': 'log2', 'min_samples_split': 6, 'n_estimators': 110}",
          "{'max_depth': 3, 'max_features': 'log2', 'min_samples_split': 6, 'n_estimators': 130}",
          "{'max_depth': 3, 'max_features': 'log2', 'min_samples_split': 9, 'n_estimators': 50}",
          "{'max_depth': 3, 'max_features': 'log2', 'min_samples_split': 9, 'n_estimators': 80}",
          "{'max_depth': 3, 'max_features': 'log2', 'min_samples_split': 9, 'n_estimators': 110}",
          "{'max_depth': 3, 'max_features': 'log2', 'min_samples_split': 9, 'n_estimators': 130}",
          "{'max_depth': 3, 'max_features': 'log2', 'min_samples_split': 12, 'n_estimators': 50}",
          "{'max_depth': 3, 'max_features': 'log2', 'min_samples_split': 12, 'n_estimators': 80}",
          "{'max_depth': 3, 'max_features': 'log2', 'min_samples_split': 12, 'n_estimators': 110}",
          "{'max_depth': 3, 'max_features': 'log2', 'min_samples_split': 12, 'n_estimators': 130}",
          "{'max_depth': 6, 'max_features': 'sqrt', 'min_samples_split': 3, 'n_estimators': 50}",
          "{'max_depth': 6, 'max_features': 'sqrt', 'min_samples_split': 3, 'n_estimators': 80}",
          "{'max_depth': 6, 'max_features': 'sqrt', 'min_samples_split': 3, 'n_estimators': 110}",
          "{'max_depth': 6, 'max_features': 'sqrt', 'min_samples_split': 3, 'n_estimators': 130}",
          "{'max_depth': 6, 'max_features': 'sqrt', 'min_samples_split': 6, 'n_estimators': 50}",
          "{'max_depth': 6, 'max_features': 'sqrt', 'min_samples_split': 6, 'n_estimators': 80}",
          "{'max_depth': 6, 'max_features': 'sqrt', 'min_samples_split': 6, 'n_estimators': 110}",
          "{'max_depth': 6, 'max_features': 'sqrt', 'min_samples_split': 6, 'n_estimators': 130}",
          "{'max_depth': 6, 'max_features': 'sqrt', 'min_samples_split': 9, 'n_estimators': 50}",
          "{'max_depth': 6, 'max_features': 'sqrt', 'min_samples_split': 9, 'n_estimators': 80}",
          "{'max_depth': 6, 'max_features': 'sqrt', 'min_samples_split': 9, 'n_estimators': 110}",
          "{'max_depth': 6, 'max_features': 'sqrt', 'min_samples_split': 9, 'n_estimators': 130}",
          "{'max_depth': 6, 'max_features': 'sqrt', 'min_samples_split': 12, 'n_estimators': 50}",
          "{'max_depth': 6, 'max_features': 'sqrt', 'min_samples_split': 12, 'n_estimators': 80}",
          "{'max_depth': 6, 'max_features': 'sqrt', 'min_samples_split': 12, 'n_estimators': 110}",
          "{'max_depth': 6, 'max_features': 'sqrt', 'min_samples_split': 12, 'n_estimators': 130}",
          "{'max_depth': 6, 'max_features': 'log2', 'min_samples_split': 3, 'n_estimators': 50}",
          "{'max_depth': 6, 'max_features': 'log2', 'min_samples_split': 3, 'n_estimators': 80}",
          "{'max_depth': 6, 'max_features': 'log2', 'min_samples_split': 3, 'n_estimators': 110}",
          "{'max_depth': 6, 'max_features': 'log2', 'min_samples_split': 3, 'n_estimators': 130}",
          "{'max_depth': 6, 'max_features': 'log2', 'min_samples_split': 6, 'n_estimators': 50}",
          "{'max_depth': 6, 'max_features': 'log2', 'min_samples_split': 6, 'n_estimators': 80}",
          "{'max_depth': 6, 'max_features': 'log2', 'min_samples_split': 6, 'n_estimators': 110}",
          "{'max_depth': 6, 'max_features': 'log2', 'min_samples_split': 6, 'n_estimators': 130}",
          "{'max_depth': 6, 'max_features': 'log2', 'min_samples_split': 9, 'n_estimators': 50}",
          "{'max_depth': 6, 'max_features': 'log2', 'min_samples_split': 9, 'n_estimators': 80}",
          "{'max_depth': 6, 'max_features': 'log2', 'min_samples_split': 9, 'n_estimators': 110}",
          "{'max_depth': 6, 'max_features': 'log2', 'min_samples_split': 9, 'n_estimators': 130}",
          "{'max_depth': 6, 'max_features': 'log2', 'min_samples_split': 12, 'n_estimators': 50}",
          "{'max_depth': 6, 'max_features': 'log2', 'min_samples_split': 12, 'n_estimators': 80}",
          "{'max_depth': 6, 'max_features': 'log2', 'min_samples_split': 12, 'n_estimators': 110}",
          "{'max_depth': 6, 'max_features': 'log2', 'min_samples_split': 12, 'n_estimators': 130}",
          "{'max_depth': 9, 'max_features': 'sqrt', 'min_samples_split': 3, 'n_estimators': 50}",
          "{'max_depth': 9, 'max_features': 'sqrt', 'min_samples_split': 3, 'n_estimators': 80}",
          "{'max_depth': 9, 'max_features': 'sqrt', 'min_samples_split': 3, 'n_estimators': 110}",
          "{'max_depth': 9, 'max_features': 'sqrt', 'min_samples_split': 3, 'n_estimators': 130}",
          "{'max_depth': 9, 'max_features': 'sqrt', 'min_samples_split': 6, 'n_estimators': 50}",
          "{'max_depth': 9, 'max_features': 'sqrt', 'min_samples_split': 6, 'n_estimators': 80}",
          "{'max_depth': 9, 'max_features': 'sqrt', 'min_samples_split': 6, 'n_estimators': 110}",
          "{'max_depth': 9, 'max_features': 'sqrt', 'min_samples_split': 6, 'n_estimators': 130}",
          "{'max_depth': 9, 'max_features': 'sqrt', 'min_samples_split': 9, 'n_estimators': 50}",
          "{'max_depth': 9, 'max_features': 'sqrt', 'min_samples_split': 9, 'n_estimators': 80}",
          "{'max_depth': 9, 'max_features': 'sqrt', 'min_samples_split': 9, 'n_estimators': 110}",
          "{'max_depth': 9, 'max_features': 'sqrt', 'min_samples_split': 9, 'n_estimators': 130}",
          "{'max_depth': 9, 'max_features': 'sqrt', 'min_samples_split': 12, 'n_estimators': 50}",
          "{'max_depth': 9, 'max_features': 'sqrt', 'min_samples_split': 12, 'n_estimators': 80}",
          "{'max_depth': 9, 'max_features': 'sqrt', 'min_samples_split': 12, 'n_estimators': 110}",
          "{'max_depth': 9, 'max_features': 'sqrt', 'min_samples_split': 12, 'n_estimators': 130}",
          "{'max_depth': 9, 'max_features': 'log2', 'min_samples_split': 3, 'n_estimators': 50}",
          "{'max_depth': 9, 'max_features': 'log2', 'min_samples_split': 3, 'n_estimators': 80}",
          "{'max_depth': 9, 'max_features': 'log2', 'min_samples_split': 3, 'n_estimators': 110}",
          "{'max_depth': 9, 'max_features': 'log2', 'min_samples_split': 3, 'n_estimators': 130}",
          "{'max_depth': 9, 'max_features': 'log2', 'min_samples_split': 6, 'n_estimators': 50}",
          "{'max_depth': 9, 'max_features': 'log2', 'min_samples_split': 6, 'n_estimators': 80}",
          "{'max_depth': 9, 'max_features': 'log2', 'min_samples_split': 6, 'n_estimators': 110}",
          "{'max_depth': 9, 'max_features': 'log2', 'min_samples_split': 6, 'n_estimators': 130}",
          "{'max_depth': 9, 'max_features': 'log2', 'min_samples_split': 9, 'n_estimators': 50}",
          "{'max_depth': 9, 'max_features': 'log2', 'min_samples_split': 9, 'n_estimators': 80}",
          "{'max_depth': 9, 'max_features': 'log2', 'min_samples_split': 9, 'n_estimators': 110}",
          "{'max_depth': 9, 'max_features': 'log2', 'min_samples_split': 9, 'n_estimators': 130}",
          "{'max_depth': 9, 'max_features': 'log2', 'min_samples_split': 12, 'n_estimators': 50}",
          "{'max_depth': 9, 'max_features': 'log2', 'min_samples_split': 12, 'n_estimators': 80}",
          "{'max_depth': 9, 'max_features': 'log2', 'min_samples_split': 12, 'n_estimators': 110}",
          "{'max_depth': 9, 'max_features': 'log2', 'min_samples_split': 12, 'n_estimators': 130}"
         ],
         "legendgroup": "train",
         "marker": {
          "color": "#EF553B",
          "pattern": {
           "shape": ""
          }
         },
         "name": "train",
         "offsetgroup": "train",
         "orientation": "v",
         "showlegend": true,
         "textposition": "auto",
         "type": "bar",
         "x": [
          0,
          1,
          2,
          3,
          4,
          5,
          6,
          7,
          8,
          9,
          10,
          11,
          12,
          13,
          14,
          15,
          16,
          17,
          18,
          19,
          20,
          21,
          22,
          23,
          24,
          25,
          26,
          27,
          28,
          29,
          30,
          31,
          32,
          33,
          34,
          35,
          36,
          37,
          38,
          39,
          40,
          41,
          42,
          43,
          44,
          45,
          46,
          47,
          48,
          49,
          50,
          51,
          52,
          53,
          54,
          55,
          56,
          57,
          58,
          59,
          60,
          61,
          62,
          63,
          64,
          65,
          66,
          67,
          68,
          69,
          70,
          71,
          72,
          73,
          74,
          75,
          76,
          77,
          78,
          79,
          80,
          81,
          82,
          83,
          84,
          85,
          86,
          87,
          88,
          89,
          90,
          91,
          92,
          93,
          94,
          95
         ],
         "xaxis": "x",
         "y": [
          0.17206180812558153,
          0.16680254648690648,
          0.17235260669628671,
          0.1572935648337531,
          0.16709499439994055,
          0.1684879689600617,
          0.16526159814141247,
          0.1644461704432796,
          0.16916457960808073,
          0.1646070742830399,
          0.1626804379090327,
          0.16210251167491344,
          0.17309400408034112,
          0.1648979728255054,
          0.165103322650854,
          0.16623172961239155,
          0.1593919640549951,
          0.1732588937220732,
          0.16098610837127725,
          0.170773705218697,
          0.16375660465372927,
          0.16224912615132694,
          0.15536160356991063,
          0.1595275533865715,
          0.16282558765632432,
          0.16720161486645735,
          0.1692264272808091,
          0.15528366518931183,
          0.16409204923619802,
          0.15896684631430147,
          0.15782098851933937,
          0.156394090734797,
          0.42985188108455075,
          0.42972477878124293,
          0.4213534402707834,
          0.4264396077128292,
          0.4450556466630499,
          0.4171758146324339,
          0.4186202130764903,
          0.4280030613470863,
          0.42469753116710257,
          0.42081850184613306,
          0.4118291816613091,
          0.4150440635771684,
          0.43296563836677865,
          0.41112789408361666,
          0.4106304111412763,
          0.40179290169985926,
          0.42340863222879915,
          0.4293891409973659,
          0.423980394032147,
          0.422584312738645,
          0.4269659154062747,
          0.433206316936486,
          0.4300813969220395,
          0.4171825915549198,
          0.4153565519488714,
          0.420970362277028,
          0.43201524141936715,
          0.4130482155539729,
          0.41681735535559367,
          0.4094273698192021,
          0.4100175047823938,
          0.4070615543436863,
          0.6609101832380846,
          0.6578858988810034,
          0.6660670641915696,
          0.6594455158990519,
          0.6430497614271575,
          0.6447328136764539,
          0.6426976444699823,
          0.6470736298289308,
          0.6472546721262523,
          0.6354645385706892,
          0.6261623981763045,
          0.6280193052998604,
          0.6165646697709304,
          0.6267252834066256,
          0.6113304052634939,
          0.6118533443225079,
          0.6582887562513481,
          0.6658900956666794,
          0.6693681620263455,
          0.6602822767617939,
          0.6409835900222336,
          0.6408662653403128,
          0.648833452190814,
          0.6462992169757398,
          0.6277160928293538,
          0.6263905131172158,
          0.6296514160895406,
          0.6285449399671387,
          0.6094882310739266,
          0.6151317304082906,
          0.6083763005539754,
          0.6085025335442363
         ],
         "yaxis": "y"
        }
       ],
       "layout": {
        "barmode": "group",
        "legend": {
         "title": {
          "text": "type"
         },
         "tracegroupgap": 0
        },
        "template": {
         "data": {
          "bar": [
           {
            "error_x": {
             "color": "#2a3f5f"
            },
            "error_y": {
             "color": "#2a3f5f"
            },
            "marker": {
             "line": {
              "color": "#E5ECF6",
              "width": 0.5
             },
             "pattern": {
              "fillmode": "overlay",
              "size": 10,
              "solidity": 0.2
             }
            },
            "type": "bar"
           }
          ],
          "barpolar": [
           {
            "marker": {
             "line": {
              "color": "#E5ECF6",
              "width": 0.5
             },
             "pattern": {
              "fillmode": "overlay",
              "size": 10,
              "solidity": 0.2
             }
            },
            "type": "barpolar"
           }
          ],
          "carpet": [
           {
            "aaxis": {
             "endlinecolor": "#2a3f5f",
             "gridcolor": "white",
             "linecolor": "white",
             "minorgridcolor": "white",
             "startlinecolor": "#2a3f5f"
            },
            "baxis": {
             "endlinecolor": "#2a3f5f",
             "gridcolor": "white",
             "linecolor": "white",
             "minorgridcolor": "white",
             "startlinecolor": "#2a3f5f"
            },
            "type": "carpet"
           }
          ],
          "choropleth": [
           {
            "colorbar": {
             "outlinewidth": 0,
             "ticks": ""
            },
            "type": "choropleth"
           }
          ],
          "contour": [
           {
            "colorbar": {
             "outlinewidth": 0,
             "ticks": ""
            },
            "colorscale": [
             [
              0.0,
              "#0d0887"
             ],
             [
              0.1111111111111111,
              "#46039f"
             ],
             [
              0.2222222222222222,
              "#7201a8"
             ],
             [
              0.3333333333333333,
              "#9c179e"
             ],
             [
              0.4444444444444444,
              "#bd3786"
             ],
             [
              0.5555555555555556,
              "#d8576b"
             ],
             [
              0.6666666666666666,
              "#ed7953"
             ],
             [
              0.7777777777777778,
              "#fb9f3a"
             ],
             [
              0.8888888888888888,
              "#fdca26"
             ],
             [
              1.0,
              "#f0f921"
             ]
            ],
            "type": "contour"
           }
          ],
          "contourcarpet": [
           {
            "colorbar": {
             "outlinewidth": 0,
             "ticks": ""
            },
            "type": "contourcarpet"
           }
          ],
          "heatmap": [
           {
            "colorbar": {
             "outlinewidth": 0,
             "ticks": ""
            },
            "colorscale": [
             [
              0.0,
              "#0d0887"
             ],
             [
              0.1111111111111111,
              "#46039f"
             ],
             [
              0.2222222222222222,
              "#7201a8"
             ],
             [
              0.3333333333333333,
              "#9c179e"
             ],
             [
              0.4444444444444444,
              "#bd3786"
             ],
             [
              0.5555555555555556,
              "#d8576b"
             ],
             [
              0.6666666666666666,
              "#ed7953"
             ],
             [
              0.7777777777777778,
              "#fb9f3a"
             ],
             [
              0.8888888888888888,
              "#fdca26"
             ],
             [
              1.0,
              "#f0f921"
             ]
            ],
            "type": "heatmap"
           }
          ],
          "heatmapgl": [
           {
            "colorbar": {
             "outlinewidth": 0,
             "ticks": ""
            },
            "colorscale": [
             [
              0.0,
              "#0d0887"
             ],
             [
              0.1111111111111111,
              "#46039f"
             ],
             [
              0.2222222222222222,
              "#7201a8"
             ],
             [
              0.3333333333333333,
              "#9c179e"
             ],
             [
              0.4444444444444444,
              "#bd3786"
             ],
             [
              0.5555555555555556,
              "#d8576b"
             ],
             [
              0.6666666666666666,
              "#ed7953"
             ],
             [
              0.7777777777777778,
              "#fb9f3a"
             ],
             [
              0.8888888888888888,
              "#fdca26"
             ],
             [
              1.0,
              "#f0f921"
             ]
            ],
            "type": "heatmapgl"
           }
          ],
          "histogram": [
           {
            "marker": {
             "pattern": {
              "fillmode": "overlay",
              "size": 10,
              "solidity": 0.2
             }
            },
            "type": "histogram"
           }
          ],
          "histogram2d": [
           {
            "colorbar": {
             "outlinewidth": 0,
             "ticks": ""
            },
            "colorscale": [
             [
              0.0,
              "#0d0887"
             ],
             [
              0.1111111111111111,
              "#46039f"
             ],
             [
              0.2222222222222222,
              "#7201a8"
             ],
             [
              0.3333333333333333,
              "#9c179e"
             ],
             [
              0.4444444444444444,
              "#bd3786"
             ],
             [
              0.5555555555555556,
              "#d8576b"
             ],
             [
              0.6666666666666666,
              "#ed7953"
             ],
             [
              0.7777777777777778,
              "#fb9f3a"
             ],
             [
              0.8888888888888888,
              "#fdca26"
             ],
             [
              1.0,
              "#f0f921"
             ]
            ],
            "type": "histogram2d"
           }
          ],
          "histogram2dcontour": [
           {
            "colorbar": {
             "outlinewidth": 0,
             "ticks": ""
            },
            "colorscale": [
             [
              0.0,
              "#0d0887"
             ],
             [
              0.1111111111111111,
              "#46039f"
             ],
             [
              0.2222222222222222,
              "#7201a8"
             ],
             [
              0.3333333333333333,
              "#9c179e"
             ],
             [
              0.4444444444444444,
              "#bd3786"
             ],
             [
              0.5555555555555556,
              "#d8576b"
             ],
             [
              0.6666666666666666,
              "#ed7953"
             ],
             [
              0.7777777777777778,
              "#fb9f3a"
             ],
             [
              0.8888888888888888,
              "#fdca26"
             ],
             [
              1.0,
              "#f0f921"
             ]
            ],
            "type": "histogram2dcontour"
           }
          ],
          "mesh3d": [
           {
            "colorbar": {
             "outlinewidth": 0,
             "ticks": ""
            },
            "type": "mesh3d"
           }
          ],
          "parcoords": [
           {
            "line": {
             "colorbar": {
              "outlinewidth": 0,
              "ticks": ""
             }
            },
            "type": "parcoords"
           }
          ],
          "pie": [
           {
            "automargin": true,
            "type": "pie"
           }
          ],
          "scatter": [
           {
            "marker": {
             "colorbar": {
              "outlinewidth": 0,
              "ticks": ""
             }
            },
            "type": "scatter"
           }
          ],
          "scatter3d": [
           {
            "line": {
             "colorbar": {
              "outlinewidth": 0,
              "ticks": ""
             }
            },
            "marker": {
             "colorbar": {
              "outlinewidth": 0,
              "ticks": ""
             }
            },
            "type": "scatter3d"
           }
          ],
          "scattercarpet": [
           {
            "marker": {
             "colorbar": {
              "outlinewidth": 0,
              "ticks": ""
             }
            },
            "type": "scattercarpet"
           }
          ],
          "scattergeo": [
           {
            "marker": {
             "colorbar": {
              "outlinewidth": 0,
              "ticks": ""
             }
            },
            "type": "scattergeo"
           }
          ],
          "scattergl": [
           {
            "marker": {
             "colorbar": {
              "outlinewidth": 0,
              "ticks": ""
             }
            },
            "type": "scattergl"
           }
          ],
          "scattermapbox": [
           {
            "marker": {
             "colorbar": {
              "outlinewidth": 0,
              "ticks": ""
             }
            },
            "type": "scattermapbox"
           }
          ],
          "scatterpolar": [
           {
            "marker": {
             "colorbar": {
              "outlinewidth": 0,
              "ticks": ""
             }
            },
            "type": "scatterpolar"
           }
          ],
          "scatterpolargl": [
           {
            "marker": {
             "colorbar": {
              "outlinewidth": 0,
              "ticks": ""
             }
            },
            "type": "scatterpolargl"
           }
          ],
          "scatterternary": [
           {
            "marker": {
             "colorbar": {
              "outlinewidth": 0,
              "ticks": ""
             }
            },
            "type": "scatterternary"
           }
          ],
          "surface": [
           {
            "colorbar": {
             "outlinewidth": 0,
             "ticks": ""
            },
            "colorscale": [
             [
              0.0,
              "#0d0887"
             ],
             [
              0.1111111111111111,
              "#46039f"
             ],
             [
              0.2222222222222222,
              "#7201a8"
             ],
             [
              0.3333333333333333,
              "#9c179e"
             ],
             [
              0.4444444444444444,
              "#bd3786"
             ],
             [
              0.5555555555555556,
              "#d8576b"
             ],
             [
              0.6666666666666666,
              "#ed7953"
             ],
             [
              0.7777777777777778,
              "#fb9f3a"
             ],
             [
              0.8888888888888888,
              "#fdca26"
             ],
             [
              1.0,
              "#f0f921"
             ]
            ],
            "type": "surface"
           }
          ],
          "table": [
           {
            "cells": {
             "fill": {
              "color": "#EBF0F8"
             },
             "line": {
              "color": "white"
             }
            },
            "header": {
             "fill": {
              "color": "#C8D4E3"
             },
             "line": {
              "color": "white"
             }
            },
            "type": "table"
           }
          ]
         },
         "layout": {
          "annotationdefaults": {
           "arrowcolor": "#2a3f5f",
           "arrowhead": 0,
           "arrowwidth": 1
          },
          "autotypenumbers": "strict",
          "coloraxis": {
           "colorbar": {
            "outlinewidth": 0,
            "ticks": ""
           }
          },
          "colorscale": {
           "diverging": [
            [
             0,
             "#8e0152"
            ],
            [
             0.1,
             "#c51b7d"
            ],
            [
             0.2,
             "#de77ae"
            ],
            [
             0.3,
             "#f1b6da"
            ],
            [
             0.4,
             "#fde0ef"
            ],
            [
             0.5,
             "#f7f7f7"
            ],
            [
             0.6,
             "#e6f5d0"
            ],
            [
             0.7,
             "#b8e186"
            ],
            [
             0.8,
             "#7fbc41"
            ],
            [
             0.9,
             "#4d9221"
            ],
            [
             1,
             "#276419"
            ]
           ],
           "sequential": [
            [
             0.0,
             "#0d0887"
            ],
            [
             0.1111111111111111,
             "#46039f"
            ],
            [
             0.2222222222222222,
             "#7201a8"
            ],
            [
             0.3333333333333333,
             "#9c179e"
            ],
            [
             0.4444444444444444,
             "#bd3786"
            ],
            [
             0.5555555555555556,
             "#d8576b"
            ],
            [
             0.6666666666666666,
             "#ed7953"
            ],
            [
             0.7777777777777778,
             "#fb9f3a"
            ],
            [
             0.8888888888888888,
             "#fdca26"
            ],
            [
             1.0,
             "#f0f921"
            ]
           ],
           "sequentialminus": [
            [
             0.0,
             "#0d0887"
            ],
            [
             0.1111111111111111,
             "#46039f"
            ],
            [
             0.2222222222222222,
             "#7201a8"
            ],
            [
             0.3333333333333333,
             "#9c179e"
            ],
            [
             0.4444444444444444,
             "#bd3786"
            ],
            [
             0.5555555555555556,
             "#d8576b"
            ],
            [
             0.6666666666666666,
             "#ed7953"
            ],
            [
             0.7777777777777778,
             "#fb9f3a"
            ],
            [
             0.8888888888888888,
             "#fdca26"
            ],
            [
             1.0,
             "#f0f921"
            ]
           ]
          },
          "colorway": [
           "#636efa",
           "#EF553B",
           "#00cc96",
           "#ab63fa",
           "#FFA15A",
           "#19d3f3",
           "#FF6692",
           "#B6E880",
           "#FF97FF",
           "#FECB52"
          ],
          "font": {
           "color": "#2a3f5f"
          },
          "geo": {
           "bgcolor": "white",
           "lakecolor": "white",
           "landcolor": "#E5ECF6",
           "showlakes": true,
           "showland": true,
           "subunitcolor": "white"
          },
          "hoverlabel": {
           "align": "left"
          },
          "hovermode": "closest",
          "mapbox": {
           "style": "light"
          },
          "paper_bgcolor": "white",
          "plot_bgcolor": "#E5ECF6",
          "polar": {
           "angularaxis": {
            "gridcolor": "white",
            "linecolor": "white",
            "ticks": ""
           },
           "bgcolor": "#E5ECF6",
           "radialaxis": {
            "gridcolor": "white",
            "linecolor": "white",
            "ticks": ""
           }
          },
          "scene": {
           "xaxis": {
            "backgroundcolor": "#E5ECF6",
            "gridcolor": "white",
            "gridwidth": 2,
            "linecolor": "white",
            "showbackground": true,
            "ticks": "",
            "zerolinecolor": "white"
           },
           "yaxis": {
            "backgroundcolor": "#E5ECF6",
            "gridcolor": "white",
            "gridwidth": 2,
            "linecolor": "white",
            "showbackground": true,
            "ticks": "",
            "zerolinecolor": "white"
           },
           "zaxis": {
            "backgroundcolor": "#E5ECF6",
            "gridcolor": "white",
            "gridwidth": 2,
            "linecolor": "white",
            "showbackground": true,
            "ticks": "",
            "zerolinecolor": "white"
           }
          },
          "shapedefaults": {
           "line": {
            "color": "#2a3f5f"
           }
          },
          "ternary": {
           "aaxis": {
            "gridcolor": "white",
            "linecolor": "white",
            "ticks": ""
           },
           "baxis": {
            "gridcolor": "white",
            "linecolor": "white",
            "ticks": ""
           },
           "bgcolor": "#E5ECF6",
           "caxis": {
            "gridcolor": "white",
            "linecolor": "white",
            "ticks": ""
           }
          },
          "title": {
           "x": 0.05
          },
          "xaxis": {
           "automargin": true,
           "gridcolor": "white",
           "linecolor": "white",
           "ticks": "",
           "title": {
            "standoff": 15
           },
           "zerolinecolor": "white",
           "zerolinewidth": 2
          },
          "yaxis": {
           "automargin": true,
           "gridcolor": "white",
           "linecolor": "white",
           "ticks": "",
           "title": {
            "standoff": 15
           },
           "zerolinecolor": "white",
           "zerolinewidth": 2
          }
         }
        },
        "title": {
         "text": "Mean f1 score on testing and training set for each parameter combination <br> (Model: RandomForest Classifier, Dataset: Mean imputation for individuals with 3 MV)"
        },
        "xaxis": {
         "anchor": "y",
         "domain": [
          0.0,
          1.0
         ],
         "title": {
          "text": "Params"
         }
        },
        "yaxis": {
         "anchor": "x",
         "domain": [
          0.0,
          1.0
         ],
         "title": {
          "text": "Average f1"
         }
        }
       }
      },
      "text/html": "<div>                            <div id=\"49cf375f-9769-43d3-a10d-285c71bc74da\" class=\"plotly-graph-div\" style=\"height:525px; width:100%;\"></div>            <script type=\"text/javascript\">                require([\"plotly\"], function(Plotly) {                    window.PLOTLYENV=window.PLOTLYENV || {};                                    if (document.getElementById(\"49cf375f-9769-43d3-a10d-285c71bc74da\")) {                    Plotly.newPlot(                        \"49cf375f-9769-43d3-a10d-285c71bc74da\",                        [{\"alignmentgroup\":\"True\",\"customdata\":[[\"{'max_depth': 3, 'max_features': 'sqrt', 'min_samples_split': 3, 'n_estimators': 50}\"],[\"{'max_depth': 3, 'max_features': 'sqrt', 'min_samples_split': 3, 'n_estimators': 80}\"],[\"{'max_depth': 3, 'max_features': 'sqrt', 'min_samples_split': 3, 'n_estimators': 110}\"],[\"{'max_depth': 3, 'max_features': 'sqrt', 'min_samples_split': 3, 'n_estimators': 130}\"],[\"{'max_depth': 3, 'max_features': 'sqrt', 'min_samples_split': 6, 'n_estimators': 50}\"],[\"{'max_depth': 3, 'max_features': 'sqrt', 'min_samples_split': 6, 'n_estimators': 80}\"],[\"{'max_depth': 3, 'max_features': 'sqrt', 'min_samples_split': 6, 'n_estimators': 110}\"],[\"{'max_depth': 3, 'max_features': 'sqrt', 'min_samples_split': 6, 'n_estimators': 130}\"],[\"{'max_depth': 3, 'max_features': 'sqrt', 'min_samples_split': 9, 'n_estimators': 50}\"],[\"{'max_depth': 3, 'max_features': 'sqrt', 'min_samples_split': 9, 'n_estimators': 80}\"],[\"{'max_depth': 3, 'max_features': 'sqrt', 'min_samples_split': 9, 'n_estimators': 110}\"],[\"{'max_depth': 3, 'max_features': 'sqrt', 'min_samples_split': 9, 'n_estimators': 130}\"],[\"{'max_depth': 3, 'max_features': 'sqrt', 'min_samples_split': 12, 'n_estimators': 50}\"],[\"{'max_depth': 3, 'max_features': 'sqrt', 'min_samples_split': 12, 'n_estimators': 80}\"],[\"{'max_depth': 3, 'max_features': 'sqrt', 'min_samples_split': 12, 'n_estimators': 110}\"],[\"{'max_depth': 3, 'max_features': 'sqrt', 'min_samples_split': 12, 'n_estimators': 130}\"],[\"{'max_depth': 3, 'max_features': 'log2', 'min_samples_split': 3, 'n_estimators': 50}\"],[\"{'max_depth': 3, 'max_features': 'log2', 'min_samples_split': 3, 'n_estimators': 80}\"],[\"{'max_depth': 3, 'max_features': 'log2', 'min_samples_split': 3, 'n_estimators': 110}\"],[\"{'max_depth': 3, 'max_features': 'log2', 'min_samples_split': 3, 'n_estimators': 130}\"],[\"{'max_depth': 3, 'max_features': 'log2', 'min_samples_split': 6, 'n_estimators': 50}\"],[\"{'max_depth': 3, 'max_features': 'log2', 'min_samples_split': 6, 'n_estimators': 80}\"],[\"{'max_depth': 3, 'max_features': 'log2', 'min_samples_split': 6, 'n_estimators': 110}\"],[\"{'max_depth': 3, 'max_features': 'log2', 'min_samples_split': 6, 'n_estimators': 130}\"],[\"{'max_depth': 3, 'max_features': 'log2', 'min_samples_split': 9, 'n_estimators': 50}\"],[\"{'max_depth': 3, 'max_features': 'log2', 'min_samples_split': 9, 'n_estimators': 80}\"],[\"{'max_depth': 3, 'max_features': 'log2', 'min_samples_split': 9, 'n_estimators': 110}\"],[\"{'max_depth': 3, 'max_features': 'log2', 'min_samples_split': 9, 'n_estimators': 130}\"],[\"{'max_depth': 3, 'max_features': 'log2', 'min_samples_split': 12, 'n_estimators': 50}\"],[\"{'max_depth': 3, 'max_features': 'log2', 'min_samples_split': 12, 'n_estimators': 80}\"],[\"{'max_depth': 3, 'max_features': 'log2', 'min_samples_split': 12, 'n_estimators': 110}\"],[\"{'max_depth': 3, 'max_features': 'log2', 'min_samples_split': 12, 'n_estimators': 130}\"],[\"{'max_depth': 6, 'max_features': 'sqrt', 'min_samples_split': 3, 'n_estimators': 50}\"],[\"{'max_depth': 6, 'max_features': 'sqrt', 'min_samples_split': 3, 'n_estimators': 80}\"],[\"{'max_depth': 6, 'max_features': 'sqrt', 'min_samples_split': 3, 'n_estimators': 110}\"],[\"{'max_depth': 6, 'max_features': 'sqrt', 'min_samples_split': 3, 'n_estimators': 130}\"],[\"{'max_depth': 6, 'max_features': 'sqrt', 'min_samples_split': 6, 'n_estimators': 50}\"],[\"{'max_depth': 6, 'max_features': 'sqrt', 'min_samples_split': 6, 'n_estimators': 80}\"],[\"{'max_depth': 6, 'max_features': 'sqrt', 'min_samples_split': 6, 'n_estimators': 110}\"],[\"{'max_depth': 6, 'max_features': 'sqrt', 'min_samples_split': 6, 'n_estimators': 130}\"],[\"{'max_depth': 6, 'max_features': 'sqrt', 'min_samples_split': 9, 'n_estimators': 50}\"],[\"{'max_depth': 6, 'max_features': 'sqrt', 'min_samples_split': 9, 'n_estimators': 80}\"],[\"{'max_depth': 6, 'max_features': 'sqrt', 'min_samples_split': 9, 'n_estimators': 110}\"],[\"{'max_depth': 6, 'max_features': 'sqrt', 'min_samples_split': 9, 'n_estimators': 130}\"],[\"{'max_depth': 6, 'max_features': 'sqrt', 'min_samples_split': 12, 'n_estimators': 50}\"],[\"{'max_depth': 6, 'max_features': 'sqrt', 'min_samples_split': 12, 'n_estimators': 80}\"],[\"{'max_depth': 6, 'max_features': 'sqrt', 'min_samples_split': 12, 'n_estimators': 110}\"],[\"{'max_depth': 6, 'max_features': 'sqrt', 'min_samples_split': 12, 'n_estimators': 130}\"],[\"{'max_depth': 6, 'max_features': 'log2', 'min_samples_split': 3, 'n_estimators': 50}\"],[\"{'max_depth': 6, 'max_features': 'log2', 'min_samples_split': 3, 'n_estimators': 80}\"],[\"{'max_depth': 6, 'max_features': 'log2', 'min_samples_split': 3, 'n_estimators': 110}\"],[\"{'max_depth': 6, 'max_features': 'log2', 'min_samples_split': 3, 'n_estimators': 130}\"],[\"{'max_depth': 6, 'max_features': 'log2', 'min_samples_split': 6, 'n_estimators': 50}\"],[\"{'max_depth': 6, 'max_features': 'log2', 'min_samples_split': 6, 'n_estimators': 80}\"],[\"{'max_depth': 6, 'max_features': 'log2', 'min_samples_split': 6, 'n_estimators': 110}\"],[\"{'max_depth': 6, 'max_features': 'log2', 'min_samples_split': 6, 'n_estimators': 130}\"],[\"{'max_depth': 6, 'max_features': 'log2', 'min_samples_split': 9, 'n_estimators': 50}\"],[\"{'max_depth': 6, 'max_features': 'log2', 'min_samples_split': 9, 'n_estimators': 80}\"],[\"{'max_depth': 6, 'max_features': 'log2', 'min_samples_split': 9, 'n_estimators': 110}\"],[\"{'max_depth': 6, 'max_features': 'log2', 'min_samples_split': 9, 'n_estimators': 130}\"],[\"{'max_depth': 6, 'max_features': 'log2', 'min_samples_split': 12, 'n_estimators': 50}\"],[\"{'max_depth': 6, 'max_features': 'log2', 'min_samples_split': 12, 'n_estimators': 80}\"],[\"{'max_depth': 6, 'max_features': 'log2', 'min_samples_split': 12, 'n_estimators': 110}\"],[\"{'max_depth': 6, 'max_features': 'log2', 'min_samples_split': 12, 'n_estimators': 130}\"],[\"{'max_depth': 9, 'max_features': 'sqrt', 'min_samples_split': 3, 'n_estimators': 50}\"],[\"{'max_depth': 9, 'max_features': 'sqrt', 'min_samples_split': 3, 'n_estimators': 80}\"],[\"{'max_depth': 9, 'max_features': 'sqrt', 'min_samples_split': 3, 'n_estimators': 110}\"],[\"{'max_depth': 9, 'max_features': 'sqrt', 'min_samples_split': 3, 'n_estimators': 130}\"],[\"{'max_depth': 9, 'max_features': 'sqrt', 'min_samples_split': 6, 'n_estimators': 50}\"],[\"{'max_depth': 9, 'max_features': 'sqrt', 'min_samples_split': 6, 'n_estimators': 80}\"],[\"{'max_depth': 9, 'max_features': 'sqrt', 'min_samples_split': 6, 'n_estimators': 110}\"],[\"{'max_depth': 9, 'max_features': 'sqrt', 'min_samples_split': 6, 'n_estimators': 130}\"],[\"{'max_depth': 9, 'max_features': 'sqrt', 'min_samples_split': 9, 'n_estimators': 50}\"],[\"{'max_depth': 9, 'max_features': 'sqrt', 'min_samples_split': 9, 'n_estimators': 80}\"],[\"{'max_depth': 9, 'max_features': 'sqrt', 'min_samples_split': 9, 'n_estimators': 110}\"],[\"{'max_depth': 9, 'max_features': 'sqrt', 'min_samples_split': 9, 'n_estimators': 130}\"],[\"{'max_depth': 9, 'max_features': 'sqrt', 'min_samples_split': 12, 'n_estimators': 50}\"],[\"{'max_depth': 9, 'max_features': 'sqrt', 'min_samples_split': 12, 'n_estimators': 80}\"],[\"{'max_depth': 9, 'max_features': 'sqrt', 'min_samples_split': 12, 'n_estimators': 110}\"],[\"{'max_depth': 9, 'max_features': 'sqrt', 'min_samples_split': 12, 'n_estimators': 130}\"],[\"{'max_depth': 9, 'max_features': 'log2', 'min_samples_split': 3, 'n_estimators': 50}\"],[\"{'max_depth': 9, 'max_features': 'log2', 'min_samples_split': 3, 'n_estimators': 80}\"],[\"{'max_depth': 9, 'max_features': 'log2', 'min_samples_split': 3, 'n_estimators': 110}\"],[\"{'max_depth': 9, 'max_features': 'log2', 'min_samples_split': 3, 'n_estimators': 130}\"],[\"{'max_depth': 9, 'max_features': 'log2', 'min_samples_split': 6, 'n_estimators': 50}\"],[\"{'max_depth': 9, 'max_features': 'log2', 'min_samples_split': 6, 'n_estimators': 80}\"],[\"{'max_depth': 9, 'max_features': 'log2', 'min_samples_split': 6, 'n_estimators': 110}\"],[\"{'max_depth': 9, 'max_features': 'log2', 'min_samples_split': 6, 'n_estimators': 130}\"],[\"{'max_depth': 9, 'max_features': 'log2', 'min_samples_split': 9, 'n_estimators': 50}\"],[\"{'max_depth': 9, 'max_features': 'log2', 'min_samples_split': 9, 'n_estimators': 80}\"],[\"{'max_depth': 9, 'max_features': 'log2', 'min_samples_split': 9, 'n_estimators': 110}\"],[\"{'max_depth': 9, 'max_features': 'log2', 'min_samples_split': 9, 'n_estimators': 130}\"],[\"{'max_depth': 9, 'max_features': 'log2', 'min_samples_split': 12, 'n_estimators': 50}\"],[\"{'max_depth': 9, 'max_features': 'log2', 'min_samples_split': 12, 'n_estimators': 80}\"],[\"{'max_depth': 9, 'max_features': 'log2', 'min_samples_split': 12, 'n_estimators': 110}\"],[\"{'max_depth': 9, 'max_features': 'log2', 'min_samples_split': 12, 'n_estimators': 130}\"]],\"error_y\":{\"array\":[0.020666805060710565,0.025719876643264444,0.03373345396532662,0.014723870914085833,0.010889799190285127,0.020650558903068307,0.021578055527737863,0.018557052073423643,0.019898515426082983,0.03284483405294283,0.026021498744235778,0.024202023574660093,0.02075548175955034,0.041258476943708454,0.02967759677710288,0.029733320027023044,0.02368263191587772,0.019586974489226184,0.02016956834550279,0.0280268040959315,0.025598409622253824,0.02885720450259967,0.021982246036283522,0.020292576046341528,0.02522815525268245,0.016647823522345936,0.03415937956378291,0.025731231383242844,0.024721688602574083,0.024066753654698663,0.01981739832173703,0.026705441668740962,0.037675138973079565,0.01194264337274817,0.01464677242885895,0.02951568905147269,0.02224937209385571,0.02532243780362315,0.03037199986635863,0.02097528558740375,0.022464151296522687,0.0371356291021428,0.029722238751781618,0.02286853332091656,0.02988979898441418,0.01763139787245165,0.025740680485614776,0.03783533579971674,0.017753506491621437,0.021070372121734175,0.03281264954200419,0.01702509298075617,0.04117508405006116,0.04063124813889061,0.016488868237264333,0.024239306811683927,0.025824341456448126,0.03090740648060937,0.014115528040886253,0.00601928896242335,0.0321900649897863,0.0326192187273934,0.04009778426320909,0.02384479392280245,0.04458184086708674,0.040757189564566414,0.034421344461361615,0.038534806590771964,0.01899113275679997,0.04025618661422846,0.03384571383042,0.02883420075685882,0.02823823039956605,0.022060970535156453,0.033155590502836806,0.028276566791770704,0.030501725700703697,0.03862615469930163,0.03069590706871614,0.024758215502360122,0.02660629587588623,0.025286156925208303,0.03648374147989885,0.034205727132447565,0.033491893442772196,0.022379635381015738,0.03659476545814356,0.027726469117415456,0.041316063848211584,0.030915557057319003,0.03312845416671048,0.029255100960470598,0.03504710895611446,0.028669505676632703,0.044573339571358894,0.03531769529339989]},\"hovertemplate\":\"<b>%{hovertext}</b><br><br>type=test<br>Params=%{x}<br>Average f1=%{y}<br>params=%{customdata[0]}<extra></extra>\",\"hovertext\":[\"{'max_depth': 3, 'max_features': 'sqrt', 'min_samples_split': 3, 'n_estimators': 50}\",\"{'max_depth': 3, 'max_features': 'sqrt', 'min_samples_split': 3, 'n_estimators': 80}\",\"{'max_depth': 3, 'max_features': 'sqrt', 'min_samples_split': 3, 'n_estimators': 110}\",\"{'max_depth': 3, 'max_features': 'sqrt', 'min_samples_split': 3, 'n_estimators': 130}\",\"{'max_depth': 3, 'max_features': 'sqrt', 'min_samples_split': 6, 'n_estimators': 50}\",\"{'max_depth': 3, 'max_features': 'sqrt', 'min_samples_split': 6, 'n_estimators': 80}\",\"{'max_depth': 3, 'max_features': 'sqrt', 'min_samples_split': 6, 'n_estimators': 110}\",\"{'max_depth': 3, 'max_features': 'sqrt', 'min_samples_split': 6, 'n_estimators': 130}\",\"{'max_depth': 3, 'max_features': 'sqrt', 'min_samples_split': 9, 'n_estimators': 50}\",\"{'max_depth': 3, 'max_features': 'sqrt', 'min_samples_split': 9, 'n_estimators': 80}\",\"{'max_depth': 3, 'max_features': 'sqrt', 'min_samples_split': 9, 'n_estimators': 110}\",\"{'max_depth': 3, 'max_features': 'sqrt', 'min_samples_split': 9, 'n_estimators': 130}\",\"{'max_depth': 3, 'max_features': 'sqrt', 'min_samples_split': 12, 'n_estimators': 50}\",\"{'max_depth': 3, 'max_features': 'sqrt', 'min_samples_split': 12, 'n_estimators': 80}\",\"{'max_depth': 3, 'max_features': 'sqrt', 'min_samples_split': 12, 'n_estimators': 110}\",\"{'max_depth': 3, 'max_features': 'sqrt', 'min_samples_split': 12, 'n_estimators': 130}\",\"{'max_depth': 3, 'max_features': 'log2', 'min_samples_split': 3, 'n_estimators': 50}\",\"{'max_depth': 3, 'max_features': 'log2', 'min_samples_split': 3, 'n_estimators': 80}\",\"{'max_depth': 3, 'max_features': 'log2', 'min_samples_split': 3, 'n_estimators': 110}\",\"{'max_depth': 3, 'max_features': 'log2', 'min_samples_split': 3, 'n_estimators': 130}\",\"{'max_depth': 3, 'max_features': 'log2', 'min_samples_split': 6, 'n_estimators': 50}\",\"{'max_depth': 3, 'max_features': 'log2', 'min_samples_split': 6, 'n_estimators': 80}\",\"{'max_depth': 3, 'max_features': 'log2', 'min_samples_split': 6, 'n_estimators': 110}\",\"{'max_depth': 3, 'max_features': 'log2', 'min_samples_split': 6, 'n_estimators': 130}\",\"{'max_depth': 3, 'max_features': 'log2', 'min_samples_split': 9, 'n_estimators': 50}\",\"{'max_depth': 3, 'max_features': 'log2', 'min_samples_split': 9, 'n_estimators': 80}\",\"{'max_depth': 3, 'max_features': 'log2', 'min_samples_split': 9, 'n_estimators': 110}\",\"{'max_depth': 3, 'max_features': 'log2', 'min_samples_split': 9, 'n_estimators': 130}\",\"{'max_depth': 3, 'max_features': 'log2', 'min_samples_split': 12, 'n_estimators': 50}\",\"{'max_depth': 3, 'max_features': 'log2', 'min_samples_split': 12, 'n_estimators': 80}\",\"{'max_depth': 3, 'max_features': 'log2', 'min_samples_split': 12, 'n_estimators': 110}\",\"{'max_depth': 3, 'max_features': 'log2', 'min_samples_split': 12, 'n_estimators': 130}\",\"{'max_depth': 6, 'max_features': 'sqrt', 'min_samples_split': 3, 'n_estimators': 50}\",\"{'max_depth': 6, 'max_features': 'sqrt', 'min_samples_split': 3, 'n_estimators': 80}\",\"{'max_depth': 6, 'max_features': 'sqrt', 'min_samples_split': 3, 'n_estimators': 110}\",\"{'max_depth': 6, 'max_features': 'sqrt', 'min_samples_split': 3, 'n_estimators': 130}\",\"{'max_depth': 6, 'max_features': 'sqrt', 'min_samples_split': 6, 'n_estimators': 50}\",\"{'max_depth': 6, 'max_features': 'sqrt', 'min_samples_split': 6, 'n_estimators': 80}\",\"{'max_depth': 6, 'max_features': 'sqrt', 'min_samples_split': 6, 'n_estimators': 110}\",\"{'max_depth': 6, 'max_features': 'sqrt', 'min_samples_split': 6, 'n_estimators': 130}\",\"{'max_depth': 6, 'max_features': 'sqrt', 'min_samples_split': 9, 'n_estimators': 50}\",\"{'max_depth': 6, 'max_features': 'sqrt', 'min_samples_split': 9, 'n_estimators': 80}\",\"{'max_depth': 6, 'max_features': 'sqrt', 'min_samples_split': 9, 'n_estimators': 110}\",\"{'max_depth': 6, 'max_features': 'sqrt', 'min_samples_split': 9, 'n_estimators': 130}\",\"{'max_depth': 6, 'max_features': 'sqrt', 'min_samples_split': 12, 'n_estimators': 50}\",\"{'max_depth': 6, 'max_features': 'sqrt', 'min_samples_split': 12, 'n_estimators': 80}\",\"{'max_depth': 6, 'max_features': 'sqrt', 'min_samples_split': 12, 'n_estimators': 110}\",\"{'max_depth': 6, 'max_features': 'sqrt', 'min_samples_split': 12, 'n_estimators': 130}\",\"{'max_depth': 6, 'max_features': 'log2', 'min_samples_split': 3, 'n_estimators': 50}\",\"{'max_depth': 6, 'max_features': 'log2', 'min_samples_split': 3, 'n_estimators': 80}\",\"{'max_depth': 6, 'max_features': 'log2', 'min_samples_split': 3, 'n_estimators': 110}\",\"{'max_depth': 6, 'max_features': 'log2', 'min_samples_split': 3, 'n_estimators': 130}\",\"{'max_depth': 6, 'max_features': 'log2', 'min_samples_split': 6, 'n_estimators': 50}\",\"{'max_depth': 6, 'max_features': 'log2', 'min_samples_split': 6, 'n_estimators': 80}\",\"{'max_depth': 6, 'max_features': 'log2', 'min_samples_split': 6, 'n_estimators': 110}\",\"{'max_depth': 6, 'max_features': 'log2', 'min_samples_split': 6, 'n_estimators': 130}\",\"{'max_depth': 6, 'max_features': 'log2', 'min_samples_split': 9, 'n_estimators': 50}\",\"{'max_depth': 6, 'max_features': 'log2', 'min_samples_split': 9, 'n_estimators': 80}\",\"{'max_depth': 6, 'max_features': 'log2', 'min_samples_split': 9, 'n_estimators': 110}\",\"{'max_depth': 6, 'max_features': 'log2', 'min_samples_split': 9, 'n_estimators': 130}\",\"{'max_depth': 6, 'max_features': 'log2', 'min_samples_split': 12, 'n_estimators': 50}\",\"{'max_depth': 6, 'max_features': 'log2', 'min_samples_split': 12, 'n_estimators': 80}\",\"{'max_depth': 6, 'max_features': 'log2', 'min_samples_split': 12, 'n_estimators': 110}\",\"{'max_depth': 6, 'max_features': 'log2', 'min_samples_split': 12, 'n_estimators': 130}\",\"{'max_depth': 9, 'max_features': 'sqrt', 'min_samples_split': 3, 'n_estimators': 50}\",\"{'max_depth': 9, 'max_features': 'sqrt', 'min_samples_split': 3, 'n_estimators': 80}\",\"{'max_depth': 9, 'max_features': 'sqrt', 'min_samples_split': 3, 'n_estimators': 110}\",\"{'max_depth': 9, 'max_features': 'sqrt', 'min_samples_split': 3, 'n_estimators': 130}\",\"{'max_depth': 9, 'max_features': 'sqrt', 'min_samples_split': 6, 'n_estimators': 50}\",\"{'max_depth': 9, 'max_features': 'sqrt', 'min_samples_split': 6, 'n_estimators': 80}\",\"{'max_depth': 9, 'max_features': 'sqrt', 'min_samples_split': 6, 'n_estimators': 110}\",\"{'max_depth': 9, 'max_features': 'sqrt', 'min_samples_split': 6, 'n_estimators': 130}\",\"{'max_depth': 9, 'max_features': 'sqrt', 'min_samples_split': 9, 'n_estimators': 50}\",\"{'max_depth': 9, 'max_features': 'sqrt', 'min_samples_split': 9, 'n_estimators': 80}\",\"{'max_depth': 9, 'max_features': 'sqrt', 'min_samples_split': 9, 'n_estimators': 110}\",\"{'max_depth': 9, 'max_features': 'sqrt', 'min_samples_split': 9, 'n_estimators': 130}\",\"{'max_depth': 9, 'max_features': 'sqrt', 'min_samples_split': 12, 'n_estimators': 50}\",\"{'max_depth': 9, 'max_features': 'sqrt', 'min_samples_split': 12, 'n_estimators': 80}\",\"{'max_depth': 9, 'max_features': 'sqrt', 'min_samples_split': 12, 'n_estimators': 110}\",\"{'max_depth': 9, 'max_features': 'sqrt', 'min_samples_split': 12, 'n_estimators': 130}\",\"{'max_depth': 9, 'max_features': 'log2', 'min_samples_split': 3, 'n_estimators': 50}\",\"{'max_depth': 9, 'max_features': 'log2', 'min_samples_split': 3, 'n_estimators': 80}\",\"{'max_depth': 9, 'max_features': 'log2', 'min_samples_split': 3, 'n_estimators': 110}\",\"{'max_depth': 9, 'max_features': 'log2', 'min_samples_split': 3, 'n_estimators': 130}\",\"{'max_depth': 9, 'max_features': 'log2', 'min_samples_split': 6, 'n_estimators': 50}\",\"{'max_depth': 9, 'max_features': 'log2', 'min_samples_split': 6, 'n_estimators': 80}\",\"{'max_depth': 9, 'max_features': 'log2', 'min_samples_split': 6, 'n_estimators': 110}\",\"{'max_depth': 9, 'max_features': 'log2', 'min_samples_split': 6, 'n_estimators': 130}\",\"{'max_depth': 9, 'max_features': 'log2', 'min_samples_split': 9, 'n_estimators': 50}\",\"{'max_depth': 9, 'max_features': 'log2', 'min_samples_split': 9, 'n_estimators': 80}\",\"{'max_depth': 9, 'max_features': 'log2', 'min_samples_split': 9, 'n_estimators': 110}\",\"{'max_depth': 9, 'max_features': 'log2', 'min_samples_split': 9, 'n_estimators': 130}\",\"{'max_depth': 9, 'max_features': 'log2', 'min_samples_split': 12, 'n_estimators': 50}\",\"{'max_depth': 9, 'max_features': 'log2', 'min_samples_split': 12, 'n_estimators': 80}\",\"{'max_depth': 9, 'max_features': 'log2', 'min_samples_split': 12, 'n_estimators': 110}\",\"{'max_depth': 9, 'max_features': 'log2', 'min_samples_split': 12, 'n_estimators': 130}\"],\"legendgroup\":\"test\",\"marker\":{\"color\":\"#636efa\",\"pattern\":{\"shape\":\"\"}},\"name\":\"test\",\"offsetgroup\":\"test\",\"orientation\":\"v\",\"showlegend\":true,\"textposition\":\"auto\",\"type\":\"bar\",\"x\":[0,1,2,3,4,5,6,7,8,9,10,11,12,13,14,15,16,17,18,19,20,21,22,23,24,25,26,27,28,29,30,31,32,33,34,35,36,37,38,39,40,41,42,43,44,45,46,47,48,49,50,51,52,53,54,55,56,57,58,59,60,61,62,63,64,65,66,67,68,69,70,71,72,73,74,75,76,77,78,79,80,81,82,83,84,85,86,87,88,89,90,91,92,93,94,95],\"xaxis\":\"x\",\"y\":[0.10802614189799994,0.10640640277096389,0.109616383560255,0.10939456608291495,0.10662318649093323,0.0938589316005673,0.10935040507735838,0.09705365296875773,0.10549002793142295,0.10962638392365769,0.10818206244332598,0.09620497010481203,0.10546904076029665,0.09677489975914597,0.10770097377064433,0.10628719866605083,0.10730836840593046,0.11371734652006697,0.0982232459292102,0.10647818859720048,0.0980647274583142,0.09090489994433372,0.09675979372013863,0.09636332043064566,0.1100023278811461,0.11834573986479668,0.0987749729143367,0.0923948299885636,0.10924968998739289,0.1011754684220394,0.09938553036898287,0.09195121028809122,0.2466793055374264,0.2324685570496398,0.24088748099907925,0.2318082935716974,0.2569532335304959,0.23506208768947562,0.23968590242880752,0.24665951591344518,0.2353953199827638,0.2515909441980452,0.22475266612038097,0.24421985424237933,0.24579321514205238,0.24609523652076842,0.2370438434962153,0.23369618885805687,0.23637614938422263,0.23034252720869192,0.2416001739078939,0.23903362798328018,0.24378111205918832,0.23399678151130004,0.24260328386170055,0.23906841765436299,0.23022889135503316,0.23803725647690605,0.2538633137659077,0.23544432197382908,0.2520948783455141,0.23939416119338514,0.22584144587573948,0.23037836270652406,0.33167103465355774,0.3248297706048047,0.31685922533023114,0.31253740687746456,0.3086416191592659,0.30754761038127965,0.31531455510517337,0.31698410633170454,0.3339517989765956,0.321838000221347,0.3128540070862454,0.3117550386119017,0.31570423804848013,0.3247764298513699,0.3090796700894255,0.31748401848741803,0.3095744374122486,0.3154266394583825,0.31636472113851655,0.31580717633033634,0.317625358534943,0.3282204546364281,0.3107030172194961,0.3121570864785381,0.3235862331387361,0.30516256645370293,0.31885931344621227,0.3006158717368203,0.3315951175895767,0.31381670455572847,0.3051018785394796,0.3065797518614856],\"yaxis\":\"y\"},{\"alignmentgroup\":\"True\",\"customdata\":[[\"{'max_depth': 3, 'max_features': 'sqrt', 'min_samples_split': 3, 'n_estimators': 50}\"],[\"{'max_depth': 3, 'max_features': 'sqrt', 'min_samples_split': 3, 'n_estimators': 80}\"],[\"{'max_depth': 3, 'max_features': 'sqrt', 'min_samples_split': 3, 'n_estimators': 110}\"],[\"{'max_depth': 3, 'max_features': 'sqrt', 'min_samples_split': 3, 'n_estimators': 130}\"],[\"{'max_depth': 3, 'max_features': 'sqrt', 'min_samples_split': 6, 'n_estimators': 50}\"],[\"{'max_depth': 3, 'max_features': 'sqrt', 'min_samples_split': 6, 'n_estimators': 80}\"],[\"{'max_depth': 3, 'max_features': 'sqrt', 'min_samples_split': 6, 'n_estimators': 110}\"],[\"{'max_depth': 3, 'max_features': 'sqrt', 'min_samples_split': 6, 'n_estimators': 130}\"],[\"{'max_depth': 3, 'max_features': 'sqrt', 'min_samples_split': 9, 'n_estimators': 50}\"],[\"{'max_depth': 3, 'max_features': 'sqrt', 'min_samples_split': 9, 'n_estimators': 80}\"],[\"{'max_depth': 3, 'max_features': 'sqrt', 'min_samples_split': 9, 'n_estimators': 110}\"],[\"{'max_depth': 3, 'max_features': 'sqrt', 'min_samples_split': 9, 'n_estimators': 130}\"],[\"{'max_depth': 3, 'max_features': 'sqrt', 'min_samples_split': 12, 'n_estimators': 50}\"],[\"{'max_depth': 3, 'max_features': 'sqrt', 'min_samples_split': 12, 'n_estimators': 80}\"],[\"{'max_depth': 3, 'max_features': 'sqrt', 'min_samples_split': 12, 'n_estimators': 110}\"],[\"{'max_depth': 3, 'max_features': 'sqrt', 'min_samples_split': 12, 'n_estimators': 130}\"],[\"{'max_depth': 3, 'max_features': 'log2', 'min_samples_split': 3, 'n_estimators': 50}\"],[\"{'max_depth': 3, 'max_features': 'log2', 'min_samples_split': 3, 'n_estimators': 80}\"],[\"{'max_depth': 3, 'max_features': 'log2', 'min_samples_split': 3, 'n_estimators': 110}\"],[\"{'max_depth': 3, 'max_features': 'log2', 'min_samples_split': 3, 'n_estimators': 130}\"],[\"{'max_depth': 3, 'max_features': 'log2', 'min_samples_split': 6, 'n_estimators': 50}\"],[\"{'max_depth': 3, 'max_features': 'log2', 'min_samples_split': 6, 'n_estimators': 80}\"],[\"{'max_depth': 3, 'max_features': 'log2', 'min_samples_split': 6, 'n_estimators': 110}\"],[\"{'max_depth': 3, 'max_features': 'log2', 'min_samples_split': 6, 'n_estimators': 130}\"],[\"{'max_depth': 3, 'max_features': 'log2', 'min_samples_split': 9, 'n_estimators': 50}\"],[\"{'max_depth': 3, 'max_features': 'log2', 'min_samples_split': 9, 'n_estimators': 80}\"],[\"{'max_depth': 3, 'max_features': 'log2', 'min_samples_split': 9, 'n_estimators': 110}\"],[\"{'max_depth': 3, 'max_features': 'log2', 'min_samples_split': 9, 'n_estimators': 130}\"],[\"{'max_depth': 3, 'max_features': 'log2', 'min_samples_split': 12, 'n_estimators': 50}\"],[\"{'max_depth': 3, 'max_features': 'log2', 'min_samples_split': 12, 'n_estimators': 80}\"],[\"{'max_depth': 3, 'max_features': 'log2', 'min_samples_split': 12, 'n_estimators': 110}\"],[\"{'max_depth': 3, 'max_features': 'log2', 'min_samples_split': 12, 'n_estimators': 130}\"],[\"{'max_depth': 6, 'max_features': 'sqrt', 'min_samples_split': 3, 'n_estimators': 50}\"],[\"{'max_depth': 6, 'max_features': 'sqrt', 'min_samples_split': 3, 'n_estimators': 80}\"],[\"{'max_depth': 6, 'max_features': 'sqrt', 'min_samples_split': 3, 'n_estimators': 110}\"],[\"{'max_depth': 6, 'max_features': 'sqrt', 'min_samples_split': 3, 'n_estimators': 130}\"],[\"{'max_depth': 6, 'max_features': 'sqrt', 'min_samples_split': 6, 'n_estimators': 50}\"],[\"{'max_depth': 6, 'max_features': 'sqrt', 'min_samples_split': 6, 'n_estimators': 80}\"],[\"{'max_depth': 6, 'max_features': 'sqrt', 'min_samples_split': 6, 'n_estimators': 110}\"],[\"{'max_depth': 6, 'max_features': 'sqrt', 'min_samples_split': 6, 'n_estimators': 130}\"],[\"{'max_depth': 6, 'max_features': 'sqrt', 'min_samples_split': 9, 'n_estimators': 50}\"],[\"{'max_depth': 6, 'max_features': 'sqrt', 'min_samples_split': 9, 'n_estimators': 80}\"],[\"{'max_depth': 6, 'max_features': 'sqrt', 'min_samples_split': 9, 'n_estimators': 110}\"],[\"{'max_depth': 6, 'max_features': 'sqrt', 'min_samples_split': 9, 'n_estimators': 130}\"],[\"{'max_depth': 6, 'max_features': 'sqrt', 'min_samples_split': 12, 'n_estimators': 50}\"],[\"{'max_depth': 6, 'max_features': 'sqrt', 'min_samples_split': 12, 'n_estimators': 80}\"],[\"{'max_depth': 6, 'max_features': 'sqrt', 'min_samples_split': 12, 'n_estimators': 110}\"],[\"{'max_depth': 6, 'max_features': 'sqrt', 'min_samples_split': 12, 'n_estimators': 130}\"],[\"{'max_depth': 6, 'max_features': 'log2', 'min_samples_split': 3, 'n_estimators': 50}\"],[\"{'max_depth': 6, 'max_features': 'log2', 'min_samples_split': 3, 'n_estimators': 80}\"],[\"{'max_depth': 6, 'max_features': 'log2', 'min_samples_split': 3, 'n_estimators': 110}\"],[\"{'max_depth': 6, 'max_features': 'log2', 'min_samples_split': 3, 'n_estimators': 130}\"],[\"{'max_depth': 6, 'max_features': 'log2', 'min_samples_split': 6, 'n_estimators': 50}\"],[\"{'max_depth': 6, 'max_features': 'log2', 'min_samples_split': 6, 'n_estimators': 80}\"],[\"{'max_depth': 6, 'max_features': 'log2', 'min_samples_split': 6, 'n_estimators': 110}\"],[\"{'max_depth': 6, 'max_features': 'log2', 'min_samples_split': 6, 'n_estimators': 130}\"],[\"{'max_depth': 6, 'max_features': 'log2', 'min_samples_split': 9, 'n_estimators': 50}\"],[\"{'max_depth': 6, 'max_features': 'log2', 'min_samples_split': 9, 'n_estimators': 80}\"],[\"{'max_depth': 6, 'max_features': 'log2', 'min_samples_split': 9, 'n_estimators': 110}\"],[\"{'max_depth': 6, 'max_features': 'log2', 'min_samples_split': 9, 'n_estimators': 130}\"],[\"{'max_depth': 6, 'max_features': 'log2', 'min_samples_split': 12, 'n_estimators': 50}\"],[\"{'max_depth': 6, 'max_features': 'log2', 'min_samples_split': 12, 'n_estimators': 80}\"],[\"{'max_depth': 6, 'max_features': 'log2', 'min_samples_split': 12, 'n_estimators': 110}\"],[\"{'max_depth': 6, 'max_features': 'log2', 'min_samples_split': 12, 'n_estimators': 130}\"],[\"{'max_depth': 9, 'max_features': 'sqrt', 'min_samples_split': 3, 'n_estimators': 50}\"],[\"{'max_depth': 9, 'max_features': 'sqrt', 'min_samples_split': 3, 'n_estimators': 80}\"],[\"{'max_depth': 9, 'max_features': 'sqrt', 'min_samples_split': 3, 'n_estimators': 110}\"],[\"{'max_depth': 9, 'max_features': 'sqrt', 'min_samples_split': 3, 'n_estimators': 130}\"],[\"{'max_depth': 9, 'max_features': 'sqrt', 'min_samples_split': 6, 'n_estimators': 50}\"],[\"{'max_depth': 9, 'max_features': 'sqrt', 'min_samples_split': 6, 'n_estimators': 80}\"],[\"{'max_depth': 9, 'max_features': 'sqrt', 'min_samples_split': 6, 'n_estimators': 110}\"],[\"{'max_depth': 9, 'max_features': 'sqrt', 'min_samples_split': 6, 'n_estimators': 130}\"],[\"{'max_depth': 9, 'max_features': 'sqrt', 'min_samples_split': 9, 'n_estimators': 50}\"],[\"{'max_depth': 9, 'max_features': 'sqrt', 'min_samples_split': 9, 'n_estimators': 80}\"],[\"{'max_depth': 9, 'max_features': 'sqrt', 'min_samples_split': 9, 'n_estimators': 110}\"],[\"{'max_depth': 9, 'max_features': 'sqrt', 'min_samples_split': 9, 'n_estimators': 130}\"],[\"{'max_depth': 9, 'max_features': 'sqrt', 'min_samples_split': 12, 'n_estimators': 50}\"],[\"{'max_depth': 9, 'max_features': 'sqrt', 'min_samples_split': 12, 'n_estimators': 80}\"],[\"{'max_depth': 9, 'max_features': 'sqrt', 'min_samples_split': 12, 'n_estimators': 110}\"],[\"{'max_depth': 9, 'max_features': 'sqrt', 'min_samples_split': 12, 'n_estimators': 130}\"],[\"{'max_depth': 9, 'max_features': 'log2', 'min_samples_split': 3, 'n_estimators': 50}\"],[\"{'max_depth': 9, 'max_features': 'log2', 'min_samples_split': 3, 'n_estimators': 80}\"],[\"{'max_depth': 9, 'max_features': 'log2', 'min_samples_split': 3, 'n_estimators': 110}\"],[\"{'max_depth': 9, 'max_features': 'log2', 'min_samples_split': 3, 'n_estimators': 130}\"],[\"{'max_depth': 9, 'max_features': 'log2', 'min_samples_split': 6, 'n_estimators': 50}\"],[\"{'max_depth': 9, 'max_features': 'log2', 'min_samples_split': 6, 'n_estimators': 80}\"],[\"{'max_depth': 9, 'max_features': 'log2', 'min_samples_split': 6, 'n_estimators': 110}\"],[\"{'max_depth': 9, 'max_features': 'log2', 'min_samples_split': 6, 'n_estimators': 130}\"],[\"{'max_depth': 9, 'max_features': 'log2', 'min_samples_split': 9, 'n_estimators': 50}\"],[\"{'max_depth': 9, 'max_features': 'log2', 'min_samples_split': 9, 'n_estimators': 80}\"],[\"{'max_depth': 9, 'max_features': 'log2', 'min_samples_split': 9, 'n_estimators': 110}\"],[\"{'max_depth': 9, 'max_features': 'log2', 'min_samples_split': 9, 'n_estimators': 130}\"],[\"{'max_depth': 9, 'max_features': 'log2', 'min_samples_split': 12, 'n_estimators': 50}\"],[\"{'max_depth': 9, 'max_features': 'log2', 'min_samples_split': 12, 'n_estimators': 80}\"],[\"{'max_depth': 9, 'max_features': 'log2', 'min_samples_split': 12, 'n_estimators': 110}\"],[\"{'max_depth': 9, 'max_features': 'log2', 'min_samples_split': 12, 'n_estimators': 130}\"]],\"error_y\":{\"array\":[0.03114835072447713,0.021782751466130405,0.029161571400559434,0.02430172550202634,0.027341330284611727,0.025429810578862747,0.028718191199351695,0.03247291003460742,0.03381415094516275,0.030037010331050357,0.02741574667163619,0.024489487399922676,0.03759309536834003,0.022051250329642627,0.023531732876427083,0.027476058261169,0.03148412690737533,0.03399547678852828,0.02216835085026788,0.026023397776625934,0.02819616208922937,0.017776333705328284,0.022692789202128354,0.02754092871311034,0.03381483750692287,0.03558526138532488,0.025492122374007255,0.02061755860563569,0.025302497865491033,0.020658907996966926,0.030405983085874083,0.03304846392541163,0.03711032010729853,0.032948932058524005,0.039942286626995775,0.031580611288405475,0.032319231741410895,0.04582320584122613,0.04025853876212818,0.03473896499521797,0.04939295891995165,0.03577269324571132,0.04176003532404401,0.04384082010137067,0.04225094122284198,0.03622988788189768,0.03568065566607487,0.030405467146812453,0.03485314170895811,0.0413678009811747,0.037927381978357794,0.03727002323327194,0.043543624044346745,0.03393544700294077,0.03430358841629611,0.03457749255993636,0.030872647276852933,0.04307596334498727,0.03848325165652796,0.03577390451360231,0.024003076409299853,0.04680261805987635,0.037312824566034096,0.03840581931527984,0.02443208839721653,0.01661200562871002,0.01809027810366397,0.019724963386808497,0.027043680354742795,0.03217336327446377,0.021963349404931644,0.03210343994536556,0.02821209029306659,0.02441080346866147,0.026336951899477955,0.027580644407988845,0.042695222127401705,0.020213089301435325,0.02082171049773274,0.024589415155021725,0.015396507814324889,0.031848631040086534,0.021421090191775984,0.024319953599122115,0.03371091347663313,0.02123221683395971,0.02530845435107668,0.013724212603763598,0.025606327332036518,0.02130995137262702,0.019973007370936147,0.021609229923620646,0.03802632764239728,0.022677634479018858,0.0245803101699879,0.03343954330144907]},\"hovertemplate\":\"<b>%{hovertext}</b><br><br>type=train<br>Params=%{x}<br>Average f1=%{y}<br>params=%{customdata[0]}<extra></extra>\",\"hovertext\":[\"{'max_depth': 3, 'max_features': 'sqrt', 'min_samples_split': 3, 'n_estimators': 50}\",\"{'max_depth': 3, 'max_features': 'sqrt', 'min_samples_split': 3, 'n_estimators': 80}\",\"{'max_depth': 3, 'max_features': 'sqrt', 'min_samples_split': 3, 'n_estimators': 110}\",\"{'max_depth': 3, 'max_features': 'sqrt', 'min_samples_split': 3, 'n_estimators': 130}\",\"{'max_depth': 3, 'max_features': 'sqrt', 'min_samples_split': 6, 'n_estimators': 50}\",\"{'max_depth': 3, 'max_features': 'sqrt', 'min_samples_split': 6, 'n_estimators': 80}\",\"{'max_depth': 3, 'max_features': 'sqrt', 'min_samples_split': 6, 'n_estimators': 110}\",\"{'max_depth': 3, 'max_features': 'sqrt', 'min_samples_split': 6, 'n_estimators': 130}\",\"{'max_depth': 3, 'max_features': 'sqrt', 'min_samples_split': 9, 'n_estimators': 50}\",\"{'max_depth': 3, 'max_features': 'sqrt', 'min_samples_split': 9, 'n_estimators': 80}\",\"{'max_depth': 3, 'max_features': 'sqrt', 'min_samples_split': 9, 'n_estimators': 110}\",\"{'max_depth': 3, 'max_features': 'sqrt', 'min_samples_split': 9, 'n_estimators': 130}\",\"{'max_depth': 3, 'max_features': 'sqrt', 'min_samples_split': 12, 'n_estimators': 50}\",\"{'max_depth': 3, 'max_features': 'sqrt', 'min_samples_split': 12, 'n_estimators': 80}\",\"{'max_depth': 3, 'max_features': 'sqrt', 'min_samples_split': 12, 'n_estimators': 110}\",\"{'max_depth': 3, 'max_features': 'sqrt', 'min_samples_split': 12, 'n_estimators': 130}\",\"{'max_depth': 3, 'max_features': 'log2', 'min_samples_split': 3, 'n_estimators': 50}\",\"{'max_depth': 3, 'max_features': 'log2', 'min_samples_split': 3, 'n_estimators': 80}\",\"{'max_depth': 3, 'max_features': 'log2', 'min_samples_split': 3, 'n_estimators': 110}\",\"{'max_depth': 3, 'max_features': 'log2', 'min_samples_split': 3, 'n_estimators': 130}\",\"{'max_depth': 3, 'max_features': 'log2', 'min_samples_split': 6, 'n_estimators': 50}\",\"{'max_depth': 3, 'max_features': 'log2', 'min_samples_split': 6, 'n_estimators': 80}\",\"{'max_depth': 3, 'max_features': 'log2', 'min_samples_split': 6, 'n_estimators': 110}\",\"{'max_depth': 3, 'max_features': 'log2', 'min_samples_split': 6, 'n_estimators': 130}\",\"{'max_depth': 3, 'max_features': 'log2', 'min_samples_split': 9, 'n_estimators': 50}\",\"{'max_depth': 3, 'max_features': 'log2', 'min_samples_split': 9, 'n_estimators': 80}\",\"{'max_depth': 3, 'max_features': 'log2', 'min_samples_split': 9, 'n_estimators': 110}\",\"{'max_depth': 3, 'max_features': 'log2', 'min_samples_split': 9, 'n_estimators': 130}\",\"{'max_depth': 3, 'max_features': 'log2', 'min_samples_split': 12, 'n_estimators': 50}\",\"{'max_depth': 3, 'max_features': 'log2', 'min_samples_split': 12, 'n_estimators': 80}\",\"{'max_depth': 3, 'max_features': 'log2', 'min_samples_split': 12, 'n_estimators': 110}\",\"{'max_depth': 3, 'max_features': 'log2', 'min_samples_split': 12, 'n_estimators': 130}\",\"{'max_depth': 6, 'max_features': 'sqrt', 'min_samples_split': 3, 'n_estimators': 50}\",\"{'max_depth': 6, 'max_features': 'sqrt', 'min_samples_split': 3, 'n_estimators': 80}\",\"{'max_depth': 6, 'max_features': 'sqrt', 'min_samples_split': 3, 'n_estimators': 110}\",\"{'max_depth': 6, 'max_features': 'sqrt', 'min_samples_split': 3, 'n_estimators': 130}\",\"{'max_depth': 6, 'max_features': 'sqrt', 'min_samples_split': 6, 'n_estimators': 50}\",\"{'max_depth': 6, 'max_features': 'sqrt', 'min_samples_split': 6, 'n_estimators': 80}\",\"{'max_depth': 6, 'max_features': 'sqrt', 'min_samples_split': 6, 'n_estimators': 110}\",\"{'max_depth': 6, 'max_features': 'sqrt', 'min_samples_split': 6, 'n_estimators': 130}\",\"{'max_depth': 6, 'max_features': 'sqrt', 'min_samples_split': 9, 'n_estimators': 50}\",\"{'max_depth': 6, 'max_features': 'sqrt', 'min_samples_split': 9, 'n_estimators': 80}\",\"{'max_depth': 6, 'max_features': 'sqrt', 'min_samples_split': 9, 'n_estimators': 110}\",\"{'max_depth': 6, 'max_features': 'sqrt', 'min_samples_split': 9, 'n_estimators': 130}\",\"{'max_depth': 6, 'max_features': 'sqrt', 'min_samples_split': 12, 'n_estimators': 50}\",\"{'max_depth': 6, 'max_features': 'sqrt', 'min_samples_split': 12, 'n_estimators': 80}\",\"{'max_depth': 6, 'max_features': 'sqrt', 'min_samples_split': 12, 'n_estimators': 110}\",\"{'max_depth': 6, 'max_features': 'sqrt', 'min_samples_split': 12, 'n_estimators': 130}\",\"{'max_depth': 6, 'max_features': 'log2', 'min_samples_split': 3, 'n_estimators': 50}\",\"{'max_depth': 6, 'max_features': 'log2', 'min_samples_split': 3, 'n_estimators': 80}\",\"{'max_depth': 6, 'max_features': 'log2', 'min_samples_split': 3, 'n_estimators': 110}\",\"{'max_depth': 6, 'max_features': 'log2', 'min_samples_split': 3, 'n_estimators': 130}\",\"{'max_depth': 6, 'max_features': 'log2', 'min_samples_split': 6, 'n_estimators': 50}\",\"{'max_depth': 6, 'max_features': 'log2', 'min_samples_split': 6, 'n_estimators': 80}\",\"{'max_depth': 6, 'max_features': 'log2', 'min_samples_split': 6, 'n_estimators': 110}\",\"{'max_depth': 6, 'max_features': 'log2', 'min_samples_split': 6, 'n_estimators': 130}\",\"{'max_depth': 6, 'max_features': 'log2', 'min_samples_split': 9, 'n_estimators': 50}\",\"{'max_depth': 6, 'max_features': 'log2', 'min_samples_split': 9, 'n_estimators': 80}\",\"{'max_depth': 6, 'max_features': 'log2', 'min_samples_split': 9, 'n_estimators': 110}\",\"{'max_depth': 6, 'max_features': 'log2', 'min_samples_split': 9, 'n_estimators': 130}\",\"{'max_depth': 6, 'max_features': 'log2', 'min_samples_split': 12, 'n_estimators': 50}\",\"{'max_depth': 6, 'max_features': 'log2', 'min_samples_split': 12, 'n_estimators': 80}\",\"{'max_depth': 6, 'max_features': 'log2', 'min_samples_split': 12, 'n_estimators': 110}\",\"{'max_depth': 6, 'max_features': 'log2', 'min_samples_split': 12, 'n_estimators': 130}\",\"{'max_depth': 9, 'max_features': 'sqrt', 'min_samples_split': 3, 'n_estimators': 50}\",\"{'max_depth': 9, 'max_features': 'sqrt', 'min_samples_split': 3, 'n_estimators': 80}\",\"{'max_depth': 9, 'max_features': 'sqrt', 'min_samples_split': 3, 'n_estimators': 110}\",\"{'max_depth': 9, 'max_features': 'sqrt', 'min_samples_split': 3, 'n_estimators': 130}\",\"{'max_depth': 9, 'max_features': 'sqrt', 'min_samples_split': 6, 'n_estimators': 50}\",\"{'max_depth': 9, 'max_features': 'sqrt', 'min_samples_split': 6, 'n_estimators': 80}\",\"{'max_depth': 9, 'max_features': 'sqrt', 'min_samples_split': 6, 'n_estimators': 110}\",\"{'max_depth': 9, 'max_features': 'sqrt', 'min_samples_split': 6, 'n_estimators': 130}\",\"{'max_depth': 9, 'max_features': 'sqrt', 'min_samples_split': 9, 'n_estimators': 50}\",\"{'max_depth': 9, 'max_features': 'sqrt', 'min_samples_split': 9, 'n_estimators': 80}\",\"{'max_depth': 9, 'max_features': 'sqrt', 'min_samples_split': 9, 'n_estimators': 110}\",\"{'max_depth': 9, 'max_features': 'sqrt', 'min_samples_split': 9, 'n_estimators': 130}\",\"{'max_depth': 9, 'max_features': 'sqrt', 'min_samples_split': 12, 'n_estimators': 50}\",\"{'max_depth': 9, 'max_features': 'sqrt', 'min_samples_split': 12, 'n_estimators': 80}\",\"{'max_depth': 9, 'max_features': 'sqrt', 'min_samples_split': 12, 'n_estimators': 110}\",\"{'max_depth': 9, 'max_features': 'sqrt', 'min_samples_split': 12, 'n_estimators': 130}\",\"{'max_depth': 9, 'max_features': 'log2', 'min_samples_split': 3, 'n_estimators': 50}\",\"{'max_depth': 9, 'max_features': 'log2', 'min_samples_split': 3, 'n_estimators': 80}\",\"{'max_depth': 9, 'max_features': 'log2', 'min_samples_split': 3, 'n_estimators': 110}\",\"{'max_depth': 9, 'max_features': 'log2', 'min_samples_split': 3, 'n_estimators': 130}\",\"{'max_depth': 9, 'max_features': 'log2', 'min_samples_split': 6, 'n_estimators': 50}\",\"{'max_depth': 9, 'max_features': 'log2', 'min_samples_split': 6, 'n_estimators': 80}\",\"{'max_depth': 9, 'max_features': 'log2', 'min_samples_split': 6, 'n_estimators': 110}\",\"{'max_depth': 9, 'max_features': 'log2', 'min_samples_split': 6, 'n_estimators': 130}\",\"{'max_depth': 9, 'max_features': 'log2', 'min_samples_split': 9, 'n_estimators': 50}\",\"{'max_depth': 9, 'max_features': 'log2', 'min_samples_split': 9, 'n_estimators': 80}\",\"{'max_depth': 9, 'max_features': 'log2', 'min_samples_split': 9, 'n_estimators': 110}\",\"{'max_depth': 9, 'max_features': 'log2', 'min_samples_split': 9, 'n_estimators': 130}\",\"{'max_depth': 9, 'max_features': 'log2', 'min_samples_split': 12, 'n_estimators': 50}\",\"{'max_depth': 9, 'max_features': 'log2', 'min_samples_split': 12, 'n_estimators': 80}\",\"{'max_depth': 9, 'max_features': 'log2', 'min_samples_split': 12, 'n_estimators': 110}\",\"{'max_depth': 9, 'max_features': 'log2', 'min_samples_split': 12, 'n_estimators': 130}\"],\"legendgroup\":\"train\",\"marker\":{\"color\":\"#EF553B\",\"pattern\":{\"shape\":\"\"}},\"name\":\"train\",\"offsetgroup\":\"train\",\"orientation\":\"v\",\"showlegend\":true,\"textposition\":\"auto\",\"type\":\"bar\",\"x\":[0,1,2,3,4,5,6,7,8,9,10,11,12,13,14,15,16,17,18,19,20,21,22,23,24,25,26,27,28,29,30,31,32,33,34,35,36,37,38,39,40,41,42,43,44,45,46,47,48,49,50,51,52,53,54,55,56,57,58,59,60,61,62,63,64,65,66,67,68,69,70,71,72,73,74,75,76,77,78,79,80,81,82,83,84,85,86,87,88,89,90,91,92,93,94,95],\"xaxis\":\"x\",\"y\":[0.17206180812558153,0.16680254648690648,0.17235260669628671,0.1572935648337531,0.16709499439994055,0.1684879689600617,0.16526159814141247,0.1644461704432796,0.16916457960808073,0.1646070742830399,0.1626804379090327,0.16210251167491344,0.17309400408034112,0.1648979728255054,0.165103322650854,0.16623172961239155,0.1593919640549951,0.1732588937220732,0.16098610837127725,0.170773705218697,0.16375660465372927,0.16224912615132694,0.15536160356991063,0.1595275533865715,0.16282558765632432,0.16720161486645735,0.1692264272808091,0.15528366518931183,0.16409204923619802,0.15896684631430147,0.15782098851933937,0.156394090734797,0.42985188108455075,0.42972477878124293,0.4213534402707834,0.4264396077128292,0.4450556466630499,0.4171758146324339,0.4186202130764903,0.4280030613470863,0.42469753116710257,0.42081850184613306,0.4118291816613091,0.4150440635771684,0.43296563836677865,0.41112789408361666,0.4106304111412763,0.40179290169985926,0.42340863222879915,0.4293891409973659,0.423980394032147,0.422584312738645,0.4269659154062747,0.433206316936486,0.4300813969220395,0.4171825915549198,0.4153565519488714,0.420970362277028,0.43201524141936715,0.4130482155539729,0.41681735535559367,0.4094273698192021,0.4100175047823938,0.4070615543436863,0.6609101832380846,0.6578858988810034,0.6660670641915696,0.6594455158990519,0.6430497614271575,0.6447328136764539,0.6426976444699823,0.6470736298289308,0.6472546721262523,0.6354645385706892,0.6261623981763045,0.6280193052998604,0.6165646697709304,0.6267252834066256,0.6113304052634939,0.6118533443225079,0.6582887562513481,0.6658900956666794,0.6693681620263455,0.6602822767617939,0.6409835900222336,0.6408662653403128,0.648833452190814,0.6462992169757398,0.6277160928293538,0.6263905131172158,0.6296514160895406,0.6285449399671387,0.6094882310739266,0.6151317304082906,0.6083763005539754,0.6085025335442363],\"yaxis\":\"y\"}],                        {\"barmode\":\"group\",\"legend\":{\"title\":{\"text\":\"type\"},\"tracegroupgap\":0},\"template\":{\"data\":{\"bar\":[{\"error_x\":{\"color\":\"#2a3f5f\"},\"error_y\":{\"color\":\"#2a3f5f\"},\"marker\":{\"line\":{\"color\":\"#E5ECF6\",\"width\":0.5},\"pattern\":{\"fillmode\":\"overlay\",\"size\":10,\"solidity\":0.2}},\"type\":\"bar\"}],\"barpolar\":[{\"marker\":{\"line\":{\"color\":\"#E5ECF6\",\"width\":0.5},\"pattern\":{\"fillmode\":\"overlay\",\"size\":10,\"solidity\":0.2}},\"type\":\"barpolar\"}],\"carpet\":[{\"aaxis\":{\"endlinecolor\":\"#2a3f5f\",\"gridcolor\":\"white\",\"linecolor\":\"white\",\"minorgridcolor\":\"white\",\"startlinecolor\":\"#2a3f5f\"},\"baxis\":{\"endlinecolor\":\"#2a3f5f\",\"gridcolor\":\"white\",\"linecolor\":\"white\",\"minorgridcolor\":\"white\",\"startlinecolor\":\"#2a3f5f\"},\"type\":\"carpet\"}],\"choropleth\":[{\"colorbar\":{\"outlinewidth\":0,\"ticks\":\"\"},\"type\":\"choropleth\"}],\"contour\":[{\"colorbar\":{\"outlinewidth\":0,\"ticks\":\"\"},\"colorscale\":[[0.0,\"#0d0887\"],[0.1111111111111111,\"#46039f\"],[0.2222222222222222,\"#7201a8\"],[0.3333333333333333,\"#9c179e\"],[0.4444444444444444,\"#bd3786\"],[0.5555555555555556,\"#d8576b\"],[0.6666666666666666,\"#ed7953\"],[0.7777777777777778,\"#fb9f3a\"],[0.8888888888888888,\"#fdca26\"],[1.0,\"#f0f921\"]],\"type\":\"contour\"}],\"contourcarpet\":[{\"colorbar\":{\"outlinewidth\":0,\"ticks\":\"\"},\"type\":\"contourcarpet\"}],\"heatmap\":[{\"colorbar\":{\"outlinewidth\":0,\"ticks\":\"\"},\"colorscale\":[[0.0,\"#0d0887\"],[0.1111111111111111,\"#46039f\"],[0.2222222222222222,\"#7201a8\"],[0.3333333333333333,\"#9c179e\"],[0.4444444444444444,\"#bd3786\"],[0.5555555555555556,\"#d8576b\"],[0.6666666666666666,\"#ed7953\"],[0.7777777777777778,\"#fb9f3a\"],[0.8888888888888888,\"#fdca26\"],[1.0,\"#f0f921\"]],\"type\":\"heatmap\"}],\"heatmapgl\":[{\"colorbar\":{\"outlinewidth\":0,\"ticks\":\"\"},\"colorscale\":[[0.0,\"#0d0887\"],[0.1111111111111111,\"#46039f\"],[0.2222222222222222,\"#7201a8\"],[0.3333333333333333,\"#9c179e\"],[0.4444444444444444,\"#bd3786\"],[0.5555555555555556,\"#d8576b\"],[0.6666666666666666,\"#ed7953\"],[0.7777777777777778,\"#fb9f3a\"],[0.8888888888888888,\"#fdca26\"],[1.0,\"#f0f921\"]],\"type\":\"heatmapgl\"}],\"histogram\":[{\"marker\":{\"pattern\":{\"fillmode\":\"overlay\",\"size\":10,\"solidity\":0.2}},\"type\":\"histogram\"}],\"histogram2d\":[{\"colorbar\":{\"outlinewidth\":0,\"ticks\":\"\"},\"colorscale\":[[0.0,\"#0d0887\"],[0.1111111111111111,\"#46039f\"],[0.2222222222222222,\"#7201a8\"],[0.3333333333333333,\"#9c179e\"],[0.4444444444444444,\"#bd3786\"],[0.5555555555555556,\"#d8576b\"],[0.6666666666666666,\"#ed7953\"],[0.7777777777777778,\"#fb9f3a\"],[0.8888888888888888,\"#fdca26\"],[1.0,\"#f0f921\"]],\"type\":\"histogram2d\"}],\"histogram2dcontour\":[{\"colorbar\":{\"outlinewidth\":0,\"ticks\":\"\"},\"colorscale\":[[0.0,\"#0d0887\"],[0.1111111111111111,\"#46039f\"],[0.2222222222222222,\"#7201a8\"],[0.3333333333333333,\"#9c179e\"],[0.4444444444444444,\"#bd3786\"],[0.5555555555555556,\"#d8576b\"],[0.6666666666666666,\"#ed7953\"],[0.7777777777777778,\"#fb9f3a\"],[0.8888888888888888,\"#fdca26\"],[1.0,\"#f0f921\"]],\"type\":\"histogram2dcontour\"}],\"mesh3d\":[{\"colorbar\":{\"outlinewidth\":0,\"ticks\":\"\"},\"type\":\"mesh3d\"}],\"parcoords\":[{\"line\":{\"colorbar\":{\"outlinewidth\":0,\"ticks\":\"\"}},\"type\":\"parcoords\"}],\"pie\":[{\"automargin\":true,\"type\":\"pie\"}],\"scatter\":[{\"marker\":{\"colorbar\":{\"outlinewidth\":0,\"ticks\":\"\"}},\"type\":\"scatter\"}],\"scatter3d\":[{\"line\":{\"colorbar\":{\"outlinewidth\":0,\"ticks\":\"\"}},\"marker\":{\"colorbar\":{\"outlinewidth\":0,\"ticks\":\"\"}},\"type\":\"scatter3d\"}],\"scattercarpet\":[{\"marker\":{\"colorbar\":{\"outlinewidth\":0,\"ticks\":\"\"}},\"type\":\"scattercarpet\"}],\"scattergeo\":[{\"marker\":{\"colorbar\":{\"outlinewidth\":0,\"ticks\":\"\"}},\"type\":\"scattergeo\"}],\"scattergl\":[{\"marker\":{\"colorbar\":{\"outlinewidth\":0,\"ticks\":\"\"}},\"type\":\"scattergl\"}],\"scattermapbox\":[{\"marker\":{\"colorbar\":{\"outlinewidth\":0,\"ticks\":\"\"}},\"type\":\"scattermapbox\"}],\"scatterpolar\":[{\"marker\":{\"colorbar\":{\"outlinewidth\":0,\"ticks\":\"\"}},\"type\":\"scatterpolar\"}],\"scatterpolargl\":[{\"marker\":{\"colorbar\":{\"outlinewidth\":0,\"ticks\":\"\"}},\"type\":\"scatterpolargl\"}],\"scatterternary\":[{\"marker\":{\"colorbar\":{\"outlinewidth\":0,\"ticks\":\"\"}},\"type\":\"scatterternary\"}],\"surface\":[{\"colorbar\":{\"outlinewidth\":0,\"ticks\":\"\"},\"colorscale\":[[0.0,\"#0d0887\"],[0.1111111111111111,\"#46039f\"],[0.2222222222222222,\"#7201a8\"],[0.3333333333333333,\"#9c179e\"],[0.4444444444444444,\"#bd3786\"],[0.5555555555555556,\"#d8576b\"],[0.6666666666666666,\"#ed7953\"],[0.7777777777777778,\"#fb9f3a\"],[0.8888888888888888,\"#fdca26\"],[1.0,\"#f0f921\"]],\"type\":\"surface\"}],\"table\":[{\"cells\":{\"fill\":{\"color\":\"#EBF0F8\"},\"line\":{\"color\":\"white\"}},\"header\":{\"fill\":{\"color\":\"#C8D4E3\"},\"line\":{\"color\":\"white\"}},\"type\":\"table\"}]},\"layout\":{\"annotationdefaults\":{\"arrowcolor\":\"#2a3f5f\",\"arrowhead\":0,\"arrowwidth\":1},\"autotypenumbers\":\"strict\",\"coloraxis\":{\"colorbar\":{\"outlinewidth\":0,\"ticks\":\"\"}},\"colorscale\":{\"diverging\":[[0,\"#8e0152\"],[0.1,\"#c51b7d\"],[0.2,\"#de77ae\"],[0.3,\"#f1b6da\"],[0.4,\"#fde0ef\"],[0.5,\"#f7f7f7\"],[0.6,\"#e6f5d0\"],[0.7,\"#b8e186\"],[0.8,\"#7fbc41\"],[0.9,\"#4d9221\"],[1,\"#276419\"]],\"sequential\":[[0.0,\"#0d0887\"],[0.1111111111111111,\"#46039f\"],[0.2222222222222222,\"#7201a8\"],[0.3333333333333333,\"#9c179e\"],[0.4444444444444444,\"#bd3786\"],[0.5555555555555556,\"#d8576b\"],[0.6666666666666666,\"#ed7953\"],[0.7777777777777778,\"#fb9f3a\"],[0.8888888888888888,\"#fdca26\"],[1.0,\"#f0f921\"]],\"sequentialminus\":[[0.0,\"#0d0887\"],[0.1111111111111111,\"#46039f\"],[0.2222222222222222,\"#7201a8\"],[0.3333333333333333,\"#9c179e\"],[0.4444444444444444,\"#bd3786\"],[0.5555555555555556,\"#d8576b\"],[0.6666666666666666,\"#ed7953\"],[0.7777777777777778,\"#fb9f3a\"],[0.8888888888888888,\"#fdca26\"],[1.0,\"#f0f921\"]]},\"colorway\":[\"#636efa\",\"#EF553B\",\"#00cc96\",\"#ab63fa\",\"#FFA15A\",\"#19d3f3\",\"#FF6692\",\"#B6E880\",\"#FF97FF\",\"#FECB52\"],\"font\":{\"color\":\"#2a3f5f\"},\"geo\":{\"bgcolor\":\"white\",\"lakecolor\":\"white\",\"landcolor\":\"#E5ECF6\",\"showlakes\":true,\"showland\":true,\"subunitcolor\":\"white\"},\"hoverlabel\":{\"align\":\"left\"},\"hovermode\":\"closest\",\"mapbox\":{\"style\":\"light\"},\"paper_bgcolor\":\"white\",\"plot_bgcolor\":\"#E5ECF6\",\"polar\":{\"angularaxis\":{\"gridcolor\":\"white\",\"linecolor\":\"white\",\"ticks\":\"\"},\"bgcolor\":\"#E5ECF6\",\"radialaxis\":{\"gridcolor\":\"white\",\"linecolor\":\"white\",\"ticks\":\"\"}},\"scene\":{\"xaxis\":{\"backgroundcolor\":\"#E5ECF6\",\"gridcolor\":\"white\",\"gridwidth\":2,\"linecolor\":\"white\",\"showbackground\":true,\"ticks\":\"\",\"zerolinecolor\":\"white\"},\"yaxis\":{\"backgroundcolor\":\"#E5ECF6\",\"gridcolor\":\"white\",\"gridwidth\":2,\"linecolor\":\"white\",\"showbackground\":true,\"ticks\":\"\",\"zerolinecolor\":\"white\"},\"zaxis\":{\"backgroundcolor\":\"#E5ECF6\",\"gridcolor\":\"white\",\"gridwidth\":2,\"linecolor\":\"white\",\"showbackground\":true,\"ticks\":\"\",\"zerolinecolor\":\"white\"}},\"shapedefaults\":{\"line\":{\"color\":\"#2a3f5f\"}},\"ternary\":{\"aaxis\":{\"gridcolor\":\"white\",\"linecolor\":\"white\",\"ticks\":\"\"},\"baxis\":{\"gridcolor\":\"white\",\"linecolor\":\"white\",\"ticks\":\"\"},\"bgcolor\":\"#E5ECF6\",\"caxis\":{\"gridcolor\":\"white\",\"linecolor\":\"white\",\"ticks\":\"\"}},\"title\":{\"x\":0.05},\"xaxis\":{\"automargin\":true,\"gridcolor\":\"white\",\"linecolor\":\"white\",\"ticks\":\"\",\"title\":{\"standoff\":15},\"zerolinecolor\":\"white\",\"zerolinewidth\":2},\"yaxis\":{\"automargin\":true,\"gridcolor\":\"white\",\"linecolor\":\"white\",\"ticks\":\"\",\"title\":{\"standoff\":15},\"zerolinecolor\":\"white\",\"zerolinewidth\":2}}},\"title\":{\"text\":\"Mean f1 score on testing and training set for each parameter combination <br> (Model: RandomForest Classifier, Dataset: Mean imputation for individuals with 3 MV)\"},\"xaxis\":{\"anchor\":\"y\",\"domain\":[0.0,1.0],\"title\":{\"text\":\"Params\"}},\"yaxis\":{\"anchor\":\"x\",\"domain\":[0.0,1.0],\"title\":{\"text\":\"Average f1\"}}},                        {\"responsive\": true}                    ).then(function(){\n                            \nvar gd = document.getElementById('49cf375f-9769-43d3-a10d-285c71bc74da');\nvar x = new MutationObserver(function (mutations, observer) {{\n        var display = window.getComputedStyle(gd).display;\n        if (!display || display === 'none') {{\n            console.log([gd, 'removed!']);\n            Plotly.purge(gd);\n            observer.disconnect();\n        }}\n}});\n\n// Listen for the removal of the full notebook cells\nvar notebookContainer = gd.closest('#notebook-container');\nif (notebookContainer) {{\n    x.observe(notebookContainer, {childList: true});\n}}\n\n// Listen for the clearing of the current output cell\nvar outputEl = gd.closest('.output');\nif (outputEl) {{\n    x.observe(outputEl, {childList: true});\n}}\n\n                        })                };                });            </script>        </div>"
     },
     "metadata": {},
     "output_type": "display_data"
    }
   ],
   "source": [
    "from sklearn.ensemble import RandomForestClassifier\n",
    "model = (RandomForestClassifier(), \"RandomForest Classifier\")\n",
    "\n",
    "pgrid = {\"max_depth\": [3,6,9],\n",
    "         \"n_estimators\": [50, 80, 110, 130],\n",
    "         \"min_samples_split\": [3, 6, 9, 12],\n",
    "         \"max_features\": [\"sqrt\", \"log2\"]}\n",
    "\n",
    "\n",
    "stats = computeModelStats(model, stats, mean_accurracy_3_missing_values, pgrid)"
   ],
   "metadata": {
    "collapsed": false,
    "pycharm": {
     "name": "#%%\n"
    }
   }
  },
  {
   "cell_type": "code",
   "execution_count": 82,
   "outputs": [
    {
     "name": "stdout",
     "output_type": "stream",
     "text": [
      "Fitting 5 folds for each of 96 candidates, totalling 480 fits\n"
     ]
    },
    {
     "data": {
      "application/vnd.plotly.v1+json": {
       "config": {
        "plotlyServerURL": "https://plotly.com"
       },
       "data": [
        {
         "alignmentgroup": "True",
         "customdata": [
          [
           "{'max_depth': 3, 'max_features': 'sqrt', 'min_samples_split': 3, 'n_estimators': 50}"
          ],
          [
           "{'max_depth': 3, 'max_features': 'sqrt', 'min_samples_split': 3, 'n_estimators': 80}"
          ],
          [
           "{'max_depth': 3, 'max_features': 'sqrt', 'min_samples_split': 3, 'n_estimators': 110}"
          ],
          [
           "{'max_depth': 3, 'max_features': 'sqrt', 'min_samples_split': 3, 'n_estimators': 130}"
          ],
          [
           "{'max_depth': 3, 'max_features': 'sqrt', 'min_samples_split': 6, 'n_estimators': 50}"
          ],
          [
           "{'max_depth': 3, 'max_features': 'sqrt', 'min_samples_split': 6, 'n_estimators': 80}"
          ],
          [
           "{'max_depth': 3, 'max_features': 'sqrt', 'min_samples_split': 6, 'n_estimators': 110}"
          ],
          [
           "{'max_depth': 3, 'max_features': 'sqrt', 'min_samples_split': 6, 'n_estimators': 130}"
          ],
          [
           "{'max_depth': 3, 'max_features': 'sqrt', 'min_samples_split': 9, 'n_estimators': 50}"
          ],
          [
           "{'max_depth': 3, 'max_features': 'sqrt', 'min_samples_split': 9, 'n_estimators': 80}"
          ],
          [
           "{'max_depth': 3, 'max_features': 'sqrt', 'min_samples_split': 9, 'n_estimators': 110}"
          ],
          [
           "{'max_depth': 3, 'max_features': 'sqrt', 'min_samples_split': 9, 'n_estimators': 130}"
          ],
          [
           "{'max_depth': 3, 'max_features': 'sqrt', 'min_samples_split': 12, 'n_estimators': 50}"
          ],
          [
           "{'max_depth': 3, 'max_features': 'sqrt', 'min_samples_split': 12, 'n_estimators': 80}"
          ],
          [
           "{'max_depth': 3, 'max_features': 'sqrt', 'min_samples_split': 12, 'n_estimators': 110}"
          ],
          [
           "{'max_depth': 3, 'max_features': 'sqrt', 'min_samples_split': 12, 'n_estimators': 130}"
          ],
          [
           "{'max_depth': 3, 'max_features': 'log2', 'min_samples_split': 3, 'n_estimators': 50}"
          ],
          [
           "{'max_depth': 3, 'max_features': 'log2', 'min_samples_split': 3, 'n_estimators': 80}"
          ],
          [
           "{'max_depth': 3, 'max_features': 'log2', 'min_samples_split': 3, 'n_estimators': 110}"
          ],
          [
           "{'max_depth': 3, 'max_features': 'log2', 'min_samples_split': 3, 'n_estimators': 130}"
          ],
          [
           "{'max_depth': 3, 'max_features': 'log2', 'min_samples_split': 6, 'n_estimators': 50}"
          ],
          [
           "{'max_depth': 3, 'max_features': 'log2', 'min_samples_split': 6, 'n_estimators': 80}"
          ],
          [
           "{'max_depth': 3, 'max_features': 'log2', 'min_samples_split': 6, 'n_estimators': 110}"
          ],
          [
           "{'max_depth': 3, 'max_features': 'log2', 'min_samples_split': 6, 'n_estimators': 130}"
          ],
          [
           "{'max_depth': 3, 'max_features': 'log2', 'min_samples_split': 9, 'n_estimators': 50}"
          ],
          [
           "{'max_depth': 3, 'max_features': 'log2', 'min_samples_split': 9, 'n_estimators': 80}"
          ],
          [
           "{'max_depth': 3, 'max_features': 'log2', 'min_samples_split': 9, 'n_estimators': 110}"
          ],
          [
           "{'max_depth': 3, 'max_features': 'log2', 'min_samples_split': 9, 'n_estimators': 130}"
          ],
          [
           "{'max_depth': 3, 'max_features': 'log2', 'min_samples_split': 12, 'n_estimators': 50}"
          ],
          [
           "{'max_depth': 3, 'max_features': 'log2', 'min_samples_split': 12, 'n_estimators': 80}"
          ],
          [
           "{'max_depth': 3, 'max_features': 'log2', 'min_samples_split': 12, 'n_estimators': 110}"
          ],
          [
           "{'max_depth': 3, 'max_features': 'log2', 'min_samples_split': 12, 'n_estimators': 130}"
          ],
          [
           "{'max_depth': 6, 'max_features': 'sqrt', 'min_samples_split': 3, 'n_estimators': 50}"
          ],
          [
           "{'max_depth': 6, 'max_features': 'sqrt', 'min_samples_split': 3, 'n_estimators': 80}"
          ],
          [
           "{'max_depth': 6, 'max_features': 'sqrt', 'min_samples_split': 3, 'n_estimators': 110}"
          ],
          [
           "{'max_depth': 6, 'max_features': 'sqrt', 'min_samples_split': 3, 'n_estimators': 130}"
          ],
          [
           "{'max_depth': 6, 'max_features': 'sqrt', 'min_samples_split': 6, 'n_estimators': 50}"
          ],
          [
           "{'max_depth': 6, 'max_features': 'sqrt', 'min_samples_split': 6, 'n_estimators': 80}"
          ],
          [
           "{'max_depth': 6, 'max_features': 'sqrt', 'min_samples_split': 6, 'n_estimators': 110}"
          ],
          [
           "{'max_depth': 6, 'max_features': 'sqrt', 'min_samples_split': 6, 'n_estimators': 130}"
          ],
          [
           "{'max_depth': 6, 'max_features': 'sqrt', 'min_samples_split': 9, 'n_estimators': 50}"
          ],
          [
           "{'max_depth': 6, 'max_features': 'sqrt', 'min_samples_split': 9, 'n_estimators': 80}"
          ],
          [
           "{'max_depth': 6, 'max_features': 'sqrt', 'min_samples_split': 9, 'n_estimators': 110}"
          ],
          [
           "{'max_depth': 6, 'max_features': 'sqrt', 'min_samples_split': 9, 'n_estimators': 130}"
          ],
          [
           "{'max_depth': 6, 'max_features': 'sqrt', 'min_samples_split': 12, 'n_estimators': 50}"
          ],
          [
           "{'max_depth': 6, 'max_features': 'sqrt', 'min_samples_split': 12, 'n_estimators': 80}"
          ],
          [
           "{'max_depth': 6, 'max_features': 'sqrt', 'min_samples_split': 12, 'n_estimators': 110}"
          ],
          [
           "{'max_depth': 6, 'max_features': 'sqrt', 'min_samples_split': 12, 'n_estimators': 130}"
          ],
          [
           "{'max_depth': 6, 'max_features': 'log2', 'min_samples_split': 3, 'n_estimators': 50}"
          ],
          [
           "{'max_depth': 6, 'max_features': 'log2', 'min_samples_split': 3, 'n_estimators': 80}"
          ],
          [
           "{'max_depth': 6, 'max_features': 'log2', 'min_samples_split': 3, 'n_estimators': 110}"
          ],
          [
           "{'max_depth': 6, 'max_features': 'log2', 'min_samples_split': 3, 'n_estimators': 130}"
          ],
          [
           "{'max_depth': 6, 'max_features': 'log2', 'min_samples_split': 6, 'n_estimators': 50}"
          ],
          [
           "{'max_depth': 6, 'max_features': 'log2', 'min_samples_split': 6, 'n_estimators': 80}"
          ],
          [
           "{'max_depth': 6, 'max_features': 'log2', 'min_samples_split': 6, 'n_estimators': 110}"
          ],
          [
           "{'max_depth': 6, 'max_features': 'log2', 'min_samples_split': 6, 'n_estimators': 130}"
          ],
          [
           "{'max_depth': 6, 'max_features': 'log2', 'min_samples_split': 9, 'n_estimators': 50}"
          ],
          [
           "{'max_depth': 6, 'max_features': 'log2', 'min_samples_split': 9, 'n_estimators': 80}"
          ],
          [
           "{'max_depth': 6, 'max_features': 'log2', 'min_samples_split': 9, 'n_estimators': 110}"
          ],
          [
           "{'max_depth': 6, 'max_features': 'log2', 'min_samples_split': 9, 'n_estimators': 130}"
          ],
          [
           "{'max_depth': 6, 'max_features': 'log2', 'min_samples_split': 12, 'n_estimators': 50}"
          ],
          [
           "{'max_depth': 6, 'max_features': 'log2', 'min_samples_split': 12, 'n_estimators': 80}"
          ],
          [
           "{'max_depth': 6, 'max_features': 'log2', 'min_samples_split': 12, 'n_estimators': 110}"
          ],
          [
           "{'max_depth': 6, 'max_features': 'log2', 'min_samples_split': 12, 'n_estimators': 130}"
          ],
          [
           "{'max_depth': 9, 'max_features': 'sqrt', 'min_samples_split': 3, 'n_estimators': 50}"
          ],
          [
           "{'max_depth': 9, 'max_features': 'sqrt', 'min_samples_split': 3, 'n_estimators': 80}"
          ],
          [
           "{'max_depth': 9, 'max_features': 'sqrt', 'min_samples_split': 3, 'n_estimators': 110}"
          ],
          [
           "{'max_depth': 9, 'max_features': 'sqrt', 'min_samples_split': 3, 'n_estimators': 130}"
          ],
          [
           "{'max_depth': 9, 'max_features': 'sqrt', 'min_samples_split': 6, 'n_estimators': 50}"
          ],
          [
           "{'max_depth': 9, 'max_features': 'sqrt', 'min_samples_split': 6, 'n_estimators': 80}"
          ],
          [
           "{'max_depth': 9, 'max_features': 'sqrt', 'min_samples_split': 6, 'n_estimators': 110}"
          ],
          [
           "{'max_depth': 9, 'max_features': 'sqrt', 'min_samples_split': 6, 'n_estimators': 130}"
          ],
          [
           "{'max_depth': 9, 'max_features': 'sqrt', 'min_samples_split': 9, 'n_estimators': 50}"
          ],
          [
           "{'max_depth': 9, 'max_features': 'sqrt', 'min_samples_split': 9, 'n_estimators': 80}"
          ],
          [
           "{'max_depth': 9, 'max_features': 'sqrt', 'min_samples_split': 9, 'n_estimators': 110}"
          ],
          [
           "{'max_depth': 9, 'max_features': 'sqrt', 'min_samples_split': 9, 'n_estimators': 130}"
          ],
          [
           "{'max_depth': 9, 'max_features': 'sqrt', 'min_samples_split': 12, 'n_estimators': 50}"
          ],
          [
           "{'max_depth': 9, 'max_features': 'sqrt', 'min_samples_split': 12, 'n_estimators': 80}"
          ],
          [
           "{'max_depth': 9, 'max_features': 'sqrt', 'min_samples_split': 12, 'n_estimators': 110}"
          ],
          [
           "{'max_depth': 9, 'max_features': 'sqrt', 'min_samples_split': 12, 'n_estimators': 130}"
          ],
          [
           "{'max_depth': 9, 'max_features': 'log2', 'min_samples_split': 3, 'n_estimators': 50}"
          ],
          [
           "{'max_depth': 9, 'max_features': 'log2', 'min_samples_split': 3, 'n_estimators': 80}"
          ],
          [
           "{'max_depth': 9, 'max_features': 'log2', 'min_samples_split': 3, 'n_estimators': 110}"
          ],
          [
           "{'max_depth': 9, 'max_features': 'log2', 'min_samples_split': 3, 'n_estimators': 130}"
          ],
          [
           "{'max_depth': 9, 'max_features': 'log2', 'min_samples_split': 6, 'n_estimators': 50}"
          ],
          [
           "{'max_depth': 9, 'max_features': 'log2', 'min_samples_split': 6, 'n_estimators': 80}"
          ],
          [
           "{'max_depth': 9, 'max_features': 'log2', 'min_samples_split': 6, 'n_estimators': 110}"
          ],
          [
           "{'max_depth': 9, 'max_features': 'log2', 'min_samples_split': 6, 'n_estimators': 130}"
          ],
          [
           "{'max_depth': 9, 'max_features': 'log2', 'min_samples_split': 9, 'n_estimators': 50}"
          ],
          [
           "{'max_depth': 9, 'max_features': 'log2', 'min_samples_split': 9, 'n_estimators': 80}"
          ],
          [
           "{'max_depth': 9, 'max_features': 'log2', 'min_samples_split': 9, 'n_estimators': 110}"
          ],
          [
           "{'max_depth': 9, 'max_features': 'log2', 'min_samples_split': 9, 'n_estimators': 130}"
          ],
          [
           "{'max_depth': 9, 'max_features': 'log2', 'min_samples_split': 12, 'n_estimators': 50}"
          ],
          [
           "{'max_depth': 9, 'max_features': 'log2', 'min_samples_split': 12, 'n_estimators': 80}"
          ],
          [
           "{'max_depth': 9, 'max_features': 'log2', 'min_samples_split': 12, 'n_estimators': 110}"
          ],
          [
           "{'max_depth': 9, 'max_features': 'log2', 'min_samples_split': 12, 'n_estimators': 130}"
          ]
         ],
         "error_y": {
          "array": [
           0.03028931155814228,
           0.022005665391927484,
           0.023457776952681225,
           0.024926461354613388,
           0.03476819758093525,
           0.026935328405882742,
           0.022575449981813905,
           0.020467145897072242,
           0.028452701889822418,
           0.012786998515516278,
           0.025515121967123598,
           0.019330859814021703,
           0.008396906621692565,
           0.026872648820696662,
           0.014569548488525309,
           0.015060507533231057,
           0.019839504407549433,
           0.02059906913596979,
           0.02121490460035714,
           0.008972951462883344,
           0.024414122234309325,
           0.0171802196174614,
           0.019032092239336173,
           0.032995169829405195,
           0.031130415072979797,
           0.0157653309303105,
           0.02063477753152106,
           0.02694298134814844,
           0.023350861092421852,
           0.02903799799239791,
           0.022162908459285875,
           0.02366373106270543,
           0.03601270500517993,
           0.025408924755518873,
           0.029497920164390203,
           0.024606864011513966,
           0.029549106224122317,
           0.02080178339554589,
           0.009794503468737038,
           0.034352972056029274,
           0.023448087859456252,
           0.02928024819849775,
           0.023097193047598382,
           0.028221114390954264,
           0.01994058109892768,
           0.02656701675415517,
           0.023771120178719615,
           0.019106412507274042,
           0.020685574769870832,
           0.03731386804722344,
           0.029414724953781623,
           0.02778073904634809,
           0.021115120466620552,
           0.03393598808453292,
           0.03897977381551227,
           0.021784026615439565,
           0.03595242478018457,
           0.020668695019978634,
           0.031291289888171994,
           0.03936876751026945,
           0.033962410697473744,
           0.028508031217310593,
           0.029504636932278946,
           0.043947904975754154,
           0.0294591826437989,
           0.03126071396663042,
           0.02847081244278438,
           0.039435522236842276,
           0.025689951720790118,
           0.05166541927797541,
           0.027395237132758144,
           0.026468954249862287,
           0.03286537492283988,
           0.030098784574043216,
           0.03592714950216584,
           0.03183477133214229,
           0.04061897713630393,
           0.03099342159122395,
           0.026824656625887674,
           0.019475841144097235,
           0.03883482387942844,
           0.019222335960600953,
           0.026879775815111934,
           0.03505350985791534,
           0.028127501393673558,
           0.03690582181580582,
           0.04443081395844453,
           0.0377200445448658,
           0.06219482660142956,
           0.02922076123526903,
           0.015619271713424539,
           0.02918367929253958,
           0.042736318641482196,
           0.025026934625821125,
           0.02257479256755988,
           0.038953272396479124
          ]
         },
         "hovertemplate": "<b>%{hovertext}</b><br><br>type=test<br>Params=%{x}<br>Average f1=%{y}<br>params=%{customdata[0]}<extra></extra>",
         "hovertext": [
          "{'max_depth': 3, 'max_features': 'sqrt', 'min_samples_split': 3, 'n_estimators': 50}",
          "{'max_depth': 3, 'max_features': 'sqrt', 'min_samples_split': 3, 'n_estimators': 80}",
          "{'max_depth': 3, 'max_features': 'sqrt', 'min_samples_split': 3, 'n_estimators': 110}",
          "{'max_depth': 3, 'max_features': 'sqrt', 'min_samples_split': 3, 'n_estimators': 130}",
          "{'max_depth': 3, 'max_features': 'sqrt', 'min_samples_split': 6, 'n_estimators': 50}",
          "{'max_depth': 3, 'max_features': 'sqrt', 'min_samples_split': 6, 'n_estimators': 80}",
          "{'max_depth': 3, 'max_features': 'sqrt', 'min_samples_split': 6, 'n_estimators': 110}",
          "{'max_depth': 3, 'max_features': 'sqrt', 'min_samples_split': 6, 'n_estimators': 130}",
          "{'max_depth': 3, 'max_features': 'sqrt', 'min_samples_split': 9, 'n_estimators': 50}",
          "{'max_depth': 3, 'max_features': 'sqrt', 'min_samples_split': 9, 'n_estimators': 80}",
          "{'max_depth': 3, 'max_features': 'sqrt', 'min_samples_split': 9, 'n_estimators': 110}",
          "{'max_depth': 3, 'max_features': 'sqrt', 'min_samples_split': 9, 'n_estimators': 130}",
          "{'max_depth': 3, 'max_features': 'sqrt', 'min_samples_split': 12, 'n_estimators': 50}",
          "{'max_depth': 3, 'max_features': 'sqrt', 'min_samples_split': 12, 'n_estimators': 80}",
          "{'max_depth': 3, 'max_features': 'sqrt', 'min_samples_split': 12, 'n_estimators': 110}",
          "{'max_depth': 3, 'max_features': 'sqrt', 'min_samples_split': 12, 'n_estimators': 130}",
          "{'max_depth': 3, 'max_features': 'log2', 'min_samples_split': 3, 'n_estimators': 50}",
          "{'max_depth': 3, 'max_features': 'log2', 'min_samples_split': 3, 'n_estimators': 80}",
          "{'max_depth': 3, 'max_features': 'log2', 'min_samples_split': 3, 'n_estimators': 110}",
          "{'max_depth': 3, 'max_features': 'log2', 'min_samples_split': 3, 'n_estimators': 130}",
          "{'max_depth': 3, 'max_features': 'log2', 'min_samples_split': 6, 'n_estimators': 50}",
          "{'max_depth': 3, 'max_features': 'log2', 'min_samples_split': 6, 'n_estimators': 80}",
          "{'max_depth': 3, 'max_features': 'log2', 'min_samples_split': 6, 'n_estimators': 110}",
          "{'max_depth': 3, 'max_features': 'log2', 'min_samples_split': 6, 'n_estimators': 130}",
          "{'max_depth': 3, 'max_features': 'log2', 'min_samples_split': 9, 'n_estimators': 50}",
          "{'max_depth': 3, 'max_features': 'log2', 'min_samples_split': 9, 'n_estimators': 80}",
          "{'max_depth': 3, 'max_features': 'log2', 'min_samples_split': 9, 'n_estimators': 110}",
          "{'max_depth': 3, 'max_features': 'log2', 'min_samples_split': 9, 'n_estimators': 130}",
          "{'max_depth': 3, 'max_features': 'log2', 'min_samples_split': 12, 'n_estimators': 50}",
          "{'max_depth': 3, 'max_features': 'log2', 'min_samples_split': 12, 'n_estimators': 80}",
          "{'max_depth': 3, 'max_features': 'log2', 'min_samples_split': 12, 'n_estimators': 110}",
          "{'max_depth': 3, 'max_features': 'log2', 'min_samples_split': 12, 'n_estimators': 130}",
          "{'max_depth': 6, 'max_features': 'sqrt', 'min_samples_split': 3, 'n_estimators': 50}",
          "{'max_depth': 6, 'max_features': 'sqrt', 'min_samples_split': 3, 'n_estimators': 80}",
          "{'max_depth': 6, 'max_features': 'sqrt', 'min_samples_split': 3, 'n_estimators': 110}",
          "{'max_depth': 6, 'max_features': 'sqrt', 'min_samples_split': 3, 'n_estimators': 130}",
          "{'max_depth': 6, 'max_features': 'sqrt', 'min_samples_split': 6, 'n_estimators': 50}",
          "{'max_depth': 6, 'max_features': 'sqrt', 'min_samples_split': 6, 'n_estimators': 80}",
          "{'max_depth': 6, 'max_features': 'sqrt', 'min_samples_split': 6, 'n_estimators': 110}",
          "{'max_depth': 6, 'max_features': 'sqrt', 'min_samples_split': 6, 'n_estimators': 130}",
          "{'max_depth': 6, 'max_features': 'sqrt', 'min_samples_split': 9, 'n_estimators': 50}",
          "{'max_depth': 6, 'max_features': 'sqrt', 'min_samples_split': 9, 'n_estimators': 80}",
          "{'max_depth': 6, 'max_features': 'sqrt', 'min_samples_split': 9, 'n_estimators': 110}",
          "{'max_depth': 6, 'max_features': 'sqrt', 'min_samples_split': 9, 'n_estimators': 130}",
          "{'max_depth': 6, 'max_features': 'sqrt', 'min_samples_split': 12, 'n_estimators': 50}",
          "{'max_depth': 6, 'max_features': 'sqrt', 'min_samples_split': 12, 'n_estimators': 80}",
          "{'max_depth': 6, 'max_features': 'sqrt', 'min_samples_split': 12, 'n_estimators': 110}",
          "{'max_depth': 6, 'max_features': 'sqrt', 'min_samples_split': 12, 'n_estimators': 130}",
          "{'max_depth': 6, 'max_features': 'log2', 'min_samples_split': 3, 'n_estimators': 50}",
          "{'max_depth': 6, 'max_features': 'log2', 'min_samples_split': 3, 'n_estimators': 80}",
          "{'max_depth': 6, 'max_features': 'log2', 'min_samples_split': 3, 'n_estimators': 110}",
          "{'max_depth': 6, 'max_features': 'log2', 'min_samples_split': 3, 'n_estimators': 130}",
          "{'max_depth': 6, 'max_features': 'log2', 'min_samples_split': 6, 'n_estimators': 50}",
          "{'max_depth': 6, 'max_features': 'log2', 'min_samples_split': 6, 'n_estimators': 80}",
          "{'max_depth': 6, 'max_features': 'log2', 'min_samples_split': 6, 'n_estimators': 110}",
          "{'max_depth': 6, 'max_features': 'log2', 'min_samples_split': 6, 'n_estimators': 130}",
          "{'max_depth': 6, 'max_features': 'log2', 'min_samples_split': 9, 'n_estimators': 50}",
          "{'max_depth': 6, 'max_features': 'log2', 'min_samples_split': 9, 'n_estimators': 80}",
          "{'max_depth': 6, 'max_features': 'log2', 'min_samples_split': 9, 'n_estimators': 110}",
          "{'max_depth': 6, 'max_features': 'log2', 'min_samples_split': 9, 'n_estimators': 130}",
          "{'max_depth': 6, 'max_features': 'log2', 'min_samples_split': 12, 'n_estimators': 50}",
          "{'max_depth': 6, 'max_features': 'log2', 'min_samples_split': 12, 'n_estimators': 80}",
          "{'max_depth': 6, 'max_features': 'log2', 'min_samples_split': 12, 'n_estimators': 110}",
          "{'max_depth': 6, 'max_features': 'log2', 'min_samples_split': 12, 'n_estimators': 130}",
          "{'max_depth': 9, 'max_features': 'sqrt', 'min_samples_split': 3, 'n_estimators': 50}",
          "{'max_depth': 9, 'max_features': 'sqrt', 'min_samples_split': 3, 'n_estimators': 80}",
          "{'max_depth': 9, 'max_features': 'sqrt', 'min_samples_split': 3, 'n_estimators': 110}",
          "{'max_depth': 9, 'max_features': 'sqrt', 'min_samples_split': 3, 'n_estimators': 130}",
          "{'max_depth': 9, 'max_features': 'sqrt', 'min_samples_split': 6, 'n_estimators': 50}",
          "{'max_depth': 9, 'max_features': 'sqrt', 'min_samples_split': 6, 'n_estimators': 80}",
          "{'max_depth': 9, 'max_features': 'sqrt', 'min_samples_split': 6, 'n_estimators': 110}",
          "{'max_depth': 9, 'max_features': 'sqrt', 'min_samples_split': 6, 'n_estimators': 130}",
          "{'max_depth': 9, 'max_features': 'sqrt', 'min_samples_split': 9, 'n_estimators': 50}",
          "{'max_depth': 9, 'max_features': 'sqrt', 'min_samples_split': 9, 'n_estimators': 80}",
          "{'max_depth': 9, 'max_features': 'sqrt', 'min_samples_split': 9, 'n_estimators': 110}",
          "{'max_depth': 9, 'max_features': 'sqrt', 'min_samples_split': 9, 'n_estimators': 130}",
          "{'max_depth': 9, 'max_features': 'sqrt', 'min_samples_split': 12, 'n_estimators': 50}",
          "{'max_depth': 9, 'max_features': 'sqrt', 'min_samples_split': 12, 'n_estimators': 80}",
          "{'max_depth': 9, 'max_features': 'sqrt', 'min_samples_split': 12, 'n_estimators': 110}",
          "{'max_depth': 9, 'max_features': 'sqrt', 'min_samples_split': 12, 'n_estimators': 130}",
          "{'max_depth': 9, 'max_features': 'log2', 'min_samples_split': 3, 'n_estimators': 50}",
          "{'max_depth': 9, 'max_features': 'log2', 'min_samples_split': 3, 'n_estimators': 80}",
          "{'max_depth': 9, 'max_features': 'log2', 'min_samples_split': 3, 'n_estimators': 110}",
          "{'max_depth': 9, 'max_features': 'log2', 'min_samples_split': 3, 'n_estimators': 130}",
          "{'max_depth': 9, 'max_features': 'log2', 'min_samples_split': 6, 'n_estimators': 50}",
          "{'max_depth': 9, 'max_features': 'log2', 'min_samples_split': 6, 'n_estimators': 80}",
          "{'max_depth': 9, 'max_features': 'log2', 'min_samples_split': 6, 'n_estimators': 110}",
          "{'max_depth': 9, 'max_features': 'log2', 'min_samples_split': 6, 'n_estimators': 130}",
          "{'max_depth': 9, 'max_features': 'log2', 'min_samples_split': 9, 'n_estimators': 50}",
          "{'max_depth': 9, 'max_features': 'log2', 'min_samples_split': 9, 'n_estimators': 80}",
          "{'max_depth': 9, 'max_features': 'log2', 'min_samples_split': 9, 'n_estimators': 110}",
          "{'max_depth': 9, 'max_features': 'log2', 'min_samples_split': 9, 'n_estimators': 130}",
          "{'max_depth': 9, 'max_features': 'log2', 'min_samples_split': 12, 'n_estimators': 50}",
          "{'max_depth': 9, 'max_features': 'log2', 'min_samples_split': 12, 'n_estimators': 80}",
          "{'max_depth': 9, 'max_features': 'log2', 'min_samples_split': 12, 'n_estimators': 110}",
          "{'max_depth': 9, 'max_features': 'log2', 'min_samples_split': 12, 'n_estimators': 130}"
         ],
         "legendgroup": "test",
         "marker": {
          "color": "#636efa",
          "pattern": {
           "shape": ""
          }
         },
         "name": "test",
         "offsetgroup": "test",
         "orientation": "v",
         "showlegend": true,
         "textposition": "auto",
         "type": "bar",
         "x": [
          0,
          1,
          2,
          3,
          4,
          5,
          6,
          7,
          8,
          9,
          10,
          11,
          12,
          13,
          14,
          15,
          16,
          17,
          18,
          19,
          20,
          21,
          22,
          23,
          24,
          25,
          26,
          27,
          28,
          29,
          30,
          31,
          32,
          33,
          34,
          35,
          36,
          37,
          38,
          39,
          40,
          41,
          42,
          43,
          44,
          45,
          46,
          47,
          48,
          49,
          50,
          51,
          52,
          53,
          54,
          55,
          56,
          57,
          58,
          59,
          60,
          61,
          62,
          63,
          64,
          65,
          66,
          67,
          68,
          69,
          70,
          71,
          72,
          73,
          74,
          75,
          76,
          77,
          78,
          79,
          80,
          81,
          82,
          83,
          84,
          85,
          86,
          87,
          88,
          89,
          90,
          91,
          92,
          93,
          94,
          95
         ],
         "xaxis": "x",
         "y": [
          0.10773227794268607,
          0.09113204058372662,
          0.10060855154779084,
          0.09064646996812868,
          0.09895027958296476,
          0.11503381156621069,
          0.09291375812440542,
          0.09388344087101337,
          0.09483065882154348,
          0.09718315311022134,
          0.09666914253880834,
          0.10650511712902344,
          0.11204174850673762,
          0.09428693540515928,
          0.10211246599227555,
          0.10447980173456264,
          0.11643410067993179,
          0.10023642540104254,
          0.08982331639670674,
          0.09666543853360189,
          0.12189037267424666,
          0.10280628783881293,
          0.10234612408205468,
          0.08831790955082548,
          0.08730951222973268,
          0.08700290733311031,
          0.10209255149984867,
          0.09539620015647082,
          0.1021894730960546,
          0.09641790655875163,
          0.09432311686929165,
          0.09131544672994833,
          0.2336776693771187,
          0.23092489456290438,
          0.22135159549120892,
          0.22754702223485426,
          0.22920315068505753,
          0.22740004521371443,
          0.22277844867065286,
          0.22954018975450213,
          0.23647687250261104,
          0.23377097116980786,
          0.238082942561001,
          0.2268743976572901,
          0.24042635714152452,
          0.22846767326146641,
          0.22460495263488692,
          0.2218823438760161,
          0.236938066465761,
          0.24975451482266306,
          0.2336095786218772,
          0.22778589373609623,
          0.24249738813048122,
          0.22706143969335696,
          0.22634904681546444,
          0.21517236593729244,
          0.2265276630870015,
          0.2190978901381086,
          0.2169328989154129,
          0.2218066428534753,
          0.2222768105478247,
          0.22673158687665276,
          0.22411509069861069,
          0.23164160406915685,
          0.29189453656194597,
          0.2939674753409562,
          0.30301727415982993,
          0.2885708318943367,
          0.3108439416099855,
          0.29432830287162604,
          0.2916287059506705,
          0.29061872203933486,
          0.29543311908082215,
          0.3019816418026579,
          0.30318020427685644,
          0.2957622159744665,
          0.2927227220451952,
          0.2980110007944505,
          0.3021467426490249,
          0.2992440266707739,
          0.29933491508095533,
          0.29614682323640934,
          0.2975361907337828,
          0.2966608902768367,
          0.2829216819514294,
          0.287309495028346,
          0.2955246139294133,
          0.29797860652858765,
          0.31590095116729,
          0.28806095726546793,
          0.29417480024974885,
          0.28963988703424604,
          0.30619796624754414,
          0.28473147850753294,
          0.2902233859757775,
          0.29663833016112906
         ],
         "yaxis": "y"
        },
        {
         "alignmentgroup": "True",
         "customdata": [
          [
           "{'max_depth': 3, 'max_features': 'sqrt', 'min_samples_split': 3, 'n_estimators': 50}"
          ],
          [
           "{'max_depth': 3, 'max_features': 'sqrt', 'min_samples_split': 3, 'n_estimators': 80}"
          ],
          [
           "{'max_depth': 3, 'max_features': 'sqrt', 'min_samples_split': 3, 'n_estimators': 110}"
          ],
          [
           "{'max_depth': 3, 'max_features': 'sqrt', 'min_samples_split': 3, 'n_estimators': 130}"
          ],
          [
           "{'max_depth': 3, 'max_features': 'sqrt', 'min_samples_split': 6, 'n_estimators': 50}"
          ],
          [
           "{'max_depth': 3, 'max_features': 'sqrt', 'min_samples_split': 6, 'n_estimators': 80}"
          ],
          [
           "{'max_depth': 3, 'max_features': 'sqrt', 'min_samples_split': 6, 'n_estimators': 110}"
          ],
          [
           "{'max_depth': 3, 'max_features': 'sqrt', 'min_samples_split': 6, 'n_estimators': 130}"
          ],
          [
           "{'max_depth': 3, 'max_features': 'sqrt', 'min_samples_split': 9, 'n_estimators': 50}"
          ],
          [
           "{'max_depth': 3, 'max_features': 'sqrt', 'min_samples_split': 9, 'n_estimators': 80}"
          ],
          [
           "{'max_depth': 3, 'max_features': 'sqrt', 'min_samples_split': 9, 'n_estimators': 110}"
          ],
          [
           "{'max_depth': 3, 'max_features': 'sqrt', 'min_samples_split': 9, 'n_estimators': 130}"
          ],
          [
           "{'max_depth': 3, 'max_features': 'sqrt', 'min_samples_split': 12, 'n_estimators': 50}"
          ],
          [
           "{'max_depth': 3, 'max_features': 'sqrt', 'min_samples_split': 12, 'n_estimators': 80}"
          ],
          [
           "{'max_depth': 3, 'max_features': 'sqrt', 'min_samples_split': 12, 'n_estimators': 110}"
          ],
          [
           "{'max_depth': 3, 'max_features': 'sqrt', 'min_samples_split': 12, 'n_estimators': 130}"
          ],
          [
           "{'max_depth': 3, 'max_features': 'log2', 'min_samples_split': 3, 'n_estimators': 50}"
          ],
          [
           "{'max_depth': 3, 'max_features': 'log2', 'min_samples_split': 3, 'n_estimators': 80}"
          ],
          [
           "{'max_depth': 3, 'max_features': 'log2', 'min_samples_split': 3, 'n_estimators': 110}"
          ],
          [
           "{'max_depth': 3, 'max_features': 'log2', 'min_samples_split': 3, 'n_estimators': 130}"
          ],
          [
           "{'max_depth': 3, 'max_features': 'log2', 'min_samples_split': 6, 'n_estimators': 50}"
          ],
          [
           "{'max_depth': 3, 'max_features': 'log2', 'min_samples_split': 6, 'n_estimators': 80}"
          ],
          [
           "{'max_depth': 3, 'max_features': 'log2', 'min_samples_split': 6, 'n_estimators': 110}"
          ],
          [
           "{'max_depth': 3, 'max_features': 'log2', 'min_samples_split': 6, 'n_estimators': 130}"
          ],
          [
           "{'max_depth': 3, 'max_features': 'log2', 'min_samples_split': 9, 'n_estimators': 50}"
          ],
          [
           "{'max_depth': 3, 'max_features': 'log2', 'min_samples_split': 9, 'n_estimators': 80}"
          ],
          [
           "{'max_depth': 3, 'max_features': 'log2', 'min_samples_split': 9, 'n_estimators': 110}"
          ],
          [
           "{'max_depth': 3, 'max_features': 'log2', 'min_samples_split': 9, 'n_estimators': 130}"
          ],
          [
           "{'max_depth': 3, 'max_features': 'log2', 'min_samples_split': 12, 'n_estimators': 50}"
          ],
          [
           "{'max_depth': 3, 'max_features': 'log2', 'min_samples_split': 12, 'n_estimators': 80}"
          ],
          [
           "{'max_depth': 3, 'max_features': 'log2', 'min_samples_split': 12, 'n_estimators': 110}"
          ],
          [
           "{'max_depth': 3, 'max_features': 'log2', 'min_samples_split': 12, 'n_estimators': 130}"
          ],
          [
           "{'max_depth': 6, 'max_features': 'sqrt', 'min_samples_split': 3, 'n_estimators': 50}"
          ],
          [
           "{'max_depth': 6, 'max_features': 'sqrt', 'min_samples_split': 3, 'n_estimators': 80}"
          ],
          [
           "{'max_depth': 6, 'max_features': 'sqrt', 'min_samples_split': 3, 'n_estimators': 110}"
          ],
          [
           "{'max_depth': 6, 'max_features': 'sqrt', 'min_samples_split': 3, 'n_estimators': 130}"
          ],
          [
           "{'max_depth': 6, 'max_features': 'sqrt', 'min_samples_split': 6, 'n_estimators': 50}"
          ],
          [
           "{'max_depth': 6, 'max_features': 'sqrt', 'min_samples_split': 6, 'n_estimators': 80}"
          ],
          [
           "{'max_depth': 6, 'max_features': 'sqrt', 'min_samples_split': 6, 'n_estimators': 110}"
          ],
          [
           "{'max_depth': 6, 'max_features': 'sqrt', 'min_samples_split': 6, 'n_estimators': 130}"
          ],
          [
           "{'max_depth': 6, 'max_features': 'sqrt', 'min_samples_split': 9, 'n_estimators': 50}"
          ],
          [
           "{'max_depth': 6, 'max_features': 'sqrt', 'min_samples_split': 9, 'n_estimators': 80}"
          ],
          [
           "{'max_depth': 6, 'max_features': 'sqrt', 'min_samples_split': 9, 'n_estimators': 110}"
          ],
          [
           "{'max_depth': 6, 'max_features': 'sqrt', 'min_samples_split': 9, 'n_estimators': 130}"
          ],
          [
           "{'max_depth': 6, 'max_features': 'sqrt', 'min_samples_split': 12, 'n_estimators': 50}"
          ],
          [
           "{'max_depth': 6, 'max_features': 'sqrt', 'min_samples_split': 12, 'n_estimators': 80}"
          ],
          [
           "{'max_depth': 6, 'max_features': 'sqrt', 'min_samples_split': 12, 'n_estimators': 110}"
          ],
          [
           "{'max_depth': 6, 'max_features': 'sqrt', 'min_samples_split': 12, 'n_estimators': 130}"
          ],
          [
           "{'max_depth': 6, 'max_features': 'log2', 'min_samples_split': 3, 'n_estimators': 50}"
          ],
          [
           "{'max_depth': 6, 'max_features': 'log2', 'min_samples_split': 3, 'n_estimators': 80}"
          ],
          [
           "{'max_depth': 6, 'max_features': 'log2', 'min_samples_split': 3, 'n_estimators': 110}"
          ],
          [
           "{'max_depth': 6, 'max_features': 'log2', 'min_samples_split': 3, 'n_estimators': 130}"
          ],
          [
           "{'max_depth': 6, 'max_features': 'log2', 'min_samples_split': 6, 'n_estimators': 50}"
          ],
          [
           "{'max_depth': 6, 'max_features': 'log2', 'min_samples_split': 6, 'n_estimators': 80}"
          ],
          [
           "{'max_depth': 6, 'max_features': 'log2', 'min_samples_split': 6, 'n_estimators': 110}"
          ],
          [
           "{'max_depth': 6, 'max_features': 'log2', 'min_samples_split': 6, 'n_estimators': 130}"
          ],
          [
           "{'max_depth': 6, 'max_features': 'log2', 'min_samples_split': 9, 'n_estimators': 50}"
          ],
          [
           "{'max_depth': 6, 'max_features': 'log2', 'min_samples_split': 9, 'n_estimators': 80}"
          ],
          [
           "{'max_depth': 6, 'max_features': 'log2', 'min_samples_split': 9, 'n_estimators': 110}"
          ],
          [
           "{'max_depth': 6, 'max_features': 'log2', 'min_samples_split': 9, 'n_estimators': 130}"
          ],
          [
           "{'max_depth': 6, 'max_features': 'log2', 'min_samples_split': 12, 'n_estimators': 50}"
          ],
          [
           "{'max_depth': 6, 'max_features': 'log2', 'min_samples_split': 12, 'n_estimators': 80}"
          ],
          [
           "{'max_depth': 6, 'max_features': 'log2', 'min_samples_split': 12, 'n_estimators': 110}"
          ],
          [
           "{'max_depth': 6, 'max_features': 'log2', 'min_samples_split': 12, 'n_estimators': 130}"
          ],
          [
           "{'max_depth': 9, 'max_features': 'sqrt', 'min_samples_split': 3, 'n_estimators': 50}"
          ],
          [
           "{'max_depth': 9, 'max_features': 'sqrt', 'min_samples_split': 3, 'n_estimators': 80}"
          ],
          [
           "{'max_depth': 9, 'max_features': 'sqrt', 'min_samples_split': 3, 'n_estimators': 110}"
          ],
          [
           "{'max_depth': 9, 'max_features': 'sqrt', 'min_samples_split': 3, 'n_estimators': 130}"
          ],
          [
           "{'max_depth': 9, 'max_features': 'sqrt', 'min_samples_split': 6, 'n_estimators': 50}"
          ],
          [
           "{'max_depth': 9, 'max_features': 'sqrt', 'min_samples_split': 6, 'n_estimators': 80}"
          ],
          [
           "{'max_depth': 9, 'max_features': 'sqrt', 'min_samples_split': 6, 'n_estimators': 110}"
          ],
          [
           "{'max_depth': 9, 'max_features': 'sqrt', 'min_samples_split': 6, 'n_estimators': 130}"
          ],
          [
           "{'max_depth': 9, 'max_features': 'sqrt', 'min_samples_split': 9, 'n_estimators': 50}"
          ],
          [
           "{'max_depth': 9, 'max_features': 'sqrt', 'min_samples_split': 9, 'n_estimators': 80}"
          ],
          [
           "{'max_depth': 9, 'max_features': 'sqrt', 'min_samples_split': 9, 'n_estimators': 110}"
          ],
          [
           "{'max_depth': 9, 'max_features': 'sqrt', 'min_samples_split': 9, 'n_estimators': 130}"
          ],
          [
           "{'max_depth': 9, 'max_features': 'sqrt', 'min_samples_split': 12, 'n_estimators': 50}"
          ],
          [
           "{'max_depth': 9, 'max_features': 'sqrt', 'min_samples_split': 12, 'n_estimators': 80}"
          ],
          [
           "{'max_depth': 9, 'max_features': 'sqrt', 'min_samples_split': 12, 'n_estimators': 110}"
          ],
          [
           "{'max_depth': 9, 'max_features': 'sqrt', 'min_samples_split': 12, 'n_estimators': 130}"
          ],
          [
           "{'max_depth': 9, 'max_features': 'log2', 'min_samples_split': 3, 'n_estimators': 50}"
          ],
          [
           "{'max_depth': 9, 'max_features': 'log2', 'min_samples_split': 3, 'n_estimators': 80}"
          ],
          [
           "{'max_depth': 9, 'max_features': 'log2', 'min_samples_split': 3, 'n_estimators': 110}"
          ],
          [
           "{'max_depth': 9, 'max_features': 'log2', 'min_samples_split': 3, 'n_estimators': 130}"
          ],
          [
           "{'max_depth': 9, 'max_features': 'log2', 'min_samples_split': 6, 'n_estimators': 50}"
          ],
          [
           "{'max_depth': 9, 'max_features': 'log2', 'min_samples_split': 6, 'n_estimators': 80}"
          ],
          [
           "{'max_depth': 9, 'max_features': 'log2', 'min_samples_split': 6, 'n_estimators': 110}"
          ],
          [
           "{'max_depth': 9, 'max_features': 'log2', 'min_samples_split': 6, 'n_estimators': 130}"
          ],
          [
           "{'max_depth': 9, 'max_features': 'log2', 'min_samples_split': 9, 'n_estimators': 50}"
          ],
          [
           "{'max_depth': 9, 'max_features': 'log2', 'min_samples_split': 9, 'n_estimators': 80}"
          ],
          [
           "{'max_depth': 9, 'max_features': 'log2', 'min_samples_split': 9, 'n_estimators': 110}"
          ],
          [
           "{'max_depth': 9, 'max_features': 'log2', 'min_samples_split': 9, 'n_estimators': 130}"
          ],
          [
           "{'max_depth': 9, 'max_features': 'log2', 'min_samples_split': 12, 'n_estimators': 50}"
          ],
          [
           "{'max_depth': 9, 'max_features': 'log2', 'min_samples_split': 12, 'n_estimators': 80}"
          ],
          [
           "{'max_depth': 9, 'max_features': 'log2', 'min_samples_split': 12, 'n_estimators': 110}"
          ],
          [
           "{'max_depth': 9, 'max_features': 'log2', 'min_samples_split': 12, 'n_estimators': 130}"
          ]
         ],
         "error_y": {
          "array": [
           0.029908000780506,
           0.03563499978087144,
           0.027035603718194374,
           0.03679137693999465,
           0.03065893940205385,
           0.036078445922360515,
           0.020083413142060223,
           0.025543359248494737,
           0.036292887023391354,
           0.026490884007597037,
           0.030876599203418047,
           0.028839911886195346,
           0.03455501274185681,
           0.024320204463194505,
           0.03362385784544675,
           0.035335400738030695,
           0.03918604382992478,
           0.033405651577770486,
           0.028949003114109053,
           0.02989958983419144,
           0.034048612996302005,
           0.035082653274959734,
           0.02813170993256333,
           0.030993525211545206,
           0.02303970165731708,
           0.030210025196631345,
           0.033064451967559166,
           0.02904327862225043,
           0.0318020614647111,
           0.01925573715871397,
           0.02910965775390361,
           0.02932587031183957,
           0.04810267364563392,
           0.04977591850712667,
           0.046806692769982935,
           0.03668929959717984,
           0.03143237096779753,
           0.05390715041532352,
           0.037311672273070064,
           0.04409029836117643,
           0.03504785718215471,
           0.036469668002004664,
           0.05352185025682535,
           0.043350745550067155,
           0.04636553043473676,
           0.05478997078531828,
           0.036852765467759285,
           0.03612139951831718,
           0.03339121523493817,
           0.03520156328788268,
           0.03691925807433839,
           0.02963432813375968,
           0.043672658585613165,
           0.03774076295055688,
           0.03419374888490013,
           0.035314858894513926,
           0.04149905575903727,
           0.03997491987430635,
           0.051729960448649165,
           0.04790054934224727,
           0.03716402504878639,
           0.035792794867313765,
           0.04763911112123623,
           0.04065904489025022,
           0.030099432798192858,
           0.025591225524277592,
           0.023886357754019528,
           0.03428418637339099,
           0.02510161190289367,
           0.031470023524901566,
           0.03779949326025817,
           0.029596574209308845,
           0.026332488648570032,
           0.03255571213993699,
           0.03263452482809732,
           0.02860136749136956,
           0.023835254121050555,
           0.024822444849436198,
           0.02457088651666789,
           0.025069851832623363,
           0.028444392241571574,
           0.030413808102409443,
           0.01724079701883253,
           0.02749491866343655,
           0.02897865340523023,
           0.03035416172470702,
           0.02920938536605447,
           0.02366531913124959,
           0.024198842924144585,
           0.024737301154517857,
           0.0278501583216095,
           0.031045991051181387,
           0.03453397662961931,
           0.02956526626254708,
           0.03183193335962131,
           0.025234188778283182
          ]
         },
         "hovertemplate": "<b>%{hovertext}</b><br><br>type=train<br>Params=%{x}<br>Average f1=%{y}<br>params=%{customdata[0]}<extra></extra>",
         "hovertext": [
          "{'max_depth': 3, 'max_features': 'sqrt', 'min_samples_split': 3, 'n_estimators': 50}",
          "{'max_depth': 3, 'max_features': 'sqrt', 'min_samples_split': 3, 'n_estimators': 80}",
          "{'max_depth': 3, 'max_features': 'sqrt', 'min_samples_split': 3, 'n_estimators': 110}",
          "{'max_depth': 3, 'max_features': 'sqrt', 'min_samples_split': 3, 'n_estimators': 130}",
          "{'max_depth': 3, 'max_features': 'sqrt', 'min_samples_split': 6, 'n_estimators': 50}",
          "{'max_depth': 3, 'max_features': 'sqrt', 'min_samples_split': 6, 'n_estimators': 80}",
          "{'max_depth': 3, 'max_features': 'sqrt', 'min_samples_split': 6, 'n_estimators': 110}",
          "{'max_depth': 3, 'max_features': 'sqrt', 'min_samples_split': 6, 'n_estimators': 130}",
          "{'max_depth': 3, 'max_features': 'sqrt', 'min_samples_split': 9, 'n_estimators': 50}",
          "{'max_depth': 3, 'max_features': 'sqrt', 'min_samples_split': 9, 'n_estimators': 80}",
          "{'max_depth': 3, 'max_features': 'sqrt', 'min_samples_split': 9, 'n_estimators': 110}",
          "{'max_depth': 3, 'max_features': 'sqrt', 'min_samples_split': 9, 'n_estimators': 130}",
          "{'max_depth': 3, 'max_features': 'sqrt', 'min_samples_split': 12, 'n_estimators': 50}",
          "{'max_depth': 3, 'max_features': 'sqrt', 'min_samples_split': 12, 'n_estimators': 80}",
          "{'max_depth': 3, 'max_features': 'sqrt', 'min_samples_split': 12, 'n_estimators': 110}",
          "{'max_depth': 3, 'max_features': 'sqrt', 'min_samples_split': 12, 'n_estimators': 130}",
          "{'max_depth': 3, 'max_features': 'log2', 'min_samples_split': 3, 'n_estimators': 50}",
          "{'max_depth': 3, 'max_features': 'log2', 'min_samples_split': 3, 'n_estimators': 80}",
          "{'max_depth': 3, 'max_features': 'log2', 'min_samples_split': 3, 'n_estimators': 110}",
          "{'max_depth': 3, 'max_features': 'log2', 'min_samples_split': 3, 'n_estimators': 130}",
          "{'max_depth': 3, 'max_features': 'log2', 'min_samples_split': 6, 'n_estimators': 50}",
          "{'max_depth': 3, 'max_features': 'log2', 'min_samples_split': 6, 'n_estimators': 80}",
          "{'max_depth': 3, 'max_features': 'log2', 'min_samples_split': 6, 'n_estimators': 110}",
          "{'max_depth': 3, 'max_features': 'log2', 'min_samples_split': 6, 'n_estimators': 130}",
          "{'max_depth': 3, 'max_features': 'log2', 'min_samples_split': 9, 'n_estimators': 50}",
          "{'max_depth': 3, 'max_features': 'log2', 'min_samples_split': 9, 'n_estimators': 80}",
          "{'max_depth': 3, 'max_features': 'log2', 'min_samples_split': 9, 'n_estimators': 110}",
          "{'max_depth': 3, 'max_features': 'log2', 'min_samples_split': 9, 'n_estimators': 130}",
          "{'max_depth': 3, 'max_features': 'log2', 'min_samples_split': 12, 'n_estimators': 50}",
          "{'max_depth': 3, 'max_features': 'log2', 'min_samples_split': 12, 'n_estimators': 80}",
          "{'max_depth': 3, 'max_features': 'log2', 'min_samples_split': 12, 'n_estimators': 110}",
          "{'max_depth': 3, 'max_features': 'log2', 'min_samples_split': 12, 'n_estimators': 130}",
          "{'max_depth': 6, 'max_features': 'sqrt', 'min_samples_split': 3, 'n_estimators': 50}",
          "{'max_depth': 6, 'max_features': 'sqrt', 'min_samples_split': 3, 'n_estimators': 80}",
          "{'max_depth': 6, 'max_features': 'sqrt', 'min_samples_split': 3, 'n_estimators': 110}",
          "{'max_depth': 6, 'max_features': 'sqrt', 'min_samples_split': 3, 'n_estimators': 130}",
          "{'max_depth': 6, 'max_features': 'sqrt', 'min_samples_split': 6, 'n_estimators': 50}",
          "{'max_depth': 6, 'max_features': 'sqrt', 'min_samples_split': 6, 'n_estimators': 80}",
          "{'max_depth': 6, 'max_features': 'sqrt', 'min_samples_split': 6, 'n_estimators': 110}",
          "{'max_depth': 6, 'max_features': 'sqrt', 'min_samples_split': 6, 'n_estimators': 130}",
          "{'max_depth': 6, 'max_features': 'sqrt', 'min_samples_split': 9, 'n_estimators': 50}",
          "{'max_depth': 6, 'max_features': 'sqrt', 'min_samples_split': 9, 'n_estimators': 80}",
          "{'max_depth': 6, 'max_features': 'sqrt', 'min_samples_split': 9, 'n_estimators': 110}",
          "{'max_depth': 6, 'max_features': 'sqrt', 'min_samples_split': 9, 'n_estimators': 130}",
          "{'max_depth': 6, 'max_features': 'sqrt', 'min_samples_split': 12, 'n_estimators': 50}",
          "{'max_depth': 6, 'max_features': 'sqrt', 'min_samples_split': 12, 'n_estimators': 80}",
          "{'max_depth': 6, 'max_features': 'sqrt', 'min_samples_split': 12, 'n_estimators': 110}",
          "{'max_depth': 6, 'max_features': 'sqrt', 'min_samples_split': 12, 'n_estimators': 130}",
          "{'max_depth': 6, 'max_features': 'log2', 'min_samples_split': 3, 'n_estimators': 50}",
          "{'max_depth': 6, 'max_features': 'log2', 'min_samples_split': 3, 'n_estimators': 80}",
          "{'max_depth': 6, 'max_features': 'log2', 'min_samples_split': 3, 'n_estimators': 110}",
          "{'max_depth': 6, 'max_features': 'log2', 'min_samples_split': 3, 'n_estimators': 130}",
          "{'max_depth': 6, 'max_features': 'log2', 'min_samples_split': 6, 'n_estimators': 50}",
          "{'max_depth': 6, 'max_features': 'log2', 'min_samples_split': 6, 'n_estimators': 80}",
          "{'max_depth': 6, 'max_features': 'log2', 'min_samples_split': 6, 'n_estimators': 110}",
          "{'max_depth': 6, 'max_features': 'log2', 'min_samples_split': 6, 'n_estimators': 130}",
          "{'max_depth': 6, 'max_features': 'log2', 'min_samples_split': 9, 'n_estimators': 50}",
          "{'max_depth': 6, 'max_features': 'log2', 'min_samples_split': 9, 'n_estimators': 80}",
          "{'max_depth': 6, 'max_features': 'log2', 'min_samples_split': 9, 'n_estimators': 110}",
          "{'max_depth': 6, 'max_features': 'log2', 'min_samples_split': 9, 'n_estimators': 130}",
          "{'max_depth': 6, 'max_features': 'log2', 'min_samples_split': 12, 'n_estimators': 50}",
          "{'max_depth': 6, 'max_features': 'log2', 'min_samples_split': 12, 'n_estimators': 80}",
          "{'max_depth': 6, 'max_features': 'log2', 'min_samples_split': 12, 'n_estimators': 110}",
          "{'max_depth': 6, 'max_features': 'log2', 'min_samples_split': 12, 'n_estimators': 130}",
          "{'max_depth': 9, 'max_features': 'sqrt', 'min_samples_split': 3, 'n_estimators': 50}",
          "{'max_depth': 9, 'max_features': 'sqrt', 'min_samples_split': 3, 'n_estimators': 80}",
          "{'max_depth': 9, 'max_features': 'sqrt', 'min_samples_split': 3, 'n_estimators': 110}",
          "{'max_depth': 9, 'max_features': 'sqrt', 'min_samples_split': 3, 'n_estimators': 130}",
          "{'max_depth': 9, 'max_features': 'sqrt', 'min_samples_split': 6, 'n_estimators': 50}",
          "{'max_depth': 9, 'max_features': 'sqrt', 'min_samples_split': 6, 'n_estimators': 80}",
          "{'max_depth': 9, 'max_features': 'sqrt', 'min_samples_split': 6, 'n_estimators': 110}",
          "{'max_depth': 9, 'max_features': 'sqrt', 'min_samples_split': 6, 'n_estimators': 130}",
          "{'max_depth': 9, 'max_features': 'sqrt', 'min_samples_split': 9, 'n_estimators': 50}",
          "{'max_depth': 9, 'max_features': 'sqrt', 'min_samples_split': 9, 'n_estimators': 80}",
          "{'max_depth': 9, 'max_features': 'sqrt', 'min_samples_split': 9, 'n_estimators': 110}",
          "{'max_depth': 9, 'max_features': 'sqrt', 'min_samples_split': 9, 'n_estimators': 130}",
          "{'max_depth': 9, 'max_features': 'sqrt', 'min_samples_split': 12, 'n_estimators': 50}",
          "{'max_depth': 9, 'max_features': 'sqrt', 'min_samples_split': 12, 'n_estimators': 80}",
          "{'max_depth': 9, 'max_features': 'sqrt', 'min_samples_split': 12, 'n_estimators': 110}",
          "{'max_depth': 9, 'max_features': 'sqrt', 'min_samples_split': 12, 'n_estimators': 130}",
          "{'max_depth': 9, 'max_features': 'log2', 'min_samples_split': 3, 'n_estimators': 50}",
          "{'max_depth': 9, 'max_features': 'log2', 'min_samples_split': 3, 'n_estimators': 80}",
          "{'max_depth': 9, 'max_features': 'log2', 'min_samples_split': 3, 'n_estimators': 110}",
          "{'max_depth': 9, 'max_features': 'log2', 'min_samples_split': 3, 'n_estimators': 130}",
          "{'max_depth': 9, 'max_features': 'log2', 'min_samples_split': 6, 'n_estimators': 50}",
          "{'max_depth': 9, 'max_features': 'log2', 'min_samples_split': 6, 'n_estimators': 80}",
          "{'max_depth': 9, 'max_features': 'log2', 'min_samples_split': 6, 'n_estimators': 110}",
          "{'max_depth': 9, 'max_features': 'log2', 'min_samples_split': 6, 'n_estimators': 130}",
          "{'max_depth': 9, 'max_features': 'log2', 'min_samples_split': 9, 'n_estimators': 50}",
          "{'max_depth': 9, 'max_features': 'log2', 'min_samples_split': 9, 'n_estimators': 80}",
          "{'max_depth': 9, 'max_features': 'log2', 'min_samples_split': 9, 'n_estimators': 110}",
          "{'max_depth': 9, 'max_features': 'log2', 'min_samples_split': 9, 'n_estimators': 130}",
          "{'max_depth': 9, 'max_features': 'log2', 'min_samples_split': 12, 'n_estimators': 50}",
          "{'max_depth': 9, 'max_features': 'log2', 'min_samples_split': 12, 'n_estimators': 80}",
          "{'max_depth': 9, 'max_features': 'log2', 'min_samples_split': 12, 'n_estimators': 110}",
          "{'max_depth': 9, 'max_features': 'log2', 'min_samples_split': 12, 'n_estimators': 130}"
         ],
         "legendgroup": "train",
         "marker": {
          "color": "#EF553B",
          "pattern": {
           "shape": ""
          }
         },
         "name": "train",
         "offsetgroup": "train",
         "orientation": "v",
         "showlegend": true,
         "textposition": "auto",
         "type": "bar",
         "x": [
          0,
          1,
          2,
          3,
          4,
          5,
          6,
          7,
          8,
          9,
          10,
          11,
          12,
          13,
          14,
          15,
          16,
          17,
          18,
          19,
          20,
          21,
          22,
          23,
          24,
          25,
          26,
          27,
          28,
          29,
          30,
          31,
          32,
          33,
          34,
          35,
          36,
          37,
          38,
          39,
          40,
          41,
          42,
          43,
          44,
          45,
          46,
          47,
          48,
          49,
          50,
          51,
          52,
          53,
          54,
          55,
          56,
          57,
          58,
          59,
          60,
          61,
          62,
          63,
          64,
          65,
          66,
          67,
          68,
          69,
          70,
          71,
          72,
          73,
          74,
          75,
          76,
          77,
          78,
          79,
          80,
          81,
          82,
          83,
          84,
          85,
          86,
          87,
          88,
          89,
          90,
          91,
          92,
          93,
          94,
          95
         ],
         "xaxis": "x",
         "y": [
          0.16007560200848767,
          0.16060255254756015,
          0.15177930096347356,
          0.15460474224262344,
          0.15969598806335852,
          0.1562174390204404,
          0.1485925447789952,
          0.1530431375275354,
          0.16573071423160718,
          0.15097194845871384,
          0.16176253058665974,
          0.15327164589293438,
          0.16695763560713167,
          0.15098400033734466,
          0.1528528326794094,
          0.15490375067951087,
          0.16699261669741391,
          0.14929791797346653,
          0.15736933160538497,
          0.14407421403680182,
          0.16269244098155797,
          0.154828526201268,
          0.15389978505920637,
          0.15115866650286702,
          0.1529946162367774,
          0.15633856703494436,
          0.1586329788697162,
          0.15589314973704405,
          0.1595339517472484,
          0.15076616623951777,
          0.1517959269119281,
          0.15248349841136294,
          0.4048156178789978,
          0.3999516653695246,
          0.4005083973727485,
          0.40880428301641125,
          0.39653820982582266,
          0.38850684841947497,
          0.3919522868614424,
          0.3991378813519065,
          0.4002054009298949,
          0.40412353946047297,
          0.39738921467339605,
          0.39175653295387824,
          0.40269890148481763,
          0.3922089507082065,
          0.3881282204105365,
          0.3869123312780517,
          0.4160012379215141,
          0.4047272847226944,
          0.4125214425264831,
          0.41143958326094376,
          0.3932228746811769,
          0.4025595644864861,
          0.3949099832627742,
          0.3964839393512728,
          0.3972464189255538,
          0.38787436228252814,
          0.3846144792020413,
          0.39740061341945443,
          0.3920227696139943,
          0.3982877784757838,
          0.3902086972740304,
          0.39247289048355,
          0.6492032596559488,
          0.6290318472135346,
          0.6442532137125172,
          0.63723378812992,
          0.6234650668242462,
          0.6164636081092066,
          0.6175172430881093,
          0.6207583248898041,
          0.6048710711279063,
          0.6057793657770223,
          0.6092196792651667,
          0.613519889416077,
          0.5958423891788495,
          0.5981842352680287,
          0.5841790058252608,
          0.5890627562320946,
          0.6366141646571067,
          0.639008466801174,
          0.6439381967599477,
          0.6408885895933623,
          0.6357438517658227,
          0.617562125995754,
          0.6177767042177158,
          0.626644170012254,
          0.5989775318662957,
          0.6005321736659995,
          0.6080196777298283,
          0.6035141336211842,
          0.5959609382202335,
          0.589386570997996,
          0.5889772959695657,
          0.5925777988122473
         ],
         "yaxis": "y"
        }
       ],
       "layout": {
        "barmode": "group",
        "legend": {
         "title": {
          "text": "type"
         },
         "tracegroupgap": 0
        },
        "template": {
         "data": {
          "bar": [
           {
            "error_x": {
             "color": "#2a3f5f"
            },
            "error_y": {
             "color": "#2a3f5f"
            },
            "marker": {
             "line": {
              "color": "#E5ECF6",
              "width": 0.5
             },
             "pattern": {
              "fillmode": "overlay",
              "size": 10,
              "solidity": 0.2
             }
            },
            "type": "bar"
           }
          ],
          "barpolar": [
           {
            "marker": {
             "line": {
              "color": "#E5ECF6",
              "width": 0.5
             },
             "pattern": {
              "fillmode": "overlay",
              "size": 10,
              "solidity": 0.2
             }
            },
            "type": "barpolar"
           }
          ],
          "carpet": [
           {
            "aaxis": {
             "endlinecolor": "#2a3f5f",
             "gridcolor": "white",
             "linecolor": "white",
             "minorgridcolor": "white",
             "startlinecolor": "#2a3f5f"
            },
            "baxis": {
             "endlinecolor": "#2a3f5f",
             "gridcolor": "white",
             "linecolor": "white",
             "minorgridcolor": "white",
             "startlinecolor": "#2a3f5f"
            },
            "type": "carpet"
           }
          ],
          "choropleth": [
           {
            "colorbar": {
             "outlinewidth": 0,
             "ticks": ""
            },
            "type": "choropleth"
           }
          ],
          "contour": [
           {
            "colorbar": {
             "outlinewidth": 0,
             "ticks": ""
            },
            "colorscale": [
             [
              0.0,
              "#0d0887"
             ],
             [
              0.1111111111111111,
              "#46039f"
             ],
             [
              0.2222222222222222,
              "#7201a8"
             ],
             [
              0.3333333333333333,
              "#9c179e"
             ],
             [
              0.4444444444444444,
              "#bd3786"
             ],
             [
              0.5555555555555556,
              "#d8576b"
             ],
             [
              0.6666666666666666,
              "#ed7953"
             ],
             [
              0.7777777777777778,
              "#fb9f3a"
             ],
             [
              0.8888888888888888,
              "#fdca26"
             ],
             [
              1.0,
              "#f0f921"
             ]
            ],
            "type": "contour"
           }
          ],
          "contourcarpet": [
           {
            "colorbar": {
             "outlinewidth": 0,
             "ticks": ""
            },
            "type": "contourcarpet"
           }
          ],
          "heatmap": [
           {
            "colorbar": {
             "outlinewidth": 0,
             "ticks": ""
            },
            "colorscale": [
             [
              0.0,
              "#0d0887"
             ],
             [
              0.1111111111111111,
              "#46039f"
             ],
             [
              0.2222222222222222,
              "#7201a8"
             ],
             [
              0.3333333333333333,
              "#9c179e"
             ],
             [
              0.4444444444444444,
              "#bd3786"
             ],
             [
              0.5555555555555556,
              "#d8576b"
             ],
             [
              0.6666666666666666,
              "#ed7953"
             ],
             [
              0.7777777777777778,
              "#fb9f3a"
             ],
             [
              0.8888888888888888,
              "#fdca26"
             ],
             [
              1.0,
              "#f0f921"
             ]
            ],
            "type": "heatmap"
           }
          ],
          "heatmapgl": [
           {
            "colorbar": {
             "outlinewidth": 0,
             "ticks": ""
            },
            "colorscale": [
             [
              0.0,
              "#0d0887"
             ],
             [
              0.1111111111111111,
              "#46039f"
             ],
             [
              0.2222222222222222,
              "#7201a8"
             ],
             [
              0.3333333333333333,
              "#9c179e"
             ],
             [
              0.4444444444444444,
              "#bd3786"
             ],
             [
              0.5555555555555556,
              "#d8576b"
             ],
             [
              0.6666666666666666,
              "#ed7953"
             ],
             [
              0.7777777777777778,
              "#fb9f3a"
             ],
             [
              0.8888888888888888,
              "#fdca26"
             ],
             [
              1.0,
              "#f0f921"
             ]
            ],
            "type": "heatmapgl"
           }
          ],
          "histogram": [
           {
            "marker": {
             "pattern": {
              "fillmode": "overlay",
              "size": 10,
              "solidity": 0.2
             }
            },
            "type": "histogram"
           }
          ],
          "histogram2d": [
           {
            "colorbar": {
             "outlinewidth": 0,
             "ticks": ""
            },
            "colorscale": [
             [
              0.0,
              "#0d0887"
             ],
             [
              0.1111111111111111,
              "#46039f"
             ],
             [
              0.2222222222222222,
              "#7201a8"
             ],
             [
              0.3333333333333333,
              "#9c179e"
             ],
             [
              0.4444444444444444,
              "#bd3786"
             ],
             [
              0.5555555555555556,
              "#d8576b"
             ],
             [
              0.6666666666666666,
              "#ed7953"
             ],
             [
              0.7777777777777778,
              "#fb9f3a"
             ],
             [
              0.8888888888888888,
              "#fdca26"
             ],
             [
              1.0,
              "#f0f921"
             ]
            ],
            "type": "histogram2d"
           }
          ],
          "histogram2dcontour": [
           {
            "colorbar": {
             "outlinewidth": 0,
             "ticks": ""
            },
            "colorscale": [
             [
              0.0,
              "#0d0887"
             ],
             [
              0.1111111111111111,
              "#46039f"
             ],
             [
              0.2222222222222222,
              "#7201a8"
             ],
             [
              0.3333333333333333,
              "#9c179e"
             ],
             [
              0.4444444444444444,
              "#bd3786"
             ],
             [
              0.5555555555555556,
              "#d8576b"
             ],
             [
              0.6666666666666666,
              "#ed7953"
             ],
             [
              0.7777777777777778,
              "#fb9f3a"
             ],
             [
              0.8888888888888888,
              "#fdca26"
             ],
             [
              1.0,
              "#f0f921"
             ]
            ],
            "type": "histogram2dcontour"
           }
          ],
          "mesh3d": [
           {
            "colorbar": {
             "outlinewidth": 0,
             "ticks": ""
            },
            "type": "mesh3d"
           }
          ],
          "parcoords": [
           {
            "line": {
             "colorbar": {
              "outlinewidth": 0,
              "ticks": ""
             }
            },
            "type": "parcoords"
           }
          ],
          "pie": [
           {
            "automargin": true,
            "type": "pie"
           }
          ],
          "scatter": [
           {
            "marker": {
             "colorbar": {
              "outlinewidth": 0,
              "ticks": ""
             }
            },
            "type": "scatter"
           }
          ],
          "scatter3d": [
           {
            "line": {
             "colorbar": {
              "outlinewidth": 0,
              "ticks": ""
             }
            },
            "marker": {
             "colorbar": {
              "outlinewidth": 0,
              "ticks": ""
             }
            },
            "type": "scatter3d"
           }
          ],
          "scattercarpet": [
           {
            "marker": {
             "colorbar": {
              "outlinewidth": 0,
              "ticks": ""
             }
            },
            "type": "scattercarpet"
           }
          ],
          "scattergeo": [
           {
            "marker": {
             "colorbar": {
              "outlinewidth": 0,
              "ticks": ""
             }
            },
            "type": "scattergeo"
           }
          ],
          "scattergl": [
           {
            "marker": {
             "colorbar": {
              "outlinewidth": 0,
              "ticks": ""
             }
            },
            "type": "scattergl"
           }
          ],
          "scattermapbox": [
           {
            "marker": {
             "colorbar": {
              "outlinewidth": 0,
              "ticks": ""
             }
            },
            "type": "scattermapbox"
           }
          ],
          "scatterpolar": [
           {
            "marker": {
             "colorbar": {
              "outlinewidth": 0,
              "ticks": ""
             }
            },
            "type": "scatterpolar"
           }
          ],
          "scatterpolargl": [
           {
            "marker": {
             "colorbar": {
              "outlinewidth": 0,
              "ticks": ""
             }
            },
            "type": "scatterpolargl"
           }
          ],
          "scatterternary": [
           {
            "marker": {
             "colorbar": {
              "outlinewidth": 0,
              "ticks": ""
             }
            },
            "type": "scatterternary"
           }
          ],
          "surface": [
           {
            "colorbar": {
             "outlinewidth": 0,
             "ticks": ""
            },
            "colorscale": [
             [
              0.0,
              "#0d0887"
             ],
             [
              0.1111111111111111,
              "#46039f"
             ],
             [
              0.2222222222222222,
              "#7201a8"
             ],
             [
              0.3333333333333333,
              "#9c179e"
             ],
             [
              0.4444444444444444,
              "#bd3786"
             ],
             [
              0.5555555555555556,
              "#d8576b"
             ],
             [
              0.6666666666666666,
              "#ed7953"
             ],
             [
              0.7777777777777778,
              "#fb9f3a"
             ],
             [
              0.8888888888888888,
              "#fdca26"
             ],
             [
              1.0,
              "#f0f921"
             ]
            ],
            "type": "surface"
           }
          ],
          "table": [
           {
            "cells": {
             "fill": {
              "color": "#EBF0F8"
             },
             "line": {
              "color": "white"
             }
            },
            "header": {
             "fill": {
              "color": "#C8D4E3"
             },
             "line": {
              "color": "white"
             }
            },
            "type": "table"
           }
          ]
         },
         "layout": {
          "annotationdefaults": {
           "arrowcolor": "#2a3f5f",
           "arrowhead": 0,
           "arrowwidth": 1
          },
          "autotypenumbers": "strict",
          "coloraxis": {
           "colorbar": {
            "outlinewidth": 0,
            "ticks": ""
           }
          },
          "colorscale": {
           "diverging": [
            [
             0,
             "#8e0152"
            ],
            [
             0.1,
             "#c51b7d"
            ],
            [
             0.2,
             "#de77ae"
            ],
            [
             0.3,
             "#f1b6da"
            ],
            [
             0.4,
             "#fde0ef"
            ],
            [
             0.5,
             "#f7f7f7"
            ],
            [
             0.6,
             "#e6f5d0"
            ],
            [
             0.7,
             "#b8e186"
            ],
            [
             0.8,
             "#7fbc41"
            ],
            [
             0.9,
             "#4d9221"
            ],
            [
             1,
             "#276419"
            ]
           ],
           "sequential": [
            [
             0.0,
             "#0d0887"
            ],
            [
             0.1111111111111111,
             "#46039f"
            ],
            [
             0.2222222222222222,
             "#7201a8"
            ],
            [
             0.3333333333333333,
             "#9c179e"
            ],
            [
             0.4444444444444444,
             "#bd3786"
            ],
            [
             0.5555555555555556,
             "#d8576b"
            ],
            [
             0.6666666666666666,
             "#ed7953"
            ],
            [
             0.7777777777777778,
             "#fb9f3a"
            ],
            [
             0.8888888888888888,
             "#fdca26"
            ],
            [
             1.0,
             "#f0f921"
            ]
           ],
           "sequentialminus": [
            [
             0.0,
             "#0d0887"
            ],
            [
             0.1111111111111111,
             "#46039f"
            ],
            [
             0.2222222222222222,
             "#7201a8"
            ],
            [
             0.3333333333333333,
             "#9c179e"
            ],
            [
             0.4444444444444444,
             "#bd3786"
            ],
            [
             0.5555555555555556,
             "#d8576b"
            ],
            [
             0.6666666666666666,
             "#ed7953"
            ],
            [
             0.7777777777777778,
             "#fb9f3a"
            ],
            [
             0.8888888888888888,
             "#fdca26"
            ],
            [
             1.0,
             "#f0f921"
            ]
           ]
          },
          "colorway": [
           "#636efa",
           "#EF553B",
           "#00cc96",
           "#ab63fa",
           "#FFA15A",
           "#19d3f3",
           "#FF6692",
           "#B6E880",
           "#FF97FF",
           "#FECB52"
          ],
          "font": {
           "color": "#2a3f5f"
          },
          "geo": {
           "bgcolor": "white",
           "lakecolor": "white",
           "landcolor": "#E5ECF6",
           "showlakes": true,
           "showland": true,
           "subunitcolor": "white"
          },
          "hoverlabel": {
           "align": "left"
          },
          "hovermode": "closest",
          "mapbox": {
           "style": "light"
          },
          "paper_bgcolor": "white",
          "plot_bgcolor": "#E5ECF6",
          "polar": {
           "angularaxis": {
            "gridcolor": "white",
            "linecolor": "white",
            "ticks": ""
           },
           "bgcolor": "#E5ECF6",
           "radialaxis": {
            "gridcolor": "white",
            "linecolor": "white",
            "ticks": ""
           }
          },
          "scene": {
           "xaxis": {
            "backgroundcolor": "#E5ECF6",
            "gridcolor": "white",
            "gridwidth": 2,
            "linecolor": "white",
            "showbackground": true,
            "ticks": "",
            "zerolinecolor": "white"
           },
           "yaxis": {
            "backgroundcolor": "#E5ECF6",
            "gridcolor": "white",
            "gridwidth": 2,
            "linecolor": "white",
            "showbackground": true,
            "ticks": "",
            "zerolinecolor": "white"
           },
           "zaxis": {
            "backgroundcolor": "#E5ECF6",
            "gridcolor": "white",
            "gridwidth": 2,
            "linecolor": "white",
            "showbackground": true,
            "ticks": "",
            "zerolinecolor": "white"
           }
          },
          "shapedefaults": {
           "line": {
            "color": "#2a3f5f"
           }
          },
          "ternary": {
           "aaxis": {
            "gridcolor": "white",
            "linecolor": "white",
            "ticks": ""
           },
           "baxis": {
            "gridcolor": "white",
            "linecolor": "white",
            "ticks": ""
           },
           "bgcolor": "#E5ECF6",
           "caxis": {
            "gridcolor": "white",
            "linecolor": "white",
            "ticks": ""
           }
          },
          "title": {
           "x": 0.05
          },
          "xaxis": {
           "automargin": true,
           "gridcolor": "white",
           "linecolor": "white",
           "ticks": "",
           "title": {
            "standoff": 15
           },
           "zerolinecolor": "white",
           "zerolinewidth": 2
          },
          "yaxis": {
           "automargin": true,
           "gridcolor": "white",
           "linecolor": "white",
           "ticks": "",
           "title": {
            "standoff": 15
           },
           "zerolinecolor": "white",
           "zerolinewidth": 2
          }
         }
        },
        "title": {
         "text": "Mean f1 score on testing and training set for each parameter combination <br> (Model: RandomForest Classifier, Dataset: Mean imputation for individuals with 2 or 3 MV)"
        },
        "xaxis": {
         "anchor": "y",
         "domain": [
          0.0,
          1.0
         ],
         "title": {
          "text": "Params"
         }
        },
        "yaxis": {
         "anchor": "x",
         "domain": [
          0.0,
          1.0
         ],
         "title": {
          "text": "Average f1"
         }
        }
       }
      },
      "text/html": "<div>                            <div id=\"0070468c-6375-41f1-b97e-d41e997be905\" class=\"plotly-graph-div\" style=\"height:525px; width:100%;\"></div>            <script type=\"text/javascript\">                require([\"plotly\"], function(Plotly) {                    window.PLOTLYENV=window.PLOTLYENV || {};                                    if (document.getElementById(\"0070468c-6375-41f1-b97e-d41e997be905\")) {                    Plotly.newPlot(                        \"0070468c-6375-41f1-b97e-d41e997be905\",                        [{\"alignmentgroup\":\"True\",\"customdata\":[[\"{'max_depth': 3, 'max_features': 'sqrt', 'min_samples_split': 3, 'n_estimators': 50}\"],[\"{'max_depth': 3, 'max_features': 'sqrt', 'min_samples_split': 3, 'n_estimators': 80}\"],[\"{'max_depth': 3, 'max_features': 'sqrt', 'min_samples_split': 3, 'n_estimators': 110}\"],[\"{'max_depth': 3, 'max_features': 'sqrt', 'min_samples_split': 3, 'n_estimators': 130}\"],[\"{'max_depth': 3, 'max_features': 'sqrt', 'min_samples_split': 6, 'n_estimators': 50}\"],[\"{'max_depth': 3, 'max_features': 'sqrt', 'min_samples_split': 6, 'n_estimators': 80}\"],[\"{'max_depth': 3, 'max_features': 'sqrt', 'min_samples_split': 6, 'n_estimators': 110}\"],[\"{'max_depth': 3, 'max_features': 'sqrt', 'min_samples_split': 6, 'n_estimators': 130}\"],[\"{'max_depth': 3, 'max_features': 'sqrt', 'min_samples_split': 9, 'n_estimators': 50}\"],[\"{'max_depth': 3, 'max_features': 'sqrt', 'min_samples_split': 9, 'n_estimators': 80}\"],[\"{'max_depth': 3, 'max_features': 'sqrt', 'min_samples_split': 9, 'n_estimators': 110}\"],[\"{'max_depth': 3, 'max_features': 'sqrt', 'min_samples_split': 9, 'n_estimators': 130}\"],[\"{'max_depth': 3, 'max_features': 'sqrt', 'min_samples_split': 12, 'n_estimators': 50}\"],[\"{'max_depth': 3, 'max_features': 'sqrt', 'min_samples_split': 12, 'n_estimators': 80}\"],[\"{'max_depth': 3, 'max_features': 'sqrt', 'min_samples_split': 12, 'n_estimators': 110}\"],[\"{'max_depth': 3, 'max_features': 'sqrt', 'min_samples_split': 12, 'n_estimators': 130}\"],[\"{'max_depth': 3, 'max_features': 'log2', 'min_samples_split': 3, 'n_estimators': 50}\"],[\"{'max_depth': 3, 'max_features': 'log2', 'min_samples_split': 3, 'n_estimators': 80}\"],[\"{'max_depth': 3, 'max_features': 'log2', 'min_samples_split': 3, 'n_estimators': 110}\"],[\"{'max_depth': 3, 'max_features': 'log2', 'min_samples_split': 3, 'n_estimators': 130}\"],[\"{'max_depth': 3, 'max_features': 'log2', 'min_samples_split': 6, 'n_estimators': 50}\"],[\"{'max_depth': 3, 'max_features': 'log2', 'min_samples_split': 6, 'n_estimators': 80}\"],[\"{'max_depth': 3, 'max_features': 'log2', 'min_samples_split': 6, 'n_estimators': 110}\"],[\"{'max_depth': 3, 'max_features': 'log2', 'min_samples_split': 6, 'n_estimators': 130}\"],[\"{'max_depth': 3, 'max_features': 'log2', 'min_samples_split': 9, 'n_estimators': 50}\"],[\"{'max_depth': 3, 'max_features': 'log2', 'min_samples_split': 9, 'n_estimators': 80}\"],[\"{'max_depth': 3, 'max_features': 'log2', 'min_samples_split': 9, 'n_estimators': 110}\"],[\"{'max_depth': 3, 'max_features': 'log2', 'min_samples_split': 9, 'n_estimators': 130}\"],[\"{'max_depth': 3, 'max_features': 'log2', 'min_samples_split': 12, 'n_estimators': 50}\"],[\"{'max_depth': 3, 'max_features': 'log2', 'min_samples_split': 12, 'n_estimators': 80}\"],[\"{'max_depth': 3, 'max_features': 'log2', 'min_samples_split': 12, 'n_estimators': 110}\"],[\"{'max_depth': 3, 'max_features': 'log2', 'min_samples_split': 12, 'n_estimators': 130}\"],[\"{'max_depth': 6, 'max_features': 'sqrt', 'min_samples_split': 3, 'n_estimators': 50}\"],[\"{'max_depth': 6, 'max_features': 'sqrt', 'min_samples_split': 3, 'n_estimators': 80}\"],[\"{'max_depth': 6, 'max_features': 'sqrt', 'min_samples_split': 3, 'n_estimators': 110}\"],[\"{'max_depth': 6, 'max_features': 'sqrt', 'min_samples_split': 3, 'n_estimators': 130}\"],[\"{'max_depth': 6, 'max_features': 'sqrt', 'min_samples_split': 6, 'n_estimators': 50}\"],[\"{'max_depth': 6, 'max_features': 'sqrt', 'min_samples_split': 6, 'n_estimators': 80}\"],[\"{'max_depth': 6, 'max_features': 'sqrt', 'min_samples_split': 6, 'n_estimators': 110}\"],[\"{'max_depth': 6, 'max_features': 'sqrt', 'min_samples_split': 6, 'n_estimators': 130}\"],[\"{'max_depth': 6, 'max_features': 'sqrt', 'min_samples_split': 9, 'n_estimators': 50}\"],[\"{'max_depth': 6, 'max_features': 'sqrt', 'min_samples_split': 9, 'n_estimators': 80}\"],[\"{'max_depth': 6, 'max_features': 'sqrt', 'min_samples_split': 9, 'n_estimators': 110}\"],[\"{'max_depth': 6, 'max_features': 'sqrt', 'min_samples_split': 9, 'n_estimators': 130}\"],[\"{'max_depth': 6, 'max_features': 'sqrt', 'min_samples_split': 12, 'n_estimators': 50}\"],[\"{'max_depth': 6, 'max_features': 'sqrt', 'min_samples_split': 12, 'n_estimators': 80}\"],[\"{'max_depth': 6, 'max_features': 'sqrt', 'min_samples_split': 12, 'n_estimators': 110}\"],[\"{'max_depth': 6, 'max_features': 'sqrt', 'min_samples_split': 12, 'n_estimators': 130}\"],[\"{'max_depth': 6, 'max_features': 'log2', 'min_samples_split': 3, 'n_estimators': 50}\"],[\"{'max_depth': 6, 'max_features': 'log2', 'min_samples_split': 3, 'n_estimators': 80}\"],[\"{'max_depth': 6, 'max_features': 'log2', 'min_samples_split': 3, 'n_estimators': 110}\"],[\"{'max_depth': 6, 'max_features': 'log2', 'min_samples_split': 3, 'n_estimators': 130}\"],[\"{'max_depth': 6, 'max_features': 'log2', 'min_samples_split': 6, 'n_estimators': 50}\"],[\"{'max_depth': 6, 'max_features': 'log2', 'min_samples_split': 6, 'n_estimators': 80}\"],[\"{'max_depth': 6, 'max_features': 'log2', 'min_samples_split': 6, 'n_estimators': 110}\"],[\"{'max_depth': 6, 'max_features': 'log2', 'min_samples_split': 6, 'n_estimators': 130}\"],[\"{'max_depth': 6, 'max_features': 'log2', 'min_samples_split': 9, 'n_estimators': 50}\"],[\"{'max_depth': 6, 'max_features': 'log2', 'min_samples_split': 9, 'n_estimators': 80}\"],[\"{'max_depth': 6, 'max_features': 'log2', 'min_samples_split': 9, 'n_estimators': 110}\"],[\"{'max_depth': 6, 'max_features': 'log2', 'min_samples_split': 9, 'n_estimators': 130}\"],[\"{'max_depth': 6, 'max_features': 'log2', 'min_samples_split': 12, 'n_estimators': 50}\"],[\"{'max_depth': 6, 'max_features': 'log2', 'min_samples_split': 12, 'n_estimators': 80}\"],[\"{'max_depth': 6, 'max_features': 'log2', 'min_samples_split': 12, 'n_estimators': 110}\"],[\"{'max_depth': 6, 'max_features': 'log2', 'min_samples_split': 12, 'n_estimators': 130}\"],[\"{'max_depth': 9, 'max_features': 'sqrt', 'min_samples_split': 3, 'n_estimators': 50}\"],[\"{'max_depth': 9, 'max_features': 'sqrt', 'min_samples_split': 3, 'n_estimators': 80}\"],[\"{'max_depth': 9, 'max_features': 'sqrt', 'min_samples_split': 3, 'n_estimators': 110}\"],[\"{'max_depth': 9, 'max_features': 'sqrt', 'min_samples_split': 3, 'n_estimators': 130}\"],[\"{'max_depth': 9, 'max_features': 'sqrt', 'min_samples_split': 6, 'n_estimators': 50}\"],[\"{'max_depth': 9, 'max_features': 'sqrt', 'min_samples_split': 6, 'n_estimators': 80}\"],[\"{'max_depth': 9, 'max_features': 'sqrt', 'min_samples_split': 6, 'n_estimators': 110}\"],[\"{'max_depth': 9, 'max_features': 'sqrt', 'min_samples_split': 6, 'n_estimators': 130}\"],[\"{'max_depth': 9, 'max_features': 'sqrt', 'min_samples_split': 9, 'n_estimators': 50}\"],[\"{'max_depth': 9, 'max_features': 'sqrt', 'min_samples_split': 9, 'n_estimators': 80}\"],[\"{'max_depth': 9, 'max_features': 'sqrt', 'min_samples_split': 9, 'n_estimators': 110}\"],[\"{'max_depth': 9, 'max_features': 'sqrt', 'min_samples_split': 9, 'n_estimators': 130}\"],[\"{'max_depth': 9, 'max_features': 'sqrt', 'min_samples_split': 12, 'n_estimators': 50}\"],[\"{'max_depth': 9, 'max_features': 'sqrt', 'min_samples_split': 12, 'n_estimators': 80}\"],[\"{'max_depth': 9, 'max_features': 'sqrt', 'min_samples_split': 12, 'n_estimators': 110}\"],[\"{'max_depth': 9, 'max_features': 'sqrt', 'min_samples_split': 12, 'n_estimators': 130}\"],[\"{'max_depth': 9, 'max_features': 'log2', 'min_samples_split': 3, 'n_estimators': 50}\"],[\"{'max_depth': 9, 'max_features': 'log2', 'min_samples_split': 3, 'n_estimators': 80}\"],[\"{'max_depth': 9, 'max_features': 'log2', 'min_samples_split': 3, 'n_estimators': 110}\"],[\"{'max_depth': 9, 'max_features': 'log2', 'min_samples_split': 3, 'n_estimators': 130}\"],[\"{'max_depth': 9, 'max_features': 'log2', 'min_samples_split': 6, 'n_estimators': 50}\"],[\"{'max_depth': 9, 'max_features': 'log2', 'min_samples_split': 6, 'n_estimators': 80}\"],[\"{'max_depth': 9, 'max_features': 'log2', 'min_samples_split': 6, 'n_estimators': 110}\"],[\"{'max_depth': 9, 'max_features': 'log2', 'min_samples_split': 6, 'n_estimators': 130}\"],[\"{'max_depth': 9, 'max_features': 'log2', 'min_samples_split': 9, 'n_estimators': 50}\"],[\"{'max_depth': 9, 'max_features': 'log2', 'min_samples_split': 9, 'n_estimators': 80}\"],[\"{'max_depth': 9, 'max_features': 'log2', 'min_samples_split': 9, 'n_estimators': 110}\"],[\"{'max_depth': 9, 'max_features': 'log2', 'min_samples_split': 9, 'n_estimators': 130}\"],[\"{'max_depth': 9, 'max_features': 'log2', 'min_samples_split': 12, 'n_estimators': 50}\"],[\"{'max_depth': 9, 'max_features': 'log2', 'min_samples_split': 12, 'n_estimators': 80}\"],[\"{'max_depth': 9, 'max_features': 'log2', 'min_samples_split': 12, 'n_estimators': 110}\"],[\"{'max_depth': 9, 'max_features': 'log2', 'min_samples_split': 12, 'n_estimators': 130}\"]],\"error_y\":{\"array\":[0.03028931155814228,0.022005665391927484,0.023457776952681225,0.024926461354613388,0.03476819758093525,0.026935328405882742,0.022575449981813905,0.020467145897072242,0.028452701889822418,0.012786998515516278,0.025515121967123598,0.019330859814021703,0.008396906621692565,0.026872648820696662,0.014569548488525309,0.015060507533231057,0.019839504407549433,0.02059906913596979,0.02121490460035714,0.008972951462883344,0.024414122234309325,0.0171802196174614,0.019032092239336173,0.032995169829405195,0.031130415072979797,0.0157653309303105,0.02063477753152106,0.02694298134814844,0.023350861092421852,0.02903799799239791,0.022162908459285875,0.02366373106270543,0.03601270500517993,0.025408924755518873,0.029497920164390203,0.024606864011513966,0.029549106224122317,0.02080178339554589,0.009794503468737038,0.034352972056029274,0.023448087859456252,0.02928024819849775,0.023097193047598382,0.028221114390954264,0.01994058109892768,0.02656701675415517,0.023771120178719615,0.019106412507274042,0.020685574769870832,0.03731386804722344,0.029414724953781623,0.02778073904634809,0.021115120466620552,0.03393598808453292,0.03897977381551227,0.021784026615439565,0.03595242478018457,0.020668695019978634,0.031291289888171994,0.03936876751026945,0.033962410697473744,0.028508031217310593,0.029504636932278946,0.043947904975754154,0.0294591826437989,0.03126071396663042,0.02847081244278438,0.039435522236842276,0.025689951720790118,0.05166541927797541,0.027395237132758144,0.026468954249862287,0.03286537492283988,0.030098784574043216,0.03592714950216584,0.03183477133214229,0.04061897713630393,0.03099342159122395,0.026824656625887674,0.019475841144097235,0.03883482387942844,0.019222335960600953,0.026879775815111934,0.03505350985791534,0.028127501393673558,0.03690582181580582,0.04443081395844453,0.0377200445448658,0.06219482660142956,0.02922076123526903,0.015619271713424539,0.02918367929253958,0.042736318641482196,0.025026934625821125,0.02257479256755988,0.038953272396479124]},\"hovertemplate\":\"<b>%{hovertext}</b><br><br>type=test<br>Params=%{x}<br>Average f1=%{y}<br>params=%{customdata[0]}<extra></extra>\",\"hovertext\":[\"{'max_depth': 3, 'max_features': 'sqrt', 'min_samples_split': 3, 'n_estimators': 50}\",\"{'max_depth': 3, 'max_features': 'sqrt', 'min_samples_split': 3, 'n_estimators': 80}\",\"{'max_depth': 3, 'max_features': 'sqrt', 'min_samples_split': 3, 'n_estimators': 110}\",\"{'max_depth': 3, 'max_features': 'sqrt', 'min_samples_split': 3, 'n_estimators': 130}\",\"{'max_depth': 3, 'max_features': 'sqrt', 'min_samples_split': 6, 'n_estimators': 50}\",\"{'max_depth': 3, 'max_features': 'sqrt', 'min_samples_split': 6, 'n_estimators': 80}\",\"{'max_depth': 3, 'max_features': 'sqrt', 'min_samples_split': 6, 'n_estimators': 110}\",\"{'max_depth': 3, 'max_features': 'sqrt', 'min_samples_split': 6, 'n_estimators': 130}\",\"{'max_depth': 3, 'max_features': 'sqrt', 'min_samples_split': 9, 'n_estimators': 50}\",\"{'max_depth': 3, 'max_features': 'sqrt', 'min_samples_split': 9, 'n_estimators': 80}\",\"{'max_depth': 3, 'max_features': 'sqrt', 'min_samples_split': 9, 'n_estimators': 110}\",\"{'max_depth': 3, 'max_features': 'sqrt', 'min_samples_split': 9, 'n_estimators': 130}\",\"{'max_depth': 3, 'max_features': 'sqrt', 'min_samples_split': 12, 'n_estimators': 50}\",\"{'max_depth': 3, 'max_features': 'sqrt', 'min_samples_split': 12, 'n_estimators': 80}\",\"{'max_depth': 3, 'max_features': 'sqrt', 'min_samples_split': 12, 'n_estimators': 110}\",\"{'max_depth': 3, 'max_features': 'sqrt', 'min_samples_split': 12, 'n_estimators': 130}\",\"{'max_depth': 3, 'max_features': 'log2', 'min_samples_split': 3, 'n_estimators': 50}\",\"{'max_depth': 3, 'max_features': 'log2', 'min_samples_split': 3, 'n_estimators': 80}\",\"{'max_depth': 3, 'max_features': 'log2', 'min_samples_split': 3, 'n_estimators': 110}\",\"{'max_depth': 3, 'max_features': 'log2', 'min_samples_split': 3, 'n_estimators': 130}\",\"{'max_depth': 3, 'max_features': 'log2', 'min_samples_split': 6, 'n_estimators': 50}\",\"{'max_depth': 3, 'max_features': 'log2', 'min_samples_split': 6, 'n_estimators': 80}\",\"{'max_depth': 3, 'max_features': 'log2', 'min_samples_split': 6, 'n_estimators': 110}\",\"{'max_depth': 3, 'max_features': 'log2', 'min_samples_split': 6, 'n_estimators': 130}\",\"{'max_depth': 3, 'max_features': 'log2', 'min_samples_split': 9, 'n_estimators': 50}\",\"{'max_depth': 3, 'max_features': 'log2', 'min_samples_split': 9, 'n_estimators': 80}\",\"{'max_depth': 3, 'max_features': 'log2', 'min_samples_split': 9, 'n_estimators': 110}\",\"{'max_depth': 3, 'max_features': 'log2', 'min_samples_split': 9, 'n_estimators': 130}\",\"{'max_depth': 3, 'max_features': 'log2', 'min_samples_split': 12, 'n_estimators': 50}\",\"{'max_depth': 3, 'max_features': 'log2', 'min_samples_split': 12, 'n_estimators': 80}\",\"{'max_depth': 3, 'max_features': 'log2', 'min_samples_split': 12, 'n_estimators': 110}\",\"{'max_depth': 3, 'max_features': 'log2', 'min_samples_split': 12, 'n_estimators': 130}\",\"{'max_depth': 6, 'max_features': 'sqrt', 'min_samples_split': 3, 'n_estimators': 50}\",\"{'max_depth': 6, 'max_features': 'sqrt', 'min_samples_split': 3, 'n_estimators': 80}\",\"{'max_depth': 6, 'max_features': 'sqrt', 'min_samples_split': 3, 'n_estimators': 110}\",\"{'max_depth': 6, 'max_features': 'sqrt', 'min_samples_split': 3, 'n_estimators': 130}\",\"{'max_depth': 6, 'max_features': 'sqrt', 'min_samples_split': 6, 'n_estimators': 50}\",\"{'max_depth': 6, 'max_features': 'sqrt', 'min_samples_split': 6, 'n_estimators': 80}\",\"{'max_depth': 6, 'max_features': 'sqrt', 'min_samples_split': 6, 'n_estimators': 110}\",\"{'max_depth': 6, 'max_features': 'sqrt', 'min_samples_split': 6, 'n_estimators': 130}\",\"{'max_depth': 6, 'max_features': 'sqrt', 'min_samples_split': 9, 'n_estimators': 50}\",\"{'max_depth': 6, 'max_features': 'sqrt', 'min_samples_split': 9, 'n_estimators': 80}\",\"{'max_depth': 6, 'max_features': 'sqrt', 'min_samples_split': 9, 'n_estimators': 110}\",\"{'max_depth': 6, 'max_features': 'sqrt', 'min_samples_split': 9, 'n_estimators': 130}\",\"{'max_depth': 6, 'max_features': 'sqrt', 'min_samples_split': 12, 'n_estimators': 50}\",\"{'max_depth': 6, 'max_features': 'sqrt', 'min_samples_split': 12, 'n_estimators': 80}\",\"{'max_depth': 6, 'max_features': 'sqrt', 'min_samples_split': 12, 'n_estimators': 110}\",\"{'max_depth': 6, 'max_features': 'sqrt', 'min_samples_split': 12, 'n_estimators': 130}\",\"{'max_depth': 6, 'max_features': 'log2', 'min_samples_split': 3, 'n_estimators': 50}\",\"{'max_depth': 6, 'max_features': 'log2', 'min_samples_split': 3, 'n_estimators': 80}\",\"{'max_depth': 6, 'max_features': 'log2', 'min_samples_split': 3, 'n_estimators': 110}\",\"{'max_depth': 6, 'max_features': 'log2', 'min_samples_split': 3, 'n_estimators': 130}\",\"{'max_depth': 6, 'max_features': 'log2', 'min_samples_split': 6, 'n_estimators': 50}\",\"{'max_depth': 6, 'max_features': 'log2', 'min_samples_split': 6, 'n_estimators': 80}\",\"{'max_depth': 6, 'max_features': 'log2', 'min_samples_split': 6, 'n_estimators': 110}\",\"{'max_depth': 6, 'max_features': 'log2', 'min_samples_split': 6, 'n_estimators': 130}\",\"{'max_depth': 6, 'max_features': 'log2', 'min_samples_split': 9, 'n_estimators': 50}\",\"{'max_depth': 6, 'max_features': 'log2', 'min_samples_split': 9, 'n_estimators': 80}\",\"{'max_depth': 6, 'max_features': 'log2', 'min_samples_split': 9, 'n_estimators': 110}\",\"{'max_depth': 6, 'max_features': 'log2', 'min_samples_split': 9, 'n_estimators': 130}\",\"{'max_depth': 6, 'max_features': 'log2', 'min_samples_split': 12, 'n_estimators': 50}\",\"{'max_depth': 6, 'max_features': 'log2', 'min_samples_split': 12, 'n_estimators': 80}\",\"{'max_depth': 6, 'max_features': 'log2', 'min_samples_split': 12, 'n_estimators': 110}\",\"{'max_depth': 6, 'max_features': 'log2', 'min_samples_split': 12, 'n_estimators': 130}\",\"{'max_depth': 9, 'max_features': 'sqrt', 'min_samples_split': 3, 'n_estimators': 50}\",\"{'max_depth': 9, 'max_features': 'sqrt', 'min_samples_split': 3, 'n_estimators': 80}\",\"{'max_depth': 9, 'max_features': 'sqrt', 'min_samples_split': 3, 'n_estimators': 110}\",\"{'max_depth': 9, 'max_features': 'sqrt', 'min_samples_split': 3, 'n_estimators': 130}\",\"{'max_depth': 9, 'max_features': 'sqrt', 'min_samples_split': 6, 'n_estimators': 50}\",\"{'max_depth': 9, 'max_features': 'sqrt', 'min_samples_split': 6, 'n_estimators': 80}\",\"{'max_depth': 9, 'max_features': 'sqrt', 'min_samples_split': 6, 'n_estimators': 110}\",\"{'max_depth': 9, 'max_features': 'sqrt', 'min_samples_split': 6, 'n_estimators': 130}\",\"{'max_depth': 9, 'max_features': 'sqrt', 'min_samples_split': 9, 'n_estimators': 50}\",\"{'max_depth': 9, 'max_features': 'sqrt', 'min_samples_split': 9, 'n_estimators': 80}\",\"{'max_depth': 9, 'max_features': 'sqrt', 'min_samples_split': 9, 'n_estimators': 110}\",\"{'max_depth': 9, 'max_features': 'sqrt', 'min_samples_split': 9, 'n_estimators': 130}\",\"{'max_depth': 9, 'max_features': 'sqrt', 'min_samples_split': 12, 'n_estimators': 50}\",\"{'max_depth': 9, 'max_features': 'sqrt', 'min_samples_split': 12, 'n_estimators': 80}\",\"{'max_depth': 9, 'max_features': 'sqrt', 'min_samples_split': 12, 'n_estimators': 110}\",\"{'max_depth': 9, 'max_features': 'sqrt', 'min_samples_split': 12, 'n_estimators': 130}\",\"{'max_depth': 9, 'max_features': 'log2', 'min_samples_split': 3, 'n_estimators': 50}\",\"{'max_depth': 9, 'max_features': 'log2', 'min_samples_split': 3, 'n_estimators': 80}\",\"{'max_depth': 9, 'max_features': 'log2', 'min_samples_split': 3, 'n_estimators': 110}\",\"{'max_depth': 9, 'max_features': 'log2', 'min_samples_split': 3, 'n_estimators': 130}\",\"{'max_depth': 9, 'max_features': 'log2', 'min_samples_split': 6, 'n_estimators': 50}\",\"{'max_depth': 9, 'max_features': 'log2', 'min_samples_split': 6, 'n_estimators': 80}\",\"{'max_depth': 9, 'max_features': 'log2', 'min_samples_split': 6, 'n_estimators': 110}\",\"{'max_depth': 9, 'max_features': 'log2', 'min_samples_split': 6, 'n_estimators': 130}\",\"{'max_depth': 9, 'max_features': 'log2', 'min_samples_split': 9, 'n_estimators': 50}\",\"{'max_depth': 9, 'max_features': 'log2', 'min_samples_split': 9, 'n_estimators': 80}\",\"{'max_depth': 9, 'max_features': 'log2', 'min_samples_split': 9, 'n_estimators': 110}\",\"{'max_depth': 9, 'max_features': 'log2', 'min_samples_split': 9, 'n_estimators': 130}\",\"{'max_depth': 9, 'max_features': 'log2', 'min_samples_split': 12, 'n_estimators': 50}\",\"{'max_depth': 9, 'max_features': 'log2', 'min_samples_split': 12, 'n_estimators': 80}\",\"{'max_depth': 9, 'max_features': 'log2', 'min_samples_split': 12, 'n_estimators': 110}\",\"{'max_depth': 9, 'max_features': 'log2', 'min_samples_split': 12, 'n_estimators': 130}\"],\"legendgroup\":\"test\",\"marker\":{\"color\":\"#636efa\",\"pattern\":{\"shape\":\"\"}},\"name\":\"test\",\"offsetgroup\":\"test\",\"orientation\":\"v\",\"showlegend\":true,\"textposition\":\"auto\",\"type\":\"bar\",\"x\":[0,1,2,3,4,5,6,7,8,9,10,11,12,13,14,15,16,17,18,19,20,21,22,23,24,25,26,27,28,29,30,31,32,33,34,35,36,37,38,39,40,41,42,43,44,45,46,47,48,49,50,51,52,53,54,55,56,57,58,59,60,61,62,63,64,65,66,67,68,69,70,71,72,73,74,75,76,77,78,79,80,81,82,83,84,85,86,87,88,89,90,91,92,93,94,95],\"xaxis\":\"x\",\"y\":[0.10773227794268607,0.09113204058372662,0.10060855154779084,0.09064646996812868,0.09895027958296476,0.11503381156621069,0.09291375812440542,0.09388344087101337,0.09483065882154348,0.09718315311022134,0.09666914253880834,0.10650511712902344,0.11204174850673762,0.09428693540515928,0.10211246599227555,0.10447980173456264,0.11643410067993179,0.10023642540104254,0.08982331639670674,0.09666543853360189,0.12189037267424666,0.10280628783881293,0.10234612408205468,0.08831790955082548,0.08730951222973268,0.08700290733311031,0.10209255149984867,0.09539620015647082,0.1021894730960546,0.09641790655875163,0.09432311686929165,0.09131544672994833,0.2336776693771187,0.23092489456290438,0.22135159549120892,0.22754702223485426,0.22920315068505753,0.22740004521371443,0.22277844867065286,0.22954018975450213,0.23647687250261104,0.23377097116980786,0.238082942561001,0.2268743976572901,0.24042635714152452,0.22846767326146641,0.22460495263488692,0.2218823438760161,0.236938066465761,0.24975451482266306,0.2336095786218772,0.22778589373609623,0.24249738813048122,0.22706143969335696,0.22634904681546444,0.21517236593729244,0.2265276630870015,0.2190978901381086,0.2169328989154129,0.2218066428534753,0.2222768105478247,0.22673158687665276,0.22411509069861069,0.23164160406915685,0.29189453656194597,0.2939674753409562,0.30301727415982993,0.2885708318943367,0.3108439416099855,0.29432830287162604,0.2916287059506705,0.29061872203933486,0.29543311908082215,0.3019816418026579,0.30318020427685644,0.2957622159744665,0.2927227220451952,0.2980110007944505,0.3021467426490249,0.2992440266707739,0.29933491508095533,0.29614682323640934,0.2975361907337828,0.2966608902768367,0.2829216819514294,0.287309495028346,0.2955246139294133,0.29797860652858765,0.31590095116729,0.28806095726546793,0.29417480024974885,0.28963988703424604,0.30619796624754414,0.28473147850753294,0.2902233859757775,0.29663833016112906],\"yaxis\":\"y\"},{\"alignmentgroup\":\"True\",\"customdata\":[[\"{'max_depth': 3, 'max_features': 'sqrt', 'min_samples_split': 3, 'n_estimators': 50}\"],[\"{'max_depth': 3, 'max_features': 'sqrt', 'min_samples_split': 3, 'n_estimators': 80}\"],[\"{'max_depth': 3, 'max_features': 'sqrt', 'min_samples_split': 3, 'n_estimators': 110}\"],[\"{'max_depth': 3, 'max_features': 'sqrt', 'min_samples_split': 3, 'n_estimators': 130}\"],[\"{'max_depth': 3, 'max_features': 'sqrt', 'min_samples_split': 6, 'n_estimators': 50}\"],[\"{'max_depth': 3, 'max_features': 'sqrt', 'min_samples_split': 6, 'n_estimators': 80}\"],[\"{'max_depth': 3, 'max_features': 'sqrt', 'min_samples_split': 6, 'n_estimators': 110}\"],[\"{'max_depth': 3, 'max_features': 'sqrt', 'min_samples_split': 6, 'n_estimators': 130}\"],[\"{'max_depth': 3, 'max_features': 'sqrt', 'min_samples_split': 9, 'n_estimators': 50}\"],[\"{'max_depth': 3, 'max_features': 'sqrt', 'min_samples_split': 9, 'n_estimators': 80}\"],[\"{'max_depth': 3, 'max_features': 'sqrt', 'min_samples_split': 9, 'n_estimators': 110}\"],[\"{'max_depth': 3, 'max_features': 'sqrt', 'min_samples_split': 9, 'n_estimators': 130}\"],[\"{'max_depth': 3, 'max_features': 'sqrt', 'min_samples_split': 12, 'n_estimators': 50}\"],[\"{'max_depth': 3, 'max_features': 'sqrt', 'min_samples_split': 12, 'n_estimators': 80}\"],[\"{'max_depth': 3, 'max_features': 'sqrt', 'min_samples_split': 12, 'n_estimators': 110}\"],[\"{'max_depth': 3, 'max_features': 'sqrt', 'min_samples_split': 12, 'n_estimators': 130}\"],[\"{'max_depth': 3, 'max_features': 'log2', 'min_samples_split': 3, 'n_estimators': 50}\"],[\"{'max_depth': 3, 'max_features': 'log2', 'min_samples_split': 3, 'n_estimators': 80}\"],[\"{'max_depth': 3, 'max_features': 'log2', 'min_samples_split': 3, 'n_estimators': 110}\"],[\"{'max_depth': 3, 'max_features': 'log2', 'min_samples_split': 3, 'n_estimators': 130}\"],[\"{'max_depth': 3, 'max_features': 'log2', 'min_samples_split': 6, 'n_estimators': 50}\"],[\"{'max_depth': 3, 'max_features': 'log2', 'min_samples_split': 6, 'n_estimators': 80}\"],[\"{'max_depth': 3, 'max_features': 'log2', 'min_samples_split': 6, 'n_estimators': 110}\"],[\"{'max_depth': 3, 'max_features': 'log2', 'min_samples_split': 6, 'n_estimators': 130}\"],[\"{'max_depth': 3, 'max_features': 'log2', 'min_samples_split': 9, 'n_estimators': 50}\"],[\"{'max_depth': 3, 'max_features': 'log2', 'min_samples_split': 9, 'n_estimators': 80}\"],[\"{'max_depth': 3, 'max_features': 'log2', 'min_samples_split': 9, 'n_estimators': 110}\"],[\"{'max_depth': 3, 'max_features': 'log2', 'min_samples_split': 9, 'n_estimators': 130}\"],[\"{'max_depth': 3, 'max_features': 'log2', 'min_samples_split': 12, 'n_estimators': 50}\"],[\"{'max_depth': 3, 'max_features': 'log2', 'min_samples_split': 12, 'n_estimators': 80}\"],[\"{'max_depth': 3, 'max_features': 'log2', 'min_samples_split': 12, 'n_estimators': 110}\"],[\"{'max_depth': 3, 'max_features': 'log2', 'min_samples_split': 12, 'n_estimators': 130}\"],[\"{'max_depth': 6, 'max_features': 'sqrt', 'min_samples_split': 3, 'n_estimators': 50}\"],[\"{'max_depth': 6, 'max_features': 'sqrt', 'min_samples_split': 3, 'n_estimators': 80}\"],[\"{'max_depth': 6, 'max_features': 'sqrt', 'min_samples_split': 3, 'n_estimators': 110}\"],[\"{'max_depth': 6, 'max_features': 'sqrt', 'min_samples_split': 3, 'n_estimators': 130}\"],[\"{'max_depth': 6, 'max_features': 'sqrt', 'min_samples_split': 6, 'n_estimators': 50}\"],[\"{'max_depth': 6, 'max_features': 'sqrt', 'min_samples_split': 6, 'n_estimators': 80}\"],[\"{'max_depth': 6, 'max_features': 'sqrt', 'min_samples_split': 6, 'n_estimators': 110}\"],[\"{'max_depth': 6, 'max_features': 'sqrt', 'min_samples_split': 6, 'n_estimators': 130}\"],[\"{'max_depth': 6, 'max_features': 'sqrt', 'min_samples_split': 9, 'n_estimators': 50}\"],[\"{'max_depth': 6, 'max_features': 'sqrt', 'min_samples_split': 9, 'n_estimators': 80}\"],[\"{'max_depth': 6, 'max_features': 'sqrt', 'min_samples_split': 9, 'n_estimators': 110}\"],[\"{'max_depth': 6, 'max_features': 'sqrt', 'min_samples_split': 9, 'n_estimators': 130}\"],[\"{'max_depth': 6, 'max_features': 'sqrt', 'min_samples_split': 12, 'n_estimators': 50}\"],[\"{'max_depth': 6, 'max_features': 'sqrt', 'min_samples_split': 12, 'n_estimators': 80}\"],[\"{'max_depth': 6, 'max_features': 'sqrt', 'min_samples_split': 12, 'n_estimators': 110}\"],[\"{'max_depth': 6, 'max_features': 'sqrt', 'min_samples_split': 12, 'n_estimators': 130}\"],[\"{'max_depth': 6, 'max_features': 'log2', 'min_samples_split': 3, 'n_estimators': 50}\"],[\"{'max_depth': 6, 'max_features': 'log2', 'min_samples_split': 3, 'n_estimators': 80}\"],[\"{'max_depth': 6, 'max_features': 'log2', 'min_samples_split': 3, 'n_estimators': 110}\"],[\"{'max_depth': 6, 'max_features': 'log2', 'min_samples_split': 3, 'n_estimators': 130}\"],[\"{'max_depth': 6, 'max_features': 'log2', 'min_samples_split': 6, 'n_estimators': 50}\"],[\"{'max_depth': 6, 'max_features': 'log2', 'min_samples_split': 6, 'n_estimators': 80}\"],[\"{'max_depth': 6, 'max_features': 'log2', 'min_samples_split': 6, 'n_estimators': 110}\"],[\"{'max_depth': 6, 'max_features': 'log2', 'min_samples_split': 6, 'n_estimators': 130}\"],[\"{'max_depth': 6, 'max_features': 'log2', 'min_samples_split': 9, 'n_estimators': 50}\"],[\"{'max_depth': 6, 'max_features': 'log2', 'min_samples_split': 9, 'n_estimators': 80}\"],[\"{'max_depth': 6, 'max_features': 'log2', 'min_samples_split': 9, 'n_estimators': 110}\"],[\"{'max_depth': 6, 'max_features': 'log2', 'min_samples_split': 9, 'n_estimators': 130}\"],[\"{'max_depth': 6, 'max_features': 'log2', 'min_samples_split': 12, 'n_estimators': 50}\"],[\"{'max_depth': 6, 'max_features': 'log2', 'min_samples_split': 12, 'n_estimators': 80}\"],[\"{'max_depth': 6, 'max_features': 'log2', 'min_samples_split': 12, 'n_estimators': 110}\"],[\"{'max_depth': 6, 'max_features': 'log2', 'min_samples_split': 12, 'n_estimators': 130}\"],[\"{'max_depth': 9, 'max_features': 'sqrt', 'min_samples_split': 3, 'n_estimators': 50}\"],[\"{'max_depth': 9, 'max_features': 'sqrt', 'min_samples_split': 3, 'n_estimators': 80}\"],[\"{'max_depth': 9, 'max_features': 'sqrt', 'min_samples_split': 3, 'n_estimators': 110}\"],[\"{'max_depth': 9, 'max_features': 'sqrt', 'min_samples_split': 3, 'n_estimators': 130}\"],[\"{'max_depth': 9, 'max_features': 'sqrt', 'min_samples_split': 6, 'n_estimators': 50}\"],[\"{'max_depth': 9, 'max_features': 'sqrt', 'min_samples_split': 6, 'n_estimators': 80}\"],[\"{'max_depth': 9, 'max_features': 'sqrt', 'min_samples_split': 6, 'n_estimators': 110}\"],[\"{'max_depth': 9, 'max_features': 'sqrt', 'min_samples_split': 6, 'n_estimators': 130}\"],[\"{'max_depth': 9, 'max_features': 'sqrt', 'min_samples_split': 9, 'n_estimators': 50}\"],[\"{'max_depth': 9, 'max_features': 'sqrt', 'min_samples_split': 9, 'n_estimators': 80}\"],[\"{'max_depth': 9, 'max_features': 'sqrt', 'min_samples_split': 9, 'n_estimators': 110}\"],[\"{'max_depth': 9, 'max_features': 'sqrt', 'min_samples_split': 9, 'n_estimators': 130}\"],[\"{'max_depth': 9, 'max_features': 'sqrt', 'min_samples_split': 12, 'n_estimators': 50}\"],[\"{'max_depth': 9, 'max_features': 'sqrt', 'min_samples_split': 12, 'n_estimators': 80}\"],[\"{'max_depth': 9, 'max_features': 'sqrt', 'min_samples_split': 12, 'n_estimators': 110}\"],[\"{'max_depth': 9, 'max_features': 'sqrt', 'min_samples_split': 12, 'n_estimators': 130}\"],[\"{'max_depth': 9, 'max_features': 'log2', 'min_samples_split': 3, 'n_estimators': 50}\"],[\"{'max_depth': 9, 'max_features': 'log2', 'min_samples_split': 3, 'n_estimators': 80}\"],[\"{'max_depth': 9, 'max_features': 'log2', 'min_samples_split': 3, 'n_estimators': 110}\"],[\"{'max_depth': 9, 'max_features': 'log2', 'min_samples_split': 3, 'n_estimators': 130}\"],[\"{'max_depth': 9, 'max_features': 'log2', 'min_samples_split': 6, 'n_estimators': 50}\"],[\"{'max_depth': 9, 'max_features': 'log2', 'min_samples_split': 6, 'n_estimators': 80}\"],[\"{'max_depth': 9, 'max_features': 'log2', 'min_samples_split': 6, 'n_estimators': 110}\"],[\"{'max_depth': 9, 'max_features': 'log2', 'min_samples_split': 6, 'n_estimators': 130}\"],[\"{'max_depth': 9, 'max_features': 'log2', 'min_samples_split': 9, 'n_estimators': 50}\"],[\"{'max_depth': 9, 'max_features': 'log2', 'min_samples_split': 9, 'n_estimators': 80}\"],[\"{'max_depth': 9, 'max_features': 'log2', 'min_samples_split': 9, 'n_estimators': 110}\"],[\"{'max_depth': 9, 'max_features': 'log2', 'min_samples_split': 9, 'n_estimators': 130}\"],[\"{'max_depth': 9, 'max_features': 'log2', 'min_samples_split': 12, 'n_estimators': 50}\"],[\"{'max_depth': 9, 'max_features': 'log2', 'min_samples_split': 12, 'n_estimators': 80}\"],[\"{'max_depth': 9, 'max_features': 'log2', 'min_samples_split': 12, 'n_estimators': 110}\"],[\"{'max_depth': 9, 'max_features': 'log2', 'min_samples_split': 12, 'n_estimators': 130}\"]],\"error_y\":{\"array\":[0.029908000780506,0.03563499978087144,0.027035603718194374,0.03679137693999465,0.03065893940205385,0.036078445922360515,0.020083413142060223,0.025543359248494737,0.036292887023391354,0.026490884007597037,0.030876599203418047,0.028839911886195346,0.03455501274185681,0.024320204463194505,0.03362385784544675,0.035335400738030695,0.03918604382992478,0.033405651577770486,0.028949003114109053,0.02989958983419144,0.034048612996302005,0.035082653274959734,0.02813170993256333,0.030993525211545206,0.02303970165731708,0.030210025196631345,0.033064451967559166,0.02904327862225043,0.0318020614647111,0.01925573715871397,0.02910965775390361,0.02932587031183957,0.04810267364563392,0.04977591850712667,0.046806692769982935,0.03668929959717984,0.03143237096779753,0.05390715041532352,0.037311672273070064,0.04409029836117643,0.03504785718215471,0.036469668002004664,0.05352185025682535,0.043350745550067155,0.04636553043473676,0.05478997078531828,0.036852765467759285,0.03612139951831718,0.03339121523493817,0.03520156328788268,0.03691925807433839,0.02963432813375968,0.043672658585613165,0.03774076295055688,0.03419374888490013,0.035314858894513926,0.04149905575903727,0.03997491987430635,0.051729960448649165,0.04790054934224727,0.03716402504878639,0.035792794867313765,0.04763911112123623,0.04065904489025022,0.030099432798192858,0.025591225524277592,0.023886357754019528,0.03428418637339099,0.02510161190289367,0.031470023524901566,0.03779949326025817,0.029596574209308845,0.026332488648570032,0.03255571213993699,0.03263452482809732,0.02860136749136956,0.023835254121050555,0.024822444849436198,0.02457088651666789,0.025069851832623363,0.028444392241571574,0.030413808102409443,0.01724079701883253,0.02749491866343655,0.02897865340523023,0.03035416172470702,0.02920938536605447,0.02366531913124959,0.024198842924144585,0.024737301154517857,0.0278501583216095,0.031045991051181387,0.03453397662961931,0.02956526626254708,0.03183193335962131,0.025234188778283182]},\"hovertemplate\":\"<b>%{hovertext}</b><br><br>type=train<br>Params=%{x}<br>Average f1=%{y}<br>params=%{customdata[0]}<extra></extra>\",\"hovertext\":[\"{'max_depth': 3, 'max_features': 'sqrt', 'min_samples_split': 3, 'n_estimators': 50}\",\"{'max_depth': 3, 'max_features': 'sqrt', 'min_samples_split': 3, 'n_estimators': 80}\",\"{'max_depth': 3, 'max_features': 'sqrt', 'min_samples_split': 3, 'n_estimators': 110}\",\"{'max_depth': 3, 'max_features': 'sqrt', 'min_samples_split': 3, 'n_estimators': 130}\",\"{'max_depth': 3, 'max_features': 'sqrt', 'min_samples_split': 6, 'n_estimators': 50}\",\"{'max_depth': 3, 'max_features': 'sqrt', 'min_samples_split': 6, 'n_estimators': 80}\",\"{'max_depth': 3, 'max_features': 'sqrt', 'min_samples_split': 6, 'n_estimators': 110}\",\"{'max_depth': 3, 'max_features': 'sqrt', 'min_samples_split': 6, 'n_estimators': 130}\",\"{'max_depth': 3, 'max_features': 'sqrt', 'min_samples_split': 9, 'n_estimators': 50}\",\"{'max_depth': 3, 'max_features': 'sqrt', 'min_samples_split': 9, 'n_estimators': 80}\",\"{'max_depth': 3, 'max_features': 'sqrt', 'min_samples_split': 9, 'n_estimators': 110}\",\"{'max_depth': 3, 'max_features': 'sqrt', 'min_samples_split': 9, 'n_estimators': 130}\",\"{'max_depth': 3, 'max_features': 'sqrt', 'min_samples_split': 12, 'n_estimators': 50}\",\"{'max_depth': 3, 'max_features': 'sqrt', 'min_samples_split': 12, 'n_estimators': 80}\",\"{'max_depth': 3, 'max_features': 'sqrt', 'min_samples_split': 12, 'n_estimators': 110}\",\"{'max_depth': 3, 'max_features': 'sqrt', 'min_samples_split': 12, 'n_estimators': 130}\",\"{'max_depth': 3, 'max_features': 'log2', 'min_samples_split': 3, 'n_estimators': 50}\",\"{'max_depth': 3, 'max_features': 'log2', 'min_samples_split': 3, 'n_estimators': 80}\",\"{'max_depth': 3, 'max_features': 'log2', 'min_samples_split': 3, 'n_estimators': 110}\",\"{'max_depth': 3, 'max_features': 'log2', 'min_samples_split': 3, 'n_estimators': 130}\",\"{'max_depth': 3, 'max_features': 'log2', 'min_samples_split': 6, 'n_estimators': 50}\",\"{'max_depth': 3, 'max_features': 'log2', 'min_samples_split': 6, 'n_estimators': 80}\",\"{'max_depth': 3, 'max_features': 'log2', 'min_samples_split': 6, 'n_estimators': 110}\",\"{'max_depth': 3, 'max_features': 'log2', 'min_samples_split': 6, 'n_estimators': 130}\",\"{'max_depth': 3, 'max_features': 'log2', 'min_samples_split': 9, 'n_estimators': 50}\",\"{'max_depth': 3, 'max_features': 'log2', 'min_samples_split': 9, 'n_estimators': 80}\",\"{'max_depth': 3, 'max_features': 'log2', 'min_samples_split': 9, 'n_estimators': 110}\",\"{'max_depth': 3, 'max_features': 'log2', 'min_samples_split': 9, 'n_estimators': 130}\",\"{'max_depth': 3, 'max_features': 'log2', 'min_samples_split': 12, 'n_estimators': 50}\",\"{'max_depth': 3, 'max_features': 'log2', 'min_samples_split': 12, 'n_estimators': 80}\",\"{'max_depth': 3, 'max_features': 'log2', 'min_samples_split': 12, 'n_estimators': 110}\",\"{'max_depth': 3, 'max_features': 'log2', 'min_samples_split': 12, 'n_estimators': 130}\",\"{'max_depth': 6, 'max_features': 'sqrt', 'min_samples_split': 3, 'n_estimators': 50}\",\"{'max_depth': 6, 'max_features': 'sqrt', 'min_samples_split': 3, 'n_estimators': 80}\",\"{'max_depth': 6, 'max_features': 'sqrt', 'min_samples_split': 3, 'n_estimators': 110}\",\"{'max_depth': 6, 'max_features': 'sqrt', 'min_samples_split': 3, 'n_estimators': 130}\",\"{'max_depth': 6, 'max_features': 'sqrt', 'min_samples_split': 6, 'n_estimators': 50}\",\"{'max_depth': 6, 'max_features': 'sqrt', 'min_samples_split': 6, 'n_estimators': 80}\",\"{'max_depth': 6, 'max_features': 'sqrt', 'min_samples_split': 6, 'n_estimators': 110}\",\"{'max_depth': 6, 'max_features': 'sqrt', 'min_samples_split': 6, 'n_estimators': 130}\",\"{'max_depth': 6, 'max_features': 'sqrt', 'min_samples_split': 9, 'n_estimators': 50}\",\"{'max_depth': 6, 'max_features': 'sqrt', 'min_samples_split': 9, 'n_estimators': 80}\",\"{'max_depth': 6, 'max_features': 'sqrt', 'min_samples_split': 9, 'n_estimators': 110}\",\"{'max_depth': 6, 'max_features': 'sqrt', 'min_samples_split': 9, 'n_estimators': 130}\",\"{'max_depth': 6, 'max_features': 'sqrt', 'min_samples_split': 12, 'n_estimators': 50}\",\"{'max_depth': 6, 'max_features': 'sqrt', 'min_samples_split': 12, 'n_estimators': 80}\",\"{'max_depth': 6, 'max_features': 'sqrt', 'min_samples_split': 12, 'n_estimators': 110}\",\"{'max_depth': 6, 'max_features': 'sqrt', 'min_samples_split': 12, 'n_estimators': 130}\",\"{'max_depth': 6, 'max_features': 'log2', 'min_samples_split': 3, 'n_estimators': 50}\",\"{'max_depth': 6, 'max_features': 'log2', 'min_samples_split': 3, 'n_estimators': 80}\",\"{'max_depth': 6, 'max_features': 'log2', 'min_samples_split': 3, 'n_estimators': 110}\",\"{'max_depth': 6, 'max_features': 'log2', 'min_samples_split': 3, 'n_estimators': 130}\",\"{'max_depth': 6, 'max_features': 'log2', 'min_samples_split': 6, 'n_estimators': 50}\",\"{'max_depth': 6, 'max_features': 'log2', 'min_samples_split': 6, 'n_estimators': 80}\",\"{'max_depth': 6, 'max_features': 'log2', 'min_samples_split': 6, 'n_estimators': 110}\",\"{'max_depth': 6, 'max_features': 'log2', 'min_samples_split': 6, 'n_estimators': 130}\",\"{'max_depth': 6, 'max_features': 'log2', 'min_samples_split': 9, 'n_estimators': 50}\",\"{'max_depth': 6, 'max_features': 'log2', 'min_samples_split': 9, 'n_estimators': 80}\",\"{'max_depth': 6, 'max_features': 'log2', 'min_samples_split': 9, 'n_estimators': 110}\",\"{'max_depth': 6, 'max_features': 'log2', 'min_samples_split': 9, 'n_estimators': 130}\",\"{'max_depth': 6, 'max_features': 'log2', 'min_samples_split': 12, 'n_estimators': 50}\",\"{'max_depth': 6, 'max_features': 'log2', 'min_samples_split': 12, 'n_estimators': 80}\",\"{'max_depth': 6, 'max_features': 'log2', 'min_samples_split': 12, 'n_estimators': 110}\",\"{'max_depth': 6, 'max_features': 'log2', 'min_samples_split': 12, 'n_estimators': 130}\",\"{'max_depth': 9, 'max_features': 'sqrt', 'min_samples_split': 3, 'n_estimators': 50}\",\"{'max_depth': 9, 'max_features': 'sqrt', 'min_samples_split': 3, 'n_estimators': 80}\",\"{'max_depth': 9, 'max_features': 'sqrt', 'min_samples_split': 3, 'n_estimators': 110}\",\"{'max_depth': 9, 'max_features': 'sqrt', 'min_samples_split': 3, 'n_estimators': 130}\",\"{'max_depth': 9, 'max_features': 'sqrt', 'min_samples_split': 6, 'n_estimators': 50}\",\"{'max_depth': 9, 'max_features': 'sqrt', 'min_samples_split': 6, 'n_estimators': 80}\",\"{'max_depth': 9, 'max_features': 'sqrt', 'min_samples_split': 6, 'n_estimators': 110}\",\"{'max_depth': 9, 'max_features': 'sqrt', 'min_samples_split': 6, 'n_estimators': 130}\",\"{'max_depth': 9, 'max_features': 'sqrt', 'min_samples_split': 9, 'n_estimators': 50}\",\"{'max_depth': 9, 'max_features': 'sqrt', 'min_samples_split': 9, 'n_estimators': 80}\",\"{'max_depth': 9, 'max_features': 'sqrt', 'min_samples_split': 9, 'n_estimators': 110}\",\"{'max_depth': 9, 'max_features': 'sqrt', 'min_samples_split': 9, 'n_estimators': 130}\",\"{'max_depth': 9, 'max_features': 'sqrt', 'min_samples_split': 12, 'n_estimators': 50}\",\"{'max_depth': 9, 'max_features': 'sqrt', 'min_samples_split': 12, 'n_estimators': 80}\",\"{'max_depth': 9, 'max_features': 'sqrt', 'min_samples_split': 12, 'n_estimators': 110}\",\"{'max_depth': 9, 'max_features': 'sqrt', 'min_samples_split': 12, 'n_estimators': 130}\",\"{'max_depth': 9, 'max_features': 'log2', 'min_samples_split': 3, 'n_estimators': 50}\",\"{'max_depth': 9, 'max_features': 'log2', 'min_samples_split': 3, 'n_estimators': 80}\",\"{'max_depth': 9, 'max_features': 'log2', 'min_samples_split': 3, 'n_estimators': 110}\",\"{'max_depth': 9, 'max_features': 'log2', 'min_samples_split': 3, 'n_estimators': 130}\",\"{'max_depth': 9, 'max_features': 'log2', 'min_samples_split': 6, 'n_estimators': 50}\",\"{'max_depth': 9, 'max_features': 'log2', 'min_samples_split': 6, 'n_estimators': 80}\",\"{'max_depth': 9, 'max_features': 'log2', 'min_samples_split': 6, 'n_estimators': 110}\",\"{'max_depth': 9, 'max_features': 'log2', 'min_samples_split': 6, 'n_estimators': 130}\",\"{'max_depth': 9, 'max_features': 'log2', 'min_samples_split': 9, 'n_estimators': 50}\",\"{'max_depth': 9, 'max_features': 'log2', 'min_samples_split': 9, 'n_estimators': 80}\",\"{'max_depth': 9, 'max_features': 'log2', 'min_samples_split': 9, 'n_estimators': 110}\",\"{'max_depth': 9, 'max_features': 'log2', 'min_samples_split': 9, 'n_estimators': 130}\",\"{'max_depth': 9, 'max_features': 'log2', 'min_samples_split': 12, 'n_estimators': 50}\",\"{'max_depth': 9, 'max_features': 'log2', 'min_samples_split': 12, 'n_estimators': 80}\",\"{'max_depth': 9, 'max_features': 'log2', 'min_samples_split': 12, 'n_estimators': 110}\",\"{'max_depth': 9, 'max_features': 'log2', 'min_samples_split': 12, 'n_estimators': 130}\"],\"legendgroup\":\"train\",\"marker\":{\"color\":\"#EF553B\",\"pattern\":{\"shape\":\"\"}},\"name\":\"train\",\"offsetgroup\":\"train\",\"orientation\":\"v\",\"showlegend\":true,\"textposition\":\"auto\",\"type\":\"bar\",\"x\":[0,1,2,3,4,5,6,7,8,9,10,11,12,13,14,15,16,17,18,19,20,21,22,23,24,25,26,27,28,29,30,31,32,33,34,35,36,37,38,39,40,41,42,43,44,45,46,47,48,49,50,51,52,53,54,55,56,57,58,59,60,61,62,63,64,65,66,67,68,69,70,71,72,73,74,75,76,77,78,79,80,81,82,83,84,85,86,87,88,89,90,91,92,93,94,95],\"xaxis\":\"x\",\"y\":[0.16007560200848767,0.16060255254756015,0.15177930096347356,0.15460474224262344,0.15969598806335852,0.1562174390204404,0.1485925447789952,0.1530431375275354,0.16573071423160718,0.15097194845871384,0.16176253058665974,0.15327164589293438,0.16695763560713167,0.15098400033734466,0.1528528326794094,0.15490375067951087,0.16699261669741391,0.14929791797346653,0.15736933160538497,0.14407421403680182,0.16269244098155797,0.154828526201268,0.15389978505920637,0.15115866650286702,0.1529946162367774,0.15633856703494436,0.1586329788697162,0.15589314973704405,0.1595339517472484,0.15076616623951777,0.1517959269119281,0.15248349841136294,0.4048156178789978,0.3999516653695246,0.4005083973727485,0.40880428301641125,0.39653820982582266,0.38850684841947497,0.3919522868614424,0.3991378813519065,0.4002054009298949,0.40412353946047297,0.39738921467339605,0.39175653295387824,0.40269890148481763,0.3922089507082065,0.3881282204105365,0.3869123312780517,0.4160012379215141,0.4047272847226944,0.4125214425264831,0.41143958326094376,0.3932228746811769,0.4025595644864861,0.3949099832627742,0.3964839393512728,0.3972464189255538,0.38787436228252814,0.3846144792020413,0.39740061341945443,0.3920227696139943,0.3982877784757838,0.3902086972740304,0.39247289048355,0.6492032596559488,0.6290318472135346,0.6442532137125172,0.63723378812992,0.6234650668242462,0.6164636081092066,0.6175172430881093,0.6207583248898041,0.6048710711279063,0.6057793657770223,0.6092196792651667,0.613519889416077,0.5958423891788495,0.5981842352680287,0.5841790058252608,0.5890627562320946,0.6366141646571067,0.639008466801174,0.6439381967599477,0.6408885895933623,0.6357438517658227,0.617562125995754,0.6177767042177158,0.626644170012254,0.5989775318662957,0.6005321736659995,0.6080196777298283,0.6035141336211842,0.5959609382202335,0.589386570997996,0.5889772959695657,0.5925777988122473],\"yaxis\":\"y\"}],                        {\"barmode\":\"group\",\"legend\":{\"title\":{\"text\":\"type\"},\"tracegroupgap\":0},\"template\":{\"data\":{\"bar\":[{\"error_x\":{\"color\":\"#2a3f5f\"},\"error_y\":{\"color\":\"#2a3f5f\"},\"marker\":{\"line\":{\"color\":\"#E5ECF6\",\"width\":0.5},\"pattern\":{\"fillmode\":\"overlay\",\"size\":10,\"solidity\":0.2}},\"type\":\"bar\"}],\"barpolar\":[{\"marker\":{\"line\":{\"color\":\"#E5ECF6\",\"width\":0.5},\"pattern\":{\"fillmode\":\"overlay\",\"size\":10,\"solidity\":0.2}},\"type\":\"barpolar\"}],\"carpet\":[{\"aaxis\":{\"endlinecolor\":\"#2a3f5f\",\"gridcolor\":\"white\",\"linecolor\":\"white\",\"minorgridcolor\":\"white\",\"startlinecolor\":\"#2a3f5f\"},\"baxis\":{\"endlinecolor\":\"#2a3f5f\",\"gridcolor\":\"white\",\"linecolor\":\"white\",\"minorgridcolor\":\"white\",\"startlinecolor\":\"#2a3f5f\"},\"type\":\"carpet\"}],\"choropleth\":[{\"colorbar\":{\"outlinewidth\":0,\"ticks\":\"\"},\"type\":\"choropleth\"}],\"contour\":[{\"colorbar\":{\"outlinewidth\":0,\"ticks\":\"\"},\"colorscale\":[[0.0,\"#0d0887\"],[0.1111111111111111,\"#46039f\"],[0.2222222222222222,\"#7201a8\"],[0.3333333333333333,\"#9c179e\"],[0.4444444444444444,\"#bd3786\"],[0.5555555555555556,\"#d8576b\"],[0.6666666666666666,\"#ed7953\"],[0.7777777777777778,\"#fb9f3a\"],[0.8888888888888888,\"#fdca26\"],[1.0,\"#f0f921\"]],\"type\":\"contour\"}],\"contourcarpet\":[{\"colorbar\":{\"outlinewidth\":0,\"ticks\":\"\"},\"type\":\"contourcarpet\"}],\"heatmap\":[{\"colorbar\":{\"outlinewidth\":0,\"ticks\":\"\"},\"colorscale\":[[0.0,\"#0d0887\"],[0.1111111111111111,\"#46039f\"],[0.2222222222222222,\"#7201a8\"],[0.3333333333333333,\"#9c179e\"],[0.4444444444444444,\"#bd3786\"],[0.5555555555555556,\"#d8576b\"],[0.6666666666666666,\"#ed7953\"],[0.7777777777777778,\"#fb9f3a\"],[0.8888888888888888,\"#fdca26\"],[1.0,\"#f0f921\"]],\"type\":\"heatmap\"}],\"heatmapgl\":[{\"colorbar\":{\"outlinewidth\":0,\"ticks\":\"\"},\"colorscale\":[[0.0,\"#0d0887\"],[0.1111111111111111,\"#46039f\"],[0.2222222222222222,\"#7201a8\"],[0.3333333333333333,\"#9c179e\"],[0.4444444444444444,\"#bd3786\"],[0.5555555555555556,\"#d8576b\"],[0.6666666666666666,\"#ed7953\"],[0.7777777777777778,\"#fb9f3a\"],[0.8888888888888888,\"#fdca26\"],[1.0,\"#f0f921\"]],\"type\":\"heatmapgl\"}],\"histogram\":[{\"marker\":{\"pattern\":{\"fillmode\":\"overlay\",\"size\":10,\"solidity\":0.2}},\"type\":\"histogram\"}],\"histogram2d\":[{\"colorbar\":{\"outlinewidth\":0,\"ticks\":\"\"},\"colorscale\":[[0.0,\"#0d0887\"],[0.1111111111111111,\"#46039f\"],[0.2222222222222222,\"#7201a8\"],[0.3333333333333333,\"#9c179e\"],[0.4444444444444444,\"#bd3786\"],[0.5555555555555556,\"#d8576b\"],[0.6666666666666666,\"#ed7953\"],[0.7777777777777778,\"#fb9f3a\"],[0.8888888888888888,\"#fdca26\"],[1.0,\"#f0f921\"]],\"type\":\"histogram2d\"}],\"histogram2dcontour\":[{\"colorbar\":{\"outlinewidth\":0,\"ticks\":\"\"},\"colorscale\":[[0.0,\"#0d0887\"],[0.1111111111111111,\"#46039f\"],[0.2222222222222222,\"#7201a8\"],[0.3333333333333333,\"#9c179e\"],[0.4444444444444444,\"#bd3786\"],[0.5555555555555556,\"#d8576b\"],[0.6666666666666666,\"#ed7953\"],[0.7777777777777778,\"#fb9f3a\"],[0.8888888888888888,\"#fdca26\"],[1.0,\"#f0f921\"]],\"type\":\"histogram2dcontour\"}],\"mesh3d\":[{\"colorbar\":{\"outlinewidth\":0,\"ticks\":\"\"},\"type\":\"mesh3d\"}],\"parcoords\":[{\"line\":{\"colorbar\":{\"outlinewidth\":0,\"ticks\":\"\"}},\"type\":\"parcoords\"}],\"pie\":[{\"automargin\":true,\"type\":\"pie\"}],\"scatter\":[{\"marker\":{\"colorbar\":{\"outlinewidth\":0,\"ticks\":\"\"}},\"type\":\"scatter\"}],\"scatter3d\":[{\"line\":{\"colorbar\":{\"outlinewidth\":0,\"ticks\":\"\"}},\"marker\":{\"colorbar\":{\"outlinewidth\":0,\"ticks\":\"\"}},\"type\":\"scatter3d\"}],\"scattercarpet\":[{\"marker\":{\"colorbar\":{\"outlinewidth\":0,\"ticks\":\"\"}},\"type\":\"scattercarpet\"}],\"scattergeo\":[{\"marker\":{\"colorbar\":{\"outlinewidth\":0,\"ticks\":\"\"}},\"type\":\"scattergeo\"}],\"scattergl\":[{\"marker\":{\"colorbar\":{\"outlinewidth\":0,\"ticks\":\"\"}},\"type\":\"scattergl\"}],\"scattermapbox\":[{\"marker\":{\"colorbar\":{\"outlinewidth\":0,\"ticks\":\"\"}},\"type\":\"scattermapbox\"}],\"scatterpolar\":[{\"marker\":{\"colorbar\":{\"outlinewidth\":0,\"ticks\":\"\"}},\"type\":\"scatterpolar\"}],\"scatterpolargl\":[{\"marker\":{\"colorbar\":{\"outlinewidth\":0,\"ticks\":\"\"}},\"type\":\"scatterpolargl\"}],\"scatterternary\":[{\"marker\":{\"colorbar\":{\"outlinewidth\":0,\"ticks\":\"\"}},\"type\":\"scatterternary\"}],\"surface\":[{\"colorbar\":{\"outlinewidth\":0,\"ticks\":\"\"},\"colorscale\":[[0.0,\"#0d0887\"],[0.1111111111111111,\"#46039f\"],[0.2222222222222222,\"#7201a8\"],[0.3333333333333333,\"#9c179e\"],[0.4444444444444444,\"#bd3786\"],[0.5555555555555556,\"#d8576b\"],[0.6666666666666666,\"#ed7953\"],[0.7777777777777778,\"#fb9f3a\"],[0.8888888888888888,\"#fdca26\"],[1.0,\"#f0f921\"]],\"type\":\"surface\"}],\"table\":[{\"cells\":{\"fill\":{\"color\":\"#EBF0F8\"},\"line\":{\"color\":\"white\"}},\"header\":{\"fill\":{\"color\":\"#C8D4E3\"},\"line\":{\"color\":\"white\"}},\"type\":\"table\"}]},\"layout\":{\"annotationdefaults\":{\"arrowcolor\":\"#2a3f5f\",\"arrowhead\":0,\"arrowwidth\":1},\"autotypenumbers\":\"strict\",\"coloraxis\":{\"colorbar\":{\"outlinewidth\":0,\"ticks\":\"\"}},\"colorscale\":{\"diverging\":[[0,\"#8e0152\"],[0.1,\"#c51b7d\"],[0.2,\"#de77ae\"],[0.3,\"#f1b6da\"],[0.4,\"#fde0ef\"],[0.5,\"#f7f7f7\"],[0.6,\"#e6f5d0\"],[0.7,\"#b8e186\"],[0.8,\"#7fbc41\"],[0.9,\"#4d9221\"],[1,\"#276419\"]],\"sequential\":[[0.0,\"#0d0887\"],[0.1111111111111111,\"#46039f\"],[0.2222222222222222,\"#7201a8\"],[0.3333333333333333,\"#9c179e\"],[0.4444444444444444,\"#bd3786\"],[0.5555555555555556,\"#d8576b\"],[0.6666666666666666,\"#ed7953\"],[0.7777777777777778,\"#fb9f3a\"],[0.8888888888888888,\"#fdca26\"],[1.0,\"#f0f921\"]],\"sequentialminus\":[[0.0,\"#0d0887\"],[0.1111111111111111,\"#46039f\"],[0.2222222222222222,\"#7201a8\"],[0.3333333333333333,\"#9c179e\"],[0.4444444444444444,\"#bd3786\"],[0.5555555555555556,\"#d8576b\"],[0.6666666666666666,\"#ed7953\"],[0.7777777777777778,\"#fb9f3a\"],[0.8888888888888888,\"#fdca26\"],[1.0,\"#f0f921\"]]},\"colorway\":[\"#636efa\",\"#EF553B\",\"#00cc96\",\"#ab63fa\",\"#FFA15A\",\"#19d3f3\",\"#FF6692\",\"#B6E880\",\"#FF97FF\",\"#FECB52\"],\"font\":{\"color\":\"#2a3f5f\"},\"geo\":{\"bgcolor\":\"white\",\"lakecolor\":\"white\",\"landcolor\":\"#E5ECF6\",\"showlakes\":true,\"showland\":true,\"subunitcolor\":\"white\"},\"hoverlabel\":{\"align\":\"left\"},\"hovermode\":\"closest\",\"mapbox\":{\"style\":\"light\"},\"paper_bgcolor\":\"white\",\"plot_bgcolor\":\"#E5ECF6\",\"polar\":{\"angularaxis\":{\"gridcolor\":\"white\",\"linecolor\":\"white\",\"ticks\":\"\"},\"bgcolor\":\"#E5ECF6\",\"radialaxis\":{\"gridcolor\":\"white\",\"linecolor\":\"white\",\"ticks\":\"\"}},\"scene\":{\"xaxis\":{\"backgroundcolor\":\"#E5ECF6\",\"gridcolor\":\"white\",\"gridwidth\":2,\"linecolor\":\"white\",\"showbackground\":true,\"ticks\":\"\",\"zerolinecolor\":\"white\"},\"yaxis\":{\"backgroundcolor\":\"#E5ECF6\",\"gridcolor\":\"white\",\"gridwidth\":2,\"linecolor\":\"white\",\"showbackground\":true,\"ticks\":\"\",\"zerolinecolor\":\"white\"},\"zaxis\":{\"backgroundcolor\":\"#E5ECF6\",\"gridcolor\":\"white\",\"gridwidth\":2,\"linecolor\":\"white\",\"showbackground\":true,\"ticks\":\"\",\"zerolinecolor\":\"white\"}},\"shapedefaults\":{\"line\":{\"color\":\"#2a3f5f\"}},\"ternary\":{\"aaxis\":{\"gridcolor\":\"white\",\"linecolor\":\"white\",\"ticks\":\"\"},\"baxis\":{\"gridcolor\":\"white\",\"linecolor\":\"white\",\"ticks\":\"\"},\"bgcolor\":\"#E5ECF6\",\"caxis\":{\"gridcolor\":\"white\",\"linecolor\":\"white\",\"ticks\":\"\"}},\"title\":{\"x\":0.05},\"xaxis\":{\"automargin\":true,\"gridcolor\":\"white\",\"linecolor\":\"white\",\"ticks\":\"\",\"title\":{\"standoff\":15},\"zerolinecolor\":\"white\",\"zerolinewidth\":2},\"yaxis\":{\"automargin\":true,\"gridcolor\":\"white\",\"linecolor\":\"white\",\"ticks\":\"\",\"title\":{\"standoff\":15},\"zerolinecolor\":\"white\",\"zerolinewidth\":2}}},\"title\":{\"text\":\"Mean f1 score on testing and training set for each parameter combination <br> (Model: RandomForest Classifier, Dataset: Mean imputation for individuals with 2 or 3 MV)\"},\"xaxis\":{\"anchor\":\"y\",\"domain\":[0.0,1.0],\"title\":{\"text\":\"Params\"}},\"yaxis\":{\"anchor\":\"x\",\"domain\":[0.0,1.0],\"title\":{\"text\":\"Average f1\"}}},                        {\"responsive\": true}                    ).then(function(){\n                            \nvar gd = document.getElementById('0070468c-6375-41f1-b97e-d41e997be905');\nvar x = new MutationObserver(function (mutations, observer) {{\n        var display = window.getComputedStyle(gd).display;\n        if (!display || display === 'none') {{\n            console.log([gd, 'removed!']);\n            Plotly.purge(gd);\n            observer.disconnect();\n        }}\n}});\n\n// Listen for the removal of the full notebook cells\nvar notebookContainer = gd.closest('#notebook-container');\nif (notebookContainer) {{\n    x.observe(notebookContainer, {childList: true});\n}}\n\n// Listen for the clearing of the current output cell\nvar outputEl = gd.closest('.output');\nif (outputEl) {{\n    x.observe(outputEl, {childList: true});\n}}\n\n                        })                };                });            </script>        </div>"
     },
     "metadata": {},
     "output_type": "display_data"
    }
   ],
   "source": [
    "stats = computeModelStats(model, stats, mean_accurracy_2_3_missing_values, pgrid)"
   ],
   "metadata": {
    "collapsed": false,
    "pycharm": {
     "name": "#%%\n"
    }
   }
  },
  {
   "cell_type": "code",
   "execution_count": 83,
   "outputs": [
    {
     "name": "stdout",
     "output_type": "stream",
     "text": [
      "Fitting 5 folds for each of 96 candidates, totalling 480 fits\n"
     ]
    },
    {
     "data": {
      "application/vnd.plotly.v1+json": {
       "config": {
        "plotlyServerURL": "https://plotly.com"
       },
       "data": [
        {
         "alignmentgroup": "True",
         "customdata": [
          [
           "{'max_depth': 3, 'max_features': 'sqrt', 'min_samples_split': 3, 'n_estimators': 50}"
          ],
          [
           "{'max_depth': 3, 'max_features': 'sqrt', 'min_samples_split': 3, 'n_estimators': 80}"
          ],
          [
           "{'max_depth': 3, 'max_features': 'sqrt', 'min_samples_split': 3, 'n_estimators': 110}"
          ],
          [
           "{'max_depth': 3, 'max_features': 'sqrt', 'min_samples_split': 3, 'n_estimators': 130}"
          ],
          [
           "{'max_depth': 3, 'max_features': 'sqrt', 'min_samples_split': 6, 'n_estimators': 50}"
          ],
          [
           "{'max_depth': 3, 'max_features': 'sqrt', 'min_samples_split': 6, 'n_estimators': 80}"
          ],
          [
           "{'max_depth': 3, 'max_features': 'sqrt', 'min_samples_split': 6, 'n_estimators': 110}"
          ],
          [
           "{'max_depth': 3, 'max_features': 'sqrt', 'min_samples_split': 6, 'n_estimators': 130}"
          ],
          [
           "{'max_depth': 3, 'max_features': 'sqrt', 'min_samples_split': 9, 'n_estimators': 50}"
          ],
          [
           "{'max_depth': 3, 'max_features': 'sqrt', 'min_samples_split': 9, 'n_estimators': 80}"
          ],
          [
           "{'max_depth': 3, 'max_features': 'sqrt', 'min_samples_split': 9, 'n_estimators': 110}"
          ],
          [
           "{'max_depth': 3, 'max_features': 'sqrt', 'min_samples_split': 9, 'n_estimators': 130}"
          ],
          [
           "{'max_depth': 3, 'max_features': 'sqrt', 'min_samples_split': 12, 'n_estimators': 50}"
          ],
          [
           "{'max_depth': 3, 'max_features': 'sqrt', 'min_samples_split': 12, 'n_estimators': 80}"
          ],
          [
           "{'max_depth': 3, 'max_features': 'sqrt', 'min_samples_split': 12, 'n_estimators': 110}"
          ],
          [
           "{'max_depth': 3, 'max_features': 'sqrt', 'min_samples_split': 12, 'n_estimators': 130}"
          ],
          [
           "{'max_depth': 3, 'max_features': 'log2', 'min_samples_split': 3, 'n_estimators': 50}"
          ],
          [
           "{'max_depth': 3, 'max_features': 'log2', 'min_samples_split': 3, 'n_estimators': 80}"
          ],
          [
           "{'max_depth': 3, 'max_features': 'log2', 'min_samples_split': 3, 'n_estimators': 110}"
          ],
          [
           "{'max_depth': 3, 'max_features': 'log2', 'min_samples_split': 3, 'n_estimators': 130}"
          ],
          [
           "{'max_depth': 3, 'max_features': 'log2', 'min_samples_split': 6, 'n_estimators': 50}"
          ],
          [
           "{'max_depth': 3, 'max_features': 'log2', 'min_samples_split': 6, 'n_estimators': 80}"
          ],
          [
           "{'max_depth': 3, 'max_features': 'log2', 'min_samples_split': 6, 'n_estimators': 110}"
          ],
          [
           "{'max_depth': 3, 'max_features': 'log2', 'min_samples_split': 6, 'n_estimators': 130}"
          ],
          [
           "{'max_depth': 3, 'max_features': 'log2', 'min_samples_split': 9, 'n_estimators': 50}"
          ],
          [
           "{'max_depth': 3, 'max_features': 'log2', 'min_samples_split': 9, 'n_estimators': 80}"
          ],
          [
           "{'max_depth': 3, 'max_features': 'log2', 'min_samples_split': 9, 'n_estimators': 110}"
          ],
          [
           "{'max_depth': 3, 'max_features': 'log2', 'min_samples_split': 9, 'n_estimators': 130}"
          ],
          [
           "{'max_depth': 3, 'max_features': 'log2', 'min_samples_split': 12, 'n_estimators': 50}"
          ],
          [
           "{'max_depth': 3, 'max_features': 'log2', 'min_samples_split': 12, 'n_estimators': 80}"
          ],
          [
           "{'max_depth': 3, 'max_features': 'log2', 'min_samples_split': 12, 'n_estimators': 110}"
          ],
          [
           "{'max_depth': 3, 'max_features': 'log2', 'min_samples_split': 12, 'n_estimators': 130}"
          ],
          [
           "{'max_depth': 6, 'max_features': 'sqrt', 'min_samples_split': 3, 'n_estimators': 50}"
          ],
          [
           "{'max_depth': 6, 'max_features': 'sqrt', 'min_samples_split': 3, 'n_estimators': 80}"
          ],
          [
           "{'max_depth': 6, 'max_features': 'sqrt', 'min_samples_split': 3, 'n_estimators': 110}"
          ],
          [
           "{'max_depth': 6, 'max_features': 'sqrt', 'min_samples_split': 3, 'n_estimators': 130}"
          ],
          [
           "{'max_depth': 6, 'max_features': 'sqrt', 'min_samples_split': 6, 'n_estimators': 50}"
          ],
          [
           "{'max_depth': 6, 'max_features': 'sqrt', 'min_samples_split': 6, 'n_estimators': 80}"
          ],
          [
           "{'max_depth': 6, 'max_features': 'sqrt', 'min_samples_split': 6, 'n_estimators': 110}"
          ],
          [
           "{'max_depth': 6, 'max_features': 'sqrt', 'min_samples_split': 6, 'n_estimators': 130}"
          ],
          [
           "{'max_depth': 6, 'max_features': 'sqrt', 'min_samples_split': 9, 'n_estimators': 50}"
          ],
          [
           "{'max_depth': 6, 'max_features': 'sqrt', 'min_samples_split': 9, 'n_estimators': 80}"
          ],
          [
           "{'max_depth': 6, 'max_features': 'sqrt', 'min_samples_split': 9, 'n_estimators': 110}"
          ],
          [
           "{'max_depth': 6, 'max_features': 'sqrt', 'min_samples_split': 9, 'n_estimators': 130}"
          ],
          [
           "{'max_depth': 6, 'max_features': 'sqrt', 'min_samples_split': 12, 'n_estimators': 50}"
          ],
          [
           "{'max_depth': 6, 'max_features': 'sqrt', 'min_samples_split': 12, 'n_estimators': 80}"
          ],
          [
           "{'max_depth': 6, 'max_features': 'sqrt', 'min_samples_split': 12, 'n_estimators': 110}"
          ],
          [
           "{'max_depth': 6, 'max_features': 'sqrt', 'min_samples_split': 12, 'n_estimators': 130}"
          ],
          [
           "{'max_depth': 6, 'max_features': 'log2', 'min_samples_split': 3, 'n_estimators': 50}"
          ],
          [
           "{'max_depth': 6, 'max_features': 'log2', 'min_samples_split': 3, 'n_estimators': 80}"
          ],
          [
           "{'max_depth': 6, 'max_features': 'log2', 'min_samples_split': 3, 'n_estimators': 110}"
          ],
          [
           "{'max_depth': 6, 'max_features': 'log2', 'min_samples_split': 3, 'n_estimators': 130}"
          ],
          [
           "{'max_depth': 6, 'max_features': 'log2', 'min_samples_split': 6, 'n_estimators': 50}"
          ],
          [
           "{'max_depth': 6, 'max_features': 'log2', 'min_samples_split': 6, 'n_estimators': 80}"
          ],
          [
           "{'max_depth': 6, 'max_features': 'log2', 'min_samples_split': 6, 'n_estimators': 110}"
          ],
          [
           "{'max_depth': 6, 'max_features': 'log2', 'min_samples_split': 6, 'n_estimators': 130}"
          ],
          [
           "{'max_depth': 6, 'max_features': 'log2', 'min_samples_split': 9, 'n_estimators': 50}"
          ],
          [
           "{'max_depth': 6, 'max_features': 'log2', 'min_samples_split': 9, 'n_estimators': 80}"
          ],
          [
           "{'max_depth': 6, 'max_features': 'log2', 'min_samples_split': 9, 'n_estimators': 110}"
          ],
          [
           "{'max_depth': 6, 'max_features': 'log2', 'min_samples_split': 9, 'n_estimators': 130}"
          ],
          [
           "{'max_depth': 6, 'max_features': 'log2', 'min_samples_split': 12, 'n_estimators': 50}"
          ],
          [
           "{'max_depth': 6, 'max_features': 'log2', 'min_samples_split': 12, 'n_estimators': 80}"
          ],
          [
           "{'max_depth': 6, 'max_features': 'log2', 'min_samples_split': 12, 'n_estimators': 110}"
          ],
          [
           "{'max_depth': 6, 'max_features': 'log2', 'min_samples_split': 12, 'n_estimators': 130}"
          ],
          [
           "{'max_depth': 9, 'max_features': 'sqrt', 'min_samples_split': 3, 'n_estimators': 50}"
          ],
          [
           "{'max_depth': 9, 'max_features': 'sqrt', 'min_samples_split': 3, 'n_estimators': 80}"
          ],
          [
           "{'max_depth': 9, 'max_features': 'sqrt', 'min_samples_split': 3, 'n_estimators': 110}"
          ],
          [
           "{'max_depth': 9, 'max_features': 'sqrt', 'min_samples_split': 3, 'n_estimators': 130}"
          ],
          [
           "{'max_depth': 9, 'max_features': 'sqrt', 'min_samples_split': 6, 'n_estimators': 50}"
          ],
          [
           "{'max_depth': 9, 'max_features': 'sqrt', 'min_samples_split': 6, 'n_estimators': 80}"
          ],
          [
           "{'max_depth': 9, 'max_features': 'sqrt', 'min_samples_split': 6, 'n_estimators': 110}"
          ],
          [
           "{'max_depth': 9, 'max_features': 'sqrt', 'min_samples_split': 6, 'n_estimators': 130}"
          ],
          [
           "{'max_depth': 9, 'max_features': 'sqrt', 'min_samples_split': 9, 'n_estimators': 50}"
          ],
          [
           "{'max_depth': 9, 'max_features': 'sqrt', 'min_samples_split': 9, 'n_estimators': 80}"
          ],
          [
           "{'max_depth': 9, 'max_features': 'sqrt', 'min_samples_split': 9, 'n_estimators': 110}"
          ],
          [
           "{'max_depth': 9, 'max_features': 'sqrt', 'min_samples_split': 9, 'n_estimators': 130}"
          ],
          [
           "{'max_depth': 9, 'max_features': 'sqrt', 'min_samples_split': 12, 'n_estimators': 50}"
          ],
          [
           "{'max_depth': 9, 'max_features': 'sqrt', 'min_samples_split': 12, 'n_estimators': 80}"
          ],
          [
           "{'max_depth': 9, 'max_features': 'sqrt', 'min_samples_split': 12, 'n_estimators': 110}"
          ],
          [
           "{'max_depth': 9, 'max_features': 'sqrt', 'min_samples_split': 12, 'n_estimators': 130}"
          ],
          [
           "{'max_depth': 9, 'max_features': 'log2', 'min_samples_split': 3, 'n_estimators': 50}"
          ],
          [
           "{'max_depth': 9, 'max_features': 'log2', 'min_samples_split': 3, 'n_estimators': 80}"
          ],
          [
           "{'max_depth': 9, 'max_features': 'log2', 'min_samples_split': 3, 'n_estimators': 110}"
          ],
          [
           "{'max_depth': 9, 'max_features': 'log2', 'min_samples_split': 3, 'n_estimators': 130}"
          ],
          [
           "{'max_depth': 9, 'max_features': 'log2', 'min_samples_split': 6, 'n_estimators': 50}"
          ],
          [
           "{'max_depth': 9, 'max_features': 'log2', 'min_samples_split': 6, 'n_estimators': 80}"
          ],
          [
           "{'max_depth': 9, 'max_features': 'log2', 'min_samples_split': 6, 'n_estimators': 110}"
          ],
          [
           "{'max_depth': 9, 'max_features': 'log2', 'min_samples_split': 6, 'n_estimators': 130}"
          ],
          [
           "{'max_depth': 9, 'max_features': 'log2', 'min_samples_split': 9, 'n_estimators': 50}"
          ],
          [
           "{'max_depth': 9, 'max_features': 'log2', 'min_samples_split': 9, 'n_estimators': 80}"
          ],
          [
           "{'max_depth': 9, 'max_features': 'log2', 'min_samples_split': 9, 'n_estimators': 110}"
          ],
          [
           "{'max_depth': 9, 'max_features': 'log2', 'min_samples_split': 9, 'n_estimators': 130}"
          ],
          [
           "{'max_depth': 9, 'max_features': 'log2', 'min_samples_split': 12, 'n_estimators': 50}"
          ],
          [
           "{'max_depth': 9, 'max_features': 'log2', 'min_samples_split': 12, 'n_estimators': 80}"
          ],
          [
           "{'max_depth': 9, 'max_features': 'log2', 'min_samples_split': 12, 'n_estimators': 110}"
          ],
          [
           "{'max_depth': 9, 'max_features': 'log2', 'min_samples_split': 12, 'n_estimators': 130}"
          ]
         ],
         "error_y": {
          "array": [
           0.029502337183690247,
           0.039469349813102926,
           0.029639295002050398,
           0.02911822837335913,
           0.018748786292431648,
           0.02663466120646222,
           0.02911433377185586,
           0.028966036566170684,
           0.03438396169240598,
           0.037521105296114125,
           0.039128797225298106,
           0.029758370567689617,
           0.0379809102129126,
           0.029585314086703743,
           0.028837961599810467,
           0.03377915410323753,
           0.029612369541682934,
           0.044048743431178275,
           0.03455587046459381,
           0.031388058619084495,
           0.03064991342747763,
           0.030091607668132733,
           0.03367418197421437,
           0.024597026930590554,
           0.03900234269005003,
           0.03027085595433589,
           0.03202158448900823,
           0.040886717965408506,
           0.017151042832627417,
           0.0321957283872228,
           0.035900539307039174,
           0.022011489965353355,
           0.03863038472648215,
           0.05166857961097269,
           0.03386041188707507,
           0.03745318818348565,
           0.04160150395985657,
           0.036763905482499394,
           0.04016215184721865,
           0.04266763361736818,
           0.025340777581789143,
           0.02755058848172361,
           0.046895010782854865,
           0.03448469928716385,
           0.042976655178734155,
           0.020528182839348784,
           0.04334111501969365,
           0.0420096900479698,
           0.04405716598695431,
           0.056297347406782945,
           0.026509453556177627,
           0.03494661336104577,
           0.0279146034688166,
           0.035897964744820876,
           0.020481474628694284,
           0.03151515676583744,
           0.03461580031718746,
           0.03997151230661473,
           0.03817651077758778,
           0.04103982615546134,
           0.03314486136565949,
           0.031031423814147953,
           0.02886360194974419,
           0.036196864166180696,
           0.04022547228137958,
           0.0424677631303675,
           0.037189063426574354,
           0.03879454829057941,
           0.04358645975532423,
           0.027600720241812052,
           0.03233126966661581,
           0.0422807644257248,
           0.04728914497863916,
           0.050360865280572084,
           0.0460129771174859,
           0.0319990216686555,
           0.04728210782255784,
           0.054215094362391095,
           0.05423179959085676,
           0.0476202839209348,
           0.04194030070716067,
           0.02491466427771021,
           0.047523193480180644,
           0.04070488090363506,
           0.029441240456043766,
           0.050073987569027735,
           0.04343426194142384,
           0.037574990100642164,
           0.035073133787198646,
           0.043253053971270196,
           0.030132054167888327,
           0.04523576726413851,
           0.026608620318417923,
           0.04068246753493757,
           0.03389088516068147,
           0.05762208095623354
          ]
         },
         "hovertemplate": "<b>%{hovertext}</b><br><br>type=test<br>Params=%{x}<br>Average f1=%{y}<br>params=%{customdata[0]}<extra></extra>",
         "hovertext": [
          "{'max_depth': 3, 'max_features': 'sqrt', 'min_samples_split': 3, 'n_estimators': 50}",
          "{'max_depth': 3, 'max_features': 'sqrt', 'min_samples_split': 3, 'n_estimators': 80}",
          "{'max_depth': 3, 'max_features': 'sqrt', 'min_samples_split': 3, 'n_estimators': 110}",
          "{'max_depth': 3, 'max_features': 'sqrt', 'min_samples_split': 3, 'n_estimators': 130}",
          "{'max_depth': 3, 'max_features': 'sqrt', 'min_samples_split': 6, 'n_estimators': 50}",
          "{'max_depth': 3, 'max_features': 'sqrt', 'min_samples_split': 6, 'n_estimators': 80}",
          "{'max_depth': 3, 'max_features': 'sqrt', 'min_samples_split': 6, 'n_estimators': 110}",
          "{'max_depth': 3, 'max_features': 'sqrt', 'min_samples_split': 6, 'n_estimators': 130}",
          "{'max_depth': 3, 'max_features': 'sqrt', 'min_samples_split': 9, 'n_estimators': 50}",
          "{'max_depth': 3, 'max_features': 'sqrt', 'min_samples_split': 9, 'n_estimators': 80}",
          "{'max_depth': 3, 'max_features': 'sqrt', 'min_samples_split': 9, 'n_estimators': 110}",
          "{'max_depth': 3, 'max_features': 'sqrt', 'min_samples_split': 9, 'n_estimators': 130}",
          "{'max_depth': 3, 'max_features': 'sqrt', 'min_samples_split': 12, 'n_estimators': 50}",
          "{'max_depth': 3, 'max_features': 'sqrt', 'min_samples_split': 12, 'n_estimators': 80}",
          "{'max_depth': 3, 'max_features': 'sqrt', 'min_samples_split': 12, 'n_estimators': 110}",
          "{'max_depth': 3, 'max_features': 'sqrt', 'min_samples_split': 12, 'n_estimators': 130}",
          "{'max_depth': 3, 'max_features': 'log2', 'min_samples_split': 3, 'n_estimators': 50}",
          "{'max_depth': 3, 'max_features': 'log2', 'min_samples_split': 3, 'n_estimators': 80}",
          "{'max_depth': 3, 'max_features': 'log2', 'min_samples_split': 3, 'n_estimators': 110}",
          "{'max_depth': 3, 'max_features': 'log2', 'min_samples_split': 3, 'n_estimators': 130}",
          "{'max_depth': 3, 'max_features': 'log2', 'min_samples_split': 6, 'n_estimators': 50}",
          "{'max_depth': 3, 'max_features': 'log2', 'min_samples_split': 6, 'n_estimators': 80}",
          "{'max_depth': 3, 'max_features': 'log2', 'min_samples_split': 6, 'n_estimators': 110}",
          "{'max_depth': 3, 'max_features': 'log2', 'min_samples_split': 6, 'n_estimators': 130}",
          "{'max_depth': 3, 'max_features': 'log2', 'min_samples_split': 9, 'n_estimators': 50}",
          "{'max_depth': 3, 'max_features': 'log2', 'min_samples_split': 9, 'n_estimators': 80}",
          "{'max_depth': 3, 'max_features': 'log2', 'min_samples_split': 9, 'n_estimators': 110}",
          "{'max_depth': 3, 'max_features': 'log2', 'min_samples_split': 9, 'n_estimators': 130}",
          "{'max_depth': 3, 'max_features': 'log2', 'min_samples_split': 12, 'n_estimators': 50}",
          "{'max_depth': 3, 'max_features': 'log2', 'min_samples_split': 12, 'n_estimators': 80}",
          "{'max_depth': 3, 'max_features': 'log2', 'min_samples_split': 12, 'n_estimators': 110}",
          "{'max_depth': 3, 'max_features': 'log2', 'min_samples_split': 12, 'n_estimators': 130}",
          "{'max_depth': 6, 'max_features': 'sqrt', 'min_samples_split': 3, 'n_estimators': 50}",
          "{'max_depth': 6, 'max_features': 'sqrt', 'min_samples_split': 3, 'n_estimators': 80}",
          "{'max_depth': 6, 'max_features': 'sqrt', 'min_samples_split': 3, 'n_estimators': 110}",
          "{'max_depth': 6, 'max_features': 'sqrt', 'min_samples_split': 3, 'n_estimators': 130}",
          "{'max_depth': 6, 'max_features': 'sqrt', 'min_samples_split': 6, 'n_estimators': 50}",
          "{'max_depth': 6, 'max_features': 'sqrt', 'min_samples_split': 6, 'n_estimators': 80}",
          "{'max_depth': 6, 'max_features': 'sqrt', 'min_samples_split': 6, 'n_estimators': 110}",
          "{'max_depth': 6, 'max_features': 'sqrt', 'min_samples_split': 6, 'n_estimators': 130}",
          "{'max_depth': 6, 'max_features': 'sqrt', 'min_samples_split': 9, 'n_estimators': 50}",
          "{'max_depth': 6, 'max_features': 'sqrt', 'min_samples_split': 9, 'n_estimators': 80}",
          "{'max_depth': 6, 'max_features': 'sqrt', 'min_samples_split': 9, 'n_estimators': 110}",
          "{'max_depth': 6, 'max_features': 'sqrt', 'min_samples_split': 9, 'n_estimators': 130}",
          "{'max_depth': 6, 'max_features': 'sqrt', 'min_samples_split': 12, 'n_estimators': 50}",
          "{'max_depth': 6, 'max_features': 'sqrt', 'min_samples_split': 12, 'n_estimators': 80}",
          "{'max_depth': 6, 'max_features': 'sqrt', 'min_samples_split': 12, 'n_estimators': 110}",
          "{'max_depth': 6, 'max_features': 'sqrt', 'min_samples_split': 12, 'n_estimators': 130}",
          "{'max_depth': 6, 'max_features': 'log2', 'min_samples_split': 3, 'n_estimators': 50}",
          "{'max_depth': 6, 'max_features': 'log2', 'min_samples_split': 3, 'n_estimators': 80}",
          "{'max_depth': 6, 'max_features': 'log2', 'min_samples_split': 3, 'n_estimators': 110}",
          "{'max_depth': 6, 'max_features': 'log2', 'min_samples_split': 3, 'n_estimators': 130}",
          "{'max_depth': 6, 'max_features': 'log2', 'min_samples_split': 6, 'n_estimators': 50}",
          "{'max_depth': 6, 'max_features': 'log2', 'min_samples_split': 6, 'n_estimators': 80}",
          "{'max_depth': 6, 'max_features': 'log2', 'min_samples_split': 6, 'n_estimators': 110}",
          "{'max_depth': 6, 'max_features': 'log2', 'min_samples_split': 6, 'n_estimators': 130}",
          "{'max_depth': 6, 'max_features': 'log2', 'min_samples_split': 9, 'n_estimators': 50}",
          "{'max_depth': 6, 'max_features': 'log2', 'min_samples_split': 9, 'n_estimators': 80}",
          "{'max_depth': 6, 'max_features': 'log2', 'min_samples_split': 9, 'n_estimators': 110}",
          "{'max_depth': 6, 'max_features': 'log2', 'min_samples_split': 9, 'n_estimators': 130}",
          "{'max_depth': 6, 'max_features': 'log2', 'min_samples_split': 12, 'n_estimators': 50}",
          "{'max_depth': 6, 'max_features': 'log2', 'min_samples_split': 12, 'n_estimators': 80}",
          "{'max_depth': 6, 'max_features': 'log2', 'min_samples_split': 12, 'n_estimators': 110}",
          "{'max_depth': 6, 'max_features': 'log2', 'min_samples_split': 12, 'n_estimators': 130}",
          "{'max_depth': 9, 'max_features': 'sqrt', 'min_samples_split': 3, 'n_estimators': 50}",
          "{'max_depth': 9, 'max_features': 'sqrt', 'min_samples_split': 3, 'n_estimators': 80}",
          "{'max_depth': 9, 'max_features': 'sqrt', 'min_samples_split': 3, 'n_estimators': 110}",
          "{'max_depth': 9, 'max_features': 'sqrt', 'min_samples_split': 3, 'n_estimators': 130}",
          "{'max_depth': 9, 'max_features': 'sqrt', 'min_samples_split': 6, 'n_estimators': 50}",
          "{'max_depth': 9, 'max_features': 'sqrt', 'min_samples_split': 6, 'n_estimators': 80}",
          "{'max_depth': 9, 'max_features': 'sqrt', 'min_samples_split': 6, 'n_estimators': 110}",
          "{'max_depth': 9, 'max_features': 'sqrt', 'min_samples_split': 6, 'n_estimators': 130}",
          "{'max_depth': 9, 'max_features': 'sqrt', 'min_samples_split': 9, 'n_estimators': 50}",
          "{'max_depth': 9, 'max_features': 'sqrt', 'min_samples_split': 9, 'n_estimators': 80}",
          "{'max_depth': 9, 'max_features': 'sqrt', 'min_samples_split': 9, 'n_estimators': 110}",
          "{'max_depth': 9, 'max_features': 'sqrt', 'min_samples_split': 9, 'n_estimators': 130}",
          "{'max_depth': 9, 'max_features': 'sqrt', 'min_samples_split': 12, 'n_estimators': 50}",
          "{'max_depth': 9, 'max_features': 'sqrt', 'min_samples_split': 12, 'n_estimators': 80}",
          "{'max_depth': 9, 'max_features': 'sqrt', 'min_samples_split': 12, 'n_estimators': 110}",
          "{'max_depth': 9, 'max_features': 'sqrt', 'min_samples_split': 12, 'n_estimators': 130}",
          "{'max_depth': 9, 'max_features': 'log2', 'min_samples_split': 3, 'n_estimators': 50}",
          "{'max_depth': 9, 'max_features': 'log2', 'min_samples_split': 3, 'n_estimators': 80}",
          "{'max_depth': 9, 'max_features': 'log2', 'min_samples_split': 3, 'n_estimators': 110}",
          "{'max_depth': 9, 'max_features': 'log2', 'min_samples_split': 3, 'n_estimators': 130}",
          "{'max_depth': 9, 'max_features': 'log2', 'min_samples_split': 6, 'n_estimators': 50}",
          "{'max_depth': 9, 'max_features': 'log2', 'min_samples_split': 6, 'n_estimators': 80}",
          "{'max_depth': 9, 'max_features': 'log2', 'min_samples_split': 6, 'n_estimators': 110}",
          "{'max_depth': 9, 'max_features': 'log2', 'min_samples_split': 6, 'n_estimators': 130}",
          "{'max_depth': 9, 'max_features': 'log2', 'min_samples_split': 9, 'n_estimators': 50}",
          "{'max_depth': 9, 'max_features': 'log2', 'min_samples_split': 9, 'n_estimators': 80}",
          "{'max_depth': 9, 'max_features': 'log2', 'min_samples_split': 9, 'n_estimators': 110}",
          "{'max_depth': 9, 'max_features': 'log2', 'min_samples_split': 9, 'n_estimators': 130}",
          "{'max_depth': 9, 'max_features': 'log2', 'min_samples_split': 12, 'n_estimators': 50}",
          "{'max_depth': 9, 'max_features': 'log2', 'min_samples_split': 12, 'n_estimators': 80}",
          "{'max_depth': 9, 'max_features': 'log2', 'min_samples_split': 12, 'n_estimators': 110}",
          "{'max_depth': 9, 'max_features': 'log2', 'min_samples_split': 12, 'n_estimators': 130}"
         ],
         "legendgroup": "test",
         "marker": {
          "color": "#636efa",
          "pattern": {
           "shape": ""
          }
         },
         "name": "test",
         "offsetgroup": "test",
         "orientation": "v",
         "showlegend": true,
         "textposition": "auto",
         "type": "bar",
         "x": [
          0,
          1,
          2,
          3,
          4,
          5,
          6,
          7,
          8,
          9,
          10,
          11,
          12,
          13,
          14,
          15,
          16,
          17,
          18,
          19,
          20,
          21,
          22,
          23,
          24,
          25,
          26,
          27,
          28,
          29,
          30,
          31,
          32,
          33,
          34,
          35,
          36,
          37,
          38,
          39,
          40,
          41,
          42,
          43,
          44,
          45,
          46,
          47,
          48,
          49,
          50,
          51,
          52,
          53,
          54,
          55,
          56,
          57,
          58,
          59,
          60,
          61,
          62,
          63,
          64,
          65,
          66,
          67,
          68,
          69,
          70,
          71,
          72,
          73,
          74,
          75,
          76,
          77,
          78,
          79,
          80,
          81,
          82,
          83,
          84,
          85,
          86,
          87,
          88,
          89,
          90,
          91,
          92,
          93,
          94,
          95
         ],
         "xaxis": "x",
         "y": [
          0.15221091883882223,
          0.15174560015531838,
          0.1424085495820687,
          0.14826730034359847,
          0.14733148547886862,
          0.16679150990363667,
          0.14928131433901254,
          0.1396313894470239,
          0.13446253970345076,
          0.1516733081494422,
          0.14326727616228338,
          0.15302140171041248,
          0.15271275575476093,
          0.14006252788159626,
          0.13630364376609064,
          0.13889342773774688,
          0.14880584732206847,
          0.1339340816141169,
          0.15046455617243448,
          0.15912007476714174,
          0.15253803882437122,
          0.14024400709434443,
          0.14861513504581345,
          0.1425360862290955,
          0.15355648094293567,
          0.1570682478477579,
          0.14233112966469058,
          0.15297587645362473,
          0.15716462185690205,
          0.1482202064720805,
          0.14277486829036787,
          0.15007337939909488,
          0.27135428785291466,
          0.27612730523256684,
          0.26864024076412746,
          0.2666395066908544,
          0.2822604182109676,
          0.26548845804038196,
          0.27302400494082246,
          0.275043453327532,
          0.2708530535704381,
          0.26350776412387045,
          0.2804014641192005,
          0.27495457918950994,
          0.2679349586287183,
          0.27323856168335076,
          0.27259814499949225,
          0.27539691581134523,
          0.26997805843005745,
          0.2844355311563424,
          0.27263881245606786,
          0.27644321056568455,
          0.2693287003023611,
          0.27691513189086603,
          0.2673956520337045,
          0.2785627752912932,
          0.2818206489836125,
          0.2770124633645946,
          0.2725766098065727,
          0.26654125556939817,
          0.27731363207721527,
          0.2701750784380373,
          0.2753209563715636,
          0.263713557144469,
          0.3587259062539627,
          0.34619992436464087,
          0.3490215634482373,
          0.3356282921751162,
          0.3482984163908851,
          0.34218393800132385,
          0.34203844011847817,
          0.349386128683527,
          0.3523393842072388,
          0.3405311926502399,
          0.34750021875883086,
          0.34959987978415763,
          0.3449700180556303,
          0.3341833945191319,
          0.3595251237309961,
          0.34471297643848636,
          0.3479739118735239,
          0.33618588501194224,
          0.35104832492689775,
          0.3478295925650845,
          0.3440664180565097,
          0.3389505981017677,
          0.3433057711473483,
          0.35145758301439756,
          0.3554080085159172,
          0.3478306929170065,
          0.3415770071293883,
          0.3645539030154415,
          0.34734505460608517,
          0.3558533221839907,
          0.3660513326603415,
          0.34442676280498596
         ],
         "yaxis": "y"
        },
        {
         "alignmentgroup": "True",
         "customdata": [
          [
           "{'max_depth': 3, 'max_features': 'sqrt', 'min_samples_split': 3, 'n_estimators': 50}"
          ],
          [
           "{'max_depth': 3, 'max_features': 'sqrt', 'min_samples_split': 3, 'n_estimators': 80}"
          ],
          [
           "{'max_depth': 3, 'max_features': 'sqrt', 'min_samples_split': 3, 'n_estimators': 110}"
          ],
          [
           "{'max_depth': 3, 'max_features': 'sqrt', 'min_samples_split': 3, 'n_estimators': 130}"
          ],
          [
           "{'max_depth': 3, 'max_features': 'sqrt', 'min_samples_split': 6, 'n_estimators': 50}"
          ],
          [
           "{'max_depth': 3, 'max_features': 'sqrt', 'min_samples_split': 6, 'n_estimators': 80}"
          ],
          [
           "{'max_depth': 3, 'max_features': 'sqrt', 'min_samples_split': 6, 'n_estimators': 110}"
          ],
          [
           "{'max_depth': 3, 'max_features': 'sqrt', 'min_samples_split': 6, 'n_estimators': 130}"
          ],
          [
           "{'max_depth': 3, 'max_features': 'sqrt', 'min_samples_split': 9, 'n_estimators': 50}"
          ],
          [
           "{'max_depth': 3, 'max_features': 'sqrt', 'min_samples_split': 9, 'n_estimators': 80}"
          ],
          [
           "{'max_depth': 3, 'max_features': 'sqrt', 'min_samples_split': 9, 'n_estimators': 110}"
          ],
          [
           "{'max_depth': 3, 'max_features': 'sqrt', 'min_samples_split': 9, 'n_estimators': 130}"
          ],
          [
           "{'max_depth': 3, 'max_features': 'sqrt', 'min_samples_split': 12, 'n_estimators': 50}"
          ],
          [
           "{'max_depth': 3, 'max_features': 'sqrt', 'min_samples_split': 12, 'n_estimators': 80}"
          ],
          [
           "{'max_depth': 3, 'max_features': 'sqrt', 'min_samples_split': 12, 'n_estimators': 110}"
          ],
          [
           "{'max_depth': 3, 'max_features': 'sqrt', 'min_samples_split': 12, 'n_estimators': 130}"
          ],
          [
           "{'max_depth': 3, 'max_features': 'log2', 'min_samples_split': 3, 'n_estimators': 50}"
          ],
          [
           "{'max_depth': 3, 'max_features': 'log2', 'min_samples_split': 3, 'n_estimators': 80}"
          ],
          [
           "{'max_depth': 3, 'max_features': 'log2', 'min_samples_split': 3, 'n_estimators': 110}"
          ],
          [
           "{'max_depth': 3, 'max_features': 'log2', 'min_samples_split': 3, 'n_estimators': 130}"
          ],
          [
           "{'max_depth': 3, 'max_features': 'log2', 'min_samples_split': 6, 'n_estimators': 50}"
          ],
          [
           "{'max_depth': 3, 'max_features': 'log2', 'min_samples_split': 6, 'n_estimators': 80}"
          ],
          [
           "{'max_depth': 3, 'max_features': 'log2', 'min_samples_split': 6, 'n_estimators': 110}"
          ],
          [
           "{'max_depth': 3, 'max_features': 'log2', 'min_samples_split': 6, 'n_estimators': 130}"
          ],
          [
           "{'max_depth': 3, 'max_features': 'log2', 'min_samples_split': 9, 'n_estimators': 50}"
          ],
          [
           "{'max_depth': 3, 'max_features': 'log2', 'min_samples_split': 9, 'n_estimators': 80}"
          ],
          [
           "{'max_depth': 3, 'max_features': 'log2', 'min_samples_split': 9, 'n_estimators': 110}"
          ],
          [
           "{'max_depth': 3, 'max_features': 'log2', 'min_samples_split': 9, 'n_estimators': 130}"
          ],
          [
           "{'max_depth': 3, 'max_features': 'log2', 'min_samples_split': 12, 'n_estimators': 50}"
          ],
          [
           "{'max_depth': 3, 'max_features': 'log2', 'min_samples_split': 12, 'n_estimators': 80}"
          ],
          [
           "{'max_depth': 3, 'max_features': 'log2', 'min_samples_split': 12, 'n_estimators': 110}"
          ],
          [
           "{'max_depth': 3, 'max_features': 'log2', 'min_samples_split': 12, 'n_estimators': 130}"
          ],
          [
           "{'max_depth': 6, 'max_features': 'sqrt', 'min_samples_split': 3, 'n_estimators': 50}"
          ],
          [
           "{'max_depth': 6, 'max_features': 'sqrt', 'min_samples_split': 3, 'n_estimators': 80}"
          ],
          [
           "{'max_depth': 6, 'max_features': 'sqrt', 'min_samples_split': 3, 'n_estimators': 110}"
          ],
          [
           "{'max_depth': 6, 'max_features': 'sqrt', 'min_samples_split': 3, 'n_estimators': 130}"
          ],
          [
           "{'max_depth': 6, 'max_features': 'sqrt', 'min_samples_split': 6, 'n_estimators': 50}"
          ],
          [
           "{'max_depth': 6, 'max_features': 'sqrt', 'min_samples_split': 6, 'n_estimators': 80}"
          ],
          [
           "{'max_depth': 6, 'max_features': 'sqrt', 'min_samples_split': 6, 'n_estimators': 110}"
          ],
          [
           "{'max_depth': 6, 'max_features': 'sqrt', 'min_samples_split': 6, 'n_estimators': 130}"
          ],
          [
           "{'max_depth': 6, 'max_features': 'sqrt', 'min_samples_split': 9, 'n_estimators': 50}"
          ],
          [
           "{'max_depth': 6, 'max_features': 'sqrt', 'min_samples_split': 9, 'n_estimators': 80}"
          ],
          [
           "{'max_depth': 6, 'max_features': 'sqrt', 'min_samples_split': 9, 'n_estimators': 110}"
          ],
          [
           "{'max_depth': 6, 'max_features': 'sqrt', 'min_samples_split': 9, 'n_estimators': 130}"
          ],
          [
           "{'max_depth': 6, 'max_features': 'sqrt', 'min_samples_split': 12, 'n_estimators': 50}"
          ],
          [
           "{'max_depth': 6, 'max_features': 'sqrt', 'min_samples_split': 12, 'n_estimators': 80}"
          ],
          [
           "{'max_depth': 6, 'max_features': 'sqrt', 'min_samples_split': 12, 'n_estimators': 110}"
          ],
          [
           "{'max_depth': 6, 'max_features': 'sqrt', 'min_samples_split': 12, 'n_estimators': 130}"
          ],
          [
           "{'max_depth': 6, 'max_features': 'log2', 'min_samples_split': 3, 'n_estimators': 50}"
          ],
          [
           "{'max_depth': 6, 'max_features': 'log2', 'min_samples_split': 3, 'n_estimators': 80}"
          ],
          [
           "{'max_depth': 6, 'max_features': 'log2', 'min_samples_split': 3, 'n_estimators': 110}"
          ],
          [
           "{'max_depth': 6, 'max_features': 'log2', 'min_samples_split': 3, 'n_estimators': 130}"
          ],
          [
           "{'max_depth': 6, 'max_features': 'log2', 'min_samples_split': 6, 'n_estimators': 50}"
          ],
          [
           "{'max_depth': 6, 'max_features': 'log2', 'min_samples_split': 6, 'n_estimators': 80}"
          ],
          [
           "{'max_depth': 6, 'max_features': 'log2', 'min_samples_split': 6, 'n_estimators': 110}"
          ],
          [
           "{'max_depth': 6, 'max_features': 'log2', 'min_samples_split': 6, 'n_estimators': 130}"
          ],
          [
           "{'max_depth': 6, 'max_features': 'log2', 'min_samples_split': 9, 'n_estimators': 50}"
          ],
          [
           "{'max_depth': 6, 'max_features': 'log2', 'min_samples_split': 9, 'n_estimators': 80}"
          ],
          [
           "{'max_depth': 6, 'max_features': 'log2', 'min_samples_split': 9, 'n_estimators': 110}"
          ],
          [
           "{'max_depth': 6, 'max_features': 'log2', 'min_samples_split': 9, 'n_estimators': 130}"
          ],
          [
           "{'max_depth': 6, 'max_features': 'log2', 'min_samples_split': 12, 'n_estimators': 50}"
          ],
          [
           "{'max_depth': 6, 'max_features': 'log2', 'min_samples_split': 12, 'n_estimators': 80}"
          ],
          [
           "{'max_depth': 6, 'max_features': 'log2', 'min_samples_split': 12, 'n_estimators': 110}"
          ],
          [
           "{'max_depth': 6, 'max_features': 'log2', 'min_samples_split': 12, 'n_estimators': 130}"
          ],
          [
           "{'max_depth': 9, 'max_features': 'sqrt', 'min_samples_split': 3, 'n_estimators': 50}"
          ],
          [
           "{'max_depth': 9, 'max_features': 'sqrt', 'min_samples_split': 3, 'n_estimators': 80}"
          ],
          [
           "{'max_depth': 9, 'max_features': 'sqrt', 'min_samples_split': 3, 'n_estimators': 110}"
          ],
          [
           "{'max_depth': 9, 'max_features': 'sqrt', 'min_samples_split': 3, 'n_estimators': 130}"
          ],
          [
           "{'max_depth': 9, 'max_features': 'sqrt', 'min_samples_split': 6, 'n_estimators': 50}"
          ],
          [
           "{'max_depth': 9, 'max_features': 'sqrt', 'min_samples_split': 6, 'n_estimators': 80}"
          ],
          [
           "{'max_depth': 9, 'max_features': 'sqrt', 'min_samples_split': 6, 'n_estimators': 110}"
          ],
          [
           "{'max_depth': 9, 'max_features': 'sqrt', 'min_samples_split': 6, 'n_estimators': 130}"
          ],
          [
           "{'max_depth': 9, 'max_features': 'sqrt', 'min_samples_split': 9, 'n_estimators': 50}"
          ],
          [
           "{'max_depth': 9, 'max_features': 'sqrt', 'min_samples_split': 9, 'n_estimators': 80}"
          ],
          [
           "{'max_depth': 9, 'max_features': 'sqrt', 'min_samples_split': 9, 'n_estimators': 110}"
          ],
          [
           "{'max_depth': 9, 'max_features': 'sqrt', 'min_samples_split': 9, 'n_estimators': 130}"
          ],
          [
           "{'max_depth': 9, 'max_features': 'sqrt', 'min_samples_split': 12, 'n_estimators': 50}"
          ],
          [
           "{'max_depth': 9, 'max_features': 'sqrt', 'min_samples_split': 12, 'n_estimators': 80}"
          ],
          [
           "{'max_depth': 9, 'max_features': 'sqrt', 'min_samples_split': 12, 'n_estimators': 110}"
          ],
          [
           "{'max_depth': 9, 'max_features': 'sqrt', 'min_samples_split': 12, 'n_estimators': 130}"
          ],
          [
           "{'max_depth': 9, 'max_features': 'log2', 'min_samples_split': 3, 'n_estimators': 50}"
          ],
          [
           "{'max_depth': 9, 'max_features': 'log2', 'min_samples_split': 3, 'n_estimators': 80}"
          ],
          [
           "{'max_depth': 9, 'max_features': 'log2', 'min_samples_split': 3, 'n_estimators': 110}"
          ],
          [
           "{'max_depth': 9, 'max_features': 'log2', 'min_samples_split': 3, 'n_estimators': 130}"
          ],
          [
           "{'max_depth': 9, 'max_features': 'log2', 'min_samples_split': 6, 'n_estimators': 50}"
          ],
          [
           "{'max_depth': 9, 'max_features': 'log2', 'min_samples_split': 6, 'n_estimators': 80}"
          ],
          [
           "{'max_depth': 9, 'max_features': 'log2', 'min_samples_split': 6, 'n_estimators': 110}"
          ],
          [
           "{'max_depth': 9, 'max_features': 'log2', 'min_samples_split': 6, 'n_estimators': 130}"
          ],
          [
           "{'max_depth': 9, 'max_features': 'log2', 'min_samples_split': 9, 'n_estimators': 50}"
          ],
          [
           "{'max_depth': 9, 'max_features': 'log2', 'min_samples_split': 9, 'n_estimators': 80}"
          ],
          [
           "{'max_depth': 9, 'max_features': 'log2', 'min_samples_split': 9, 'n_estimators': 110}"
          ],
          [
           "{'max_depth': 9, 'max_features': 'log2', 'min_samples_split': 9, 'n_estimators': 130}"
          ],
          [
           "{'max_depth': 9, 'max_features': 'log2', 'min_samples_split': 12, 'n_estimators': 50}"
          ],
          [
           "{'max_depth': 9, 'max_features': 'log2', 'min_samples_split': 12, 'n_estimators': 80}"
          ],
          [
           "{'max_depth': 9, 'max_features': 'log2', 'min_samples_split': 12, 'n_estimators': 110}"
          ],
          [
           "{'max_depth': 9, 'max_features': 'log2', 'min_samples_split': 12, 'n_estimators': 130}"
          ]
         ],
         "error_y": {
          "array": [
           0.05241647408627221,
           0.04476794441395241,
           0.03887589740439009,
           0.0429463947889412,
           0.03855373222107141,
           0.044871491285107014,
           0.046024476762240335,
           0.03934407355787666,
           0.03819227057734822,
           0.047613659147660595,
           0.040955150278645665,
           0.04996638367756967,
           0.040149601172563845,
           0.042328908578492204,
           0.037808391410332154,
           0.05270162573399247,
           0.03866595508170974,
           0.03944754475433958,
           0.0457994857062259,
           0.053542780651578054,
           0.05560537581185512,
           0.04038396806363853,
           0.041969128329295925,
           0.045386316099937936,
           0.05088432117319509,
           0.04220361457684469,
           0.041994345283355085,
           0.04346791587161701,
           0.054348266556305355,
           0.04505774673305312,
           0.04447538932319158,
           0.04473981081313918,
           0.03860383890962422,
           0.03413895963143164,
           0.03137467492618578,
           0.023112232562634172,
           0.02886038833282322,
           0.02499454388145302,
           0.03976507645724337,
           0.032151405942862046,
           0.028795008331619725,
           0.03486151595055279,
           0.035290333746430126,
           0.026641280136196592,
           0.04042304290574785,
           0.02994137812401848,
           0.034823869913801354,
           0.02314139454030048,
           0.025206824239223196,
           0.026741026218319412,
           0.027685930764129035,
           0.02138046347068943,
           0.029190394267886086,
           0.029515667333487133,
           0.02858039551525047,
           0.03165927185030563,
           0.03135804377105953,
           0.03660330130015096,
           0.02890870444965562,
           0.03190202987796126,
           0.029258163455805997,
           0.030945258982564276,
           0.026027315064902436,
           0.02983161321086239,
           0.013840397672869322,
           0.019038380771832317,
           0.01763653429050499,
           0.018934034411453044,
           0.01739021932466241,
           0.014999834274888922,
           0.015347933418104798,
           0.016835486488207596,
           0.019814562774030632,
           0.017467590571016916,
           0.01857949052858892,
           0.0186895682481454,
           0.023772303314185887,
           0.014438967433331125,
           0.01451794046271806,
           0.01208844836818234,
           0.028344643134577845,
           0.017834736051932604,
           0.017317663212820616,
           0.022713259305975262,
           0.028234744048697847,
           0.021869937696038462,
           0.02236934070647553,
           0.011287194249708815,
           0.01363874570242949,
           0.015256734687057719,
           0.015825644244096028,
           0.017249947939453204,
           0.018402167047956306,
           0.011457973188306991,
           0.008707402179548813,
           0.018997565612583683
          ]
         },
         "hovertemplate": "<b>%{hovertext}</b><br><br>type=train<br>Params=%{x}<br>Average f1=%{y}<br>params=%{customdata[0]}<extra></extra>",
         "hovertext": [
          "{'max_depth': 3, 'max_features': 'sqrt', 'min_samples_split': 3, 'n_estimators': 50}",
          "{'max_depth': 3, 'max_features': 'sqrt', 'min_samples_split': 3, 'n_estimators': 80}",
          "{'max_depth': 3, 'max_features': 'sqrt', 'min_samples_split': 3, 'n_estimators': 110}",
          "{'max_depth': 3, 'max_features': 'sqrt', 'min_samples_split': 3, 'n_estimators': 130}",
          "{'max_depth': 3, 'max_features': 'sqrt', 'min_samples_split': 6, 'n_estimators': 50}",
          "{'max_depth': 3, 'max_features': 'sqrt', 'min_samples_split': 6, 'n_estimators': 80}",
          "{'max_depth': 3, 'max_features': 'sqrt', 'min_samples_split': 6, 'n_estimators': 110}",
          "{'max_depth': 3, 'max_features': 'sqrt', 'min_samples_split': 6, 'n_estimators': 130}",
          "{'max_depth': 3, 'max_features': 'sqrt', 'min_samples_split': 9, 'n_estimators': 50}",
          "{'max_depth': 3, 'max_features': 'sqrt', 'min_samples_split': 9, 'n_estimators': 80}",
          "{'max_depth': 3, 'max_features': 'sqrt', 'min_samples_split': 9, 'n_estimators': 110}",
          "{'max_depth': 3, 'max_features': 'sqrt', 'min_samples_split': 9, 'n_estimators': 130}",
          "{'max_depth': 3, 'max_features': 'sqrt', 'min_samples_split': 12, 'n_estimators': 50}",
          "{'max_depth': 3, 'max_features': 'sqrt', 'min_samples_split': 12, 'n_estimators': 80}",
          "{'max_depth': 3, 'max_features': 'sqrt', 'min_samples_split': 12, 'n_estimators': 110}",
          "{'max_depth': 3, 'max_features': 'sqrt', 'min_samples_split': 12, 'n_estimators': 130}",
          "{'max_depth': 3, 'max_features': 'log2', 'min_samples_split': 3, 'n_estimators': 50}",
          "{'max_depth': 3, 'max_features': 'log2', 'min_samples_split': 3, 'n_estimators': 80}",
          "{'max_depth': 3, 'max_features': 'log2', 'min_samples_split': 3, 'n_estimators': 110}",
          "{'max_depth': 3, 'max_features': 'log2', 'min_samples_split': 3, 'n_estimators': 130}",
          "{'max_depth': 3, 'max_features': 'log2', 'min_samples_split': 6, 'n_estimators': 50}",
          "{'max_depth': 3, 'max_features': 'log2', 'min_samples_split': 6, 'n_estimators': 80}",
          "{'max_depth': 3, 'max_features': 'log2', 'min_samples_split': 6, 'n_estimators': 110}",
          "{'max_depth': 3, 'max_features': 'log2', 'min_samples_split': 6, 'n_estimators': 130}",
          "{'max_depth': 3, 'max_features': 'log2', 'min_samples_split': 9, 'n_estimators': 50}",
          "{'max_depth': 3, 'max_features': 'log2', 'min_samples_split': 9, 'n_estimators': 80}",
          "{'max_depth': 3, 'max_features': 'log2', 'min_samples_split': 9, 'n_estimators': 110}",
          "{'max_depth': 3, 'max_features': 'log2', 'min_samples_split': 9, 'n_estimators': 130}",
          "{'max_depth': 3, 'max_features': 'log2', 'min_samples_split': 12, 'n_estimators': 50}",
          "{'max_depth': 3, 'max_features': 'log2', 'min_samples_split': 12, 'n_estimators': 80}",
          "{'max_depth': 3, 'max_features': 'log2', 'min_samples_split': 12, 'n_estimators': 110}",
          "{'max_depth': 3, 'max_features': 'log2', 'min_samples_split': 12, 'n_estimators': 130}",
          "{'max_depth': 6, 'max_features': 'sqrt', 'min_samples_split': 3, 'n_estimators': 50}",
          "{'max_depth': 6, 'max_features': 'sqrt', 'min_samples_split': 3, 'n_estimators': 80}",
          "{'max_depth': 6, 'max_features': 'sqrt', 'min_samples_split': 3, 'n_estimators': 110}",
          "{'max_depth': 6, 'max_features': 'sqrt', 'min_samples_split': 3, 'n_estimators': 130}",
          "{'max_depth': 6, 'max_features': 'sqrt', 'min_samples_split': 6, 'n_estimators': 50}",
          "{'max_depth': 6, 'max_features': 'sqrt', 'min_samples_split': 6, 'n_estimators': 80}",
          "{'max_depth': 6, 'max_features': 'sqrt', 'min_samples_split': 6, 'n_estimators': 110}",
          "{'max_depth': 6, 'max_features': 'sqrt', 'min_samples_split': 6, 'n_estimators': 130}",
          "{'max_depth': 6, 'max_features': 'sqrt', 'min_samples_split': 9, 'n_estimators': 50}",
          "{'max_depth': 6, 'max_features': 'sqrt', 'min_samples_split': 9, 'n_estimators': 80}",
          "{'max_depth': 6, 'max_features': 'sqrt', 'min_samples_split': 9, 'n_estimators': 110}",
          "{'max_depth': 6, 'max_features': 'sqrt', 'min_samples_split': 9, 'n_estimators': 130}",
          "{'max_depth': 6, 'max_features': 'sqrt', 'min_samples_split': 12, 'n_estimators': 50}",
          "{'max_depth': 6, 'max_features': 'sqrt', 'min_samples_split': 12, 'n_estimators': 80}",
          "{'max_depth': 6, 'max_features': 'sqrt', 'min_samples_split': 12, 'n_estimators': 110}",
          "{'max_depth': 6, 'max_features': 'sqrt', 'min_samples_split': 12, 'n_estimators': 130}",
          "{'max_depth': 6, 'max_features': 'log2', 'min_samples_split': 3, 'n_estimators': 50}",
          "{'max_depth': 6, 'max_features': 'log2', 'min_samples_split': 3, 'n_estimators': 80}",
          "{'max_depth': 6, 'max_features': 'log2', 'min_samples_split': 3, 'n_estimators': 110}",
          "{'max_depth': 6, 'max_features': 'log2', 'min_samples_split': 3, 'n_estimators': 130}",
          "{'max_depth': 6, 'max_features': 'log2', 'min_samples_split': 6, 'n_estimators': 50}",
          "{'max_depth': 6, 'max_features': 'log2', 'min_samples_split': 6, 'n_estimators': 80}",
          "{'max_depth': 6, 'max_features': 'log2', 'min_samples_split': 6, 'n_estimators': 110}",
          "{'max_depth': 6, 'max_features': 'log2', 'min_samples_split': 6, 'n_estimators': 130}",
          "{'max_depth': 6, 'max_features': 'log2', 'min_samples_split': 9, 'n_estimators': 50}",
          "{'max_depth': 6, 'max_features': 'log2', 'min_samples_split': 9, 'n_estimators': 80}",
          "{'max_depth': 6, 'max_features': 'log2', 'min_samples_split': 9, 'n_estimators': 110}",
          "{'max_depth': 6, 'max_features': 'log2', 'min_samples_split': 9, 'n_estimators': 130}",
          "{'max_depth': 6, 'max_features': 'log2', 'min_samples_split': 12, 'n_estimators': 50}",
          "{'max_depth': 6, 'max_features': 'log2', 'min_samples_split': 12, 'n_estimators': 80}",
          "{'max_depth': 6, 'max_features': 'log2', 'min_samples_split': 12, 'n_estimators': 110}",
          "{'max_depth': 6, 'max_features': 'log2', 'min_samples_split': 12, 'n_estimators': 130}",
          "{'max_depth': 9, 'max_features': 'sqrt', 'min_samples_split': 3, 'n_estimators': 50}",
          "{'max_depth': 9, 'max_features': 'sqrt', 'min_samples_split': 3, 'n_estimators': 80}",
          "{'max_depth': 9, 'max_features': 'sqrt', 'min_samples_split': 3, 'n_estimators': 110}",
          "{'max_depth': 9, 'max_features': 'sqrt', 'min_samples_split': 3, 'n_estimators': 130}",
          "{'max_depth': 9, 'max_features': 'sqrt', 'min_samples_split': 6, 'n_estimators': 50}",
          "{'max_depth': 9, 'max_features': 'sqrt', 'min_samples_split': 6, 'n_estimators': 80}",
          "{'max_depth': 9, 'max_features': 'sqrt', 'min_samples_split': 6, 'n_estimators': 110}",
          "{'max_depth': 9, 'max_features': 'sqrt', 'min_samples_split': 6, 'n_estimators': 130}",
          "{'max_depth': 9, 'max_features': 'sqrt', 'min_samples_split': 9, 'n_estimators': 50}",
          "{'max_depth': 9, 'max_features': 'sqrt', 'min_samples_split': 9, 'n_estimators': 80}",
          "{'max_depth': 9, 'max_features': 'sqrt', 'min_samples_split': 9, 'n_estimators': 110}",
          "{'max_depth': 9, 'max_features': 'sqrt', 'min_samples_split': 9, 'n_estimators': 130}",
          "{'max_depth': 9, 'max_features': 'sqrt', 'min_samples_split': 12, 'n_estimators': 50}",
          "{'max_depth': 9, 'max_features': 'sqrt', 'min_samples_split': 12, 'n_estimators': 80}",
          "{'max_depth': 9, 'max_features': 'sqrt', 'min_samples_split': 12, 'n_estimators': 110}",
          "{'max_depth': 9, 'max_features': 'sqrt', 'min_samples_split': 12, 'n_estimators': 130}",
          "{'max_depth': 9, 'max_features': 'log2', 'min_samples_split': 3, 'n_estimators': 50}",
          "{'max_depth': 9, 'max_features': 'log2', 'min_samples_split': 3, 'n_estimators': 80}",
          "{'max_depth': 9, 'max_features': 'log2', 'min_samples_split': 3, 'n_estimators': 110}",
          "{'max_depth': 9, 'max_features': 'log2', 'min_samples_split': 3, 'n_estimators': 130}",
          "{'max_depth': 9, 'max_features': 'log2', 'min_samples_split': 6, 'n_estimators': 50}",
          "{'max_depth': 9, 'max_features': 'log2', 'min_samples_split': 6, 'n_estimators': 80}",
          "{'max_depth': 9, 'max_features': 'log2', 'min_samples_split': 6, 'n_estimators': 110}",
          "{'max_depth': 9, 'max_features': 'log2', 'min_samples_split': 6, 'n_estimators': 130}",
          "{'max_depth': 9, 'max_features': 'log2', 'min_samples_split': 9, 'n_estimators': 50}",
          "{'max_depth': 9, 'max_features': 'log2', 'min_samples_split': 9, 'n_estimators': 80}",
          "{'max_depth': 9, 'max_features': 'log2', 'min_samples_split': 9, 'n_estimators': 110}",
          "{'max_depth': 9, 'max_features': 'log2', 'min_samples_split': 9, 'n_estimators': 130}",
          "{'max_depth': 9, 'max_features': 'log2', 'min_samples_split': 12, 'n_estimators': 50}",
          "{'max_depth': 9, 'max_features': 'log2', 'min_samples_split': 12, 'n_estimators': 80}",
          "{'max_depth': 9, 'max_features': 'log2', 'min_samples_split': 12, 'n_estimators': 110}",
          "{'max_depth': 9, 'max_features': 'log2', 'min_samples_split': 12, 'n_estimators': 130}"
         ],
         "legendgroup": "train",
         "marker": {
          "color": "#EF553B",
          "pattern": {
           "shape": ""
          }
         },
         "name": "train",
         "offsetgroup": "train",
         "orientation": "v",
         "showlegend": true,
         "textposition": "auto",
         "type": "bar",
         "x": [
          0,
          1,
          2,
          3,
          4,
          5,
          6,
          7,
          8,
          9,
          10,
          11,
          12,
          13,
          14,
          15,
          16,
          17,
          18,
          19,
          20,
          21,
          22,
          23,
          24,
          25,
          26,
          27,
          28,
          29,
          30,
          31,
          32,
          33,
          34,
          35,
          36,
          37,
          38,
          39,
          40,
          41,
          42,
          43,
          44,
          45,
          46,
          47,
          48,
          49,
          50,
          51,
          52,
          53,
          54,
          55,
          56,
          57,
          58,
          59,
          60,
          61,
          62,
          63,
          64,
          65,
          66,
          67,
          68,
          69,
          70,
          71,
          72,
          73,
          74,
          75,
          76,
          77,
          78,
          79,
          80,
          81,
          82,
          83,
          84,
          85,
          86,
          87,
          88,
          89,
          90,
          91,
          92,
          93,
          94,
          95
         ],
         "xaxis": "x",
         "y": [
          0.2119589766647707,
          0.1973508471692904,
          0.19977297362271185,
          0.20620590381855775,
          0.19794734730496116,
          0.21400530717977798,
          0.20826214554198647,
          0.1973229919600254,
          0.1908281022347209,
          0.2055365506998829,
          0.20760469841225376,
          0.20707989041362268,
          0.20424544656610744,
          0.2016291395289927,
          0.19527328758445775,
          0.20660414199046312,
          0.20973437516949503,
          0.19937014112636345,
          0.2044929066347852,
          0.21538621969258337,
          0.20006547756300738,
          0.1962658062041231,
          0.2010556783942679,
          0.20056081463925968,
          0.21785344985925154,
          0.20785026234727103,
          0.20531251363528685,
          0.2066869398441052,
          0.2066840236793614,
          0.19901136915686007,
          0.20252993150434043,
          0.20751047294822017,
          0.43081922504226783,
          0.4330260780257185,
          0.42412755131313096,
          0.4354409597823709,
          0.43373766367346417,
          0.42470973765317543,
          0.43278946186724837,
          0.42853537464245123,
          0.4227310119484119,
          0.4193255114980487,
          0.42577061917933295,
          0.4332311250373765,
          0.42093114652542835,
          0.41294289486753255,
          0.4316856622599362,
          0.43226468747334296,
          0.44154832086590057,
          0.4339108930121183,
          0.43680600493610466,
          0.4371498288416193,
          0.42648231997904523,
          0.43791075850465927,
          0.43146564804242915,
          0.4314318234111189,
          0.42881130622629693,
          0.4315398976916325,
          0.4289254455665499,
          0.42660202498694194,
          0.4361879753190857,
          0.4252908204972069,
          0.43031100211964013,
          0.4280488351162105,
          0.6152229875334309,
          0.6152381929065347,
          0.6218271955943886,
          0.6154476005081884,
          0.5966898540288396,
          0.6035871755049952,
          0.601467391696459,
          0.6026471119997232,
          0.5777319783895498,
          0.5812047731717793,
          0.5917048300559806,
          0.5838174510404811,
          0.5712295708736457,
          0.5704499150037992,
          0.5739643711886349,
          0.5786717645566102,
          0.6115713311595029,
          0.6121181039756707,
          0.6167813988106173,
          0.6114516766529878,
          0.5992795064769534,
          0.6049964418665003,
          0.5981207344384288,
          0.6029906351082166,
          0.5852601650015965,
          0.5865463735986555,
          0.5894093929123103,
          0.5856209335646457,
          0.5754369657307978,
          0.5826539658616448,
          0.5891654195641702,
          0.5792371624717257
         ],
         "yaxis": "y"
        }
       ],
       "layout": {
        "barmode": "group",
        "legend": {
         "title": {
          "text": "type"
         },
         "tracegroupgap": 0
        },
        "template": {
         "data": {
          "bar": [
           {
            "error_x": {
             "color": "#2a3f5f"
            },
            "error_y": {
             "color": "#2a3f5f"
            },
            "marker": {
             "line": {
              "color": "#E5ECF6",
              "width": 0.5
             },
             "pattern": {
              "fillmode": "overlay",
              "size": 10,
              "solidity": 0.2
             }
            },
            "type": "bar"
           }
          ],
          "barpolar": [
           {
            "marker": {
             "line": {
              "color": "#E5ECF6",
              "width": 0.5
             },
             "pattern": {
              "fillmode": "overlay",
              "size": 10,
              "solidity": 0.2
             }
            },
            "type": "barpolar"
           }
          ],
          "carpet": [
           {
            "aaxis": {
             "endlinecolor": "#2a3f5f",
             "gridcolor": "white",
             "linecolor": "white",
             "minorgridcolor": "white",
             "startlinecolor": "#2a3f5f"
            },
            "baxis": {
             "endlinecolor": "#2a3f5f",
             "gridcolor": "white",
             "linecolor": "white",
             "minorgridcolor": "white",
             "startlinecolor": "#2a3f5f"
            },
            "type": "carpet"
           }
          ],
          "choropleth": [
           {
            "colorbar": {
             "outlinewidth": 0,
             "ticks": ""
            },
            "type": "choropleth"
           }
          ],
          "contour": [
           {
            "colorbar": {
             "outlinewidth": 0,
             "ticks": ""
            },
            "colorscale": [
             [
              0.0,
              "#0d0887"
             ],
             [
              0.1111111111111111,
              "#46039f"
             ],
             [
              0.2222222222222222,
              "#7201a8"
             ],
             [
              0.3333333333333333,
              "#9c179e"
             ],
             [
              0.4444444444444444,
              "#bd3786"
             ],
             [
              0.5555555555555556,
              "#d8576b"
             ],
             [
              0.6666666666666666,
              "#ed7953"
             ],
             [
              0.7777777777777778,
              "#fb9f3a"
             ],
             [
              0.8888888888888888,
              "#fdca26"
             ],
             [
              1.0,
              "#f0f921"
             ]
            ],
            "type": "contour"
           }
          ],
          "contourcarpet": [
           {
            "colorbar": {
             "outlinewidth": 0,
             "ticks": ""
            },
            "type": "contourcarpet"
           }
          ],
          "heatmap": [
           {
            "colorbar": {
             "outlinewidth": 0,
             "ticks": ""
            },
            "colorscale": [
             [
              0.0,
              "#0d0887"
             ],
             [
              0.1111111111111111,
              "#46039f"
             ],
             [
              0.2222222222222222,
              "#7201a8"
             ],
             [
              0.3333333333333333,
              "#9c179e"
             ],
             [
              0.4444444444444444,
              "#bd3786"
             ],
             [
              0.5555555555555556,
              "#d8576b"
             ],
             [
              0.6666666666666666,
              "#ed7953"
             ],
             [
              0.7777777777777778,
              "#fb9f3a"
             ],
             [
              0.8888888888888888,
              "#fdca26"
             ],
             [
              1.0,
              "#f0f921"
             ]
            ],
            "type": "heatmap"
           }
          ],
          "heatmapgl": [
           {
            "colorbar": {
             "outlinewidth": 0,
             "ticks": ""
            },
            "colorscale": [
             [
              0.0,
              "#0d0887"
             ],
             [
              0.1111111111111111,
              "#46039f"
             ],
             [
              0.2222222222222222,
              "#7201a8"
             ],
             [
              0.3333333333333333,
              "#9c179e"
             ],
             [
              0.4444444444444444,
              "#bd3786"
             ],
             [
              0.5555555555555556,
              "#d8576b"
             ],
             [
              0.6666666666666666,
              "#ed7953"
             ],
             [
              0.7777777777777778,
              "#fb9f3a"
             ],
             [
              0.8888888888888888,
              "#fdca26"
             ],
             [
              1.0,
              "#f0f921"
             ]
            ],
            "type": "heatmapgl"
           }
          ],
          "histogram": [
           {
            "marker": {
             "pattern": {
              "fillmode": "overlay",
              "size": 10,
              "solidity": 0.2
             }
            },
            "type": "histogram"
           }
          ],
          "histogram2d": [
           {
            "colorbar": {
             "outlinewidth": 0,
             "ticks": ""
            },
            "colorscale": [
             [
              0.0,
              "#0d0887"
             ],
             [
              0.1111111111111111,
              "#46039f"
             ],
             [
              0.2222222222222222,
              "#7201a8"
             ],
             [
              0.3333333333333333,
              "#9c179e"
             ],
             [
              0.4444444444444444,
              "#bd3786"
             ],
             [
              0.5555555555555556,
              "#d8576b"
             ],
             [
              0.6666666666666666,
              "#ed7953"
             ],
             [
              0.7777777777777778,
              "#fb9f3a"
             ],
             [
              0.8888888888888888,
              "#fdca26"
             ],
             [
              1.0,
              "#f0f921"
             ]
            ],
            "type": "histogram2d"
           }
          ],
          "histogram2dcontour": [
           {
            "colorbar": {
             "outlinewidth": 0,
             "ticks": ""
            },
            "colorscale": [
             [
              0.0,
              "#0d0887"
             ],
             [
              0.1111111111111111,
              "#46039f"
             ],
             [
              0.2222222222222222,
              "#7201a8"
             ],
             [
              0.3333333333333333,
              "#9c179e"
             ],
             [
              0.4444444444444444,
              "#bd3786"
             ],
             [
              0.5555555555555556,
              "#d8576b"
             ],
             [
              0.6666666666666666,
              "#ed7953"
             ],
             [
              0.7777777777777778,
              "#fb9f3a"
             ],
             [
              0.8888888888888888,
              "#fdca26"
             ],
             [
              1.0,
              "#f0f921"
             ]
            ],
            "type": "histogram2dcontour"
           }
          ],
          "mesh3d": [
           {
            "colorbar": {
             "outlinewidth": 0,
             "ticks": ""
            },
            "type": "mesh3d"
           }
          ],
          "parcoords": [
           {
            "line": {
             "colorbar": {
              "outlinewidth": 0,
              "ticks": ""
             }
            },
            "type": "parcoords"
           }
          ],
          "pie": [
           {
            "automargin": true,
            "type": "pie"
           }
          ],
          "scatter": [
           {
            "marker": {
             "colorbar": {
              "outlinewidth": 0,
              "ticks": ""
             }
            },
            "type": "scatter"
           }
          ],
          "scatter3d": [
           {
            "line": {
             "colorbar": {
              "outlinewidth": 0,
              "ticks": ""
             }
            },
            "marker": {
             "colorbar": {
              "outlinewidth": 0,
              "ticks": ""
             }
            },
            "type": "scatter3d"
           }
          ],
          "scattercarpet": [
           {
            "marker": {
             "colorbar": {
              "outlinewidth": 0,
              "ticks": ""
             }
            },
            "type": "scattercarpet"
           }
          ],
          "scattergeo": [
           {
            "marker": {
             "colorbar": {
              "outlinewidth": 0,
              "ticks": ""
             }
            },
            "type": "scattergeo"
           }
          ],
          "scattergl": [
           {
            "marker": {
             "colorbar": {
              "outlinewidth": 0,
              "ticks": ""
             }
            },
            "type": "scattergl"
           }
          ],
          "scattermapbox": [
           {
            "marker": {
             "colorbar": {
              "outlinewidth": 0,
              "ticks": ""
             }
            },
            "type": "scattermapbox"
           }
          ],
          "scatterpolar": [
           {
            "marker": {
             "colorbar": {
              "outlinewidth": 0,
              "ticks": ""
             }
            },
            "type": "scatterpolar"
           }
          ],
          "scatterpolargl": [
           {
            "marker": {
             "colorbar": {
              "outlinewidth": 0,
              "ticks": ""
             }
            },
            "type": "scatterpolargl"
           }
          ],
          "scatterternary": [
           {
            "marker": {
             "colorbar": {
              "outlinewidth": 0,
              "ticks": ""
             }
            },
            "type": "scatterternary"
           }
          ],
          "surface": [
           {
            "colorbar": {
             "outlinewidth": 0,
             "ticks": ""
            },
            "colorscale": [
             [
              0.0,
              "#0d0887"
             ],
             [
              0.1111111111111111,
              "#46039f"
             ],
             [
              0.2222222222222222,
              "#7201a8"
             ],
             [
              0.3333333333333333,
              "#9c179e"
             ],
             [
              0.4444444444444444,
              "#bd3786"
             ],
             [
              0.5555555555555556,
              "#d8576b"
             ],
             [
              0.6666666666666666,
              "#ed7953"
             ],
             [
              0.7777777777777778,
              "#fb9f3a"
             ],
             [
              0.8888888888888888,
              "#fdca26"
             ],
             [
              1.0,
              "#f0f921"
             ]
            ],
            "type": "surface"
           }
          ],
          "table": [
           {
            "cells": {
             "fill": {
              "color": "#EBF0F8"
             },
             "line": {
              "color": "white"
             }
            },
            "header": {
             "fill": {
              "color": "#C8D4E3"
             },
             "line": {
              "color": "white"
             }
            },
            "type": "table"
           }
          ]
         },
         "layout": {
          "annotationdefaults": {
           "arrowcolor": "#2a3f5f",
           "arrowhead": 0,
           "arrowwidth": 1
          },
          "autotypenumbers": "strict",
          "coloraxis": {
           "colorbar": {
            "outlinewidth": 0,
            "ticks": ""
           }
          },
          "colorscale": {
           "diverging": [
            [
             0,
             "#8e0152"
            ],
            [
             0.1,
             "#c51b7d"
            ],
            [
             0.2,
             "#de77ae"
            ],
            [
             0.3,
             "#f1b6da"
            ],
            [
             0.4,
             "#fde0ef"
            ],
            [
             0.5,
             "#f7f7f7"
            ],
            [
             0.6,
             "#e6f5d0"
            ],
            [
             0.7,
             "#b8e186"
            ],
            [
             0.8,
             "#7fbc41"
            ],
            [
             0.9,
             "#4d9221"
            ],
            [
             1,
             "#276419"
            ]
           ],
           "sequential": [
            [
             0.0,
             "#0d0887"
            ],
            [
             0.1111111111111111,
             "#46039f"
            ],
            [
             0.2222222222222222,
             "#7201a8"
            ],
            [
             0.3333333333333333,
             "#9c179e"
            ],
            [
             0.4444444444444444,
             "#bd3786"
            ],
            [
             0.5555555555555556,
             "#d8576b"
            ],
            [
             0.6666666666666666,
             "#ed7953"
            ],
            [
             0.7777777777777778,
             "#fb9f3a"
            ],
            [
             0.8888888888888888,
             "#fdca26"
            ],
            [
             1.0,
             "#f0f921"
            ]
           ],
           "sequentialminus": [
            [
             0.0,
             "#0d0887"
            ],
            [
             0.1111111111111111,
             "#46039f"
            ],
            [
             0.2222222222222222,
             "#7201a8"
            ],
            [
             0.3333333333333333,
             "#9c179e"
            ],
            [
             0.4444444444444444,
             "#bd3786"
            ],
            [
             0.5555555555555556,
             "#d8576b"
            ],
            [
             0.6666666666666666,
             "#ed7953"
            ],
            [
             0.7777777777777778,
             "#fb9f3a"
            ],
            [
             0.8888888888888888,
             "#fdca26"
            ],
            [
             1.0,
             "#f0f921"
            ]
           ]
          },
          "colorway": [
           "#636efa",
           "#EF553B",
           "#00cc96",
           "#ab63fa",
           "#FFA15A",
           "#19d3f3",
           "#FF6692",
           "#B6E880",
           "#FF97FF",
           "#FECB52"
          ],
          "font": {
           "color": "#2a3f5f"
          },
          "geo": {
           "bgcolor": "white",
           "lakecolor": "white",
           "landcolor": "#E5ECF6",
           "showlakes": true,
           "showland": true,
           "subunitcolor": "white"
          },
          "hoverlabel": {
           "align": "left"
          },
          "hovermode": "closest",
          "mapbox": {
           "style": "light"
          },
          "paper_bgcolor": "white",
          "plot_bgcolor": "#E5ECF6",
          "polar": {
           "angularaxis": {
            "gridcolor": "white",
            "linecolor": "white",
            "ticks": ""
           },
           "bgcolor": "#E5ECF6",
           "radialaxis": {
            "gridcolor": "white",
            "linecolor": "white",
            "ticks": ""
           }
          },
          "scene": {
           "xaxis": {
            "backgroundcolor": "#E5ECF6",
            "gridcolor": "white",
            "gridwidth": 2,
            "linecolor": "white",
            "showbackground": true,
            "ticks": "",
            "zerolinecolor": "white"
           },
           "yaxis": {
            "backgroundcolor": "#E5ECF6",
            "gridcolor": "white",
            "gridwidth": 2,
            "linecolor": "white",
            "showbackground": true,
            "ticks": "",
            "zerolinecolor": "white"
           },
           "zaxis": {
            "backgroundcolor": "#E5ECF6",
            "gridcolor": "white",
            "gridwidth": 2,
            "linecolor": "white",
            "showbackground": true,
            "ticks": "",
            "zerolinecolor": "white"
           }
          },
          "shapedefaults": {
           "line": {
            "color": "#2a3f5f"
           }
          },
          "ternary": {
           "aaxis": {
            "gridcolor": "white",
            "linecolor": "white",
            "ticks": ""
           },
           "baxis": {
            "gridcolor": "white",
            "linecolor": "white",
            "ticks": ""
           },
           "bgcolor": "#E5ECF6",
           "caxis": {
            "gridcolor": "white",
            "linecolor": "white",
            "ticks": ""
           }
          },
          "title": {
           "x": 0.05
          },
          "xaxis": {
           "automargin": true,
           "gridcolor": "white",
           "linecolor": "white",
           "ticks": "",
           "title": {
            "standoff": 15
           },
           "zerolinecolor": "white",
           "zerolinewidth": 2
          },
          "yaxis": {
           "automargin": true,
           "gridcolor": "white",
           "linecolor": "white",
           "ticks": "",
           "title": {
            "standoff": 15
           },
           "zerolinecolor": "white",
           "zerolinewidth": 2
          }
         }
        },
        "title": {
         "text": "Mean f1 score on testing and training set for each parameter combination <br> (Model: RandomForest Classifier, Dataset: Mean imputation subset selection for individuals with 2 or 3 MV)"
        },
        "xaxis": {
         "anchor": "y",
         "domain": [
          0.0,
          1.0
         ],
         "title": {
          "text": "Params"
         }
        },
        "yaxis": {
         "anchor": "x",
         "domain": [
          0.0,
          1.0
         ],
         "title": {
          "text": "Average f1"
         }
        }
       }
      },
      "text/html": "<div>                            <div id=\"dc5b1744-9e14-495d-a7bb-bcc1c49f9135\" class=\"plotly-graph-div\" style=\"height:525px; width:100%;\"></div>            <script type=\"text/javascript\">                require([\"plotly\"], function(Plotly) {                    window.PLOTLYENV=window.PLOTLYENV || {};                                    if (document.getElementById(\"dc5b1744-9e14-495d-a7bb-bcc1c49f9135\")) {                    Plotly.newPlot(                        \"dc5b1744-9e14-495d-a7bb-bcc1c49f9135\",                        [{\"alignmentgroup\":\"True\",\"customdata\":[[\"{'max_depth': 3, 'max_features': 'sqrt', 'min_samples_split': 3, 'n_estimators': 50}\"],[\"{'max_depth': 3, 'max_features': 'sqrt', 'min_samples_split': 3, 'n_estimators': 80}\"],[\"{'max_depth': 3, 'max_features': 'sqrt', 'min_samples_split': 3, 'n_estimators': 110}\"],[\"{'max_depth': 3, 'max_features': 'sqrt', 'min_samples_split': 3, 'n_estimators': 130}\"],[\"{'max_depth': 3, 'max_features': 'sqrt', 'min_samples_split': 6, 'n_estimators': 50}\"],[\"{'max_depth': 3, 'max_features': 'sqrt', 'min_samples_split': 6, 'n_estimators': 80}\"],[\"{'max_depth': 3, 'max_features': 'sqrt', 'min_samples_split': 6, 'n_estimators': 110}\"],[\"{'max_depth': 3, 'max_features': 'sqrt', 'min_samples_split': 6, 'n_estimators': 130}\"],[\"{'max_depth': 3, 'max_features': 'sqrt', 'min_samples_split': 9, 'n_estimators': 50}\"],[\"{'max_depth': 3, 'max_features': 'sqrt', 'min_samples_split': 9, 'n_estimators': 80}\"],[\"{'max_depth': 3, 'max_features': 'sqrt', 'min_samples_split': 9, 'n_estimators': 110}\"],[\"{'max_depth': 3, 'max_features': 'sqrt', 'min_samples_split': 9, 'n_estimators': 130}\"],[\"{'max_depth': 3, 'max_features': 'sqrt', 'min_samples_split': 12, 'n_estimators': 50}\"],[\"{'max_depth': 3, 'max_features': 'sqrt', 'min_samples_split': 12, 'n_estimators': 80}\"],[\"{'max_depth': 3, 'max_features': 'sqrt', 'min_samples_split': 12, 'n_estimators': 110}\"],[\"{'max_depth': 3, 'max_features': 'sqrt', 'min_samples_split': 12, 'n_estimators': 130}\"],[\"{'max_depth': 3, 'max_features': 'log2', 'min_samples_split': 3, 'n_estimators': 50}\"],[\"{'max_depth': 3, 'max_features': 'log2', 'min_samples_split': 3, 'n_estimators': 80}\"],[\"{'max_depth': 3, 'max_features': 'log2', 'min_samples_split': 3, 'n_estimators': 110}\"],[\"{'max_depth': 3, 'max_features': 'log2', 'min_samples_split': 3, 'n_estimators': 130}\"],[\"{'max_depth': 3, 'max_features': 'log2', 'min_samples_split': 6, 'n_estimators': 50}\"],[\"{'max_depth': 3, 'max_features': 'log2', 'min_samples_split': 6, 'n_estimators': 80}\"],[\"{'max_depth': 3, 'max_features': 'log2', 'min_samples_split': 6, 'n_estimators': 110}\"],[\"{'max_depth': 3, 'max_features': 'log2', 'min_samples_split': 6, 'n_estimators': 130}\"],[\"{'max_depth': 3, 'max_features': 'log2', 'min_samples_split': 9, 'n_estimators': 50}\"],[\"{'max_depth': 3, 'max_features': 'log2', 'min_samples_split': 9, 'n_estimators': 80}\"],[\"{'max_depth': 3, 'max_features': 'log2', 'min_samples_split': 9, 'n_estimators': 110}\"],[\"{'max_depth': 3, 'max_features': 'log2', 'min_samples_split': 9, 'n_estimators': 130}\"],[\"{'max_depth': 3, 'max_features': 'log2', 'min_samples_split': 12, 'n_estimators': 50}\"],[\"{'max_depth': 3, 'max_features': 'log2', 'min_samples_split': 12, 'n_estimators': 80}\"],[\"{'max_depth': 3, 'max_features': 'log2', 'min_samples_split': 12, 'n_estimators': 110}\"],[\"{'max_depth': 3, 'max_features': 'log2', 'min_samples_split': 12, 'n_estimators': 130}\"],[\"{'max_depth': 6, 'max_features': 'sqrt', 'min_samples_split': 3, 'n_estimators': 50}\"],[\"{'max_depth': 6, 'max_features': 'sqrt', 'min_samples_split': 3, 'n_estimators': 80}\"],[\"{'max_depth': 6, 'max_features': 'sqrt', 'min_samples_split': 3, 'n_estimators': 110}\"],[\"{'max_depth': 6, 'max_features': 'sqrt', 'min_samples_split': 3, 'n_estimators': 130}\"],[\"{'max_depth': 6, 'max_features': 'sqrt', 'min_samples_split': 6, 'n_estimators': 50}\"],[\"{'max_depth': 6, 'max_features': 'sqrt', 'min_samples_split': 6, 'n_estimators': 80}\"],[\"{'max_depth': 6, 'max_features': 'sqrt', 'min_samples_split': 6, 'n_estimators': 110}\"],[\"{'max_depth': 6, 'max_features': 'sqrt', 'min_samples_split': 6, 'n_estimators': 130}\"],[\"{'max_depth': 6, 'max_features': 'sqrt', 'min_samples_split': 9, 'n_estimators': 50}\"],[\"{'max_depth': 6, 'max_features': 'sqrt', 'min_samples_split': 9, 'n_estimators': 80}\"],[\"{'max_depth': 6, 'max_features': 'sqrt', 'min_samples_split': 9, 'n_estimators': 110}\"],[\"{'max_depth': 6, 'max_features': 'sqrt', 'min_samples_split': 9, 'n_estimators': 130}\"],[\"{'max_depth': 6, 'max_features': 'sqrt', 'min_samples_split': 12, 'n_estimators': 50}\"],[\"{'max_depth': 6, 'max_features': 'sqrt', 'min_samples_split': 12, 'n_estimators': 80}\"],[\"{'max_depth': 6, 'max_features': 'sqrt', 'min_samples_split': 12, 'n_estimators': 110}\"],[\"{'max_depth': 6, 'max_features': 'sqrt', 'min_samples_split': 12, 'n_estimators': 130}\"],[\"{'max_depth': 6, 'max_features': 'log2', 'min_samples_split': 3, 'n_estimators': 50}\"],[\"{'max_depth': 6, 'max_features': 'log2', 'min_samples_split': 3, 'n_estimators': 80}\"],[\"{'max_depth': 6, 'max_features': 'log2', 'min_samples_split': 3, 'n_estimators': 110}\"],[\"{'max_depth': 6, 'max_features': 'log2', 'min_samples_split': 3, 'n_estimators': 130}\"],[\"{'max_depth': 6, 'max_features': 'log2', 'min_samples_split': 6, 'n_estimators': 50}\"],[\"{'max_depth': 6, 'max_features': 'log2', 'min_samples_split': 6, 'n_estimators': 80}\"],[\"{'max_depth': 6, 'max_features': 'log2', 'min_samples_split': 6, 'n_estimators': 110}\"],[\"{'max_depth': 6, 'max_features': 'log2', 'min_samples_split': 6, 'n_estimators': 130}\"],[\"{'max_depth': 6, 'max_features': 'log2', 'min_samples_split': 9, 'n_estimators': 50}\"],[\"{'max_depth': 6, 'max_features': 'log2', 'min_samples_split': 9, 'n_estimators': 80}\"],[\"{'max_depth': 6, 'max_features': 'log2', 'min_samples_split': 9, 'n_estimators': 110}\"],[\"{'max_depth': 6, 'max_features': 'log2', 'min_samples_split': 9, 'n_estimators': 130}\"],[\"{'max_depth': 6, 'max_features': 'log2', 'min_samples_split': 12, 'n_estimators': 50}\"],[\"{'max_depth': 6, 'max_features': 'log2', 'min_samples_split': 12, 'n_estimators': 80}\"],[\"{'max_depth': 6, 'max_features': 'log2', 'min_samples_split': 12, 'n_estimators': 110}\"],[\"{'max_depth': 6, 'max_features': 'log2', 'min_samples_split': 12, 'n_estimators': 130}\"],[\"{'max_depth': 9, 'max_features': 'sqrt', 'min_samples_split': 3, 'n_estimators': 50}\"],[\"{'max_depth': 9, 'max_features': 'sqrt', 'min_samples_split': 3, 'n_estimators': 80}\"],[\"{'max_depth': 9, 'max_features': 'sqrt', 'min_samples_split': 3, 'n_estimators': 110}\"],[\"{'max_depth': 9, 'max_features': 'sqrt', 'min_samples_split': 3, 'n_estimators': 130}\"],[\"{'max_depth': 9, 'max_features': 'sqrt', 'min_samples_split': 6, 'n_estimators': 50}\"],[\"{'max_depth': 9, 'max_features': 'sqrt', 'min_samples_split': 6, 'n_estimators': 80}\"],[\"{'max_depth': 9, 'max_features': 'sqrt', 'min_samples_split': 6, 'n_estimators': 110}\"],[\"{'max_depth': 9, 'max_features': 'sqrt', 'min_samples_split': 6, 'n_estimators': 130}\"],[\"{'max_depth': 9, 'max_features': 'sqrt', 'min_samples_split': 9, 'n_estimators': 50}\"],[\"{'max_depth': 9, 'max_features': 'sqrt', 'min_samples_split': 9, 'n_estimators': 80}\"],[\"{'max_depth': 9, 'max_features': 'sqrt', 'min_samples_split': 9, 'n_estimators': 110}\"],[\"{'max_depth': 9, 'max_features': 'sqrt', 'min_samples_split': 9, 'n_estimators': 130}\"],[\"{'max_depth': 9, 'max_features': 'sqrt', 'min_samples_split': 12, 'n_estimators': 50}\"],[\"{'max_depth': 9, 'max_features': 'sqrt', 'min_samples_split': 12, 'n_estimators': 80}\"],[\"{'max_depth': 9, 'max_features': 'sqrt', 'min_samples_split': 12, 'n_estimators': 110}\"],[\"{'max_depth': 9, 'max_features': 'sqrt', 'min_samples_split': 12, 'n_estimators': 130}\"],[\"{'max_depth': 9, 'max_features': 'log2', 'min_samples_split': 3, 'n_estimators': 50}\"],[\"{'max_depth': 9, 'max_features': 'log2', 'min_samples_split': 3, 'n_estimators': 80}\"],[\"{'max_depth': 9, 'max_features': 'log2', 'min_samples_split': 3, 'n_estimators': 110}\"],[\"{'max_depth': 9, 'max_features': 'log2', 'min_samples_split': 3, 'n_estimators': 130}\"],[\"{'max_depth': 9, 'max_features': 'log2', 'min_samples_split': 6, 'n_estimators': 50}\"],[\"{'max_depth': 9, 'max_features': 'log2', 'min_samples_split': 6, 'n_estimators': 80}\"],[\"{'max_depth': 9, 'max_features': 'log2', 'min_samples_split': 6, 'n_estimators': 110}\"],[\"{'max_depth': 9, 'max_features': 'log2', 'min_samples_split': 6, 'n_estimators': 130}\"],[\"{'max_depth': 9, 'max_features': 'log2', 'min_samples_split': 9, 'n_estimators': 50}\"],[\"{'max_depth': 9, 'max_features': 'log2', 'min_samples_split': 9, 'n_estimators': 80}\"],[\"{'max_depth': 9, 'max_features': 'log2', 'min_samples_split': 9, 'n_estimators': 110}\"],[\"{'max_depth': 9, 'max_features': 'log2', 'min_samples_split': 9, 'n_estimators': 130}\"],[\"{'max_depth': 9, 'max_features': 'log2', 'min_samples_split': 12, 'n_estimators': 50}\"],[\"{'max_depth': 9, 'max_features': 'log2', 'min_samples_split': 12, 'n_estimators': 80}\"],[\"{'max_depth': 9, 'max_features': 'log2', 'min_samples_split': 12, 'n_estimators': 110}\"],[\"{'max_depth': 9, 'max_features': 'log2', 'min_samples_split': 12, 'n_estimators': 130}\"]],\"error_y\":{\"array\":[0.029502337183690247,0.039469349813102926,0.029639295002050398,0.02911822837335913,0.018748786292431648,0.02663466120646222,0.02911433377185586,0.028966036566170684,0.03438396169240598,0.037521105296114125,0.039128797225298106,0.029758370567689617,0.0379809102129126,0.029585314086703743,0.028837961599810467,0.03377915410323753,0.029612369541682934,0.044048743431178275,0.03455587046459381,0.031388058619084495,0.03064991342747763,0.030091607668132733,0.03367418197421437,0.024597026930590554,0.03900234269005003,0.03027085595433589,0.03202158448900823,0.040886717965408506,0.017151042832627417,0.0321957283872228,0.035900539307039174,0.022011489965353355,0.03863038472648215,0.05166857961097269,0.03386041188707507,0.03745318818348565,0.04160150395985657,0.036763905482499394,0.04016215184721865,0.04266763361736818,0.025340777581789143,0.02755058848172361,0.046895010782854865,0.03448469928716385,0.042976655178734155,0.020528182839348784,0.04334111501969365,0.0420096900479698,0.04405716598695431,0.056297347406782945,0.026509453556177627,0.03494661336104577,0.0279146034688166,0.035897964744820876,0.020481474628694284,0.03151515676583744,0.03461580031718746,0.03997151230661473,0.03817651077758778,0.04103982615546134,0.03314486136565949,0.031031423814147953,0.02886360194974419,0.036196864166180696,0.04022547228137958,0.0424677631303675,0.037189063426574354,0.03879454829057941,0.04358645975532423,0.027600720241812052,0.03233126966661581,0.0422807644257248,0.04728914497863916,0.050360865280572084,0.0460129771174859,0.0319990216686555,0.04728210782255784,0.054215094362391095,0.05423179959085676,0.0476202839209348,0.04194030070716067,0.02491466427771021,0.047523193480180644,0.04070488090363506,0.029441240456043766,0.050073987569027735,0.04343426194142384,0.037574990100642164,0.035073133787198646,0.043253053971270196,0.030132054167888327,0.04523576726413851,0.026608620318417923,0.04068246753493757,0.03389088516068147,0.05762208095623354]},\"hovertemplate\":\"<b>%{hovertext}</b><br><br>type=test<br>Params=%{x}<br>Average f1=%{y}<br>params=%{customdata[0]}<extra></extra>\",\"hovertext\":[\"{'max_depth': 3, 'max_features': 'sqrt', 'min_samples_split': 3, 'n_estimators': 50}\",\"{'max_depth': 3, 'max_features': 'sqrt', 'min_samples_split': 3, 'n_estimators': 80}\",\"{'max_depth': 3, 'max_features': 'sqrt', 'min_samples_split': 3, 'n_estimators': 110}\",\"{'max_depth': 3, 'max_features': 'sqrt', 'min_samples_split': 3, 'n_estimators': 130}\",\"{'max_depth': 3, 'max_features': 'sqrt', 'min_samples_split': 6, 'n_estimators': 50}\",\"{'max_depth': 3, 'max_features': 'sqrt', 'min_samples_split': 6, 'n_estimators': 80}\",\"{'max_depth': 3, 'max_features': 'sqrt', 'min_samples_split': 6, 'n_estimators': 110}\",\"{'max_depth': 3, 'max_features': 'sqrt', 'min_samples_split': 6, 'n_estimators': 130}\",\"{'max_depth': 3, 'max_features': 'sqrt', 'min_samples_split': 9, 'n_estimators': 50}\",\"{'max_depth': 3, 'max_features': 'sqrt', 'min_samples_split': 9, 'n_estimators': 80}\",\"{'max_depth': 3, 'max_features': 'sqrt', 'min_samples_split': 9, 'n_estimators': 110}\",\"{'max_depth': 3, 'max_features': 'sqrt', 'min_samples_split': 9, 'n_estimators': 130}\",\"{'max_depth': 3, 'max_features': 'sqrt', 'min_samples_split': 12, 'n_estimators': 50}\",\"{'max_depth': 3, 'max_features': 'sqrt', 'min_samples_split': 12, 'n_estimators': 80}\",\"{'max_depth': 3, 'max_features': 'sqrt', 'min_samples_split': 12, 'n_estimators': 110}\",\"{'max_depth': 3, 'max_features': 'sqrt', 'min_samples_split': 12, 'n_estimators': 130}\",\"{'max_depth': 3, 'max_features': 'log2', 'min_samples_split': 3, 'n_estimators': 50}\",\"{'max_depth': 3, 'max_features': 'log2', 'min_samples_split': 3, 'n_estimators': 80}\",\"{'max_depth': 3, 'max_features': 'log2', 'min_samples_split': 3, 'n_estimators': 110}\",\"{'max_depth': 3, 'max_features': 'log2', 'min_samples_split': 3, 'n_estimators': 130}\",\"{'max_depth': 3, 'max_features': 'log2', 'min_samples_split': 6, 'n_estimators': 50}\",\"{'max_depth': 3, 'max_features': 'log2', 'min_samples_split': 6, 'n_estimators': 80}\",\"{'max_depth': 3, 'max_features': 'log2', 'min_samples_split': 6, 'n_estimators': 110}\",\"{'max_depth': 3, 'max_features': 'log2', 'min_samples_split': 6, 'n_estimators': 130}\",\"{'max_depth': 3, 'max_features': 'log2', 'min_samples_split': 9, 'n_estimators': 50}\",\"{'max_depth': 3, 'max_features': 'log2', 'min_samples_split': 9, 'n_estimators': 80}\",\"{'max_depth': 3, 'max_features': 'log2', 'min_samples_split': 9, 'n_estimators': 110}\",\"{'max_depth': 3, 'max_features': 'log2', 'min_samples_split': 9, 'n_estimators': 130}\",\"{'max_depth': 3, 'max_features': 'log2', 'min_samples_split': 12, 'n_estimators': 50}\",\"{'max_depth': 3, 'max_features': 'log2', 'min_samples_split': 12, 'n_estimators': 80}\",\"{'max_depth': 3, 'max_features': 'log2', 'min_samples_split': 12, 'n_estimators': 110}\",\"{'max_depth': 3, 'max_features': 'log2', 'min_samples_split': 12, 'n_estimators': 130}\",\"{'max_depth': 6, 'max_features': 'sqrt', 'min_samples_split': 3, 'n_estimators': 50}\",\"{'max_depth': 6, 'max_features': 'sqrt', 'min_samples_split': 3, 'n_estimators': 80}\",\"{'max_depth': 6, 'max_features': 'sqrt', 'min_samples_split': 3, 'n_estimators': 110}\",\"{'max_depth': 6, 'max_features': 'sqrt', 'min_samples_split': 3, 'n_estimators': 130}\",\"{'max_depth': 6, 'max_features': 'sqrt', 'min_samples_split': 6, 'n_estimators': 50}\",\"{'max_depth': 6, 'max_features': 'sqrt', 'min_samples_split': 6, 'n_estimators': 80}\",\"{'max_depth': 6, 'max_features': 'sqrt', 'min_samples_split': 6, 'n_estimators': 110}\",\"{'max_depth': 6, 'max_features': 'sqrt', 'min_samples_split': 6, 'n_estimators': 130}\",\"{'max_depth': 6, 'max_features': 'sqrt', 'min_samples_split': 9, 'n_estimators': 50}\",\"{'max_depth': 6, 'max_features': 'sqrt', 'min_samples_split': 9, 'n_estimators': 80}\",\"{'max_depth': 6, 'max_features': 'sqrt', 'min_samples_split': 9, 'n_estimators': 110}\",\"{'max_depth': 6, 'max_features': 'sqrt', 'min_samples_split': 9, 'n_estimators': 130}\",\"{'max_depth': 6, 'max_features': 'sqrt', 'min_samples_split': 12, 'n_estimators': 50}\",\"{'max_depth': 6, 'max_features': 'sqrt', 'min_samples_split': 12, 'n_estimators': 80}\",\"{'max_depth': 6, 'max_features': 'sqrt', 'min_samples_split': 12, 'n_estimators': 110}\",\"{'max_depth': 6, 'max_features': 'sqrt', 'min_samples_split': 12, 'n_estimators': 130}\",\"{'max_depth': 6, 'max_features': 'log2', 'min_samples_split': 3, 'n_estimators': 50}\",\"{'max_depth': 6, 'max_features': 'log2', 'min_samples_split': 3, 'n_estimators': 80}\",\"{'max_depth': 6, 'max_features': 'log2', 'min_samples_split': 3, 'n_estimators': 110}\",\"{'max_depth': 6, 'max_features': 'log2', 'min_samples_split': 3, 'n_estimators': 130}\",\"{'max_depth': 6, 'max_features': 'log2', 'min_samples_split': 6, 'n_estimators': 50}\",\"{'max_depth': 6, 'max_features': 'log2', 'min_samples_split': 6, 'n_estimators': 80}\",\"{'max_depth': 6, 'max_features': 'log2', 'min_samples_split': 6, 'n_estimators': 110}\",\"{'max_depth': 6, 'max_features': 'log2', 'min_samples_split': 6, 'n_estimators': 130}\",\"{'max_depth': 6, 'max_features': 'log2', 'min_samples_split': 9, 'n_estimators': 50}\",\"{'max_depth': 6, 'max_features': 'log2', 'min_samples_split': 9, 'n_estimators': 80}\",\"{'max_depth': 6, 'max_features': 'log2', 'min_samples_split': 9, 'n_estimators': 110}\",\"{'max_depth': 6, 'max_features': 'log2', 'min_samples_split': 9, 'n_estimators': 130}\",\"{'max_depth': 6, 'max_features': 'log2', 'min_samples_split': 12, 'n_estimators': 50}\",\"{'max_depth': 6, 'max_features': 'log2', 'min_samples_split': 12, 'n_estimators': 80}\",\"{'max_depth': 6, 'max_features': 'log2', 'min_samples_split': 12, 'n_estimators': 110}\",\"{'max_depth': 6, 'max_features': 'log2', 'min_samples_split': 12, 'n_estimators': 130}\",\"{'max_depth': 9, 'max_features': 'sqrt', 'min_samples_split': 3, 'n_estimators': 50}\",\"{'max_depth': 9, 'max_features': 'sqrt', 'min_samples_split': 3, 'n_estimators': 80}\",\"{'max_depth': 9, 'max_features': 'sqrt', 'min_samples_split': 3, 'n_estimators': 110}\",\"{'max_depth': 9, 'max_features': 'sqrt', 'min_samples_split': 3, 'n_estimators': 130}\",\"{'max_depth': 9, 'max_features': 'sqrt', 'min_samples_split': 6, 'n_estimators': 50}\",\"{'max_depth': 9, 'max_features': 'sqrt', 'min_samples_split': 6, 'n_estimators': 80}\",\"{'max_depth': 9, 'max_features': 'sqrt', 'min_samples_split': 6, 'n_estimators': 110}\",\"{'max_depth': 9, 'max_features': 'sqrt', 'min_samples_split': 6, 'n_estimators': 130}\",\"{'max_depth': 9, 'max_features': 'sqrt', 'min_samples_split': 9, 'n_estimators': 50}\",\"{'max_depth': 9, 'max_features': 'sqrt', 'min_samples_split': 9, 'n_estimators': 80}\",\"{'max_depth': 9, 'max_features': 'sqrt', 'min_samples_split': 9, 'n_estimators': 110}\",\"{'max_depth': 9, 'max_features': 'sqrt', 'min_samples_split': 9, 'n_estimators': 130}\",\"{'max_depth': 9, 'max_features': 'sqrt', 'min_samples_split': 12, 'n_estimators': 50}\",\"{'max_depth': 9, 'max_features': 'sqrt', 'min_samples_split': 12, 'n_estimators': 80}\",\"{'max_depth': 9, 'max_features': 'sqrt', 'min_samples_split': 12, 'n_estimators': 110}\",\"{'max_depth': 9, 'max_features': 'sqrt', 'min_samples_split': 12, 'n_estimators': 130}\",\"{'max_depth': 9, 'max_features': 'log2', 'min_samples_split': 3, 'n_estimators': 50}\",\"{'max_depth': 9, 'max_features': 'log2', 'min_samples_split': 3, 'n_estimators': 80}\",\"{'max_depth': 9, 'max_features': 'log2', 'min_samples_split': 3, 'n_estimators': 110}\",\"{'max_depth': 9, 'max_features': 'log2', 'min_samples_split': 3, 'n_estimators': 130}\",\"{'max_depth': 9, 'max_features': 'log2', 'min_samples_split': 6, 'n_estimators': 50}\",\"{'max_depth': 9, 'max_features': 'log2', 'min_samples_split': 6, 'n_estimators': 80}\",\"{'max_depth': 9, 'max_features': 'log2', 'min_samples_split': 6, 'n_estimators': 110}\",\"{'max_depth': 9, 'max_features': 'log2', 'min_samples_split': 6, 'n_estimators': 130}\",\"{'max_depth': 9, 'max_features': 'log2', 'min_samples_split': 9, 'n_estimators': 50}\",\"{'max_depth': 9, 'max_features': 'log2', 'min_samples_split': 9, 'n_estimators': 80}\",\"{'max_depth': 9, 'max_features': 'log2', 'min_samples_split': 9, 'n_estimators': 110}\",\"{'max_depth': 9, 'max_features': 'log2', 'min_samples_split': 9, 'n_estimators': 130}\",\"{'max_depth': 9, 'max_features': 'log2', 'min_samples_split': 12, 'n_estimators': 50}\",\"{'max_depth': 9, 'max_features': 'log2', 'min_samples_split': 12, 'n_estimators': 80}\",\"{'max_depth': 9, 'max_features': 'log2', 'min_samples_split': 12, 'n_estimators': 110}\",\"{'max_depth': 9, 'max_features': 'log2', 'min_samples_split': 12, 'n_estimators': 130}\"],\"legendgroup\":\"test\",\"marker\":{\"color\":\"#636efa\",\"pattern\":{\"shape\":\"\"}},\"name\":\"test\",\"offsetgroup\":\"test\",\"orientation\":\"v\",\"showlegend\":true,\"textposition\":\"auto\",\"type\":\"bar\",\"x\":[0,1,2,3,4,5,6,7,8,9,10,11,12,13,14,15,16,17,18,19,20,21,22,23,24,25,26,27,28,29,30,31,32,33,34,35,36,37,38,39,40,41,42,43,44,45,46,47,48,49,50,51,52,53,54,55,56,57,58,59,60,61,62,63,64,65,66,67,68,69,70,71,72,73,74,75,76,77,78,79,80,81,82,83,84,85,86,87,88,89,90,91,92,93,94,95],\"xaxis\":\"x\",\"y\":[0.15221091883882223,0.15174560015531838,0.1424085495820687,0.14826730034359847,0.14733148547886862,0.16679150990363667,0.14928131433901254,0.1396313894470239,0.13446253970345076,0.1516733081494422,0.14326727616228338,0.15302140171041248,0.15271275575476093,0.14006252788159626,0.13630364376609064,0.13889342773774688,0.14880584732206847,0.1339340816141169,0.15046455617243448,0.15912007476714174,0.15253803882437122,0.14024400709434443,0.14861513504581345,0.1425360862290955,0.15355648094293567,0.1570682478477579,0.14233112966469058,0.15297587645362473,0.15716462185690205,0.1482202064720805,0.14277486829036787,0.15007337939909488,0.27135428785291466,0.27612730523256684,0.26864024076412746,0.2666395066908544,0.2822604182109676,0.26548845804038196,0.27302400494082246,0.275043453327532,0.2708530535704381,0.26350776412387045,0.2804014641192005,0.27495457918950994,0.2679349586287183,0.27323856168335076,0.27259814499949225,0.27539691581134523,0.26997805843005745,0.2844355311563424,0.27263881245606786,0.27644321056568455,0.2693287003023611,0.27691513189086603,0.2673956520337045,0.2785627752912932,0.2818206489836125,0.2770124633645946,0.2725766098065727,0.26654125556939817,0.27731363207721527,0.2701750784380373,0.2753209563715636,0.263713557144469,0.3587259062539627,0.34619992436464087,0.3490215634482373,0.3356282921751162,0.3482984163908851,0.34218393800132385,0.34203844011847817,0.349386128683527,0.3523393842072388,0.3405311926502399,0.34750021875883086,0.34959987978415763,0.3449700180556303,0.3341833945191319,0.3595251237309961,0.34471297643848636,0.3479739118735239,0.33618588501194224,0.35104832492689775,0.3478295925650845,0.3440664180565097,0.3389505981017677,0.3433057711473483,0.35145758301439756,0.3554080085159172,0.3478306929170065,0.3415770071293883,0.3645539030154415,0.34734505460608517,0.3558533221839907,0.3660513326603415,0.34442676280498596],\"yaxis\":\"y\"},{\"alignmentgroup\":\"True\",\"customdata\":[[\"{'max_depth': 3, 'max_features': 'sqrt', 'min_samples_split': 3, 'n_estimators': 50}\"],[\"{'max_depth': 3, 'max_features': 'sqrt', 'min_samples_split': 3, 'n_estimators': 80}\"],[\"{'max_depth': 3, 'max_features': 'sqrt', 'min_samples_split': 3, 'n_estimators': 110}\"],[\"{'max_depth': 3, 'max_features': 'sqrt', 'min_samples_split': 3, 'n_estimators': 130}\"],[\"{'max_depth': 3, 'max_features': 'sqrt', 'min_samples_split': 6, 'n_estimators': 50}\"],[\"{'max_depth': 3, 'max_features': 'sqrt', 'min_samples_split': 6, 'n_estimators': 80}\"],[\"{'max_depth': 3, 'max_features': 'sqrt', 'min_samples_split': 6, 'n_estimators': 110}\"],[\"{'max_depth': 3, 'max_features': 'sqrt', 'min_samples_split': 6, 'n_estimators': 130}\"],[\"{'max_depth': 3, 'max_features': 'sqrt', 'min_samples_split': 9, 'n_estimators': 50}\"],[\"{'max_depth': 3, 'max_features': 'sqrt', 'min_samples_split': 9, 'n_estimators': 80}\"],[\"{'max_depth': 3, 'max_features': 'sqrt', 'min_samples_split': 9, 'n_estimators': 110}\"],[\"{'max_depth': 3, 'max_features': 'sqrt', 'min_samples_split': 9, 'n_estimators': 130}\"],[\"{'max_depth': 3, 'max_features': 'sqrt', 'min_samples_split': 12, 'n_estimators': 50}\"],[\"{'max_depth': 3, 'max_features': 'sqrt', 'min_samples_split': 12, 'n_estimators': 80}\"],[\"{'max_depth': 3, 'max_features': 'sqrt', 'min_samples_split': 12, 'n_estimators': 110}\"],[\"{'max_depth': 3, 'max_features': 'sqrt', 'min_samples_split': 12, 'n_estimators': 130}\"],[\"{'max_depth': 3, 'max_features': 'log2', 'min_samples_split': 3, 'n_estimators': 50}\"],[\"{'max_depth': 3, 'max_features': 'log2', 'min_samples_split': 3, 'n_estimators': 80}\"],[\"{'max_depth': 3, 'max_features': 'log2', 'min_samples_split': 3, 'n_estimators': 110}\"],[\"{'max_depth': 3, 'max_features': 'log2', 'min_samples_split': 3, 'n_estimators': 130}\"],[\"{'max_depth': 3, 'max_features': 'log2', 'min_samples_split': 6, 'n_estimators': 50}\"],[\"{'max_depth': 3, 'max_features': 'log2', 'min_samples_split': 6, 'n_estimators': 80}\"],[\"{'max_depth': 3, 'max_features': 'log2', 'min_samples_split': 6, 'n_estimators': 110}\"],[\"{'max_depth': 3, 'max_features': 'log2', 'min_samples_split': 6, 'n_estimators': 130}\"],[\"{'max_depth': 3, 'max_features': 'log2', 'min_samples_split': 9, 'n_estimators': 50}\"],[\"{'max_depth': 3, 'max_features': 'log2', 'min_samples_split': 9, 'n_estimators': 80}\"],[\"{'max_depth': 3, 'max_features': 'log2', 'min_samples_split': 9, 'n_estimators': 110}\"],[\"{'max_depth': 3, 'max_features': 'log2', 'min_samples_split': 9, 'n_estimators': 130}\"],[\"{'max_depth': 3, 'max_features': 'log2', 'min_samples_split': 12, 'n_estimators': 50}\"],[\"{'max_depth': 3, 'max_features': 'log2', 'min_samples_split': 12, 'n_estimators': 80}\"],[\"{'max_depth': 3, 'max_features': 'log2', 'min_samples_split': 12, 'n_estimators': 110}\"],[\"{'max_depth': 3, 'max_features': 'log2', 'min_samples_split': 12, 'n_estimators': 130}\"],[\"{'max_depth': 6, 'max_features': 'sqrt', 'min_samples_split': 3, 'n_estimators': 50}\"],[\"{'max_depth': 6, 'max_features': 'sqrt', 'min_samples_split': 3, 'n_estimators': 80}\"],[\"{'max_depth': 6, 'max_features': 'sqrt', 'min_samples_split': 3, 'n_estimators': 110}\"],[\"{'max_depth': 6, 'max_features': 'sqrt', 'min_samples_split': 3, 'n_estimators': 130}\"],[\"{'max_depth': 6, 'max_features': 'sqrt', 'min_samples_split': 6, 'n_estimators': 50}\"],[\"{'max_depth': 6, 'max_features': 'sqrt', 'min_samples_split': 6, 'n_estimators': 80}\"],[\"{'max_depth': 6, 'max_features': 'sqrt', 'min_samples_split': 6, 'n_estimators': 110}\"],[\"{'max_depth': 6, 'max_features': 'sqrt', 'min_samples_split': 6, 'n_estimators': 130}\"],[\"{'max_depth': 6, 'max_features': 'sqrt', 'min_samples_split': 9, 'n_estimators': 50}\"],[\"{'max_depth': 6, 'max_features': 'sqrt', 'min_samples_split': 9, 'n_estimators': 80}\"],[\"{'max_depth': 6, 'max_features': 'sqrt', 'min_samples_split': 9, 'n_estimators': 110}\"],[\"{'max_depth': 6, 'max_features': 'sqrt', 'min_samples_split': 9, 'n_estimators': 130}\"],[\"{'max_depth': 6, 'max_features': 'sqrt', 'min_samples_split': 12, 'n_estimators': 50}\"],[\"{'max_depth': 6, 'max_features': 'sqrt', 'min_samples_split': 12, 'n_estimators': 80}\"],[\"{'max_depth': 6, 'max_features': 'sqrt', 'min_samples_split': 12, 'n_estimators': 110}\"],[\"{'max_depth': 6, 'max_features': 'sqrt', 'min_samples_split': 12, 'n_estimators': 130}\"],[\"{'max_depth': 6, 'max_features': 'log2', 'min_samples_split': 3, 'n_estimators': 50}\"],[\"{'max_depth': 6, 'max_features': 'log2', 'min_samples_split': 3, 'n_estimators': 80}\"],[\"{'max_depth': 6, 'max_features': 'log2', 'min_samples_split': 3, 'n_estimators': 110}\"],[\"{'max_depth': 6, 'max_features': 'log2', 'min_samples_split': 3, 'n_estimators': 130}\"],[\"{'max_depth': 6, 'max_features': 'log2', 'min_samples_split': 6, 'n_estimators': 50}\"],[\"{'max_depth': 6, 'max_features': 'log2', 'min_samples_split': 6, 'n_estimators': 80}\"],[\"{'max_depth': 6, 'max_features': 'log2', 'min_samples_split': 6, 'n_estimators': 110}\"],[\"{'max_depth': 6, 'max_features': 'log2', 'min_samples_split': 6, 'n_estimators': 130}\"],[\"{'max_depth': 6, 'max_features': 'log2', 'min_samples_split': 9, 'n_estimators': 50}\"],[\"{'max_depth': 6, 'max_features': 'log2', 'min_samples_split': 9, 'n_estimators': 80}\"],[\"{'max_depth': 6, 'max_features': 'log2', 'min_samples_split': 9, 'n_estimators': 110}\"],[\"{'max_depth': 6, 'max_features': 'log2', 'min_samples_split': 9, 'n_estimators': 130}\"],[\"{'max_depth': 6, 'max_features': 'log2', 'min_samples_split': 12, 'n_estimators': 50}\"],[\"{'max_depth': 6, 'max_features': 'log2', 'min_samples_split': 12, 'n_estimators': 80}\"],[\"{'max_depth': 6, 'max_features': 'log2', 'min_samples_split': 12, 'n_estimators': 110}\"],[\"{'max_depth': 6, 'max_features': 'log2', 'min_samples_split': 12, 'n_estimators': 130}\"],[\"{'max_depth': 9, 'max_features': 'sqrt', 'min_samples_split': 3, 'n_estimators': 50}\"],[\"{'max_depth': 9, 'max_features': 'sqrt', 'min_samples_split': 3, 'n_estimators': 80}\"],[\"{'max_depth': 9, 'max_features': 'sqrt', 'min_samples_split': 3, 'n_estimators': 110}\"],[\"{'max_depth': 9, 'max_features': 'sqrt', 'min_samples_split': 3, 'n_estimators': 130}\"],[\"{'max_depth': 9, 'max_features': 'sqrt', 'min_samples_split': 6, 'n_estimators': 50}\"],[\"{'max_depth': 9, 'max_features': 'sqrt', 'min_samples_split': 6, 'n_estimators': 80}\"],[\"{'max_depth': 9, 'max_features': 'sqrt', 'min_samples_split': 6, 'n_estimators': 110}\"],[\"{'max_depth': 9, 'max_features': 'sqrt', 'min_samples_split': 6, 'n_estimators': 130}\"],[\"{'max_depth': 9, 'max_features': 'sqrt', 'min_samples_split': 9, 'n_estimators': 50}\"],[\"{'max_depth': 9, 'max_features': 'sqrt', 'min_samples_split': 9, 'n_estimators': 80}\"],[\"{'max_depth': 9, 'max_features': 'sqrt', 'min_samples_split': 9, 'n_estimators': 110}\"],[\"{'max_depth': 9, 'max_features': 'sqrt', 'min_samples_split': 9, 'n_estimators': 130}\"],[\"{'max_depth': 9, 'max_features': 'sqrt', 'min_samples_split': 12, 'n_estimators': 50}\"],[\"{'max_depth': 9, 'max_features': 'sqrt', 'min_samples_split': 12, 'n_estimators': 80}\"],[\"{'max_depth': 9, 'max_features': 'sqrt', 'min_samples_split': 12, 'n_estimators': 110}\"],[\"{'max_depth': 9, 'max_features': 'sqrt', 'min_samples_split': 12, 'n_estimators': 130}\"],[\"{'max_depth': 9, 'max_features': 'log2', 'min_samples_split': 3, 'n_estimators': 50}\"],[\"{'max_depth': 9, 'max_features': 'log2', 'min_samples_split': 3, 'n_estimators': 80}\"],[\"{'max_depth': 9, 'max_features': 'log2', 'min_samples_split': 3, 'n_estimators': 110}\"],[\"{'max_depth': 9, 'max_features': 'log2', 'min_samples_split': 3, 'n_estimators': 130}\"],[\"{'max_depth': 9, 'max_features': 'log2', 'min_samples_split': 6, 'n_estimators': 50}\"],[\"{'max_depth': 9, 'max_features': 'log2', 'min_samples_split': 6, 'n_estimators': 80}\"],[\"{'max_depth': 9, 'max_features': 'log2', 'min_samples_split': 6, 'n_estimators': 110}\"],[\"{'max_depth': 9, 'max_features': 'log2', 'min_samples_split': 6, 'n_estimators': 130}\"],[\"{'max_depth': 9, 'max_features': 'log2', 'min_samples_split': 9, 'n_estimators': 50}\"],[\"{'max_depth': 9, 'max_features': 'log2', 'min_samples_split': 9, 'n_estimators': 80}\"],[\"{'max_depth': 9, 'max_features': 'log2', 'min_samples_split': 9, 'n_estimators': 110}\"],[\"{'max_depth': 9, 'max_features': 'log2', 'min_samples_split': 9, 'n_estimators': 130}\"],[\"{'max_depth': 9, 'max_features': 'log2', 'min_samples_split': 12, 'n_estimators': 50}\"],[\"{'max_depth': 9, 'max_features': 'log2', 'min_samples_split': 12, 'n_estimators': 80}\"],[\"{'max_depth': 9, 'max_features': 'log2', 'min_samples_split': 12, 'n_estimators': 110}\"],[\"{'max_depth': 9, 'max_features': 'log2', 'min_samples_split': 12, 'n_estimators': 130}\"]],\"error_y\":{\"array\":[0.05241647408627221,0.04476794441395241,0.03887589740439009,0.0429463947889412,0.03855373222107141,0.044871491285107014,0.046024476762240335,0.03934407355787666,0.03819227057734822,0.047613659147660595,0.040955150278645665,0.04996638367756967,0.040149601172563845,0.042328908578492204,0.037808391410332154,0.05270162573399247,0.03866595508170974,0.03944754475433958,0.0457994857062259,0.053542780651578054,0.05560537581185512,0.04038396806363853,0.041969128329295925,0.045386316099937936,0.05088432117319509,0.04220361457684469,0.041994345283355085,0.04346791587161701,0.054348266556305355,0.04505774673305312,0.04447538932319158,0.04473981081313918,0.03860383890962422,0.03413895963143164,0.03137467492618578,0.023112232562634172,0.02886038833282322,0.02499454388145302,0.03976507645724337,0.032151405942862046,0.028795008331619725,0.03486151595055279,0.035290333746430126,0.026641280136196592,0.04042304290574785,0.02994137812401848,0.034823869913801354,0.02314139454030048,0.025206824239223196,0.026741026218319412,0.027685930764129035,0.02138046347068943,0.029190394267886086,0.029515667333487133,0.02858039551525047,0.03165927185030563,0.03135804377105953,0.03660330130015096,0.02890870444965562,0.03190202987796126,0.029258163455805997,0.030945258982564276,0.026027315064902436,0.02983161321086239,0.013840397672869322,0.019038380771832317,0.01763653429050499,0.018934034411453044,0.01739021932466241,0.014999834274888922,0.015347933418104798,0.016835486488207596,0.019814562774030632,0.017467590571016916,0.01857949052858892,0.0186895682481454,0.023772303314185887,0.014438967433331125,0.01451794046271806,0.01208844836818234,0.028344643134577845,0.017834736051932604,0.017317663212820616,0.022713259305975262,0.028234744048697847,0.021869937696038462,0.02236934070647553,0.011287194249708815,0.01363874570242949,0.015256734687057719,0.015825644244096028,0.017249947939453204,0.018402167047956306,0.011457973188306991,0.008707402179548813,0.018997565612583683]},\"hovertemplate\":\"<b>%{hovertext}</b><br><br>type=train<br>Params=%{x}<br>Average f1=%{y}<br>params=%{customdata[0]}<extra></extra>\",\"hovertext\":[\"{'max_depth': 3, 'max_features': 'sqrt', 'min_samples_split': 3, 'n_estimators': 50}\",\"{'max_depth': 3, 'max_features': 'sqrt', 'min_samples_split': 3, 'n_estimators': 80}\",\"{'max_depth': 3, 'max_features': 'sqrt', 'min_samples_split': 3, 'n_estimators': 110}\",\"{'max_depth': 3, 'max_features': 'sqrt', 'min_samples_split': 3, 'n_estimators': 130}\",\"{'max_depth': 3, 'max_features': 'sqrt', 'min_samples_split': 6, 'n_estimators': 50}\",\"{'max_depth': 3, 'max_features': 'sqrt', 'min_samples_split': 6, 'n_estimators': 80}\",\"{'max_depth': 3, 'max_features': 'sqrt', 'min_samples_split': 6, 'n_estimators': 110}\",\"{'max_depth': 3, 'max_features': 'sqrt', 'min_samples_split': 6, 'n_estimators': 130}\",\"{'max_depth': 3, 'max_features': 'sqrt', 'min_samples_split': 9, 'n_estimators': 50}\",\"{'max_depth': 3, 'max_features': 'sqrt', 'min_samples_split': 9, 'n_estimators': 80}\",\"{'max_depth': 3, 'max_features': 'sqrt', 'min_samples_split': 9, 'n_estimators': 110}\",\"{'max_depth': 3, 'max_features': 'sqrt', 'min_samples_split': 9, 'n_estimators': 130}\",\"{'max_depth': 3, 'max_features': 'sqrt', 'min_samples_split': 12, 'n_estimators': 50}\",\"{'max_depth': 3, 'max_features': 'sqrt', 'min_samples_split': 12, 'n_estimators': 80}\",\"{'max_depth': 3, 'max_features': 'sqrt', 'min_samples_split': 12, 'n_estimators': 110}\",\"{'max_depth': 3, 'max_features': 'sqrt', 'min_samples_split': 12, 'n_estimators': 130}\",\"{'max_depth': 3, 'max_features': 'log2', 'min_samples_split': 3, 'n_estimators': 50}\",\"{'max_depth': 3, 'max_features': 'log2', 'min_samples_split': 3, 'n_estimators': 80}\",\"{'max_depth': 3, 'max_features': 'log2', 'min_samples_split': 3, 'n_estimators': 110}\",\"{'max_depth': 3, 'max_features': 'log2', 'min_samples_split': 3, 'n_estimators': 130}\",\"{'max_depth': 3, 'max_features': 'log2', 'min_samples_split': 6, 'n_estimators': 50}\",\"{'max_depth': 3, 'max_features': 'log2', 'min_samples_split': 6, 'n_estimators': 80}\",\"{'max_depth': 3, 'max_features': 'log2', 'min_samples_split': 6, 'n_estimators': 110}\",\"{'max_depth': 3, 'max_features': 'log2', 'min_samples_split': 6, 'n_estimators': 130}\",\"{'max_depth': 3, 'max_features': 'log2', 'min_samples_split': 9, 'n_estimators': 50}\",\"{'max_depth': 3, 'max_features': 'log2', 'min_samples_split': 9, 'n_estimators': 80}\",\"{'max_depth': 3, 'max_features': 'log2', 'min_samples_split': 9, 'n_estimators': 110}\",\"{'max_depth': 3, 'max_features': 'log2', 'min_samples_split': 9, 'n_estimators': 130}\",\"{'max_depth': 3, 'max_features': 'log2', 'min_samples_split': 12, 'n_estimators': 50}\",\"{'max_depth': 3, 'max_features': 'log2', 'min_samples_split': 12, 'n_estimators': 80}\",\"{'max_depth': 3, 'max_features': 'log2', 'min_samples_split': 12, 'n_estimators': 110}\",\"{'max_depth': 3, 'max_features': 'log2', 'min_samples_split': 12, 'n_estimators': 130}\",\"{'max_depth': 6, 'max_features': 'sqrt', 'min_samples_split': 3, 'n_estimators': 50}\",\"{'max_depth': 6, 'max_features': 'sqrt', 'min_samples_split': 3, 'n_estimators': 80}\",\"{'max_depth': 6, 'max_features': 'sqrt', 'min_samples_split': 3, 'n_estimators': 110}\",\"{'max_depth': 6, 'max_features': 'sqrt', 'min_samples_split': 3, 'n_estimators': 130}\",\"{'max_depth': 6, 'max_features': 'sqrt', 'min_samples_split': 6, 'n_estimators': 50}\",\"{'max_depth': 6, 'max_features': 'sqrt', 'min_samples_split': 6, 'n_estimators': 80}\",\"{'max_depth': 6, 'max_features': 'sqrt', 'min_samples_split': 6, 'n_estimators': 110}\",\"{'max_depth': 6, 'max_features': 'sqrt', 'min_samples_split': 6, 'n_estimators': 130}\",\"{'max_depth': 6, 'max_features': 'sqrt', 'min_samples_split': 9, 'n_estimators': 50}\",\"{'max_depth': 6, 'max_features': 'sqrt', 'min_samples_split': 9, 'n_estimators': 80}\",\"{'max_depth': 6, 'max_features': 'sqrt', 'min_samples_split': 9, 'n_estimators': 110}\",\"{'max_depth': 6, 'max_features': 'sqrt', 'min_samples_split': 9, 'n_estimators': 130}\",\"{'max_depth': 6, 'max_features': 'sqrt', 'min_samples_split': 12, 'n_estimators': 50}\",\"{'max_depth': 6, 'max_features': 'sqrt', 'min_samples_split': 12, 'n_estimators': 80}\",\"{'max_depth': 6, 'max_features': 'sqrt', 'min_samples_split': 12, 'n_estimators': 110}\",\"{'max_depth': 6, 'max_features': 'sqrt', 'min_samples_split': 12, 'n_estimators': 130}\",\"{'max_depth': 6, 'max_features': 'log2', 'min_samples_split': 3, 'n_estimators': 50}\",\"{'max_depth': 6, 'max_features': 'log2', 'min_samples_split': 3, 'n_estimators': 80}\",\"{'max_depth': 6, 'max_features': 'log2', 'min_samples_split': 3, 'n_estimators': 110}\",\"{'max_depth': 6, 'max_features': 'log2', 'min_samples_split': 3, 'n_estimators': 130}\",\"{'max_depth': 6, 'max_features': 'log2', 'min_samples_split': 6, 'n_estimators': 50}\",\"{'max_depth': 6, 'max_features': 'log2', 'min_samples_split': 6, 'n_estimators': 80}\",\"{'max_depth': 6, 'max_features': 'log2', 'min_samples_split': 6, 'n_estimators': 110}\",\"{'max_depth': 6, 'max_features': 'log2', 'min_samples_split': 6, 'n_estimators': 130}\",\"{'max_depth': 6, 'max_features': 'log2', 'min_samples_split': 9, 'n_estimators': 50}\",\"{'max_depth': 6, 'max_features': 'log2', 'min_samples_split': 9, 'n_estimators': 80}\",\"{'max_depth': 6, 'max_features': 'log2', 'min_samples_split': 9, 'n_estimators': 110}\",\"{'max_depth': 6, 'max_features': 'log2', 'min_samples_split': 9, 'n_estimators': 130}\",\"{'max_depth': 6, 'max_features': 'log2', 'min_samples_split': 12, 'n_estimators': 50}\",\"{'max_depth': 6, 'max_features': 'log2', 'min_samples_split': 12, 'n_estimators': 80}\",\"{'max_depth': 6, 'max_features': 'log2', 'min_samples_split': 12, 'n_estimators': 110}\",\"{'max_depth': 6, 'max_features': 'log2', 'min_samples_split': 12, 'n_estimators': 130}\",\"{'max_depth': 9, 'max_features': 'sqrt', 'min_samples_split': 3, 'n_estimators': 50}\",\"{'max_depth': 9, 'max_features': 'sqrt', 'min_samples_split': 3, 'n_estimators': 80}\",\"{'max_depth': 9, 'max_features': 'sqrt', 'min_samples_split': 3, 'n_estimators': 110}\",\"{'max_depth': 9, 'max_features': 'sqrt', 'min_samples_split': 3, 'n_estimators': 130}\",\"{'max_depth': 9, 'max_features': 'sqrt', 'min_samples_split': 6, 'n_estimators': 50}\",\"{'max_depth': 9, 'max_features': 'sqrt', 'min_samples_split': 6, 'n_estimators': 80}\",\"{'max_depth': 9, 'max_features': 'sqrt', 'min_samples_split': 6, 'n_estimators': 110}\",\"{'max_depth': 9, 'max_features': 'sqrt', 'min_samples_split': 6, 'n_estimators': 130}\",\"{'max_depth': 9, 'max_features': 'sqrt', 'min_samples_split': 9, 'n_estimators': 50}\",\"{'max_depth': 9, 'max_features': 'sqrt', 'min_samples_split': 9, 'n_estimators': 80}\",\"{'max_depth': 9, 'max_features': 'sqrt', 'min_samples_split': 9, 'n_estimators': 110}\",\"{'max_depth': 9, 'max_features': 'sqrt', 'min_samples_split': 9, 'n_estimators': 130}\",\"{'max_depth': 9, 'max_features': 'sqrt', 'min_samples_split': 12, 'n_estimators': 50}\",\"{'max_depth': 9, 'max_features': 'sqrt', 'min_samples_split': 12, 'n_estimators': 80}\",\"{'max_depth': 9, 'max_features': 'sqrt', 'min_samples_split': 12, 'n_estimators': 110}\",\"{'max_depth': 9, 'max_features': 'sqrt', 'min_samples_split': 12, 'n_estimators': 130}\",\"{'max_depth': 9, 'max_features': 'log2', 'min_samples_split': 3, 'n_estimators': 50}\",\"{'max_depth': 9, 'max_features': 'log2', 'min_samples_split': 3, 'n_estimators': 80}\",\"{'max_depth': 9, 'max_features': 'log2', 'min_samples_split': 3, 'n_estimators': 110}\",\"{'max_depth': 9, 'max_features': 'log2', 'min_samples_split': 3, 'n_estimators': 130}\",\"{'max_depth': 9, 'max_features': 'log2', 'min_samples_split': 6, 'n_estimators': 50}\",\"{'max_depth': 9, 'max_features': 'log2', 'min_samples_split': 6, 'n_estimators': 80}\",\"{'max_depth': 9, 'max_features': 'log2', 'min_samples_split': 6, 'n_estimators': 110}\",\"{'max_depth': 9, 'max_features': 'log2', 'min_samples_split': 6, 'n_estimators': 130}\",\"{'max_depth': 9, 'max_features': 'log2', 'min_samples_split': 9, 'n_estimators': 50}\",\"{'max_depth': 9, 'max_features': 'log2', 'min_samples_split': 9, 'n_estimators': 80}\",\"{'max_depth': 9, 'max_features': 'log2', 'min_samples_split': 9, 'n_estimators': 110}\",\"{'max_depth': 9, 'max_features': 'log2', 'min_samples_split': 9, 'n_estimators': 130}\",\"{'max_depth': 9, 'max_features': 'log2', 'min_samples_split': 12, 'n_estimators': 50}\",\"{'max_depth': 9, 'max_features': 'log2', 'min_samples_split': 12, 'n_estimators': 80}\",\"{'max_depth': 9, 'max_features': 'log2', 'min_samples_split': 12, 'n_estimators': 110}\",\"{'max_depth': 9, 'max_features': 'log2', 'min_samples_split': 12, 'n_estimators': 130}\"],\"legendgroup\":\"train\",\"marker\":{\"color\":\"#EF553B\",\"pattern\":{\"shape\":\"\"}},\"name\":\"train\",\"offsetgroup\":\"train\",\"orientation\":\"v\",\"showlegend\":true,\"textposition\":\"auto\",\"type\":\"bar\",\"x\":[0,1,2,3,4,5,6,7,8,9,10,11,12,13,14,15,16,17,18,19,20,21,22,23,24,25,26,27,28,29,30,31,32,33,34,35,36,37,38,39,40,41,42,43,44,45,46,47,48,49,50,51,52,53,54,55,56,57,58,59,60,61,62,63,64,65,66,67,68,69,70,71,72,73,74,75,76,77,78,79,80,81,82,83,84,85,86,87,88,89,90,91,92,93,94,95],\"xaxis\":\"x\",\"y\":[0.2119589766647707,0.1973508471692904,0.19977297362271185,0.20620590381855775,0.19794734730496116,0.21400530717977798,0.20826214554198647,0.1973229919600254,0.1908281022347209,0.2055365506998829,0.20760469841225376,0.20707989041362268,0.20424544656610744,0.2016291395289927,0.19527328758445775,0.20660414199046312,0.20973437516949503,0.19937014112636345,0.2044929066347852,0.21538621969258337,0.20006547756300738,0.1962658062041231,0.2010556783942679,0.20056081463925968,0.21785344985925154,0.20785026234727103,0.20531251363528685,0.2066869398441052,0.2066840236793614,0.19901136915686007,0.20252993150434043,0.20751047294822017,0.43081922504226783,0.4330260780257185,0.42412755131313096,0.4354409597823709,0.43373766367346417,0.42470973765317543,0.43278946186724837,0.42853537464245123,0.4227310119484119,0.4193255114980487,0.42577061917933295,0.4332311250373765,0.42093114652542835,0.41294289486753255,0.4316856622599362,0.43226468747334296,0.44154832086590057,0.4339108930121183,0.43680600493610466,0.4371498288416193,0.42648231997904523,0.43791075850465927,0.43146564804242915,0.4314318234111189,0.42881130622629693,0.4315398976916325,0.4289254455665499,0.42660202498694194,0.4361879753190857,0.4252908204972069,0.43031100211964013,0.4280488351162105,0.6152229875334309,0.6152381929065347,0.6218271955943886,0.6154476005081884,0.5966898540288396,0.6035871755049952,0.601467391696459,0.6026471119997232,0.5777319783895498,0.5812047731717793,0.5917048300559806,0.5838174510404811,0.5712295708736457,0.5704499150037992,0.5739643711886349,0.5786717645566102,0.6115713311595029,0.6121181039756707,0.6167813988106173,0.6114516766529878,0.5992795064769534,0.6049964418665003,0.5981207344384288,0.6029906351082166,0.5852601650015965,0.5865463735986555,0.5894093929123103,0.5856209335646457,0.5754369657307978,0.5826539658616448,0.5891654195641702,0.5792371624717257],\"yaxis\":\"y\"}],                        {\"barmode\":\"group\",\"legend\":{\"title\":{\"text\":\"type\"},\"tracegroupgap\":0},\"template\":{\"data\":{\"bar\":[{\"error_x\":{\"color\":\"#2a3f5f\"},\"error_y\":{\"color\":\"#2a3f5f\"},\"marker\":{\"line\":{\"color\":\"#E5ECF6\",\"width\":0.5},\"pattern\":{\"fillmode\":\"overlay\",\"size\":10,\"solidity\":0.2}},\"type\":\"bar\"}],\"barpolar\":[{\"marker\":{\"line\":{\"color\":\"#E5ECF6\",\"width\":0.5},\"pattern\":{\"fillmode\":\"overlay\",\"size\":10,\"solidity\":0.2}},\"type\":\"barpolar\"}],\"carpet\":[{\"aaxis\":{\"endlinecolor\":\"#2a3f5f\",\"gridcolor\":\"white\",\"linecolor\":\"white\",\"minorgridcolor\":\"white\",\"startlinecolor\":\"#2a3f5f\"},\"baxis\":{\"endlinecolor\":\"#2a3f5f\",\"gridcolor\":\"white\",\"linecolor\":\"white\",\"minorgridcolor\":\"white\",\"startlinecolor\":\"#2a3f5f\"},\"type\":\"carpet\"}],\"choropleth\":[{\"colorbar\":{\"outlinewidth\":0,\"ticks\":\"\"},\"type\":\"choropleth\"}],\"contour\":[{\"colorbar\":{\"outlinewidth\":0,\"ticks\":\"\"},\"colorscale\":[[0.0,\"#0d0887\"],[0.1111111111111111,\"#46039f\"],[0.2222222222222222,\"#7201a8\"],[0.3333333333333333,\"#9c179e\"],[0.4444444444444444,\"#bd3786\"],[0.5555555555555556,\"#d8576b\"],[0.6666666666666666,\"#ed7953\"],[0.7777777777777778,\"#fb9f3a\"],[0.8888888888888888,\"#fdca26\"],[1.0,\"#f0f921\"]],\"type\":\"contour\"}],\"contourcarpet\":[{\"colorbar\":{\"outlinewidth\":0,\"ticks\":\"\"},\"type\":\"contourcarpet\"}],\"heatmap\":[{\"colorbar\":{\"outlinewidth\":0,\"ticks\":\"\"},\"colorscale\":[[0.0,\"#0d0887\"],[0.1111111111111111,\"#46039f\"],[0.2222222222222222,\"#7201a8\"],[0.3333333333333333,\"#9c179e\"],[0.4444444444444444,\"#bd3786\"],[0.5555555555555556,\"#d8576b\"],[0.6666666666666666,\"#ed7953\"],[0.7777777777777778,\"#fb9f3a\"],[0.8888888888888888,\"#fdca26\"],[1.0,\"#f0f921\"]],\"type\":\"heatmap\"}],\"heatmapgl\":[{\"colorbar\":{\"outlinewidth\":0,\"ticks\":\"\"},\"colorscale\":[[0.0,\"#0d0887\"],[0.1111111111111111,\"#46039f\"],[0.2222222222222222,\"#7201a8\"],[0.3333333333333333,\"#9c179e\"],[0.4444444444444444,\"#bd3786\"],[0.5555555555555556,\"#d8576b\"],[0.6666666666666666,\"#ed7953\"],[0.7777777777777778,\"#fb9f3a\"],[0.8888888888888888,\"#fdca26\"],[1.0,\"#f0f921\"]],\"type\":\"heatmapgl\"}],\"histogram\":[{\"marker\":{\"pattern\":{\"fillmode\":\"overlay\",\"size\":10,\"solidity\":0.2}},\"type\":\"histogram\"}],\"histogram2d\":[{\"colorbar\":{\"outlinewidth\":0,\"ticks\":\"\"},\"colorscale\":[[0.0,\"#0d0887\"],[0.1111111111111111,\"#46039f\"],[0.2222222222222222,\"#7201a8\"],[0.3333333333333333,\"#9c179e\"],[0.4444444444444444,\"#bd3786\"],[0.5555555555555556,\"#d8576b\"],[0.6666666666666666,\"#ed7953\"],[0.7777777777777778,\"#fb9f3a\"],[0.8888888888888888,\"#fdca26\"],[1.0,\"#f0f921\"]],\"type\":\"histogram2d\"}],\"histogram2dcontour\":[{\"colorbar\":{\"outlinewidth\":0,\"ticks\":\"\"},\"colorscale\":[[0.0,\"#0d0887\"],[0.1111111111111111,\"#46039f\"],[0.2222222222222222,\"#7201a8\"],[0.3333333333333333,\"#9c179e\"],[0.4444444444444444,\"#bd3786\"],[0.5555555555555556,\"#d8576b\"],[0.6666666666666666,\"#ed7953\"],[0.7777777777777778,\"#fb9f3a\"],[0.8888888888888888,\"#fdca26\"],[1.0,\"#f0f921\"]],\"type\":\"histogram2dcontour\"}],\"mesh3d\":[{\"colorbar\":{\"outlinewidth\":0,\"ticks\":\"\"},\"type\":\"mesh3d\"}],\"parcoords\":[{\"line\":{\"colorbar\":{\"outlinewidth\":0,\"ticks\":\"\"}},\"type\":\"parcoords\"}],\"pie\":[{\"automargin\":true,\"type\":\"pie\"}],\"scatter\":[{\"marker\":{\"colorbar\":{\"outlinewidth\":0,\"ticks\":\"\"}},\"type\":\"scatter\"}],\"scatter3d\":[{\"line\":{\"colorbar\":{\"outlinewidth\":0,\"ticks\":\"\"}},\"marker\":{\"colorbar\":{\"outlinewidth\":0,\"ticks\":\"\"}},\"type\":\"scatter3d\"}],\"scattercarpet\":[{\"marker\":{\"colorbar\":{\"outlinewidth\":0,\"ticks\":\"\"}},\"type\":\"scattercarpet\"}],\"scattergeo\":[{\"marker\":{\"colorbar\":{\"outlinewidth\":0,\"ticks\":\"\"}},\"type\":\"scattergeo\"}],\"scattergl\":[{\"marker\":{\"colorbar\":{\"outlinewidth\":0,\"ticks\":\"\"}},\"type\":\"scattergl\"}],\"scattermapbox\":[{\"marker\":{\"colorbar\":{\"outlinewidth\":0,\"ticks\":\"\"}},\"type\":\"scattermapbox\"}],\"scatterpolar\":[{\"marker\":{\"colorbar\":{\"outlinewidth\":0,\"ticks\":\"\"}},\"type\":\"scatterpolar\"}],\"scatterpolargl\":[{\"marker\":{\"colorbar\":{\"outlinewidth\":0,\"ticks\":\"\"}},\"type\":\"scatterpolargl\"}],\"scatterternary\":[{\"marker\":{\"colorbar\":{\"outlinewidth\":0,\"ticks\":\"\"}},\"type\":\"scatterternary\"}],\"surface\":[{\"colorbar\":{\"outlinewidth\":0,\"ticks\":\"\"},\"colorscale\":[[0.0,\"#0d0887\"],[0.1111111111111111,\"#46039f\"],[0.2222222222222222,\"#7201a8\"],[0.3333333333333333,\"#9c179e\"],[0.4444444444444444,\"#bd3786\"],[0.5555555555555556,\"#d8576b\"],[0.6666666666666666,\"#ed7953\"],[0.7777777777777778,\"#fb9f3a\"],[0.8888888888888888,\"#fdca26\"],[1.0,\"#f0f921\"]],\"type\":\"surface\"}],\"table\":[{\"cells\":{\"fill\":{\"color\":\"#EBF0F8\"},\"line\":{\"color\":\"white\"}},\"header\":{\"fill\":{\"color\":\"#C8D4E3\"},\"line\":{\"color\":\"white\"}},\"type\":\"table\"}]},\"layout\":{\"annotationdefaults\":{\"arrowcolor\":\"#2a3f5f\",\"arrowhead\":0,\"arrowwidth\":1},\"autotypenumbers\":\"strict\",\"coloraxis\":{\"colorbar\":{\"outlinewidth\":0,\"ticks\":\"\"}},\"colorscale\":{\"diverging\":[[0,\"#8e0152\"],[0.1,\"#c51b7d\"],[0.2,\"#de77ae\"],[0.3,\"#f1b6da\"],[0.4,\"#fde0ef\"],[0.5,\"#f7f7f7\"],[0.6,\"#e6f5d0\"],[0.7,\"#b8e186\"],[0.8,\"#7fbc41\"],[0.9,\"#4d9221\"],[1,\"#276419\"]],\"sequential\":[[0.0,\"#0d0887\"],[0.1111111111111111,\"#46039f\"],[0.2222222222222222,\"#7201a8\"],[0.3333333333333333,\"#9c179e\"],[0.4444444444444444,\"#bd3786\"],[0.5555555555555556,\"#d8576b\"],[0.6666666666666666,\"#ed7953\"],[0.7777777777777778,\"#fb9f3a\"],[0.8888888888888888,\"#fdca26\"],[1.0,\"#f0f921\"]],\"sequentialminus\":[[0.0,\"#0d0887\"],[0.1111111111111111,\"#46039f\"],[0.2222222222222222,\"#7201a8\"],[0.3333333333333333,\"#9c179e\"],[0.4444444444444444,\"#bd3786\"],[0.5555555555555556,\"#d8576b\"],[0.6666666666666666,\"#ed7953\"],[0.7777777777777778,\"#fb9f3a\"],[0.8888888888888888,\"#fdca26\"],[1.0,\"#f0f921\"]]},\"colorway\":[\"#636efa\",\"#EF553B\",\"#00cc96\",\"#ab63fa\",\"#FFA15A\",\"#19d3f3\",\"#FF6692\",\"#B6E880\",\"#FF97FF\",\"#FECB52\"],\"font\":{\"color\":\"#2a3f5f\"},\"geo\":{\"bgcolor\":\"white\",\"lakecolor\":\"white\",\"landcolor\":\"#E5ECF6\",\"showlakes\":true,\"showland\":true,\"subunitcolor\":\"white\"},\"hoverlabel\":{\"align\":\"left\"},\"hovermode\":\"closest\",\"mapbox\":{\"style\":\"light\"},\"paper_bgcolor\":\"white\",\"plot_bgcolor\":\"#E5ECF6\",\"polar\":{\"angularaxis\":{\"gridcolor\":\"white\",\"linecolor\":\"white\",\"ticks\":\"\"},\"bgcolor\":\"#E5ECF6\",\"radialaxis\":{\"gridcolor\":\"white\",\"linecolor\":\"white\",\"ticks\":\"\"}},\"scene\":{\"xaxis\":{\"backgroundcolor\":\"#E5ECF6\",\"gridcolor\":\"white\",\"gridwidth\":2,\"linecolor\":\"white\",\"showbackground\":true,\"ticks\":\"\",\"zerolinecolor\":\"white\"},\"yaxis\":{\"backgroundcolor\":\"#E5ECF6\",\"gridcolor\":\"white\",\"gridwidth\":2,\"linecolor\":\"white\",\"showbackground\":true,\"ticks\":\"\",\"zerolinecolor\":\"white\"},\"zaxis\":{\"backgroundcolor\":\"#E5ECF6\",\"gridcolor\":\"white\",\"gridwidth\":2,\"linecolor\":\"white\",\"showbackground\":true,\"ticks\":\"\",\"zerolinecolor\":\"white\"}},\"shapedefaults\":{\"line\":{\"color\":\"#2a3f5f\"}},\"ternary\":{\"aaxis\":{\"gridcolor\":\"white\",\"linecolor\":\"white\",\"ticks\":\"\"},\"baxis\":{\"gridcolor\":\"white\",\"linecolor\":\"white\",\"ticks\":\"\"},\"bgcolor\":\"#E5ECF6\",\"caxis\":{\"gridcolor\":\"white\",\"linecolor\":\"white\",\"ticks\":\"\"}},\"title\":{\"x\":0.05},\"xaxis\":{\"automargin\":true,\"gridcolor\":\"white\",\"linecolor\":\"white\",\"ticks\":\"\",\"title\":{\"standoff\":15},\"zerolinecolor\":\"white\",\"zerolinewidth\":2},\"yaxis\":{\"automargin\":true,\"gridcolor\":\"white\",\"linecolor\":\"white\",\"ticks\":\"\",\"title\":{\"standoff\":15},\"zerolinecolor\":\"white\",\"zerolinewidth\":2}}},\"title\":{\"text\":\"Mean f1 score on testing and training set for each parameter combination <br> (Model: RandomForest Classifier, Dataset: Mean imputation subset selection for individuals with 2 or 3 MV)\"},\"xaxis\":{\"anchor\":\"y\",\"domain\":[0.0,1.0],\"title\":{\"text\":\"Params\"}},\"yaxis\":{\"anchor\":\"x\",\"domain\":[0.0,1.0],\"title\":{\"text\":\"Average f1\"}}},                        {\"responsive\": true}                    ).then(function(){\n                            \nvar gd = document.getElementById('dc5b1744-9e14-495d-a7bb-bcc1c49f9135');\nvar x = new MutationObserver(function (mutations, observer) {{\n        var display = window.getComputedStyle(gd).display;\n        if (!display || display === 'none') {{\n            console.log([gd, 'removed!']);\n            Plotly.purge(gd);\n            observer.disconnect();\n        }}\n}});\n\n// Listen for the removal of the full notebook cells\nvar notebookContainer = gd.closest('#notebook-container');\nif (notebookContainer) {{\n    x.observe(notebookContainer, {childList: true});\n}}\n\n// Listen for the clearing of the current output cell\nvar outputEl = gd.closest('.output');\nif (outputEl) {{\n    x.observe(outputEl, {childList: true});\n}}\n\n                        })                };                });            </script>        </div>"
     },
     "metadata": {},
     "output_type": "display_data"
    }
   ],
   "source": [
    "stats = computeModelStats(model, stats, mean_accurracy_2_3_missing_values_subset_selection, pgrid)"
   ],
   "metadata": {
    "collapsed": false,
    "pycharm": {
     "name": "#%%\n"
    }
   }
  },
  {
   "cell_type": "code",
   "execution_count": 84,
   "outputs": [
    {
     "name": "stdout",
     "output_type": "stream",
     "text": [
      "Fitting 5 folds for each of 96 candidates, totalling 480 fits\n"
     ]
    },
    {
     "data": {
      "application/vnd.plotly.v1+json": {
       "config": {
        "plotlyServerURL": "https://plotly.com"
       },
       "data": [
        {
         "alignmentgroup": "True",
         "customdata": [
          [
           "{'max_depth': 3, 'max_features': 'sqrt', 'min_samples_split': 3, 'n_estimators': 50}"
          ],
          [
           "{'max_depth': 3, 'max_features': 'sqrt', 'min_samples_split': 3, 'n_estimators': 80}"
          ],
          [
           "{'max_depth': 3, 'max_features': 'sqrt', 'min_samples_split': 3, 'n_estimators': 110}"
          ],
          [
           "{'max_depth': 3, 'max_features': 'sqrt', 'min_samples_split': 3, 'n_estimators': 130}"
          ],
          [
           "{'max_depth': 3, 'max_features': 'sqrt', 'min_samples_split': 6, 'n_estimators': 50}"
          ],
          [
           "{'max_depth': 3, 'max_features': 'sqrt', 'min_samples_split': 6, 'n_estimators': 80}"
          ],
          [
           "{'max_depth': 3, 'max_features': 'sqrt', 'min_samples_split': 6, 'n_estimators': 110}"
          ],
          [
           "{'max_depth': 3, 'max_features': 'sqrt', 'min_samples_split': 6, 'n_estimators': 130}"
          ],
          [
           "{'max_depth': 3, 'max_features': 'sqrt', 'min_samples_split': 9, 'n_estimators': 50}"
          ],
          [
           "{'max_depth': 3, 'max_features': 'sqrt', 'min_samples_split': 9, 'n_estimators': 80}"
          ],
          [
           "{'max_depth': 3, 'max_features': 'sqrt', 'min_samples_split': 9, 'n_estimators': 110}"
          ],
          [
           "{'max_depth': 3, 'max_features': 'sqrt', 'min_samples_split': 9, 'n_estimators': 130}"
          ],
          [
           "{'max_depth': 3, 'max_features': 'sqrt', 'min_samples_split': 12, 'n_estimators': 50}"
          ],
          [
           "{'max_depth': 3, 'max_features': 'sqrt', 'min_samples_split': 12, 'n_estimators': 80}"
          ],
          [
           "{'max_depth': 3, 'max_features': 'sqrt', 'min_samples_split': 12, 'n_estimators': 110}"
          ],
          [
           "{'max_depth': 3, 'max_features': 'sqrt', 'min_samples_split': 12, 'n_estimators': 130}"
          ],
          [
           "{'max_depth': 3, 'max_features': 'log2', 'min_samples_split': 3, 'n_estimators': 50}"
          ],
          [
           "{'max_depth': 3, 'max_features': 'log2', 'min_samples_split': 3, 'n_estimators': 80}"
          ],
          [
           "{'max_depth': 3, 'max_features': 'log2', 'min_samples_split': 3, 'n_estimators': 110}"
          ],
          [
           "{'max_depth': 3, 'max_features': 'log2', 'min_samples_split': 3, 'n_estimators': 130}"
          ],
          [
           "{'max_depth': 3, 'max_features': 'log2', 'min_samples_split': 6, 'n_estimators': 50}"
          ],
          [
           "{'max_depth': 3, 'max_features': 'log2', 'min_samples_split': 6, 'n_estimators': 80}"
          ],
          [
           "{'max_depth': 3, 'max_features': 'log2', 'min_samples_split': 6, 'n_estimators': 110}"
          ],
          [
           "{'max_depth': 3, 'max_features': 'log2', 'min_samples_split': 6, 'n_estimators': 130}"
          ],
          [
           "{'max_depth': 3, 'max_features': 'log2', 'min_samples_split': 9, 'n_estimators': 50}"
          ],
          [
           "{'max_depth': 3, 'max_features': 'log2', 'min_samples_split': 9, 'n_estimators': 80}"
          ],
          [
           "{'max_depth': 3, 'max_features': 'log2', 'min_samples_split': 9, 'n_estimators': 110}"
          ],
          [
           "{'max_depth': 3, 'max_features': 'log2', 'min_samples_split': 9, 'n_estimators': 130}"
          ],
          [
           "{'max_depth': 3, 'max_features': 'log2', 'min_samples_split': 12, 'n_estimators': 50}"
          ],
          [
           "{'max_depth': 3, 'max_features': 'log2', 'min_samples_split': 12, 'n_estimators': 80}"
          ],
          [
           "{'max_depth': 3, 'max_features': 'log2', 'min_samples_split': 12, 'n_estimators': 110}"
          ],
          [
           "{'max_depth': 3, 'max_features': 'log2', 'min_samples_split': 12, 'n_estimators': 130}"
          ],
          [
           "{'max_depth': 6, 'max_features': 'sqrt', 'min_samples_split': 3, 'n_estimators': 50}"
          ],
          [
           "{'max_depth': 6, 'max_features': 'sqrt', 'min_samples_split': 3, 'n_estimators': 80}"
          ],
          [
           "{'max_depth': 6, 'max_features': 'sqrt', 'min_samples_split': 3, 'n_estimators': 110}"
          ],
          [
           "{'max_depth': 6, 'max_features': 'sqrt', 'min_samples_split': 3, 'n_estimators': 130}"
          ],
          [
           "{'max_depth': 6, 'max_features': 'sqrt', 'min_samples_split': 6, 'n_estimators': 50}"
          ],
          [
           "{'max_depth': 6, 'max_features': 'sqrt', 'min_samples_split': 6, 'n_estimators': 80}"
          ],
          [
           "{'max_depth': 6, 'max_features': 'sqrt', 'min_samples_split': 6, 'n_estimators': 110}"
          ],
          [
           "{'max_depth': 6, 'max_features': 'sqrt', 'min_samples_split': 6, 'n_estimators': 130}"
          ],
          [
           "{'max_depth': 6, 'max_features': 'sqrt', 'min_samples_split': 9, 'n_estimators': 50}"
          ],
          [
           "{'max_depth': 6, 'max_features': 'sqrt', 'min_samples_split': 9, 'n_estimators': 80}"
          ],
          [
           "{'max_depth': 6, 'max_features': 'sqrt', 'min_samples_split': 9, 'n_estimators': 110}"
          ],
          [
           "{'max_depth': 6, 'max_features': 'sqrt', 'min_samples_split': 9, 'n_estimators': 130}"
          ],
          [
           "{'max_depth': 6, 'max_features': 'sqrt', 'min_samples_split': 12, 'n_estimators': 50}"
          ],
          [
           "{'max_depth': 6, 'max_features': 'sqrt', 'min_samples_split': 12, 'n_estimators': 80}"
          ],
          [
           "{'max_depth': 6, 'max_features': 'sqrt', 'min_samples_split': 12, 'n_estimators': 110}"
          ],
          [
           "{'max_depth': 6, 'max_features': 'sqrt', 'min_samples_split': 12, 'n_estimators': 130}"
          ],
          [
           "{'max_depth': 6, 'max_features': 'log2', 'min_samples_split': 3, 'n_estimators': 50}"
          ],
          [
           "{'max_depth': 6, 'max_features': 'log2', 'min_samples_split': 3, 'n_estimators': 80}"
          ],
          [
           "{'max_depth': 6, 'max_features': 'log2', 'min_samples_split': 3, 'n_estimators': 110}"
          ],
          [
           "{'max_depth': 6, 'max_features': 'log2', 'min_samples_split': 3, 'n_estimators': 130}"
          ],
          [
           "{'max_depth': 6, 'max_features': 'log2', 'min_samples_split': 6, 'n_estimators': 50}"
          ],
          [
           "{'max_depth': 6, 'max_features': 'log2', 'min_samples_split': 6, 'n_estimators': 80}"
          ],
          [
           "{'max_depth': 6, 'max_features': 'log2', 'min_samples_split': 6, 'n_estimators': 110}"
          ],
          [
           "{'max_depth': 6, 'max_features': 'log2', 'min_samples_split': 6, 'n_estimators': 130}"
          ],
          [
           "{'max_depth': 6, 'max_features': 'log2', 'min_samples_split': 9, 'n_estimators': 50}"
          ],
          [
           "{'max_depth': 6, 'max_features': 'log2', 'min_samples_split': 9, 'n_estimators': 80}"
          ],
          [
           "{'max_depth': 6, 'max_features': 'log2', 'min_samples_split': 9, 'n_estimators': 110}"
          ],
          [
           "{'max_depth': 6, 'max_features': 'log2', 'min_samples_split': 9, 'n_estimators': 130}"
          ],
          [
           "{'max_depth': 6, 'max_features': 'log2', 'min_samples_split': 12, 'n_estimators': 50}"
          ],
          [
           "{'max_depth': 6, 'max_features': 'log2', 'min_samples_split': 12, 'n_estimators': 80}"
          ],
          [
           "{'max_depth': 6, 'max_features': 'log2', 'min_samples_split': 12, 'n_estimators': 110}"
          ],
          [
           "{'max_depth': 6, 'max_features': 'log2', 'min_samples_split': 12, 'n_estimators': 130}"
          ],
          [
           "{'max_depth': 9, 'max_features': 'sqrt', 'min_samples_split': 3, 'n_estimators': 50}"
          ],
          [
           "{'max_depth': 9, 'max_features': 'sqrt', 'min_samples_split': 3, 'n_estimators': 80}"
          ],
          [
           "{'max_depth': 9, 'max_features': 'sqrt', 'min_samples_split': 3, 'n_estimators': 110}"
          ],
          [
           "{'max_depth': 9, 'max_features': 'sqrt', 'min_samples_split': 3, 'n_estimators': 130}"
          ],
          [
           "{'max_depth': 9, 'max_features': 'sqrt', 'min_samples_split': 6, 'n_estimators': 50}"
          ],
          [
           "{'max_depth': 9, 'max_features': 'sqrt', 'min_samples_split': 6, 'n_estimators': 80}"
          ],
          [
           "{'max_depth': 9, 'max_features': 'sqrt', 'min_samples_split': 6, 'n_estimators': 110}"
          ],
          [
           "{'max_depth': 9, 'max_features': 'sqrt', 'min_samples_split': 6, 'n_estimators': 130}"
          ],
          [
           "{'max_depth': 9, 'max_features': 'sqrt', 'min_samples_split': 9, 'n_estimators': 50}"
          ],
          [
           "{'max_depth': 9, 'max_features': 'sqrt', 'min_samples_split': 9, 'n_estimators': 80}"
          ],
          [
           "{'max_depth': 9, 'max_features': 'sqrt', 'min_samples_split': 9, 'n_estimators': 110}"
          ],
          [
           "{'max_depth': 9, 'max_features': 'sqrt', 'min_samples_split': 9, 'n_estimators': 130}"
          ],
          [
           "{'max_depth': 9, 'max_features': 'sqrt', 'min_samples_split': 12, 'n_estimators': 50}"
          ],
          [
           "{'max_depth': 9, 'max_features': 'sqrt', 'min_samples_split': 12, 'n_estimators': 80}"
          ],
          [
           "{'max_depth': 9, 'max_features': 'sqrt', 'min_samples_split': 12, 'n_estimators': 110}"
          ],
          [
           "{'max_depth': 9, 'max_features': 'sqrt', 'min_samples_split': 12, 'n_estimators': 130}"
          ],
          [
           "{'max_depth': 9, 'max_features': 'log2', 'min_samples_split': 3, 'n_estimators': 50}"
          ],
          [
           "{'max_depth': 9, 'max_features': 'log2', 'min_samples_split': 3, 'n_estimators': 80}"
          ],
          [
           "{'max_depth': 9, 'max_features': 'log2', 'min_samples_split': 3, 'n_estimators': 110}"
          ],
          [
           "{'max_depth': 9, 'max_features': 'log2', 'min_samples_split': 3, 'n_estimators': 130}"
          ],
          [
           "{'max_depth': 9, 'max_features': 'log2', 'min_samples_split': 6, 'n_estimators': 50}"
          ],
          [
           "{'max_depth': 9, 'max_features': 'log2', 'min_samples_split': 6, 'n_estimators': 80}"
          ],
          [
           "{'max_depth': 9, 'max_features': 'log2', 'min_samples_split': 6, 'n_estimators': 110}"
          ],
          [
           "{'max_depth': 9, 'max_features': 'log2', 'min_samples_split': 6, 'n_estimators': 130}"
          ],
          [
           "{'max_depth': 9, 'max_features': 'log2', 'min_samples_split': 9, 'n_estimators': 50}"
          ],
          [
           "{'max_depth': 9, 'max_features': 'log2', 'min_samples_split': 9, 'n_estimators': 80}"
          ],
          [
           "{'max_depth': 9, 'max_features': 'log2', 'min_samples_split': 9, 'n_estimators': 110}"
          ],
          [
           "{'max_depth': 9, 'max_features': 'log2', 'min_samples_split': 9, 'n_estimators': 130}"
          ],
          [
           "{'max_depth': 9, 'max_features': 'log2', 'min_samples_split': 12, 'n_estimators': 50}"
          ],
          [
           "{'max_depth': 9, 'max_features': 'log2', 'min_samples_split': 12, 'n_estimators': 80}"
          ],
          [
           "{'max_depth': 9, 'max_features': 'log2', 'min_samples_split': 12, 'n_estimators': 110}"
          ],
          [
           "{'max_depth': 9, 'max_features': 'log2', 'min_samples_split': 12, 'n_estimators': 130}"
          ]
         ],
         "error_y": {
          "array": [
           0.04301566500321152,
           0.0323579015122437,
           0.02443521861760343,
           0.01782404883841695,
           0.0292730487256971,
           0.0184794842315542,
           0.019856058103381063,
           0.02049268708351675,
           0.012766548328401467,
           0.03321608681823612,
           0.024501492765950667,
           0.012766872400589114,
           0.024772807729865124,
           0.014539253509535985,
           0.025541778620754584,
           0.03702410462427731,
           0.017048773105183143,
           0.023288824146056833,
           0.01981808931211486,
           0.017737832575698533,
           0.021339030707261224,
           0.03128459643662254,
           0.022356081656635995,
           0.028855682258989292,
           0.016512496430089802,
           0.03158584175338174,
           0.015733884396303875,
           0.02099887766052695,
           0.03585467451796491,
           0.01782499003746761,
           0.02102178556779449,
           0.030446544731036355,
           0.023443369338576152,
           0.03122668949084056,
           0.029397174067714336,
           0.021246343764115713,
           0.019748884061092573,
           0.02015215948270213,
           0.04268811865499495,
           0.028831267864193884,
           0.02116178320647704,
           0.030730605074075466,
           0.01320034065437256,
           0.03272013698305506,
           0.03982866670424239,
           0.03973170036058674,
           0.036639182358741626,
           0.020317698397218736,
           0.023515700893978798,
           0.02847770907932196,
           0.0197864751437624,
           0.01893217669226877,
           0.018920451719761967,
           0.012770233591216396,
           0.01481215453574758,
           0.03481751887993813,
           0.03270125451741455,
           0.029530090270875973,
           0.03298667668335727,
           0.018692540369302273,
           0.04461058888280014,
           0.03199614122356874,
           0.022006882710426265,
           0.033431542286579234,
           0.0313738664048911,
           0.049296239761176835,
           0.019094911776159813,
           0.03736860855294364,
           0.0366893996317081,
           0.027599912700675005,
           0.02818362691979967,
           0.03706493655244857,
           0.051201890501367114,
           0.028126728703066654,
           0.018969799248765778,
           0.017066709707372243,
           0.022840570681777365,
           0.01598149559984174,
           0.031446500574976874,
           0.02609715010310343,
           0.03127464434594875,
           0.031237583746837144,
           0.027998465874587118,
           0.027936798782021034,
           0.043295598559329795,
           0.02399666433908925,
           0.0312610127343484,
           0.0303809021622763,
           0.027192835949694016,
           0.035793506391022745,
           0.031220196041880383,
           0.032135939019990546,
           0.03048375854788571,
           0.023712457361955555,
           0.02174308228573729,
           0.033227332545141354
          ]
         },
         "hovertemplate": "<b>%{hovertext}</b><br><br>type=test<br>Params=%{x}<br>Average f1=%{y}<br>params=%{customdata[0]}<extra></extra>",
         "hovertext": [
          "{'max_depth': 3, 'max_features': 'sqrt', 'min_samples_split': 3, 'n_estimators': 50}",
          "{'max_depth': 3, 'max_features': 'sqrt', 'min_samples_split': 3, 'n_estimators': 80}",
          "{'max_depth': 3, 'max_features': 'sqrt', 'min_samples_split': 3, 'n_estimators': 110}",
          "{'max_depth': 3, 'max_features': 'sqrt', 'min_samples_split': 3, 'n_estimators': 130}",
          "{'max_depth': 3, 'max_features': 'sqrt', 'min_samples_split': 6, 'n_estimators': 50}",
          "{'max_depth': 3, 'max_features': 'sqrt', 'min_samples_split': 6, 'n_estimators': 80}",
          "{'max_depth': 3, 'max_features': 'sqrt', 'min_samples_split': 6, 'n_estimators': 110}",
          "{'max_depth': 3, 'max_features': 'sqrt', 'min_samples_split': 6, 'n_estimators': 130}",
          "{'max_depth': 3, 'max_features': 'sqrt', 'min_samples_split': 9, 'n_estimators': 50}",
          "{'max_depth': 3, 'max_features': 'sqrt', 'min_samples_split': 9, 'n_estimators': 80}",
          "{'max_depth': 3, 'max_features': 'sqrt', 'min_samples_split': 9, 'n_estimators': 110}",
          "{'max_depth': 3, 'max_features': 'sqrt', 'min_samples_split': 9, 'n_estimators': 130}",
          "{'max_depth': 3, 'max_features': 'sqrt', 'min_samples_split': 12, 'n_estimators': 50}",
          "{'max_depth': 3, 'max_features': 'sqrt', 'min_samples_split': 12, 'n_estimators': 80}",
          "{'max_depth': 3, 'max_features': 'sqrt', 'min_samples_split': 12, 'n_estimators': 110}",
          "{'max_depth': 3, 'max_features': 'sqrt', 'min_samples_split': 12, 'n_estimators': 130}",
          "{'max_depth': 3, 'max_features': 'log2', 'min_samples_split': 3, 'n_estimators': 50}",
          "{'max_depth': 3, 'max_features': 'log2', 'min_samples_split': 3, 'n_estimators': 80}",
          "{'max_depth': 3, 'max_features': 'log2', 'min_samples_split': 3, 'n_estimators': 110}",
          "{'max_depth': 3, 'max_features': 'log2', 'min_samples_split': 3, 'n_estimators': 130}",
          "{'max_depth': 3, 'max_features': 'log2', 'min_samples_split': 6, 'n_estimators': 50}",
          "{'max_depth': 3, 'max_features': 'log2', 'min_samples_split': 6, 'n_estimators': 80}",
          "{'max_depth': 3, 'max_features': 'log2', 'min_samples_split': 6, 'n_estimators': 110}",
          "{'max_depth': 3, 'max_features': 'log2', 'min_samples_split': 6, 'n_estimators': 130}",
          "{'max_depth': 3, 'max_features': 'log2', 'min_samples_split': 9, 'n_estimators': 50}",
          "{'max_depth': 3, 'max_features': 'log2', 'min_samples_split': 9, 'n_estimators': 80}",
          "{'max_depth': 3, 'max_features': 'log2', 'min_samples_split': 9, 'n_estimators': 110}",
          "{'max_depth': 3, 'max_features': 'log2', 'min_samples_split': 9, 'n_estimators': 130}",
          "{'max_depth': 3, 'max_features': 'log2', 'min_samples_split': 12, 'n_estimators': 50}",
          "{'max_depth': 3, 'max_features': 'log2', 'min_samples_split': 12, 'n_estimators': 80}",
          "{'max_depth': 3, 'max_features': 'log2', 'min_samples_split': 12, 'n_estimators': 110}",
          "{'max_depth': 3, 'max_features': 'log2', 'min_samples_split': 12, 'n_estimators': 130}",
          "{'max_depth': 6, 'max_features': 'sqrt', 'min_samples_split': 3, 'n_estimators': 50}",
          "{'max_depth': 6, 'max_features': 'sqrt', 'min_samples_split': 3, 'n_estimators': 80}",
          "{'max_depth': 6, 'max_features': 'sqrt', 'min_samples_split': 3, 'n_estimators': 110}",
          "{'max_depth': 6, 'max_features': 'sqrt', 'min_samples_split': 3, 'n_estimators': 130}",
          "{'max_depth': 6, 'max_features': 'sqrt', 'min_samples_split': 6, 'n_estimators': 50}",
          "{'max_depth': 6, 'max_features': 'sqrt', 'min_samples_split': 6, 'n_estimators': 80}",
          "{'max_depth': 6, 'max_features': 'sqrt', 'min_samples_split': 6, 'n_estimators': 110}",
          "{'max_depth': 6, 'max_features': 'sqrt', 'min_samples_split': 6, 'n_estimators': 130}",
          "{'max_depth': 6, 'max_features': 'sqrt', 'min_samples_split': 9, 'n_estimators': 50}",
          "{'max_depth': 6, 'max_features': 'sqrt', 'min_samples_split': 9, 'n_estimators': 80}",
          "{'max_depth': 6, 'max_features': 'sqrt', 'min_samples_split': 9, 'n_estimators': 110}",
          "{'max_depth': 6, 'max_features': 'sqrt', 'min_samples_split': 9, 'n_estimators': 130}",
          "{'max_depth': 6, 'max_features': 'sqrt', 'min_samples_split': 12, 'n_estimators': 50}",
          "{'max_depth': 6, 'max_features': 'sqrt', 'min_samples_split': 12, 'n_estimators': 80}",
          "{'max_depth': 6, 'max_features': 'sqrt', 'min_samples_split': 12, 'n_estimators': 110}",
          "{'max_depth': 6, 'max_features': 'sqrt', 'min_samples_split': 12, 'n_estimators': 130}",
          "{'max_depth': 6, 'max_features': 'log2', 'min_samples_split': 3, 'n_estimators': 50}",
          "{'max_depth': 6, 'max_features': 'log2', 'min_samples_split': 3, 'n_estimators': 80}",
          "{'max_depth': 6, 'max_features': 'log2', 'min_samples_split': 3, 'n_estimators': 110}",
          "{'max_depth': 6, 'max_features': 'log2', 'min_samples_split': 3, 'n_estimators': 130}",
          "{'max_depth': 6, 'max_features': 'log2', 'min_samples_split': 6, 'n_estimators': 50}",
          "{'max_depth': 6, 'max_features': 'log2', 'min_samples_split': 6, 'n_estimators': 80}",
          "{'max_depth': 6, 'max_features': 'log2', 'min_samples_split': 6, 'n_estimators': 110}",
          "{'max_depth': 6, 'max_features': 'log2', 'min_samples_split': 6, 'n_estimators': 130}",
          "{'max_depth': 6, 'max_features': 'log2', 'min_samples_split': 9, 'n_estimators': 50}",
          "{'max_depth': 6, 'max_features': 'log2', 'min_samples_split': 9, 'n_estimators': 80}",
          "{'max_depth': 6, 'max_features': 'log2', 'min_samples_split': 9, 'n_estimators': 110}",
          "{'max_depth': 6, 'max_features': 'log2', 'min_samples_split': 9, 'n_estimators': 130}",
          "{'max_depth': 6, 'max_features': 'log2', 'min_samples_split': 12, 'n_estimators': 50}",
          "{'max_depth': 6, 'max_features': 'log2', 'min_samples_split': 12, 'n_estimators': 80}",
          "{'max_depth': 6, 'max_features': 'log2', 'min_samples_split': 12, 'n_estimators': 110}",
          "{'max_depth': 6, 'max_features': 'log2', 'min_samples_split': 12, 'n_estimators': 130}",
          "{'max_depth': 9, 'max_features': 'sqrt', 'min_samples_split': 3, 'n_estimators': 50}",
          "{'max_depth': 9, 'max_features': 'sqrt', 'min_samples_split': 3, 'n_estimators': 80}",
          "{'max_depth': 9, 'max_features': 'sqrt', 'min_samples_split': 3, 'n_estimators': 110}",
          "{'max_depth': 9, 'max_features': 'sqrt', 'min_samples_split': 3, 'n_estimators': 130}",
          "{'max_depth': 9, 'max_features': 'sqrt', 'min_samples_split': 6, 'n_estimators': 50}",
          "{'max_depth': 9, 'max_features': 'sqrt', 'min_samples_split': 6, 'n_estimators': 80}",
          "{'max_depth': 9, 'max_features': 'sqrt', 'min_samples_split': 6, 'n_estimators': 110}",
          "{'max_depth': 9, 'max_features': 'sqrt', 'min_samples_split': 6, 'n_estimators': 130}",
          "{'max_depth': 9, 'max_features': 'sqrt', 'min_samples_split': 9, 'n_estimators': 50}",
          "{'max_depth': 9, 'max_features': 'sqrt', 'min_samples_split': 9, 'n_estimators': 80}",
          "{'max_depth': 9, 'max_features': 'sqrt', 'min_samples_split': 9, 'n_estimators': 110}",
          "{'max_depth': 9, 'max_features': 'sqrt', 'min_samples_split': 9, 'n_estimators': 130}",
          "{'max_depth': 9, 'max_features': 'sqrt', 'min_samples_split': 12, 'n_estimators': 50}",
          "{'max_depth': 9, 'max_features': 'sqrt', 'min_samples_split': 12, 'n_estimators': 80}",
          "{'max_depth': 9, 'max_features': 'sqrt', 'min_samples_split': 12, 'n_estimators': 110}",
          "{'max_depth': 9, 'max_features': 'sqrt', 'min_samples_split': 12, 'n_estimators': 130}",
          "{'max_depth': 9, 'max_features': 'log2', 'min_samples_split': 3, 'n_estimators': 50}",
          "{'max_depth': 9, 'max_features': 'log2', 'min_samples_split': 3, 'n_estimators': 80}",
          "{'max_depth': 9, 'max_features': 'log2', 'min_samples_split': 3, 'n_estimators': 110}",
          "{'max_depth': 9, 'max_features': 'log2', 'min_samples_split': 3, 'n_estimators': 130}",
          "{'max_depth': 9, 'max_features': 'log2', 'min_samples_split': 6, 'n_estimators': 50}",
          "{'max_depth': 9, 'max_features': 'log2', 'min_samples_split': 6, 'n_estimators': 80}",
          "{'max_depth': 9, 'max_features': 'log2', 'min_samples_split': 6, 'n_estimators': 110}",
          "{'max_depth': 9, 'max_features': 'log2', 'min_samples_split': 6, 'n_estimators': 130}",
          "{'max_depth': 9, 'max_features': 'log2', 'min_samples_split': 9, 'n_estimators': 50}",
          "{'max_depth': 9, 'max_features': 'log2', 'min_samples_split': 9, 'n_estimators': 80}",
          "{'max_depth': 9, 'max_features': 'log2', 'min_samples_split': 9, 'n_estimators': 110}",
          "{'max_depth': 9, 'max_features': 'log2', 'min_samples_split': 9, 'n_estimators': 130}",
          "{'max_depth': 9, 'max_features': 'log2', 'min_samples_split': 12, 'n_estimators': 50}",
          "{'max_depth': 9, 'max_features': 'log2', 'min_samples_split': 12, 'n_estimators': 80}",
          "{'max_depth': 9, 'max_features': 'log2', 'min_samples_split': 12, 'n_estimators': 110}",
          "{'max_depth': 9, 'max_features': 'log2', 'min_samples_split': 12, 'n_estimators': 130}"
         ],
         "legendgroup": "test",
         "marker": {
          "color": "#636efa",
          "pattern": {
           "shape": ""
          }
         },
         "name": "test",
         "offsetgroup": "test",
         "orientation": "v",
         "showlegend": true,
         "textposition": "auto",
         "type": "bar",
         "x": [
          0,
          1,
          2,
          3,
          4,
          5,
          6,
          7,
          8,
          9,
          10,
          11,
          12,
          13,
          14,
          15,
          16,
          17,
          18,
          19,
          20,
          21,
          22,
          23,
          24,
          25,
          26,
          27,
          28,
          29,
          30,
          31,
          32,
          33,
          34,
          35,
          36,
          37,
          38,
          39,
          40,
          41,
          42,
          43,
          44,
          45,
          46,
          47,
          48,
          49,
          50,
          51,
          52,
          53,
          54,
          55,
          56,
          57,
          58,
          59,
          60,
          61,
          62,
          63,
          64,
          65,
          66,
          67,
          68,
          69,
          70,
          71,
          72,
          73,
          74,
          75,
          76,
          77,
          78,
          79,
          80,
          81,
          82,
          83,
          84,
          85,
          86,
          87,
          88,
          89,
          90,
          91,
          92,
          93,
          94,
          95
         ],
         "xaxis": "x",
         "y": [
          0.11128908838733173,
          0.09455087269899635,
          0.10257899477989725,
          0.09938951162318958,
          0.07876586740481077,
          0.09690074240118138,
          0.0950386126344789,
          0.0978523860876802,
          0.11575831236111142,
          0.09337680089518326,
          0.08426501548831086,
          0.10629912936549091,
          0.0852923952505157,
          0.10448579545241435,
          0.09945620928544284,
          0.1017225599261562,
          0.10265776261581964,
          0.10625802864181029,
          0.09360418435165754,
          0.09535156671562406,
          0.10128224673655381,
          0.0968183803843485,
          0.10363041718210986,
          0.09638421156066883,
          0.11588542767781133,
          0.10976501523849307,
          0.09661246162819631,
          0.10199197923684,
          0.10281092597200614,
          0.09763656461285712,
          0.09256121521927597,
          0.09207765113526803,
          0.2518734198251015,
          0.2312206429578679,
          0.2444832905801017,
          0.2457100155972162,
          0.21646115601616076,
          0.25062955506490037,
          0.23204032588088253,
          0.23660316280628368,
          0.24530264164081972,
          0.24822596485809761,
          0.2409469115984833,
          0.24855344401275709,
          0.2507457143280668,
          0.2398846416544056,
          0.23041140156360287,
          0.2457915372944373,
          0.24020732051698773,
          0.2257899785828407,
          0.2353647498447271,
          0.23880391255287758,
          0.24221123609070272,
          0.243277005547959,
          0.24558262857571264,
          0.23805675970319334,
          0.2564614507930565,
          0.24664638498119223,
          0.23248944381744244,
          0.24087635696697296,
          0.2286293727229994,
          0.2523888376069612,
          0.2458234822535279,
          0.23395917683942208,
          0.324949914853943,
          0.31089050196883,
          0.31577267449103574,
          0.3219136538302537,
          0.3414194765072788,
          0.3298889108060171,
          0.3205021648703844,
          0.3277076894085213,
          0.3237535753538504,
          0.32293214533853287,
          0.32680161163714777,
          0.30579037023876143,
          0.3377588149861536,
          0.3131737324477809,
          0.32633202077662576,
          0.30863011196711115,
          0.3210330943436341,
          0.32777700436612556,
          0.3070467353086027,
          0.3258266210607278,
          0.3128723156878805,
          0.3091757477570323,
          0.3167981996999572,
          0.32493071503923765,
          0.3219287762265769,
          0.32157143266393134,
          0.33620246191972974,
          0.32001853492673316,
          0.31956494104909416,
          0.3135757619823897,
          0.3234897387224873,
          0.31926237805094193
         ],
         "yaxis": "y"
        },
        {
         "alignmentgroup": "True",
         "customdata": [
          [
           "{'max_depth': 3, 'max_features': 'sqrt', 'min_samples_split': 3, 'n_estimators': 50}"
          ],
          [
           "{'max_depth': 3, 'max_features': 'sqrt', 'min_samples_split': 3, 'n_estimators': 80}"
          ],
          [
           "{'max_depth': 3, 'max_features': 'sqrt', 'min_samples_split': 3, 'n_estimators': 110}"
          ],
          [
           "{'max_depth': 3, 'max_features': 'sqrt', 'min_samples_split': 3, 'n_estimators': 130}"
          ],
          [
           "{'max_depth': 3, 'max_features': 'sqrt', 'min_samples_split': 6, 'n_estimators': 50}"
          ],
          [
           "{'max_depth': 3, 'max_features': 'sqrt', 'min_samples_split': 6, 'n_estimators': 80}"
          ],
          [
           "{'max_depth': 3, 'max_features': 'sqrt', 'min_samples_split': 6, 'n_estimators': 110}"
          ],
          [
           "{'max_depth': 3, 'max_features': 'sqrt', 'min_samples_split': 6, 'n_estimators': 130}"
          ],
          [
           "{'max_depth': 3, 'max_features': 'sqrt', 'min_samples_split': 9, 'n_estimators': 50}"
          ],
          [
           "{'max_depth': 3, 'max_features': 'sqrt', 'min_samples_split': 9, 'n_estimators': 80}"
          ],
          [
           "{'max_depth': 3, 'max_features': 'sqrt', 'min_samples_split': 9, 'n_estimators': 110}"
          ],
          [
           "{'max_depth': 3, 'max_features': 'sqrt', 'min_samples_split': 9, 'n_estimators': 130}"
          ],
          [
           "{'max_depth': 3, 'max_features': 'sqrt', 'min_samples_split': 12, 'n_estimators': 50}"
          ],
          [
           "{'max_depth': 3, 'max_features': 'sqrt', 'min_samples_split': 12, 'n_estimators': 80}"
          ],
          [
           "{'max_depth': 3, 'max_features': 'sqrt', 'min_samples_split': 12, 'n_estimators': 110}"
          ],
          [
           "{'max_depth': 3, 'max_features': 'sqrt', 'min_samples_split': 12, 'n_estimators': 130}"
          ],
          [
           "{'max_depth': 3, 'max_features': 'log2', 'min_samples_split': 3, 'n_estimators': 50}"
          ],
          [
           "{'max_depth': 3, 'max_features': 'log2', 'min_samples_split': 3, 'n_estimators': 80}"
          ],
          [
           "{'max_depth': 3, 'max_features': 'log2', 'min_samples_split': 3, 'n_estimators': 110}"
          ],
          [
           "{'max_depth': 3, 'max_features': 'log2', 'min_samples_split': 3, 'n_estimators': 130}"
          ],
          [
           "{'max_depth': 3, 'max_features': 'log2', 'min_samples_split': 6, 'n_estimators': 50}"
          ],
          [
           "{'max_depth': 3, 'max_features': 'log2', 'min_samples_split': 6, 'n_estimators': 80}"
          ],
          [
           "{'max_depth': 3, 'max_features': 'log2', 'min_samples_split': 6, 'n_estimators': 110}"
          ],
          [
           "{'max_depth': 3, 'max_features': 'log2', 'min_samples_split': 6, 'n_estimators': 130}"
          ],
          [
           "{'max_depth': 3, 'max_features': 'log2', 'min_samples_split': 9, 'n_estimators': 50}"
          ],
          [
           "{'max_depth': 3, 'max_features': 'log2', 'min_samples_split': 9, 'n_estimators': 80}"
          ],
          [
           "{'max_depth': 3, 'max_features': 'log2', 'min_samples_split': 9, 'n_estimators': 110}"
          ],
          [
           "{'max_depth': 3, 'max_features': 'log2', 'min_samples_split': 9, 'n_estimators': 130}"
          ],
          [
           "{'max_depth': 3, 'max_features': 'log2', 'min_samples_split': 12, 'n_estimators': 50}"
          ],
          [
           "{'max_depth': 3, 'max_features': 'log2', 'min_samples_split': 12, 'n_estimators': 80}"
          ],
          [
           "{'max_depth': 3, 'max_features': 'log2', 'min_samples_split': 12, 'n_estimators': 110}"
          ],
          [
           "{'max_depth': 3, 'max_features': 'log2', 'min_samples_split': 12, 'n_estimators': 130}"
          ],
          [
           "{'max_depth': 6, 'max_features': 'sqrt', 'min_samples_split': 3, 'n_estimators': 50}"
          ],
          [
           "{'max_depth': 6, 'max_features': 'sqrt', 'min_samples_split': 3, 'n_estimators': 80}"
          ],
          [
           "{'max_depth': 6, 'max_features': 'sqrt', 'min_samples_split': 3, 'n_estimators': 110}"
          ],
          [
           "{'max_depth': 6, 'max_features': 'sqrt', 'min_samples_split': 3, 'n_estimators': 130}"
          ],
          [
           "{'max_depth': 6, 'max_features': 'sqrt', 'min_samples_split': 6, 'n_estimators': 50}"
          ],
          [
           "{'max_depth': 6, 'max_features': 'sqrt', 'min_samples_split': 6, 'n_estimators': 80}"
          ],
          [
           "{'max_depth': 6, 'max_features': 'sqrt', 'min_samples_split': 6, 'n_estimators': 110}"
          ],
          [
           "{'max_depth': 6, 'max_features': 'sqrt', 'min_samples_split': 6, 'n_estimators': 130}"
          ],
          [
           "{'max_depth': 6, 'max_features': 'sqrt', 'min_samples_split': 9, 'n_estimators': 50}"
          ],
          [
           "{'max_depth': 6, 'max_features': 'sqrt', 'min_samples_split': 9, 'n_estimators': 80}"
          ],
          [
           "{'max_depth': 6, 'max_features': 'sqrt', 'min_samples_split': 9, 'n_estimators': 110}"
          ],
          [
           "{'max_depth': 6, 'max_features': 'sqrt', 'min_samples_split': 9, 'n_estimators': 130}"
          ],
          [
           "{'max_depth': 6, 'max_features': 'sqrt', 'min_samples_split': 12, 'n_estimators': 50}"
          ],
          [
           "{'max_depth': 6, 'max_features': 'sqrt', 'min_samples_split': 12, 'n_estimators': 80}"
          ],
          [
           "{'max_depth': 6, 'max_features': 'sqrt', 'min_samples_split': 12, 'n_estimators': 110}"
          ],
          [
           "{'max_depth': 6, 'max_features': 'sqrt', 'min_samples_split': 12, 'n_estimators': 130}"
          ],
          [
           "{'max_depth': 6, 'max_features': 'log2', 'min_samples_split': 3, 'n_estimators': 50}"
          ],
          [
           "{'max_depth': 6, 'max_features': 'log2', 'min_samples_split': 3, 'n_estimators': 80}"
          ],
          [
           "{'max_depth': 6, 'max_features': 'log2', 'min_samples_split': 3, 'n_estimators': 110}"
          ],
          [
           "{'max_depth': 6, 'max_features': 'log2', 'min_samples_split': 3, 'n_estimators': 130}"
          ],
          [
           "{'max_depth': 6, 'max_features': 'log2', 'min_samples_split': 6, 'n_estimators': 50}"
          ],
          [
           "{'max_depth': 6, 'max_features': 'log2', 'min_samples_split': 6, 'n_estimators': 80}"
          ],
          [
           "{'max_depth': 6, 'max_features': 'log2', 'min_samples_split': 6, 'n_estimators': 110}"
          ],
          [
           "{'max_depth': 6, 'max_features': 'log2', 'min_samples_split': 6, 'n_estimators': 130}"
          ],
          [
           "{'max_depth': 6, 'max_features': 'log2', 'min_samples_split': 9, 'n_estimators': 50}"
          ],
          [
           "{'max_depth': 6, 'max_features': 'log2', 'min_samples_split': 9, 'n_estimators': 80}"
          ],
          [
           "{'max_depth': 6, 'max_features': 'log2', 'min_samples_split': 9, 'n_estimators': 110}"
          ],
          [
           "{'max_depth': 6, 'max_features': 'log2', 'min_samples_split': 9, 'n_estimators': 130}"
          ],
          [
           "{'max_depth': 6, 'max_features': 'log2', 'min_samples_split': 12, 'n_estimators': 50}"
          ],
          [
           "{'max_depth': 6, 'max_features': 'log2', 'min_samples_split': 12, 'n_estimators': 80}"
          ],
          [
           "{'max_depth': 6, 'max_features': 'log2', 'min_samples_split': 12, 'n_estimators': 110}"
          ],
          [
           "{'max_depth': 6, 'max_features': 'log2', 'min_samples_split': 12, 'n_estimators': 130}"
          ],
          [
           "{'max_depth': 9, 'max_features': 'sqrt', 'min_samples_split': 3, 'n_estimators': 50}"
          ],
          [
           "{'max_depth': 9, 'max_features': 'sqrt', 'min_samples_split': 3, 'n_estimators': 80}"
          ],
          [
           "{'max_depth': 9, 'max_features': 'sqrt', 'min_samples_split': 3, 'n_estimators': 110}"
          ],
          [
           "{'max_depth': 9, 'max_features': 'sqrt', 'min_samples_split': 3, 'n_estimators': 130}"
          ],
          [
           "{'max_depth': 9, 'max_features': 'sqrt', 'min_samples_split': 6, 'n_estimators': 50}"
          ],
          [
           "{'max_depth': 9, 'max_features': 'sqrt', 'min_samples_split': 6, 'n_estimators': 80}"
          ],
          [
           "{'max_depth': 9, 'max_features': 'sqrt', 'min_samples_split': 6, 'n_estimators': 110}"
          ],
          [
           "{'max_depth': 9, 'max_features': 'sqrt', 'min_samples_split': 6, 'n_estimators': 130}"
          ],
          [
           "{'max_depth': 9, 'max_features': 'sqrt', 'min_samples_split': 9, 'n_estimators': 50}"
          ],
          [
           "{'max_depth': 9, 'max_features': 'sqrt', 'min_samples_split': 9, 'n_estimators': 80}"
          ],
          [
           "{'max_depth': 9, 'max_features': 'sqrt', 'min_samples_split': 9, 'n_estimators': 110}"
          ],
          [
           "{'max_depth': 9, 'max_features': 'sqrt', 'min_samples_split': 9, 'n_estimators': 130}"
          ],
          [
           "{'max_depth': 9, 'max_features': 'sqrt', 'min_samples_split': 12, 'n_estimators': 50}"
          ],
          [
           "{'max_depth': 9, 'max_features': 'sqrt', 'min_samples_split': 12, 'n_estimators': 80}"
          ],
          [
           "{'max_depth': 9, 'max_features': 'sqrt', 'min_samples_split': 12, 'n_estimators': 110}"
          ],
          [
           "{'max_depth': 9, 'max_features': 'sqrt', 'min_samples_split': 12, 'n_estimators': 130}"
          ],
          [
           "{'max_depth': 9, 'max_features': 'log2', 'min_samples_split': 3, 'n_estimators': 50}"
          ],
          [
           "{'max_depth': 9, 'max_features': 'log2', 'min_samples_split': 3, 'n_estimators': 80}"
          ],
          [
           "{'max_depth': 9, 'max_features': 'log2', 'min_samples_split': 3, 'n_estimators': 110}"
          ],
          [
           "{'max_depth': 9, 'max_features': 'log2', 'min_samples_split': 3, 'n_estimators': 130}"
          ],
          [
           "{'max_depth': 9, 'max_features': 'log2', 'min_samples_split': 6, 'n_estimators': 50}"
          ],
          [
           "{'max_depth': 9, 'max_features': 'log2', 'min_samples_split': 6, 'n_estimators': 80}"
          ],
          [
           "{'max_depth': 9, 'max_features': 'log2', 'min_samples_split': 6, 'n_estimators': 110}"
          ],
          [
           "{'max_depth': 9, 'max_features': 'log2', 'min_samples_split': 6, 'n_estimators': 130}"
          ],
          [
           "{'max_depth': 9, 'max_features': 'log2', 'min_samples_split': 9, 'n_estimators': 50}"
          ],
          [
           "{'max_depth': 9, 'max_features': 'log2', 'min_samples_split': 9, 'n_estimators': 80}"
          ],
          [
           "{'max_depth': 9, 'max_features': 'log2', 'min_samples_split': 9, 'n_estimators': 110}"
          ],
          [
           "{'max_depth': 9, 'max_features': 'log2', 'min_samples_split': 9, 'n_estimators': 130}"
          ],
          [
           "{'max_depth': 9, 'max_features': 'log2', 'min_samples_split': 12, 'n_estimators': 50}"
          ],
          [
           "{'max_depth': 9, 'max_features': 'log2', 'min_samples_split': 12, 'n_estimators': 80}"
          ],
          [
           "{'max_depth': 9, 'max_features': 'log2', 'min_samples_split': 12, 'n_estimators': 110}"
          ],
          [
           "{'max_depth': 9, 'max_features': 'log2', 'min_samples_split': 12, 'n_estimators': 130}"
          ]
         ],
         "error_y": {
          "array": [
           0.02680183800562589,
           0.02890869948804289,
           0.017230993183728966,
           0.03172412069125013,
           0.028267721168880475,
           0.02594207326158512,
           0.03327496626783611,
           0.023958790193964383,
           0.016971213721948656,
           0.025621029067685316,
           0.030708499501074748,
           0.025853716288091164,
           0.03126517709464345,
           0.034372883829418124,
           0.02401020958864251,
           0.03585994406008262,
           0.041240355628740975,
           0.015286750289059358,
           0.029054523712600058,
           0.02715425171152983,
           0.03729600087611192,
           0.02021967327431042,
           0.03486744884279376,
           0.024294833231880354,
           0.04034416269453342,
           0.02398959409630045,
           0.025273778280000932,
           0.021498884237256693,
           0.045493825311485304,
           0.03434227081628417,
           0.022489399147667687,
           0.022789070117433235,
           0.022390175148602108,
           0.032300418890946966,
           0.03801942188661598,
           0.03289426112096516,
           0.020031716110600038,
           0.039273662431909044,
           0.040859377342789924,
           0.0441406179358409,
           0.05017605224824088,
           0.02213914658867343,
           0.03458258996802507,
           0.03767217907424919,
           0.03333257252842564,
           0.04281286310841864,
           0.03899707704192354,
           0.04006604067822259,
           0.026874942585574973,
           0.04930777277383799,
           0.04005653522147563,
           0.02772308170580218,
           0.03271345913147157,
           0.0374627055938074,
           0.028513203152566845,
           0.03577726239730373,
           0.04026324936905966,
           0.037551864054920246,
           0.03077969192458559,
           0.03997800235558046,
           0.04399640257194302,
           0.037651652401470496,
           0.029671916236537872,
           0.040371001795805474,
           0.018427392730044425,
           0.01824586129459405,
           0.018011998324193215,
           0.03643157757531941,
           0.03113835388859975,
           0.031556231353729786,
           0.022212054474383774,
           0.038865567746332895,
           0.030010648413886395,
           0.03031838986380812,
           0.02462990339751369,
           0.021483073692962682,
           0.031818641237312456,
           0.03118603769399658,
           0.022270667518433786,
           0.026915812498405644,
           0.014978891077333705,
           0.019639893748569833,
           0.03026773042745114,
           0.027113116604280472,
           0.0217877416900186,
           0.03096099357975774,
           0.02909594971579298,
           0.035298332934575176,
           0.028359061566527937,
           0.023622525712994488,
           0.027463058577772956,
           0.02538985761817037,
           0.03658965312310544,
           0.03449538750425207,
           0.028166697774386375,
           0.02206888422160579
          ]
         },
         "hovertemplate": "<b>%{hovertext}</b><br><br>type=train<br>Params=%{x}<br>Average f1=%{y}<br>params=%{customdata[0]}<extra></extra>",
         "hovertext": [
          "{'max_depth': 3, 'max_features': 'sqrt', 'min_samples_split': 3, 'n_estimators': 50}",
          "{'max_depth': 3, 'max_features': 'sqrt', 'min_samples_split': 3, 'n_estimators': 80}",
          "{'max_depth': 3, 'max_features': 'sqrt', 'min_samples_split': 3, 'n_estimators': 110}",
          "{'max_depth': 3, 'max_features': 'sqrt', 'min_samples_split': 3, 'n_estimators': 130}",
          "{'max_depth': 3, 'max_features': 'sqrt', 'min_samples_split': 6, 'n_estimators': 50}",
          "{'max_depth': 3, 'max_features': 'sqrt', 'min_samples_split': 6, 'n_estimators': 80}",
          "{'max_depth': 3, 'max_features': 'sqrt', 'min_samples_split': 6, 'n_estimators': 110}",
          "{'max_depth': 3, 'max_features': 'sqrt', 'min_samples_split': 6, 'n_estimators': 130}",
          "{'max_depth': 3, 'max_features': 'sqrt', 'min_samples_split': 9, 'n_estimators': 50}",
          "{'max_depth': 3, 'max_features': 'sqrt', 'min_samples_split': 9, 'n_estimators': 80}",
          "{'max_depth': 3, 'max_features': 'sqrt', 'min_samples_split': 9, 'n_estimators': 110}",
          "{'max_depth': 3, 'max_features': 'sqrt', 'min_samples_split': 9, 'n_estimators': 130}",
          "{'max_depth': 3, 'max_features': 'sqrt', 'min_samples_split': 12, 'n_estimators': 50}",
          "{'max_depth': 3, 'max_features': 'sqrt', 'min_samples_split': 12, 'n_estimators': 80}",
          "{'max_depth': 3, 'max_features': 'sqrt', 'min_samples_split': 12, 'n_estimators': 110}",
          "{'max_depth': 3, 'max_features': 'sqrt', 'min_samples_split': 12, 'n_estimators': 130}",
          "{'max_depth': 3, 'max_features': 'log2', 'min_samples_split': 3, 'n_estimators': 50}",
          "{'max_depth': 3, 'max_features': 'log2', 'min_samples_split': 3, 'n_estimators': 80}",
          "{'max_depth': 3, 'max_features': 'log2', 'min_samples_split': 3, 'n_estimators': 110}",
          "{'max_depth': 3, 'max_features': 'log2', 'min_samples_split': 3, 'n_estimators': 130}",
          "{'max_depth': 3, 'max_features': 'log2', 'min_samples_split': 6, 'n_estimators': 50}",
          "{'max_depth': 3, 'max_features': 'log2', 'min_samples_split': 6, 'n_estimators': 80}",
          "{'max_depth': 3, 'max_features': 'log2', 'min_samples_split': 6, 'n_estimators': 110}",
          "{'max_depth': 3, 'max_features': 'log2', 'min_samples_split': 6, 'n_estimators': 130}",
          "{'max_depth': 3, 'max_features': 'log2', 'min_samples_split': 9, 'n_estimators': 50}",
          "{'max_depth': 3, 'max_features': 'log2', 'min_samples_split': 9, 'n_estimators': 80}",
          "{'max_depth': 3, 'max_features': 'log2', 'min_samples_split': 9, 'n_estimators': 110}",
          "{'max_depth': 3, 'max_features': 'log2', 'min_samples_split': 9, 'n_estimators': 130}",
          "{'max_depth': 3, 'max_features': 'log2', 'min_samples_split': 12, 'n_estimators': 50}",
          "{'max_depth': 3, 'max_features': 'log2', 'min_samples_split': 12, 'n_estimators': 80}",
          "{'max_depth': 3, 'max_features': 'log2', 'min_samples_split': 12, 'n_estimators': 110}",
          "{'max_depth': 3, 'max_features': 'log2', 'min_samples_split': 12, 'n_estimators': 130}",
          "{'max_depth': 6, 'max_features': 'sqrt', 'min_samples_split': 3, 'n_estimators': 50}",
          "{'max_depth': 6, 'max_features': 'sqrt', 'min_samples_split': 3, 'n_estimators': 80}",
          "{'max_depth': 6, 'max_features': 'sqrt', 'min_samples_split': 3, 'n_estimators': 110}",
          "{'max_depth': 6, 'max_features': 'sqrt', 'min_samples_split': 3, 'n_estimators': 130}",
          "{'max_depth': 6, 'max_features': 'sqrt', 'min_samples_split': 6, 'n_estimators': 50}",
          "{'max_depth': 6, 'max_features': 'sqrt', 'min_samples_split': 6, 'n_estimators': 80}",
          "{'max_depth': 6, 'max_features': 'sqrt', 'min_samples_split': 6, 'n_estimators': 110}",
          "{'max_depth': 6, 'max_features': 'sqrt', 'min_samples_split': 6, 'n_estimators': 130}",
          "{'max_depth': 6, 'max_features': 'sqrt', 'min_samples_split': 9, 'n_estimators': 50}",
          "{'max_depth': 6, 'max_features': 'sqrt', 'min_samples_split': 9, 'n_estimators': 80}",
          "{'max_depth': 6, 'max_features': 'sqrt', 'min_samples_split': 9, 'n_estimators': 110}",
          "{'max_depth': 6, 'max_features': 'sqrt', 'min_samples_split': 9, 'n_estimators': 130}",
          "{'max_depth': 6, 'max_features': 'sqrt', 'min_samples_split': 12, 'n_estimators': 50}",
          "{'max_depth': 6, 'max_features': 'sqrt', 'min_samples_split': 12, 'n_estimators': 80}",
          "{'max_depth': 6, 'max_features': 'sqrt', 'min_samples_split': 12, 'n_estimators': 110}",
          "{'max_depth': 6, 'max_features': 'sqrt', 'min_samples_split': 12, 'n_estimators': 130}",
          "{'max_depth': 6, 'max_features': 'log2', 'min_samples_split': 3, 'n_estimators': 50}",
          "{'max_depth': 6, 'max_features': 'log2', 'min_samples_split': 3, 'n_estimators': 80}",
          "{'max_depth': 6, 'max_features': 'log2', 'min_samples_split': 3, 'n_estimators': 110}",
          "{'max_depth': 6, 'max_features': 'log2', 'min_samples_split': 3, 'n_estimators': 130}",
          "{'max_depth': 6, 'max_features': 'log2', 'min_samples_split': 6, 'n_estimators': 50}",
          "{'max_depth': 6, 'max_features': 'log2', 'min_samples_split': 6, 'n_estimators': 80}",
          "{'max_depth': 6, 'max_features': 'log2', 'min_samples_split': 6, 'n_estimators': 110}",
          "{'max_depth': 6, 'max_features': 'log2', 'min_samples_split': 6, 'n_estimators': 130}",
          "{'max_depth': 6, 'max_features': 'log2', 'min_samples_split': 9, 'n_estimators': 50}",
          "{'max_depth': 6, 'max_features': 'log2', 'min_samples_split': 9, 'n_estimators': 80}",
          "{'max_depth': 6, 'max_features': 'log2', 'min_samples_split': 9, 'n_estimators': 110}",
          "{'max_depth': 6, 'max_features': 'log2', 'min_samples_split': 9, 'n_estimators': 130}",
          "{'max_depth': 6, 'max_features': 'log2', 'min_samples_split': 12, 'n_estimators': 50}",
          "{'max_depth': 6, 'max_features': 'log2', 'min_samples_split': 12, 'n_estimators': 80}",
          "{'max_depth': 6, 'max_features': 'log2', 'min_samples_split': 12, 'n_estimators': 110}",
          "{'max_depth': 6, 'max_features': 'log2', 'min_samples_split': 12, 'n_estimators': 130}",
          "{'max_depth': 9, 'max_features': 'sqrt', 'min_samples_split': 3, 'n_estimators': 50}",
          "{'max_depth': 9, 'max_features': 'sqrt', 'min_samples_split': 3, 'n_estimators': 80}",
          "{'max_depth': 9, 'max_features': 'sqrt', 'min_samples_split': 3, 'n_estimators': 110}",
          "{'max_depth': 9, 'max_features': 'sqrt', 'min_samples_split': 3, 'n_estimators': 130}",
          "{'max_depth': 9, 'max_features': 'sqrt', 'min_samples_split': 6, 'n_estimators': 50}",
          "{'max_depth': 9, 'max_features': 'sqrt', 'min_samples_split': 6, 'n_estimators': 80}",
          "{'max_depth': 9, 'max_features': 'sqrt', 'min_samples_split': 6, 'n_estimators': 110}",
          "{'max_depth': 9, 'max_features': 'sqrt', 'min_samples_split': 6, 'n_estimators': 130}",
          "{'max_depth': 9, 'max_features': 'sqrt', 'min_samples_split': 9, 'n_estimators': 50}",
          "{'max_depth': 9, 'max_features': 'sqrt', 'min_samples_split': 9, 'n_estimators': 80}",
          "{'max_depth': 9, 'max_features': 'sqrt', 'min_samples_split': 9, 'n_estimators': 110}",
          "{'max_depth': 9, 'max_features': 'sqrt', 'min_samples_split': 9, 'n_estimators': 130}",
          "{'max_depth': 9, 'max_features': 'sqrt', 'min_samples_split': 12, 'n_estimators': 50}",
          "{'max_depth': 9, 'max_features': 'sqrt', 'min_samples_split': 12, 'n_estimators': 80}",
          "{'max_depth': 9, 'max_features': 'sqrt', 'min_samples_split': 12, 'n_estimators': 110}",
          "{'max_depth': 9, 'max_features': 'sqrt', 'min_samples_split': 12, 'n_estimators': 130}",
          "{'max_depth': 9, 'max_features': 'log2', 'min_samples_split': 3, 'n_estimators': 50}",
          "{'max_depth': 9, 'max_features': 'log2', 'min_samples_split': 3, 'n_estimators': 80}",
          "{'max_depth': 9, 'max_features': 'log2', 'min_samples_split': 3, 'n_estimators': 110}",
          "{'max_depth': 9, 'max_features': 'log2', 'min_samples_split': 3, 'n_estimators': 130}",
          "{'max_depth': 9, 'max_features': 'log2', 'min_samples_split': 6, 'n_estimators': 50}",
          "{'max_depth': 9, 'max_features': 'log2', 'min_samples_split': 6, 'n_estimators': 80}",
          "{'max_depth': 9, 'max_features': 'log2', 'min_samples_split': 6, 'n_estimators': 110}",
          "{'max_depth': 9, 'max_features': 'log2', 'min_samples_split': 6, 'n_estimators': 130}",
          "{'max_depth': 9, 'max_features': 'log2', 'min_samples_split': 9, 'n_estimators': 50}",
          "{'max_depth': 9, 'max_features': 'log2', 'min_samples_split': 9, 'n_estimators': 80}",
          "{'max_depth': 9, 'max_features': 'log2', 'min_samples_split': 9, 'n_estimators': 110}",
          "{'max_depth': 9, 'max_features': 'log2', 'min_samples_split': 9, 'n_estimators': 130}",
          "{'max_depth': 9, 'max_features': 'log2', 'min_samples_split': 12, 'n_estimators': 50}",
          "{'max_depth': 9, 'max_features': 'log2', 'min_samples_split': 12, 'n_estimators': 80}",
          "{'max_depth': 9, 'max_features': 'log2', 'min_samples_split': 12, 'n_estimators': 110}",
          "{'max_depth': 9, 'max_features': 'log2', 'min_samples_split': 12, 'n_estimators': 130}"
         ],
         "legendgroup": "train",
         "marker": {
          "color": "#EF553B",
          "pattern": {
           "shape": ""
          }
         },
         "name": "train",
         "offsetgroup": "train",
         "orientation": "v",
         "showlegend": true,
         "textposition": "auto",
         "type": "bar",
         "x": [
          0,
          1,
          2,
          3,
          4,
          5,
          6,
          7,
          8,
          9,
          10,
          11,
          12,
          13,
          14,
          15,
          16,
          17,
          18,
          19,
          20,
          21,
          22,
          23,
          24,
          25,
          26,
          27,
          28,
          29,
          30,
          31,
          32,
          33,
          34,
          35,
          36,
          37,
          38,
          39,
          40,
          41,
          42,
          43,
          44,
          45,
          46,
          47,
          48,
          49,
          50,
          51,
          52,
          53,
          54,
          55,
          56,
          57,
          58,
          59,
          60,
          61,
          62,
          63,
          64,
          65,
          66,
          67,
          68,
          69,
          70,
          71,
          72,
          73,
          74,
          75,
          76,
          77,
          78,
          79,
          80,
          81,
          82,
          83,
          84,
          85,
          86,
          87,
          88,
          89,
          90,
          91,
          92,
          93,
          94,
          95
         ],
         "xaxis": "x",
         "y": [
          0.175749006387156,
          0.1743014094716597,
          0.1608906539353629,
          0.16317776453547286,
          0.16396606003952346,
          0.16141847420700992,
          0.16135254959826698,
          0.16460022278793238,
          0.1823306765013431,
          0.1619775569555326,
          0.16540235940243245,
          0.16423577471075515,
          0.1518879055221681,
          0.17100478800789248,
          0.1625526205731355,
          0.16561790822841094,
          0.17194557196685345,
          0.17068045012482225,
          0.1580227721360597,
          0.15806910526609463,
          0.16729904639141352,
          0.1700889348818873,
          0.1701765848165449,
          0.16116868180367813,
          0.17233144807722753,
          0.17007162086053068,
          0.1590442896259002,
          0.1613807133641719,
          0.17575589189199742,
          0.1566590669898393,
          0.1648089655322711,
          0.16377561651077893,
          0.43708107504526533,
          0.4311279217528538,
          0.42299701365953724,
          0.43284005241754286,
          0.43023737481552243,
          0.4319743719301087,
          0.43133356567414954,
          0.42104682936211296,
          0.42999880471076424,
          0.4278268874231016,
          0.4187235939951822,
          0.4325211049229565,
          0.4265890837264223,
          0.4204666451712492,
          0.4140077722845038,
          0.4187185152761027,
          0.43474891844236374,
          0.42628098252732294,
          0.4303201013518777,
          0.4394467682279718,
          0.4295090934146276,
          0.43480954332156385,
          0.4329465624947414,
          0.42076672245633767,
          0.42914674312747725,
          0.4285887067934797,
          0.42505334807047157,
          0.42755144613482204,
          0.40971370606215685,
          0.4210588323588075,
          0.41820716834755134,
          0.41540379137891287,
          0.6757134808519881,
          0.6652291827517456,
          0.6672407280467287,
          0.6718199614938907,
          0.6561593918270194,
          0.6598250439382938,
          0.6494988114798733,
          0.6548623278812631,
          0.6366362983859302,
          0.6293111714375917,
          0.6371926413272966,
          0.637819830337521,
          0.6292827032240507,
          0.6152485952378633,
          0.6125673180079639,
          0.6174414956368156,
          0.673812128382747,
          0.6688007812586172,
          0.664869925003415,
          0.6702827464333904,
          0.6457720750800358,
          0.6489691734185155,
          0.6549129722543388,
          0.6468396534491501,
          0.6377550620699254,
          0.6318318270702474,
          0.6345725039565796,
          0.6323701977951215,
          0.6066712883755214,
          0.6183134725597991,
          0.619177415061286,
          0.6189435173499384
         ],
         "yaxis": "y"
        }
       ],
       "layout": {
        "barmode": "group",
        "legend": {
         "title": {
          "text": "type"
         },
         "tracegroupgap": 0
        },
        "template": {
         "data": {
          "bar": [
           {
            "error_x": {
             "color": "#2a3f5f"
            },
            "error_y": {
             "color": "#2a3f5f"
            },
            "marker": {
             "line": {
              "color": "#E5ECF6",
              "width": 0.5
             },
             "pattern": {
              "fillmode": "overlay",
              "size": 10,
              "solidity": 0.2
             }
            },
            "type": "bar"
           }
          ],
          "barpolar": [
           {
            "marker": {
             "line": {
              "color": "#E5ECF6",
              "width": 0.5
             },
             "pattern": {
              "fillmode": "overlay",
              "size": 10,
              "solidity": 0.2
             }
            },
            "type": "barpolar"
           }
          ],
          "carpet": [
           {
            "aaxis": {
             "endlinecolor": "#2a3f5f",
             "gridcolor": "white",
             "linecolor": "white",
             "minorgridcolor": "white",
             "startlinecolor": "#2a3f5f"
            },
            "baxis": {
             "endlinecolor": "#2a3f5f",
             "gridcolor": "white",
             "linecolor": "white",
             "minorgridcolor": "white",
             "startlinecolor": "#2a3f5f"
            },
            "type": "carpet"
           }
          ],
          "choropleth": [
           {
            "colorbar": {
             "outlinewidth": 0,
             "ticks": ""
            },
            "type": "choropleth"
           }
          ],
          "contour": [
           {
            "colorbar": {
             "outlinewidth": 0,
             "ticks": ""
            },
            "colorscale": [
             [
              0.0,
              "#0d0887"
             ],
             [
              0.1111111111111111,
              "#46039f"
             ],
             [
              0.2222222222222222,
              "#7201a8"
             ],
             [
              0.3333333333333333,
              "#9c179e"
             ],
             [
              0.4444444444444444,
              "#bd3786"
             ],
             [
              0.5555555555555556,
              "#d8576b"
             ],
             [
              0.6666666666666666,
              "#ed7953"
             ],
             [
              0.7777777777777778,
              "#fb9f3a"
             ],
             [
              0.8888888888888888,
              "#fdca26"
             ],
             [
              1.0,
              "#f0f921"
             ]
            ],
            "type": "contour"
           }
          ],
          "contourcarpet": [
           {
            "colorbar": {
             "outlinewidth": 0,
             "ticks": ""
            },
            "type": "contourcarpet"
           }
          ],
          "heatmap": [
           {
            "colorbar": {
             "outlinewidth": 0,
             "ticks": ""
            },
            "colorscale": [
             [
              0.0,
              "#0d0887"
             ],
             [
              0.1111111111111111,
              "#46039f"
             ],
             [
              0.2222222222222222,
              "#7201a8"
             ],
             [
              0.3333333333333333,
              "#9c179e"
             ],
             [
              0.4444444444444444,
              "#bd3786"
             ],
             [
              0.5555555555555556,
              "#d8576b"
             ],
             [
              0.6666666666666666,
              "#ed7953"
             ],
             [
              0.7777777777777778,
              "#fb9f3a"
             ],
             [
              0.8888888888888888,
              "#fdca26"
             ],
             [
              1.0,
              "#f0f921"
             ]
            ],
            "type": "heatmap"
           }
          ],
          "heatmapgl": [
           {
            "colorbar": {
             "outlinewidth": 0,
             "ticks": ""
            },
            "colorscale": [
             [
              0.0,
              "#0d0887"
             ],
             [
              0.1111111111111111,
              "#46039f"
             ],
             [
              0.2222222222222222,
              "#7201a8"
             ],
             [
              0.3333333333333333,
              "#9c179e"
             ],
             [
              0.4444444444444444,
              "#bd3786"
             ],
             [
              0.5555555555555556,
              "#d8576b"
             ],
             [
              0.6666666666666666,
              "#ed7953"
             ],
             [
              0.7777777777777778,
              "#fb9f3a"
             ],
             [
              0.8888888888888888,
              "#fdca26"
             ],
             [
              1.0,
              "#f0f921"
             ]
            ],
            "type": "heatmapgl"
           }
          ],
          "histogram": [
           {
            "marker": {
             "pattern": {
              "fillmode": "overlay",
              "size": 10,
              "solidity": 0.2
             }
            },
            "type": "histogram"
           }
          ],
          "histogram2d": [
           {
            "colorbar": {
             "outlinewidth": 0,
             "ticks": ""
            },
            "colorscale": [
             [
              0.0,
              "#0d0887"
             ],
             [
              0.1111111111111111,
              "#46039f"
             ],
             [
              0.2222222222222222,
              "#7201a8"
             ],
             [
              0.3333333333333333,
              "#9c179e"
             ],
             [
              0.4444444444444444,
              "#bd3786"
             ],
             [
              0.5555555555555556,
              "#d8576b"
             ],
             [
              0.6666666666666666,
              "#ed7953"
             ],
             [
              0.7777777777777778,
              "#fb9f3a"
             ],
             [
              0.8888888888888888,
              "#fdca26"
             ],
             [
              1.0,
              "#f0f921"
             ]
            ],
            "type": "histogram2d"
           }
          ],
          "histogram2dcontour": [
           {
            "colorbar": {
             "outlinewidth": 0,
             "ticks": ""
            },
            "colorscale": [
             [
              0.0,
              "#0d0887"
             ],
             [
              0.1111111111111111,
              "#46039f"
             ],
             [
              0.2222222222222222,
              "#7201a8"
             ],
             [
              0.3333333333333333,
              "#9c179e"
             ],
             [
              0.4444444444444444,
              "#bd3786"
             ],
             [
              0.5555555555555556,
              "#d8576b"
             ],
             [
              0.6666666666666666,
              "#ed7953"
             ],
             [
              0.7777777777777778,
              "#fb9f3a"
             ],
             [
              0.8888888888888888,
              "#fdca26"
             ],
             [
              1.0,
              "#f0f921"
             ]
            ],
            "type": "histogram2dcontour"
           }
          ],
          "mesh3d": [
           {
            "colorbar": {
             "outlinewidth": 0,
             "ticks": ""
            },
            "type": "mesh3d"
           }
          ],
          "parcoords": [
           {
            "line": {
             "colorbar": {
              "outlinewidth": 0,
              "ticks": ""
             }
            },
            "type": "parcoords"
           }
          ],
          "pie": [
           {
            "automargin": true,
            "type": "pie"
           }
          ],
          "scatter": [
           {
            "marker": {
             "colorbar": {
              "outlinewidth": 0,
              "ticks": ""
             }
            },
            "type": "scatter"
           }
          ],
          "scatter3d": [
           {
            "line": {
             "colorbar": {
              "outlinewidth": 0,
              "ticks": ""
             }
            },
            "marker": {
             "colorbar": {
              "outlinewidth": 0,
              "ticks": ""
             }
            },
            "type": "scatter3d"
           }
          ],
          "scattercarpet": [
           {
            "marker": {
             "colorbar": {
              "outlinewidth": 0,
              "ticks": ""
             }
            },
            "type": "scattercarpet"
           }
          ],
          "scattergeo": [
           {
            "marker": {
             "colorbar": {
              "outlinewidth": 0,
              "ticks": ""
             }
            },
            "type": "scattergeo"
           }
          ],
          "scattergl": [
           {
            "marker": {
             "colorbar": {
              "outlinewidth": 0,
              "ticks": ""
             }
            },
            "type": "scattergl"
           }
          ],
          "scattermapbox": [
           {
            "marker": {
             "colorbar": {
              "outlinewidth": 0,
              "ticks": ""
             }
            },
            "type": "scattermapbox"
           }
          ],
          "scatterpolar": [
           {
            "marker": {
             "colorbar": {
              "outlinewidth": 0,
              "ticks": ""
             }
            },
            "type": "scatterpolar"
           }
          ],
          "scatterpolargl": [
           {
            "marker": {
             "colorbar": {
              "outlinewidth": 0,
              "ticks": ""
             }
            },
            "type": "scatterpolargl"
           }
          ],
          "scatterternary": [
           {
            "marker": {
             "colorbar": {
              "outlinewidth": 0,
              "ticks": ""
             }
            },
            "type": "scatterternary"
           }
          ],
          "surface": [
           {
            "colorbar": {
             "outlinewidth": 0,
             "ticks": ""
            },
            "colorscale": [
             [
              0.0,
              "#0d0887"
             ],
             [
              0.1111111111111111,
              "#46039f"
             ],
             [
              0.2222222222222222,
              "#7201a8"
             ],
             [
              0.3333333333333333,
              "#9c179e"
             ],
             [
              0.4444444444444444,
              "#bd3786"
             ],
             [
              0.5555555555555556,
              "#d8576b"
             ],
             [
              0.6666666666666666,
              "#ed7953"
             ],
             [
              0.7777777777777778,
              "#fb9f3a"
             ],
             [
              0.8888888888888888,
              "#fdca26"
             ],
             [
              1.0,
              "#f0f921"
             ]
            ],
            "type": "surface"
           }
          ],
          "table": [
           {
            "cells": {
             "fill": {
              "color": "#EBF0F8"
             },
             "line": {
              "color": "white"
             }
            },
            "header": {
             "fill": {
              "color": "#C8D4E3"
             },
             "line": {
              "color": "white"
             }
            },
            "type": "table"
           }
          ]
         },
         "layout": {
          "annotationdefaults": {
           "arrowcolor": "#2a3f5f",
           "arrowhead": 0,
           "arrowwidth": 1
          },
          "autotypenumbers": "strict",
          "coloraxis": {
           "colorbar": {
            "outlinewidth": 0,
            "ticks": ""
           }
          },
          "colorscale": {
           "diverging": [
            [
             0,
             "#8e0152"
            ],
            [
             0.1,
             "#c51b7d"
            ],
            [
             0.2,
             "#de77ae"
            ],
            [
             0.3,
             "#f1b6da"
            ],
            [
             0.4,
             "#fde0ef"
            ],
            [
             0.5,
             "#f7f7f7"
            ],
            [
             0.6,
             "#e6f5d0"
            ],
            [
             0.7,
             "#b8e186"
            ],
            [
             0.8,
             "#7fbc41"
            ],
            [
             0.9,
             "#4d9221"
            ],
            [
             1,
             "#276419"
            ]
           ],
           "sequential": [
            [
             0.0,
             "#0d0887"
            ],
            [
             0.1111111111111111,
             "#46039f"
            ],
            [
             0.2222222222222222,
             "#7201a8"
            ],
            [
             0.3333333333333333,
             "#9c179e"
            ],
            [
             0.4444444444444444,
             "#bd3786"
            ],
            [
             0.5555555555555556,
             "#d8576b"
            ],
            [
             0.6666666666666666,
             "#ed7953"
            ],
            [
             0.7777777777777778,
             "#fb9f3a"
            ],
            [
             0.8888888888888888,
             "#fdca26"
            ],
            [
             1.0,
             "#f0f921"
            ]
           ],
           "sequentialminus": [
            [
             0.0,
             "#0d0887"
            ],
            [
             0.1111111111111111,
             "#46039f"
            ],
            [
             0.2222222222222222,
             "#7201a8"
            ],
            [
             0.3333333333333333,
             "#9c179e"
            ],
            [
             0.4444444444444444,
             "#bd3786"
            ],
            [
             0.5555555555555556,
             "#d8576b"
            ],
            [
             0.6666666666666666,
             "#ed7953"
            ],
            [
             0.7777777777777778,
             "#fb9f3a"
            ],
            [
             0.8888888888888888,
             "#fdca26"
            ],
            [
             1.0,
             "#f0f921"
            ]
           ]
          },
          "colorway": [
           "#636efa",
           "#EF553B",
           "#00cc96",
           "#ab63fa",
           "#FFA15A",
           "#19d3f3",
           "#FF6692",
           "#B6E880",
           "#FF97FF",
           "#FECB52"
          ],
          "font": {
           "color": "#2a3f5f"
          },
          "geo": {
           "bgcolor": "white",
           "lakecolor": "white",
           "landcolor": "#E5ECF6",
           "showlakes": true,
           "showland": true,
           "subunitcolor": "white"
          },
          "hoverlabel": {
           "align": "left"
          },
          "hovermode": "closest",
          "mapbox": {
           "style": "light"
          },
          "paper_bgcolor": "white",
          "plot_bgcolor": "#E5ECF6",
          "polar": {
           "angularaxis": {
            "gridcolor": "white",
            "linecolor": "white",
            "ticks": ""
           },
           "bgcolor": "#E5ECF6",
           "radialaxis": {
            "gridcolor": "white",
            "linecolor": "white",
            "ticks": ""
           }
          },
          "scene": {
           "xaxis": {
            "backgroundcolor": "#E5ECF6",
            "gridcolor": "white",
            "gridwidth": 2,
            "linecolor": "white",
            "showbackground": true,
            "ticks": "",
            "zerolinecolor": "white"
           },
           "yaxis": {
            "backgroundcolor": "#E5ECF6",
            "gridcolor": "white",
            "gridwidth": 2,
            "linecolor": "white",
            "showbackground": true,
            "ticks": "",
            "zerolinecolor": "white"
           },
           "zaxis": {
            "backgroundcolor": "#E5ECF6",
            "gridcolor": "white",
            "gridwidth": 2,
            "linecolor": "white",
            "showbackground": true,
            "ticks": "",
            "zerolinecolor": "white"
           }
          },
          "shapedefaults": {
           "line": {
            "color": "#2a3f5f"
           }
          },
          "ternary": {
           "aaxis": {
            "gridcolor": "white",
            "linecolor": "white",
            "ticks": ""
           },
           "baxis": {
            "gridcolor": "white",
            "linecolor": "white",
            "ticks": ""
           },
           "bgcolor": "#E5ECF6",
           "caxis": {
            "gridcolor": "white",
            "linecolor": "white",
            "ticks": ""
           }
          },
          "title": {
           "x": 0.05
          },
          "xaxis": {
           "automargin": true,
           "gridcolor": "white",
           "linecolor": "white",
           "ticks": "",
           "title": {
            "standoff": 15
           },
           "zerolinecolor": "white",
           "zerolinewidth": 2
          },
          "yaxis": {
           "automargin": true,
           "gridcolor": "white",
           "linecolor": "white",
           "ticks": "",
           "title": {
            "standoff": 15
           },
           "zerolinecolor": "white",
           "zerolinewidth": 2
          }
         }
        },
        "title": {
         "text": "Mean f1 score on testing and training set for each parameter combination <br> (Model: RandomForest Classifier, Dataset: Multivariate feature imputation)"
        },
        "xaxis": {
         "anchor": "y",
         "domain": [
          0.0,
          1.0
         ],
         "title": {
          "text": "Params"
         }
        },
        "yaxis": {
         "anchor": "x",
         "domain": [
          0.0,
          1.0
         ],
         "title": {
          "text": "Average f1"
         }
        }
       }
      },
      "text/html": "<div>                            <div id=\"f5c2a53c-8028-40c7-a998-5bfb5e8f2108\" class=\"plotly-graph-div\" style=\"height:525px; width:100%;\"></div>            <script type=\"text/javascript\">                require([\"plotly\"], function(Plotly) {                    window.PLOTLYENV=window.PLOTLYENV || {};                                    if (document.getElementById(\"f5c2a53c-8028-40c7-a998-5bfb5e8f2108\")) {                    Plotly.newPlot(                        \"f5c2a53c-8028-40c7-a998-5bfb5e8f2108\",                        [{\"alignmentgroup\":\"True\",\"customdata\":[[\"{'max_depth': 3, 'max_features': 'sqrt', 'min_samples_split': 3, 'n_estimators': 50}\"],[\"{'max_depth': 3, 'max_features': 'sqrt', 'min_samples_split': 3, 'n_estimators': 80}\"],[\"{'max_depth': 3, 'max_features': 'sqrt', 'min_samples_split': 3, 'n_estimators': 110}\"],[\"{'max_depth': 3, 'max_features': 'sqrt', 'min_samples_split': 3, 'n_estimators': 130}\"],[\"{'max_depth': 3, 'max_features': 'sqrt', 'min_samples_split': 6, 'n_estimators': 50}\"],[\"{'max_depth': 3, 'max_features': 'sqrt', 'min_samples_split': 6, 'n_estimators': 80}\"],[\"{'max_depth': 3, 'max_features': 'sqrt', 'min_samples_split': 6, 'n_estimators': 110}\"],[\"{'max_depth': 3, 'max_features': 'sqrt', 'min_samples_split': 6, 'n_estimators': 130}\"],[\"{'max_depth': 3, 'max_features': 'sqrt', 'min_samples_split': 9, 'n_estimators': 50}\"],[\"{'max_depth': 3, 'max_features': 'sqrt', 'min_samples_split': 9, 'n_estimators': 80}\"],[\"{'max_depth': 3, 'max_features': 'sqrt', 'min_samples_split': 9, 'n_estimators': 110}\"],[\"{'max_depth': 3, 'max_features': 'sqrt', 'min_samples_split': 9, 'n_estimators': 130}\"],[\"{'max_depth': 3, 'max_features': 'sqrt', 'min_samples_split': 12, 'n_estimators': 50}\"],[\"{'max_depth': 3, 'max_features': 'sqrt', 'min_samples_split': 12, 'n_estimators': 80}\"],[\"{'max_depth': 3, 'max_features': 'sqrt', 'min_samples_split': 12, 'n_estimators': 110}\"],[\"{'max_depth': 3, 'max_features': 'sqrt', 'min_samples_split': 12, 'n_estimators': 130}\"],[\"{'max_depth': 3, 'max_features': 'log2', 'min_samples_split': 3, 'n_estimators': 50}\"],[\"{'max_depth': 3, 'max_features': 'log2', 'min_samples_split': 3, 'n_estimators': 80}\"],[\"{'max_depth': 3, 'max_features': 'log2', 'min_samples_split': 3, 'n_estimators': 110}\"],[\"{'max_depth': 3, 'max_features': 'log2', 'min_samples_split': 3, 'n_estimators': 130}\"],[\"{'max_depth': 3, 'max_features': 'log2', 'min_samples_split': 6, 'n_estimators': 50}\"],[\"{'max_depth': 3, 'max_features': 'log2', 'min_samples_split': 6, 'n_estimators': 80}\"],[\"{'max_depth': 3, 'max_features': 'log2', 'min_samples_split': 6, 'n_estimators': 110}\"],[\"{'max_depth': 3, 'max_features': 'log2', 'min_samples_split': 6, 'n_estimators': 130}\"],[\"{'max_depth': 3, 'max_features': 'log2', 'min_samples_split': 9, 'n_estimators': 50}\"],[\"{'max_depth': 3, 'max_features': 'log2', 'min_samples_split': 9, 'n_estimators': 80}\"],[\"{'max_depth': 3, 'max_features': 'log2', 'min_samples_split': 9, 'n_estimators': 110}\"],[\"{'max_depth': 3, 'max_features': 'log2', 'min_samples_split': 9, 'n_estimators': 130}\"],[\"{'max_depth': 3, 'max_features': 'log2', 'min_samples_split': 12, 'n_estimators': 50}\"],[\"{'max_depth': 3, 'max_features': 'log2', 'min_samples_split': 12, 'n_estimators': 80}\"],[\"{'max_depth': 3, 'max_features': 'log2', 'min_samples_split': 12, 'n_estimators': 110}\"],[\"{'max_depth': 3, 'max_features': 'log2', 'min_samples_split': 12, 'n_estimators': 130}\"],[\"{'max_depth': 6, 'max_features': 'sqrt', 'min_samples_split': 3, 'n_estimators': 50}\"],[\"{'max_depth': 6, 'max_features': 'sqrt', 'min_samples_split': 3, 'n_estimators': 80}\"],[\"{'max_depth': 6, 'max_features': 'sqrt', 'min_samples_split': 3, 'n_estimators': 110}\"],[\"{'max_depth': 6, 'max_features': 'sqrt', 'min_samples_split': 3, 'n_estimators': 130}\"],[\"{'max_depth': 6, 'max_features': 'sqrt', 'min_samples_split': 6, 'n_estimators': 50}\"],[\"{'max_depth': 6, 'max_features': 'sqrt', 'min_samples_split': 6, 'n_estimators': 80}\"],[\"{'max_depth': 6, 'max_features': 'sqrt', 'min_samples_split': 6, 'n_estimators': 110}\"],[\"{'max_depth': 6, 'max_features': 'sqrt', 'min_samples_split': 6, 'n_estimators': 130}\"],[\"{'max_depth': 6, 'max_features': 'sqrt', 'min_samples_split': 9, 'n_estimators': 50}\"],[\"{'max_depth': 6, 'max_features': 'sqrt', 'min_samples_split': 9, 'n_estimators': 80}\"],[\"{'max_depth': 6, 'max_features': 'sqrt', 'min_samples_split': 9, 'n_estimators': 110}\"],[\"{'max_depth': 6, 'max_features': 'sqrt', 'min_samples_split': 9, 'n_estimators': 130}\"],[\"{'max_depth': 6, 'max_features': 'sqrt', 'min_samples_split': 12, 'n_estimators': 50}\"],[\"{'max_depth': 6, 'max_features': 'sqrt', 'min_samples_split': 12, 'n_estimators': 80}\"],[\"{'max_depth': 6, 'max_features': 'sqrt', 'min_samples_split': 12, 'n_estimators': 110}\"],[\"{'max_depth': 6, 'max_features': 'sqrt', 'min_samples_split': 12, 'n_estimators': 130}\"],[\"{'max_depth': 6, 'max_features': 'log2', 'min_samples_split': 3, 'n_estimators': 50}\"],[\"{'max_depth': 6, 'max_features': 'log2', 'min_samples_split': 3, 'n_estimators': 80}\"],[\"{'max_depth': 6, 'max_features': 'log2', 'min_samples_split': 3, 'n_estimators': 110}\"],[\"{'max_depth': 6, 'max_features': 'log2', 'min_samples_split': 3, 'n_estimators': 130}\"],[\"{'max_depth': 6, 'max_features': 'log2', 'min_samples_split': 6, 'n_estimators': 50}\"],[\"{'max_depth': 6, 'max_features': 'log2', 'min_samples_split': 6, 'n_estimators': 80}\"],[\"{'max_depth': 6, 'max_features': 'log2', 'min_samples_split': 6, 'n_estimators': 110}\"],[\"{'max_depth': 6, 'max_features': 'log2', 'min_samples_split': 6, 'n_estimators': 130}\"],[\"{'max_depth': 6, 'max_features': 'log2', 'min_samples_split': 9, 'n_estimators': 50}\"],[\"{'max_depth': 6, 'max_features': 'log2', 'min_samples_split': 9, 'n_estimators': 80}\"],[\"{'max_depth': 6, 'max_features': 'log2', 'min_samples_split': 9, 'n_estimators': 110}\"],[\"{'max_depth': 6, 'max_features': 'log2', 'min_samples_split': 9, 'n_estimators': 130}\"],[\"{'max_depth': 6, 'max_features': 'log2', 'min_samples_split': 12, 'n_estimators': 50}\"],[\"{'max_depth': 6, 'max_features': 'log2', 'min_samples_split': 12, 'n_estimators': 80}\"],[\"{'max_depth': 6, 'max_features': 'log2', 'min_samples_split': 12, 'n_estimators': 110}\"],[\"{'max_depth': 6, 'max_features': 'log2', 'min_samples_split': 12, 'n_estimators': 130}\"],[\"{'max_depth': 9, 'max_features': 'sqrt', 'min_samples_split': 3, 'n_estimators': 50}\"],[\"{'max_depth': 9, 'max_features': 'sqrt', 'min_samples_split': 3, 'n_estimators': 80}\"],[\"{'max_depth': 9, 'max_features': 'sqrt', 'min_samples_split': 3, 'n_estimators': 110}\"],[\"{'max_depth': 9, 'max_features': 'sqrt', 'min_samples_split': 3, 'n_estimators': 130}\"],[\"{'max_depth': 9, 'max_features': 'sqrt', 'min_samples_split': 6, 'n_estimators': 50}\"],[\"{'max_depth': 9, 'max_features': 'sqrt', 'min_samples_split': 6, 'n_estimators': 80}\"],[\"{'max_depth': 9, 'max_features': 'sqrt', 'min_samples_split': 6, 'n_estimators': 110}\"],[\"{'max_depth': 9, 'max_features': 'sqrt', 'min_samples_split': 6, 'n_estimators': 130}\"],[\"{'max_depth': 9, 'max_features': 'sqrt', 'min_samples_split': 9, 'n_estimators': 50}\"],[\"{'max_depth': 9, 'max_features': 'sqrt', 'min_samples_split': 9, 'n_estimators': 80}\"],[\"{'max_depth': 9, 'max_features': 'sqrt', 'min_samples_split': 9, 'n_estimators': 110}\"],[\"{'max_depth': 9, 'max_features': 'sqrt', 'min_samples_split': 9, 'n_estimators': 130}\"],[\"{'max_depth': 9, 'max_features': 'sqrt', 'min_samples_split': 12, 'n_estimators': 50}\"],[\"{'max_depth': 9, 'max_features': 'sqrt', 'min_samples_split': 12, 'n_estimators': 80}\"],[\"{'max_depth': 9, 'max_features': 'sqrt', 'min_samples_split': 12, 'n_estimators': 110}\"],[\"{'max_depth': 9, 'max_features': 'sqrt', 'min_samples_split': 12, 'n_estimators': 130}\"],[\"{'max_depth': 9, 'max_features': 'log2', 'min_samples_split': 3, 'n_estimators': 50}\"],[\"{'max_depth': 9, 'max_features': 'log2', 'min_samples_split': 3, 'n_estimators': 80}\"],[\"{'max_depth': 9, 'max_features': 'log2', 'min_samples_split': 3, 'n_estimators': 110}\"],[\"{'max_depth': 9, 'max_features': 'log2', 'min_samples_split': 3, 'n_estimators': 130}\"],[\"{'max_depth': 9, 'max_features': 'log2', 'min_samples_split': 6, 'n_estimators': 50}\"],[\"{'max_depth': 9, 'max_features': 'log2', 'min_samples_split': 6, 'n_estimators': 80}\"],[\"{'max_depth': 9, 'max_features': 'log2', 'min_samples_split': 6, 'n_estimators': 110}\"],[\"{'max_depth': 9, 'max_features': 'log2', 'min_samples_split': 6, 'n_estimators': 130}\"],[\"{'max_depth': 9, 'max_features': 'log2', 'min_samples_split': 9, 'n_estimators': 50}\"],[\"{'max_depth': 9, 'max_features': 'log2', 'min_samples_split': 9, 'n_estimators': 80}\"],[\"{'max_depth': 9, 'max_features': 'log2', 'min_samples_split': 9, 'n_estimators': 110}\"],[\"{'max_depth': 9, 'max_features': 'log2', 'min_samples_split': 9, 'n_estimators': 130}\"],[\"{'max_depth': 9, 'max_features': 'log2', 'min_samples_split': 12, 'n_estimators': 50}\"],[\"{'max_depth': 9, 'max_features': 'log2', 'min_samples_split': 12, 'n_estimators': 80}\"],[\"{'max_depth': 9, 'max_features': 'log2', 'min_samples_split': 12, 'n_estimators': 110}\"],[\"{'max_depth': 9, 'max_features': 'log2', 'min_samples_split': 12, 'n_estimators': 130}\"]],\"error_y\":{\"array\":[0.04301566500321152,0.0323579015122437,0.02443521861760343,0.01782404883841695,0.0292730487256971,0.0184794842315542,0.019856058103381063,0.02049268708351675,0.012766548328401467,0.03321608681823612,0.024501492765950667,0.012766872400589114,0.024772807729865124,0.014539253509535985,0.025541778620754584,0.03702410462427731,0.017048773105183143,0.023288824146056833,0.01981808931211486,0.017737832575698533,0.021339030707261224,0.03128459643662254,0.022356081656635995,0.028855682258989292,0.016512496430089802,0.03158584175338174,0.015733884396303875,0.02099887766052695,0.03585467451796491,0.01782499003746761,0.02102178556779449,0.030446544731036355,0.023443369338576152,0.03122668949084056,0.029397174067714336,0.021246343764115713,0.019748884061092573,0.02015215948270213,0.04268811865499495,0.028831267864193884,0.02116178320647704,0.030730605074075466,0.01320034065437256,0.03272013698305506,0.03982866670424239,0.03973170036058674,0.036639182358741626,0.020317698397218736,0.023515700893978798,0.02847770907932196,0.0197864751437624,0.01893217669226877,0.018920451719761967,0.012770233591216396,0.01481215453574758,0.03481751887993813,0.03270125451741455,0.029530090270875973,0.03298667668335727,0.018692540369302273,0.04461058888280014,0.03199614122356874,0.022006882710426265,0.033431542286579234,0.0313738664048911,0.049296239761176835,0.019094911776159813,0.03736860855294364,0.0366893996317081,0.027599912700675005,0.02818362691979967,0.03706493655244857,0.051201890501367114,0.028126728703066654,0.018969799248765778,0.017066709707372243,0.022840570681777365,0.01598149559984174,0.031446500574976874,0.02609715010310343,0.03127464434594875,0.031237583746837144,0.027998465874587118,0.027936798782021034,0.043295598559329795,0.02399666433908925,0.0312610127343484,0.0303809021622763,0.027192835949694016,0.035793506391022745,0.031220196041880383,0.032135939019990546,0.03048375854788571,0.023712457361955555,0.02174308228573729,0.033227332545141354]},\"hovertemplate\":\"<b>%{hovertext}</b><br><br>type=test<br>Params=%{x}<br>Average f1=%{y}<br>params=%{customdata[0]}<extra></extra>\",\"hovertext\":[\"{'max_depth': 3, 'max_features': 'sqrt', 'min_samples_split': 3, 'n_estimators': 50}\",\"{'max_depth': 3, 'max_features': 'sqrt', 'min_samples_split': 3, 'n_estimators': 80}\",\"{'max_depth': 3, 'max_features': 'sqrt', 'min_samples_split': 3, 'n_estimators': 110}\",\"{'max_depth': 3, 'max_features': 'sqrt', 'min_samples_split': 3, 'n_estimators': 130}\",\"{'max_depth': 3, 'max_features': 'sqrt', 'min_samples_split': 6, 'n_estimators': 50}\",\"{'max_depth': 3, 'max_features': 'sqrt', 'min_samples_split': 6, 'n_estimators': 80}\",\"{'max_depth': 3, 'max_features': 'sqrt', 'min_samples_split': 6, 'n_estimators': 110}\",\"{'max_depth': 3, 'max_features': 'sqrt', 'min_samples_split': 6, 'n_estimators': 130}\",\"{'max_depth': 3, 'max_features': 'sqrt', 'min_samples_split': 9, 'n_estimators': 50}\",\"{'max_depth': 3, 'max_features': 'sqrt', 'min_samples_split': 9, 'n_estimators': 80}\",\"{'max_depth': 3, 'max_features': 'sqrt', 'min_samples_split': 9, 'n_estimators': 110}\",\"{'max_depth': 3, 'max_features': 'sqrt', 'min_samples_split': 9, 'n_estimators': 130}\",\"{'max_depth': 3, 'max_features': 'sqrt', 'min_samples_split': 12, 'n_estimators': 50}\",\"{'max_depth': 3, 'max_features': 'sqrt', 'min_samples_split': 12, 'n_estimators': 80}\",\"{'max_depth': 3, 'max_features': 'sqrt', 'min_samples_split': 12, 'n_estimators': 110}\",\"{'max_depth': 3, 'max_features': 'sqrt', 'min_samples_split': 12, 'n_estimators': 130}\",\"{'max_depth': 3, 'max_features': 'log2', 'min_samples_split': 3, 'n_estimators': 50}\",\"{'max_depth': 3, 'max_features': 'log2', 'min_samples_split': 3, 'n_estimators': 80}\",\"{'max_depth': 3, 'max_features': 'log2', 'min_samples_split': 3, 'n_estimators': 110}\",\"{'max_depth': 3, 'max_features': 'log2', 'min_samples_split': 3, 'n_estimators': 130}\",\"{'max_depth': 3, 'max_features': 'log2', 'min_samples_split': 6, 'n_estimators': 50}\",\"{'max_depth': 3, 'max_features': 'log2', 'min_samples_split': 6, 'n_estimators': 80}\",\"{'max_depth': 3, 'max_features': 'log2', 'min_samples_split': 6, 'n_estimators': 110}\",\"{'max_depth': 3, 'max_features': 'log2', 'min_samples_split': 6, 'n_estimators': 130}\",\"{'max_depth': 3, 'max_features': 'log2', 'min_samples_split': 9, 'n_estimators': 50}\",\"{'max_depth': 3, 'max_features': 'log2', 'min_samples_split': 9, 'n_estimators': 80}\",\"{'max_depth': 3, 'max_features': 'log2', 'min_samples_split': 9, 'n_estimators': 110}\",\"{'max_depth': 3, 'max_features': 'log2', 'min_samples_split': 9, 'n_estimators': 130}\",\"{'max_depth': 3, 'max_features': 'log2', 'min_samples_split': 12, 'n_estimators': 50}\",\"{'max_depth': 3, 'max_features': 'log2', 'min_samples_split': 12, 'n_estimators': 80}\",\"{'max_depth': 3, 'max_features': 'log2', 'min_samples_split': 12, 'n_estimators': 110}\",\"{'max_depth': 3, 'max_features': 'log2', 'min_samples_split': 12, 'n_estimators': 130}\",\"{'max_depth': 6, 'max_features': 'sqrt', 'min_samples_split': 3, 'n_estimators': 50}\",\"{'max_depth': 6, 'max_features': 'sqrt', 'min_samples_split': 3, 'n_estimators': 80}\",\"{'max_depth': 6, 'max_features': 'sqrt', 'min_samples_split': 3, 'n_estimators': 110}\",\"{'max_depth': 6, 'max_features': 'sqrt', 'min_samples_split': 3, 'n_estimators': 130}\",\"{'max_depth': 6, 'max_features': 'sqrt', 'min_samples_split': 6, 'n_estimators': 50}\",\"{'max_depth': 6, 'max_features': 'sqrt', 'min_samples_split': 6, 'n_estimators': 80}\",\"{'max_depth': 6, 'max_features': 'sqrt', 'min_samples_split': 6, 'n_estimators': 110}\",\"{'max_depth': 6, 'max_features': 'sqrt', 'min_samples_split': 6, 'n_estimators': 130}\",\"{'max_depth': 6, 'max_features': 'sqrt', 'min_samples_split': 9, 'n_estimators': 50}\",\"{'max_depth': 6, 'max_features': 'sqrt', 'min_samples_split': 9, 'n_estimators': 80}\",\"{'max_depth': 6, 'max_features': 'sqrt', 'min_samples_split': 9, 'n_estimators': 110}\",\"{'max_depth': 6, 'max_features': 'sqrt', 'min_samples_split': 9, 'n_estimators': 130}\",\"{'max_depth': 6, 'max_features': 'sqrt', 'min_samples_split': 12, 'n_estimators': 50}\",\"{'max_depth': 6, 'max_features': 'sqrt', 'min_samples_split': 12, 'n_estimators': 80}\",\"{'max_depth': 6, 'max_features': 'sqrt', 'min_samples_split': 12, 'n_estimators': 110}\",\"{'max_depth': 6, 'max_features': 'sqrt', 'min_samples_split': 12, 'n_estimators': 130}\",\"{'max_depth': 6, 'max_features': 'log2', 'min_samples_split': 3, 'n_estimators': 50}\",\"{'max_depth': 6, 'max_features': 'log2', 'min_samples_split': 3, 'n_estimators': 80}\",\"{'max_depth': 6, 'max_features': 'log2', 'min_samples_split': 3, 'n_estimators': 110}\",\"{'max_depth': 6, 'max_features': 'log2', 'min_samples_split': 3, 'n_estimators': 130}\",\"{'max_depth': 6, 'max_features': 'log2', 'min_samples_split': 6, 'n_estimators': 50}\",\"{'max_depth': 6, 'max_features': 'log2', 'min_samples_split': 6, 'n_estimators': 80}\",\"{'max_depth': 6, 'max_features': 'log2', 'min_samples_split': 6, 'n_estimators': 110}\",\"{'max_depth': 6, 'max_features': 'log2', 'min_samples_split': 6, 'n_estimators': 130}\",\"{'max_depth': 6, 'max_features': 'log2', 'min_samples_split': 9, 'n_estimators': 50}\",\"{'max_depth': 6, 'max_features': 'log2', 'min_samples_split': 9, 'n_estimators': 80}\",\"{'max_depth': 6, 'max_features': 'log2', 'min_samples_split': 9, 'n_estimators': 110}\",\"{'max_depth': 6, 'max_features': 'log2', 'min_samples_split': 9, 'n_estimators': 130}\",\"{'max_depth': 6, 'max_features': 'log2', 'min_samples_split': 12, 'n_estimators': 50}\",\"{'max_depth': 6, 'max_features': 'log2', 'min_samples_split': 12, 'n_estimators': 80}\",\"{'max_depth': 6, 'max_features': 'log2', 'min_samples_split': 12, 'n_estimators': 110}\",\"{'max_depth': 6, 'max_features': 'log2', 'min_samples_split': 12, 'n_estimators': 130}\",\"{'max_depth': 9, 'max_features': 'sqrt', 'min_samples_split': 3, 'n_estimators': 50}\",\"{'max_depth': 9, 'max_features': 'sqrt', 'min_samples_split': 3, 'n_estimators': 80}\",\"{'max_depth': 9, 'max_features': 'sqrt', 'min_samples_split': 3, 'n_estimators': 110}\",\"{'max_depth': 9, 'max_features': 'sqrt', 'min_samples_split': 3, 'n_estimators': 130}\",\"{'max_depth': 9, 'max_features': 'sqrt', 'min_samples_split': 6, 'n_estimators': 50}\",\"{'max_depth': 9, 'max_features': 'sqrt', 'min_samples_split': 6, 'n_estimators': 80}\",\"{'max_depth': 9, 'max_features': 'sqrt', 'min_samples_split': 6, 'n_estimators': 110}\",\"{'max_depth': 9, 'max_features': 'sqrt', 'min_samples_split': 6, 'n_estimators': 130}\",\"{'max_depth': 9, 'max_features': 'sqrt', 'min_samples_split': 9, 'n_estimators': 50}\",\"{'max_depth': 9, 'max_features': 'sqrt', 'min_samples_split': 9, 'n_estimators': 80}\",\"{'max_depth': 9, 'max_features': 'sqrt', 'min_samples_split': 9, 'n_estimators': 110}\",\"{'max_depth': 9, 'max_features': 'sqrt', 'min_samples_split': 9, 'n_estimators': 130}\",\"{'max_depth': 9, 'max_features': 'sqrt', 'min_samples_split': 12, 'n_estimators': 50}\",\"{'max_depth': 9, 'max_features': 'sqrt', 'min_samples_split': 12, 'n_estimators': 80}\",\"{'max_depth': 9, 'max_features': 'sqrt', 'min_samples_split': 12, 'n_estimators': 110}\",\"{'max_depth': 9, 'max_features': 'sqrt', 'min_samples_split': 12, 'n_estimators': 130}\",\"{'max_depth': 9, 'max_features': 'log2', 'min_samples_split': 3, 'n_estimators': 50}\",\"{'max_depth': 9, 'max_features': 'log2', 'min_samples_split': 3, 'n_estimators': 80}\",\"{'max_depth': 9, 'max_features': 'log2', 'min_samples_split': 3, 'n_estimators': 110}\",\"{'max_depth': 9, 'max_features': 'log2', 'min_samples_split': 3, 'n_estimators': 130}\",\"{'max_depth': 9, 'max_features': 'log2', 'min_samples_split': 6, 'n_estimators': 50}\",\"{'max_depth': 9, 'max_features': 'log2', 'min_samples_split': 6, 'n_estimators': 80}\",\"{'max_depth': 9, 'max_features': 'log2', 'min_samples_split': 6, 'n_estimators': 110}\",\"{'max_depth': 9, 'max_features': 'log2', 'min_samples_split': 6, 'n_estimators': 130}\",\"{'max_depth': 9, 'max_features': 'log2', 'min_samples_split': 9, 'n_estimators': 50}\",\"{'max_depth': 9, 'max_features': 'log2', 'min_samples_split': 9, 'n_estimators': 80}\",\"{'max_depth': 9, 'max_features': 'log2', 'min_samples_split': 9, 'n_estimators': 110}\",\"{'max_depth': 9, 'max_features': 'log2', 'min_samples_split': 9, 'n_estimators': 130}\",\"{'max_depth': 9, 'max_features': 'log2', 'min_samples_split': 12, 'n_estimators': 50}\",\"{'max_depth': 9, 'max_features': 'log2', 'min_samples_split': 12, 'n_estimators': 80}\",\"{'max_depth': 9, 'max_features': 'log2', 'min_samples_split': 12, 'n_estimators': 110}\",\"{'max_depth': 9, 'max_features': 'log2', 'min_samples_split': 12, 'n_estimators': 130}\"],\"legendgroup\":\"test\",\"marker\":{\"color\":\"#636efa\",\"pattern\":{\"shape\":\"\"}},\"name\":\"test\",\"offsetgroup\":\"test\",\"orientation\":\"v\",\"showlegend\":true,\"textposition\":\"auto\",\"type\":\"bar\",\"x\":[0,1,2,3,4,5,6,7,8,9,10,11,12,13,14,15,16,17,18,19,20,21,22,23,24,25,26,27,28,29,30,31,32,33,34,35,36,37,38,39,40,41,42,43,44,45,46,47,48,49,50,51,52,53,54,55,56,57,58,59,60,61,62,63,64,65,66,67,68,69,70,71,72,73,74,75,76,77,78,79,80,81,82,83,84,85,86,87,88,89,90,91,92,93,94,95],\"xaxis\":\"x\",\"y\":[0.11128908838733173,0.09455087269899635,0.10257899477989725,0.09938951162318958,0.07876586740481077,0.09690074240118138,0.0950386126344789,0.0978523860876802,0.11575831236111142,0.09337680089518326,0.08426501548831086,0.10629912936549091,0.0852923952505157,0.10448579545241435,0.09945620928544284,0.1017225599261562,0.10265776261581964,0.10625802864181029,0.09360418435165754,0.09535156671562406,0.10128224673655381,0.0968183803843485,0.10363041718210986,0.09638421156066883,0.11588542767781133,0.10976501523849307,0.09661246162819631,0.10199197923684,0.10281092597200614,0.09763656461285712,0.09256121521927597,0.09207765113526803,0.2518734198251015,0.2312206429578679,0.2444832905801017,0.2457100155972162,0.21646115601616076,0.25062955506490037,0.23204032588088253,0.23660316280628368,0.24530264164081972,0.24822596485809761,0.2409469115984833,0.24855344401275709,0.2507457143280668,0.2398846416544056,0.23041140156360287,0.2457915372944373,0.24020732051698773,0.2257899785828407,0.2353647498447271,0.23880391255287758,0.24221123609070272,0.243277005547959,0.24558262857571264,0.23805675970319334,0.2564614507930565,0.24664638498119223,0.23248944381744244,0.24087635696697296,0.2286293727229994,0.2523888376069612,0.2458234822535279,0.23395917683942208,0.324949914853943,0.31089050196883,0.31577267449103574,0.3219136538302537,0.3414194765072788,0.3298889108060171,0.3205021648703844,0.3277076894085213,0.3237535753538504,0.32293214533853287,0.32680161163714777,0.30579037023876143,0.3377588149861536,0.3131737324477809,0.32633202077662576,0.30863011196711115,0.3210330943436341,0.32777700436612556,0.3070467353086027,0.3258266210607278,0.3128723156878805,0.3091757477570323,0.3167981996999572,0.32493071503923765,0.3219287762265769,0.32157143266393134,0.33620246191972974,0.32001853492673316,0.31956494104909416,0.3135757619823897,0.3234897387224873,0.31926237805094193],\"yaxis\":\"y\"},{\"alignmentgroup\":\"True\",\"customdata\":[[\"{'max_depth': 3, 'max_features': 'sqrt', 'min_samples_split': 3, 'n_estimators': 50}\"],[\"{'max_depth': 3, 'max_features': 'sqrt', 'min_samples_split': 3, 'n_estimators': 80}\"],[\"{'max_depth': 3, 'max_features': 'sqrt', 'min_samples_split': 3, 'n_estimators': 110}\"],[\"{'max_depth': 3, 'max_features': 'sqrt', 'min_samples_split': 3, 'n_estimators': 130}\"],[\"{'max_depth': 3, 'max_features': 'sqrt', 'min_samples_split': 6, 'n_estimators': 50}\"],[\"{'max_depth': 3, 'max_features': 'sqrt', 'min_samples_split': 6, 'n_estimators': 80}\"],[\"{'max_depth': 3, 'max_features': 'sqrt', 'min_samples_split': 6, 'n_estimators': 110}\"],[\"{'max_depth': 3, 'max_features': 'sqrt', 'min_samples_split': 6, 'n_estimators': 130}\"],[\"{'max_depth': 3, 'max_features': 'sqrt', 'min_samples_split': 9, 'n_estimators': 50}\"],[\"{'max_depth': 3, 'max_features': 'sqrt', 'min_samples_split': 9, 'n_estimators': 80}\"],[\"{'max_depth': 3, 'max_features': 'sqrt', 'min_samples_split': 9, 'n_estimators': 110}\"],[\"{'max_depth': 3, 'max_features': 'sqrt', 'min_samples_split': 9, 'n_estimators': 130}\"],[\"{'max_depth': 3, 'max_features': 'sqrt', 'min_samples_split': 12, 'n_estimators': 50}\"],[\"{'max_depth': 3, 'max_features': 'sqrt', 'min_samples_split': 12, 'n_estimators': 80}\"],[\"{'max_depth': 3, 'max_features': 'sqrt', 'min_samples_split': 12, 'n_estimators': 110}\"],[\"{'max_depth': 3, 'max_features': 'sqrt', 'min_samples_split': 12, 'n_estimators': 130}\"],[\"{'max_depth': 3, 'max_features': 'log2', 'min_samples_split': 3, 'n_estimators': 50}\"],[\"{'max_depth': 3, 'max_features': 'log2', 'min_samples_split': 3, 'n_estimators': 80}\"],[\"{'max_depth': 3, 'max_features': 'log2', 'min_samples_split': 3, 'n_estimators': 110}\"],[\"{'max_depth': 3, 'max_features': 'log2', 'min_samples_split': 3, 'n_estimators': 130}\"],[\"{'max_depth': 3, 'max_features': 'log2', 'min_samples_split': 6, 'n_estimators': 50}\"],[\"{'max_depth': 3, 'max_features': 'log2', 'min_samples_split': 6, 'n_estimators': 80}\"],[\"{'max_depth': 3, 'max_features': 'log2', 'min_samples_split': 6, 'n_estimators': 110}\"],[\"{'max_depth': 3, 'max_features': 'log2', 'min_samples_split': 6, 'n_estimators': 130}\"],[\"{'max_depth': 3, 'max_features': 'log2', 'min_samples_split': 9, 'n_estimators': 50}\"],[\"{'max_depth': 3, 'max_features': 'log2', 'min_samples_split': 9, 'n_estimators': 80}\"],[\"{'max_depth': 3, 'max_features': 'log2', 'min_samples_split': 9, 'n_estimators': 110}\"],[\"{'max_depth': 3, 'max_features': 'log2', 'min_samples_split': 9, 'n_estimators': 130}\"],[\"{'max_depth': 3, 'max_features': 'log2', 'min_samples_split': 12, 'n_estimators': 50}\"],[\"{'max_depth': 3, 'max_features': 'log2', 'min_samples_split': 12, 'n_estimators': 80}\"],[\"{'max_depth': 3, 'max_features': 'log2', 'min_samples_split': 12, 'n_estimators': 110}\"],[\"{'max_depth': 3, 'max_features': 'log2', 'min_samples_split': 12, 'n_estimators': 130}\"],[\"{'max_depth': 6, 'max_features': 'sqrt', 'min_samples_split': 3, 'n_estimators': 50}\"],[\"{'max_depth': 6, 'max_features': 'sqrt', 'min_samples_split': 3, 'n_estimators': 80}\"],[\"{'max_depth': 6, 'max_features': 'sqrt', 'min_samples_split': 3, 'n_estimators': 110}\"],[\"{'max_depth': 6, 'max_features': 'sqrt', 'min_samples_split': 3, 'n_estimators': 130}\"],[\"{'max_depth': 6, 'max_features': 'sqrt', 'min_samples_split': 6, 'n_estimators': 50}\"],[\"{'max_depth': 6, 'max_features': 'sqrt', 'min_samples_split': 6, 'n_estimators': 80}\"],[\"{'max_depth': 6, 'max_features': 'sqrt', 'min_samples_split': 6, 'n_estimators': 110}\"],[\"{'max_depth': 6, 'max_features': 'sqrt', 'min_samples_split': 6, 'n_estimators': 130}\"],[\"{'max_depth': 6, 'max_features': 'sqrt', 'min_samples_split': 9, 'n_estimators': 50}\"],[\"{'max_depth': 6, 'max_features': 'sqrt', 'min_samples_split': 9, 'n_estimators': 80}\"],[\"{'max_depth': 6, 'max_features': 'sqrt', 'min_samples_split': 9, 'n_estimators': 110}\"],[\"{'max_depth': 6, 'max_features': 'sqrt', 'min_samples_split': 9, 'n_estimators': 130}\"],[\"{'max_depth': 6, 'max_features': 'sqrt', 'min_samples_split': 12, 'n_estimators': 50}\"],[\"{'max_depth': 6, 'max_features': 'sqrt', 'min_samples_split': 12, 'n_estimators': 80}\"],[\"{'max_depth': 6, 'max_features': 'sqrt', 'min_samples_split': 12, 'n_estimators': 110}\"],[\"{'max_depth': 6, 'max_features': 'sqrt', 'min_samples_split': 12, 'n_estimators': 130}\"],[\"{'max_depth': 6, 'max_features': 'log2', 'min_samples_split': 3, 'n_estimators': 50}\"],[\"{'max_depth': 6, 'max_features': 'log2', 'min_samples_split': 3, 'n_estimators': 80}\"],[\"{'max_depth': 6, 'max_features': 'log2', 'min_samples_split': 3, 'n_estimators': 110}\"],[\"{'max_depth': 6, 'max_features': 'log2', 'min_samples_split': 3, 'n_estimators': 130}\"],[\"{'max_depth': 6, 'max_features': 'log2', 'min_samples_split': 6, 'n_estimators': 50}\"],[\"{'max_depth': 6, 'max_features': 'log2', 'min_samples_split': 6, 'n_estimators': 80}\"],[\"{'max_depth': 6, 'max_features': 'log2', 'min_samples_split': 6, 'n_estimators': 110}\"],[\"{'max_depth': 6, 'max_features': 'log2', 'min_samples_split': 6, 'n_estimators': 130}\"],[\"{'max_depth': 6, 'max_features': 'log2', 'min_samples_split': 9, 'n_estimators': 50}\"],[\"{'max_depth': 6, 'max_features': 'log2', 'min_samples_split': 9, 'n_estimators': 80}\"],[\"{'max_depth': 6, 'max_features': 'log2', 'min_samples_split': 9, 'n_estimators': 110}\"],[\"{'max_depth': 6, 'max_features': 'log2', 'min_samples_split': 9, 'n_estimators': 130}\"],[\"{'max_depth': 6, 'max_features': 'log2', 'min_samples_split': 12, 'n_estimators': 50}\"],[\"{'max_depth': 6, 'max_features': 'log2', 'min_samples_split': 12, 'n_estimators': 80}\"],[\"{'max_depth': 6, 'max_features': 'log2', 'min_samples_split': 12, 'n_estimators': 110}\"],[\"{'max_depth': 6, 'max_features': 'log2', 'min_samples_split': 12, 'n_estimators': 130}\"],[\"{'max_depth': 9, 'max_features': 'sqrt', 'min_samples_split': 3, 'n_estimators': 50}\"],[\"{'max_depth': 9, 'max_features': 'sqrt', 'min_samples_split': 3, 'n_estimators': 80}\"],[\"{'max_depth': 9, 'max_features': 'sqrt', 'min_samples_split': 3, 'n_estimators': 110}\"],[\"{'max_depth': 9, 'max_features': 'sqrt', 'min_samples_split': 3, 'n_estimators': 130}\"],[\"{'max_depth': 9, 'max_features': 'sqrt', 'min_samples_split': 6, 'n_estimators': 50}\"],[\"{'max_depth': 9, 'max_features': 'sqrt', 'min_samples_split': 6, 'n_estimators': 80}\"],[\"{'max_depth': 9, 'max_features': 'sqrt', 'min_samples_split': 6, 'n_estimators': 110}\"],[\"{'max_depth': 9, 'max_features': 'sqrt', 'min_samples_split': 6, 'n_estimators': 130}\"],[\"{'max_depth': 9, 'max_features': 'sqrt', 'min_samples_split': 9, 'n_estimators': 50}\"],[\"{'max_depth': 9, 'max_features': 'sqrt', 'min_samples_split': 9, 'n_estimators': 80}\"],[\"{'max_depth': 9, 'max_features': 'sqrt', 'min_samples_split': 9, 'n_estimators': 110}\"],[\"{'max_depth': 9, 'max_features': 'sqrt', 'min_samples_split': 9, 'n_estimators': 130}\"],[\"{'max_depth': 9, 'max_features': 'sqrt', 'min_samples_split': 12, 'n_estimators': 50}\"],[\"{'max_depth': 9, 'max_features': 'sqrt', 'min_samples_split': 12, 'n_estimators': 80}\"],[\"{'max_depth': 9, 'max_features': 'sqrt', 'min_samples_split': 12, 'n_estimators': 110}\"],[\"{'max_depth': 9, 'max_features': 'sqrt', 'min_samples_split': 12, 'n_estimators': 130}\"],[\"{'max_depth': 9, 'max_features': 'log2', 'min_samples_split': 3, 'n_estimators': 50}\"],[\"{'max_depth': 9, 'max_features': 'log2', 'min_samples_split': 3, 'n_estimators': 80}\"],[\"{'max_depth': 9, 'max_features': 'log2', 'min_samples_split': 3, 'n_estimators': 110}\"],[\"{'max_depth': 9, 'max_features': 'log2', 'min_samples_split': 3, 'n_estimators': 130}\"],[\"{'max_depth': 9, 'max_features': 'log2', 'min_samples_split': 6, 'n_estimators': 50}\"],[\"{'max_depth': 9, 'max_features': 'log2', 'min_samples_split': 6, 'n_estimators': 80}\"],[\"{'max_depth': 9, 'max_features': 'log2', 'min_samples_split': 6, 'n_estimators': 110}\"],[\"{'max_depth': 9, 'max_features': 'log2', 'min_samples_split': 6, 'n_estimators': 130}\"],[\"{'max_depth': 9, 'max_features': 'log2', 'min_samples_split': 9, 'n_estimators': 50}\"],[\"{'max_depth': 9, 'max_features': 'log2', 'min_samples_split': 9, 'n_estimators': 80}\"],[\"{'max_depth': 9, 'max_features': 'log2', 'min_samples_split': 9, 'n_estimators': 110}\"],[\"{'max_depth': 9, 'max_features': 'log2', 'min_samples_split': 9, 'n_estimators': 130}\"],[\"{'max_depth': 9, 'max_features': 'log2', 'min_samples_split': 12, 'n_estimators': 50}\"],[\"{'max_depth': 9, 'max_features': 'log2', 'min_samples_split': 12, 'n_estimators': 80}\"],[\"{'max_depth': 9, 'max_features': 'log2', 'min_samples_split': 12, 'n_estimators': 110}\"],[\"{'max_depth': 9, 'max_features': 'log2', 'min_samples_split': 12, 'n_estimators': 130}\"]],\"error_y\":{\"array\":[0.02680183800562589,0.02890869948804289,0.017230993183728966,0.03172412069125013,0.028267721168880475,0.02594207326158512,0.03327496626783611,0.023958790193964383,0.016971213721948656,0.025621029067685316,0.030708499501074748,0.025853716288091164,0.03126517709464345,0.034372883829418124,0.02401020958864251,0.03585994406008262,0.041240355628740975,0.015286750289059358,0.029054523712600058,0.02715425171152983,0.03729600087611192,0.02021967327431042,0.03486744884279376,0.024294833231880354,0.04034416269453342,0.02398959409630045,0.025273778280000932,0.021498884237256693,0.045493825311485304,0.03434227081628417,0.022489399147667687,0.022789070117433235,0.022390175148602108,0.032300418890946966,0.03801942188661598,0.03289426112096516,0.020031716110600038,0.039273662431909044,0.040859377342789924,0.0441406179358409,0.05017605224824088,0.02213914658867343,0.03458258996802507,0.03767217907424919,0.03333257252842564,0.04281286310841864,0.03899707704192354,0.04006604067822259,0.026874942585574973,0.04930777277383799,0.04005653522147563,0.02772308170580218,0.03271345913147157,0.0374627055938074,0.028513203152566845,0.03577726239730373,0.04026324936905966,0.037551864054920246,0.03077969192458559,0.03997800235558046,0.04399640257194302,0.037651652401470496,0.029671916236537872,0.040371001795805474,0.018427392730044425,0.01824586129459405,0.018011998324193215,0.03643157757531941,0.03113835388859975,0.031556231353729786,0.022212054474383774,0.038865567746332895,0.030010648413886395,0.03031838986380812,0.02462990339751369,0.021483073692962682,0.031818641237312456,0.03118603769399658,0.022270667518433786,0.026915812498405644,0.014978891077333705,0.019639893748569833,0.03026773042745114,0.027113116604280472,0.0217877416900186,0.03096099357975774,0.02909594971579298,0.035298332934575176,0.028359061566527937,0.023622525712994488,0.027463058577772956,0.02538985761817037,0.03658965312310544,0.03449538750425207,0.028166697774386375,0.02206888422160579]},\"hovertemplate\":\"<b>%{hovertext}</b><br><br>type=train<br>Params=%{x}<br>Average f1=%{y}<br>params=%{customdata[0]}<extra></extra>\",\"hovertext\":[\"{'max_depth': 3, 'max_features': 'sqrt', 'min_samples_split': 3, 'n_estimators': 50}\",\"{'max_depth': 3, 'max_features': 'sqrt', 'min_samples_split': 3, 'n_estimators': 80}\",\"{'max_depth': 3, 'max_features': 'sqrt', 'min_samples_split': 3, 'n_estimators': 110}\",\"{'max_depth': 3, 'max_features': 'sqrt', 'min_samples_split': 3, 'n_estimators': 130}\",\"{'max_depth': 3, 'max_features': 'sqrt', 'min_samples_split': 6, 'n_estimators': 50}\",\"{'max_depth': 3, 'max_features': 'sqrt', 'min_samples_split': 6, 'n_estimators': 80}\",\"{'max_depth': 3, 'max_features': 'sqrt', 'min_samples_split': 6, 'n_estimators': 110}\",\"{'max_depth': 3, 'max_features': 'sqrt', 'min_samples_split': 6, 'n_estimators': 130}\",\"{'max_depth': 3, 'max_features': 'sqrt', 'min_samples_split': 9, 'n_estimators': 50}\",\"{'max_depth': 3, 'max_features': 'sqrt', 'min_samples_split': 9, 'n_estimators': 80}\",\"{'max_depth': 3, 'max_features': 'sqrt', 'min_samples_split': 9, 'n_estimators': 110}\",\"{'max_depth': 3, 'max_features': 'sqrt', 'min_samples_split': 9, 'n_estimators': 130}\",\"{'max_depth': 3, 'max_features': 'sqrt', 'min_samples_split': 12, 'n_estimators': 50}\",\"{'max_depth': 3, 'max_features': 'sqrt', 'min_samples_split': 12, 'n_estimators': 80}\",\"{'max_depth': 3, 'max_features': 'sqrt', 'min_samples_split': 12, 'n_estimators': 110}\",\"{'max_depth': 3, 'max_features': 'sqrt', 'min_samples_split': 12, 'n_estimators': 130}\",\"{'max_depth': 3, 'max_features': 'log2', 'min_samples_split': 3, 'n_estimators': 50}\",\"{'max_depth': 3, 'max_features': 'log2', 'min_samples_split': 3, 'n_estimators': 80}\",\"{'max_depth': 3, 'max_features': 'log2', 'min_samples_split': 3, 'n_estimators': 110}\",\"{'max_depth': 3, 'max_features': 'log2', 'min_samples_split': 3, 'n_estimators': 130}\",\"{'max_depth': 3, 'max_features': 'log2', 'min_samples_split': 6, 'n_estimators': 50}\",\"{'max_depth': 3, 'max_features': 'log2', 'min_samples_split': 6, 'n_estimators': 80}\",\"{'max_depth': 3, 'max_features': 'log2', 'min_samples_split': 6, 'n_estimators': 110}\",\"{'max_depth': 3, 'max_features': 'log2', 'min_samples_split': 6, 'n_estimators': 130}\",\"{'max_depth': 3, 'max_features': 'log2', 'min_samples_split': 9, 'n_estimators': 50}\",\"{'max_depth': 3, 'max_features': 'log2', 'min_samples_split': 9, 'n_estimators': 80}\",\"{'max_depth': 3, 'max_features': 'log2', 'min_samples_split': 9, 'n_estimators': 110}\",\"{'max_depth': 3, 'max_features': 'log2', 'min_samples_split': 9, 'n_estimators': 130}\",\"{'max_depth': 3, 'max_features': 'log2', 'min_samples_split': 12, 'n_estimators': 50}\",\"{'max_depth': 3, 'max_features': 'log2', 'min_samples_split': 12, 'n_estimators': 80}\",\"{'max_depth': 3, 'max_features': 'log2', 'min_samples_split': 12, 'n_estimators': 110}\",\"{'max_depth': 3, 'max_features': 'log2', 'min_samples_split': 12, 'n_estimators': 130}\",\"{'max_depth': 6, 'max_features': 'sqrt', 'min_samples_split': 3, 'n_estimators': 50}\",\"{'max_depth': 6, 'max_features': 'sqrt', 'min_samples_split': 3, 'n_estimators': 80}\",\"{'max_depth': 6, 'max_features': 'sqrt', 'min_samples_split': 3, 'n_estimators': 110}\",\"{'max_depth': 6, 'max_features': 'sqrt', 'min_samples_split': 3, 'n_estimators': 130}\",\"{'max_depth': 6, 'max_features': 'sqrt', 'min_samples_split': 6, 'n_estimators': 50}\",\"{'max_depth': 6, 'max_features': 'sqrt', 'min_samples_split': 6, 'n_estimators': 80}\",\"{'max_depth': 6, 'max_features': 'sqrt', 'min_samples_split': 6, 'n_estimators': 110}\",\"{'max_depth': 6, 'max_features': 'sqrt', 'min_samples_split': 6, 'n_estimators': 130}\",\"{'max_depth': 6, 'max_features': 'sqrt', 'min_samples_split': 9, 'n_estimators': 50}\",\"{'max_depth': 6, 'max_features': 'sqrt', 'min_samples_split': 9, 'n_estimators': 80}\",\"{'max_depth': 6, 'max_features': 'sqrt', 'min_samples_split': 9, 'n_estimators': 110}\",\"{'max_depth': 6, 'max_features': 'sqrt', 'min_samples_split': 9, 'n_estimators': 130}\",\"{'max_depth': 6, 'max_features': 'sqrt', 'min_samples_split': 12, 'n_estimators': 50}\",\"{'max_depth': 6, 'max_features': 'sqrt', 'min_samples_split': 12, 'n_estimators': 80}\",\"{'max_depth': 6, 'max_features': 'sqrt', 'min_samples_split': 12, 'n_estimators': 110}\",\"{'max_depth': 6, 'max_features': 'sqrt', 'min_samples_split': 12, 'n_estimators': 130}\",\"{'max_depth': 6, 'max_features': 'log2', 'min_samples_split': 3, 'n_estimators': 50}\",\"{'max_depth': 6, 'max_features': 'log2', 'min_samples_split': 3, 'n_estimators': 80}\",\"{'max_depth': 6, 'max_features': 'log2', 'min_samples_split': 3, 'n_estimators': 110}\",\"{'max_depth': 6, 'max_features': 'log2', 'min_samples_split': 3, 'n_estimators': 130}\",\"{'max_depth': 6, 'max_features': 'log2', 'min_samples_split': 6, 'n_estimators': 50}\",\"{'max_depth': 6, 'max_features': 'log2', 'min_samples_split': 6, 'n_estimators': 80}\",\"{'max_depth': 6, 'max_features': 'log2', 'min_samples_split': 6, 'n_estimators': 110}\",\"{'max_depth': 6, 'max_features': 'log2', 'min_samples_split': 6, 'n_estimators': 130}\",\"{'max_depth': 6, 'max_features': 'log2', 'min_samples_split': 9, 'n_estimators': 50}\",\"{'max_depth': 6, 'max_features': 'log2', 'min_samples_split': 9, 'n_estimators': 80}\",\"{'max_depth': 6, 'max_features': 'log2', 'min_samples_split': 9, 'n_estimators': 110}\",\"{'max_depth': 6, 'max_features': 'log2', 'min_samples_split': 9, 'n_estimators': 130}\",\"{'max_depth': 6, 'max_features': 'log2', 'min_samples_split': 12, 'n_estimators': 50}\",\"{'max_depth': 6, 'max_features': 'log2', 'min_samples_split': 12, 'n_estimators': 80}\",\"{'max_depth': 6, 'max_features': 'log2', 'min_samples_split': 12, 'n_estimators': 110}\",\"{'max_depth': 6, 'max_features': 'log2', 'min_samples_split': 12, 'n_estimators': 130}\",\"{'max_depth': 9, 'max_features': 'sqrt', 'min_samples_split': 3, 'n_estimators': 50}\",\"{'max_depth': 9, 'max_features': 'sqrt', 'min_samples_split': 3, 'n_estimators': 80}\",\"{'max_depth': 9, 'max_features': 'sqrt', 'min_samples_split': 3, 'n_estimators': 110}\",\"{'max_depth': 9, 'max_features': 'sqrt', 'min_samples_split': 3, 'n_estimators': 130}\",\"{'max_depth': 9, 'max_features': 'sqrt', 'min_samples_split': 6, 'n_estimators': 50}\",\"{'max_depth': 9, 'max_features': 'sqrt', 'min_samples_split': 6, 'n_estimators': 80}\",\"{'max_depth': 9, 'max_features': 'sqrt', 'min_samples_split': 6, 'n_estimators': 110}\",\"{'max_depth': 9, 'max_features': 'sqrt', 'min_samples_split': 6, 'n_estimators': 130}\",\"{'max_depth': 9, 'max_features': 'sqrt', 'min_samples_split': 9, 'n_estimators': 50}\",\"{'max_depth': 9, 'max_features': 'sqrt', 'min_samples_split': 9, 'n_estimators': 80}\",\"{'max_depth': 9, 'max_features': 'sqrt', 'min_samples_split': 9, 'n_estimators': 110}\",\"{'max_depth': 9, 'max_features': 'sqrt', 'min_samples_split': 9, 'n_estimators': 130}\",\"{'max_depth': 9, 'max_features': 'sqrt', 'min_samples_split': 12, 'n_estimators': 50}\",\"{'max_depth': 9, 'max_features': 'sqrt', 'min_samples_split': 12, 'n_estimators': 80}\",\"{'max_depth': 9, 'max_features': 'sqrt', 'min_samples_split': 12, 'n_estimators': 110}\",\"{'max_depth': 9, 'max_features': 'sqrt', 'min_samples_split': 12, 'n_estimators': 130}\",\"{'max_depth': 9, 'max_features': 'log2', 'min_samples_split': 3, 'n_estimators': 50}\",\"{'max_depth': 9, 'max_features': 'log2', 'min_samples_split': 3, 'n_estimators': 80}\",\"{'max_depth': 9, 'max_features': 'log2', 'min_samples_split': 3, 'n_estimators': 110}\",\"{'max_depth': 9, 'max_features': 'log2', 'min_samples_split': 3, 'n_estimators': 130}\",\"{'max_depth': 9, 'max_features': 'log2', 'min_samples_split': 6, 'n_estimators': 50}\",\"{'max_depth': 9, 'max_features': 'log2', 'min_samples_split': 6, 'n_estimators': 80}\",\"{'max_depth': 9, 'max_features': 'log2', 'min_samples_split': 6, 'n_estimators': 110}\",\"{'max_depth': 9, 'max_features': 'log2', 'min_samples_split': 6, 'n_estimators': 130}\",\"{'max_depth': 9, 'max_features': 'log2', 'min_samples_split': 9, 'n_estimators': 50}\",\"{'max_depth': 9, 'max_features': 'log2', 'min_samples_split': 9, 'n_estimators': 80}\",\"{'max_depth': 9, 'max_features': 'log2', 'min_samples_split': 9, 'n_estimators': 110}\",\"{'max_depth': 9, 'max_features': 'log2', 'min_samples_split': 9, 'n_estimators': 130}\",\"{'max_depth': 9, 'max_features': 'log2', 'min_samples_split': 12, 'n_estimators': 50}\",\"{'max_depth': 9, 'max_features': 'log2', 'min_samples_split': 12, 'n_estimators': 80}\",\"{'max_depth': 9, 'max_features': 'log2', 'min_samples_split': 12, 'n_estimators': 110}\",\"{'max_depth': 9, 'max_features': 'log2', 'min_samples_split': 12, 'n_estimators': 130}\"],\"legendgroup\":\"train\",\"marker\":{\"color\":\"#EF553B\",\"pattern\":{\"shape\":\"\"}},\"name\":\"train\",\"offsetgroup\":\"train\",\"orientation\":\"v\",\"showlegend\":true,\"textposition\":\"auto\",\"type\":\"bar\",\"x\":[0,1,2,3,4,5,6,7,8,9,10,11,12,13,14,15,16,17,18,19,20,21,22,23,24,25,26,27,28,29,30,31,32,33,34,35,36,37,38,39,40,41,42,43,44,45,46,47,48,49,50,51,52,53,54,55,56,57,58,59,60,61,62,63,64,65,66,67,68,69,70,71,72,73,74,75,76,77,78,79,80,81,82,83,84,85,86,87,88,89,90,91,92,93,94,95],\"xaxis\":\"x\",\"y\":[0.175749006387156,0.1743014094716597,0.1608906539353629,0.16317776453547286,0.16396606003952346,0.16141847420700992,0.16135254959826698,0.16460022278793238,0.1823306765013431,0.1619775569555326,0.16540235940243245,0.16423577471075515,0.1518879055221681,0.17100478800789248,0.1625526205731355,0.16561790822841094,0.17194557196685345,0.17068045012482225,0.1580227721360597,0.15806910526609463,0.16729904639141352,0.1700889348818873,0.1701765848165449,0.16116868180367813,0.17233144807722753,0.17007162086053068,0.1590442896259002,0.1613807133641719,0.17575589189199742,0.1566590669898393,0.1648089655322711,0.16377561651077893,0.43708107504526533,0.4311279217528538,0.42299701365953724,0.43284005241754286,0.43023737481552243,0.4319743719301087,0.43133356567414954,0.42104682936211296,0.42999880471076424,0.4278268874231016,0.4187235939951822,0.4325211049229565,0.4265890837264223,0.4204666451712492,0.4140077722845038,0.4187185152761027,0.43474891844236374,0.42628098252732294,0.4303201013518777,0.4394467682279718,0.4295090934146276,0.43480954332156385,0.4329465624947414,0.42076672245633767,0.42914674312747725,0.4285887067934797,0.42505334807047157,0.42755144613482204,0.40971370606215685,0.4210588323588075,0.41820716834755134,0.41540379137891287,0.6757134808519881,0.6652291827517456,0.6672407280467287,0.6718199614938907,0.6561593918270194,0.6598250439382938,0.6494988114798733,0.6548623278812631,0.6366362983859302,0.6293111714375917,0.6371926413272966,0.637819830337521,0.6292827032240507,0.6152485952378633,0.6125673180079639,0.6174414956368156,0.673812128382747,0.6688007812586172,0.664869925003415,0.6702827464333904,0.6457720750800358,0.6489691734185155,0.6549129722543388,0.6468396534491501,0.6377550620699254,0.6318318270702474,0.6345725039565796,0.6323701977951215,0.6066712883755214,0.6183134725597991,0.619177415061286,0.6189435173499384],\"yaxis\":\"y\"}],                        {\"barmode\":\"group\",\"legend\":{\"title\":{\"text\":\"type\"},\"tracegroupgap\":0},\"template\":{\"data\":{\"bar\":[{\"error_x\":{\"color\":\"#2a3f5f\"},\"error_y\":{\"color\":\"#2a3f5f\"},\"marker\":{\"line\":{\"color\":\"#E5ECF6\",\"width\":0.5},\"pattern\":{\"fillmode\":\"overlay\",\"size\":10,\"solidity\":0.2}},\"type\":\"bar\"}],\"barpolar\":[{\"marker\":{\"line\":{\"color\":\"#E5ECF6\",\"width\":0.5},\"pattern\":{\"fillmode\":\"overlay\",\"size\":10,\"solidity\":0.2}},\"type\":\"barpolar\"}],\"carpet\":[{\"aaxis\":{\"endlinecolor\":\"#2a3f5f\",\"gridcolor\":\"white\",\"linecolor\":\"white\",\"minorgridcolor\":\"white\",\"startlinecolor\":\"#2a3f5f\"},\"baxis\":{\"endlinecolor\":\"#2a3f5f\",\"gridcolor\":\"white\",\"linecolor\":\"white\",\"minorgridcolor\":\"white\",\"startlinecolor\":\"#2a3f5f\"},\"type\":\"carpet\"}],\"choropleth\":[{\"colorbar\":{\"outlinewidth\":0,\"ticks\":\"\"},\"type\":\"choropleth\"}],\"contour\":[{\"colorbar\":{\"outlinewidth\":0,\"ticks\":\"\"},\"colorscale\":[[0.0,\"#0d0887\"],[0.1111111111111111,\"#46039f\"],[0.2222222222222222,\"#7201a8\"],[0.3333333333333333,\"#9c179e\"],[0.4444444444444444,\"#bd3786\"],[0.5555555555555556,\"#d8576b\"],[0.6666666666666666,\"#ed7953\"],[0.7777777777777778,\"#fb9f3a\"],[0.8888888888888888,\"#fdca26\"],[1.0,\"#f0f921\"]],\"type\":\"contour\"}],\"contourcarpet\":[{\"colorbar\":{\"outlinewidth\":0,\"ticks\":\"\"},\"type\":\"contourcarpet\"}],\"heatmap\":[{\"colorbar\":{\"outlinewidth\":0,\"ticks\":\"\"},\"colorscale\":[[0.0,\"#0d0887\"],[0.1111111111111111,\"#46039f\"],[0.2222222222222222,\"#7201a8\"],[0.3333333333333333,\"#9c179e\"],[0.4444444444444444,\"#bd3786\"],[0.5555555555555556,\"#d8576b\"],[0.6666666666666666,\"#ed7953\"],[0.7777777777777778,\"#fb9f3a\"],[0.8888888888888888,\"#fdca26\"],[1.0,\"#f0f921\"]],\"type\":\"heatmap\"}],\"heatmapgl\":[{\"colorbar\":{\"outlinewidth\":0,\"ticks\":\"\"},\"colorscale\":[[0.0,\"#0d0887\"],[0.1111111111111111,\"#46039f\"],[0.2222222222222222,\"#7201a8\"],[0.3333333333333333,\"#9c179e\"],[0.4444444444444444,\"#bd3786\"],[0.5555555555555556,\"#d8576b\"],[0.6666666666666666,\"#ed7953\"],[0.7777777777777778,\"#fb9f3a\"],[0.8888888888888888,\"#fdca26\"],[1.0,\"#f0f921\"]],\"type\":\"heatmapgl\"}],\"histogram\":[{\"marker\":{\"pattern\":{\"fillmode\":\"overlay\",\"size\":10,\"solidity\":0.2}},\"type\":\"histogram\"}],\"histogram2d\":[{\"colorbar\":{\"outlinewidth\":0,\"ticks\":\"\"},\"colorscale\":[[0.0,\"#0d0887\"],[0.1111111111111111,\"#46039f\"],[0.2222222222222222,\"#7201a8\"],[0.3333333333333333,\"#9c179e\"],[0.4444444444444444,\"#bd3786\"],[0.5555555555555556,\"#d8576b\"],[0.6666666666666666,\"#ed7953\"],[0.7777777777777778,\"#fb9f3a\"],[0.8888888888888888,\"#fdca26\"],[1.0,\"#f0f921\"]],\"type\":\"histogram2d\"}],\"histogram2dcontour\":[{\"colorbar\":{\"outlinewidth\":0,\"ticks\":\"\"},\"colorscale\":[[0.0,\"#0d0887\"],[0.1111111111111111,\"#46039f\"],[0.2222222222222222,\"#7201a8\"],[0.3333333333333333,\"#9c179e\"],[0.4444444444444444,\"#bd3786\"],[0.5555555555555556,\"#d8576b\"],[0.6666666666666666,\"#ed7953\"],[0.7777777777777778,\"#fb9f3a\"],[0.8888888888888888,\"#fdca26\"],[1.0,\"#f0f921\"]],\"type\":\"histogram2dcontour\"}],\"mesh3d\":[{\"colorbar\":{\"outlinewidth\":0,\"ticks\":\"\"},\"type\":\"mesh3d\"}],\"parcoords\":[{\"line\":{\"colorbar\":{\"outlinewidth\":0,\"ticks\":\"\"}},\"type\":\"parcoords\"}],\"pie\":[{\"automargin\":true,\"type\":\"pie\"}],\"scatter\":[{\"marker\":{\"colorbar\":{\"outlinewidth\":0,\"ticks\":\"\"}},\"type\":\"scatter\"}],\"scatter3d\":[{\"line\":{\"colorbar\":{\"outlinewidth\":0,\"ticks\":\"\"}},\"marker\":{\"colorbar\":{\"outlinewidth\":0,\"ticks\":\"\"}},\"type\":\"scatter3d\"}],\"scattercarpet\":[{\"marker\":{\"colorbar\":{\"outlinewidth\":0,\"ticks\":\"\"}},\"type\":\"scattercarpet\"}],\"scattergeo\":[{\"marker\":{\"colorbar\":{\"outlinewidth\":0,\"ticks\":\"\"}},\"type\":\"scattergeo\"}],\"scattergl\":[{\"marker\":{\"colorbar\":{\"outlinewidth\":0,\"ticks\":\"\"}},\"type\":\"scattergl\"}],\"scattermapbox\":[{\"marker\":{\"colorbar\":{\"outlinewidth\":0,\"ticks\":\"\"}},\"type\":\"scattermapbox\"}],\"scatterpolar\":[{\"marker\":{\"colorbar\":{\"outlinewidth\":0,\"ticks\":\"\"}},\"type\":\"scatterpolar\"}],\"scatterpolargl\":[{\"marker\":{\"colorbar\":{\"outlinewidth\":0,\"ticks\":\"\"}},\"type\":\"scatterpolargl\"}],\"scatterternary\":[{\"marker\":{\"colorbar\":{\"outlinewidth\":0,\"ticks\":\"\"}},\"type\":\"scatterternary\"}],\"surface\":[{\"colorbar\":{\"outlinewidth\":0,\"ticks\":\"\"},\"colorscale\":[[0.0,\"#0d0887\"],[0.1111111111111111,\"#46039f\"],[0.2222222222222222,\"#7201a8\"],[0.3333333333333333,\"#9c179e\"],[0.4444444444444444,\"#bd3786\"],[0.5555555555555556,\"#d8576b\"],[0.6666666666666666,\"#ed7953\"],[0.7777777777777778,\"#fb9f3a\"],[0.8888888888888888,\"#fdca26\"],[1.0,\"#f0f921\"]],\"type\":\"surface\"}],\"table\":[{\"cells\":{\"fill\":{\"color\":\"#EBF0F8\"},\"line\":{\"color\":\"white\"}},\"header\":{\"fill\":{\"color\":\"#C8D4E3\"},\"line\":{\"color\":\"white\"}},\"type\":\"table\"}]},\"layout\":{\"annotationdefaults\":{\"arrowcolor\":\"#2a3f5f\",\"arrowhead\":0,\"arrowwidth\":1},\"autotypenumbers\":\"strict\",\"coloraxis\":{\"colorbar\":{\"outlinewidth\":0,\"ticks\":\"\"}},\"colorscale\":{\"diverging\":[[0,\"#8e0152\"],[0.1,\"#c51b7d\"],[0.2,\"#de77ae\"],[0.3,\"#f1b6da\"],[0.4,\"#fde0ef\"],[0.5,\"#f7f7f7\"],[0.6,\"#e6f5d0\"],[0.7,\"#b8e186\"],[0.8,\"#7fbc41\"],[0.9,\"#4d9221\"],[1,\"#276419\"]],\"sequential\":[[0.0,\"#0d0887\"],[0.1111111111111111,\"#46039f\"],[0.2222222222222222,\"#7201a8\"],[0.3333333333333333,\"#9c179e\"],[0.4444444444444444,\"#bd3786\"],[0.5555555555555556,\"#d8576b\"],[0.6666666666666666,\"#ed7953\"],[0.7777777777777778,\"#fb9f3a\"],[0.8888888888888888,\"#fdca26\"],[1.0,\"#f0f921\"]],\"sequentialminus\":[[0.0,\"#0d0887\"],[0.1111111111111111,\"#46039f\"],[0.2222222222222222,\"#7201a8\"],[0.3333333333333333,\"#9c179e\"],[0.4444444444444444,\"#bd3786\"],[0.5555555555555556,\"#d8576b\"],[0.6666666666666666,\"#ed7953\"],[0.7777777777777778,\"#fb9f3a\"],[0.8888888888888888,\"#fdca26\"],[1.0,\"#f0f921\"]]},\"colorway\":[\"#636efa\",\"#EF553B\",\"#00cc96\",\"#ab63fa\",\"#FFA15A\",\"#19d3f3\",\"#FF6692\",\"#B6E880\",\"#FF97FF\",\"#FECB52\"],\"font\":{\"color\":\"#2a3f5f\"},\"geo\":{\"bgcolor\":\"white\",\"lakecolor\":\"white\",\"landcolor\":\"#E5ECF6\",\"showlakes\":true,\"showland\":true,\"subunitcolor\":\"white\"},\"hoverlabel\":{\"align\":\"left\"},\"hovermode\":\"closest\",\"mapbox\":{\"style\":\"light\"},\"paper_bgcolor\":\"white\",\"plot_bgcolor\":\"#E5ECF6\",\"polar\":{\"angularaxis\":{\"gridcolor\":\"white\",\"linecolor\":\"white\",\"ticks\":\"\"},\"bgcolor\":\"#E5ECF6\",\"radialaxis\":{\"gridcolor\":\"white\",\"linecolor\":\"white\",\"ticks\":\"\"}},\"scene\":{\"xaxis\":{\"backgroundcolor\":\"#E5ECF6\",\"gridcolor\":\"white\",\"gridwidth\":2,\"linecolor\":\"white\",\"showbackground\":true,\"ticks\":\"\",\"zerolinecolor\":\"white\"},\"yaxis\":{\"backgroundcolor\":\"#E5ECF6\",\"gridcolor\":\"white\",\"gridwidth\":2,\"linecolor\":\"white\",\"showbackground\":true,\"ticks\":\"\",\"zerolinecolor\":\"white\"},\"zaxis\":{\"backgroundcolor\":\"#E5ECF6\",\"gridcolor\":\"white\",\"gridwidth\":2,\"linecolor\":\"white\",\"showbackground\":true,\"ticks\":\"\",\"zerolinecolor\":\"white\"}},\"shapedefaults\":{\"line\":{\"color\":\"#2a3f5f\"}},\"ternary\":{\"aaxis\":{\"gridcolor\":\"white\",\"linecolor\":\"white\",\"ticks\":\"\"},\"baxis\":{\"gridcolor\":\"white\",\"linecolor\":\"white\",\"ticks\":\"\"},\"bgcolor\":\"#E5ECF6\",\"caxis\":{\"gridcolor\":\"white\",\"linecolor\":\"white\",\"ticks\":\"\"}},\"title\":{\"x\":0.05},\"xaxis\":{\"automargin\":true,\"gridcolor\":\"white\",\"linecolor\":\"white\",\"ticks\":\"\",\"title\":{\"standoff\":15},\"zerolinecolor\":\"white\",\"zerolinewidth\":2},\"yaxis\":{\"automargin\":true,\"gridcolor\":\"white\",\"linecolor\":\"white\",\"ticks\":\"\",\"title\":{\"standoff\":15},\"zerolinecolor\":\"white\",\"zerolinewidth\":2}}},\"title\":{\"text\":\"Mean f1 score on testing and training set for each parameter combination <br> (Model: RandomForest Classifier, Dataset: Multivariate feature imputation)\"},\"xaxis\":{\"anchor\":\"y\",\"domain\":[0.0,1.0],\"title\":{\"text\":\"Params\"}},\"yaxis\":{\"anchor\":\"x\",\"domain\":[0.0,1.0],\"title\":{\"text\":\"Average f1\"}}},                        {\"responsive\": true}                    ).then(function(){\n                            \nvar gd = document.getElementById('f5c2a53c-8028-40c7-a998-5bfb5e8f2108');\nvar x = new MutationObserver(function (mutations, observer) {{\n        var display = window.getComputedStyle(gd).display;\n        if (!display || display === 'none') {{\n            console.log([gd, 'removed!']);\n            Plotly.purge(gd);\n            observer.disconnect();\n        }}\n}});\n\n// Listen for the removal of the full notebook cells\nvar notebookContainer = gd.closest('#notebook-container');\nif (notebookContainer) {{\n    x.observe(notebookContainer, {childList: true});\n}}\n\n// Listen for the clearing of the current output cell\nvar outputEl = gd.closest('.output');\nif (outputEl) {{\n    x.observe(outputEl, {childList: true});\n}}\n\n                        })                };                });            </script>        </div>"
     },
     "metadata": {},
     "output_type": "display_data"
    }
   ],
   "source": [
    "stats = computeModelStats(model, stats, multivariate_feature_imputation, pgrid)"
   ],
   "metadata": {
    "collapsed": false,
    "pycharm": {
     "name": "#%%\n"
    }
   }
  },
  {
   "cell_type": "code",
   "execution_count": 85,
   "outputs": [
    {
     "name": "stdout",
     "output_type": "stream",
     "text": [
      "Fitting 5 folds for each of 96 candidates, totalling 480 fits\n"
     ]
    },
    {
     "data": {
      "application/vnd.plotly.v1+json": {
       "config": {
        "plotlyServerURL": "https://plotly.com"
       },
       "data": [
        {
         "alignmentgroup": "True",
         "customdata": [
          [
           "{'max_depth': 3, 'max_features': 'sqrt', 'min_samples_split': 3, 'n_estimators': 50}"
          ],
          [
           "{'max_depth': 3, 'max_features': 'sqrt', 'min_samples_split': 3, 'n_estimators': 80}"
          ],
          [
           "{'max_depth': 3, 'max_features': 'sqrt', 'min_samples_split': 3, 'n_estimators': 110}"
          ],
          [
           "{'max_depth': 3, 'max_features': 'sqrt', 'min_samples_split': 3, 'n_estimators': 130}"
          ],
          [
           "{'max_depth': 3, 'max_features': 'sqrt', 'min_samples_split': 6, 'n_estimators': 50}"
          ],
          [
           "{'max_depth': 3, 'max_features': 'sqrt', 'min_samples_split': 6, 'n_estimators': 80}"
          ],
          [
           "{'max_depth': 3, 'max_features': 'sqrt', 'min_samples_split': 6, 'n_estimators': 110}"
          ],
          [
           "{'max_depth': 3, 'max_features': 'sqrt', 'min_samples_split': 6, 'n_estimators': 130}"
          ],
          [
           "{'max_depth': 3, 'max_features': 'sqrt', 'min_samples_split': 9, 'n_estimators': 50}"
          ],
          [
           "{'max_depth': 3, 'max_features': 'sqrt', 'min_samples_split': 9, 'n_estimators': 80}"
          ],
          [
           "{'max_depth': 3, 'max_features': 'sqrt', 'min_samples_split': 9, 'n_estimators': 110}"
          ],
          [
           "{'max_depth': 3, 'max_features': 'sqrt', 'min_samples_split': 9, 'n_estimators': 130}"
          ],
          [
           "{'max_depth': 3, 'max_features': 'sqrt', 'min_samples_split': 12, 'n_estimators': 50}"
          ],
          [
           "{'max_depth': 3, 'max_features': 'sqrt', 'min_samples_split': 12, 'n_estimators': 80}"
          ],
          [
           "{'max_depth': 3, 'max_features': 'sqrt', 'min_samples_split': 12, 'n_estimators': 110}"
          ],
          [
           "{'max_depth': 3, 'max_features': 'sqrt', 'min_samples_split': 12, 'n_estimators': 130}"
          ],
          [
           "{'max_depth': 3, 'max_features': 'log2', 'min_samples_split': 3, 'n_estimators': 50}"
          ],
          [
           "{'max_depth': 3, 'max_features': 'log2', 'min_samples_split': 3, 'n_estimators': 80}"
          ],
          [
           "{'max_depth': 3, 'max_features': 'log2', 'min_samples_split': 3, 'n_estimators': 110}"
          ],
          [
           "{'max_depth': 3, 'max_features': 'log2', 'min_samples_split': 3, 'n_estimators': 130}"
          ],
          [
           "{'max_depth': 3, 'max_features': 'log2', 'min_samples_split': 6, 'n_estimators': 50}"
          ],
          [
           "{'max_depth': 3, 'max_features': 'log2', 'min_samples_split': 6, 'n_estimators': 80}"
          ],
          [
           "{'max_depth': 3, 'max_features': 'log2', 'min_samples_split': 6, 'n_estimators': 110}"
          ],
          [
           "{'max_depth': 3, 'max_features': 'log2', 'min_samples_split': 6, 'n_estimators': 130}"
          ],
          [
           "{'max_depth': 3, 'max_features': 'log2', 'min_samples_split': 9, 'n_estimators': 50}"
          ],
          [
           "{'max_depth': 3, 'max_features': 'log2', 'min_samples_split': 9, 'n_estimators': 80}"
          ],
          [
           "{'max_depth': 3, 'max_features': 'log2', 'min_samples_split': 9, 'n_estimators': 110}"
          ],
          [
           "{'max_depth': 3, 'max_features': 'log2', 'min_samples_split': 9, 'n_estimators': 130}"
          ],
          [
           "{'max_depth': 3, 'max_features': 'log2', 'min_samples_split': 12, 'n_estimators': 50}"
          ],
          [
           "{'max_depth': 3, 'max_features': 'log2', 'min_samples_split': 12, 'n_estimators': 80}"
          ],
          [
           "{'max_depth': 3, 'max_features': 'log2', 'min_samples_split': 12, 'n_estimators': 110}"
          ],
          [
           "{'max_depth': 3, 'max_features': 'log2', 'min_samples_split': 12, 'n_estimators': 130}"
          ],
          [
           "{'max_depth': 6, 'max_features': 'sqrt', 'min_samples_split': 3, 'n_estimators': 50}"
          ],
          [
           "{'max_depth': 6, 'max_features': 'sqrt', 'min_samples_split': 3, 'n_estimators': 80}"
          ],
          [
           "{'max_depth': 6, 'max_features': 'sqrt', 'min_samples_split': 3, 'n_estimators': 110}"
          ],
          [
           "{'max_depth': 6, 'max_features': 'sqrt', 'min_samples_split': 3, 'n_estimators': 130}"
          ],
          [
           "{'max_depth': 6, 'max_features': 'sqrt', 'min_samples_split': 6, 'n_estimators': 50}"
          ],
          [
           "{'max_depth': 6, 'max_features': 'sqrt', 'min_samples_split': 6, 'n_estimators': 80}"
          ],
          [
           "{'max_depth': 6, 'max_features': 'sqrt', 'min_samples_split': 6, 'n_estimators': 110}"
          ],
          [
           "{'max_depth': 6, 'max_features': 'sqrt', 'min_samples_split': 6, 'n_estimators': 130}"
          ],
          [
           "{'max_depth': 6, 'max_features': 'sqrt', 'min_samples_split': 9, 'n_estimators': 50}"
          ],
          [
           "{'max_depth': 6, 'max_features': 'sqrt', 'min_samples_split': 9, 'n_estimators': 80}"
          ],
          [
           "{'max_depth': 6, 'max_features': 'sqrt', 'min_samples_split': 9, 'n_estimators': 110}"
          ],
          [
           "{'max_depth': 6, 'max_features': 'sqrt', 'min_samples_split': 9, 'n_estimators': 130}"
          ],
          [
           "{'max_depth': 6, 'max_features': 'sqrt', 'min_samples_split': 12, 'n_estimators': 50}"
          ],
          [
           "{'max_depth': 6, 'max_features': 'sqrt', 'min_samples_split': 12, 'n_estimators': 80}"
          ],
          [
           "{'max_depth': 6, 'max_features': 'sqrt', 'min_samples_split': 12, 'n_estimators': 110}"
          ],
          [
           "{'max_depth': 6, 'max_features': 'sqrt', 'min_samples_split': 12, 'n_estimators': 130}"
          ],
          [
           "{'max_depth': 6, 'max_features': 'log2', 'min_samples_split': 3, 'n_estimators': 50}"
          ],
          [
           "{'max_depth': 6, 'max_features': 'log2', 'min_samples_split': 3, 'n_estimators': 80}"
          ],
          [
           "{'max_depth': 6, 'max_features': 'log2', 'min_samples_split': 3, 'n_estimators': 110}"
          ],
          [
           "{'max_depth': 6, 'max_features': 'log2', 'min_samples_split': 3, 'n_estimators': 130}"
          ],
          [
           "{'max_depth': 6, 'max_features': 'log2', 'min_samples_split': 6, 'n_estimators': 50}"
          ],
          [
           "{'max_depth': 6, 'max_features': 'log2', 'min_samples_split': 6, 'n_estimators': 80}"
          ],
          [
           "{'max_depth': 6, 'max_features': 'log2', 'min_samples_split': 6, 'n_estimators': 110}"
          ],
          [
           "{'max_depth': 6, 'max_features': 'log2', 'min_samples_split': 6, 'n_estimators': 130}"
          ],
          [
           "{'max_depth': 6, 'max_features': 'log2', 'min_samples_split': 9, 'n_estimators': 50}"
          ],
          [
           "{'max_depth': 6, 'max_features': 'log2', 'min_samples_split': 9, 'n_estimators': 80}"
          ],
          [
           "{'max_depth': 6, 'max_features': 'log2', 'min_samples_split': 9, 'n_estimators': 110}"
          ],
          [
           "{'max_depth': 6, 'max_features': 'log2', 'min_samples_split': 9, 'n_estimators': 130}"
          ],
          [
           "{'max_depth': 6, 'max_features': 'log2', 'min_samples_split': 12, 'n_estimators': 50}"
          ],
          [
           "{'max_depth': 6, 'max_features': 'log2', 'min_samples_split': 12, 'n_estimators': 80}"
          ],
          [
           "{'max_depth': 6, 'max_features': 'log2', 'min_samples_split': 12, 'n_estimators': 110}"
          ],
          [
           "{'max_depth': 6, 'max_features': 'log2', 'min_samples_split': 12, 'n_estimators': 130}"
          ],
          [
           "{'max_depth': 9, 'max_features': 'sqrt', 'min_samples_split': 3, 'n_estimators': 50}"
          ],
          [
           "{'max_depth': 9, 'max_features': 'sqrt', 'min_samples_split': 3, 'n_estimators': 80}"
          ],
          [
           "{'max_depth': 9, 'max_features': 'sqrt', 'min_samples_split': 3, 'n_estimators': 110}"
          ],
          [
           "{'max_depth': 9, 'max_features': 'sqrt', 'min_samples_split': 3, 'n_estimators': 130}"
          ],
          [
           "{'max_depth': 9, 'max_features': 'sqrt', 'min_samples_split': 6, 'n_estimators': 50}"
          ],
          [
           "{'max_depth': 9, 'max_features': 'sqrt', 'min_samples_split': 6, 'n_estimators': 80}"
          ],
          [
           "{'max_depth': 9, 'max_features': 'sqrt', 'min_samples_split': 6, 'n_estimators': 110}"
          ],
          [
           "{'max_depth': 9, 'max_features': 'sqrt', 'min_samples_split': 6, 'n_estimators': 130}"
          ],
          [
           "{'max_depth': 9, 'max_features': 'sqrt', 'min_samples_split': 9, 'n_estimators': 50}"
          ],
          [
           "{'max_depth': 9, 'max_features': 'sqrt', 'min_samples_split': 9, 'n_estimators': 80}"
          ],
          [
           "{'max_depth': 9, 'max_features': 'sqrt', 'min_samples_split': 9, 'n_estimators': 110}"
          ],
          [
           "{'max_depth': 9, 'max_features': 'sqrt', 'min_samples_split': 9, 'n_estimators': 130}"
          ],
          [
           "{'max_depth': 9, 'max_features': 'sqrt', 'min_samples_split': 12, 'n_estimators': 50}"
          ],
          [
           "{'max_depth': 9, 'max_features': 'sqrt', 'min_samples_split': 12, 'n_estimators': 80}"
          ],
          [
           "{'max_depth': 9, 'max_features': 'sqrt', 'min_samples_split': 12, 'n_estimators': 110}"
          ],
          [
           "{'max_depth': 9, 'max_features': 'sqrt', 'min_samples_split': 12, 'n_estimators': 130}"
          ],
          [
           "{'max_depth': 9, 'max_features': 'log2', 'min_samples_split': 3, 'n_estimators': 50}"
          ],
          [
           "{'max_depth': 9, 'max_features': 'log2', 'min_samples_split': 3, 'n_estimators': 80}"
          ],
          [
           "{'max_depth': 9, 'max_features': 'log2', 'min_samples_split': 3, 'n_estimators': 110}"
          ],
          [
           "{'max_depth': 9, 'max_features': 'log2', 'min_samples_split': 3, 'n_estimators': 130}"
          ],
          [
           "{'max_depth': 9, 'max_features': 'log2', 'min_samples_split': 6, 'n_estimators': 50}"
          ],
          [
           "{'max_depth': 9, 'max_features': 'log2', 'min_samples_split': 6, 'n_estimators': 80}"
          ],
          [
           "{'max_depth': 9, 'max_features': 'log2', 'min_samples_split': 6, 'n_estimators': 110}"
          ],
          [
           "{'max_depth': 9, 'max_features': 'log2', 'min_samples_split': 6, 'n_estimators': 130}"
          ],
          [
           "{'max_depth': 9, 'max_features': 'log2', 'min_samples_split': 9, 'n_estimators': 50}"
          ],
          [
           "{'max_depth': 9, 'max_features': 'log2', 'min_samples_split': 9, 'n_estimators': 80}"
          ],
          [
           "{'max_depth': 9, 'max_features': 'log2', 'min_samples_split': 9, 'n_estimators': 110}"
          ],
          [
           "{'max_depth': 9, 'max_features': 'log2', 'min_samples_split': 9, 'n_estimators': 130}"
          ],
          [
           "{'max_depth': 9, 'max_features': 'log2', 'min_samples_split': 12, 'n_estimators': 50}"
          ],
          [
           "{'max_depth': 9, 'max_features': 'log2', 'min_samples_split': 12, 'n_estimators': 80}"
          ],
          [
           "{'max_depth': 9, 'max_features': 'log2', 'min_samples_split': 12, 'n_estimators': 110}"
          ],
          [
           "{'max_depth': 9, 'max_features': 'log2', 'min_samples_split': 12, 'n_estimators': 130}"
          ]
         ],
         "error_y": {
          "array": [
           0.03528649361603885,
           0.02234993114109947,
           0.021132495293763823,
           0.02376094544425095,
           0.044868239595053316,
           0.02950000538768538,
           0.02714778174294492,
           0.030773119462329086,
           0.027291542460288646,
           0.02932198186277428,
           0.027169440511132476,
           0.023762510216191926,
           0.022078690778851648,
           0.033369654329699315,
           0.024761880506340737,
           0.031294692682489814,
           0.039118161595662,
           0.04243549943334822,
           0.03137681369904442,
           0.04295375868497535,
           0.024516134556904174,
           0.024149518338308154,
           0.032211706420680865,
           0.029673681139944823,
           0.027595702476314116,
           0.027858074005844634,
           0.031474462472973086,
           0.03146174965712136,
           0.03589186200711646,
           0.030950232754038135,
           0.03380248096026586,
           0.023371141114245243,
           0.03409883520967947,
           0.0568765765379442,
           0.045245818867343475,
           0.05876403412912606,
           0.05803350375732247,
           0.04715591218887423,
           0.04902703944677265,
           0.05277743153347683,
           0.04296573805601058,
           0.051607451988746646,
           0.04492287427705086,
           0.03811008840307324,
           0.04378157122058945,
           0.06312727236617081,
           0.0493041052104984,
           0.04205713163641774,
           0.045212171057802446,
           0.05321965493789409,
           0.04597366704679052,
           0.0452252532202616,
           0.05523740315445673,
           0.0369330933122676,
           0.04620115910243629,
           0.052048079788084955,
           0.056174777904767215,
           0.04019549941198206,
           0.05097263159708511,
           0.05156093561240843,
           0.0395756356055324,
           0.06353282633438646,
           0.04624166706550744,
           0.04272082253596998,
           0.04321483853153326,
           0.05005236242320759,
           0.041499071143879976,
           0.045799624919563874,
           0.04032931945295999,
           0.05861719941902357,
           0.04966764613242113,
           0.046026353386154815,
           0.05088235811493203,
           0.05194129019505111,
           0.03961269612811735,
           0.04187910268497505,
           0.05142595260933934,
           0.036136588704312265,
           0.043508074752851386,
           0.05853999723688671,
           0.043449433393198435,
           0.05147360520629478,
           0.05830397079989614,
           0.046276048976888084,
           0.0425882050721395,
           0.057766651683959495,
           0.04555294917084672,
           0.04521134289320915,
           0.05024653919067144,
           0.046768263228215,
           0.045983417255288775,
           0.05746731385973243,
           0.044719543964032195,
           0.05224765255075329,
           0.030266795789015106,
           0.04979509034221393
          ]
         },
         "hovertemplate": "<b>%{hovertext}</b><br><br>type=test<br>Params=%{x}<br>Average f1=%{y}<br>params=%{customdata[0]}<extra></extra>",
         "hovertext": [
          "{'max_depth': 3, 'max_features': 'sqrt', 'min_samples_split': 3, 'n_estimators': 50}",
          "{'max_depth': 3, 'max_features': 'sqrt', 'min_samples_split': 3, 'n_estimators': 80}",
          "{'max_depth': 3, 'max_features': 'sqrt', 'min_samples_split': 3, 'n_estimators': 110}",
          "{'max_depth': 3, 'max_features': 'sqrt', 'min_samples_split': 3, 'n_estimators': 130}",
          "{'max_depth': 3, 'max_features': 'sqrt', 'min_samples_split': 6, 'n_estimators': 50}",
          "{'max_depth': 3, 'max_features': 'sqrt', 'min_samples_split': 6, 'n_estimators': 80}",
          "{'max_depth': 3, 'max_features': 'sqrt', 'min_samples_split': 6, 'n_estimators': 110}",
          "{'max_depth': 3, 'max_features': 'sqrt', 'min_samples_split': 6, 'n_estimators': 130}",
          "{'max_depth': 3, 'max_features': 'sqrt', 'min_samples_split': 9, 'n_estimators': 50}",
          "{'max_depth': 3, 'max_features': 'sqrt', 'min_samples_split': 9, 'n_estimators': 80}",
          "{'max_depth': 3, 'max_features': 'sqrt', 'min_samples_split': 9, 'n_estimators': 110}",
          "{'max_depth': 3, 'max_features': 'sqrt', 'min_samples_split': 9, 'n_estimators': 130}",
          "{'max_depth': 3, 'max_features': 'sqrt', 'min_samples_split': 12, 'n_estimators': 50}",
          "{'max_depth': 3, 'max_features': 'sqrt', 'min_samples_split': 12, 'n_estimators': 80}",
          "{'max_depth': 3, 'max_features': 'sqrt', 'min_samples_split': 12, 'n_estimators': 110}",
          "{'max_depth': 3, 'max_features': 'sqrt', 'min_samples_split': 12, 'n_estimators': 130}",
          "{'max_depth': 3, 'max_features': 'log2', 'min_samples_split': 3, 'n_estimators': 50}",
          "{'max_depth': 3, 'max_features': 'log2', 'min_samples_split': 3, 'n_estimators': 80}",
          "{'max_depth': 3, 'max_features': 'log2', 'min_samples_split': 3, 'n_estimators': 110}",
          "{'max_depth': 3, 'max_features': 'log2', 'min_samples_split': 3, 'n_estimators': 130}",
          "{'max_depth': 3, 'max_features': 'log2', 'min_samples_split': 6, 'n_estimators': 50}",
          "{'max_depth': 3, 'max_features': 'log2', 'min_samples_split': 6, 'n_estimators': 80}",
          "{'max_depth': 3, 'max_features': 'log2', 'min_samples_split': 6, 'n_estimators': 110}",
          "{'max_depth': 3, 'max_features': 'log2', 'min_samples_split': 6, 'n_estimators': 130}",
          "{'max_depth': 3, 'max_features': 'log2', 'min_samples_split': 9, 'n_estimators': 50}",
          "{'max_depth': 3, 'max_features': 'log2', 'min_samples_split': 9, 'n_estimators': 80}",
          "{'max_depth': 3, 'max_features': 'log2', 'min_samples_split': 9, 'n_estimators': 110}",
          "{'max_depth': 3, 'max_features': 'log2', 'min_samples_split': 9, 'n_estimators': 130}",
          "{'max_depth': 3, 'max_features': 'log2', 'min_samples_split': 12, 'n_estimators': 50}",
          "{'max_depth': 3, 'max_features': 'log2', 'min_samples_split': 12, 'n_estimators': 80}",
          "{'max_depth': 3, 'max_features': 'log2', 'min_samples_split': 12, 'n_estimators': 110}",
          "{'max_depth': 3, 'max_features': 'log2', 'min_samples_split': 12, 'n_estimators': 130}",
          "{'max_depth': 6, 'max_features': 'sqrt', 'min_samples_split': 3, 'n_estimators': 50}",
          "{'max_depth': 6, 'max_features': 'sqrt', 'min_samples_split': 3, 'n_estimators': 80}",
          "{'max_depth': 6, 'max_features': 'sqrt', 'min_samples_split': 3, 'n_estimators': 110}",
          "{'max_depth': 6, 'max_features': 'sqrt', 'min_samples_split': 3, 'n_estimators': 130}",
          "{'max_depth': 6, 'max_features': 'sqrt', 'min_samples_split': 6, 'n_estimators': 50}",
          "{'max_depth': 6, 'max_features': 'sqrt', 'min_samples_split': 6, 'n_estimators': 80}",
          "{'max_depth': 6, 'max_features': 'sqrt', 'min_samples_split': 6, 'n_estimators': 110}",
          "{'max_depth': 6, 'max_features': 'sqrt', 'min_samples_split': 6, 'n_estimators': 130}",
          "{'max_depth': 6, 'max_features': 'sqrt', 'min_samples_split': 9, 'n_estimators': 50}",
          "{'max_depth': 6, 'max_features': 'sqrt', 'min_samples_split': 9, 'n_estimators': 80}",
          "{'max_depth': 6, 'max_features': 'sqrt', 'min_samples_split': 9, 'n_estimators': 110}",
          "{'max_depth': 6, 'max_features': 'sqrt', 'min_samples_split': 9, 'n_estimators': 130}",
          "{'max_depth': 6, 'max_features': 'sqrt', 'min_samples_split': 12, 'n_estimators': 50}",
          "{'max_depth': 6, 'max_features': 'sqrt', 'min_samples_split': 12, 'n_estimators': 80}",
          "{'max_depth': 6, 'max_features': 'sqrt', 'min_samples_split': 12, 'n_estimators': 110}",
          "{'max_depth': 6, 'max_features': 'sqrt', 'min_samples_split': 12, 'n_estimators': 130}",
          "{'max_depth': 6, 'max_features': 'log2', 'min_samples_split': 3, 'n_estimators': 50}",
          "{'max_depth': 6, 'max_features': 'log2', 'min_samples_split': 3, 'n_estimators': 80}",
          "{'max_depth': 6, 'max_features': 'log2', 'min_samples_split': 3, 'n_estimators': 110}",
          "{'max_depth': 6, 'max_features': 'log2', 'min_samples_split': 3, 'n_estimators': 130}",
          "{'max_depth': 6, 'max_features': 'log2', 'min_samples_split': 6, 'n_estimators': 50}",
          "{'max_depth': 6, 'max_features': 'log2', 'min_samples_split': 6, 'n_estimators': 80}",
          "{'max_depth': 6, 'max_features': 'log2', 'min_samples_split': 6, 'n_estimators': 110}",
          "{'max_depth': 6, 'max_features': 'log2', 'min_samples_split': 6, 'n_estimators': 130}",
          "{'max_depth': 6, 'max_features': 'log2', 'min_samples_split': 9, 'n_estimators': 50}",
          "{'max_depth': 6, 'max_features': 'log2', 'min_samples_split': 9, 'n_estimators': 80}",
          "{'max_depth': 6, 'max_features': 'log2', 'min_samples_split': 9, 'n_estimators': 110}",
          "{'max_depth': 6, 'max_features': 'log2', 'min_samples_split': 9, 'n_estimators': 130}",
          "{'max_depth': 6, 'max_features': 'log2', 'min_samples_split': 12, 'n_estimators': 50}",
          "{'max_depth': 6, 'max_features': 'log2', 'min_samples_split': 12, 'n_estimators': 80}",
          "{'max_depth': 6, 'max_features': 'log2', 'min_samples_split': 12, 'n_estimators': 110}",
          "{'max_depth': 6, 'max_features': 'log2', 'min_samples_split': 12, 'n_estimators': 130}",
          "{'max_depth': 9, 'max_features': 'sqrt', 'min_samples_split': 3, 'n_estimators': 50}",
          "{'max_depth': 9, 'max_features': 'sqrt', 'min_samples_split': 3, 'n_estimators': 80}",
          "{'max_depth': 9, 'max_features': 'sqrt', 'min_samples_split': 3, 'n_estimators': 110}",
          "{'max_depth': 9, 'max_features': 'sqrt', 'min_samples_split': 3, 'n_estimators': 130}",
          "{'max_depth': 9, 'max_features': 'sqrt', 'min_samples_split': 6, 'n_estimators': 50}",
          "{'max_depth': 9, 'max_features': 'sqrt', 'min_samples_split': 6, 'n_estimators': 80}",
          "{'max_depth': 9, 'max_features': 'sqrt', 'min_samples_split': 6, 'n_estimators': 110}",
          "{'max_depth': 9, 'max_features': 'sqrt', 'min_samples_split': 6, 'n_estimators': 130}",
          "{'max_depth': 9, 'max_features': 'sqrt', 'min_samples_split': 9, 'n_estimators': 50}",
          "{'max_depth': 9, 'max_features': 'sqrt', 'min_samples_split': 9, 'n_estimators': 80}",
          "{'max_depth': 9, 'max_features': 'sqrt', 'min_samples_split': 9, 'n_estimators': 110}",
          "{'max_depth': 9, 'max_features': 'sqrt', 'min_samples_split': 9, 'n_estimators': 130}",
          "{'max_depth': 9, 'max_features': 'sqrt', 'min_samples_split': 12, 'n_estimators': 50}",
          "{'max_depth': 9, 'max_features': 'sqrt', 'min_samples_split': 12, 'n_estimators': 80}",
          "{'max_depth': 9, 'max_features': 'sqrt', 'min_samples_split': 12, 'n_estimators': 110}",
          "{'max_depth': 9, 'max_features': 'sqrt', 'min_samples_split': 12, 'n_estimators': 130}",
          "{'max_depth': 9, 'max_features': 'log2', 'min_samples_split': 3, 'n_estimators': 50}",
          "{'max_depth': 9, 'max_features': 'log2', 'min_samples_split': 3, 'n_estimators': 80}",
          "{'max_depth': 9, 'max_features': 'log2', 'min_samples_split': 3, 'n_estimators': 110}",
          "{'max_depth': 9, 'max_features': 'log2', 'min_samples_split': 3, 'n_estimators': 130}",
          "{'max_depth': 9, 'max_features': 'log2', 'min_samples_split': 6, 'n_estimators': 50}",
          "{'max_depth': 9, 'max_features': 'log2', 'min_samples_split': 6, 'n_estimators': 80}",
          "{'max_depth': 9, 'max_features': 'log2', 'min_samples_split': 6, 'n_estimators': 110}",
          "{'max_depth': 9, 'max_features': 'log2', 'min_samples_split': 6, 'n_estimators': 130}",
          "{'max_depth': 9, 'max_features': 'log2', 'min_samples_split': 9, 'n_estimators': 50}",
          "{'max_depth': 9, 'max_features': 'log2', 'min_samples_split': 9, 'n_estimators': 80}",
          "{'max_depth': 9, 'max_features': 'log2', 'min_samples_split': 9, 'n_estimators': 110}",
          "{'max_depth': 9, 'max_features': 'log2', 'min_samples_split': 9, 'n_estimators': 130}",
          "{'max_depth': 9, 'max_features': 'log2', 'min_samples_split': 12, 'n_estimators': 50}",
          "{'max_depth': 9, 'max_features': 'log2', 'min_samples_split': 12, 'n_estimators': 80}",
          "{'max_depth': 9, 'max_features': 'log2', 'min_samples_split': 12, 'n_estimators': 110}",
          "{'max_depth': 9, 'max_features': 'log2', 'min_samples_split': 12, 'n_estimators': 130}"
         ],
         "legendgroup": "test",
         "marker": {
          "color": "#636efa",
          "pattern": {
           "shape": ""
          }
         },
         "name": "test",
         "offsetgroup": "test",
         "orientation": "v",
         "showlegend": true,
         "textposition": "auto",
         "type": "bar",
         "x": [
          0,
          1,
          2,
          3,
          4,
          5,
          6,
          7,
          8,
          9,
          10,
          11,
          12,
          13,
          14,
          15,
          16,
          17,
          18,
          19,
          20,
          21,
          22,
          23,
          24,
          25,
          26,
          27,
          28,
          29,
          30,
          31,
          32,
          33,
          34,
          35,
          36,
          37,
          38,
          39,
          40,
          41,
          42,
          43,
          44,
          45,
          46,
          47,
          48,
          49,
          50,
          51,
          52,
          53,
          54,
          55,
          56,
          57,
          58,
          59,
          60,
          61,
          62,
          63,
          64,
          65,
          66,
          67,
          68,
          69,
          70,
          71,
          72,
          73,
          74,
          75,
          76,
          77,
          78,
          79,
          80,
          81,
          82,
          83,
          84,
          85,
          86,
          87,
          88,
          89,
          90,
          91,
          92,
          93,
          94,
          95
         ],
         "xaxis": "x",
         "y": [
          0.13636758236429808,
          0.14817433445026312,
          0.14001663446570678,
          0.13719047089442327,
          0.15154848765434661,
          0.1440893188042553,
          0.15005117814853783,
          0.14543581755846074,
          0.1383442995992556,
          0.1497700739820908,
          0.15419055788422498,
          0.14247046152740103,
          0.12862396963207537,
          0.13331291765562542,
          0.13525936190711904,
          0.13919583403454372,
          0.15100727655262647,
          0.13799169686071916,
          0.14452517223554887,
          0.13694372321816267,
          0.14603942972578718,
          0.12928970588555228,
          0.15015744617219953,
          0.14125190034715704,
          0.15005054656963052,
          0.13585821584213348,
          0.14662728455038215,
          0.140947812762163,
          0.146106058258209,
          0.1424195983274299,
          0.13691274616421797,
          0.15699229514504048,
          0.29483451198328064,
          0.28360498607049617,
          0.28917950431746337,
          0.2965845109688291,
          0.30456401603728417,
          0.3079320097138429,
          0.28803415048083375,
          0.2927005871969885,
          0.29169019435415855,
          0.30708094625660837,
          0.2884632093392542,
          0.2877588557484958,
          0.30103951789081307,
          0.30231575674377503,
          0.28187936795902224,
          0.30473678620283307,
          0.29204702177291114,
          0.289966827160147,
          0.2866772285569269,
          0.2827447474157282,
          0.30565403769094646,
          0.2887420399680716,
          0.29508613975650666,
          0.28947844438882575,
          0.2913829581748443,
          0.28631928677339513,
          0.2928905905528006,
          0.30344572621235966,
          0.2931973532845361,
          0.29828112320730604,
          0.2940199911828448,
          0.2909471063551611,
          0.35346811563315733,
          0.34605419866304793,
          0.3498863249515971,
          0.35770445254990985,
          0.3666272956754562,
          0.3579766728778407,
          0.3695774150793164,
          0.36494025751479153,
          0.37246662293879895,
          0.3820568301030921,
          0.3748953685089448,
          0.356382945093109,
          0.36654749019692456,
          0.3631871546865786,
          0.36791556577363915,
          0.3670686258774033,
          0.3560175647182591,
          0.3820985485720482,
          0.36718789534365903,
          0.3642226694401976,
          0.3638871574976298,
          0.36039929219533395,
          0.3695788526759456,
          0.34421451748115184,
          0.3812459326975365,
          0.369503003248545,
          0.36446374921517377,
          0.3615723025209126,
          0.37093065507038936,
          0.36178130785236884,
          0.3612546911462436,
          0.36845791953199575
         ],
         "yaxis": "y"
        },
        {
         "alignmentgroup": "True",
         "customdata": [
          [
           "{'max_depth': 3, 'max_features': 'sqrt', 'min_samples_split': 3, 'n_estimators': 50}"
          ],
          [
           "{'max_depth': 3, 'max_features': 'sqrt', 'min_samples_split': 3, 'n_estimators': 80}"
          ],
          [
           "{'max_depth': 3, 'max_features': 'sqrt', 'min_samples_split': 3, 'n_estimators': 110}"
          ],
          [
           "{'max_depth': 3, 'max_features': 'sqrt', 'min_samples_split': 3, 'n_estimators': 130}"
          ],
          [
           "{'max_depth': 3, 'max_features': 'sqrt', 'min_samples_split': 6, 'n_estimators': 50}"
          ],
          [
           "{'max_depth': 3, 'max_features': 'sqrt', 'min_samples_split': 6, 'n_estimators': 80}"
          ],
          [
           "{'max_depth': 3, 'max_features': 'sqrt', 'min_samples_split': 6, 'n_estimators': 110}"
          ],
          [
           "{'max_depth': 3, 'max_features': 'sqrt', 'min_samples_split': 6, 'n_estimators': 130}"
          ],
          [
           "{'max_depth': 3, 'max_features': 'sqrt', 'min_samples_split': 9, 'n_estimators': 50}"
          ],
          [
           "{'max_depth': 3, 'max_features': 'sqrt', 'min_samples_split': 9, 'n_estimators': 80}"
          ],
          [
           "{'max_depth': 3, 'max_features': 'sqrt', 'min_samples_split': 9, 'n_estimators': 110}"
          ],
          [
           "{'max_depth': 3, 'max_features': 'sqrt', 'min_samples_split': 9, 'n_estimators': 130}"
          ],
          [
           "{'max_depth': 3, 'max_features': 'sqrt', 'min_samples_split': 12, 'n_estimators': 50}"
          ],
          [
           "{'max_depth': 3, 'max_features': 'sqrt', 'min_samples_split': 12, 'n_estimators': 80}"
          ],
          [
           "{'max_depth': 3, 'max_features': 'sqrt', 'min_samples_split': 12, 'n_estimators': 110}"
          ],
          [
           "{'max_depth': 3, 'max_features': 'sqrt', 'min_samples_split': 12, 'n_estimators': 130}"
          ],
          [
           "{'max_depth': 3, 'max_features': 'log2', 'min_samples_split': 3, 'n_estimators': 50}"
          ],
          [
           "{'max_depth': 3, 'max_features': 'log2', 'min_samples_split': 3, 'n_estimators': 80}"
          ],
          [
           "{'max_depth': 3, 'max_features': 'log2', 'min_samples_split': 3, 'n_estimators': 110}"
          ],
          [
           "{'max_depth': 3, 'max_features': 'log2', 'min_samples_split': 3, 'n_estimators': 130}"
          ],
          [
           "{'max_depth': 3, 'max_features': 'log2', 'min_samples_split': 6, 'n_estimators': 50}"
          ],
          [
           "{'max_depth': 3, 'max_features': 'log2', 'min_samples_split': 6, 'n_estimators': 80}"
          ],
          [
           "{'max_depth': 3, 'max_features': 'log2', 'min_samples_split': 6, 'n_estimators': 110}"
          ],
          [
           "{'max_depth': 3, 'max_features': 'log2', 'min_samples_split': 6, 'n_estimators': 130}"
          ],
          [
           "{'max_depth': 3, 'max_features': 'log2', 'min_samples_split': 9, 'n_estimators': 50}"
          ],
          [
           "{'max_depth': 3, 'max_features': 'log2', 'min_samples_split': 9, 'n_estimators': 80}"
          ],
          [
           "{'max_depth': 3, 'max_features': 'log2', 'min_samples_split': 9, 'n_estimators': 110}"
          ],
          [
           "{'max_depth': 3, 'max_features': 'log2', 'min_samples_split': 9, 'n_estimators': 130}"
          ],
          [
           "{'max_depth': 3, 'max_features': 'log2', 'min_samples_split': 12, 'n_estimators': 50}"
          ],
          [
           "{'max_depth': 3, 'max_features': 'log2', 'min_samples_split': 12, 'n_estimators': 80}"
          ],
          [
           "{'max_depth': 3, 'max_features': 'log2', 'min_samples_split': 12, 'n_estimators': 110}"
          ],
          [
           "{'max_depth': 3, 'max_features': 'log2', 'min_samples_split': 12, 'n_estimators': 130}"
          ],
          [
           "{'max_depth': 6, 'max_features': 'sqrt', 'min_samples_split': 3, 'n_estimators': 50}"
          ],
          [
           "{'max_depth': 6, 'max_features': 'sqrt', 'min_samples_split': 3, 'n_estimators': 80}"
          ],
          [
           "{'max_depth': 6, 'max_features': 'sqrt', 'min_samples_split': 3, 'n_estimators': 110}"
          ],
          [
           "{'max_depth': 6, 'max_features': 'sqrt', 'min_samples_split': 3, 'n_estimators': 130}"
          ],
          [
           "{'max_depth': 6, 'max_features': 'sqrt', 'min_samples_split': 6, 'n_estimators': 50}"
          ],
          [
           "{'max_depth': 6, 'max_features': 'sqrt', 'min_samples_split': 6, 'n_estimators': 80}"
          ],
          [
           "{'max_depth': 6, 'max_features': 'sqrt', 'min_samples_split': 6, 'n_estimators': 110}"
          ],
          [
           "{'max_depth': 6, 'max_features': 'sqrt', 'min_samples_split': 6, 'n_estimators': 130}"
          ],
          [
           "{'max_depth': 6, 'max_features': 'sqrt', 'min_samples_split': 9, 'n_estimators': 50}"
          ],
          [
           "{'max_depth': 6, 'max_features': 'sqrt', 'min_samples_split': 9, 'n_estimators': 80}"
          ],
          [
           "{'max_depth': 6, 'max_features': 'sqrt', 'min_samples_split': 9, 'n_estimators': 110}"
          ],
          [
           "{'max_depth': 6, 'max_features': 'sqrt', 'min_samples_split': 9, 'n_estimators': 130}"
          ],
          [
           "{'max_depth': 6, 'max_features': 'sqrt', 'min_samples_split': 12, 'n_estimators': 50}"
          ],
          [
           "{'max_depth': 6, 'max_features': 'sqrt', 'min_samples_split': 12, 'n_estimators': 80}"
          ],
          [
           "{'max_depth': 6, 'max_features': 'sqrt', 'min_samples_split': 12, 'n_estimators': 110}"
          ],
          [
           "{'max_depth': 6, 'max_features': 'sqrt', 'min_samples_split': 12, 'n_estimators': 130}"
          ],
          [
           "{'max_depth': 6, 'max_features': 'log2', 'min_samples_split': 3, 'n_estimators': 50}"
          ],
          [
           "{'max_depth': 6, 'max_features': 'log2', 'min_samples_split': 3, 'n_estimators': 80}"
          ],
          [
           "{'max_depth': 6, 'max_features': 'log2', 'min_samples_split': 3, 'n_estimators': 110}"
          ],
          [
           "{'max_depth': 6, 'max_features': 'log2', 'min_samples_split': 3, 'n_estimators': 130}"
          ],
          [
           "{'max_depth': 6, 'max_features': 'log2', 'min_samples_split': 6, 'n_estimators': 50}"
          ],
          [
           "{'max_depth': 6, 'max_features': 'log2', 'min_samples_split': 6, 'n_estimators': 80}"
          ],
          [
           "{'max_depth': 6, 'max_features': 'log2', 'min_samples_split': 6, 'n_estimators': 110}"
          ],
          [
           "{'max_depth': 6, 'max_features': 'log2', 'min_samples_split': 6, 'n_estimators': 130}"
          ],
          [
           "{'max_depth': 6, 'max_features': 'log2', 'min_samples_split': 9, 'n_estimators': 50}"
          ],
          [
           "{'max_depth': 6, 'max_features': 'log2', 'min_samples_split': 9, 'n_estimators': 80}"
          ],
          [
           "{'max_depth': 6, 'max_features': 'log2', 'min_samples_split': 9, 'n_estimators': 110}"
          ],
          [
           "{'max_depth': 6, 'max_features': 'log2', 'min_samples_split': 9, 'n_estimators': 130}"
          ],
          [
           "{'max_depth': 6, 'max_features': 'log2', 'min_samples_split': 12, 'n_estimators': 50}"
          ],
          [
           "{'max_depth': 6, 'max_features': 'log2', 'min_samples_split': 12, 'n_estimators': 80}"
          ],
          [
           "{'max_depth': 6, 'max_features': 'log2', 'min_samples_split': 12, 'n_estimators': 110}"
          ],
          [
           "{'max_depth': 6, 'max_features': 'log2', 'min_samples_split': 12, 'n_estimators': 130}"
          ],
          [
           "{'max_depth': 9, 'max_features': 'sqrt', 'min_samples_split': 3, 'n_estimators': 50}"
          ],
          [
           "{'max_depth': 9, 'max_features': 'sqrt', 'min_samples_split': 3, 'n_estimators': 80}"
          ],
          [
           "{'max_depth': 9, 'max_features': 'sqrt', 'min_samples_split': 3, 'n_estimators': 110}"
          ],
          [
           "{'max_depth': 9, 'max_features': 'sqrt', 'min_samples_split': 3, 'n_estimators': 130}"
          ],
          [
           "{'max_depth': 9, 'max_features': 'sqrt', 'min_samples_split': 6, 'n_estimators': 50}"
          ],
          [
           "{'max_depth': 9, 'max_features': 'sqrt', 'min_samples_split': 6, 'n_estimators': 80}"
          ],
          [
           "{'max_depth': 9, 'max_features': 'sqrt', 'min_samples_split': 6, 'n_estimators': 110}"
          ],
          [
           "{'max_depth': 9, 'max_features': 'sqrt', 'min_samples_split': 6, 'n_estimators': 130}"
          ],
          [
           "{'max_depth': 9, 'max_features': 'sqrt', 'min_samples_split': 9, 'n_estimators': 50}"
          ],
          [
           "{'max_depth': 9, 'max_features': 'sqrt', 'min_samples_split': 9, 'n_estimators': 80}"
          ],
          [
           "{'max_depth': 9, 'max_features': 'sqrt', 'min_samples_split': 9, 'n_estimators': 110}"
          ],
          [
           "{'max_depth': 9, 'max_features': 'sqrt', 'min_samples_split': 9, 'n_estimators': 130}"
          ],
          [
           "{'max_depth': 9, 'max_features': 'sqrt', 'min_samples_split': 12, 'n_estimators': 50}"
          ],
          [
           "{'max_depth': 9, 'max_features': 'sqrt', 'min_samples_split': 12, 'n_estimators': 80}"
          ],
          [
           "{'max_depth': 9, 'max_features': 'sqrt', 'min_samples_split': 12, 'n_estimators': 110}"
          ],
          [
           "{'max_depth': 9, 'max_features': 'sqrt', 'min_samples_split': 12, 'n_estimators': 130}"
          ],
          [
           "{'max_depth': 9, 'max_features': 'log2', 'min_samples_split': 3, 'n_estimators': 50}"
          ],
          [
           "{'max_depth': 9, 'max_features': 'log2', 'min_samples_split': 3, 'n_estimators': 80}"
          ],
          [
           "{'max_depth': 9, 'max_features': 'log2', 'min_samples_split': 3, 'n_estimators': 110}"
          ],
          [
           "{'max_depth': 9, 'max_features': 'log2', 'min_samples_split': 3, 'n_estimators': 130}"
          ],
          [
           "{'max_depth': 9, 'max_features': 'log2', 'min_samples_split': 6, 'n_estimators': 50}"
          ],
          [
           "{'max_depth': 9, 'max_features': 'log2', 'min_samples_split': 6, 'n_estimators': 80}"
          ],
          [
           "{'max_depth': 9, 'max_features': 'log2', 'min_samples_split': 6, 'n_estimators': 110}"
          ],
          [
           "{'max_depth': 9, 'max_features': 'log2', 'min_samples_split': 6, 'n_estimators': 130}"
          ],
          [
           "{'max_depth': 9, 'max_features': 'log2', 'min_samples_split': 9, 'n_estimators': 50}"
          ],
          [
           "{'max_depth': 9, 'max_features': 'log2', 'min_samples_split': 9, 'n_estimators': 80}"
          ],
          [
           "{'max_depth': 9, 'max_features': 'log2', 'min_samples_split': 9, 'n_estimators': 110}"
          ],
          [
           "{'max_depth': 9, 'max_features': 'log2', 'min_samples_split': 9, 'n_estimators': 130}"
          ],
          [
           "{'max_depth': 9, 'max_features': 'log2', 'min_samples_split': 12, 'n_estimators': 50}"
          ],
          [
           "{'max_depth': 9, 'max_features': 'log2', 'min_samples_split': 12, 'n_estimators': 80}"
          ],
          [
           "{'max_depth': 9, 'max_features': 'log2', 'min_samples_split': 12, 'n_estimators': 110}"
          ],
          [
           "{'max_depth': 9, 'max_features': 'log2', 'min_samples_split': 12, 'n_estimators': 130}"
          ]
         ],
         "error_y": {
          "array": [
           0.04623984076098464,
           0.03806385528151554,
           0.04635338612381984,
           0.038471747128957665,
           0.047318091135294824,
           0.048619141377368426,
           0.04525120125191448,
           0.050543835750075365,
           0.0455483685297501,
           0.04579073550863531,
           0.04536104249082292,
           0.043041068252670775,
           0.03862446024792635,
           0.037121271485516256,
           0.03374973820574786,
           0.03451438449790768,
           0.04185023162346502,
           0.04243912604976393,
           0.04258139927983451,
           0.04040864493761592,
           0.035526560148187156,
           0.03749392435609712,
           0.04723514318758189,
           0.03975367548901444,
           0.038978185865065705,
           0.04582846018916052,
           0.04804757540961964,
           0.042492344945055494,
           0.037360118482226076,
           0.046822223248807526,
           0.04188587836946099,
           0.049804890048813596,
           0.023439700717523018,
           0.027546571138128383,
           0.02275851404334607,
           0.035206295886158416,
           0.0227283939302037,
           0.02921850691921369,
           0.034949147933429923,
           0.03022537603583621,
           0.029978981360773954,
           0.018398731625706377,
           0.03051635089240883,
           0.02863082232043408,
           0.02278437271827634,
           0.036521898461530596,
           0.027792358150327875,
           0.030323959313061977,
           0.03562493299364446,
           0.028162737142444664,
           0.03166503482960804,
           0.031065282110703897,
           0.034123564501260514,
           0.02464268624816704,
           0.021414381640401655,
           0.027195757639050314,
           0.029214798983466465,
           0.03300776263021422,
           0.02154548902517904,
           0.024668246002255513,
           0.015176919207889461,
           0.0245093351251359,
           0.03153811013341434,
           0.03078632693212598,
           0.027788034508018374,
           0.017228449707264212,
           0.02128115579381743,
           0.01871484207138271,
           0.020226716382103063,
           0.022760836301190815,
           0.016324640370521074,
           0.02276613345117361,
           0.02820588970186986,
           0.016395088177207154,
           0.022142114452722846,
           0.01777266656048273,
           0.02029909348294612,
           0.01670843022099024,
           0.01786311366937325,
           0.024019238340402458,
           0.01933195873433443,
           0.02443270842255311,
           0.022512169162881436,
           0.019872192653230498,
           0.021650564690953278,
           0.02706804430853775,
           0.023714289364036505,
           0.02551436583051072,
           0.026287939302198117,
           0.009949350057087372,
           0.029137641166104126,
           0.01638943286574217,
           0.01993038958365439,
           0.02007383254642576,
           0.010309466016178818,
           0.015632806376796645
          ]
         },
         "hovertemplate": "<b>%{hovertext}</b><br><br>type=train<br>Params=%{x}<br>Average f1=%{y}<br>params=%{customdata[0]}<extra></extra>",
         "hovertext": [
          "{'max_depth': 3, 'max_features': 'sqrt', 'min_samples_split': 3, 'n_estimators': 50}",
          "{'max_depth': 3, 'max_features': 'sqrt', 'min_samples_split': 3, 'n_estimators': 80}",
          "{'max_depth': 3, 'max_features': 'sqrt', 'min_samples_split': 3, 'n_estimators': 110}",
          "{'max_depth': 3, 'max_features': 'sqrt', 'min_samples_split': 3, 'n_estimators': 130}",
          "{'max_depth': 3, 'max_features': 'sqrt', 'min_samples_split': 6, 'n_estimators': 50}",
          "{'max_depth': 3, 'max_features': 'sqrt', 'min_samples_split': 6, 'n_estimators': 80}",
          "{'max_depth': 3, 'max_features': 'sqrt', 'min_samples_split': 6, 'n_estimators': 110}",
          "{'max_depth': 3, 'max_features': 'sqrt', 'min_samples_split': 6, 'n_estimators': 130}",
          "{'max_depth': 3, 'max_features': 'sqrt', 'min_samples_split': 9, 'n_estimators': 50}",
          "{'max_depth': 3, 'max_features': 'sqrt', 'min_samples_split': 9, 'n_estimators': 80}",
          "{'max_depth': 3, 'max_features': 'sqrt', 'min_samples_split': 9, 'n_estimators': 110}",
          "{'max_depth': 3, 'max_features': 'sqrt', 'min_samples_split': 9, 'n_estimators': 130}",
          "{'max_depth': 3, 'max_features': 'sqrt', 'min_samples_split': 12, 'n_estimators': 50}",
          "{'max_depth': 3, 'max_features': 'sqrt', 'min_samples_split': 12, 'n_estimators': 80}",
          "{'max_depth': 3, 'max_features': 'sqrt', 'min_samples_split': 12, 'n_estimators': 110}",
          "{'max_depth': 3, 'max_features': 'sqrt', 'min_samples_split': 12, 'n_estimators': 130}",
          "{'max_depth': 3, 'max_features': 'log2', 'min_samples_split': 3, 'n_estimators': 50}",
          "{'max_depth': 3, 'max_features': 'log2', 'min_samples_split': 3, 'n_estimators': 80}",
          "{'max_depth': 3, 'max_features': 'log2', 'min_samples_split': 3, 'n_estimators': 110}",
          "{'max_depth': 3, 'max_features': 'log2', 'min_samples_split': 3, 'n_estimators': 130}",
          "{'max_depth': 3, 'max_features': 'log2', 'min_samples_split': 6, 'n_estimators': 50}",
          "{'max_depth': 3, 'max_features': 'log2', 'min_samples_split': 6, 'n_estimators': 80}",
          "{'max_depth': 3, 'max_features': 'log2', 'min_samples_split': 6, 'n_estimators': 110}",
          "{'max_depth': 3, 'max_features': 'log2', 'min_samples_split': 6, 'n_estimators': 130}",
          "{'max_depth': 3, 'max_features': 'log2', 'min_samples_split': 9, 'n_estimators': 50}",
          "{'max_depth': 3, 'max_features': 'log2', 'min_samples_split': 9, 'n_estimators': 80}",
          "{'max_depth': 3, 'max_features': 'log2', 'min_samples_split': 9, 'n_estimators': 110}",
          "{'max_depth': 3, 'max_features': 'log2', 'min_samples_split': 9, 'n_estimators': 130}",
          "{'max_depth': 3, 'max_features': 'log2', 'min_samples_split': 12, 'n_estimators': 50}",
          "{'max_depth': 3, 'max_features': 'log2', 'min_samples_split': 12, 'n_estimators': 80}",
          "{'max_depth': 3, 'max_features': 'log2', 'min_samples_split': 12, 'n_estimators': 110}",
          "{'max_depth': 3, 'max_features': 'log2', 'min_samples_split': 12, 'n_estimators': 130}",
          "{'max_depth': 6, 'max_features': 'sqrt', 'min_samples_split': 3, 'n_estimators': 50}",
          "{'max_depth': 6, 'max_features': 'sqrt', 'min_samples_split': 3, 'n_estimators': 80}",
          "{'max_depth': 6, 'max_features': 'sqrt', 'min_samples_split': 3, 'n_estimators': 110}",
          "{'max_depth': 6, 'max_features': 'sqrt', 'min_samples_split': 3, 'n_estimators': 130}",
          "{'max_depth': 6, 'max_features': 'sqrt', 'min_samples_split': 6, 'n_estimators': 50}",
          "{'max_depth': 6, 'max_features': 'sqrt', 'min_samples_split': 6, 'n_estimators': 80}",
          "{'max_depth': 6, 'max_features': 'sqrt', 'min_samples_split': 6, 'n_estimators': 110}",
          "{'max_depth': 6, 'max_features': 'sqrt', 'min_samples_split': 6, 'n_estimators': 130}",
          "{'max_depth': 6, 'max_features': 'sqrt', 'min_samples_split': 9, 'n_estimators': 50}",
          "{'max_depth': 6, 'max_features': 'sqrt', 'min_samples_split': 9, 'n_estimators': 80}",
          "{'max_depth': 6, 'max_features': 'sqrt', 'min_samples_split': 9, 'n_estimators': 110}",
          "{'max_depth': 6, 'max_features': 'sqrt', 'min_samples_split': 9, 'n_estimators': 130}",
          "{'max_depth': 6, 'max_features': 'sqrt', 'min_samples_split': 12, 'n_estimators': 50}",
          "{'max_depth': 6, 'max_features': 'sqrt', 'min_samples_split': 12, 'n_estimators': 80}",
          "{'max_depth': 6, 'max_features': 'sqrt', 'min_samples_split': 12, 'n_estimators': 110}",
          "{'max_depth': 6, 'max_features': 'sqrt', 'min_samples_split': 12, 'n_estimators': 130}",
          "{'max_depth': 6, 'max_features': 'log2', 'min_samples_split': 3, 'n_estimators': 50}",
          "{'max_depth': 6, 'max_features': 'log2', 'min_samples_split': 3, 'n_estimators': 80}",
          "{'max_depth': 6, 'max_features': 'log2', 'min_samples_split': 3, 'n_estimators': 110}",
          "{'max_depth': 6, 'max_features': 'log2', 'min_samples_split': 3, 'n_estimators': 130}",
          "{'max_depth': 6, 'max_features': 'log2', 'min_samples_split': 6, 'n_estimators': 50}",
          "{'max_depth': 6, 'max_features': 'log2', 'min_samples_split': 6, 'n_estimators': 80}",
          "{'max_depth': 6, 'max_features': 'log2', 'min_samples_split': 6, 'n_estimators': 110}",
          "{'max_depth': 6, 'max_features': 'log2', 'min_samples_split': 6, 'n_estimators': 130}",
          "{'max_depth': 6, 'max_features': 'log2', 'min_samples_split': 9, 'n_estimators': 50}",
          "{'max_depth': 6, 'max_features': 'log2', 'min_samples_split': 9, 'n_estimators': 80}",
          "{'max_depth': 6, 'max_features': 'log2', 'min_samples_split': 9, 'n_estimators': 110}",
          "{'max_depth': 6, 'max_features': 'log2', 'min_samples_split': 9, 'n_estimators': 130}",
          "{'max_depth': 6, 'max_features': 'log2', 'min_samples_split': 12, 'n_estimators': 50}",
          "{'max_depth': 6, 'max_features': 'log2', 'min_samples_split': 12, 'n_estimators': 80}",
          "{'max_depth': 6, 'max_features': 'log2', 'min_samples_split': 12, 'n_estimators': 110}",
          "{'max_depth': 6, 'max_features': 'log2', 'min_samples_split': 12, 'n_estimators': 130}",
          "{'max_depth': 9, 'max_features': 'sqrt', 'min_samples_split': 3, 'n_estimators': 50}",
          "{'max_depth': 9, 'max_features': 'sqrt', 'min_samples_split': 3, 'n_estimators': 80}",
          "{'max_depth': 9, 'max_features': 'sqrt', 'min_samples_split': 3, 'n_estimators': 110}",
          "{'max_depth': 9, 'max_features': 'sqrt', 'min_samples_split': 3, 'n_estimators': 130}",
          "{'max_depth': 9, 'max_features': 'sqrt', 'min_samples_split': 6, 'n_estimators': 50}",
          "{'max_depth': 9, 'max_features': 'sqrt', 'min_samples_split': 6, 'n_estimators': 80}",
          "{'max_depth': 9, 'max_features': 'sqrt', 'min_samples_split': 6, 'n_estimators': 110}",
          "{'max_depth': 9, 'max_features': 'sqrt', 'min_samples_split': 6, 'n_estimators': 130}",
          "{'max_depth': 9, 'max_features': 'sqrt', 'min_samples_split': 9, 'n_estimators': 50}",
          "{'max_depth': 9, 'max_features': 'sqrt', 'min_samples_split': 9, 'n_estimators': 80}",
          "{'max_depth': 9, 'max_features': 'sqrt', 'min_samples_split': 9, 'n_estimators': 110}",
          "{'max_depth': 9, 'max_features': 'sqrt', 'min_samples_split': 9, 'n_estimators': 130}",
          "{'max_depth': 9, 'max_features': 'sqrt', 'min_samples_split': 12, 'n_estimators': 50}",
          "{'max_depth': 9, 'max_features': 'sqrt', 'min_samples_split': 12, 'n_estimators': 80}",
          "{'max_depth': 9, 'max_features': 'sqrt', 'min_samples_split': 12, 'n_estimators': 110}",
          "{'max_depth': 9, 'max_features': 'sqrt', 'min_samples_split': 12, 'n_estimators': 130}",
          "{'max_depth': 9, 'max_features': 'log2', 'min_samples_split': 3, 'n_estimators': 50}",
          "{'max_depth': 9, 'max_features': 'log2', 'min_samples_split': 3, 'n_estimators': 80}",
          "{'max_depth': 9, 'max_features': 'log2', 'min_samples_split': 3, 'n_estimators': 110}",
          "{'max_depth': 9, 'max_features': 'log2', 'min_samples_split': 3, 'n_estimators': 130}",
          "{'max_depth': 9, 'max_features': 'log2', 'min_samples_split': 6, 'n_estimators': 50}",
          "{'max_depth': 9, 'max_features': 'log2', 'min_samples_split': 6, 'n_estimators': 80}",
          "{'max_depth': 9, 'max_features': 'log2', 'min_samples_split': 6, 'n_estimators': 110}",
          "{'max_depth': 9, 'max_features': 'log2', 'min_samples_split': 6, 'n_estimators': 130}",
          "{'max_depth': 9, 'max_features': 'log2', 'min_samples_split': 9, 'n_estimators': 50}",
          "{'max_depth': 9, 'max_features': 'log2', 'min_samples_split': 9, 'n_estimators': 80}",
          "{'max_depth': 9, 'max_features': 'log2', 'min_samples_split': 9, 'n_estimators': 110}",
          "{'max_depth': 9, 'max_features': 'log2', 'min_samples_split': 9, 'n_estimators': 130}",
          "{'max_depth': 9, 'max_features': 'log2', 'min_samples_split': 12, 'n_estimators': 50}",
          "{'max_depth': 9, 'max_features': 'log2', 'min_samples_split': 12, 'n_estimators': 80}",
          "{'max_depth': 9, 'max_features': 'log2', 'min_samples_split': 12, 'n_estimators': 110}",
          "{'max_depth': 9, 'max_features': 'log2', 'min_samples_split': 12, 'n_estimators': 130}"
         ],
         "legendgroup": "train",
         "marker": {
          "color": "#EF553B",
          "pattern": {
           "shape": ""
          }
         },
         "name": "train",
         "offsetgroup": "train",
         "orientation": "v",
         "showlegend": true,
         "textposition": "auto",
         "type": "bar",
         "x": [
          0,
          1,
          2,
          3,
          4,
          5,
          6,
          7,
          8,
          9,
          10,
          11,
          12,
          13,
          14,
          15,
          16,
          17,
          18,
          19,
          20,
          21,
          22,
          23,
          24,
          25,
          26,
          27,
          28,
          29,
          30,
          31,
          32,
          33,
          34,
          35,
          36,
          37,
          38,
          39,
          40,
          41,
          42,
          43,
          44,
          45,
          46,
          47,
          48,
          49,
          50,
          51,
          52,
          53,
          54,
          55,
          56,
          57,
          58,
          59,
          60,
          61,
          62,
          63,
          64,
          65,
          66,
          67,
          68,
          69,
          70,
          71,
          72,
          73,
          74,
          75,
          76,
          77,
          78,
          79,
          80,
          81,
          82,
          83,
          84,
          85,
          86,
          87,
          88,
          89,
          90,
          91,
          92,
          93,
          94,
          95
         ],
         "xaxis": "x",
         "y": [
          0.21424895081156378,
          0.21157277079488362,
          0.2107828653880078,
          0.20040607905352587,
          0.22422720146237549,
          0.2233253024471417,
          0.21583037060782578,
          0.2208865360644725,
          0.20887317125645888,
          0.21314549810666703,
          0.21354653828846484,
          0.21041758597621313,
          0.19842406354788486,
          0.2049237354870282,
          0.19775796767072568,
          0.20749332595041298,
          0.22043667875047007,
          0.20129840800946028,
          0.21359492290046292,
          0.2091842271551864,
          0.22081531372986438,
          0.19961776207160797,
          0.2156849843650172,
          0.20419264460291284,
          0.21385022328421002,
          0.2145347328054319,
          0.22126186123905808,
          0.21067852909424184,
          0.21130689110308318,
          0.2062171586503275,
          0.20490143479166836,
          0.2157900474278917,
          0.46954637321037146,
          0.4623338623415901,
          0.46126763350449435,
          0.4623549284111089,
          0.4645020802822105,
          0.4550090637559869,
          0.4615271193068834,
          0.4574839480183144,
          0.45019354159183456,
          0.4644327849011881,
          0.4520663465019152,
          0.4588451523819077,
          0.45087580586488213,
          0.44855147203683543,
          0.4538468075431732,
          0.4630599134271936,
          0.4541966426728831,
          0.4603205986754233,
          0.4561805864042562,
          0.4678995115678843,
          0.4603717580248502,
          0.4543943444417738,
          0.46528868291241315,
          0.4633153910700002,
          0.46405081787000446,
          0.4581649976272864,
          0.4518403635829965,
          0.464000350664061,
          0.4537168008873003,
          0.46403760800757976,
          0.45451980143092935,
          0.4561777978705749,
          0.635725209635195,
          0.6397410043380864,
          0.6455348816001879,
          0.6466575869276914,
          0.6338998555680588,
          0.625524888570754,
          0.6243229124964763,
          0.6268306408366099,
          0.616180004179923,
          0.6183285573071025,
          0.6169155701077631,
          0.6171798617760496,
          0.6033725782159542,
          0.6070868656248452,
          0.6040743013341598,
          0.6080793059277858,
          0.6495932741991296,
          0.6477808721849616,
          0.6502915013914142,
          0.6514944754820071,
          0.6306894714607296,
          0.625471644390557,
          0.6342085375650873,
          0.6212698039440161,
          0.6313962305555508,
          0.6214106513876555,
          0.612734049837038,
          0.6201819624305661,
          0.6082936783065065,
          0.6041919777616818,
          0.6113386427557759,
          0.602510734279481
         ],
         "yaxis": "y"
        }
       ],
       "layout": {
        "barmode": "group",
        "legend": {
         "title": {
          "text": "type"
         },
         "tracegroupgap": 0
        },
        "template": {
         "data": {
          "bar": [
           {
            "error_x": {
             "color": "#2a3f5f"
            },
            "error_y": {
             "color": "#2a3f5f"
            },
            "marker": {
             "line": {
              "color": "#E5ECF6",
              "width": 0.5
             },
             "pattern": {
              "fillmode": "overlay",
              "size": 10,
              "solidity": 0.2
             }
            },
            "type": "bar"
           }
          ],
          "barpolar": [
           {
            "marker": {
             "line": {
              "color": "#E5ECF6",
              "width": 0.5
             },
             "pattern": {
              "fillmode": "overlay",
              "size": 10,
              "solidity": 0.2
             }
            },
            "type": "barpolar"
           }
          ],
          "carpet": [
           {
            "aaxis": {
             "endlinecolor": "#2a3f5f",
             "gridcolor": "white",
             "linecolor": "white",
             "minorgridcolor": "white",
             "startlinecolor": "#2a3f5f"
            },
            "baxis": {
             "endlinecolor": "#2a3f5f",
             "gridcolor": "white",
             "linecolor": "white",
             "minorgridcolor": "white",
             "startlinecolor": "#2a3f5f"
            },
            "type": "carpet"
           }
          ],
          "choropleth": [
           {
            "colorbar": {
             "outlinewidth": 0,
             "ticks": ""
            },
            "type": "choropleth"
           }
          ],
          "contour": [
           {
            "colorbar": {
             "outlinewidth": 0,
             "ticks": ""
            },
            "colorscale": [
             [
              0.0,
              "#0d0887"
             ],
             [
              0.1111111111111111,
              "#46039f"
             ],
             [
              0.2222222222222222,
              "#7201a8"
             ],
             [
              0.3333333333333333,
              "#9c179e"
             ],
             [
              0.4444444444444444,
              "#bd3786"
             ],
             [
              0.5555555555555556,
              "#d8576b"
             ],
             [
              0.6666666666666666,
              "#ed7953"
             ],
             [
              0.7777777777777778,
              "#fb9f3a"
             ],
             [
              0.8888888888888888,
              "#fdca26"
             ],
             [
              1.0,
              "#f0f921"
             ]
            ],
            "type": "contour"
           }
          ],
          "contourcarpet": [
           {
            "colorbar": {
             "outlinewidth": 0,
             "ticks": ""
            },
            "type": "contourcarpet"
           }
          ],
          "heatmap": [
           {
            "colorbar": {
             "outlinewidth": 0,
             "ticks": ""
            },
            "colorscale": [
             [
              0.0,
              "#0d0887"
             ],
             [
              0.1111111111111111,
              "#46039f"
             ],
             [
              0.2222222222222222,
              "#7201a8"
             ],
             [
              0.3333333333333333,
              "#9c179e"
             ],
             [
              0.4444444444444444,
              "#bd3786"
             ],
             [
              0.5555555555555556,
              "#d8576b"
             ],
             [
              0.6666666666666666,
              "#ed7953"
             ],
             [
              0.7777777777777778,
              "#fb9f3a"
             ],
             [
              0.8888888888888888,
              "#fdca26"
             ],
             [
              1.0,
              "#f0f921"
             ]
            ],
            "type": "heatmap"
           }
          ],
          "heatmapgl": [
           {
            "colorbar": {
             "outlinewidth": 0,
             "ticks": ""
            },
            "colorscale": [
             [
              0.0,
              "#0d0887"
             ],
             [
              0.1111111111111111,
              "#46039f"
             ],
             [
              0.2222222222222222,
              "#7201a8"
             ],
             [
              0.3333333333333333,
              "#9c179e"
             ],
             [
              0.4444444444444444,
              "#bd3786"
             ],
             [
              0.5555555555555556,
              "#d8576b"
             ],
             [
              0.6666666666666666,
              "#ed7953"
             ],
             [
              0.7777777777777778,
              "#fb9f3a"
             ],
             [
              0.8888888888888888,
              "#fdca26"
             ],
             [
              1.0,
              "#f0f921"
             ]
            ],
            "type": "heatmapgl"
           }
          ],
          "histogram": [
           {
            "marker": {
             "pattern": {
              "fillmode": "overlay",
              "size": 10,
              "solidity": 0.2
             }
            },
            "type": "histogram"
           }
          ],
          "histogram2d": [
           {
            "colorbar": {
             "outlinewidth": 0,
             "ticks": ""
            },
            "colorscale": [
             [
              0.0,
              "#0d0887"
             ],
             [
              0.1111111111111111,
              "#46039f"
             ],
             [
              0.2222222222222222,
              "#7201a8"
             ],
             [
              0.3333333333333333,
              "#9c179e"
             ],
             [
              0.4444444444444444,
              "#bd3786"
             ],
             [
              0.5555555555555556,
              "#d8576b"
             ],
             [
              0.6666666666666666,
              "#ed7953"
             ],
             [
              0.7777777777777778,
              "#fb9f3a"
             ],
             [
              0.8888888888888888,
              "#fdca26"
             ],
             [
              1.0,
              "#f0f921"
             ]
            ],
            "type": "histogram2d"
           }
          ],
          "histogram2dcontour": [
           {
            "colorbar": {
             "outlinewidth": 0,
             "ticks": ""
            },
            "colorscale": [
             [
              0.0,
              "#0d0887"
             ],
             [
              0.1111111111111111,
              "#46039f"
             ],
             [
              0.2222222222222222,
              "#7201a8"
             ],
             [
              0.3333333333333333,
              "#9c179e"
             ],
             [
              0.4444444444444444,
              "#bd3786"
             ],
             [
              0.5555555555555556,
              "#d8576b"
             ],
             [
              0.6666666666666666,
              "#ed7953"
             ],
             [
              0.7777777777777778,
              "#fb9f3a"
             ],
             [
              0.8888888888888888,
              "#fdca26"
             ],
             [
              1.0,
              "#f0f921"
             ]
            ],
            "type": "histogram2dcontour"
           }
          ],
          "mesh3d": [
           {
            "colorbar": {
             "outlinewidth": 0,
             "ticks": ""
            },
            "type": "mesh3d"
           }
          ],
          "parcoords": [
           {
            "line": {
             "colorbar": {
              "outlinewidth": 0,
              "ticks": ""
             }
            },
            "type": "parcoords"
           }
          ],
          "pie": [
           {
            "automargin": true,
            "type": "pie"
           }
          ],
          "scatter": [
           {
            "marker": {
             "colorbar": {
              "outlinewidth": 0,
              "ticks": ""
             }
            },
            "type": "scatter"
           }
          ],
          "scatter3d": [
           {
            "line": {
             "colorbar": {
              "outlinewidth": 0,
              "ticks": ""
             }
            },
            "marker": {
             "colorbar": {
              "outlinewidth": 0,
              "ticks": ""
             }
            },
            "type": "scatter3d"
           }
          ],
          "scattercarpet": [
           {
            "marker": {
             "colorbar": {
              "outlinewidth": 0,
              "ticks": ""
             }
            },
            "type": "scattercarpet"
           }
          ],
          "scattergeo": [
           {
            "marker": {
             "colorbar": {
              "outlinewidth": 0,
              "ticks": ""
             }
            },
            "type": "scattergeo"
           }
          ],
          "scattergl": [
           {
            "marker": {
             "colorbar": {
              "outlinewidth": 0,
              "ticks": ""
             }
            },
            "type": "scattergl"
           }
          ],
          "scattermapbox": [
           {
            "marker": {
             "colorbar": {
              "outlinewidth": 0,
              "ticks": ""
             }
            },
            "type": "scattermapbox"
           }
          ],
          "scatterpolar": [
           {
            "marker": {
             "colorbar": {
              "outlinewidth": 0,
              "ticks": ""
             }
            },
            "type": "scatterpolar"
           }
          ],
          "scatterpolargl": [
           {
            "marker": {
             "colorbar": {
              "outlinewidth": 0,
              "ticks": ""
             }
            },
            "type": "scatterpolargl"
           }
          ],
          "scatterternary": [
           {
            "marker": {
             "colorbar": {
              "outlinewidth": 0,
              "ticks": ""
             }
            },
            "type": "scatterternary"
           }
          ],
          "surface": [
           {
            "colorbar": {
             "outlinewidth": 0,
             "ticks": ""
            },
            "colorscale": [
             [
              0.0,
              "#0d0887"
             ],
             [
              0.1111111111111111,
              "#46039f"
             ],
             [
              0.2222222222222222,
              "#7201a8"
             ],
             [
              0.3333333333333333,
              "#9c179e"
             ],
             [
              0.4444444444444444,
              "#bd3786"
             ],
             [
              0.5555555555555556,
              "#d8576b"
             ],
             [
              0.6666666666666666,
              "#ed7953"
             ],
             [
              0.7777777777777778,
              "#fb9f3a"
             ],
             [
              0.8888888888888888,
              "#fdca26"
             ],
             [
              1.0,
              "#f0f921"
             ]
            ],
            "type": "surface"
           }
          ],
          "table": [
           {
            "cells": {
             "fill": {
              "color": "#EBF0F8"
             },
             "line": {
              "color": "white"
             }
            },
            "header": {
             "fill": {
              "color": "#C8D4E3"
             },
             "line": {
              "color": "white"
             }
            },
            "type": "table"
           }
          ]
         },
         "layout": {
          "annotationdefaults": {
           "arrowcolor": "#2a3f5f",
           "arrowhead": 0,
           "arrowwidth": 1
          },
          "autotypenumbers": "strict",
          "coloraxis": {
           "colorbar": {
            "outlinewidth": 0,
            "ticks": ""
           }
          },
          "colorscale": {
           "diverging": [
            [
             0,
             "#8e0152"
            ],
            [
             0.1,
             "#c51b7d"
            ],
            [
             0.2,
             "#de77ae"
            ],
            [
             0.3,
             "#f1b6da"
            ],
            [
             0.4,
             "#fde0ef"
            ],
            [
             0.5,
             "#f7f7f7"
            ],
            [
             0.6,
             "#e6f5d0"
            ],
            [
             0.7,
             "#b8e186"
            ],
            [
             0.8,
             "#7fbc41"
            ],
            [
             0.9,
             "#4d9221"
            ],
            [
             1,
             "#276419"
            ]
           ],
           "sequential": [
            [
             0.0,
             "#0d0887"
            ],
            [
             0.1111111111111111,
             "#46039f"
            ],
            [
             0.2222222222222222,
             "#7201a8"
            ],
            [
             0.3333333333333333,
             "#9c179e"
            ],
            [
             0.4444444444444444,
             "#bd3786"
            ],
            [
             0.5555555555555556,
             "#d8576b"
            ],
            [
             0.6666666666666666,
             "#ed7953"
            ],
            [
             0.7777777777777778,
             "#fb9f3a"
            ],
            [
             0.8888888888888888,
             "#fdca26"
            ],
            [
             1.0,
             "#f0f921"
            ]
           ],
           "sequentialminus": [
            [
             0.0,
             "#0d0887"
            ],
            [
             0.1111111111111111,
             "#46039f"
            ],
            [
             0.2222222222222222,
             "#7201a8"
            ],
            [
             0.3333333333333333,
             "#9c179e"
            ],
            [
             0.4444444444444444,
             "#bd3786"
            ],
            [
             0.5555555555555556,
             "#d8576b"
            ],
            [
             0.6666666666666666,
             "#ed7953"
            ],
            [
             0.7777777777777778,
             "#fb9f3a"
            ],
            [
             0.8888888888888888,
             "#fdca26"
            ],
            [
             1.0,
             "#f0f921"
            ]
           ]
          },
          "colorway": [
           "#636efa",
           "#EF553B",
           "#00cc96",
           "#ab63fa",
           "#FFA15A",
           "#19d3f3",
           "#FF6692",
           "#B6E880",
           "#FF97FF",
           "#FECB52"
          ],
          "font": {
           "color": "#2a3f5f"
          },
          "geo": {
           "bgcolor": "white",
           "lakecolor": "white",
           "landcolor": "#E5ECF6",
           "showlakes": true,
           "showland": true,
           "subunitcolor": "white"
          },
          "hoverlabel": {
           "align": "left"
          },
          "hovermode": "closest",
          "mapbox": {
           "style": "light"
          },
          "paper_bgcolor": "white",
          "plot_bgcolor": "#E5ECF6",
          "polar": {
           "angularaxis": {
            "gridcolor": "white",
            "linecolor": "white",
            "ticks": ""
           },
           "bgcolor": "#E5ECF6",
           "radialaxis": {
            "gridcolor": "white",
            "linecolor": "white",
            "ticks": ""
           }
          },
          "scene": {
           "xaxis": {
            "backgroundcolor": "#E5ECF6",
            "gridcolor": "white",
            "gridwidth": 2,
            "linecolor": "white",
            "showbackground": true,
            "ticks": "",
            "zerolinecolor": "white"
           },
           "yaxis": {
            "backgroundcolor": "#E5ECF6",
            "gridcolor": "white",
            "gridwidth": 2,
            "linecolor": "white",
            "showbackground": true,
            "ticks": "",
            "zerolinecolor": "white"
           },
           "zaxis": {
            "backgroundcolor": "#E5ECF6",
            "gridcolor": "white",
            "gridwidth": 2,
            "linecolor": "white",
            "showbackground": true,
            "ticks": "",
            "zerolinecolor": "white"
           }
          },
          "shapedefaults": {
           "line": {
            "color": "#2a3f5f"
           }
          },
          "ternary": {
           "aaxis": {
            "gridcolor": "white",
            "linecolor": "white",
            "ticks": ""
           },
           "baxis": {
            "gridcolor": "white",
            "linecolor": "white",
            "ticks": ""
           },
           "bgcolor": "#E5ECF6",
           "caxis": {
            "gridcolor": "white",
            "linecolor": "white",
            "ticks": ""
           }
          },
          "title": {
           "x": 0.05
          },
          "xaxis": {
           "automargin": true,
           "gridcolor": "white",
           "linecolor": "white",
           "ticks": "",
           "title": {
            "standoff": 15
           },
           "zerolinecolor": "white",
           "zerolinewidth": 2
          },
          "yaxis": {
           "automargin": true,
           "gridcolor": "white",
           "linecolor": "white",
           "ticks": "",
           "title": {
            "standoff": 15
           },
           "zerolinecolor": "white",
           "zerolinewidth": 2
          }
         }
        },
        "title": {
         "text": "Mean f1 score on testing and training set for each parameter combination <br> (Model: RandomForest Classifier, Dataset: Multivariate feature imputation with subset selection)"
        },
        "xaxis": {
         "anchor": "y",
         "domain": [
          0.0,
          1.0
         ],
         "title": {
          "text": "Params"
         }
        },
        "yaxis": {
         "anchor": "x",
         "domain": [
          0.0,
          1.0
         ],
         "title": {
          "text": "Average f1"
         }
        }
       }
      },
      "text/html": "<div>                            <div id=\"3e959ff5-b45f-4ee5-8288-1d9aeccd9e60\" class=\"plotly-graph-div\" style=\"height:525px; width:100%;\"></div>            <script type=\"text/javascript\">                require([\"plotly\"], function(Plotly) {                    window.PLOTLYENV=window.PLOTLYENV || {};                                    if (document.getElementById(\"3e959ff5-b45f-4ee5-8288-1d9aeccd9e60\")) {                    Plotly.newPlot(                        \"3e959ff5-b45f-4ee5-8288-1d9aeccd9e60\",                        [{\"alignmentgroup\":\"True\",\"customdata\":[[\"{'max_depth': 3, 'max_features': 'sqrt', 'min_samples_split': 3, 'n_estimators': 50}\"],[\"{'max_depth': 3, 'max_features': 'sqrt', 'min_samples_split': 3, 'n_estimators': 80}\"],[\"{'max_depth': 3, 'max_features': 'sqrt', 'min_samples_split': 3, 'n_estimators': 110}\"],[\"{'max_depth': 3, 'max_features': 'sqrt', 'min_samples_split': 3, 'n_estimators': 130}\"],[\"{'max_depth': 3, 'max_features': 'sqrt', 'min_samples_split': 6, 'n_estimators': 50}\"],[\"{'max_depth': 3, 'max_features': 'sqrt', 'min_samples_split': 6, 'n_estimators': 80}\"],[\"{'max_depth': 3, 'max_features': 'sqrt', 'min_samples_split': 6, 'n_estimators': 110}\"],[\"{'max_depth': 3, 'max_features': 'sqrt', 'min_samples_split': 6, 'n_estimators': 130}\"],[\"{'max_depth': 3, 'max_features': 'sqrt', 'min_samples_split': 9, 'n_estimators': 50}\"],[\"{'max_depth': 3, 'max_features': 'sqrt', 'min_samples_split': 9, 'n_estimators': 80}\"],[\"{'max_depth': 3, 'max_features': 'sqrt', 'min_samples_split': 9, 'n_estimators': 110}\"],[\"{'max_depth': 3, 'max_features': 'sqrt', 'min_samples_split': 9, 'n_estimators': 130}\"],[\"{'max_depth': 3, 'max_features': 'sqrt', 'min_samples_split': 12, 'n_estimators': 50}\"],[\"{'max_depth': 3, 'max_features': 'sqrt', 'min_samples_split': 12, 'n_estimators': 80}\"],[\"{'max_depth': 3, 'max_features': 'sqrt', 'min_samples_split': 12, 'n_estimators': 110}\"],[\"{'max_depth': 3, 'max_features': 'sqrt', 'min_samples_split': 12, 'n_estimators': 130}\"],[\"{'max_depth': 3, 'max_features': 'log2', 'min_samples_split': 3, 'n_estimators': 50}\"],[\"{'max_depth': 3, 'max_features': 'log2', 'min_samples_split': 3, 'n_estimators': 80}\"],[\"{'max_depth': 3, 'max_features': 'log2', 'min_samples_split': 3, 'n_estimators': 110}\"],[\"{'max_depth': 3, 'max_features': 'log2', 'min_samples_split': 3, 'n_estimators': 130}\"],[\"{'max_depth': 3, 'max_features': 'log2', 'min_samples_split': 6, 'n_estimators': 50}\"],[\"{'max_depth': 3, 'max_features': 'log2', 'min_samples_split': 6, 'n_estimators': 80}\"],[\"{'max_depth': 3, 'max_features': 'log2', 'min_samples_split': 6, 'n_estimators': 110}\"],[\"{'max_depth': 3, 'max_features': 'log2', 'min_samples_split': 6, 'n_estimators': 130}\"],[\"{'max_depth': 3, 'max_features': 'log2', 'min_samples_split': 9, 'n_estimators': 50}\"],[\"{'max_depth': 3, 'max_features': 'log2', 'min_samples_split': 9, 'n_estimators': 80}\"],[\"{'max_depth': 3, 'max_features': 'log2', 'min_samples_split': 9, 'n_estimators': 110}\"],[\"{'max_depth': 3, 'max_features': 'log2', 'min_samples_split': 9, 'n_estimators': 130}\"],[\"{'max_depth': 3, 'max_features': 'log2', 'min_samples_split': 12, 'n_estimators': 50}\"],[\"{'max_depth': 3, 'max_features': 'log2', 'min_samples_split': 12, 'n_estimators': 80}\"],[\"{'max_depth': 3, 'max_features': 'log2', 'min_samples_split': 12, 'n_estimators': 110}\"],[\"{'max_depth': 3, 'max_features': 'log2', 'min_samples_split': 12, 'n_estimators': 130}\"],[\"{'max_depth': 6, 'max_features': 'sqrt', 'min_samples_split': 3, 'n_estimators': 50}\"],[\"{'max_depth': 6, 'max_features': 'sqrt', 'min_samples_split': 3, 'n_estimators': 80}\"],[\"{'max_depth': 6, 'max_features': 'sqrt', 'min_samples_split': 3, 'n_estimators': 110}\"],[\"{'max_depth': 6, 'max_features': 'sqrt', 'min_samples_split': 3, 'n_estimators': 130}\"],[\"{'max_depth': 6, 'max_features': 'sqrt', 'min_samples_split': 6, 'n_estimators': 50}\"],[\"{'max_depth': 6, 'max_features': 'sqrt', 'min_samples_split': 6, 'n_estimators': 80}\"],[\"{'max_depth': 6, 'max_features': 'sqrt', 'min_samples_split': 6, 'n_estimators': 110}\"],[\"{'max_depth': 6, 'max_features': 'sqrt', 'min_samples_split': 6, 'n_estimators': 130}\"],[\"{'max_depth': 6, 'max_features': 'sqrt', 'min_samples_split': 9, 'n_estimators': 50}\"],[\"{'max_depth': 6, 'max_features': 'sqrt', 'min_samples_split': 9, 'n_estimators': 80}\"],[\"{'max_depth': 6, 'max_features': 'sqrt', 'min_samples_split': 9, 'n_estimators': 110}\"],[\"{'max_depth': 6, 'max_features': 'sqrt', 'min_samples_split': 9, 'n_estimators': 130}\"],[\"{'max_depth': 6, 'max_features': 'sqrt', 'min_samples_split': 12, 'n_estimators': 50}\"],[\"{'max_depth': 6, 'max_features': 'sqrt', 'min_samples_split': 12, 'n_estimators': 80}\"],[\"{'max_depth': 6, 'max_features': 'sqrt', 'min_samples_split': 12, 'n_estimators': 110}\"],[\"{'max_depth': 6, 'max_features': 'sqrt', 'min_samples_split': 12, 'n_estimators': 130}\"],[\"{'max_depth': 6, 'max_features': 'log2', 'min_samples_split': 3, 'n_estimators': 50}\"],[\"{'max_depth': 6, 'max_features': 'log2', 'min_samples_split': 3, 'n_estimators': 80}\"],[\"{'max_depth': 6, 'max_features': 'log2', 'min_samples_split': 3, 'n_estimators': 110}\"],[\"{'max_depth': 6, 'max_features': 'log2', 'min_samples_split': 3, 'n_estimators': 130}\"],[\"{'max_depth': 6, 'max_features': 'log2', 'min_samples_split': 6, 'n_estimators': 50}\"],[\"{'max_depth': 6, 'max_features': 'log2', 'min_samples_split': 6, 'n_estimators': 80}\"],[\"{'max_depth': 6, 'max_features': 'log2', 'min_samples_split': 6, 'n_estimators': 110}\"],[\"{'max_depth': 6, 'max_features': 'log2', 'min_samples_split': 6, 'n_estimators': 130}\"],[\"{'max_depth': 6, 'max_features': 'log2', 'min_samples_split': 9, 'n_estimators': 50}\"],[\"{'max_depth': 6, 'max_features': 'log2', 'min_samples_split': 9, 'n_estimators': 80}\"],[\"{'max_depth': 6, 'max_features': 'log2', 'min_samples_split': 9, 'n_estimators': 110}\"],[\"{'max_depth': 6, 'max_features': 'log2', 'min_samples_split': 9, 'n_estimators': 130}\"],[\"{'max_depth': 6, 'max_features': 'log2', 'min_samples_split': 12, 'n_estimators': 50}\"],[\"{'max_depth': 6, 'max_features': 'log2', 'min_samples_split': 12, 'n_estimators': 80}\"],[\"{'max_depth': 6, 'max_features': 'log2', 'min_samples_split': 12, 'n_estimators': 110}\"],[\"{'max_depth': 6, 'max_features': 'log2', 'min_samples_split': 12, 'n_estimators': 130}\"],[\"{'max_depth': 9, 'max_features': 'sqrt', 'min_samples_split': 3, 'n_estimators': 50}\"],[\"{'max_depth': 9, 'max_features': 'sqrt', 'min_samples_split': 3, 'n_estimators': 80}\"],[\"{'max_depth': 9, 'max_features': 'sqrt', 'min_samples_split': 3, 'n_estimators': 110}\"],[\"{'max_depth': 9, 'max_features': 'sqrt', 'min_samples_split': 3, 'n_estimators': 130}\"],[\"{'max_depth': 9, 'max_features': 'sqrt', 'min_samples_split': 6, 'n_estimators': 50}\"],[\"{'max_depth': 9, 'max_features': 'sqrt', 'min_samples_split': 6, 'n_estimators': 80}\"],[\"{'max_depth': 9, 'max_features': 'sqrt', 'min_samples_split': 6, 'n_estimators': 110}\"],[\"{'max_depth': 9, 'max_features': 'sqrt', 'min_samples_split': 6, 'n_estimators': 130}\"],[\"{'max_depth': 9, 'max_features': 'sqrt', 'min_samples_split': 9, 'n_estimators': 50}\"],[\"{'max_depth': 9, 'max_features': 'sqrt', 'min_samples_split': 9, 'n_estimators': 80}\"],[\"{'max_depth': 9, 'max_features': 'sqrt', 'min_samples_split': 9, 'n_estimators': 110}\"],[\"{'max_depth': 9, 'max_features': 'sqrt', 'min_samples_split': 9, 'n_estimators': 130}\"],[\"{'max_depth': 9, 'max_features': 'sqrt', 'min_samples_split': 12, 'n_estimators': 50}\"],[\"{'max_depth': 9, 'max_features': 'sqrt', 'min_samples_split': 12, 'n_estimators': 80}\"],[\"{'max_depth': 9, 'max_features': 'sqrt', 'min_samples_split': 12, 'n_estimators': 110}\"],[\"{'max_depth': 9, 'max_features': 'sqrt', 'min_samples_split': 12, 'n_estimators': 130}\"],[\"{'max_depth': 9, 'max_features': 'log2', 'min_samples_split': 3, 'n_estimators': 50}\"],[\"{'max_depth': 9, 'max_features': 'log2', 'min_samples_split': 3, 'n_estimators': 80}\"],[\"{'max_depth': 9, 'max_features': 'log2', 'min_samples_split': 3, 'n_estimators': 110}\"],[\"{'max_depth': 9, 'max_features': 'log2', 'min_samples_split': 3, 'n_estimators': 130}\"],[\"{'max_depth': 9, 'max_features': 'log2', 'min_samples_split': 6, 'n_estimators': 50}\"],[\"{'max_depth': 9, 'max_features': 'log2', 'min_samples_split': 6, 'n_estimators': 80}\"],[\"{'max_depth': 9, 'max_features': 'log2', 'min_samples_split': 6, 'n_estimators': 110}\"],[\"{'max_depth': 9, 'max_features': 'log2', 'min_samples_split': 6, 'n_estimators': 130}\"],[\"{'max_depth': 9, 'max_features': 'log2', 'min_samples_split': 9, 'n_estimators': 50}\"],[\"{'max_depth': 9, 'max_features': 'log2', 'min_samples_split': 9, 'n_estimators': 80}\"],[\"{'max_depth': 9, 'max_features': 'log2', 'min_samples_split': 9, 'n_estimators': 110}\"],[\"{'max_depth': 9, 'max_features': 'log2', 'min_samples_split': 9, 'n_estimators': 130}\"],[\"{'max_depth': 9, 'max_features': 'log2', 'min_samples_split': 12, 'n_estimators': 50}\"],[\"{'max_depth': 9, 'max_features': 'log2', 'min_samples_split': 12, 'n_estimators': 80}\"],[\"{'max_depth': 9, 'max_features': 'log2', 'min_samples_split': 12, 'n_estimators': 110}\"],[\"{'max_depth': 9, 'max_features': 'log2', 'min_samples_split': 12, 'n_estimators': 130}\"]],\"error_y\":{\"array\":[0.03528649361603885,0.02234993114109947,0.021132495293763823,0.02376094544425095,0.044868239595053316,0.02950000538768538,0.02714778174294492,0.030773119462329086,0.027291542460288646,0.02932198186277428,0.027169440511132476,0.023762510216191926,0.022078690778851648,0.033369654329699315,0.024761880506340737,0.031294692682489814,0.039118161595662,0.04243549943334822,0.03137681369904442,0.04295375868497535,0.024516134556904174,0.024149518338308154,0.032211706420680865,0.029673681139944823,0.027595702476314116,0.027858074005844634,0.031474462472973086,0.03146174965712136,0.03589186200711646,0.030950232754038135,0.03380248096026586,0.023371141114245243,0.03409883520967947,0.0568765765379442,0.045245818867343475,0.05876403412912606,0.05803350375732247,0.04715591218887423,0.04902703944677265,0.05277743153347683,0.04296573805601058,0.051607451988746646,0.04492287427705086,0.03811008840307324,0.04378157122058945,0.06312727236617081,0.0493041052104984,0.04205713163641774,0.045212171057802446,0.05321965493789409,0.04597366704679052,0.0452252532202616,0.05523740315445673,0.0369330933122676,0.04620115910243629,0.052048079788084955,0.056174777904767215,0.04019549941198206,0.05097263159708511,0.05156093561240843,0.0395756356055324,0.06353282633438646,0.04624166706550744,0.04272082253596998,0.04321483853153326,0.05005236242320759,0.041499071143879976,0.045799624919563874,0.04032931945295999,0.05861719941902357,0.04966764613242113,0.046026353386154815,0.05088235811493203,0.05194129019505111,0.03961269612811735,0.04187910268497505,0.05142595260933934,0.036136588704312265,0.043508074752851386,0.05853999723688671,0.043449433393198435,0.05147360520629478,0.05830397079989614,0.046276048976888084,0.0425882050721395,0.057766651683959495,0.04555294917084672,0.04521134289320915,0.05024653919067144,0.046768263228215,0.045983417255288775,0.05746731385973243,0.044719543964032195,0.05224765255075329,0.030266795789015106,0.04979509034221393]},\"hovertemplate\":\"<b>%{hovertext}</b><br><br>type=test<br>Params=%{x}<br>Average f1=%{y}<br>params=%{customdata[0]}<extra></extra>\",\"hovertext\":[\"{'max_depth': 3, 'max_features': 'sqrt', 'min_samples_split': 3, 'n_estimators': 50}\",\"{'max_depth': 3, 'max_features': 'sqrt', 'min_samples_split': 3, 'n_estimators': 80}\",\"{'max_depth': 3, 'max_features': 'sqrt', 'min_samples_split': 3, 'n_estimators': 110}\",\"{'max_depth': 3, 'max_features': 'sqrt', 'min_samples_split': 3, 'n_estimators': 130}\",\"{'max_depth': 3, 'max_features': 'sqrt', 'min_samples_split': 6, 'n_estimators': 50}\",\"{'max_depth': 3, 'max_features': 'sqrt', 'min_samples_split': 6, 'n_estimators': 80}\",\"{'max_depth': 3, 'max_features': 'sqrt', 'min_samples_split': 6, 'n_estimators': 110}\",\"{'max_depth': 3, 'max_features': 'sqrt', 'min_samples_split': 6, 'n_estimators': 130}\",\"{'max_depth': 3, 'max_features': 'sqrt', 'min_samples_split': 9, 'n_estimators': 50}\",\"{'max_depth': 3, 'max_features': 'sqrt', 'min_samples_split': 9, 'n_estimators': 80}\",\"{'max_depth': 3, 'max_features': 'sqrt', 'min_samples_split': 9, 'n_estimators': 110}\",\"{'max_depth': 3, 'max_features': 'sqrt', 'min_samples_split': 9, 'n_estimators': 130}\",\"{'max_depth': 3, 'max_features': 'sqrt', 'min_samples_split': 12, 'n_estimators': 50}\",\"{'max_depth': 3, 'max_features': 'sqrt', 'min_samples_split': 12, 'n_estimators': 80}\",\"{'max_depth': 3, 'max_features': 'sqrt', 'min_samples_split': 12, 'n_estimators': 110}\",\"{'max_depth': 3, 'max_features': 'sqrt', 'min_samples_split': 12, 'n_estimators': 130}\",\"{'max_depth': 3, 'max_features': 'log2', 'min_samples_split': 3, 'n_estimators': 50}\",\"{'max_depth': 3, 'max_features': 'log2', 'min_samples_split': 3, 'n_estimators': 80}\",\"{'max_depth': 3, 'max_features': 'log2', 'min_samples_split': 3, 'n_estimators': 110}\",\"{'max_depth': 3, 'max_features': 'log2', 'min_samples_split': 3, 'n_estimators': 130}\",\"{'max_depth': 3, 'max_features': 'log2', 'min_samples_split': 6, 'n_estimators': 50}\",\"{'max_depth': 3, 'max_features': 'log2', 'min_samples_split': 6, 'n_estimators': 80}\",\"{'max_depth': 3, 'max_features': 'log2', 'min_samples_split': 6, 'n_estimators': 110}\",\"{'max_depth': 3, 'max_features': 'log2', 'min_samples_split': 6, 'n_estimators': 130}\",\"{'max_depth': 3, 'max_features': 'log2', 'min_samples_split': 9, 'n_estimators': 50}\",\"{'max_depth': 3, 'max_features': 'log2', 'min_samples_split': 9, 'n_estimators': 80}\",\"{'max_depth': 3, 'max_features': 'log2', 'min_samples_split': 9, 'n_estimators': 110}\",\"{'max_depth': 3, 'max_features': 'log2', 'min_samples_split': 9, 'n_estimators': 130}\",\"{'max_depth': 3, 'max_features': 'log2', 'min_samples_split': 12, 'n_estimators': 50}\",\"{'max_depth': 3, 'max_features': 'log2', 'min_samples_split': 12, 'n_estimators': 80}\",\"{'max_depth': 3, 'max_features': 'log2', 'min_samples_split': 12, 'n_estimators': 110}\",\"{'max_depth': 3, 'max_features': 'log2', 'min_samples_split': 12, 'n_estimators': 130}\",\"{'max_depth': 6, 'max_features': 'sqrt', 'min_samples_split': 3, 'n_estimators': 50}\",\"{'max_depth': 6, 'max_features': 'sqrt', 'min_samples_split': 3, 'n_estimators': 80}\",\"{'max_depth': 6, 'max_features': 'sqrt', 'min_samples_split': 3, 'n_estimators': 110}\",\"{'max_depth': 6, 'max_features': 'sqrt', 'min_samples_split': 3, 'n_estimators': 130}\",\"{'max_depth': 6, 'max_features': 'sqrt', 'min_samples_split': 6, 'n_estimators': 50}\",\"{'max_depth': 6, 'max_features': 'sqrt', 'min_samples_split': 6, 'n_estimators': 80}\",\"{'max_depth': 6, 'max_features': 'sqrt', 'min_samples_split': 6, 'n_estimators': 110}\",\"{'max_depth': 6, 'max_features': 'sqrt', 'min_samples_split': 6, 'n_estimators': 130}\",\"{'max_depth': 6, 'max_features': 'sqrt', 'min_samples_split': 9, 'n_estimators': 50}\",\"{'max_depth': 6, 'max_features': 'sqrt', 'min_samples_split': 9, 'n_estimators': 80}\",\"{'max_depth': 6, 'max_features': 'sqrt', 'min_samples_split': 9, 'n_estimators': 110}\",\"{'max_depth': 6, 'max_features': 'sqrt', 'min_samples_split': 9, 'n_estimators': 130}\",\"{'max_depth': 6, 'max_features': 'sqrt', 'min_samples_split': 12, 'n_estimators': 50}\",\"{'max_depth': 6, 'max_features': 'sqrt', 'min_samples_split': 12, 'n_estimators': 80}\",\"{'max_depth': 6, 'max_features': 'sqrt', 'min_samples_split': 12, 'n_estimators': 110}\",\"{'max_depth': 6, 'max_features': 'sqrt', 'min_samples_split': 12, 'n_estimators': 130}\",\"{'max_depth': 6, 'max_features': 'log2', 'min_samples_split': 3, 'n_estimators': 50}\",\"{'max_depth': 6, 'max_features': 'log2', 'min_samples_split': 3, 'n_estimators': 80}\",\"{'max_depth': 6, 'max_features': 'log2', 'min_samples_split': 3, 'n_estimators': 110}\",\"{'max_depth': 6, 'max_features': 'log2', 'min_samples_split': 3, 'n_estimators': 130}\",\"{'max_depth': 6, 'max_features': 'log2', 'min_samples_split': 6, 'n_estimators': 50}\",\"{'max_depth': 6, 'max_features': 'log2', 'min_samples_split': 6, 'n_estimators': 80}\",\"{'max_depth': 6, 'max_features': 'log2', 'min_samples_split': 6, 'n_estimators': 110}\",\"{'max_depth': 6, 'max_features': 'log2', 'min_samples_split': 6, 'n_estimators': 130}\",\"{'max_depth': 6, 'max_features': 'log2', 'min_samples_split': 9, 'n_estimators': 50}\",\"{'max_depth': 6, 'max_features': 'log2', 'min_samples_split': 9, 'n_estimators': 80}\",\"{'max_depth': 6, 'max_features': 'log2', 'min_samples_split': 9, 'n_estimators': 110}\",\"{'max_depth': 6, 'max_features': 'log2', 'min_samples_split': 9, 'n_estimators': 130}\",\"{'max_depth': 6, 'max_features': 'log2', 'min_samples_split': 12, 'n_estimators': 50}\",\"{'max_depth': 6, 'max_features': 'log2', 'min_samples_split': 12, 'n_estimators': 80}\",\"{'max_depth': 6, 'max_features': 'log2', 'min_samples_split': 12, 'n_estimators': 110}\",\"{'max_depth': 6, 'max_features': 'log2', 'min_samples_split': 12, 'n_estimators': 130}\",\"{'max_depth': 9, 'max_features': 'sqrt', 'min_samples_split': 3, 'n_estimators': 50}\",\"{'max_depth': 9, 'max_features': 'sqrt', 'min_samples_split': 3, 'n_estimators': 80}\",\"{'max_depth': 9, 'max_features': 'sqrt', 'min_samples_split': 3, 'n_estimators': 110}\",\"{'max_depth': 9, 'max_features': 'sqrt', 'min_samples_split': 3, 'n_estimators': 130}\",\"{'max_depth': 9, 'max_features': 'sqrt', 'min_samples_split': 6, 'n_estimators': 50}\",\"{'max_depth': 9, 'max_features': 'sqrt', 'min_samples_split': 6, 'n_estimators': 80}\",\"{'max_depth': 9, 'max_features': 'sqrt', 'min_samples_split': 6, 'n_estimators': 110}\",\"{'max_depth': 9, 'max_features': 'sqrt', 'min_samples_split': 6, 'n_estimators': 130}\",\"{'max_depth': 9, 'max_features': 'sqrt', 'min_samples_split': 9, 'n_estimators': 50}\",\"{'max_depth': 9, 'max_features': 'sqrt', 'min_samples_split': 9, 'n_estimators': 80}\",\"{'max_depth': 9, 'max_features': 'sqrt', 'min_samples_split': 9, 'n_estimators': 110}\",\"{'max_depth': 9, 'max_features': 'sqrt', 'min_samples_split': 9, 'n_estimators': 130}\",\"{'max_depth': 9, 'max_features': 'sqrt', 'min_samples_split': 12, 'n_estimators': 50}\",\"{'max_depth': 9, 'max_features': 'sqrt', 'min_samples_split': 12, 'n_estimators': 80}\",\"{'max_depth': 9, 'max_features': 'sqrt', 'min_samples_split': 12, 'n_estimators': 110}\",\"{'max_depth': 9, 'max_features': 'sqrt', 'min_samples_split': 12, 'n_estimators': 130}\",\"{'max_depth': 9, 'max_features': 'log2', 'min_samples_split': 3, 'n_estimators': 50}\",\"{'max_depth': 9, 'max_features': 'log2', 'min_samples_split': 3, 'n_estimators': 80}\",\"{'max_depth': 9, 'max_features': 'log2', 'min_samples_split': 3, 'n_estimators': 110}\",\"{'max_depth': 9, 'max_features': 'log2', 'min_samples_split': 3, 'n_estimators': 130}\",\"{'max_depth': 9, 'max_features': 'log2', 'min_samples_split': 6, 'n_estimators': 50}\",\"{'max_depth': 9, 'max_features': 'log2', 'min_samples_split': 6, 'n_estimators': 80}\",\"{'max_depth': 9, 'max_features': 'log2', 'min_samples_split': 6, 'n_estimators': 110}\",\"{'max_depth': 9, 'max_features': 'log2', 'min_samples_split': 6, 'n_estimators': 130}\",\"{'max_depth': 9, 'max_features': 'log2', 'min_samples_split': 9, 'n_estimators': 50}\",\"{'max_depth': 9, 'max_features': 'log2', 'min_samples_split': 9, 'n_estimators': 80}\",\"{'max_depth': 9, 'max_features': 'log2', 'min_samples_split': 9, 'n_estimators': 110}\",\"{'max_depth': 9, 'max_features': 'log2', 'min_samples_split': 9, 'n_estimators': 130}\",\"{'max_depth': 9, 'max_features': 'log2', 'min_samples_split': 12, 'n_estimators': 50}\",\"{'max_depth': 9, 'max_features': 'log2', 'min_samples_split': 12, 'n_estimators': 80}\",\"{'max_depth': 9, 'max_features': 'log2', 'min_samples_split': 12, 'n_estimators': 110}\",\"{'max_depth': 9, 'max_features': 'log2', 'min_samples_split': 12, 'n_estimators': 130}\"],\"legendgroup\":\"test\",\"marker\":{\"color\":\"#636efa\",\"pattern\":{\"shape\":\"\"}},\"name\":\"test\",\"offsetgroup\":\"test\",\"orientation\":\"v\",\"showlegend\":true,\"textposition\":\"auto\",\"type\":\"bar\",\"x\":[0,1,2,3,4,5,6,7,8,9,10,11,12,13,14,15,16,17,18,19,20,21,22,23,24,25,26,27,28,29,30,31,32,33,34,35,36,37,38,39,40,41,42,43,44,45,46,47,48,49,50,51,52,53,54,55,56,57,58,59,60,61,62,63,64,65,66,67,68,69,70,71,72,73,74,75,76,77,78,79,80,81,82,83,84,85,86,87,88,89,90,91,92,93,94,95],\"xaxis\":\"x\",\"y\":[0.13636758236429808,0.14817433445026312,0.14001663446570678,0.13719047089442327,0.15154848765434661,0.1440893188042553,0.15005117814853783,0.14543581755846074,0.1383442995992556,0.1497700739820908,0.15419055788422498,0.14247046152740103,0.12862396963207537,0.13331291765562542,0.13525936190711904,0.13919583403454372,0.15100727655262647,0.13799169686071916,0.14452517223554887,0.13694372321816267,0.14603942972578718,0.12928970588555228,0.15015744617219953,0.14125190034715704,0.15005054656963052,0.13585821584213348,0.14662728455038215,0.140947812762163,0.146106058258209,0.1424195983274299,0.13691274616421797,0.15699229514504048,0.29483451198328064,0.28360498607049617,0.28917950431746337,0.2965845109688291,0.30456401603728417,0.3079320097138429,0.28803415048083375,0.2927005871969885,0.29169019435415855,0.30708094625660837,0.2884632093392542,0.2877588557484958,0.30103951789081307,0.30231575674377503,0.28187936795902224,0.30473678620283307,0.29204702177291114,0.289966827160147,0.2866772285569269,0.2827447474157282,0.30565403769094646,0.2887420399680716,0.29508613975650666,0.28947844438882575,0.2913829581748443,0.28631928677339513,0.2928905905528006,0.30344572621235966,0.2931973532845361,0.29828112320730604,0.2940199911828448,0.2909471063551611,0.35346811563315733,0.34605419866304793,0.3498863249515971,0.35770445254990985,0.3666272956754562,0.3579766728778407,0.3695774150793164,0.36494025751479153,0.37246662293879895,0.3820568301030921,0.3748953685089448,0.356382945093109,0.36654749019692456,0.3631871546865786,0.36791556577363915,0.3670686258774033,0.3560175647182591,0.3820985485720482,0.36718789534365903,0.3642226694401976,0.3638871574976298,0.36039929219533395,0.3695788526759456,0.34421451748115184,0.3812459326975365,0.369503003248545,0.36446374921517377,0.3615723025209126,0.37093065507038936,0.36178130785236884,0.3612546911462436,0.36845791953199575],\"yaxis\":\"y\"},{\"alignmentgroup\":\"True\",\"customdata\":[[\"{'max_depth': 3, 'max_features': 'sqrt', 'min_samples_split': 3, 'n_estimators': 50}\"],[\"{'max_depth': 3, 'max_features': 'sqrt', 'min_samples_split': 3, 'n_estimators': 80}\"],[\"{'max_depth': 3, 'max_features': 'sqrt', 'min_samples_split': 3, 'n_estimators': 110}\"],[\"{'max_depth': 3, 'max_features': 'sqrt', 'min_samples_split': 3, 'n_estimators': 130}\"],[\"{'max_depth': 3, 'max_features': 'sqrt', 'min_samples_split': 6, 'n_estimators': 50}\"],[\"{'max_depth': 3, 'max_features': 'sqrt', 'min_samples_split': 6, 'n_estimators': 80}\"],[\"{'max_depth': 3, 'max_features': 'sqrt', 'min_samples_split': 6, 'n_estimators': 110}\"],[\"{'max_depth': 3, 'max_features': 'sqrt', 'min_samples_split': 6, 'n_estimators': 130}\"],[\"{'max_depth': 3, 'max_features': 'sqrt', 'min_samples_split': 9, 'n_estimators': 50}\"],[\"{'max_depth': 3, 'max_features': 'sqrt', 'min_samples_split': 9, 'n_estimators': 80}\"],[\"{'max_depth': 3, 'max_features': 'sqrt', 'min_samples_split': 9, 'n_estimators': 110}\"],[\"{'max_depth': 3, 'max_features': 'sqrt', 'min_samples_split': 9, 'n_estimators': 130}\"],[\"{'max_depth': 3, 'max_features': 'sqrt', 'min_samples_split': 12, 'n_estimators': 50}\"],[\"{'max_depth': 3, 'max_features': 'sqrt', 'min_samples_split': 12, 'n_estimators': 80}\"],[\"{'max_depth': 3, 'max_features': 'sqrt', 'min_samples_split': 12, 'n_estimators': 110}\"],[\"{'max_depth': 3, 'max_features': 'sqrt', 'min_samples_split': 12, 'n_estimators': 130}\"],[\"{'max_depth': 3, 'max_features': 'log2', 'min_samples_split': 3, 'n_estimators': 50}\"],[\"{'max_depth': 3, 'max_features': 'log2', 'min_samples_split': 3, 'n_estimators': 80}\"],[\"{'max_depth': 3, 'max_features': 'log2', 'min_samples_split': 3, 'n_estimators': 110}\"],[\"{'max_depth': 3, 'max_features': 'log2', 'min_samples_split': 3, 'n_estimators': 130}\"],[\"{'max_depth': 3, 'max_features': 'log2', 'min_samples_split': 6, 'n_estimators': 50}\"],[\"{'max_depth': 3, 'max_features': 'log2', 'min_samples_split': 6, 'n_estimators': 80}\"],[\"{'max_depth': 3, 'max_features': 'log2', 'min_samples_split': 6, 'n_estimators': 110}\"],[\"{'max_depth': 3, 'max_features': 'log2', 'min_samples_split': 6, 'n_estimators': 130}\"],[\"{'max_depth': 3, 'max_features': 'log2', 'min_samples_split': 9, 'n_estimators': 50}\"],[\"{'max_depth': 3, 'max_features': 'log2', 'min_samples_split': 9, 'n_estimators': 80}\"],[\"{'max_depth': 3, 'max_features': 'log2', 'min_samples_split': 9, 'n_estimators': 110}\"],[\"{'max_depth': 3, 'max_features': 'log2', 'min_samples_split': 9, 'n_estimators': 130}\"],[\"{'max_depth': 3, 'max_features': 'log2', 'min_samples_split': 12, 'n_estimators': 50}\"],[\"{'max_depth': 3, 'max_features': 'log2', 'min_samples_split': 12, 'n_estimators': 80}\"],[\"{'max_depth': 3, 'max_features': 'log2', 'min_samples_split': 12, 'n_estimators': 110}\"],[\"{'max_depth': 3, 'max_features': 'log2', 'min_samples_split': 12, 'n_estimators': 130}\"],[\"{'max_depth': 6, 'max_features': 'sqrt', 'min_samples_split': 3, 'n_estimators': 50}\"],[\"{'max_depth': 6, 'max_features': 'sqrt', 'min_samples_split': 3, 'n_estimators': 80}\"],[\"{'max_depth': 6, 'max_features': 'sqrt', 'min_samples_split': 3, 'n_estimators': 110}\"],[\"{'max_depth': 6, 'max_features': 'sqrt', 'min_samples_split': 3, 'n_estimators': 130}\"],[\"{'max_depth': 6, 'max_features': 'sqrt', 'min_samples_split': 6, 'n_estimators': 50}\"],[\"{'max_depth': 6, 'max_features': 'sqrt', 'min_samples_split': 6, 'n_estimators': 80}\"],[\"{'max_depth': 6, 'max_features': 'sqrt', 'min_samples_split': 6, 'n_estimators': 110}\"],[\"{'max_depth': 6, 'max_features': 'sqrt', 'min_samples_split': 6, 'n_estimators': 130}\"],[\"{'max_depth': 6, 'max_features': 'sqrt', 'min_samples_split': 9, 'n_estimators': 50}\"],[\"{'max_depth': 6, 'max_features': 'sqrt', 'min_samples_split': 9, 'n_estimators': 80}\"],[\"{'max_depth': 6, 'max_features': 'sqrt', 'min_samples_split': 9, 'n_estimators': 110}\"],[\"{'max_depth': 6, 'max_features': 'sqrt', 'min_samples_split': 9, 'n_estimators': 130}\"],[\"{'max_depth': 6, 'max_features': 'sqrt', 'min_samples_split': 12, 'n_estimators': 50}\"],[\"{'max_depth': 6, 'max_features': 'sqrt', 'min_samples_split': 12, 'n_estimators': 80}\"],[\"{'max_depth': 6, 'max_features': 'sqrt', 'min_samples_split': 12, 'n_estimators': 110}\"],[\"{'max_depth': 6, 'max_features': 'sqrt', 'min_samples_split': 12, 'n_estimators': 130}\"],[\"{'max_depth': 6, 'max_features': 'log2', 'min_samples_split': 3, 'n_estimators': 50}\"],[\"{'max_depth': 6, 'max_features': 'log2', 'min_samples_split': 3, 'n_estimators': 80}\"],[\"{'max_depth': 6, 'max_features': 'log2', 'min_samples_split': 3, 'n_estimators': 110}\"],[\"{'max_depth': 6, 'max_features': 'log2', 'min_samples_split': 3, 'n_estimators': 130}\"],[\"{'max_depth': 6, 'max_features': 'log2', 'min_samples_split': 6, 'n_estimators': 50}\"],[\"{'max_depth': 6, 'max_features': 'log2', 'min_samples_split': 6, 'n_estimators': 80}\"],[\"{'max_depth': 6, 'max_features': 'log2', 'min_samples_split': 6, 'n_estimators': 110}\"],[\"{'max_depth': 6, 'max_features': 'log2', 'min_samples_split': 6, 'n_estimators': 130}\"],[\"{'max_depth': 6, 'max_features': 'log2', 'min_samples_split': 9, 'n_estimators': 50}\"],[\"{'max_depth': 6, 'max_features': 'log2', 'min_samples_split': 9, 'n_estimators': 80}\"],[\"{'max_depth': 6, 'max_features': 'log2', 'min_samples_split': 9, 'n_estimators': 110}\"],[\"{'max_depth': 6, 'max_features': 'log2', 'min_samples_split': 9, 'n_estimators': 130}\"],[\"{'max_depth': 6, 'max_features': 'log2', 'min_samples_split': 12, 'n_estimators': 50}\"],[\"{'max_depth': 6, 'max_features': 'log2', 'min_samples_split': 12, 'n_estimators': 80}\"],[\"{'max_depth': 6, 'max_features': 'log2', 'min_samples_split': 12, 'n_estimators': 110}\"],[\"{'max_depth': 6, 'max_features': 'log2', 'min_samples_split': 12, 'n_estimators': 130}\"],[\"{'max_depth': 9, 'max_features': 'sqrt', 'min_samples_split': 3, 'n_estimators': 50}\"],[\"{'max_depth': 9, 'max_features': 'sqrt', 'min_samples_split': 3, 'n_estimators': 80}\"],[\"{'max_depth': 9, 'max_features': 'sqrt', 'min_samples_split': 3, 'n_estimators': 110}\"],[\"{'max_depth': 9, 'max_features': 'sqrt', 'min_samples_split': 3, 'n_estimators': 130}\"],[\"{'max_depth': 9, 'max_features': 'sqrt', 'min_samples_split': 6, 'n_estimators': 50}\"],[\"{'max_depth': 9, 'max_features': 'sqrt', 'min_samples_split': 6, 'n_estimators': 80}\"],[\"{'max_depth': 9, 'max_features': 'sqrt', 'min_samples_split': 6, 'n_estimators': 110}\"],[\"{'max_depth': 9, 'max_features': 'sqrt', 'min_samples_split': 6, 'n_estimators': 130}\"],[\"{'max_depth': 9, 'max_features': 'sqrt', 'min_samples_split': 9, 'n_estimators': 50}\"],[\"{'max_depth': 9, 'max_features': 'sqrt', 'min_samples_split': 9, 'n_estimators': 80}\"],[\"{'max_depth': 9, 'max_features': 'sqrt', 'min_samples_split': 9, 'n_estimators': 110}\"],[\"{'max_depth': 9, 'max_features': 'sqrt', 'min_samples_split': 9, 'n_estimators': 130}\"],[\"{'max_depth': 9, 'max_features': 'sqrt', 'min_samples_split': 12, 'n_estimators': 50}\"],[\"{'max_depth': 9, 'max_features': 'sqrt', 'min_samples_split': 12, 'n_estimators': 80}\"],[\"{'max_depth': 9, 'max_features': 'sqrt', 'min_samples_split': 12, 'n_estimators': 110}\"],[\"{'max_depth': 9, 'max_features': 'sqrt', 'min_samples_split': 12, 'n_estimators': 130}\"],[\"{'max_depth': 9, 'max_features': 'log2', 'min_samples_split': 3, 'n_estimators': 50}\"],[\"{'max_depth': 9, 'max_features': 'log2', 'min_samples_split': 3, 'n_estimators': 80}\"],[\"{'max_depth': 9, 'max_features': 'log2', 'min_samples_split': 3, 'n_estimators': 110}\"],[\"{'max_depth': 9, 'max_features': 'log2', 'min_samples_split': 3, 'n_estimators': 130}\"],[\"{'max_depth': 9, 'max_features': 'log2', 'min_samples_split': 6, 'n_estimators': 50}\"],[\"{'max_depth': 9, 'max_features': 'log2', 'min_samples_split': 6, 'n_estimators': 80}\"],[\"{'max_depth': 9, 'max_features': 'log2', 'min_samples_split': 6, 'n_estimators': 110}\"],[\"{'max_depth': 9, 'max_features': 'log2', 'min_samples_split': 6, 'n_estimators': 130}\"],[\"{'max_depth': 9, 'max_features': 'log2', 'min_samples_split': 9, 'n_estimators': 50}\"],[\"{'max_depth': 9, 'max_features': 'log2', 'min_samples_split': 9, 'n_estimators': 80}\"],[\"{'max_depth': 9, 'max_features': 'log2', 'min_samples_split': 9, 'n_estimators': 110}\"],[\"{'max_depth': 9, 'max_features': 'log2', 'min_samples_split': 9, 'n_estimators': 130}\"],[\"{'max_depth': 9, 'max_features': 'log2', 'min_samples_split': 12, 'n_estimators': 50}\"],[\"{'max_depth': 9, 'max_features': 'log2', 'min_samples_split': 12, 'n_estimators': 80}\"],[\"{'max_depth': 9, 'max_features': 'log2', 'min_samples_split': 12, 'n_estimators': 110}\"],[\"{'max_depth': 9, 'max_features': 'log2', 'min_samples_split': 12, 'n_estimators': 130}\"]],\"error_y\":{\"array\":[0.04623984076098464,0.03806385528151554,0.04635338612381984,0.038471747128957665,0.047318091135294824,0.048619141377368426,0.04525120125191448,0.050543835750075365,0.0455483685297501,0.04579073550863531,0.04536104249082292,0.043041068252670775,0.03862446024792635,0.037121271485516256,0.03374973820574786,0.03451438449790768,0.04185023162346502,0.04243912604976393,0.04258139927983451,0.04040864493761592,0.035526560148187156,0.03749392435609712,0.04723514318758189,0.03975367548901444,0.038978185865065705,0.04582846018916052,0.04804757540961964,0.042492344945055494,0.037360118482226076,0.046822223248807526,0.04188587836946099,0.049804890048813596,0.023439700717523018,0.027546571138128383,0.02275851404334607,0.035206295886158416,0.0227283939302037,0.02921850691921369,0.034949147933429923,0.03022537603583621,0.029978981360773954,0.018398731625706377,0.03051635089240883,0.02863082232043408,0.02278437271827634,0.036521898461530596,0.027792358150327875,0.030323959313061977,0.03562493299364446,0.028162737142444664,0.03166503482960804,0.031065282110703897,0.034123564501260514,0.02464268624816704,0.021414381640401655,0.027195757639050314,0.029214798983466465,0.03300776263021422,0.02154548902517904,0.024668246002255513,0.015176919207889461,0.0245093351251359,0.03153811013341434,0.03078632693212598,0.027788034508018374,0.017228449707264212,0.02128115579381743,0.01871484207138271,0.020226716382103063,0.022760836301190815,0.016324640370521074,0.02276613345117361,0.02820588970186986,0.016395088177207154,0.022142114452722846,0.01777266656048273,0.02029909348294612,0.01670843022099024,0.01786311366937325,0.024019238340402458,0.01933195873433443,0.02443270842255311,0.022512169162881436,0.019872192653230498,0.021650564690953278,0.02706804430853775,0.023714289364036505,0.02551436583051072,0.026287939302198117,0.009949350057087372,0.029137641166104126,0.01638943286574217,0.01993038958365439,0.02007383254642576,0.010309466016178818,0.015632806376796645]},\"hovertemplate\":\"<b>%{hovertext}</b><br><br>type=train<br>Params=%{x}<br>Average f1=%{y}<br>params=%{customdata[0]}<extra></extra>\",\"hovertext\":[\"{'max_depth': 3, 'max_features': 'sqrt', 'min_samples_split': 3, 'n_estimators': 50}\",\"{'max_depth': 3, 'max_features': 'sqrt', 'min_samples_split': 3, 'n_estimators': 80}\",\"{'max_depth': 3, 'max_features': 'sqrt', 'min_samples_split': 3, 'n_estimators': 110}\",\"{'max_depth': 3, 'max_features': 'sqrt', 'min_samples_split': 3, 'n_estimators': 130}\",\"{'max_depth': 3, 'max_features': 'sqrt', 'min_samples_split': 6, 'n_estimators': 50}\",\"{'max_depth': 3, 'max_features': 'sqrt', 'min_samples_split': 6, 'n_estimators': 80}\",\"{'max_depth': 3, 'max_features': 'sqrt', 'min_samples_split': 6, 'n_estimators': 110}\",\"{'max_depth': 3, 'max_features': 'sqrt', 'min_samples_split': 6, 'n_estimators': 130}\",\"{'max_depth': 3, 'max_features': 'sqrt', 'min_samples_split': 9, 'n_estimators': 50}\",\"{'max_depth': 3, 'max_features': 'sqrt', 'min_samples_split': 9, 'n_estimators': 80}\",\"{'max_depth': 3, 'max_features': 'sqrt', 'min_samples_split': 9, 'n_estimators': 110}\",\"{'max_depth': 3, 'max_features': 'sqrt', 'min_samples_split': 9, 'n_estimators': 130}\",\"{'max_depth': 3, 'max_features': 'sqrt', 'min_samples_split': 12, 'n_estimators': 50}\",\"{'max_depth': 3, 'max_features': 'sqrt', 'min_samples_split': 12, 'n_estimators': 80}\",\"{'max_depth': 3, 'max_features': 'sqrt', 'min_samples_split': 12, 'n_estimators': 110}\",\"{'max_depth': 3, 'max_features': 'sqrt', 'min_samples_split': 12, 'n_estimators': 130}\",\"{'max_depth': 3, 'max_features': 'log2', 'min_samples_split': 3, 'n_estimators': 50}\",\"{'max_depth': 3, 'max_features': 'log2', 'min_samples_split': 3, 'n_estimators': 80}\",\"{'max_depth': 3, 'max_features': 'log2', 'min_samples_split': 3, 'n_estimators': 110}\",\"{'max_depth': 3, 'max_features': 'log2', 'min_samples_split': 3, 'n_estimators': 130}\",\"{'max_depth': 3, 'max_features': 'log2', 'min_samples_split': 6, 'n_estimators': 50}\",\"{'max_depth': 3, 'max_features': 'log2', 'min_samples_split': 6, 'n_estimators': 80}\",\"{'max_depth': 3, 'max_features': 'log2', 'min_samples_split': 6, 'n_estimators': 110}\",\"{'max_depth': 3, 'max_features': 'log2', 'min_samples_split': 6, 'n_estimators': 130}\",\"{'max_depth': 3, 'max_features': 'log2', 'min_samples_split': 9, 'n_estimators': 50}\",\"{'max_depth': 3, 'max_features': 'log2', 'min_samples_split': 9, 'n_estimators': 80}\",\"{'max_depth': 3, 'max_features': 'log2', 'min_samples_split': 9, 'n_estimators': 110}\",\"{'max_depth': 3, 'max_features': 'log2', 'min_samples_split': 9, 'n_estimators': 130}\",\"{'max_depth': 3, 'max_features': 'log2', 'min_samples_split': 12, 'n_estimators': 50}\",\"{'max_depth': 3, 'max_features': 'log2', 'min_samples_split': 12, 'n_estimators': 80}\",\"{'max_depth': 3, 'max_features': 'log2', 'min_samples_split': 12, 'n_estimators': 110}\",\"{'max_depth': 3, 'max_features': 'log2', 'min_samples_split': 12, 'n_estimators': 130}\",\"{'max_depth': 6, 'max_features': 'sqrt', 'min_samples_split': 3, 'n_estimators': 50}\",\"{'max_depth': 6, 'max_features': 'sqrt', 'min_samples_split': 3, 'n_estimators': 80}\",\"{'max_depth': 6, 'max_features': 'sqrt', 'min_samples_split': 3, 'n_estimators': 110}\",\"{'max_depth': 6, 'max_features': 'sqrt', 'min_samples_split': 3, 'n_estimators': 130}\",\"{'max_depth': 6, 'max_features': 'sqrt', 'min_samples_split': 6, 'n_estimators': 50}\",\"{'max_depth': 6, 'max_features': 'sqrt', 'min_samples_split': 6, 'n_estimators': 80}\",\"{'max_depth': 6, 'max_features': 'sqrt', 'min_samples_split': 6, 'n_estimators': 110}\",\"{'max_depth': 6, 'max_features': 'sqrt', 'min_samples_split': 6, 'n_estimators': 130}\",\"{'max_depth': 6, 'max_features': 'sqrt', 'min_samples_split': 9, 'n_estimators': 50}\",\"{'max_depth': 6, 'max_features': 'sqrt', 'min_samples_split': 9, 'n_estimators': 80}\",\"{'max_depth': 6, 'max_features': 'sqrt', 'min_samples_split': 9, 'n_estimators': 110}\",\"{'max_depth': 6, 'max_features': 'sqrt', 'min_samples_split': 9, 'n_estimators': 130}\",\"{'max_depth': 6, 'max_features': 'sqrt', 'min_samples_split': 12, 'n_estimators': 50}\",\"{'max_depth': 6, 'max_features': 'sqrt', 'min_samples_split': 12, 'n_estimators': 80}\",\"{'max_depth': 6, 'max_features': 'sqrt', 'min_samples_split': 12, 'n_estimators': 110}\",\"{'max_depth': 6, 'max_features': 'sqrt', 'min_samples_split': 12, 'n_estimators': 130}\",\"{'max_depth': 6, 'max_features': 'log2', 'min_samples_split': 3, 'n_estimators': 50}\",\"{'max_depth': 6, 'max_features': 'log2', 'min_samples_split': 3, 'n_estimators': 80}\",\"{'max_depth': 6, 'max_features': 'log2', 'min_samples_split': 3, 'n_estimators': 110}\",\"{'max_depth': 6, 'max_features': 'log2', 'min_samples_split': 3, 'n_estimators': 130}\",\"{'max_depth': 6, 'max_features': 'log2', 'min_samples_split': 6, 'n_estimators': 50}\",\"{'max_depth': 6, 'max_features': 'log2', 'min_samples_split': 6, 'n_estimators': 80}\",\"{'max_depth': 6, 'max_features': 'log2', 'min_samples_split': 6, 'n_estimators': 110}\",\"{'max_depth': 6, 'max_features': 'log2', 'min_samples_split': 6, 'n_estimators': 130}\",\"{'max_depth': 6, 'max_features': 'log2', 'min_samples_split': 9, 'n_estimators': 50}\",\"{'max_depth': 6, 'max_features': 'log2', 'min_samples_split': 9, 'n_estimators': 80}\",\"{'max_depth': 6, 'max_features': 'log2', 'min_samples_split': 9, 'n_estimators': 110}\",\"{'max_depth': 6, 'max_features': 'log2', 'min_samples_split': 9, 'n_estimators': 130}\",\"{'max_depth': 6, 'max_features': 'log2', 'min_samples_split': 12, 'n_estimators': 50}\",\"{'max_depth': 6, 'max_features': 'log2', 'min_samples_split': 12, 'n_estimators': 80}\",\"{'max_depth': 6, 'max_features': 'log2', 'min_samples_split': 12, 'n_estimators': 110}\",\"{'max_depth': 6, 'max_features': 'log2', 'min_samples_split': 12, 'n_estimators': 130}\",\"{'max_depth': 9, 'max_features': 'sqrt', 'min_samples_split': 3, 'n_estimators': 50}\",\"{'max_depth': 9, 'max_features': 'sqrt', 'min_samples_split': 3, 'n_estimators': 80}\",\"{'max_depth': 9, 'max_features': 'sqrt', 'min_samples_split': 3, 'n_estimators': 110}\",\"{'max_depth': 9, 'max_features': 'sqrt', 'min_samples_split': 3, 'n_estimators': 130}\",\"{'max_depth': 9, 'max_features': 'sqrt', 'min_samples_split': 6, 'n_estimators': 50}\",\"{'max_depth': 9, 'max_features': 'sqrt', 'min_samples_split': 6, 'n_estimators': 80}\",\"{'max_depth': 9, 'max_features': 'sqrt', 'min_samples_split': 6, 'n_estimators': 110}\",\"{'max_depth': 9, 'max_features': 'sqrt', 'min_samples_split': 6, 'n_estimators': 130}\",\"{'max_depth': 9, 'max_features': 'sqrt', 'min_samples_split': 9, 'n_estimators': 50}\",\"{'max_depth': 9, 'max_features': 'sqrt', 'min_samples_split': 9, 'n_estimators': 80}\",\"{'max_depth': 9, 'max_features': 'sqrt', 'min_samples_split': 9, 'n_estimators': 110}\",\"{'max_depth': 9, 'max_features': 'sqrt', 'min_samples_split': 9, 'n_estimators': 130}\",\"{'max_depth': 9, 'max_features': 'sqrt', 'min_samples_split': 12, 'n_estimators': 50}\",\"{'max_depth': 9, 'max_features': 'sqrt', 'min_samples_split': 12, 'n_estimators': 80}\",\"{'max_depth': 9, 'max_features': 'sqrt', 'min_samples_split': 12, 'n_estimators': 110}\",\"{'max_depth': 9, 'max_features': 'sqrt', 'min_samples_split': 12, 'n_estimators': 130}\",\"{'max_depth': 9, 'max_features': 'log2', 'min_samples_split': 3, 'n_estimators': 50}\",\"{'max_depth': 9, 'max_features': 'log2', 'min_samples_split': 3, 'n_estimators': 80}\",\"{'max_depth': 9, 'max_features': 'log2', 'min_samples_split': 3, 'n_estimators': 110}\",\"{'max_depth': 9, 'max_features': 'log2', 'min_samples_split': 3, 'n_estimators': 130}\",\"{'max_depth': 9, 'max_features': 'log2', 'min_samples_split': 6, 'n_estimators': 50}\",\"{'max_depth': 9, 'max_features': 'log2', 'min_samples_split': 6, 'n_estimators': 80}\",\"{'max_depth': 9, 'max_features': 'log2', 'min_samples_split': 6, 'n_estimators': 110}\",\"{'max_depth': 9, 'max_features': 'log2', 'min_samples_split': 6, 'n_estimators': 130}\",\"{'max_depth': 9, 'max_features': 'log2', 'min_samples_split': 9, 'n_estimators': 50}\",\"{'max_depth': 9, 'max_features': 'log2', 'min_samples_split': 9, 'n_estimators': 80}\",\"{'max_depth': 9, 'max_features': 'log2', 'min_samples_split': 9, 'n_estimators': 110}\",\"{'max_depth': 9, 'max_features': 'log2', 'min_samples_split': 9, 'n_estimators': 130}\",\"{'max_depth': 9, 'max_features': 'log2', 'min_samples_split': 12, 'n_estimators': 50}\",\"{'max_depth': 9, 'max_features': 'log2', 'min_samples_split': 12, 'n_estimators': 80}\",\"{'max_depth': 9, 'max_features': 'log2', 'min_samples_split': 12, 'n_estimators': 110}\",\"{'max_depth': 9, 'max_features': 'log2', 'min_samples_split': 12, 'n_estimators': 130}\"],\"legendgroup\":\"train\",\"marker\":{\"color\":\"#EF553B\",\"pattern\":{\"shape\":\"\"}},\"name\":\"train\",\"offsetgroup\":\"train\",\"orientation\":\"v\",\"showlegend\":true,\"textposition\":\"auto\",\"type\":\"bar\",\"x\":[0,1,2,3,4,5,6,7,8,9,10,11,12,13,14,15,16,17,18,19,20,21,22,23,24,25,26,27,28,29,30,31,32,33,34,35,36,37,38,39,40,41,42,43,44,45,46,47,48,49,50,51,52,53,54,55,56,57,58,59,60,61,62,63,64,65,66,67,68,69,70,71,72,73,74,75,76,77,78,79,80,81,82,83,84,85,86,87,88,89,90,91,92,93,94,95],\"xaxis\":\"x\",\"y\":[0.21424895081156378,0.21157277079488362,0.2107828653880078,0.20040607905352587,0.22422720146237549,0.2233253024471417,0.21583037060782578,0.2208865360644725,0.20887317125645888,0.21314549810666703,0.21354653828846484,0.21041758597621313,0.19842406354788486,0.2049237354870282,0.19775796767072568,0.20749332595041298,0.22043667875047007,0.20129840800946028,0.21359492290046292,0.2091842271551864,0.22081531372986438,0.19961776207160797,0.2156849843650172,0.20419264460291284,0.21385022328421002,0.2145347328054319,0.22126186123905808,0.21067852909424184,0.21130689110308318,0.2062171586503275,0.20490143479166836,0.2157900474278917,0.46954637321037146,0.4623338623415901,0.46126763350449435,0.4623549284111089,0.4645020802822105,0.4550090637559869,0.4615271193068834,0.4574839480183144,0.45019354159183456,0.4644327849011881,0.4520663465019152,0.4588451523819077,0.45087580586488213,0.44855147203683543,0.4538468075431732,0.4630599134271936,0.4541966426728831,0.4603205986754233,0.4561805864042562,0.4678995115678843,0.4603717580248502,0.4543943444417738,0.46528868291241315,0.4633153910700002,0.46405081787000446,0.4581649976272864,0.4518403635829965,0.464000350664061,0.4537168008873003,0.46403760800757976,0.45451980143092935,0.4561777978705749,0.635725209635195,0.6397410043380864,0.6455348816001879,0.6466575869276914,0.6338998555680588,0.625524888570754,0.6243229124964763,0.6268306408366099,0.616180004179923,0.6183285573071025,0.6169155701077631,0.6171798617760496,0.6033725782159542,0.6070868656248452,0.6040743013341598,0.6080793059277858,0.6495932741991296,0.6477808721849616,0.6502915013914142,0.6514944754820071,0.6306894714607296,0.625471644390557,0.6342085375650873,0.6212698039440161,0.6313962305555508,0.6214106513876555,0.612734049837038,0.6201819624305661,0.6082936783065065,0.6041919777616818,0.6113386427557759,0.602510734279481],\"yaxis\":\"y\"}],                        {\"barmode\":\"group\",\"legend\":{\"title\":{\"text\":\"type\"},\"tracegroupgap\":0},\"template\":{\"data\":{\"bar\":[{\"error_x\":{\"color\":\"#2a3f5f\"},\"error_y\":{\"color\":\"#2a3f5f\"},\"marker\":{\"line\":{\"color\":\"#E5ECF6\",\"width\":0.5},\"pattern\":{\"fillmode\":\"overlay\",\"size\":10,\"solidity\":0.2}},\"type\":\"bar\"}],\"barpolar\":[{\"marker\":{\"line\":{\"color\":\"#E5ECF6\",\"width\":0.5},\"pattern\":{\"fillmode\":\"overlay\",\"size\":10,\"solidity\":0.2}},\"type\":\"barpolar\"}],\"carpet\":[{\"aaxis\":{\"endlinecolor\":\"#2a3f5f\",\"gridcolor\":\"white\",\"linecolor\":\"white\",\"minorgridcolor\":\"white\",\"startlinecolor\":\"#2a3f5f\"},\"baxis\":{\"endlinecolor\":\"#2a3f5f\",\"gridcolor\":\"white\",\"linecolor\":\"white\",\"minorgridcolor\":\"white\",\"startlinecolor\":\"#2a3f5f\"},\"type\":\"carpet\"}],\"choropleth\":[{\"colorbar\":{\"outlinewidth\":0,\"ticks\":\"\"},\"type\":\"choropleth\"}],\"contour\":[{\"colorbar\":{\"outlinewidth\":0,\"ticks\":\"\"},\"colorscale\":[[0.0,\"#0d0887\"],[0.1111111111111111,\"#46039f\"],[0.2222222222222222,\"#7201a8\"],[0.3333333333333333,\"#9c179e\"],[0.4444444444444444,\"#bd3786\"],[0.5555555555555556,\"#d8576b\"],[0.6666666666666666,\"#ed7953\"],[0.7777777777777778,\"#fb9f3a\"],[0.8888888888888888,\"#fdca26\"],[1.0,\"#f0f921\"]],\"type\":\"contour\"}],\"contourcarpet\":[{\"colorbar\":{\"outlinewidth\":0,\"ticks\":\"\"},\"type\":\"contourcarpet\"}],\"heatmap\":[{\"colorbar\":{\"outlinewidth\":0,\"ticks\":\"\"},\"colorscale\":[[0.0,\"#0d0887\"],[0.1111111111111111,\"#46039f\"],[0.2222222222222222,\"#7201a8\"],[0.3333333333333333,\"#9c179e\"],[0.4444444444444444,\"#bd3786\"],[0.5555555555555556,\"#d8576b\"],[0.6666666666666666,\"#ed7953\"],[0.7777777777777778,\"#fb9f3a\"],[0.8888888888888888,\"#fdca26\"],[1.0,\"#f0f921\"]],\"type\":\"heatmap\"}],\"heatmapgl\":[{\"colorbar\":{\"outlinewidth\":0,\"ticks\":\"\"},\"colorscale\":[[0.0,\"#0d0887\"],[0.1111111111111111,\"#46039f\"],[0.2222222222222222,\"#7201a8\"],[0.3333333333333333,\"#9c179e\"],[0.4444444444444444,\"#bd3786\"],[0.5555555555555556,\"#d8576b\"],[0.6666666666666666,\"#ed7953\"],[0.7777777777777778,\"#fb9f3a\"],[0.8888888888888888,\"#fdca26\"],[1.0,\"#f0f921\"]],\"type\":\"heatmapgl\"}],\"histogram\":[{\"marker\":{\"pattern\":{\"fillmode\":\"overlay\",\"size\":10,\"solidity\":0.2}},\"type\":\"histogram\"}],\"histogram2d\":[{\"colorbar\":{\"outlinewidth\":0,\"ticks\":\"\"},\"colorscale\":[[0.0,\"#0d0887\"],[0.1111111111111111,\"#46039f\"],[0.2222222222222222,\"#7201a8\"],[0.3333333333333333,\"#9c179e\"],[0.4444444444444444,\"#bd3786\"],[0.5555555555555556,\"#d8576b\"],[0.6666666666666666,\"#ed7953\"],[0.7777777777777778,\"#fb9f3a\"],[0.8888888888888888,\"#fdca26\"],[1.0,\"#f0f921\"]],\"type\":\"histogram2d\"}],\"histogram2dcontour\":[{\"colorbar\":{\"outlinewidth\":0,\"ticks\":\"\"},\"colorscale\":[[0.0,\"#0d0887\"],[0.1111111111111111,\"#46039f\"],[0.2222222222222222,\"#7201a8\"],[0.3333333333333333,\"#9c179e\"],[0.4444444444444444,\"#bd3786\"],[0.5555555555555556,\"#d8576b\"],[0.6666666666666666,\"#ed7953\"],[0.7777777777777778,\"#fb9f3a\"],[0.8888888888888888,\"#fdca26\"],[1.0,\"#f0f921\"]],\"type\":\"histogram2dcontour\"}],\"mesh3d\":[{\"colorbar\":{\"outlinewidth\":0,\"ticks\":\"\"},\"type\":\"mesh3d\"}],\"parcoords\":[{\"line\":{\"colorbar\":{\"outlinewidth\":0,\"ticks\":\"\"}},\"type\":\"parcoords\"}],\"pie\":[{\"automargin\":true,\"type\":\"pie\"}],\"scatter\":[{\"marker\":{\"colorbar\":{\"outlinewidth\":0,\"ticks\":\"\"}},\"type\":\"scatter\"}],\"scatter3d\":[{\"line\":{\"colorbar\":{\"outlinewidth\":0,\"ticks\":\"\"}},\"marker\":{\"colorbar\":{\"outlinewidth\":0,\"ticks\":\"\"}},\"type\":\"scatter3d\"}],\"scattercarpet\":[{\"marker\":{\"colorbar\":{\"outlinewidth\":0,\"ticks\":\"\"}},\"type\":\"scattercarpet\"}],\"scattergeo\":[{\"marker\":{\"colorbar\":{\"outlinewidth\":0,\"ticks\":\"\"}},\"type\":\"scattergeo\"}],\"scattergl\":[{\"marker\":{\"colorbar\":{\"outlinewidth\":0,\"ticks\":\"\"}},\"type\":\"scattergl\"}],\"scattermapbox\":[{\"marker\":{\"colorbar\":{\"outlinewidth\":0,\"ticks\":\"\"}},\"type\":\"scattermapbox\"}],\"scatterpolar\":[{\"marker\":{\"colorbar\":{\"outlinewidth\":0,\"ticks\":\"\"}},\"type\":\"scatterpolar\"}],\"scatterpolargl\":[{\"marker\":{\"colorbar\":{\"outlinewidth\":0,\"ticks\":\"\"}},\"type\":\"scatterpolargl\"}],\"scatterternary\":[{\"marker\":{\"colorbar\":{\"outlinewidth\":0,\"ticks\":\"\"}},\"type\":\"scatterternary\"}],\"surface\":[{\"colorbar\":{\"outlinewidth\":0,\"ticks\":\"\"},\"colorscale\":[[0.0,\"#0d0887\"],[0.1111111111111111,\"#46039f\"],[0.2222222222222222,\"#7201a8\"],[0.3333333333333333,\"#9c179e\"],[0.4444444444444444,\"#bd3786\"],[0.5555555555555556,\"#d8576b\"],[0.6666666666666666,\"#ed7953\"],[0.7777777777777778,\"#fb9f3a\"],[0.8888888888888888,\"#fdca26\"],[1.0,\"#f0f921\"]],\"type\":\"surface\"}],\"table\":[{\"cells\":{\"fill\":{\"color\":\"#EBF0F8\"},\"line\":{\"color\":\"white\"}},\"header\":{\"fill\":{\"color\":\"#C8D4E3\"},\"line\":{\"color\":\"white\"}},\"type\":\"table\"}]},\"layout\":{\"annotationdefaults\":{\"arrowcolor\":\"#2a3f5f\",\"arrowhead\":0,\"arrowwidth\":1},\"autotypenumbers\":\"strict\",\"coloraxis\":{\"colorbar\":{\"outlinewidth\":0,\"ticks\":\"\"}},\"colorscale\":{\"diverging\":[[0,\"#8e0152\"],[0.1,\"#c51b7d\"],[0.2,\"#de77ae\"],[0.3,\"#f1b6da\"],[0.4,\"#fde0ef\"],[0.5,\"#f7f7f7\"],[0.6,\"#e6f5d0\"],[0.7,\"#b8e186\"],[0.8,\"#7fbc41\"],[0.9,\"#4d9221\"],[1,\"#276419\"]],\"sequential\":[[0.0,\"#0d0887\"],[0.1111111111111111,\"#46039f\"],[0.2222222222222222,\"#7201a8\"],[0.3333333333333333,\"#9c179e\"],[0.4444444444444444,\"#bd3786\"],[0.5555555555555556,\"#d8576b\"],[0.6666666666666666,\"#ed7953\"],[0.7777777777777778,\"#fb9f3a\"],[0.8888888888888888,\"#fdca26\"],[1.0,\"#f0f921\"]],\"sequentialminus\":[[0.0,\"#0d0887\"],[0.1111111111111111,\"#46039f\"],[0.2222222222222222,\"#7201a8\"],[0.3333333333333333,\"#9c179e\"],[0.4444444444444444,\"#bd3786\"],[0.5555555555555556,\"#d8576b\"],[0.6666666666666666,\"#ed7953\"],[0.7777777777777778,\"#fb9f3a\"],[0.8888888888888888,\"#fdca26\"],[1.0,\"#f0f921\"]]},\"colorway\":[\"#636efa\",\"#EF553B\",\"#00cc96\",\"#ab63fa\",\"#FFA15A\",\"#19d3f3\",\"#FF6692\",\"#B6E880\",\"#FF97FF\",\"#FECB52\"],\"font\":{\"color\":\"#2a3f5f\"},\"geo\":{\"bgcolor\":\"white\",\"lakecolor\":\"white\",\"landcolor\":\"#E5ECF6\",\"showlakes\":true,\"showland\":true,\"subunitcolor\":\"white\"},\"hoverlabel\":{\"align\":\"left\"},\"hovermode\":\"closest\",\"mapbox\":{\"style\":\"light\"},\"paper_bgcolor\":\"white\",\"plot_bgcolor\":\"#E5ECF6\",\"polar\":{\"angularaxis\":{\"gridcolor\":\"white\",\"linecolor\":\"white\",\"ticks\":\"\"},\"bgcolor\":\"#E5ECF6\",\"radialaxis\":{\"gridcolor\":\"white\",\"linecolor\":\"white\",\"ticks\":\"\"}},\"scene\":{\"xaxis\":{\"backgroundcolor\":\"#E5ECF6\",\"gridcolor\":\"white\",\"gridwidth\":2,\"linecolor\":\"white\",\"showbackground\":true,\"ticks\":\"\",\"zerolinecolor\":\"white\"},\"yaxis\":{\"backgroundcolor\":\"#E5ECF6\",\"gridcolor\":\"white\",\"gridwidth\":2,\"linecolor\":\"white\",\"showbackground\":true,\"ticks\":\"\",\"zerolinecolor\":\"white\"},\"zaxis\":{\"backgroundcolor\":\"#E5ECF6\",\"gridcolor\":\"white\",\"gridwidth\":2,\"linecolor\":\"white\",\"showbackground\":true,\"ticks\":\"\",\"zerolinecolor\":\"white\"}},\"shapedefaults\":{\"line\":{\"color\":\"#2a3f5f\"}},\"ternary\":{\"aaxis\":{\"gridcolor\":\"white\",\"linecolor\":\"white\",\"ticks\":\"\"},\"baxis\":{\"gridcolor\":\"white\",\"linecolor\":\"white\",\"ticks\":\"\"},\"bgcolor\":\"#E5ECF6\",\"caxis\":{\"gridcolor\":\"white\",\"linecolor\":\"white\",\"ticks\":\"\"}},\"title\":{\"x\":0.05},\"xaxis\":{\"automargin\":true,\"gridcolor\":\"white\",\"linecolor\":\"white\",\"ticks\":\"\",\"title\":{\"standoff\":15},\"zerolinecolor\":\"white\",\"zerolinewidth\":2},\"yaxis\":{\"automargin\":true,\"gridcolor\":\"white\",\"linecolor\":\"white\",\"ticks\":\"\",\"title\":{\"standoff\":15},\"zerolinecolor\":\"white\",\"zerolinewidth\":2}}},\"title\":{\"text\":\"Mean f1 score on testing and training set for each parameter combination <br> (Model: RandomForest Classifier, Dataset: Multivariate feature imputation with subset selection)\"},\"xaxis\":{\"anchor\":\"y\",\"domain\":[0.0,1.0],\"title\":{\"text\":\"Params\"}},\"yaxis\":{\"anchor\":\"x\",\"domain\":[0.0,1.0],\"title\":{\"text\":\"Average f1\"}}},                        {\"responsive\": true}                    ).then(function(){\n                            \nvar gd = document.getElementById('3e959ff5-b45f-4ee5-8288-1d9aeccd9e60');\nvar x = new MutationObserver(function (mutations, observer) {{\n        var display = window.getComputedStyle(gd).display;\n        if (!display || display === 'none') {{\n            console.log([gd, 'removed!']);\n            Plotly.purge(gd);\n            observer.disconnect();\n        }}\n}});\n\n// Listen for the removal of the full notebook cells\nvar notebookContainer = gd.closest('#notebook-container');\nif (notebookContainer) {{\n    x.observe(notebookContainer, {childList: true});\n}}\n\n// Listen for the clearing of the current output cell\nvar outputEl = gd.closest('.output');\nif (outputEl) {{\n    x.observe(outputEl, {childList: true});\n}}\n\n                        })                };                });            </script>        </div>"
     },
     "metadata": {},
     "output_type": "display_data"
    }
   ],
   "source": [
    "stats = computeModelStats(model, stats, multivariate_feature_imputation_subset_selection, pgrid)"
   ],
   "metadata": {
    "collapsed": false,
    "pycharm": {
     "name": "#%%\n"
    }
   }
  },
  {
   "cell_type": "code",
   "execution_count": 89,
   "outputs": [],
   "source": [
    "def plot_params_incidence(model=None,dataset=None,params=None,barchart=False):\n",
    "    mask1 = stats[\"dataset\"] == dataset[1] if dataset != None else True\n",
    "    mask2 = stats[\"model\"] == model[1] if model != None else True\n",
    "    mask3 = stats[\"type\"] == \"test\"\n",
    "\n",
    "    df_stats_temp = stats[mask1&mask2&mask3]\n",
    "    df_stats_temp = df_stats_temp.join(pd.json_normalize(df_stats_temp[\"params\"].apply(eval))).groupby([params]).agg({\"mean_f1\":\"mean\",\"std_f1\":\"mean\"})\n",
    "\n",
    "    if not barchart:\n",
    "        return px.line(df_stats_temp, labels=\"params\",y=\"mean_f1\",title=f\"Mean f1 score on testing depending on hyper parameter values <br>(Model: {model[1] if model else 'All'}, Dataset: {dataset[1]if dataset else 'All'}\").show()\n",
    "    return px.bar(df_stats_temp, labels=\"params\",y=\"mean_f1\",title=f\"Mean f1 score on testing depending on hyper parameter values <br>(Model: {model[1] if model else 'All'}, Dataset: {dataset[1]if dataset else 'All'})\",error_y=\"std_f1\").show()"
   ],
   "metadata": {
    "collapsed": false,
    "pycharm": {
     "name": "#%%\n"
    }
   }
  },
  {
   "cell_type": "code",
   "execution_count": 91,
   "outputs": [
    {
     "data": {
      "application/vnd.plotly.v1+json": {
       "config": {
        "plotlyServerURL": "https://plotly.com"
       },
       "data": [
        {
         "alignmentgroup": "True",
         "error_y": {
          "array": [
           0.026406508109957205,
           0.03321874856069941,
           0.03668023691038721
          ]
         },
         "hovertemplate": "max_depth=%{x}<br>mean_f1=%{y}<extra></extra>",
         "legendgroup": "",
         "marker": {
          "color": "#636efa",
          "pattern": {
           "shape": ""
          }
         },
         "name": "",
         "offsetgroup": "",
         "orientation": "v",
         "showlegend": false,
         "textposition": "auto",
         "type": "bar",
         "x": [
          3,
          6,
          9
         ],
         "xaxis": "x",
         "y": [
          0.11841713600417547,
          0.25517844379130644,
          0.32910580928233846
         ],
         "yaxis": "y"
        }
       ],
       "layout": {
        "barmode": "relative",
        "legend": {
         "tracegroupgap": 0
        },
        "template": {
         "data": {
          "bar": [
           {
            "error_x": {
             "color": "#2a3f5f"
            },
            "error_y": {
             "color": "#2a3f5f"
            },
            "marker": {
             "line": {
              "color": "#E5ECF6",
              "width": 0.5
             },
             "pattern": {
              "fillmode": "overlay",
              "size": 10,
              "solidity": 0.2
             }
            },
            "type": "bar"
           }
          ],
          "barpolar": [
           {
            "marker": {
             "line": {
              "color": "#E5ECF6",
              "width": 0.5
             },
             "pattern": {
              "fillmode": "overlay",
              "size": 10,
              "solidity": 0.2
             }
            },
            "type": "barpolar"
           }
          ],
          "carpet": [
           {
            "aaxis": {
             "endlinecolor": "#2a3f5f",
             "gridcolor": "white",
             "linecolor": "white",
             "minorgridcolor": "white",
             "startlinecolor": "#2a3f5f"
            },
            "baxis": {
             "endlinecolor": "#2a3f5f",
             "gridcolor": "white",
             "linecolor": "white",
             "minorgridcolor": "white",
             "startlinecolor": "#2a3f5f"
            },
            "type": "carpet"
           }
          ],
          "choropleth": [
           {
            "colorbar": {
             "outlinewidth": 0,
             "ticks": ""
            },
            "type": "choropleth"
           }
          ],
          "contour": [
           {
            "colorbar": {
             "outlinewidth": 0,
             "ticks": ""
            },
            "colorscale": [
             [
              0.0,
              "#0d0887"
             ],
             [
              0.1111111111111111,
              "#46039f"
             ],
             [
              0.2222222222222222,
              "#7201a8"
             ],
             [
              0.3333333333333333,
              "#9c179e"
             ],
             [
              0.4444444444444444,
              "#bd3786"
             ],
             [
              0.5555555555555556,
              "#d8576b"
             ],
             [
              0.6666666666666666,
              "#ed7953"
             ],
             [
              0.7777777777777778,
              "#fb9f3a"
             ],
             [
              0.8888888888888888,
              "#fdca26"
             ],
             [
              1.0,
              "#f0f921"
             ]
            ],
            "type": "contour"
           }
          ],
          "contourcarpet": [
           {
            "colorbar": {
             "outlinewidth": 0,
             "ticks": ""
            },
            "type": "contourcarpet"
           }
          ],
          "heatmap": [
           {
            "colorbar": {
             "outlinewidth": 0,
             "ticks": ""
            },
            "colorscale": [
             [
              0.0,
              "#0d0887"
             ],
             [
              0.1111111111111111,
              "#46039f"
             ],
             [
              0.2222222222222222,
              "#7201a8"
             ],
             [
              0.3333333333333333,
              "#9c179e"
             ],
             [
              0.4444444444444444,
              "#bd3786"
             ],
             [
              0.5555555555555556,
              "#d8576b"
             ],
             [
              0.6666666666666666,
              "#ed7953"
             ],
             [
              0.7777777777777778,
              "#fb9f3a"
             ],
             [
              0.8888888888888888,
              "#fdca26"
             ],
             [
              1.0,
              "#f0f921"
             ]
            ],
            "type": "heatmap"
           }
          ],
          "heatmapgl": [
           {
            "colorbar": {
             "outlinewidth": 0,
             "ticks": ""
            },
            "colorscale": [
             [
              0.0,
              "#0d0887"
             ],
             [
              0.1111111111111111,
              "#46039f"
             ],
             [
              0.2222222222222222,
              "#7201a8"
             ],
             [
              0.3333333333333333,
              "#9c179e"
             ],
             [
              0.4444444444444444,
              "#bd3786"
             ],
             [
              0.5555555555555556,
              "#d8576b"
             ],
             [
              0.6666666666666666,
              "#ed7953"
             ],
             [
              0.7777777777777778,
              "#fb9f3a"
             ],
             [
              0.8888888888888888,
              "#fdca26"
             ],
             [
              1.0,
              "#f0f921"
             ]
            ],
            "type": "heatmapgl"
           }
          ],
          "histogram": [
           {
            "marker": {
             "pattern": {
              "fillmode": "overlay",
              "size": 10,
              "solidity": 0.2
             }
            },
            "type": "histogram"
           }
          ],
          "histogram2d": [
           {
            "colorbar": {
             "outlinewidth": 0,
             "ticks": ""
            },
            "colorscale": [
             [
              0.0,
              "#0d0887"
             ],
             [
              0.1111111111111111,
              "#46039f"
             ],
             [
              0.2222222222222222,
              "#7201a8"
             ],
             [
              0.3333333333333333,
              "#9c179e"
             ],
             [
              0.4444444444444444,
              "#bd3786"
             ],
             [
              0.5555555555555556,
              "#d8576b"
             ],
             [
              0.6666666666666666,
              "#ed7953"
             ],
             [
              0.7777777777777778,
              "#fb9f3a"
             ],
             [
              0.8888888888888888,
              "#fdca26"
             ],
             [
              1.0,
              "#f0f921"
             ]
            ],
            "type": "histogram2d"
           }
          ],
          "histogram2dcontour": [
           {
            "colorbar": {
             "outlinewidth": 0,
             "ticks": ""
            },
            "colorscale": [
             [
              0.0,
              "#0d0887"
             ],
             [
              0.1111111111111111,
              "#46039f"
             ],
             [
              0.2222222222222222,
              "#7201a8"
             ],
             [
              0.3333333333333333,
              "#9c179e"
             ],
             [
              0.4444444444444444,
              "#bd3786"
             ],
             [
              0.5555555555555556,
              "#d8576b"
             ],
             [
              0.6666666666666666,
              "#ed7953"
             ],
             [
              0.7777777777777778,
              "#fb9f3a"
             ],
             [
              0.8888888888888888,
              "#fdca26"
             ],
             [
              1.0,
              "#f0f921"
             ]
            ],
            "type": "histogram2dcontour"
           }
          ],
          "mesh3d": [
           {
            "colorbar": {
             "outlinewidth": 0,
             "ticks": ""
            },
            "type": "mesh3d"
           }
          ],
          "parcoords": [
           {
            "line": {
             "colorbar": {
              "outlinewidth": 0,
              "ticks": ""
             }
            },
            "type": "parcoords"
           }
          ],
          "pie": [
           {
            "automargin": true,
            "type": "pie"
           }
          ],
          "scatter": [
           {
            "marker": {
             "colorbar": {
              "outlinewidth": 0,
              "ticks": ""
             }
            },
            "type": "scatter"
           }
          ],
          "scatter3d": [
           {
            "line": {
             "colorbar": {
              "outlinewidth": 0,
              "ticks": ""
             }
            },
            "marker": {
             "colorbar": {
              "outlinewidth": 0,
              "ticks": ""
             }
            },
            "type": "scatter3d"
           }
          ],
          "scattercarpet": [
           {
            "marker": {
             "colorbar": {
              "outlinewidth": 0,
              "ticks": ""
             }
            },
            "type": "scattercarpet"
           }
          ],
          "scattergeo": [
           {
            "marker": {
             "colorbar": {
              "outlinewidth": 0,
              "ticks": ""
             }
            },
            "type": "scattergeo"
           }
          ],
          "scattergl": [
           {
            "marker": {
             "colorbar": {
              "outlinewidth": 0,
              "ticks": ""
             }
            },
            "type": "scattergl"
           }
          ],
          "scattermapbox": [
           {
            "marker": {
             "colorbar": {
              "outlinewidth": 0,
              "ticks": ""
             }
            },
            "type": "scattermapbox"
           }
          ],
          "scatterpolar": [
           {
            "marker": {
             "colorbar": {
              "outlinewidth": 0,
              "ticks": ""
             }
            },
            "type": "scatterpolar"
           }
          ],
          "scatterpolargl": [
           {
            "marker": {
             "colorbar": {
              "outlinewidth": 0,
              "ticks": ""
             }
            },
            "type": "scatterpolargl"
           }
          ],
          "scatterternary": [
           {
            "marker": {
             "colorbar": {
              "outlinewidth": 0,
              "ticks": ""
             }
            },
            "type": "scatterternary"
           }
          ],
          "surface": [
           {
            "colorbar": {
             "outlinewidth": 0,
             "ticks": ""
            },
            "colorscale": [
             [
              0.0,
              "#0d0887"
             ],
             [
              0.1111111111111111,
              "#46039f"
             ],
             [
              0.2222222222222222,
              "#7201a8"
             ],
             [
              0.3333333333333333,
              "#9c179e"
             ],
             [
              0.4444444444444444,
              "#bd3786"
             ],
             [
              0.5555555555555556,
              "#d8576b"
             ],
             [
              0.6666666666666666,
              "#ed7953"
             ],
             [
              0.7777777777777778,
              "#fb9f3a"
             ],
             [
              0.8888888888888888,
              "#fdca26"
             ],
             [
              1.0,
              "#f0f921"
             ]
            ],
            "type": "surface"
           }
          ],
          "table": [
           {
            "cells": {
             "fill": {
              "color": "#EBF0F8"
             },
             "line": {
              "color": "white"
             }
            },
            "header": {
             "fill": {
              "color": "#C8D4E3"
             },
             "line": {
              "color": "white"
             }
            },
            "type": "table"
           }
          ]
         },
         "layout": {
          "annotationdefaults": {
           "arrowcolor": "#2a3f5f",
           "arrowhead": 0,
           "arrowwidth": 1
          },
          "autotypenumbers": "strict",
          "coloraxis": {
           "colorbar": {
            "outlinewidth": 0,
            "ticks": ""
           }
          },
          "colorscale": {
           "diverging": [
            [
             0,
             "#8e0152"
            ],
            [
             0.1,
             "#c51b7d"
            ],
            [
             0.2,
             "#de77ae"
            ],
            [
             0.3,
             "#f1b6da"
            ],
            [
             0.4,
             "#fde0ef"
            ],
            [
             0.5,
             "#f7f7f7"
            ],
            [
             0.6,
             "#e6f5d0"
            ],
            [
             0.7,
             "#b8e186"
            ],
            [
             0.8,
             "#7fbc41"
            ],
            [
             0.9,
             "#4d9221"
            ],
            [
             1,
             "#276419"
            ]
           ],
           "sequential": [
            [
             0.0,
             "#0d0887"
            ],
            [
             0.1111111111111111,
             "#46039f"
            ],
            [
             0.2222222222222222,
             "#7201a8"
            ],
            [
             0.3333333333333333,
             "#9c179e"
            ],
            [
             0.4444444444444444,
             "#bd3786"
            ],
            [
             0.5555555555555556,
             "#d8576b"
            ],
            [
             0.6666666666666666,
             "#ed7953"
            ],
            [
             0.7777777777777778,
             "#fb9f3a"
            ],
            [
             0.8888888888888888,
             "#fdca26"
            ],
            [
             1.0,
             "#f0f921"
            ]
           ],
           "sequentialminus": [
            [
             0.0,
             "#0d0887"
            ],
            [
             0.1111111111111111,
             "#46039f"
            ],
            [
             0.2222222222222222,
             "#7201a8"
            ],
            [
             0.3333333333333333,
             "#9c179e"
            ],
            [
             0.4444444444444444,
             "#bd3786"
            ],
            [
             0.5555555555555556,
             "#d8576b"
            ],
            [
             0.6666666666666666,
             "#ed7953"
            ],
            [
             0.7777777777777778,
             "#fb9f3a"
            ],
            [
             0.8888888888888888,
             "#fdca26"
            ],
            [
             1.0,
             "#f0f921"
            ]
           ]
          },
          "colorway": [
           "#636efa",
           "#EF553B",
           "#00cc96",
           "#ab63fa",
           "#FFA15A",
           "#19d3f3",
           "#FF6692",
           "#B6E880",
           "#FF97FF",
           "#FECB52"
          ],
          "font": {
           "color": "#2a3f5f"
          },
          "geo": {
           "bgcolor": "white",
           "lakecolor": "white",
           "landcolor": "#E5ECF6",
           "showlakes": true,
           "showland": true,
           "subunitcolor": "white"
          },
          "hoverlabel": {
           "align": "left"
          },
          "hovermode": "closest",
          "mapbox": {
           "style": "light"
          },
          "paper_bgcolor": "white",
          "plot_bgcolor": "#E5ECF6",
          "polar": {
           "angularaxis": {
            "gridcolor": "white",
            "linecolor": "white",
            "ticks": ""
           },
           "bgcolor": "#E5ECF6",
           "radialaxis": {
            "gridcolor": "white",
            "linecolor": "white",
            "ticks": ""
           }
          },
          "scene": {
           "xaxis": {
            "backgroundcolor": "#E5ECF6",
            "gridcolor": "white",
            "gridwidth": 2,
            "linecolor": "white",
            "showbackground": true,
            "ticks": "",
            "zerolinecolor": "white"
           },
           "yaxis": {
            "backgroundcolor": "#E5ECF6",
            "gridcolor": "white",
            "gridwidth": 2,
            "linecolor": "white",
            "showbackground": true,
            "ticks": "",
            "zerolinecolor": "white"
           },
           "zaxis": {
            "backgroundcolor": "#E5ECF6",
            "gridcolor": "white",
            "gridwidth": 2,
            "linecolor": "white",
            "showbackground": true,
            "ticks": "",
            "zerolinecolor": "white"
           }
          },
          "shapedefaults": {
           "line": {
            "color": "#2a3f5f"
           }
          },
          "ternary": {
           "aaxis": {
            "gridcolor": "white",
            "linecolor": "white",
            "ticks": ""
           },
           "baxis": {
            "gridcolor": "white",
            "linecolor": "white",
            "ticks": ""
           },
           "bgcolor": "#E5ECF6",
           "caxis": {
            "gridcolor": "white",
            "linecolor": "white",
            "ticks": ""
           }
          },
          "title": {
           "x": 0.05
          },
          "xaxis": {
           "automargin": true,
           "gridcolor": "white",
           "linecolor": "white",
           "ticks": "",
           "title": {
            "standoff": 15
           },
           "zerolinecolor": "white",
           "zerolinewidth": 2
          },
          "yaxis": {
           "automargin": true,
           "gridcolor": "white",
           "linecolor": "white",
           "ticks": "",
           "title": {
            "standoff": 15
           },
           "zerolinecolor": "white",
           "zerolinewidth": 2
          }
         }
        },
        "title": {
         "text": "Mean f1 score on testing depending on hyper parameter values <br>(Model: RandomForest Classifier, Dataset: All"
        },
        "xaxis": {
         "anchor": "y",
         "domain": [
          0.0,
          1.0
         ],
         "title": {
          "text": "max_depth"
         }
        },
        "yaxis": {
         "anchor": "x",
         "domain": [
          0.0,
          1.0
         ],
         "title": {
          "text": "mean_f1"
         }
        }
       }
      },
      "text/html": "<div>                            <div id=\"76abaa2e-a3ae-45b4-b57d-dedc3442feb0\" class=\"plotly-graph-div\" style=\"height:525px; width:100%;\"></div>            <script type=\"text/javascript\">                require([\"plotly\"], function(Plotly) {                    window.PLOTLYENV=window.PLOTLYENV || {};                                    if (document.getElementById(\"76abaa2e-a3ae-45b4-b57d-dedc3442feb0\")) {                    Plotly.newPlot(                        \"76abaa2e-a3ae-45b4-b57d-dedc3442feb0\",                        [{\"alignmentgroup\":\"True\",\"error_y\":{\"array\":[0.026406508109957205,0.03321874856069941,0.03668023691038721]},\"hovertemplate\":\"max_depth=%{x}<br>mean_f1=%{y}<extra></extra>\",\"legendgroup\":\"\",\"marker\":{\"color\":\"#636efa\",\"pattern\":{\"shape\":\"\"}},\"name\":\"\",\"offsetgroup\":\"\",\"orientation\":\"v\",\"showlegend\":false,\"textposition\":\"auto\",\"type\":\"bar\",\"x\":[3,6,9],\"xaxis\":\"x\",\"y\":[0.11841713600417547,0.25517844379130644,0.32910580928233846],\"yaxis\":\"y\"}],                        {\"barmode\":\"relative\",\"legend\":{\"tracegroupgap\":0},\"template\":{\"data\":{\"bar\":[{\"error_x\":{\"color\":\"#2a3f5f\"},\"error_y\":{\"color\":\"#2a3f5f\"},\"marker\":{\"line\":{\"color\":\"#E5ECF6\",\"width\":0.5},\"pattern\":{\"fillmode\":\"overlay\",\"size\":10,\"solidity\":0.2}},\"type\":\"bar\"}],\"barpolar\":[{\"marker\":{\"line\":{\"color\":\"#E5ECF6\",\"width\":0.5},\"pattern\":{\"fillmode\":\"overlay\",\"size\":10,\"solidity\":0.2}},\"type\":\"barpolar\"}],\"carpet\":[{\"aaxis\":{\"endlinecolor\":\"#2a3f5f\",\"gridcolor\":\"white\",\"linecolor\":\"white\",\"minorgridcolor\":\"white\",\"startlinecolor\":\"#2a3f5f\"},\"baxis\":{\"endlinecolor\":\"#2a3f5f\",\"gridcolor\":\"white\",\"linecolor\":\"white\",\"minorgridcolor\":\"white\",\"startlinecolor\":\"#2a3f5f\"},\"type\":\"carpet\"}],\"choropleth\":[{\"colorbar\":{\"outlinewidth\":0,\"ticks\":\"\"},\"type\":\"choropleth\"}],\"contour\":[{\"colorbar\":{\"outlinewidth\":0,\"ticks\":\"\"},\"colorscale\":[[0.0,\"#0d0887\"],[0.1111111111111111,\"#46039f\"],[0.2222222222222222,\"#7201a8\"],[0.3333333333333333,\"#9c179e\"],[0.4444444444444444,\"#bd3786\"],[0.5555555555555556,\"#d8576b\"],[0.6666666666666666,\"#ed7953\"],[0.7777777777777778,\"#fb9f3a\"],[0.8888888888888888,\"#fdca26\"],[1.0,\"#f0f921\"]],\"type\":\"contour\"}],\"contourcarpet\":[{\"colorbar\":{\"outlinewidth\":0,\"ticks\":\"\"},\"type\":\"contourcarpet\"}],\"heatmap\":[{\"colorbar\":{\"outlinewidth\":0,\"ticks\":\"\"},\"colorscale\":[[0.0,\"#0d0887\"],[0.1111111111111111,\"#46039f\"],[0.2222222222222222,\"#7201a8\"],[0.3333333333333333,\"#9c179e\"],[0.4444444444444444,\"#bd3786\"],[0.5555555555555556,\"#d8576b\"],[0.6666666666666666,\"#ed7953\"],[0.7777777777777778,\"#fb9f3a\"],[0.8888888888888888,\"#fdca26\"],[1.0,\"#f0f921\"]],\"type\":\"heatmap\"}],\"heatmapgl\":[{\"colorbar\":{\"outlinewidth\":0,\"ticks\":\"\"},\"colorscale\":[[0.0,\"#0d0887\"],[0.1111111111111111,\"#46039f\"],[0.2222222222222222,\"#7201a8\"],[0.3333333333333333,\"#9c179e\"],[0.4444444444444444,\"#bd3786\"],[0.5555555555555556,\"#d8576b\"],[0.6666666666666666,\"#ed7953\"],[0.7777777777777778,\"#fb9f3a\"],[0.8888888888888888,\"#fdca26\"],[1.0,\"#f0f921\"]],\"type\":\"heatmapgl\"}],\"histogram\":[{\"marker\":{\"pattern\":{\"fillmode\":\"overlay\",\"size\":10,\"solidity\":0.2}},\"type\":\"histogram\"}],\"histogram2d\":[{\"colorbar\":{\"outlinewidth\":0,\"ticks\":\"\"},\"colorscale\":[[0.0,\"#0d0887\"],[0.1111111111111111,\"#46039f\"],[0.2222222222222222,\"#7201a8\"],[0.3333333333333333,\"#9c179e\"],[0.4444444444444444,\"#bd3786\"],[0.5555555555555556,\"#d8576b\"],[0.6666666666666666,\"#ed7953\"],[0.7777777777777778,\"#fb9f3a\"],[0.8888888888888888,\"#fdca26\"],[1.0,\"#f0f921\"]],\"type\":\"histogram2d\"}],\"histogram2dcontour\":[{\"colorbar\":{\"outlinewidth\":0,\"ticks\":\"\"},\"colorscale\":[[0.0,\"#0d0887\"],[0.1111111111111111,\"#46039f\"],[0.2222222222222222,\"#7201a8\"],[0.3333333333333333,\"#9c179e\"],[0.4444444444444444,\"#bd3786\"],[0.5555555555555556,\"#d8576b\"],[0.6666666666666666,\"#ed7953\"],[0.7777777777777778,\"#fb9f3a\"],[0.8888888888888888,\"#fdca26\"],[1.0,\"#f0f921\"]],\"type\":\"histogram2dcontour\"}],\"mesh3d\":[{\"colorbar\":{\"outlinewidth\":0,\"ticks\":\"\"},\"type\":\"mesh3d\"}],\"parcoords\":[{\"line\":{\"colorbar\":{\"outlinewidth\":0,\"ticks\":\"\"}},\"type\":\"parcoords\"}],\"pie\":[{\"automargin\":true,\"type\":\"pie\"}],\"scatter\":[{\"marker\":{\"colorbar\":{\"outlinewidth\":0,\"ticks\":\"\"}},\"type\":\"scatter\"}],\"scatter3d\":[{\"line\":{\"colorbar\":{\"outlinewidth\":0,\"ticks\":\"\"}},\"marker\":{\"colorbar\":{\"outlinewidth\":0,\"ticks\":\"\"}},\"type\":\"scatter3d\"}],\"scattercarpet\":[{\"marker\":{\"colorbar\":{\"outlinewidth\":0,\"ticks\":\"\"}},\"type\":\"scattercarpet\"}],\"scattergeo\":[{\"marker\":{\"colorbar\":{\"outlinewidth\":0,\"ticks\":\"\"}},\"type\":\"scattergeo\"}],\"scattergl\":[{\"marker\":{\"colorbar\":{\"outlinewidth\":0,\"ticks\":\"\"}},\"type\":\"scattergl\"}],\"scattermapbox\":[{\"marker\":{\"colorbar\":{\"outlinewidth\":0,\"ticks\":\"\"}},\"type\":\"scattermapbox\"}],\"scatterpolar\":[{\"marker\":{\"colorbar\":{\"outlinewidth\":0,\"ticks\":\"\"}},\"type\":\"scatterpolar\"}],\"scatterpolargl\":[{\"marker\":{\"colorbar\":{\"outlinewidth\":0,\"ticks\":\"\"}},\"type\":\"scatterpolargl\"}],\"scatterternary\":[{\"marker\":{\"colorbar\":{\"outlinewidth\":0,\"ticks\":\"\"}},\"type\":\"scatterternary\"}],\"surface\":[{\"colorbar\":{\"outlinewidth\":0,\"ticks\":\"\"},\"colorscale\":[[0.0,\"#0d0887\"],[0.1111111111111111,\"#46039f\"],[0.2222222222222222,\"#7201a8\"],[0.3333333333333333,\"#9c179e\"],[0.4444444444444444,\"#bd3786\"],[0.5555555555555556,\"#d8576b\"],[0.6666666666666666,\"#ed7953\"],[0.7777777777777778,\"#fb9f3a\"],[0.8888888888888888,\"#fdca26\"],[1.0,\"#f0f921\"]],\"type\":\"surface\"}],\"table\":[{\"cells\":{\"fill\":{\"color\":\"#EBF0F8\"},\"line\":{\"color\":\"white\"}},\"header\":{\"fill\":{\"color\":\"#C8D4E3\"},\"line\":{\"color\":\"white\"}},\"type\":\"table\"}]},\"layout\":{\"annotationdefaults\":{\"arrowcolor\":\"#2a3f5f\",\"arrowhead\":0,\"arrowwidth\":1},\"autotypenumbers\":\"strict\",\"coloraxis\":{\"colorbar\":{\"outlinewidth\":0,\"ticks\":\"\"}},\"colorscale\":{\"diverging\":[[0,\"#8e0152\"],[0.1,\"#c51b7d\"],[0.2,\"#de77ae\"],[0.3,\"#f1b6da\"],[0.4,\"#fde0ef\"],[0.5,\"#f7f7f7\"],[0.6,\"#e6f5d0\"],[0.7,\"#b8e186\"],[0.8,\"#7fbc41\"],[0.9,\"#4d9221\"],[1,\"#276419\"]],\"sequential\":[[0.0,\"#0d0887\"],[0.1111111111111111,\"#46039f\"],[0.2222222222222222,\"#7201a8\"],[0.3333333333333333,\"#9c179e\"],[0.4444444444444444,\"#bd3786\"],[0.5555555555555556,\"#d8576b\"],[0.6666666666666666,\"#ed7953\"],[0.7777777777777778,\"#fb9f3a\"],[0.8888888888888888,\"#fdca26\"],[1.0,\"#f0f921\"]],\"sequentialminus\":[[0.0,\"#0d0887\"],[0.1111111111111111,\"#46039f\"],[0.2222222222222222,\"#7201a8\"],[0.3333333333333333,\"#9c179e\"],[0.4444444444444444,\"#bd3786\"],[0.5555555555555556,\"#d8576b\"],[0.6666666666666666,\"#ed7953\"],[0.7777777777777778,\"#fb9f3a\"],[0.8888888888888888,\"#fdca26\"],[1.0,\"#f0f921\"]]},\"colorway\":[\"#636efa\",\"#EF553B\",\"#00cc96\",\"#ab63fa\",\"#FFA15A\",\"#19d3f3\",\"#FF6692\",\"#B6E880\",\"#FF97FF\",\"#FECB52\"],\"font\":{\"color\":\"#2a3f5f\"},\"geo\":{\"bgcolor\":\"white\",\"lakecolor\":\"white\",\"landcolor\":\"#E5ECF6\",\"showlakes\":true,\"showland\":true,\"subunitcolor\":\"white\"},\"hoverlabel\":{\"align\":\"left\"},\"hovermode\":\"closest\",\"mapbox\":{\"style\":\"light\"},\"paper_bgcolor\":\"white\",\"plot_bgcolor\":\"#E5ECF6\",\"polar\":{\"angularaxis\":{\"gridcolor\":\"white\",\"linecolor\":\"white\",\"ticks\":\"\"},\"bgcolor\":\"#E5ECF6\",\"radialaxis\":{\"gridcolor\":\"white\",\"linecolor\":\"white\",\"ticks\":\"\"}},\"scene\":{\"xaxis\":{\"backgroundcolor\":\"#E5ECF6\",\"gridcolor\":\"white\",\"gridwidth\":2,\"linecolor\":\"white\",\"showbackground\":true,\"ticks\":\"\",\"zerolinecolor\":\"white\"},\"yaxis\":{\"backgroundcolor\":\"#E5ECF6\",\"gridcolor\":\"white\",\"gridwidth\":2,\"linecolor\":\"white\",\"showbackground\":true,\"ticks\":\"\",\"zerolinecolor\":\"white\"},\"zaxis\":{\"backgroundcolor\":\"#E5ECF6\",\"gridcolor\":\"white\",\"gridwidth\":2,\"linecolor\":\"white\",\"showbackground\":true,\"ticks\":\"\",\"zerolinecolor\":\"white\"}},\"shapedefaults\":{\"line\":{\"color\":\"#2a3f5f\"}},\"ternary\":{\"aaxis\":{\"gridcolor\":\"white\",\"linecolor\":\"white\",\"ticks\":\"\"},\"baxis\":{\"gridcolor\":\"white\",\"linecolor\":\"white\",\"ticks\":\"\"},\"bgcolor\":\"#E5ECF6\",\"caxis\":{\"gridcolor\":\"white\",\"linecolor\":\"white\",\"ticks\":\"\"}},\"title\":{\"x\":0.05},\"xaxis\":{\"automargin\":true,\"gridcolor\":\"white\",\"linecolor\":\"white\",\"ticks\":\"\",\"title\":{\"standoff\":15},\"zerolinecolor\":\"white\",\"zerolinewidth\":2},\"yaxis\":{\"automargin\":true,\"gridcolor\":\"white\",\"linecolor\":\"white\",\"ticks\":\"\",\"title\":{\"standoff\":15},\"zerolinecolor\":\"white\",\"zerolinewidth\":2}}},\"title\":{\"text\":\"Mean f1 score on testing depending on hyper parameter values <br>(Model: RandomForest Classifier, Dataset: All\"},\"xaxis\":{\"anchor\":\"y\",\"domain\":[0.0,1.0],\"title\":{\"text\":\"max_depth\"}},\"yaxis\":{\"anchor\":\"x\",\"domain\":[0.0,1.0],\"title\":{\"text\":\"mean_f1\"}}},                        {\"responsive\": true}                    ).then(function(){\n                            \nvar gd = document.getElementById('76abaa2e-a3ae-45b4-b57d-dedc3442feb0');\nvar x = new MutationObserver(function (mutations, observer) {{\n        var display = window.getComputedStyle(gd).display;\n        if (!display || display === 'none') {{\n            console.log([gd, 'removed!']);\n            Plotly.purge(gd);\n            observer.disconnect();\n        }}\n}});\n\n// Listen for the removal of the full notebook cells\nvar notebookContainer = gd.closest('#notebook-container');\nif (notebookContainer) {{\n    x.observe(notebookContainer, {childList: true});\n}}\n\n// Listen for the clearing of the current output cell\nvar outputEl = gd.closest('.output');\nif (outputEl) {{\n    x.observe(outputEl, {childList: true});\n}}\n\n                        })                };                });            </script>        </div>"
     },
     "metadata": {},
     "output_type": "display_data"
    }
   ],
   "source": [
    "plot_params_incidence(model=model,params = \"max_depth\", barchart=True)"
   ],
   "metadata": {
    "collapsed": false,
    "pycharm": {
     "name": "#%%\n"
    }
   }
  },
  {
   "cell_type": "code",
   "execution_count": 94,
   "outputs": [
    {
     "data": {
      "application/vnd.plotly.v1+json": {
       "config": {
        "plotlyServerURL": "https://plotly.com"
       },
       "data": [
        {
         "alignmentgroup": "True",
         "error_y": {
          "array": [
           0.03262900903128066,
           0.032896045003143796,
           0.031071985511654895,
           0.03181028522864575
          ]
         },
         "hovertemplate": "n_estimators=%{x}<br>mean_f1=%{y}<extra></extra>",
         "legendgroup": "",
         "marker": {
          "color": "#636efa",
          "pattern": {
           "shape": ""
          }
         },
         "name": "",
         "offsetgroup": "",
         "orientation": "v",
         "showlegend": false,
         "textposition": "auto",
         "type": "bar",
         "x": [
          50,
          80,
          110,
          130
         ],
         "xaxis": "x",
         "y": [
          0.2372157883078301,
          0.23387388737340867,
          0.23325190737077425,
          0.23259360238508062
         ],
         "yaxis": "y"
        }
       ],
       "layout": {
        "barmode": "relative",
        "legend": {
         "tracegroupgap": 0
        },
        "template": {
         "data": {
          "bar": [
           {
            "error_x": {
             "color": "#2a3f5f"
            },
            "error_y": {
             "color": "#2a3f5f"
            },
            "marker": {
             "line": {
              "color": "#E5ECF6",
              "width": 0.5
             },
             "pattern": {
              "fillmode": "overlay",
              "size": 10,
              "solidity": 0.2
             }
            },
            "type": "bar"
           }
          ],
          "barpolar": [
           {
            "marker": {
             "line": {
              "color": "#E5ECF6",
              "width": 0.5
             },
             "pattern": {
              "fillmode": "overlay",
              "size": 10,
              "solidity": 0.2
             }
            },
            "type": "barpolar"
           }
          ],
          "carpet": [
           {
            "aaxis": {
             "endlinecolor": "#2a3f5f",
             "gridcolor": "white",
             "linecolor": "white",
             "minorgridcolor": "white",
             "startlinecolor": "#2a3f5f"
            },
            "baxis": {
             "endlinecolor": "#2a3f5f",
             "gridcolor": "white",
             "linecolor": "white",
             "minorgridcolor": "white",
             "startlinecolor": "#2a3f5f"
            },
            "type": "carpet"
           }
          ],
          "choropleth": [
           {
            "colorbar": {
             "outlinewidth": 0,
             "ticks": ""
            },
            "type": "choropleth"
           }
          ],
          "contour": [
           {
            "colorbar": {
             "outlinewidth": 0,
             "ticks": ""
            },
            "colorscale": [
             [
              0.0,
              "#0d0887"
             ],
             [
              0.1111111111111111,
              "#46039f"
             ],
             [
              0.2222222222222222,
              "#7201a8"
             ],
             [
              0.3333333333333333,
              "#9c179e"
             ],
             [
              0.4444444444444444,
              "#bd3786"
             ],
             [
              0.5555555555555556,
              "#d8576b"
             ],
             [
              0.6666666666666666,
              "#ed7953"
             ],
             [
              0.7777777777777778,
              "#fb9f3a"
             ],
             [
              0.8888888888888888,
              "#fdca26"
             ],
             [
              1.0,
              "#f0f921"
             ]
            ],
            "type": "contour"
           }
          ],
          "contourcarpet": [
           {
            "colorbar": {
             "outlinewidth": 0,
             "ticks": ""
            },
            "type": "contourcarpet"
           }
          ],
          "heatmap": [
           {
            "colorbar": {
             "outlinewidth": 0,
             "ticks": ""
            },
            "colorscale": [
             [
              0.0,
              "#0d0887"
             ],
             [
              0.1111111111111111,
              "#46039f"
             ],
             [
              0.2222222222222222,
              "#7201a8"
             ],
             [
              0.3333333333333333,
              "#9c179e"
             ],
             [
              0.4444444444444444,
              "#bd3786"
             ],
             [
              0.5555555555555556,
              "#d8576b"
             ],
             [
              0.6666666666666666,
              "#ed7953"
             ],
             [
              0.7777777777777778,
              "#fb9f3a"
             ],
             [
              0.8888888888888888,
              "#fdca26"
             ],
             [
              1.0,
              "#f0f921"
             ]
            ],
            "type": "heatmap"
           }
          ],
          "heatmapgl": [
           {
            "colorbar": {
             "outlinewidth": 0,
             "ticks": ""
            },
            "colorscale": [
             [
              0.0,
              "#0d0887"
             ],
             [
              0.1111111111111111,
              "#46039f"
             ],
             [
              0.2222222222222222,
              "#7201a8"
             ],
             [
              0.3333333333333333,
              "#9c179e"
             ],
             [
              0.4444444444444444,
              "#bd3786"
             ],
             [
              0.5555555555555556,
              "#d8576b"
             ],
             [
              0.6666666666666666,
              "#ed7953"
             ],
             [
              0.7777777777777778,
              "#fb9f3a"
             ],
             [
              0.8888888888888888,
              "#fdca26"
             ],
             [
              1.0,
              "#f0f921"
             ]
            ],
            "type": "heatmapgl"
           }
          ],
          "histogram": [
           {
            "marker": {
             "pattern": {
              "fillmode": "overlay",
              "size": 10,
              "solidity": 0.2
             }
            },
            "type": "histogram"
           }
          ],
          "histogram2d": [
           {
            "colorbar": {
             "outlinewidth": 0,
             "ticks": ""
            },
            "colorscale": [
             [
              0.0,
              "#0d0887"
             ],
             [
              0.1111111111111111,
              "#46039f"
             ],
             [
              0.2222222222222222,
              "#7201a8"
             ],
             [
              0.3333333333333333,
              "#9c179e"
             ],
             [
              0.4444444444444444,
              "#bd3786"
             ],
             [
              0.5555555555555556,
              "#d8576b"
             ],
             [
              0.6666666666666666,
              "#ed7953"
             ],
             [
              0.7777777777777778,
              "#fb9f3a"
             ],
             [
              0.8888888888888888,
              "#fdca26"
             ],
             [
              1.0,
              "#f0f921"
             ]
            ],
            "type": "histogram2d"
           }
          ],
          "histogram2dcontour": [
           {
            "colorbar": {
             "outlinewidth": 0,
             "ticks": ""
            },
            "colorscale": [
             [
              0.0,
              "#0d0887"
             ],
             [
              0.1111111111111111,
              "#46039f"
             ],
             [
              0.2222222222222222,
              "#7201a8"
             ],
             [
              0.3333333333333333,
              "#9c179e"
             ],
             [
              0.4444444444444444,
              "#bd3786"
             ],
             [
              0.5555555555555556,
              "#d8576b"
             ],
             [
              0.6666666666666666,
              "#ed7953"
             ],
             [
              0.7777777777777778,
              "#fb9f3a"
             ],
             [
              0.8888888888888888,
              "#fdca26"
             ],
             [
              1.0,
              "#f0f921"
             ]
            ],
            "type": "histogram2dcontour"
           }
          ],
          "mesh3d": [
           {
            "colorbar": {
             "outlinewidth": 0,
             "ticks": ""
            },
            "type": "mesh3d"
           }
          ],
          "parcoords": [
           {
            "line": {
             "colorbar": {
              "outlinewidth": 0,
              "ticks": ""
             }
            },
            "type": "parcoords"
           }
          ],
          "pie": [
           {
            "automargin": true,
            "type": "pie"
           }
          ],
          "scatter": [
           {
            "marker": {
             "colorbar": {
              "outlinewidth": 0,
              "ticks": ""
             }
            },
            "type": "scatter"
           }
          ],
          "scatter3d": [
           {
            "line": {
             "colorbar": {
              "outlinewidth": 0,
              "ticks": ""
             }
            },
            "marker": {
             "colorbar": {
              "outlinewidth": 0,
              "ticks": ""
             }
            },
            "type": "scatter3d"
           }
          ],
          "scattercarpet": [
           {
            "marker": {
             "colorbar": {
              "outlinewidth": 0,
              "ticks": ""
             }
            },
            "type": "scattercarpet"
           }
          ],
          "scattergeo": [
           {
            "marker": {
             "colorbar": {
              "outlinewidth": 0,
              "ticks": ""
             }
            },
            "type": "scattergeo"
           }
          ],
          "scattergl": [
           {
            "marker": {
             "colorbar": {
              "outlinewidth": 0,
              "ticks": ""
             }
            },
            "type": "scattergl"
           }
          ],
          "scattermapbox": [
           {
            "marker": {
             "colorbar": {
              "outlinewidth": 0,
              "ticks": ""
             }
            },
            "type": "scattermapbox"
           }
          ],
          "scatterpolar": [
           {
            "marker": {
             "colorbar": {
              "outlinewidth": 0,
              "ticks": ""
             }
            },
            "type": "scatterpolar"
           }
          ],
          "scatterpolargl": [
           {
            "marker": {
             "colorbar": {
              "outlinewidth": 0,
              "ticks": ""
             }
            },
            "type": "scatterpolargl"
           }
          ],
          "scatterternary": [
           {
            "marker": {
             "colorbar": {
              "outlinewidth": 0,
              "ticks": ""
             }
            },
            "type": "scatterternary"
           }
          ],
          "surface": [
           {
            "colorbar": {
             "outlinewidth": 0,
             "ticks": ""
            },
            "colorscale": [
             [
              0.0,
              "#0d0887"
             ],
             [
              0.1111111111111111,
              "#46039f"
             ],
             [
              0.2222222222222222,
              "#7201a8"
             ],
             [
              0.3333333333333333,
              "#9c179e"
             ],
             [
              0.4444444444444444,
              "#bd3786"
             ],
             [
              0.5555555555555556,
              "#d8576b"
             ],
             [
              0.6666666666666666,
              "#ed7953"
             ],
             [
              0.7777777777777778,
              "#fb9f3a"
             ],
             [
              0.8888888888888888,
              "#fdca26"
             ],
             [
              1.0,
              "#f0f921"
             ]
            ],
            "type": "surface"
           }
          ],
          "table": [
           {
            "cells": {
             "fill": {
              "color": "#EBF0F8"
             },
             "line": {
              "color": "white"
             }
            },
            "header": {
             "fill": {
              "color": "#C8D4E3"
             },
             "line": {
              "color": "white"
             }
            },
            "type": "table"
           }
          ]
         },
         "layout": {
          "annotationdefaults": {
           "arrowcolor": "#2a3f5f",
           "arrowhead": 0,
           "arrowwidth": 1
          },
          "autotypenumbers": "strict",
          "coloraxis": {
           "colorbar": {
            "outlinewidth": 0,
            "ticks": ""
           }
          },
          "colorscale": {
           "diverging": [
            [
             0,
             "#8e0152"
            ],
            [
             0.1,
             "#c51b7d"
            ],
            [
             0.2,
             "#de77ae"
            ],
            [
             0.3,
             "#f1b6da"
            ],
            [
             0.4,
             "#fde0ef"
            ],
            [
             0.5,
             "#f7f7f7"
            ],
            [
             0.6,
             "#e6f5d0"
            ],
            [
             0.7,
             "#b8e186"
            ],
            [
             0.8,
             "#7fbc41"
            ],
            [
             0.9,
             "#4d9221"
            ],
            [
             1,
             "#276419"
            ]
           ],
           "sequential": [
            [
             0.0,
             "#0d0887"
            ],
            [
             0.1111111111111111,
             "#46039f"
            ],
            [
             0.2222222222222222,
             "#7201a8"
            ],
            [
             0.3333333333333333,
             "#9c179e"
            ],
            [
             0.4444444444444444,
             "#bd3786"
            ],
            [
             0.5555555555555556,
             "#d8576b"
            ],
            [
             0.6666666666666666,
             "#ed7953"
            ],
            [
             0.7777777777777778,
             "#fb9f3a"
            ],
            [
             0.8888888888888888,
             "#fdca26"
            ],
            [
             1.0,
             "#f0f921"
            ]
           ],
           "sequentialminus": [
            [
             0.0,
             "#0d0887"
            ],
            [
             0.1111111111111111,
             "#46039f"
            ],
            [
             0.2222222222222222,
             "#7201a8"
            ],
            [
             0.3333333333333333,
             "#9c179e"
            ],
            [
             0.4444444444444444,
             "#bd3786"
            ],
            [
             0.5555555555555556,
             "#d8576b"
            ],
            [
             0.6666666666666666,
             "#ed7953"
            ],
            [
             0.7777777777777778,
             "#fb9f3a"
            ],
            [
             0.8888888888888888,
             "#fdca26"
            ],
            [
             1.0,
             "#f0f921"
            ]
           ]
          },
          "colorway": [
           "#636efa",
           "#EF553B",
           "#00cc96",
           "#ab63fa",
           "#FFA15A",
           "#19d3f3",
           "#FF6692",
           "#B6E880",
           "#FF97FF",
           "#FECB52"
          ],
          "font": {
           "color": "#2a3f5f"
          },
          "geo": {
           "bgcolor": "white",
           "lakecolor": "white",
           "landcolor": "#E5ECF6",
           "showlakes": true,
           "showland": true,
           "subunitcolor": "white"
          },
          "hoverlabel": {
           "align": "left"
          },
          "hovermode": "closest",
          "mapbox": {
           "style": "light"
          },
          "paper_bgcolor": "white",
          "plot_bgcolor": "#E5ECF6",
          "polar": {
           "angularaxis": {
            "gridcolor": "white",
            "linecolor": "white",
            "ticks": ""
           },
           "bgcolor": "#E5ECF6",
           "radialaxis": {
            "gridcolor": "white",
            "linecolor": "white",
            "ticks": ""
           }
          },
          "scene": {
           "xaxis": {
            "backgroundcolor": "#E5ECF6",
            "gridcolor": "white",
            "gridwidth": 2,
            "linecolor": "white",
            "showbackground": true,
            "ticks": "",
            "zerolinecolor": "white"
           },
           "yaxis": {
            "backgroundcolor": "#E5ECF6",
            "gridcolor": "white",
            "gridwidth": 2,
            "linecolor": "white",
            "showbackground": true,
            "ticks": "",
            "zerolinecolor": "white"
           },
           "zaxis": {
            "backgroundcolor": "#E5ECF6",
            "gridcolor": "white",
            "gridwidth": 2,
            "linecolor": "white",
            "showbackground": true,
            "ticks": "",
            "zerolinecolor": "white"
           }
          },
          "shapedefaults": {
           "line": {
            "color": "#2a3f5f"
           }
          },
          "ternary": {
           "aaxis": {
            "gridcolor": "white",
            "linecolor": "white",
            "ticks": ""
           },
           "baxis": {
            "gridcolor": "white",
            "linecolor": "white",
            "ticks": ""
           },
           "bgcolor": "#E5ECF6",
           "caxis": {
            "gridcolor": "white",
            "linecolor": "white",
            "ticks": ""
           }
          },
          "title": {
           "x": 0.05
          },
          "xaxis": {
           "automargin": true,
           "gridcolor": "white",
           "linecolor": "white",
           "ticks": "",
           "title": {
            "standoff": 15
           },
           "zerolinecolor": "white",
           "zerolinewidth": 2
          },
          "yaxis": {
           "automargin": true,
           "gridcolor": "white",
           "linecolor": "white",
           "ticks": "",
           "title": {
            "standoff": 15
           },
           "zerolinecolor": "white",
           "zerolinewidth": 2
          }
         }
        },
        "title": {
         "text": "Mean f1 score on testing depending on hyper parameter values <br>(Model: RandomForest Classifier, Dataset: All"
        },
        "xaxis": {
         "anchor": "y",
         "domain": [
          0.0,
          1.0
         ],
         "title": {
          "text": "n_estimators"
         }
        },
        "yaxis": {
         "anchor": "x",
         "domain": [
          0.0,
          1.0
         ],
         "title": {
          "text": "mean_f1"
         }
        }
       }
      },
      "text/html": "<div>                            <div id=\"e07f334f-f2cd-4926-9656-2dbd24d4869d\" class=\"plotly-graph-div\" style=\"height:525px; width:100%;\"></div>            <script type=\"text/javascript\">                require([\"plotly\"], function(Plotly) {                    window.PLOTLYENV=window.PLOTLYENV || {};                                    if (document.getElementById(\"e07f334f-f2cd-4926-9656-2dbd24d4869d\")) {                    Plotly.newPlot(                        \"e07f334f-f2cd-4926-9656-2dbd24d4869d\",                        [{\"alignmentgroup\":\"True\",\"error_y\":{\"array\":[0.03262900903128066,0.032896045003143796,0.031071985511654895,0.03181028522864575]},\"hovertemplate\":\"n_estimators=%{x}<br>mean_f1=%{y}<extra></extra>\",\"legendgroup\":\"\",\"marker\":{\"color\":\"#636efa\",\"pattern\":{\"shape\":\"\"}},\"name\":\"\",\"offsetgroup\":\"\",\"orientation\":\"v\",\"showlegend\":false,\"textposition\":\"auto\",\"type\":\"bar\",\"x\":[50,80,110,130],\"xaxis\":\"x\",\"y\":[0.2372157883078301,0.23387388737340867,0.23325190737077425,0.23259360238508062],\"yaxis\":\"y\"}],                        {\"barmode\":\"relative\",\"legend\":{\"tracegroupgap\":0},\"template\":{\"data\":{\"bar\":[{\"error_x\":{\"color\":\"#2a3f5f\"},\"error_y\":{\"color\":\"#2a3f5f\"},\"marker\":{\"line\":{\"color\":\"#E5ECF6\",\"width\":0.5},\"pattern\":{\"fillmode\":\"overlay\",\"size\":10,\"solidity\":0.2}},\"type\":\"bar\"}],\"barpolar\":[{\"marker\":{\"line\":{\"color\":\"#E5ECF6\",\"width\":0.5},\"pattern\":{\"fillmode\":\"overlay\",\"size\":10,\"solidity\":0.2}},\"type\":\"barpolar\"}],\"carpet\":[{\"aaxis\":{\"endlinecolor\":\"#2a3f5f\",\"gridcolor\":\"white\",\"linecolor\":\"white\",\"minorgridcolor\":\"white\",\"startlinecolor\":\"#2a3f5f\"},\"baxis\":{\"endlinecolor\":\"#2a3f5f\",\"gridcolor\":\"white\",\"linecolor\":\"white\",\"minorgridcolor\":\"white\",\"startlinecolor\":\"#2a3f5f\"},\"type\":\"carpet\"}],\"choropleth\":[{\"colorbar\":{\"outlinewidth\":0,\"ticks\":\"\"},\"type\":\"choropleth\"}],\"contour\":[{\"colorbar\":{\"outlinewidth\":0,\"ticks\":\"\"},\"colorscale\":[[0.0,\"#0d0887\"],[0.1111111111111111,\"#46039f\"],[0.2222222222222222,\"#7201a8\"],[0.3333333333333333,\"#9c179e\"],[0.4444444444444444,\"#bd3786\"],[0.5555555555555556,\"#d8576b\"],[0.6666666666666666,\"#ed7953\"],[0.7777777777777778,\"#fb9f3a\"],[0.8888888888888888,\"#fdca26\"],[1.0,\"#f0f921\"]],\"type\":\"contour\"}],\"contourcarpet\":[{\"colorbar\":{\"outlinewidth\":0,\"ticks\":\"\"},\"type\":\"contourcarpet\"}],\"heatmap\":[{\"colorbar\":{\"outlinewidth\":0,\"ticks\":\"\"},\"colorscale\":[[0.0,\"#0d0887\"],[0.1111111111111111,\"#46039f\"],[0.2222222222222222,\"#7201a8\"],[0.3333333333333333,\"#9c179e\"],[0.4444444444444444,\"#bd3786\"],[0.5555555555555556,\"#d8576b\"],[0.6666666666666666,\"#ed7953\"],[0.7777777777777778,\"#fb9f3a\"],[0.8888888888888888,\"#fdca26\"],[1.0,\"#f0f921\"]],\"type\":\"heatmap\"}],\"heatmapgl\":[{\"colorbar\":{\"outlinewidth\":0,\"ticks\":\"\"},\"colorscale\":[[0.0,\"#0d0887\"],[0.1111111111111111,\"#46039f\"],[0.2222222222222222,\"#7201a8\"],[0.3333333333333333,\"#9c179e\"],[0.4444444444444444,\"#bd3786\"],[0.5555555555555556,\"#d8576b\"],[0.6666666666666666,\"#ed7953\"],[0.7777777777777778,\"#fb9f3a\"],[0.8888888888888888,\"#fdca26\"],[1.0,\"#f0f921\"]],\"type\":\"heatmapgl\"}],\"histogram\":[{\"marker\":{\"pattern\":{\"fillmode\":\"overlay\",\"size\":10,\"solidity\":0.2}},\"type\":\"histogram\"}],\"histogram2d\":[{\"colorbar\":{\"outlinewidth\":0,\"ticks\":\"\"},\"colorscale\":[[0.0,\"#0d0887\"],[0.1111111111111111,\"#46039f\"],[0.2222222222222222,\"#7201a8\"],[0.3333333333333333,\"#9c179e\"],[0.4444444444444444,\"#bd3786\"],[0.5555555555555556,\"#d8576b\"],[0.6666666666666666,\"#ed7953\"],[0.7777777777777778,\"#fb9f3a\"],[0.8888888888888888,\"#fdca26\"],[1.0,\"#f0f921\"]],\"type\":\"histogram2d\"}],\"histogram2dcontour\":[{\"colorbar\":{\"outlinewidth\":0,\"ticks\":\"\"},\"colorscale\":[[0.0,\"#0d0887\"],[0.1111111111111111,\"#46039f\"],[0.2222222222222222,\"#7201a8\"],[0.3333333333333333,\"#9c179e\"],[0.4444444444444444,\"#bd3786\"],[0.5555555555555556,\"#d8576b\"],[0.6666666666666666,\"#ed7953\"],[0.7777777777777778,\"#fb9f3a\"],[0.8888888888888888,\"#fdca26\"],[1.0,\"#f0f921\"]],\"type\":\"histogram2dcontour\"}],\"mesh3d\":[{\"colorbar\":{\"outlinewidth\":0,\"ticks\":\"\"},\"type\":\"mesh3d\"}],\"parcoords\":[{\"line\":{\"colorbar\":{\"outlinewidth\":0,\"ticks\":\"\"}},\"type\":\"parcoords\"}],\"pie\":[{\"automargin\":true,\"type\":\"pie\"}],\"scatter\":[{\"marker\":{\"colorbar\":{\"outlinewidth\":0,\"ticks\":\"\"}},\"type\":\"scatter\"}],\"scatter3d\":[{\"line\":{\"colorbar\":{\"outlinewidth\":0,\"ticks\":\"\"}},\"marker\":{\"colorbar\":{\"outlinewidth\":0,\"ticks\":\"\"}},\"type\":\"scatter3d\"}],\"scattercarpet\":[{\"marker\":{\"colorbar\":{\"outlinewidth\":0,\"ticks\":\"\"}},\"type\":\"scattercarpet\"}],\"scattergeo\":[{\"marker\":{\"colorbar\":{\"outlinewidth\":0,\"ticks\":\"\"}},\"type\":\"scattergeo\"}],\"scattergl\":[{\"marker\":{\"colorbar\":{\"outlinewidth\":0,\"ticks\":\"\"}},\"type\":\"scattergl\"}],\"scattermapbox\":[{\"marker\":{\"colorbar\":{\"outlinewidth\":0,\"ticks\":\"\"}},\"type\":\"scattermapbox\"}],\"scatterpolar\":[{\"marker\":{\"colorbar\":{\"outlinewidth\":0,\"ticks\":\"\"}},\"type\":\"scatterpolar\"}],\"scatterpolargl\":[{\"marker\":{\"colorbar\":{\"outlinewidth\":0,\"ticks\":\"\"}},\"type\":\"scatterpolargl\"}],\"scatterternary\":[{\"marker\":{\"colorbar\":{\"outlinewidth\":0,\"ticks\":\"\"}},\"type\":\"scatterternary\"}],\"surface\":[{\"colorbar\":{\"outlinewidth\":0,\"ticks\":\"\"},\"colorscale\":[[0.0,\"#0d0887\"],[0.1111111111111111,\"#46039f\"],[0.2222222222222222,\"#7201a8\"],[0.3333333333333333,\"#9c179e\"],[0.4444444444444444,\"#bd3786\"],[0.5555555555555556,\"#d8576b\"],[0.6666666666666666,\"#ed7953\"],[0.7777777777777778,\"#fb9f3a\"],[0.8888888888888888,\"#fdca26\"],[1.0,\"#f0f921\"]],\"type\":\"surface\"}],\"table\":[{\"cells\":{\"fill\":{\"color\":\"#EBF0F8\"},\"line\":{\"color\":\"white\"}},\"header\":{\"fill\":{\"color\":\"#C8D4E3\"},\"line\":{\"color\":\"white\"}},\"type\":\"table\"}]},\"layout\":{\"annotationdefaults\":{\"arrowcolor\":\"#2a3f5f\",\"arrowhead\":0,\"arrowwidth\":1},\"autotypenumbers\":\"strict\",\"coloraxis\":{\"colorbar\":{\"outlinewidth\":0,\"ticks\":\"\"}},\"colorscale\":{\"diverging\":[[0,\"#8e0152\"],[0.1,\"#c51b7d\"],[0.2,\"#de77ae\"],[0.3,\"#f1b6da\"],[0.4,\"#fde0ef\"],[0.5,\"#f7f7f7\"],[0.6,\"#e6f5d0\"],[0.7,\"#b8e186\"],[0.8,\"#7fbc41\"],[0.9,\"#4d9221\"],[1,\"#276419\"]],\"sequential\":[[0.0,\"#0d0887\"],[0.1111111111111111,\"#46039f\"],[0.2222222222222222,\"#7201a8\"],[0.3333333333333333,\"#9c179e\"],[0.4444444444444444,\"#bd3786\"],[0.5555555555555556,\"#d8576b\"],[0.6666666666666666,\"#ed7953\"],[0.7777777777777778,\"#fb9f3a\"],[0.8888888888888888,\"#fdca26\"],[1.0,\"#f0f921\"]],\"sequentialminus\":[[0.0,\"#0d0887\"],[0.1111111111111111,\"#46039f\"],[0.2222222222222222,\"#7201a8\"],[0.3333333333333333,\"#9c179e\"],[0.4444444444444444,\"#bd3786\"],[0.5555555555555556,\"#d8576b\"],[0.6666666666666666,\"#ed7953\"],[0.7777777777777778,\"#fb9f3a\"],[0.8888888888888888,\"#fdca26\"],[1.0,\"#f0f921\"]]},\"colorway\":[\"#636efa\",\"#EF553B\",\"#00cc96\",\"#ab63fa\",\"#FFA15A\",\"#19d3f3\",\"#FF6692\",\"#B6E880\",\"#FF97FF\",\"#FECB52\"],\"font\":{\"color\":\"#2a3f5f\"},\"geo\":{\"bgcolor\":\"white\",\"lakecolor\":\"white\",\"landcolor\":\"#E5ECF6\",\"showlakes\":true,\"showland\":true,\"subunitcolor\":\"white\"},\"hoverlabel\":{\"align\":\"left\"},\"hovermode\":\"closest\",\"mapbox\":{\"style\":\"light\"},\"paper_bgcolor\":\"white\",\"plot_bgcolor\":\"#E5ECF6\",\"polar\":{\"angularaxis\":{\"gridcolor\":\"white\",\"linecolor\":\"white\",\"ticks\":\"\"},\"bgcolor\":\"#E5ECF6\",\"radialaxis\":{\"gridcolor\":\"white\",\"linecolor\":\"white\",\"ticks\":\"\"}},\"scene\":{\"xaxis\":{\"backgroundcolor\":\"#E5ECF6\",\"gridcolor\":\"white\",\"gridwidth\":2,\"linecolor\":\"white\",\"showbackground\":true,\"ticks\":\"\",\"zerolinecolor\":\"white\"},\"yaxis\":{\"backgroundcolor\":\"#E5ECF6\",\"gridcolor\":\"white\",\"gridwidth\":2,\"linecolor\":\"white\",\"showbackground\":true,\"ticks\":\"\",\"zerolinecolor\":\"white\"},\"zaxis\":{\"backgroundcolor\":\"#E5ECF6\",\"gridcolor\":\"white\",\"gridwidth\":2,\"linecolor\":\"white\",\"showbackground\":true,\"ticks\":\"\",\"zerolinecolor\":\"white\"}},\"shapedefaults\":{\"line\":{\"color\":\"#2a3f5f\"}},\"ternary\":{\"aaxis\":{\"gridcolor\":\"white\",\"linecolor\":\"white\",\"ticks\":\"\"},\"baxis\":{\"gridcolor\":\"white\",\"linecolor\":\"white\",\"ticks\":\"\"},\"bgcolor\":\"#E5ECF6\",\"caxis\":{\"gridcolor\":\"white\",\"linecolor\":\"white\",\"ticks\":\"\"}},\"title\":{\"x\":0.05},\"xaxis\":{\"automargin\":true,\"gridcolor\":\"white\",\"linecolor\":\"white\",\"ticks\":\"\",\"title\":{\"standoff\":15},\"zerolinecolor\":\"white\",\"zerolinewidth\":2},\"yaxis\":{\"automargin\":true,\"gridcolor\":\"white\",\"linecolor\":\"white\",\"ticks\":\"\",\"title\":{\"standoff\":15},\"zerolinecolor\":\"white\",\"zerolinewidth\":2}}},\"title\":{\"text\":\"Mean f1 score on testing depending on hyper parameter values <br>(Model: RandomForest Classifier, Dataset: All\"},\"xaxis\":{\"anchor\":\"y\",\"domain\":[0.0,1.0],\"title\":{\"text\":\"n_estimators\"}},\"yaxis\":{\"anchor\":\"x\",\"domain\":[0.0,1.0],\"title\":{\"text\":\"mean_f1\"}}},                        {\"responsive\": true}                    ).then(function(){\n                            \nvar gd = document.getElementById('e07f334f-f2cd-4926-9656-2dbd24d4869d');\nvar x = new MutationObserver(function (mutations, observer) {{\n        var display = window.getComputedStyle(gd).display;\n        if (!display || display === 'none') {{\n            console.log([gd, 'removed!']);\n            Plotly.purge(gd);\n            observer.disconnect();\n        }}\n}});\n\n// Listen for the removal of the full notebook cells\nvar notebookContainer = gd.closest('#notebook-container');\nif (notebookContainer) {{\n    x.observe(notebookContainer, {childList: true});\n}}\n\n// Listen for the clearing of the current output cell\nvar outputEl = gd.closest('.output');\nif (outputEl) {{\n    x.observe(outputEl, {childList: true});\n}}\n\n                        })                };                });            </script>        </div>"
     },
     "metadata": {},
     "output_type": "display_data"
    }
   ],
   "source": [
    "plot_params_incidence(model=model,params = \"n_estimators\", barchart=True)"
   ],
   "metadata": {
    "collapsed": false,
    "pycharm": {
     "name": "#%%\n"
    }
   }
  },
  {
   "cell_type": "code",
   "execution_count": 96,
   "outputs": [
    {
     "data": {
      "application/vnd.plotly.v1+json": {
       "config": {
        "plotlyServerURL": "https://plotly.com"
       },
       "data": [
        {
         "alignmentgroup": "True",
         "error_y": {
          "array": [
           0.03229185046242465,
           0.03161693225080016,
           0.0319009399615418,
           0.032597602099958496
          ]
         },
         "hovertemplate": "min_samples_split=%{x}<br>mean_f1=%{y}<extra></extra>",
         "legendgroup": "",
         "marker": {
          "color": "#636efa",
          "pattern": {
           "shape": ""
          }
         },
         "name": "",
         "offsetgroup": "",
         "orientation": "v",
         "showlegend": false,
         "textposition": "auto",
         "type": "bar",
         "x": [
          3,
          6,
          9,
          12
         ],
         "xaxis": "x",
         "y": [
          0.23390083989234467,
          0.2337336843965203,
          0.23549639850878945,
          0.2338042626394393
         ],
         "yaxis": "y"
        }
       ],
       "layout": {
        "barmode": "relative",
        "legend": {
         "tracegroupgap": 0
        },
        "template": {
         "data": {
          "bar": [
           {
            "error_x": {
             "color": "#2a3f5f"
            },
            "error_y": {
             "color": "#2a3f5f"
            },
            "marker": {
             "line": {
              "color": "#E5ECF6",
              "width": 0.5
             },
             "pattern": {
              "fillmode": "overlay",
              "size": 10,
              "solidity": 0.2
             }
            },
            "type": "bar"
           }
          ],
          "barpolar": [
           {
            "marker": {
             "line": {
              "color": "#E5ECF6",
              "width": 0.5
             },
             "pattern": {
              "fillmode": "overlay",
              "size": 10,
              "solidity": 0.2
             }
            },
            "type": "barpolar"
           }
          ],
          "carpet": [
           {
            "aaxis": {
             "endlinecolor": "#2a3f5f",
             "gridcolor": "white",
             "linecolor": "white",
             "minorgridcolor": "white",
             "startlinecolor": "#2a3f5f"
            },
            "baxis": {
             "endlinecolor": "#2a3f5f",
             "gridcolor": "white",
             "linecolor": "white",
             "minorgridcolor": "white",
             "startlinecolor": "#2a3f5f"
            },
            "type": "carpet"
           }
          ],
          "choropleth": [
           {
            "colorbar": {
             "outlinewidth": 0,
             "ticks": ""
            },
            "type": "choropleth"
           }
          ],
          "contour": [
           {
            "colorbar": {
             "outlinewidth": 0,
             "ticks": ""
            },
            "colorscale": [
             [
              0.0,
              "#0d0887"
             ],
             [
              0.1111111111111111,
              "#46039f"
             ],
             [
              0.2222222222222222,
              "#7201a8"
             ],
             [
              0.3333333333333333,
              "#9c179e"
             ],
             [
              0.4444444444444444,
              "#bd3786"
             ],
             [
              0.5555555555555556,
              "#d8576b"
             ],
             [
              0.6666666666666666,
              "#ed7953"
             ],
             [
              0.7777777777777778,
              "#fb9f3a"
             ],
             [
              0.8888888888888888,
              "#fdca26"
             ],
             [
              1.0,
              "#f0f921"
             ]
            ],
            "type": "contour"
           }
          ],
          "contourcarpet": [
           {
            "colorbar": {
             "outlinewidth": 0,
             "ticks": ""
            },
            "type": "contourcarpet"
           }
          ],
          "heatmap": [
           {
            "colorbar": {
             "outlinewidth": 0,
             "ticks": ""
            },
            "colorscale": [
             [
              0.0,
              "#0d0887"
             ],
             [
              0.1111111111111111,
              "#46039f"
             ],
             [
              0.2222222222222222,
              "#7201a8"
             ],
             [
              0.3333333333333333,
              "#9c179e"
             ],
             [
              0.4444444444444444,
              "#bd3786"
             ],
             [
              0.5555555555555556,
              "#d8576b"
             ],
             [
              0.6666666666666666,
              "#ed7953"
             ],
             [
              0.7777777777777778,
              "#fb9f3a"
             ],
             [
              0.8888888888888888,
              "#fdca26"
             ],
             [
              1.0,
              "#f0f921"
             ]
            ],
            "type": "heatmap"
           }
          ],
          "heatmapgl": [
           {
            "colorbar": {
             "outlinewidth": 0,
             "ticks": ""
            },
            "colorscale": [
             [
              0.0,
              "#0d0887"
             ],
             [
              0.1111111111111111,
              "#46039f"
             ],
             [
              0.2222222222222222,
              "#7201a8"
             ],
             [
              0.3333333333333333,
              "#9c179e"
             ],
             [
              0.4444444444444444,
              "#bd3786"
             ],
             [
              0.5555555555555556,
              "#d8576b"
             ],
             [
              0.6666666666666666,
              "#ed7953"
             ],
             [
              0.7777777777777778,
              "#fb9f3a"
             ],
             [
              0.8888888888888888,
              "#fdca26"
             ],
             [
              1.0,
              "#f0f921"
             ]
            ],
            "type": "heatmapgl"
           }
          ],
          "histogram": [
           {
            "marker": {
             "pattern": {
              "fillmode": "overlay",
              "size": 10,
              "solidity": 0.2
             }
            },
            "type": "histogram"
           }
          ],
          "histogram2d": [
           {
            "colorbar": {
             "outlinewidth": 0,
             "ticks": ""
            },
            "colorscale": [
             [
              0.0,
              "#0d0887"
             ],
             [
              0.1111111111111111,
              "#46039f"
             ],
             [
              0.2222222222222222,
              "#7201a8"
             ],
             [
              0.3333333333333333,
              "#9c179e"
             ],
             [
              0.4444444444444444,
              "#bd3786"
             ],
             [
              0.5555555555555556,
              "#d8576b"
             ],
             [
              0.6666666666666666,
              "#ed7953"
             ],
             [
              0.7777777777777778,
              "#fb9f3a"
             ],
             [
              0.8888888888888888,
              "#fdca26"
             ],
             [
              1.0,
              "#f0f921"
             ]
            ],
            "type": "histogram2d"
           }
          ],
          "histogram2dcontour": [
           {
            "colorbar": {
             "outlinewidth": 0,
             "ticks": ""
            },
            "colorscale": [
             [
              0.0,
              "#0d0887"
             ],
             [
              0.1111111111111111,
              "#46039f"
             ],
             [
              0.2222222222222222,
              "#7201a8"
             ],
             [
              0.3333333333333333,
              "#9c179e"
             ],
             [
              0.4444444444444444,
              "#bd3786"
             ],
             [
              0.5555555555555556,
              "#d8576b"
             ],
             [
              0.6666666666666666,
              "#ed7953"
             ],
             [
              0.7777777777777778,
              "#fb9f3a"
             ],
             [
              0.8888888888888888,
              "#fdca26"
             ],
             [
              1.0,
              "#f0f921"
             ]
            ],
            "type": "histogram2dcontour"
           }
          ],
          "mesh3d": [
           {
            "colorbar": {
             "outlinewidth": 0,
             "ticks": ""
            },
            "type": "mesh3d"
           }
          ],
          "parcoords": [
           {
            "line": {
             "colorbar": {
              "outlinewidth": 0,
              "ticks": ""
             }
            },
            "type": "parcoords"
           }
          ],
          "pie": [
           {
            "automargin": true,
            "type": "pie"
           }
          ],
          "scatter": [
           {
            "marker": {
             "colorbar": {
              "outlinewidth": 0,
              "ticks": ""
             }
            },
            "type": "scatter"
           }
          ],
          "scatter3d": [
           {
            "line": {
             "colorbar": {
              "outlinewidth": 0,
              "ticks": ""
             }
            },
            "marker": {
             "colorbar": {
              "outlinewidth": 0,
              "ticks": ""
             }
            },
            "type": "scatter3d"
           }
          ],
          "scattercarpet": [
           {
            "marker": {
             "colorbar": {
              "outlinewidth": 0,
              "ticks": ""
             }
            },
            "type": "scattercarpet"
           }
          ],
          "scattergeo": [
           {
            "marker": {
             "colorbar": {
              "outlinewidth": 0,
              "ticks": ""
             }
            },
            "type": "scattergeo"
           }
          ],
          "scattergl": [
           {
            "marker": {
             "colorbar": {
              "outlinewidth": 0,
              "ticks": ""
             }
            },
            "type": "scattergl"
           }
          ],
          "scattermapbox": [
           {
            "marker": {
             "colorbar": {
              "outlinewidth": 0,
              "ticks": ""
             }
            },
            "type": "scattermapbox"
           }
          ],
          "scatterpolar": [
           {
            "marker": {
             "colorbar": {
              "outlinewidth": 0,
              "ticks": ""
             }
            },
            "type": "scatterpolar"
           }
          ],
          "scatterpolargl": [
           {
            "marker": {
             "colorbar": {
              "outlinewidth": 0,
              "ticks": ""
             }
            },
            "type": "scatterpolargl"
           }
          ],
          "scatterternary": [
           {
            "marker": {
             "colorbar": {
              "outlinewidth": 0,
              "ticks": ""
             }
            },
            "type": "scatterternary"
           }
          ],
          "surface": [
           {
            "colorbar": {
             "outlinewidth": 0,
             "ticks": ""
            },
            "colorscale": [
             [
              0.0,
              "#0d0887"
             ],
             [
              0.1111111111111111,
              "#46039f"
             ],
             [
              0.2222222222222222,
              "#7201a8"
             ],
             [
              0.3333333333333333,
              "#9c179e"
             ],
             [
              0.4444444444444444,
              "#bd3786"
             ],
             [
              0.5555555555555556,
              "#d8576b"
             ],
             [
              0.6666666666666666,
              "#ed7953"
             ],
             [
              0.7777777777777778,
              "#fb9f3a"
             ],
             [
              0.8888888888888888,
              "#fdca26"
             ],
             [
              1.0,
              "#f0f921"
             ]
            ],
            "type": "surface"
           }
          ],
          "table": [
           {
            "cells": {
             "fill": {
              "color": "#EBF0F8"
             },
             "line": {
              "color": "white"
             }
            },
            "header": {
             "fill": {
              "color": "#C8D4E3"
             },
             "line": {
              "color": "white"
             }
            },
            "type": "table"
           }
          ]
         },
         "layout": {
          "annotationdefaults": {
           "arrowcolor": "#2a3f5f",
           "arrowhead": 0,
           "arrowwidth": 1
          },
          "autotypenumbers": "strict",
          "coloraxis": {
           "colorbar": {
            "outlinewidth": 0,
            "ticks": ""
           }
          },
          "colorscale": {
           "diverging": [
            [
             0,
             "#8e0152"
            ],
            [
             0.1,
             "#c51b7d"
            ],
            [
             0.2,
             "#de77ae"
            ],
            [
             0.3,
             "#f1b6da"
            ],
            [
             0.4,
             "#fde0ef"
            ],
            [
             0.5,
             "#f7f7f7"
            ],
            [
             0.6,
             "#e6f5d0"
            ],
            [
             0.7,
             "#b8e186"
            ],
            [
             0.8,
             "#7fbc41"
            ],
            [
             0.9,
             "#4d9221"
            ],
            [
             1,
             "#276419"
            ]
           ],
           "sequential": [
            [
             0.0,
             "#0d0887"
            ],
            [
             0.1111111111111111,
             "#46039f"
            ],
            [
             0.2222222222222222,
             "#7201a8"
            ],
            [
             0.3333333333333333,
             "#9c179e"
            ],
            [
             0.4444444444444444,
             "#bd3786"
            ],
            [
             0.5555555555555556,
             "#d8576b"
            ],
            [
             0.6666666666666666,
             "#ed7953"
            ],
            [
             0.7777777777777778,
             "#fb9f3a"
            ],
            [
             0.8888888888888888,
             "#fdca26"
            ],
            [
             1.0,
             "#f0f921"
            ]
           ],
           "sequentialminus": [
            [
             0.0,
             "#0d0887"
            ],
            [
             0.1111111111111111,
             "#46039f"
            ],
            [
             0.2222222222222222,
             "#7201a8"
            ],
            [
             0.3333333333333333,
             "#9c179e"
            ],
            [
             0.4444444444444444,
             "#bd3786"
            ],
            [
             0.5555555555555556,
             "#d8576b"
            ],
            [
             0.6666666666666666,
             "#ed7953"
            ],
            [
             0.7777777777777778,
             "#fb9f3a"
            ],
            [
             0.8888888888888888,
             "#fdca26"
            ],
            [
             1.0,
             "#f0f921"
            ]
           ]
          },
          "colorway": [
           "#636efa",
           "#EF553B",
           "#00cc96",
           "#ab63fa",
           "#FFA15A",
           "#19d3f3",
           "#FF6692",
           "#B6E880",
           "#FF97FF",
           "#FECB52"
          ],
          "font": {
           "color": "#2a3f5f"
          },
          "geo": {
           "bgcolor": "white",
           "lakecolor": "white",
           "landcolor": "#E5ECF6",
           "showlakes": true,
           "showland": true,
           "subunitcolor": "white"
          },
          "hoverlabel": {
           "align": "left"
          },
          "hovermode": "closest",
          "mapbox": {
           "style": "light"
          },
          "paper_bgcolor": "white",
          "plot_bgcolor": "#E5ECF6",
          "polar": {
           "angularaxis": {
            "gridcolor": "white",
            "linecolor": "white",
            "ticks": ""
           },
           "bgcolor": "#E5ECF6",
           "radialaxis": {
            "gridcolor": "white",
            "linecolor": "white",
            "ticks": ""
           }
          },
          "scene": {
           "xaxis": {
            "backgroundcolor": "#E5ECF6",
            "gridcolor": "white",
            "gridwidth": 2,
            "linecolor": "white",
            "showbackground": true,
            "ticks": "",
            "zerolinecolor": "white"
           },
           "yaxis": {
            "backgroundcolor": "#E5ECF6",
            "gridcolor": "white",
            "gridwidth": 2,
            "linecolor": "white",
            "showbackground": true,
            "ticks": "",
            "zerolinecolor": "white"
           },
           "zaxis": {
            "backgroundcolor": "#E5ECF6",
            "gridcolor": "white",
            "gridwidth": 2,
            "linecolor": "white",
            "showbackground": true,
            "ticks": "",
            "zerolinecolor": "white"
           }
          },
          "shapedefaults": {
           "line": {
            "color": "#2a3f5f"
           }
          },
          "ternary": {
           "aaxis": {
            "gridcolor": "white",
            "linecolor": "white",
            "ticks": ""
           },
           "baxis": {
            "gridcolor": "white",
            "linecolor": "white",
            "ticks": ""
           },
           "bgcolor": "#E5ECF6",
           "caxis": {
            "gridcolor": "white",
            "linecolor": "white",
            "ticks": ""
           }
          },
          "title": {
           "x": 0.05
          },
          "xaxis": {
           "automargin": true,
           "gridcolor": "white",
           "linecolor": "white",
           "ticks": "",
           "title": {
            "standoff": 15
           },
           "zerolinecolor": "white",
           "zerolinewidth": 2
          },
          "yaxis": {
           "automargin": true,
           "gridcolor": "white",
           "linecolor": "white",
           "ticks": "",
           "title": {
            "standoff": 15
           },
           "zerolinecolor": "white",
           "zerolinewidth": 2
          }
         }
        },
        "title": {
         "text": "Mean f1 score on testing depending on hyper parameter values <br>(Model: RandomForest Classifier, Dataset: All"
        },
        "xaxis": {
         "anchor": "y",
         "domain": [
          0.0,
          1.0
         ],
         "title": {
          "text": "min_samples_split"
         }
        },
        "yaxis": {
         "anchor": "x",
         "domain": [
          0.0,
          1.0
         ],
         "title": {
          "text": "mean_f1"
         }
        }
       }
      },
      "text/html": "<div>                            <div id=\"e4cf7ce5-b5c3-4b34-a8ce-8bc610123b28\" class=\"plotly-graph-div\" style=\"height:525px; width:100%;\"></div>            <script type=\"text/javascript\">                require([\"plotly\"], function(Plotly) {                    window.PLOTLYENV=window.PLOTLYENV || {};                                    if (document.getElementById(\"e4cf7ce5-b5c3-4b34-a8ce-8bc610123b28\")) {                    Plotly.newPlot(                        \"e4cf7ce5-b5c3-4b34-a8ce-8bc610123b28\",                        [{\"alignmentgroup\":\"True\",\"error_y\":{\"array\":[0.03229185046242465,0.03161693225080016,0.0319009399615418,0.032597602099958496]},\"hovertemplate\":\"min_samples_split=%{x}<br>mean_f1=%{y}<extra></extra>\",\"legendgroup\":\"\",\"marker\":{\"color\":\"#636efa\",\"pattern\":{\"shape\":\"\"}},\"name\":\"\",\"offsetgroup\":\"\",\"orientation\":\"v\",\"showlegend\":false,\"textposition\":\"auto\",\"type\":\"bar\",\"x\":[3,6,9,12],\"xaxis\":\"x\",\"y\":[0.23390083989234467,0.2337336843965203,0.23549639850878945,0.2338042626394393],\"yaxis\":\"y\"}],                        {\"barmode\":\"relative\",\"legend\":{\"tracegroupgap\":0},\"template\":{\"data\":{\"bar\":[{\"error_x\":{\"color\":\"#2a3f5f\"},\"error_y\":{\"color\":\"#2a3f5f\"},\"marker\":{\"line\":{\"color\":\"#E5ECF6\",\"width\":0.5},\"pattern\":{\"fillmode\":\"overlay\",\"size\":10,\"solidity\":0.2}},\"type\":\"bar\"}],\"barpolar\":[{\"marker\":{\"line\":{\"color\":\"#E5ECF6\",\"width\":0.5},\"pattern\":{\"fillmode\":\"overlay\",\"size\":10,\"solidity\":0.2}},\"type\":\"barpolar\"}],\"carpet\":[{\"aaxis\":{\"endlinecolor\":\"#2a3f5f\",\"gridcolor\":\"white\",\"linecolor\":\"white\",\"minorgridcolor\":\"white\",\"startlinecolor\":\"#2a3f5f\"},\"baxis\":{\"endlinecolor\":\"#2a3f5f\",\"gridcolor\":\"white\",\"linecolor\":\"white\",\"minorgridcolor\":\"white\",\"startlinecolor\":\"#2a3f5f\"},\"type\":\"carpet\"}],\"choropleth\":[{\"colorbar\":{\"outlinewidth\":0,\"ticks\":\"\"},\"type\":\"choropleth\"}],\"contour\":[{\"colorbar\":{\"outlinewidth\":0,\"ticks\":\"\"},\"colorscale\":[[0.0,\"#0d0887\"],[0.1111111111111111,\"#46039f\"],[0.2222222222222222,\"#7201a8\"],[0.3333333333333333,\"#9c179e\"],[0.4444444444444444,\"#bd3786\"],[0.5555555555555556,\"#d8576b\"],[0.6666666666666666,\"#ed7953\"],[0.7777777777777778,\"#fb9f3a\"],[0.8888888888888888,\"#fdca26\"],[1.0,\"#f0f921\"]],\"type\":\"contour\"}],\"contourcarpet\":[{\"colorbar\":{\"outlinewidth\":0,\"ticks\":\"\"},\"type\":\"contourcarpet\"}],\"heatmap\":[{\"colorbar\":{\"outlinewidth\":0,\"ticks\":\"\"},\"colorscale\":[[0.0,\"#0d0887\"],[0.1111111111111111,\"#46039f\"],[0.2222222222222222,\"#7201a8\"],[0.3333333333333333,\"#9c179e\"],[0.4444444444444444,\"#bd3786\"],[0.5555555555555556,\"#d8576b\"],[0.6666666666666666,\"#ed7953\"],[0.7777777777777778,\"#fb9f3a\"],[0.8888888888888888,\"#fdca26\"],[1.0,\"#f0f921\"]],\"type\":\"heatmap\"}],\"heatmapgl\":[{\"colorbar\":{\"outlinewidth\":0,\"ticks\":\"\"},\"colorscale\":[[0.0,\"#0d0887\"],[0.1111111111111111,\"#46039f\"],[0.2222222222222222,\"#7201a8\"],[0.3333333333333333,\"#9c179e\"],[0.4444444444444444,\"#bd3786\"],[0.5555555555555556,\"#d8576b\"],[0.6666666666666666,\"#ed7953\"],[0.7777777777777778,\"#fb9f3a\"],[0.8888888888888888,\"#fdca26\"],[1.0,\"#f0f921\"]],\"type\":\"heatmapgl\"}],\"histogram\":[{\"marker\":{\"pattern\":{\"fillmode\":\"overlay\",\"size\":10,\"solidity\":0.2}},\"type\":\"histogram\"}],\"histogram2d\":[{\"colorbar\":{\"outlinewidth\":0,\"ticks\":\"\"},\"colorscale\":[[0.0,\"#0d0887\"],[0.1111111111111111,\"#46039f\"],[0.2222222222222222,\"#7201a8\"],[0.3333333333333333,\"#9c179e\"],[0.4444444444444444,\"#bd3786\"],[0.5555555555555556,\"#d8576b\"],[0.6666666666666666,\"#ed7953\"],[0.7777777777777778,\"#fb9f3a\"],[0.8888888888888888,\"#fdca26\"],[1.0,\"#f0f921\"]],\"type\":\"histogram2d\"}],\"histogram2dcontour\":[{\"colorbar\":{\"outlinewidth\":0,\"ticks\":\"\"},\"colorscale\":[[0.0,\"#0d0887\"],[0.1111111111111111,\"#46039f\"],[0.2222222222222222,\"#7201a8\"],[0.3333333333333333,\"#9c179e\"],[0.4444444444444444,\"#bd3786\"],[0.5555555555555556,\"#d8576b\"],[0.6666666666666666,\"#ed7953\"],[0.7777777777777778,\"#fb9f3a\"],[0.8888888888888888,\"#fdca26\"],[1.0,\"#f0f921\"]],\"type\":\"histogram2dcontour\"}],\"mesh3d\":[{\"colorbar\":{\"outlinewidth\":0,\"ticks\":\"\"},\"type\":\"mesh3d\"}],\"parcoords\":[{\"line\":{\"colorbar\":{\"outlinewidth\":0,\"ticks\":\"\"}},\"type\":\"parcoords\"}],\"pie\":[{\"automargin\":true,\"type\":\"pie\"}],\"scatter\":[{\"marker\":{\"colorbar\":{\"outlinewidth\":0,\"ticks\":\"\"}},\"type\":\"scatter\"}],\"scatter3d\":[{\"line\":{\"colorbar\":{\"outlinewidth\":0,\"ticks\":\"\"}},\"marker\":{\"colorbar\":{\"outlinewidth\":0,\"ticks\":\"\"}},\"type\":\"scatter3d\"}],\"scattercarpet\":[{\"marker\":{\"colorbar\":{\"outlinewidth\":0,\"ticks\":\"\"}},\"type\":\"scattercarpet\"}],\"scattergeo\":[{\"marker\":{\"colorbar\":{\"outlinewidth\":0,\"ticks\":\"\"}},\"type\":\"scattergeo\"}],\"scattergl\":[{\"marker\":{\"colorbar\":{\"outlinewidth\":0,\"ticks\":\"\"}},\"type\":\"scattergl\"}],\"scattermapbox\":[{\"marker\":{\"colorbar\":{\"outlinewidth\":0,\"ticks\":\"\"}},\"type\":\"scattermapbox\"}],\"scatterpolar\":[{\"marker\":{\"colorbar\":{\"outlinewidth\":0,\"ticks\":\"\"}},\"type\":\"scatterpolar\"}],\"scatterpolargl\":[{\"marker\":{\"colorbar\":{\"outlinewidth\":0,\"ticks\":\"\"}},\"type\":\"scatterpolargl\"}],\"scatterternary\":[{\"marker\":{\"colorbar\":{\"outlinewidth\":0,\"ticks\":\"\"}},\"type\":\"scatterternary\"}],\"surface\":[{\"colorbar\":{\"outlinewidth\":0,\"ticks\":\"\"},\"colorscale\":[[0.0,\"#0d0887\"],[0.1111111111111111,\"#46039f\"],[0.2222222222222222,\"#7201a8\"],[0.3333333333333333,\"#9c179e\"],[0.4444444444444444,\"#bd3786\"],[0.5555555555555556,\"#d8576b\"],[0.6666666666666666,\"#ed7953\"],[0.7777777777777778,\"#fb9f3a\"],[0.8888888888888888,\"#fdca26\"],[1.0,\"#f0f921\"]],\"type\":\"surface\"}],\"table\":[{\"cells\":{\"fill\":{\"color\":\"#EBF0F8\"},\"line\":{\"color\":\"white\"}},\"header\":{\"fill\":{\"color\":\"#C8D4E3\"},\"line\":{\"color\":\"white\"}},\"type\":\"table\"}]},\"layout\":{\"annotationdefaults\":{\"arrowcolor\":\"#2a3f5f\",\"arrowhead\":0,\"arrowwidth\":1},\"autotypenumbers\":\"strict\",\"coloraxis\":{\"colorbar\":{\"outlinewidth\":0,\"ticks\":\"\"}},\"colorscale\":{\"diverging\":[[0,\"#8e0152\"],[0.1,\"#c51b7d\"],[0.2,\"#de77ae\"],[0.3,\"#f1b6da\"],[0.4,\"#fde0ef\"],[0.5,\"#f7f7f7\"],[0.6,\"#e6f5d0\"],[0.7,\"#b8e186\"],[0.8,\"#7fbc41\"],[0.9,\"#4d9221\"],[1,\"#276419\"]],\"sequential\":[[0.0,\"#0d0887\"],[0.1111111111111111,\"#46039f\"],[0.2222222222222222,\"#7201a8\"],[0.3333333333333333,\"#9c179e\"],[0.4444444444444444,\"#bd3786\"],[0.5555555555555556,\"#d8576b\"],[0.6666666666666666,\"#ed7953\"],[0.7777777777777778,\"#fb9f3a\"],[0.8888888888888888,\"#fdca26\"],[1.0,\"#f0f921\"]],\"sequentialminus\":[[0.0,\"#0d0887\"],[0.1111111111111111,\"#46039f\"],[0.2222222222222222,\"#7201a8\"],[0.3333333333333333,\"#9c179e\"],[0.4444444444444444,\"#bd3786\"],[0.5555555555555556,\"#d8576b\"],[0.6666666666666666,\"#ed7953\"],[0.7777777777777778,\"#fb9f3a\"],[0.8888888888888888,\"#fdca26\"],[1.0,\"#f0f921\"]]},\"colorway\":[\"#636efa\",\"#EF553B\",\"#00cc96\",\"#ab63fa\",\"#FFA15A\",\"#19d3f3\",\"#FF6692\",\"#B6E880\",\"#FF97FF\",\"#FECB52\"],\"font\":{\"color\":\"#2a3f5f\"},\"geo\":{\"bgcolor\":\"white\",\"lakecolor\":\"white\",\"landcolor\":\"#E5ECF6\",\"showlakes\":true,\"showland\":true,\"subunitcolor\":\"white\"},\"hoverlabel\":{\"align\":\"left\"},\"hovermode\":\"closest\",\"mapbox\":{\"style\":\"light\"},\"paper_bgcolor\":\"white\",\"plot_bgcolor\":\"#E5ECF6\",\"polar\":{\"angularaxis\":{\"gridcolor\":\"white\",\"linecolor\":\"white\",\"ticks\":\"\"},\"bgcolor\":\"#E5ECF6\",\"radialaxis\":{\"gridcolor\":\"white\",\"linecolor\":\"white\",\"ticks\":\"\"}},\"scene\":{\"xaxis\":{\"backgroundcolor\":\"#E5ECF6\",\"gridcolor\":\"white\",\"gridwidth\":2,\"linecolor\":\"white\",\"showbackground\":true,\"ticks\":\"\",\"zerolinecolor\":\"white\"},\"yaxis\":{\"backgroundcolor\":\"#E5ECF6\",\"gridcolor\":\"white\",\"gridwidth\":2,\"linecolor\":\"white\",\"showbackground\":true,\"ticks\":\"\",\"zerolinecolor\":\"white\"},\"zaxis\":{\"backgroundcolor\":\"#E5ECF6\",\"gridcolor\":\"white\",\"gridwidth\":2,\"linecolor\":\"white\",\"showbackground\":true,\"ticks\":\"\",\"zerolinecolor\":\"white\"}},\"shapedefaults\":{\"line\":{\"color\":\"#2a3f5f\"}},\"ternary\":{\"aaxis\":{\"gridcolor\":\"white\",\"linecolor\":\"white\",\"ticks\":\"\"},\"baxis\":{\"gridcolor\":\"white\",\"linecolor\":\"white\",\"ticks\":\"\"},\"bgcolor\":\"#E5ECF6\",\"caxis\":{\"gridcolor\":\"white\",\"linecolor\":\"white\",\"ticks\":\"\"}},\"title\":{\"x\":0.05},\"xaxis\":{\"automargin\":true,\"gridcolor\":\"white\",\"linecolor\":\"white\",\"ticks\":\"\",\"title\":{\"standoff\":15},\"zerolinecolor\":\"white\",\"zerolinewidth\":2},\"yaxis\":{\"automargin\":true,\"gridcolor\":\"white\",\"linecolor\":\"white\",\"ticks\":\"\",\"title\":{\"standoff\":15},\"zerolinecolor\":\"white\",\"zerolinewidth\":2}}},\"title\":{\"text\":\"Mean f1 score on testing depending on hyper parameter values <br>(Model: RandomForest Classifier, Dataset: All\"},\"xaxis\":{\"anchor\":\"y\",\"domain\":[0.0,1.0],\"title\":{\"text\":\"min_samples_split\"}},\"yaxis\":{\"anchor\":\"x\",\"domain\":[0.0,1.0],\"title\":{\"text\":\"mean_f1\"}}},                        {\"responsive\": true}                    ).then(function(){\n                            \nvar gd = document.getElementById('e4cf7ce5-b5c3-4b34-a8ce-8bc610123b28');\nvar x = new MutationObserver(function (mutations, observer) {{\n        var display = window.getComputedStyle(gd).display;\n        if (!display || display === 'none') {{\n            console.log([gd, 'removed!']);\n            Plotly.purge(gd);\n            observer.disconnect();\n        }}\n}});\n\n// Listen for the removal of the full notebook cells\nvar notebookContainer = gd.closest('#notebook-container');\nif (notebookContainer) {{\n    x.observe(notebookContainer, {childList: true});\n}}\n\n// Listen for the clearing of the current output cell\nvar outputEl = gd.closest('.output');\nif (outputEl) {{\n    x.observe(outputEl, {childList: true});\n}}\n\n                        })                };                });            </script>        </div>"
     },
     "metadata": {},
     "output_type": "display_data"
    }
   ],
   "source": [
    "plot_params_incidence(model=model,params = \"min_samples_split\", barchart=True)"
   ],
   "metadata": {
    "collapsed": false,
    "pycharm": {
     "name": "#%%\n"
    }
   }
  },
  {
   "cell_type": "code",
   "execution_count": 97,
   "outputs": [
    {
     "data": {
      "application/vnd.plotly.v1+json": {
       "config": {
        "plotlyServerURL": "https://plotly.com"
       },
       "data": [
        {
         "alignmentgroup": "True",
         "error_y": {
          "array": [
           0.03218464870658465,
           0.032019013680777884
          ]
         },
         "hovertemplate": "max_features=%{x}<br>mean_f1=%{y}<extra></extra>",
         "legendgroup": "",
         "marker": {
          "color": "#636efa",
          "pattern": {
           "shape": ""
          }
         },
         "name": "",
         "offsetgroup": "",
         "orientation": "v",
         "showlegend": false,
         "textposition": "auto",
         "type": "bar",
         "x": [
          "log2",
          "sqrt"
         ],
         "xaxis": "x",
         "y": [
          0.2339686429363644,
          0.23449894978218253
         ],
         "yaxis": "y"
        }
       ],
       "layout": {
        "barmode": "relative",
        "legend": {
         "tracegroupgap": 0
        },
        "template": {
         "data": {
          "bar": [
           {
            "error_x": {
             "color": "#2a3f5f"
            },
            "error_y": {
             "color": "#2a3f5f"
            },
            "marker": {
             "line": {
              "color": "#E5ECF6",
              "width": 0.5
             },
             "pattern": {
              "fillmode": "overlay",
              "size": 10,
              "solidity": 0.2
             }
            },
            "type": "bar"
           }
          ],
          "barpolar": [
           {
            "marker": {
             "line": {
              "color": "#E5ECF6",
              "width": 0.5
             },
             "pattern": {
              "fillmode": "overlay",
              "size": 10,
              "solidity": 0.2
             }
            },
            "type": "barpolar"
           }
          ],
          "carpet": [
           {
            "aaxis": {
             "endlinecolor": "#2a3f5f",
             "gridcolor": "white",
             "linecolor": "white",
             "minorgridcolor": "white",
             "startlinecolor": "#2a3f5f"
            },
            "baxis": {
             "endlinecolor": "#2a3f5f",
             "gridcolor": "white",
             "linecolor": "white",
             "minorgridcolor": "white",
             "startlinecolor": "#2a3f5f"
            },
            "type": "carpet"
           }
          ],
          "choropleth": [
           {
            "colorbar": {
             "outlinewidth": 0,
             "ticks": ""
            },
            "type": "choropleth"
           }
          ],
          "contour": [
           {
            "colorbar": {
             "outlinewidth": 0,
             "ticks": ""
            },
            "colorscale": [
             [
              0.0,
              "#0d0887"
             ],
             [
              0.1111111111111111,
              "#46039f"
             ],
             [
              0.2222222222222222,
              "#7201a8"
             ],
             [
              0.3333333333333333,
              "#9c179e"
             ],
             [
              0.4444444444444444,
              "#bd3786"
             ],
             [
              0.5555555555555556,
              "#d8576b"
             ],
             [
              0.6666666666666666,
              "#ed7953"
             ],
             [
              0.7777777777777778,
              "#fb9f3a"
             ],
             [
              0.8888888888888888,
              "#fdca26"
             ],
             [
              1.0,
              "#f0f921"
             ]
            ],
            "type": "contour"
           }
          ],
          "contourcarpet": [
           {
            "colorbar": {
             "outlinewidth": 0,
             "ticks": ""
            },
            "type": "contourcarpet"
           }
          ],
          "heatmap": [
           {
            "colorbar": {
             "outlinewidth": 0,
             "ticks": ""
            },
            "colorscale": [
             [
              0.0,
              "#0d0887"
             ],
             [
              0.1111111111111111,
              "#46039f"
             ],
             [
              0.2222222222222222,
              "#7201a8"
             ],
             [
              0.3333333333333333,
              "#9c179e"
             ],
             [
              0.4444444444444444,
              "#bd3786"
             ],
             [
              0.5555555555555556,
              "#d8576b"
             ],
             [
              0.6666666666666666,
              "#ed7953"
             ],
             [
              0.7777777777777778,
              "#fb9f3a"
             ],
             [
              0.8888888888888888,
              "#fdca26"
             ],
             [
              1.0,
              "#f0f921"
             ]
            ],
            "type": "heatmap"
           }
          ],
          "heatmapgl": [
           {
            "colorbar": {
             "outlinewidth": 0,
             "ticks": ""
            },
            "colorscale": [
             [
              0.0,
              "#0d0887"
             ],
             [
              0.1111111111111111,
              "#46039f"
             ],
             [
              0.2222222222222222,
              "#7201a8"
             ],
             [
              0.3333333333333333,
              "#9c179e"
             ],
             [
              0.4444444444444444,
              "#bd3786"
             ],
             [
              0.5555555555555556,
              "#d8576b"
             ],
             [
              0.6666666666666666,
              "#ed7953"
             ],
             [
              0.7777777777777778,
              "#fb9f3a"
             ],
             [
              0.8888888888888888,
              "#fdca26"
             ],
             [
              1.0,
              "#f0f921"
             ]
            ],
            "type": "heatmapgl"
           }
          ],
          "histogram": [
           {
            "marker": {
             "pattern": {
              "fillmode": "overlay",
              "size": 10,
              "solidity": 0.2
             }
            },
            "type": "histogram"
           }
          ],
          "histogram2d": [
           {
            "colorbar": {
             "outlinewidth": 0,
             "ticks": ""
            },
            "colorscale": [
             [
              0.0,
              "#0d0887"
             ],
             [
              0.1111111111111111,
              "#46039f"
             ],
             [
              0.2222222222222222,
              "#7201a8"
             ],
             [
              0.3333333333333333,
              "#9c179e"
             ],
             [
              0.4444444444444444,
              "#bd3786"
             ],
             [
              0.5555555555555556,
              "#d8576b"
             ],
             [
              0.6666666666666666,
              "#ed7953"
             ],
             [
              0.7777777777777778,
              "#fb9f3a"
             ],
             [
              0.8888888888888888,
              "#fdca26"
             ],
             [
              1.0,
              "#f0f921"
             ]
            ],
            "type": "histogram2d"
           }
          ],
          "histogram2dcontour": [
           {
            "colorbar": {
             "outlinewidth": 0,
             "ticks": ""
            },
            "colorscale": [
             [
              0.0,
              "#0d0887"
             ],
             [
              0.1111111111111111,
              "#46039f"
             ],
             [
              0.2222222222222222,
              "#7201a8"
             ],
             [
              0.3333333333333333,
              "#9c179e"
             ],
             [
              0.4444444444444444,
              "#bd3786"
             ],
             [
              0.5555555555555556,
              "#d8576b"
             ],
             [
              0.6666666666666666,
              "#ed7953"
             ],
             [
              0.7777777777777778,
              "#fb9f3a"
             ],
             [
              0.8888888888888888,
              "#fdca26"
             ],
             [
              1.0,
              "#f0f921"
             ]
            ],
            "type": "histogram2dcontour"
           }
          ],
          "mesh3d": [
           {
            "colorbar": {
             "outlinewidth": 0,
             "ticks": ""
            },
            "type": "mesh3d"
           }
          ],
          "parcoords": [
           {
            "line": {
             "colorbar": {
              "outlinewidth": 0,
              "ticks": ""
             }
            },
            "type": "parcoords"
           }
          ],
          "pie": [
           {
            "automargin": true,
            "type": "pie"
           }
          ],
          "scatter": [
           {
            "marker": {
             "colorbar": {
              "outlinewidth": 0,
              "ticks": ""
             }
            },
            "type": "scatter"
           }
          ],
          "scatter3d": [
           {
            "line": {
             "colorbar": {
              "outlinewidth": 0,
              "ticks": ""
             }
            },
            "marker": {
             "colorbar": {
              "outlinewidth": 0,
              "ticks": ""
             }
            },
            "type": "scatter3d"
           }
          ],
          "scattercarpet": [
           {
            "marker": {
             "colorbar": {
              "outlinewidth": 0,
              "ticks": ""
             }
            },
            "type": "scattercarpet"
           }
          ],
          "scattergeo": [
           {
            "marker": {
             "colorbar": {
              "outlinewidth": 0,
              "ticks": ""
             }
            },
            "type": "scattergeo"
           }
          ],
          "scattergl": [
           {
            "marker": {
             "colorbar": {
              "outlinewidth": 0,
              "ticks": ""
             }
            },
            "type": "scattergl"
           }
          ],
          "scattermapbox": [
           {
            "marker": {
             "colorbar": {
              "outlinewidth": 0,
              "ticks": ""
             }
            },
            "type": "scattermapbox"
           }
          ],
          "scatterpolar": [
           {
            "marker": {
             "colorbar": {
              "outlinewidth": 0,
              "ticks": ""
             }
            },
            "type": "scatterpolar"
           }
          ],
          "scatterpolargl": [
           {
            "marker": {
             "colorbar": {
              "outlinewidth": 0,
              "ticks": ""
             }
            },
            "type": "scatterpolargl"
           }
          ],
          "scatterternary": [
           {
            "marker": {
             "colorbar": {
              "outlinewidth": 0,
              "ticks": ""
             }
            },
            "type": "scatterternary"
           }
          ],
          "surface": [
           {
            "colorbar": {
             "outlinewidth": 0,
             "ticks": ""
            },
            "colorscale": [
             [
              0.0,
              "#0d0887"
             ],
             [
              0.1111111111111111,
              "#46039f"
             ],
             [
              0.2222222222222222,
              "#7201a8"
             ],
             [
              0.3333333333333333,
              "#9c179e"
             ],
             [
              0.4444444444444444,
              "#bd3786"
             ],
             [
              0.5555555555555556,
              "#d8576b"
             ],
             [
              0.6666666666666666,
              "#ed7953"
             ],
             [
              0.7777777777777778,
              "#fb9f3a"
             ],
             [
              0.8888888888888888,
              "#fdca26"
             ],
             [
              1.0,
              "#f0f921"
             ]
            ],
            "type": "surface"
           }
          ],
          "table": [
           {
            "cells": {
             "fill": {
              "color": "#EBF0F8"
             },
             "line": {
              "color": "white"
             }
            },
            "header": {
             "fill": {
              "color": "#C8D4E3"
             },
             "line": {
              "color": "white"
             }
            },
            "type": "table"
           }
          ]
         },
         "layout": {
          "annotationdefaults": {
           "arrowcolor": "#2a3f5f",
           "arrowhead": 0,
           "arrowwidth": 1
          },
          "autotypenumbers": "strict",
          "coloraxis": {
           "colorbar": {
            "outlinewidth": 0,
            "ticks": ""
           }
          },
          "colorscale": {
           "diverging": [
            [
             0,
             "#8e0152"
            ],
            [
             0.1,
             "#c51b7d"
            ],
            [
             0.2,
             "#de77ae"
            ],
            [
             0.3,
             "#f1b6da"
            ],
            [
             0.4,
             "#fde0ef"
            ],
            [
             0.5,
             "#f7f7f7"
            ],
            [
             0.6,
             "#e6f5d0"
            ],
            [
             0.7,
             "#b8e186"
            ],
            [
             0.8,
             "#7fbc41"
            ],
            [
             0.9,
             "#4d9221"
            ],
            [
             1,
             "#276419"
            ]
           ],
           "sequential": [
            [
             0.0,
             "#0d0887"
            ],
            [
             0.1111111111111111,
             "#46039f"
            ],
            [
             0.2222222222222222,
             "#7201a8"
            ],
            [
             0.3333333333333333,
             "#9c179e"
            ],
            [
             0.4444444444444444,
             "#bd3786"
            ],
            [
             0.5555555555555556,
             "#d8576b"
            ],
            [
             0.6666666666666666,
             "#ed7953"
            ],
            [
             0.7777777777777778,
             "#fb9f3a"
            ],
            [
             0.8888888888888888,
             "#fdca26"
            ],
            [
             1.0,
             "#f0f921"
            ]
           ],
           "sequentialminus": [
            [
             0.0,
             "#0d0887"
            ],
            [
             0.1111111111111111,
             "#46039f"
            ],
            [
             0.2222222222222222,
             "#7201a8"
            ],
            [
             0.3333333333333333,
             "#9c179e"
            ],
            [
             0.4444444444444444,
             "#bd3786"
            ],
            [
             0.5555555555555556,
             "#d8576b"
            ],
            [
             0.6666666666666666,
             "#ed7953"
            ],
            [
             0.7777777777777778,
             "#fb9f3a"
            ],
            [
             0.8888888888888888,
             "#fdca26"
            ],
            [
             1.0,
             "#f0f921"
            ]
           ]
          },
          "colorway": [
           "#636efa",
           "#EF553B",
           "#00cc96",
           "#ab63fa",
           "#FFA15A",
           "#19d3f3",
           "#FF6692",
           "#B6E880",
           "#FF97FF",
           "#FECB52"
          ],
          "font": {
           "color": "#2a3f5f"
          },
          "geo": {
           "bgcolor": "white",
           "lakecolor": "white",
           "landcolor": "#E5ECF6",
           "showlakes": true,
           "showland": true,
           "subunitcolor": "white"
          },
          "hoverlabel": {
           "align": "left"
          },
          "hovermode": "closest",
          "mapbox": {
           "style": "light"
          },
          "paper_bgcolor": "white",
          "plot_bgcolor": "#E5ECF6",
          "polar": {
           "angularaxis": {
            "gridcolor": "white",
            "linecolor": "white",
            "ticks": ""
           },
           "bgcolor": "#E5ECF6",
           "radialaxis": {
            "gridcolor": "white",
            "linecolor": "white",
            "ticks": ""
           }
          },
          "scene": {
           "xaxis": {
            "backgroundcolor": "#E5ECF6",
            "gridcolor": "white",
            "gridwidth": 2,
            "linecolor": "white",
            "showbackground": true,
            "ticks": "",
            "zerolinecolor": "white"
           },
           "yaxis": {
            "backgroundcolor": "#E5ECF6",
            "gridcolor": "white",
            "gridwidth": 2,
            "linecolor": "white",
            "showbackground": true,
            "ticks": "",
            "zerolinecolor": "white"
           },
           "zaxis": {
            "backgroundcolor": "#E5ECF6",
            "gridcolor": "white",
            "gridwidth": 2,
            "linecolor": "white",
            "showbackground": true,
            "ticks": "",
            "zerolinecolor": "white"
           }
          },
          "shapedefaults": {
           "line": {
            "color": "#2a3f5f"
           }
          },
          "ternary": {
           "aaxis": {
            "gridcolor": "white",
            "linecolor": "white",
            "ticks": ""
           },
           "baxis": {
            "gridcolor": "white",
            "linecolor": "white",
            "ticks": ""
           },
           "bgcolor": "#E5ECF6",
           "caxis": {
            "gridcolor": "white",
            "linecolor": "white",
            "ticks": ""
           }
          },
          "title": {
           "x": 0.05
          },
          "xaxis": {
           "automargin": true,
           "gridcolor": "white",
           "linecolor": "white",
           "ticks": "",
           "title": {
            "standoff": 15
           },
           "zerolinecolor": "white",
           "zerolinewidth": 2
          },
          "yaxis": {
           "automargin": true,
           "gridcolor": "white",
           "linecolor": "white",
           "ticks": "",
           "title": {
            "standoff": 15
           },
           "zerolinecolor": "white",
           "zerolinewidth": 2
          }
         }
        },
        "title": {
         "text": "Mean f1 score on testing depending on hyper parameter values <br>(Model: RandomForest Classifier, Dataset: All"
        },
        "xaxis": {
         "anchor": "y",
         "domain": [
          0.0,
          1.0
         ],
         "title": {
          "text": "max_features"
         }
        },
        "yaxis": {
         "anchor": "x",
         "domain": [
          0.0,
          1.0
         ],
         "title": {
          "text": "mean_f1"
         }
        }
       }
      },
      "text/html": "<div>                            <div id=\"13dd07c9-17c6-49a9-975b-9eb934d521b0\" class=\"plotly-graph-div\" style=\"height:525px; width:100%;\"></div>            <script type=\"text/javascript\">                require([\"plotly\"], function(Plotly) {                    window.PLOTLYENV=window.PLOTLYENV || {};                                    if (document.getElementById(\"13dd07c9-17c6-49a9-975b-9eb934d521b0\")) {                    Plotly.newPlot(                        \"13dd07c9-17c6-49a9-975b-9eb934d521b0\",                        [{\"alignmentgroup\":\"True\",\"error_y\":{\"array\":[0.03218464870658465,0.032019013680777884]},\"hovertemplate\":\"max_features=%{x}<br>mean_f1=%{y}<extra></extra>\",\"legendgroup\":\"\",\"marker\":{\"color\":\"#636efa\",\"pattern\":{\"shape\":\"\"}},\"name\":\"\",\"offsetgroup\":\"\",\"orientation\":\"v\",\"showlegend\":false,\"textposition\":\"auto\",\"type\":\"bar\",\"x\":[\"log2\",\"sqrt\"],\"xaxis\":\"x\",\"y\":[0.2339686429363644,0.23449894978218253],\"yaxis\":\"y\"}],                        {\"barmode\":\"relative\",\"legend\":{\"tracegroupgap\":0},\"template\":{\"data\":{\"bar\":[{\"error_x\":{\"color\":\"#2a3f5f\"},\"error_y\":{\"color\":\"#2a3f5f\"},\"marker\":{\"line\":{\"color\":\"#E5ECF6\",\"width\":0.5},\"pattern\":{\"fillmode\":\"overlay\",\"size\":10,\"solidity\":0.2}},\"type\":\"bar\"}],\"barpolar\":[{\"marker\":{\"line\":{\"color\":\"#E5ECF6\",\"width\":0.5},\"pattern\":{\"fillmode\":\"overlay\",\"size\":10,\"solidity\":0.2}},\"type\":\"barpolar\"}],\"carpet\":[{\"aaxis\":{\"endlinecolor\":\"#2a3f5f\",\"gridcolor\":\"white\",\"linecolor\":\"white\",\"minorgridcolor\":\"white\",\"startlinecolor\":\"#2a3f5f\"},\"baxis\":{\"endlinecolor\":\"#2a3f5f\",\"gridcolor\":\"white\",\"linecolor\":\"white\",\"minorgridcolor\":\"white\",\"startlinecolor\":\"#2a3f5f\"},\"type\":\"carpet\"}],\"choropleth\":[{\"colorbar\":{\"outlinewidth\":0,\"ticks\":\"\"},\"type\":\"choropleth\"}],\"contour\":[{\"colorbar\":{\"outlinewidth\":0,\"ticks\":\"\"},\"colorscale\":[[0.0,\"#0d0887\"],[0.1111111111111111,\"#46039f\"],[0.2222222222222222,\"#7201a8\"],[0.3333333333333333,\"#9c179e\"],[0.4444444444444444,\"#bd3786\"],[0.5555555555555556,\"#d8576b\"],[0.6666666666666666,\"#ed7953\"],[0.7777777777777778,\"#fb9f3a\"],[0.8888888888888888,\"#fdca26\"],[1.0,\"#f0f921\"]],\"type\":\"contour\"}],\"contourcarpet\":[{\"colorbar\":{\"outlinewidth\":0,\"ticks\":\"\"},\"type\":\"contourcarpet\"}],\"heatmap\":[{\"colorbar\":{\"outlinewidth\":0,\"ticks\":\"\"},\"colorscale\":[[0.0,\"#0d0887\"],[0.1111111111111111,\"#46039f\"],[0.2222222222222222,\"#7201a8\"],[0.3333333333333333,\"#9c179e\"],[0.4444444444444444,\"#bd3786\"],[0.5555555555555556,\"#d8576b\"],[0.6666666666666666,\"#ed7953\"],[0.7777777777777778,\"#fb9f3a\"],[0.8888888888888888,\"#fdca26\"],[1.0,\"#f0f921\"]],\"type\":\"heatmap\"}],\"heatmapgl\":[{\"colorbar\":{\"outlinewidth\":0,\"ticks\":\"\"},\"colorscale\":[[0.0,\"#0d0887\"],[0.1111111111111111,\"#46039f\"],[0.2222222222222222,\"#7201a8\"],[0.3333333333333333,\"#9c179e\"],[0.4444444444444444,\"#bd3786\"],[0.5555555555555556,\"#d8576b\"],[0.6666666666666666,\"#ed7953\"],[0.7777777777777778,\"#fb9f3a\"],[0.8888888888888888,\"#fdca26\"],[1.0,\"#f0f921\"]],\"type\":\"heatmapgl\"}],\"histogram\":[{\"marker\":{\"pattern\":{\"fillmode\":\"overlay\",\"size\":10,\"solidity\":0.2}},\"type\":\"histogram\"}],\"histogram2d\":[{\"colorbar\":{\"outlinewidth\":0,\"ticks\":\"\"},\"colorscale\":[[0.0,\"#0d0887\"],[0.1111111111111111,\"#46039f\"],[0.2222222222222222,\"#7201a8\"],[0.3333333333333333,\"#9c179e\"],[0.4444444444444444,\"#bd3786\"],[0.5555555555555556,\"#d8576b\"],[0.6666666666666666,\"#ed7953\"],[0.7777777777777778,\"#fb9f3a\"],[0.8888888888888888,\"#fdca26\"],[1.0,\"#f0f921\"]],\"type\":\"histogram2d\"}],\"histogram2dcontour\":[{\"colorbar\":{\"outlinewidth\":0,\"ticks\":\"\"},\"colorscale\":[[0.0,\"#0d0887\"],[0.1111111111111111,\"#46039f\"],[0.2222222222222222,\"#7201a8\"],[0.3333333333333333,\"#9c179e\"],[0.4444444444444444,\"#bd3786\"],[0.5555555555555556,\"#d8576b\"],[0.6666666666666666,\"#ed7953\"],[0.7777777777777778,\"#fb9f3a\"],[0.8888888888888888,\"#fdca26\"],[1.0,\"#f0f921\"]],\"type\":\"histogram2dcontour\"}],\"mesh3d\":[{\"colorbar\":{\"outlinewidth\":0,\"ticks\":\"\"},\"type\":\"mesh3d\"}],\"parcoords\":[{\"line\":{\"colorbar\":{\"outlinewidth\":0,\"ticks\":\"\"}},\"type\":\"parcoords\"}],\"pie\":[{\"automargin\":true,\"type\":\"pie\"}],\"scatter\":[{\"marker\":{\"colorbar\":{\"outlinewidth\":0,\"ticks\":\"\"}},\"type\":\"scatter\"}],\"scatter3d\":[{\"line\":{\"colorbar\":{\"outlinewidth\":0,\"ticks\":\"\"}},\"marker\":{\"colorbar\":{\"outlinewidth\":0,\"ticks\":\"\"}},\"type\":\"scatter3d\"}],\"scattercarpet\":[{\"marker\":{\"colorbar\":{\"outlinewidth\":0,\"ticks\":\"\"}},\"type\":\"scattercarpet\"}],\"scattergeo\":[{\"marker\":{\"colorbar\":{\"outlinewidth\":0,\"ticks\":\"\"}},\"type\":\"scattergeo\"}],\"scattergl\":[{\"marker\":{\"colorbar\":{\"outlinewidth\":0,\"ticks\":\"\"}},\"type\":\"scattergl\"}],\"scattermapbox\":[{\"marker\":{\"colorbar\":{\"outlinewidth\":0,\"ticks\":\"\"}},\"type\":\"scattermapbox\"}],\"scatterpolar\":[{\"marker\":{\"colorbar\":{\"outlinewidth\":0,\"ticks\":\"\"}},\"type\":\"scatterpolar\"}],\"scatterpolargl\":[{\"marker\":{\"colorbar\":{\"outlinewidth\":0,\"ticks\":\"\"}},\"type\":\"scatterpolargl\"}],\"scatterternary\":[{\"marker\":{\"colorbar\":{\"outlinewidth\":0,\"ticks\":\"\"}},\"type\":\"scatterternary\"}],\"surface\":[{\"colorbar\":{\"outlinewidth\":0,\"ticks\":\"\"},\"colorscale\":[[0.0,\"#0d0887\"],[0.1111111111111111,\"#46039f\"],[0.2222222222222222,\"#7201a8\"],[0.3333333333333333,\"#9c179e\"],[0.4444444444444444,\"#bd3786\"],[0.5555555555555556,\"#d8576b\"],[0.6666666666666666,\"#ed7953\"],[0.7777777777777778,\"#fb9f3a\"],[0.8888888888888888,\"#fdca26\"],[1.0,\"#f0f921\"]],\"type\":\"surface\"}],\"table\":[{\"cells\":{\"fill\":{\"color\":\"#EBF0F8\"},\"line\":{\"color\":\"white\"}},\"header\":{\"fill\":{\"color\":\"#C8D4E3\"},\"line\":{\"color\":\"white\"}},\"type\":\"table\"}]},\"layout\":{\"annotationdefaults\":{\"arrowcolor\":\"#2a3f5f\",\"arrowhead\":0,\"arrowwidth\":1},\"autotypenumbers\":\"strict\",\"coloraxis\":{\"colorbar\":{\"outlinewidth\":0,\"ticks\":\"\"}},\"colorscale\":{\"diverging\":[[0,\"#8e0152\"],[0.1,\"#c51b7d\"],[0.2,\"#de77ae\"],[0.3,\"#f1b6da\"],[0.4,\"#fde0ef\"],[0.5,\"#f7f7f7\"],[0.6,\"#e6f5d0\"],[0.7,\"#b8e186\"],[0.8,\"#7fbc41\"],[0.9,\"#4d9221\"],[1,\"#276419\"]],\"sequential\":[[0.0,\"#0d0887\"],[0.1111111111111111,\"#46039f\"],[0.2222222222222222,\"#7201a8\"],[0.3333333333333333,\"#9c179e\"],[0.4444444444444444,\"#bd3786\"],[0.5555555555555556,\"#d8576b\"],[0.6666666666666666,\"#ed7953\"],[0.7777777777777778,\"#fb9f3a\"],[0.8888888888888888,\"#fdca26\"],[1.0,\"#f0f921\"]],\"sequentialminus\":[[0.0,\"#0d0887\"],[0.1111111111111111,\"#46039f\"],[0.2222222222222222,\"#7201a8\"],[0.3333333333333333,\"#9c179e\"],[0.4444444444444444,\"#bd3786\"],[0.5555555555555556,\"#d8576b\"],[0.6666666666666666,\"#ed7953\"],[0.7777777777777778,\"#fb9f3a\"],[0.8888888888888888,\"#fdca26\"],[1.0,\"#f0f921\"]]},\"colorway\":[\"#636efa\",\"#EF553B\",\"#00cc96\",\"#ab63fa\",\"#FFA15A\",\"#19d3f3\",\"#FF6692\",\"#B6E880\",\"#FF97FF\",\"#FECB52\"],\"font\":{\"color\":\"#2a3f5f\"},\"geo\":{\"bgcolor\":\"white\",\"lakecolor\":\"white\",\"landcolor\":\"#E5ECF6\",\"showlakes\":true,\"showland\":true,\"subunitcolor\":\"white\"},\"hoverlabel\":{\"align\":\"left\"},\"hovermode\":\"closest\",\"mapbox\":{\"style\":\"light\"},\"paper_bgcolor\":\"white\",\"plot_bgcolor\":\"#E5ECF6\",\"polar\":{\"angularaxis\":{\"gridcolor\":\"white\",\"linecolor\":\"white\",\"ticks\":\"\"},\"bgcolor\":\"#E5ECF6\",\"radialaxis\":{\"gridcolor\":\"white\",\"linecolor\":\"white\",\"ticks\":\"\"}},\"scene\":{\"xaxis\":{\"backgroundcolor\":\"#E5ECF6\",\"gridcolor\":\"white\",\"gridwidth\":2,\"linecolor\":\"white\",\"showbackground\":true,\"ticks\":\"\",\"zerolinecolor\":\"white\"},\"yaxis\":{\"backgroundcolor\":\"#E5ECF6\",\"gridcolor\":\"white\",\"gridwidth\":2,\"linecolor\":\"white\",\"showbackground\":true,\"ticks\":\"\",\"zerolinecolor\":\"white\"},\"zaxis\":{\"backgroundcolor\":\"#E5ECF6\",\"gridcolor\":\"white\",\"gridwidth\":2,\"linecolor\":\"white\",\"showbackground\":true,\"ticks\":\"\",\"zerolinecolor\":\"white\"}},\"shapedefaults\":{\"line\":{\"color\":\"#2a3f5f\"}},\"ternary\":{\"aaxis\":{\"gridcolor\":\"white\",\"linecolor\":\"white\",\"ticks\":\"\"},\"baxis\":{\"gridcolor\":\"white\",\"linecolor\":\"white\",\"ticks\":\"\"},\"bgcolor\":\"#E5ECF6\",\"caxis\":{\"gridcolor\":\"white\",\"linecolor\":\"white\",\"ticks\":\"\"}},\"title\":{\"x\":0.05},\"xaxis\":{\"automargin\":true,\"gridcolor\":\"white\",\"linecolor\":\"white\",\"ticks\":\"\",\"title\":{\"standoff\":15},\"zerolinecolor\":\"white\",\"zerolinewidth\":2},\"yaxis\":{\"automargin\":true,\"gridcolor\":\"white\",\"linecolor\":\"white\",\"ticks\":\"\",\"title\":{\"standoff\":15},\"zerolinecolor\":\"white\",\"zerolinewidth\":2}}},\"title\":{\"text\":\"Mean f1 score on testing depending on hyper parameter values <br>(Model: RandomForest Classifier, Dataset: All\"},\"xaxis\":{\"anchor\":\"y\",\"domain\":[0.0,1.0],\"title\":{\"text\":\"max_features\"}},\"yaxis\":{\"anchor\":\"x\",\"domain\":[0.0,1.0],\"title\":{\"text\":\"mean_f1\"}}},                        {\"responsive\": true}                    ).then(function(){\n                            \nvar gd = document.getElementById('13dd07c9-17c6-49a9-975b-9eb934d521b0');\nvar x = new MutationObserver(function (mutations, observer) {{\n        var display = window.getComputedStyle(gd).display;\n        if (!display || display === 'none') {{\n            console.log([gd, 'removed!']);\n            Plotly.purge(gd);\n            observer.disconnect();\n        }}\n}});\n\n// Listen for the removal of the full notebook cells\nvar notebookContainer = gd.closest('#notebook-container');\nif (notebookContainer) {{\n    x.observe(notebookContainer, {childList: true});\n}}\n\n// Listen for the clearing of the current output cell\nvar outputEl = gd.closest('.output');\nif (outputEl) {{\n    x.observe(outputEl, {childList: true});\n}}\n\n                        })                };                });            </script>        </div>"
     },
     "metadata": {},
     "output_type": "display_data"
    }
   ],
   "source": [
    "plot_params_incidence(model=model,params = \"max_features\", barchart=True)"
   ],
   "metadata": {
    "collapsed": false,
    "pycharm": {
     "name": "#%%\n"
    }
   }
  }
 ],
 "metadata": {
  "interpreter": {
   "hash": "1eb5e6e0a97f7cae785433ac15969c2149dfe662374d3b72284ff486fb1c0909"
  },
  "kernelspec": {
   "display_name": "Python 3.8.8 64-bit ('base': conda)",
   "name": "python3"
  },
  "language_info": {
   "codemirror_mode": {
    "name": "ipython",
    "version": 3
   },
   "file_extension": ".py",
   "mimetype": "text/x-python",
   "name": "python",
   "nbconvert_exporter": "python",
   "pygments_lexer": "ipython3",
   "version": "3.8.8"
  }
 },
 "nbformat": 4,
 "nbformat_minor": 1
}