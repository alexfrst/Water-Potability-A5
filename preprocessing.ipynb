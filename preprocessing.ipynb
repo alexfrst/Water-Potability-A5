{
 "cells": [
  {
   "cell_type": "code",
   "execution_count": 11,
   "metadata": {},
   "outputs": [],
   "source": [
    "import pandas as pd\n",
    "import numpy as np\n",
    "import plotly.express as px\n",
    "import plotly.io as pio\n",
    "import plotly.graph_objects as go"
   ]
  },
  {
   "cell_type": "code",
   "execution_count": 12,
   "metadata": {
    "pycharm": {
     "name": "#%%\n"
    }
   },
   "outputs": [
    {
     "data": {
      "text/html": [
       "<div>\n",
       "<style scoped>\n",
       "    .dataframe tbody tr th:only-of-type {\n",
       "        vertical-align: middle;\n",
       "    }\n",
       "\n",
       "    .dataframe tbody tr th {\n",
       "        vertical-align: top;\n",
       "    }\n",
       "\n",
       "    .dataframe thead th {\n",
       "        text-align: right;\n",
       "    }\n",
       "</style>\n",
       "<table border=\"1\" class=\"dataframe\">\n",
       "  <thead>\n",
       "    <tr style=\"text-align: right;\">\n",
       "      <th></th>\n",
       "      <th>ph</th>\n",
       "      <th>Hardness</th>\n",
       "      <th>Solids</th>\n",
       "      <th>Chloramines</th>\n",
       "      <th>Sulfate</th>\n",
       "      <th>Conductivity</th>\n",
       "      <th>Organic_carbon</th>\n",
       "      <th>Trihalomethanes</th>\n",
       "      <th>Turbidity</th>\n",
       "      <th>Potability</th>\n",
       "    </tr>\n",
       "  </thead>\n",
       "  <tbody>\n",
       "    <tr>\n",
       "      <th>0</th>\n",
       "      <td>NaN</td>\n",
       "      <td>204.890456</td>\n",
       "      <td>20791.31898</td>\n",
       "      <td>7.300212</td>\n",
       "      <td>368.516441</td>\n",
       "      <td>564.308654</td>\n",
       "      <td>10.379783</td>\n",
       "      <td>86.990970</td>\n",
       "      <td>2.963135</td>\n",
       "      <td>0</td>\n",
       "    </tr>\n",
       "    <tr>\n",
       "      <th>1</th>\n",
       "      <td>3.716080</td>\n",
       "      <td>129.422921</td>\n",
       "      <td>18630.05786</td>\n",
       "      <td>6.635246</td>\n",
       "      <td>NaN</td>\n",
       "      <td>592.885359</td>\n",
       "      <td>15.180013</td>\n",
       "      <td>56.329076</td>\n",
       "      <td>4.500656</td>\n",
       "      <td>0</td>\n",
       "    </tr>\n",
       "    <tr>\n",
       "      <th>2</th>\n",
       "      <td>8.099124</td>\n",
       "      <td>224.236259</td>\n",
       "      <td>19909.54173</td>\n",
       "      <td>9.275884</td>\n",
       "      <td>NaN</td>\n",
       "      <td>418.606213</td>\n",
       "      <td>16.868637</td>\n",
       "      <td>66.420093</td>\n",
       "      <td>3.055934</td>\n",
       "      <td>0</td>\n",
       "    </tr>\n",
       "    <tr>\n",
       "      <th>3</th>\n",
       "      <td>8.316766</td>\n",
       "      <td>214.373394</td>\n",
       "      <td>22018.41744</td>\n",
       "      <td>8.059332</td>\n",
       "      <td>356.886136</td>\n",
       "      <td>363.266516</td>\n",
       "      <td>18.436525</td>\n",
       "      <td>100.341674</td>\n",
       "      <td>4.628771</td>\n",
       "      <td>0</td>\n",
       "    </tr>\n",
       "    <tr>\n",
       "      <th>4</th>\n",
       "      <td>9.092223</td>\n",
       "      <td>181.101509</td>\n",
       "      <td>17978.98634</td>\n",
       "      <td>6.546600</td>\n",
       "      <td>310.135738</td>\n",
       "      <td>398.410813</td>\n",
       "      <td>11.558279</td>\n",
       "      <td>31.997993</td>\n",
       "      <td>4.075075</td>\n",
       "      <td>0</td>\n",
       "    </tr>\n",
       "    <tr>\n",
       "      <th>...</th>\n",
       "      <td>...</td>\n",
       "      <td>...</td>\n",
       "      <td>...</td>\n",
       "      <td>...</td>\n",
       "      <td>...</td>\n",
       "      <td>...</td>\n",
       "      <td>...</td>\n",
       "      <td>...</td>\n",
       "      <td>...</td>\n",
       "      <td>...</td>\n",
       "    </tr>\n",
       "    <tr>\n",
       "      <th>3271</th>\n",
       "      <td>4.668102</td>\n",
       "      <td>193.681736</td>\n",
       "      <td>47580.99160</td>\n",
       "      <td>7.166639</td>\n",
       "      <td>359.948574</td>\n",
       "      <td>526.424171</td>\n",
       "      <td>13.894419</td>\n",
       "      <td>66.687695</td>\n",
       "      <td>4.435821</td>\n",
       "      <td>1</td>\n",
       "    </tr>\n",
       "    <tr>\n",
       "      <th>3272</th>\n",
       "      <td>7.808856</td>\n",
       "      <td>193.553212</td>\n",
       "      <td>17329.80216</td>\n",
       "      <td>8.061362</td>\n",
       "      <td>NaN</td>\n",
       "      <td>392.449580</td>\n",
       "      <td>19.903225</td>\n",
       "      <td>NaN</td>\n",
       "      <td>2.798243</td>\n",
       "      <td>1</td>\n",
       "    </tr>\n",
       "    <tr>\n",
       "      <th>3273</th>\n",
       "      <td>9.419510</td>\n",
       "      <td>175.762646</td>\n",
       "      <td>33155.57822</td>\n",
       "      <td>7.350233</td>\n",
       "      <td>NaN</td>\n",
       "      <td>432.044783</td>\n",
       "      <td>11.039070</td>\n",
       "      <td>69.845400</td>\n",
       "      <td>3.298875</td>\n",
       "      <td>1</td>\n",
       "    </tr>\n",
       "    <tr>\n",
       "      <th>3274</th>\n",
       "      <td>5.126763</td>\n",
       "      <td>230.603758</td>\n",
       "      <td>11983.86938</td>\n",
       "      <td>6.303357</td>\n",
       "      <td>NaN</td>\n",
       "      <td>402.883113</td>\n",
       "      <td>11.168946</td>\n",
       "      <td>77.488213</td>\n",
       "      <td>4.708658</td>\n",
       "      <td>1</td>\n",
       "    </tr>\n",
       "    <tr>\n",
       "      <th>3275</th>\n",
       "      <td>7.874671</td>\n",
       "      <td>195.102299</td>\n",
       "      <td>17404.17706</td>\n",
       "      <td>7.509306</td>\n",
       "      <td>NaN</td>\n",
       "      <td>327.459761</td>\n",
       "      <td>16.140368</td>\n",
       "      <td>78.698446</td>\n",
       "      <td>2.309149</td>\n",
       "      <td>1</td>\n",
       "    </tr>\n",
       "  </tbody>\n",
       "</table>\n",
       "<p>3276 rows × 10 columns</p>\n",
       "</div>"
      ],
      "text/plain": [
       "            ph    Hardness       Solids  Chloramines     Sulfate  \\\n",
       "0          NaN  204.890456  20791.31898     7.300212  368.516441   \n",
       "1     3.716080  129.422921  18630.05786     6.635246         NaN   \n",
       "2     8.099124  224.236259  19909.54173     9.275884         NaN   \n",
       "3     8.316766  214.373394  22018.41744     8.059332  356.886136   \n",
       "4     9.092223  181.101509  17978.98634     6.546600  310.135738   \n",
       "...        ...         ...          ...          ...         ...   \n",
       "3271  4.668102  193.681736  47580.99160     7.166639  359.948574   \n",
       "3272  7.808856  193.553212  17329.80216     8.061362         NaN   \n",
       "3273  9.419510  175.762646  33155.57822     7.350233         NaN   \n",
       "3274  5.126763  230.603758  11983.86938     6.303357         NaN   \n",
       "3275  7.874671  195.102299  17404.17706     7.509306         NaN   \n",
       "\n",
       "      Conductivity  Organic_carbon  Trihalomethanes  Turbidity  Potability  \n",
       "0       564.308654       10.379783        86.990970   2.963135           0  \n",
       "1       592.885359       15.180013        56.329076   4.500656           0  \n",
       "2       418.606213       16.868637        66.420093   3.055934           0  \n",
       "3       363.266516       18.436525       100.341674   4.628771           0  \n",
       "4       398.410813       11.558279        31.997993   4.075075           0  \n",
       "...            ...             ...              ...        ...         ...  \n",
       "3271    526.424171       13.894419        66.687695   4.435821           1  \n",
       "3272    392.449580       19.903225              NaN   2.798243           1  \n",
       "3273    432.044783       11.039070        69.845400   3.298875           1  \n",
       "3274    402.883113       11.168946        77.488213   4.708658           1  \n",
       "3275    327.459761       16.140368        78.698446   2.309149           1  \n",
       "\n",
       "[3276 rows x 10 columns]"
      ]
     },
     "execution_count": 12,
     "metadata": {},
     "output_type": "execute_result"
    }
   ],
   "source": [
    "df = pd.read_csv('drinking_water_potability.csv')\n",
    "df"
   ]
  },
  {
   "cell_type": "code",
   "execution_count": 13,
   "metadata": {
    "pycharm": {
     "name": "#%%\n"
    }
   },
   "outputs": [],
   "source": [
    "df[\"Missing\"] = df.isna().any(axis=1)\n",
    "dimensions = [\"ph\",\n",
    "              \"Hardness\",\n",
    "              \"Solids\",\n",
    "              \"Chloramines\",\n",
    "              \"Sulfate\",\n",
    "              \"Conductivity\",\n",
    "              \"Organic_carbon\",\n",
    "              \"Trihalomethanes\",\n",
    "              \"Turbidity\"]"
   ]
  },
  {
   "cell_type": "code",
   "execution_count": 14,
   "metadata": {},
   "outputs": [],
   "source": [
    "#from sklearn.preprocessing import Imputer\n",
    "from sklearn.impute import SimpleImputer"
   ]
  },
  {
   "cell_type": "code",
   "execution_count": 15,
   "metadata": {
    "scrolled": true
   },
   "outputs": [],
   "source": [
    "# 1 : Suppression de toutes les lignes avec 2 ou 3 valeurs manquantes et imputation pour les lignes avec 1 valeur manquante\n",
    "df_1 = df.dropna(thresh=10)\n",
    "imp_mean = SimpleImputer(missing_values=np.nan, strategy='mean')\n",
    "imp_mean.fit(df_1)\n",
    "df_1=pd.DataFrame(imp_mean.transform(df_1))"
   ]
  },
  {
   "cell_type": "code",
   "execution_count": 16,
   "metadata": {},
   "outputs": [],
   "source": [
    "# 2 : Suppression des lignes avec 3 valeurs manquantes et imputation pour les autres\n",
    "df_2 = df.dropna(thresh=9)\n",
    "imp_mean.fit(df_2)\n",
    "df_2=pd.DataFrame(imp_mean.transform(df_2))\n"
   ]
  },
  {
   "cell_type": "markdown",
   "metadata": {},
   "source": [
    "### On se rend compte avec ces imputations, du fait que la méthode \"most frequent value\" n'est pas adaptée à notre dataset. en effet, la valeur la plus fréquente est un outlier (0 pour le ph par exemple). \n",
    "### De plus la médiane est équivalente à la moyenne.\n",
    "### On se concentre donc sur la valeur moyenne et on abandonne la \"most frequent value\" et la médiane."
   ]
  },
  {
   "cell_type": "markdown",
   "metadata": {},
   "source": [
    "# Iterative Imputer\n",
    "\n",
    "### Nous allons ici utiliser une imputation multivariable sur les données ayant max 2 valeurs manquantes."
   ]
  },
  {
   "cell_type": "code",
   "execution_count": 17,
   "metadata": {},
   "outputs": [],
   "source": [
    "from sklearn.experimental import enable_iterative_imputer  # noqa\n",
    "from sklearn.impute import IterativeImputer\n",
    "\n",
    "df_3 = df.dropna(thresh=10)\n",
    "imp_iter = IterativeImputer(random_state=0)\n",
    "df_3 = pd.DataFrame(imp_iter.fit_transform(df_3))"
   ]
  },
  {
   "cell_type": "markdown",
   "metadata": {},
   "source": [
    "# Stochastic regression - multivariate feature imputation"
   ]
  },
  {
   "cell_type": "code",
   "execution_count": 18,
   "metadata": {},
   "outputs": [],
   "source": [
    "df_4 = df.dropna(thresh=10)\n",
    "it_imp = IterativeImputer(sample_posterior=True)\n",
    "df_4 = pd.DataFrame(it_imp.fit_transform(df_4))"
   ]
  },
  {
   "cell_type": "code",
   "execution_count": 19,
   "metadata": {},
   "outputs": [],
   "source": [
    "#Dictionnaire qui contient les dataframes d'intérêt\n",
    "all_df={\"df_1\" : df_1, \"df_2\" : df_2, \n",
    "               \"df_3\" : df_3, \"df_4\" : df_4}\n",
    "\n",
    "for dataframe in all_df.values() :\n",
    "    #on redonne d'abord les noms des colonnes qui ont disparu\n",
    "    dataframe.columns=['ph', 'Hardness', 'Solids', 'Chloramines', 'Sulfate', 'Conductivity',\n",
    "       'Organic_carbon', 'Trihalomethanes', 'Turbidity', 'Potability',\n",
    "       'Missing'] \n",
    "    dataframe.drop('Missing', axis=1, inplace=True)\n",
    "    #fig = px.scatter(y=dataframe.loc[:,\"ph\"])\n",
    "    dataframe.columns\n",
    "    #fig.show()\n"
   ]
  },
  {
   "cell_type": "markdown",
   "metadata": {
    "collapsed": false
   },
   "source": [
    "# Model Testing\n"
   ]
  },
  {
   "cell_type": "code",
   "execution_count": 20,
   "metadata": {
    "collapsed": false,
    "pycharm": {
     "name": "#%%\n"
    }
   },
   "outputs": [],
   "source": [
    "from sklearn.model_selection import StratifiedKFold, GridSearchCV, RandomizedSearchCV\n",
    "import plotly.express as px\n",
    "import pandas as pd\n",
    "import sklearn.tree as tree\n",
    "\n",
    "stats = pd.DataFrame()\n",
    "\n",
    "\n",
    "def computeModelStats(model, stats, dataset, hyperParams, randomizedSearch=False):\n",
    "    \"\"\"\n",
    "    :param model: model that will be assessed\n",
    "    :type model: {tuple(predictor,name:str)}\n",
    "    :param stats: Dataframe in which results will be sent\n",
    "    :type stats: {Dataframe}\n",
    "    :param dataset: Dataset that will be used\n",
    "    :type dataset: {tuple(Dict(X:DataFrame,y:array), name)}\n",
    "    :param hyperParams: HyperParams grid that will be assessed\n",
    "    :type hyperParams: {Dict}\n",
    "    :return: void\n",
    "    :rtype: void\n",
    "    \"\"\"\n",
    "    X = dataset[0][\"X\"]\n",
    "    y = dataset[0][\"y\"]\n",
    "\n",
    "    if not randomizedSearch:\n",
    "        grid_search = GridSearchCV(model[0], cv=StratifiedKFold(n_splits=5), refit='f1',\n",
    "                                   scoring=['f1', 'recall', 'precision'], verbose=3, n_jobs=-1, param_grid=hyperParams,\n",
    "                                   return_train_score=True)\n",
    "    else:\n",
    "        grid_search = RandomizedSearchCV(model[0], cv=StratifiedKFold(n_splits=5), refit='f1',\n",
    "                                         scoring=['f1', 'recall', 'precision'], verbose=3, n_jobs=-1,\n",
    "                                         param_distributions=hyperParams, return_train_score=True,\n",
    "                                         n_iter=randomizedSearch)\n",
    "\n",
    "    grid_search.fit(X, y)\n",
    "\n",
    "    temp_test = pd.DataFrame({key.replace(\"_test\", \"\"): grid_search.cv_results_[key] for key in\n",
    "                              [\"mean_test_f1\", \"std_test_f1\", \"mean_test_recall\", \"mean_test_precision\", \"params\"]})\n",
    "    temp_train = pd.DataFrame({key.replace(\"_train\", \"\"): grid_search.cv_results_[key] for key in\n",
    "                               [\"mean_train_f1\", \"std_train_f1\", \"mean_train_recall\", \"mean_train_precision\",\n",
    "                                \"std_test_f1\", \"params\"]})\n",
    "    temp_train[\"type\"] = \"train\"\n",
    "    temp_test[\"type\"] = \"test\"\n",
    "    temp = temp_test.append(temp_train)\n",
    "    temp[\"dataset\"] = dataset[1]\n",
    "    temp[\"model\"] = model[1]\n",
    "    temp[\"params\"] = temp[\"params\"].astype(str)\n",
    "    stats = stats.append(temp)\n",
    "    fig = px.bar(temp, y=\"mean_f1\", hover_data=[\"params\"], barmode=\"group\", hover_name=\"params\", color=\"type\",\n",
    "                  title=f\"Mean f1 score on testing and training set for each parameter combination <br> (Model: {model[1]}, Dataset: {dataset[1]})\",\n",
    "                  labels={\"mean_f1\": f\"Average f1\", \"index\": \"Params\"}, error_y=\"std_f1\")\n",
    "\n",
    "    fig.show()\n",
    "    return stats\n",
    "\n",
    "\n",
    "def extract_features_and_labels(df):\n",
    "    print(df.columns)\n",
    "    y = df.Potability\n",
    "    X = df.drop(\"Potability\", axis=1)\n",
    "    return {\"X\": X, \"y\": y}\n"
   ]
  },
  {
   "cell_type": "code",
   "execution_count": 32,
   "metadata": {
    "collapsed": false,
    "pycharm": {
     "name": "#%%\n"
    }
   },
   "outputs": [
    {
     "name": "stdout",
     "output_type": "stream",
     "text": [
      "Index(['ph', 'Hardness', 'Solids', 'Chloramines', 'Sulfate', 'Conductivity',\n",
      "       'Organic_carbon', 'Trihalomethanes', 'Turbidity', 'Potability'],\n",
      "      dtype='object')\n",
      "Index(['ph', 'Hardness', 'Solids', 'Chloramines', 'Sulfate', 'Conductivity',\n",
      "       'Organic_carbon', 'Trihalomethanes', 'Turbidity', 'Potability'],\n",
      "      dtype='object')\n",
      "Index(['ph', 'Hardness', 'Solids', 'Chloramines', 'Sulfate', 'Conductivity',\n",
      "       'Organic_carbon', 'Trihalomethanes', 'Turbidity', 'Potability'],\n",
      "      dtype='object')\n",
      "Index(['ph', 'Hardness', 'Solids', 'Chloramines', 'Sulfate', 'Conductivity',\n",
      "       'Organic_carbon', 'Trihalomethanes', 'Turbidity', 'Potability'],\n",
      "      dtype='object')\n",
      "Index(['ph', 'Hardness', 'Chloramines', 'Sulfate', 'Potability'], dtype='object')\n",
      "Index(['ph', 'Hardness', 'Chloramines', 'Sulfate', 'Potability'], dtype='object')\n",
      "Index(['ph', 'Hardness', 'Chloramines', 'Sulfate', 'Potability'], dtype='object')\n"
     ]
    }
   ],
   "source": [
    "mean_accurracy_3_missing_values = (\n",
    "    extract_features_and_labels(df_1), \"Mean imputation for individuals with 3 MV\")\n",
    "\n",
    "mean_accurracy_2_3_missing_values = (\n",
    "    extract_features_and_labels(df_2), \"Mean imputation for individuals with 2 or 3 MV\")\n",
    "\n",
    "multivariate_feature_imputation = (extract_features_and_labels(df_3), \"Multivariate feature imputation\")\n",
    "\n",
    "multivariate_stochastic_feature_imputation = (extract_features_and_labels(df_4), \"Multivariate stochastic feature imputation\")\n",
    "\n",
    "multivariate_feature_imputation_subset_selection = (\n",
    "    extract_features_and_labels(df_3[[\"ph\", \"Hardness\", \"Chloramines\", \"Sulfate\", \"Potability\"]]),\n",
    "    \"Multivariate feature imputation with subset selection\")\n",
    "\n",
    "multivariate_stochastic_feature_imputation_subset_selection = (\n",
    "    extract_features_and_labels(df_4[[\"ph\", \"Hardness\", \"Chloramines\", \"Sulfate\", \"Potability\"]]),\n",
    "    \"Multivariate stochastic feature imputation with subset selection\")\n",
    "\n",
    "\n",
    "mean_accurracy_2_3_missing_values_subset_selection = (\n",
    "    extract_features_and_labels(df_2[[\"ph\", \"Hardness\", \"Chloramines\", \"Sulfate\", \"Potability\"]]),\n",
    "    \"Mean imputation subset selection for individuals with 2 or 3 MV\")"
   ]
  },
  {
   "cell_type": "markdown",
   "metadata": {
    "collapsed": false
   },
   "source": [
    "# Random Forest\n",
    "We know usually we tend to end with random forest. However we wanted to test several datasets, given the ability of random forests to ability to match unscaled data it will help us to prune some dataset for the next models."
   ]
  },
  {
   "cell_type": "code",
   "execution_count": 25,
   "metadata": {
    "collapsed": false,
    "pycharm": {
     "name": "#%%\n"
    }
   },
   "outputs": [
    {
     "name": "stdout",
     "output_type": "stream",
     "text": [
      "Fitting 5 folds for each of 96 candidates, totalling 480 fits\n"
     ]
    },
    {
     "data": {
      "application/vnd.plotly.v1+json": {
       "config": {
        "plotlyServerURL": "https://plot.ly"
       },
       "data": [
        {
         "alignmentgroup": "True",
         "customdata": [
          [
           "{'max_depth': 3, 'max_features': 'sqrt', 'min_samples_split': 3, 'n_estimators': 50}"
          ],
          [
           "{'max_depth': 3, 'max_features': 'sqrt', 'min_samples_split': 3, 'n_estimators': 80}"
          ],
          [
           "{'max_depth': 3, 'max_features': 'sqrt', 'min_samples_split': 3, 'n_estimators': 110}"
          ],
          [
           "{'max_depth': 3, 'max_features': 'sqrt', 'min_samples_split': 3, 'n_estimators': 130}"
          ],
          [
           "{'max_depth': 3, 'max_features': 'sqrt', 'min_samples_split': 6, 'n_estimators': 50}"
          ],
          [
           "{'max_depth': 3, 'max_features': 'sqrt', 'min_samples_split': 6, 'n_estimators': 80}"
          ],
          [
           "{'max_depth': 3, 'max_features': 'sqrt', 'min_samples_split': 6, 'n_estimators': 110}"
          ],
          [
           "{'max_depth': 3, 'max_features': 'sqrt', 'min_samples_split': 6, 'n_estimators': 130}"
          ],
          [
           "{'max_depth': 3, 'max_features': 'sqrt', 'min_samples_split': 9, 'n_estimators': 50}"
          ],
          [
           "{'max_depth': 3, 'max_features': 'sqrt', 'min_samples_split': 9, 'n_estimators': 80}"
          ],
          [
           "{'max_depth': 3, 'max_features': 'sqrt', 'min_samples_split': 9, 'n_estimators': 110}"
          ],
          [
           "{'max_depth': 3, 'max_features': 'sqrt', 'min_samples_split': 9, 'n_estimators': 130}"
          ],
          [
           "{'max_depth': 3, 'max_features': 'sqrt', 'min_samples_split': 12, 'n_estimators': 50}"
          ],
          [
           "{'max_depth': 3, 'max_features': 'sqrt', 'min_samples_split': 12, 'n_estimators': 80}"
          ],
          [
           "{'max_depth': 3, 'max_features': 'sqrt', 'min_samples_split': 12, 'n_estimators': 110}"
          ],
          [
           "{'max_depth': 3, 'max_features': 'sqrt', 'min_samples_split': 12, 'n_estimators': 130}"
          ],
          [
           "{'max_depth': 3, 'max_features': 'log2', 'min_samples_split': 3, 'n_estimators': 50}"
          ],
          [
           "{'max_depth': 3, 'max_features': 'log2', 'min_samples_split': 3, 'n_estimators': 80}"
          ],
          [
           "{'max_depth': 3, 'max_features': 'log2', 'min_samples_split': 3, 'n_estimators': 110}"
          ],
          [
           "{'max_depth': 3, 'max_features': 'log2', 'min_samples_split': 3, 'n_estimators': 130}"
          ],
          [
           "{'max_depth': 3, 'max_features': 'log2', 'min_samples_split': 6, 'n_estimators': 50}"
          ],
          [
           "{'max_depth': 3, 'max_features': 'log2', 'min_samples_split': 6, 'n_estimators': 80}"
          ],
          [
           "{'max_depth': 3, 'max_features': 'log2', 'min_samples_split': 6, 'n_estimators': 110}"
          ],
          [
           "{'max_depth': 3, 'max_features': 'log2', 'min_samples_split': 6, 'n_estimators': 130}"
          ],
          [
           "{'max_depth': 3, 'max_features': 'log2', 'min_samples_split': 9, 'n_estimators': 50}"
          ],
          [
           "{'max_depth': 3, 'max_features': 'log2', 'min_samples_split': 9, 'n_estimators': 80}"
          ],
          [
           "{'max_depth': 3, 'max_features': 'log2', 'min_samples_split': 9, 'n_estimators': 110}"
          ],
          [
           "{'max_depth': 3, 'max_features': 'log2', 'min_samples_split': 9, 'n_estimators': 130}"
          ],
          [
           "{'max_depth': 3, 'max_features': 'log2', 'min_samples_split': 12, 'n_estimators': 50}"
          ],
          [
           "{'max_depth': 3, 'max_features': 'log2', 'min_samples_split': 12, 'n_estimators': 80}"
          ],
          [
           "{'max_depth': 3, 'max_features': 'log2', 'min_samples_split': 12, 'n_estimators': 110}"
          ],
          [
           "{'max_depth': 3, 'max_features': 'log2', 'min_samples_split': 12, 'n_estimators': 130}"
          ],
          [
           "{'max_depth': 6, 'max_features': 'sqrt', 'min_samples_split': 3, 'n_estimators': 50}"
          ],
          [
           "{'max_depth': 6, 'max_features': 'sqrt', 'min_samples_split': 3, 'n_estimators': 80}"
          ],
          [
           "{'max_depth': 6, 'max_features': 'sqrt', 'min_samples_split': 3, 'n_estimators': 110}"
          ],
          [
           "{'max_depth': 6, 'max_features': 'sqrt', 'min_samples_split': 3, 'n_estimators': 130}"
          ],
          [
           "{'max_depth': 6, 'max_features': 'sqrt', 'min_samples_split': 6, 'n_estimators': 50}"
          ],
          [
           "{'max_depth': 6, 'max_features': 'sqrt', 'min_samples_split': 6, 'n_estimators': 80}"
          ],
          [
           "{'max_depth': 6, 'max_features': 'sqrt', 'min_samples_split': 6, 'n_estimators': 110}"
          ],
          [
           "{'max_depth': 6, 'max_features': 'sqrt', 'min_samples_split': 6, 'n_estimators': 130}"
          ],
          [
           "{'max_depth': 6, 'max_features': 'sqrt', 'min_samples_split': 9, 'n_estimators': 50}"
          ],
          [
           "{'max_depth': 6, 'max_features': 'sqrt', 'min_samples_split': 9, 'n_estimators': 80}"
          ],
          [
           "{'max_depth': 6, 'max_features': 'sqrt', 'min_samples_split': 9, 'n_estimators': 110}"
          ],
          [
           "{'max_depth': 6, 'max_features': 'sqrt', 'min_samples_split': 9, 'n_estimators': 130}"
          ],
          [
           "{'max_depth': 6, 'max_features': 'sqrt', 'min_samples_split': 12, 'n_estimators': 50}"
          ],
          [
           "{'max_depth': 6, 'max_features': 'sqrt', 'min_samples_split': 12, 'n_estimators': 80}"
          ],
          [
           "{'max_depth': 6, 'max_features': 'sqrt', 'min_samples_split': 12, 'n_estimators': 110}"
          ],
          [
           "{'max_depth': 6, 'max_features': 'sqrt', 'min_samples_split': 12, 'n_estimators': 130}"
          ],
          [
           "{'max_depth': 6, 'max_features': 'log2', 'min_samples_split': 3, 'n_estimators': 50}"
          ],
          [
           "{'max_depth': 6, 'max_features': 'log2', 'min_samples_split': 3, 'n_estimators': 80}"
          ],
          [
           "{'max_depth': 6, 'max_features': 'log2', 'min_samples_split': 3, 'n_estimators': 110}"
          ],
          [
           "{'max_depth': 6, 'max_features': 'log2', 'min_samples_split': 3, 'n_estimators': 130}"
          ],
          [
           "{'max_depth': 6, 'max_features': 'log2', 'min_samples_split': 6, 'n_estimators': 50}"
          ],
          [
           "{'max_depth': 6, 'max_features': 'log2', 'min_samples_split': 6, 'n_estimators': 80}"
          ],
          [
           "{'max_depth': 6, 'max_features': 'log2', 'min_samples_split': 6, 'n_estimators': 110}"
          ],
          [
           "{'max_depth': 6, 'max_features': 'log2', 'min_samples_split': 6, 'n_estimators': 130}"
          ],
          [
           "{'max_depth': 6, 'max_features': 'log2', 'min_samples_split': 9, 'n_estimators': 50}"
          ],
          [
           "{'max_depth': 6, 'max_features': 'log2', 'min_samples_split': 9, 'n_estimators': 80}"
          ],
          [
           "{'max_depth': 6, 'max_features': 'log2', 'min_samples_split': 9, 'n_estimators': 110}"
          ],
          [
           "{'max_depth': 6, 'max_features': 'log2', 'min_samples_split': 9, 'n_estimators': 130}"
          ],
          [
           "{'max_depth': 6, 'max_features': 'log2', 'min_samples_split': 12, 'n_estimators': 50}"
          ],
          [
           "{'max_depth': 6, 'max_features': 'log2', 'min_samples_split': 12, 'n_estimators': 80}"
          ],
          [
           "{'max_depth': 6, 'max_features': 'log2', 'min_samples_split': 12, 'n_estimators': 110}"
          ],
          [
           "{'max_depth': 6, 'max_features': 'log2', 'min_samples_split': 12, 'n_estimators': 130}"
          ],
          [
           "{'max_depth': 9, 'max_features': 'sqrt', 'min_samples_split': 3, 'n_estimators': 50}"
          ],
          [
           "{'max_depth': 9, 'max_features': 'sqrt', 'min_samples_split': 3, 'n_estimators': 80}"
          ],
          [
           "{'max_depth': 9, 'max_features': 'sqrt', 'min_samples_split': 3, 'n_estimators': 110}"
          ],
          [
           "{'max_depth': 9, 'max_features': 'sqrt', 'min_samples_split': 3, 'n_estimators': 130}"
          ],
          [
           "{'max_depth': 9, 'max_features': 'sqrt', 'min_samples_split': 6, 'n_estimators': 50}"
          ],
          [
           "{'max_depth': 9, 'max_features': 'sqrt', 'min_samples_split': 6, 'n_estimators': 80}"
          ],
          [
           "{'max_depth': 9, 'max_features': 'sqrt', 'min_samples_split': 6, 'n_estimators': 110}"
          ],
          [
           "{'max_depth': 9, 'max_features': 'sqrt', 'min_samples_split': 6, 'n_estimators': 130}"
          ],
          [
           "{'max_depth': 9, 'max_features': 'sqrt', 'min_samples_split': 9, 'n_estimators': 50}"
          ],
          [
           "{'max_depth': 9, 'max_features': 'sqrt', 'min_samples_split': 9, 'n_estimators': 80}"
          ],
          [
           "{'max_depth': 9, 'max_features': 'sqrt', 'min_samples_split': 9, 'n_estimators': 110}"
          ],
          [
           "{'max_depth': 9, 'max_features': 'sqrt', 'min_samples_split': 9, 'n_estimators': 130}"
          ],
          [
           "{'max_depth': 9, 'max_features': 'sqrt', 'min_samples_split': 12, 'n_estimators': 50}"
          ],
          [
           "{'max_depth': 9, 'max_features': 'sqrt', 'min_samples_split': 12, 'n_estimators': 80}"
          ],
          [
           "{'max_depth': 9, 'max_features': 'sqrt', 'min_samples_split': 12, 'n_estimators': 110}"
          ],
          [
           "{'max_depth': 9, 'max_features': 'sqrt', 'min_samples_split': 12, 'n_estimators': 130}"
          ],
          [
           "{'max_depth': 9, 'max_features': 'log2', 'min_samples_split': 3, 'n_estimators': 50}"
          ],
          [
           "{'max_depth': 9, 'max_features': 'log2', 'min_samples_split': 3, 'n_estimators': 80}"
          ],
          [
           "{'max_depth': 9, 'max_features': 'log2', 'min_samples_split': 3, 'n_estimators': 110}"
          ],
          [
           "{'max_depth': 9, 'max_features': 'log2', 'min_samples_split': 3, 'n_estimators': 130}"
          ],
          [
           "{'max_depth': 9, 'max_features': 'log2', 'min_samples_split': 6, 'n_estimators': 50}"
          ],
          [
           "{'max_depth': 9, 'max_features': 'log2', 'min_samples_split': 6, 'n_estimators': 80}"
          ],
          [
           "{'max_depth': 9, 'max_features': 'log2', 'min_samples_split': 6, 'n_estimators': 110}"
          ],
          [
           "{'max_depth': 9, 'max_features': 'log2', 'min_samples_split': 6, 'n_estimators': 130}"
          ],
          [
           "{'max_depth': 9, 'max_features': 'log2', 'min_samples_split': 9, 'n_estimators': 50}"
          ],
          [
           "{'max_depth': 9, 'max_features': 'log2', 'min_samples_split': 9, 'n_estimators': 80}"
          ],
          [
           "{'max_depth': 9, 'max_features': 'log2', 'min_samples_split': 9, 'n_estimators': 110}"
          ],
          [
           "{'max_depth': 9, 'max_features': 'log2', 'min_samples_split': 9, 'n_estimators': 130}"
          ],
          [
           "{'max_depth': 9, 'max_features': 'log2', 'min_samples_split': 12, 'n_estimators': 50}"
          ],
          [
           "{'max_depth': 9, 'max_features': 'log2', 'min_samples_split': 12, 'n_estimators': 80}"
          ],
          [
           "{'max_depth': 9, 'max_features': 'log2', 'min_samples_split': 12, 'n_estimators': 110}"
          ],
          [
           "{'max_depth': 9, 'max_features': 'log2', 'min_samples_split': 12, 'n_estimators': 130}"
          ]
         ],
         "error_y": {
          "array": [
           0.028104248648202174,
           0.030880213561205874,
           0.027509953392722913,
           0.029992980111341112,
           0.027690798525373903,
           0.010616317979922952,
           0.02830944622922758,
           0.028780759220896207,
           0.02447881373811113,
           0.027438599237022132,
           0.01906208855501035,
           0.02347387829774397,
           0.02923081153054222,
           0.01752674753516765,
           0.019134232678609243,
           0.01053345578217303,
           0.033718568890158666,
           0.04121303637681759,
           0.02273138873463596,
           0.02017683641526783,
           0.02653128577455042,
           0.019260257784912943,
           0.013072664515291724,
           0.01846108112884298,
           0.02552374747014493,
           0.022369521544306194,
           0.0425525099548022,
           0.013347861595291659,
           0.027161936553806318,
           0.02031154508677781,
           0.01876681092987659,
           0.01812467802220472,
           0.01619810427350112,
           0.025121952414179246,
           0.03668609404071503,
           0.030701937902578597,
           0.040346196513161584,
           0.018938494091916794,
           0.012641322163914346,
           0.02748761213185071,
           0.01944186325440669,
           0.04170288787070767,
           0.03564622804841162,
           0.031287050663485784,
           0.018170207476354592,
           0.021460185810734354,
           0.02692134057334025,
           0.017833190050079346,
           0.034580066516585815,
           0.027106094021967928,
           0.02826062987449277,
           0.03328159489875293,
           0.031192405153312668,
           0.019138422233367786,
           0.024998242329568734,
           0.019311077965510303,
           0.03760569528137777,
           0.023525191971612455,
           0.02634574136488612,
           0.009782014171772218,
           0.017985114287694073,
           0.026496073448609426,
           0.042763086978250785,
           0.02106321704541649,
           0.04729224176229543,
           0.02553417030199774,
           0.03713699107576633,
           0.02779360808998625,
           0.023315953272397702,
           0.022962874177108353,
           0.0325824585478741,
           0.03819734124964026,
           0.029894776615573913,
           0.021272281649009742,
           0.03758814580291766,
           0.03721124684129097,
           0.030021873158994163,
           0.03396548242623441,
           0.025136667083432977,
           0.02590675184152457,
           0.03995797454289758,
           0.03023494100754684,
           0.037099276820807624,
           0.023855564527993946,
           0.027612877870234215,
           0.022372521159391208,
           0.05371000984790116,
           0.03631054413645311,
           0.033449995483250755,
           0.02881824434655704,
           0.040384919391389835,
           0.024647669582004834,
           0.03618389365625977,
           0.02597285192518244,
           0.024336528945576988,
           0.04318122513641233
          ]
         },
         "hovertemplate": "<b>%{hovertext}</b><br><br>type=test<br>Params=%{x}<br>Average f1=%{y}<br>params=%{customdata[0]}<extra></extra>",
         "hovertext": [
          "{'max_depth': 3, 'max_features': 'sqrt', 'min_samples_split': 3, 'n_estimators': 50}",
          "{'max_depth': 3, 'max_features': 'sqrt', 'min_samples_split': 3, 'n_estimators': 80}",
          "{'max_depth': 3, 'max_features': 'sqrt', 'min_samples_split': 3, 'n_estimators': 110}",
          "{'max_depth': 3, 'max_features': 'sqrt', 'min_samples_split': 3, 'n_estimators': 130}",
          "{'max_depth': 3, 'max_features': 'sqrt', 'min_samples_split': 6, 'n_estimators': 50}",
          "{'max_depth': 3, 'max_features': 'sqrt', 'min_samples_split': 6, 'n_estimators': 80}",
          "{'max_depth': 3, 'max_features': 'sqrt', 'min_samples_split': 6, 'n_estimators': 110}",
          "{'max_depth': 3, 'max_features': 'sqrt', 'min_samples_split': 6, 'n_estimators': 130}",
          "{'max_depth': 3, 'max_features': 'sqrt', 'min_samples_split': 9, 'n_estimators': 50}",
          "{'max_depth': 3, 'max_features': 'sqrt', 'min_samples_split': 9, 'n_estimators': 80}",
          "{'max_depth': 3, 'max_features': 'sqrt', 'min_samples_split': 9, 'n_estimators': 110}",
          "{'max_depth': 3, 'max_features': 'sqrt', 'min_samples_split': 9, 'n_estimators': 130}",
          "{'max_depth': 3, 'max_features': 'sqrt', 'min_samples_split': 12, 'n_estimators': 50}",
          "{'max_depth': 3, 'max_features': 'sqrt', 'min_samples_split': 12, 'n_estimators': 80}",
          "{'max_depth': 3, 'max_features': 'sqrt', 'min_samples_split': 12, 'n_estimators': 110}",
          "{'max_depth': 3, 'max_features': 'sqrt', 'min_samples_split': 12, 'n_estimators': 130}",
          "{'max_depth': 3, 'max_features': 'log2', 'min_samples_split': 3, 'n_estimators': 50}",
          "{'max_depth': 3, 'max_features': 'log2', 'min_samples_split': 3, 'n_estimators': 80}",
          "{'max_depth': 3, 'max_features': 'log2', 'min_samples_split': 3, 'n_estimators': 110}",
          "{'max_depth': 3, 'max_features': 'log2', 'min_samples_split': 3, 'n_estimators': 130}",
          "{'max_depth': 3, 'max_features': 'log2', 'min_samples_split': 6, 'n_estimators': 50}",
          "{'max_depth': 3, 'max_features': 'log2', 'min_samples_split': 6, 'n_estimators': 80}",
          "{'max_depth': 3, 'max_features': 'log2', 'min_samples_split': 6, 'n_estimators': 110}",
          "{'max_depth': 3, 'max_features': 'log2', 'min_samples_split': 6, 'n_estimators': 130}",
          "{'max_depth': 3, 'max_features': 'log2', 'min_samples_split': 9, 'n_estimators': 50}",
          "{'max_depth': 3, 'max_features': 'log2', 'min_samples_split': 9, 'n_estimators': 80}",
          "{'max_depth': 3, 'max_features': 'log2', 'min_samples_split': 9, 'n_estimators': 110}",
          "{'max_depth': 3, 'max_features': 'log2', 'min_samples_split': 9, 'n_estimators': 130}",
          "{'max_depth': 3, 'max_features': 'log2', 'min_samples_split': 12, 'n_estimators': 50}",
          "{'max_depth': 3, 'max_features': 'log2', 'min_samples_split': 12, 'n_estimators': 80}",
          "{'max_depth': 3, 'max_features': 'log2', 'min_samples_split': 12, 'n_estimators': 110}",
          "{'max_depth': 3, 'max_features': 'log2', 'min_samples_split': 12, 'n_estimators': 130}",
          "{'max_depth': 6, 'max_features': 'sqrt', 'min_samples_split': 3, 'n_estimators': 50}",
          "{'max_depth': 6, 'max_features': 'sqrt', 'min_samples_split': 3, 'n_estimators': 80}",
          "{'max_depth': 6, 'max_features': 'sqrt', 'min_samples_split': 3, 'n_estimators': 110}",
          "{'max_depth': 6, 'max_features': 'sqrt', 'min_samples_split': 3, 'n_estimators': 130}",
          "{'max_depth': 6, 'max_features': 'sqrt', 'min_samples_split': 6, 'n_estimators': 50}",
          "{'max_depth': 6, 'max_features': 'sqrt', 'min_samples_split': 6, 'n_estimators': 80}",
          "{'max_depth': 6, 'max_features': 'sqrt', 'min_samples_split': 6, 'n_estimators': 110}",
          "{'max_depth': 6, 'max_features': 'sqrt', 'min_samples_split': 6, 'n_estimators': 130}",
          "{'max_depth': 6, 'max_features': 'sqrt', 'min_samples_split': 9, 'n_estimators': 50}",
          "{'max_depth': 6, 'max_features': 'sqrt', 'min_samples_split': 9, 'n_estimators': 80}",
          "{'max_depth': 6, 'max_features': 'sqrt', 'min_samples_split': 9, 'n_estimators': 110}",
          "{'max_depth': 6, 'max_features': 'sqrt', 'min_samples_split': 9, 'n_estimators': 130}",
          "{'max_depth': 6, 'max_features': 'sqrt', 'min_samples_split': 12, 'n_estimators': 50}",
          "{'max_depth': 6, 'max_features': 'sqrt', 'min_samples_split': 12, 'n_estimators': 80}",
          "{'max_depth': 6, 'max_features': 'sqrt', 'min_samples_split': 12, 'n_estimators': 110}",
          "{'max_depth': 6, 'max_features': 'sqrt', 'min_samples_split': 12, 'n_estimators': 130}",
          "{'max_depth': 6, 'max_features': 'log2', 'min_samples_split': 3, 'n_estimators': 50}",
          "{'max_depth': 6, 'max_features': 'log2', 'min_samples_split': 3, 'n_estimators': 80}",
          "{'max_depth': 6, 'max_features': 'log2', 'min_samples_split': 3, 'n_estimators': 110}",
          "{'max_depth': 6, 'max_features': 'log2', 'min_samples_split': 3, 'n_estimators': 130}",
          "{'max_depth': 6, 'max_features': 'log2', 'min_samples_split': 6, 'n_estimators': 50}",
          "{'max_depth': 6, 'max_features': 'log2', 'min_samples_split': 6, 'n_estimators': 80}",
          "{'max_depth': 6, 'max_features': 'log2', 'min_samples_split': 6, 'n_estimators': 110}",
          "{'max_depth': 6, 'max_features': 'log2', 'min_samples_split': 6, 'n_estimators': 130}",
          "{'max_depth': 6, 'max_features': 'log2', 'min_samples_split': 9, 'n_estimators': 50}",
          "{'max_depth': 6, 'max_features': 'log2', 'min_samples_split': 9, 'n_estimators': 80}",
          "{'max_depth': 6, 'max_features': 'log2', 'min_samples_split': 9, 'n_estimators': 110}",
          "{'max_depth': 6, 'max_features': 'log2', 'min_samples_split': 9, 'n_estimators': 130}",
          "{'max_depth': 6, 'max_features': 'log2', 'min_samples_split': 12, 'n_estimators': 50}",
          "{'max_depth': 6, 'max_features': 'log2', 'min_samples_split': 12, 'n_estimators': 80}",
          "{'max_depth': 6, 'max_features': 'log2', 'min_samples_split': 12, 'n_estimators': 110}",
          "{'max_depth': 6, 'max_features': 'log2', 'min_samples_split': 12, 'n_estimators': 130}",
          "{'max_depth': 9, 'max_features': 'sqrt', 'min_samples_split': 3, 'n_estimators': 50}",
          "{'max_depth': 9, 'max_features': 'sqrt', 'min_samples_split': 3, 'n_estimators': 80}",
          "{'max_depth': 9, 'max_features': 'sqrt', 'min_samples_split': 3, 'n_estimators': 110}",
          "{'max_depth': 9, 'max_features': 'sqrt', 'min_samples_split': 3, 'n_estimators': 130}",
          "{'max_depth': 9, 'max_features': 'sqrt', 'min_samples_split': 6, 'n_estimators': 50}",
          "{'max_depth': 9, 'max_features': 'sqrt', 'min_samples_split': 6, 'n_estimators': 80}",
          "{'max_depth': 9, 'max_features': 'sqrt', 'min_samples_split': 6, 'n_estimators': 110}",
          "{'max_depth': 9, 'max_features': 'sqrt', 'min_samples_split': 6, 'n_estimators': 130}",
          "{'max_depth': 9, 'max_features': 'sqrt', 'min_samples_split': 9, 'n_estimators': 50}",
          "{'max_depth': 9, 'max_features': 'sqrt', 'min_samples_split': 9, 'n_estimators': 80}",
          "{'max_depth': 9, 'max_features': 'sqrt', 'min_samples_split': 9, 'n_estimators': 110}",
          "{'max_depth': 9, 'max_features': 'sqrt', 'min_samples_split': 9, 'n_estimators': 130}",
          "{'max_depth': 9, 'max_features': 'sqrt', 'min_samples_split': 12, 'n_estimators': 50}",
          "{'max_depth': 9, 'max_features': 'sqrt', 'min_samples_split': 12, 'n_estimators': 80}",
          "{'max_depth': 9, 'max_features': 'sqrt', 'min_samples_split': 12, 'n_estimators': 110}",
          "{'max_depth': 9, 'max_features': 'sqrt', 'min_samples_split': 12, 'n_estimators': 130}",
          "{'max_depth': 9, 'max_features': 'log2', 'min_samples_split': 3, 'n_estimators': 50}",
          "{'max_depth': 9, 'max_features': 'log2', 'min_samples_split': 3, 'n_estimators': 80}",
          "{'max_depth': 9, 'max_features': 'log2', 'min_samples_split': 3, 'n_estimators': 110}",
          "{'max_depth': 9, 'max_features': 'log2', 'min_samples_split': 3, 'n_estimators': 130}",
          "{'max_depth': 9, 'max_features': 'log2', 'min_samples_split': 6, 'n_estimators': 50}",
          "{'max_depth': 9, 'max_features': 'log2', 'min_samples_split': 6, 'n_estimators': 80}",
          "{'max_depth': 9, 'max_features': 'log2', 'min_samples_split': 6, 'n_estimators': 110}",
          "{'max_depth': 9, 'max_features': 'log2', 'min_samples_split': 6, 'n_estimators': 130}",
          "{'max_depth': 9, 'max_features': 'log2', 'min_samples_split': 9, 'n_estimators': 50}",
          "{'max_depth': 9, 'max_features': 'log2', 'min_samples_split': 9, 'n_estimators': 80}",
          "{'max_depth': 9, 'max_features': 'log2', 'min_samples_split': 9, 'n_estimators': 110}",
          "{'max_depth': 9, 'max_features': 'log2', 'min_samples_split': 9, 'n_estimators': 130}",
          "{'max_depth': 9, 'max_features': 'log2', 'min_samples_split': 12, 'n_estimators': 50}",
          "{'max_depth': 9, 'max_features': 'log2', 'min_samples_split': 12, 'n_estimators': 80}",
          "{'max_depth': 9, 'max_features': 'log2', 'min_samples_split': 12, 'n_estimators': 110}",
          "{'max_depth': 9, 'max_features': 'log2', 'min_samples_split': 12, 'n_estimators': 130}"
         ],
         "legendgroup": "test",
         "marker": {
          "color": "#636efa",
          "pattern": {
           "shape": ""
          }
         },
         "name": "test",
         "offsetgroup": "test",
         "orientation": "v",
         "showlegend": true,
         "textposition": "auto",
         "type": "bar",
         "x": [
          0,
          1,
          2,
          3,
          4,
          5,
          6,
          7,
          8,
          9,
          10,
          11,
          12,
          13,
          14,
          15,
          16,
          17,
          18,
          19,
          20,
          21,
          22,
          23,
          24,
          25,
          26,
          27,
          28,
          29,
          30,
          31,
          32,
          33,
          34,
          35,
          36,
          37,
          38,
          39,
          40,
          41,
          42,
          43,
          44,
          45,
          46,
          47,
          48,
          49,
          50,
          51,
          52,
          53,
          54,
          55,
          56,
          57,
          58,
          59,
          60,
          61,
          62,
          63,
          64,
          65,
          66,
          67,
          68,
          69,
          70,
          71,
          72,
          73,
          74,
          75,
          76,
          77,
          78,
          79,
          80,
          81,
          82,
          83,
          84,
          85,
          86,
          87,
          88,
          89,
          90,
          91,
          92,
          93,
          94,
          95
         ],
         "xaxis": "x",
         "y": [
          0.10719824363330159,
          0.10253350661450455,
          0.11094369702048901,
          0.09246296996449868,
          0.10353273790362905,
          0.09775743199430517,
          0.10621569776346877,
          0.10894090144701804,
          0.12793349943390714,
          0.10093856605588072,
          0.10662427654692355,
          0.10241531178580558,
          0.11026727817882416,
          0.10978887623944111,
          0.11210106880813298,
          0.091013443603673,
          0.12534731404629654,
          0.11519413123987643,
          0.09376073330814709,
          0.09817231238773468,
          0.10288361273774953,
          0.10227563027045664,
          0.11594229487337623,
          0.10237963851086015,
          0.12456976485217822,
          0.09962785659085213,
          0.10222227422009977,
          0.10364863719498751,
          0.10611644118451005,
          0.11039036228641812,
          0.10775010490059214,
          0.11050324285306275,
          0.23769688112540513,
          0.23995855795821847,
          0.2464640729039253,
          0.23177504061510898,
          0.2541088600574131,
          0.2427937341876243,
          0.24500899167283566,
          0.24075068671859223,
          0.24744628027307622,
          0.24097524563047154,
          0.23640356970648338,
          0.23279170325549065,
          0.2598927893620869,
          0.24369642097063657,
          0.24269696251496523,
          0.24561384160177474,
          0.23963362855698334,
          0.2326393823716955,
          0.24832440315669108,
          0.2411578984352929,
          0.23763909239286943,
          0.23829522786521756,
          0.24735991363930782,
          0.24741820529039993,
          0.2384564043956884,
          0.2501837369847736,
          0.2479888518415289,
          0.24533499338954448,
          0.26469522826236574,
          0.23347839844737592,
          0.2313327578331791,
          0.2430706698361158,
          0.3196605777496494,
          0.31290758500168897,
          0.31289134470152424,
          0.3174930417205978,
          0.32694118733049315,
          0.3087295482063836,
          0.3212732088605665,
          0.304687675957915,
          0.3264431564583955,
          0.3193633507198184,
          0.31884643645402233,
          0.327270359761065,
          0.3210205278730796,
          0.31874616416603085,
          0.3081374622644789,
          0.316628263095695,
          0.3034669801874957,
          0.3063379348148677,
          0.3183140783055226,
          0.32550799967624194,
          0.3132354492249495,
          0.31716133195153073,
          0.31914520923340045,
          0.30993658732788587,
          0.31961680597750164,
          0.31419075969970744,
          0.31690465054194716,
          0.31124189336601127,
          0.3149903825869059,
          0.31883889091322404,
          0.3083291511106491,
          0.3076917117198183
         ],
         "yaxis": "y"
        },
        {
         "alignmentgroup": "True",
         "customdata": [
          [
           "{'max_depth': 3, 'max_features': 'sqrt', 'min_samples_split': 3, 'n_estimators': 50}"
          ],
          [
           "{'max_depth': 3, 'max_features': 'sqrt', 'min_samples_split': 3, 'n_estimators': 80}"
          ],
          [
           "{'max_depth': 3, 'max_features': 'sqrt', 'min_samples_split': 3, 'n_estimators': 110}"
          ],
          [
           "{'max_depth': 3, 'max_features': 'sqrt', 'min_samples_split': 3, 'n_estimators': 130}"
          ],
          [
           "{'max_depth': 3, 'max_features': 'sqrt', 'min_samples_split': 6, 'n_estimators': 50}"
          ],
          [
           "{'max_depth': 3, 'max_features': 'sqrt', 'min_samples_split': 6, 'n_estimators': 80}"
          ],
          [
           "{'max_depth': 3, 'max_features': 'sqrt', 'min_samples_split': 6, 'n_estimators': 110}"
          ],
          [
           "{'max_depth': 3, 'max_features': 'sqrt', 'min_samples_split': 6, 'n_estimators': 130}"
          ],
          [
           "{'max_depth': 3, 'max_features': 'sqrt', 'min_samples_split': 9, 'n_estimators': 50}"
          ],
          [
           "{'max_depth': 3, 'max_features': 'sqrt', 'min_samples_split': 9, 'n_estimators': 80}"
          ],
          [
           "{'max_depth': 3, 'max_features': 'sqrt', 'min_samples_split': 9, 'n_estimators': 110}"
          ],
          [
           "{'max_depth': 3, 'max_features': 'sqrt', 'min_samples_split': 9, 'n_estimators': 130}"
          ],
          [
           "{'max_depth': 3, 'max_features': 'sqrt', 'min_samples_split': 12, 'n_estimators': 50}"
          ],
          [
           "{'max_depth': 3, 'max_features': 'sqrt', 'min_samples_split': 12, 'n_estimators': 80}"
          ],
          [
           "{'max_depth': 3, 'max_features': 'sqrt', 'min_samples_split': 12, 'n_estimators': 110}"
          ],
          [
           "{'max_depth': 3, 'max_features': 'sqrt', 'min_samples_split': 12, 'n_estimators': 130}"
          ],
          [
           "{'max_depth': 3, 'max_features': 'log2', 'min_samples_split': 3, 'n_estimators': 50}"
          ],
          [
           "{'max_depth': 3, 'max_features': 'log2', 'min_samples_split': 3, 'n_estimators': 80}"
          ],
          [
           "{'max_depth': 3, 'max_features': 'log2', 'min_samples_split': 3, 'n_estimators': 110}"
          ],
          [
           "{'max_depth': 3, 'max_features': 'log2', 'min_samples_split': 3, 'n_estimators': 130}"
          ],
          [
           "{'max_depth': 3, 'max_features': 'log2', 'min_samples_split': 6, 'n_estimators': 50}"
          ],
          [
           "{'max_depth': 3, 'max_features': 'log2', 'min_samples_split': 6, 'n_estimators': 80}"
          ],
          [
           "{'max_depth': 3, 'max_features': 'log2', 'min_samples_split': 6, 'n_estimators': 110}"
          ],
          [
           "{'max_depth': 3, 'max_features': 'log2', 'min_samples_split': 6, 'n_estimators': 130}"
          ],
          [
           "{'max_depth': 3, 'max_features': 'log2', 'min_samples_split': 9, 'n_estimators': 50}"
          ],
          [
           "{'max_depth': 3, 'max_features': 'log2', 'min_samples_split': 9, 'n_estimators': 80}"
          ],
          [
           "{'max_depth': 3, 'max_features': 'log2', 'min_samples_split': 9, 'n_estimators': 110}"
          ],
          [
           "{'max_depth': 3, 'max_features': 'log2', 'min_samples_split': 9, 'n_estimators': 130}"
          ],
          [
           "{'max_depth': 3, 'max_features': 'log2', 'min_samples_split': 12, 'n_estimators': 50}"
          ],
          [
           "{'max_depth': 3, 'max_features': 'log2', 'min_samples_split': 12, 'n_estimators': 80}"
          ],
          [
           "{'max_depth': 3, 'max_features': 'log2', 'min_samples_split': 12, 'n_estimators': 110}"
          ],
          [
           "{'max_depth': 3, 'max_features': 'log2', 'min_samples_split': 12, 'n_estimators': 130}"
          ],
          [
           "{'max_depth': 6, 'max_features': 'sqrt', 'min_samples_split': 3, 'n_estimators': 50}"
          ],
          [
           "{'max_depth': 6, 'max_features': 'sqrt', 'min_samples_split': 3, 'n_estimators': 80}"
          ],
          [
           "{'max_depth': 6, 'max_features': 'sqrt', 'min_samples_split': 3, 'n_estimators': 110}"
          ],
          [
           "{'max_depth': 6, 'max_features': 'sqrt', 'min_samples_split': 3, 'n_estimators': 130}"
          ],
          [
           "{'max_depth': 6, 'max_features': 'sqrt', 'min_samples_split': 6, 'n_estimators': 50}"
          ],
          [
           "{'max_depth': 6, 'max_features': 'sqrt', 'min_samples_split': 6, 'n_estimators': 80}"
          ],
          [
           "{'max_depth': 6, 'max_features': 'sqrt', 'min_samples_split': 6, 'n_estimators': 110}"
          ],
          [
           "{'max_depth': 6, 'max_features': 'sqrt', 'min_samples_split': 6, 'n_estimators': 130}"
          ],
          [
           "{'max_depth': 6, 'max_features': 'sqrt', 'min_samples_split': 9, 'n_estimators': 50}"
          ],
          [
           "{'max_depth': 6, 'max_features': 'sqrt', 'min_samples_split': 9, 'n_estimators': 80}"
          ],
          [
           "{'max_depth': 6, 'max_features': 'sqrt', 'min_samples_split': 9, 'n_estimators': 110}"
          ],
          [
           "{'max_depth': 6, 'max_features': 'sqrt', 'min_samples_split': 9, 'n_estimators': 130}"
          ],
          [
           "{'max_depth': 6, 'max_features': 'sqrt', 'min_samples_split': 12, 'n_estimators': 50}"
          ],
          [
           "{'max_depth': 6, 'max_features': 'sqrt', 'min_samples_split': 12, 'n_estimators': 80}"
          ],
          [
           "{'max_depth': 6, 'max_features': 'sqrt', 'min_samples_split': 12, 'n_estimators': 110}"
          ],
          [
           "{'max_depth': 6, 'max_features': 'sqrt', 'min_samples_split': 12, 'n_estimators': 130}"
          ],
          [
           "{'max_depth': 6, 'max_features': 'log2', 'min_samples_split': 3, 'n_estimators': 50}"
          ],
          [
           "{'max_depth': 6, 'max_features': 'log2', 'min_samples_split': 3, 'n_estimators': 80}"
          ],
          [
           "{'max_depth': 6, 'max_features': 'log2', 'min_samples_split': 3, 'n_estimators': 110}"
          ],
          [
           "{'max_depth': 6, 'max_features': 'log2', 'min_samples_split': 3, 'n_estimators': 130}"
          ],
          [
           "{'max_depth': 6, 'max_features': 'log2', 'min_samples_split': 6, 'n_estimators': 50}"
          ],
          [
           "{'max_depth': 6, 'max_features': 'log2', 'min_samples_split': 6, 'n_estimators': 80}"
          ],
          [
           "{'max_depth': 6, 'max_features': 'log2', 'min_samples_split': 6, 'n_estimators': 110}"
          ],
          [
           "{'max_depth': 6, 'max_features': 'log2', 'min_samples_split': 6, 'n_estimators': 130}"
          ],
          [
           "{'max_depth': 6, 'max_features': 'log2', 'min_samples_split': 9, 'n_estimators': 50}"
          ],
          [
           "{'max_depth': 6, 'max_features': 'log2', 'min_samples_split': 9, 'n_estimators': 80}"
          ],
          [
           "{'max_depth': 6, 'max_features': 'log2', 'min_samples_split': 9, 'n_estimators': 110}"
          ],
          [
           "{'max_depth': 6, 'max_features': 'log2', 'min_samples_split': 9, 'n_estimators': 130}"
          ],
          [
           "{'max_depth': 6, 'max_features': 'log2', 'min_samples_split': 12, 'n_estimators': 50}"
          ],
          [
           "{'max_depth': 6, 'max_features': 'log2', 'min_samples_split': 12, 'n_estimators': 80}"
          ],
          [
           "{'max_depth': 6, 'max_features': 'log2', 'min_samples_split': 12, 'n_estimators': 110}"
          ],
          [
           "{'max_depth': 6, 'max_features': 'log2', 'min_samples_split': 12, 'n_estimators': 130}"
          ],
          [
           "{'max_depth': 9, 'max_features': 'sqrt', 'min_samples_split': 3, 'n_estimators': 50}"
          ],
          [
           "{'max_depth': 9, 'max_features': 'sqrt', 'min_samples_split': 3, 'n_estimators': 80}"
          ],
          [
           "{'max_depth': 9, 'max_features': 'sqrt', 'min_samples_split': 3, 'n_estimators': 110}"
          ],
          [
           "{'max_depth': 9, 'max_features': 'sqrt', 'min_samples_split': 3, 'n_estimators': 130}"
          ],
          [
           "{'max_depth': 9, 'max_features': 'sqrt', 'min_samples_split': 6, 'n_estimators': 50}"
          ],
          [
           "{'max_depth': 9, 'max_features': 'sqrt', 'min_samples_split': 6, 'n_estimators': 80}"
          ],
          [
           "{'max_depth': 9, 'max_features': 'sqrt', 'min_samples_split': 6, 'n_estimators': 110}"
          ],
          [
           "{'max_depth': 9, 'max_features': 'sqrt', 'min_samples_split': 6, 'n_estimators': 130}"
          ],
          [
           "{'max_depth': 9, 'max_features': 'sqrt', 'min_samples_split': 9, 'n_estimators': 50}"
          ],
          [
           "{'max_depth': 9, 'max_features': 'sqrt', 'min_samples_split': 9, 'n_estimators': 80}"
          ],
          [
           "{'max_depth': 9, 'max_features': 'sqrt', 'min_samples_split': 9, 'n_estimators': 110}"
          ],
          [
           "{'max_depth': 9, 'max_features': 'sqrt', 'min_samples_split': 9, 'n_estimators': 130}"
          ],
          [
           "{'max_depth': 9, 'max_features': 'sqrt', 'min_samples_split': 12, 'n_estimators': 50}"
          ],
          [
           "{'max_depth': 9, 'max_features': 'sqrt', 'min_samples_split': 12, 'n_estimators': 80}"
          ],
          [
           "{'max_depth': 9, 'max_features': 'sqrt', 'min_samples_split': 12, 'n_estimators': 110}"
          ],
          [
           "{'max_depth': 9, 'max_features': 'sqrt', 'min_samples_split': 12, 'n_estimators': 130}"
          ],
          [
           "{'max_depth': 9, 'max_features': 'log2', 'min_samples_split': 3, 'n_estimators': 50}"
          ],
          [
           "{'max_depth': 9, 'max_features': 'log2', 'min_samples_split': 3, 'n_estimators': 80}"
          ],
          [
           "{'max_depth': 9, 'max_features': 'log2', 'min_samples_split': 3, 'n_estimators': 110}"
          ],
          [
           "{'max_depth': 9, 'max_features': 'log2', 'min_samples_split': 3, 'n_estimators': 130}"
          ],
          [
           "{'max_depth': 9, 'max_features': 'log2', 'min_samples_split': 6, 'n_estimators': 50}"
          ],
          [
           "{'max_depth': 9, 'max_features': 'log2', 'min_samples_split': 6, 'n_estimators': 80}"
          ],
          [
           "{'max_depth': 9, 'max_features': 'log2', 'min_samples_split': 6, 'n_estimators': 110}"
          ],
          [
           "{'max_depth': 9, 'max_features': 'log2', 'min_samples_split': 6, 'n_estimators': 130}"
          ],
          [
           "{'max_depth': 9, 'max_features': 'log2', 'min_samples_split': 9, 'n_estimators': 50}"
          ],
          [
           "{'max_depth': 9, 'max_features': 'log2', 'min_samples_split': 9, 'n_estimators': 80}"
          ],
          [
           "{'max_depth': 9, 'max_features': 'log2', 'min_samples_split': 9, 'n_estimators': 110}"
          ],
          [
           "{'max_depth': 9, 'max_features': 'log2', 'min_samples_split': 9, 'n_estimators': 130}"
          ],
          [
           "{'max_depth': 9, 'max_features': 'log2', 'min_samples_split': 12, 'n_estimators': 50}"
          ],
          [
           "{'max_depth': 9, 'max_features': 'log2', 'min_samples_split': 12, 'n_estimators': 80}"
          ],
          [
           "{'max_depth': 9, 'max_features': 'log2', 'min_samples_split': 12, 'n_estimators': 110}"
          ],
          [
           "{'max_depth': 9, 'max_features': 'log2', 'min_samples_split': 12, 'n_estimators': 130}"
          ]
         ],
         "error_y": {
          "array": [
           0.03526110129192792,
           0.026415803918396624,
           0.02577351166815811,
           0.02234567207208856,
           0.024707548799434705,
           0.023591701476695082,
           0.03054059650798892,
           0.024827505583450822,
           0.042185961607449377,
           0.020639429223601537,
           0.03170317416903789,
           0.02739994899602337,
           0.02911797151126014,
           0.03626315676891221,
           0.028987088617369317,
           0.026837362957158137,
           0.041861985434276626,
           0.02939752105140674,
           0.023513706160476974,
           0.027991418876691584,
           0.04206042740169337,
           0.021501744825647328,
           0.03112710926466413,
           0.027128932635814135,
           0.03285795693572225,
           0.028124739704811545,
           0.02406601765494403,
           0.03557300308410072,
           0.027024759059242728,
           0.026501646988168905,
           0.031912003203363494,
           0.038722624485349834,
           0.029801386138654535,
           0.028914727272774114,
           0.03831474477635527,
           0.03921473546045863,
           0.027148502491977294,
           0.034188663052251704,
           0.037612498389770925,
           0.04044260466158815,
           0.03593926953960679,
           0.0444002648942739,
           0.0422582802280197,
           0.04203678759807512,
           0.031229713056426762,
           0.043474211143404815,
           0.03415452194293124,
           0.04009740298675564,
           0.04427920528048713,
           0.023837291974958135,
           0.02775111473066701,
           0.029002227451635602,
           0.0342498184986432,
           0.029210717112720698,
           0.042117122861426146,
           0.034233926982359664,
           0.033225819051164764,
           0.04263102537626182,
           0.04155035866811448,
           0.02762698680754488,
           0.027372135379128526,
           0.03961838641817972,
           0.03428071069129471,
           0.0373726815640621,
           0.023809992054717875,
           0.02526492411241432,
           0.01889714139144676,
           0.02887847666203219,
           0.018042649425891556,
           0.02443132608610123,
           0.029595357458098107,
           0.022253708955828698,
           0.024185671459900387,
           0.020168166037301743,
           0.02348055355317407,
           0.020291747349545485,
           0.019519290171180658,
           0.020971482854360134,
           0.02314854547926394,
           0.016309735987143574,
           0.028639696803038125,
           0.02539663938893095,
           0.028721606718933555,
           0.028082307426201502,
           0.026992879698247825,
           0.03104471353005572,
           0.019149238493550946,
           0.023743662364050993,
           0.025332793552551955,
           0.02795169714468074,
           0.028732290798286462,
           0.03169997382865632,
           0.024759524642370634,
           0.035691927227679124,
           0.025857001475936545,
           0.025432995054767014
          ]
         },
         "hovertemplate": "<b>%{hovertext}</b><br><br>type=train<br>Params=%{x}<br>Average f1=%{y}<br>params=%{customdata[0]}<extra></extra>",
         "hovertext": [
          "{'max_depth': 3, 'max_features': 'sqrt', 'min_samples_split': 3, 'n_estimators': 50}",
          "{'max_depth': 3, 'max_features': 'sqrt', 'min_samples_split': 3, 'n_estimators': 80}",
          "{'max_depth': 3, 'max_features': 'sqrt', 'min_samples_split': 3, 'n_estimators': 110}",
          "{'max_depth': 3, 'max_features': 'sqrt', 'min_samples_split': 3, 'n_estimators': 130}",
          "{'max_depth': 3, 'max_features': 'sqrt', 'min_samples_split': 6, 'n_estimators': 50}",
          "{'max_depth': 3, 'max_features': 'sqrt', 'min_samples_split': 6, 'n_estimators': 80}",
          "{'max_depth': 3, 'max_features': 'sqrt', 'min_samples_split': 6, 'n_estimators': 110}",
          "{'max_depth': 3, 'max_features': 'sqrt', 'min_samples_split': 6, 'n_estimators': 130}",
          "{'max_depth': 3, 'max_features': 'sqrt', 'min_samples_split': 9, 'n_estimators': 50}",
          "{'max_depth': 3, 'max_features': 'sqrt', 'min_samples_split': 9, 'n_estimators': 80}",
          "{'max_depth': 3, 'max_features': 'sqrt', 'min_samples_split': 9, 'n_estimators': 110}",
          "{'max_depth': 3, 'max_features': 'sqrt', 'min_samples_split': 9, 'n_estimators': 130}",
          "{'max_depth': 3, 'max_features': 'sqrt', 'min_samples_split': 12, 'n_estimators': 50}",
          "{'max_depth': 3, 'max_features': 'sqrt', 'min_samples_split': 12, 'n_estimators': 80}",
          "{'max_depth': 3, 'max_features': 'sqrt', 'min_samples_split': 12, 'n_estimators': 110}",
          "{'max_depth': 3, 'max_features': 'sqrt', 'min_samples_split': 12, 'n_estimators': 130}",
          "{'max_depth': 3, 'max_features': 'log2', 'min_samples_split': 3, 'n_estimators': 50}",
          "{'max_depth': 3, 'max_features': 'log2', 'min_samples_split': 3, 'n_estimators': 80}",
          "{'max_depth': 3, 'max_features': 'log2', 'min_samples_split': 3, 'n_estimators': 110}",
          "{'max_depth': 3, 'max_features': 'log2', 'min_samples_split': 3, 'n_estimators': 130}",
          "{'max_depth': 3, 'max_features': 'log2', 'min_samples_split': 6, 'n_estimators': 50}",
          "{'max_depth': 3, 'max_features': 'log2', 'min_samples_split': 6, 'n_estimators': 80}",
          "{'max_depth': 3, 'max_features': 'log2', 'min_samples_split': 6, 'n_estimators': 110}",
          "{'max_depth': 3, 'max_features': 'log2', 'min_samples_split': 6, 'n_estimators': 130}",
          "{'max_depth': 3, 'max_features': 'log2', 'min_samples_split': 9, 'n_estimators': 50}",
          "{'max_depth': 3, 'max_features': 'log2', 'min_samples_split': 9, 'n_estimators': 80}",
          "{'max_depth': 3, 'max_features': 'log2', 'min_samples_split': 9, 'n_estimators': 110}",
          "{'max_depth': 3, 'max_features': 'log2', 'min_samples_split': 9, 'n_estimators': 130}",
          "{'max_depth': 3, 'max_features': 'log2', 'min_samples_split': 12, 'n_estimators': 50}",
          "{'max_depth': 3, 'max_features': 'log2', 'min_samples_split': 12, 'n_estimators': 80}",
          "{'max_depth': 3, 'max_features': 'log2', 'min_samples_split': 12, 'n_estimators': 110}",
          "{'max_depth': 3, 'max_features': 'log2', 'min_samples_split': 12, 'n_estimators': 130}",
          "{'max_depth': 6, 'max_features': 'sqrt', 'min_samples_split': 3, 'n_estimators': 50}",
          "{'max_depth': 6, 'max_features': 'sqrt', 'min_samples_split': 3, 'n_estimators': 80}",
          "{'max_depth': 6, 'max_features': 'sqrt', 'min_samples_split': 3, 'n_estimators': 110}",
          "{'max_depth': 6, 'max_features': 'sqrt', 'min_samples_split': 3, 'n_estimators': 130}",
          "{'max_depth': 6, 'max_features': 'sqrt', 'min_samples_split': 6, 'n_estimators': 50}",
          "{'max_depth': 6, 'max_features': 'sqrt', 'min_samples_split': 6, 'n_estimators': 80}",
          "{'max_depth': 6, 'max_features': 'sqrt', 'min_samples_split': 6, 'n_estimators': 110}",
          "{'max_depth': 6, 'max_features': 'sqrt', 'min_samples_split': 6, 'n_estimators': 130}",
          "{'max_depth': 6, 'max_features': 'sqrt', 'min_samples_split': 9, 'n_estimators': 50}",
          "{'max_depth': 6, 'max_features': 'sqrt', 'min_samples_split': 9, 'n_estimators': 80}",
          "{'max_depth': 6, 'max_features': 'sqrt', 'min_samples_split': 9, 'n_estimators': 110}",
          "{'max_depth': 6, 'max_features': 'sqrt', 'min_samples_split': 9, 'n_estimators': 130}",
          "{'max_depth': 6, 'max_features': 'sqrt', 'min_samples_split': 12, 'n_estimators': 50}",
          "{'max_depth': 6, 'max_features': 'sqrt', 'min_samples_split': 12, 'n_estimators': 80}",
          "{'max_depth': 6, 'max_features': 'sqrt', 'min_samples_split': 12, 'n_estimators': 110}",
          "{'max_depth': 6, 'max_features': 'sqrt', 'min_samples_split': 12, 'n_estimators': 130}",
          "{'max_depth': 6, 'max_features': 'log2', 'min_samples_split': 3, 'n_estimators': 50}",
          "{'max_depth': 6, 'max_features': 'log2', 'min_samples_split': 3, 'n_estimators': 80}",
          "{'max_depth': 6, 'max_features': 'log2', 'min_samples_split': 3, 'n_estimators': 110}",
          "{'max_depth': 6, 'max_features': 'log2', 'min_samples_split': 3, 'n_estimators': 130}",
          "{'max_depth': 6, 'max_features': 'log2', 'min_samples_split': 6, 'n_estimators': 50}",
          "{'max_depth': 6, 'max_features': 'log2', 'min_samples_split': 6, 'n_estimators': 80}",
          "{'max_depth': 6, 'max_features': 'log2', 'min_samples_split': 6, 'n_estimators': 110}",
          "{'max_depth': 6, 'max_features': 'log2', 'min_samples_split': 6, 'n_estimators': 130}",
          "{'max_depth': 6, 'max_features': 'log2', 'min_samples_split': 9, 'n_estimators': 50}",
          "{'max_depth': 6, 'max_features': 'log2', 'min_samples_split': 9, 'n_estimators': 80}",
          "{'max_depth': 6, 'max_features': 'log2', 'min_samples_split': 9, 'n_estimators': 110}",
          "{'max_depth': 6, 'max_features': 'log2', 'min_samples_split': 9, 'n_estimators': 130}",
          "{'max_depth': 6, 'max_features': 'log2', 'min_samples_split': 12, 'n_estimators': 50}",
          "{'max_depth': 6, 'max_features': 'log2', 'min_samples_split': 12, 'n_estimators': 80}",
          "{'max_depth': 6, 'max_features': 'log2', 'min_samples_split': 12, 'n_estimators': 110}",
          "{'max_depth': 6, 'max_features': 'log2', 'min_samples_split': 12, 'n_estimators': 130}",
          "{'max_depth': 9, 'max_features': 'sqrt', 'min_samples_split': 3, 'n_estimators': 50}",
          "{'max_depth': 9, 'max_features': 'sqrt', 'min_samples_split': 3, 'n_estimators': 80}",
          "{'max_depth': 9, 'max_features': 'sqrt', 'min_samples_split': 3, 'n_estimators': 110}",
          "{'max_depth': 9, 'max_features': 'sqrt', 'min_samples_split': 3, 'n_estimators': 130}",
          "{'max_depth': 9, 'max_features': 'sqrt', 'min_samples_split': 6, 'n_estimators': 50}",
          "{'max_depth': 9, 'max_features': 'sqrt', 'min_samples_split': 6, 'n_estimators': 80}",
          "{'max_depth': 9, 'max_features': 'sqrt', 'min_samples_split': 6, 'n_estimators': 110}",
          "{'max_depth': 9, 'max_features': 'sqrt', 'min_samples_split': 6, 'n_estimators': 130}",
          "{'max_depth': 9, 'max_features': 'sqrt', 'min_samples_split': 9, 'n_estimators': 50}",
          "{'max_depth': 9, 'max_features': 'sqrt', 'min_samples_split': 9, 'n_estimators': 80}",
          "{'max_depth': 9, 'max_features': 'sqrt', 'min_samples_split': 9, 'n_estimators': 110}",
          "{'max_depth': 9, 'max_features': 'sqrt', 'min_samples_split': 9, 'n_estimators': 130}",
          "{'max_depth': 9, 'max_features': 'sqrt', 'min_samples_split': 12, 'n_estimators': 50}",
          "{'max_depth': 9, 'max_features': 'sqrt', 'min_samples_split': 12, 'n_estimators': 80}",
          "{'max_depth': 9, 'max_features': 'sqrt', 'min_samples_split': 12, 'n_estimators': 110}",
          "{'max_depth': 9, 'max_features': 'sqrt', 'min_samples_split': 12, 'n_estimators': 130}",
          "{'max_depth': 9, 'max_features': 'log2', 'min_samples_split': 3, 'n_estimators': 50}",
          "{'max_depth': 9, 'max_features': 'log2', 'min_samples_split': 3, 'n_estimators': 80}",
          "{'max_depth': 9, 'max_features': 'log2', 'min_samples_split': 3, 'n_estimators': 110}",
          "{'max_depth': 9, 'max_features': 'log2', 'min_samples_split': 3, 'n_estimators': 130}",
          "{'max_depth': 9, 'max_features': 'log2', 'min_samples_split': 6, 'n_estimators': 50}",
          "{'max_depth': 9, 'max_features': 'log2', 'min_samples_split': 6, 'n_estimators': 80}",
          "{'max_depth': 9, 'max_features': 'log2', 'min_samples_split': 6, 'n_estimators': 110}",
          "{'max_depth': 9, 'max_features': 'log2', 'min_samples_split': 6, 'n_estimators': 130}",
          "{'max_depth': 9, 'max_features': 'log2', 'min_samples_split': 9, 'n_estimators': 50}",
          "{'max_depth': 9, 'max_features': 'log2', 'min_samples_split': 9, 'n_estimators': 80}",
          "{'max_depth': 9, 'max_features': 'log2', 'min_samples_split': 9, 'n_estimators': 110}",
          "{'max_depth': 9, 'max_features': 'log2', 'min_samples_split': 9, 'n_estimators': 130}",
          "{'max_depth': 9, 'max_features': 'log2', 'min_samples_split': 12, 'n_estimators': 50}",
          "{'max_depth': 9, 'max_features': 'log2', 'min_samples_split': 12, 'n_estimators': 80}",
          "{'max_depth': 9, 'max_features': 'log2', 'min_samples_split': 12, 'n_estimators': 110}",
          "{'max_depth': 9, 'max_features': 'log2', 'min_samples_split': 12, 'n_estimators': 130}"
         ],
         "legendgroup": "train",
         "marker": {
          "color": "#EF553B",
          "pattern": {
           "shape": ""
          }
         },
         "name": "train",
         "offsetgroup": "train",
         "orientation": "v",
         "showlegend": true,
         "textposition": "auto",
         "type": "bar",
         "x": [
          0,
          1,
          2,
          3,
          4,
          5,
          6,
          7,
          8,
          9,
          10,
          11,
          12,
          13,
          14,
          15,
          16,
          17,
          18,
          19,
          20,
          21,
          22,
          23,
          24,
          25,
          26,
          27,
          28,
          29,
          30,
          31,
          32,
          33,
          34,
          35,
          36,
          37,
          38,
          39,
          40,
          41,
          42,
          43,
          44,
          45,
          46,
          47,
          48,
          49,
          50,
          51,
          52,
          53,
          54,
          55,
          56,
          57,
          58,
          59,
          60,
          61,
          62,
          63,
          64,
          65,
          66,
          67,
          68,
          69,
          70,
          71,
          72,
          73,
          74,
          75,
          76,
          77,
          78,
          79,
          80,
          81,
          82,
          83,
          84,
          85,
          86,
          87,
          88,
          89,
          90,
          91,
          92,
          93,
          94,
          95
         ],
         "xaxis": "x",
         "y": [
          0.16571995083697175,
          0.16674952016469496,
          0.1621890448277316,
          0.15910017247588043,
          0.16230031314958995,
          0.1712717590014328,
          0.16539627982630256,
          0.1650026662295386,
          0.18105367047709595,
          0.1653083084922059,
          0.1659200255808459,
          0.1576818132310045,
          0.15857398126944694,
          0.16823384303713404,
          0.16870700322840065,
          0.15537199177599578,
          0.1702461496070079,
          0.17209457425923075,
          0.1645738505909219,
          0.1609161057519858,
          0.17646143162511724,
          0.16109016428316175,
          0.1732405581334485,
          0.15748161018225476,
          0.17523871486318743,
          0.16564125114914413,
          0.17591586369463638,
          0.1648698167200184,
          0.17265619697248988,
          0.1617431094317621,
          0.16829614035970158,
          0.16726301886422482,
          0.42501444951626255,
          0.42783203693646393,
          0.42618893446825634,
          0.4300752240713046,
          0.4439103604537686,
          0.41664693699769595,
          0.42729090086536736,
          0.4240479457769091,
          0.4131269455769372,
          0.4252756298898118,
          0.4152180494831551,
          0.4090187892572212,
          0.4105572178961207,
          0.4105537301684352,
          0.40955489241023635,
          0.4181026401472757,
          0.4173988003454966,
          0.4191276164821366,
          0.42521426484647246,
          0.424244271549009,
          0.4277275678667669,
          0.4191576740041761,
          0.42486961398765316,
          0.4172660049808904,
          0.4221940794832448,
          0.42133077480087044,
          0.4212718829045453,
          0.42397936061617525,
          0.42041972822106466,
          0.4102415549332658,
          0.4116258922915043,
          0.4170808522956092,
          0.6631325416936662,
          0.6595072968090616,
          0.6679244965607561,
          0.6587417558270378,
          0.6529837288691229,
          0.6363308894007222,
          0.643367936623027,
          0.6414150152207478,
          0.6233714117378371,
          0.6243829787072598,
          0.6222542472677647,
          0.6283169866588646,
          0.6301561448350348,
          0.6113397090180083,
          0.6116617243209985,
          0.6103507147689926,
          0.660677481154024,
          0.6702183697330215,
          0.6636012351317931,
          0.6649008560933334,
          0.6398685956952852,
          0.6452077813467613,
          0.6383298704027524,
          0.6537313384361954,
          0.6429177048630097,
          0.6263914942242028,
          0.6253179885137211,
          0.632615488580998,
          0.6108098853665264,
          0.6097641827693941,
          0.6139011490308179,
          0.6154064069215068
         ],
         "yaxis": "y"
        }
       ],
       "layout": {
        "barmode": "group",
        "legend": {
         "title": {
          "text": "type"
         },
         "tracegroupgap": 0
        },
        "template": {
         "data": {
          "bar": [
           {
            "error_x": {
             "color": "#2a3f5f"
            },
            "error_y": {
             "color": "#2a3f5f"
            },
            "marker": {
             "line": {
              "color": "#E5ECF6",
              "width": 0.5
             },
             "pattern": {
              "fillmode": "overlay",
              "size": 10,
              "solidity": 0.2
             }
            },
            "type": "bar"
           }
          ],
          "barpolar": [
           {
            "marker": {
             "line": {
              "color": "#E5ECF6",
              "width": 0.5
             },
             "pattern": {
              "fillmode": "overlay",
              "size": 10,
              "solidity": 0.2
             }
            },
            "type": "barpolar"
           }
          ],
          "carpet": [
           {
            "aaxis": {
             "endlinecolor": "#2a3f5f",
             "gridcolor": "white",
             "linecolor": "white",
             "minorgridcolor": "white",
             "startlinecolor": "#2a3f5f"
            },
            "baxis": {
             "endlinecolor": "#2a3f5f",
             "gridcolor": "white",
             "linecolor": "white",
             "minorgridcolor": "white",
             "startlinecolor": "#2a3f5f"
            },
            "type": "carpet"
           }
          ],
          "choropleth": [
           {
            "colorbar": {
             "outlinewidth": 0,
             "ticks": ""
            },
            "type": "choropleth"
           }
          ],
          "contour": [
           {
            "colorbar": {
             "outlinewidth": 0,
             "ticks": ""
            },
            "colorscale": [
             [
              0,
              "#0d0887"
             ],
             [
              0.1111111111111111,
              "#46039f"
             ],
             [
              0.2222222222222222,
              "#7201a8"
             ],
             [
              0.3333333333333333,
              "#9c179e"
             ],
             [
              0.4444444444444444,
              "#bd3786"
             ],
             [
              0.5555555555555556,
              "#d8576b"
             ],
             [
              0.6666666666666666,
              "#ed7953"
             ],
             [
              0.7777777777777778,
              "#fb9f3a"
             ],
             [
              0.8888888888888888,
              "#fdca26"
             ],
             [
              1,
              "#f0f921"
             ]
            ],
            "type": "contour"
           }
          ],
          "contourcarpet": [
           {
            "colorbar": {
             "outlinewidth": 0,
             "ticks": ""
            },
            "type": "contourcarpet"
           }
          ],
          "heatmap": [
           {
            "colorbar": {
             "outlinewidth": 0,
             "ticks": ""
            },
            "colorscale": [
             [
              0,
              "#0d0887"
             ],
             [
              0.1111111111111111,
              "#46039f"
             ],
             [
              0.2222222222222222,
              "#7201a8"
             ],
             [
              0.3333333333333333,
              "#9c179e"
             ],
             [
              0.4444444444444444,
              "#bd3786"
             ],
             [
              0.5555555555555556,
              "#d8576b"
             ],
             [
              0.6666666666666666,
              "#ed7953"
             ],
             [
              0.7777777777777778,
              "#fb9f3a"
             ],
             [
              0.8888888888888888,
              "#fdca26"
             ],
             [
              1,
              "#f0f921"
             ]
            ],
            "type": "heatmap"
           }
          ],
          "heatmapgl": [
           {
            "colorbar": {
             "outlinewidth": 0,
             "ticks": ""
            },
            "colorscale": [
             [
              0,
              "#0d0887"
             ],
             [
              0.1111111111111111,
              "#46039f"
             ],
             [
              0.2222222222222222,
              "#7201a8"
             ],
             [
              0.3333333333333333,
              "#9c179e"
             ],
             [
              0.4444444444444444,
              "#bd3786"
             ],
             [
              0.5555555555555556,
              "#d8576b"
             ],
             [
              0.6666666666666666,
              "#ed7953"
             ],
             [
              0.7777777777777778,
              "#fb9f3a"
             ],
             [
              0.8888888888888888,
              "#fdca26"
             ],
             [
              1,
              "#f0f921"
             ]
            ],
            "type": "heatmapgl"
           }
          ],
          "histogram": [
           {
            "marker": {
             "pattern": {
              "fillmode": "overlay",
              "size": 10,
              "solidity": 0.2
             }
            },
            "type": "histogram"
           }
          ],
          "histogram2d": [
           {
            "colorbar": {
             "outlinewidth": 0,
             "ticks": ""
            },
            "colorscale": [
             [
              0,
              "#0d0887"
             ],
             [
              0.1111111111111111,
              "#46039f"
             ],
             [
              0.2222222222222222,
              "#7201a8"
             ],
             [
              0.3333333333333333,
              "#9c179e"
             ],
             [
              0.4444444444444444,
              "#bd3786"
             ],
             [
              0.5555555555555556,
              "#d8576b"
             ],
             [
              0.6666666666666666,
              "#ed7953"
             ],
             [
              0.7777777777777778,
              "#fb9f3a"
             ],
             [
              0.8888888888888888,
              "#fdca26"
             ],
             [
              1,
              "#f0f921"
             ]
            ],
            "type": "histogram2d"
           }
          ],
          "histogram2dcontour": [
           {
            "colorbar": {
             "outlinewidth": 0,
             "ticks": ""
            },
            "colorscale": [
             [
              0,
              "#0d0887"
             ],
             [
              0.1111111111111111,
              "#46039f"
             ],
             [
              0.2222222222222222,
              "#7201a8"
             ],
             [
              0.3333333333333333,
              "#9c179e"
             ],
             [
              0.4444444444444444,
              "#bd3786"
             ],
             [
              0.5555555555555556,
              "#d8576b"
             ],
             [
              0.6666666666666666,
              "#ed7953"
             ],
             [
              0.7777777777777778,
              "#fb9f3a"
             ],
             [
              0.8888888888888888,
              "#fdca26"
             ],
             [
              1,
              "#f0f921"
             ]
            ],
            "type": "histogram2dcontour"
           }
          ],
          "mesh3d": [
           {
            "colorbar": {
             "outlinewidth": 0,
             "ticks": ""
            },
            "type": "mesh3d"
           }
          ],
          "parcoords": [
           {
            "line": {
             "colorbar": {
              "outlinewidth": 0,
              "ticks": ""
             }
            },
            "type": "parcoords"
           }
          ],
          "pie": [
           {
            "automargin": true,
            "type": "pie"
           }
          ],
          "scatter": [
           {
            "marker": {
             "colorbar": {
              "outlinewidth": 0,
              "ticks": ""
             }
            },
            "type": "scatter"
           }
          ],
          "scatter3d": [
           {
            "line": {
             "colorbar": {
              "outlinewidth": 0,
              "ticks": ""
             }
            },
            "marker": {
             "colorbar": {
              "outlinewidth": 0,
              "ticks": ""
             }
            },
            "type": "scatter3d"
           }
          ],
          "scattercarpet": [
           {
            "marker": {
             "colorbar": {
              "outlinewidth": 0,
              "ticks": ""
             }
            },
            "type": "scattercarpet"
           }
          ],
          "scattergeo": [
           {
            "marker": {
             "colorbar": {
              "outlinewidth": 0,
              "ticks": ""
             }
            },
            "type": "scattergeo"
           }
          ],
          "scattergl": [
           {
            "marker": {
             "colorbar": {
              "outlinewidth": 0,
              "ticks": ""
             }
            },
            "type": "scattergl"
           }
          ],
          "scattermapbox": [
           {
            "marker": {
             "colorbar": {
              "outlinewidth": 0,
              "ticks": ""
             }
            },
            "type": "scattermapbox"
           }
          ],
          "scatterpolar": [
           {
            "marker": {
             "colorbar": {
              "outlinewidth": 0,
              "ticks": ""
             }
            },
            "type": "scatterpolar"
           }
          ],
          "scatterpolargl": [
           {
            "marker": {
             "colorbar": {
              "outlinewidth": 0,
              "ticks": ""
             }
            },
            "type": "scatterpolargl"
           }
          ],
          "scatterternary": [
           {
            "marker": {
             "colorbar": {
              "outlinewidth": 0,
              "ticks": ""
             }
            },
            "type": "scatterternary"
           }
          ],
          "surface": [
           {
            "colorbar": {
             "outlinewidth": 0,
             "ticks": ""
            },
            "colorscale": [
             [
              0,
              "#0d0887"
             ],
             [
              0.1111111111111111,
              "#46039f"
             ],
             [
              0.2222222222222222,
              "#7201a8"
             ],
             [
              0.3333333333333333,
              "#9c179e"
             ],
             [
              0.4444444444444444,
              "#bd3786"
             ],
             [
              0.5555555555555556,
              "#d8576b"
             ],
             [
              0.6666666666666666,
              "#ed7953"
             ],
             [
              0.7777777777777778,
              "#fb9f3a"
             ],
             [
              0.8888888888888888,
              "#fdca26"
             ],
             [
              1,
              "#f0f921"
             ]
            ],
            "type": "surface"
           }
          ],
          "table": [
           {
            "cells": {
             "fill": {
              "color": "#EBF0F8"
             },
             "line": {
              "color": "white"
             }
            },
            "header": {
             "fill": {
              "color": "#C8D4E3"
             },
             "line": {
              "color": "white"
             }
            },
            "type": "table"
           }
          ]
         },
         "layout": {
          "annotationdefaults": {
           "arrowcolor": "#2a3f5f",
           "arrowhead": 0,
           "arrowwidth": 1
          },
          "autotypenumbers": "strict",
          "coloraxis": {
           "colorbar": {
            "outlinewidth": 0,
            "ticks": ""
           }
          },
          "colorscale": {
           "diverging": [
            [
             0,
             "#8e0152"
            ],
            [
             0.1,
             "#c51b7d"
            ],
            [
             0.2,
             "#de77ae"
            ],
            [
             0.3,
             "#f1b6da"
            ],
            [
             0.4,
             "#fde0ef"
            ],
            [
             0.5,
             "#f7f7f7"
            ],
            [
             0.6,
             "#e6f5d0"
            ],
            [
             0.7,
             "#b8e186"
            ],
            [
             0.8,
             "#7fbc41"
            ],
            [
             0.9,
             "#4d9221"
            ],
            [
             1,
             "#276419"
            ]
           ],
           "sequential": [
            [
             0,
             "#0d0887"
            ],
            [
             0.1111111111111111,
             "#46039f"
            ],
            [
             0.2222222222222222,
             "#7201a8"
            ],
            [
             0.3333333333333333,
             "#9c179e"
            ],
            [
             0.4444444444444444,
             "#bd3786"
            ],
            [
             0.5555555555555556,
             "#d8576b"
            ],
            [
             0.6666666666666666,
             "#ed7953"
            ],
            [
             0.7777777777777778,
             "#fb9f3a"
            ],
            [
             0.8888888888888888,
             "#fdca26"
            ],
            [
             1,
             "#f0f921"
            ]
           ],
           "sequentialminus": [
            [
             0,
             "#0d0887"
            ],
            [
             0.1111111111111111,
             "#46039f"
            ],
            [
             0.2222222222222222,
             "#7201a8"
            ],
            [
             0.3333333333333333,
             "#9c179e"
            ],
            [
             0.4444444444444444,
             "#bd3786"
            ],
            [
             0.5555555555555556,
             "#d8576b"
            ],
            [
             0.6666666666666666,
             "#ed7953"
            ],
            [
             0.7777777777777778,
             "#fb9f3a"
            ],
            [
             0.8888888888888888,
             "#fdca26"
            ],
            [
             1,
             "#f0f921"
            ]
           ]
          },
          "colorway": [
           "#636efa",
           "#EF553B",
           "#00cc96",
           "#ab63fa",
           "#FFA15A",
           "#19d3f3",
           "#FF6692",
           "#B6E880",
           "#FF97FF",
           "#FECB52"
          ],
          "font": {
           "color": "#2a3f5f"
          },
          "geo": {
           "bgcolor": "white",
           "lakecolor": "white",
           "landcolor": "#E5ECF6",
           "showlakes": true,
           "showland": true,
           "subunitcolor": "white"
          },
          "hoverlabel": {
           "align": "left"
          },
          "hovermode": "closest",
          "mapbox": {
           "style": "light"
          },
          "paper_bgcolor": "white",
          "plot_bgcolor": "#E5ECF6",
          "polar": {
           "angularaxis": {
            "gridcolor": "white",
            "linecolor": "white",
            "ticks": ""
           },
           "bgcolor": "#E5ECF6",
           "radialaxis": {
            "gridcolor": "white",
            "linecolor": "white",
            "ticks": ""
           }
          },
          "scene": {
           "xaxis": {
            "backgroundcolor": "#E5ECF6",
            "gridcolor": "white",
            "gridwidth": 2,
            "linecolor": "white",
            "showbackground": true,
            "ticks": "",
            "zerolinecolor": "white"
           },
           "yaxis": {
            "backgroundcolor": "#E5ECF6",
            "gridcolor": "white",
            "gridwidth": 2,
            "linecolor": "white",
            "showbackground": true,
            "ticks": "",
            "zerolinecolor": "white"
           },
           "zaxis": {
            "backgroundcolor": "#E5ECF6",
            "gridcolor": "white",
            "gridwidth": 2,
            "linecolor": "white",
            "showbackground": true,
            "ticks": "",
            "zerolinecolor": "white"
           }
          },
          "shapedefaults": {
           "line": {
            "color": "#2a3f5f"
           }
          },
          "ternary": {
           "aaxis": {
            "gridcolor": "white",
            "linecolor": "white",
            "ticks": ""
           },
           "baxis": {
            "gridcolor": "white",
            "linecolor": "white",
            "ticks": ""
           },
           "bgcolor": "#E5ECF6",
           "caxis": {
            "gridcolor": "white",
            "linecolor": "white",
            "ticks": ""
           }
          },
          "title": {
           "x": 0.05
          },
          "xaxis": {
           "automargin": true,
           "gridcolor": "white",
           "linecolor": "white",
           "ticks": "",
           "title": {
            "standoff": 15
           },
           "zerolinecolor": "white",
           "zerolinewidth": 2
          },
          "yaxis": {
           "automargin": true,
           "gridcolor": "white",
           "linecolor": "white",
           "ticks": "",
           "title": {
            "standoff": 15
           },
           "zerolinecolor": "white",
           "zerolinewidth": 2
          }
         }
        },
        "title": {
         "text": "Mean f1 score on testing and training set for each parameter combination <br> (Model: RandomForest Classifier, Dataset: Mean imputation for individuals with 3 MV)"
        },
        "xaxis": {
         "anchor": "y",
         "domain": [
          0,
          1
         ],
         "title": {
          "text": "Params"
         }
        },
        "yaxis": {
         "anchor": "x",
         "domain": [
          0,
          1
         ],
         "title": {
          "text": "Average f1"
         }
        }
       }
      }
     },
     "metadata": {},
     "output_type": "display_data"
    }
   ],
   "source": [
    "from sklearn.ensemble import RandomForestClassifier\n",
    "model = (RandomForestClassifier(), \"RandomForest Classifier\")\n",
    "\n",
    "pgrid = {\"max_depth\": [3,6,9],\n",
    "         \"n_estimators\": [50, 80, 110, 130],\n",
    "         \"min_samples_split\": [3, 6, 9, 12],\n",
    "         \"max_features\": [\"sqrt\", \"log2\"]}\n",
    "\n",
    "\n",
    "stats = computeModelStats(model, stats, mean_accurracy_3_missing_values, pgrid)"
   ]
  },
  {
   "cell_type": "code",
   "execution_count": 26,
   "metadata": {
    "collapsed": false,
    "pycharm": {
     "name": "#%%\n"
    }
   },
   "outputs": [
    {
     "name": "stdout",
     "output_type": "stream",
     "text": [
      "Fitting 5 folds for each of 96 candidates, totalling 480 fits\n"
     ]
    },
    {
     "data": {
      "application/vnd.plotly.v1+json": {
       "config": {
        "plotlyServerURL": "https://plot.ly"
       },
       "data": [
        {
         "alignmentgroup": "True",
         "customdata": [
          [
           "{'max_depth': 3, 'max_features': 'sqrt', 'min_samples_split': 3, 'n_estimators': 50}"
          ],
          [
           "{'max_depth': 3, 'max_features': 'sqrt', 'min_samples_split': 3, 'n_estimators': 80}"
          ],
          [
           "{'max_depth': 3, 'max_features': 'sqrt', 'min_samples_split': 3, 'n_estimators': 110}"
          ],
          [
           "{'max_depth': 3, 'max_features': 'sqrt', 'min_samples_split': 3, 'n_estimators': 130}"
          ],
          [
           "{'max_depth': 3, 'max_features': 'sqrt', 'min_samples_split': 6, 'n_estimators': 50}"
          ],
          [
           "{'max_depth': 3, 'max_features': 'sqrt', 'min_samples_split': 6, 'n_estimators': 80}"
          ],
          [
           "{'max_depth': 3, 'max_features': 'sqrt', 'min_samples_split': 6, 'n_estimators': 110}"
          ],
          [
           "{'max_depth': 3, 'max_features': 'sqrt', 'min_samples_split': 6, 'n_estimators': 130}"
          ],
          [
           "{'max_depth': 3, 'max_features': 'sqrt', 'min_samples_split': 9, 'n_estimators': 50}"
          ],
          [
           "{'max_depth': 3, 'max_features': 'sqrt', 'min_samples_split': 9, 'n_estimators': 80}"
          ],
          [
           "{'max_depth': 3, 'max_features': 'sqrt', 'min_samples_split': 9, 'n_estimators': 110}"
          ],
          [
           "{'max_depth': 3, 'max_features': 'sqrt', 'min_samples_split': 9, 'n_estimators': 130}"
          ],
          [
           "{'max_depth': 3, 'max_features': 'sqrt', 'min_samples_split': 12, 'n_estimators': 50}"
          ],
          [
           "{'max_depth': 3, 'max_features': 'sqrt', 'min_samples_split': 12, 'n_estimators': 80}"
          ],
          [
           "{'max_depth': 3, 'max_features': 'sqrt', 'min_samples_split': 12, 'n_estimators': 110}"
          ],
          [
           "{'max_depth': 3, 'max_features': 'sqrt', 'min_samples_split': 12, 'n_estimators': 130}"
          ],
          [
           "{'max_depth': 3, 'max_features': 'log2', 'min_samples_split': 3, 'n_estimators': 50}"
          ],
          [
           "{'max_depth': 3, 'max_features': 'log2', 'min_samples_split': 3, 'n_estimators': 80}"
          ],
          [
           "{'max_depth': 3, 'max_features': 'log2', 'min_samples_split': 3, 'n_estimators': 110}"
          ],
          [
           "{'max_depth': 3, 'max_features': 'log2', 'min_samples_split': 3, 'n_estimators': 130}"
          ],
          [
           "{'max_depth': 3, 'max_features': 'log2', 'min_samples_split': 6, 'n_estimators': 50}"
          ],
          [
           "{'max_depth': 3, 'max_features': 'log2', 'min_samples_split': 6, 'n_estimators': 80}"
          ],
          [
           "{'max_depth': 3, 'max_features': 'log2', 'min_samples_split': 6, 'n_estimators': 110}"
          ],
          [
           "{'max_depth': 3, 'max_features': 'log2', 'min_samples_split': 6, 'n_estimators': 130}"
          ],
          [
           "{'max_depth': 3, 'max_features': 'log2', 'min_samples_split': 9, 'n_estimators': 50}"
          ],
          [
           "{'max_depth': 3, 'max_features': 'log2', 'min_samples_split': 9, 'n_estimators': 80}"
          ],
          [
           "{'max_depth': 3, 'max_features': 'log2', 'min_samples_split': 9, 'n_estimators': 110}"
          ],
          [
           "{'max_depth': 3, 'max_features': 'log2', 'min_samples_split': 9, 'n_estimators': 130}"
          ],
          [
           "{'max_depth': 3, 'max_features': 'log2', 'min_samples_split': 12, 'n_estimators': 50}"
          ],
          [
           "{'max_depth': 3, 'max_features': 'log2', 'min_samples_split': 12, 'n_estimators': 80}"
          ],
          [
           "{'max_depth': 3, 'max_features': 'log2', 'min_samples_split': 12, 'n_estimators': 110}"
          ],
          [
           "{'max_depth': 3, 'max_features': 'log2', 'min_samples_split': 12, 'n_estimators': 130}"
          ],
          [
           "{'max_depth': 6, 'max_features': 'sqrt', 'min_samples_split': 3, 'n_estimators': 50}"
          ],
          [
           "{'max_depth': 6, 'max_features': 'sqrt', 'min_samples_split': 3, 'n_estimators': 80}"
          ],
          [
           "{'max_depth': 6, 'max_features': 'sqrt', 'min_samples_split': 3, 'n_estimators': 110}"
          ],
          [
           "{'max_depth': 6, 'max_features': 'sqrt', 'min_samples_split': 3, 'n_estimators': 130}"
          ],
          [
           "{'max_depth': 6, 'max_features': 'sqrt', 'min_samples_split': 6, 'n_estimators': 50}"
          ],
          [
           "{'max_depth': 6, 'max_features': 'sqrt', 'min_samples_split': 6, 'n_estimators': 80}"
          ],
          [
           "{'max_depth': 6, 'max_features': 'sqrt', 'min_samples_split': 6, 'n_estimators': 110}"
          ],
          [
           "{'max_depth': 6, 'max_features': 'sqrt', 'min_samples_split': 6, 'n_estimators': 130}"
          ],
          [
           "{'max_depth': 6, 'max_features': 'sqrt', 'min_samples_split': 9, 'n_estimators': 50}"
          ],
          [
           "{'max_depth': 6, 'max_features': 'sqrt', 'min_samples_split': 9, 'n_estimators': 80}"
          ],
          [
           "{'max_depth': 6, 'max_features': 'sqrt', 'min_samples_split': 9, 'n_estimators': 110}"
          ],
          [
           "{'max_depth': 6, 'max_features': 'sqrt', 'min_samples_split': 9, 'n_estimators': 130}"
          ],
          [
           "{'max_depth': 6, 'max_features': 'sqrt', 'min_samples_split': 12, 'n_estimators': 50}"
          ],
          [
           "{'max_depth': 6, 'max_features': 'sqrt', 'min_samples_split': 12, 'n_estimators': 80}"
          ],
          [
           "{'max_depth': 6, 'max_features': 'sqrt', 'min_samples_split': 12, 'n_estimators': 110}"
          ],
          [
           "{'max_depth': 6, 'max_features': 'sqrt', 'min_samples_split': 12, 'n_estimators': 130}"
          ],
          [
           "{'max_depth': 6, 'max_features': 'log2', 'min_samples_split': 3, 'n_estimators': 50}"
          ],
          [
           "{'max_depth': 6, 'max_features': 'log2', 'min_samples_split': 3, 'n_estimators': 80}"
          ],
          [
           "{'max_depth': 6, 'max_features': 'log2', 'min_samples_split': 3, 'n_estimators': 110}"
          ],
          [
           "{'max_depth': 6, 'max_features': 'log2', 'min_samples_split': 3, 'n_estimators': 130}"
          ],
          [
           "{'max_depth': 6, 'max_features': 'log2', 'min_samples_split': 6, 'n_estimators': 50}"
          ],
          [
           "{'max_depth': 6, 'max_features': 'log2', 'min_samples_split': 6, 'n_estimators': 80}"
          ],
          [
           "{'max_depth': 6, 'max_features': 'log2', 'min_samples_split': 6, 'n_estimators': 110}"
          ],
          [
           "{'max_depth': 6, 'max_features': 'log2', 'min_samples_split': 6, 'n_estimators': 130}"
          ],
          [
           "{'max_depth': 6, 'max_features': 'log2', 'min_samples_split': 9, 'n_estimators': 50}"
          ],
          [
           "{'max_depth': 6, 'max_features': 'log2', 'min_samples_split': 9, 'n_estimators': 80}"
          ],
          [
           "{'max_depth': 6, 'max_features': 'log2', 'min_samples_split': 9, 'n_estimators': 110}"
          ],
          [
           "{'max_depth': 6, 'max_features': 'log2', 'min_samples_split': 9, 'n_estimators': 130}"
          ],
          [
           "{'max_depth': 6, 'max_features': 'log2', 'min_samples_split': 12, 'n_estimators': 50}"
          ],
          [
           "{'max_depth': 6, 'max_features': 'log2', 'min_samples_split': 12, 'n_estimators': 80}"
          ],
          [
           "{'max_depth': 6, 'max_features': 'log2', 'min_samples_split': 12, 'n_estimators': 110}"
          ],
          [
           "{'max_depth': 6, 'max_features': 'log2', 'min_samples_split': 12, 'n_estimators': 130}"
          ],
          [
           "{'max_depth': 9, 'max_features': 'sqrt', 'min_samples_split': 3, 'n_estimators': 50}"
          ],
          [
           "{'max_depth': 9, 'max_features': 'sqrt', 'min_samples_split': 3, 'n_estimators': 80}"
          ],
          [
           "{'max_depth': 9, 'max_features': 'sqrt', 'min_samples_split': 3, 'n_estimators': 110}"
          ],
          [
           "{'max_depth': 9, 'max_features': 'sqrt', 'min_samples_split': 3, 'n_estimators': 130}"
          ],
          [
           "{'max_depth': 9, 'max_features': 'sqrt', 'min_samples_split': 6, 'n_estimators': 50}"
          ],
          [
           "{'max_depth': 9, 'max_features': 'sqrt', 'min_samples_split': 6, 'n_estimators': 80}"
          ],
          [
           "{'max_depth': 9, 'max_features': 'sqrt', 'min_samples_split': 6, 'n_estimators': 110}"
          ],
          [
           "{'max_depth': 9, 'max_features': 'sqrt', 'min_samples_split': 6, 'n_estimators': 130}"
          ],
          [
           "{'max_depth': 9, 'max_features': 'sqrt', 'min_samples_split': 9, 'n_estimators': 50}"
          ],
          [
           "{'max_depth': 9, 'max_features': 'sqrt', 'min_samples_split': 9, 'n_estimators': 80}"
          ],
          [
           "{'max_depth': 9, 'max_features': 'sqrt', 'min_samples_split': 9, 'n_estimators': 110}"
          ],
          [
           "{'max_depth': 9, 'max_features': 'sqrt', 'min_samples_split': 9, 'n_estimators': 130}"
          ],
          [
           "{'max_depth': 9, 'max_features': 'sqrt', 'min_samples_split': 12, 'n_estimators': 50}"
          ],
          [
           "{'max_depth': 9, 'max_features': 'sqrt', 'min_samples_split': 12, 'n_estimators': 80}"
          ],
          [
           "{'max_depth': 9, 'max_features': 'sqrt', 'min_samples_split': 12, 'n_estimators': 110}"
          ],
          [
           "{'max_depth': 9, 'max_features': 'sqrt', 'min_samples_split': 12, 'n_estimators': 130}"
          ],
          [
           "{'max_depth': 9, 'max_features': 'log2', 'min_samples_split': 3, 'n_estimators': 50}"
          ],
          [
           "{'max_depth': 9, 'max_features': 'log2', 'min_samples_split': 3, 'n_estimators': 80}"
          ],
          [
           "{'max_depth': 9, 'max_features': 'log2', 'min_samples_split': 3, 'n_estimators': 110}"
          ],
          [
           "{'max_depth': 9, 'max_features': 'log2', 'min_samples_split': 3, 'n_estimators': 130}"
          ],
          [
           "{'max_depth': 9, 'max_features': 'log2', 'min_samples_split': 6, 'n_estimators': 50}"
          ],
          [
           "{'max_depth': 9, 'max_features': 'log2', 'min_samples_split': 6, 'n_estimators': 80}"
          ],
          [
           "{'max_depth': 9, 'max_features': 'log2', 'min_samples_split': 6, 'n_estimators': 110}"
          ],
          [
           "{'max_depth': 9, 'max_features': 'log2', 'min_samples_split': 6, 'n_estimators': 130}"
          ],
          [
           "{'max_depth': 9, 'max_features': 'log2', 'min_samples_split': 9, 'n_estimators': 50}"
          ],
          [
           "{'max_depth': 9, 'max_features': 'log2', 'min_samples_split': 9, 'n_estimators': 80}"
          ],
          [
           "{'max_depth': 9, 'max_features': 'log2', 'min_samples_split': 9, 'n_estimators': 110}"
          ],
          [
           "{'max_depth': 9, 'max_features': 'log2', 'min_samples_split': 9, 'n_estimators': 130}"
          ],
          [
           "{'max_depth': 9, 'max_features': 'log2', 'min_samples_split': 12, 'n_estimators': 50}"
          ],
          [
           "{'max_depth': 9, 'max_features': 'log2', 'min_samples_split': 12, 'n_estimators': 80}"
          ],
          [
           "{'max_depth': 9, 'max_features': 'log2', 'min_samples_split': 12, 'n_estimators': 110}"
          ],
          [
           "{'max_depth': 9, 'max_features': 'log2', 'min_samples_split': 12, 'n_estimators': 130}"
          ]
         ],
         "error_y": {
          "array": [
           0.023480694817786637,
           0.015380564947884732,
           0.01526057339565086,
           0.006253796879461404,
           0.02540547684943615,
           0.033364673986368616,
           0.025445433239603306,
           0.007287020062338224,
           0.014615286152950152,
           0.031246804920204957,
           0.02335737745189475,
           0.020220874775522344,
           0.010245933594272713,
           0.02407815920576514,
           0.023867235877806942,
           0.016769358682521836,
           0.04381846059443241,
           0.015921037967832383,
           0.015584419820965851,
           0.023331719593030577,
           0.030153638790296755,
           0.03018143978472739,
           0.016283393324253072,
           0.015916152855826395,
           0.020840063540149036,
           0.016109068269231405,
           0.017423992806413182,
           0.019659523650119963,
           0.025425638948819166,
           0.006818704659133514,
           0.01571101402499276,
           0.019106481544316538,
           0.03899652135827144,
           0.02245775001267673,
           0.017597186951787414,
           0.019206638996870973,
           0.038595822773022995,
           0.02536756933194484,
           0.01241363468115965,
           0.04003065379896207,
           0.033197049930774866,
           0.022494223204905194,
           0.02929855028676314,
           0.032279475613606896,
           0.03911603492669633,
           0.02785100181757671,
           0.03331054638729611,
           0.01896090745734058,
           0.02000150017796124,
           0.01989750067896395,
           0.030564110762923074,
           0.03891001708705105,
           0.041190737667832274,
           0.011934334015519372,
           0.023880271448821055,
           0.015879030524482408,
           0.02449446286390588,
           0.030494384529724864,
           0.028238106511717306,
           0.02201455778639589,
           0.02373894598995768,
           0.028087822169950916,
           0.0205293156079641,
           0.02915320949580245,
           0.04228254373479015,
           0.02862599309580301,
           0.02885120575186147,
           0.02966949467558617,
           0.02132544603801877,
           0.04834945777261308,
           0.05555128934962661,
           0.040356916139129236,
           0.0366864035511312,
           0.032101760424942026,
           0.03424656054270828,
           0.03261619080310868,
           0.030351781206572292,
           0.05067948245017083,
           0.02426874011417388,
           0.03329870187640677,
           0.02972909062958205,
           0.029131385790423105,
           0.02841207884087157,
           0.029256313078938143,
           0.023111287062333043,
           0.026140434337392434,
           0.023764339543339452,
           0.025757057798404325,
           0.03888418131802872,
           0.029432884346436004,
           0.029770202308197408,
           0.022254346106922816,
           0.035270209544352296,
           0.034142871344790285,
           0.03911575041747285,
           0.045362141545881036
          ]
         },
         "hovertemplate": "<b>%{hovertext}</b><br><br>type=test<br>Params=%{x}<br>Average f1=%{y}<br>params=%{customdata[0]}<extra></extra>",
         "hovertext": [
          "{'max_depth': 3, 'max_features': 'sqrt', 'min_samples_split': 3, 'n_estimators': 50}",
          "{'max_depth': 3, 'max_features': 'sqrt', 'min_samples_split': 3, 'n_estimators': 80}",
          "{'max_depth': 3, 'max_features': 'sqrt', 'min_samples_split': 3, 'n_estimators': 110}",
          "{'max_depth': 3, 'max_features': 'sqrt', 'min_samples_split': 3, 'n_estimators': 130}",
          "{'max_depth': 3, 'max_features': 'sqrt', 'min_samples_split': 6, 'n_estimators': 50}",
          "{'max_depth': 3, 'max_features': 'sqrt', 'min_samples_split': 6, 'n_estimators': 80}",
          "{'max_depth': 3, 'max_features': 'sqrt', 'min_samples_split': 6, 'n_estimators': 110}",
          "{'max_depth': 3, 'max_features': 'sqrt', 'min_samples_split': 6, 'n_estimators': 130}",
          "{'max_depth': 3, 'max_features': 'sqrt', 'min_samples_split': 9, 'n_estimators': 50}",
          "{'max_depth': 3, 'max_features': 'sqrt', 'min_samples_split': 9, 'n_estimators': 80}",
          "{'max_depth': 3, 'max_features': 'sqrt', 'min_samples_split': 9, 'n_estimators': 110}",
          "{'max_depth': 3, 'max_features': 'sqrt', 'min_samples_split': 9, 'n_estimators': 130}",
          "{'max_depth': 3, 'max_features': 'sqrt', 'min_samples_split': 12, 'n_estimators': 50}",
          "{'max_depth': 3, 'max_features': 'sqrt', 'min_samples_split': 12, 'n_estimators': 80}",
          "{'max_depth': 3, 'max_features': 'sqrt', 'min_samples_split': 12, 'n_estimators': 110}",
          "{'max_depth': 3, 'max_features': 'sqrt', 'min_samples_split': 12, 'n_estimators': 130}",
          "{'max_depth': 3, 'max_features': 'log2', 'min_samples_split': 3, 'n_estimators': 50}",
          "{'max_depth': 3, 'max_features': 'log2', 'min_samples_split': 3, 'n_estimators': 80}",
          "{'max_depth': 3, 'max_features': 'log2', 'min_samples_split': 3, 'n_estimators': 110}",
          "{'max_depth': 3, 'max_features': 'log2', 'min_samples_split': 3, 'n_estimators': 130}",
          "{'max_depth': 3, 'max_features': 'log2', 'min_samples_split': 6, 'n_estimators': 50}",
          "{'max_depth': 3, 'max_features': 'log2', 'min_samples_split': 6, 'n_estimators': 80}",
          "{'max_depth': 3, 'max_features': 'log2', 'min_samples_split': 6, 'n_estimators': 110}",
          "{'max_depth': 3, 'max_features': 'log2', 'min_samples_split': 6, 'n_estimators': 130}",
          "{'max_depth': 3, 'max_features': 'log2', 'min_samples_split': 9, 'n_estimators': 50}",
          "{'max_depth': 3, 'max_features': 'log2', 'min_samples_split': 9, 'n_estimators': 80}",
          "{'max_depth': 3, 'max_features': 'log2', 'min_samples_split': 9, 'n_estimators': 110}",
          "{'max_depth': 3, 'max_features': 'log2', 'min_samples_split': 9, 'n_estimators': 130}",
          "{'max_depth': 3, 'max_features': 'log2', 'min_samples_split': 12, 'n_estimators': 50}",
          "{'max_depth': 3, 'max_features': 'log2', 'min_samples_split': 12, 'n_estimators': 80}",
          "{'max_depth': 3, 'max_features': 'log2', 'min_samples_split': 12, 'n_estimators': 110}",
          "{'max_depth': 3, 'max_features': 'log2', 'min_samples_split': 12, 'n_estimators': 130}",
          "{'max_depth': 6, 'max_features': 'sqrt', 'min_samples_split': 3, 'n_estimators': 50}",
          "{'max_depth': 6, 'max_features': 'sqrt', 'min_samples_split': 3, 'n_estimators': 80}",
          "{'max_depth': 6, 'max_features': 'sqrt', 'min_samples_split': 3, 'n_estimators': 110}",
          "{'max_depth': 6, 'max_features': 'sqrt', 'min_samples_split': 3, 'n_estimators': 130}",
          "{'max_depth': 6, 'max_features': 'sqrt', 'min_samples_split': 6, 'n_estimators': 50}",
          "{'max_depth': 6, 'max_features': 'sqrt', 'min_samples_split': 6, 'n_estimators': 80}",
          "{'max_depth': 6, 'max_features': 'sqrt', 'min_samples_split': 6, 'n_estimators': 110}",
          "{'max_depth': 6, 'max_features': 'sqrt', 'min_samples_split': 6, 'n_estimators': 130}",
          "{'max_depth': 6, 'max_features': 'sqrt', 'min_samples_split': 9, 'n_estimators': 50}",
          "{'max_depth': 6, 'max_features': 'sqrt', 'min_samples_split': 9, 'n_estimators': 80}",
          "{'max_depth': 6, 'max_features': 'sqrt', 'min_samples_split': 9, 'n_estimators': 110}",
          "{'max_depth': 6, 'max_features': 'sqrt', 'min_samples_split': 9, 'n_estimators': 130}",
          "{'max_depth': 6, 'max_features': 'sqrt', 'min_samples_split': 12, 'n_estimators': 50}",
          "{'max_depth': 6, 'max_features': 'sqrt', 'min_samples_split': 12, 'n_estimators': 80}",
          "{'max_depth': 6, 'max_features': 'sqrt', 'min_samples_split': 12, 'n_estimators': 110}",
          "{'max_depth': 6, 'max_features': 'sqrt', 'min_samples_split': 12, 'n_estimators': 130}",
          "{'max_depth': 6, 'max_features': 'log2', 'min_samples_split': 3, 'n_estimators': 50}",
          "{'max_depth': 6, 'max_features': 'log2', 'min_samples_split': 3, 'n_estimators': 80}",
          "{'max_depth': 6, 'max_features': 'log2', 'min_samples_split': 3, 'n_estimators': 110}",
          "{'max_depth': 6, 'max_features': 'log2', 'min_samples_split': 3, 'n_estimators': 130}",
          "{'max_depth': 6, 'max_features': 'log2', 'min_samples_split': 6, 'n_estimators': 50}",
          "{'max_depth': 6, 'max_features': 'log2', 'min_samples_split': 6, 'n_estimators': 80}",
          "{'max_depth': 6, 'max_features': 'log2', 'min_samples_split': 6, 'n_estimators': 110}",
          "{'max_depth': 6, 'max_features': 'log2', 'min_samples_split': 6, 'n_estimators': 130}",
          "{'max_depth': 6, 'max_features': 'log2', 'min_samples_split': 9, 'n_estimators': 50}",
          "{'max_depth': 6, 'max_features': 'log2', 'min_samples_split': 9, 'n_estimators': 80}",
          "{'max_depth': 6, 'max_features': 'log2', 'min_samples_split': 9, 'n_estimators': 110}",
          "{'max_depth': 6, 'max_features': 'log2', 'min_samples_split': 9, 'n_estimators': 130}",
          "{'max_depth': 6, 'max_features': 'log2', 'min_samples_split': 12, 'n_estimators': 50}",
          "{'max_depth': 6, 'max_features': 'log2', 'min_samples_split': 12, 'n_estimators': 80}",
          "{'max_depth': 6, 'max_features': 'log2', 'min_samples_split': 12, 'n_estimators': 110}",
          "{'max_depth': 6, 'max_features': 'log2', 'min_samples_split': 12, 'n_estimators': 130}",
          "{'max_depth': 9, 'max_features': 'sqrt', 'min_samples_split': 3, 'n_estimators': 50}",
          "{'max_depth': 9, 'max_features': 'sqrt', 'min_samples_split': 3, 'n_estimators': 80}",
          "{'max_depth': 9, 'max_features': 'sqrt', 'min_samples_split': 3, 'n_estimators': 110}",
          "{'max_depth': 9, 'max_features': 'sqrt', 'min_samples_split': 3, 'n_estimators': 130}",
          "{'max_depth': 9, 'max_features': 'sqrt', 'min_samples_split': 6, 'n_estimators': 50}",
          "{'max_depth': 9, 'max_features': 'sqrt', 'min_samples_split': 6, 'n_estimators': 80}",
          "{'max_depth': 9, 'max_features': 'sqrt', 'min_samples_split': 6, 'n_estimators': 110}",
          "{'max_depth': 9, 'max_features': 'sqrt', 'min_samples_split': 6, 'n_estimators': 130}",
          "{'max_depth': 9, 'max_features': 'sqrt', 'min_samples_split': 9, 'n_estimators': 50}",
          "{'max_depth': 9, 'max_features': 'sqrt', 'min_samples_split': 9, 'n_estimators': 80}",
          "{'max_depth': 9, 'max_features': 'sqrt', 'min_samples_split': 9, 'n_estimators': 110}",
          "{'max_depth': 9, 'max_features': 'sqrt', 'min_samples_split': 9, 'n_estimators': 130}",
          "{'max_depth': 9, 'max_features': 'sqrt', 'min_samples_split': 12, 'n_estimators': 50}",
          "{'max_depth': 9, 'max_features': 'sqrt', 'min_samples_split': 12, 'n_estimators': 80}",
          "{'max_depth': 9, 'max_features': 'sqrt', 'min_samples_split': 12, 'n_estimators': 110}",
          "{'max_depth': 9, 'max_features': 'sqrt', 'min_samples_split': 12, 'n_estimators': 130}",
          "{'max_depth': 9, 'max_features': 'log2', 'min_samples_split': 3, 'n_estimators': 50}",
          "{'max_depth': 9, 'max_features': 'log2', 'min_samples_split': 3, 'n_estimators': 80}",
          "{'max_depth': 9, 'max_features': 'log2', 'min_samples_split': 3, 'n_estimators': 110}",
          "{'max_depth': 9, 'max_features': 'log2', 'min_samples_split': 3, 'n_estimators': 130}",
          "{'max_depth': 9, 'max_features': 'log2', 'min_samples_split': 6, 'n_estimators': 50}",
          "{'max_depth': 9, 'max_features': 'log2', 'min_samples_split': 6, 'n_estimators': 80}",
          "{'max_depth': 9, 'max_features': 'log2', 'min_samples_split': 6, 'n_estimators': 110}",
          "{'max_depth': 9, 'max_features': 'log2', 'min_samples_split': 6, 'n_estimators': 130}",
          "{'max_depth': 9, 'max_features': 'log2', 'min_samples_split': 9, 'n_estimators': 50}",
          "{'max_depth': 9, 'max_features': 'log2', 'min_samples_split': 9, 'n_estimators': 80}",
          "{'max_depth': 9, 'max_features': 'log2', 'min_samples_split': 9, 'n_estimators': 110}",
          "{'max_depth': 9, 'max_features': 'log2', 'min_samples_split': 9, 'n_estimators': 130}",
          "{'max_depth': 9, 'max_features': 'log2', 'min_samples_split': 12, 'n_estimators': 50}",
          "{'max_depth': 9, 'max_features': 'log2', 'min_samples_split': 12, 'n_estimators': 80}",
          "{'max_depth': 9, 'max_features': 'log2', 'min_samples_split': 12, 'n_estimators': 110}",
          "{'max_depth': 9, 'max_features': 'log2', 'min_samples_split': 12, 'n_estimators': 130}"
         ],
         "legendgroup": "test",
         "marker": {
          "color": "#636efa",
          "pattern": {
           "shape": ""
          }
         },
         "name": "test",
         "offsetgroup": "test",
         "orientation": "v",
         "showlegend": true,
         "textposition": "auto",
         "type": "bar",
         "x": [
          0,
          1,
          2,
          3,
          4,
          5,
          6,
          7,
          8,
          9,
          10,
          11,
          12,
          13,
          14,
          15,
          16,
          17,
          18,
          19,
          20,
          21,
          22,
          23,
          24,
          25,
          26,
          27,
          28,
          29,
          30,
          31,
          32,
          33,
          34,
          35,
          36,
          37,
          38,
          39,
          40,
          41,
          42,
          43,
          44,
          45,
          46,
          47,
          48,
          49,
          50,
          51,
          52,
          53,
          54,
          55,
          56,
          57,
          58,
          59,
          60,
          61,
          62,
          63,
          64,
          65,
          66,
          67,
          68,
          69,
          70,
          71,
          72,
          73,
          74,
          75,
          76,
          77,
          78,
          79,
          80,
          81,
          82,
          83,
          84,
          85,
          86,
          87,
          88,
          89,
          90,
          91,
          92,
          93,
          94,
          95
         ],
         "xaxis": "x",
         "y": [
          0.09514484255108206,
          0.10189004285795031,
          0.1009548990695073,
          0.1061728318080198,
          0.09344168852375807,
          0.09250243143939768,
          0.09245733823388567,
          0.09652840869077521,
          0.10490452544427908,
          0.09673768565642646,
          0.09270539901114935,
          0.09931583480857066,
          0.10456200388889188,
          0.10688345404098538,
          0.09655574961676137,
          0.10434537622124847,
          0.09163777580027235,
          0.08291221665379844,
          0.0995286616864875,
          0.09265194677713648,
          0.08986064458327192,
          0.08302164164586621,
          0.0971083956301346,
          0.09395562218177059,
          0.10268482451779819,
          0.08740223525729786,
          0.10220665961179314,
          0.08462102473614644,
          0.08478123612067827,
          0.10219889412178014,
          0.0960890867580115,
          0.0789804731785987,
          0.2314883113438805,
          0.22904210273544973,
          0.24084041254785485,
          0.2249493017765194,
          0.23231275462210615,
          0.22429880489952123,
          0.23732200373894985,
          0.2248836063412587,
          0.23122815906872382,
          0.22178849218723423,
          0.22598344539745216,
          0.22160290905920096,
          0.22456439216108767,
          0.22735636062779402,
          0.2318359608352381,
          0.22567075693647148,
          0.2396347899938595,
          0.2344738192751173,
          0.2260715487751111,
          0.22842651396653654,
          0.24090738334793116,
          0.2308417312429719,
          0.2253606505065791,
          0.2267173792284986,
          0.2272864638599418,
          0.22998669443153083,
          0.22668404319633034,
          0.2349825045344663,
          0.23821199957886918,
          0.23335543323726574,
          0.23768422573563214,
          0.22327468103135314,
          0.30631113473057203,
          0.3043879416240753,
          0.2861832449783169,
          0.29721427883778617,
          0.29181168628848136,
          0.29465401037906036,
          0.2950294087179385,
          0.2925108744080152,
          0.29788114558825257,
          0.29526195379981435,
          0.3034215710622915,
          0.2957008598159332,
          0.3052993348705411,
          0.29311504226630225,
          0.3011378564254806,
          0.2940255960741873,
          0.29112033415836713,
          0.2935580197433597,
          0.2940044890019716,
          0.3038614679804706,
          0.296625821148483,
          0.3002861309861627,
          0.2944208780068375,
          0.298389391631659,
          0.3106020894401941,
          0.30065766424799045,
          0.2945948985386734,
          0.2906795262944114,
          0.31070419150541234,
          0.2993088072018739,
          0.29944089402914376,
          0.2926253922093299
         ],
         "yaxis": "y"
        },
        {
         "alignmentgroup": "True",
         "customdata": [
          [
           "{'max_depth': 3, 'max_features': 'sqrt', 'min_samples_split': 3, 'n_estimators': 50}"
          ],
          [
           "{'max_depth': 3, 'max_features': 'sqrt', 'min_samples_split': 3, 'n_estimators': 80}"
          ],
          [
           "{'max_depth': 3, 'max_features': 'sqrt', 'min_samples_split': 3, 'n_estimators': 110}"
          ],
          [
           "{'max_depth': 3, 'max_features': 'sqrt', 'min_samples_split': 3, 'n_estimators': 130}"
          ],
          [
           "{'max_depth': 3, 'max_features': 'sqrt', 'min_samples_split': 6, 'n_estimators': 50}"
          ],
          [
           "{'max_depth': 3, 'max_features': 'sqrt', 'min_samples_split': 6, 'n_estimators': 80}"
          ],
          [
           "{'max_depth': 3, 'max_features': 'sqrt', 'min_samples_split': 6, 'n_estimators': 110}"
          ],
          [
           "{'max_depth': 3, 'max_features': 'sqrt', 'min_samples_split': 6, 'n_estimators': 130}"
          ],
          [
           "{'max_depth': 3, 'max_features': 'sqrt', 'min_samples_split': 9, 'n_estimators': 50}"
          ],
          [
           "{'max_depth': 3, 'max_features': 'sqrt', 'min_samples_split': 9, 'n_estimators': 80}"
          ],
          [
           "{'max_depth': 3, 'max_features': 'sqrt', 'min_samples_split': 9, 'n_estimators': 110}"
          ],
          [
           "{'max_depth': 3, 'max_features': 'sqrt', 'min_samples_split': 9, 'n_estimators': 130}"
          ],
          [
           "{'max_depth': 3, 'max_features': 'sqrt', 'min_samples_split': 12, 'n_estimators': 50}"
          ],
          [
           "{'max_depth': 3, 'max_features': 'sqrt', 'min_samples_split': 12, 'n_estimators': 80}"
          ],
          [
           "{'max_depth': 3, 'max_features': 'sqrt', 'min_samples_split': 12, 'n_estimators': 110}"
          ],
          [
           "{'max_depth': 3, 'max_features': 'sqrt', 'min_samples_split': 12, 'n_estimators': 130}"
          ],
          [
           "{'max_depth': 3, 'max_features': 'log2', 'min_samples_split': 3, 'n_estimators': 50}"
          ],
          [
           "{'max_depth': 3, 'max_features': 'log2', 'min_samples_split': 3, 'n_estimators': 80}"
          ],
          [
           "{'max_depth': 3, 'max_features': 'log2', 'min_samples_split': 3, 'n_estimators': 110}"
          ],
          [
           "{'max_depth': 3, 'max_features': 'log2', 'min_samples_split': 3, 'n_estimators': 130}"
          ],
          [
           "{'max_depth': 3, 'max_features': 'log2', 'min_samples_split': 6, 'n_estimators': 50}"
          ],
          [
           "{'max_depth': 3, 'max_features': 'log2', 'min_samples_split': 6, 'n_estimators': 80}"
          ],
          [
           "{'max_depth': 3, 'max_features': 'log2', 'min_samples_split': 6, 'n_estimators': 110}"
          ],
          [
           "{'max_depth': 3, 'max_features': 'log2', 'min_samples_split': 6, 'n_estimators': 130}"
          ],
          [
           "{'max_depth': 3, 'max_features': 'log2', 'min_samples_split': 9, 'n_estimators': 50}"
          ],
          [
           "{'max_depth': 3, 'max_features': 'log2', 'min_samples_split': 9, 'n_estimators': 80}"
          ],
          [
           "{'max_depth': 3, 'max_features': 'log2', 'min_samples_split': 9, 'n_estimators': 110}"
          ],
          [
           "{'max_depth': 3, 'max_features': 'log2', 'min_samples_split': 9, 'n_estimators': 130}"
          ],
          [
           "{'max_depth': 3, 'max_features': 'log2', 'min_samples_split': 12, 'n_estimators': 50}"
          ],
          [
           "{'max_depth': 3, 'max_features': 'log2', 'min_samples_split': 12, 'n_estimators': 80}"
          ],
          [
           "{'max_depth': 3, 'max_features': 'log2', 'min_samples_split': 12, 'n_estimators': 110}"
          ],
          [
           "{'max_depth': 3, 'max_features': 'log2', 'min_samples_split': 12, 'n_estimators': 130}"
          ],
          [
           "{'max_depth': 6, 'max_features': 'sqrt', 'min_samples_split': 3, 'n_estimators': 50}"
          ],
          [
           "{'max_depth': 6, 'max_features': 'sqrt', 'min_samples_split': 3, 'n_estimators': 80}"
          ],
          [
           "{'max_depth': 6, 'max_features': 'sqrt', 'min_samples_split': 3, 'n_estimators': 110}"
          ],
          [
           "{'max_depth': 6, 'max_features': 'sqrt', 'min_samples_split': 3, 'n_estimators': 130}"
          ],
          [
           "{'max_depth': 6, 'max_features': 'sqrt', 'min_samples_split': 6, 'n_estimators': 50}"
          ],
          [
           "{'max_depth': 6, 'max_features': 'sqrt', 'min_samples_split': 6, 'n_estimators': 80}"
          ],
          [
           "{'max_depth': 6, 'max_features': 'sqrt', 'min_samples_split': 6, 'n_estimators': 110}"
          ],
          [
           "{'max_depth': 6, 'max_features': 'sqrt', 'min_samples_split': 6, 'n_estimators': 130}"
          ],
          [
           "{'max_depth': 6, 'max_features': 'sqrt', 'min_samples_split': 9, 'n_estimators': 50}"
          ],
          [
           "{'max_depth': 6, 'max_features': 'sqrt', 'min_samples_split': 9, 'n_estimators': 80}"
          ],
          [
           "{'max_depth': 6, 'max_features': 'sqrt', 'min_samples_split': 9, 'n_estimators': 110}"
          ],
          [
           "{'max_depth': 6, 'max_features': 'sqrt', 'min_samples_split': 9, 'n_estimators': 130}"
          ],
          [
           "{'max_depth': 6, 'max_features': 'sqrt', 'min_samples_split': 12, 'n_estimators': 50}"
          ],
          [
           "{'max_depth': 6, 'max_features': 'sqrt', 'min_samples_split': 12, 'n_estimators': 80}"
          ],
          [
           "{'max_depth': 6, 'max_features': 'sqrt', 'min_samples_split': 12, 'n_estimators': 110}"
          ],
          [
           "{'max_depth': 6, 'max_features': 'sqrt', 'min_samples_split': 12, 'n_estimators': 130}"
          ],
          [
           "{'max_depth': 6, 'max_features': 'log2', 'min_samples_split': 3, 'n_estimators': 50}"
          ],
          [
           "{'max_depth': 6, 'max_features': 'log2', 'min_samples_split': 3, 'n_estimators': 80}"
          ],
          [
           "{'max_depth': 6, 'max_features': 'log2', 'min_samples_split': 3, 'n_estimators': 110}"
          ],
          [
           "{'max_depth': 6, 'max_features': 'log2', 'min_samples_split': 3, 'n_estimators': 130}"
          ],
          [
           "{'max_depth': 6, 'max_features': 'log2', 'min_samples_split': 6, 'n_estimators': 50}"
          ],
          [
           "{'max_depth': 6, 'max_features': 'log2', 'min_samples_split': 6, 'n_estimators': 80}"
          ],
          [
           "{'max_depth': 6, 'max_features': 'log2', 'min_samples_split': 6, 'n_estimators': 110}"
          ],
          [
           "{'max_depth': 6, 'max_features': 'log2', 'min_samples_split': 6, 'n_estimators': 130}"
          ],
          [
           "{'max_depth': 6, 'max_features': 'log2', 'min_samples_split': 9, 'n_estimators': 50}"
          ],
          [
           "{'max_depth': 6, 'max_features': 'log2', 'min_samples_split': 9, 'n_estimators': 80}"
          ],
          [
           "{'max_depth': 6, 'max_features': 'log2', 'min_samples_split': 9, 'n_estimators': 110}"
          ],
          [
           "{'max_depth': 6, 'max_features': 'log2', 'min_samples_split': 9, 'n_estimators': 130}"
          ],
          [
           "{'max_depth': 6, 'max_features': 'log2', 'min_samples_split': 12, 'n_estimators': 50}"
          ],
          [
           "{'max_depth': 6, 'max_features': 'log2', 'min_samples_split': 12, 'n_estimators': 80}"
          ],
          [
           "{'max_depth': 6, 'max_features': 'log2', 'min_samples_split': 12, 'n_estimators': 110}"
          ],
          [
           "{'max_depth': 6, 'max_features': 'log2', 'min_samples_split': 12, 'n_estimators': 130}"
          ],
          [
           "{'max_depth': 9, 'max_features': 'sqrt', 'min_samples_split': 3, 'n_estimators': 50}"
          ],
          [
           "{'max_depth': 9, 'max_features': 'sqrt', 'min_samples_split': 3, 'n_estimators': 80}"
          ],
          [
           "{'max_depth': 9, 'max_features': 'sqrt', 'min_samples_split': 3, 'n_estimators': 110}"
          ],
          [
           "{'max_depth': 9, 'max_features': 'sqrt', 'min_samples_split': 3, 'n_estimators': 130}"
          ],
          [
           "{'max_depth': 9, 'max_features': 'sqrt', 'min_samples_split': 6, 'n_estimators': 50}"
          ],
          [
           "{'max_depth': 9, 'max_features': 'sqrt', 'min_samples_split': 6, 'n_estimators': 80}"
          ],
          [
           "{'max_depth': 9, 'max_features': 'sqrt', 'min_samples_split': 6, 'n_estimators': 110}"
          ],
          [
           "{'max_depth': 9, 'max_features': 'sqrt', 'min_samples_split': 6, 'n_estimators': 130}"
          ],
          [
           "{'max_depth': 9, 'max_features': 'sqrt', 'min_samples_split': 9, 'n_estimators': 50}"
          ],
          [
           "{'max_depth': 9, 'max_features': 'sqrt', 'min_samples_split': 9, 'n_estimators': 80}"
          ],
          [
           "{'max_depth': 9, 'max_features': 'sqrt', 'min_samples_split': 9, 'n_estimators': 110}"
          ],
          [
           "{'max_depth': 9, 'max_features': 'sqrt', 'min_samples_split': 9, 'n_estimators': 130}"
          ],
          [
           "{'max_depth': 9, 'max_features': 'sqrt', 'min_samples_split': 12, 'n_estimators': 50}"
          ],
          [
           "{'max_depth': 9, 'max_features': 'sqrt', 'min_samples_split': 12, 'n_estimators': 80}"
          ],
          [
           "{'max_depth': 9, 'max_features': 'sqrt', 'min_samples_split': 12, 'n_estimators': 110}"
          ],
          [
           "{'max_depth': 9, 'max_features': 'sqrt', 'min_samples_split': 12, 'n_estimators': 130}"
          ],
          [
           "{'max_depth': 9, 'max_features': 'log2', 'min_samples_split': 3, 'n_estimators': 50}"
          ],
          [
           "{'max_depth': 9, 'max_features': 'log2', 'min_samples_split': 3, 'n_estimators': 80}"
          ],
          [
           "{'max_depth': 9, 'max_features': 'log2', 'min_samples_split': 3, 'n_estimators': 110}"
          ],
          [
           "{'max_depth': 9, 'max_features': 'log2', 'min_samples_split': 3, 'n_estimators': 130}"
          ],
          [
           "{'max_depth': 9, 'max_features': 'log2', 'min_samples_split': 6, 'n_estimators': 50}"
          ],
          [
           "{'max_depth': 9, 'max_features': 'log2', 'min_samples_split': 6, 'n_estimators': 80}"
          ],
          [
           "{'max_depth': 9, 'max_features': 'log2', 'min_samples_split': 6, 'n_estimators': 110}"
          ],
          [
           "{'max_depth': 9, 'max_features': 'log2', 'min_samples_split': 6, 'n_estimators': 130}"
          ],
          [
           "{'max_depth': 9, 'max_features': 'log2', 'min_samples_split': 9, 'n_estimators': 50}"
          ],
          [
           "{'max_depth': 9, 'max_features': 'log2', 'min_samples_split': 9, 'n_estimators': 80}"
          ],
          [
           "{'max_depth': 9, 'max_features': 'log2', 'min_samples_split': 9, 'n_estimators': 110}"
          ],
          [
           "{'max_depth': 9, 'max_features': 'log2', 'min_samples_split': 9, 'n_estimators': 130}"
          ],
          [
           "{'max_depth': 9, 'max_features': 'log2', 'min_samples_split': 12, 'n_estimators': 50}"
          ],
          [
           "{'max_depth': 9, 'max_features': 'log2', 'min_samples_split': 12, 'n_estimators': 80}"
          ],
          [
           "{'max_depth': 9, 'max_features': 'log2', 'min_samples_split': 12, 'n_estimators': 110}"
          ],
          [
           "{'max_depth': 9, 'max_features': 'log2', 'min_samples_split': 12, 'n_estimators': 130}"
          ]
         ],
         "error_y": {
          "array": [
           0.027419235623386825,
           0.03431278848641142,
           0.029148638666143267,
           0.03053357260068814,
           0.0348933020869874,
           0.029106692582890382,
           0.031010582337988618,
           0.02733617023578541,
           0.02890097476348488,
           0.0245719018981946,
           0.03053993780752875,
           0.029432484157510753,
           0.03594507449706144,
           0.03853945583068307,
           0.0218956512018715,
           0.03315954015610625,
           0.026626579042928512,
           0.02804155904487944,
           0.03091126111381411,
           0.023176863429540166,
           0.03464626057799948,
           0.018713795539845698,
           0.025296381042166357,
           0.03250040837973359,
           0.03856230590172447,
           0.029652845612010897,
           0.028638165595672685,
           0.021460249572817888,
           0.022823437771007093,
           0.034077891310486316,
           0.03680413374085904,
           0.026460295508057934,
           0.04554490833023763,
           0.040614644493539104,
           0.02941636241312286,
           0.037019077494550585,
           0.03855691530431798,
           0.043759163972329825,
           0.0476310667850602,
           0.04366077312633395,
           0.051496188324320666,
           0.04583554065364627,
           0.0372269976810659,
           0.046722653046305844,
           0.036244636692065374,
           0.03999340193958484,
           0.046650877968587016,
           0.039397516356245596,
           0.0333224140357341,
           0.037515579801771545,
           0.045809257552019866,
           0.03977220080735883,
           0.0574210591041397,
           0.04422555112931898,
           0.03980361789070017,
           0.04085240146187826,
           0.04426593942236811,
           0.051394698895329716,
           0.037552960665105134,
           0.044440927312200215,
           0.04382210833089653,
           0.040083893310982895,
           0.03626309249484317,
           0.04530422850521559,
           0.03361158556621749,
           0.021953869274712455,
           0.0318940586934471,
           0.02717587263383071,
           0.036135685535744866,
           0.018603641653455603,
           0.03291459373672307,
           0.03764878240924622,
           0.027693447063318194,
           0.04274489142630642,
           0.032925806156983664,
           0.024304645008024605,
           0.01883135366006144,
           0.03543340955124671,
           0.03118212534213551,
           0.03173356486972746,
           0.029987120756937845,
           0.023524031031865372,
           0.030288403299807122,
           0.029762736708725725,
           0.027862866054878713,
           0.02883056943301104,
           0.02671651593460106,
           0.03177753713435441,
           0.02687901822003867,
           0.021864404820008773,
           0.029634951361656562,
           0.028288795182446647,
           0.019740379446765058,
           0.0352616722359818,
           0.028392469964338505,
           0.023639973086876563
          ]
         },
         "hovertemplate": "<b>%{hovertext}</b><br><br>type=train<br>Params=%{x}<br>Average f1=%{y}<br>params=%{customdata[0]}<extra></extra>",
         "hovertext": [
          "{'max_depth': 3, 'max_features': 'sqrt', 'min_samples_split': 3, 'n_estimators': 50}",
          "{'max_depth': 3, 'max_features': 'sqrt', 'min_samples_split': 3, 'n_estimators': 80}",
          "{'max_depth': 3, 'max_features': 'sqrt', 'min_samples_split': 3, 'n_estimators': 110}",
          "{'max_depth': 3, 'max_features': 'sqrt', 'min_samples_split': 3, 'n_estimators': 130}",
          "{'max_depth': 3, 'max_features': 'sqrt', 'min_samples_split': 6, 'n_estimators': 50}",
          "{'max_depth': 3, 'max_features': 'sqrt', 'min_samples_split': 6, 'n_estimators': 80}",
          "{'max_depth': 3, 'max_features': 'sqrt', 'min_samples_split': 6, 'n_estimators': 110}",
          "{'max_depth': 3, 'max_features': 'sqrt', 'min_samples_split': 6, 'n_estimators': 130}",
          "{'max_depth': 3, 'max_features': 'sqrt', 'min_samples_split': 9, 'n_estimators': 50}",
          "{'max_depth': 3, 'max_features': 'sqrt', 'min_samples_split': 9, 'n_estimators': 80}",
          "{'max_depth': 3, 'max_features': 'sqrt', 'min_samples_split': 9, 'n_estimators': 110}",
          "{'max_depth': 3, 'max_features': 'sqrt', 'min_samples_split': 9, 'n_estimators': 130}",
          "{'max_depth': 3, 'max_features': 'sqrt', 'min_samples_split': 12, 'n_estimators': 50}",
          "{'max_depth': 3, 'max_features': 'sqrt', 'min_samples_split': 12, 'n_estimators': 80}",
          "{'max_depth': 3, 'max_features': 'sqrt', 'min_samples_split': 12, 'n_estimators': 110}",
          "{'max_depth': 3, 'max_features': 'sqrt', 'min_samples_split': 12, 'n_estimators': 130}",
          "{'max_depth': 3, 'max_features': 'log2', 'min_samples_split': 3, 'n_estimators': 50}",
          "{'max_depth': 3, 'max_features': 'log2', 'min_samples_split': 3, 'n_estimators': 80}",
          "{'max_depth': 3, 'max_features': 'log2', 'min_samples_split': 3, 'n_estimators': 110}",
          "{'max_depth': 3, 'max_features': 'log2', 'min_samples_split': 3, 'n_estimators': 130}",
          "{'max_depth': 3, 'max_features': 'log2', 'min_samples_split': 6, 'n_estimators': 50}",
          "{'max_depth': 3, 'max_features': 'log2', 'min_samples_split': 6, 'n_estimators': 80}",
          "{'max_depth': 3, 'max_features': 'log2', 'min_samples_split': 6, 'n_estimators': 110}",
          "{'max_depth': 3, 'max_features': 'log2', 'min_samples_split': 6, 'n_estimators': 130}",
          "{'max_depth': 3, 'max_features': 'log2', 'min_samples_split': 9, 'n_estimators': 50}",
          "{'max_depth': 3, 'max_features': 'log2', 'min_samples_split': 9, 'n_estimators': 80}",
          "{'max_depth': 3, 'max_features': 'log2', 'min_samples_split': 9, 'n_estimators': 110}",
          "{'max_depth': 3, 'max_features': 'log2', 'min_samples_split': 9, 'n_estimators': 130}",
          "{'max_depth': 3, 'max_features': 'log2', 'min_samples_split': 12, 'n_estimators': 50}",
          "{'max_depth': 3, 'max_features': 'log2', 'min_samples_split': 12, 'n_estimators': 80}",
          "{'max_depth': 3, 'max_features': 'log2', 'min_samples_split': 12, 'n_estimators': 110}",
          "{'max_depth': 3, 'max_features': 'log2', 'min_samples_split': 12, 'n_estimators': 130}",
          "{'max_depth': 6, 'max_features': 'sqrt', 'min_samples_split': 3, 'n_estimators': 50}",
          "{'max_depth': 6, 'max_features': 'sqrt', 'min_samples_split': 3, 'n_estimators': 80}",
          "{'max_depth': 6, 'max_features': 'sqrt', 'min_samples_split': 3, 'n_estimators': 110}",
          "{'max_depth': 6, 'max_features': 'sqrt', 'min_samples_split': 3, 'n_estimators': 130}",
          "{'max_depth': 6, 'max_features': 'sqrt', 'min_samples_split': 6, 'n_estimators': 50}",
          "{'max_depth': 6, 'max_features': 'sqrt', 'min_samples_split': 6, 'n_estimators': 80}",
          "{'max_depth': 6, 'max_features': 'sqrt', 'min_samples_split': 6, 'n_estimators': 110}",
          "{'max_depth': 6, 'max_features': 'sqrt', 'min_samples_split': 6, 'n_estimators': 130}",
          "{'max_depth': 6, 'max_features': 'sqrt', 'min_samples_split': 9, 'n_estimators': 50}",
          "{'max_depth': 6, 'max_features': 'sqrt', 'min_samples_split': 9, 'n_estimators': 80}",
          "{'max_depth': 6, 'max_features': 'sqrt', 'min_samples_split': 9, 'n_estimators': 110}",
          "{'max_depth': 6, 'max_features': 'sqrt', 'min_samples_split': 9, 'n_estimators': 130}",
          "{'max_depth': 6, 'max_features': 'sqrt', 'min_samples_split': 12, 'n_estimators': 50}",
          "{'max_depth': 6, 'max_features': 'sqrt', 'min_samples_split': 12, 'n_estimators': 80}",
          "{'max_depth': 6, 'max_features': 'sqrt', 'min_samples_split': 12, 'n_estimators': 110}",
          "{'max_depth': 6, 'max_features': 'sqrt', 'min_samples_split': 12, 'n_estimators': 130}",
          "{'max_depth': 6, 'max_features': 'log2', 'min_samples_split': 3, 'n_estimators': 50}",
          "{'max_depth': 6, 'max_features': 'log2', 'min_samples_split': 3, 'n_estimators': 80}",
          "{'max_depth': 6, 'max_features': 'log2', 'min_samples_split': 3, 'n_estimators': 110}",
          "{'max_depth': 6, 'max_features': 'log2', 'min_samples_split': 3, 'n_estimators': 130}",
          "{'max_depth': 6, 'max_features': 'log2', 'min_samples_split': 6, 'n_estimators': 50}",
          "{'max_depth': 6, 'max_features': 'log2', 'min_samples_split': 6, 'n_estimators': 80}",
          "{'max_depth': 6, 'max_features': 'log2', 'min_samples_split': 6, 'n_estimators': 110}",
          "{'max_depth': 6, 'max_features': 'log2', 'min_samples_split': 6, 'n_estimators': 130}",
          "{'max_depth': 6, 'max_features': 'log2', 'min_samples_split': 9, 'n_estimators': 50}",
          "{'max_depth': 6, 'max_features': 'log2', 'min_samples_split': 9, 'n_estimators': 80}",
          "{'max_depth': 6, 'max_features': 'log2', 'min_samples_split': 9, 'n_estimators': 110}",
          "{'max_depth': 6, 'max_features': 'log2', 'min_samples_split': 9, 'n_estimators': 130}",
          "{'max_depth': 6, 'max_features': 'log2', 'min_samples_split': 12, 'n_estimators': 50}",
          "{'max_depth': 6, 'max_features': 'log2', 'min_samples_split': 12, 'n_estimators': 80}",
          "{'max_depth': 6, 'max_features': 'log2', 'min_samples_split': 12, 'n_estimators': 110}",
          "{'max_depth': 6, 'max_features': 'log2', 'min_samples_split': 12, 'n_estimators': 130}",
          "{'max_depth': 9, 'max_features': 'sqrt', 'min_samples_split': 3, 'n_estimators': 50}",
          "{'max_depth': 9, 'max_features': 'sqrt', 'min_samples_split': 3, 'n_estimators': 80}",
          "{'max_depth': 9, 'max_features': 'sqrt', 'min_samples_split': 3, 'n_estimators': 110}",
          "{'max_depth': 9, 'max_features': 'sqrt', 'min_samples_split': 3, 'n_estimators': 130}",
          "{'max_depth': 9, 'max_features': 'sqrt', 'min_samples_split': 6, 'n_estimators': 50}",
          "{'max_depth': 9, 'max_features': 'sqrt', 'min_samples_split': 6, 'n_estimators': 80}",
          "{'max_depth': 9, 'max_features': 'sqrt', 'min_samples_split': 6, 'n_estimators': 110}",
          "{'max_depth': 9, 'max_features': 'sqrt', 'min_samples_split': 6, 'n_estimators': 130}",
          "{'max_depth': 9, 'max_features': 'sqrt', 'min_samples_split': 9, 'n_estimators': 50}",
          "{'max_depth': 9, 'max_features': 'sqrt', 'min_samples_split': 9, 'n_estimators': 80}",
          "{'max_depth': 9, 'max_features': 'sqrt', 'min_samples_split': 9, 'n_estimators': 110}",
          "{'max_depth': 9, 'max_features': 'sqrt', 'min_samples_split': 9, 'n_estimators': 130}",
          "{'max_depth': 9, 'max_features': 'sqrt', 'min_samples_split': 12, 'n_estimators': 50}",
          "{'max_depth': 9, 'max_features': 'sqrt', 'min_samples_split': 12, 'n_estimators': 80}",
          "{'max_depth': 9, 'max_features': 'sqrt', 'min_samples_split': 12, 'n_estimators': 110}",
          "{'max_depth': 9, 'max_features': 'sqrt', 'min_samples_split': 12, 'n_estimators': 130}",
          "{'max_depth': 9, 'max_features': 'log2', 'min_samples_split': 3, 'n_estimators': 50}",
          "{'max_depth': 9, 'max_features': 'log2', 'min_samples_split': 3, 'n_estimators': 80}",
          "{'max_depth': 9, 'max_features': 'log2', 'min_samples_split': 3, 'n_estimators': 110}",
          "{'max_depth': 9, 'max_features': 'log2', 'min_samples_split': 3, 'n_estimators': 130}",
          "{'max_depth': 9, 'max_features': 'log2', 'min_samples_split': 6, 'n_estimators': 50}",
          "{'max_depth': 9, 'max_features': 'log2', 'min_samples_split': 6, 'n_estimators': 80}",
          "{'max_depth': 9, 'max_features': 'log2', 'min_samples_split': 6, 'n_estimators': 110}",
          "{'max_depth': 9, 'max_features': 'log2', 'min_samples_split': 6, 'n_estimators': 130}",
          "{'max_depth': 9, 'max_features': 'log2', 'min_samples_split': 9, 'n_estimators': 50}",
          "{'max_depth': 9, 'max_features': 'log2', 'min_samples_split': 9, 'n_estimators': 80}",
          "{'max_depth': 9, 'max_features': 'log2', 'min_samples_split': 9, 'n_estimators': 110}",
          "{'max_depth': 9, 'max_features': 'log2', 'min_samples_split': 9, 'n_estimators': 130}",
          "{'max_depth': 9, 'max_features': 'log2', 'min_samples_split': 12, 'n_estimators': 50}",
          "{'max_depth': 9, 'max_features': 'log2', 'min_samples_split': 12, 'n_estimators': 80}",
          "{'max_depth': 9, 'max_features': 'log2', 'min_samples_split': 12, 'n_estimators': 110}",
          "{'max_depth': 9, 'max_features': 'log2', 'min_samples_split': 12, 'n_estimators': 130}"
         ],
         "legendgroup": "train",
         "marker": {
          "color": "#EF553B",
          "pattern": {
           "shape": ""
          }
         },
         "name": "train",
         "offsetgroup": "train",
         "orientation": "v",
         "showlegend": true,
         "textposition": "auto",
         "type": "bar",
         "x": [
          0,
          1,
          2,
          3,
          4,
          5,
          6,
          7,
          8,
          9,
          10,
          11,
          12,
          13,
          14,
          15,
          16,
          17,
          18,
          19,
          20,
          21,
          22,
          23,
          24,
          25,
          26,
          27,
          28,
          29,
          30,
          31,
          32,
          33,
          34,
          35,
          36,
          37,
          38,
          39,
          40,
          41,
          42,
          43,
          44,
          45,
          46,
          47,
          48,
          49,
          50,
          51,
          52,
          53,
          54,
          55,
          56,
          57,
          58,
          59,
          60,
          61,
          62,
          63,
          64,
          65,
          66,
          67,
          68,
          69,
          70,
          71,
          72,
          73,
          74,
          75,
          76,
          77,
          78,
          79,
          80,
          81,
          82,
          83,
          84,
          85,
          86,
          87,
          88,
          89,
          90,
          91,
          92,
          93,
          94,
          95
         ],
         "xaxis": "x",
         "y": [
          0.1531599013611712,
          0.15472830507603894,
          0.1546061541891022,
          0.15464548894773084,
          0.15857630483009386,
          0.16195650568243086,
          0.151653757716702,
          0.1532415648417214,
          0.147615340073925,
          0.15536401367165711,
          0.15643725197210878,
          0.15497341027120373,
          0.151136908493337,
          0.1607356389048028,
          0.15583684880150525,
          0.15510653886946715,
          0.16078207975581535,
          0.1491080847986768,
          0.15236729803576074,
          0.1548161237741837,
          0.16837380507748687,
          0.15303203478661492,
          0.15630546459364045,
          0.15199409336566733,
          0.16194874622210678,
          0.15303105321895344,
          0.15766752064514053,
          0.14499505386118344,
          0.15517516071214144,
          0.15394264269144073,
          0.1628077024751891,
          0.15344630189703917,
          0.40362571115761536,
          0.40741162767635125,
          0.4064356118603234,
          0.40055786329660076,
          0.39317419821306987,
          0.3946948195597404,
          0.40184229631715435,
          0.3967097682509512,
          0.3965454322404053,
          0.3972041283322363,
          0.4013619615245805,
          0.37980499077515995,
          0.3953309692798916,
          0.38774924148178497,
          0.38049740698572815,
          0.3840503395573273,
          0.4147315866098591,
          0.4100382520530892,
          0.4009603876867933,
          0.3929849923277403,
          0.3913589527617928,
          0.4038506380655737,
          0.3978783415776687,
          0.3902666871563247,
          0.39798754460110947,
          0.40457971651817753,
          0.3963976551952016,
          0.3943810791059728,
          0.3963667046371056,
          0.3890026894904647,
          0.3959386696948446,
          0.3962181074854475,
          0.630441769272411,
          0.6364070060905244,
          0.6336428273549009,
          0.6388387514281735,
          0.621132566490368,
          0.6202270760522187,
          0.6130558972784184,
          0.6176359310963724,
          0.605293894088845,
          0.6004387042229655,
          0.5989404730842562,
          0.6010843780055769,
          0.5927477725939518,
          0.5894742221391247,
          0.59409590941223,
          0.5910181131556684,
          0.6380442330293551,
          0.636984052941012,
          0.6402655988756771,
          0.6355346859091137,
          0.6275699486663883,
          0.6191330586934939,
          0.6258494398807906,
          0.6266875928111447,
          0.6129577067483611,
          0.6110681593340971,
          0.6026154587558568,
          0.6065711015707379,
          0.6066174077975942,
          0.5873003599011037,
          0.5886671040579158,
          0.596284094830939
         ],
         "yaxis": "y"
        }
       ],
       "layout": {
        "barmode": "group",
        "legend": {
         "title": {
          "text": "type"
         },
         "tracegroupgap": 0
        },
        "template": {
         "data": {
          "bar": [
           {
            "error_x": {
             "color": "#2a3f5f"
            },
            "error_y": {
             "color": "#2a3f5f"
            },
            "marker": {
             "line": {
              "color": "#E5ECF6",
              "width": 0.5
             },
             "pattern": {
              "fillmode": "overlay",
              "size": 10,
              "solidity": 0.2
             }
            },
            "type": "bar"
           }
          ],
          "barpolar": [
           {
            "marker": {
             "line": {
              "color": "#E5ECF6",
              "width": 0.5
             },
             "pattern": {
              "fillmode": "overlay",
              "size": 10,
              "solidity": 0.2
             }
            },
            "type": "barpolar"
           }
          ],
          "carpet": [
           {
            "aaxis": {
             "endlinecolor": "#2a3f5f",
             "gridcolor": "white",
             "linecolor": "white",
             "minorgridcolor": "white",
             "startlinecolor": "#2a3f5f"
            },
            "baxis": {
             "endlinecolor": "#2a3f5f",
             "gridcolor": "white",
             "linecolor": "white",
             "minorgridcolor": "white",
             "startlinecolor": "#2a3f5f"
            },
            "type": "carpet"
           }
          ],
          "choropleth": [
           {
            "colorbar": {
             "outlinewidth": 0,
             "ticks": ""
            },
            "type": "choropleth"
           }
          ],
          "contour": [
           {
            "colorbar": {
             "outlinewidth": 0,
             "ticks": ""
            },
            "colorscale": [
             [
              0,
              "#0d0887"
             ],
             [
              0.1111111111111111,
              "#46039f"
             ],
             [
              0.2222222222222222,
              "#7201a8"
             ],
             [
              0.3333333333333333,
              "#9c179e"
             ],
             [
              0.4444444444444444,
              "#bd3786"
             ],
             [
              0.5555555555555556,
              "#d8576b"
             ],
             [
              0.6666666666666666,
              "#ed7953"
             ],
             [
              0.7777777777777778,
              "#fb9f3a"
             ],
             [
              0.8888888888888888,
              "#fdca26"
             ],
             [
              1,
              "#f0f921"
             ]
            ],
            "type": "contour"
           }
          ],
          "contourcarpet": [
           {
            "colorbar": {
             "outlinewidth": 0,
             "ticks": ""
            },
            "type": "contourcarpet"
           }
          ],
          "heatmap": [
           {
            "colorbar": {
             "outlinewidth": 0,
             "ticks": ""
            },
            "colorscale": [
             [
              0,
              "#0d0887"
             ],
             [
              0.1111111111111111,
              "#46039f"
             ],
             [
              0.2222222222222222,
              "#7201a8"
             ],
             [
              0.3333333333333333,
              "#9c179e"
             ],
             [
              0.4444444444444444,
              "#bd3786"
             ],
             [
              0.5555555555555556,
              "#d8576b"
             ],
             [
              0.6666666666666666,
              "#ed7953"
             ],
             [
              0.7777777777777778,
              "#fb9f3a"
             ],
             [
              0.8888888888888888,
              "#fdca26"
             ],
             [
              1,
              "#f0f921"
             ]
            ],
            "type": "heatmap"
           }
          ],
          "heatmapgl": [
           {
            "colorbar": {
             "outlinewidth": 0,
             "ticks": ""
            },
            "colorscale": [
             [
              0,
              "#0d0887"
             ],
             [
              0.1111111111111111,
              "#46039f"
             ],
             [
              0.2222222222222222,
              "#7201a8"
             ],
             [
              0.3333333333333333,
              "#9c179e"
             ],
             [
              0.4444444444444444,
              "#bd3786"
             ],
             [
              0.5555555555555556,
              "#d8576b"
             ],
             [
              0.6666666666666666,
              "#ed7953"
             ],
             [
              0.7777777777777778,
              "#fb9f3a"
             ],
             [
              0.8888888888888888,
              "#fdca26"
             ],
             [
              1,
              "#f0f921"
             ]
            ],
            "type": "heatmapgl"
           }
          ],
          "histogram": [
           {
            "marker": {
             "pattern": {
              "fillmode": "overlay",
              "size": 10,
              "solidity": 0.2
             }
            },
            "type": "histogram"
           }
          ],
          "histogram2d": [
           {
            "colorbar": {
             "outlinewidth": 0,
             "ticks": ""
            },
            "colorscale": [
             [
              0,
              "#0d0887"
             ],
             [
              0.1111111111111111,
              "#46039f"
             ],
             [
              0.2222222222222222,
              "#7201a8"
             ],
             [
              0.3333333333333333,
              "#9c179e"
             ],
             [
              0.4444444444444444,
              "#bd3786"
             ],
             [
              0.5555555555555556,
              "#d8576b"
             ],
             [
              0.6666666666666666,
              "#ed7953"
             ],
             [
              0.7777777777777778,
              "#fb9f3a"
             ],
             [
              0.8888888888888888,
              "#fdca26"
             ],
             [
              1,
              "#f0f921"
             ]
            ],
            "type": "histogram2d"
           }
          ],
          "histogram2dcontour": [
           {
            "colorbar": {
             "outlinewidth": 0,
             "ticks": ""
            },
            "colorscale": [
             [
              0,
              "#0d0887"
             ],
             [
              0.1111111111111111,
              "#46039f"
             ],
             [
              0.2222222222222222,
              "#7201a8"
             ],
             [
              0.3333333333333333,
              "#9c179e"
             ],
             [
              0.4444444444444444,
              "#bd3786"
             ],
             [
              0.5555555555555556,
              "#d8576b"
             ],
             [
              0.6666666666666666,
              "#ed7953"
             ],
             [
              0.7777777777777778,
              "#fb9f3a"
             ],
             [
              0.8888888888888888,
              "#fdca26"
             ],
             [
              1,
              "#f0f921"
             ]
            ],
            "type": "histogram2dcontour"
           }
          ],
          "mesh3d": [
           {
            "colorbar": {
             "outlinewidth": 0,
             "ticks": ""
            },
            "type": "mesh3d"
           }
          ],
          "parcoords": [
           {
            "line": {
             "colorbar": {
              "outlinewidth": 0,
              "ticks": ""
             }
            },
            "type": "parcoords"
           }
          ],
          "pie": [
           {
            "automargin": true,
            "type": "pie"
           }
          ],
          "scatter": [
           {
            "marker": {
             "colorbar": {
              "outlinewidth": 0,
              "ticks": ""
             }
            },
            "type": "scatter"
           }
          ],
          "scatter3d": [
           {
            "line": {
             "colorbar": {
              "outlinewidth": 0,
              "ticks": ""
             }
            },
            "marker": {
             "colorbar": {
              "outlinewidth": 0,
              "ticks": ""
             }
            },
            "type": "scatter3d"
           }
          ],
          "scattercarpet": [
           {
            "marker": {
             "colorbar": {
              "outlinewidth": 0,
              "ticks": ""
             }
            },
            "type": "scattercarpet"
           }
          ],
          "scattergeo": [
           {
            "marker": {
             "colorbar": {
              "outlinewidth": 0,
              "ticks": ""
             }
            },
            "type": "scattergeo"
           }
          ],
          "scattergl": [
           {
            "marker": {
             "colorbar": {
              "outlinewidth": 0,
              "ticks": ""
             }
            },
            "type": "scattergl"
           }
          ],
          "scattermapbox": [
           {
            "marker": {
             "colorbar": {
              "outlinewidth": 0,
              "ticks": ""
             }
            },
            "type": "scattermapbox"
           }
          ],
          "scatterpolar": [
           {
            "marker": {
             "colorbar": {
              "outlinewidth": 0,
              "ticks": ""
             }
            },
            "type": "scatterpolar"
           }
          ],
          "scatterpolargl": [
           {
            "marker": {
             "colorbar": {
              "outlinewidth": 0,
              "ticks": ""
             }
            },
            "type": "scatterpolargl"
           }
          ],
          "scatterternary": [
           {
            "marker": {
             "colorbar": {
              "outlinewidth": 0,
              "ticks": ""
             }
            },
            "type": "scatterternary"
           }
          ],
          "surface": [
           {
            "colorbar": {
             "outlinewidth": 0,
             "ticks": ""
            },
            "colorscale": [
             [
              0,
              "#0d0887"
             ],
             [
              0.1111111111111111,
              "#46039f"
             ],
             [
              0.2222222222222222,
              "#7201a8"
             ],
             [
              0.3333333333333333,
              "#9c179e"
             ],
             [
              0.4444444444444444,
              "#bd3786"
             ],
             [
              0.5555555555555556,
              "#d8576b"
             ],
             [
              0.6666666666666666,
              "#ed7953"
             ],
             [
              0.7777777777777778,
              "#fb9f3a"
             ],
             [
              0.8888888888888888,
              "#fdca26"
             ],
             [
              1,
              "#f0f921"
             ]
            ],
            "type": "surface"
           }
          ],
          "table": [
           {
            "cells": {
             "fill": {
              "color": "#EBF0F8"
             },
             "line": {
              "color": "white"
             }
            },
            "header": {
             "fill": {
              "color": "#C8D4E3"
             },
             "line": {
              "color": "white"
             }
            },
            "type": "table"
           }
          ]
         },
         "layout": {
          "annotationdefaults": {
           "arrowcolor": "#2a3f5f",
           "arrowhead": 0,
           "arrowwidth": 1
          },
          "autotypenumbers": "strict",
          "coloraxis": {
           "colorbar": {
            "outlinewidth": 0,
            "ticks": ""
           }
          },
          "colorscale": {
           "diverging": [
            [
             0,
             "#8e0152"
            ],
            [
             0.1,
             "#c51b7d"
            ],
            [
             0.2,
             "#de77ae"
            ],
            [
             0.3,
             "#f1b6da"
            ],
            [
             0.4,
             "#fde0ef"
            ],
            [
             0.5,
             "#f7f7f7"
            ],
            [
             0.6,
             "#e6f5d0"
            ],
            [
             0.7,
             "#b8e186"
            ],
            [
             0.8,
             "#7fbc41"
            ],
            [
             0.9,
             "#4d9221"
            ],
            [
             1,
             "#276419"
            ]
           ],
           "sequential": [
            [
             0,
             "#0d0887"
            ],
            [
             0.1111111111111111,
             "#46039f"
            ],
            [
             0.2222222222222222,
             "#7201a8"
            ],
            [
             0.3333333333333333,
             "#9c179e"
            ],
            [
             0.4444444444444444,
             "#bd3786"
            ],
            [
             0.5555555555555556,
             "#d8576b"
            ],
            [
             0.6666666666666666,
             "#ed7953"
            ],
            [
             0.7777777777777778,
             "#fb9f3a"
            ],
            [
             0.8888888888888888,
             "#fdca26"
            ],
            [
             1,
             "#f0f921"
            ]
           ],
           "sequentialminus": [
            [
             0,
             "#0d0887"
            ],
            [
             0.1111111111111111,
             "#46039f"
            ],
            [
             0.2222222222222222,
             "#7201a8"
            ],
            [
             0.3333333333333333,
             "#9c179e"
            ],
            [
             0.4444444444444444,
             "#bd3786"
            ],
            [
             0.5555555555555556,
             "#d8576b"
            ],
            [
             0.6666666666666666,
             "#ed7953"
            ],
            [
             0.7777777777777778,
             "#fb9f3a"
            ],
            [
             0.8888888888888888,
             "#fdca26"
            ],
            [
             1,
             "#f0f921"
            ]
           ]
          },
          "colorway": [
           "#636efa",
           "#EF553B",
           "#00cc96",
           "#ab63fa",
           "#FFA15A",
           "#19d3f3",
           "#FF6692",
           "#B6E880",
           "#FF97FF",
           "#FECB52"
          ],
          "font": {
           "color": "#2a3f5f"
          },
          "geo": {
           "bgcolor": "white",
           "lakecolor": "white",
           "landcolor": "#E5ECF6",
           "showlakes": true,
           "showland": true,
           "subunitcolor": "white"
          },
          "hoverlabel": {
           "align": "left"
          },
          "hovermode": "closest",
          "mapbox": {
           "style": "light"
          },
          "paper_bgcolor": "white",
          "plot_bgcolor": "#E5ECF6",
          "polar": {
           "angularaxis": {
            "gridcolor": "white",
            "linecolor": "white",
            "ticks": ""
           },
           "bgcolor": "#E5ECF6",
           "radialaxis": {
            "gridcolor": "white",
            "linecolor": "white",
            "ticks": ""
           }
          },
          "scene": {
           "xaxis": {
            "backgroundcolor": "#E5ECF6",
            "gridcolor": "white",
            "gridwidth": 2,
            "linecolor": "white",
            "showbackground": true,
            "ticks": "",
            "zerolinecolor": "white"
           },
           "yaxis": {
            "backgroundcolor": "#E5ECF6",
            "gridcolor": "white",
            "gridwidth": 2,
            "linecolor": "white",
            "showbackground": true,
            "ticks": "",
            "zerolinecolor": "white"
           },
           "zaxis": {
            "backgroundcolor": "#E5ECF6",
            "gridcolor": "white",
            "gridwidth": 2,
            "linecolor": "white",
            "showbackground": true,
            "ticks": "",
            "zerolinecolor": "white"
           }
          },
          "shapedefaults": {
           "line": {
            "color": "#2a3f5f"
           }
          },
          "ternary": {
           "aaxis": {
            "gridcolor": "white",
            "linecolor": "white",
            "ticks": ""
           },
           "baxis": {
            "gridcolor": "white",
            "linecolor": "white",
            "ticks": ""
           },
           "bgcolor": "#E5ECF6",
           "caxis": {
            "gridcolor": "white",
            "linecolor": "white",
            "ticks": ""
           }
          },
          "title": {
           "x": 0.05
          },
          "xaxis": {
           "automargin": true,
           "gridcolor": "white",
           "linecolor": "white",
           "ticks": "",
           "title": {
            "standoff": 15
           },
           "zerolinecolor": "white",
           "zerolinewidth": 2
          },
          "yaxis": {
           "automargin": true,
           "gridcolor": "white",
           "linecolor": "white",
           "ticks": "",
           "title": {
            "standoff": 15
           },
           "zerolinecolor": "white",
           "zerolinewidth": 2
          }
         }
        },
        "title": {
         "text": "Mean f1 score on testing and training set for each parameter combination <br> (Model: RandomForest Classifier, Dataset: Mean imputation for individuals with 2 or 3 MV)"
        },
        "xaxis": {
         "anchor": "y",
         "domain": [
          0,
          1
         ],
         "title": {
          "text": "Params"
         }
        },
        "yaxis": {
         "anchor": "x",
         "domain": [
          0,
          1
         ],
         "title": {
          "text": "Average f1"
         }
        }
       }
      }
     },
     "metadata": {},
     "output_type": "display_data"
    }
   ],
   "source": [
    "stats = computeModelStats(model, stats, mean_accurracy_2_3_missing_values, pgrid)"
   ]
  },
  {
   "cell_type": "code",
   "execution_count": 27,
   "metadata": {
    "collapsed": false,
    "pycharm": {
     "name": "#%%\n"
    }
   },
   "outputs": [
    {
     "name": "stdout",
     "output_type": "stream",
     "text": [
      "Fitting 5 folds for each of 96 candidates, totalling 480 fits\n"
     ]
    },
    {
     "data": {
      "application/vnd.plotly.v1+json": {
       "config": {
        "plotlyServerURL": "https://plot.ly"
       },
       "data": [
        {
         "alignmentgroup": "True",
         "customdata": [
          [
           "{'max_depth': 3, 'max_features': 'sqrt', 'min_samples_split': 3, 'n_estimators': 50}"
          ],
          [
           "{'max_depth': 3, 'max_features': 'sqrt', 'min_samples_split': 3, 'n_estimators': 80}"
          ],
          [
           "{'max_depth': 3, 'max_features': 'sqrt', 'min_samples_split': 3, 'n_estimators': 110}"
          ],
          [
           "{'max_depth': 3, 'max_features': 'sqrt', 'min_samples_split': 3, 'n_estimators': 130}"
          ],
          [
           "{'max_depth': 3, 'max_features': 'sqrt', 'min_samples_split': 6, 'n_estimators': 50}"
          ],
          [
           "{'max_depth': 3, 'max_features': 'sqrt', 'min_samples_split': 6, 'n_estimators': 80}"
          ],
          [
           "{'max_depth': 3, 'max_features': 'sqrt', 'min_samples_split': 6, 'n_estimators': 110}"
          ],
          [
           "{'max_depth': 3, 'max_features': 'sqrt', 'min_samples_split': 6, 'n_estimators': 130}"
          ],
          [
           "{'max_depth': 3, 'max_features': 'sqrt', 'min_samples_split': 9, 'n_estimators': 50}"
          ],
          [
           "{'max_depth': 3, 'max_features': 'sqrt', 'min_samples_split': 9, 'n_estimators': 80}"
          ],
          [
           "{'max_depth': 3, 'max_features': 'sqrt', 'min_samples_split': 9, 'n_estimators': 110}"
          ],
          [
           "{'max_depth': 3, 'max_features': 'sqrt', 'min_samples_split': 9, 'n_estimators': 130}"
          ],
          [
           "{'max_depth': 3, 'max_features': 'sqrt', 'min_samples_split': 12, 'n_estimators': 50}"
          ],
          [
           "{'max_depth': 3, 'max_features': 'sqrt', 'min_samples_split': 12, 'n_estimators': 80}"
          ],
          [
           "{'max_depth': 3, 'max_features': 'sqrt', 'min_samples_split': 12, 'n_estimators': 110}"
          ],
          [
           "{'max_depth': 3, 'max_features': 'sqrt', 'min_samples_split': 12, 'n_estimators': 130}"
          ],
          [
           "{'max_depth': 3, 'max_features': 'log2', 'min_samples_split': 3, 'n_estimators': 50}"
          ],
          [
           "{'max_depth': 3, 'max_features': 'log2', 'min_samples_split': 3, 'n_estimators': 80}"
          ],
          [
           "{'max_depth': 3, 'max_features': 'log2', 'min_samples_split': 3, 'n_estimators': 110}"
          ],
          [
           "{'max_depth': 3, 'max_features': 'log2', 'min_samples_split': 3, 'n_estimators': 130}"
          ],
          [
           "{'max_depth': 3, 'max_features': 'log2', 'min_samples_split': 6, 'n_estimators': 50}"
          ],
          [
           "{'max_depth': 3, 'max_features': 'log2', 'min_samples_split': 6, 'n_estimators': 80}"
          ],
          [
           "{'max_depth': 3, 'max_features': 'log2', 'min_samples_split': 6, 'n_estimators': 110}"
          ],
          [
           "{'max_depth': 3, 'max_features': 'log2', 'min_samples_split': 6, 'n_estimators': 130}"
          ],
          [
           "{'max_depth': 3, 'max_features': 'log2', 'min_samples_split': 9, 'n_estimators': 50}"
          ],
          [
           "{'max_depth': 3, 'max_features': 'log2', 'min_samples_split': 9, 'n_estimators': 80}"
          ],
          [
           "{'max_depth': 3, 'max_features': 'log2', 'min_samples_split': 9, 'n_estimators': 110}"
          ],
          [
           "{'max_depth': 3, 'max_features': 'log2', 'min_samples_split': 9, 'n_estimators': 130}"
          ],
          [
           "{'max_depth': 3, 'max_features': 'log2', 'min_samples_split': 12, 'n_estimators': 50}"
          ],
          [
           "{'max_depth': 3, 'max_features': 'log2', 'min_samples_split': 12, 'n_estimators': 80}"
          ],
          [
           "{'max_depth': 3, 'max_features': 'log2', 'min_samples_split': 12, 'n_estimators': 110}"
          ],
          [
           "{'max_depth': 3, 'max_features': 'log2', 'min_samples_split': 12, 'n_estimators': 130}"
          ],
          [
           "{'max_depth': 6, 'max_features': 'sqrt', 'min_samples_split': 3, 'n_estimators': 50}"
          ],
          [
           "{'max_depth': 6, 'max_features': 'sqrt', 'min_samples_split': 3, 'n_estimators': 80}"
          ],
          [
           "{'max_depth': 6, 'max_features': 'sqrt', 'min_samples_split': 3, 'n_estimators': 110}"
          ],
          [
           "{'max_depth': 6, 'max_features': 'sqrt', 'min_samples_split': 3, 'n_estimators': 130}"
          ],
          [
           "{'max_depth': 6, 'max_features': 'sqrt', 'min_samples_split': 6, 'n_estimators': 50}"
          ],
          [
           "{'max_depth': 6, 'max_features': 'sqrt', 'min_samples_split': 6, 'n_estimators': 80}"
          ],
          [
           "{'max_depth': 6, 'max_features': 'sqrt', 'min_samples_split': 6, 'n_estimators': 110}"
          ],
          [
           "{'max_depth': 6, 'max_features': 'sqrt', 'min_samples_split': 6, 'n_estimators': 130}"
          ],
          [
           "{'max_depth': 6, 'max_features': 'sqrt', 'min_samples_split': 9, 'n_estimators': 50}"
          ],
          [
           "{'max_depth': 6, 'max_features': 'sqrt', 'min_samples_split': 9, 'n_estimators': 80}"
          ],
          [
           "{'max_depth': 6, 'max_features': 'sqrt', 'min_samples_split': 9, 'n_estimators': 110}"
          ],
          [
           "{'max_depth': 6, 'max_features': 'sqrt', 'min_samples_split': 9, 'n_estimators': 130}"
          ],
          [
           "{'max_depth': 6, 'max_features': 'sqrt', 'min_samples_split': 12, 'n_estimators': 50}"
          ],
          [
           "{'max_depth': 6, 'max_features': 'sqrt', 'min_samples_split': 12, 'n_estimators': 80}"
          ],
          [
           "{'max_depth': 6, 'max_features': 'sqrt', 'min_samples_split': 12, 'n_estimators': 110}"
          ],
          [
           "{'max_depth': 6, 'max_features': 'sqrt', 'min_samples_split': 12, 'n_estimators': 130}"
          ],
          [
           "{'max_depth': 6, 'max_features': 'log2', 'min_samples_split': 3, 'n_estimators': 50}"
          ],
          [
           "{'max_depth': 6, 'max_features': 'log2', 'min_samples_split': 3, 'n_estimators': 80}"
          ],
          [
           "{'max_depth': 6, 'max_features': 'log2', 'min_samples_split': 3, 'n_estimators': 110}"
          ],
          [
           "{'max_depth': 6, 'max_features': 'log2', 'min_samples_split': 3, 'n_estimators': 130}"
          ],
          [
           "{'max_depth': 6, 'max_features': 'log2', 'min_samples_split': 6, 'n_estimators': 50}"
          ],
          [
           "{'max_depth': 6, 'max_features': 'log2', 'min_samples_split': 6, 'n_estimators': 80}"
          ],
          [
           "{'max_depth': 6, 'max_features': 'log2', 'min_samples_split': 6, 'n_estimators': 110}"
          ],
          [
           "{'max_depth': 6, 'max_features': 'log2', 'min_samples_split': 6, 'n_estimators': 130}"
          ],
          [
           "{'max_depth': 6, 'max_features': 'log2', 'min_samples_split': 9, 'n_estimators': 50}"
          ],
          [
           "{'max_depth': 6, 'max_features': 'log2', 'min_samples_split': 9, 'n_estimators': 80}"
          ],
          [
           "{'max_depth': 6, 'max_features': 'log2', 'min_samples_split': 9, 'n_estimators': 110}"
          ],
          [
           "{'max_depth': 6, 'max_features': 'log2', 'min_samples_split': 9, 'n_estimators': 130}"
          ],
          [
           "{'max_depth': 6, 'max_features': 'log2', 'min_samples_split': 12, 'n_estimators': 50}"
          ],
          [
           "{'max_depth': 6, 'max_features': 'log2', 'min_samples_split': 12, 'n_estimators': 80}"
          ],
          [
           "{'max_depth': 6, 'max_features': 'log2', 'min_samples_split': 12, 'n_estimators': 110}"
          ],
          [
           "{'max_depth': 6, 'max_features': 'log2', 'min_samples_split': 12, 'n_estimators': 130}"
          ],
          [
           "{'max_depth': 9, 'max_features': 'sqrt', 'min_samples_split': 3, 'n_estimators': 50}"
          ],
          [
           "{'max_depth': 9, 'max_features': 'sqrt', 'min_samples_split': 3, 'n_estimators': 80}"
          ],
          [
           "{'max_depth': 9, 'max_features': 'sqrt', 'min_samples_split': 3, 'n_estimators': 110}"
          ],
          [
           "{'max_depth': 9, 'max_features': 'sqrt', 'min_samples_split': 3, 'n_estimators': 130}"
          ],
          [
           "{'max_depth': 9, 'max_features': 'sqrt', 'min_samples_split': 6, 'n_estimators': 50}"
          ],
          [
           "{'max_depth': 9, 'max_features': 'sqrt', 'min_samples_split': 6, 'n_estimators': 80}"
          ],
          [
           "{'max_depth': 9, 'max_features': 'sqrt', 'min_samples_split': 6, 'n_estimators': 110}"
          ],
          [
           "{'max_depth': 9, 'max_features': 'sqrt', 'min_samples_split': 6, 'n_estimators': 130}"
          ],
          [
           "{'max_depth': 9, 'max_features': 'sqrt', 'min_samples_split': 9, 'n_estimators': 50}"
          ],
          [
           "{'max_depth': 9, 'max_features': 'sqrt', 'min_samples_split': 9, 'n_estimators': 80}"
          ],
          [
           "{'max_depth': 9, 'max_features': 'sqrt', 'min_samples_split': 9, 'n_estimators': 110}"
          ],
          [
           "{'max_depth': 9, 'max_features': 'sqrt', 'min_samples_split': 9, 'n_estimators': 130}"
          ],
          [
           "{'max_depth': 9, 'max_features': 'sqrt', 'min_samples_split': 12, 'n_estimators': 50}"
          ],
          [
           "{'max_depth': 9, 'max_features': 'sqrt', 'min_samples_split': 12, 'n_estimators': 80}"
          ],
          [
           "{'max_depth': 9, 'max_features': 'sqrt', 'min_samples_split': 12, 'n_estimators': 110}"
          ],
          [
           "{'max_depth': 9, 'max_features': 'sqrt', 'min_samples_split': 12, 'n_estimators': 130}"
          ],
          [
           "{'max_depth': 9, 'max_features': 'log2', 'min_samples_split': 3, 'n_estimators': 50}"
          ],
          [
           "{'max_depth': 9, 'max_features': 'log2', 'min_samples_split': 3, 'n_estimators': 80}"
          ],
          [
           "{'max_depth': 9, 'max_features': 'log2', 'min_samples_split': 3, 'n_estimators': 110}"
          ],
          [
           "{'max_depth': 9, 'max_features': 'log2', 'min_samples_split': 3, 'n_estimators': 130}"
          ],
          [
           "{'max_depth': 9, 'max_features': 'log2', 'min_samples_split': 6, 'n_estimators': 50}"
          ],
          [
           "{'max_depth': 9, 'max_features': 'log2', 'min_samples_split': 6, 'n_estimators': 80}"
          ],
          [
           "{'max_depth': 9, 'max_features': 'log2', 'min_samples_split': 6, 'n_estimators': 110}"
          ],
          [
           "{'max_depth': 9, 'max_features': 'log2', 'min_samples_split': 6, 'n_estimators': 130}"
          ],
          [
           "{'max_depth': 9, 'max_features': 'log2', 'min_samples_split': 9, 'n_estimators': 50}"
          ],
          [
           "{'max_depth': 9, 'max_features': 'log2', 'min_samples_split': 9, 'n_estimators': 80}"
          ],
          [
           "{'max_depth': 9, 'max_features': 'log2', 'min_samples_split': 9, 'n_estimators': 110}"
          ],
          [
           "{'max_depth': 9, 'max_features': 'log2', 'min_samples_split': 9, 'n_estimators': 130}"
          ],
          [
           "{'max_depth': 9, 'max_features': 'log2', 'min_samples_split': 12, 'n_estimators': 50}"
          ],
          [
           "{'max_depth': 9, 'max_features': 'log2', 'min_samples_split': 12, 'n_estimators': 80}"
          ],
          [
           "{'max_depth': 9, 'max_features': 'log2', 'min_samples_split': 12, 'n_estimators': 110}"
          ],
          [
           "{'max_depth': 9, 'max_features': 'log2', 'min_samples_split': 12, 'n_estimators': 130}"
          ]
         ],
         "error_y": {
          "array": [
           0.027395328738531455,
           0.022248757531912085,
           0.04399218199377163,
           0.03968911875252105,
           0.02528369747136419,
           0.022482132102696263,
           0.023619348550450857,
           0.035912663991454284,
           0.03375905146804612,
           0.0356388318591845,
           0.027865375036294576,
           0.024920672504714556,
           0.021108905644330545,
           0.03179003424031015,
           0.02898434582801013,
           0.03166319467487282,
           0.028521628536967727,
           0.030975007449835043,
           0.026418770573121562,
           0.02444543728474669,
           0.02029718183761322,
           0.03345762235967304,
           0.03160982001280607,
           0.032930703943643155,
           0.03454526975758291,
           0.04360283119753025,
           0.02701988177921536,
           0.03469371174641461,
           0.040301811203053484,
           0.033562375218442485,
           0.03239724155199882,
           0.025477485367610884,
           0.03797190493352145,
           0.03549103718467153,
           0.027646590948805956,
           0.023977860340008678,
           0.03921854748566,
           0.035455271764868124,
           0.038931365820279826,
           0.03917976960821308,
           0.025943816792298256,
           0.04130819868278673,
           0.034025470242039384,
           0.03510979633070482,
           0.02209500867991315,
           0.03490168331397039,
           0.03394885872726452,
           0.02283996513756132,
           0.03161481261202464,
           0.042421193196566905,
           0.04542204144033489,
           0.03155294729926776,
           0.03348753696802539,
           0.03814866035450737,
           0.034156164553981176,
           0.03052680657047106,
           0.03865697709133399,
           0.04517158902095246,
           0.051197579852129665,
           0.044398235562991155,
           0.033112016566695324,
           0.05406616185675961,
           0.035887444733672696,
           0.042163481485749284,
           0.04483061807880201,
           0.04081256066348194,
           0.05077157154566154,
           0.05049794901698089,
           0.03172099026677161,
           0.04588528476884769,
           0.04919534079816886,
           0.03745283856358378,
           0.04495984493595557,
           0.0384054482488992,
           0.04769748934987242,
           0.04403866029862437,
           0.034000912058266566,
           0.04400204795093289,
           0.02836622169590152,
           0.047408486977160456,
           0.03566834071414543,
           0.037853552274457754,
           0.04653140359166623,
           0.04434181843733314,
           0.05220288163969579,
           0.04112660213899848,
           0.044655822874775826,
           0.0431470425364552,
           0.043837393052390185,
           0.04110215202066023,
           0.03864993097201474,
           0.03983387053512367,
           0.034705427985595755,
           0.041990122768646596,
           0.04573272135728858,
           0.03729546404978037
          ]
         },
         "hovertemplate": "<b>%{hovertext}</b><br><br>type=test<br>Params=%{x}<br>Average f1=%{y}<br>params=%{customdata[0]}<extra></extra>",
         "hovertext": [
          "{'max_depth': 3, 'max_features': 'sqrt', 'min_samples_split': 3, 'n_estimators': 50}",
          "{'max_depth': 3, 'max_features': 'sqrt', 'min_samples_split': 3, 'n_estimators': 80}",
          "{'max_depth': 3, 'max_features': 'sqrt', 'min_samples_split': 3, 'n_estimators': 110}",
          "{'max_depth': 3, 'max_features': 'sqrt', 'min_samples_split': 3, 'n_estimators': 130}",
          "{'max_depth': 3, 'max_features': 'sqrt', 'min_samples_split': 6, 'n_estimators': 50}",
          "{'max_depth': 3, 'max_features': 'sqrt', 'min_samples_split': 6, 'n_estimators': 80}",
          "{'max_depth': 3, 'max_features': 'sqrt', 'min_samples_split': 6, 'n_estimators': 110}",
          "{'max_depth': 3, 'max_features': 'sqrt', 'min_samples_split': 6, 'n_estimators': 130}",
          "{'max_depth': 3, 'max_features': 'sqrt', 'min_samples_split': 9, 'n_estimators': 50}",
          "{'max_depth': 3, 'max_features': 'sqrt', 'min_samples_split': 9, 'n_estimators': 80}",
          "{'max_depth': 3, 'max_features': 'sqrt', 'min_samples_split': 9, 'n_estimators': 110}",
          "{'max_depth': 3, 'max_features': 'sqrt', 'min_samples_split': 9, 'n_estimators': 130}",
          "{'max_depth': 3, 'max_features': 'sqrt', 'min_samples_split': 12, 'n_estimators': 50}",
          "{'max_depth': 3, 'max_features': 'sqrt', 'min_samples_split': 12, 'n_estimators': 80}",
          "{'max_depth': 3, 'max_features': 'sqrt', 'min_samples_split': 12, 'n_estimators': 110}",
          "{'max_depth': 3, 'max_features': 'sqrt', 'min_samples_split': 12, 'n_estimators': 130}",
          "{'max_depth': 3, 'max_features': 'log2', 'min_samples_split': 3, 'n_estimators': 50}",
          "{'max_depth': 3, 'max_features': 'log2', 'min_samples_split': 3, 'n_estimators': 80}",
          "{'max_depth': 3, 'max_features': 'log2', 'min_samples_split': 3, 'n_estimators': 110}",
          "{'max_depth': 3, 'max_features': 'log2', 'min_samples_split': 3, 'n_estimators': 130}",
          "{'max_depth': 3, 'max_features': 'log2', 'min_samples_split': 6, 'n_estimators': 50}",
          "{'max_depth': 3, 'max_features': 'log2', 'min_samples_split': 6, 'n_estimators': 80}",
          "{'max_depth': 3, 'max_features': 'log2', 'min_samples_split': 6, 'n_estimators': 110}",
          "{'max_depth': 3, 'max_features': 'log2', 'min_samples_split': 6, 'n_estimators': 130}",
          "{'max_depth': 3, 'max_features': 'log2', 'min_samples_split': 9, 'n_estimators': 50}",
          "{'max_depth': 3, 'max_features': 'log2', 'min_samples_split': 9, 'n_estimators': 80}",
          "{'max_depth': 3, 'max_features': 'log2', 'min_samples_split': 9, 'n_estimators': 110}",
          "{'max_depth': 3, 'max_features': 'log2', 'min_samples_split': 9, 'n_estimators': 130}",
          "{'max_depth': 3, 'max_features': 'log2', 'min_samples_split': 12, 'n_estimators': 50}",
          "{'max_depth': 3, 'max_features': 'log2', 'min_samples_split': 12, 'n_estimators': 80}",
          "{'max_depth': 3, 'max_features': 'log2', 'min_samples_split': 12, 'n_estimators': 110}",
          "{'max_depth': 3, 'max_features': 'log2', 'min_samples_split': 12, 'n_estimators': 130}",
          "{'max_depth': 6, 'max_features': 'sqrt', 'min_samples_split': 3, 'n_estimators': 50}",
          "{'max_depth': 6, 'max_features': 'sqrt', 'min_samples_split': 3, 'n_estimators': 80}",
          "{'max_depth': 6, 'max_features': 'sqrt', 'min_samples_split': 3, 'n_estimators': 110}",
          "{'max_depth': 6, 'max_features': 'sqrt', 'min_samples_split': 3, 'n_estimators': 130}",
          "{'max_depth': 6, 'max_features': 'sqrt', 'min_samples_split': 6, 'n_estimators': 50}",
          "{'max_depth': 6, 'max_features': 'sqrt', 'min_samples_split': 6, 'n_estimators': 80}",
          "{'max_depth': 6, 'max_features': 'sqrt', 'min_samples_split': 6, 'n_estimators': 110}",
          "{'max_depth': 6, 'max_features': 'sqrt', 'min_samples_split': 6, 'n_estimators': 130}",
          "{'max_depth': 6, 'max_features': 'sqrt', 'min_samples_split': 9, 'n_estimators': 50}",
          "{'max_depth': 6, 'max_features': 'sqrt', 'min_samples_split': 9, 'n_estimators': 80}",
          "{'max_depth': 6, 'max_features': 'sqrt', 'min_samples_split': 9, 'n_estimators': 110}",
          "{'max_depth': 6, 'max_features': 'sqrt', 'min_samples_split': 9, 'n_estimators': 130}",
          "{'max_depth': 6, 'max_features': 'sqrt', 'min_samples_split': 12, 'n_estimators': 50}",
          "{'max_depth': 6, 'max_features': 'sqrt', 'min_samples_split': 12, 'n_estimators': 80}",
          "{'max_depth': 6, 'max_features': 'sqrt', 'min_samples_split': 12, 'n_estimators': 110}",
          "{'max_depth': 6, 'max_features': 'sqrt', 'min_samples_split': 12, 'n_estimators': 130}",
          "{'max_depth': 6, 'max_features': 'log2', 'min_samples_split': 3, 'n_estimators': 50}",
          "{'max_depth': 6, 'max_features': 'log2', 'min_samples_split': 3, 'n_estimators': 80}",
          "{'max_depth': 6, 'max_features': 'log2', 'min_samples_split': 3, 'n_estimators': 110}",
          "{'max_depth': 6, 'max_features': 'log2', 'min_samples_split': 3, 'n_estimators': 130}",
          "{'max_depth': 6, 'max_features': 'log2', 'min_samples_split': 6, 'n_estimators': 50}",
          "{'max_depth': 6, 'max_features': 'log2', 'min_samples_split': 6, 'n_estimators': 80}",
          "{'max_depth': 6, 'max_features': 'log2', 'min_samples_split': 6, 'n_estimators': 110}",
          "{'max_depth': 6, 'max_features': 'log2', 'min_samples_split': 6, 'n_estimators': 130}",
          "{'max_depth': 6, 'max_features': 'log2', 'min_samples_split': 9, 'n_estimators': 50}",
          "{'max_depth': 6, 'max_features': 'log2', 'min_samples_split': 9, 'n_estimators': 80}",
          "{'max_depth': 6, 'max_features': 'log2', 'min_samples_split': 9, 'n_estimators': 110}",
          "{'max_depth': 6, 'max_features': 'log2', 'min_samples_split': 9, 'n_estimators': 130}",
          "{'max_depth': 6, 'max_features': 'log2', 'min_samples_split': 12, 'n_estimators': 50}",
          "{'max_depth': 6, 'max_features': 'log2', 'min_samples_split': 12, 'n_estimators': 80}",
          "{'max_depth': 6, 'max_features': 'log2', 'min_samples_split': 12, 'n_estimators': 110}",
          "{'max_depth': 6, 'max_features': 'log2', 'min_samples_split': 12, 'n_estimators': 130}",
          "{'max_depth': 9, 'max_features': 'sqrt', 'min_samples_split': 3, 'n_estimators': 50}",
          "{'max_depth': 9, 'max_features': 'sqrt', 'min_samples_split': 3, 'n_estimators': 80}",
          "{'max_depth': 9, 'max_features': 'sqrt', 'min_samples_split': 3, 'n_estimators': 110}",
          "{'max_depth': 9, 'max_features': 'sqrt', 'min_samples_split': 3, 'n_estimators': 130}",
          "{'max_depth': 9, 'max_features': 'sqrt', 'min_samples_split': 6, 'n_estimators': 50}",
          "{'max_depth': 9, 'max_features': 'sqrt', 'min_samples_split': 6, 'n_estimators': 80}",
          "{'max_depth': 9, 'max_features': 'sqrt', 'min_samples_split': 6, 'n_estimators': 110}",
          "{'max_depth': 9, 'max_features': 'sqrt', 'min_samples_split': 6, 'n_estimators': 130}",
          "{'max_depth': 9, 'max_features': 'sqrt', 'min_samples_split': 9, 'n_estimators': 50}",
          "{'max_depth': 9, 'max_features': 'sqrt', 'min_samples_split': 9, 'n_estimators': 80}",
          "{'max_depth': 9, 'max_features': 'sqrt', 'min_samples_split': 9, 'n_estimators': 110}",
          "{'max_depth': 9, 'max_features': 'sqrt', 'min_samples_split': 9, 'n_estimators': 130}",
          "{'max_depth': 9, 'max_features': 'sqrt', 'min_samples_split': 12, 'n_estimators': 50}",
          "{'max_depth': 9, 'max_features': 'sqrt', 'min_samples_split': 12, 'n_estimators': 80}",
          "{'max_depth': 9, 'max_features': 'sqrt', 'min_samples_split': 12, 'n_estimators': 110}",
          "{'max_depth': 9, 'max_features': 'sqrt', 'min_samples_split': 12, 'n_estimators': 130}",
          "{'max_depth': 9, 'max_features': 'log2', 'min_samples_split': 3, 'n_estimators': 50}",
          "{'max_depth': 9, 'max_features': 'log2', 'min_samples_split': 3, 'n_estimators': 80}",
          "{'max_depth': 9, 'max_features': 'log2', 'min_samples_split': 3, 'n_estimators': 110}",
          "{'max_depth': 9, 'max_features': 'log2', 'min_samples_split': 3, 'n_estimators': 130}",
          "{'max_depth': 9, 'max_features': 'log2', 'min_samples_split': 6, 'n_estimators': 50}",
          "{'max_depth': 9, 'max_features': 'log2', 'min_samples_split': 6, 'n_estimators': 80}",
          "{'max_depth': 9, 'max_features': 'log2', 'min_samples_split': 6, 'n_estimators': 110}",
          "{'max_depth': 9, 'max_features': 'log2', 'min_samples_split': 6, 'n_estimators': 130}",
          "{'max_depth': 9, 'max_features': 'log2', 'min_samples_split': 9, 'n_estimators': 50}",
          "{'max_depth': 9, 'max_features': 'log2', 'min_samples_split': 9, 'n_estimators': 80}",
          "{'max_depth': 9, 'max_features': 'log2', 'min_samples_split': 9, 'n_estimators': 110}",
          "{'max_depth': 9, 'max_features': 'log2', 'min_samples_split': 9, 'n_estimators': 130}",
          "{'max_depth': 9, 'max_features': 'log2', 'min_samples_split': 12, 'n_estimators': 50}",
          "{'max_depth': 9, 'max_features': 'log2', 'min_samples_split': 12, 'n_estimators': 80}",
          "{'max_depth': 9, 'max_features': 'log2', 'min_samples_split': 12, 'n_estimators': 110}",
          "{'max_depth': 9, 'max_features': 'log2', 'min_samples_split': 12, 'n_estimators': 130}"
         ],
         "legendgroup": "test",
         "marker": {
          "color": "#636efa",
          "pattern": {
           "shape": ""
          }
         },
         "name": "test",
         "offsetgroup": "test",
         "orientation": "v",
         "showlegend": true,
         "textposition": "auto",
         "type": "bar",
         "x": [
          0,
          1,
          2,
          3,
          4,
          5,
          6,
          7,
          8,
          9,
          10,
          11,
          12,
          13,
          14,
          15,
          16,
          17,
          18,
          19,
          20,
          21,
          22,
          23,
          24,
          25,
          26,
          27,
          28,
          29,
          30,
          31,
          32,
          33,
          34,
          35,
          36,
          37,
          38,
          39,
          40,
          41,
          42,
          43,
          44,
          45,
          46,
          47,
          48,
          49,
          50,
          51,
          52,
          53,
          54,
          55,
          56,
          57,
          58,
          59,
          60,
          61,
          62,
          63,
          64,
          65,
          66,
          67,
          68,
          69,
          70,
          71,
          72,
          73,
          74,
          75,
          76,
          77,
          78,
          79,
          80,
          81,
          82,
          83,
          84,
          85,
          86,
          87,
          88,
          89,
          90,
          91,
          92,
          93,
          94,
          95
         ],
         "xaxis": "x",
         "y": [
          0.1487138610383523,
          0.1316993454642657,
          0.14432246775867483,
          0.14710774122332967,
          0.15307028501063324,
          0.1290366831800662,
          0.14960588391219848,
          0.1480275433539014,
          0.14706857216344119,
          0.15258372404722909,
          0.137321565628564,
          0.1422523770779155,
          0.1292978604563671,
          0.14337870633873434,
          0.13814574829133944,
          0.144228844055736,
          0.14071145699746482,
          0.15038569011540331,
          0.14355299177035058,
          0.15158429425146513,
          0.14410379922465205,
          0.14915876937534164,
          0.14424149486706767,
          0.1455170991839963,
          0.14109650283075129,
          0.15793052342644706,
          0.13936127555116165,
          0.14417040226164293,
          0.14224296754387483,
          0.14134383364539083,
          0.15330203785200566,
          0.14903087801686032,
          0.28238604067667683,
          0.2857894027750891,
          0.2557720362354708,
          0.28142044692934587,
          0.273823473388422,
          0.2622187589422712,
          0.27216665249205435,
          0.27903128380262904,
          0.2704439249176335,
          0.2811610159949293,
          0.27916627335212585,
          0.2816354726239044,
          0.26976859142082865,
          0.2793790857562192,
          0.2717456066900775,
          0.27247020617624546,
          0.28099219659811564,
          0.27078898695832965,
          0.27696372559051124,
          0.27550745908332186,
          0.2735171139102685,
          0.2813459964342412,
          0.2736787705979906,
          0.2810870886858667,
          0.2843359466873424,
          0.2746336575799816,
          0.286189286285058,
          0.2735035256564659,
          0.26907200700039574,
          0.2793049937749078,
          0.2668926852420748,
          0.28072580312950235,
          0.3463707873693874,
          0.3298812811194224,
          0.3348297497334019,
          0.34400384579478577,
          0.3539857885054295,
          0.35739078009268965,
          0.3591097808052782,
          0.3539973462261443,
          0.3457976473907075,
          0.34986254497762725,
          0.3432481915860889,
          0.3414575725863545,
          0.3536922950968119,
          0.3431399289554058,
          0.35132991294581695,
          0.34406367424533946,
          0.3392980968003251,
          0.3397903632059534,
          0.34088869391918925,
          0.33896103067504074,
          0.343885383614887,
          0.351962772051981,
          0.3344586173502935,
          0.347956926217217,
          0.3416437907114981,
          0.3509865685166515,
          0.3448588528151733,
          0.3582680349433684,
          0.34125704310242566,
          0.35928232352722345,
          0.36149018648549947,
          0.35203294386437733
         ],
         "yaxis": "y"
        },
        {
         "alignmentgroup": "True",
         "customdata": [
          [
           "{'max_depth': 3, 'max_features': 'sqrt', 'min_samples_split': 3, 'n_estimators': 50}"
          ],
          [
           "{'max_depth': 3, 'max_features': 'sqrt', 'min_samples_split': 3, 'n_estimators': 80}"
          ],
          [
           "{'max_depth': 3, 'max_features': 'sqrt', 'min_samples_split': 3, 'n_estimators': 110}"
          ],
          [
           "{'max_depth': 3, 'max_features': 'sqrt', 'min_samples_split': 3, 'n_estimators': 130}"
          ],
          [
           "{'max_depth': 3, 'max_features': 'sqrt', 'min_samples_split': 6, 'n_estimators': 50}"
          ],
          [
           "{'max_depth': 3, 'max_features': 'sqrt', 'min_samples_split': 6, 'n_estimators': 80}"
          ],
          [
           "{'max_depth': 3, 'max_features': 'sqrt', 'min_samples_split': 6, 'n_estimators': 110}"
          ],
          [
           "{'max_depth': 3, 'max_features': 'sqrt', 'min_samples_split': 6, 'n_estimators': 130}"
          ],
          [
           "{'max_depth': 3, 'max_features': 'sqrt', 'min_samples_split': 9, 'n_estimators': 50}"
          ],
          [
           "{'max_depth': 3, 'max_features': 'sqrt', 'min_samples_split': 9, 'n_estimators': 80}"
          ],
          [
           "{'max_depth': 3, 'max_features': 'sqrt', 'min_samples_split': 9, 'n_estimators': 110}"
          ],
          [
           "{'max_depth': 3, 'max_features': 'sqrt', 'min_samples_split': 9, 'n_estimators': 130}"
          ],
          [
           "{'max_depth': 3, 'max_features': 'sqrt', 'min_samples_split': 12, 'n_estimators': 50}"
          ],
          [
           "{'max_depth': 3, 'max_features': 'sqrt', 'min_samples_split': 12, 'n_estimators': 80}"
          ],
          [
           "{'max_depth': 3, 'max_features': 'sqrt', 'min_samples_split': 12, 'n_estimators': 110}"
          ],
          [
           "{'max_depth': 3, 'max_features': 'sqrt', 'min_samples_split': 12, 'n_estimators': 130}"
          ],
          [
           "{'max_depth': 3, 'max_features': 'log2', 'min_samples_split': 3, 'n_estimators': 50}"
          ],
          [
           "{'max_depth': 3, 'max_features': 'log2', 'min_samples_split': 3, 'n_estimators': 80}"
          ],
          [
           "{'max_depth': 3, 'max_features': 'log2', 'min_samples_split': 3, 'n_estimators': 110}"
          ],
          [
           "{'max_depth': 3, 'max_features': 'log2', 'min_samples_split': 3, 'n_estimators': 130}"
          ],
          [
           "{'max_depth': 3, 'max_features': 'log2', 'min_samples_split': 6, 'n_estimators': 50}"
          ],
          [
           "{'max_depth': 3, 'max_features': 'log2', 'min_samples_split': 6, 'n_estimators': 80}"
          ],
          [
           "{'max_depth': 3, 'max_features': 'log2', 'min_samples_split': 6, 'n_estimators': 110}"
          ],
          [
           "{'max_depth': 3, 'max_features': 'log2', 'min_samples_split': 6, 'n_estimators': 130}"
          ],
          [
           "{'max_depth': 3, 'max_features': 'log2', 'min_samples_split': 9, 'n_estimators': 50}"
          ],
          [
           "{'max_depth': 3, 'max_features': 'log2', 'min_samples_split': 9, 'n_estimators': 80}"
          ],
          [
           "{'max_depth': 3, 'max_features': 'log2', 'min_samples_split': 9, 'n_estimators': 110}"
          ],
          [
           "{'max_depth': 3, 'max_features': 'log2', 'min_samples_split': 9, 'n_estimators': 130}"
          ],
          [
           "{'max_depth': 3, 'max_features': 'log2', 'min_samples_split': 12, 'n_estimators': 50}"
          ],
          [
           "{'max_depth': 3, 'max_features': 'log2', 'min_samples_split': 12, 'n_estimators': 80}"
          ],
          [
           "{'max_depth': 3, 'max_features': 'log2', 'min_samples_split': 12, 'n_estimators': 110}"
          ],
          [
           "{'max_depth': 3, 'max_features': 'log2', 'min_samples_split': 12, 'n_estimators': 130}"
          ],
          [
           "{'max_depth': 6, 'max_features': 'sqrt', 'min_samples_split': 3, 'n_estimators': 50}"
          ],
          [
           "{'max_depth': 6, 'max_features': 'sqrt', 'min_samples_split': 3, 'n_estimators': 80}"
          ],
          [
           "{'max_depth': 6, 'max_features': 'sqrt', 'min_samples_split': 3, 'n_estimators': 110}"
          ],
          [
           "{'max_depth': 6, 'max_features': 'sqrt', 'min_samples_split': 3, 'n_estimators': 130}"
          ],
          [
           "{'max_depth': 6, 'max_features': 'sqrt', 'min_samples_split': 6, 'n_estimators': 50}"
          ],
          [
           "{'max_depth': 6, 'max_features': 'sqrt', 'min_samples_split': 6, 'n_estimators': 80}"
          ],
          [
           "{'max_depth': 6, 'max_features': 'sqrt', 'min_samples_split': 6, 'n_estimators': 110}"
          ],
          [
           "{'max_depth': 6, 'max_features': 'sqrt', 'min_samples_split': 6, 'n_estimators': 130}"
          ],
          [
           "{'max_depth': 6, 'max_features': 'sqrt', 'min_samples_split': 9, 'n_estimators': 50}"
          ],
          [
           "{'max_depth': 6, 'max_features': 'sqrt', 'min_samples_split': 9, 'n_estimators': 80}"
          ],
          [
           "{'max_depth': 6, 'max_features': 'sqrt', 'min_samples_split': 9, 'n_estimators': 110}"
          ],
          [
           "{'max_depth': 6, 'max_features': 'sqrt', 'min_samples_split': 9, 'n_estimators': 130}"
          ],
          [
           "{'max_depth': 6, 'max_features': 'sqrt', 'min_samples_split': 12, 'n_estimators': 50}"
          ],
          [
           "{'max_depth': 6, 'max_features': 'sqrt', 'min_samples_split': 12, 'n_estimators': 80}"
          ],
          [
           "{'max_depth': 6, 'max_features': 'sqrt', 'min_samples_split': 12, 'n_estimators': 110}"
          ],
          [
           "{'max_depth': 6, 'max_features': 'sqrt', 'min_samples_split': 12, 'n_estimators': 130}"
          ],
          [
           "{'max_depth': 6, 'max_features': 'log2', 'min_samples_split': 3, 'n_estimators': 50}"
          ],
          [
           "{'max_depth': 6, 'max_features': 'log2', 'min_samples_split': 3, 'n_estimators': 80}"
          ],
          [
           "{'max_depth': 6, 'max_features': 'log2', 'min_samples_split': 3, 'n_estimators': 110}"
          ],
          [
           "{'max_depth': 6, 'max_features': 'log2', 'min_samples_split': 3, 'n_estimators': 130}"
          ],
          [
           "{'max_depth': 6, 'max_features': 'log2', 'min_samples_split': 6, 'n_estimators': 50}"
          ],
          [
           "{'max_depth': 6, 'max_features': 'log2', 'min_samples_split': 6, 'n_estimators': 80}"
          ],
          [
           "{'max_depth': 6, 'max_features': 'log2', 'min_samples_split': 6, 'n_estimators': 110}"
          ],
          [
           "{'max_depth': 6, 'max_features': 'log2', 'min_samples_split': 6, 'n_estimators': 130}"
          ],
          [
           "{'max_depth': 6, 'max_features': 'log2', 'min_samples_split': 9, 'n_estimators': 50}"
          ],
          [
           "{'max_depth': 6, 'max_features': 'log2', 'min_samples_split': 9, 'n_estimators': 80}"
          ],
          [
           "{'max_depth': 6, 'max_features': 'log2', 'min_samples_split': 9, 'n_estimators': 110}"
          ],
          [
           "{'max_depth': 6, 'max_features': 'log2', 'min_samples_split': 9, 'n_estimators': 130}"
          ],
          [
           "{'max_depth': 6, 'max_features': 'log2', 'min_samples_split': 12, 'n_estimators': 50}"
          ],
          [
           "{'max_depth': 6, 'max_features': 'log2', 'min_samples_split': 12, 'n_estimators': 80}"
          ],
          [
           "{'max_depth': 6, 'max_features': 'log2', 'min_samples_split': 12, 'n_estimators': 110}"
          ],
          [
           "{'max_depth': 6, 'max_features': 'log2', 'min_samples_split': 12, 'n_estimators': 130}"
          ],
          [
           "{'max_depth': 9, 'max_features': 'sqrt', 'min_samples_split': 3, 'n_estimators': 50}"
          ],
          [
           "{'max_depth': 9, 'max_features': 'sqrt', 'min_samples_split': 3, 'n_estimators': 80}"
          ],
          [
           "{'max_depth': 9, 'max_features': 'sqrt', 'min_samples_split': 3, 'n_estimators': 110}"
          ],
          [
           "{'max_depth': 9, 'max_features': 'sqrt', 'min_samples_split': 3, 'n_estimators': 130}"
          ],
          [
           "{'max_depth': 9, 'max_features': 'sqrt', 'min_samples_split': 6, 'n_estimators': 50}"
          ],
          [
           "{'max_depth': 9, 'max_features': 'sqrt', 'min_samples_split': 6, 'n_estimators': 80}"
          ],
          [
           "{'max_depth': 9, 'max_features': 'sqrt', 'min_samples_split': 6, 'n_estimators': 110}"
          ],
          [
           "{'max_depth': 9, 'max_features': 'sqrt', 'min_samples_split': 6, 'n_estimators': 130}"
          ],
          [
           "{'max_depth': 9, 'max_features': 'sqrt', 'min_samples_split': 9, 'n_estimators': 50}"
          ],
          [
           "{'max_depth': 9, 'max_features': 'sqrt', 'min_samples_split': 9, 'n_estimators': 80}"
          ],
          [
           "{'max_depth': 9, 'max_features': 'sqrt', 'min_samples_split': 9, 'n_estimators': 110}"
          ],
          [
           "{'max_depth': 9, 'max_features': 'sqrt', 'min_samples_split': 9, 'n_estimators': 130}"
          ],
          [
           "{'max_depth': 9, 'max_features': 'sqrt', 'min_samples_split': 12, 'n_estimators': 50}"
          ],
          [
           "{'max_depth': 9, 'max_features': 'sqrt', 'min_samples_split': 12, 'n_estimators': 80}"
          ],
          [
           "{'max_depth': 9, 'max_features': 'sqrt', 'min_samples_split': 12, 'n_estimators': 110}"
          ],
          [
           "{'max_depth': 9, 'max_features': 'sqrt', 'min_samples_split': 12, 'n_estimators': 130}"
          ],
          [
           "{'max_depth': 9, 'max_features': 'log2', 'min_samples_split': 3, 'n_estimators': 50}"
          ],
          [
           "{'max_depth': 9, 'max_features': 'log2', 'min_samples_split': 3, 'n_estimators': 80}"
          ],
          [
           "{'max_depth': 9, 'max_features': 'log2', 'min_samples_split': 3, 'n_estimators': 110}"
          ],
          [
           "{'max_depth': 9, 'max_features': 'log2', 'min_samples_split': 3, 'n_estimators': 130}"
          ],
          [
           "{'max_depth': 9, 'max_features': 'log2', 'min_samples_split': 6, 'n_estimators': 50}"
          ],
          [
           "{'max_depth': 9, 'max_features': 'log2', 'min_samples_split': 6, 'n_estimators': 80}"
          ],
          [
           "{'max_depth': 9, 'max_features': 'log2', 'min_samples_split': 6, 'n_estimators': 110}"
          ],
          [
           "{'max_depth': 9, 'max_features': 'log2', 'min_samples_split': 6, 'n_estimators': 130}"
          ],
          [
           "{'max_depth': 9, 'max_features': 'log2', 'min_samples_split': 9, 'n_estimators': 50}"
          ],
          [
           "{'max_depth': 9, 'max_features': 'log2', 'min_samples_split': 9, 'n_estimators': 80}"
          ],
          [
           "{'max_depth': 9, 'max_features': 'log2', 'min_samples_split': 9, 'n_estimators': 110}"
          ],
          [
           "{'max_depth': 9, 'max_features': 'log2', 'min_samples_split': 9, 'n_estimators': 130}"
          ],
          [
           "{'max_depth': 9, 'max_features': 'log2', 'min_samples_split': 12, 'n_estimators': 50}"
          ],
          [
           "{'max_depth': 9, 'max_features': 'log2', 'min_samples_split': 12, 'n_estimators': 80}"
          ],
          [
           "{'max_depth': 9, 'max_features': 'log2', 'min_samples_split': 12, 'n_estimators': 110}"
          ],
          [
           "{'max_depth': 9, 'max_features': 'log2', 'min_samples_split': 12, 'n_estimators': 130}"
          ]
         ],
         "error_y": {
          "array": [
           0.04211336035475039,
           0.04053601883903353,
           0.04727324541933059,
           0.04555668456628,
           0.04319141942822391,
           0.04439107136311637,
           0.038242822148951576,
           0.046624029615143274,
           0.03664809375462161,
           0.049543378411260296,
           0.03848359990473626,
           0.04370619585282446,
           0.0515570107986386,
           0.04945963941484086,
           0.046836829727801996,
           0.047178948385815676,
           0.043545162042604,
           0.04322278843477715,
           0.04278674346266677,
           0.050409679038354346,
           0.042143988116514014,
           0.0430289715508406,
           0.04480282803175604,
           0.044070377592002434,
           0.047514969989371526,
           0.04638664418063553,
           0.045206825719235524,
           0.0488064120445197,
           0.0513950124774133,
           0.04845166407261471,
           0.0433610169180491,
           0.0465246983545541,
           0.02508613169335048,
           0.030709119943134067,
           0.037580660838463904,
           0.021574056378770905,
           0.03489303678556576,
           0.028470581380950395,
           0.026419245194599743,
           0.025208746877396163,
           0.02853060139750906,
           0.036472768894809826,
           0.02390030541578139,
           0.028116934326274535,
           0.025606469162779262,
           0.03441034290199178,
           0.0237037166967799,
           0.028740263593446284,
           0.024055137149252385,
           0.03458954104168574,
           0.035749622331147625,
           0.024923550702692917,
           0.04415673331274664,
           0.02251820954714589,
           0.025351799409951133,
           0.02006788264156234,
           0.037485998557652576,
           0.032169142031034,
           0.029957760902018602,
           0.02678559977772879,
           0.03688091806511959,
           0.03161826156101406,
           0.0283341278667524,
           0.03516634453127321,
           0.01460917815174277,
           0.024548265328974524,
           0.0178294526111699,
           0.02038441567513467,
           0.016225989991300566,
           0.023797804279530432,
           0.015544046982665103,
           0.015063141633481261,
           0.017662585084229857,
           0.01652949371327383,
           0.007670478786551017,
           0.02568592605322638,
           0.011290636904520446,
           0.019053852037599576,
           0.019466177119720766,
           0.019309517704806663,
           0.02655055429768315,
           0.01575454969620622,
           0.021543335538214442,
           0.025448747265552227,
           0.01457248923148431,
           0.011598766778773239,
           0.02145183425346683,
           0.019062763060575805,
           0.011896010928780159,
           0.02183732893058548,
           0.01808204252794625,
           0.0185507942614967,
           0.0116219670247769,
           0.01849126163725855,
           0.016898487403637807,
           0.017730019326954106
          ]
         },
         "hovertemplate": "<b>%{hovertext}</b><br><br>type=train<br>Params=%{x}<br>Average f1=%{y}<br>params=%{customdata[0]}<extra></extra>",
         "hovertext": [
          "{'max_depth': 3, 'max_features': 'sqrt', 'min_samples_split': 3, 'n_estimators': 50}",
          "{'max_depth': 3, 'max_features': 'sqrt', 'min_samples_split': 3, 'n_estimators': 80}",
          "{'max_depth': 3, 'max_features': 'sqrt', 'min_samples_split': 3, 'n_estimators': 110}",
          "{'max_depth': 3, 'max_features': 'sqrt', 'min_samples_split': 3, 'n_estimators': 130}",
          "{'max_depth': 3, 'max_features': 'sqrt', 'min_samples_split': 6, 'n_estimators': 50}",
          "{'max_depth': 3, 'max_features': 'sqrt', 'min_samples_split': 6, 'n_estimators': 80}",
          "{'max_depth': 3, 'max_features': 'sqrt', 'min_samples_split': 6, 'n_estimators': 110}",
          "{'max_depth': 3, 'max_features': 'sqrt', 'min_samples_split': 6, 'n_estimators': 130}",
          "{'max_depth': 3, 'max_features': 'sqrt', 'min_samples_split': 9, 'n_estimators': 50}",
          "{'max_depth': 3, 'max_features': 'sqrt', 'min_samples_split': 9, 'n_estimators': 80}",
          "{'max_depth': 3, 'max_features': 'sqrt', 'min_samples_split': 9, 'n_estimators': 110}",
          "{'max_depth': 3, 'max_features': 'sqrt', 'min_samples_split': 9, 'n_estimators': 130}",
          "{'max_depth': 3, 'max_features': 'sqrt', 'min_samples_split': 12, 'n_estimators': 50}",
          "{'max_depth': 3, 'max_features': 'sqrt', 'min_samples_split': 12, 'n_estimators': 80}",
          "{'max_depth': 3, 'max_features': 'sqrt', 'min_samples_split': 12, 'n_estimators': 110}",
          "{'max_depth': 3, 'max_features': 'sqrt', 'min_samples_split': 12, 'n_estimators': 130}",
          "{'max_depth': 3, 'max_features': 'log2', 'min_samples_split': 3, 'n_estimators': 50}",
          "{'max_depth': 3, 'max_features': 'log2', 'min_samples_split': 3, 'n_estimators': 80}",
          "{'max_depth': 3, 'max_features': 'log2', 'min_samples_split': 3, 'n_estimators': 110}",
          "{'max_depth': 3, 'max_features': 'log2', 'min_samples_split': 3, 'n_estimators': 130}",
          "{'max_depth': 3, 'max_features': 'log2', 'min_samples_split': 6, 'n_estimators': 50}",
          "{'max_depth': 3, 'max_features': 'log2', 'min_samples_split': 6, 'n_estimators': 80}",
          "{'max_depth': 3, 'max_features': 'log2', 'min_samples_split': 6, 'n_estimators': 110}",
          "{'max_depth': 3, 'max_features': 'log2', 'min_samples_split': 6, 'n_estimators': 130}",
          "{'max_depth': 3, 'max_features': 'log2', 'min_samples_split': 9, 'n_estimators': 50}",
          "{'max_depth': 3, 'max_features': 'log2', 'min_samples_split': 9, 'n_estimators': 80}",
          "{'max_depth': 3, 'max_features': 'log2', 'min_samples_split': 9, 'n_estimators': 110}",
          "{'max_depth': 3, 'max_features': 'log2', 'min_samples_split': 9, 'n_estimators': 130}",
          "{'max_depth': 3, 'max_features': 'log2', 'min_samples_split': 12, 'n_estimators': 50}",
          "{'max_depth': 3, 'max_features': 'log2', 'min_samples_split': 12, 'n_estimators': 80}",
          "{'max_depth': 3, 'max_features': 'log2', 'min_samples_split': 12, 'n_estimators': 110}",
          "{'max_depth': 3, 'max_features': 'log2', 'min_samples_split': 12, 'n_estimators': 130}",
          "{'max_depth': 6, 'max_features': 'sqrt', 'min_samples_split': 3, 'n_estimators': 50}",
          "{'max_depth': 6, 'max_features': 'sqrt', 'min_samples_split': 3, 'n_estimators': 80}",
          "{'max_depth': 6, 'max_features': 'sqrt', 'min_samples_split': 3, 'n_estimators': 110}",
          "{'max_depth': 6, 'max_features': 'sqrt', 'min_samples_split': 3, 'n_estimators': 130}",
          "{'max_depth': 6, 'max_features': 'sqrt', 'min_samples_split': 6, 'n_estimators': 50}",
          "{'max_depth': 6, 'max_features': 'sqrt', 'min_samples_split': 6, 'n_estimators': 80}",
          "{'max_depth': 6, 'max_features': 'sqrt', 'min_samples_split': 6, 'n_estimators': 110}",
          "{'max_depth': 6, 'max_features': 'sqrt', 'min_samples_split': 6, 'n_estimators': 130}",
          "{'max_depth': 6, 'max_features': 'sqrt', 'min_samples_split': 9, 'n_estimators': 50}",
          "{'max_depth': 6, 'max_features': 'sqrt', 'min_samples_split': 9, 'n_estimators': 80}",
          "{'max_depth': 6, 'max_features': 'sqrt', 'min_samples_split': 9, 'n_estimators': 110}",
          "{'max_depth': 6, 'max_features': 'sqrt', 'min_samples_split': 9, 'n_estimators': 130}",
          "{'max_depth': 6, 'max_features': 'sqrt', 'min_samples_split': 12, 'n_estimators': 50}",
          "{'max_depth': 6, 'max_features': 'sqrt', 'min_samples_split': 12, 'n_estimators': 80}",
          "{'max_depth': 6, 'max_features': 'sqrt', 'min_samples_split': 12, 'n_estimators': 110}",
          "{'max_depth': 6, 'max_features': 'sqrt', 'min_samples_split': 12, 'n_estimators': 130}",
          "{'max_depth': 6, 'max_features': 'log2', 'min_samples_split': 3, 'n_estimators': 50}",
          "{'max_depth': 6, 'max_features': 'log2', 'min_samples_split': 3, 'n_estimators': 80}",
          "{'max_depth': 6, 'max_features': 'log2', 'min_samples_split': 3, 'n_estimators': 110}",
          "{'max_depth': 6, 'max_features': 'log2', 'min_samples_split': 3, 'n_estimators': 130}",
          "{'max_depth': 6, 'max_features': 'log2', 'min_samples_split': 6, 'n_estimators': 50}",
          "{'max_depth': 6, 'max_features': 'log2', 'min_samples_split': 6, 'n_estimators': 80}",
          "{'max_depth': 6, 'max_features': 'log2', 'min_samples_split': 6, 'n_estimators': 110}",
          "{'max_depth': 6, 'max_features': 'log2', 'min_samples_split': 6, 'n_estimators': 130}",
          "{'max_depth': 6, 'max_features': 'log2', 'min_samples_split': 9, 'n_estimators': 50}",
          "{'max_depth': 6, 'max_features': 'log2', 'min_samples_split': 9, 'n_estimators': 80}",
          "{'max_depth': 6, 'max_features': 'log2', 'min_samples_split': 9, 'n_estimators': 110}",
          "{'max_depth': 6, 'max_features': 'log2', 'min_samples_split': 9, 'n_estimators': 130}",
          "{'max_depth': 6, 'max_features': 'log2', 'min_samples_split': 12, 'n_estimators': 50}",
          "{'max_depth': 6, 'max_features': 'log2', 'min_samples_split': 12, 'n_estimators': 80}",
          "{'max_depth': 6, 'max_features': 'log2', 'min_samples_split': 12, 'n_estimators': 110}",
          "{'max_depth': 6, 'max_features': 'log2', 'min_samples_split': 12, 'n_estimators': 130}",
          "{'max_depth': 9, 'max_features': 'sqrt', 'min_samples_split': 3, 'n_estimators': 50}",
          "{'max_depth': 9, 'max_features': 'sqrt', 'min_samples_split': 3, 'n_estimators': 80}",
          "{'max_depth': 9, 'max_features': 'sqrt', 'min_samples_split': 3, 'n_estimators': 110}",
          "{'max_depth': 9, 'max_features': 'sqrt', 'min_samples_split': 3, 'n_estimators': 130}",
          "{'max_depth': 9, 'max_features': 'sqrt', 'min_samples_split': 6, 'n_estimators': 50}",
          "{'max_depth': 9, 'max_features': 'sqrt', 'min_samples_split': 6, 'n_estimators': 80}",
          "{'max_depth': 9, 'max_features': 'sqrt', 'min_samples_split': 6, 'n_estimators': 110}",
          "{'max_depth': 9, 'max_features': 'sqrt', 'min_samples_split': 6, 'n_estimators': 130}",
          "{'max_depth': 9, 'max_features': 'sqrt', 'min_samples_split': 9, 'n_estimators': 50}",
          "{'max_depth': 9, 'max_features': 'sqrt', 'min_samples_split': 9, 'n_estimators': 80}",
          "{'max_depth': 9, 'max_features': 'sqrt', 'min_samples_split': 9, 'n_estimators': 110}",
          "{'max_depth': 9, 'max_features': 'sqrt', 'min_samples_split': 9, 'n_estimators': 130}",
          "{'max_depth': 9, 'max_features': 'sqrt', 'min_samples_split': 12, 'n_estimators': 50}",
          "{'max_depth': 9, 'max_features': 'sqrt', 'min_samples_split': 12, 'n_estimators': 80}",
          "{'max_depth': 9, 'max_features': 'sqrt', 'min_samples_split': 12, 'n_estimators': 110}",
          "{'max_depth': 9, 'max_features': 'sqrt', 'min_samples_split': 12, 'n_estimators': 130}",
          "{'max_depth': 9, 'max_features': 'log2', 'min_samples_split': 3, 'n_estimators': 50}",
          "{'max_depth': 9, 'max_features': 'log2', 'min_samples_split': 3, 'n_estimators': 80}",
          "{'max_depth': 9, 'max_features': 'log2', 'min_samples_split': 3, 'n_estimators': 110}",
          "{'max_depth': 9, 'max_features': 'log2', 'min_samples_split': 3, 'n_estimators': 130}",
          "{'max_depth': 9, 'max_features': 'log2', 'min_samples_split': 6, 'n_estimators': 50}",
          "{'max_depth': 9, 'max_features': 'log2', 'min_samples_split': 6, 'n_estimators': 80}",
          "{'max_depth': 9, 'max_features': 'log2', 'min_samples_split': 6, 'n_estimators': 110}",
          "{'max_depth': 9, 'max_features': 'log2', 'min_samples_split': 6, 'n_estimators': 130}",
          "{'max_depth': 9, 'max_features': 'log2', 'min_samples_split': 9, 'n_estimators': 50}",
          "{'max_depth': 9, 'max_features': 'log2', 'min_samples_split': 9, 'n_estimators': 80}",
          "{'max_depth': 9, 'max_features': 'log2', 'min_samples_split': 9, 'n_estimators': 110}",
          "{'max_depth': 9, 'max_features': 'log2', 'min_samples_split': 9, 'n_estimators': 130}",
          "{'max_depth': 9, 'max_features': 'log2', 'min_samples_split': 12, 'n_estimators': 50}",
          "{'max_depth': 9, 'max_features': 'log2', 'min_samples_split': 12, 'n_estimators': 80}",
          "{'max_depth': 9, 'max_features': 'log2', 'min_samples_split': 12, 'n_estimators': 110}",
          "{'max_depth': 9, 'max_features': 'log2', 'min_samples_split': 12, 'n_estimators': 130}"
         ],
         "legendgroup": "train",
         "marker": {
          "color": "#EF553B",
          "pattern": {
           "shape": ""
          }
         },
         "name": "train",
         "offsetgroup": "train",
         "orientation": "v",
         "showlegend": true,
         "textposition": "auto",
         "type": "bar",
         "x": [
          0,
          1,
          2,
          3,
          4,
          5,
          6,
          7,
          8,
          9,
          10,
          11,
          12,
          13,
          14,
          15,
          16,
          17,
          18,
          19,
          20,
          21,
          22,
          23,
          24,
          25,
          26,
          27,
          28,
          29,
          30,
          31,
          32,
          33,
          34,
          35,
          36,
          37,
          38,
          39,
          40,
          41,
          42,
          43,
          44,
          45,
          46,
          47,
          48,
          49,
          50,
          51,
          52,
          53,
          54,
          55,
          56,
          57,
          58,
          59,
          60,
          61,
          62,
          63,
          64,
          65,
          66,
          67,
          68,
          69,
          70,
          71,
          72,
          73,
          74,
          75,
          76,
          77,
          78,
          79,
          80,
          81,
          82,
          83,
          84,
          85,
          86,
          87,
          88,
          89,
          90,
          91,
          92,
          93,
          94,
          95
         ],
         "xaxis": "x",
         "y": [
          0.20675562538053227,
          0.19601796267927507,
          0.20578683886387186,
          0.2002750912523526,
          0.2104020764502267,
          0.19577474971666006,
          0.2026095326208103,
          0.20464112888028438,
          0.20518952626416764,
          0.2111903962664446,
          0.1974508970685211,
          0.19346219955160326,
          0.20060263918482737,
          0.2056119540576165,
          0.2037317588611359,
          0.2078864981710226,
          0.20831398016376204,
          0.20665267775158908,
          0.20217223416728233,
          0.20507766355454105,
          0.20413844688882862,
          0.20263568571976784,
          0.20155473745585217,
          0.20377069865364134,
          0.20206085093514123,
          0.21655622923746773,
          0.20389246257762741,
          0.20862796567670258,
          0.202288789702071,
          0.21499657575249218,
          0.19678342576589145,
          0.20428584078117112,
          0.44070819043683257,
          0.43449612373430835,
          0.426885257175194,
          0.43836779706218937,
          0.4284108435124002,
          0.42159780799573865,
          0.43480921041986476,
          0.4331506452975553,
          0.4320096583743199,
          0.4251916786721509,
          0.4366579777372278,
          0.4269897115707854,
          0.43319409667582126,
          0.42411659970825266,
          0.4199802096183582,
          0.42558798186322394,
          0.4425422347742739,
          0.43019374724587556,
          0.4303491800257954,
          0.4348370357788937,
          0.4290233467072399,
          0.4320456789055937,
          0.4376520618016538,
          0.44164365864389865,
          0.4350645247981796,
          0.42787939900798316,
          0.43050299228581485,
          0.4348751042454905,
          0.4264961949792597,
          0.43288921633693944,
          0.4247216498337682,
          0.425834862578203,
          0.6171360591946319,
          0.614504685343892,
          0.617721162493085,
          0.6119800473464633,
          0.6027615926569574,
          0.6098680180841172,
          0.6076055948307488,
          0.6015368759954818,
          0.5864222313189591,
          0.5939876094533209,
          0.5899325301819395,
          0.5864528429309217,
          0.5796976809932999,
          0.5719313764302187,
          0.5772510923306701,
          0.582117549354957,
          0.6080877022988069,
          0.6196554224643347,
          0.6135890489045907,
          0.6123745619734373,
          0.6006944498746354,
          0.6053330222659434,
          0.5937970968734303,
          0.6025725862567406,
          0.5974870346921338,
          0.5848645713083195,
          0.5891381037039001,
          0.5959225247605812,
          0.5852834240911284,
          0.5840797274191726,
          0.5823344620560961,
          0.5776779118766793
         ],
         "yaxis": "y"
        }
       ],
       "layout": {
        "barmode": "group",
        "legend": {
         "title": {
          "text": "type"
         },
         "tracegroupgap": 0
        },
        "template": {
         "data": {
          "bar": [
           {
            "error_x": {
             "color": "#2a3f5f"
            },
            "error_y": {
             "color": "#2a3f5f"
            },
            "marker": {
             "line": {
              "color": "#E5ECF6",
              "width": 0.5
             },
             "pattern": {
              "fillmode": "overlay",
              "size": 10,
              "solidity": 0.2
             }
            },
            "type": "bar"
           }
          ],
          "barpolar": [
           {
            "marker": {
             "line": {
              "color": "#E5ECF6",
              "width": 0.5
             },
             "pattern": {
              "fillmode": "overlay",
              "size": 10,
              "solidity": 0.2
             }
            },
            "type": "barpolar"
           }
          ],
          "carpet": [
           {
            "aaxis": {
             "endlinecolor": "#2a3f5f",
             "gridcolor": "white",
             "linecolor": "white",
             "minorgridcolor": "white",
             "startlinecolor": "#2a3f5f"
            },
            "baxis": {
             "endlinecolor": "#2a3f5f",
             "gridcolor": "white",
             "linecolor": "white",
             "minorgridcolor": "white",
             "startlinecolor": "#2a3f5f"
            },
            "type": "carpet"
           }
          ],
          "choropleth": [
           {
            "colorbar": {
             "outlinewidth": 0,
             "ticks": ""
            },
            "type": "choropleth"
           }
          ],
          "contour": [
           {
            "colorbar": {
             "outlinewidth": 0,
             "ticks": ""
            },
            "colorscale": [
             [
              0,
              "#0d0887"
             ],
             [
              0.1111111111111111,
              "#46039f"
             ],
             [
              0.2222222222222222,
              "#7201a8"
             ],
             [
              0.3333333333333333,
              "#9c179e"
             ],
             [
              0.4444444444444444,
              "#bd3786"
             ],
             [
              0.5555555555555556,
              "#d8576b"
             ],
             [
              0.6666666666666666,
              "#ed7953"
             ],
             [
              0.7777777777777778,
              "#fb9f3a"
             ],
             [
              0.8888888888888888,
              "#fdca26"
             ],
             [
              1,
              "#f0f921"
             ]
            ],
            "type": "contour"
           }
          ],
          "contourcarpet": [
           {
            "colorbar": {
             "outlinewidth": 0,
             "ticks": ""
            },
            "type": "contourcarpet"
           }
          ],
          "heatmap": [
           {
            "colorbar": {
             "outlinewidth": 0,
             "ticks": ""
            },
            "colorscale": [
             [
              0,
              "#0d0887"
             ],
             [
              0.1111111111111111,
              "#46039f"
             ],
             [
              0.2222222222222222,
              "#7201a8"
             ],
             [
              0.3333333333333333,
              "#9c179e"
             ],
             [
              0.4444444444444444,
              "#bd3786"
             ],
             [
              0.5555555555555556,
              "#d8576b"
             ],
             [
              0.6666666666666666,
              "#ed7953"
             ],
             [
              0.7777777777777778,
              "#fb9f3a"
             ],
             [
              0.8888888888888888,
              "#fdca26"
             ],
             [
              1,
              "#f0f921"
             ]
            ],
            "type": "heatmap"
           }
          ],
          "heatmapgl": [
           {
            "colorbar": {
             "outlinewidth": 0,
             "ticks": ""
            },
            "colorscale": [
             [
              0,
              "#0d0887"
             ],
             [
              0.1111111111111111,
              "#46039f"
             ],
             [
              0.2222222222222222,
              "#7201a8"
             ],
             [
              0.3333333333333333,
              "#9c179e"
             ],
             [
              0.4444444444444444,
              "#bd3786"
             ],
             [
              0.5555555555555556,
              "#d8576b"
             ],
             [
              0.6666666666666666,
              "#ed7953"
             ],
             [
              0.7777777777777778,
              "#fb9f3a"
             ],
             [
              0.8888888888888888,
              "#fdca26"
             ],
             [
              1,
              "#f0f921"
             ]
            ],
            "type": "heatmapgl"
           }
          ],
          "histogram": [
           {
            "marker": {
             "pattern": {
              "fillmode": "overlay",
              "size": 10,
              "solidity": 0.2
             }
            },
            "type": "histogram"
           }
          ],
          "histogram2d": [
           {
            "colorbar": {
             "outlinewidth": 0,
             "ticks": ""
            },
            "colorscale": [
             [
              0,
              "#0d0887"
             ],
             [
              0.1111111111111111,
              "#46039f"
             ],
             [
              0.2222222222222222,
              "#7201a8"
             ],
             [
              0.3333333333333333,
              "#9c179e"
             ],
             [
              0.4444444444444444,
              "#bd3786"
             ],
             [
              0.5555555555555556,
              "#d8576b"
             ],
             [
              0.6666666666666666,
              "#ed7953"
             ],
             [
              0.7777777777777778,
              "#fb9f3a"
             ],
             [
              0.8888888888888888,
              "#fdca26"
             ],
             [
              1,
              "#f0f921"
             ]
            ],
            "type": "histogram2d"
           }
          ],
          "histogram2dcontour": [
           {
            "colorbar": {
             "outlinewidth": 0,
             "ticks": ""
            },
            "colorscale": [
             [
              0,
              "#0d0887"
             ],
             [
              0.1111111111111111,
              "#46039f"
             ],
             [
              0.2222222222222222,
              "#7201a8"
             ],
             [
              0.3333333333333333,
              "#9c179e"
             ],
             [
              0.4444444444444444,
              "#bd3786"
             ],
             [
              0.5555555555555556,
              "#d8576b"
             ],
             [
              0.6666666666666666,
              "#ed7953"
             ],
             [
              0.7777777777777778,
              "#fb9f3a"
             ],
             [
              0.8888888888888888,
              "#fdca26"
             ],
             [
              1,
              "#f0f921"
             ]
            ],
            "type": "histogram2dcontour"
           }
          ],
          "mesh3d": [
           {
            "colorbar": {
             "outlinewidth": 0,
             "ticks": ""
            },
            "type": "mesh3d"
           }
          ],
          "parcoords": [
           {
            "line": {
             "colorbar": {
              "outlinewidth": 0,
              "ticks": ""
             }
            },
            "type": "parcoords"
           }
          ],
          "pie": [
           {
            "automargin": true,
            "type": "pie"
           }
          ],
          "scatter": [
           {
            "marker": {
             "colorbar": {
              "outlinewidth": 0,
              "ticks": ""
             }
            },
            "type": "scatter"
           }
          ],
          "scatter3d": [
           {
            "line": {
             "colorbar": {
              "outlinewidth": 0,
              "ticks": ""
             }
            },
            "marker": {
             "colorbar": {
              "outlinewidth": 0,
              "ticks": ""
             }
            },
            "type": "scatter3d"
           }
          ],
          "scattercarpet": [
           {
            "marker": {
             "colorbar": {
              "outlinewidth": 0,
              "ticks": ""
             }
            },
            "type": "scattercarpet"
           }
          ],
          "scattergeo": [
           {
            "marker": {
             "colorbar": {
              "outlinewidth": 0,
              "ticks": ""
             }
            },
            "type": "scattergeo"
           }
          ],
          "scattergl": [
           {
            "marker": {
             "colorbar": {
              "outlinewidth": 0,
              "ticks": ""
             }
            },
            "type": "scattergl"
           }
          ],
          "scattermapbox": [
           {
            "marker": {
             "colorbar": {
              "outlinewidth": 0,
              "ticks": ""
             }
            },
            "type": "scattermapbox"
           }
          ],
          "scatterpolar": [
           {
            "marker": {
             "colorbar": {
              "outlinewidth": 0,
              "ticks": ""
             }
            },
            "type": "scatterpolar"
           }
          ],
          "scatterpolargl": [
           {
            "marker": {
             "colorbar": {
              "outlinewidth": 0,
              "ticks": ""
             }
            },
            "type": "scatterpolargl"
           }
          ],
          "scatterternary": [
           {
            "marker": {
             "colorbar": {
              "outlinewidth": 0,
              "ticks": ""
             }
            },
            "type": "scatterternary"
           }
          ],
          "surface": [
           {
            "colorbar": {
             "outlinewidth": 0,
             "ticks": ""
            },
            "colorscale": [
             [
              0,
              "#0d0887"
             ],
             [
              0.1111111111111111,
              "#46039f"
             ],
             [
              0.2222222222222222,
              "#7201a8"
             ],
             [
              0.3333333333333333,
              "#9c179e"
             ],
             [
              0.4444444444444444,
              "#bd3786"
             ],
             [
              0.5555555555555556,
              "#d8576b"
             ],
             [
              0.6666666666666666,
              "#ed7953"
             ],
             [
              0.7777777777777778,
              "#fb9f3a"
             ],
             [
              0.8888888888888888,
              "#fdca26"
             ],
             [
              1,
              "#f0f921"
             ]
            ],
            "type": "surface"
           }
          ],
          "table": [
           {
            "cells": {
             "fill": {
              "color": "#EBF0F8"
             },
             "line": {
              "color": "white"
             }
            },
            "header": {
             "fill": {
              "color": "#C8D4E3"
             },
             "line": {
              "color": "white"
             }
            },
            "type": "table"
           }
          ]
         },
         "layout": {
          "annotationdefaults": {
           "arrowcolor": "#2a3f5f",
           "arrowhead": 0,
           "arrowwidth": 1
          },
          "autotypenumbers": "strict",
          "coloraxis": {
           "colorbar": {
            "outlinewidth": 0,
            "ticks": ""
           }
          },
          "colorscale": {
           "diverging": [
            [
             0,
             "#8e0152"
            ],
            [
             0.1,
             "#c51b7d"
            ],
            [
             0.2,
             "#de77ae"
            ],
            [
             0.3,
             "#f1b6da"
            ],
            [
             0.4,
             "#fde0ef"
            ],
            [
             0.5,
             "#f7f7f7"
            ],
            [
             0.6,
             "#e6f5d0"
            ],
            [
             0.7,
             "#b8e186"
            ],
            [
             0.8,
             "#7fbc41"
            ],
            [
             0.9,
             "#4d9221"
            ],
            [
             1,
             "#276419"
            ]
           ],
           "sequential": [
            [
             0,
             "#0d0887"
            ],
            [
             0.1111111111111111,
             "#46039f"
            ],
            [
             0.2222222222222222,
             "#7201a8"
            ],
            [
             0.3333333333333333,
             "#9c179e"
            ],
            [
             0.4444444444444444,
             "#bd3786"
            ],
            [
             0.5555555555555556,
             "#d8576b"
            ],
            [
             0.6666666666666666,
             "#ed7953"
            ],
            [
             0.7777777777777778,
             "#fb9f3a"
            ],
            [
             0.8888888888888888,
             "#fdca26"
            ],
            [
             1,
             "#f0f921"
            ]
           ],
           "sequentialminus": [
            [
             0,
             "#0d0887"
            ],
            [
             0.1111111111111111,
             "#46039f"
            ],
            [
             0.2222222222222222,
             "#7201a8"
            ],
            [
             0.3333333333333333,
             "#9c179e"
            ],
            [
             0.4444444444444444,
             "#bd3786"
            ],
            [
             0.5555555555555556,
             "#d8576b"
            ],
            [
             0.6666666666666666,
             "#ed7953"
            ],
            [
             0.7777777777777778,
             "#fb9f3a"
            ],
            [
             0.8888888888888888,
             "#fdca26"
            ],
            [
             1,
             "#f0f921"
            ]
           ]
          },
          "colorway": [
           "#636efa",
           "#EF553B",
           "#00cc96",
           "#ab63fa",
           "#FFA15A",
           "#19d3f3",
           "#FF6692",
           "#B6E880",
           "#FF97FF",
           "#FECB52"
          ],
          "font": {
           "color": "#2a3f5f"
          },
          "geo": {
           "bgcolor": "white",
           "lakecolor": "white",
           "landcolor": "#E5ECF6",
           "showlakes": true,
           "showland": true,
           "subunitcolor": "white"
          },
          "hoverlabel": {
           "align": "left"
          },
          "hovermode": "closest",
          "mapbox": {
           "style": "light"
          },
          "paper_bgcolor": "white",
          "plot_bgcolor": "#E5ECF6",
          "polar": {
           "angularaxis": {
            "gridcolor": "white",
            "linecolor": "white",
            "ticks": ""
           },
           "bgcolor": "#E5ECF6",
           "radialaxis": {
            "gridcolor": "white",
            "linecolor": "white",
            "ticks": ""
           }
          },
          "scene": {
           "xaxis": {
            "backgroundcolor": "#E5ECF6",
            "gridcolor": "white",
            "gridwidth": 2,
            "linecolor": "white",
            "showbackground": true,
            "ticks": "",
            "zerolinecolor": "white"
           },
           "yaxis": {
            "backgroundcolor": "#E5ECF6",
            "gridcolor": "white",
            "gridwidth": 2,
            "linecolor": "white",
            "showbackground": true,
            "ticks": "",
            "zerolinecolor": "white"
           },
           "zaxis": {
            "backgroundcolor": "#E5ECF6",
            "gridcolor": "white",
            "gridwidth": 2,
            "linecolor": "white",
            "showbackground": true,
            "ticks": "",
            "zerolinecolor": "white"
           }
          },
          "shapedefaults": {
           "line": {
            "color": "#2a3f5f"
           }
          },
          "ternary": {
           "aaxis": {
            "gridcolor": "white",
            "linecolor": "white",
            "ticks": ""
           },
           "baxis": {
            "gridcolor": "white",
            "linecolor": "white",
            "ticks": ""
           },
           "bgcolor": "#E5ECF6",
           "caxis": {
            "gridcolor": "white",
            "linecolor": "white",
            "ticks": ""
           }
          },
          "title": {
           "x": 0.05
          },
          "xaxis": {
           "automargin": true,
           "gridcolor": "white",
           "linecolor": "white",
           "ticks": "",
           "title": {
            "standoff": 15
           },
           "zerolinecolor": "white",
           "zerolinewidth": 2
          },
          "yaxis": {
           "automargin": true,
           "gridcolor": "white",
           "linecolor": "white",
           "ticks": "",
           "title": {
            "standoff": 15
           },
           "zerolinecolor": "white",
           "zerolinewidth": 2
          }
         }
        },
        "title": {
         "text": "Mean f1 score on testing and training set for each parameter combination <br> (Model: RandomForest Classifier, Dataset: Mean imputation subset selection for individuals with 2 or 3 MV)"
        },
        "xaxis": {
         "anchor": "y",
         "domain": [
          0,
          1
         ],
         "title": {
          "text": "Params"
         }
        },
        "yaxis": {
         "anchor": "x",
         "domain": [
          0,
          1
         ],
         "title": {
          "text": "Average f1"
         }
        }
       }
      }
     },
     "metadata": {},
     "output_type": "display_data"
    }
   ],
   "source": [
    "stats = computeModelStats(model, stats, mean_accurracy_2_3_missing_values_subset_selection, pgrid)"
   ]
  },
  {
   "cell_type": "code",
   "execution_count": 29,
   "metadata": {
    "collapsed": false,
    "pycharm": {
     "name": "#%%\n"
    }
   },
   "outputs": [
    {
     "name": "stdout",
     "output_type": "stream",
     "text": [
      "Fitting 5 folds for each of 96 candidates, totalling 480 fits\n"
     ]
    },
    {
     "data": {
      "application/vnd.plotly.v1+json": {
       "config": {
        "plotlyServerURL": "https://plot.ly"
       },
       "data": [
        {
         "alignmentgroup": "True",
         "customdata": [
          [
           "{'max_depth': 3, 'max_features': 'sqrt', 'min_samples_split': 3, 'n_estimators': 50}"
          ],
          [
           "{'max_depth': 3, 'max_features': 'sqrt', 'min_samples_split': 3, 'n_estimators': 80}"
          ],
          [
           "{'max_depth': 3, 'max_features': 'sqrt', 'min_samples_split': 3, 'n_estimators': 110}"
          ],
          [
           "{'max_depth': 3, 'max_features': 'sqrt', 'min_samples_split': 3, 'n_estimators': 130}"
          ],
          [
           "{'max_depth': 3, 'max_features': 'sqrt', 'min_samples_split': 6, 'n_estimators': 50}"
          ],
          [
           "{'max_depth': 3, 'max_features': 'sqrt', 'min_samples_split': 6, 'n_estimators': 80}"
          ],
          [
           "{'max_depth': 3, 'max_features': 'sqrt', 'min_samples_split': 6, 'n_estimators': 110}"
          ],
          [
           "{'max_depth': 3, 'max_features': 'sqrt', 'min_samples_split': 6, 'n_estimators': 130}"
          ],
          [
           "{'max_depth': 3, 'max_features': 'sqrt', 'min_samples_split': 9, 'n_estimators': 50}"
          ],
          [
           "{'max_depth': 3, 'max_features': 'sqrt', 'min_samples_split': 9, 'n_estimators': 80}"
          ],
          [
           "{'max_depth': 3, 'max_features': 'sqrt', 'min_samples_split': 9, 'n_estimators': 110}"
          ],
          [
           "{'max_depth': 3, 'max_features': 'sqrt', 'min_samples_split': 9, 'n_estimators': 130}"
          ],
          [
           "{'max_depth': 3, 'max_features': 'sqrt', 'min_samples_split': 12, 'n_estimators': 50}"
          ],
          [
           "{'max_depth': 3, 'max_features': 'sqrt', 'min_samples_split': 12, 'n_estimators': 80}"
          ],
          [
           "{'max_depth': 3, 'max_features': 'sqrt', 'min_samples_split': 12, 'n_estimators': 110}"
          ],
          [
           "{'max_depth': 3, 'max_features': 'sqrt', 'min_samples_split': 12, 'n_estimators': 130}"
          ],
          [
           "{'max_depth': 3, 'max_features': 'log2', 'min_samples_split': 3, 'n_estimators': 50}"
          ],
          [
           "{'max_depth': 3, 'max_features': 'log2', 'min_samples_split': 3, 'n_estimators': 80}"
          ],
          [
           "{'max_depth': 3, 'max_features': 'log2', 'min_samples_split': 3, 'n_estimators': 110}"
          ],
          [
           "{'max_depth': 3, 'max_features': 'log2', 'min_samples_split': 3, 'n_estimators': 130}"
          ],
          [
           "{'max_depth': 3, 'max_features': 'log2', 'min_samples_split': 6, 'n_estimators': 50}"
          ],
          [
           "{'max_depth': 3, 'max_features': 'log2', 'min_samples_split': 6, 'n_estimators': 80}"
          ],
          [
           "{'max_depth': 3, 'max_features': 'log2', 'min_samples_split': 6, 'n_estimators': 110}"
          ],
          [
           "{'max_depth': 3, 'max_features': 'log2', 'min_samples_split': 6, 'n_estimators': 130}"
          ],
          [
           "{'max_depth': 3, 'max_features': 'log2', 'min_samples_split': 9, 'n_estimators': 50}"
          ],
          [
           "{'max_depth': 3, 'max_features': 'log2', 'min_samples_split': 9, 'n_estimators': 80}"
          ],
          [
           "{'max_depth': 3, 'max_features': 'log2', 'min_samples_split': 9, 'n_estimators': 110}"
          ],
          [
           "{'max_depth': 3, 'max_features': 'log2', 'min_samples_split': 9, 'n_estimators': 130}"
          ],
          [
           "{'max_depth': 3, 'max_features': 'log2', 'min_samples_split': 12, 'n_estimators': 50}"
          ],
          [
           "{'max_depth': 3, 'max_features': 'log2', 'min_samples_split': 12, 'n_estimators': 80}"
          ],
          [
           "{'max_depth': 3, 'max_features': 'log2', 'min_samples_split': 12, 'n_estimators': 110}"
          ],
          [
           "{'max_depth': 3, 'max_features': 'log2', 'min_samples_split': 12, 'n_estimators': 130}"
          ],
          [
           "{'max_depth': 6, 'max_features': 'sqrt', 'min_samples_split': 3, 'n_estimators': 50}"
          ],
          [
           "{'max_depth': 6, 'max_features': 'sqrt', 'min_samples_split': 3, 'n_estimators': 80}"
          ],
          [
           "{'max_depth': 6, 'max_features': 'sqrt', 'min_samples_split': 3, 'n_estimators': 110}"
          ],
          [
           "{'max_depth': 6, 'max_features': 'sqrt', 'min_samples_split': 3, 'n_estimators': 130}"
          ],
          [
           "{'max_depth': 6, 'max_features': 'sqrt', 'min_samples_split': 6, 'n_estimators': 50}"
          ],
          [
           "{'max_depth': 6, 'max_features': 'sqrt', 'min_samples_split': 6, 'n_estimators': 80}"
          ],
          [
           "{'max_depth': 6, 'max_features': 'sqrt', 'min_samples_split': 6, 'n_estimators': 110}"
          ],
          [
           "{'max_depth': 6, 'max_features': 'sqrt', 'min_samples_split': 6, 'n_estimators': 130}"
          ],
          [
           "{'max_depth': 6, 'max_features': 'sqrt', 'min_samples_split': 9, 'n_estimators': 50}"
          ],
          [
           "{'max_depth': 6, 'max_features': 'sqrt', 'min_samples_split': 9, 'n_estimators': 80}"
          ],
          [
           "{'max_depth': 6, 'max_features': 'sqrt', 'min_samples_split': 9, 'n_estimators': 110}"
          ],
          [
           "{'max_depth': 6, 'max_features': 'sqrt', 'min_samples_split': 9, 'n_estimators': 130}"
          ],
          [
           "{'max_depth': 6, 'max_features': 'sqrt', 'min_samples_split': 12, 'n_estimators': 50}"
          ],
          [
           "{'max_depth': 6, 'max_features': 'sqrt', 'min_samples_split': 12, 'n_estimators': 80}"
          ],
          [
           "{'max_depth': 6, 'max_features': 'sqrt', 'min_samples_split': 12, 'n_estimators': 110}"
          ],
          [
           "{'max_depth': 6, 'max_features': 'sqrt', 'min_samples_split': 12, 'n_estimators': 130}"
          ],
          [
           "{'max_depth': 6, 'max_features': 'log2', 'min_samples_split': 3, 'n_estimators': 50}"
          ],
          [
           "{'max_depth': 6, 'max_features': 'log2', 'min_samples_split': 3, 'n_estimators': 80}"
          ],
          [
           "{'max_depth': 6, 'max_features': 'log2', 'min_samples_split': 3, 'n_estimators': 110}"
          ],
          [
           "{'max_depth': 6, 'max_features': 'log2', 'min_samples_split': 3, 'n_estimators': 130}"
          ],
          [
           "{'max_depth': 6, 'max_features': 'log2', 'min_samples_split': 6, 'n_estimators': 50}"
          ],
          [
           "{'max_depth': 6, 'max_features': 'log2', 'min_samples_split': 6, 'n_estimators': 80}"
          ],
          [
           "{'max_depth': 6, 'max_features': 'log2', 'min_samples_split': 6, 'n_estimators': 110}"
          ],
          [
           "{'max_depth': 6, 'max_features': 'log2', 'min_samples_split': 6, 'n_estimators': 130}"
          ],
          [
           "{'max_depth': 6, 'max_features': 'log2', 'min_samples_split': 9, 'n_estimators': 50}"
          ],
          [
           "{'max_depth': 6, 'max_features': 'log2', 'min_samples_split': 9, 'n_estimators': 80}"
          ],
          [
           "{'max_depth': 6, 'max_features': 'log2', 'min_samples_split': 9, 'n_estimators': 110}"
          ],
          [
           "{'max_depth': 6, 'max_features': 'log2', 'min_samples_split': 9, 'n_estimators': 130}"
          ],
          [
           "{'max_depth': 6, 'max_features': 'log2', 'min_samples_split': 12, 'n_estimators': 50}"
          ],
          [
           "{'max_depth': 6, 'max_features': 'log2', 'min_samples_split': 12, 'n_estimators': 80}"
          ],
          [
           "{'max_depth': 6, 'max_features': 'log2', 'min_samples_split': 12, 'n_estimators': 110}"
          ],
          [
           "{'max_depth': 6, 'max_features': 'log2', 'min_samples_split': 12, 'n_estimators': 130}"
          ],
          [
           "{'max_depth': 9, 'max_features': 'sqrt', 'min_samples_split': 3, 'n_estimators': 50}"
          ],
          [
           "{'max_depth': 9, 'max_features': 'sqrt', 'min_samples_split': 3, 'n_estimators': 80}"
          ],
          [
           "{'max_depth': 9, 'max_features': 'sqrt', 'min_samples_split': 3, 'n_estimators': 110}"
          ],
          [
           "{'max_depth': 9, 'max_features': 'sqrt', 'min_samples_split': 3, 'n_estimators': 130}"
          ],
          [
           "{'max_depth': 9, 'max_features': 'sqrt', 'min_samples_split': 6, 'n_estimators': 50}"
          ],
          [
           "{'max_depth': 9, 'max_features': 'sqrt', 'min_samples_split': 6, 'n_estimators': 80}"
          ],
          [
           "{'max_depth': 9, 'max_features': 'sqrt', 'min_samples_split': 6, 'n_estimators': 110}"
          ],
          [
           "{'max_depth': 9, 'max_features': 'sqrt', 'min_samples_split': 6, 'n_estimators': 130}"
          ],
          [
           "{'max_depth': 9, 'max_features': 'sqrt', 'min_samples_split': 9, 'n_estimators': 50}"
          ],
          [
           "{'max_depth': 9, 'max_features': 'sqrt', 'min_samples_split': 9, 'n_estimators': 80}"
          ],
          [
           "{'max_depth': 9, 'max_features': 'sqrt', 'min_samples_split': 9, 'n_estimators': 110}"
          ],
          [
           "{'max_depth': 9, 'max_features': 'sqrt', 'min_samples_split': 9, 'n_estimators': 130}"
          ],
          [
           "{'max_depth': 9, 'max_features': 'sqrt', 'min_samples_split': 12, 'n_estimators': 50}"
          ],
          [
           "{'max_depth': 9, 'max_features': 'sqrt', 'min_samples_split': 12, 'n_estimators': 80}"
          ],
          [
           "{'max_depth': 9, 'max_features': 'sqrt', 'min_samples_split': 12, 'n_estimators': 110}"
          ],
          [
           "{'max_depth': 9, 'max_features': 'sqrt', 'min_samples_split': 12, 'n_estimators': 130}"
          ],
          [
           "{'max_depth': 9, 'max_features': 'log2', 'min_samples_split': 3, 'n_estimators': 50}"
          ],
          [
           "{'max_depth': 9, 'max_features': 'log2', 'min_samples_split': 3, 'n_estimators': 80}"
          ],
          [
           "{'max_depth': 9, 'max_features': 'log2', 'min_samples_split': 3, 'n_estimators': 110}"
          ],
          [
           "{'max_depth': 9, 'max_features': 'log2', 'min_samples_split': 3, 'n_estimators': 130}"
          ],
          [
           "{'max_depth': 9, 'max_features': 'log2', 'min_samples_split': 6, 'n_estimators': 50}"
          ],
          [
           "{'max_depth': 9, 'max_features': 'log2', 'min_samples_split': 6, 'n_estimators': 80}"
          ],
          [
           "{'max_depth': 9, 'max_features': 'log2', 'min_samples_split': 6, 'n_estimators': 110}"
          ],
          [
           "{'max_depth': 9, 'max_features': 'log2', 'min_samples_split': 6, 'n_estimators': 130}"
          ],
          [
           "{'max_depth': 9, 'max_features': 'log2', 'min_samples_split': 9, 'n_estimators': 50}"
          ],
          [
           "{'max_depth': 9, 'max_features': 'log2', 'min_samples_split': 9, 'n_estimators': 80}"
          ],
          [
           "{'max_depth': 9, 'max_features': 'log2', 'min_samples_split': 9, 'n_estimators': 110}"
          ],
          [
           "{'max_depth': 9, 'max_features': 'log2', 'min_samples_split': 9, 'n_estimators': 130}"
          ],
          [
           "{'max_depth': 9, 'max_features': 'log2', 'min_samples_split': 12, 'n_estimators': 50}"
          ],
          [
           "{'max_depth': 9, 'max_features': 'log2', 'min_samples_split': 12, 'n_estimators': 80}"
          ],
          [
           "{'max_depth': 9, 'max_features': 'log2', 'min_samples_split': 12, 'n_estimators': 110}"
          ],
          [
           "{'max_depth': 9, 'max_features': 'log2', 'min_samples_split': 12, 'n_estimators': 130}"
          ]
         ],
         "error_y": {
          "array": [
           0.009865856628407532,
           0.027134446250016406,
           0.011699918823684567,
           0.021351441177702987,
           0.036293562965101445,
           0.026185926410240316,
           0.0330842685520309,
           0.018892550956928107,
           0.02329395119745708,
           0.02221160186182613,
           0.02568543336293908,
           0.028502319053089562,
           0.021033632540462067,
           0.025429804759547092,
           0.015354265255532865,
           0.02048417521564061,
           0.014628037162118497,
           0.02837012612542439,
           0.02360140694781637,
           0.024700024351592464,
           0.03450636174771882,
           0.013751054901033238,
           0.01913027939071407,
           0.024277229580527797,
           0.024237016835090643,
           0.017301800957641524,
           0.021877938545244027,
           0.020643642864980882,
           0.04328160029496825,
           0.019397769721015073,
           0.02133212909431174,
           0.0211213165897815,
           0.02194346032097515,
           0.030957121079281825,
           0.02176988815642544,
           0.015837647066119984,
           0.020565776907424786,
           0.018024200646968292,
           0.022944791487032636,
           0.04232935350999683,
           0.007269669345967872,
           0.021090007876493275,
           0.026591929533691473,
           0.022049316051159496,
           0.028280997768923625,
           0.025227609942278146,
           0.01602642758566012,
           0.01812928712340496,
           0.03075748700010108,
           0.029157247758757356,
           0.02362217063053566,
           0.011563696741862523,
           0.01526314147772423,
           0.014679987927835614,
           0.026205064677924342,
           0.012243822211856168,
           0.03364197975062148,
           0.022795862651198012,
           0.012428511810367138,
           0.029695930685766772,
           0.03375791923610512,
           0.04792989733490565,
           0.02287671732915144,
           0.020799623663984676,
           0.04415956481240276,
           0.027962416740566796,
           0.04326227319051512,
           0.02436559368859795,
           0.021505694320406058,
           0.03233379197440197,
           0.03924728892501523,
           0.029685350050624237,
           0.02824580130343481,
           0.018809881550552247,
           0.026111020506894126,
           0.03512874962721855,
           0.03897952822112271,
           0.04383597833626169,
           0.02735264831650301,
           0.013367994837397857,
           0.01708917653313493,
           0.029806509303457244,
           0.04238700088123201,
           0.02528443985922064,
           0.03032317462948914,
           0.04728308066313902,
           0.0249429790486414,
           0.03758312909948938,
           0.03099308616522204,
           0.04699707901724681,
           0.020957263135692395,
           0.04232785778498038,
           0.037411369762893706,
           0.016200379290873163,
           0.027804971669481246,
           0.026151175586484013
          ]
         },
         "hovertemplate": "<b>%{hovertext}</b><br><br>type=test<br>Params=%{x}<br>Average f1=%{y}<br>params=%{customdata[0]}<extra></extra>",
         "hovertext": [
          "{'max_depth': 3, 'max_features': 'sqrt', 'min_samples_split': 3, 'n_estimators': 50}",
          "{'max_depth': 3, 'max_features': 'sqrt', 'min_samples_split': 3, 'n_estimators': 80}",
          "{'max_depth': 3, 'max_features': 'sqrt', 'min_samples_split': 3, 'n_estimators': 110}",
          "{'max_depth': 3, 'max_features': 'sqrt', 'min_samples_split': 3, 'n_estimators': 130}",
          "{'max_depth': 3, 'max_features': 'sqrt', 'min_samples_split': 6, 'n_estimators': 50}",
          "{'max_depth': 3, 'max_features': 'sqrt', 'min_samples_split': 6, 'n_estimators': 80}",
          "{'max_depth': 3, 'max_features': 'sqrt', 'min_samples_split': 6, 'n_estimators': 110}",
          "{'max_depth': 3, 'max_features': 'sqrt', 'min_samples_split': 6, 'n_estimators': 130}",
          "{'max_depth': 3, 'max_features': 'sqrt', 'min_samples_split': 9, 'n_estimators': 50}",
          "{'max_depth': 3, 'max_features': 'sqrt', 'min_samples_split': 9, 'n_estimators': 80}",
          "{'max_depth': 3, 'max_features': 'sqrt', 'min_samples_split': 9, 'n_estimators': 110}",
          "{'max_depth': 3, 'max_features': 'sqrt', 'min_samples_split': 9, 'n_estimators': 130}",
          "{'max_depth': 3, 'max_features': 'sqrt', 'min_samples_split': 12, 'n_estimators': 50}",
          "{'max_depth': 3, 'max_features': 'sqrt', 'min_samples_split': 12, 'n_estimators': 80}",
          "{'max_depth': 3, 'max_features': 'sqrt', 'min_samples_split': 12, 'n_estimators': 110}",
          "{'max_depth': 3, 'max_features': 'sqrt', 'min_samples_split': 12, 'n_estimators': 130}",
          "{'max_depth': 3, 'max_features': 'log2', 'min_samples_split': 3, 'n_estimators': 50}",
          "{'max_depth': 3, 'max_features': 'log2', 'min_samples_split': 3, 'n_estimators': 80}",
          "{'max_depth': 3, 'max_features': 'log2', 'min_samples_split': 3, 'n_estimators': 110}",
          "{'max_depth': 3, 'max_features': 'log2', 'min_samples_split': 3, 'n_estimators': 130}",
          "{'max_depth': 3, 'max_features': 'log2', 'min_samples_split': 6, 'n_estimators': 50}",
          "{'max_depth': 3, 'max_features': 'log2', 'min_samples_split': 6, 'n_estimators': 80}",
          "{'max_depth': 3, 'max_features': 'log2', 'min_samples_split': 6, 'n_estimators': 110}",
          "{'max_depth': 3, 'max_features': 'log2', 'min_samples_split': 6, 'n_estimators': 130}",
          "{'max_depth': 3, 'max_features': 'log2', 'min_samples_split': 9, 'n_estimators': 50}",
          "{'max_depth': 3, 'max_features': 'log2', 'min_samples_split': 9, 'n_estimators': 80}",
          "{'max_depth': 3, 'max_features': 'log2', 'min_samples_split': 9, 'n_estimators': 110}",
          "{'max_depth': 3, 'max_features': 'log2', 'min_samples_split': 9, 'n_estimators': 130}",
          "{'max_depth': 3, 'max_features': 'log2', 'min_samples_split': 12, 'n_estimators': 50}",
          "{'max_depth': 3, 'max_features': 'log2', 'min_samples_split': 12, 'n_estimators': 80}",
          "{'max_depth': 3, 'max_features': 'log2', 'min_samples_split': 12, 'n_estimators': 110}",
          "{'max_depth': 3, 'max_features': 'log2', 'min_samples_split': 12, 'n_estimators': 130}",
          "{'max_depth': 6, 'max_features': 'sqrt', 'min_samples_split': 3, 'n_estimators': 50}",
          "{'max_depth': 6, 'max_features': 'sqrt', 'min_samples_split': 3, 'n_estimators': 80}",
          "{'max_depth': 6, 'max_features': 'sqrt', 'min_samples_split': 3, 'n_estimators': 110}",
          "{'max_depth': 6, 'max_features': 'sqrt', 'min_samples_split': 3, 'n_estimators': 130}",
          "{'max_depth': 6, 'max_features': 'sqrt', 'min_samples_split': 6, 'n_estimators': 50}",
          "{'max_depth': 6, 'max_features': 'sqrt', 'min_samples_split': 6, 'n_estimators': 80}",
          "{'max_depth': 6, 'max_features': 'sqrt', 'min_samples_split': 6, 'n_estimators': 110}",
          "{'max_depth': 6, 'max_features': 'sqrt', 'min_samples_split': 6, 'n_estimators': 130}",
          "{'max_depth': 6, 'max_features': 'sqrt', 'min_samples_split': 9, 'n_estimators': 50}",
          "{'max_depth': 6, 'max_features': 'sqrt', 'min_samples_split': 9, 'n_estimators': 80}",
          "{'max_depth': 6, 'max_features': 'sqrt', 'min_samples_split': 9, 'n_estimators': 110}",
          "{'max_depth': 6, 'max_features': 'sqrt', 'min_samples_split': 9, 'n_estimators': 130}",
          "{'max_depth': 6, 'max_features': 'sqrt', 'min_samples_split': 12, 'n_estimators': 50}",
          "{'max_depth': 6, 'max_features': 'sqrt', 'min_samples_split': 12, 'n_estimators': 80}",
          "{'max_depth': 6, 'max_features': 'sqrt', 'min_samples_split': 12, 'n_estimators': 110}",
          "{'max_depth': 6, 'max_features': 'sqrt', 'min_samples_split': 12, 'n_estimators': 130}",
          "{'max_depth': 6, 'max_features': 'log2', 'min_samples_split': 3, 'n_estimators': 50}",
          "{'max_depth': 6, 'max_features': 'log2', 'min_samples_split': 3, 'n_estimators': 80}",
          "{'max_depth': 6, 'max_features': 'log2', 'min_samples_split': 3, 'n_estimators': 110}",
          "{'max_depth': 6, 'max_features': 'log2', 'min_samples_split': 3, 'n_estimators': 130}",
          "{'max_depth': 6, 'max_features': 'log2', 'min_samples_split': 6, 'n_estimators': 50}",
          "{'max_depth': 6, 'max_features': 'log2', 'min_samples_split': 6, 'n_estimators': 80}",
          "{'max_depth': 6, 'max_features': 'log2', 'min_samples_split': 6, 'n_estimators': 110}",
          "{'max_depth': 6, 'max_features': 'log2', 'min_samples_split': 6, 'n_estimators': 130}",
          "{'max_depth': 6, 'max_features': 'log2', 'min_samples_split': 9, 'n_estimators': 50}",
          "{'max_depth': 6, 'max_features': 'log2', 'min_samples_split': 9, 'n_estimators': 80}",
          "{'max_depth': 6, 'max_features': 'log2', 'min_samples_split': 9, 'n_estimators': 110}",
          "{'max_depth': 6, 'max_features': 'log2', 'min_samples_split': 9, 'n_estimators': 130}",
          "{'max_depth': 6, 'max_features': 'log2', 'min_samples_split': 12, 'n_estimators': 50}",
          "{'max_depth': 6, 'max_features': 'log2', 'min_samples_split': 12, 'n_estimators': 80}",
          "{'max_depth': 6, 'max_features': 'log2', 'min_samples_split': 12, 'n_estimators': 110}",
          "{'max_depth': 6, 'max_features': 'log2', 'min_samples_split': 12, 'n_estimators': 130}",
          "{'max_depth': 9, 'max_features': 'sqrt', 'min_samples_split': 3, 'n_estimators': 50}",
          "{'max_depth': 9, 'max_features': 'sqrt', 'min_samples_split': 3, 'n_estimators': 80}",
          "{'max_depth': 9, 'max_features': 'sqrt', 'min_samples_split': 3, 'n_estimators': 110}",
          "{'max_depth': 9, 'max_features': 'sqrt', 'min_samples_split': 3, 'n_estimators': 130}",
          "{'max_depth': 9, 'max_features': 'sqrt', 'min_samples_split': 6, 'n_estimators': 50}",
          "{'max_depth': 9, 'max_features': 'sqrt', 'min_samples_split': 6, 'n_estimators': 80}",
          "{'max_depth': 9, 'max_features': 'sqrt', 'min_samples_split': 6, 'n_estimators': 110}",
          "{'max_depth': 9, 'max_features': 'sqrt', 'min_samples_split': 6, 'n_estimators': 130}",
          "{'max_depth': 9, 'max_features': 'sqrt', 'min_samples_split': 9, 'n_estimators': 50}",
          "{'max_depth': 9, 'max_features': 'sqrt', 'min_samples_split': 9, 'n_estimators': 80}",
          "{'max_depth': 9, 'max_features': 'sqrt', 'min_samples_split': 9, 'n_estimators': 110}",
          "{'max_depth': 9, 'max_features': 'sqrt', 'min_samples_split': 9, 'n_estimators': 130}",
          "{'max_depth': 9, 'max_features': 'sqrt', 'min_samples_split': 12, 'n_estimators': 50}",
          "{'max_depth': 9, 'max_features': 'sqrt', 'min_samples_split': 12, 'n_estimators': 80}",
          "{'max_depth': 9, 'max_features': 'sqrt', 'min_samples_split': 12, 'n_estimators': 110}",
          "{'max_depth': 9, 'max_features': 'sqrt', 'min_samples_split': 12, 'n_estimators': 130}",
          "{'max_depth': 9, 'max_features': 'log2', 'min_samples_split': 3, 'n_estimators': 50}",
          "{'max_depth': 9, 'max_features': 'log2', 'min_samples_split': 3, 'n_estimators': 80}",
          "{'max_depth': 9, 'max_features': 'log2', 'min_samples_split': 3, 'n_estimators': 110}",
          "{'max_depth': 9, 'max_features': 'log2', 'min_samples_split': 3, 'n_estimators': 130}",
          "{'max_depth': 9, 'max_features': 'log2', 'min_samples_split': 6, 'n_estimators': 50}",
          "{'max_depth': 9, 'max_features': 'log2', 'min_samples_split': 6, 'n_estimators': 80}",
          "{'max_depth': 9, 'max_features': 'log2', 'min_samples_split': 6, 'n_estimators': 110}",
          "{'max_depth': 9, 'max_features': 'log2', 'min_samples_split': 6, 'n_estimators': 130}",
          "{'max_depth': 9, 'max_features': 'log2', 'min_samples_split': 9, 'n_estimators': 50}",
          "{'max_depth': 9, 'max_features': 'log2', 'min_samples_split': 9, 'n_estimators': 80}",
          "{'max_depth': 9, 'max_features': 'log2', 'min_samples_split': 9, 'n_estimators': 110}",
          "{'max_depth': 9, 'max_features': 'log2', 'min_samples_split': 9, 'n_estimators': 130}",
          "{'max_depth': 9, 'max_features': 'log2', 'min_samples_split': 12, 'n_estimators': 50}",
          "{'max_depth': 9, 'max_features': 'log2', 'min_samples_split': 12, 'n_estimators': 80}",
          "{'max_depth': 9, 'max_features': 'log2', 'min_samples_split': 12, 'n_estimators': 110}",
          "{'max_depth': 9, 'max_features': 'log2', 'min_samples_split': 12, 'n_estimators': 130}"
         ],
         "legendgroup": "test",
         "marker": {
          "color": "#636efa",
          "pattern": {
           "shape": ""
          }
         },
         "name": "test",
         "offsetgroup": "test",
         "orientation": "v",
         "showlegend": true,
         "textposition": "auto",
         "type": "bar",
         "x": [
          0,
          1,
          2,
          3,
          4,
          5,
          6,
          7,
          8,
          9,
          10,
          11,
          12,
          13,
          14,
          15,
          16,
          17,
          18,
          19,
          20,
          21,
          22,
          23,
          24,
          25,
          26,
          27,
          28,
          29,
          30,
          31,
          32,
          33,
          34,
          35,
          36,
          37,
          38,
          39,
          40,
          41,
          42,
          43,
          44,
          45,
          46,
          47,
          48,
          49,
          50,
          51,
          52,
          53,
          54,
          55,
          56,
          57,
          58,
          59,
          60,
          61,
          62,
          63,
          64,
          65,
          66,
          67,
          68,
          69,
          70,
          71,
          72,
          73,
          74,
          75,
          76,
          77,
          78,
          79,
          80,
          81,
          82,
          83,
          84,
          85,
          86,
          87,
          88,
          89,
          90,
          91,
          92,
          93,
          94,
          95
         ],
         "xaxis": "x",
         "y": [
          0.11485116976226681,
          0.09911549314375709,
          0.10412875658686108,
          0.09395149844192081,
          0.11384704941517472,
          0.08842527659961871,
          0.09893494855704159,
          0.1049733919878515,
          0.09270787233140831,
          0.10206672099636457,
          0.10236906641429515,
          0.09885020397740209,
          0.10392097865521607,
          0.10240866878358361,
          0.10203643046676392,
          0.10276372605753903,
          0.09570451038411579,
          0.09319713299273266,
          0.08504262036800472,
          0.09825940269723135,
          0.1038484257892847,
          0.09508860440283651,
          0.10472187582399033,
          0.09194597719326424,
          0.10832975922602646,
          0.10114351219117401,
          0.09794727664830882,
          0.1049874589010932,
          0.09869456125270078,
          0.08805748076092394,
          0.10719457385155273,
          0.09488967562470792,
          0.23256129226782862,
          0.24563365827690484,
          0.23854075682608764,
          0.23365067240022527,
          0.23149915194226103,
          0.2426815684204235,
          0.25366166939546086,
          0.24422782716883235,
          0.24288621239619426,
          0.24736099591656374,
          0.24773633095176573,
          0.24198416610811524,
          0.23239326256175766,
          0.23958776662600326,
          0.24118671623885396,
          0.24331592694006746,
          0.2460123660151557,
          0.24927410742255587,
          0.24194143747806868,
          0.23645040376707196,
          0.23913731263576468,
          0.2452991613895752,
          0.25040692939465287,
          0.2372970946037392,
          0.24438984191704183,
          0.24073809236245966,
          0.24270025368044107,
          0.2443679695230435,
          0.2445810575439796,
          0.22539302055046445,
          0.23198642255259244,
          0.23893478021763662,
          0.33279355664303695,
          0.32939737029786487,
          0.317523769589076,
          0.3037817188724873,
          0.318607149304263,
          0.3185477273993441,
          0.32458394197467283,
          0.32443364198457525,
          0.31770824730956165,
          0.31024449227518947,
          0.32912652309004864,
          0.3288639372838034,
          0.31677040761622133,
          0.3117865990717676,
          0.3162014264147752,
          0.29868911758839545,
          0.31593798371189413,
          0.31436019265816195,
          0.3175185299646272,
          0.3197477134474903,
          0.3177793837110069,
          0.3182395856662358,
          0.3230150812761896,
          0.31325277719065764,
          0.30390622717960625,
          0.32090023902884524,
          0.3256531793269543,
          0.32792698807235826,
          0.3295893775938101,
          0.3089913871335802,
          0.3159316755217859,
          0.31368922905739466
         ],
         "yaxis": "y"
        },
        {
         "alignmentgroup": "True",
         "customdata": [
          [
           "{'max_depth': 3, 'max_features': 'sqrt', 'min_samples_split': 3, 'n_estimators': 50}"
          ],
          [
           "{'max_depth': 3, 'max_features': 'sqrt', 'min_samples_split': 3, 'n_estimators': 80}"
          ],
          [
           "{'max_depth': 3, 'max_features': 'sqrt', 'min_samples_split': 3, 'n_estimators': 110}"
          ],
          [
           "{'max_depth': 3, 'max_features': 'sqrt', 'min_samples_split': 3, 'n_estimators': 130}"
          ],
          [
           "{'max_depth': 3, 'max_features': 'sqrt', 'min_samples_split': 6, 'n_estimators': 50}"
          ],
          [
           "{'max_depth': 3, 'max_features': 'sqrt', 'min_samples_split': 6, 'n_estimators': 80}"
          ],
          [
           "{'max_depth': 3, 'max_features': 'sqrt', 'min_samples_split': 6, 'n_estimators': 110}"
          ],
          [
           "{'max_depth': 3, 'max_features': 'sqrt', 'min_samples_split': 6, 'n_estimators': 130}"
          ],
          [
           "{'max_depth': 3, 'max_features': 'sqrt', 'min_samples_split': 9, 'n_estimators': 50}"
          ],
          [
           "{'max_depth': 3, 'max_features': 'sqrt', 'min_samples_split': 9, 'n_estimators': 80}"
          ],
          [
           "{'max_depth': 3, 'max_features': 'sqrt', 'min_samples_split': 9, 'n_estimators': 110}"
          ],
          [
           "{'max_depth': 3, 'max_features': 'sqrt', 'min_samples_split': 9, 'n_estimators': 130}"
          ],
          [
           "{'max_depth': 3, 'max_features': 'sqrt', 'min_samples_split': 12, 'n_estimators': 50}"
          ],
          [
           "{'max_depth': 3, 'max_features': 'sqrt', 'min_samples_split': 12, 'n_estimators': 80}"
          ],
          [
           "{'max_depth': 3, 'max_features': 'sqrt', 'min_samples_split': 12, 'n_estimators': 110}"
          ],
          [
           "{'max_depth': 3, 'max_features': 'sqrt', 'min_samples_split': 12, 'n_estimators': 130}"
          ],
          [
           "{'max_depth': 3, 'max_features': 'log2', 'min_samples_split': 3, 'n_estimators': 50}"
          ],
          [
           "{'max_depth': 3, 'max_features': 'log2', 'min_samples_split': 3, 'n_estimators': 80}"
          ],
          [
           "{'max_depth': 3, 'max_features': 'log2', 'min_samples_split': 3, 'n_estimators': 110}"
          ],
          [
           "{'max_depth': 3, 'max_features': 'log2', 'min_samples_split': 3, 'n_estimators': 130}"
          ],
          [
           "{'max_depth': 3, 'max_features': 'log2', 'min_samples_split': 6, 'n_estimators': 50}"
          ],
          [
           "{'max_depth': 3, 'max_features': 'log2', 'min_samples_split': 6, 'n_estimators': 80}"
          ],
          [
           "{'max_depth': 3, 'max_features': 'log2', 'min_samples_split': 6, 'n_estimators': 110}"
          ],
          [
           "{'max_depth': 3, 'max_features': 'log2', 'min_samples_split': 6, 'n_estimators': 130}"
          ],
          [
           "{'max_depth': 3, 'max_features': 'log2', 'min_samples_split': 9, 'n_estimators': 50}"
          ],
          [
           "{'max_depth': 3, 'max_features': 'log2', 'min_samples_split': 9, 'n_estimators': 80}"
          ],
          [
           "{'max_depth': 3, 'max_features': 'log2', 'min_samples_split': 9, 'n_estimators': 110}"
          ],
          [
           "{'max_depth': 3, 'max_features': 'log2', 'min_samples_split': 9, 'n_estimators': 130}"
          ],
          [
           "{'max_depth': 3, 'max_features': 'log2', 'min_samples_split': 12, 'n_estimators': 50}"
          ],
          [
           "{'max_depth': 3, 'max_features': 'log2', 'min_samples_split': 12, 'n_estimators': 80}"
          ],
          [
           "{'max_depth': 3, 'max_features': 'log2', 'min_samples_split': 12, 'n_estimators': 110}"
          ],
          [
           "{'max_depth': 3, 'max_features': 'log2', 'min_samples_split': 12, 'n_estimators': 130}"
          ],
          [
           "{'max_depth': 6, 'max_features': 'sqrt', 'min_samples_split': 3, 'n_estimators': 50}"
          ],
          [
           "{'max_depth': 6, 'max_features': 'sqrt', 'min_samples_split': 3, 'n_estimators': 80}"
          ],
          [
           "{'max_depth': 6, 'max_features': 'sqrt', 'min_samples_split': 3, 'n_estimators': 110}"
          ],
          [
           "{'max_depth': 6, 'max_features': 'sqrt', 'min_samples_split': 3, 'n_estimators': 130}"
          ],
          [
           "{'max_depth': 6, 'max_features': 'sqrt', 'min_samples_split': 6, 'n_estimators': 50}"
          ],
          [
           "{'max_depth': 6, 'max_features': 'sqrt', 'min_samples_split': 6, 'n_estimators': 80}"
          ],
          [
           "{'max_depth': 6, 'max_features': 'sqrt', 'min_samples_split': 6, 'n_estimators': 110}"
          ],
          [
           "{'max_depth': 6, 'max_features': 'sqrt', 'min_samples_split': 6, 'n_estimators': 130}"
          ],
          [
           "{'max_depth': 6, 'max_features': 'sqrt', 'min_samples_split': 9, 'n_estimators': 50}"
          ],
          [
           "{'max_depth': 6, 'max_features': 'sqrt', 'min_samples_split': 9, 'n_estimators': 80}"
          ],
          [
           "{'max_depth': 6, 'max_features': 'sqrt', 'min_samples_split': 9, 'n_estimators': 110}"
          ],
          [
           "{'max_depth': 6, 'max_features': 'sqrt', 'min_samples_split': 9, 'n_estimators': 130}"
          ],
          [
           "{'max_depth': 6, 'max_features': 'sqrt', 'min_samples_split': 12, 'n_estimators': 50}"
          ],
          [
           "{'max_depth': 6, 'max_features': 'sqrt', 'min_samples_split': 12, 'n_estimators': 80}"
          ],
          [
           "{'max_depth': 6, 'max_features': 'sqrt', 'min_samples_split': 12, 'n_estimators': 110}"
          ],
          [
           "{'max_depth': 6, 'max_features': 'sqrt', 'min_samples_split': 12, 'n_estimators': 130}"
          ],
          [
           "{'max_depth': 6, 'max_features': 'log2', 'min_samples_split': 3, 'n_estimators': 50}"
          ],
          [
           "{'max_depth': 6, 'max_features': 'log2', 'min_samples_split': 3, 'n_estimators': 80}"
          ],
          [
           "{'max_depth': 6, 'max_features': 'log2', 'min_samples_split': 3, 'n_estimators': 110}"
          ],
          [
           "{'max_depth': 6, 'max_features': 'log2', 'min_samples_split': 3, 'n_estimators': 130}"
          ],
          [
           "{'max_depth': 6, 'max_features': 'log2', 'min_samples_split': 6, 'n_estimators': 50}"
          ],
          [
           "{'max_depth': 6, 'max_features': 'log2', 'min_samples_split': 6, 'n_estimators': 80}"
          ],
          [
           "{'max_depth': 6, 'max_features': 'log2', 'min_samples_split': 6, 'n_estimators': 110}"
          ],
          [
           "{'max_depth': 6, 'max_features': 'log2', 'min_samples_split': 6, 'n_estimators': 130}"
          ],
          [
           "{'max_depth': 6, 'max_features': 'log2', 'min_samples_split': 9, 'n_estimators': 50}"
          ],
          [
           "{'max_depth': 6, 'max_features': 'log2', 'min_samples_split': 9, 'n_estimators': 80}"
          ],
          [
           "{'max_depth': 6, 'max_features': 'log2', 'min_samples_split': 9, 'n_estimators': 110}"
          ],
          [
           "{'max_depth': 6, 'max_features': 'log2', 'min_samples_split': 9, 'n_estimators': 130}"
          ],
          [
           "{'max_depth': 6, 'max_features': 'log2', 'min_samples_split': 12, 'n_estimators': 50}"
          ],
          [
           "{'max_depth': 6, 'max_features': 'log2', 'min_samples_split': 12, 'n_estimators': 80}"
          ],
          [
           "{'max_depth': 6, 'max_features': 'log2', 'min_samples_split': 12, 'n_estimators': 110}"
          ],
          [
           "{'max_depth': 6, 'max_features': 'log2', 'min_samples_split': 12, 'n_estimators': 130}"
          ],
          [
           "{'max_depth': 9, 'max_features': 'sqrt', 'min_samples_split': 3, 'n_estimators': 50}"
          ],
          [
           "{'max_depth': 9, 'max_features': 'sqrt', 'min_samples_split': 3, 'n_estimators': 80}"
          ],
          [
           "{'max_depth': 9, 'max_features': 'sqrt', 'min_samples_split': 3, 'n_estimators': 110}"
          ],
          [
           "{'max_depth': 9, 'max_features': 'sqrt', 'min_samples_split': 3, 'n_estimators': 130}"
          ],
          [
           "{'max_depth': 9, 'max_features': 'sqrt', 'min_samples_split': 6, 'n_estimators': 50}"
          ],
          [
           "{'max_depth': 9, 'max_features': 'sqrt', 'min_samples_split': 6, 'n_estimators': 80}"
          ],
          [
           "{'max_depth': 9, 'max_features': 'sqrt', 'min_samples_split': 6, 'n_estimators': 110}"
          ],
          [
           "{'max_depth': 9, 'max_features': 'sqrt', 'min_samples_split': 6, 'n_estimators': 130}"
          ],
          [
           "{'max_depth': 9, 'max_features': 'sqrt', 'min_samples_split': 9, 'n_estimators': 50}"
          ],
          [
           "{'max_depth': 9, 'max_features': 'sqrt', 'min_samples_split': 9, 'n_estimators': 80}"
          ],
          [
           "{'max_depth': 9, 'max_features': 'sqrt', 'min_samples_split': 9, 'n_estimators': 110}"
          ],
          [
           "{'max_depth': 9, 'max_features': 'sqrt', 'min_samples_split': 9, 'n_estimators': 130}"
          ],
          [
           "{'max_depth': 9, 'max_features': 'sqrt', 'min_samples_split': 12, 'n_estimators': 50}"
          ],
          [
           "{'max_depth': 9, 'max_features': 'sqrt', 'min_samples_split': 12, 'n_estimators': 80}"
          ],
          [
           "{'max_depth': 9, 'max_features': 'sqrt', 'min_samples_split': 12, 'n_estimators': 110}"
          ],
          [
           "{'max_depth': 9, 'max_features': 'sqrt', 'min_samples_split': 12, 'n_estimators': 130}"
          ],
          [
           "{'max_depth': 9, 'max_features': 'log2', 'min_samples_split': 3, 'n_estimators': 50}"
          ],
          [
           "{'max_depth': 9, 'max_features': 'log2', 'min_samples_split': 3, 'n_estimators': 80}"
          ],
          [
           "{'max_depth': 9, 'max_features': 'log2', 'min_samples_split': 3, 'n_estimators': 110}"
          ],
          [
           "{'max_depth': 9, 'max_features': 'log2', 'min_samples_split': 3, 'n_estimators': 130}"
          ],
          [
           "{'max_depth': 9, 'max_features': 'log2', 'min_samples_split': 6, 'n_estimators': 50}"
          ],
          [
           "{'max_depth': 9, 'max_features': 'log2', 'min_samples_split': 6, 'n_estimators': 80}"
          ],
          [
           "{'max_depth': 9, 'max_features': 'log2', 'min_samples_split': 6, 'n_estimators': 110}"
          ],
          [
           "{'max_depth': 9, 'max_features': 'log2', 'min_samples_split': 6, 'n_estimators': 130}"
          ],
          [
           "{'max_depth': 9, 'max_features': 'log2', 'min_samples_split': 9, 'n_estimators': 50}"
          ],
          [
           "{'max_depth': 9, 'max_features': 'log2', 'min_samples_split': 9, 'n_estimators': 80}"
          ],
          [
           "{'max_depth': 9, 'max_features': 'log2', 'min_samples_split': 9, 'n_estimators': 110}"
          ],
          [
           "{'max_depth': 9, 'max_features': 'log2', 'min_samples_split': 9, 'n_estimators': 130}"
          ],
          [
           "{'max_depth': 9, 'max_features': 'log2', 'min_samples_split': 12, 'n_estimators': 50}"
          ],
          [
           "{'max_depth': 9, 'max_features': 'log2', 'min_samples_split': 12, 'n_estimators': 80}"
          ],
          [
           "{'max_depth': 9, 'max_features': 'log2', 'min_samples_split': 12, 'n_estimators': 110}"
          ],
          [
           "{'max_depth': 9, 'max_features': 'log2', 'min_samples_split': 12, 'n_estimators': 130}"
          ]
         ],
         "error_y": {
          "array": [
           0.037337888649075834,
           0.02463821898719844,
           0.0295219769294948,
           0.021396110094945686,
           0.030000808041489795,
           0.024712312508821964,
           0.031020421433613478,
           0.029328966169326145,
           0.019774559147892615,
           0.02692543398024165,
           0.03020838467856905,
           0.028364008604868648,
           0.03449853426985391,
           0.024362568947393644,
           0.02580553349802211,
           0.034042596630937914,
           0.02714575821586994,
           0.027869090834787225,
           0.028146175920927396,
           0.030459547559129066,
           0.03335788313281257,
           0.02806934021994585,
           0.028794950652512284,
           0.028183583548576988,
           0.026347042405136047,
           0.025755018859406925,
           0.03239753281977454,
           0.03305332425946646,
           0.029253507843870832,
           0.025348075949779326,
           0.030264536269319443,
           0.023261674176750926,
           0.03675534539744849,
           0.03456918255716764,
           0.031725420364492087,
           0.02965825194652869,
           0.029625333971681638,
           0.03483646826730847,
           0.034149534837558254,
           0.0474926798790007,
           0.039440939780974134,
           0.032437486278058016,
           0.03668336717573358,
           0.029231684337318785,
           0.03558921780241586,
           0.03171909182958408,
           0.039878182883330136,
           0.04022507868541534,
           0.032524519885994384,
           0.025154411079077153,
           0.03051154021736765,
           0.038607915736501436,
           0.03756739275604705,
           0.03685100467512628,
           0.02797056439949167,
           0.03466656648130369,
           0.044626703311268306,
           0.04060314328129213,
           0.03553592768635833,
           0.034343066720725665,
           0.04834723924829026,
           0.041171765054806894,
           0.036474610960219,
           0.032041575276877725,
           0.013213592198846384,
           0.021663709223315453,
           0.033724264400887285,
           0.0281832157695135,
           0.030589420019205962,
           0.03032683343973389,
           0.02923879371850251,
           0.025637176626379612,
           0.02797206234427637,
           0.026101870710626716,
           0.026132906784879218,
           0.031874676879264714,
           0.04147560284239248,
           0.02879358831884884,
           0.02674657438551154,
           0.034533363782517076,
           0.02354402256629032,
           0.02860739392845072,
           0.032058227500463894,
           0.03046843837866169,
           0.013522274678772095,
           0.032593827806721494,
           0.022309430900843915,
           0.018862954823003077,
           0.041481703638413324,
           0.020478447786134658,
           0.03304113787273708,
           0.022726976818618388,
           0.02578631146590815,
           0.021507011453903026,
           0.02039612961786185,
           0.03113224399168286
          ]
         },
         "hovertemplate": "<b>%{hovertext}</b><br><br>type=train<br>Params=%{x}<br>Average f1=%{y}<br>params=%{customdata[0]}<extra></extra>",
         "hovertext": [
          "{'max_depth': 3, 'max_features': 'sqrt', 'min_samples_split': 3, 'n_estimators': 50}",
          "{'max_depth': 3, 'max_features': 'sqrt', 'min_samples_split': 3, 'n_estimators': 80}",
          "{'max_depth': 3, 'max_features': 'sqrt', 'min_samples_split': 3, 'n_estimators': 110}",
          "{'max_depth': 3, 'max_features': 'sqrt', 'min_samples_split': 3, 'n_estimators': 130}",
          "{'max_depth': 3, 'max_features': 'sqrt', 'min_samples_split': 6, 'n_estimators': 50}",
          "{'max_depth': 3, 'max_features': 'sqrt', 'min_samples_split': 6, 'n_estimators': 80}",
          "{'max_depth': 3, 'max_features': 'sqrt', 'min_samples_split': 6, 'n_estimators': 110}",
          "{'max_depth': 3, 'max_features': 'sqrt', 'min_samples_split': 6, 'n_estimators': 130}",
          "{'max_depth': 3, 'max_features': 'sqrt', 'min_samples_split': 9, 'n_estimators': 50}",
          "{'max_depth': 3, 'max_features': 'sqrt', 'min_samples_split': 9, 'n_estimators': 80}",
          "{'max_depth': 3, 'max_features': 'sqrt', 'min_samples_split': 9, 'n_estimators': 110}",
          "{'max_depth': 3, 'max_features': 'sqrt', 'min_samples_split': 9, 'n_estimators': 130}",
          "{'max_depth': 3, 'max_features': 'sqrt', 'min_samples_split': 12, 'n_estimators': 50}",
          "{'max_depth': 3, 'max_features': 'sqrt', 'min_samples_split': 12, 'n_estimators': 80}",
          "{'max_depth': 3, 'max_features': 'sqrt', 'min_samples_split': 12, 'n_estimators': 110}",
          "{'max_depth': 3, 'max_features': 'sqrt', 'min_samples_split': 12, 'n_estimators': 130}",
          "{'max_depth': 3, 'max_features': 'log2', 'min_samples_split': 3, 'n_estimators': 50}",
          "{'max_depth': 3, 'max_features': 'log2', 'min_samples_split': 3, 'n_estimators': 80}",
          "{'max_depth': 3, 'max_features': 'log2', 'min_samples_split': 3, 'n_estimators': 110}",
          "{'max_depth': 3, 'max_features': 'log2', 'min_samples_split': 3, 'n_estimators': 130}",
          "{'max_depth': 3, 'max_features': 'log2', 'min_samples_split': 6, 'n_estimators': 50}",
          "{'max_depth': 3, 'max_features': 'log2', 'min_samples_split': 6, 'n_estimators': 80}",
          "{'max_depth': 3, 'max_features': 'log2', 'min_samples_split': 6, 'n_estimators': 110}",
          "{'max_depth': 3, 'max_features': 'log2', 'min_samples_split': 6, 'n_estimators': 130}",
          "{'max_depth': 3, 'max_features': 'log2', 'min_samples_split': 9, 'n_estimators': 50}",
          "{'max_depth': 3, 'max_features': 'log2', 'min_samples_split': 9, 'n_estimators': 80}",
          "{'max_depth': 3, 'max_features': 'log2', 'min_samples_split': 9, 'n_estimators': 110}",
          "{'max_depth': 3, 'max_features': 'log2', 'min_samples_split': 9, 'n_estimators': 130}",
          "{'max_depth': 3, 'max_features': 'log2', 'min_samples_split': 12, 'n_estimators': 50}",
          "{'max_depth': 3, 'max_features': 'log2', 'min_samples_split': 12, 'n_estimators': 80}",
          "{'max_depth': 3, 'max_features': 'log2', 'min_samples_split': 12, 'n_estimators': 110}",
          "{'max_depth': 3, 'max_features': 'log2', 'min_samples_split': 12, 'n_estimators': 130}",
          "{'max_depth': 6, 'max_features': 'sqrt', 'min_samples_split': 3, 'n_estimators': 50}",
          "{'max_depth': 6, 'max_features': 'sqrt', 'min_samples_split': 3, 'n_estimators': 80}",
          "{'max_depth': 6, 'max_features': 'sqrt', 'min_samples_split': 3, 'n_estimators': 110}",
          "{'max_depth': 6, 'max_features': 'sqrt', 'min_samples_split': 3, 'n_estimators': 130}",
          "{'max_depth': 6, 'max_features': 'sqrt', 'min_samples_split': 6, 'n_estimators': 50}",
          "{'max_depth': 6, 'max_features': 'sqrt', 'min_samples_split': 6, 'n_estimators': 80}",
          "{'max_depth': 6, 'max_features': 'sqrt', 'min_samples_split': 6, 'n_estimators': 110}",
          "{'max_depth': 6, 'max_features': 'sqrt', 'min_samples_split': 6, 'n_estimators': 130}",
          "{'max_depth': 6, 'max_features': 'sqrt', 'min_samples_split': 9, 'n_estimators': 50}",
          "{'max_depth': 6, 'max_features': 'sqrt', 'min_samples_split': 9, 'n_estimators': 80}",
          "{'max_depth': 6, 'max_features': 'sqrt', 'min_samples_split': 9, 'n_estimators': 110}",
          "{'max_depth': 6, 'max_features': 'sqrt', 'min_samples_split': 9, 'n_estimators': 130}",
          "{'max_depth': 6, 'max_features': 'sqrt', 'min_samples_split': 12, 'n_estimators': 50}",
          "{'max_depth': 6, 'max_features': 'sqrt', 'min_samples_split': 12, 'n_estimators': 80}",
          "{'max_depth': 6, 'max_features': 'sqrt', 'min_samples_split': 12, 'n_estimators': 110}",
          "{'max_depth': 6, 'max_features': 'sqrt', 'min_samples_split': 12, 'n_estimators': 130}",
          "{'max_depth': 6, 'max_features': 'log2', 'min_samples_split': 3, 'n_estimators': 50}",
          "{'max_depth': 6, 'max_features': 'log2', 'min_samples_split': 3, 'n_estimators': 80}",
          "{'max_depth': 6, 'max_features': 'log2', 'min_samples_split': 3, 'n_estimators': 110}",
          "{'max_depth': 6, 'max_features': 'log2', 'min_samples_split': 3, 'n_estimators': 130}",
          "{'max_depth': 6, 'max_features': 'log2', 'min_samples_split': 6, 'n_estimators': 50}",
          "{'max_depth': 6, 'max_features': 'log2', 'min_samples_split': 6, 'n_estimators': 80}",
          "{'max_depth': 6, 'max_features': 'log2', 'min_samples_split': 6, 'n_estimators': 110}",
          "{'max_depth': 6, 'max_features': 'log2', 'min_samples_split': 6, 'n_estimators': 130}",
          "{'max_depth': 6, 'max_features': 'log2', 'min_samples_split': 9, 'n_estimators': 50}",
          "{'max_depth': 6, 'max_features': 'log2', 'min_samples_split': 9, 'n_estimators': 80}",
          "{'max_depth': 6, 'max_features': 'log2', 'min_samples_split': 9, 'n_estimators': 110}",
          "{'max_depth': 6, 'max_features': 'log2', 'min_samples_split': 9, 'n_estimators': 130}",
          "{'max_depth': 6, 'max_features': 'log2', 'min_samples_split': 12, 'n_estimators': 50}",
          "{'max_depth': 6, 'max_features': 'log2', 'min_samples_split': 12, 'n_estimators': 80}",
          "{'max_depth': 6, 'max_features': 'log2', 'min_samples_split': 12, 'n_estimators': 110}",
          "{'max_depth': 6, 'max_features': 'log2', 'min_samples_split': 12, 'n_estimators': 130}",
          "{'max_depth': 9, 'max_features': 'sqrt', 'min_samples_split': 3, 'n_estimators': 50}",
          "{'max_depth': 9, 'max_features': 'sqrt', 'min_samples_split': 3, 'n_estimators': 80}",
          "{'max_depth': 9, 'max_features': 'sqrt', 'min_samples_split': 3, 'n_estimators': 110}",
          "{'max_depth': 9, 'max_features': 'sqrt', 'min_samples_split': 3, 'n_estimators': 130}",
          "{'max_depth': 9, 'max_features': 'sqrt', 'min_samples_split': 6, 'n_estimators': 50}",
          "{'max_depth': 9, 'max_features': 'sqrt', 'min_samples_split': 6, 'n_estimators': 80}",
          "{'max_depth': 9, 'max_features': 'sqrt', 'min_samples_split': 6, 'n_estimators': 110}",
          "{'max_depth': 9, 'max_features': 'sqrt', 'min_samples_split': 6, 'n_estimators': 130}",
          "{'max_depth': 9, 'max_features': 'sqrt', 'min_samples_split': 9, 'n_estimators': 50}",
          "{'max_depth': 9, 'max_features': 'sqrt', 'min_samples_split': 9, 'n_estimators': 80}",
          "{'max_depth': 9, 'max_features': 'sqrt', 'min_samples_split': 9, 'n_estimators': 110}",
          "{'max_depth': 9, 'max_features': 'sqrt', 'min_samples_split': 9, 'n_estimators': 130}",
          "{'max_depth': 9, 'max_features': 'sqrt', 'min_samples_split': 12, 'n_estimators': 50}",
          "{'max_depth': 9, 'max_features': 'sqrt', 'min_samples_split': 12, 'n_estimators': 80}",
          "{'max_depth': 9, 'max_features': 'sqrt', 'min_samples_split': 12, 'n_estimators': 110}",
          "{'max_depth': 9, 'max_features': 'sqrt', 'min_samples_split': 12, 'n_estimators': 130}",
          "{'max_depth': 9, 'max_features': 'log2', 'min_samples_split': 3, 'n_estimators': 50}",
          "{'max_depth': 9, 'max_features': 'log2', 'min_samples_split': 3, 'n_estimators': 80}",
          "{'max_depth': 9, 'max_features': 'log2', 'min_samples_split': 3, 'n_estimators': 110}",
          "{'max_depth': 9, 'max_features': 'log2', 'min_samples_split': 3, 'n_estimators': 130}",
          "{'max_depth': 9, 'max_features': 'log2', 'min_samples_split': 6, 'n_estimators': 50}",
          "{'max_depth': 9, 'max_features': 'log2', 'min_samples_split': 6, 'n_estimators': 80}",
          "{'max_depth': 9, 'max_features': 'log2', 'min_samples_split': 6, 'n_estimators': 110}",
          "{'max_depth': 9, 'max_features': 'log2', 'min_samples_split': 6, 'n_estimators': 130}",
          "{'max_depth': 9, 'max_features': 'log2', 'min_samples_split': 9, 'n_estimators': 50}",
          "{'max_depth': 9, 'max_features': 'log2', 'min_samples_split': 9, 'n_estimators': 80}",
          "{'max_depth': 9, 'max_features': 'log2', 'min_samples_split': 9, 'n_estimators': 110}",
          "{'max_depth': 9, 'max_features': 'log2', 'min_samples_split': 9, 'n_estimators': 130}",
          "{'max_depth': 9, 'max_features': 'log2', 'min_samples_split': 12, 'n_estimators': 50}",
          "{'max_depth': 9, 'max_features': 'log2', 'min_samples_split': 12, 'n_estimators': 80}",
          "{'max_depth': 9, 'max_features': 'log2', 'min_samples_split': 12, 'n_estimators': 110}",
          "{'max_depth': 9, 'max_features': 'log2', 'min_samples_split': 12, 'n_estimators': 130}"
         ],
         "legendgroup": "train",
         "marker": {
          "color": "#EF553B",
          "pattern": {
           "shape": ""
          }
         },
         "name": "train",
         "offsetgroup": "train",
         "orientation": "v",
         "showlegend": true,
         "textposition": "auto",
         "type": "bar",
         "x": [
          0,
          1,
          2,
          3,
          4,
          5,
          6,
          7,
          8,
          9,
          10,
          11,
          12,
          13,
          14,
          15,
          16,
          17,
          18,
          19,
          20,
          21,
          22,
          23,
          24,
          25,
          26,
          27,
          28,
          29,
          30,
          31,
          32,
          33,
          34,
          35,
          36,
          37,
          38,
          39,
          40,
          41,
          42,
          43,
          44,
          45,
          46,
          47,
          48,
          49,
          50,
          51,
          52,
          53,
          54,
          55,
          56,
          57,
          58,
          59,
          60,
          61,
          62,
          63,
          64,
          65,
          66,
          67,
          68,
          69,
          70,
          71,
          72,
          73,
          74,
          75,
          76,
          77,
          78,
          79,
          80,
          81,
          82,
          83,
          84,
          85,
          86,
          87,
          88,
          89,
          90,
          91,
          92,
          93,
          94,
          95
         ],
         "xaxis": "x",
         "y": [
          0.1707043286039784,
          0.16713897744442435,
          0.1584326578191168,
          0.15725997683325157,
          0.1826189296644544,
          0.15630240598974918,
          0.16219656893801457,
          0.1599042536359075,
          0.15837409247026338,
          0.16033793853603348,
          0.1666417173331726,
          0.16954019924227537,
          0.1591031505475217,
          0.16488578300091694,
          0.16166446159289238,
          0.16989500543863287,
          0.15940092186317237,
          0.16360115818107696,
          0.14942408641507748,
          0.1596993126827455,
          0.1722959103674842,
          0.16248942516313875,
          0.1660340568319177,
          0.16486950937848327,
          0.17163750019899537,
          0.1617889622354857,
          0.1638732585244213,
          0.16003155905975405,
          0.15800381816814507,
          0.16332791687037762,
          0.16450252200717685,
          0.15917503568288208,
          0.4274785877559967,
          0.4364376470733517,
          0.4300533935940253,
          0.4363368326775232,
          0.42538304484602774,
          0.4280235697221018,
          0.4294127010343276,
          0.4286753423842562,
          0.42540503692350506,
          0.426696757002599,
          0.42197239987670726,
          0.42206746321093125,
          0.40941590863512517,
          0.4260619013872124,
          0.41636389750574515,
          0.4170297374477965,
          0.44244119539129134,
          0.43598204940007157,
          0.4436863525244602,
          0.433550672789797,
          0.41366590767163636,
          0.4221881901297767,
          0.4305898693194831,
          0.42549181749528964,
          0.4163625326418397,
          0.4196468605095543,
          0.42269210549379455,
          0.4244114679224239,
          0.41481505398435836,
          0.41083163082527346,
          0.41618999763533937,
          0.42311907631784196,
          0.6711241357448203,
          0.6614941520934534,
          0.6578977781183456,
          0.6705124585994844,
          0.6455324628873178,
          0.6488313732311864,
          0.6580336712400973,
          0.6512523325849287,
          0.6281651436656788,
          0.6411233346610399,
          0.6388354491887865,
          0.6320276319483829,
          0.6105005705836726,
          0.624046575726666,
          0.6294870600845779,
          0.6127331082107604,
          0.6418797953668114,
          0.6601228620145989,
          0.6589659696878973,
          0.6626994658193359,
          0.650997695620499,
          0.6542047114537863,
          0.6542318267934657,
          0.648321285772392,
          0.6316456564539503,
          0.6408211895988402,
          0.6274533274199532,
          0.6457426143444993,
          0.6320150132670206,
          0.6084264863493725,
          0.6199209468321136,
          0.6145951836952538
         ],
         "yaxis": "y"
        }
       ],
       "layout": {
        "barmode": "group",
        "legend": {
         "title": {
          "text": "type"
         },
         "tracegroupgap": 0
        },
        "template": {
         "data": {
          "bar": [
           {
            "error_x": {
             "color": "#2a3f5f"
            },
            "error_y": {
             "color": "#2a3f5f"
            },
            "marker": {
             "line": {
              "color": "#E5ECF6",
              "width": 0.5
             },
             "pattern": {
              "fillmode": "overlay",
              "size": 10,
              "solidity": 0.2
             }
            },
            "type": "bar"
           }
          ],
          "barpolar": [
           {
            "marker": {
             "line": {
              "color": "#E5ECF6",
              "width": 0.5
             },
             "pattern": {
              "fillmode": "overlay",
              "size": 10,
              "solidity": 0.2
             }
            },
            "type": "barpolar"
           }
          ],
          "carpet": [
           {
            "aaxis": {
             "endlinecolor": "#2a3f5f",
             "gridcolor": "white",
             "linecolor": "white",
             "minorgridcolor": "white",
             "startlinecolor": "#2a3f5f"
            },
            "baxis": {
             "endlinecolor": "#2a3f5f",
             "gridcolor": "white",
             "linecolor": "white",
             "minorgridcolor": "white",
             "startlinecolor": "#2a3f5f"
            },
            "type": "carpet"
           }
          ],
          "choropleth": [
           {
            "colorbar": {
             "outlinewidth": 0,
             "ticks": ""
            },
            "type": "choropleth"
           }
          ],
          "contour": [
           {
            "colorbar": {
             "outlinewidth": 0,
             "ticks": ""
            },
            "colorscale": [
             [
              0,
              "#0d0887"
             ],
             [
              0.1111111111111111,
              "#46039f"
             ],
             [
              0.2222222222222222,
              "#7201a8"
             ],
             [
              0.3333333333333333,
              "#9c179e"
             ],
             [
              0.4444444444444444,
              "#bd3786"
             ],
             [
              0.5555555555555556,
              "#d8576b"
             ],
             [
              0.6666666666666666,
              "#ed7953"
             ],
             [
              0.7777777777777778,
              "#fb9f3a"
             ],
             [
              0.8888888888888888,
              "#fdca26"
             ],
             [
              1,
              "#f0f921"
             ]
            ],
            "type": "contour"
           }
          ],
          "contourcarpet": [
           {
            "colorbar": {
             "outlinewidth": 0,
             "ticks": ""
            },
            "type": "contourcarpet"
           }
          ],
          "heatmap": [
           {
            "colorbar": {
             "outlinewidth": 0,
             "ticks": ""
            },
            "colorscale": [
             [
              0,
              "#0d0887"
             ],
             [
              0.1111111111111111,
              "#46039f"
             ],
             [
              0.2222222222222222,
              "#7201a8"
             ],
             [
              0.3333333333333333,
              "#9c179e"
             ],
             [
              0.4444444444444444,
              "#bd3786"
             ],
             [
              0.5555555555555556,
              "#d8576b"
             ],
             [
              0.6666666666666666,
              "#ed7953"
             ],
             [
              0.7777777777777778,
              "#fb9f3a"
             ],
             [
              0.8888888888888888,
              "#fdca26"
             ],
             [
              1,
              "#f0f921"
             ]
            ],
            "type": "heatmap"
           }
          ],
          "heatmapgl": [
           {
            "colorbar": {
             "outlinewidth": 0,
             "ticks": ""
            },
            "colorscale": [
             [
              0,
              "#0d0887"
             ],
             [
              0.1111111111111111,
              "#46039f"
             ],
             [
              0.2222222222222222,
              "#7201a8"
             ],
             [
              0.3333333333333333,
              "#9c179e"
             ],
             [
              0.4444444444444444,
              "#bd3786"
             ],
             [
              0.5555555555555556,
              "#d8576b"
             ],
             [
              0.6666666666666666,
              "#ed7953"
             ],
             [
              0.7777777777777778,
              "#fb9f3a"
             ],
             [
              0.8888888888888888,
              "#fdca26"
             ],
             [
              1,
              "#f0f921"
             ]
            ],
            "type": "heatmapgl"
           }
          ],
          "histogram": [
           {
            "marker": {
             "pattern": {
              "fillmode": "overlay",
              "size": 10,
              "solidity": 0.2
             }
            },
            "type": "histogram"
           }
          ],
          "histogram2d": [
           {
            "colorbar": {
             "outlinewidth": 0,
             "ticks": ""
            },
            "colorscale": [
             [
              0,
              "#0d0887"
             ],
             [
              0.1111111111111111,
              "#46039f"
             ],
             [
              0.2222222222222222,
              "#7201a8"
             ],
             [
              0.3333333333333333,
              "#9c179e"
             ],
             [
              0.4444444444444444,
              "#bd3786"
             ],
             [
              0.5555555555555556,
              "#d8576b"
             ],
             [
              0.6666666666666666,
              "#ed7953"
             ],
             [
              0.7777777777777778,
              "#fb9f3a"
             ],
             [
              0.8888888888888888,
              "#fdca26"
             ],
             [
              1,
              "#f0f921"
             ]
            ],
            "type": "histogram2d"
           }
          ],
          "histogram2dcontour": [
           {
            "colorbar": {
             "outlinewidth": 0,
             "ticks": ""
            },
            "colorscale": [
             [
              0,
              "#0d0887"
             ],
             [
              0.1111111111111111,
              "#46039f"
             ],
             [
              0.2222222222222222,
              "#7201a8"
             ],
             [
              0.3333333333333333,
              "#9c179e"
             ],
             [
              0.4444444444444444,
              "#bd3786"
             ],
             [
              0.5555555555555556,
              "#d8576b"
             ],
             [
              0.6666666666666666,
              "#ed7953"
             ],
             [
              0.7777777777777778,
              "#fb9f3a"
             ],
             [
              0.8888888888888888,
              "#fdca26"
             ],
             [
              1,
              "#f0f921"
             ]
            ],
            "type": "histogram2dcontour"
           }
          ],
          "mesh3d": [
           {
            "colorbar": {
             "outlinewidth": 0,
             "ticks": ""
            },
            "type": "mesh3d"
           }
          ],
          "parcoords": [
           {
            "line": {
             "colorbar": {
              "outlinewidth": 0,
              "ticks": ""
             }
            },
            "type": "parcoords"
           }
          ],
          "pie": [
           {
            "automargin": true,
            "type": "pie"
           }
          ],
          "scatter": [
           {
            "marker": {
             "colorbar": {
              "outlinewidth": 0,
              "ticks": ""
             }
            },
            "type": "scatter"
           }
          ],
          "scatter3d": [
           {
            "line": {
             "colorbar": {
              "outlinewidth": 0,
              "ticks": ""
             }
            },
            "marker": {
             "colorbar": {
              "outlinewidth": 0,
              "ticks": ""
             }
            },
            "type": "scatter3d"
           }
          ],
          "scattercarpet": [
           {
            "marker": {
             "colorbar": {
              "outlinewidth": 0,
              "ticks": ""
             }
            },
            "type": "scattercarpet"
           }
          ],
          "scattergeo": [
           {
            "marker": {
             "colorbar": {
              "outlinewidth": 0,
              "ticks": ""
             }
            },
            "type": "scattergeo"
           }
          ],
          "scattergl": [
           {
            "marker": {
             "colorbar": {
              "outlinewidth": 0,
              "ticks": ""
             }
            },
            "type": "scattergl"
           }
          ],
          "scattermapbox": [
           {
            "marker": {
             "colorbar": {
              "outlinewidth": 0,
              "ticks": ""
             }
            },
            "type": "scattermapbox"
           }
          ],
          "scatterpolar": [
           {
            "marker": {
             "colorbar": {
              "outlinewidth": 0,
              "ticks": ""
             }
            },
            "type": "scatterpolar"
           }
          ],
          "scatterpolargl": [
           {
            "marker": {
             "colorbar": {
              "outlinewidth": 0,
              "ticks": ""
             }
            },
            "type": "scatterpolargl"
           }
          ],
          "scatterternary": [
           {
            "marker": {
             "colorbar": {
              "outlinewidth": 0,
              "ticks": ""
             }
            },
            "type": "scatterternary"
           }
          ],
          "surface": [
           {
            "colorbar": {
             "outlinewidth": 0,
             "ticks": ""
            },
            "colorscale": [
             [
              0,
              "#0d0887"
             ],
             [
              0.1111111111111111,
              "#46039f"
             ],
             [
              0.2222222222222222,
              "#7201a8"
             ],
             [
              0.3333333333333333,
              "#9c179e"
             ],
             [
              0.4444444444444444,
              "#bd3786"
             ],
             [
              0.5555555555555556,
              "#d8576b"
             ],
             [
              0.6666666666666666,
              "#ed7953"
             ],
             [
              0.7777777777777778,
              "#fb9f3a"
             ],
             [
              0.8888888888888888,
              "#fdca26"
             ],
             [
              1,
              "#f0f921"
             ]
            ],
            "type": "surface"
           }
          ],
          "table": [
           {
            "cells": {
             "fill": {
              "color": "#EBF0F8"
             },
             "line": {
              "color": "white"
             }
            },
            "header": {
             "fill": {
              "color": "#C8D4E3"
             },
             "line": {
              "color": "white"
             }
            },
            "type": "table"
           }
          ]
         },
         "layout": {
          "annotationdefaults": {
           "arrowcolor": "#2a3f5f",
           "arrowhead": 0,
           "arrowwidth": 1
          },
          "autotypenumbers": "strict",
          "coloraxis": {
           "colorbar": {
            "outlinewidth": 0,
            "ticks": ""
           }
          },
          "colorscale": {
           "diverging": [
            [
             0,
             "#8e0152"
            ],
            [
             0.1,
             "#c51b7d"
            ],
            [
             0.2,
             "#de77ae"
            ],
            [
             0.3,
             "#f1b6da"
            ],
            [
             0.4,
             "#fde0ef"
            ],
            [
             0.5,
             "#f7f7f7"
            ],
            [
             0.6,
             "#e6f5d0"
            ],
            [
             0.7,
             "#b8e186"
            ],
            [
             0.8,
             "#7fbc41"
            ],
            [
             0.9,
             "#4d9221"
            ],
            [
             1,
             "#276419"
            ]
           ],
           "sequential": [
            [
             0,
             "#0d0887"
            ],
            [
             0.1111111111111111,
             "#46039f"
            ],
            [
             0.2222222222222222,
             "#7201a8"
            ],
            [
             0.3333333333333333,
             "#9c179e"
            ],
            [
             0.4444444444444444,
             "#bd3786"
            ],
            [
             0.5555555555555556,
             "#d8576b"
            ],
            [
             0.6666666666666666,
             "#ed7953"
            ],
            [
             0.7777777777777778,
             "#fb9f3a"
            ],
            [
             0.8888888888888888,
             "#fdca26"
            ],
            [
             1,
             "#f0f921"
            ]
           ],
           "sequentialminus": [
            [
             0,
             "#0d0887"
            ],
            [
             0.1111111111111111,
             "#46039f"
            ],
            [
             0.2222222222222222,
             "#7201a8"
            ],
            [
             0.3333333333333333,
             "#9c179e"
            ],
            [
             0.4444444444444444,
             "#bd3786"
            ],
            [
             0.5555555555555556,
             "#d8576b"
            ],
            [
             0.6666666666666666,
             "#ed7953"
            ],
            [
             0.7777777777777778,
             "#fb9f3a"
            ],
            [
             0.8888888888888888,
             "#fdca26"
            ],
            [
             1,
             "#f0f921"
            ]
           ]
          },
          "colorway": [
           "#636efa",
           "#EF553B",
           "#00cc96",
           "#ab63fa",
           "#FFA15A",
           "#19d3f3",
           "#FF6692",
           "#B6E880",
           "#FF97FF",
           "#FECB52"
          ],
          "font": {
           "color": "#2a3f5f"
          },
          "geo": {
           "bgcolor": "white",
           "lakecolor": "white",
           "landcolor": "#E5ECF6",
           "showlakes": true,
           "showland": true,
           "subunitcolor": "white"
          },
          "hoverlabel": {
           "align": "left"
          },
          "hovermode": "closest",
          "mapbox": {
           "style": "light"
          },
          "paper_bgcolor": "white",
          "plot_bgcolor": "#E5ECF6",
          "polar": {
           "angularaxis": {
            "gridcolor": "white",
            "linecolor": "white",
            "ticks": ""
           },
           "bgcolor": "#E5ECF6",
           "radialaxis": {
            "gridcolor": "white",
            "linecolor": "white",
            "ticks": ""
           }
          },
          "scene": {
           "xaxis": {
            "backgroundcolor": "#E5ECF6",
            "gridcolor": "white",
            "gridwidth": 2,
            "linecolor": "white",
            "showbackground": true,
            "ticks": "",
            "zerolinecolor": "white"
           },
           "yaxis": {
            "backgroundcolor": "#E5ECF6",
            "gridcolor": "white",
            "gridwidth": 2,
            "linecolor": "white",
            "showbackground": true,
            "ticks": "",
            "zerolinecolor": "white"
           },
           "zaxis": {
            "backgroundcolor": "#E5ECF6",
            "gridcolor": "white",
            "gridwidth": 2,
            "linecolor": "white",
            "showbackground": true,
            "ticks": "",
            "zerolinecolor": "white"
           }
          },
          "shapedefaults": {
           "line": {
            "color": "#2a3f5f"
           }
          },
          "ternary": {
           "aaxis": {
            "gridcolor": "white",
            "linecolor": "white",
            "ticks": ""
           },
           "baxis": {
            "gridcolor": "white",
            "linecolor": "white",
            "ticks": ""
           },
           "bgcolor": "#E5ECF6",
           "caxis": {
            "gridcolor": "white",
            "linecolor": "white",
            "ticks": ""
           }
          },
          "title": {
           "x": 0.05
          },
          "xaxis": {
           "automargin": true,
           "gridcolor": "white",
           "linecolor": "white",
           "ticks": "",
           "title": {
            "standoff": 15
           },
           "zerolinecolor": "white",
           "zerolinewidth": 2
          },
          "yaxis": {
           "automargin": true,
           "gridcolor": "white",
           "linecolor": "white",
           "ticks": "",
           "title": {
            "standoff": 15
           },
           "zerolinecolor": "white",
           "zerolinewidth": 2
          }
         }
        },
        "title": {
         "text": "Mean f1 score on testing and training set for each parameter combination <br> (Model: RandomForest Classifier, Dataset: Multivariate feature imputation)"
        },
        "xaxis": {
         "anchor": "y",
         "domain": [
          0,
          1
         ],
         "title": {
          "text": "Params"
         }
        },
        "yaxis": {
         "anchor": "x",
         "domain": [
          0,
          1
         ],
         "title": {
          "text": "Average f1"
         }
        }
       }
      }
     },
     "metadata": {},
     "output_type": "display_data"
    }
   ],
   "source": [
    "stats = computeModelStats(model, stats, multivariate_feature_imputation, pgrid)"
   ]
  },
  {
   "cell_type": "code",
   "execution_count": 30,
   "metadata": {
    "collapsed": false,
    "pycharm": {
     "name": "#%%\n"
    }
   },
   "outputs": [
    {
     "name": "stdout",
     "output_type": "stream",
     "text": [
      "Fitting 5 folds for each of 96 candidates, totalling 480 fits\n"
     ]
    },
    {
     "data": {
      "application/vnd.plotly.v1+json": {
       "config": {
        "plotlyServerURL": "https://plot.ly"
       },
       "data": [
        {
         "alignmentgroup": "True",
         "customdata": [
          [
           "{'max_depth': 3, 'max_features': 'sqrt', 'min_samples_split': 3, 'n_estimators': 50}"
          ],
          [
           "{'max_depth': 3, 'max_features': 'sqrt', 'min_samples_split': 3, 'n_estimators': 80}"
          ],
          [
           "{'max_depth': 3, 'max_features': 'sqrt', 'min_samples_split': 3, 'n_estimators': 110}"
          ],
          [
           "{'max_depth': 3, 'max_features': 'sqrt', 'min_samples_split': 3, 'n_estimators': 130}"
          ],
          [
           "{'max_depth': 3, 'max_features': 'sqrt', 'min_samples_split': 6, 'n_estimators': 50}"
          ],
          [
           "{'max_depth': 3, 'max_features': 'sqrt', 'min_samples_split': 6, 'n_estimators': 80}"
          ],
          [
           "{'max_depth': 3, 'max_features': 'sqrt', 'min_samples_split': 6, 'n_estimators': 110}"
          ],
          [
           "{'max_depth': 3, 'max_features': 'sqrt', 'min_samples_split': 6, 'n_estimators': 130}"
          ],
          [
           "{'max_depth': 3, 'max_features': 'sqrt', 'min_samples_split': 9, 'n_estimators': 50}"
          ],
          [
           "{'max_depth': 3, 'max_features': 'sqrt', 'min_samples_split': 9, 'n_estimators': 80}"
          ],
          [
           "{'max_depth': 3, 'max_features': 'sqrt', 'min_samples_split': 9, 'n_estimators': 110}"
          ],
          [
           "{'max_depth': 3, 'max_features': 'sqrt', 'min_samples_split': 9, 'n_estimators': 130}"
          ],
          [
           "{'max_depth': 3, 'max_features': 'sqrt', 'min_samples_split': 12, 'n_estimators': 50}"
          ],
          [
           "{'max_depth': 3, 'max_features': 'sqrt', 'min_samples_split': 12, 'n_estimators': 80}"
          ],
          [
           "{'max_depth': 3, 'max_features': 'sqrt', 'min_samples_split': 12, 'n_estimators': 110}"
          ],
          [
           "{'max_depth': 3, 'max_features': 'sqrt', 'min_samples_split': 12, 'n_estimators': 130}"
          ],
          [
           "{'max_depth': 3, 'max_features': 'log2', 'min_samples_split': 3, 'n_estimators': 50}"
          ],
          [
           "{'max_depth': 3, 'max_features': 'log2', 'min_samples_split': 3, 'n_estimators': 80}"
          ],
          [
           "{'max_depth': 3, 'max_features': 'log2', 'min_samples_split': 3, 'n_estimators': 110}"
          ],
          [
           "{'max_depth': 3, 'max_features': 'log2', 'min_samples_split': 3, 'n_estimators': 130}"
          ],
          [
           "{'max_depth': 3, 'max_features': 'log2', 'min_samples_split': 6, 'n_estimators': 50}"
          ],
          [
           "{'max_depth': 3, 'max_features': 'log2', 'min_samples_split': 6, 'n_estimators': 80}"
          ],
          [
           "{'max_depth': 3, 'max_features': 'log2', 'min_samples_split': 6, 'n_estimators': 110}"
          ],
          [
           "{'max_depth': 3, 'max_features': 'log2', 'min_samples_split': 6, 'n_estimators': 130}"
          ],
          [
           "{'max_depth': 3, 'max_features': 'log2', 'min_samples_split': 9, 'n_estimators': 50}"
          ],
          [
           "{'max_depth': 3, 'max_features': 'log2', 'min_samples_split': 9, 'n_estimators': 80}"
          ],
          [
           "{'max_depth': 3, 'max_features': 'log2', 'min_samples_split': 9, 'n_estimators': 110}"
          ],
          [
           "{'max_depth': 3, 'max_features': 'log2', 'min_samples_split': 9, 'n_estimators': 130}"
          ],
          [
           "{'max_depth': 3, 'max_features': 'log2', 'min_samples_split': 12, 'n_estimators': 50}"
          ],
          [
           "{'max_depth': 3, 'max_features': 'log2', 'min_samples_split': 12, 'n_estimators': 80}"
          ],
          [
           "{'max_depth': 3, 'max_features': 'log2', 'min_samples_split': 12, 'n_estimators': 110}"
          ],
          [
           "{'max_depth': 3, 'max_features': 'log2', 'min_samples_split': 12, 'n_estimators': 130}"
          ],
          [
           "{'max_depth': 6, 'max_features': 'sqrt', 'min_samples_split': 3, 'n_estimators': 50}"
          ],
          [
           "{'max_depth': 6, 'max_features': 'sqrt', 'min_samples_split': 3, 'n_estimators': 80}"
          ],
          [
           "{'max_depth': 6, 'max_features': 'sqrt', 'min_samples_split': 3, 'n_estimators': 110}"
          ],
          [
           "{'max_depth': 6, 'max_features': 'sqrt', 'min_samples_split': 3, 'n_estimators': 130}"
          ],
          [
           "{'max_depth': 6, 'max_features': 'sqrt', 'min_samples_split': 6, 'n_estimators': 50}"
          ],
          [
           "{'max_depth': 6, 'max_features': 'sqrt', 'min_samples_split': 6, 'n_estimators': 80}"
          ],
          [
           "{'max_depth': 6, 'max_features': 'sqrt', 'min_samples_split': 6, 'n_estimators': 110}"
          ],
          [
           "{'max_depth': 6, 'max_features': 'sqrt', 'min_samples_split': 6, 'n_estimators': 130}"
          ],
          [
           "{'max_depth': 6, 'max_features': 'sqrt', 'min_samples_split': 9, 'n_estimators': 50}"
          ],
          [
           "{'max_depth': 6, 'max_features': 'sqrt', 'min_samples_split': 9, 'n_estimators': 80}"
          ],
          [
           "{'max_depth': 6, 'max_features': 'sqrt', 'min_samples_split': 9, 'n_estimators': 110}"
          ],
          [
           "{'max_depth': 6, 'max_features': 'sqrt', 'min_samples_split': 9, 'n_estimators': 130}"
          ],
          [
           "{'max_depth': 6, 'max_features': 'sqrt', 'min_samples_split': 12, 'n_estimators': 50}"
          ],
          [
           "{'max_depth': 6, 'max_features': 'sqrt', 'min_samples_split': 12, 'n_estimators': 80}"
          ],
          [
           "{'max_depth': 6, 'max_features': 'sqrt', 'min_samples_split': 12, 'n_estimators': 110}"
          ],
          [
           "{'max_depth': 6, 'max_features': 'sqrt', 'min_samples_split': 12, 'n_estimators': 130}"
          ],
          [
           "{'max_depth': 6, 'max_features': 'log2', 'min_samples_split': 3, 'n_estimators': 50}"
          ],
          [
           "{'max_depth': 6, 'max_features': 'log2', 'min_samples_split': 3, 'n_estimators': 80}"
          ],
          [
           "{'max_depth': 6, 'max_features': 'log2', 'min_samples_split': 3, 'n_estimators': 110}"
          ],
          [
           "{'max_depth': 6, 'max_features': 'log2', 'min_samples_split': 3, 'n_estimators': 130}"
          ],
          [
           "{'max_depth': 6, 'max_features': 'log2', 'min_samples_split': 6, 'n_estimators': 50}"
          ],
          [
           "{'max_depth': 6, 'max_features': 'log2', 'min_samples_split': 6, 'n_estimators': 80}"
          ],
          [
           "{'max_depth': 6, 'max_features': 'log2', 'min_samples_split': 6, 'n_estimators': 110}"
          ],
          [
           "{'max_depth': 6, 'max_features': 'log2', 'min_samples_split': 6, 'n_estimators': 130}"
          ],
          [
           "{'max_depth': 6, 'max_features': 'log2', 'min_samples_split': 9, 'n_estimators': 50}"
          ],
          [
           "{'max_depth': 6, 'max_features': 'log2', 'min_samples_split': 9, 'n_estimators': 80}"
          ],
          [
           "{'max_depth': 6, 'max_features': 'log2', 'min_samples_split': 9, 'n_estimators': 110}"
          ],
          [
           "{'max_depth': 6, 'max_features': 'log2', 'min_samples_split': 9, 'n_estimators': 130}"
          ],
          [
           "{'max_depth': 6, 'max_features': 'log2', 'min_samples_split': 12, 'n_estimators': 50}"
          ],
          [
           "{'max_depth': 6, 'max_features': 'log2', 'min_samples_split': 12, 'n_estimators': 80}"
          ],
          [
           "{'max_depth': 6, 'max_features': 'log2', 'min_samples_split': 12, 'n_estimators': 110}"
          ],
          [
           "{'max_depth': 6, 'max_features': 'log2', 'min_samples_split': 12, 'n_estimators': 130}"
          ],
          [
           "{'max_depth': 9, 'max_features': 'sqrt', 'min_samples_split': 3, 'n_estimators': 50}"
          ],
          [
           "{'max_depth': 9, 'max_features': 'sqrt', 'min_samples_split': 3, 'n_estimators': 80}"
          ],
          [
           "{'max_depth': 9, 'max_features': 'sqrt', 'min_samples_split': 3, 'n_estimators': 110}"
          ],
          [
           "{'max_depth': 9, 'max_features': 'sqrt', 'min_samples_split': 3, 'n_estimators': 130}"
          ],
          [
           "{'max_depth': 9, 'max_features': 'sqrt', 'min_samples_split': 6, 'n_estimators': 50}"
          ],
          [
           "{'max_depth': 9, 'max_features': 'sqrt', 'min_samples_split': 6, 'n_estimators': 80}"
          ],
          [
           "{'max_depth': 9, 'max_features': 'sqrt', 'min_samples_split': 6, 'n_estimators': 110}"
          ],
          [
           "{'max_depth': 9, 'max_features': 'sqrt', 'min_samples_split': 6, 'n_estimators': 130}"
          ],
          [
           "{'max_depth': 9, 'max_features': 'sqrt', 'min_samples_split': 9, 'n_estimators': 50}"
          ],
          [
           "{'max_depth': 9, 'max_features': 'sqrt', 'min_samples_split': 9, 'n_estimators': 80}"
          ],
          [
           "{'max_depth': 9, 'max_features': 'sqrt', 'min_samples_split': 9, 'n_estimators': 110}"
          ],
          [
           "{'max_depth': 9, 'max_features': 'sqrt', 'min_samples_split': 9, 'n_estimators': 130}"
          ],
          [
           "{'max_depth': 9, 'max_features': 'sqrt', 'min_samples_split': 12, 'n_estimators': 50}"
          ],
          [
           "{'max_depth': 9, 'max_features': 'sqrt', 'min_samples_split': 12, 'n_estimators': 80}"
          ],
          [
           "{'max_depth': 9, 'max_features': 'sqrt', 'min_samples_split': 12, 'n_estimators': 110}"
          ],
          [
           "{'max_depth': 9, 'max_features': 'sqrt', 'min_samples_split': 12, 'n_estimators': 130}"
          ],
          [
           "{'max_depth': 9, 'max_features': 'log2', 'min_samples_split': 3, 'n_estimators': 50}"
          ],
          [
           "{'max_depth': 9, 'max_features': 'log2', 'min_samples_split': 3, 'n_estimators': 80}"
          ],
          [
           "{'max_depth': 9, 'max_features': 'log2', 'min_samples_split': 3, 'n_estimators': 110}"
          ],
          [
           "{'max_depth': 9, 'max_features': 'log2', 'min_samples_split': 3, 'n_estimators': 130}"
          ],
          [
           "{'max_depth': 9, 'max_features': 'log2', 'min_samples_split': 6, 'n_estimators': 50}"
          ],
          [
           "{'max_depth': 9, 'max_features': 'log2', 'min_samples_split': 6, 'n_estimators': 80}"
          ],
          [
           "{'max_depth': 9, 'max_features': 'log2', 'min_samples_split': 6, 'n_estimators': 110}"
          ],
          [
           "{'max_depth': 9, 'max_features': 'log2', 'min_samples_split': 6, 'n_estimators': 130}"
          ],
          [
           "{'max_depth': 9, 'max_features': 'log2', 'min_samples_split': 9, 'n_estimators': 50}"
          ],
          [
           "{'max_depth': 9, 'max_features': 'log2', 'min_samples_split': 9, 'n_estimators': 80}"
          ],
          [
           "{'max_depth': 9, 'max_features': 'log2', 'min_samples_split': 9, 'n_estimators': 110}"
          ],
          [
           "{'max_depth': 9, 'max_features': 'log2', 'min_samples_split': 9, 'n_estimators': 130}"
          ],
          [
           "{'max_depth': 9, 'max_features': 'log2', 'min_samples_split': 12, 'n_estimators': 50}"
          ],
          [
           "{'max_depth': 9, 'max_features': 'log2', 'min_samples_split': 12, 'n_estimators': 80}"
          ],
          [
           "{'max_depth': 9, 'max_features': 'log2', 'min_samples_split': 12, 'n_estimators': 110}"
          ],
          [
           "{'max_depth': 9, 'max_features': 'log2', 'min_samples_split': 12, 'n_estimators': 130}"
          ]
         ],
         "error_y": {
          "array": [
           0.020245004957530385,
           0.027021027837495375,
           0.016883103690598845,
           0.0164546448297278,
           0.012395772851804236,
           0.012220783353994782,
           0.016897165540294308,
           0.01998675314913147,
           0.023113527406155257,
           0.01875047623686037,
           0.015026415845525819,
           0.013299684022341562,
           0.022656111625717904,
           0.018489681136271828,
           0.01634264472588273,
           0.023011758584026366,
           0.014828031165543012,
           0.015390093434419461,
           0.013561673582744025,
           0.01751045026308927,
           0.018939093069780335,
           0.023323078129367063,
           0.02255994916034119,
           0.012662136507948006,
           0.021452250346518827,
           0.02216815680662198,
           0.012117776649763058,
           0.012833347221774384,
           0.02157541272187288,
           0.013309419484541314,
           0.01893981492381768,
           0.011463917937719382,
           0.04078778802947891,
           0.03995601414407423,
           0.012001005581885795,
           0.023075723291755112,
           0.03220359156832818,
           0.03721792656817157,
           0.028233579366565318,
           0.028131553326822826,
           0.03543701931027632,
           0.038183281990110375,
           0.04790816634661961,
           0.04234246547912252,
           0.022389078969988103,
           0.02806511366664738,
           0.02466920433706377,
           0.03947478788110578,
           0.03299847915271911,
           0.041973655300443044,
           0.046487014511719355,
           0.032585844273068675,
           0.03335239663504445,
           0.01732030765145766,
           0.039153612304202286,
           0.026849453532581204,
           0.0269952991324479,
           0.03665513382840694,
           0.0368520461109379,
           0.03494337644824934,
           0.04041310593059678,
           0.035474263575611675,
           0.03228792066316876,
           0.04210123560169538,
           0.027416479627437745,
           0.018592769376113306,
           0.036572937996051214,
           0.034090091149623136,
           0.03904882994081444,
           0.042602285433708184,
           0.01904906242285373,
           0.018467495833942246,
           0.037497383332423695,
           0.02795680843146036,
           0.021885119665254364,
           0.017291089973108315,
           0.041124367117027265,
           0.027379282402936717,
           0.03365757278277511,
           0.029219470457878628,
           0.023979043564063014,
           0.01660121470325397,
           0.03159107233831006,
           0.03131830606662963,
           0.04046961494313938,
           0.02804750162218804,
           0.024308128868777996,
           0.017506815279008665,
           0.017619829293634547,
           0.03157923844447401,
           0.034586139850181066,
           0.01982268026085152,
           0.02070992547261608,
           0.039596074859275604,
           0.012979105690885478,
           0.018888812363701508
          ]
         },
         "hovertemplate": "<b>%{hovertext}</b><br><br>type=test<br>Params=%{x}<br>Average f1=%{y}<br>params=%{customdata[0]}<extra></extra>",
         "hovertext": [
          "{'max_depth': 3, 'max_features': 'sqrt', 'min_samples_split': 3, 'n_estimators': 50}",
          "{'max_depth': 3, 'max_features': 'sqrt', 'min_samples_split': 3, 'n_estimators': 80}",
          "{'max_depth': 3, 'max_features': 'sqrt', 'min_samples_split': 3, 'n_estimators': 110}",
          "{'max_depth': 3, 'max_features': 'sqrt', 'min_samples_split': 3, 'n_estimators': 130}",
          "{'max_depth': 3, 'max_features': 'sqrt', 'min_samples_split': 6, 'n_estimators': 50}",
          "{'max_depth': 3, 'max_features': 'sqrt', 'min_samples_split': 6, 'n_estimators': 80}",
          "{'max_depth': 3, 'max_features': 'sqrt', 'min_samples_split': 6, 'n_estimators': 110}",
          "{'max_depth': 3, 'max_features': 'sqrt', 'min_samples_split': 6, 'n_estimators': 130}",
          "{'max_depth': 3, 'max_features': 'sqrt', 'min_samples_split': 9, 'n_estimators': 50}",
          "{'max_depth': 3, 'max_features': 'sqrt', 'min_samples_split': 9, 'n_estimators': 80}",
          "{'max_depth': 3, 'max_features': 'sqrt', 'min_samples_split': 9, 'n_estimators': 110}",
          "{'max_depth': 3, 'max_features': 'sqrt', 'min_samples_split': 9, 'n_estimators': 130}",
          "{'max_depth': 3, 'max_features': 'sqrt', 'min_samples_split': 12, 'n_estimators': 50}",
          "{'max_depth': 3, 'max_features': 'sqrt', 'min_samples_split': 12, 'n_estimators': 80}",
          "{'max_depth': 3, 'max_features': 'sqrt', 'min_samples_split': 12, 'n_estimators': 110}",
          "{'max_depth': 3, 'max_features': 'sqrt', 'min_samples_split': 12, 'n_estimators': 130}",
          "{'max_depth': 3, 'max_features': 'log2', 'min_samples_split': 3, 'n_estimators': 50}",
          "{'max_depth': 3, 'max_features': 'log2', 'min_samples_split': 3, 'n_estimators': 80}",
          "{'max_depth': 3, 'max_features': 'log2', 'min_samples_split': 3, 'n_estimators': 110}",
          "{'max_depth': 3, 'max_features': 'log2', 'min_samples_split': 3, 'n_estimators': 130}",
          "{'max_depth': 3, 'max_features': 'log2', 'min_samples_split': 6, 'n_estimators': 50}",
          "{'max_depth': 3, 'max_features': 'log2', 'min_samples_split': 6, 'n_estimators': 80}",
          "{'max_depth': 3, 'max_features': 'log2', 'min_samples_split': 6, 'n_estimators': 110}",
          "{'max_depth': 3, 'max_features': 'log2', 'min_samples_split': 6, 'n_estimators': 130}",
          "{'max_depth': 3, 'max_features': 'log2', 'min_samples_split': 9, 'n_estimators': 50}",
          "{'max_depth': 3, 'max_features': 'log2', 'min_samples_split': 9, 'n_estimators': 80}",
          "{'max_depth': 3, 'max_features': 'log2', 'min_samples_split': 9, 'n_estimators': 110}",
          "{'max_depth': 3, 'max_features': 'log2', 'min_samples_split': 9, 'n_estimators': 130}",
          "{'max_depth': 3, 'max_features': 'log2', 'min_samples_split': 12, 'n_estimators': 50}",
          "{'max_depth': 3, 'max_features': 'log2', 'min_samples_split': 12, 'n_estimators': 80}",
          "{'max_depth': 3, 'max_features': 'log2', 'min_samples_split': 12, 'n_estimators': 110}",
          "{'max_depth': 3, 'max_features': 'log2', 'min_samples_split': 12, 'n_estimators': 130}",
          "{'max_depth': 6, 'max_features': 'sqrt', 'min_samples_split': 3, 'n_estimators': 50}",
          "{'max_depth': 6, 'max_features': 'sqrt', 'min_samples_split': 3, 'n_estimators': 80}",
          "{'max_depth': 6, 'max_features': 'sqrt', 'min_samples_split': 3, 'n_estimators': 110}",
          "{'max_depth': 6, 'max_features': 'sqrt', 'min_samples_split': 3, 'n_estimators': 130}",
          "{'max_depth': 6, 'max_features': 'sqrt', 'min_samples_split': 6, 'n_estimators': 50}",
          "{'max_depth': 6, 'max_features': 'sqrt', 'min_samples_split': 6, 'n_estimators': 80}",
          "{'max_depth': 6, 'max_features': 'sqrt', 'min_samples_split': 6, 'n_estimators': 110}",
          "{'max_depth': 6, 'max_features': 'sqrt', 'min_samples_split': 6, 'n_estimators': 130}",
          "{'max_depth': 6, 'max_features': 'sqrt', 'min_samples_split': 9, 'n_estimators': 50}",
          "{'max_depth': 6, 'max_features': 'sqrt', 'min_samples_split': 9, 'n_estimators': 80}",
          "{'max_depth': 6, 'max_features': 'sqrt', 'min_samples_split': 9, 'n_estimators': 110}",
          "{'max_depth': 6, 'max_features': 'sqrt', 'min_samples_split': 9, 'n_estimators': 130}",
          "{'max_depth': 6, 'max_features': 'sqrt', 'min_samples_split': 12, 'n_estimators': 50}",
          "{'max_depth': 6, 'max_features': 'sqrt', 'min_samples_split': 12, 'n_estimators': 80}",
          "{'max_depth': 6, 'max_features': 'sqrt', 'min_samples_split': 12, 'n_estimators': 110}",
          "{'max_depth': 6, 'max_features': 'sqrt', 'min_samples_split': 12, 'n_estimators': 130}",
          "{'max_depth': 6, 'max_features': 'log2', 'min_samples_split': 3, 'n_estimators': 50}",
          "{'max_depth': 6, 'max_features': 'log2', 'min_samples_split': 3, 'n_estimators': 80}",
          "{'max_depth': 6, 'max_features': 'log2', 'min_samples_split': 3, 'n_estimators': 110}",
          "{'max_depth': 6, 'max_features': 'log2', 'min_samples_split': 3, 'n_estimators': 130}",
          "{'max_depth': 6, 'max_features': 'log2', 'min_samples_split': 6, 'n_estimators': 50}",
          "{'max_depth': 6, 'max_features': 'log2', 'min_samples_split': 6, 'n_estimators': 80}",
          "{'max_depth': 6, 'max_features': 'log2', 'min_samples_split': 6, 'n_estimators': 110}",
          "{'max_depth': 6, 'max_features': 'log2', 'min_samples_split': 6, 'n_estimators': 130}",
          "{'max_depth': 6, 'max_features': 'log2', 'min_samples_split': 9, 'n_estimators': 50}",
          "{'max_depth': 6, 'max_features': 'log2', 'min_samples_split': 9, 'n_estimators': 80}",
          "{'max_depth': 6, 'max_features': 'log2', 'min_samples_split': 9, 'n_estimators': 110}",
          "{'max_depth': 6, 'max_features': 'log2', 'min_samples_split': 9, 'n_estimators': 130}",
          "{'max_depth': 6, 'max_features': 'log2', 'min_samples_split': 12, 'n_estimators': 50}",
          "{'max_depth': 6, 'max_features': 'log2', 'min_samples_split': 12, 'n_estimators': 80}",
          "{'max_depth': 6, 'max_features': 'log2', 'min_samples_split': 12, 'n_estimators': 110}",
          "{'max_depth': 6, 'max_features': 'log2', 'min_samples_split': 12, 'n_estimators': 130}",
          "{'max_depth': 9, 'max_features': 'sqrt', 'min_samples_split': 3, 'n_estimators': 50}",
          "{'max_depth': 9, 'max_features': 'sqrt', 'min_samples_split': 3, 'n_estimators': 80}",
          "{'max_depth': 9, 'max_features': 'sqrt', 'min_samples_split': 3, 'n_estimators': 110}",
          "{'max_depth': 9, 'max_features': 'sqrt', 'min_samples_split': 3, 'n_estimators': 130}",
          "{'max_depth': 9, 'max_features': 'sqrt', 'min_samples_split': 6, 'n_estimators': 50}",
          "{'max_depth': 9, 'max_features': 'sqrt', 'min_samples_split': 6, 'n_estimators': 80}",
          "{'max_depth': 9, 'max_features': 'sqrt', 'min_samples_split': 6, 'n_estimators': 110}",
          "{'max_depth': 9, 'max_features': 'sqrt', 'min_samples_split': 6, 'n_estimators': 130}",
          "{'max_depth': 9, 'max_features': 'sqrt', 'min_samples_split': 9, 'n_estimators': 50}",
          "{'max_depth': 9, 'max_features': 'sqrt', 'min_samples_split': 9, 'n_estimators': 80}",
          "{'max_depth': 9, 'max_features': 'sqrt', 'min_samples_split': 9, 'n_estimators': 110}",
          "{'max_depth': 9, 'max_features': 'sqrt', 'min_samples_split': 9, 'n_estimators': 130}",
          "{'max_depth': 9, 'max_features': 'sqrt', 'min_samples_split': 12, 'n_estimators': 50}",
          "{'max_depth': 9, 'max_features': 'sqrt', 'min_samples_split': 12, 'n_estimators': 80}",
          "{'max_depth': 9, 'max_features': 'sqrt', 'min_samples_split': 12, 'n_estimators': 110}",
          "{'max_depth': 9, 'max_features': 'sqrt', 'min_samples_split': 12, 'n_estimators': 130}",
          "{'max_depth': 9, 'max_features': 'log2', 'min_samples_split': 3, 'n_estimators': 50}",
          "{'max_depth': 9, 'max_features': 'log2', 'min_samples_split': 3, 'n_estimators': 80}",
          "{'max_depth': 9, 'max_features': 'log2', 'min_samples_split': 3, 'n_estimators': 110}",
          "{'max_depth': 9, 'max_features': 'log2', 'min_samples_split': 3, 'n_estimators': 130}",
          "{'max_depth': 9, 'max_features': 'log2', 'min_samples_split': 6, 'n_estimators': 50}",
          "{'max_depth': 9, 'max_features': 'log2', 'min_samples_split': 6, 'n_estimators': 80}",
          "{'max_depth': 9, 'max_features': 'log2', 'min_samples_split': 6, 'n_estimators': 110}",
          "{'max_depth': 9, 'max_features': 'log2', 'min_samples_split': 6, 'n_estimators': 130}",
          "{'max_depth': 9, 'max_features': 'log2', 'min_samples_split': 9, 'n_estimators': 50}",
          "{'max_depth': 9, 'max_features': 'log2', 'min_samples_split': 9, 'n_estimators': 80}",
          "{'max_depth': 9, 'max_features': 'log2', 'min_samples_split': 9, 'n_estimators': 110}",
          "{'max_depth': 9, 'max_features': 'log2', 'min_samples_split': 9, 'n_estimators': 130}",
          "{'max_depth': 9, 'max_features': 'log2', 'min_samples_split': 12, 'n_estimators': 50}",
          "{'max_depth': 9, 'max_features': 'log2', 'min_samples_split': 12, 'n_estimators': 80}",
          "{'max_depth': 9, 'max_features': 'log2', 'min_samples_split': 12, 'n_estimators': 110}",
          "{'max_depth': 9, 'max_features': 'log2', 'min_samples_split': 12, 'n_estimators': 130}"
         ],
         "legendgroup": "test",
         "marker": {
          "color": "#636efa",
          "pattern": {
           "shape": ""
          }
         },
         "name": "test",
         "offsetgroup": "test",
         "orientation": "v",
         "showlegend": true,
         "textposition": "auto",
         "type": "bar",
         "x": [
          0,
          1,
          2,
          3,
          4,
          5,
          6,
          7,
          8,
          9,
          10,
          11,
          12,
          13,
          14,
          15,
          16,
          17,
          18,
          19,
          20,
          21,
          22,
          23,
          24,
          25,
          26,
          27,
          28,
          29,
          30,
          31,
          32,
          33,
          34,
          35,
          36,
          37,
          38,
          39,
          40,
          41,
          42,
          43,
          44,
          45,
          46,
          47,
          48,
          49,
          50,
          51,
          52,
          53,
          54,
          55,
          56,
          57,
          58,
          59,
          60,
          61,
          62,
          63,
          64,
          65,
          66,
          67,
          68,
          69,
          70,
          71,
          72,
          73,
          74,
          75,
          76,
          77,
          78,
          79,
          80,
          81,
          82,
          83,
          84,
          85,
          86,
          87,
          88,
          89,
          90,
          91,
          92,
          93,
          94,
          95
         ],
         "xaxis": "x",
         "y": [
          0.0993162475895199,
          0.09206207507798694,
          0.0806782838436682,
          0.07783394136866623,
          0.0984695582140542,
          0.09561476281604589,
          0.0851028480618399,
          0.0912218830075522,
          0.09107470125161714,
          0.09350815886213751,
          0.09232521478159687,
          0.08398514249717406,
          0.0837352676276782,
          0.08521219461373472,
          0.08237065310359196,
          0.08388899699147234,
          0.08523265297334742,
          0.0867216531090358,
          0.09228512082309523,
          0.09377875234941149,
          0.09272158224965203,
          0.09124139880850088,
          0.09080129983788755,
          0.09671175790868716,
          0.0837537490681507,
          0.09506264608176565,
          0.09112252336729411,
          0.0881725966874413,
          0.08930168186594135,
          0.09109276245392398,
          0.08671232736713672,
          0.08966378123357202,
          0.23400363336893526,
          0.2336159328901494,
          0.21315186459707017,
          0.2192458293448393,
          0.2285566849973651,
          0.22294056942549667,
          0.22759834945248061,
          0.21019858503946237,
          0.24408065819341668,
          0.21314969441716175,
          0.22536268508906945,
          0.21730104683990806,
          0.2127682973294942,
          0.21403615414257252,
          0.21097147320706505,
          0.214052152363592,
          0.24151639959727267,
          0.23297991134839977,
          0.23421566134966415,
          0.2098044150979354,
          0.22532802753157086,
          0.21814497858898982,
          0.20691966978384574,
          0.21236272279357965,
          0.22465583333712336,
          0.22048534732037325,
          0.21469748242691758,
          0.22553436006734398,
          0.23507015240449505,
          0.21638078765766658,
          0.2245649875342755,
          0.22956223248037722,
          0.32049846753914546,
          0.3234924939385449,
          0.30722281843249516,
          0.31022681499922355,
          0.30347359555569875,
          0.31855663873474993,
          0.3183863352609342,
          0.320400704527461,
          0.3048050901712631,
          0.31499364842771804,
          0.3117784742665987,
          0.3239295985436369,
          0.3153763613722764,
          0.31200351823722006,
          0.3141951263096173,
          0.31615667877562054,
          0.32122564513169244,
          0.32277455958842793,
          0.30769968693461763,
          0.3126889275098994,
          0.304600927227603,
          0.30938649300170107,
          0.32211703346820403,
          0.32537662006300333,
          0.3101682343442116,
          0.29510495015449223,
          0.3168967754258168,
          0.30887920100053956,
          0.31713712551926226,
          0.3255578362912216,
          0.2994600714552847,
          0.3141707699644492
         ],
         "yaxis": "y"
        },
        {
         "alignmentgroup": "True",
         "customdata": [
          [
           "{'max_depth': 3, 'max_features': 'sqrt', 'min_samples_split': 3, 'n_estimators': 50}"
          ],
          [
           "{'max_depth': 3, 'max_features': 'sqrt', 'min_samples_split': 3, 'n_estimators': 80}"
          ],
          [
           "{'max_depth': 3, 'max_features': 'sqrt', 'min_samples_split': 3, 'n_estimators': 110}"
          ],
          [
           "{'max_depth': 3, 'max_features': 'sqrt', 'min_samples_split': 3, 'n_estimators': 130}"
          ],
          [
           "{'max_depth': 3, 'max_features': 'sqrt', 'min_samples_split': 6, 'n_estimators': 50}"
          ],
          [
           "{'max_depth': 3, 'max_features': 'sqrt', 'min_samples_split': 6, 'n_estimators': 80}"
          ],
          [
           "{'max_depth': 3, 'max_features': 'sqrt', 'min_samples_split': 6, 'n_estimators': 110}"
          ],
          [
           "{'max_depth': 3, 'max_features': 'sqrt', 'min_samples_split': 6, 'n_estimators': 130}"
          ],
          [
           "{'max_depth': 3, 'max_features': 'sqrt', 'min_samples_split': 9, 'n_estimators': 50}"
          ],
          [
           "{'max_depth': 3, 'max_features': 'sqrt', 'min_samples_split': 9, 'n_estimators': 80}"
          ],
          [
           "{'max_depth': 3, 'max_features': 'sqrt', 'min_samples_split': 9, 'n_estimators': 110}"
          ],
          [
           "{'max_depth': 3, 'max_features': 'sqrt', 'min_samples_split': 9, 'n_estimators': 130}"
          ],
          [
           "{'max_depth': 3, 'max_features': 'sqrt', 'min_samples_split': 12, 'n_estimators': 50}"
          ],
          [
           "{'max_depth': 3, 'max_features': 'sqrt', 'min_samples_split': 12, 'n_estimators': 80}"
          ],
          [
           "{'max_depth': 3, 'max_features': 'sqrt', 'min_samples_split': 12, 'n_estimators': 110}"
          ],
          [
           "{'max_depth': 3, 'max_features': 'sqrt', 'min_samples_split': 12, 'n_estimators': 130}"
          ],
          [
           "{'max_depth': 3, 'max_features': 'log2', 'min_samples_split': 3, 'n_estimators': 50}"
          ],
          [
           "{'max_depth': 3, 'max_features': 'log2', 'min_samples_split': 3, 'n_estimators': 80}"
          ],
          [
           "{'max_depth': 3, 'max_features': 'log2', 'min_samples_split': 3, 'n_estimators': 110}"
          ],
          [
           "{'max_depth': 3, 'max_features': 'log2', 'min_samples_split': 3, 'n_estimators': 130}"
          ],
          [
           "{'max_depth': 3, 'max_features': 'log2', 'min_samples_split': 6, 'n_estimators': 50}"
          ],
          [
           "{'max_depth': 3, 'max_features': 'log2', 'min_samples_split': 6, 'n_estimators': 80}"
          ],
          [
           "{'max_depth': 3, 'max_features': 'log2', 'min_samples_split': 6, 'n_estimators': 110}"
          ],
          [
           "{'max_depth': 3, 'max_features': 'log2', 'min_samples_split': 6, 'n_estimators': 130}"
          ],
          [
           "{'max_depth': 3, 'max_features': 'log2', 'min_samples_split': 9, 'n_estimators': 50}"
          ],
          [
           "{'max_depth': 3, 'max_features': 'log2', 'min_samples_split': 9, 'n_estimators': 80}"
          ],
          [
           "{'max_depth': 3, 'max_features': 'log2', 'min_samples_split': 9, 'n_estimators': 110}"
          ],
          [
           "{'max_depth': 3, 'max_features': 'log2', 'min_samples_split': 9, 'n_estimators': 130}"
          ],
          [
           "{'max_depth': 3, 'max_features': 'log2', 'min_samples_split': 12, 'n_estimators': 50}"
          ],
          [
           "{'max_depth': 3, 'max_features': 'log2', 'min_samples_split': 12, 'n_estimators': 80}"
          ],
          [
           "{'max_depth': 3, 'max_features': 'log2', 'min_samples_split': 12, 'n_estimators': 110}"
          ],
          [
           "{'max_depth': 3, 'max_features': 'log2', 'min_samples_split': 12, 'n_estimators': 130}"
          ],
          [
           "{'max_depth': 6, 'max_features': 'sqrt', 'min_samples_split': 3, 'n_estimators': 50}"
          ],
          [
           "{'max_depth': 6, 'max_features': 'sqrt', 'min_samples_split': 3, 'n_estimators': 80}"
          ],
          [
           "{'max_depth': 6, 'max_features': 'sqrt', 'min_samples_split': 3, 'n_estimators': 110}"
          ],
          [
           "{'max_depth': 6, 'max_features': 'sqrt', 'min_samples_split': 3, 'n_estimators': 130}"
          ],
          [
           "{'max_depth': 6, 'max_features': 'sqrt', 'min_samples_split': 6, 'n_estimators': 50}"
          ],
          [
           "{'max_depth': 6, 'max_features': 'sqrt', 'min_samples_split': 6, 'n_estimators': 80}"
          ],
          [
           "{'max_depth': 6, 'max_features': 'sqrt', 'min_samples_split': 6, 'n_estimators': 110}"
          ],
          [
           "{'max_depth': 6, 'max_features': 'sqrt', 'min_samples_split': 6, 'n_estimators': 130}"
          ],
          [
           "{'max_depth': 6, 'max_features': 'sqrt', 'min_samples_split': 9, 'n_estimators': 50}"
          ],
          [
           "{'max_depth': 6, 'max_features': 'sqrt', 'min_samples_split': 9, 'n_estimators': 80}"
          ],
          [
           "{'max_depth': 6, 'max_features': 'sqrt', 'min_samples_split': 9, 'n_estimators': 110}"
          ],
          [
           "{'max_depth': 6, 'max_features': 'sqrt', 'min_samples_split': 9, 'n_estimators': 130}"
          ],
          [
           "{'max_depth': 6, 'max_features': 'sqrt', 'min_samples_split': 12, 'n_estimators': 50}"
          ],
          [
           "{'max_depth': 6, 'max_features': 'sqrt', 'min_samples_split': 12, 'n_estimators': 80}"
          ],
          [
           "{'max_depth': 6, 'max_features': 'sqrt', 'min_samples_split': 12, 'n_estimators': 110}"
          ],
          [
           "{'max_depth': 6, 'max_features': 'sqrt', 'min_samples_split': 12, 'n_estimators': 130}"
          ],
          [
           "{'max_depth': 6, 'max_features': 'log2', 'min_samples_split': 3, 'n_estimators': 50}"
          ],
          [
           "{'max_depth': 6, 'max_features': 'log2', 'min_samples_split': 3, 'n_estimators': 80}"
          ],
          [
           "{'max_depth': 6, 'max_features': 'log2', 'min_samples_split': 3, 'n_estimators': 110}"
          ],
          [
           "{'max_depth': 6, 'max_features': 'log2', 'min_samples_split': 3, 'n_estimators': 130}"
          ],
          [
           "{'max_depth': 6, 'max_features': 'log2', 'min_samples_split': 6, 'n_estimators': 50}"
          ],
          [
           "{'max_depth': 6, 'max_features': 'log2', 'min_samples_split': 6, 'n_estimators': 80}"
          ],
          [
           "{'max_depth': 6, 'max_features': 'log2', 'min_samples_split': 6, 'n_estimators': 110}"
          ],
          [
           "{'max_depth': 6, 'max_features': 'log2', 'min_samples_split': 6, 'n_estimators': 130}"
          ],
          [
           "{'max_depth': 6, 'max_features': 'log2', 'min_samples_split': 9, 'n_estimators': 50}"
          ],
          [
           "{'max_depth': 6, 'max_features': 'log2', 'min_samples_split': 9, 'n_estimators': 80}"
          ],
          [
           "{'max_depth': 6, 'max_features': 'log2', 'min_samples_split': 9, 'n_estimators': 110}"
          ],
          [
           "{'max_depth': 6, 'max_features': 'log2', 'min_samples_split': 9, 'n_estimators': 130}"
          ],
          [
           "{'max_depth': 6, 'max_features': 'log2', 'min_samples_split': 12, 'n_estimators': 50}"
          ],
          [
           "{'max_depth': 6, 'max_features': 'log2', 'min_samples_split': 12, 'n_estimators': 80}"
          ],
          [
           "{'max_depth': 6, 'max_features': 'log2', 'min_samples_split': 12, 'n_estimators': 110}"
          ],
          [
           "{'max_depth': 6, 'max_features': 'log2', 'min_samples_split': 12, 'n_estimators': 130}"
          ],
          [
           "{'max_depth': 9, 'max_features': 'sqrt', 'min_samples_split': 3, 'n_estimators': 50}"
          ],
          [
           "{'max_depth': 9, 'max_features': 'sqrt', 'min_samples_split': 3, 'n_estimators': 80}"
          ],
          [
           "{'max_depth': 9, 'max_features': 'sqrt', 'min_samples_split': 3, 'n_estimators': 110}"
          ],
          [
           "{'max_depth': 9, 'max_features': 'sqrt', 'min_samples_split': 3, 'n_estimators': 130}"
          ],
          [
           "{'max_depth': 9, 'max_features': 'sqrt', 'min_samples_split': 6, 'n_estimators': 50}"
          ],
          [
           "{'max_depth': 9, 'max_features': 'sqrt', 'min_samples_split': 6, 'n_estimators': 80}"
          ],
          [
           "{'max_depth': 9, 'max_features': 'sqrt', 'min_samples_split': 6, 'n_estimators': 110}"
          ],
          [
           "{'max_depth': 9, 'max_features': 'sqrt', 'min_samples_split': 6, 'n_estimators': 130}"
          ],
          [
           "{'max_depth': 9, 'max_features': 'sqrt', 'min_samples_split': 9, 'n_estimators': 50}"
          ],
          [
           "{'max_depth': 9, 'max_features': 'sqrt', 'min_samples_split': 9, 'n_estimators': 80}"
          ],
          [
           "{'max_depth': 9, 'max_features': 'sqrt', 'min_samples_split': 9, 'n_estimators': 110}"
          ],
          [
           "{'max_depth': 9, 'max_features': 'sqrt', 'min_samples_split': 9, 'n_estimators': 130}"
          ],
          [
           "{'max_depth': 9, 'max_features': 'sqrt', 'min_samples_split': 12, 'n_estimators': 50}"
          ],
          [
           "{'max_depth': 9, 'max_features': 'sqrt', 'min_samples_split': 12, 'n_estimators': 80}"
          ],
          [
           "{'max_depth': 9, 'max_features': 'sqrt', 'min_samples_split': 12, 'n_estimators': 110}"
          ],
          [
           "{'max_depth': 9, 'max_features': 'sqrt', 'min_samples_split': 12, 'n_estimators': 130}"
          ],
          [
           "{'max_depth': 9, 'max_features': 'log2', 'min_samples_split': 3, 'n_estimators': 50}"
          ],
          [
           "{'max_depth': 9, 'max_features': 'log2', 'min_samples_split': 3, 'n_estimators': 80}"
          ],
          [
           "{'max_depth': 9, 'max_features': 'log2', 'min_samples_split': 3, 'n_estimators': 110}"
          ],
          [
           "{'max_depth': 9, 'max_features': 'log2', 'min_samples_split': 3, 'n_estimators': 130}"
          ],
          [
           "{'max_depth': 9, 'max_features': 'log2', 'min_samples_split': 6, 'n_estimators': 50}"
          ],
          [
           "{'max_depth': 9, 'max_features': 'log2', 'min_samples_split': 6, 'n_estimators': 80}"
          ],
          [
           "{'max_depth': 9, 'max_features': 'log2', 'min_samples_split': 6, 'n_estimators': 110}"
          ],
          [
           "{'max_depth': 9, 'max_features': 'log2', 'min_samples_split': 6, 'n_estimators': 130}"
          ],
          [
           "{'max_depth': 9, 'max_features': 'log2', 'min_samples_split': 9, 'n_estimators': 50}"
          ],
          [
           "{'max_depth': 9, 'max_features': 'log2', 'min_samples_split': 9, 'n_estimators': 80}"
          ],
          [
           "{'max_depth': 9, 'max_features': 'log2', 'min_samples_split': 9, 'n_estimators': 110}"
          ],
          [
           "{'max_depth': 9, 'max_features': 'log2', 'min_samples_split': 9, 'n_estimators': 130}"
          ],
          [
           "{'max_depth': 9, 'max_features': 'log2', 'min_samples_split': 12, 'n_estimators': 50}"
          ],
          [
           "{'max_depth': 9, 'max_features': 'log2', 'min_samples_split': 12, 'n_estimators': 80}"
          ],
          [
           "{'max_depth': 9, 'max_features': 'log2', 'min_samples_split': 12, 'n_estimators': 110}"
          ],
          [
           "{'max_depth': 9, 'max_features': 'log2', 'min_samples_split': 12, 'n_estimators': 130}"
          ]
         ],
         "error_y": {
          "array": [
           0.02326394594773156,
           0.02577101982985837,
           0.02110483643857562,
           0.02296524014619155,
           0.024081194103750998,
           0.02080818859845445,
           0.02307575004158003,
           0.02144498706876482,
           0.017178851660330022,
           0.030356971249650998,
           0.019893351055969573,
           0.019056606179830515,
           0.024654969377228997,
           0.014730519543617947,
           0.016228991639262873,
           0.022328087570839223,
           0.024384518024561073,
           0.019072897181293087,
           0.022681346643064693,
           0.021685003158102407,
           0.02656456979626633,
           0.02176425946112399,
           0.015329658077221179,
           0.02842841486071872,
           0.025657779634369306,
           0.021888358441640905,
           0.018569775846545296,
           0.024562396466888067,
           0.016603288522085296,
           0.0322252247052871,
           0.026090368561850107,
           0.02299947628162579,
           0.04235106054115146,
           0.030665054269092745,
           0.034374106175524506,
           0.03198082410217293,
           0.029517915393056607,
           0.026134639391002645,
           0.018955429382758796,
           0.022273682801254024,
           0.017521966951010076,
           0.034783560702770326,
           0.033832340699442055,
           0.026919613525140242,
           0.02688872297443207,
           0.02514092600114189,
           0.036412406337202434,
           0.028108676403866734,
           0.02393106452474932,
           0.035256847015151103,
           0.02267766499085567,
           0.02373413794962153,
           0.026913782971875744,
           0.017889025833938026,
           0.018281229011192158,
           0.03429120887213032,
           0.02396027272627741,
           0.03540280039270857,
           0.020659533058302114,
           0.04717724517209583,
           0.03514422734907279,
           0.0370402047639162,
           0.03014483906506999,
           0.0314699365049069,
           0.015810994605298546,
           0.02521626326090201,
           0.025564323305169234,
           0.02169329016362952,
           0.020662762819596517,
           0.02282682395828754,
           0.020923933286482378,
           0.029447320359720894,
           0.015563326305586626,
           0.029145642474938078,
           0.019239318886257663,
           0.03152900760235036,
           0.024245200313014127,
           0.01590556264163295,
           0.017711479621390542,
           0.0159645468815418,
           0.026489233221943045,
           0.01868783673875244,
           0.024240953605237363,
           0.018849707339069845,
           0.03166729018018511,
           0.030386910917770647,
           0.02172528828542107,
           0.022466634482471635,
           0.030316069991638932,
           0.01513172623560132,
           0.02025394490130272,
           0.024307074078108823,
           0.03120687451224944,
           0.026325554308053317,
           0.02358863734459635,
           0.018521500568243095
          ]
         },
         "hovertemplate": "<b>%{hovertext}</b><br><br>type=train<br>Params=%{x}<br>Average f1=%{y}<br>params=%{customdata[0]}<extra></extra>",
         "hovertext": [
          "{'max_depth': 3, 'max_features': 'sqrt', 'min_samples_split': 3, 'n_estimators': 50}",
          "{'max_depth': 3, 'max_features': 'sqrt', 'min_samples_split': 3, 'n_estimators': 80}",
          "{'max_depth': 3, 'max_features': 'sqrt', 'min_samples_split': 3, 'n_estimators': 110}",
          "{'max_depth': 3, 'max_features': 'sqrt', 'min_samples_split': 3, 'n_estimators': 130}",
          "{'max_depth': 3, 'max_features': 'sqrt', 'min_samples_split': 6, 'n_estimators': 50}",
          "{'max_depth': 3, 'max_features': 'sqrt', 'min_samples_split': 6, 'n_estimators': 80}",
          "{'max_depth': 3, 'max_features': 'sqrt', 'min_samples_split': 6, 'n_estimators': 110}",
          "{'max_depth': 3, 'max_features': 'sqrt', 'min_samples_split': 6, 'n_estimators': 130}",
          "{'max_depth': 3, 'max_features': 'sqrt', 'min_samples_split': 9, 'n_estimators': 50}",
          "{'max_depth': 3, 'max_features': 'sqrt', 'min_samples_split': 9, 'n_estimators': 80}",
          "{'max_depth': 3, 'max_features': 'sqrt', 'min_samples_split': 9, 'n_estimators': 110}",
          "{'max_depth': 3, 'max_features': 'sqrt', 'min_samples_split': 9, 'n_estimators': 130}",
          "{'max_depth': 3, 'max_features': 'sqrt', 'min_samples_split': 12, 'n_estimators': 50}",
          "{'max_depth': 3, 'max_features': 'sqrt', 'min_samples_split': 12, 'n_estimators': 80}",
          "{'max_depth': 3, 'max_features': 'sqrt', 'min_samples_split': 12, 'n_estimators': 110}",
          "{'max_depth': 3, 'max_features': 'sqrt', 'min_samples_split': 12, 'n_estimators': 130}",
          "{'max_depth': 3, 'max_features': 'log2', 'min_samples_split': 3, 'n_estimators': 50}",
          "{'max_depth': 3, 'max_features': 'log2', 'min_samples_split': 3, 'n_estimators': 80}",
          "{'max_depth': 3, 'max_features': 'log2', 'min_samples_split': 3, 'n_estimators': 110}",
          "{'max_depth': 3, 'max_features': 'log2', 'min_samples_split': 3, 'n_estimators': 130}",
          "{'max_depth': 3, 'max_features': 'log2', 'min_samples_split': 6, 'n_estimators': 50}",
          "{'max_depth': 3, 'max_features': 'log2', 'min_samples_split': 6, 'n_estimators': 80}",
          "{'max_depth': 3, 'max_features': 'log2', 'min_samples_split': 6, 'n_estimators': 110}",
          "{'max_depth': 3, 'max_features': 'log2', 'min_samples_split': 6, 'n_estimators': 130}",
          "{'max_depth': 3, 'max_features': 'log2', 'min_samples_split': 9, 'n_estimators': 50}",
          "{'max_depth': 3, 'max_features': 'log2', 'min_samples_split': 9, 'n_estimators': 80}",
          "{'max_depth': 3, 'max_features': 'log2', 'min_samples_split': 9, 'n_estimators': 110}",
          "{'max_depth': 3, 'max_features': 'log2', 'min_samples_split': 9, 'n_estimators': 130}",
          "{'max_depth': 3, 'max_features': 'log2', 'min_samples_split': 12, 'n_estimators': 50}",
          "{'max_depth': 3, 'max_features': 'log2', 'min_samples_split': 12, 'n_estimators': 80}",
          "{'max_depth': 3, 'max_features': 'log2', 'min_samples_split': 12, 'n_estimators': 110}",
          "{'max_depth': 3, 'max_features': 'log2', 'min_samples_split': 12, 'n_estimators': 130}",
          "{'max_depth': 6, 'max_features': 'sqrt', 'min_samples_split': 3, 'n_estimators': 50}",
          "{'max_depth': 6, 'max_features': 'sqrt', 'min_samples_split': 3, 'n_estimators': 80}",
          "{'max_depth': 6, 'max_features': 'sqrt', 'min_samples_split': 3, 'n_estimators': 110}",
          "{'max_depth': 6, 'max_features': 'sqrt', 'min_samples_split': 3, 'n_estimators': 130}",
          "{'max_depth': 6, 'max_features': 'sqrt', 'min_samples_split': 6, 'n_estimators': 50}",
          "{'max_depth': 6, 'max_features': 'sqrt', 'min_samples_split': 6, 'n_estimators': 80}",
          "{'max_depth': 6, 'max_features': 'sqrt', 'min_samples_split': 6, 'n_estimators': 110}",
          "{'max_depth': 6, 'max_features': 'sqrt', 'min_samples_split': 6, 'n_estimators': 130}",
          "{'max_depth': 6, 'max_features': 'sqrt', 'min_samples_split': 9, 'n_estimators': 50}",
          "{'max_depth': 6, 'max_features': 'sqrt', 'min_samples_split': 9, 'n_estimators': 80}",
          "{'max_depth': 6, 'max_features': 'sqrt', 'min_samples_split': 9, 'n_estimators': 110}",
          "{'max_depth': 6, 'max_features': 'sqrt', 'min_samples_split': 9, 'n_estimators': 130}",
          "{'max_depth': 6, 'max_features': 'sqrt', 'min_samples_split': 12, 'n_estimators': 50}",
          "{'max_depth': 6, 'max_features': 'sqrt', 'min_samples_split': 12, 'n_estimators': 80}",
          "{'max_depth': 6, 'max_features': 'sqrt', 'min_samples_split': 12, 'n_estimators': 110}",
          "{'max_depth': 6, 'max_features': 'sqrt', 'min_samples_split': 12, 'n_estimators': 130}",
          "{'max_depth': 6, 'max_features': 'log2', 'min_samples_split': 3, 'n_estimators': 50}",
          "{'max_depth': 6, 'max_features': 'log2', 'min_samples_split': 3, 'n_estimators': 80}",
          "{'max_depth': 6, 'max_features': 'log2', 'min_samples_split': 3, 'n_estimators': 110}",
          "{'max_depth': 6, 'max_features': 'log2', 'min_samples_split': 3, 'n_estimators': 130}",
          "{'max_depth': 6, 'max_features': 'log2', 'min_samples_split': 6, 'n_estimators': 50}",
          "{'max_depth': 6, 'max_features': 'log2', 'min_samples_split': 6, 'n_estimators': 80}",
          "{'max_depth': 6, 'max_features': 'log2', 'min_samples_split': 6, 'n_estimators': 110}",
          "{'max_depth': 6, 'max_features': 'log2', 'min_samples_split': 6, 'n_estimators': 130}",
          "{'max_depth': 6, 'max_features': 'log2', 'min_samples_split': 9, 'n_estimators': 50}",
          "{'max_depth': 6, 'max_features': 'log2', 'min_samples_split': 9, 'n_estimators': 80}",
          "{'max_depth': 6, 'max_features': 'log2', 'min_samples_split': 9, 'n_estimators': 110}",
          "{'max_depth': 6, 'max_features': 'log2', 'min_samples_split': 9, 'n_estimators': 130}",
          "{'max_depth': 6, 'max_features': 'log2', 'min_samples_split': 12, 'n_estimators': 50}",
          "{'max_depth': 6, 'max_features': 'log2', 'min_samples_split': 12, 'n_estimators': 80}",
          "{'max_depth': 6, 'max_features': 'log2', 'min_samples_split': 12, 'n_estimators': 110}",
          "{'max_depth': 6, 'max_features': 'log2', 'min_samples_split': 12, 'n_estimators': 130}",
          "{'max_depth': 9, 'max_features': 'sqrt', 'min_samples_split': 3, 'n_estimators': 50}",
          "{'max_depth': 9, 'max_features': 'sqrt', 'min_samples_split': 3, 'n_estimators': 80}",
          "{'max_depth': 9, 'max_features': 'sqrt', 'min_samples_split': 3, 'n_estimators': 110}",
          "{'max_depth': 9, 'max_features': 'sqrt', 'min_samples_split': 3, 'n_estimators': 130}",
          "{'max_depth': 9, 'max_features': 'sqrt', 'min_samples_split': 6, 'n_estimators': 50}",
          "{'max_depth': 9, 'max_features': 'sqrt', 'min_samples_split': 6, 'n_estimators': 80}",
          "{'max_depth': 9, 'max_features': 'sqrt', 'min_samples_split': 6, 'n_estimators': 110}",
          "{'max_depth': 9, 'max_features': 'sqrt', 'min_samples_split': 6, 'n_estimators': 130}",
          "{'max_depth': 9, 'max_features': 'sqrt', 'min_samples_split': 9, 'n_estimators': 50}",
          "{'max_depth': 9, 'max_features': 'sqrt', 'min_samples_split': 9, 'n_estimators': 80}",
          "{'max_depth': 9, 'max_features': 'sqrt', 'min_samples_split': 9, 'n_estimators': 110}",
          "{'max_depth': 9, 'max_features': 'sqrt', 'min_samples_split': 9, 'n_estimators': 130}",
          "{'max_depth': 9, 'max_features': 'sqrt', 'min_samples_split': 12, 'n_estimators': 50}",
          "{'max_depth': 9, 'max_features': 'sqrt', 'min_samples_split': 12, 'n_estimators': 80}",
          "{'max_depth': 9, 'max_features': 'sqrt', 'min_samples_split': 12, 'n_estimators': 110}",
          "{'max_depth': 9, 'max_features': 'sqrt', 'min_samples_split': 12, 'n_estimators': 130}",
          "{'max_depth': 9, 'max_features': 'log2', 'min_samples_split': 3, 'n_estimators': 50}",
          "{'max_depth': 9, 'max_features': 'log2', 'min_samples_split': 3, 'n_estimators': 80}",
          "{'max_depth': 9, 'max_features': 'log2', 'min_samples_split': 3, 'n_estimators': 110}",
          "{'max_depth': 9, 'max_features': 'log2', 'min_samples_split': 3, 'n_estimators': 130}",
          "{'max_depth': 9, 'max_features': 'log2', 'min_samples_split': 6, 'n_estimators': 50}",
          "{'max_depth': 9, 'max_features': 'log2', 'min_samples_split': 6, 'n_estimators': 80}",
          "{'max_depth': 9, 'max_features': 'log2', 'min_samples_split': 6, 'n_estimators': 110}",
          "{'max_depth': 9, 'max_features': 'log2', 'min_samples_split': 6, 'n_estimators': 130}",
          "{'max_depth': 9, 'max_features': 'log2', 'min_samples_split': 9, 'n_estimators': 50}",
          "{'max_depth': 9, 'max_features': 'log2', 'min_samples_split': 9, 'n_estimators': 80}",
          "{'max_depth': 9, 'max_features': 'log2', 'min_samples_split': 9, 'n_estimators': 110}",
          "{'max_depth': 9, 'max_features': 'log2', 'min_samples_split': 9, 'n_estimators': 130}",
          "{'max_depth': 9, 'max_features': 'log2', 'min_samples_split': 12, 'n_estimators': 50}",
          "{'max_depth': 9, 'max_features': 'log2', 'min_samples_split': 12, 'n_estimators': 80}",
          "{'max_depth': 9, 'max_features': 'log2', 'min_samples_split': 12, 'n_estimators': 110}",
          "{'max_depth': 9, 'max_features': 'log2', 'min_samples_split': 12, 'n_estimators': 130}"
         ],
         "legendgroup": "train",
         "marker": {
          "color": "#EF553B",
          "pattern": {
           "shape": ""
          }
         },
         "name": "train",
         "offsetgroup": "train",
         "orientation": "v",
         "showlegend": true,
         "textposition": "auto",
         "type": "bar",
         "x": [
          0,
          1,
          2,
          3,
          4,
          5,
          6,
          7,
          8,
          9,
          10,
          11,
          12,
          13,
          14,
          15,
          16,
          17,
          18,
          19,
          20,
          21,
          22,
          23,
          24,
          25,
          26,
          27,
          28,
          29,
          30,
          31,
          32,
          33,
          34,
          35,
          36,
          37,
          38,
          39,
          40,
          41,
          42,
          43,
          44,
          45,
          46,
          47,
          48,
          49,
          50,
          51,
          52,
          53,
          54,
          55,
          56,
          57,
          58,
          59,
          60,
          61,
          62,
          63,
          64,
          65,
          66,
          67,
          68,
          69,
          70,
          71,
          72,
          73,
          74,
          75,
          76,
          77,
          78,
          79,
          80,
          81,
          82,
          83,
          84,
          85,
          86,
          87,
          88,
          89,
          90,
          91,
          92,
          93,
          94,
          95
         ],
         "xaxis": "x",
         "y": [
          0.1492955217567539,
          0.1512651463004317,
          0.14811655033984356,
          0.14437125548601099,
          0.14847170057808415,
          0.15009091083720424,
          0.14637733362298122,
          0.14277023462279406,
          0.14651605400892054,
          0.14900746981723886,
          0.15065011204693074,
          0.14041081016120688,
          0.15070709087124223,
          0.1443031982936278,
          0.14665979675733623,
          0.14784093352050137,
          0.14625815785091478,
          0.1451833527754986,
          0.14754880131842313,
          0.1510021203160094,
          0.14589169404709126,
          0.14316529134241876,
          0.1544580007682562,
          0.1515455735121692,
          0.14517677974425255,
          0.1534768402918487,
          0.14624110199946969,
          0.14459391945082462,
          0.15281572930826506,
          0.14455579807519137,
          0.14950102256650485,
          0.14714854575508607,
          0.4378069565803305,
          0.4490590967685799,
          0.43938463087238155,
          0.4346650431613501,
          0.4421176548802346,
          0.4326055805010297,
          0.4383061978006541,
          0.41814472930124574,
          0.44435684648388635,
          0.43088570874419174,
          0.4343839128538683,
          0.4324604493012581,
          0.40326179484392705,
          0.42342273775346195,
          0.4237805018795564,
          0.42721062486576533,
          0.45351160535148083,
          0.43742860852106846,
          0.43927246653809504,
          0.43817490059049957,
          0.4404207067884915,
          0.4551485505172367,
          0.4302672049297949,
          0.42599956934550043,
          0.4304677538936649,
          0.42171851407201305,
          0.42949120348139935,
          0.4272438776457654,
          0.4180321356344157,
          0.41729128396839094,
          0.42374225904094037,
          0.41568257545734016,
          0.7067462730752933,
          0.6921724513300893,
          0.6808407753912717,
          0.6958586034121044,
          0.6753117239228318,
          0.6807188624277675,
          0.6811820621694893,
          0.674117770964249,
          0.6568558280444204,
          0.6631784305976163,
          0.65484595976497,
          0.6631699569176803,
          0.6380428778768824,
          0.6533437417286856,
          0.6443806578902903,
          0.6457861092231771,
          0.6947830297198447,
          0.698292268144549,
          0.6922658102635593,
          0.6990451761733367,
          0.6785236185041601,
          0.6703698672799185,
          0.6856462935765846,
          0.6783145661401061,
          0.654426399948072,
          0.6501598941807268,
          0.6608179957063574,
          0.6644912381447081,
          0.640691597608868,
          0.6469895830968848,
          0.6430465631819721,
          0.65012378109079
         ],
         "yaxis": "y"
        }
       ],
       "layout": {
        "barmode": "group",
        "legend": {
         "title": {
          "text": "type"
         },
         "tracegroupgap": 0
        },
        "template": {
         "data": {
          "bar": [
           {
            "error_x": {
             "color": "#2a3f5f"
            },
            "error_y": {
             "color": "#2a3f5f"
            },
            "marker": {
             "line": {
              "color": "#E5ECF6",
              "width": 0.5
             },
             "pattern": {
              "fillmode": "overlay",
              "size": 10,
              "solidity": 0.2
             }
            },
            "type": "bar"
           }
          ],
          "barpolar": [
           {
            "marker": {
             "line": {
              "color": "#E5ECF6",
              "width": 0.5
             },
             "pattern": {
              "fillmode": "overlay",
              "size": 10,
              "solidity": 0.2
             }
            },
            "type": "barpolar"
           }
          ],
          "carpet": [
           {
            "aaxis": {
             "endlinecolor": "#2a3f5f",
             "gridcolor": "white",
             "linecolor": "white",
             "minorgridcolor": "white",
             "startlinecolor": "#2a3f5f"
            },
            "baxis": {
             "endlinecolor": "#2a3f5f",
             "gridcolor": "white",
             "linecolor": "white",
             "minorgridcolor": "white",
             "startlinecolor": "#2a3f5f"
            },
            "type": "carpet"
           }
          ],
          "choropleth": [
           {
            "colorbar": {
             "outlinewidth": 0,
             "ticks": ""
            },
            "type": "choropleth"
           }
          ],
          "contour": [
           {
            "colorbar": {
             "outlinewidth": 0,
             "ticks": ""
            },
            "colorscale": [
             [
              0,
              "#0d0887"
             ],
             [
              0.1111111111111111,
              "#46039f"
             ],
             [
              0.2222222222222222,
              "#7201a8"
             ],
             [
              0.3333333333333333,
              "#9c179e"
             ],
             [
              0.4444444444444444,
              "#bd3786"
             ],
             [
              0.5555555555555556,
              "#d8576b"
             ],
             [
              0.6666666666666666,
              "#ed7953"
             ],
             [
              0.7777777777777778,
              "#fb9f3a"
             ],
             [
              0.8888888888888888,
              "#fdca26"
             ],
             [
              1,
              "#f0f921"
             ]
            ],
            "type": "contour"
           }
          ],
          "contourcarpet": [
           {
            "colorbar": {
             "outlinewidth": 0,
             "ticks": ""
            },
            "type": "contourcarpet"
           }
          ],
          "heatmap": [
           {
            "colorbar": {
             "outlinewidth": 0,
             "ticks": ""
            },
            "colorscale": [
             [
              0,
              "#0d0887"
             ],
             [
              0.1111111111111111,
              "#46039f"
             ],
             [
              0.2222222222222222,
              "#7201a8"
             ],
             [
              0.3333333333333333,
              "#9c179e"
             ],
             [
              0.4444444444444444,
              "#bd3786"
             ],
             [
              0.5555555555555556,
              "#d8576b"
             ],
             [
              0.6666666666666666,
              "#ed7953"
             ],
             [
              0.7777777777777778,
              "#fb9f3a"
             ],
             [
              0.8888888888888888,
              "#fdca26"
             ],
             [
              1,
              "#f0f921"
             ]
            ],
            "type": "heatmap"
           }
          ],
          "heatmapgl": [
           {
            "colorbar": {
             "outlinewidth": 0,
             "ticks": ""
            },
            "colorscale": [
             [
              0,
              "#0d0887"
             ],
             [
              0.1111111111111111,
              "#46039f"
             ],
             [
              0.2222222222222222,
              "#7201a8"
             ],
             [
              0.3333333333333333,
              "#9c179e"
             ],
             [
              0.4444444444444444,
              "#bd3786"
             ],
             [
              0.5555555555555556,
              "#d8576b"
             ],
             [
              0.6666666666666666,
              "#ed7953"
             ],
             [
              0.7777777777777778,
              "#fb9f3a"
             ],
             [
              0.8888888888888888,
              "#fdca26"
             ],
             [
              1,
              "#f0f921"
             ]
            ],
            "type": "heatmapgl"
           }
          ],
          "histogram": [
           {
            "marker": {
             "pattern": {
              "fillmode": "overlay",
              "size": 10,
              "solidity": 0.2
             }
            },
            "type": "histogram"
           }
          ],
          "histogram2d": [
           {
            "colorbar": {
             "outlinewidth": 0,
             "ticks": ""
            },
            "colorscale": [
             [
              0,
              "#0d0887"
             ],
             [
              0.1111111111111111,
              "#46039f"
             ],
             [
              0.2222222222222222,
              "#7201a8"
             ],
             [
              0.3333333333333333,
              "#9c179e"
             ],
             [
              0.4444444444444444,
              "#bd3786"
             ],
             [
              0.5555555555555556,
              "#d8576b"
             ],
             [
              0.6666666666666666,
              "#ed7953"
             ],
             [
              0.7777777777777778,
              "#fb9f3a"
             ],
             [
              0.8888888888888888,
              "#fdca26"
             ],
             [
              1,
              "#f0f921"
             ]
            ],
            "type": "histogram2d"
           }
          ],
          "histogram2dcontour": [
           {
            "colorbar": {
             "outlinewidth": 0,
             "ticks": ""
            },
            "colorscale": [
             [
              0,
              "#0d0887"
             ],
             [
              0.1111111111111111,
              "#46039f"
             ],
             [
              0.2222222222222222,
              "#7201a8"
             ],
             [
              0.3333333333333333,
              "#9c179e"
             ],
             [
              0.4444444444444444,
              "#bd3786"
             ],
             [
              0.5555555555555556,
              "#d8576b"
             ],
             [
              0.6666666666666666,
              "#ed7953"
             ],
             [
              0.7777777777777778,
              "#fb9f3a"
             ],
             [
              0.8888888888888888,
              "#fdca26"
             ],
             [
              1,
              "#f0f921"
             ]
            ],
            "type": "histogram2dcontour"
           }
          ],
          "mesh3d": [
           {
            "colorbar": {
             "outlinewidth": 0,
             "ticks": ""
            },
            "type": "mesh3d"
           }
          ],
          "parcoords": [
           {
            "line": {
             "colorbar": {
              "outlinewidth": 0,
              "ticks": ""
             }
            },
            "type": "parcoords"
           }
          ],
          "pie": [
           {
            "automargin": true,
            "type": "pie"
           }
          ],
          "scatter": [
           {
            "marker": {
             "colorbar": {
              "outlinewidth": 0,
              "ticks": ""
             }
            },
            "type": "scatter"
           }
          ],
          "scatter3d": [
           {
            "line": {
             "colorbar": {
              "outlinewidth": 0,
              "ticks": ""
             }
            },
            "marker": {
             "colorbar": {
              "outlinewidth": 0,
              "ticks": ""
             }
            },
            "type": "scatter3d"
           }
          ],
          "scattercarpet": [
           {
            "marker": {
             "colorbar": {
              "outlinewidth": 0,
              "ticks": ""
             }
            },
            "type": "scattercarpet"
           }
          ],
          "scattergeo": [
           {
            "marker": {
             "colorbar": {
              "outlinewidth": 0,
              "ticks": ""
             }
            },
            "type": "scattergeo"
           }
          ],
          "scattergl": [
           {
            "marker": {
             "colorbar": {
              "outlinewidth": 0,
              "ticks": ""
             }
            },
            "type": "scattergl"
           }
          ],
          "scattermapbox": [
           {
            "marker": {
             "colorbar": {
              "outlinewidth": 0,
              "ticks": ""
             }
            },
            "type": "scattermapbox"
           }
          ],
          "scatterpolar": [
           {
            "marker": {
             "colorbar": {
              "outlinewidth": 0,
              "ticks": ""
             }
            },
            "type": "scatterpolar"
           }
          ],
          "scatterpolargl": [
           {
            "marker": {
             "colorbar": {
              "outlinewidth": 0,
              "ticks": ""
             }
            },
            "type": "scatterpolargl"
           }
          ],
          "scatterternary": [
           {
            "marker": {
             "colorbar": {
              "outlinewidth": 0,
              "ticks": ""
             }
            },
            "type": "scatterternary"
           }
          ],
          "surface": [
           {
            "colorbar": {
             "outlinewidth": 0,
             "ticks": ""
            },
            "colorscale": [
             [
              0,
              "#0d0887"
             ],
             [
              0.1111111111111111,
              "#46039f"
             ],
             [
              0.2222222222222222,
              "#7201a8"
             ],
             [
              0.3333333333333333,
              "#9c179e"
             ],
             [
              0.4444444444444444,
              "#bd3786"
             ],
             [
              0.5555555555555556,
              "#d8576b"
             ],
             [
              0.6666666666666666,
              "#ed7953"
             ],
             [
              0.7777777777777778,
              "#fb9f3a"
             ],
             [
              0.8888888888888888,
              "#fdca26"
             ],
             [
              1,
              "#f0f921"
             ]
            ],
            "type": "surface"
           }
          ],
          "table": [
           {
            "cells": {
             "fill": {
              "color": "#EBF0F8"
             },
             "line": {
              "color": "white"
             }
            },
            "header": {
             "fill": {
              "color": "#C8D4E3"
             },
             "line": {
              "color": "white"
             }
            },
            "type": "table"
           }
          ]
         },
         "layout": {
          "annotationdefaults": {
           "arrowcolor": "#2a3f5f",
           "arrowhead": 0,
           "arrowwidth": 1
          },
          "autotypenumbers": "strict",
          "coloraxis": {
           "colorbar": {
            "outlinewidth": 0,
            "ticks": ""
           }
          },
          "colorscale": {
           "diverging": [
            [
             0,
             "#8e0152"
            ],
            [
             0.1,
             "#c51b7d"
            ],
            [
             0.2,
             "#de77ae"
            ],
            [
             0.3,
             "#f1b6da"
            ],
            [
             0.4,
             "#fde0ef"
            ],
            [
             0.5,
             "#f7f7f7"
            ],
            [
             0.6,
             "#e6f5d0"
            ],
            [
             0.7,
             "#b8e186"
            ],
            [
             0.8,
             "#7fbc41"
            ],
            [
             0.9,
             "#4d9221"
            ],
            [
             1,
             "#276419"
            ]
           ],
           "sequential": [
            [
             0,
             "#0d0887"
            ],
            [
             0.1111111111111111,
             "#46039f"
            ],
            [
             0.2222222222222222,
             "#7201a8"
            ],
            [
             0.3333333333333333,
             "#9c179e"
            ],
            [
             0.4444444444444444,
             "#bd3786"
            ],
            [
             0.5555555555555556,
             "#d8576b"
            ],
            [
             0.6666666666666666,
             "#ed7953"
            ],
            [
             0.7777777777777778,
             "#fb9f3a"
            ],
            [
             0.8888888888888888,
             "#fdca26"
            ],
            [
             1,
             "#f0f921"
            ]
           ],
           "sequentialminus": [
            [
             0,
             "#0d0887"
            ],
            [
             0.1111111111111111,
             "#46039f"
            ],
            [
             0.2222222222222222,
             "#7201a8"
            ],
            [
             0.3333333333333333,
             "#9c179e"
            ],
            [
             0.4444444444444444,
             "#bd3786"
            ],
            [
             0.5555555555555556,
             "#d8576b"
            ],
            [
             0.6666666666666666,
             "#ed7953"
            ],
            [
             0.7777777777777778,
             "#fb9f3a"
            ],
            [
             0.8888888888888888,
             "#fdca26"
            ],
            [
             1,
             "#f0f921"
            ]
           ]
          },
          "colorway": [
           "#636efa",
           "#EF553B",
           "#00cc96",
           "#ab63fa",
           "#FFA15A",
           "#19d3f3",
           "#FF6692",
           "#B6E880",
           "#FF97FF",
           "#FECB52"
          ],
          "font": {
           "color": "#2a3f5f"
          },
          "geo": {
           "bgcolor": "white",
           "lakecolor": "white",
           "landcolor": "#E5ECF6",
           "showlakes": true,
           "showland": true,
           "subunitcolor": "white"
          },
          "hoverlabel": {
           "align": "left"
          },
          "hovermode": "closest",
          "mapbox": {
           "style": "light"
          },
          "paper_bgcolor": "white",
          "plot_bgcolor": "#E5ECF6",
          "polar": {
           "angularaxis": {
            "gridcolor": "white",
            "linecolor": "white",
            "ticks": ""
           },
           "bgcolor": "#E5ECF6",
           "radialaxis": {
            "gridcolor": "white",
            "linecolor": "white",
            "ticks": ""
           }
          },
          "scene": {
           "xaxis": {
            "backgroundcolor": "#E5ECF6",
            "gridcolor": "white",
            "gridwidth": 2,
            "linecolor": "white",
            "showbackground": true,
            "ticks": "",
            "zerolinecolor": "white"
           },
           "yaxis": {
            "backgroundcolor": "#E5ECF6",
            "gridcolor": "white",
            "gridwidth": 2,
            "linecolor": "white",
            "showbackground": true,
            "ticks": "",
            "zerolinecolor": "white"
           },
           "zaxis": {
            "backgroundcolor": "#E5ECF6",
            "gridcolor": "white",
            "gridwidth": 2,
            "linecolor": "white",
            "showbackground": true,
            "ticks": "",
            "zerolinecolor": "white"
           }
          },
          "shapedefaults": {
           "line": {
            "color": "#2a3f5f"
           }
          },
          "ternary": {
           "aaxis": {
            "gridcolor": "white",
            "linecolor": "white",
            "ticks": ""
           },
           "baxis": {
            "gridcolor": "white",
            "linecolor": "white",
            "ticks": ""
           },
           "bgcolor": "#E5ECF6",
           "caxis": {
            "gridcolor": "white",
            "linecolor": "white",
            "ticks": ""
           }
          },
          "title": {
           "x": 0.05
          },
          "xaxis": {
           "automargin": true,
           "gridcolor": "white",
           "linecolor": "white",
           "ticks": "",
           "title": {
            "standoff": 15
           },
           "zerolinecolor": "white",
           "zerolinewidth": 2
          },
          "yaxis": {
           "automargin": true,
           "gridcolor": "white",
           "linecolor": "white",
           "ticks": "",
           "title": {
            "standoff": 15
           },
           "zerolinecolor": "white",
           "zerolinewidth": 2
          }
         }
        },
        "title": {
         "text": "Mean f1 score on testing and training set for each parameter combination <br> (Model: RandomForest Classifier, Dataset: Multivariate stochastic feature imputation)"
        },
        "xaxis": {
         "anchor": "y",
         "domain": [
          0,
          1
         ],
         "title": {
          "text": "Params"
         }
        },
        "yaxis": {
         "anchor": "x",
         "domain": [
          0,
          1
         ],
         "title": {
          "text": "Average f1"
         }
        }
       }
      }
     },
     "metadata": {},
     "output_type": "display_data"
    }
   ],
   "source": [
    "stats = computeModelStats(model, stats, multivariate_stochastic_feature_imputation, pgrid)"
   ]
  },
  {
   "cell_type": "code",
   "execution_count": 31,
   "metadata": {
    "collapsed": false,
    "pycharm": {
     "name": "#%%\n"
    }
   },
   "outputs": [
    {
     "name": "stdout",
     "output_type": "stream",
     "text": [
      "Fitting 5 folds for each of 96 candidates, totalling 480 fits\n"
     ]
    },
    {
     "data": {
      "application/vnd.plotly.v1+json": {
       "config": {
        "plotlyServerURL": "https://plot.ly"
       },
       "data": [
        {
         "alignmentgroup": "True",
         "customdata": [
          [
           "{'max_depth': 3, 'max_features': 'sqrt', 'min_samples_split': 3, 'n_estimators': 50}"
          ],
          [
           "{'max_depth': 3, 'max_features': 'sqrt', 'min_samples_split': 3, 'n_estimators': 80}"
          ],
          [
           "{'max_depth': 3, 'max_features': 'sqrt', 'min_samples_split': 3, 'n_estimators': 110}"
          ],
          [
           "{'max_depth': 3, 'max_features': 'sqrt', 'min_samples_split': 3, 'n_estimators': 130}"
          ],
          [
           "{'max_depth': 3, 'max_features': 'sqrt', 'min_samples_split': 6, 'n_estimators': 50}"
          ],
          [
           "{'max_depth': 3, 'max_features': 'sqrt', 'min_samples_split': 6, 'n_estimators': 80}"
          ],
          [
           "{'max_depth': 3, 'max_features': 'sqrt', 'min_samples_split': 6, 'n_estimators': 110}"
          ],
          [
           "{'max_depth': 3, 'max_features': 'sqrt', 'min_samples_split': 6, 'n_estimators': 130}"
          ],
          [
           "{'max_depth': 3, 'max_features': 'sqrt', 'min_samples_split': 9, 'n_estimators': 50}"
          ],
          [
           "{'max_depth': 3, 'max_features': 'sqrt', 'min_samples_split': 9, 'n_estimators': 80}"
          ],
          [
           "{'max_depth': 3, 'max_features': 'sqrt', 'min_samples_split': 9, 'n_estimators': 110}"
          ],
          [
           "{'max_depth': 3, 'max_features': 'sqrt', 'min_samples_split': 9, 'n_estimators': 130}"
          ],
          [
           "{'max_depth': 3, 'max_features': 'sqrt', 'min_samples_split': 12, 'n_estimators': 50}"
          ],
          [
           "{'max_depth': 3, 'max_features': 'sqrt', 'min_samples_split': 12, 'n_estimators': 80}"
          ],
          [
           "{'max_depth': 3, 'max_features': 'sqrt', 'min_samples_split': 12, 'n_estimators': 110}"
          ],
          [
           "{'max_depth': 3, 'max_features': 'sqrt', 'min_samples_split': 12, 'n_estimators': 130}"
          ],
          [
           "{'max_depth': 3, 'max_features': 'log2', 'min_samples_split': 3, 'n_estimators': 50}"
          ],
          [
           "{'max_depth': 3, 'max_features': 'log2', 'min_samples_split': 3, 'n_estimators': 80}"
          ],
          [
           "{'max_depth': 3, 'max_features': 'log2', 'min_samples_split': 3, 'n_estimators': 110}"
          ],
          [
           "{'max_depth': 3, 'max_features': 'log2', 'min_samples_split': 3, 'n_estimators': 130}"
          ],
          [
           "{'max_depth': 3, 'max_features': 'log2', 'min_samples_split': 6, 'n_estimators': 50}"
          ],
          [
           "{'max_depth': 3, 'max_features': 'log2', 'min_samples_split': 6, 'n_estimators': 80}"
          ],
          [
           "{'max_depth': 3, 'max_features': 'log2', 'min_samples_split': 6, 'n_estimators': 110}"
          ],
          [
           "{'max_depth': 3, 'max_features': 'log2', 'min_samples_split': 6, 'n_estimators': 130}"
          ],
          [
           "{'max_depth': 3, 'max_features': 'log2', 'min_samples_split': 9, 'n_estimators': 50}"
          ],
          [
           "{'max_depth': 3, 'max_features': 'log2', 'min_samples_split': 9, 'n_estimators': 80}"
          ],
          [
           "{'max_depth': 3, 'max_features': 'log2', 'min_samples_split': 9, 'n_estimators': 110}"
          ],
          [
           "{'max_depth': 3, 'max_features': 'log2', 'min_samples_split': 9, 'n_estimators': 130}"
          ],
          [
           "{'max_depth': 3, 'max_features': 'log2', 'min_samples_split': 12, 'n_estimators': 50}"
          ],
          [
           "{'max_depth': 3, 'max_features': 'log2', 'min_samples_split': 12, 'n_estimators': 80}"
          ],
          [
           "{'max_depth': 3, 'max_features': 'log2', 'min_samples_split': 12, 'n_estimators': 110}"
          ],
          [
           "{'max_depth': 3, 'max_features': 'log2', 'min_samples_split': 12, 'n_estimators': 130}"
          ],
          [
           "{'max_depth': 6, 'max_features': 'sqrt', 'min_samples_split': 3, 'n_estimators': 50}"
          ],
          [
           "{'max_depth': 6, 'max_features': 'sqrt', 'min_samples_split': 3, 'n_estimators': 80}"
          ],
          [
           "{'max_depth': 6, 'max_features': 'sqrt', 'min_samples_split': 3, 'n_estimators': 110}"
          ],
          [
           "{'max_depth': 6, 'max_features': 'sqrt', 'min_samples_split': 3, 'n_estimators': 130}"
          ],
          [
           "{'max_depth': 6, 'max_features': 'sqrt', 'min_samples_split': 6, 'n_estimators': 50}"
          ],
          [
           "{'max_depth': 6, 'max_features': 'sqrt', 'min_samples_split': 6, 'n_estimators': 80}"
          ],
          [
           "{'max_depth': 6, 'max_features': 'sqrt', 'min_samples_split': 6, 'n_estimators': 110}"
          ],
          [
           "{'max_depth': 6, 'max_features': 'sqrt', 'min_samples_split': 6, 'n_estimators': 130}"
          ],
          [
           "{'max_depth': 6, 'max_features': 'sqrt', 'min_samples_split': 9, 'n_estimators': 50}"
          ],
          [
           "{'max_depth': 6, 'max_features': 'sqrt', 'min_samples_split': 9, 'n_estimators': 80}"
          ],
          [
           "{'max_depth': 6, 'max_features': 'sqrt', 'min_samples_split': 9, 'n_estimators': 110}"
          ],
          [
           "{'max_depth': 6, 'max_features': 'sqrt', 'min_samples_split': 9, 'n_estimators': 130}"
          ],
          [
           "{'max_depth': 6, 'max_features': 'sqrt', 'min_samples_split': 12, 'n_estimators': 50}"
          ],
          [
           "{'max_depth': 6, 'max_features': 'sqrt', 'min_samples_split': 12, 'n_estimators': 80}"
          ],
          [
           "{'max_depth': 6, 'max_features': 'sqrt', 'min_samples_split': 12, 'n_estimators': 110}"
          ],
          [
           "{'max_depth': 6, 'max_features': 'sqrt', 'min_samples_split': 12, 'n_estimators': 130}"
          ],
          [
           "{'max_depth': 6, 'max_features': 'log2', 'min_samples_split': 3, 'n_estimators': 50}"
          ],
          [
           "{'max_depth': 6, 'max_features': 'log2', 'min_samples_split': 3, 'n_estimators': 80}"
          ],
          [
           "{'max_depth': 6, 'max_features': 'log2', 'min_samples_split': 3, 'n_estimators': 110}"
          ],
          [
           "{'max_depth': 6, 'max_features': 'log2', 'min_samples_split': 3, 'n_estimators': 130}"
          ],
          [
           "{'max_depth': 6, 'max_features': 'log2', 'min_samples_split': 6, 'n_estimators': 50}"
          ],
          [
           "{'max_depth': 6, 'max_features': 'log2', 'min_samples_split': 6, 'n_estimators': 80}"
          ],
          [
           "{'max_depth': 6, 'max_features': 'log2', 'min_samples_split': 6, 'n_estimators': 110}"
          ],
          [
           "{'max_depth': 6, 'max_features': 'log2', 'min_samples_split': 6, 'n_estimators': 130}"
          ],
          [
           "{'max_depth': 6, 'max_features': 'log2', 'min_samples_split': 9, 'n_estimators': 50}"
          ],
          [
           "{'max_depth': 6, 'max_features': 'log2', 'min_samples_split': 9, 'n_estimators': 80}"
          ],
          [
           "{'max_depth': 6, 'max_features': 'log2', 'min_samples_split': 9, 'n_estimators': 110}"
          ],
          [
           "{'max_depth': 6, 'max_features': 'log2', 'min_samples_split': 9, 'n_estimators': 130}"
          ],
          [
           "{'max_depth': 6, 'max_features': 'log2', 'min_samples_split': 12, 'n_estimators': 50}"
          ],
          [
           "{'max_depth': 6, 'max_features': 'log2', 'min_samples_split': 12, 'n_estimators': 80}"
          ],
          [
           "{'max_depth': 6, 'max_features': 'log2', 'min_samples_split': 12, 'n_estimators': 110}"
          ],
          [
           "{'max_depth': 6, 'max_features': 'log2', 'min_samples_split': 12, 'n_estimators': 130}"
          ],
          [
           "{'max_depth': 9, 'max_features': 'sqrt', 'min_samples_split': 3, 'n_estimators': 50}"
          ],
          [
           "{'max_depth': 9, 'max_features': 'sqrt', 'min_samples_split': 3, 'n_estimators': 80}"
          ],
          [
           "{'max_depth': 9, 'max_features': 'sqrt', 'min_samples_split': 3, 'n_estimators': 110}"
          ],
          [
           "{'max_depth': 9, 'max_features': 'sqrt', 'min_samples_split': 3, 'n_estimators': 130}"
          ],
          [
           "{'max_depth': 9, 'max_features': 'sqrt', 'min_samples_split': 6, 'n_estimators': 50}"
          ],
          [
           "{'max_depth': 9, 'max_features': 'sqrt', 'min_samples_split': 6, 'n_estimators': 80}"
          ],
          [
           "{'max_depth': 9, 'max_features': 'sqrt', 'min_samples_split': 6, 'n_estimators': 110}"
          ],
          [
           "{'max_depth': 9, 'max_features': 'sqrt', 'min_samples_split': 6, 'n_estimators': 130}"
          ],
          [
           "{'max_depth': 9, 'max_features': 'sqrt', 'min_samples_split': 9, 'n_estimators': 50}"
          ],
          [
           "{'max_depth': 9, 'max_features': 'sqrt', 'min_samples_split': 9, 'n_estimators': 80}"
          ],
          [
           "{'max_depth': 9, 'max_features': 'sqrt', 'min_samples_split': 9, 'n_estimators': 110}"
          ],
          [
           "{'max_depth': 9, 'max_features': 'sqrt', 'min_samples_split': 9, 'n_estimators': 130}"
          ],
          [
           "{'max_depth': 9, 'max_features': 'sqrt', 'min_samples_split': 12, 'n_estimators': 50}"
          ],
          [
           "{'max_depth': 9, 'max_features': 'sqrt', 'min_samples_split': 12, 'n_estimators': 80}"
          ],
          [
           "{'max_depth': 9, 'max_features': 'sqrt', 'min_samples_split': 12, 'n_estimators': 110}"
          ],
          [
           "{'max_depth': 9, 'max_features': 'sqrt', 'min_samples_split': 12, 'n_estimators': 130}"
          ],
          [
           "{'max_depth': 9, 'max_features': 'log2', 'min_samples_split': 3, 'n_estimators': 50}"
          ],
          [
           "{'max_depth': 9, 'max_features': 'log2', 'min_samples_split': 3, 'n_estimators': 80}"
          ],
          [
           "{'max_depth': 9, 'max_features': 'log2', 'min_samples_split': 3, 'n_estimators': 110}"
          ],
          [
           "{'max_depth': 9, 'max_features': 'log2', 'min_samples_split': 3, 'n_estimators': 130}"
          ],
          [
           "{'max_depth': 9, 'max_features': 'log2', 'min_samples_split': 6, 'n_estimators': 50}"
          ],
          [
           "{'max_depth': 9, 'max_features': 'log2', 'min_samples_split': 6, 'n_estimators': 80}"
          ],
          [
           "{'max_depth': 9, 'max_features': 'log2', 'min_samples_split': 6, 'n_estimators': 110}"
          ],
          [
           "{'max_depth': 9, 'max_features': 'log2', 'min_samples_split': 6, 'n_estimators': 130}"
          ],
          [
           "{'max_depth': 9, 'max_features': 'log2', 'min_samples_split': 9, 'n_estimators': 50}"
          ],
          [
           "{'max_depth': 9, 'max_features': 'log2', 'min_samples_split': 9, 'n_estimators': 80}"
          ],
          [
           "{'max_depth': 9, 'max_features': 'log2', 'min_samples_split': 9, 'n_estimators': 110}"
          ],
          [
           "{'max_depth': 9, 'max_features': 'log2', 'min_samples_split': 9, 'n_estimators': 130}"
          ],
          [
           "{'max_depth': 9, 'max_features': 'log2', 'min_samples_split': 12, 'n_estimators': 50}"
          ],
          [
           "{'max_depth': 9, 'max_features': 'log2', 'min_samples_split': 12, 'n_estimators': 80}"
          ],
          [
           "{'max_depth': 9, 'max_features': 'log2', 'min_samples_split': 12, 'n_estimators': 110}"
          ],
          [
           "{'max_depth': 9, 'max_features': 'log2', 'min_samples_split': 12, 'n_estimators': 130}"
          ]
         ],
         "error_y": {
          "array": [
           0.02590155074527039,
           0.04609206675068659,
           0.03611425076507969,
           0.03117115170725918,
           0.01903765860521415,
           0.02374943200185848,
           0.02644193518384429,
           0.03558687047984982,
           0.023075003816026438,
           0.043696379298147285,
           0.03421856078888598,
           0.03162810684556622,
           0.02610872494694313,
           0.02120965908492728,
           0.02230813687452867,
           0.03188684118173639,
           0.025367157793788724,
           0.026679525601523396,
           0.023419760049015297,
           0.03205931389111823,
           0.0252324322167486,
           0.023959658242339674,
           0.023174898296882667,
           0.033059094313978285,
           0.030521765287723494,
           0.0312743335939413,
           0.01971201947799931,
           0.030757670542530983,
           0.03519117999641009,
           0.029152858828566,
           0.03052606897589102,
           0.02720467547810742,
           0.03765874056535888,
           0.05337014381613027,
           0.04514019833200278,
           0.05808186610503106,
           0.03889390216695736,
           0.04501146112905444,
           0.03818252750877527,
           0.04248778869299096,
           0.04951919570968131,
           0.04352431184779131,
           0.056837243554651015,
           0.05212124726597676,
           0.05477268238584114,
           0.04379037884967423,
           0.049536426801005416,
           0.05872638049647263,
           0.045145258457451105,
           0.06317301250192002,
           0.056346559116292674,
           0.0513079625699478,
           0.06341429075022538,
           0.042864726789380796,
           0.05713419416911613,
           0.05455357145507589,
           0.05020762241695511,
           0.046985262839112696,
           0.05230493617005281,
           0.038998939649153,
           0.06234024424935398,
           0.03219379560437709,
           0.046888681711210245,
           0.03889891257485736,
           0.04491781909972506,
           0.049405861041659165,
           0.05181946200565662,
           0.06121187916494141,
           0.0484916163204956,
           0.05825583838699732,
           0.0421356015862666,
           0.053066611832155344,
           0.024724312314826243,
           0.02846116027906527,
           0.04663023883234457,
           0.04505778936666742,
           0.03986204591646517,
           0.05818101807406941,
           0.045972077592258395,
           0.045437774464043394,
           0.058658940261328944,
           0.03912166301802725,
           0.05180183079892065,
           0.052454141084485824,
           0.04301709348584948,
           0.049507367235982674,
           0.048767828509199626,
           0.04212955650475857,
           0.04728865091763597,
           0.04467002976721761,
           0.03992674987491458,
           0.03850088438478935,
           0.057999162864939474,
           0.03984656878853872,
           0.05377383641521193,
           0.049669224482183076
          ]
         },
         "hovertemplate": "<b>%{hovertext}</b><br><br>type=test<br>Params=%{x}<br>Average f1=%{y}<br>params=%{customdata[0]}<extra></extra>",
         "hovertext": [
          "{'max_depth': 3, 'max_features': 'sqrt', 'min_samples_split': 3, 'n_estimators': 50}",
          "{'max_depth': 3, 'max_features': 'sqrt', 'min_samples_split': 3, 'n_estimators': 80}",
          "{'max_depth': 3, 'max_features': 'sqrt', 'min_samples_split': 3, 'n_estimators': 110}",
          "{'max_depth': 3, 'max_features': 'sqrt', 'min_samples_split': 3, 'n_estimators': 130}",
          "{'max_depth': 3, 'max_features': 'sqrt', 'min_samples_split': 6, 'n_estimators': 50}",
          "{'max_depth': 3, 'max_features': 'sqrt', 'min_samples_split': 6, 'n_estimators': 80}",
          "{'max_depth': 3, 'max_features': 'sqrt', 'min_samples_split': 6, 'n_estimators': 110}",
          "{'max_depth': 3, 'max_features': 'sqrt', 'min_samples_split': 6, 'n_estimators': 130}",
          "{'max_depth': 3, 'max_features': 'sqrt', 'min_samples_split': 9, 'n_estimators': 50}",
          "{'max_depth': 3, 'max_features': 'sqrt', 'min_samples_split': 9, 'n_estimators': 80}",
          "{'max_depth': 3, 'max_features': 'sqrt', 'min_samples_split': 9, 'n_estimators': 110}",
          "{'max_depth': 3, 'max_features': 'sqrt', 'min_samples_split': 9, 'n_estimators': 130}",
          "{'max_depth': 3, 'max_features': 'sqrt', 'min_samples_split': 12, 'n_estimators': 50}",
          "{'max_depth': 3, 'max_features': 'sqrt', 'min_samples_split': 12, 'n_estimators': 80}",
          "{'max_depth': 3, 'max_features': 'sqrt', 'min_samples_split': 12, 'n_estimators': 110}",
          "{'max_depth': 3, 'max_features': 'sqrt', 'min_samples_split': 12, 'n_estimators': 130}",
          "{'max_depth': 3, 'max_features': 'log2', 'min_samples_split': 3, 'n_estimators': 50}",
          "{'max_depth': 3, 'max_features': 'log2', 'min_samples_split': 3, 'n_estimators': 80}",
          "{'max_depth': 3, 'max_features': 'log2', 'min_samples_split': 3, 'n_estimators': 110}",
          "{'max_depth': 3, 'max_features': 'log2', 'min_samples_split': 3, 'n_estimators': 130}",
          "{'max_depth': 3, 'max_features': 'log2', 'min_samples_split': 6, 'n_estimators': 50}",
          "{'max_depth': 3, 'max_features': 'log2', 'min_samples_split': 6, 'n_estimators': 80}",
          "{'max_depth': 3, 'max_features': 'log2', 'min_samples_split': 6, 'n_estimators': 110}",
          "{'max_depth': 3, 'max_features': 'log2', 'min_samples_split': 6, 'n_estimators': 130}",
          "{'max_depth': 3, 'max_features': 'log2', 'min_samples_split': 9, 'n_estimators': 50}",
          "{'max_depth': 3, 'max_features': 'log2', 'min_samples_split': 9, 'n_estimators': 80}",
          "{'max_depth': 3, 'max_features': 'log2', 'min_samples_split': 9, 'n_estimators': 110}",
          "{'max_depth': 3, 'max_features': 'log2', 'min_samples_split': 9, 'n_estimators': 130}",
          "{'max_depth': 3, 'max_features': 'log2', 'min_samples_split': 12, 'n_estimators': 50}",
          "{'max_depth': 3, 'max_features': 'log2', 'min_samples_split': 12, 'n_estimators': 80}",
          "{'max_depth': 3, 'max_features': 'log2', 'min_samples_split': 12, 'n_estimators': 110}",
          "{'max_depth': 3, 'max_features': 'log2', 'min_samples_split': 12, 'n_estimators': 130}",
          "{'max_depth': 6, 'max_features': 'sqrt', 'min_samples_split': 3, 'n_estimators': 50}",
          "{'max_depth': 6, 'max_features': 'sqrt', 'min_samples_split': 3, 'n_estimators': 80}",
          "{'max_depth': 6, 'max_features': 'sqrt', 'min_samples_split': 3, 'n_estimators': 110}",
          "{'max_depth': 6, 'max_features': 'sqrt', 'min_samples_split': 3, 'n_estimators': 130}",
          "{'max_depth': 6, 'max_features': 'sqrt', 'min_samples_split': 6, 'n_estimators': 50}",
          "{'max_depth': 6, 'max_features': 'sqrt', 'min_samples_split': 6, 'n_estimators': 80}",
          "{'max_depth': 6, 'max_features': 'sqrt', 'min_samples_split': 6, 'n_estimators': 110}",
          "{'max_depth': 6, 'max_features': 'sqrt', 'min_samples_split': 6, 'n_estimators': 130}",
          "{'max_depth': 6, 'max_features': 'sqrt', 'min_samples_split': 9, 'n_estimators': 50}",
          "{'max_depth': 6, 'max_features': 'sqrt', 'min_samples_split': 9, 'n_estimators': 80}",
          "{'max_depth': 6, 'max_features': 'sqrt', 'min_samples_split': 9, 'n_estimators': 110}",
          "{'max_depth': 6, 'max_features': 'sqrt', 'min_samples_split': 9, 'n_estimators': 130}",
          "{'max_depth': 6, 'max_features': 'sqrt', 'min_samples_split': 12, 'n_estimators': 50}",
          "{'max_depth': 6, 'max_features': 'sqrt', 'min_samples_split': 12, 'n_estimators': 80}",
          "{'max_depth': 6, 'max_features': 'sqrt', 'min_samples_split': 12, 'n_estimators': 110}",
          "{'max_depth': 6, 'max_features': 'sqrt', 'min_samples_split': 12, 'n_estimators': 130}",
          "{'max_depth': 6, 'max_features': 'log2', 'min_samples_split': 3, 'n_estimators': 50}",
          "{'max_depth': 6, 'max_features': 'log2', 'min_samples_split': 3, 'n_estimators': 80}",
          "{'max_depth': 6, 'max_features': 'log2', 'min_samples_split': 3, 'n_estimators': 110}",
          "{'max_depth': 6, 'max_features': 'log2', 'min_samples_split': 3, 'n_estimators': 130}",
          "{'max_depth': 6, 'max_features': 'log2', 'min_samples_split': 6, 'n_estimators': 50}",
          "{'max_depth': 6, 'max_features': 'log2', 'min_samples_split': 6, 'n_estimators': 80}",
          "{'max_depth': 6, 'max_features': 'log2', 'min_samples_split': 6, 'n_estimators': 110}",
          "{'max_depth': 6, 'max_features': 'log2', 'min_samples_split': 6, 'n_estimators': 130}",
          "{'max_depth': 6, 'max_features': 'log2', 'min_samples_split': 9, 'n_estimators': 50}",
          "{'max_depth': 6, 'max_features': 'log2', 'min_samples_split': 9, 'n_estimators': 80}",
          "{'max_depth': 6, 'max_features': 'log2', 'min_samples_split': 9, 'n_estimators': 110}",
          "{'max_depth': 6, 'max_features': 'log2', 'min_samples_split': 9, 'n_estimators': 130}",
          "{'max_depth': 6, 'max_features': 'log2', 'min_samples_split': 12, 'n_estimators': 50}",
          "{'max_depth': 6, 'max_features': 'log2', 'min_samples_split': 12, 'n_estimators': 80}",
          "{'max_depth': 6, 'max_features': 'log2', 'min_samples_split': 12, 'n_estimators': 110}",
          "{'max_depth': 6, 'max_features': 'log2', 'min_samples_split': 12, 'n_estimators': 130}",
          "{'max_depth': 9, 'max_features': 'sqrt', 'min_samples_split': 3, 'n_estimators': 50}",
          "{'max_depth': 9, 'max_features': 'sqrt', 'min_samples_split': 3, 'n_estimators': 80}",
          "{'max_depth': 9, 'max_features': 'sqrt', 'min_samples_split': 3, 'n_estimators': 110}",
          "{'max_depth': 9, 'max_features': 'sqrt', 'min_samples_split': 3, 'n_estimators': 130}",
          "{'max_depth': 9, 'max_features': 'sqrt', 'min_samples_split': 6, 'n_estimators': 50}",
          "{'max_depth': 9, 'max_features': 'sqrt', 'min_samples_split': 6, 'n_estimators': 80}",
          "{'max_depth': 9, 'max_features': 'sqrt', 'min_samples_split': 6, 'n_estimators': 110}",
          "{'max_depth': 9, 'max_features': 'sqrt', 'min_samples_split': 6, 'n_estimators': 130}",
          "{'max_depth': 9, 'max_features': 'sqrt', 'min_samples_split': 9, 'n_estimators': 50}",
          "{'max_depth': 9, 'max_features': 'sqrt', 'min_samples_split': 9, 'n_estimators': 80}",
          "{'max_depth': 9, 'max_features': 'sqrt', 'min_samples_split': 9, 'n_estimators': 110}",
          "{'max_depth': 9, 'max_features': 'sqrt', 'min_samples_split': 9, 'n_estimators': 130}",
          "{'max_depth': 9, 'max_features': 'sqrt', 'min_samples_split': 12, 'n_estimators': 50}",
          "{'max_depth': 9, 'max_features': 'sqrt', 'min_samples_split': 12, 'n_estimators': 80}",
          "{'max_depth': 9, 'max_features': 'sqrt', 'min_samples_split': 12, 'n_estimators': 110}",
          "{'max_depth': 9, 'max_features': 'sqrt', 'min_samples_split': 12, 'n_estimators': 130}",
          "{'max_depth': 9, 'max_features': 'log2', 'min_samples_split': 3, 'n_estimators': 50}",
          "{'max_depth': 9, 'max_features': 'log2', 'min_samples_split': 3, 'n_estimators': 80}",
          "{'max_depth': 9, 'max_features': 'log2', 'min_samples_split': 3, 'n_estimators': 110}",
          "{'max_depth': 9, 'max_features': 'log2', 'min_samples_split': 3, 'n_estimators': 130}",
          "{'max_depth': 9, 'max_features': 'log2', 'min_samples_split': 6, 'n_estimators': 50}",
          "{'max_depth': 9, 'max_features': 'log2', 'min_samples_split': 6, 'n_estimators': 80}",
          "{'max_depth': 9, 'max_features': 'log2', 'min_samples_split': 6, 'n_estimators': 110}",
          "{'max_depth': 9, 'max_features': 'log2', 'min_samples_split': 6, 'n_estimators': 130}",
          "{'max_depth': 9, 'max_features': 'log2', 'min_samples_split': 9, 'n_estimators': 50}",
          "{'max_depth': 9, 'max_features': 'log2', 'min_samples_split': 9, 'n_estimators': 80}",
          "{'max_depth': 9, 'max_features': 'log2', 'min_samples_split': 9, 'n_estimators': 110}",
          "{'max_depth': 9, 'max_features': 'log2', 'min_samples_split': 9, 'n_estimators': 130}",
          "{'max_depth': 9, 'max_features': 'log2', 'min_samples_split': 12, 'n_estimators': 50}",
          "{'max_depth': 9, 'max_features': 'log2', 'min_samples_split': 12, 'n_estimators': 80}",
          "{'max_depth': 9, 'max_features': 'log2', 'min_samples_split': 12, 'n_estimators': 110}",
          "{'max_depth': 9, 'max_features': 'log2', 'min_samples_split': 12, 'n_estimators': 130}"
         ],
         "legendgroup": "test",
         "marker": {
          "color": "#636efa",
          "pattern": {
           "shape": ""
          }
         },
         "name": "test",
         "offsetgroup": "test",
         "orientation": "v",
         "showlegend": true,
         "textposition": "auto",
         "type": "bar",
         "x": [
          0,
          1,
          2,
          3,
          4,
          5,
          6,
          7,
          8,
          9,
          10,
          11,
          12,
          13,
          14,
          15,
          16,
          17,
          18,
          19,
          20,
          21,
          22,
          23,
          24,
          25,
          26,
          27,
          28,
          29,
          30,
          31,
          32,
          33,
          34,
          35,
          36,
          37,
          38,
          39,
          40,
          41,
          42,
          43,
          44,
          45,
          46,
          47,
          48,
          49,
          50,
          51,
          52,
          53,
          54,
          55,
          56,
          57,
          58,
          59,
          60,
          61,
          62,
          63,
          64,
          65,
          66,
          67,
          68,
          69,
          70,
          71,
          72,
          73,
          74,
          75,
          76,
          77,
          78,
          79,
          80,
          81,
          82,
          83,
          84,
          85,
          86,
          87,
          88,
          89,
          90,
          91,
          92,
          93,
          94,
          95
         ],
         "xaxis": "x",
         "y": [
          0.13168128852934652,
          0.13669057399917267,
          0.14006303086804212,
          0.15449501043835334,
          0.14872037377141348,
          0.14067569522431994,
          0.14196263082361738,
          0.1438191304496084,
          0.11956706378997857,
          0.15757326412864123,
          0.14473204434593,
          0.1435134690905912,
          0.15393758035494365,
          0.12786321445893864,
          0.14615885676551024,
          0.14271010598596806,
          0.1416002365834899,
          0.1520857437270943,
          0.15241169153430656,
          0.13144580578413625,
          0.1379096471535922,
          0.13172601760812963,
          0.1471987012906471,
          0.13955868375988073,
          0.14410676469379488,
          0.13081376337861292,
          0.13731613654175867,
          0.14693277864224305,
          0.1449663076837888,
          0.13492236497354937,
          0.13946491421967883,
          0.15129666782514442,
          0.2838373632171486,
          0.30251414121411085,
          0.29061633757542016,
          0.28974737051304256,
          0.28743257884122503,
          0.29548682625679207,
          0.30638249055801337,
          0.2931239745003259,
          0.30088366700511615,
          0.280152548305807,
          0.29158243375405385,
          0.28748045331647865,
          0.2939164115245459,
          0.3069890234731968,
          0.2925314165417995,
          0.29851762066453824,
          0.2899095894124253,
          0.3042162432577126,
          0.30632753413174557,
          0.28600585009877316,
          0.29839195442156163,
          0.29634495438457203,
          0.30065886780399775,
          0.2955129258373834,
          0.29429908403124916,
          0.29653605006880934,
          0.30275973316538,
          0.29501957328015826,
          0.3123386949978055,
          0.3038871748006751,
          0.2993466125816674,
          0.2928082320986034,
          0.3735878614232037,
          0.36446925663929897,
          0.3585137218959941,
          0.3568418417084466,
          0.3767747701261625,
          0.3630657819097213,
          0.36526945704373803,
          0.3596855280696154,
          0.3619331816753834,
          0.3730025902548368,
          0.35846232783596843,
          0.36138991019102484,
          0.37231684626132894,
          0.368324777595303,
          0.37035655767392445,
          0.36166999920047793,
          0.3477886981683538,
          0.36176958196616066,
          0.3644701401539196,
          0.3600001108361687,
          0.3561234723346781,
          0.3640166543954486,
          0.36902441953679166,
          0.36204254869713104,
          0.3645239763731608,
          0.3627949620625965,
          0.35773240462955547,
          0.3779051384277664,
          0.3617573988440239,
          0.3721279920806432,
          0.3761780970775402,
          0.358399708279656
         ],
         "yaxis": "y"
        },
        {
         "alignmentgroup": "True",
         "customdata": [
          [
           "{'max_depth': 3, 'max_features': 'sqrt', 'min_samples_split': 3, 'n_estimators': 50}"
          ],
          [
           "{'max_depth': 3, 'max_features': 'sqrt', 'min_samples_split': 3, 'n_estimators': 80}"
          ],
          [
           "{'max_depth': 3, 'max_features': 'sqrt', 'min_samples_split': 3, 'n_estimators': 110}"
          ],
          [
           "{'max_depth': 3, 'max_features': 'sqrt', 'min_samples_split': 3, 'n_estimators': 130}"
          ],
          [
           "{'max_depth': 3, 'max_features': 'sqrt', 'min_samples_split': 6, 'n_estimators': 50}"
          ],
          [
           "{'max_depth': 3, 'max_features': 'sqrt', 'min_samples_split': 6, 'n_estimators': 80}"
          ],
          [
           "{'max_depth': 3, 'max_features': 'sqrt', 'min_samples_split': 6, 'n_estimators': 110}"
          ],
          [
           "{'max_depth': 3, 'max_features': 'sqrt', 'min_samples_split': 6, 'n_estimators': 130}"
          ],
          [
           "{'max_depth': 3, 'max_features': 'sqrt', 'min_samples_split': 9, 'n_estimators': 50}"
          ],
          [
           "{'max_depth': 3, 'max_features': 'sqrt', 'min_samples_split': 9, 'n_estimators': 80}"
          ],
          [
           "{'max_depth': 3, 'max_features': 'sqrt', 'min_samples_split': 9, 'n_estimators': 110}"
          ],
          [
           "{'max_depth': 3, 'max_features': 'sqrt', 'min_samples_split': 9, 'n_estimators': 130}"
          ],
          [
           "{'max_depth': 3, 'max_features': 'sqrt', 'min_samples_split': 12, 'n_estimators': 50}"
          ],
          [
           "{'max_depth': 3, 'max_features': 'sqrt', 'min_samples_split': 12, 'n_estimators': 80}"
          ],
          [
           "{'max_depth': 3, 'max_features': 'sqrt', 'min_samples_split': 12, 'n_estimators': 110}"
          ],
          [
           "{'max_depth': 3, 'max_features': 'sqrt', 'min_samples_split': 12, 'n_estimators': 130}"
          ],
          [
           "{'max_depth': 3, 'max_features': 'log2', 'min_samples_split': 3, 'n_estimators': 50}"
          ],
          [
           "{'max_depth': 3, 'max_features': 'log2', 'min_samples_split': 3, 'n_estimators': 80}"
          ],
          [
           "{'max_depth': 3, 'max_features': 'log2', 'min_samples_split': 3, 'n_estimators': 110}"
          ],
          [
           "{'max_depth': 3, 'max_features': 'log2', 'min_samples_split': 3, 'n_estimators': 130}"
          ],
          [
           "{'max_depth': 3, 'max_features': 'log2', 'min_samples_split': 6, 'n_estimators': 50}"
          ],
          [
           "{'max_depth': 3, 'max_features': 'log2', 'min_samples_split': 6, 'n_estimators': 80}"
          ],
          [
           "{'max_depth': 3, 'max_features': 'log2', 'min_samples_split': 6, 'n_estimators': 110}"
          ],
          [
           "{'max_depth': 3, 'max_features': 'log2', 'min_samples_split': 6, 'n_estimators': 130}"
          ],
          [
           "{'max_depth': 3, 'max_features': 'log2', 'min_samples_split': 9, 'n_estimators': 50}"
          ],
          [
           "{'max_depth': 3, 'max_features': 'log2', 'min_samples_split': 9, 'n_estimators': 80}"
          ],
          [
           "{'max_depth': 3, 'max_features': 'log2', 'min_samples_split': 9, 'n_estimators': 110}"
          ],
          [
           "{'max_depth': 3, 'max_features': 'log2', 'min_samples_split': 9, 'n_estimators': 130}"
          ],
          [
           "{'max_depth': 3, 'max_features': 'log2', 'min_samples_split': 12, 'n_estimators': 50}"
          ],
          [
           "{'max_depth': 3, 'max_features': 'log2', 'min_samples_split': 12, 'n_estimators': 80}"
          ],
          [
           "{'max_depth': 3, 'max_features': 'log2', 'min_samples_split': 12, 'n_estimators': 110}"
          ],
          [
           "{'max_depth': 3, 'max_features': 'log2', 'min_samples_split': 12, 'n_estimators': 130}"
          ],
          [
           "{'max_depth': 6, 'max_features': 'sqrt', 'min_samples_split': 3, 'n_estimators': 50}"
          ],
          [
           "{'max_depth': 6, 'max_features': 'sqrt', 'min_samples_split': 3, 'n_estimators': 80}"
          ],
          [
           "{'max_depth': 6, 'max_features': 'sqrt', 'min_samples_split': 3, 'n_estimators': 110}"
          ],
          [
           "{'max_depth': 6, 'max_features': 'sqrt', 'min_samples_split': 3, 'n_estimators': 130}"
          ],
          [
           "{'max_depth': 6, 'max_features': 'sqrt', 'min_samples_split': 6, 'n_estimators': 50}"
          ],
          [
           "{'max_depth': 6, 'max_features': 'sqrt', 'min_samples_split': 6, 'n_estimators': 80}"
          ],
          [
           "{'max_depth': 6, 'max_features': 'sqrt', 'min_samples_split': 6, 'n_estimators': 110}"
          ],
          [
           "{'max_depth': 6, 'max_features': 'sqrt', 'min_samples_split': 6, 'n_estimators': 130}"
          ],
          [
           "{'max_depth': 6, 'max_features': 'sqrt', 'min_samples_split': 9, 'n_estimators': 50}"
          ],
          [
           "{'max_depth': 6, 'max_features': 'sqrt', 'min_samples_split': 9, 'n_estimators': 80}"
          ],
          [
           "{'max_depth': 6, 'max_features': 'sqrt', 'min_samples_split': 9, 'n_estimators': 110}"
          ],
          [
           "{'max_depth': 6, 'max_features': 'sqrt', 'min_samples_split': 9, 'n_estimators': 130}"
          ],
          [
           "{'max_depth': 6, 'max_features': 'sqrt', 'min_samples_split': 12, 'n_estimators': 50}"
          ],
          [
           "{'max_depth': 6, 'max_features': 'sqrt', 'min_samples_split': 12, 'n_estimators': 80}"
          ],
          [
           "{'max_depth': 6, 'max_features': 'sqrt', 'min_samples_split': 12, 'n_estimators': 110}"
          ],
          [
           "{'max_depth': 6, 'max_features': 'sqrt', 'min_samples_split': 12, 'n_estimators': 130}"
          ],
          [
           "{'max_depth': 6, 'max_features': 'log2', 'min_samples_split': 3, 'n_estimators': 50}"
          ],
          [
           "{'max_depth': 6, 'max_features': 'log2', 'min_samples_split': 3, 'n_estimators': 80}"
          ],
          [
           "{'max_depth': 6, 'max_features': 'log2', 'min_samples_split': 3, 'n_estimators': 110}"
          ],
          [
           "{'max_depth': 6, 'max_features': 'log2', 'min_samples_split': 3, 'n_estimators': 130}"
          ],
          [
           "{'max_depth': 6, 'max_features': 'log2', 'min_samples_split': 6, 'n_estimators': 50}"
          ],
          [
           "{'max_depth': 6, 'max_features': 'log2', 'min_samples_split': 6, 'n_estimators': 80}"
          ],
          [
           "{'max_depth': 6, 'max_features': 'log2', 'min_samples_split': 6, 'n_estimators': 110}"
          ],
          [
           "{'max_depth': 6, 'max_features': 'log2', 'min_samples_split': 6, 'n_estimators': 130}"
          ],
          [
           "{'max_depth': 6, 'max_features': 'log2', 'min_samples_split': 9, 'n_estimators': 50}"
          ],
          [
           "{'max_depth': 6, 'max_features': 'log2', 'min_samples_split': 9, 'n_estimators': 80}"
          ],
          [
           "{'max_depth': 6, 'max_features': 'log2', 'min_samples_split': 9, 'n_estimators': 110}"
          ],
          [
           "{'max_depth': 6, 'max_features': 'log2', 'min_samples_split': 9, 'n_estimators': 130}"
          ],
          [
           "{'max_depth': 6, 'max_features': 'log2', 'min_samples_split': 12, 'n_estimators': 50}"
          ],
          [
           "{'max_depth': 6, 'max_features': 'log2', 'min_samples_split': 12, 'n_estimators': 80}"
          ],
          [
           "{'max_depth': 6, 'max_features': 'log2', 'min_samples_split': 12, 'n_estimators': 110}"
          ],
          [
           "{'max_depth': 6, 'max_features': 'log2', 'min_samples_split': 12, 'n_estimators': 130}"
          ],
          [
           "{'max_depth': 9, 'max_features': 'sqrt', 'min_samples_split': 3, 'n_estimators': 50}"
          ],
          [
           "{'max_depth': 9, 'max_features': 'sqrt', 'min_samples_split': 3, 'n_estimators': 80}"
          ],
          [
           "{'max_depth': 9, 'max_features': 'sqrt', 'min_samples_split': 3, 'n_estimators': 110}"
          ],
          [
           "{'max_depth': 9, 'max_features': 'sqrt', 'min_samples_split': 3, 'n_estimators': 130}"
          ],
          [
           "{'max_depth': 9, 'max_features': 'sqrt', 'min_samples_split': 6, 'n_estimators': 50}"
          ],
          [
           "{'max_depth': 9, 'max_features': 'sqrt', 'min_samples_split': 6, 'n_estimators': 80}"
          ],
          [
           "{'max_depth': 9, 'max_features': 'sqrt', 'min_samples_split': 6, 'n_estimators': 110}"
          ],
          [
           "{'max_depth': 9, 'max_features': 'sqrt', 'min_samples_split': 6, 'n_estimators': 130}"
          ],
          [
           "{'max_depth': 9, 'max_features': 'sqrt', 'min_samples_split': 9, 'n_estimators': 50}"
          ],
          [
           "{'max_depth': 9, 'max_features': 'sqrt', 'min_samples_split': 9, 'n_estimators': 80}"
          ],
          [
           "{'max_depth': 9, 'max_features': 'sqrt', 'min_samples_split': 9, 'n_estimators': 110}"
          ],
          [
           "{'max_depth': 9, 'max_features': 'sqrt', 'min_samples_split': 9, 'n_estimators': 130}"
          ],
          [
           "{'max_depth': 9, 'max_features': 'sqrt', 'min_samples_split': 12, 'n_estimators': 50}"
          ],
          [
           "{'max_depth': 9, 'max_features': 'sqrt', 'min_samples_split': 12, 'n_estimators': 80}"
          ],
          [
           "{'max_depth': 9, 'max_features': 'sqrt', 'min_samples_split': 12, 'n_estimators': 110}"
          ],
          [
           "{'max_depth': 9, 'max_features': 'sqrt', 'min_samples_split': 12, 'n_estimators': 130}"
          ],
          [
           "{'max_depth': 9, 'max_features': 'log2', 'min_samples_split': 3, 'n_estimators': 50}"
          ],
          [
           "{'max_depth': 9, 'max_features': 'log2', 'min_samples_split': 3, 'n_estimators': 80}"
          ],
          [
           "{'max_depth': 9, 'max_features': 'log2', 'min_samples_split': 3, 'n_estimators': 110}"
          ],
          [
           "{'max_depth': 9, 'max_features': 'log2', 'min_samples_split': 3, 'n_estimators': 130}"
          ],
          [
           "{'max_depth': 9, 'max_features': 'log2', 'min_samples_split': 6, 'n_estimators': 50}"
          ],
          [
           "{'max_depth': 9, 'max_features': 'log2', 'min_samples_split': 6, 'n_estimators': 80}"
          ],
          [
           "{'max_depth': 9, 'max_features': 'log2', 'min_samples_split': 6, 'n_estimators': 110}"
          ],
          [
           "{'max_depth': 9, 'max_features': 'log2', 'min_samples_split': 6, 'n_estimators': 130}"
          ],
          [
           "{'max_depth': 9, 'max_features': 'log2', 'min_samples_split': 9, 'n_estimators': 50}"
          ],
          [
           "{'max_depth': 9, 'max_features': 'log2', 'min_samples_split': 9, 'n_estimators': 80}"
          ],
          [
           "{'max_depth': 9, 'max_features': 'log2', 'min_samples_split': 9, 'n_estimators': 110}"
          ],
          [
           "{'max_depth': 9, 'max_features': 'log2', 'min_samples_split': 9, 'n_estimators': 130}"
          ],
          [
           "{'max_depth': 9, 'max_features': 'log2', 'min_samples_split': 12, 'n_estimators': 50}"
          ],
          [
           "{'max_depth': 9, 'max_features': 'log2', 'min_samples_split': 12, 'n_estimators': 80}"
          ],
          [
           "{'max_depth': 9, 'max_features': 'log2', 'min_samples_split': 12, 'n_estimators': 110}"
          ],
          [
           "{'max_depth': 9, 'max_features': 'log2', 'min_samples_split': 12, 'n_estimators': 130}"
          ]
         ],
         "error_y": {
          "array": [
           0.03202679434069531,
           0.04777125387162687,
           0.04561190639348183,
           0.0450339740670084,
           0.04195510969191687,
           0.04006110555065179,
           0.04530266093065698,
           0.04831758049986558,
           0.03933788883717485,
           0.04930320993246937,
           0.04511530645429605,
           0.043552380889109836,
           0.04437528293682712,
           0.03851290977910941,
           0.038760645084544534,
           0.04183180140423167,
           0.05067153789635998,
           0.04196193168280526,
           0.040309524051317956,
           0.030748801412905678,
           0.0416725957134865,
           0.033932010203142245,
           0.04622413188843691,
           0.04025645625510406,
           0.04882273292363411,
           0.030206827244582447,
           0.035914567853059125,
           0.04738786550877751,
           0.050622057221852715,
           0.04229903439782566,
           0.04116584691003541,
           0.05299195693634884,
           0.01569719143541436,
           0.0327782353850095,
           0.028207358904486838,
           0.034097480267444455,
           0.029464795303286835,
           0.03317144171595596,
           0.02529412921392053,
           0.026263351116574133,
           0.03211026742434734,
           0.02567483792706826,
           0.027815359222421454,
           0.032402869252166094,
           0.03509844623909967,
           0.02534871912092158,
           0.027562989886607225,
           0.030320479866200487,
           0.027585836649938734,
           0.028064426823516068,
           0.032772483552659895,
           0.031929999652755156,
           0.04305026988992795,
           0.026994313240768477,
           0.033467294350149175,
           0.024807224013577028,
           0.03285168053219064,
           0.038607075623414186,
           0.02735526515375203,
           0.02578360353290279,
           0.03055099032065195,
           0.024531774940380533,
           0.035065371374328136,
           0.028957506683923964,
           0.014939215674759044,
           0.016725620306391763,
           0.02040001408218124,
           0.02669008138219285,
           0.01584419583341771,
           0.015960315668951692,
           0.01702999617443885,
           0.01905582188955233,
           0.017090927732144514,
           0.011344949538477547,
           0.018761168855113485,
           0.022575714460432956,
           0.021765490679929948,
           0.01720753797724951,
           0.00950171111419995,
           0.014362864276661683,
           0.026260127352882155,
           0.02502496446257111,
           0.026026961028612596,
           0.02179900439321631,
           0.029011166790519897,
           0.025085018967584055,
           0.02165921270438285,
           0.019778132457949068,
           0.01624571958500106,
           0.02301444472536562,
           0.02276285692022836,
           0.01763275813312807,
           0.011919777124157253,
           0.018253483512736913,
           0.01790200632788526,
           0.018773198774986673
          ]
         },
         "hovertemplate": "<b>%{hovertext}</b><br><br>type=train<br>Params=%{x}<br>Average f1=%{y}<br>params=%{customdata[0]}<extra></extra>",
         "hovertext": [
          "{'max_depth': 3, 'max_features': 'sqrt', 'min_samples_split': 3, 'n_estimators': 50}",
          "{'max_depth': 3, 'max_features': 'sqrt', 'min_samples_split': 3, 'n_estimators': 80}",
          "{'max_depth': 3, 'max_features': 'sqrt', 'min_samples_split': 3, 'n_estimators': 110}",
          "{'max_depth': 3, 'max_features': 'sqrt', 'min_samples_split': 3, 'n_estimators': 130}",
          "{'max_depth': 3, 'max_features': 'sqrt', 'min_samples_split': 6, 'n_estimators': 50}",
          "{'max_depth': 3, 'max_features': 'sqrt', 'min_samples_split': 6, 'n_estimators': 80}",
          "{'max_depth': 3, 'max_features': 'sqrt', 'min_samples_split': 6, 'n_estimators': 110}",
          "{'max_depth': 3, 'max_features': 'sqrt', 'min_samples_split': 6, 'n_estimators': 130}",
          "{'max_depth': 3, 'max_features': 'sqrt', 'min_samples_split': 9, 'n_estimators': 50}",
          "{'max_depth': 3, 'max_features': 'sqrt', 'min_samples_split': 9, 'n_estimators': 80}",
          "{'max_depth': 3, 'max_features': 'sqrt', 'min_samples_split': 9, 'n_estimators': 110}",
          "{'max_depth': 3, 'max_features': 'sqrt', 'min_samples_split': 9, 'n_estimators': 130}",
          "{'max_depth': 3, 'max_features': 'sqrt', 'min_samples_split': 12, 'n_estimators': 50}",
          "{'max_depth': 3, 'max_features': 'sqrt', 'min_samples_split': 12, 'n_estimators': 80}",
          "{'max_depth': 3, 'max_features': 'sqrt', 'min_samples_split': 12, 'n_estimators': 110}",
          "{'max_depth': 3, 'max_features': 'sqrt', 'min_samples_split': 12, 'n_estimators': 130}",
          "{'max_depth': 3, 'max_features': 'log2', 'min_samples_split': 3, 'n_estimators': 50}",
          "{'max_depth': 3, 'max_features': 'log2', 'min_samples_split': 3, 'n_estimators': 80}",
          "{'max_depth': 3, 'max_features': 'log2', 'min_samples_split': 3, 'n_estimators': 110}",
          "{'max_depth': 3, 'max_features': 'log2', 'min_samples_split': 3, 'n_estimators': 130}",
          "{'max_depth': 3, 'max_features': 'log2', 'min_samples_split': 6, 'n_estimators': 50}",
          "{'max_depth': 3, 'max_features': 'log2', 'min_samples_split': 6, 'n_estimators': 80}",
          "{'max_depth': 3, 'max_features': 'log2', 'min_samples_split': 6, 'n_estimators': 110}",
          "{'max_depth': 3, 'max_features': 'log2', 'min_samples_split': 6, 'n_estimators': 130}",
          "{'max_depth': 3, 'max_features': 'log2', 'min_samples_split': 9, 'n_estimators': 50}",
          "{'max_depth': 3, 'max_features': 'log2', 'min_samples_split': 9, 'n_estimators': 80}",
          "{'max_depth': 3, 'max_features': 'log2', 'min_samples_split': 9, 'n_estimators': 110}",
          "{'max_depth': 3, 'max_features': 'log2', 'min_samples_split': 9, 'n_estimators': 130}",
          "{'max_depth': 3, 'max_features': 'log2', 'min_samples_split': 12, 'n_estimators': 50}",
          "{'max_depth': 3, 'max_features': 'log2', 'min_samples_split': 12, 'n_estimators': 80}",
          "{'max_depth': 3, 'max_features': 'log2', 'min_samples_split': 12, 'n_estimators': 110}",
          "{'max_depth': 3, 'max_features': 'log2', 'min_samples_split': 12, 'n_estimators': 130}",
          "{'max_depth': 6, 'max_features': 'sqrt', 'min_samples_split': 3, 'n_estimators': 50}",
          "{'max_depth': 6, 'max_features': 'sqrt', 'min_samples_split': 3, 'n_estimators': 80}",
          "{'max_depth': 6, 'max_features': 'sqrt', 'min_samples_split': 3, 'n_estimators': 110}",
          "{'max_depth': 6, 'max_features': 'sqrt', 'min_samples_split': 3, 'n_estimators': 130}",
          "{'max_depth': 6, 'max_features': 'sqrt', 'min_samples_split': 6, 'n_estimators': 50}",
          "{'max_depth': 6, 'max_features': 'sqrt', 'min_samples_split': 6, 'n_estimators': 80}",
          "{'max_depth': 6, 'max_features': 'sqrt', 'min_samples_split': 6, 'n_estimators': 110}",
          "{'max_depth': 6, 'max_features': 'sqrt', 'min_samples_split': 6, 'n_estimators': 130}",
          "{'max_depth': 6, 'max_features': 'sqrt', 'min_samples_split': 9, 'n_estimators': 50}",
          "{'max_depth': 6, 'max_features': 'sqrt', 'min_samples_split': 9, 'n_estimators': 80}",
          "{'max_depth': 6, 'max_features': 'sqrt', 'min_samples_split': 9, 'n_estimators': 110}",
          "{'max_depth': 6, 'max_features': 'sqrt', 'min_samples_split': 9, 'n_estimators': 130}",
          "{'max_depth': 6, 'max_features': 'sqrt', 'min_samples_split': 12, 'n_estimators': 50}",
          "{'max_depth': 6, 'max_features': 'sqrt', 'min_samples_split': 12, 'n_estimators': 80}",
          "{'max_depth': 6, 'max_features': 'sqrt', 'min_samples_split': 12, 'n_estimators': 110}",
          "{'max_depth': 6, 'max_features': 'sqrt', 'min_samples_split': 12, 'n_estimators': 130}",
          "{'max_depth': 6, 'max_features': 'log2', 'min_samples_split': 3, 'n_estimators': 50}",
          "{'max_depth': 6, 'max_features': 'log2', 'min_samples_split': 3, 'n_estimators': 80}",
          "{'max_depth': 6, 'max_features': 'log2', 'min_samples_split': 3, 'n_estimators': 110}",
          "{'max_depth': 6, 'max_features': 'log2', 'min_samples_split': 3, 'n_estimators': 130}",
          "{'max_depth': 6, 'max_features': 'log2', 'min_samples_split': 6, 'n_estimators': 50}",
          "{'max_depth': 6, 'max_features': 'log2', 'min_samples_split': 6, 'n_estimators': 80}",
          "{'max_depth': 6, 'max_features': 'log2', 'min_samples_split': 6, 'n_estimators': 110}",
          "{'max_depth': 6, 'max_features': 'log2', 'min_samples_split': 6, 'n_estimators': 130}",
          "{'max_depth': 6, 'max_features': 'log2', 'min_samples_split': 9, 'n_estimators': 50}",
          "{'max_depth': 6, 'max_features': 'log2', 'min_samples_split': 9, 'n_estimators': 80}",
          "{'max_depth': 6, 'max_features': 'log2', 'min_samples_split': 9, 'n_estimators': 110}",
          "{'max_depth': 6, 'max_features': 'log2', 'min_samples_split': 9, 'n_estimators': 130}",
          "{'max_depth': 6, 'max_features': 'log2', 'min_samples_split': 12, 'n_estimators': 50}",
          "{'max_depth': 6, 'max_features': 'log2', 'min_samples_split': 12, 'n_estimators': 80}",
          "{'max_depth': 6, 'max_features': 'log2', 'min_samples_split': 12, 'n_estimators': 110}",
          "{'max_depth': 6, 'max_features': 'log2', 'min_samples_split': 12, 'n_estimators': 130}",
          "{'max_depth': 9, 'max_features': 'sqrt', 'min_samples_split': 3, 'n_estimators': 50}",
          "{'max_depth': 9, 'max_features': 'sqrt', 'min_samples_split': 3, 'n_estimators': 80}",
          "{'max_depth': 9, 'max_features': 'sqrt', 'min_samples_split': 3, 'n_estimators': 110}",
          "{'max_depth': 9, 'max_features': 'sqrt', 'min_samples_split': 3, 'n_estimators': 130}",
          "{'max_depth': 9, 'max_features': 'sqrt', 'min_samples_split': 6, 'n_estimators': 50}",
          "{'max_depth': 9, 'max_features': 'sqrt', 'min_samples_split': 6, 'n_estimators': 80}",
          "{'max_depth': 9, 'max_features': 'sqrt', 'min_samples_split': 6, 'n_estimators': 110}",
          "{'max_depth': 9, 'max_features': 'sqrt', 'min_samples_split': 6, 'n_estimators': 130}",
          "{'max_depth': 9, 'max_features': 'sqrt', 'min_samples_split': 9, 'n_estimators': 50}",
          "{'max_depth': 9, 'max_features': 'sqrt', 'min_samples_split': 9, 'n_estimators': 80}",
          "{'max_depth': 9, 'max_features': 'sqrt', 'min_samples_split': 9, 'n_estimators': 110}",
          "{'max_depth': 9, 'max_features': 'sqrt', 'min_samples_split': 9, 'n_estimators': 130}",
          "{'max_depth': 9, 'max_features': 'sqrt', 'min_samples_split': 12, 'n_estimators': 50}",
          "{'max_depth': 9, 'max_features': 'sqrt', 'min_samples_split': 12, 'n_estimators': 80}",
          "{'max_depth': 9, 'max_features': 'sqrt', 'min_samples_split': 12, 'n_estimators': 110}",
          "{'max_depth': 9, 'max_features': 'sqrt', 'min_samples_split': 12, 'n_estimators': 130}",
          "{'max_depth': 9, 'max_features': 'log2', 'min_samples_split': 3, 'n_estimators': 50}",
          "{'max_depth': 9, 'max_features': 'log2', 'min_samples_split': 3, 'n_estimators': 80}",
          "{'max_depth': 9, 'max_features': 'log2', 'min_samples_split': 3, 'n_estimators': 110}",
          "{'max_depth': 9, 'max_features': 'log2', 'min_samples_split': 3, 'n_estimators': 130}",
          "{'max_depth': 9, 'max_features': 'log2', 'min_samples_split': 6, 'n_estimators': 50}",
          "{'max_depth': 9, 'max_features': 'log2', 'min_samples_split': 6, 'n_estimators': 80}",
          "{'max_depth': 9, 'max_features': 'log2', 'min_samples_split': 6, 'n_estimators': 110}",
          "{'max_depth': 9, 'max_features': 'log2', 'min_samples_split': 6, 'n_estimators': 130}",
          "{'max_depth': 9, 'max_features': 'log2', 'min_samples_split': 9, 'n_estimators': 50}",
          "{'max_depth': 9, 'max_features': 'log2', 'min_samples_split': 9, 'n_estimators': 80}",
          "{'max_depth': 9, 'max_features': 'log2', 'min_samples_split': 9, 'n_estimators': 110}",
          "{'max_depth': 9, 'max_features': 'log2', 'min_samples_split': 9, 'n_estimators': 130}",
          "{'max_depth': 9, 'max_features': 'log2', 'min_samples_split': 12, 'n_estimators': 50}",
          "{'max_depth': 9, 'max_features': 'log2', 'min_samples_split': 12, 'n_estimators': 80}",
          "{'max_depth': 9, 'max_features': 'log2', 'min_samples_split': 12, 'n_estimators': 110}",
          "{'max_depth': 9, 'max_features': 'log2', 'min_samples_split': 12, 'n_estimators': 130}"
         ],
         "legendgroup": "train",
         "marker": {
          "color": "#EF553B",
          "pattern": {
           "shape": ""
          }
         },
         "name": "train",
         "offsetgroup": "train",
         "orientation": "v",
         "showlegend": true,
         "textposition": "auto",
         "type": "bar",
         "x": [
          0,
          1,
          2,
          3,
          4,
          5,
          6,
          7,
          8,
          9,
          10,
          11,
          12,
          13,
          14,
          15,
          16,
          17,
          18,
          19,
          20,
          21,
          22,
          23,
          24,
          25,
          26,
          27,
          28,
          29,
          30,
          31,
          32,
          33,
          34,
          35,
          36,
          37,
          38,
          39,
          40,
          41,
          42,
          43,
          44,
          45,
          46,
          47,
          48,
          49,
          50,
          51,
          52,
          53,
          54,
          55,
          56,
          57,
          58,
          59,
          60,
          61,
          62,
          63,
          64,
          65,
          66,
          67,
          68,
          69,
          70,
          71,
          72,
          73,
          74,
          75,
          76,
          77,
          78,
          79,
          80,
          81,
          82,
          83,
          84,
          85,
          86,
          87,
          88,
          89,
          90,
          91,
          92,
          93,
          94,
          95
         ],
         "xaxis": "x",
         "y": [
          0.20144521364489226,
          0.21175958054901817,
          0.21824083935477204,
          0.2207458433069866,
          0.22169014449332752,
          0.2081307196306706,
          0.21042393826997965,
          0.21376029640750266,
          0.194087372571317,
          0.2182212810358802,
          0.2166766244392196,
          0.21323387639563102,
          0.21849392909330553,
          0.1962639496016979,
          0.2095504762618559,
          0.21065924698510954,
          0.2101240950334869,
          0.20927225863538976,
          0.2140334313315339,
          0.2039882565630417,
          0.20830458075721045,
          0.20313551448106684,
          0.21423610795257136,
          0.2089012378138043,
          0.22011596077422949,
          0.19877962504412508,
          0.2077194393476994,
          0.2087536517066421,
          0.22030689146897667,
          0.20444818953943278,
          0.20866521538706734,
          0.2122022945771033,
          0.4632535972964386,
          0.4618110499128371,
          0.449227712736631,
          0.4576650627667644,
          0.45581133883611197,
          0.4593116374865896,
          0.4691024821281934,
          0.4569972897700124,
          0.45721399216544045,
          0.4534722581397846,
          0.45399924021183835,
          0.45076963583886015,
          0.4612343496297832,
          0.4592127525727217,
          0.45029352799081684,
          0.4549762786295511,
          0.45722989950777226,
          0.4622680392112429,
          0.47093683846431944,
          0.45561659164660745,
          0.46785779640165437,
          0.458404211752804,
          0.4548869155694767,
          0.4663346647071978,
          0.4481864985229409,
          0.451340471368009,
          0.460977958050455,
          0.45679543636380826,
          0.45685167774635527,
          0.4596000707450272,
          0.4546860336992161,
          0.45491290081116864,
          0.6581019478266954,
          0.6458132194701672,
          0.6410040507712963,
          0.6430796291452257,
          0.6373712361238205,
          0.6265154742119289,
          0.6325426604514639,
          0.6262386819488309,
          0.6200640599208933,
          0.610118412740582,
          0.6212074286840599,
          0.6177369024036095,
          0.5999396308130681,
          0.6105062329325921,
          0.6064453435071904,
          0.6050044457342165,
          0.6409963486404016,
          0.6396003886705832,
          0.6494810761388082,
          0.6428870517133065,
          0.6227749147341294,
          0.6359399543268832,
          0.6324454568630207,
          0.6299971198808637,
          0.610274766109665,
          0.615905815151921,
          0.6119108595628913,
          0.6216416450219832,
          0.5985652611599988,
          0.6089990791760562,
          0.6102379685681538,
          0.6073408447958194
         ],
         "yaxis": "y"
        }
       ],
       "layout": {
        "barmode": "group",
        "legend": {
         "title": {
          "text": "type"
         },
         "tracegroupgap": 0
        },
        "template": {
         "data": {
          "bar": [
           {
            "error_x": {
             "color": "#2a3f5f"
            },
            "error_y": {
             "color": "#2a3f5f"
            },
            "marker": {
             "line": {
              "color": "#E5ECF6",
              "width": 0.5
             },
             "pattern": {
              "fillmode": "overlay",
              "size": 10,
              "solidity": 0.2
             }
            },
            "type": "bar"
           }
          ],
          "barpolar": [
           {
            "marker": {
             "line": {
              "color": "#E5ECF6",
              "width": 0.5
             },
             "pattern": {
              "fillmode": "overlay",
              "size": 10,
              "solidity": 0.2
             }
            },
            "type": "barpolar"
           }
          ],
          "carpet": [
           {
            "aaxis": {
             "endlinecolor": "#2a3f5f",
             "gridcolor": "white",
             "linecolor": "white",
             "minorgridcolor": "white",
             "startlinecolor": "#2a3f5f"
            },
            "baxis": {
             "endlinecolor": "#2a3f5f",
             "gridcolor": "white",
             "linecolor": "white",
             "minorgridcolor": "white",
             "startlinecolor": "#2a3f5f"
            },
            "type": "carpet"
           }
          ],
          "choropleth": [
           {
            "colorbar": {
             "outlinewidth": 0,
             "ticks": ""
            },
            "type": "choropleth"
           }
          ],
          "contour": [
           {
            "colorbar": {
             "outlinewidth": 0,
             "ticks": ""
            },
            "colorscale": [
             [
              0,
              "#0d0887"
             ],
             [
              0.1111111111111111,
              "#46039f"
             ],
             [
              0.2222222222222222,
              "#7201a8"
             ],
             [
              0.3333333333333333,
              "#9c179e"
             ],
             [
              0.4444444444444444,
              "#bd3786"
             ],
             [
              0.5555555555555556,
              "#d8576b"
             ],
             [
              0.6666666666666666,
              "#ed7953"
             ],
             [
              0.7777777777777778,
              "#fb9f3a"
             ],
             [
              0.8888888888888888,
              "#fdca26"
             ],
             [
              1,
              "#f0f921"
             ]
            ],
            "type": "contour"
           }
          ],
          "contourcarpet": [
           {
            "colorbar": {
             "outlinewidth": 0,
             "ticks": ""
            },
            "type": "contourcarpet"
           }
          ],
          "heatmap": [
           {
            "colorbar": {
             "outlinewidth": 0,
             "ticks": ""
            },
            "colorscale": [
             [
              0,
              "#0d0887"
             ],
             [
              0.1111111111111111,
              "#46039f"
             ],
             [
              0.2222222222222222,
              "#7201a8"
             ],
             [
              0.3333333333333333,
              "#9c179e"
             ],
             [
              0.4444444444444444,
              "#bd3786"
             ],
             [
              0.5555555555555556,
              "#d8576b"
             ],
             [
              0.6666666666666666,
              "#ed7953"
             ],
             [
              0.7777777777777778,
              "#fb9f3a"
             ],
             [
              0.8888888888888888,
              "#fdca26"
             ],
             [
              1,
              "#f0f921"
             ]
            ],
            "type": "heatmap"
           }
          ],
          "heatmapgl": [
           {
            "colorbar": {
             "outlinewidth": 0,
             "ticks": ""
            },
            "colorscale": [
             [
              0,
              "#0d0887"
             ],
             [
              0.1111111111111111,
              "#46039f"
             ],
             [
              0.2222222222222222,
              "#7201a8"
             ],
             [
              0.3333333333333333,
              "#9c179e"
             ],
             [
              0.4444444444444444,
              "#bd3786"
             ],
             [
              0.5555555555555556,
              "#d8576b"
             ],
             [
              0.6666666666666666,
              "#ed7953"
             ],
             [
              0.7777777777777778,
              "#fb9f3a"
             ],
             [
              0.8888888888888888,
              "#fdca26"
             ],
             [
              1,
              "#f0f921"
             ]
            ],
            "type": "heatmapgl"
           }
          ],
          "histogram": [
           {
            "marker": {
             "pattern": {
              "fillmode": "overlay",
              "size": 10,
              "solidity": 0.2
             }
            },
            "type": "histogram"
           }
          ],
          "histogram2d": [
           {
            "colorbar": {
             "outlinewidth": 0,
             "ticks": ""
            },
            "colorscale": [
             [
              0,
              "#0d0887"
             ],
             [
              0.1111111111111111,
              "#46039f"
             ],
             [
              0.2222222222222222,
              "#7201a8"
             ],
             [
              0.3333333333333333,
              "#9c179e"
             ],
             [
              0.4444444444444444,
              "#bd3786"
             ],
             [
              0.5555555555555556,
              "#d8576b"
             ],
             [
              0.6666666666666666,
              "#ed7953"
             ],
             [
              0.7777777777777778,
              "#fb9f3a"
             ],
             [
              0.8888888888888888,
              "#fdca26"
             ],
             [
              1,
              "#f0f921"
             ]
            ],
            "type": "histogram2d"
           }
          ],
          "histogram2dcontour": [
           {
            "colorbar": {
             "outlinewidth": 0,
             "ticks": ""
            },
            "colorscale": [
             [
              0,
              "#0d0887"
             ],
             [
              0.1111111111111111,
              "#46039f"
             ],
             [
              0.2222222222222222,
              "#7201a8"
             ],
             [
              0.3333333333333333,
              "#9c179e"
             ],
             [
              0.4444444444444444,
              "#bd3786"
             ],
             [
              0.5555555555555556,
              "#d8576b"
             ],
             [
              0.6666666666666666,
              "#ed7953"
             ],
             [
              0.7777777777777778,
              "#fb9f3a"
             ],
             [
              0.8888888888888888,
              "#fdca26"
             ],
             [
              1,
              "#f0f921"
             ]
            ],
            "type": "histogram2dcontour"
           }
          ],
          "mesh3d": [
           {
            "colorbar": {
             "outlinewidth": 0,
             "ticks": ""
            },
            "type": "mesh3d"
           }
          ],
          "parcoords": [
           {
            "line": {
             "colorbar": {
              "outlinewidth": 0,
              "ticks": ""
             }
            },
            "type": "parcoords"
           }
          ],
          "pie": [
           {
            "automargin": true,
            "type": "pie"
           }
          ],
          "scatter": [
           {
            "marker": {
             "colorbar": {
              "outlinewidth": 0,
              "ticks": ""
             }
            },
            "type": "scatter"
           }
          ],
          "scatter3d": [
           {
            "line": {
             "colorbar": {
              "outlinewidth": 0,
              "ticks": ""
             }
            },
            "marker": {
             "colorbar": {
              "outlinewidth": 0,
              "ticks": ""
             }
            },
            "type": "scatter3d"
           }
          ],
          "scattercarpet": [
           {
            "marker": {
             "colorbar": {
              "outlinewidth": 0,
              "ticks": ""
             }
            },
            "type": "scattercarpet"
           }
          ],
          "scattergeo": [
           {
            "marker": {
             "colorbar": {
              "outlinewidth": 0,
              "ticks": ""
             }
            },
            "type": "scattergeo"
           }
          ],
          "scattergl": [
           {
            "marker": {
             "colorbar": {
              "outlinewidth": 0,
              "ticks": ""
             }
            },
            "type": "scattergl"
           }
          ],
          "scattermapbox": [
           {
            "marker": {
             "colorbar": {
              "outlinewidth": 0,
              "ticks": ""
             }
            },
            "type": "scattermapbox"
           }
          ],
          "scatterpolar": [
           {
            "marker": {
             "colorbar": {
              "outlinewidth": 0,
              "ticks": ""
             }
            },
            "type": "scatterpolar"
           }
          ],
          "scatterpolargl": [
           {
            "marker": {
             "colorbar": {
              "outlinewidth": 0,
              "ticks": ""
             }
            },
            "type": "scatterpolargl"
           }
          ],
          "scatterternary": [
           {
            "marker": {
             "colorbar": {
              "outlinewidth": 0,
              "ticks": ""
             }
            },
            "type": "scatterternary"
           }
          ],
          "surface": [
           {
            "colorbar": {
             "outlinewidth": 0,
             "ticks": ""
            },
            "colorscale": [
             [
              0,
              "#0d0887"
             ],
             [
              0.1111111111111111,
              "#46039f"
             ],
             [
              0.2222222222222222,
              "#7201a8"
             ],
             [
              0.3333333333333333,
              "#9c179e"
             ],
             [
              0.4444444444444444,
              "#bd3786"
             ],
             [
              0.5555555555555556,
              "#d8576b"
             ],
             [
              0.6666666666666666,
              "#ed7953"
             ],
             [
              0.7777777777777778,
              "#fb9f3a"
             ],
             [
              0.8888888888888888,
              "#fdca26"
             ],
             [
              1,
              "#f0f921"
             ]
            ],
            "type": "surface"
           }
          ],
          "table": [
           {
            "cells": {
             "fill": {
              "color": "#EBF0F8"
             },
             "line": {
              "color": "white"
             }
            },
            "header": {
             "fill": {
              "color": "#C8D4E3"
             },
             "line": {
              "color": "white"
             }
            },
            "type": "table"
           }
          ]
         },
         "layout": {
          "annotationdefaults": {
           "arrowcolor": "#2a3f5f",
           "arrowhead": 0,
           "arrowwidth": 1
          },
          "autotypenumbers": "strict",
          "coloraxis": {
           "colorbar": {
            "outlinewidth": 0,
            "ticks": ""
           }
          },
          "colorscale": {
           "diverging": [
            [
             0,
             "#8e0152"
            ],
            [
             0.1,
             "#c51b7d"
            ],
            [
             0.2,
             "#de77ae"
            ],
            [
             0.3,
             "#f1b6da"
            ],
            [
             0.4,
             "#fde0ef"
            ],
            [
             0.5,
             "#f7f7f7"
            ],
            [
             0.6,
             "#e6f5d0"
            ],
            [
             0.7,
             "#b8e186"
            ],
            [
             0.8,
             "#7fbc41"
            ],
            [
             0.9,
             "#4d9221"
            ],
            [
             1,
             "#276419"
            ]
           ],
           "sequential": [
            [
             0,
             "#0d0887"
            ],
            [
             0.1111111111111111,
             "#46039f"
            ],
            [
             0.2222222222222222,
             "#7201a8"
            ],
            [
             0.3333333333333333,
             "#9c179e"
            ],
            [
             0.4444444444444444,
             "#bd3786"
            ],
            [
             0.5555555555555556,
             "#d8576b"
            ],
            [
             0.6666666666666666,
             "#ed7953"
            ],
            [
             0.7777777777777778,
             "#fb9f3a"
            ],
            [
             0.8888888888888888,
             "#fdca26"
            ],
            [
             1,
             "#f0f921"
            ]
           ],
           "sequentialminus": [
            [
             0,
             "#0d0887"
            ],
            [
             0.1111111111111111,
             "#46039f"
            ],
            [
             0.2222222222222222,
             "#7201a8"
            ],
            [
             0.3333333333333333,
             "#9c179e"
            ],
            [
             0.4444444444444444,
             "#bd3786"
            ],
            [
             0.5555555555555556,
             "#d8576b"
            ],
            [
             0.6666666666666666,
             "#ed7953"
            ],
            [
             0.7777777777777778,
             "#fb9f3a"
            ],
            [
             0.8888888888888888,
             "#fdca26"
            ],
            [
             1,
             "#f0f921"
            ]
           ]
          },
          "colorway": [
           "#636efa",
           "#EF553B",
           "#00cc96",
           "#ab63fa",
           "#FFA15A",
           "#19d3f3",
           "#FF6692",
           "#B6E880",
           "#FF97FF",
           "#FECB52"
          ],
          "font": {
           "color": "#2a3f5f"
          },
          "geo": {
           "bgcolor": "white",
           "lakecolor": "white",
           "landcolor": "#E5ECF6",
           "showlakes": true,
           "showland": true,
           "subunitcolor": "white"
          },
          "hoverlabel": {
           "align": "left"
          },
          "hovermode": "closest",
          "mapbox": {
           "style": "light"
          },
          "paper_bgcolor": "white",
          "plot_bgcolor": "#E5ECF6",
          "polar": {
           "angularaxis": {
            "gridcolor": "white",
            "linecolor": "white",
            "ticks": ""
           },
           "bgcolor": "#E5ECF6",
           "radialaxis": {
            "gridcolor": "white",
            "linecolor": "white",
            "ticks": ""
           }
          },
          "scene": {
           "xaxis": {
            "backgroundcolor": "#E5ECF6",
            "gridcolor": "white",
            "gridwidth": 2,
            "linecolor": "white",
            "showbackground": true,
            "ticks": "",
            "zerolinecolor": "white"
           },
           "yaxis": {
            "backgroundcolor": "#E5ECF6",
            "gridcolor": "white",
            "gridwidth": 2,
            "linecolor": "white",
            "showbackground": true,
            "ticks": "",
            "zerolinecolor": "white"
           },
           "zaxis": {
            "backgroundcolor": "#E5ECF6",
            "gridcolor": "white",
            "gridwidth": 2,
            "linecolor": "white",
            "showbackground": true,
            "ticks": "",
            "zerolinecolor": "white"
           }
          },
          "shapedefaults": {
           "line": {
            "color": "#2a3f5f"
           }
          },
          "ternary": {
           "aaxis": {
            "gridcolor": "white",
            "linecolor": "white",
            "ticks": ""
           },
           "baxis": {
            "gridcolor": "white",
            "linecolor": "white",
            "ticks": ""
           },
           "bgcolor": "#E5ECF6",
           "caxis": {
            "gridcolor": "white",
            "linecolor": "white",
            "ticks": ""
           }
          },
          "title": {
           "x": 0.05
          },
          "xaxis": {
           "automargin": true,
           "gridcolor": "white",
           "linecolor": "white",
           "ticks": "",
           "title": {
            "standoff": 15
           },
           "zerolinecolor": "white",
           "zerolinewidth": 2
          },
          "yaxis": {
           "automargin": true,
           "gridcolor": "white",
           "linecolor": "white",
           "ticks": "",
           "title": {
            "standoff": 15
           },
           "zerolinecolor": "white",
           "zerolinewidth": 2
          }
         }
        },
        "title": {
         "text": "Mean f1 score on testing and training set for each parameter combination <br> (Model: RandomForest Classifier, Dataset: Multivariate feature imputation with subset selection)"
        },
        "xaxis": {
         "anchor": "y",
         "domain": [
          0,
          1
         ],
         "title": {
          "text": "Params"
         }
        },
        "yaxis": {
         "anchor": "x",
         "domain": [
          0,
          1
         ],
         "title": {
          "text": "Average f1"
         }
        }
       }
      }
     },
     "metadata": {},
     "output_type": "display_data"
    }
   ],
   "source": [
    "stats = computeModelStats(model, stats, multivariate_feature_imputation_subset_selection, pgrid)"
   ]
  },
  {
   "cell_type": "code",
   "execution_count": 33,
   "metadata": {
    "collapsed": false,
    "pycharm": {
     "name": "#%%\n"
    }
   },
   "outputs": [
    {
     "name": "stdout",
     "output_type": "stream",
     "text": [
      "Fitting 5 folds for each of 96 candidates, totalling 480 fits\n"
     ]
    },
    {
     "data": {
      "application/vnd.plotly.v1+json": {
       "config": {
        "plotlyServerURL": "https://plot.ly"
       },
       "data": [
        {
         "alignmentgroup": "True",
         "customdata": [
          [
           "{'max_depth': 3, 'max_features': 'sqrt', 'min_samples_split': 3, 'n_estimators': 50}"
          ],
          [
           "{'max_depth': 3, 'max_features': 'sqrt', 'min_samples_split': 3, 'n_estimators': 80}"
          ],
          [
           "{'max_depth': 3, 'max_features': 'sqrt', 'min_samples_split': 3, 'n_estimators': 110}"
          ],
          [
           "{'max_depth': 3, 'max_features': 'sqrt', 'min_samples_split': 3, 'n_estimators': 130}"
          ],
          [
           "{'max_depth': 3, 'max_features': 'sqrt', 'min_samples_split': 6, 'n_estimators': 50}"
          ],
          [
           "{'max_depth': 3, 'max_features': 'sqrt', 'min_samples_split': 6, 'n_estimators': 80}"
          ],
          [
           "{'max_depth': 3, 'max_features': 'sqrt', 'min_samples_split': 6, 'n_estimators': 110}"
          ],
          [
           "{'max_depth': 3, 'max_features': 'sqrt', 'min_samples_split': 6, 'n_estimators': 130}"
          ],
          [
           "{'max_depth': 3, 'max_features': 'sqrt', 'min_samples_split': 9, 'n_estimators': 50}"
          ],
          [
           "{'max_depth': 3, 'max_features': 'sqrt', 'min_samples_split': 9, 'n_estimators': 80}"
          ],
          [
           "{'max_depth': 3, 'max_features': 'sqrt', 'min_samples_split': 9, 'n_estimators': 110}"
          ],
          [
           "{'max_depth': 3, 'max_features': 'sqrt', 'min_samples_split': 9, 'n_estimators': 130}"
          ],
          [
           "{'max_depth': 3, 'max_features': 'sqrt', 'min_samples_split': 12, 'n_estimators': 50}"
          ],
          [
           "{'max_depth': 3, 'max_features': 'sqrt', 'min_samples_split': 12, 'n_estimators': 80}"
          ],
          [
           "{'max_depth': 3, 'max_features': 'sqrt', 'min_samples_split': 12, 'n_estimators': 110}"
          ],
          [
           "{'max_depth': 3, 'max_features': 'sqrt', 'min_samples_split': 12, 'n_estimators': 130}"
          ],
          [
           "{'max_depth': 3, 'max_features': 'log2', 'min_samples_split': 3, 'n_estimators': 50}"
          ],
          [
           "{'max_depth': 3, 'max_features': 'log2', 'min_samples_split': 3, 'n_estimators': 80}"
          ],
          [
           "{'max_depth': 3, 'max_features': 'log2', 'min_samples_split': 3, 'n_estimators': 110}"
          ],
          [
           "{'max_depth': 3, 'max_features': 'log2', 'min_samples_split': 3, 'n_estimators': 130}"
          ],
          [
           "{'max_depth': 3, 'max_features': 'log2', 'min_samples_split': 6, 'n_estimators': 50}"
          ],
          [
           "{'max_depth': 3, 'max_features': 'log2', 'min_samples_split': 6, 'n_estimators': 80}"
          ],
          [
           "{'max_depth': 3, 'max_features': 'log2', 'min_samples_split': 6, 'n_estimators': 110}"
          ],
          [
           "{'max_depth': 3, 'max_features': 'log2', 'min_samples_split': 6, 'n_estimators': 130}"
          ],
          [
           "{'max_depth': 3, 'max_features': 'log2', 'min_samples_split': 9, 'n_estimators': 50}"
          ],
          [
           "{'max_depth': 3, 'max_features': 'log2', 'min_samples_split': 9, 'n_estimators': 80}"
          ],
          [
           "{'max_depth': 3, 'max_features': 'log2', 'min_samples_split': 9, 'n_estimators': 110}"
          ],
          [
           "{'max_depth': 3, 'max_features': 'log2', 'min_samples_split': 9, 'n_estimators': 130}"
          ],
          [
           "{'max_depth': 3, 'max_features': 'log2', 'min_samples_split': 12, 'n_estimators': 50}"
          ],
          [
           "{'max_depth': 3, 'max_features': 'log2', 'min_samples_split': 12, 'n_estimators': 80}"
          ],
          [
           "{'max_depth': 3, 'max_features': 'log2', 'min_samples_split': 12, 'n_estimators': 110}"
          ],
          [
           "{'max_depth': 3, 'max_features': 'log2', 'min_samples_split': 12, 'n_estimators': 130}"
          ],
          [
           "{'max_depth': 6, 'max_features': 'sqrt', 'min_samples_split': 3, 'n_estimators': 50}"
          ],
          [
           "{'max_depth': 6, 'max_features': 'sqrt', 'min_samples_split': 3, 'n_estimators': 80}"
          ],
          [
           "{'max_depth': 6, 'max_features': 'sqrt', 'min_samples_split': 3, 'n_estimators': 110}"
          ],
          [
           "{'max_depth': 6, 'max_features': 'sqrt', 'min_samples_split': 3, 'n_estimators': 130}"
          ],
          [
           "{'max_depth': 6, 'max_features': 'sqrt', 'min_samples_split': 6, 'n_estimators': 50}"
          ],
          [
           "{'max_depth': 6, 'max_features': 'sqrt', 'min_samples_split': 6, 'n_estimators': 80}"
          ],
          [
           "{'max_depth': 6, 'max_features': 'sqrt', 'min_samples_split': 6, 'n_estimators': 110}"
          ],
          [
           "{'max_depth': 6, 'max_features': 'sqrt', 'min_samples_split': 6, 'n_estimators': 130}"
          ],
          [
           "{'max_depth': 6, 'max_features': 'sqrt', 'min_samples_split': 9, 'n_estimators': 50}"
          ],
          [
           "{'max_depth': 6, 'max_features': 'sqrt', 'min_samples_split': 9, 'n_estimators': 80}"
          ],
          [
           "{'max_depth': 6, 'max_features': 'sqrt', 'min_samples_split': 9, 'n_estimators': 110}"
          ],
          [
           "{'max_depth': 6, 'max_features': 'sqrt', 'min_samples_split': 9, 'n_estimators': 130}"
          ],
          [
           "{'max_depth': 6, 'max_features': 'sqrt', 'min_samples_split': 12, 'n_estimators': 50}"
          ],
          [
           "{'max_depth': 6, 'max_features': 'sqrt', 'min_samples_split': 12, 'n_estimators': 80}"
          ],
          [
           "{'max_depth': 6, 'max_features': 'sqrt', 'min_samples_split': 12, 'n_estimators': 110}"
          ],
          [
           "{'max_depth': 6, 'max_features': 'sqrt', 'min_samples_split': 12, 'n_estimators': 130}"
          ],
          [
           "{'max_depth': 6, 'max_features': 'log2', 'min_samples_split': 3, 'n_estimators': 50}"
          ],
          [
           "{'max_depth': 6, 'max_features': 'log2', 'min_samples_split': 3, 'n_estimators': 80}"
          ],
          [
           "{'max_depth': 6, 'max_features': 'log2', 'min_samples_split': 3, 'n_estimators': 110}"
          ],
          [
           "{'max_depth': 6, 'max_features': 'log2', 'min_samples_split': 3, 'n_estimators': 130}"
          ],
          [
           "{'max_depth': 6, 'max_features': 'log2', 'min_samples_split': 6, 'n_estimators': 50}"
          ],
          [
           "{'max_depth': 6, 'max_features': 'log2', 'min_samples_split': 6, 'n_estimators': 80}"
          ],
          [
           "{'max_depth': 6, 'max_features': 'log2', 'min_samples_split': 6, 'n_estimators': 110}"
          ],
          [
           "{'max_depth': 6, 'max_features': 'log2', 'min_samples_split': 6, 'n_estimators': 130}"
          ],
          [
           "{'max_depth': 6, 'max_features': 'log2', 'min_samples_split': 9, 'n_estimators': 50}"
          ],
          [
           "{'max_depth': 6, 'max_features': 'log2', 'min_samples_split': 9, 'n_estimators': 80}"
          ],
          [
           "{'max_depth': 6, 'max_features': 'log2', 'min_samples_split': 9, 'n_estimators': 110}"
          ],
          [
           "{'max_depth': 6, 'max_features': 'log2', 'min_samples_split': 9, 'n_estimators': 130}"
          ],
          [
           "{'max_depth': 6, 'max_features': 'log2', 'min_samples_split': 12, 'n_estimators': 50}"
          ],
          [
           "{'max_depth': 6, 'max_features': 'log2', 'min_samples_split': 12, 'n_estimators': 80}"
          ],
          [
           "{'max_depth': 6, 'max_features': 'log2', 'min_samples_split': 12, 'n_estimators': 110}"
          ],
          [
           "{'max_depth': 6, 'max_features': 'log2', 'min_samples_split': 12, 'n_estimators': 130}"
          ],
          [
           "{'max_depth': 9, 'max_features': 'sqrt', 'min_samples_split': 3, 'n_estimators': 50}"
          ],
          [
           "{'max_depth': 9, 'max_features': 'sqrt', 'min_samples_split': 3, 'n_estimators': 80}"
          ],
          [
           "{'max_depth': 9, 'max_features': 'sqrt', 'min_samples_split': 3, 'n_estimators': 110}"
          ],
          [
           "{'max_depth': 9, 'max_features': 'sqrt', 'min_samples_split': 3, 'n_estimators': 130}"
          ],
          [
           "{'max_depth': 9, 'max_features': 'sqrt', 'min_samples_split': 6, 'n_estimators': 50}"
          ],
          [
           "{'max_depth': 9, 'max_features': 'sqrt', 'min_samples_split': 6, 'n_estimators': 80}"
          ],
          [
           "{'max_depth': 9, 'max_features': 'sqrt', 'min_samples_split': 6, 'n_estimators': 110}"
          ],
          [
           "{'max_depth': 9, 'max_features': 'sqrt', 'min_samples_split': 6, 'n_estimators': 130}"
          ],
          [
           "{'max_depth': 9, 'max_features': 'sqrt', 'min_samples_split': 9, 'n_estimators': 50}"
          ],
          [
           "{'max_depth': 9, 'max_features': 'sqrt', 'min_samples_split': 9, 'n_estimators': 80}"
          ],
          [
           "{'max_depth': 9, 'max_features': 'sqrt', 'min_samples_split': 9, 'n_estimators': 110}"
          ],
          [
           "{'max_depth': 9, 'max_features': 'sqrt', 'min_samples_split': 9, 'n_estimators': 130}"
          ],
          [
           "{'max_depth': 9, 'max_features': 'sqrt', 'min_samples_split': 12, 'n_estimators': 50}"
          ],
          [
           "{'max_depth': 9, 'max_features': 'sqrt', 'min_samples_split': 12, 'n_estimators': 80}"
          ],
          [
           "{'max_depth': 9, 'max_features': 'sqrt', 'min_samples_split': 12, 'n_estimators': 110}"
          ],
          [
           "{'max_depth': 9, 'max_features': 'sqrt', 'min_samples_split': 12, 'n_estimators': 130}"
          ],
          [
           "{'max_depth': 9, 'max_features': 'log2', 'min_samples_split': 3, 'n_estimators': 50}"
          ],
          [
           "{'max_depth': 9, 'max_features': 'log2', 'min_samples_split': 3, 'n_estimators': 80}"
          ],
          [
           "{'max_depth': 9, 'max_features': 'log2', 'min_samples_split': 3, 'n_estimators': 110}"
          ],
          [
           "{'max_depth': 9, 'max_features': 'log2', 'min_samples_split': 3, 'n_estimators': 130}"
          ],
          [
           "{'max_depth': 9, 'max_features': 'log2', 'min_samples_split': 6, 'n_estimators': 50}"
          ],
          [
           "{'max_depth': 9, 'max_features': 'log2', 'min_samples_split': 6, 'n_estimators': 80}"
          ],
          [
           "{'max_depth': 9, 'max_features': 'log2', 'min_samples_split': 6, 'n_estimators': 110}"
          ],
          [
           "{'max_depth': 9, 'max_features': 'log2', 'min_samples_split': 6, 'n_estimators': 130}"
          ],
          [
           "{'max_depth': 9, 'max_features': 'log2', 'min_samples_split': 9, 'n_estimators': 50}"
          ],
          [
           "{'max_depth': 9, 'max_features': 'log2', 'min_samples_split': 9, 'n_estimators': 80}"
          ],
          [
           "{'max_depth': 9, 'max_features': 'log2', 'min_samples_split': 9, 'n_estimators': 110}"
          ],
          [
           "{'max_depth': 9, 'max_features': 'log2', 'min_samples_split': 9, 'n_estimators': 130}"
          ],
          [
           "{'max_depth': 9, 'max_features': 'log2', 'min_samples_split': 12, 'n_estimators': 50}"
          ],
          [
           "{'max_depth': 9, 'max_features': 'log2', 'min_samples_split': 12, 'n_estimators': 80}"
          ],
          [
           "{'max_depth': 9, 'max_features': 'log2', 'min_samples_split': 12, 'n_estimators': 110}"
          ],
          [
           "{'max_depth': 9, 'max_features': 'log2', 'min_samples_split': 12, 'n_estimators': 130}"
          ]
         ],
         "error_y": {
          "array": [
           0.010983351099923386,
           0.015258563620882513,
           0.01916454145448771,
           0.019711651703645434,
           0.015013331493303307,
           0.02060904484920477,
           0.018473606400597732,
           0.02064632388383864,
           0.017320985098061438,
           0.02513173565114581,
           0.020851873858294928,
           0.015328027239220377,
           0.021027095406436477,
           0.024896172020987498,
           0.015063766646477033,
           0.0167091733926875,
           0.017673672039181586,
           0.02161838687806789,
           0.02079152151914247,
           0.01509384544673131,
           0.018307891713738055,
           0.030507433038737465,
           0.01893233285482951,
           0.015391788187324546,
           0.02440146818979744,
           0.022159809946387672,
           0.027579246762203233,
           0.01011232574997669,
           0.02659275225974183,
           0.01527412607935885,
           0.013280240309082807,
           0.020375185707483447,
           0.04659901567656186,
           0.06310163385415753,
           0.05101630556200965,
           0.05906197926432664,
           0.04958741663569022,
           0.04035134487421558,
           0.04675743823804435,
           0.05708940909313213,
           0.05055026085566782,
           0.05171679282991054,
           0.051792110547526166,
           0.0555190943038351,
           0.06220728112545803,
           0.0463056774250291,
           0.044033108659286786,
           0.045347997599770505,
           0.04048135561699889,
           0.056240309666737945,
           0.04623268562907761,
           0.055361482861197596,
           0.05293197254462209,
           0.05269266073958592,
           0.05351795838238131,
           0.04980555990030049,
           0.05213604574028329,
           0.052094222527439414,
           0.05521885655890987,
           0.058511026449453225,
           0.04171722412113052,
           0.06038098214416866,
           0.056239152923963476,
           0.06051230125264886,
           0.037670015703671816,
           0.0574273979946842,
           0.05578998370960271,
           0.04785979686778949,
           0.050795758609817845,
           0.050545844452768024,
           0.06016203865367794,
           0.05388938213367577,
           0.05020042526439861,
           0.041278711964240544,
           0.05751810064955292,
           0.045827987461540716,
           0.04241181607222099,
           0.047310996073499596,
           0.05226594229676334,
           0.052829911271449446,
           0.044574047526111674,
           0.05373934503311731,
           0.05703740225062901,
           0.05238707235251323,
           0.05682105026824843,
           0.049166053271915575,
           0.045907680932433526,
           0.05627305593639031,
           0.061363600381487665,
           0.043371962868741794,
           0.047813933104832146,
           0.05358848730062752,
           0.048519102021811006,
           0.048562158412275715,
           0.05885633562419074,
           0.05228838283633909
          ]
         },
         "hovertemplate": "<b>%{hovertext}</b><br><br>type=test<br>Params=%{x}<br>Average f1=%{y}<br>params=%{customdata[0]}<extra></extra>",
         "hovertext": [
          "{'max_depth': 3, 'max_features': 'sqrt', 'min_samples_split': 3, 'n_estimators': 50}",
          "{'max_depth': 3, 'max_features': 'sqrt', 'min_samples_split': 3, 'n_estimators': 80}",
          "{'max_depth': 3, 'max_features': 'sqrt', 'min_samples_split': 3, 'n_estimators': 110}",
          "{'max_depth': 3, 'max_features': 'sqrt', 'min_samples_split': 3, 'n_estimators': 130}",
          "{'max_depth': 3, 'max_features': 'sqrt', 'min_samples_split': 6, 'n_estimators': 50}",
          "{'max_depth': 3, 'max_features': 'sqrt', 'min_samples_split': 6, 'n_estimators': 80}",
          "{'max_depth': 3, 'max_features': 'sqrt', 'min_samples_split': 6, 'n_estimators': 110}",
          "{'max_depth': 3, 'max_features': 'sqrt', 'min_samples_split': 6, 'n_estimators': 130}",
          "{'max_depth': 3, 'max_features': 'sqrt', 'min_samples_split': 9, 'n_estimators': 50}",
          "{'max_depth': 3, 'max_features': 'sqrt', 'min_samples_split': 9, 'n_estimators': 80}",
          "{'max_depth': 3, 'max_features': 'sqrt', 'min_samples_split': 9, 'n_estimators': 110}",
          "{'max_depth': 3, 'max_features': 'sqrt', 'min_samples_split': 9, 'n_estimators': 130}",
          "{'max_depth': 3, 'max_features': 'sqrt', 'min_samples_split': 12, 'n_estimators': 50}",
          "{'max_depth': 3, 'max_features': 'sqrt', 'min_samples_split': 12, 'n_estimators': 80}",
          "{'max_depth': 3, 'max_features': 'sqrt', 'min_samples_split': 12, 'n_estimators': 110}",
          "{'max_depth': 3, 'max_features': 'sqrt', 'min_samples_split': 12, 'n_estimators': 130}",
          "{'max_depth': 3, 'max_features': 'log2', 'min_samples_split': 3, 'n_estimators': 50}",
          "{'max_depth': 3, 'max_features': 'log2', 'min_samples_split': 3, 'n_estimators': 80}",
          "{'max_depth': 3, 'max_features': 'log2', 'min_samples_split': 3, 'n_estimators': 110}",
          "{'max_depth': 3, 'max_features': 'log2', 'min_samples_split': 3, 'n_estimators': 130}",
          "{'max_depth': 3, 'max_features': 'log2', 'min_samples_split': 6, 'n_estimators': 50}",
          "{'max_depth': 3, 'max_features': 'log2', 'min_samples_split': 6, 'n_estimators': 80}",
          "{'max_depth': 3, 'max_features': 'log2', 'min_samples_split': 6, 'n_estimators': 110}",
          "{'max_depth': 3, 'max_features': 'log2', 'min_samples_split': 6, 'n_estimators': 130}",
          "{'max_depth': 3, 'max_features': 'log2', 'min_samples_split': 9, 'n_estimators': 50}",
          "{'max_depth': 3, 'max_features': 'log2', 'min_samples_split': 9, 'n_estimators': 80}",
          "{'max_depth': 3, 'max_features': 'log2', 'min_samples_split': 9, 'n_estimators': 110}",
          "{'max_depth': 3, 'max_features': 'log2', 'min_samples_split': 9, 'n_estimators': 130}",
          "{'max_depth': 3, 'max_features': 'log2', 'min_samples_split': 12, 'n_estimators': 50}",
          "{'max_depth': 3, 'max_features': 'log2', 'min_samples_split': 12, 'n_estimators': 80}",
          "{'max_depth': 3, 'max_features': 'log2', 'min_samples_split': 12, 'n_estimators': 110}",
          "{'max_depth': 3, 'max_features': 'log2', 'min_samples_split': 12, 'n_estimators': 130}",
          "{'max_depth': 6, 'max_features': 'sqrt', 'min_samples_split': 3, 'n_estimators': 50}",
          "{'max_depth': 6, 'max_features': 'sqrt', 'min_samples_split': 3, 'n_estimators': 80}",
          "{'max_depth': 6, 'max_features': 'sqrt', 'min_samples_split': 3, 'n_estimators': 110}",
          "{'max_depth': 6, 'max_features': 'sqrt', 'min_samples_split': 3, 'n_estimators': 130}",
          "{'max_depth': 6, 'max_features': 'sqrt', 'min_samples_split': 6, 'n_estimators': 50}",
          "{'max_depth': 6, 'max_features': 'sqrt', 'min_samples_split': 6, 'n_estimators': 80}",
          "{'max_depth': 6, 'max_features': 'sqrt', 'min_samples_split': 6, 'n_estimators': 110}",
          "{'max_depth': 6, 'max_features': 'sqrt', 'min_samples_split': 6, 'n_estimators': 130}",
          "{'max_depth': 6, 'max_features': 'sqrt', 'min_samples_split': 9, 'n_estimators': 50}",
          "{'max_depth': 6, 'max_features': 'sqrt', 'min_samples_split': 9, 'n_estimators': 80}",
          "{'max_depth': 6, 'max_features': 'sqrt', 'min_samples_split': 9, 'n_estimators': 110}",
          "{'max_depth': 6, 'max_features': 'sqrt', 'min_samples_split': 9, 'n_estimators': 130}",
          "{'max_depth': 6, 'max_features': 'sqrt', 'min_samples_split': 12, 'n_estimators': 50}",
          "{'max_depth': 6, 'max_features': 'sqrt', 'min_samples_split': 12, 'n_estimators': 80}",
          "{'max_depth': 6, 'max_features': 'sqrt', 'min_samples_split': 12, 'n_estimators': 110}",
          "{'max_depth': 6, 'max_features': 'sqrt', 'min_samples_split': 12, 'n_estimators': 130}",
          "{'max_depth': 6, 'max_features': 'log2', 'min_samples_split': 3, 'n_estimators': 50}",
          "{'max_depth': 6, 'max_features': 'log2', 'min_samples_split': 3, 'n_estimators': 80}",
          "{'max_depth': 6, 'max_features': 'log2', 'min_samples_split': 3, 'n_estimators': 110}",
          "{'max_depth': 6, 'max_features': 'log2', 'min_samples_split': 3, 'n_estimators': 130}",
          "{'max_depth': 6, 'max_features': 'log2', 'min_samples_split': 6, 'n_estimators': 50}",
          "{'max_depth': 6, 'max_features': 'log2', 'min_samples_split': 6, 'n_estimators': 80}",
          "{'max_depth': 6, 'max_features': 'log2', 'min_samples_split': 6, 'n_estimators': 110}",
          "{'max_depth': 6, 'max_features': 'log2', 'min_samples_split': 6, 'n_estimators': 130}",
          "{'max_depth': 6, 'max_features': 'log2', 'min_samples_split': 9, 'n_estimators': 50}",
          "{'max_depth': 6, 'max_features': 'log2', 'min_samples_split': 9, 'n_estimators': 80}",
          "{'max_depth': 6, 'max_features': 'log2', 'min_samples_split': 9, 'n_estimators': 110}",
          "{'max_depth': 6, 'max_features': 'log2', 'min_samples_split': 9, 'n_estimators': 130}",
          "{'max_depth': 6, 'max_features': 'log2', 'min_samples_split': 12, 'n_estimators': 50}",
          "{'max_depth': 6, 'max_features': 'log2', 'min_samples_split': 12, 'n_estimators': 80}",
          "{'max_depth': 6, 'max_features': 'log2', 'min_samples_split': 12, 'n_estimators': 110}",
          "{'max_depth': 6, 'max_features': 'log2', 'min_samples_split': 12, 'n_estimators': 130}",
          "{'max_depth': 9, 'max_features': 'sqrt', 'min_samples_split': 3, 'n_estimators': 50}",
          "{'max_depth': 9, 'max_features': 'sqrt', 'min_samples_split': 3, 'n_estimators': 80}",
          "{'max_depth': 9, 'max_features': 'sqrt', 'min_samples_split': 3, 'n_estimators': 110}",
          "{'max_depth': 9, 'max_features': 'sqrt', 'min_samples_split': 3, 'n_estimators': 130}",
          "{'max_depth': 9, 'max_features': 'sqrt', 'min_samples_split': 6, 'n_estimators': 50}",
          "{'max_depth': 9, 'max_features': 'sqrt', 'min_samples_split': 6, 'n_estimators': 80}",
          "{'max_depth': 9, 'max_features': 'sqrt', 'min_samples_split': 6, 'n_estimators': 110}",
          "{'max_depth': 9, 'max_features': 'sqrt', 'min_samples_split': 6, 'n_estimators': 130}",
          "{'max_depth': 9, 'max_features': 'sqrt', 'min_samples_split': 9, 'n_estimators': 50}",
          "{'max_depth': 9, 'max_features': 'sqrt', 'min_samples_split': 9, 'n_estimators': 80}",
          "{'max_depth': 9, 'max_features': 'sqrt', 'min_samples_split': 9, 'n_estimators': 110}",
          "{'max_depth': 9, 'max_features': 'sqrt', 'min_samples_split': 9, 'n_estimators': 130}",
          "{'max_depth': 9, 'max_features': 'sqrt', 'min_samples_split': 12, 'n_estimators': 50}",
          "{'max_depth': 9, 'max_features': 'sqrt', 'min_samples_split': 12, 'n_estimators': 80}",
          "{'max_depth': 9, 'max_features': 'sqrt', 'min_samples_split': 12, 'n_estimators': 110}",
          "{'max_depth': 9, 'max_features': 'sqrt', 'min_samples_split': 12, 'n_estimators': 130}",
          "{'max_depth': 9, 'max_features': 'log2', 'min_samples_split': 3, 'n_estimators': 50}",
          "{'max_depth': 9, 'max_features': 'log2', 'min_samples_split': 3, 'n_estimators': 80}",
          "{'max_depth': 9, 'max_features': 'log2', 'min_samples_split': 3, 'n_estimators': 110}",
          "{'max_depth': 9, 'max_features': 'log2', 'min_samples_split': 3, 'n_estimators': 130}",
          "{'max_depth': 9, 'max_features': 'log2', 'min_samples_split': 6, 'n_estimators': 50}",
          "{'max_depth': 9, 'max_features': 'log2', 'min_samples_split': 6, 'n_estimators': 80}",
          "{'max_depth': 9, 'max_features': 'log2', 'min_samples_split': 6, 'n_estimators': 110}",
          "{'max_depth': 9, 'max_features': 'log2', 'min_samples_split': 6, 'n_estimators': 130}",
          "{'max_depth': 9, 'max_features': 'log2', 'min_samples_split': 9, 'n_estimators': 50}",
          "{'max_depth': 9, 'max_features': 'log2', 'min_samples_split': 9, 'n_estimators': 80}",
          "{'max_depth': 9, 'max_features': 'log2', 'min_samples_split': 9, 'n_estimators': 110}",
          "{'max_depth': 9, 'max_features': 'log2', 'min_samples_split': 9, 'n_estimators': 130}",
          "{'max_depth': 9, 'max_features': 'log2', 'min_samples_split': 12, 'n_estimators': 50}",
          "{'max_depth': 9, 'max_features': 'log2', 'min_samples_split': 12, 'n_estimators': 80}",
          "{'max_depth': 9, 'max_features': 'log2', 'min_samples_split': 12, 'n_estimators': 110}",
          "{'max_depth': 9, 'max_features': 'log2', 'min_samples_split': 12, 'n_estimators': 130}"
         ],
         "legendgroup": "test",
         "marker": {
          "color": "#636efa",
          "pattern": {
           "shape": ""
          }
         },
         "name": "test",
         "offsetgroup": "test",
         "orientation": "v",
         "showlegend": true,
         "textposition": "auto",
         "type": "bar",
         "x": [
          0,
          1,
          2,
          3,
          4,
          5,
          6,
          7,
          8,
          9,
          10,
          11,
          12,
          13,
          14,
          15,
          16,
          17,
          18,
          19,
          20,
          21,
          22,
          23,
          24,
          25,
          26,
          27,
          28,
          29,
          30,
          31,
          32,
          33,
          34,
          35,
          36,
          37,
          38,
          39,
          40,
          41,
          42,
          43,
          44,
          45,
          46,
          47,
          48,
          49,
          50,
          51,
          52,
          53,
          54,
          55,
          56,
          57,
          58,
          59,
          60,
          61,
          62,
          63,
          64,
          65,
          66,
          67,
          68,
          69,
          70,
          71,
          72,
          73,
          74,
          75,
          76,
          77,
          78,
          79,
          80,
          81,
          82,
          83,
          84,
          85,
          86,
          87,
          88,
          89,
          90,
          91,
          92,
          93,
          94,
          95
         ],
         "xaxis": "x",
         "y": [
          0.11261825717493194,
          0.1027020906037068,
          0.10302482164155016,
          0.0945280828032867,
          0.10854642710467824,
          0.11014254906244625,
          0.11692330711905344,
          0.10393802238854526,
          0.1264696406086219,
          0.11056935491861444,
          0.11227176624956017,
          0.1130645301094583,
          0.10925889112643936,
          0.10750728385132116,
          0.11006176643243697,
          0.09733972595332754,
          0.11415169771832567,
          0.11435606238532754,
          0.11669699567120984,
          0.10870858474526982,
          0.11036131627670902,
          0.11120463014753187,
          0.1037518928441846,
          0.10594066372149416,
          0.11818936977065504,
          0.10367308834358742,
          0.1040519927057296,
          0.10805498401472868,
          0.11136518878739392,
          0.10175808419417372,
          0.11310508858836803,
          0.0972895121225671,
          0.28404311712799946,
          0.2846117930569666,
          0.28900808796153127,
          0.29137764673656597,
          0.28513058720420686,
          0.28477274284001886,
          0.2987236093892651,
          0.28665319665975986,
          0.2657687116415216,
          0.29957562456565284,
          0.2834452020666687,
          0.2792594546984717,
          0.3012932866183641,
          0.2946916499924054,
          0.29827872778879294,
          0.2973442438969742,
          0.276742432917493,
          0.291419674382152,
          0.29037976486428696,
          0.27851515754654865,
          0.2935514435953758,
          0.28904125287037513,
          0.28723804257002217,
          0.2859687964832961,
          0.29828340473384335,
          0.29425612176924065,
          0.2906135710417082,
          0.27968494144816025,
          0.2891556194364182,
          0.2894848790500964,
          0.2893765919570678,
          0.2877078908144682,
          0.3508349495328042,
          0.336697062603573,
          0.33893364219584105,
          0.34001614156502963,
          0.338009737906568,
          0.3500063891916726,
          0.33818881685385643,
          0.32852277237689553,
          0.3438230127124505,
          0.3356776115259995,
          0.3386262043757062,
          0.33672491986140674,
          0.3569671080624187,
          0.3336407949789414,
          0.3442868230182178,
          0.3355971031534374,
          0.3492171524416034,
          0.33996553454079004,
          0.33108468073874325,
          0.34736433892215757,
          0.3418886441769936,
          0.34561890892502956,
          0.34084530490267595,
          0.3481887440458227,
          0.34426411948926866,
          0.3461657708413304,
          0.33879391115484775,
          0.3421316832399851,
          0.3476605567882903,
          0.341540982658718,
          0.33625809303002485,
          0.3419695703351333
         ],
         "yaxis": "y"
        },
        {
         "alignmentgroup": "True",
         "customdata": [
          [
           "{'max_depth': 3, 'max_features': 'sqrt', 'min_samples_split': 3, 'n_estimators': 50}"
          ],
          [
           "{'max_depth': 3, 'max_features': 'sqrt', 'min_samples_split': 3, 'n_estimators': 80}"
          ],
          [
           "{'max_depth': 3, 'max_features': 'sqrt', 'min_samples_split': 3, 'n_estimators': 110}"
          ],
          [
           "{'max_depth': 3, 'max_features': 'sqrt', 'min_samples_split': 3, 'n_estimators': 130}"
          ],
          [
           "{'max_depth': 3, 'max_features': 'sqrt', 'min_samples_split': 6, 'n_estimators': 50}"
          ],
          [
           "{'max_depth': 3, 'max_features': 'sqrt', 'min_samples_split': 6, 'n_estimators': 80}"
          ],
          [
           "{'max_depth': 3, 'max_features': 'sqrt', 'min_samples_split': 6, 'n_estimators': 110}"
          ],
          [
           "{'max_depth': 3, 'max_features': 'sqrt', 'min_samples_split': 6, 'n_estimators': 130}"
          ],
          [
           "{'max_depth': 3, 'max_features': 'sqrt', 'min_samples_split': 9, 'n_estimators': 50}"
          ],
          [
           "{'max_depth': 3, 'max_features': 'sqrt', 'min_samples_split': 9, 'n_estimators': 80}"
          ],
          [
           "{'max_depth': 3, 'max_features': 'sqrt', 'min_samples_split': 9, 'n_estimators': 110}"
          ],
          [
           "{'max_depth': 3, 'max_features': 'sqrt', 'min_samples_split': 9, 'n_estimators': 130}"
          ],
          [
           "{'max_depth': 3, 'max_features': 'sqrt', 'min_samples_split': 12, 'n_estimators': 50}"
          ],
          [
           "{'max_depth': 3, 'max_features': 'sqrt', 'min_samples_split': 12, 'n_estimators': 80}"
          ],
          [
           "{'max_depth': 3, 'max_features': 'sqrt', 'min_samples_split': 12, 'n_estimators': 110}"
          ],
          [
           "{'max_depth': 3, 'max_features': 'sqrt', 'min_samples_split': 12, 'n_estimators': 130}"
          ],
          [
           "{'max_depth': 3, 'max_features': 'log2', 'min_samples_split': 3, 'n_estimators': 50}"
          ],
          [
           "{'max_depth': 3, 'max_features': 'log2', 'min_samples_split': 3, 'n_estimators': 80}"
          ],
          [
           "{'max_depth': 3, 'max_features': 'log2', 'min_samples_split': 3, 'n_estimators': 110}"
          ],
          [
           "{'max_depth': 3, 'max_features': 'log2', 'min_samples_split': 3, 'n_estimators': 130}"
          ],
          [
           "{'max_depth': 3, 'max_features': 'log2', 'min_samples_split': 6, 'n_estimators': 50}"
          ],
          [
           "{'max_depth': 3, 'max_features': 'log2', 'min_samples_split': 6, 'n_estimators': 80}"
          ],
          [
           "{'max_depth': 3, 'max_features': 'log2', 'min_samples_split': 6, 'n_estimators': 110}"
          ],
          [
           "{'max_depth': 3, 'max_features': 'log2', 'min_samples_split': 6, 'n_estimators': 130}"
          ],
          [
           "{'max_depth': 3, 'max_features': 'log2', 'min_samples_split': 9, 'n_estimators': 50}"
          ],
          [
           "{'max_depth': 3, 'max_features': 'log2', 'min_samples_split': 9, 'n_estimators': 80}"
          ],
          [
           "{'max_depth': 3, 'max_features': 'log2', 'min_samples_split': 9, 'n_estimators': 110}"
          ],
          [
           "{'max_depth': 3, 'max_features': 'log2', 'min_samples_split': 9, 'n_estimators': 130}"
          ],
          [
           "{'max_depth': 3, 'max_features': 'log2', 'min_samples_split': 12, 'n_estimators': 50}"
          ],
          [
           "{'max_depth': 3, 'max_features': 'log2', 'min_samples_split': 12, 'n_estimators': 80}"
          ],
          [
           "{'max_depth': 3, 'max_features': 'log2', 'min_samples_split': 12, 'n_estimators': 110}"
          ],
          [
           "{'max_depth': 3, 'max_features': 'log2', 'min_samples_split': 12, 'n_estimators': 130}"
          ],
          [
           "{'max_depth': 6, 'max_features': 'sqrt', 'min_samples_split': 3, 'n_estimators': 50}"
          ],
          [
           "{'max_depth': 6, 'max_features': 'sqrt', 'min_samples_split': 3, 'n_estimators': 80}"
          ],
          [
           "{'max_depth': 6, 'max_features': 'sqrt', 'min_samples_split': 3, 'n_estimators': 110}"
          ],
          [
           "{'max_depth': 6, 'max_features': 'sqrt', 'min_samples_split': 3, 'n_estimators': 130}"
          ],
          [
           "{'max_depth': 6, 'max_features': 'sqrt', 'min_samples_split': 6, 'n_estimators': 50}"
          ],
          [
           "{'max_depth': 6, 'max_features': 'sqrt', 'min_samples_split': 6, 'n_estimators': 80}"
          ],
          [
           "{'max_depth': 6, 'max_features': 'sqrt', 'min_samples_split': 6, 'n_estimators': 110}"
          ],
          [
           "{'max_depth': 6, 'max_features': 'sqrt', 'min_samples_split': 6, 'n_estimators': 130}"
          ],
          [
           "{'max_depth': 6, 'max_features': 'sqrt', 'min_samples_split': 9, 'n_estimators': 50}"
          ],
          [
           "{'max_depth': 6, 'max_features': 'sqrt', 'min_samples_split': 9, 'n_estimators': 80}"
          ],
          [
           "{'max_depth': 6, 'max_features': 'sqrt', 'min_samples_split': 9, 'n_estimators': 110}"
          ],
          [
           "{'max_depth': 6, 'max_features': 'sqrt', 'min_samples_split': 9, 'n_estimators': 130}"
          ],
          [
           "{'max_depth': 6, 'max_features': 'sqrt', 'min_samples_split': 12, 'n_estimators': 50}"
          ],
          [
           "{'max_depth': 6, 'max_features': 'sqrt', 'min_samples_split': 12, 'n_estimators': 80}"
          ],
          [
           "{'max_depth': 6, 'max_features': 'sqrt', 'min_samples_split': 12, 'n_estimators': 110}"
          ],
          [
           "{'max_depth': 6, 'max_features': 'sqrt', 'min_samples_split': 12, 'n_estimators': 130}"
          ],
          [
           "{'max_depth': 6, 'max_features': 'log2', 'min_samples_split': 3, 'n_estimators': 50}"
          ],
          [
           "{'max_depth': 6, 'max_features': 'log2', 'min_samples_split': 3, 'n_estimators': 80}"
          ],
          [
           "{'max_depth': 6, 'max_features': 'log2', 'min_samples_split': 3, 'n_estimators': 110}"
          ],
          [
           "{'max_depth': 6, 'max_features': 'log2', 'min_samples_split': 3, 'n_estimators': 130}"
          ],
          [
           "{'max_depth': 6, 'max_features': 'log2', 'min_samples_split': 6, 'n_estimators': 50}"
          ],
          [
           "{'max_depth': 6, 'max_features': 'log2', 'min_samples_split': 6, 'n_estimators': 80}"
          ],
          [
           "{'max_depth': 6, 'max_features': 'log2', 'min_samples_split': 6, 'n_estimators': 110}"
          ],
          [
           "{'max_depth': 6, 'max_features': 'log2', 'min_samples_split': 6, 'n_estimators': 130}"
          ],
          [
           "{'max_depth': 6, 'max_features': 'log2', 'min_samples_split': 9, 'n_estimators': 50}"
          ],
          [
           "{'max_depth': 6, 'max_features': 'log2', 'min_samples_split': 9, 'n_estimators': 80}"
          ],
          [
           "{'max_depth': 6, 'max_features': 'log2', 'min_samples_split': 9, 'n_estimators': 110}"
          ],
          [
           "{'max_depth': 6, 'max_features': 'log2', 'min_samples_split': 9, 'n_estimators': 130}"
          ],
          [
           "{'max_depth': 6, 'max_features': 'log2', 'min_samples_split': 12, 'n_estimators': 50}"
          ],
          [
           "{'max_depth': 6, 'max_features': 'log2', 'min_samples_split': 12, 'n_estimators': 80}"
          ],
          [
           "{'max_depth': 6, 'max_features': 'log2', 'min_samples_split': 12, 'n_estimators': 110}"
          ],
          [
           "{'max_depth': 6, 'max_features': 'log2', 'min_samples_split': 12, 'n_estimators': 130}"
          ],
          [
           "{'max_depth': 9, 'max_features': 'sqrt', 'min_samples_split': 3, 'n_estimators': 50}"
          ],
          [
           "{'max_depth': 9, 'max_features': 'sqrt', 'min_samples_split': 3, 'n_estimators': 80}"
          ],
          [
           "{'max_depth': 9, 'max_features': 'sqrt', 'min_samples_split': 3, 'n_estimators': 110}"
          ],
          [
           "{'max_depth': 9, 'max_features': 'sqrt', 'min_samples_split': 3, 'n_estimators': 130}"
          ],
          [
           "{'max_depth': 9, 'max_features': 'sqrt', 'min_samples_split': 6, 'n_estimators': 50}"
          ],
          [
           "{'max_depth': 9, 'max_features': 'sqrt', 'min_samples_split': 6, 'n_estimators': 80}"
          ],
          [
           "{'max_depth': 9, 'max_features': 'sqrt', 'min_samples_split': 6, 'n_estimators': 110}"
          ],
          [
           "{'max_depth': 9, 'max_features': 'sqrt', 'min_samples_split': 6, 'n_estimators': 130}"
          ],
          [
           "{'max_depth': 9, 'max_features': 'sqrt', 'min_samples_split': 9, 'n_estimators': 50}"
          ],
          [
           "{'max_depth': 9, 'max_features': 'sqrt', 'min_samples_split': 9, 'n_estimators': 80}"
          ],
          [
           "{'max_depth': 9, 'max_features': 'sqrt', 'min_samples_split': 9, 'n_estimators': 110}"
          ],
          [
           "{'max_depth': 9, 'max_features': 'sqrt', 'min_samples_split': 9, 'n_estimators': 130}"
          ],
          [
           "{'max_depth': 9, 'max_features': 'sqrt', 'min_samples_split': 12, 'n_estimators': 50}"
          ],
          [
           "{'max_depth': 9, 'max_features': 'sqrt', 'min_samples_split': 12, 'n_estimators': 80}"
          ],
          [
           "{'max_depth': 9, 'max_features': 'sqrt', 'min_samples_split': 12, 'n_estimators': 110}"
          ],
          [
           "{'max_depth': 9, 'max_features': 'sqrt', 'min_samples_split': 12, 'n_estimators': 130}"
          ],
          [
           "{'max_depth': 9, 'max_features': 'log2', 'min_samples_split': 3, 'n_estimators': 50}"
          ],
          [
           "{'max_depth': 9, 'max_features': 'log2', 'min_samples_split': 3, 'n_estimators': 80}"
          ],
          [
           "{'max_depth': 9, 'max_features': 'log2', 'min_samples_split': 3, 'n_estimators': 110}"
          ],
          [
           "{'max_depth': 9, 'max_features': 'log2', 'min_samples_split': 3, 'n_estimators': 130}"
          ],
          [
           "{'max_depth': 9, 'max_features': 'log2', 'min_samples_split': 6, 'n_estimators': 50}"
          ],
          [
           "{'max_depth': 9, 'max_features': 'log2', 'min_samples_split': 6, 'n_estimators': 80}"
          ],
          [
           "{'max_depth': 9, 'max_features': 'log2', 'min_samples_split': 6, 'n_estimators': 110}"
          ],
          [
           "{'max_depth': 9, 'max_features': 'log2', 'min_samples_split': 6, 'n_estimators': 130}"
          ],
          [
           "{'max_depth': 9, 'max_features': 'log2', 'min_samples_split': 9, 'n_estimators': 50}"
          ],
          [
           "{'max_depth': 9, 'max_features': 'log2', 'min_samples_split': 9, 'n_estimators': 80}"
          ],
          [
           "{'max_depth': 9, 'max_features': 'log2', 'min_samples_split': 9, 'n_estimators': 110}"
          ],
          [
           "{'max_depth': 9, 'max_features': 'log2', 'min_samples_split': 9, 'n_estimators': 130}"
          ],
          [
           "{'max_depth': 9, 'max_features': 'log2', 'min_samples_split': 12, 'n_estimators': 50}"
          ],
          [
           "{'max_depth': 9, 'max_features': 'log2', 'min_samples_split': 12, 'n_estimators': 80}"
          ],
          [
           "{'max_depth': 9, 'max_features': 'log2', 'min_samples_split': 12, 'n_estimators': 110}"
          ],
          [
           "{'max_depth': 9, 'max_features': 'log2', 'min_samples_split': 12, 'n_estimators': 130}"
          ]
         ],
         "error_y": {
          "array": [
           0.019621178014669855,
           0.026245257650314158,
           0.02583951514700463,
           0.026837566836985845,
           0.03148433367840918,
           0.027316992000554523,
           0.03433106310670627,
           0.024073178787496482,
           0.03305171407636859,
           0.02418655264096056,
           0.0303556049084264,
           0.021694974192694793,
           0.029929791765693846,
           0.02389425786006968,
           0.02586778650724186,
           0.02368799275575201,
           0.026615251609569558,
           0.03162556806173787,
           0.02586024966322536,
           0.026761158657429902,
           0.030598514710145103,
           0.03502167520697595,
           0.025374209260194364,
           0.024233928609811838,
           0.020068670550575252,
           0.02658210550431603,
           0.029460200009539066,
           0.029521117103350796,
           0.028719855172129695,
           0.0245271627953769,
           0.023879791797608418,
           0.031986015207962355,
           0.025831514718636286,
           0.018115952940264746,
           0.01894434320978063,
           0.024053960478727678,
           0.020727594422100357,
           0.00851358304915325,
           0.012485820039403631,
           0.022107939370717387,
           0.03368075998309179,
           0.020884529669250397,
           0.017531294543700227,
           0.01803923814209388,
           0.02259660042083763,
           0.02424822791803916,
           0.015624597314251238,
           0.02511119492821237,
           0.025783229818260436,
           0.018432138905825755,
           0.0145708235272682,
           0.02752574999476536,
           0.026326864429213136,
           0.022801567102865537,
           0.018638266754669116,
           0.01803364596933206,
           0.02801638651051885,
           0.026697680587431476,
           0.014030990193814333,
           0.021741752867865786,
           0.018872243800200805,
           0.025005314994200365,
           0.018957922251053357,
           0.023054851129915805,
           0.022848925690541543,
           0.022698009187840765,
           0.01879827268435628,
           0.018637720542437876,
           0.025416831041678595,
           0.01907886445189761,
           0.020136244440672246,
           0.025590532071885545,
           0.015313338678303595,
           0.017276220950296774,
           0.015595156769085104,
           0.022841131965326045,
           0.01779050206960891,
           0.020971551124820575,
           0.01794138839294763,
           0.016049981107935183,
           0.029465099469415203,
           0.025092423837691637,
           0.021101596206779327,
           0.022492115974730612,
           0.02491082346527184,
           0.0229172079427392,
           0.0159397348100071,
           0.019086711728491777,
           0.023604618513343268,
           0.021979666359935354,
           0.017078262842797915,
           0.021023721259745852,
           0.010291107413335311,
           0.020056783264710776,
           0.018886179183491694,
           0.012861782096792403
          ]
         },
         "hovertemplate": "<b>%{hovertext}</b><br><br>type=train<br>Params=%{x}<br>Average f1=%{y}<br>params=%{customdata[0]}<extra></extra>",
         "hovertext": [
          "{'max_depth': 3, 'max_features': 'sqrt', 'min_samples_split': 3, 'n_estimators': 50}",
          "{'max_depth': 3, 'max_features': 'sqrt', 'min_samples_split': 3, 'n_estimators': 80}",
          "{'max_depth': 3, 'max_features': 'sqrt', 'min_samples_split': 3, 'n_estimators': 110}",
          "{'max_depth': 3, 'max_features': 'sqrt', 'min_samples_split': 3, 'n_estimators': 130}",
          "{'max_depth': 3, 'max_features': 'sqrt', 'min_samples_split': 6, 'n_estimators': 50}",
          "{'max_depth': 3, 'max_features': 'sqrt', 'min_samples_split': 6, 'n_estimators': 80}",
          "{'max_depth': 3, 'max_features': 'sqrt', 'min_samples_split': 6, 'n_estimators': 110}",
          "{'max_depth': 3, 'max_features': 'sqrt', 'min_samples_split': 6, 'n_estimators': 130}",
          "{'max_depth': 3, 'max_features': 'sqrt', 'min_samples_split': 9, 'n_estimators': 50}",
          "{'max_depth': 3, 'max_features': 'sqrt', 'min_samples_split': 9, 'n_estimators': 80}",
          "{'max_depth': 3, 'max_features': 'sqrt', 'min_samples_split': 9, 'n_estimators': 110}",
          "{'max_depth': 3, 'max_features': 'sqrt', 'min_samples_split': 9, 'n_estimators': 130}",
          "{'max_depth': 3, 'max_features': 'sqrt', 'min_samples_split': 12, 'n_estimators': 50}",
          "{'max_depth': 3, 'max_features': 'sqrt', 'min_samples_split': 12, 'n_estimators': 80}",
          "{'max_depth': 3, 'max_features': 'sqrt', 'min_samples_split': 12, 'n_estimators': 110}",
          "{'max_depth': 3, 'max_features': 'sqrt', 'min_samples_split': 12, 'n_estimators': 130}",
          "{'max_depth': 3, 'max_features': 'log2', 'min_samples_split': 3, 'n_estimators': 50}",
          "{'max_depth': 3, 'max_features': 'log2', 'min_samples_split': 3, 'n_estimators': 80}",
          "{'max_depth': 3, 'max_features': 'log2', 'min_samples_split': 3, 'n_estimators': 110}",
          "{'max_depth': 3, 'max_features': 'log2', 'min_samples_split': 3, 'n_estimators': 130}",
          "{'max_depth': 3, 'max_features': 'log2', 'min_samples_split': 6, 'n_estimators': 50}",
          "{'max_depth': 3, 'max_features': 'log2', 'min_samples_split': 6, 'n_estimators': 80}",
          "{'max_depth': 3, 'max_features': 'log2', 'min_samples_split': 6, 'n_estimators': 110}",
          "{'max_depth': 3, 'max_features': 'log2', 'min_samples_split': 6, 'n_estimators': 130}",
          "{'max_depth': 3, 'max_features': 'log2', 'min_samples_split': 9, 'n_estimators': 50}",
          "{'max_depth': 3, 'max_features': 'log2', 'min_samples_split': 9, 'n_estimators': 80}",
          "{'max_depth': 3, 'max_features': 'log2', 'min_samples_split': 9, 'n_estimators': 110}",
          "{'max_depth': 3, 'max_features': 'log2', 'min_samples_split': 9, 'n_estimators': 130}",
          "{'max_depth': 3, 'max_features': 'log2', 'min_samples_split': 12, 'n_estimators': 50}",
          "{'max_depth': 3, 'max_features': 'log2', 'min_samples_split': 12, 'n_estimators': 80}",
          "{'max_depth': 3, 'max_features': 'log2', 'min_samples_split': 12, 'n_estimators': 110}",
          "{'max_depth': 3, 'max_features': 'log2', 'min_samples_split': 12, 'n_estimators': 130}",
          "{'max_depth': 6, 'max_features': 'sqrt', 'min_samples_split': 3, 'n_estimators': 50}",
          "{'max_depth': 6, 'max_features': 'sqrt', 'min_samples_split': 3, 'n_estimators': 80}",
          "{'max_depth': 6, 'max_features': 'sqrt', 'min_samples_split': 3, 'n_estimators': 110}",
          "{'max_depth': 6, 'max_features': 'sqrt', 'min_samples_split': 3, 'n_estimators': 130}",
          "{'max_depth': 6, 'max_features': 'sqrt', 'min_samples_split': 6, 'n_estimators': 50}",
          "{'max_depth': 6, 'max_features': 'sqrt', 'min_samples_split': 6, 'n_estimators': 80}",
          "{'max_depth': 6, 'max_features': 'sqrt', 'min_samples_split': 6, 'n_estimators': 110}",
          "{'max_depth': 6, 'max_features': 'sqrt', 'min_samples_split': 6, 'n_estimators': 130}",
          "{'max_depth': 6, 'max_features': 'sqrt', 'min_samples_split': 9, 'n_estimators': 50}",
          "{'max_depth': 6, 'max_features': 'sqrt', 'min_samples_split': 9, 'n_estimators': 80}",
          "{'max_depth': 6, 'max_features': 'sqrt', 'min_samples_split': 9, 'n_estimators': 110}",
          "{'max_depth': 6, 'max_features': 'sqrt', 'min_samples_split': 9, 'n_estimators': 130}",
          "{'max_depth': 6, 'max_features': 'sqrt', 'min_samples_split': 12, 'n_estimators': 50}",
          "{'max_depth': 6, 'max_features': 'sqrt', 'min_samples_split': 12, 'n_estimators': 80}",
          "{'max_depth': 6, 'max_features': 'sqrt', 'min_samples_split': 12, 'n_estimators': 110}",
          "{'max_depth': 6, 'max_features': 'sqrt', 'min_samples_split': 12, 'n_estimators': 130}",
          "{'max_depth': 6, 'max_features': 'log2', 'min_samples_split': 3, 'n_estimators': 50}",
          "{'max_depth': 6, 'max_features': 'log2', 'min_samples_split': 3, 'n_estimators': 80}",
          "{'max_depth': 6, 'max_features': 'log2', 'min_samples_split': 3, 'n_estimators': 110}",
          "{'max_depth': 6, 'max_features': 'log2', 'min_samples_split': 3, 'n_estimators': 130}",
          "{'max_depth': 6, 'max_features': 'log2', 'min_samples_split': 6, 'n_estimators': 50}",
          "{'max_depth': 6, 'max_features': 'log2', 'min_samples_split': 6, 'n_estimators': 80}",
          "{'max_depth': 6, 'max_features': 'log2', 'min_samples_split': 6, 'n_estimators': 110}",
          "{'max_depth': 6, 'max_features': 'log2', 'min_samples_split': 6, 'n_estimators': 130}",
          "{'max_depth': 6, 'max_features': 'log2', 'min_samples_split': 9, 'n_estimators': 50}",
          "{'max_depth': 6, 'max_features': 'log2', 'min_samples_split': 9, 'n_estimators': 80}",
          "{'max_depth': 6, 'max_features': 'log2', 'min_samples_split': 9, 'n_estimators': 110}",
          "{'max_depth': 6, 'max_features': 'log2', 'min_samples_split': 9, 'n_estimators': 130}",
          "{'max_depth': 6, 'max_features': 'log2', 'min_samples_split': 12, 'n_estimators': 50}",
          "{'max_depth': 6, 'max_features': 'log2', 'min_samples_split': 12, 'n_estimators': 80}",
          "{'max_depth': 6, 'max_features': 'log2', 'min_samples_split': 12, 'n_estimators': 110}",
          "{'max_depth': 6, 'max_features': 'log2', 'min_samples_split': 12, 'n_estimators': 130}",
          "{'max_depth': 9, 'max_features': 'sqrt', 'min_samples_split': 3, 'n_estimators': 50}",
          "{'max_depth': 9, 'max_features': 'sqrt', 'min_samples_split': 3, 'n_estimators': 80}",
          "{'max_depth': 9, 'max_features': 'sqrt', 'min_samples_split': 3, 'n_estimators': 110}",
          "{'max_depth': 9, 'max_features': 'sqrt', 'min_samples_split': 3, 'n_estimators': 130}",
          "{'max_depth': 9, 'max_features': 'sqrt', 'min_samples_split': 6, 'n_estimators': 50}",
          "{'max_depth': 9, 'max_features': 'sqrt', 'min_samples_split': 6, 'n_estimators': 80}",
          "{'max_depth': 9, 'max_features': 'sqrt', 'min_samples_split': 6, 'n_estimators': 110}",
          "{'max_depth': 9, 'max_features': 'sqrt', 'min_samples_split': 6, 'n_estimators': 130}",
          "{'max_depth': 9, 'max_features': 'sqrt', 'min_samples_split': 9, 'n_estimators': 50}",
          "{'max_depth': 9, 'max_features': 'sqrt', 'min_samples_split': 9, 'n_estimators': 80}",
          "{'max_depth': 9, 'max_features': 'sqrt', 'min_samples_split': 9, 'n_estimators': 110}",
          "{'max_depth': 9, 'max_features': 'sqrt', 'min_samples_split': 9, 'n_estimators': 130}",
          "{'max_depth': 9, 'max_features': 'sqrt', 'min_samples_split': 12, 'n_estimators': 50}",
          "{'max_depth': 9, 'max_features': 'sqrt', 'min_samples_split': 12, 'n_estimators': 80}",
          "{'max_depth': 9, 'max_features': 'sqrt', 'min_samples_split': 12, 'n_estimators': 110}",
          "{'max_depth': 9, 'max_features': 'sqrt', 'min_samples_split': 12, 'n_estimators': 130}",
          "{'max_depth': 9, 'max_features': 'log2', 'min_samples_split': 3, 'n_estimators': 50}",
          "{'max_depth': 9, 'max_features': 'log2', 'min_samples_split': 3, 'n_estimators': 80}",
          "{'max_depth': 9, 'max_features': 'log2', 'min_samples_split': 3, 'n_estimators': 110}",
          "{'max_depth': 9, 'max_features': 'log2', 'min_samples_split': 3, 'n_estimators': 130}",
          "{'max_depth': 9, 'max_features': 'log2', 'min_samples_split': 6, 'n_estimators': 50}",
          "{'max_depth': 9, 'max_features': 'log2', 'min_samples_split': 6, 'n_estimators': 80}",
          "{'max_depth': 9, 'max_features': 'log2', 'min_samples_split': 6, 'n_estimators': 110}",
          "{'max_depth': 9, 'max_features': 'log2', 'min_samples_split': 6, 'n_estimators': 130}",
          "{'max_depth': 9, 'max_features': 'log2', 'min_samples_split': 9, 'n_estimators': 50}",
          "{'max_depth': 9, 'max_features': 'log2', 'min_samples_split': 9, 'n_estimators': 80}",
          "{'max_depth': 9, 'max_features': 'log2', 'min_samples_split': 9, 'n_estimators': 110}",
          "{'max_depth': 9, 'max_features': 'log2', 'min_samples_split': 9, 'n_estimators': 130}",
          "{'max_depth': 9, 'max_features': 'log2', 'min_samples_split': 12, 'n_estimators': 50}",
          "{'max_depth': 9, 'max_features': 'log2', 'min_samples_split': 12, 'n_estimators': 80}",
          "{'max_depth': 9, 'max_features': 'log2', 'min_samples_split': 12, 'n_estimators': 110}",
          "{'max_depth': 9, 'max_features': 'log2', 'min_samples_split': 12, 'n_estimators': 130}"
         ],
         "legendgroup": "train",
         "marker": {
          "color": "#EF553B",
          "pattern": {
           "shape": ""
          }
         },
         "name": "train",
         "offsetgroup": "train",
         "orientation": "v",
         "showlegend": true,
         "textposition": "auto",
         "type": "bar",
         "x": [
          0,
          1,
          2,
          3,
          4,
          5,
          6,
          7,
          8,
          9,
          10,
          11,
          12,
          13,
          14,
          15,
          16,
          17,
          18,
          19,
          20,
          21,
          22,
          23,
          24,
          25,
          26,
          27,
          28,
          29,
          30,
          31,
          32,
          33,
          34,
          35,
          36,
          37,
          38,
          39,
          40,
          41,
          42,
          43,
          44,
          45,
          46,
          47,
          48,
          49,
          50,
          51,
          52,
          53,
          54,
          55,
          56,
          57,
          58,
          59,
          60,
          61,
          62,
          63,
          64,
          65,
          66,
          67,
          68,
          69,
          70,
          71,
          72,
          73,
          74,
          75,
          76,
          77,
          78,
          79,
          80,
          81,
          82,
          83,
          84,
          85,
          86,
          87,
          88,
          89,
          90,
          91,
          92,
          93,
          94,
          95
         ],
         "xaxis": "x",
         "y": [
          0.17218730217929634,
          0.1694469035783104,
          0.17336180457422562,
          0.17275020666393856,
          0.171973014015606,
          0.16711106373718693,
          0.17991526162956034,
          0.17732760766346106,
          0.1893699759692017,
          0.16767693386998028,
          0.1777093677466458,
          0.17296653484436675,
          0.1794338056305246,
          0.16957474294294786,
          0.18255675805944385,
          0.1730637861475631,
          0.17881417949362116,
          0.17234804281000365,
          0.1848293943499822,
          0.18248524738283614,
          0.17579877346390088,
          0.18718533646799593,
          0.17711129753679483,
          0.17895157904292955,
          0.17562093732270914,
          0.17039450792011798,
          0.17340186895218251,
          0.1706194003873396,
          0.18542905706164922,
          0.16793797494168325,
          0.1745452750576094,
          0.17547458794950155,
          0.4678599616098068,
          0.46099417331669884,
          0.4559434468304369,
          0.45905490331649174,
          0.4574043303103622,
          0.46159215778408147,
          0.45687637069076514,
          0.4542069785706806,
          0.4473103779162494,
          0.44901371999514456,
          0.4524131244458637,
          0.4529789021075734,
          0.44953777139817797,
          0.45659035984922103,
          0.46046336006522043,
          0.44822295185340194,
          0.44469083405961385,
          0.4657226825713775,
          0.4598289773454546,
          0.4578806934654477,
          0.4639051338380762,
          0.4540779048802399,
          0.45640070581341385,
          0.4680125376849584,
          0.4626808767779136,
          0.45249392297739516,
          0.4575495947586733,
          0.4524032343682701,
          0.44593045701829875,
          0.4440754589092749,
          0.450899593458775,
          0.44748083775027386,
          0.6492905811654974,
          0.6588063349381625,
          0.6592592472285684,
          0.6586380682307394,
          0.6468855285132779,
          0.6493697149497087,
          0.6451244050451004,
          0.6502284874309072,
          0.6334636760459578,
          0.6301666014044821,
          0.6313010788499891,
          0.6303387140439399,
          0.6167965031350678,
          0.6102150310157268,
          0.6161345660529245,
          0.6168771018948871,
          0.6667423547868981,
          0.6590372649806706,
          0.6627115589999909,
          0.6655042496831807,
          0.6488241170668401,
          0.6450095479421039,
          0.6495121277313443,
          0.6446818538770918,
          0.6358552393411883,
          0.6352978536839654,
          0.6335437375612556,
          0.6244627166100487,
          0.6230552292757561,
          0.6156879144950622,
          0.6084614535425853,
          0.6213471729371312
         ],
         "yaxis": "y"
        }
       ],
       "layout": {
        "barmode": "group",
        "legend": {
         "title": {
          "text": "type"
         },
         "tracegroupgap": 0
        },
        "template": {
         "data": {
          "bar": [
           {
            "error_x": {
             "color": "#2a3f5f"
            },
            "error_y": {
             "color": "#2a3f5f"
            },
            "marker": {
             "line": {
              "color": "#E5ECF6",
              "width": 0.5
             },
             "pattern": {
              "fillmode": "overlay",
              "size": 10,
              "solidity": 0.2
             }
            },
            "type": "bar"
           }
          ],
          "barpolar": [
           {
            "marker": {
             "line": {
              "color": "#E5ECF6",
              "width": 0.5
             },
             "pattern": {
              "fillmode": "overlay",
              "size": 10,
              "solidity": 0.2
             }
            },
            "type": "barpolar"
           }
          ],
          "carpet": [
           {
            "aaxis": {
             "endlinecolor": "#2a3f5f",
             "gridcolor": "white",
             "linecolor": "white",
             "minorgridcolor": "white",
             "startlinecolor": "#2a3f5f"
            },
            "baxis": {
             "endlinecolor": "#2a3f5f",
             "gridcolor": "white",
             "linecolor": "white",
             "minorgridcolor": "white",
             "startlinecolor": "#2a3f5f"
            },
            "type": "carpet"
           }
          ],
          "choropleth": [
           {
            "colorbar": {
             "outlinewidth": 0,
             "ticks": ""
            },
            "type": "choropleth"
           }
          ],
          "contour": [
           {
            "colorbar": {
             "outlinewidth": 0,
             "ticks": ""
            },
            "colorscale": [
             [
              0,
              "#0d0887"
             ],
             [
              0.1111111111111111,
              "#46039f"
             ],
             [
              0.2222222222222222,
              "#7201a8"
             ],
             [
              0.3333333333333333,
              "#9c179e"
             ],
             [
              0.4444444444444444,
              "#bd3786"
             ],
             [
              0.5555555555555556,
              "#d8576b"
             ],
             [
              0.6666666666666666,
              "#ed7953"
             ],
             [
              0.7777777777777778,
              "#fb9f3a"
             ],
             [
              0.8888888888888888,
              "#fdca26"
             ],
             [
              1,
              "#f0f921"
             ]
            ],
            "type": "contour"
           }
          ],
          "contourcarpet": [
           {
            "colorbar": {
             "outlinewidth": 0,
             "ticks": ""
            },
            "type": "contourcarpet"
           }
          ],
          "heatmap": [
           {
            "colorbar": {
             "outlinewidth": 0,
             "ticks": ""
            },
            "colorscale": [
             [
              0,
              "#0d0887"
             ],
             [
              0.1111111111111111,
              "#46039f"
             ],
             [
              0.2222222222222222,
              "#7201a8"
             ],
             [
              0.3333333333333333,
              "#9c179e"
             ],
             [
              0.4444444444444444,
              "#bd3786"
             ],
             [
              0.5555555555555556,
              "#d8576b"
             ],
             [
              0.6666666666666666,
              "#ed7953"
             ],
             [
              0.7777777777777778,
              "#fb9f3a"
             ],
             [
              0.8888888888888888,
              "#fdca26"
             ],
             [
              1,
              "#f0f921"
             ]
            ],
            "type": "heatmap"
           }
          ],
          "heatmapgl": [
           {
            "colorbar": {
             "outlinewidth": 0,
             "ticks": ""
            },
            "colorscale": [
             [
              0,
              "#0d0887"
             ],
             [
              0.1111111111111111,
              "#46039f"
             ],
             [
              0.2222222222222222,
              "#7201a8"
             ],
             [
              0.3333333333333333,
              "#9c179e"
             ],
             [
              0.4444444444444444,
              "#bd3786"
             ],
             [
              0.5555555555555556,
              "#d8576b"
             ],
             [
              0.6666666666666666,
              "#ed7953"
             ],
             [
              0.7777777777777778,
              "#fb9f3a"
             ],
             [
              0.8888888888888888,
              "#fdca26"
             ],
             [
              1,
              "#f0f921"
             ]
            ],
            "type": "heatmapgl"
           }
          ],
          "histogram": [
           {
            "marker": {
             "pattern": {
              "fillmode": "overlay",
              "size": 10,
              "solidity": 0.2
             }
            },
            "type": "histogram"
           }
          ],
          "histogram2d": [
           {
            "colorbar": {
             "outlinewidth": 0,
             "ticks": ""
            },
            "colorscale": [
             [
              0,
              "#0d0887"
             ],
             [
              0.1111111111111111,
              "#46039f"
             ],
             [
              0.2222222222222222,
              "#7201a8"
             ],
             [
              0.3333333333333333,
              "#9c179e"
             ],
             [
              0.4444444444444444,
              "#bd3786"
             ],
             [
              0.5555555555555556,
              "#d8576b"
             ],
             [
              0.6666666666666666,
              "#ed7953"
             ],
             [
              0.7777777777777778,
              "#fb9f3a"
             ],
             [
              0.8888888888888888,
              "#fdca26"
             ],
             [
              1,
              "#f0f921"
             ]
            ],
            "type": "histogram2d"
           }
          ],
          "histogram2dcontour": [
           {
            "colorbar": {
             "outlinewidth": 0,
             "ticks": ""
            },
            "colorscale": [
             [
              0,
              "#0d0887"
             ],
             [
              0.1111111111111111,
              "#46039f"
             ],
             [
              0.2222222222222222,
              "#7201a8"
             ],
             [
              0.3333333333333333,
              "#9c179e"
             ],
             [
              0.4444444444444444,
              "#bd3786"
             ],
             [
              0.5555555555555556,
              "#d8576b"
             ],
             [
              0.6666666666666666,
              "#ed7953"
             ],
             [
              0.7777777777777778,
              "#fb9f3a"
             ],
             [
              0.8888888888888888,
              "#fdca26"
             ],
             [
              1,
              "#f0f921"
             ]
            ],
            "type": "histogram2dcontour"
           }
          ],
          "mesh3d": [
           {
            "colorbar": {
             "outlinewidth": 0,
             "ticks": ""
            },
            "type": "mesh3d"
           }
          ],
          "parcoords": [
           {
            "line": {
             "colorbar": {
              "outlinewidth": 0,
              "ticks": ""
             }
            },
            "type": "parcoords"
           }
          ],
          "pie": [
           {
            "automargin": true,
            "type": "pie"
           }
          ],
          "scatter": [
           {
            "marker": {
             "colorbar": {
              "outlinewidth": 0,
              "ticks": ""
             }
            },
            "type": "scatter"
           }
          ],
          "scatter3d": [
           {
            "line": {
             "colorbar": {
              "outlinewidth": 0,
              "ticks": ""
             }
            },
            "marker": {
             "colorbar": {
              "outlinewidth": 0,
              "ticks": ""
             }
            },
            "type": "scatter3d"
           }
          ],
          "scattercarpet": [
           {
            "marker": {
             "colorbar": {
              "outlinewidth": 0,
              "ticks": ""
             }
            },
            "type": "scattercarpet"
           }
          ],
          "scattergeo": [
           {
            "marker": {
             "colorbar": {
              "outlinewidth": 0,
              "ticks": ""
             }
            },
            "type": "scattergeo"
           }
          ],
          "scattergl": [
           {
            "marker": {
             "colorbar": {
              "outlinewidth": 0,
              "ticks": ""
             }
            },
            "type": "scattergl"
           }
          ],
          "scattermapbox": [
           {
            "marker": {
             "colorbar": {
              "outlinewidth": 0,
              "ticks": ""
             }
            },
            "type": "scattermapbox"
           }
          ],
          "scatterpolar": [
           {
            "marker": {
             "colorbar": {
              "outlinewidth": 0,
              "ticks": ""
             }
            },
            "type": "scatterpolar"
           }
          ],
          "scatterpolargl": [
           {
            "marker": {
             "colorbar": {
              "outlinewidth": 0,
              "ticks": ""
             }
            },
            "type": "scatterpolargl"
           }
          ],
          "scatterternary": [
           {
            "marker": {
             "colorbar": {
              "outlinewidth": 0,
              "ticks": ""
             }
            },
            "type": "scatterternary"
           }
          ],
          "surface": [
           {
            "colorbar": {
             "outlinewidth": 0,
             "ticks": ""
            },
            "colorscale": [
             [
              0,
              "#0d0887"
             ],
             [
              0.1111111111111111,
              "#46039f"
             ],
             [
              0.2222222222222222,
              "#7201a8"
             ],
             [
              0.3333333333333333,
              "#9c179e"
             ],
             [
              0.4444444444444444,
              "#bd3786"
             ],
             [
              0.5555555555555556,
              "#d8576b"
             ],
             [
              0.6666666666666666,
              "#ed7953"
             ],
             [
              0.7777777777777778,
              "#fb9f3a"
             ],
             [
              0.8888888888888888,
              "#fdca26"
             ],
             [
              1,
              "#f0f921"
             ]
            ],
            "type": "surface"
           }
          ],
          "table": [
           {
            "cells": {
             "fill": {
              "color": "#EBF0F8"
             },
             "line": {
              "color": "white"
             }
            },
            "header": {
             "fill": {
              "color": "#C8D4E3"
             },
             "line": {
              "color": "white"
             }
            },
            "type": "table"
           }
          ]
         },
         "layout": {
          "annotationdefaults": {
           "arrowcolor": "#2a3f5f",
           "arrowhead": 0,
           "arrowwidth": 1
          },
          "autotypenumbers": "strict",
          "coloraxis": {
           "colorbar": {
            "outlinewidth": 0,
            "ticks": ""
           }
          },
          "colorscale": {
           "diverging": [
            [
             0,
             "#8e0152"
            ],
            [
             0.1,
             "#c51b7d"
            ],
            [
             0.2,
             "#de77ae"
            ],
            [
             0.3,
             "#f1b6da"
            ],
            [
             0.4,
             "#fde0ef"
            ],
            [
             0.5,
             "#f7f7f7"
            ],
            [
             0.6,
             "#e6f5d0"
            ],
            [
             0.7,
             "#b8e186"
            ],
            [
             0.8,
             "#7fbc41"
            ],
            [
             0.9,
             "#4d9221"
            ],
            [
             1,
             "#276419"
            ]
           ],
           "sequential": [
            [
             0,
             "#0d0887"
            ],
            [
             0.1111111111111111,
             "#46039f"
            ],
            [
             0.2222222222222222,
             "#7201a8"
            ],
            [
             0.3333333333333333,
             "#9c179e"
            ],
            [
             0.4444444444444444,
             "#bd3786"
            ],
            [
             0.5555555555555556,
             "#d8576b"
            ],
            [
             0.6666666666666666,
             "#ed7953"
            ],
            [
             0.7777777777777778,
             "#fb9f3a"
            ],
            [
             0.8888888888888888,
             "#fdca26"
            ],
            [
             1,
             "#f0f921"
            ]
           ],
           "sequentialminus": [
            [
             0,
             "#0d0887"
            ],
            [
             0.1111111111111111,
             "#46039f"
            ],
            [
             0.2222222222222222,
             "#7201a8"
            ],
            [
             0.3333333333333333,
             "#9c179e"
            ],
            [
             0.4444444444444444,
             "#bd3786"
            ],
            [
             0.5555555555555556,
             "#d8576b"
            ],
            [
             0.6666666666666666,
             "#ed7953"
            ],
            [
             0.7777777777777778,
             "#fb9f3a"
            ],
            [
             0.8888888888888888,
             "#fdca26"
            ],
            [
             1,
             "#f0f921"
            ]
           ]
          },
          "colorway": [
           "#636efa",
           "#EF553B",
           "#00cc96",
           "#ab63fa",
           "#FFA15A",
           "#19d3f3",
           "#FF6692",
           "#B6E880",
           "#FF97FF",
           "#FECB52"
          ],
          "font": {
           "color": "#2a3f5f"
          },
          "geo": {
           "bgcolor": "white",
           "lakecolor": "white",
           "landcolor": "#E5ECF6",
           "showlakes": true,
           "showland": true,
           "subunitcolor": "white"
          },
          "hoverlabel": {
           "align": "left"
          },
          "hovermode": "closest",
          "mapbox": {
           "style": "light"
          },
          "paper_bgcolor": "white",
          "plot_bgcolor": "#E5ECF6",
          "polar": {
           "angularaxis": {
            "gridcolor": "white",
            "linecolor": "white",
            "ticks": ""
           },
           "bgcolor": "#E5ECF6",
           "radialaxis": {
            "gridcolor": "white",
            "linecolor": "white",
            "ticks": ""
           }
          },
          "scene": {
           "xaxis": {
            "backgroundcolor": "#E5ECF6",
            "gridcolor": "white",
            "gridwidth": 2,
            "linecolor": "white",
            "showbackground": true,
            "ticks": "",
            "zerolinecolor": "white"
           },
           "yaxis": {
            "backgroundcolor": "#E5ECF6",
            "gridcolor": "white",
            "gridwidth": 2,
            "linecolor": "white",
            "showbackground": true,
            "ticks": "",
            "zerolinecolor": "white"
           },
           "zaxis": {
            "backgroundcolor": "#E5ECF6",
            "gridcolor": "white",
            "gridwidth": 2,
            "linecolor": "white",
            "showbackground": true,
            "ticks": "",
            "zerolinecolor": "white"
           }
          },
          "shapedefaults": {
           "line": {
            "color": "#2a3f5f"
           }
          },
          "ternary": {
           "aaxis": {
            "gridcolor": "white",
            "linecolor": "white",
            "ticks": ""
           },
           "baxis": {
            "gridcolor": "white",
            "linecolor": "white",
            "ticks": ""
           },
           "bgcolor": "#E5ECF6",
           "caxis": {
            "gridcolor": "white",
            "linecolor": "white",
            "ticks": ""
           }
          },
          "title": {
           "x": 0.05
          },
          "xaxis": {
           "automargin": true,
           "gridcolor": "white",
           "linecolor": "white",
           "ticks": "",
           "title": {
            "standoff": 15
           },
           "zerolinecolor": "white",
           "zerolinewidth": 2
          },
          "yaxis": {
           "automargin": true,
           "gridcolor": "white",
           "linecolor": "white",
           "ticks": "",
           "title": {
            "standoff": 15
           },
           "zerolinecolor": "white",
           "zerolinewidth": 2
          }
         }
        },
        "title": {
         "text": "Mean f1 score on testing and training set for each parameter combination <br> (Model: RandomForest Classifier, Dataset: Multivariate stochastic feature imputation with subset selection)"
        },
        "xaxis": {
         "anchor": "y",
         "domain": [
          0,
          1
         ],
         "title": {
          "text": "Params"
         }
        },
        "yaxis": {
         "anchor": "x",
         "domain": [
          0,
          1
         ],
         "title": {
          "text": "Average f1"
         }
        }
       }
      }
     },
     "metadata": {},
     "output_type": "display_data"
    }
   ],
   "source": [
    "stats = computeModelStats(model, stats, multivariate_stochastic_feature_imputation_subset_selection, pgrid)"
   ]
  },
  {
   "cell_type": "code",
   "execution_count": 34,
   "metadata": {
    "collapsed": false,
    "pycharm": {
     "name": "#%%\n"
    }
   },
   "outputs": [],
   "source": [
    "def plot_params_incidence(model=None,dataset=None,params=None,barchart=False):\n",
    "    mask1 = stats[\"dataset\"] == dataset[1] if dataset != None else True\n",
    "    mask2 = stats[\"model\"] == model[1] if model != None else True\n",
    "    mask3 = stats[\"type\"] == \"test\"\n",
    "\n",
    "    df_stats_temp = stats[mask1&mask2&mask3]\n",
    "    df_stats_temp = df_stats_temp.join(pd.json_normalize(df_stats_temp[\"params\"].apply(eval))).groupby([params]).agg({\"mean_f1\":\"mean\",\"std_f1\":\"mean\"})\n",
    "\n",
    "    if not barchart:\n",
    "        return px.line(df_stats_temp, labels=\"params\",y=\"mean_f1\",title=f\"Mean f1 score on testing depending on hyper parameter values <br>(Model: {model[1] if model else 'All'}, Dataset: {dataset[1]if dataset else 'All'}\").show()\n",
    "    return px.bar(df_stats_temp, labels=\"params\",y=\"mean_f1\",title=f\"Mean f1 score on testing depending on hyper parameter values <br>(Model: {model[1] if model else 'All'}, Dataset: {dataset[1]if dataset else 'All'})\",error_y=\"std_f1\").show()"
   ]
  },
  {
   "cell_type": "code",
   "execution_count": 35,
   "metadata": {
    "collapsed": false,
    "pycharm": {
     "name": "#%%\n"
    }
   },
   "outputs": [
    {
     "data": {
      "application/vnd.plotly.v1+json": {
       "config": {
        "plotlyServerURL": "https://plot.ly"
       },
       "data": [
        {
         "alignmentgroup": "True",
         "error_y": {
          "array": [
           0.023371212368334216,
           0.03536932644859575,
           0.03770369851943073
          ]
         },
         "hovertemplate": "max_depth=%{x}<br>mean_f1=%{y}<extra></extra>",
         "legendgroup": "",
         "marker": {
          "color": "#636efa",
          "pattern": {
           "shape": ""
          }
         },
         "name": "",
         "offsetgroup": "",
         "orientation": "v",
         "showlegend": false,
         "textposition": "auto",
         "type": "bar",
         "x": [
          3,
          6,
          9
         ],
         "xaxis": "x",
         "y": [
          0.11234159142534293,
          0.25671025619522986,
          0.32837513213002145
         ],
         "yaxis": "y"
        }
       ],
       "layout": {
        "barmode": "relative",
        "legend": {
         "tracegroupgap": 0
        },
        "template": {
         "data": {
          "bar": [
           {
            "error_x": {
             "color": "#2a3f5f"
            },
            "error_y": {
             "color": "#2a3f5f"
            },
            "marker": {
             "line": {
              "color": "#E5ECF6",
              "width": 0.5
             },
             "pattern": {
              "fillmode": "overlay",
              "size": 10,
              "solidity": 0.2
             }
            },
            "type": "bar"
           }
          ],
          "barpolar": [
           {
            "marker": {
             "line": {
              "color": "#E5ECF6",
              "width": 0.5
             },
             "pattern": {
              "fillmode": "overlay",
              "size": 10,
              "solidity": 0.2
             }
            },
            "type": "barpolar"
           }
          ],
          "carpet": [
           {
            "aaxis": {
             "endlinecolor": "#2a3f5f",
             "gridcolor": "white",
             "linecolor": "white",
             "minorgridcolor": "white",
             "startlinecolor": "#2a3f5f"
            },
            "baxis": {
             "endlinecolor": "#2a3f5f",
             "gridcolor": "white",
             "linecolor": "white",
             "minorgridcolor": "white",
             "startlinecolor": "#2a3f5f"
            },
            "type": "carpet"
           }
          ],
          "choropleth": [
           {
            "colorbar": {
             "outlinewidth": 0,
             "ticks": ""
            },
            "type": "choropleth"
           }
          ],
          "contour": [
           {
            "colorbar": {
             "outlinewidth": 0,
             "ticks": ""
            },
            "colorscale": [
             [
              0,
              "#0d0887"
             ],
             [
              0.1111111111111111,
              "#46039f"
             ],
             [
              0.2222222222222222,
              "#7201a8"
             ],
             [
              0.3333333333333333,
              "#9c179e"
             ],
             [
              0.4444444444444444,
              "#bd3786"
             ],
             [
              0.5555555555555556,
              "#d8576b"
             ],
             [
              0.6666666666666666,
              "#ed7953"
             ],
             [
              0.7777777777777778,
              "#fb9f3a"
             ],
             [
              0.8888888888888888,
              "#fdca26"
             ],
             [
              1,
              "#f0f921"
             ]
            ],
            "type": "contour"
           }
          ],
          "contourcarpet": [
           {
            "colorbar": {
             "outlinewidth": 0,
             "ticks": ""
            },
            "type": "contourcarpet"
           }
          ],
          "heatmap": [
           {
            "colorbar": {
             "outlinewidth": 0,
             "ticks": ""
            },
            "colorscale": [
             [
              0,
              "#0d0887"
             ],
             [
              0.1111111111111111,
              "#46039f"
             ],
             [
              0.2222222222222222,
              "#7201a8"
             ],
             [
              0.3333333333333333,
              "#9c179e"
             ],
             [
              0.4444444444444444,
              "#bd3786"
             ],
             [
              0.5555555555555556,
              "#d8576b"
             ],
             [
              0.6666666666666666,
              "#ed7953"
             ],
             [
              0.7777777777777778,
              "#fb9f3a"
             ],
             [
              0.8888888888888888,
              "#fdca26"
             ],
             [
              1,
              "#f0f921"
             ]
            ],
            "type": "heatmap"
           }
          ],
          "heatmapgl": [
           {
            "colorbar": {
             "outlinewidth": 0,
             "ticks": ""
            },
            "colorscale": [
             [
              0,
              "#0d0887"
             ],
             [
              0.1111111111111111,
              "#46039f"
             ],
             [
              0.2222222222222222,
              "#7201a8"
             ],
             [
              0.3333333333333333,
              "#9c179e"
             ],
             [
              0.4444444444444444,
              "#bd3786"
             ],
             [
              0.5555555555555556,
              "#d8576b"
             ],
             [
              0.6666666666666666,
              "#ed7953"
             ],
             [
              0.7777777777777778,
              "#fb9f3a"
             ],
             [
              0.8888888888888888,
              "#fdca26"
             ],
             [
              1,
              "#f0f921"
             ]
            ],
            "type": "heatmapgl"
           }
          ],
          "histogram": [
           {
            "marker": {
             "pattern": {
              "fillmode": "overlay",
              "size": 10,
              "solidity": 0.2
             }
            },
            "type": "histogram"
           }
          ],
          "histogram2d": [
           {
            "colorbar": {
             "outlinewidth": 0,
             "ticks": ""
            },
            "colorscale": [
             [
              0,
              "#0d0887"
             ],
             [
              0.1111111111111111,
              "#46039f"
             ],
             [
              0.2222222222222222,
              "#7201a8"
             ],
             [
              0.3333333333333333,
              "#9c179e"
             ],
             [
              0.4444444444444444,
              "#bd3786"
             ],
             [
              0.5555555555555556,
              "#d8576b"
             ],
             [
              0.6666666666666666,
              "#ed7953"
             ],
             [
              0.7777777777777778,
              "#fb9f3a"
             ],
             [
              0.8888888888888888,
              "#fdca26"
             ],
             [
              1,
              "#f0f921"
             ]
            ],
            "type": "histogram2d"
           }
          ],
          "histogram2dcontour": [
           {
            "colorbar": {
             "outlinewidth": 0,
             "ticks": ""
            },
            "colorscale": [
             [
              0,
              "#0d0887"
             ],
             [
              0.1111111111111111,
              "#46039f"
             ],
             [
              0.2222222222222222,
              "#7201a8"
             ],
             [
              0.3333333333333333,
              "#9c179e"
             ],
             [
              0.4444444444444444,
              "#bd3786"
             ],
             [
              0.5555555555555556,
              "#d8576b"
             ],
             [
              0.6666666666666666,
              "#ed7953"
             ],
             [
              0.7777777777777778,
              "#fb9f3a"
             ],
             [
              0.8888888888888888,
              "#fdca26"
             ],
             [
              1,
              "#f0f921"
             ]
            ],
            "type": "histogram2dcontour"
           }
          ],
          "mesh3d": [
           {
            "colorbar": {
             "outlinewidth": 0,
             "ticks": ""
            },
            "type": "mesh3d"
           }
          ],
          "parcoords": [
           {
            "line": {
             "colorbar": {
              "outlinewidth": 0,
              "ticks": ""
             }
            },
            "type": "parcoords"
           }
          ],
          "pie": [
           {
            "automargin": true,
            "type": "pie"
           }
          ],
          "scatter": [
           {
            "marker": {
             "colorbar": {
              "outlinewidth": 0,
              "ticks": ""
             }
            },
            "type": "scatter"
           }
          ],
          "scatter3d": [
           {
            "line": {
             "colorbar": {
              "outlinewidth": 0,
              "ticks": ""
             }
            },
            "marker": {
             "colorbar": {
              "outlinewidth": 0,
              "ticks": ""
             }
            },
            "type": "scatter3d"
           }
          ],
          "scattercarpet": [
           {
            "marker": {
             "colorbar": {
              "outlinewidth": 0,
              "ticks": ""
             }
            },
            "type": "scattercarpet"
           }
          ],
          "scattergeo": [
           {
            "marker": {
             "colorbar": {
              "outlinewidth": 0,
              "ticks": ""
             }
            },
            "type": "scattergeo"
           }
          ],
          "scattergl": [
           {
            "marker": {
             "colorbar": {
              "outlinewidth": 0,
              "ticks": ""
             }
            },
            "type": "scattergl"
           }
          ],
          "scattermapbox": [
           {
            "marker": {
             "colorbar": {
              "outlinewidth": 0,
              "ticks": ""
             }
            },
            "type": "scattermapbox"
           }
          ],
          "scatterpolar": [
           {
            "marker": {
             "colorbar": {
              "outlinewidth": 0,
              "ticks": ""
             }
            },
            "type": "scatterpolar"
           }
          ],
          "scatterpolargl": [
           {
            "marker": {
             "colorbar": {
              "outlinewidth": 0,
              "ticks": ""
             }
            },
            "type": "scatterpolargl"
           }
          ],
          "scatterternary": [
           {
            "marker": {
             "colorbar": {
              "outlinewidth": 0,
              "ticks": ""
             }
            },
            "type": "scatterternary"
           }
          ],
          "surface": [
           {
            "colorbar": {
             "outlinewidth": 0,
             "ticks": ""
            },
            "colorscale": [
             [
              0,
              "#0d0887"
             ],
             [
              0.1111111111111111,
              "#46039f"
             ],
             [
              0.2222222222222222,
              "#7201a8"
             ],
             [
              0.3333333333333333,
              "#9c179e"
             ],
             [
              0.4444444444444444,
              "#bd3786"
             ],
             [
              0.5555555555555556,
              "#d8576b"
             ],
             [
              0.6666666666666666,
              "#ed7953"
             ],
             [
              0.7777777777777778,
              "#fb9f3a"
             ],
             [
              0.8888888888888888,
              "#fdca26"
             ],
             [
              1,
              "#f0f921"
             ]
            ],
            "type": "surface"
           }
          ],
          "table": [
           {
            "cells": {
             "fill": {
              "color": "#EBF0F8"
             },
             "line": {
              "color": "white"
             }
            },
            "header": {
             "fill": {
              "color": "#C8D4E3"
             },
             "line": {
              "color": "white"
             }
            },
            "type": "table"
           }
          ]
         },
         "layout": {
          "annotationdefaults": {
           "arrowcolor": "#2a3f5f",
           "arrowhead": 0,
           "arrowwidth": 1
          },
          "autotypenumbers": "strict",
          "coloraxis": {
           "colorbar": {
            "outlinewidth": 0,
            "ticks": ""
           }
          },
          "colorscale": {
           "diverging": [
            [
             0,
             "#8e0152"
            ],
            [
             0.1,
             "#c51b7d"
            ],
            [
             0.2,
             "#de77ae"
            ],
            [
             0.3,
             "#f1b6da"
            ],
            [
             0.4,
             "#fde0ef"
            ],
            [
             0.5,
             "#f7f7f7"
            ],
            [
             0.6,
             "#e6f5d0"
            ],
            [
             0.7,
             "#b8e186"
            ],
            [
             0.8,
             "#7fbc41"
            ],
            [
             0.9,
             "#4d9221"
            ],
            [
             1,
             "#276419"
            ]
           ],
           "sequential": [
            [
             0,
             "#0d0887"
            ],
            [
             0.1111111111111111,
             "#46039f"
            ],
            [
             0.2222222222222222,
             "#7201a8"
            ],
            [
             0.3333333333333333,
             "#9c179e"
            ],
            [
             0.4444444444444444,
             "#bd3786"
            ],
            [
             0.5555555555555556,
             "#d8576b"
            ],
            [
             0.6666666666666666,
             "#ed7953"
            ],
            [
             0.7777777777777778,
             "#fb9f3a"
            ],
            [
             0.8888888888888888,
             "#fdca26"
            ],
            [
             1,
             "#f0f921"
            ]
           ],
           "sequentialminus": [
            [
             0,
             "#0d0887"
            ],
            [
             0.1111111111111111,
             "#46039f"
            ],
            [
             0.2222222222222222,
             "#7201a8"
            ],
            [
             0.3333333333333333,
             "#9c179e"
            ],
            [
             0.4444444444444444,
             "#bd3786"
            ],
            [
             0.5555555555555556,
             "#d8576b"
            ],
            [
             0.6666666666666666,
             "#ed7953"
            ],
            [
             0.7777777777777778,
             "#fb9f3a"
            ],
            [
             0.8888888888888888,
             "#fdca26"
            ],
            [
             1,
             "#f0f921"
            ]
           ]
          },
          "colorway": [
           "#636efa",
           "#EF553B",
           "#00cc96",
           "#ab63fa",
           "#FFA15A",
           "#19d3f3",
           "#FF6692",
           "#B6E880",
           "#FF97FF",
           "#FECB52"
          ],
          "font": {
           "color": "#2a3f5f"
          },
          "geo": {
           "bgcolor": "white",
           "lakecolor": "white",
           "landcolor": "#E5ECF6",
           "showlakes": true,
           "showland": true,
           "subunitcolor": "white"
          },
          "hoverlabel": {
           "align": "left"
          },
          "hovermode": "closest",
          "mapbox": {
           "style": "light"
          },
          "paper_bgcolor": "white",
          "plot_bgcolor": "#E5ECF6",
          "polar": {
           "angularaxis": {
            "gridcolor": "white",
            "linecolor": "white",
            "ticks": ""
           },
           "bgcolor": "#E5ECF6",
           "radialaxis": {
            "gridcolor": "white",
            "linecolor": "white",
            "ticks": ""
           }
          },
          "scene": {
           "xaxis": {
            "backgroundcolor": "#E5ECF6",
            "gridcolor": "white",
            "gridwidth": 2,
            "linecolor": "white",
            "showbackground": true,
            "ticks": "",
            "zerolinecolor": "white"
           },
           "yaxis": {
            "backgroundcolor": "#E5ECF6",
            "gridcolor": "white",
            "gridwidth": 2,
            "linecolor": "white",
            "showbackground": true,
            "ticks": "",
            "zerolinecolor": "white"
           },
           "zaxis": {
            "backgroundcolor": "#E5ECF6",
            "gridcolor": "white",
            "gridwidth": 2,
            "linecolor": "white",
            "showbackground": true,
            "ticks": "",
            "zerolinecolor": "white"
           }
          },
          "shapedefaults": {
           "line": {
            "color": "#2a3f5f"
           }
          },
          "ternary": {
           "aaxis": {
            "gridcolor": "white",
            "linecolor": "white",
            "ticks": ""
           },
           "baxis": {
            "gridcolor": "white",
            "linecolor": "white",
            "ticks": ""
           },
           "bgcolor": "#E5ECF6",
           "caxis": {
            "gridcolor": "white",
            "linecolor": "white",
            "ticks": ""
           }
          },
          "title": {
           "x": 0.05
          },
          "xaxis": {
           "automargin": true,
           "gridcolor": "white",
           "linecolor": "white",
           "ticks": "",
           "title": {
            "standoff": 15
           },
           "zerolinecolor": "white",
           "zerolinewidth": 2
          },
          "yaxis": {
           "automargin": true,
           "gridcolor": "white",
           "linecolor": "white",
           "ticks": "",
           "title": {
            "standoff": 15
           },
           "zerolinecolor": "white",
           "zerolinewidth": 2
          }
         }
        },
        "title": {
         "text": "Mean f1 score on testing depending on hyper parameter values <br>(Model: RandomForest Classifier, Dataset: All)"
        },
        "xaxis": {
         "anchor": "y",
         "domain": [
          0,
          1
         ],
         "title": {
          "text": "max_depth"
         }
        },
        "yaxis": {
         "anchor": "x",
         "domain": [
          0,
          1
         ],
         "title": {
          "text": "mean_f1"
         }
        }
       }
      }
     },
     "metadata": {},
     "output_type": "display_data"
    }
   ],
   "source": [
    "plot_params_incidence(model=model,params = \"max_depth\", barchart=True)"
   ]
  },
  {
   "cell_type": "code",
   "execution_count": 36,
   "metadata": {
    "collapsed": false,
    "pycharm": {
     "name": "#%%\n"
    }
   },
   "outputs": [
    {
     "data": {
      "application/vnd.plotly.v1+json": {
       "config": {
        "plotlyServerURL": "https://plot.ly"
       },
       "data": [
        {
         "alignmentgroup": "True",
         "error_y": {
          "array": [
           0.03252437998021999,
           0.0323874549183568,
           0.0322922743921933,
           0.03138820715771079
          ]
         },
         "hovertemplate": "n_estimators=%{x}<br>mean_f1=%{y}<extra></extra>",
         "legendgroup": "",
         "marker": {
          "color": "#636efa",
          "pattern": {
           "shape": ""
          }
         },
         "name": "",
         "offsetgroup": "",
         "orientation": "v",
         "showlegend": false,
         "textposition": "auto",
         "type": "bar",
         "x": [
          50,
          80,
          110,
          130
         ],
         "xaxis": "x",
         "y": [
          0.23412859110223605,
          0.2321687329274679,
          0.23259203359008662,
          0.23101328204766877
         ],
         "yaxis": "y"
        }
       ],
       "layout": {
        "barmode": "relative",
        "legend": {
         "tracegroupgap": 0
        },
        "template": {
         "data": {
          "bar": [
           {
            "error_x": {
             "color": "#2a3f5f"
            },
            "error_y": {
             "color": "#2a3f5f"
            },
            "marker": {
             "line": {
              "color": "#E5ECF6",
              "width": 0.5
             },
             "pattern": {
              "fillmode": "overlay",
              "size": 10,
              "solidity": 0.2
             }
            },
            "type": "bar"
           }
          ],
          "barpolar": [
           {
            "marker": {
             "line": {
              "color": "#E5ECF6",
              "width": 0.5
             },
             "pattern": {
              "fillmode": "overlay",
              "size": 10,
              "solidity": 0.2
             }
            },
            "type": "barpolar"
           }
          ],
          "carpet": [
           {
            "aaxis": {
             "endlinecolor": "#2a3f5f",
             "gridcolor": "white",
             "linecolor": "white",
             "minorgridcolor": "white",
             "startlinecolor": "#2a3f5f"
            },
            "baxis": {
             "endlinecolor": "#2a3f5f",
             "gridcolor": "white",
             "linecolor": "white",
             "minorgridcolor": "white",
             "startlinecolor": "#2a3f5f"
            },
            "type": "carpet"
           }
          ],
          "choropleth": [
           {
            "colorbar": {
             "outlinewidth": 0,
             "ticks": ""
            },
            "type": "choropleth"
           }
          ],
          "contour": [
           {
            "colorbar": {
             "outlinewidth": 0,
             "ticks": ""
            },
            "colorscale": [
             [
              0,
              "#0d0887"
             ],
             [
              0.1111111111111111,
              "#46039f"
             ],
             [
              0.2222222222222222,
              "#7201a8"
             ],
             [
              0.3333333333333333,
              "#9c179e"
             ],
             [
              0.4444444444444444,
              "#bd3786"
             ],
             [
              0.5555555555555556,
              "#d8576b"
             ],
             [
              0.6666666666666666,
              "#ed7953"
             ],
             [
              0.7777777777777778,
              "#fb9f3a"
             ],
             [
              0.8888888888888888,
              "#fdca26"
             ],
             [
              1,
              "#f0f921"
             ]
            ],
            "type": "contour"
           }
          ],
          "contourcarpet": [
           {
            "colorbar": {
             "outlinewidth": 0,
             "ticks": ""
            },
            "type": "contourcarpet"
           }
          ],
          "heatmap": [
           {
            "colorbar": {
             "outlinewidth": 0,
             "ticks": ""
            },
            "colorscale": [
             [
              0,
              "#0d0887"
             ],
             [
              0.1111111111111111,
              "#46039f"
             ],
             [
              0.2222222222222222,
              "#7201a8"
             ],
             [
              0.3333333333333333,
              "#9c179e"
             ],
             [
              0.4444444444444444,
              "#bd3786"
             ],
             [
              0.5555555555555556,
              "#d8576b"
             ],
             [
              0.6666666666666666,
              "#ed7953"
             ],
             [
              0.7777777777777778,
              "#fb9f3a"
             ],
             [
              0.8888888888888888,
              "#fdca26"
             ],
             [
              1,
              "#f0f921"
             ]
            ],
            "type": "heatmap"
           }
          ],
          "heatmapgl": [
           {
            "colorbar": {
             "outlinewidth": 0,
             "ticks": ""
            },
            "colorscale": [
             [
              0,
              "#0d0887"
             ],
             [
              0.1111111111111111,
              "#46039f"
             ],
             [
              0.2222222222222222,
              "#7201a8"
             ],
             [
              0.3333333333333333,
              "#9c179e"
             ],
             [
              0.4444444444444444,
              "#bd3786"
             ],
             [
              0.5555555555555556,
              "#d8576b"
             ],
             [
              0.6666666666666666,
              "#ed7953"
             ],
             [
              0.7777777777777778,
              "#fb9f3a"
             ],
             [
              0.8888888888888888,
              "#fdca26"
             ],
             [
              1,
              "#f0f921"
             ]
            ],
            "type": "heatmapgl"
           }
          ],
          "histogram": [
           {
            "marker": {
             "pattern": {
              "fillmode": "overlay",
              "size": 10,
              "solidity": 0.2
             }
            },
            "type": "histogram"
           }
          ],
          "histogram2d": [
           {
            "colorbar": {
             "outlinewidth": 0,
             "ticks": ""
            },
            "colorscale": [
             [
              0,
              "#0d0887"
             ],
             [
              0.1111111111111111,
              "#46039f"
             ],
             [
              0.2222222222222222,
              "#7201a8"
             ],
             [
              0.3333333333333333,
              "#9c179e"
             ],
             [
              0.4444444444444444,
              "#bd3786"
             ],
             [
              0.5555555555555556,
              "#d8576b"
             ],
             [
              0.6666666666666666,
              "#ed7953"
             ],
             [
              0.7777777777777778,
              "#fb9f3a"
             ],
             [
              0.8888888888888888,
              "#fdca26"
             ],
             [
              1,
              "#f0f921"
             ]
            ],
            "type": "histogram2d"
           }
          ],
          "histogram2dcontour": [
           {
            "colorbar": {
             "outlinewidth": 0,
             "ticks": ""
            },
            "colorscale": [
             [
              0,
              "#0d0887"
             ],
             [
              0.1111111111111111,
              "#46039f"
             ],
             [
              0.2222222222222222,
              "#7201a8"
             ],
             [
              0.3333333333333333,
              "#9c179e"
             ],
             [
              0.4444444444444444,
              "#bd3786"
             ],
             [
              0.5555555555555556,
              "#d8576b"
             ],
             [
              0.6666666666666666,
              "#ed7953"
             ],
             [
              0.7777777777777778,
              "#fb9f3a"
             ],
             [
              0.8888888888888888,
              "#fdca26"
             ],
             [
              1,
              "#f0f921"
             ]
            ],
            "type": "histogram2dcontour"
           }
          ],
          "mesh3d": [
           {
            "colorbar": {
             "outlinewidth": 0,
             "ticks": ""
            },
            "type": "mesh3d"
           }
          ],
          "parcoords": [
           {
            "line": {
             "colorbar": {
              "outlinewidth": 0,
              "ticks": ""
             }
            },
            "type": "parcoords"
           }
          ],
          "pie": [
           {
            "automargin": true,
            "type": "pie"
           }
          ],
          "scatter": [
           {
            "marker": {
             "colorbar": {
              "outlinewidth": 0,
              "ticks": ""
             }
            },
            "type": "scatter"
           }
          ],
          "scatter3d": [
           {
            "line": {
             "colorbar": {
              "outlinewidth": 0,
              "ticks": ""
             }
            },
            "marker": {
             "colorbar": {
              "outlinewidth": 0,
              "ticks": ""
             }
            },
            "type": "scatter3d"
           }
          ],
          "scattercarpet": [
           {
            "marker": {
             "colorbar": {
              "outlinewidth": 0,
              "ticks": ""
             }
            },
            "type": "scattercarpet"
           }
          ],
          "scattergeo": [
           {
            "marker": {
             "colorbar": {
              "outlinewidth": 0,
              "ticks": ""
             }
            },
            "type": "scattergeo"
           }
          ],
          "scattergl": [
           {
            "marker": {
             "colorbar": {
              "outlinewidth": 0,
              "ticks": ""
             }
            },
            "type": "scattergl"
           }
          ],
          "scattermapbox": [
           {
            "marker": {
             "colorbar": {
              "outlinewidth": 0,
              "ticks": ""
             }
            },
            "type": "scattermapbox"
           }
          ],
          "scatterpolar": [
           {
            "marker": {
             "colorbar": {
              "outlinewidth": 0,
              "ticks": ""
             }
            },
            "type": "scatterpolar"
           }
          ],
          "scatterpolargl": [
           {
            "marker": {
             "colorbar": {
              "outlinewidth": 0,
              "ticks": ""
             }
            },
            "type": "scatterpolargl"
           }
          ],
          "scatterternary": [
           {
            "marker": {
             "colorbar": {
              "outlinewidth": 0,
              "ticks": ""
             }
            },
            "type": "scatterternary"
           }
          ],
          "surface": [
           {
            "colorbar": {
             "outlinewidth": 0,
             "ticks": ""
            },
            "colorscale": [
             [
              0,
              "#0d0887"
             ],
             [
              0.1111111111111111,
              "#46039f"
             ],
             [
              0.2222222222222222,
              "#7201a8"
             ],
             [
              0.3333333333333333,
              "#9c179e"
             ],
             [
              0.4444444444444444,
              "#bd3786"
             ],
             [
              0.5555555555555556,
              "#d8576b"
             ],
             [
              0.6666666666666666,
              "#ed7953"
             ],
             [
              0.7777777777777778,
              "#fb9f3a"
             ],
             [
              0.8888888888888888,
              "#fdca26"
             ],
             [
              1,
              "#f0f921"
             ]
            ],
            "type": "surface"
           }
          ],
          "table": [
           {
            "cells": {
             "fill": {
              "color": "#EBF0F8"
             },
             "line": {
              "color": "white"
             }
            },
            "header": {
             "fill": {
              "color": "#C8D4E3"
             },
             "line": {
              "color": "white"
             }
            },
            "type": "table"
           }
          ]
         },
         "layout": {
          "annotationdefaults": {
           "arrowcolor": "#2a3f5f",
           "arrowhead": 0,
           "arrowwidth": 1
          },
          "autotypenumbers": "strict",
          "coloraxis": {
           "colorbar": {
            "outlinewidth": 0,
            "ticks": ""
           }
          },
          "colorscale": {
           "diverging": [
            [
             0,
             "#8e0152"
            ],
            [
             0.1,
             "#c51b7d"
            ],
            [
             0.2,
             "#de77ae"
            ],
            [
             0.3,
             "#f1b6da"
            ],
            [
             0.4,
             "#fde0ef"
            ],
            [
             0.5,
             "#f7f7f7"
            ],
            [
             0.6,
             "#e6f5d0"
            ],
            [
             0.7,
             "#b8e186"
            ],
            [
             0.8,
             "#7fbc41"
            ],
            [
             0.9,
             "#4d9221"
            ],
            [
             1,
             "#276419"
            ]
           ],
           "sequential": [
            [
             0,
             "#0d0887"
            ],
            [
             0.1111111111111111,
             "#46039f"
            ],
            [
             0.2222222222222222,
             "#7201a8"
            ],
            [
             0.3333333333333333,
             "#9c179e"
            ],
            [
             0.4444444444444444,
             "#bd3786"
            ],
            [
             0.5555555555555556,
             "#d8576b"
            ],
            [
             0.6666666666666666,
             "#ed7953"
            ],
            [
             0.7777777777777778,
             "#fb9f3a"
            ],
            [
             0.8888888888888888,
             "#fdca26"
            ],
            [
             1,
             "#f0f921"
            ]
           ],
           "sequentialminus": [
            [
             0,
             "#0d0887"
            ],
            [
             0.1111111111111111,
             "#46039f"
            ],
            [
             0.2222222222222222,
             "#7201a8"
            ],
            [
             0.3333333333333333,
             "#9c179e"
            ],
            [
             0.4444444444444444,
             "#bd3786"
            ],
            [
             0.5555555555555556,
             "#d8576b"
            ],
            [
             0.6666666666666666,
             "#ed7953"
            ],
            [
             0.7777777777777778,
             "#fb9f3a"
            ],
            [
             0.8888888888888888,
             "#fdca26"
            ],
            [
             1,
             "#f0f921"
            ]
           ]
          },
          "colorway": [
           "#636efa",
           "#EF553B",
           "#00cc96",
           "#ab63fa",
           "#FFA15A",
           "#19d3f3",
           "#FF6692",
           "#B6E880",
           "#FF97FF",
           "#FECB52"
          ],
          "font": {
           "color": "#2a3f5f"
          },
          "geo": {
           "bgcolor": "white",
           "lakecolor": "white",
           "landcolor": "#E5ECF6",
           "showlakes": true,
           "showland": true,
           "subunitcolor": "white"
          },
          "hoverlabel": {
           "align": "left"
          },
          "hovermode": "closest",
          "mapbox": {
           "style": "light"
          },
          "paper_bgcolor": "white",
          "plot_bgcolor": "#E5ECF6",
          "polar": {
           "angularaxis": {
            "gridcolor": "white",
            "linecolor": "white",
            "ticks": ""
           },
           "bgcolor": "#E5ECF6",
           "radialaxis": {
            "gridcolor": "white",
            "linecolor": "white",
            "ticks": ""
           }
          },
          "scene": {
           "xaxis": {
            "backgroundcolor": "#E5ECF6",
            "gridcolor": "white",
            "gridwidth": 2,
            "linecolor": "white",
            "showbackground": true,
            "ticks": "",
            "zerolinecolor": "white"
           },
           "yaxis": {
            "backgroundcolor": "#E5ECF6",
            "gridcolor": "white",
            "gridwidth": 2,
            "linecolor": "white",
            "showbackground": true,
            "ticks": "",
            "zerolinecolor": "white"
           },
           "zaxis": {
            "backgroundcolor": "#E5ECF6",
            "gridcolor": "white",
            "gridwidth": 2,
            "linecolor": "white",
            "showbackground": true,
            "ticks": "",
            "zerolinecolor": "white"
           }
          },
          "shapedefaults": {
           "line": {
            "color": "#2a3f5f"
           }
          },
          "ternary": {
           "aaxis": {
            "gridcolor": "white",
            "linecolor": "white",
            "ticks": ""
           },
           "baxis": {
            "gridcolor": "white",
            "linecolor": "white",
            "ticks": ""
           },
           "bgcolor": "#E5ECF6",
           "caxis": {
            "gridcolor": "white",
            "linecolor": "white",
            "ticks": ""
           }
          },
          "title": {
           "x": 0.05
          },
          "xaxis": {
           "automargin": true,
           "gridcolor": "white",
           "linecolor": "white",
           "ticks": "",
           "title": {
            "standoff": 15
           },
           "zerolinecolor": "white",
           "zerolinewidth": 2
          },
          "yaxis": {
           "automargin": true,
           "gridcolor": "white",
           "linecolor": "white",
           "ticks": "",
           "title": {
            "standoff": 15
           },
           "zerolinecolor": "white",
           "zerolinewidth": 2
          }
         }
        },
        "title": {
         "text": "Mean f1 score on testing depending on hyper parameter values <br>(Model: RandomForest Classifier, Dataset: All)"
        },
        "xaxis": {
         "anchor": "y",
         "domain": [
          0,
          1
         ],
         "title": {
          "text": "n_estimators"
         }
        },
        "yaxis": {
         "anchor": "x",
         "domain": [
          0,
          1
         ],
         "title": {
          "text": "mean_f1"
         }
        }
       }
      }
     },
     "metadata": {},
     "output_type": "display_data"
    }
   ],
   "source": [
    "plot_params_incidence(model=model,params = \"n_estimators\", barchart=True)"
   ]
  },
  {
   "cell_type": "code",
   "execution_count": 37,
   "metadata": {
    "collapsed": false,
    "pycharm": {
     "name": "#%%\n"
    }
   },
   "outputs": [
    {
     "data": {
      "application/vnd.plotly.v1+json": {
       "config": {
        "plotlyServerURL": "https://plot.ly"
       },
       "data": [
        {
         "alignmentgroup": "True",
         "error_y": {
          "array": [
           0.03263913928365805,
           0.03188197413235762,
           0.03233597174296243,
           0.031735231289502765
          ]
         },
         "hovertemplate": "min_samples_split=%{x}<br>mean_f1=%{y}<extra></extra>",
         "legendgroup": "",
         "marker": {
          "color": "#636efa",
          "pattern": {
           "shape": ""
          }
         },
         "name": "",
         "offsetgroup": "",
         "orientation": "v",
         "showlegend": false,
         "textposition": "auto",
         "type": "bar",
         "x": [
          3,
          6,
          9,
          12
         ],
         "xaxis": "x",
         "y": [
          0.23180809483705328,
          0.23259996485776788,
          0.23291376151738732,
          0.23258081845525064
         ],
         "yaxis": "y"
        }
       ],
       "layout": {
        "barmode": "relative",
        "legend": {
         "tracegroupgap": 0
        },
        "template": {
         "data": {
          "bar": [
           {
            "error_x": {
             "color": "#2a3f5f"
            },
            "error_y": {
             "color": "#2a3f5f"
            },
            "marker": {
             "line": {
              "color": "#E5ECF6",
              "width": 0.5
             },
             "pattern": {
              "fillmode": "overlay",
              "size": 10,
              "solidity": 0.2
             }
            },
            "type": "bar"
           }
          ],
          "barpolar": [
           {
            "marker": {
             "line": {
              "color": "#E5ECF6",
              "width": 0.5
             },
             "pattern": {
              "fillmode": "overlay",
              "size": 10,
              "solidity": 0.2
             }
            },
            "type": "barpolar"
           }
          ],
          "carpet": [
           {
            "aaxis": {
             "endlinecolor": "#2a3f5f",
             "gridcolor": "white",
             "linecolor": "white",
             "minorgridcolor": "white",
             "startlinecolor": "#2a3f5f"
            },
            "baxis": {
             "endlinecolor": "#2a3f5f",
             "gridcolor": "white",
             "linecolor": "white",
             "minorgridcolor": "white",
             "startlinecolor": "#2a3f5f"
            },
            "type": "carpet"
           }
          ],
          "choropleth": [
           {
            "colorbar": {
             "outlinewidth": 0,
             "ticks": ""
            },
            "type": "choropleth"
           }
          ],
          "contour": [
           {
            "colorbar": {
             "outlinewidth": 0,
             "ticks": ""
            },
            "colorscale": [
             [
              0,
              "#0d0887"
             ],
             [
              0.1111111111111111,
              "#46039f"
             ],
             [
              0.2222222222222222,
              "#7201a8"
             ],
             [
              0.3333333333333333,
              "#9c179e"
             ],
             [
              0.4444444444444444,
              "#bd3786"
             ],
             [
              0.5555555555555556,
              "#d8576b"
             ],
             [
              0.6666666666666666,
              "#ed7953"
             ],
             [
              0.7777777777777778,
              "#fb9f3a"
             ],
             [
              0.8888888888888888,
              "#fdca26"
             ],
             [
              1,
              "#f0f921"
             ]
            ],
            "type": "contour"
           }
          ],
          "contourcarpet": [
           {
            "colorbar": {
             "outlinewidth": 0,
             "ticks": ""
            },
            "type": "contourcarpet"
           }
          ],
          "heatmap": [
           {
            "colorbar": {
             "outlinewidth": 0,
             "ticks": ""
            },
            "colorscale": [
             [
              0,
              "#0d0887"
             ],
             [
              0.1111111111111111,
              "#46039f"
             ],
             [
              0.2222222222222222,
              "#7201a8"
             ],
             [
              0.3333333333333333,
              "#9c179e"
             ],
             [
              0.4444444444444444,
              "#bd3786"
             ],
             [
              0.5555555555555556,
              "#d8576b"
             ],
             [
              0.6666666666666666,
              "#ed7953"
             ],
             [
              0.7777777777777778,
              "#fb9f3a"
             ],
             [
              0.8888888888888888,
              "#fdca26"
             ],
             [
              1,
              "#f0f921"
             ]
            ],
            "type": "heatmap"
           }
          ],
          "heatmapgl": [
           {
            "colorbar": {
             "outlinewidth": 0,
             "ticks": ""
            },
            "colorscale": [
             [
              0,
              "#0d0887"
             ],
             [
              0.1111111111111111,
              "#46039f"
             ],
             [
              0.2222222222222222,
              "#7201a8"
             ],
             [
              0.3333333333333333,
              "#9c179e"
             ],
             [
              0.4444444444444444,
              "#bd3786"
             ],
             [
              0.5555555555555556,
              "#d8576b"
             ],
             [
              0.6666666666666666,
              "#ed7953"
             ],
             [
              0.7777777777777778,
              "#fb9f3a"
             ],
             [
              0.8888888888888888,
              "#fdca26"
             ],
             [
              1,
              "#f0f921"
             ]
            ],
            "type": "heatmapgl"
           }
          ],
          "histogram": [
           {
            "marker": {
             "pattern": {
              "fillmode": "overlay",
              "size": 10,
              "solidity": 0.2
             }
            },
            "type": "histogram"
           }
          ],
          "histogram2d": [
           {
            "colorbar": {
             "outlinewidth": 0,
             "ticks": ""
            },
            "colorscale": [
             [
              0,
              "#0d0887"
             ],
             [
              0.1111111111111111,
              "#46039f"
             ],
             [
              0.2222222222222222,
              "#7201a8"
             ],
             [
              0.3333333333333333,
              "#9c179e"
             ],
             [
              0.4444444444444444,
              "#bd3786"
             ],
             [
              0.5555555555555556,
              "#d8576b"
             ],
             [
              0.6666666666666666,
              "#ed7953"
             ],
             [
              0.7777777777777778,
              "#fb9f3a"
             ],
             [
              0.8888888888888888,
              "#fdca26"
             ],
             [
              1,
              "#f0f921"
             ]
            ],
            "type": "histogram2d"
           }
          ],
          "histogram2dcontour": [
           {
            "colorbar": {
             "outlinewidth": 0,
             "ticks": ""
            },
            "colorscale": [
             [
              0,
              "#0d0887"
             ],
             [
              0.1111111111111111,
              "#46039f"
             ],
             [
              0.2222222222222222,
              "#7201a8"
             ],
             [
              0.3333333333333333,
              "#9c179e"
             ],
             [
              0.4444444444444444,
              "#bd3786"
             ],
             [
              0.5555555555555556,
              "#d8576b"
             ],
             [
              0.6666666666666666,
              "#ed7953"
             ],
             [
              0.7777777777777778,
              "#fb9f3a"
             ],
             [
              0.8888888888888888,
              "#fdca26"
             ],
             [
              1,
              "#f0f921"
             ]
            ],
            "type": "histogram2dcontour"
           }
          ],
          "mesh3d": [
           {
            "colorbar": {
             "outlinewidth": 0,
             "ticks": ""
            },
            "type": "mesh3d"
           }
          ],
          "parcoords": [
           {
            "line": {
             "colorbar": {
              "outlinewidth": 0,
              "ticks": ""
             }
            },
            "type": "parcoords"
           }
          ],
          "pie": [
           {
            "automargin": true,
            "type": "pie"
           }
          ],
          "scatter": [
           {
            "marker": {
             "colorbar": {
              "outlinewidth": 0,
              "ticks": ""
             }
            },
            "type": "scatter"
           }
          ],
          "scatter3d": [
           {
            "line": {
             "colorbar": {
              "outlinewidth": 0,
              "ticks": ""
             }
            },
            "marker": {
             "colorbar": {
              "outlinewidth": 0,
              "ticks": ""
             }
            },
            "type": "scatter3d"
           }
          ],
          "scattercarpet": [
           {
            "marker": {
             "colorbar": {
              "outlinewidth": 0,
              "ticks": ""
             }
            },
            "type": "scattercarpet"
           }
          ],
          "scattergeo": [
           {
            "marker": {
             "colorbar": {
              "outlinewidth": 0,
              "ticks": ""
             }
            },
            "type": "scattergeo"
           }
          ],
          "scattergl": [
           {
            "marker": {
             "colorbar": {
              "outlinewidth": 0,
              "ticks": ""
             }
            },
            "type": "scattergl"
           }
          ],
          "scattermapbox": [
           {
            "marker": {
             "colorbar": {
              "outlinewidth": 0,
              "ticks": ""
             }
            },
            "type": "scattermapbox"
           }
          ],
          "scatterpolar": [
           {
            "marker": {
             "colorbar": {
              "outlinewidth": 0,
              "ticks": ""
             }
            },
            "type": "scatterpolar"
           }
          ],
          "scatterpolargl": [
           {
            "marker": {
             "colorbar": {
              "outlinewidth": 0,
              "ticks": ""
             }
            },
            "type": "scatterpolargl"
           }
          ],
          "scatterternary": [
           {
            "marker": {
             "colorbar": {
              "outlinewidth": 0,
              "ticks": ""
             }
            },
            "type": "scatterternary"
           }
          ],
          "surface": [
           {
            "colorbar": {
             "outlinewidth": 0,
             "ticks": ""
            },
            "colorscale": [
             [
              0,
              "#0d0887"
             ],
             [
              0.1111111111111111,
              "#46039f"
             ],
             [
              0.2222222222222222,
              "#7201a8"
             ],
             [
              0.3333333333333333,
              "#9c179e"
             ],
             [
              0.4444444444444444,
              "#bd3786"
             ],
             [
              0.5555555555555556,
              "#d8576b"
             ],
             [
              0.6666666666666666,
              "#ed7953"
             ],
             [
              0.7777777777777778,
              "#fb9f3a"
             ],
             [
              0.8888888888888888,
              "#fdca26"
             ],
             [
              1,
              "#f0f921"
             ]
            ],
            "type": "surface"
           }
          ],
          "table": [
           {
            "cells": {
             "fill": {
              "color": "#EBF0F8"
             },
             "line": {
              "color": "white"
             }
            },
            "header": {
             "fill": {
              "color": "#C8D4E3"
             },
             "line": {
              "color": "white"
             }
            },
            "type": "table"
           }
          ]
         },
         "layout": {
          "annotationdefaults": {
           "arrowcolor": "#2a3f5f",
           "arrowhead": 0,
           "arrowwidth": 1
          },
          "autotypenumbers": "strict",
          "coloraxis": {
           "colorbar": {
            "outlinewidth": 0,
            "ticks": ""
           }
          },
          "colorscale": {
           "diverging": [
            [
             0,
             "#8e0152"
            ],
            [
             0.1,
             "#c51b7d"
            ],
            [
             0.2,
             "#de77ae"
            ],
            [
             0.3,
             "#f1b6da"
            ],
            [
             0.4,
             "#fde0ef"
            ],
            [
             0.5,
             "#f7f7f7"
            ],
            [
             0.6,
             "#e6f5d0"
            ],
            [
             0.7,
             "#b8e186"
            ],
            [
             0.8,
             "#7fbc41"
            ],
            [
             0.9,
             "#4d9221"
            ],
            [
             1,
             "#276419"
            ]
           ],
           "sequential": [
            [
             0,
             "#0d0887"
            ],
            [
             0.1111111111111111,
             "#46039f"
            ],
            [
             0.2222222222222222,
             "#7201a8"
            ],
            [
             0.3333333333333333,
             "#9c179e"
            ],
            [
             0.4444444444444444,
             "#bd3786"
            ],
            [
             0.5555555555555556,
             "#d8576b"
            ],
            [
             0.6666666666666666,
             "#ed7953"
            ],
            [
             0.7777777777777778,
             "#fb9f3a"
            ],
            [
             0.8888888888888888,
             "#fdca26"
            ],
            [
             1,
             "#f0f921"
            ]
           ],
           "sequentialminus": [
            [
             0,
             "#0d0887"
            ],
            [
             0.1111111111111111,
             "#46039f"
            ],
            [
             0.2222222222222222,
             "#7201a8"
            ],
            [
             0.3333333333333333,
             "#9c179e"
            ],
            [
             0.4444444444444444,
             "#bd3786"
            ],
            [
             0.5555555555555556,
             "#d8576b"
            ],
            [
             0.6666666666666666,
             "#ed7953"
            ],
            [
             0.7777777777777778,
             "#fb9f3a"
            ],
            [
             0.8888888888888888,
             "#fdca26"
            ],
            [
             1,
             "#f0f921"
            ]
           ]
          },
          "colorway": [
           "#636efa",
           "#EF553B",
           "#00cc96",
           "#ab63fa",
           "#FFA15A",
           "#19d3f3",
           "#FF6692",
           "#B6E880",
           "#FF97FF",
           "#FECB52"
          ],
          "font": {
           "color": "#2a3f5f"
          },
          "geo": {
           "bgcolor": "white",
           "lakecolor": "white",
           "landcolor": "#E5ECF6",
           "showlakes": true,
           "showland": true,
           "subunitcolor": "white"
          },
          "hoverlabel": {
           "align": "left"
          },
          "hovermode": "closest",
          "mapbox": {
           "style": "light"
          },
          "paper_bgcolor": "white",
          "plot_bgcolor": "#E5ECF6",
          "polar": {
           "angularaxis": {
            "gridcolor": "white",
            "linecolor": "white",
            "ticks": ""
           },
           "bgcolor": "#E5ECF6",
           "radialaxis": {
            "gridcolor": "white",
            "linecolor": "white",
            "ticks": ""
           }
          },
          "scene": {
           "xaxis": {
            "backgroundcolor": "#E5ECF6",
            "gridcolor": "white",
            "gridwidth": 2,
            "linecolor": "white",
            "showbackground": true,
            "ticks": "",
            "zerolinecolor": "white"
           },
           "yaxis": {
            "backgroundcolor": "#E5ECF6",
            "gridcolor": "white",
            "gridwidth": 2,
            "linecolor": "white",
            "showbackground": true,
            "ticks": "",
            "zerolinecolor": "white"
           },
           "zaxis": {
            "backgroundcolor": "#E5ECF6",
            "gridcolor": "white",
            "gridwidth": 2,
            "linecolor": "white",
            "showbackground": true,
            "ticks": "",
            "zerolinecolor": "white"
           }
          },
          "shapedefaults": {
           "line": {
            "color": "#2a3f5f"
           }
          },
          "ternary": {
           "aaxis": {
            "gridcolor": "white",
            "linecolor": "white",
            "ticks": ""
           },
           "baxis": {
            "gridcolor": "white",
            "linecolor": "white",
            "ticks": ""
           },
           "bgcolor": "#E5ECF6",
           "caxis": {
            "gridcolor": "white",
            "linecolor": "white",
            "ticks": ""
           }
          },
          "title": {
           "x": 0.05
          },
          "xaxis": {
           "automargin": true,
           "gridcolor": "white",
           "linecolor": "white",
           "ticks": "",
           "title": {
            "standoff": 15
           },
           "zerolinecolor": "white",
           "zerolinewidth": 2
          },
          "yaxis": {
           "automargin": true,
           "gridcolor": "white",
           "linecolor": "white",
           "ticks": "",
           "title": {
            "standoff": 15
           },
           "zerolinecolor": "white",
           "zerolinewidth": 2
          }
         }
        },
        "title": {
         "text": "Mean f1 score on testing depending on hyper parameter values <br>(Model: RandomForest Classifier, Dataset: All)"
        },
        "xaxis": {
         "anchor": "y",
         "domain": [
          0,
          1
         ],
         "title": {
          "text": "min_samples_split"
         }
        },
        "yaxis": {
         "anchor": "x",
         "domain": [
          0,
          1
         ],
         "title": {
          "text": "mean_f1"
         }
        }
       }
      }
     },
     "metadata": {},
     "output_type": "display_data"
    }
   ],
   "source": [
    "plot_params_incidence(model=model,params = \"min_samples_split\", barchart=True)"
   ]
  },
  {
   "cell_type": "code",
   "execution_count": 38,
   "metadata": {
    "collapsed": false,
    "pycharm": {
     "name": "#%%\n"
    }
   },
   "outputs": [
    {
     "data": {
      "application/vnd.plotly.v1+json": {
       "config": {
        "plotlyServerURL": "https://plot.ly"
       },
       "data": [
        {
         "alignmentgroup": "True",
         "error_y": {
          "array": [
           0.03234538740511395,
           0.03195077081912649
          ]
         },
         "hovertemplate": "max_features=%{x}<br>mean_f1=%{y}<extra></extra>",
         "legendgroup": "",
         "marker": {
          "color": "#636efa",
          "pattern": {
           "shape": ""
          }
         },
         "name": "",
         "offsetgroup": "",
         "orientation": "v",
         "showlegend": false,
         "textposition": "auto",
         "type": "bar",
         "x": [
          "log2",
          "sqrt"
         ],
         "xaxis": "x",
         "y": [
          0.23251927721941504,
          0.23243204261431438
         ],
         "yaxis": "y"
        }
       ],
       "layout": {
        "barmode": "relative",
        "legend": {
         "tracegroupgap": 0
        },
        "template": {
         "data": {
          "bar": [
           {
            "error_x": {
             "color": "#2a3f5f"
            },
            "error_y": {
             "color": "#2a3f5f"
            },
            "marker": {
             "line": {
              "color": "#E5ECF6",
              "width": 0.5
             },
             "pattern": {
              "fillmode": "overlay",
              "size": 10,
              "solidity": 0.2
             }
            },
            "type": "bar"
           }
          ],
          "barpolar": [
           {
            "marker": {
             "line": {
              "color": "#E5ECF6",
              "width": 0.5
             },
             "pattern": {
              "fillmode": "overlay",
              "size": 10,
              "solidity": 0.2
             }
            },
            "type": "barpolar"
           }
          ],
          "carpet": [
           {
            "aaxis": {
             "endlinecolor": "#2a3f5f",
             "gridcolor": "white",
             "linecolor": "white",
             "minorgridcolor": "white",
             "startlinecolor": "#2a3f5f"
            },
            "baxis": {
             "endlinecolor": "#2a3f5f",
             "gridcolor": "white",
             "linecolor": "white",
             "minorgridcolor": "white",
             "startlinecolor": "#2a3f5f"
            },
            "type": "carpet"
           }
          ],
          "choropleth": [
           {
            "colorbar": {
             "outlinewidth": 0,
             "ticks": ""
            },
            "type": "choropleth"
           }
          ],
          "contour": [
           {
            "colorbar": {
             "outlinewidth": 0,
             "ticks": ""
            },
            "colorscale": [
             [
              0,
              "#0d0887"
             ],
             [
              0.1111111111111111,
              "#46039f"
             ],
             [
              0.2222222222222222,
              "#7201a8"
             ],
             [
              0.3333333333333333,
              "#9c179e"
             ],
             [
              0.4444444444444444,
              "#bd3786"
             ],
             [
              0.5555555555555556,
              "#d8576b"
             ],
             [
              0.6666666666666666,
              "#ed7953"
             ],
             [
              0.7777777777777778,
              "#fb9f3a"
             ],
             [
              0.8888888888888888,
              "#fdca26"
             ],
             [
              1,
              "#f0f921"
             ]
            ],
            "type": "contour"
           }
          ],
          "contourcarpet": [
           {
            "colorbar": {
             "outlinewidth": 0,
             "ticks": ""
            },
            "type": "contourcarpet"
           }
          ],
          "heatmap": [
           {
            "colorbar": {
             "outlinewidth": 0,
             "ticks": ""
            },
            "colorscale": [
             [
              0,
              "#0d0887"
             ],
             [
              0.1111111111111111,
              "#46039f"
             ],
             [
              0.2222222222222222,
              "#7201a8"
             ],
             [
              0.3333333333333333,
              "#9c179e"
             ],
             [
              0.4444444444444444,
              "#bd3786"
             ],
             [
              0.5555555555555556,
              "#d8576b"
             ],
             [
              0.6666666666666666,
              "#ed7953"
             ],
             [
              0.7777777777777778,
              "#fb9f3a"
             ],
             [
              0.8888888888888888,
              "#fdca26"
             ],
             [
              1,
              "#f0f921"
             ]
            ],
            "type": "heatmap"
           }
          ],
          "heatmapgl": [
           {
            "colorbar": {
             "outlinewidth": 0,
             "ticks": ""
            },
            "colorscale": [
             [
              0,
              "#0d0887"
             ],
             [
              0.1111111111111111,
              "#46039f"
             ],
             [
              0.2222222222222222,
              "#7201a8"
             ],
             [
              0.3333333333333333,
              "#9c179e"
             ],
             [
              0.4444444444444444,
              "#bd3786"
             ],
             [
              0.5555555555555556,
              "#d8576b"
             ],
             [
              0.6666666666666666,
              "#ed7953"
             ],
             [
              0.7777777777777778,
              "#fb9f3a"
             ],
             [
              0.8888888888888888,
              "#fdca26"
             ],
             [
              1,
              "#f0f921"
             ]
            ],
            "type": "heatmapgl"
           }
          ],
          "histogram": [
           {
            "marker": {
             "pattern": {
              "fillmode": "overlay",
              "size": 10,
              "solidity": 0.2
             }
            },
            "type": "histogram"
           }
          ],
          "histogram2d": [
           {
            "colorbar": {
             "outlinewidth": 0,
             "ticks": ""
            },
            "colorscale": [
             [
              0,
              "#0d0887"
             ],
             [
              0.1111111111111111,
              "#46039f"
             ],
             [
              0.2222222222222222,
              "#7201a8"
             ],
             [
              0.3333333333333333,
              "#9c179e"
             ],
             [
              0.4444444444444444,
              "#bd3786"
             ],
             [
              0.5555555555555556,
              "#d8576b"
             ],
             [
              0.6666666666666666,
              "#ed7953"
             ],
             [
              0.7777777777777778,
              "#fb9f3a"
             ],
             [
              0.8888888888888888,
              "#fdca26"
             ],
             [
              1,
              "#f0f921"
             ]
            ],
            "type": "histogram2d"
           }
          ],
          "histogram2dcontour": [
           {
            "colorbar": {
             "outlinewidth": 0,
             "ticks": ""
            },
            "colorscale": [
             [
              0,
              "#0d0887"
             ],
             [
              0.1111111111111111,
              "#46039f"
             ],
             [
              0.2222222222222222,
              "#7201a8"
             ],
             [
              0.3333333333333333,
              "#9c179e"
             ],
             [
              0.4444444444444444,
              "#bd3786"
             ],
             [
              0.5555555555555556,
              "#d8576b"
             ],
             [
              0.6666666666666666,
              "#ed7953"
             ],
             [
              0.7777777777777778,
              "#fb9f3a"
             ],
             [
              0.8888888888888888,
              "#fdca26"
             ],
             [
              1,
              "#f0f921"
             ]
            ],
            "type": "histogram2dcontour"
           }
          ],
          "mesh3d": [
           {
            "colorbar": {
             "outlinewidth": 0,
             "ticks": ""
            },
            "type": "mesh3d"
           }
          ],
          "parcoords": [
           {
            "line": {
             "colorbar": {
              "outlinewidth": 0,
              "ticks": ""
             }
            },
            "type": "parcoords"
           }
          ],
          "pie": [
           {
            "automargin": true,
            "type": "pie"
           }
          ],
          "scatter": [
           {
            "marker": {
             "colorbar": {
              "outlinewidth": 0,
              "ticks": ""
             }
            },
            "type": "scatter"
           }
          ],
          "scatter3d": [
           {
            "line": {
             "colorbar": {
              "outlinewidth": 0,
              "ticks": ""
             }
            },
            "marker": {
             "colorbar": {
              "outlinewidth": 0,
              "ticks": ""
             }
            },
            "type": "scatter3d"
           }
          ],
          "scattercarpet": [
           {
            "marker": {
             "colorbar": {
              "outlinewidth": 0,
              "ticks": ""
             }
            },
            "type": "scattercarpet"
           }
          ],
          "scattergeo": [
           {
            "marker": {
             "colorbar": {
              "outlinewidth": 0,
              "ticks": ""
             }
            },
            "type": "scattergeo"
           }
          ],
          "scattergl": [
           {
            "marker": {
             "colorbar": {
              "outlinewidth": 0,
              "ticks": ""
             }
            },
            "type": "scattergl"
           }
          ],
          "scattermapbox": [
           {
            "marker": {
             "colorbar": {
              "outlinewidth": 0,
              "ticks": ""
             }
            },
            "type": "scattermapbox"
           }
          ],
          "scatterpolar": [
           {
            "marker": {
             "colorbar": {
              "outlinewidth": 0,
              "ticks": ""
             }
            },
            "type": "scatterpolar"
           }
          ],
          "scatterpolargl": [
           {
            "marker": {
             "colorbar": {
              "outlinewidth": 0,
              "ticks": ""
             }
            },
            "type": "scatterpolargl"
           }
          ],
          "scatterternary": [
           {
            "marker": {
             "colorbar": {
              "outlinewidth": 0,
              "ticks": ""
             }
            },
            "type": "scatterternary"
           }
          ],
          "surface": [
           {
            "colorbar": {
             "outlinewidth": 0,
             "ticks": ""
            },
            "colorscale": [
             [
              0,
              "#0d0887"
             ],
             [
              0.1111111111111111,
              "#46039f"
             ],
             [
              0.2222222222222222,
              "#7201a8"
             ],
             [
              0.3333333333333333,
              "#9c179e"
             ],
             [
              0.4444444444444444,
              "#bd3786"
             ],
             [
              0.5555555555555556,
              "#d8576b"
             ],
             [
              0.6666666666666666,
              "#ed7953"
             ],
             [
              0.7777777777777778,
              "#fb9f3a"
             ],
             [
              0.8888888888888888,
              "#fdca26"
             ],
             [
              1,
              "#f0f921"
             ]
            ],
            "type": "surface"
           }
          ],
          "table": [
           {
            "cells": {
             "fill": {
              "color": "#EBF0F8"
             },
             "line": {
              "color": "white"
             }
            },
            "header": {
             "fill": {
              "color": "#C8D4E3"
             },
             "line": {
              "color": "white"
             }
            },
            "type": "table"
           }
          ]
         },
         "layout": {
          "annotationdefaults": {
           "arrowcolor": "#2a3f5f",
           "arrowhead": 0,
           "arrowwidth": 1
          },
          "autotypenumbers": "strict",
          "coloraxis": {
           "colorbar": {
            "outlinewidth": 0,
            "ticks": ""
           }
          },
          "colorscale": {
           "diverging": [
            [
             0,
             "#8e0152"
            ],
            [
             0.1,
             "#c51b7d"
            ],
            [
             0.2,
             "#de77ae"
            ],
            [
             0.3,
             "#f1b6da"
            ],
            [
             0.4,
             "#fde0ef"
            ],
            [
             0.5,
             "#f7f7f7"
            ],
            [
             0.6,
             "#e6f5d0"
            ],
            [
             0.7,
             "#b8e186"
            ],
            [
             0.8,
             "#7fbc41"
            ],
            [
             0.9,
             "#4d9221"
            ],
            [
             1,
             "#276419"
            ]
           ],
           "sequential": [
            [
             0,
             "#0d0887"
            ],
            [
             0.1111111111111111,
             "#46039f"
            ],
            [
             0.2222222222222222,
             "#7201a8"
            ],
            [
             0.3333333333333333,
             "#9c179e"
            ],
            [
             0.4444444444444444,
             "#bd3786"
            ],
            [
             0.5555555555555556,
             "#d8576b"
            ],
            [
             0.6666666666666666,
             "#ed7953"
            ],
            [
             0.7777777777777778,
             "#fb9f3a"
            ],
            [
             0.8888888888888888,
             "#fdca26"
            ],
            [
             1,
             "#f0f921"
            ]
           ],
           "sequentialminus": [
            [
             0,
             "#0d0887"
            ],
            [
             0.1111111111111111,
             "#46039f"
            ],
            [
             0.2222222222222222,
             "#7201a8"
            ],
            [
             0.3333333333333333,
             "#9c179e"
            ],
            [
             0.4444444444444444,
             "#bd3786"
            ],
            [
             0.5555555555555556,
             "#d8576b"
            ],
            [
             0.6666666666666666,
             "#ed7953"
            ],
            [
             0.7777777777777778,
             "#fb9f3a"
            ],
            [
             0.8888888888888888,
             "#fdca26"
            ],
            [
             1,
             "#f0f921"
            ]
           ]
          },
          "colorway": [
           "#636efa",
           "#EF553B",
           "#00cc96",
           "#ab63fa",
           "#FFA15A",
           "#19d3f3",
           "#FF6692",
           "#B6E880",
           "#FF97FF",
           "#FECB52"
          ],
          "font": {
           "color": "#2a3f5f"
          },
          "geo": {
           "bgcolor": "white",
           "lakecolor": "white",
           "landcolor": "#E5ECF6",
           "showlakes": true,
           "showland": true,
           "subunitcolor": "white"
          },
          "hoverlabel": {
           "align": "left"
          },
          "hovermode": "closest",
          "mapbox": {
           "style": "light"
          },
          "paper_bgcolor": "white",
          "plot_bgcolor": "#E5ECF6",
          "polar": {
           "angularaxis": {
            "gridcolor": "white",
            "linecolor": "white",
            "ticks": ""
           },
           "bgcolor": "#E5ECF6",
           "radialaxis": {
            "gridcolor": "white",
            "linecolor": "white",
            "ticks": ""
           }
          },
          "scene": {
           "xaxis": {
            "backgroundcolor": "#E5ECF6",
            "gridcolor": "white",
            "gridwidth": 2,
            "linecolor": "white",
            "showbackground": true,
            "ticks": "",
            "zerolinecolor": "white"
           },
           "yaxis": {
            "backgroundcolor": "#E5ECF6",
            "gridcolor": "white",
            "gridwidth": 2,
            "linecolor": "white",
            "showbackground": true,
            "ticks": "",
            "zerolinecolor": "white"
           },
           "zaxis": {
            "backgroundcolor": "#E5ECF6",
            "gridcolor": "white",
            "gridwidth": 2,
            "linecolor": "white",
            "showbackground": true,
            "ticks": "",
            "zerolinecolor": "white"
           }
          },
          "shapedefaults": {
           "line": {
            "color": "#2a3f5f"
           }
          },
          "ternary": {
           "aaxis": {
            "gridcolor": "white",
            "linecolor": "white",
            "ticks": ""
           },
           "baxis": {
            "gridcolor": "white",
            "linecolor": "white",
            "ticks": ""
           },
           "bgcolor": "#E5ECF6",
           "caxis": {
            "gridcolor": "white",
            "linecolor": "white",
            "ticks": ""
           }
          },
          "title": {
           "x": 0.05
          },
          "xaxis": {
           "automargin": true,
           "gridcolor": "white",
           "linecolor": "white",
           "ticks": "",
           "title": {
            "standoff": 15
           },
           "zerolinecolor": "white",
           "zerolinewidth": 2
          },
          "yaxis": {
           "automargin": true,
           "gridcolor": "white",
           "linecolor": "white",
           "ticks": "",
           "title": {
            "standoff": 15
           },
           "zerolinecolor": "white",
           "zerolinewidth": 2
          }
         }
        },
        "title": {
         "text": "Mean f1 score on testing depending on hyper parameter values <br>(Model: RandomForest Classifier, Dataset: All)"
        },
        "xaxis": {
         "anchor": "y",
         "domain": [
          0,
          1
         ],
         "title": {
          "text": "max_features"
         }
        },
        "yaxis": {
         "anchor": "x",
         "domain": [
          0,
          1
         ],
         "title": {
          "text": "mean_f1"
         }
        }
       }
      }
     },
     "metadata": {},
     "output_type": "display_data"
    }
   ],
   "source": [
    "plot_params_incidence(model=model,params = \"max_features\", barchart=True)"
   ]
  }
 ],
 "metadata": {
  "interpreter": {
   "hash": "1eb5e6e0a97f7cae785433ac15969c2149dfe662374d3b72284ff486fb1c0909"
  },
  "kernelspec": {
   "display_name": "Python 3.8.8 64-bit ('base': conda)",
   "name": "python3"
  },
  "language_info": {
   "codemirror_mode": {
    "name": "ipython",
    "version": 3
   },
   "file_extension": ".py",
   "mimetype": "text/x-python",
   "name": "python",
   "nbconvert_exporter": "python",
   "pygments_lexer": "ipython3",
   "version": "3.8.8"
  }
 },
 "nbformat": 4,
 "nbformat_minor": 1
}
