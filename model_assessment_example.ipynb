{
 "cells": [
  {
   "cell_type": "code",
   "execution_count": 159,
   "outputs": [],
   "source": [
    "from sklearn.model_selection import StratifiedKFold, GridSearchCV, RandomizedSearchCV\n",
    "import plotly.express as pex\n",
    "import pandas as pd\n",
    "import sklearn.tree as tree\n",
    "\n",
    "stats = pd.DataFrame()\n",
    "\n",
    "def computeModelStats(model,stats,dataset,hyperParams,randomizedSearch=False):\n",
    "    \"\"\"\n",
    "    :param model: model that will be assessed\n",
    "    :type model: {tuple(predictor,name:str)}\n",
    "    :param stats: Dataframe in which results will be sent\n",
    "    :type stats: {Dataframe}\n",
    "    :param dataset: Dataset that will be used\n",
    "    :type dataset: {tuple(Dict(X:DataFrame,y:array), name)}\n",
    "    :param hyperParams: HyperParams grid that will be assessed\n",
    "    :type hyperParams: {Dict}\n",
    "    :return: void\n",
    "    :rtype: void\n",
    "    \"\"\"\n",
    "    X=dataset[0][\"X\"]\n",
    "    y=dataset[0][\"y\"]\n",
    "\n",
    "    if not randomizedSearch:\n",
    "        grid_search = GridSearchCV(model[0],cv=StratifiedKFold(n_splits=5),scoring='accuracy',verbose=2, n_jobs=-1, param_grid=hyperParams,return_train_score=True)\n",
    "    else:\n",
    "        grid_search = RandomizedSearchCV(model[0],cv=StratifiedKFold(n_splits=5),scoring='accuracy',verbose=2, n_jobs=-1, param_distributions=hyperParams,return_train_score=True, n_iter=randomizedSearch)\n",
    "\n",
    "    grid_search.fit(X,y)\n",
    "\n",
    "    temp_test = pd.DataFrame({ key.replace(\"_test\",\"\"): grid_search.cv_results_ [key] for key in [\"mean_test_score\", \"std_test_score\",\"params\"] })\n",
    "    temp_train = pd.DataFrame({ key.replace(\"_train\",\"\"): grid_search.cv_results_ [key] for key in [\"mean_train_score\", \"std_train_score\",\"params\"]})\n",
    "    temp_train[\"type\"] = \"train\"\n",
    "    temp_test[\"type\"] = \"test\"\n",
    "    temp = temp_test.append(temp_train)\n",
    "    temp[\"dataset\"] = dataset[1]\n",
    "    temp[\"model\"] = model[1]\n",
    "    temp[\"params\"] = temp[\"params\"].astype(str)\n",
    "    stats = stats.append(temp)\n",
    "    fig = pex.bar(temp,y=\"mean_score\",hover_data=[\"params\"],barmode=\"group\",hover_name=\"params\",color=\"type\", title=f\"Mean accuracy on testing and training set for each parameter combination <br> (Model: {model[1]}, Dataset: {dataset[1]})\",labels={\"mean_score\": f\"Average accuracy\",\"index\": \"Params\"},error_y=\"std_score\")\n",
    "\n",
    "    fig.show()\n",
    "    return stats"
   ],
   "metadata": {
    "collapsed": false,
    "pycharm": {
     "name": "#%%\n"
    }
   }
  },
  {
   "cell_type": "code",
   "execution_count": 160,
   "outputs": [],
   "source": [
    "#Chargement du df\n",
    "df = pd.read_csv('drinking_water_potability.csv').dropna(axis=0)\n",
    "y = df[\"Potability\"]\n",
    "#Preprosseing vite fait\n",
    "df.drop(\"Potability\", axis=1,inplace=True)\n"
   ],
   "metadata": {
    "collapsed": false,
    "pycharm": {
     "name": "#%%\n"
    }
   }
  },
  {
   "cell_type": "code",
   "execution_count": 160,
   "outputs": [],
   "source": [],
   "metadata": {
    "collapsed": false,
    "pycharm": {
     "name": "#%%\n"
    }
   }
  },
  {
   "cell_type": "code",
   "execution_count": 161,
   "outputs": [
    {
     "name": "stdout",
     "output_type": "stream",
     "text": [
      "Fitting 5 folds for each of 16 candidates, totalling 80 fits\n"
     ]
    },
    {
     "data": {
      "application/vnd.plotly.v1+json": {
       "config": {
        "plotlyServerURL": "https://plotly.com"
       },
       "data": [
        {
         "alignmentgroup": "True",
         "customdata": [
          [
           "{'max_depth': 1, 'min_samples_split': 2}"
          ],
          [
           "{'max_depth': 1, 'min_samples_split': 3}"
          ],
          [
           "{'max_depth': 1, 'min_samples_split': 5}"
          ],
          [
           "{'max_depth': 1, 'min_samples_split': 10}"
          ],
          [
           "{'max_depth': 2, 'min_samples_split': 2}"
          ],
          [
           "{'max_depth': 2, 'min_samples_split': 3}"
          ],
          [
           "{'max_depth': 2, 'min_samples_split': 5}"
          ],
          [
           "{'max_depth': 2, 'min_samples_split': 10}"
          ],
          [
           "{'max_depth': 3, 'min_samples_split': 2}"
          ],
          [
           "{'max_depth': 3, 'min_samples_split': 3}"
          ],
          [
           "{'max_depth': 3, 'min_samples_split': 5}"
          ],
          [
           "{'max_depth': 3, 'min_samples_split': 10}"
          ],
          [
           "{'max_depth': 4, 'min_samples_split': 2}"
          ],
          [
           "{'max_depth': 4, 'min_samples_split': 3}"
          ],
          [
           "{'max_depth': 4, 'min_samples_split': 5}"
          ],
          [
           "{'max_depth': 4, 'min_samples_split': 10}"
          ]
         ],
         "error_y": {
          "array": [
           0.012277907785914245,
           0.012277907785914245,
           0.012277907785914245,
           0.012277907785914245,
           0.0222051573847778,
           0.0222051573847778,
           0.0222051573847778,
           0.0222051573847778,
           0.00810761911539837,
           0.00810761911539837,
           0.008542024981830255,
           0.00810761911539837,
           0.014374933048793294,
           0.013848739387059562,
           0.014374933048793294,
           0.01819838550574955
          ]
         },
         "hovertemplate": "<b>%{hovertext}</b><br><br>type=test<br>Params=%{x}<br>Average accuracy=%{y}<br>params=%{customdata[0]}<extra></extra>",
         "hovertext": [
          "{'max_depth': 1, 'min_samples_split': 2}",
          "{'max_depth': 1, 'min_samples_split': 3}",
          "{'max_depth': 1, 'min_samples_split': 5}",
          "{'max_depth': 1, 'min_samples_split': 10}",
          "{'max_depth': 2, 'min_samples_split': 2}",
          "{'max_depth': 2, 'min_samples_split': 3}",
          "{'max_depth': 2, 'min_samples_split': 5}",
          "{'max_depth': 2, 'min_samples_split': 10}",
          "{'max_depth': 3, 'min_samples_split': 2}",
          "{'max_depth': 3, 'min_samples_split': 3}",
          "{'max_depth': 3, 'min_samples_split': 5}",
          "{'max_depth': 3, 'min_samples_split': 10}",
          "{'max_depth': 4, 'min_samples_split': 2}",
          "{'max_depth': 4, 'min_samples_split': 3}",
          "{'max_depth': 4, 'min_samples_split': 5}",
          "{'max_depth': 4, 'min_samples_split': 10}"
         ],
         "legendgroup": "test",
         "marker": {
          "color": "#636efa",
          "pattern": {
           "shape": ""
          }
         },
         "name": "test",
         "offsetgroup": "test",
         "orientation": "v",
         "showlegend": true,
         "textposition": "auto",
         "type": "bar",
         "x": [
          0,
          1,
          2,
          3,
          4,
          5,
          6,
          7,
          8,
          9,
          10,
          11,
          12,
          13,
          14,
          15
         ],
         "xaxis": "x",
         "y": [
          0.6016789501623396,
          0.6016789501623396,
          0.6016789501623396,
          0.6016789501623396,
          0.6096428527338493,
          0.6096428527338493,
          0.6096428527338493,
          0.6096428527338493,
          0.6230793921212794,
          0.6230793921212794,
          0.6235769045590904,
          0.6230793921212794,
          0.6146241497228498,
          0.6146241497228497,
          0.6146241497228498,
          0.6101576484821549
         ],
         "yaxis": "y"
        },
        {
         "alignmentgroup": "True",
         "customdata": [
          [
           "{'max_depth': 1, 'min_samples_split': 2}"
          ],
          [
           "{'max_depth': 1, 'min_samples_split': 3}"
          ],
          [
           "{'max_depth': 1, 'min_samples_split': 5}"
          ],
          [
           "{'max_depth': 1, 'min_samples_split': 10}"
          ],
          [
           "{'max_depth': 2, 'min_samples_split': 2}"
          ],
          [
           "{'max_depth': 2, 'min_samples_split': 3}"
          ],
          [
           "{'max_depth': 2, 'min_samples_split': 5}"
          ],
          [
           "{'max_depth': 2, 'min_samples_split': 10}"
          ],
          [
           "{'max_depth': 3, 'min_samples_split': 2}"
          ],
          [
           "{'max_depth': 3, 'min_samples_split': 3}"
          ],
          [
           "{'max_depth': 3, 'min_samples_split': 5}"
          ],
          [
           "{'max_depth': 3, 'min_samples_split': 10}"
          ],
          [
           "{'max_depth': 4, 'min_samples_split': 2}"
          ],
          [
           "{'max_depth': 4, 'min_samples_split': 3}"
          ],
          [
           "{'max_depth': 4, 'min_samples_split': 5}"
          ],
          [
           "{'max_depth': 4, 'min_samples_split': 10}"
          ]
         ],
         "error_y": {
          "array": [
           0.008659364991196945,
           0.008659364991196945,
           0.008659364991196945,
           0.008659364991196945,
           0.010066067603943173,
           0.010066067603943173,
           0.010066067603943173,
           0.010066067603943173,
           0.016046847742777454,
           0.016046847742777454,
           0.016046847742777454,
           0.016046847742777454,
           0.017993663973555597,
           0.017993663973555597,
           0.017993663973555597,
           0.018111807667094495
          ]
         },
         "hovertemplate": "<b>%{hovertext}</b><br><br>type=train<br>Params=%{x}<br>Average accuracy=%{y}<br>params=%{customdata[0]}<extra></extra>",
         "hovertext": [
          "{'max_depth': 1, 'min_samples_split': 2}",
          "{'max_depth': 1, 'min_samples_split': 3}",
          "{'max_depth': 1, 'min_samples_split': 5}",
          "{'max_depth': 1, 'min_samples_split': 10}",
          "{'max_depth': 2, 'min_samples_split': 2}",
          "{'max_depth': 2, 'min_samples_split': 3}",
          "{'max_depth': 2, 'min_samples_split': 5}",
          "{'max_depth': 2, 'min_samples_split': 10}",
          "{'max_depth': 3, 'min_samples_split': 2}",
          "{'max_depth': 3, 'min_samples_split': 3}",
          "{'max_depth': 3, 'min_samples_split': 5}",
          "{'max_depth': 3, 'min_samples_split': 10}",
          "{'max_depth': 4, 'min_samples_split': 2}",
          "{'max_depth': 4, 'min_samples_split': 3}",
          "{'max_depth': 4, 'min_samples_split': 5}",
          "{'max_depth': 4, 'min_samples_split': 10}"
         ],
         "legendgroup": "train",
         "marker": {
          "color": "#EF553B",
          "pattern": {
           "shape": ""
          }
         },
         "name": "train",
         "offsetgroup": "train",
         "orientation": "v",
         "showlegend": true,
         "textposition": "auto",
         "type": "bar",
         "x": [
          0,
          1,
          2,
          3,
          4,
          5,
          6,
          7,
          8,
          9,
          10,
          11,
          12,
          13,
          14,
          15
         ],
         "xaxis": "x",
         "y": [
          0.6128789705914183,
          0.6128789705914183,
          0.6128789705914183,
          0.6128789705914183,
          0.6248124665671024,
          0.6248124665671024,
          0.6248124665671024,
          0.6248124665671024,
          0.6448273702958173,
          0.6448273702958173,
          0.6448273702958173,
          0.6448273702958173,
          0.6669564699807365,
          0.6669564699807365,
          0.6669564699807365,
          0.6664591121459205
         ],
         "yaxis": "y"
        }
       ],
       "layout": {
        "barmode": "group",
        "legend": {
         "title": {
          "text": "type"
         },
         "tracegroupgap": 0
        },
        "template": {
         "data": {
          "bar": [
           {
            "error_x": {
             "color": "#2a3f5f"
            },
            "error_y": {
             "color": "#2a3f5f"
            },
            "marker": {
             "line": {
              "color": "#E5ECF6",
              "width": 0.5
             },
             "pattern": {
              "fillmode": "overlay",
              "size": 10,
              "solidity": 0.2
             }
            },
            "type": "bar"
           }
          ],
          "barpolar": [
           {
            "marker": {
             "line": {
              "color": "#E5ECF6",
              "width": 0.5
             },
             "pattern": {
              "fillmode": "overlay",
              "size": 10,
              "solidity": 0.2
             }
            },
            "type": "barpolar"
           }
          ],
          "carpet": [
           {
            "aaxis": {
             "endlinecolor": "#2a3f5f",
             "gridcolor": "white",
             "linecolor": "white",
             "minorgridcolor": "white",
             "startlinecolor": "#2a3f5f"
            },
            "baxis": {
             "endlinecolor": "#2a3f5f",
             "gridcolor": "white",
             "linecolor": "white",
             "minorgridcolor": "white",
             "startlinecolor": "#2a3f5f"
            },
            "type": "carpet"
           }
          ],
          "choropleth": [
           {
            "colorbar": {
             "outlinewidth": 0,
             "ticks": ""
            },
            "type": "choropleth"
           }
          ],
          "contour": [
           {
            "colorbar": {
             "outlinewidth": 0,
             "ticks": ""
            },
            "colorscale": [
             [
              0.0,
              "#0d0887"
             ],
             [
              0.1111111111111111,
              "#46039f"
             ],
             [
              0.2222222222222222,
              "#7201a8"
             ],
             [
              0.3333333333333333,
              "#9c179e"
             ],
             [
              0.4444444444444444,
              "#bd3786"
             ],
             [
              0.5555555555555556,
              "#d8576b"
             ],
             [
              0.6666666666666666,
              "#ed7953"
             ],
             [
              0.7777777777777778,
              "#fb9f3a"
             ],
             [
              0.8888888888888888,
              "#fdca26"
             ],
             [
              1.0,
              "#f0f921"
             ]
            ],
            "type": "contour"
           }
          ],
          "contourcarpet": [
           {
            "colorbar": {
             "outlinewidth": 0,
             "ticks": ""
            },
            "type": "contourcarpet"
           }
          ],
          "heatmap": [
           {
            "colorbar": {
             "outlinewidth": 0,
             "ticks": ""
            },
            "colorscale": [
             [
              0.0,
              "#0d0887"
             ],
             [
              0.1111111111111111,
              "#46039f"
             ],
             [
              0.2222222222222222,
              "#7201a8"
             ],
             [
              0.3333333333333333,
              "#9c179e"
             ],
             [
              0.4444444444444444,
              "#bd3786"
             ],
             [
              0.5555555555555556,
              "#d8576b"
             ],
             [
              0.6666666666666666,
              "#ed7953"
             ],
             [
              0.7777777777777778,
              "#fb9f3a"
             ],
             [
              0.8888888888888888,
              "#fdca26"
             ],
             [
              1.0,
              "#f0f921"
             ]
            ],
            "type": "heatmap"
           }
          ],
          "heatmapgl": [
           {
            "colorbar": {
             "outlinewidth": 0,
             "ticks": ""
            },
            "colorscale": [
             [
              0.0,
              "#0d0887"
             ],
             [
              0.1111111111111111,
              "#46039f"
             ],
             [
              0.2222222222222222,
              "#7201a8"
             ],
             [
              0.3333333333333333,
              "#9c179e"
             ],
             [
              0.4444444444444444,
              "#bd3786"
             ],
             [
              0.5555555555555556,
              "#d8576b"
             ],
             [
              0.6666666666666666,
              "#ed7953"
             ],
             [
              0.7777777777777778,
              "#fb9f3a"
             ],
             [
              0.8888888888888888,
              "#fdca26"
             ],
             [
              1.0,
              "#f0f921"
             ]
            ],
            "type": "heatmapgl"
           }
          ],
          "histogram": [
           {
            "marker": {
             "pattern": {
              "fillmode": "overlay",
              "size": 10,
              "solidity": 0.2
             }
            },
            "type": "histogram"
           }
          ],
          "histogram2d": [
           {
            "colorbar": {
             "outlinewidth": 0,
             "ticks": ""
            },
            "colorscale": [
             [
              0.0,
              "#0d0887"
             ],
             [
              0.1111111111111111,
              "#46039f"
             ],
             [
              0.2222222222222222,
              "#7201a8"
             ],
             [
              0.3333333333333333,
              "#9c179e"
             ],
             [
              0.4444444444444444,
              "#bd3786"
             ],
             [
              0.5555555555555556,
              "#d8576b"
             ],
             [
              0.6666666666666666,
              "#ed7953"
             ],
             [
              0.7777777777777778,
              "#fb9f3a"
             ],
             [
              0.8888888888888888,
              "#fdca26"
             ],
             [
              1.0,
              "#f0f921"
             ]
            ],
            "type": "histogram2d"
           }
          ],
          "histogram2dcontour": [
           {
            "colorbar": {
             "outlinewidth": 0,
             "ticks": ""
            },
            "colorscale": [
             [
              0.0,
              "#0d0887"
             ],
             [
              0.1111111111111111,
              "#46039f"
             ],
             [
              0.2222222222222222,
              "#7201a8"
             ],
             [
              0.3333333333333333,
              "#9c179e"
             ],
             [
              0.4444444444444444,
              "#bd3786"
             ],
             [
              0.5555555555555556,
              "#d8576b"
             ],
             [
              0.6666666666666666,
              "#ed7953"
             ],
             [
              0.7777777777777778,
              "#fb9f3a"
             ],
             [
              0.8888888888888888,
              "#fdca26"
             ],
             [
              1.0,
              "#f0f921"
             ]
            ],
            "type": "histogram2dcontour"
           }
          ],
          "mesh3d": [
           {
            "colorbar": {
             "outlinewidth": 0,
             "ticks": ""
            },
            "type": "mesh3d"
           }
          ],
          "parcoords": [
           {
            "line": {
             "colorbar": {
              "outlinewidth": 0,
              "ticks": ""
             }
            },
            "type": "parcoords"
           }
          ],
          "pie": [
           {
            "automargin": true,
            "type": "pie"
           }
          ],
          "scatter": [
           {
            "marker": {
             "colorbar": {
              "outlinewidth": 0,
              "ticks": ""
             }
            },
            "type": "scatter"
           }
          ],
          "scatter3d": [
           {
            "line": {
             "colorbar": {
              "outlinewidth": 0,
              "ticks": ""
             }
            },
            "marker": {
             "colorbar": {
              "outlinewidth": 0,
              "ticks": ""
             }
            },
            "type": "scatter3d"
           }
          ],
          "scattercarpet": [
           {
            "marker": {
             "colorbar": {
              "outlinewidth": 0,
              "ticks": ""
             }
            },
            "type": "scattercarpet"
           }
          ],
          "scattergeo": [
           {
            "marker": {
             "colorbar": {
              "outlinewidth": 0,
              "ticks": ""
             }
            },
            "type": "scattergeo"
           }
          ],
          "scattergl": [
           {
            "marker": {
             "colorbar": {
              "outlinewidth": 0,
              "ticks": ""
             }
            },
            "type": "scattergl"
           }
          ],
          "scattermapbox": [
           {
            "marker": {
             "colorbar": {
              "outlinewidth": 0,
              "ticks": ""
             }
            },
            "type": "scattermapbox"
           }
          ],
          "scatterpolar": [
           {
            "marker": {
             "colorbar": {
              "outlinewidth": 0,
              "ticks": ""
             }
            },
            "type": "scatterpolar"
           }
          ],
          "scatterpolargl": [
           {
            "marker": {
             "colorbar": {
              "outlinewidth": 0,
              "ticks": ""
             }
            },
            "type": "scatterpolargl"
           }
          ],
          "scatterternary": [
           {
            "marker": {
             "colorbar": {
              "outlinewidth": 0,
              "ticks": ""
             }
            },
            "type": "scatterternary"
           }
          ],
          "surface": [
           {
            "colorbar": {
             "outlinewidth": 0,
             "ticks": ""
            },
            "colorscale": [
             [
              0.0,
              "#0d0887"
             ],
             [
              0.1111111111111111,
              "#46039f"
             ],
             [
              0.2222222222222222,
              "#7201a8"
             ],
             [
              0.3333333333333333,
              "#9c179e"
             ],
             [
              0.4444444444444444,
              "#bd3786"
             ],
             [
              0.5555555555555556,
              "#d8576b"
             ],
             [
              0.6666666666666666,
              "#ed7953"
             ],
             [
              0.7777777777777778,
              "#fb9f3a"
             ],
             [
              0.8888888888888888,
              "#fdca26"
             ],
             [
              1.0,
              "#f0f921"
             ]
            ],
            "type": "surface"
           }
          ],
          "table": [
           {
            "cells": {
             "fill": {
              "color": "#EBF0F8"
             },
             "line": {
              "color": "white"
             }
            },
            "header": {
             "fill": {
              "color": "#C8D4E3"
             },
             "line": {
              "color": "white"
             }
            },
            "type": "table"
           }
          ]
         },
         "layout": {
          "annotationdefaults": {
           "arrowcolor": "#2a3f5f",
           "arrowhead": 0,
           "arrowwidth": 1
          },
          "autotypenumbers": "strict",
          "coloraxis": {
           "colorbar": {
            "outlinewidth": 0,
            "ticks": ""
           }
          },
          "colorscale": {
           "diverging": [
            [
             0,
             "#8e0152"
            ],
            [
             0.1,
             "#c51b7d"
            ],
            [
             0.2,
             "#de77ae"
            ],
            [
             0.3,
             "#f1b6da"
            ],
            [
             0.4,
             "#fde0ef"
            ],
            [
             0.5,
             "#f7f7f7"
            ],
            [
             0.6,
             "#e6f5d0"
            ],
            [
             0.7,
             "#b8e186"
            ],
            [
             0.8,
             "#7fbc41"
            ],
            [
             0.9,
             "#4d9221"
            ],
            [
             1,
             "#276419"
            ]
           ],
           "sequential": [
            [
             0.0,
             "#0d0887"
            ],
            [
             0.1111111111111111,
             "#46039f"
            ],
            [
             0.2222222222222222,
             "#7201a8"
            ],
            [
             0.3333333333333333,
             "#9c179e"
            ],
            [
             0.4444444444444444,
             "#bd3786"
            ],
            [
             0.5555555555555556,
             "#d8576b"
            ],
            [
             0.6666666666666666,
             "#ed7953"
            ],
            [
             0.7777777777777778,
             "#fb9f3a"
            ],
            [
             0.8888888888888888,
             "#fdca26"
            ],
            [
             1.0,
             "#f0f921"
            ]
           ],
           "sequentialminus": [
            [
             0.0,
             "#0d0887"
            ],
            [
             0.1111111111111111,
             "#46039f"
            ],
            [
             0.2222222222222222,
             "#7201a8"
            ],
            [
             0.3333333333333333,
             "#9c179e"
            ],
            [
             0.4444444444444444,
             "#bd3786"
            ],
            [
             0.5555555555555556,
             "#d8576b"
            ],
            [
             0.6666666666666666,
             "#ed7953"
            ],
            [
             0.7777777777777778,
             "#fb9f3a"
            ],
            [
             0.8888888888888888,
             "#fdca26"
            ],
            [
             1.0,
             "#f0f921"
            ]
           ]
          },
          "colorway": [
           "#636efa",
           "#EF553B",
           "#00cc96",
           "#ab63fa",
           "#FFA15A",
           "#19d3f3",
           "#FF6692",
           "#B6E880",
           "#FF97FF",
           "#FECB52"
          ],
          "font": {
           "color": "#2a3f5f"
          },
          "geo": {
           "bgcolor": "white",
           "lakecolor": "white",
           "landcolor": "#E5ECF6",
           "showlakes": true,
           "showland": true,
           "subunitcolor": "white"
          },
          "hoverlabel": {
           "align": "left"
          },
          "hovermode": "closest",
          "mapbox": {
           "style": "light"
          },
          "paper_bgcolor": "white",
          "plot_bgcolor": "#E5ECF6",
          "polar": {
           "angularaxis": {
            "gridcolor": "white",
            "linecolor": "white",
            "ticks": ""
           },
           "bgcolor": "#E5ECF6",
           "radialaxis": {
            "gridcolor": "white",
            "linecolor": "white",
            "ticks": ""
           }
          },
          "scene": {
           "xaxis": {
            "backgroundcolor": "#E5ECF6",
            "gridcolor": "white",
            "gridwidth": 2,
            "linecolor": "white",
            "showbackground": true,
            "ticks": "",
            "zerolinecolor": "white"
           },
           "yaxis": {
            "backgroundcolor": "#E5ECF6",
            "gridcolor": "white",
            "gridwidth": 2,
            "linecolor": "white",
            "showbackground": true,
            "ticks": "",
            "zerolinecolor": "white"
           },
           "zaxis": {
            "backgroundcolor": "#E5ECF6",
            "gridcolor": "white",
            "gridwidth": 2,
            "linecolor": "white",
            "showbackground": true,
            "ticks": "",
            "zerolinecolor": "white"
           }
          },
          "shapedefaults": {
           "line": {
            "color": "#2a3f5f"
           }
          },
          "ternary": {
           "aaxis": {
            "gridcolor": "white",
            "linecolor": "white",
            "ticks": ""
           },
           "baxis": {
            "gridcolor": "white",
            "linecolor": "white",
            "ticks": ""
           },
           "bgcolor": "#E5ECF6",
           "caxis": {
            "gridcolor": "white",
            "linecolor": "white",
            "ticks": ""
           }
          },
          "title": {
           "x": 0.05
          },
          "xaxis": {
           "automargin": true,
           "gridcolor": "white",
           "linecolor": "white",
           "ticks": "",
           "title": {
            "standoff": 15
           },
           "zerolinecolor": "white",
           "zerolinewidth": 2
          },
          "yaxis": {
           "automargin": true,
           "gridcolor": "white",
           "linecolor": "white",
           "ticks": "",
           "title": {
            "standoff": 15
           },
           "zerolinecolor": "white",
           "zerolinewidth": 2
          }
         }
        },
        "title": {
         "text": "Mean accuracy on testing and training set for each parameter combination <br> (Model: Decision Tree, Dataset: Listwise deletion)"
        },
        "xaxis": {
         "anchor": "y",
         "domain": [
          0.0,
          1.0
         ],
         "title": {
          "text": "Params"
         }
        },
        "yaxis": {
         "anchor": "x",
         "domain": [
          0.0,
          1.0
         ],
         "title": {
          "text": "Average accuracy"
         }
        }
       }
      },
      "text/html": "<div>                            <div id=\"43c079ef-3036-41da-bc8b-ed37a17ece2e\" class=\"plotly-graph-div\" style=\"height:525px; width:100%;\"></div>            <script type=\"text/javascript\">                require([\"plotly\"], function(Plotly) {                    window.PLOTLYENV=window.PLOTLYENV || {};                                    if (document.getElementById(\"43c079ef-3036-41da-bc8b-ed37a17ece2e\")) {                    Plotly.newPlot(                        \"43c079ef-3036-41da-bc8b-ed37a17ece2e\",                        [{\"alignmentgroup\":\"True\",\"customdata\":[[\"{'max_depth': 1, 'min_samples_split': 2}\"],[\"{'max_depth': 1, 'min_samples_split': 3}\"],[\"{'max_depth': 1, 'min_samples_split': 5}\"],[\"{'max_depth': 1, 'min_samples_split': 10}\"],[\"{'max_depth': 2, 'min_samples_split': 2}\"],[\"{'max_depth': 2, 'min_samples_split': 3}\"],[\"{'max_depth': 2, 'min_samples_split': 5}\"],[\"{'max_depth': 2, 'min_samples_split': 10}\"],[\"{'max_depth': 3, 'min_samples_split': 2}\"],[\"{'max_depth': 3, 'min_samples_split': 3}\"],[\"{'max_depth': 3, 'min_samples_split': 5}\"],[\"{'max_depth': 3, 'min_samples_split': 10}\"],[\"{'max_depth': 4, 'min_samples_split': 2}\"],[\"{'max_depth': 4, 'min_samples_split': 3}\"],[\"{'max_depth': 4, 'min_samples_split': 5}\"],[\"{'max_depth': 4, 'min_samples_split': 10}\"]],\"error_y\":{\"array\":[0.012277907785914245,0.012277907785914245,0.012277907785914245,0.012277907785914245,0.0222051573847778,0.0222051573847778,0.0222051573847778,0.0222051573847778,0.00810761911539837,0.00810761911539837,0.008542024981830255,0.00810761911539837,0.014374933048793294,0.013848739387059562,0.014374933048793294,0.01819838550574955]},\"hovertemplate\":\"<b>%{hovertext}</b><br><br>type=test<br>Params=%{x}<br>Average accuracy=%{y}<br>params=%{customdata[0]}<extra></extra>\",\"hovertext\":[\"{'max_depth': 1, 'min_samples_split': 2}\",\"{'max_depth': 1, 'min_samples_split': 3}\",\"{'max_depth': 1, 'min_samples_split': 5}\",\"{'max_depth': 1, 'min_samples_split': 10}\",\"{'max_depth': 2, 'min_samples_split': 2}\",\"{'max_depth': 2, 'min_samples_split': 3}\",\"{'max_depth': 2, 'min_samples_split': 5}\",\"{'max_depth': 2, 'min_samples_split': 10}\",\"{'max_depth': 3, 'min_samples_split': 2}\",\"{'max_depth': 3, 'min_samples_split': 3}\",\"{'max_depth': 3, 'min_samples_split': 5}\",\"{'max_depth': 3, 'min_samples_split': 10}\",\"{'max_depth': 4, 'min_samples_split': 2}\",\"{'max_depth': 4, 'min_samples_split': 3}\",\"{'max_depth': 4, 'min_samples_split': 5}\",\"{'max_depth': 4, 'min_samples_split': 10}\"],\"legendgroup\":\"test\",\"marker\":{\"color\":\"#636efa\",\"pattern\":{\"shape\":\"\"}},\"name\":\"test\",\"offsetgroup\":\"test\",\"orientation\":\"v\",\"showlegend\":true,\"textposition\":\"auto\",\"type\":\"bar\",\"x\":[0,1,2,3,4,5,6,7,8,9,10,11,12,13,14,15],\"xaxis\":\"x\",\"y\":[0.6016789501623396,0.6016789501623396,0.6016789501623396,0.6016789501623396,0.6096428527338493,0.6096428527338493,0.6096428527338493,0.6096428527338493,0.6230793921212794,0.6230793921212794,0.6235769045590904,0.6230793921212794,0.6146241497228498,0.6146241497228497,0.6146241497228498,0.6101576484821549],\"yaxis\":\"y\"},{\"alignmentgroup\":\"True\",\"customdata\":[[\"{'max_depth': 1, 'min_samples_split': 2}\"],[\"{'max_depth': 1, 'min_samples_split': 3}\"],[\"{'max_depth': 1, 'min_samples_split': 5}\"],[\"{'max_depth': 1, 'min_samples_split': 10}\"],[\"{'max_depth': 2, 'min_samples_split': 2}\"],[\"{'max_depth': 2, 'min_samples_split': 3}\"],[\"{'max_depth': 2, 'min_samples_split': 5}\"],[\"{'max_depth': 2, 'min_samples_split': 10}\"],[\"{'max_depth': 3, 'min_samples_split': 2}\"],[\"{'max_depth': 3, 'min_samples_split': 3}\"],[\"{'max_depth': 3, 'min_samples_split': 5}\"],[\"{'max_depth': 3, 'min_samples_split': 10}\"],[\"{'max_depth': 4, 'min_samples_split': 2}\"],[\"{'max_depth': 4, 'min_samples_split': 3}\"],[\"{'max_depth': 4, 'min_samples_split': 5}\"],[\"{'max_depth': 4, 'min_samples_split': 10}\"]],\"error_y\":{\"array\":[0.008659364991196945,0.008659364991196945,0.008659364991196945,0.008659364991196945,0.010066067603943173,0.010066067603943173,0.010066067603943173,0.010066067603943173,0.016046847742777454,0.016046847742777454,0.016046847742777454,0.016046847742777454,0.017993663973555597,0.017993663973555597,0.017993663973555597,0.018111807667094495]},\"hovertemplate\":\"<b>%{hovertext}</b><br><br>type=train<br>Params=%{x}<br>Average accuracy=%{y}<br>params=%{customdata[0]}<extra></extra>\",\"hovertext\":[\"{'max_depth': 1, 'min_samples_split': 2}\",\"{'max_depth': 1, 'min_samples_split': 3}\",\"{'max_depth': 1, 'min_samples_split': 5}\",\"{'max_depth': 1, 'min_samples_split': 10}\",\"{'max_depth': 2, 'min_samples_split': 2}\",\"{'max_depth': 2, 'min_samples_split': 3}\",\"{'max_depth': 2, 'min_samples_split': 5}\",\"{'max_depth': 2, 'min_samples_split': 10}\",\"{'max_depth': 3, 'min_samples_split': 2}\",\"{'max_depth': 3, 'min_samples_split': 3}\",\"{'max_depth': 3, 'min_samples_split': 5}\",\"{'max_depth': 3, 'min_samples_split': 10}\",\"{'max_depth': 4, 'min_samples_split': 2}\",\"{'max_depth': 4, 'min_samples_split': 3}\",\"{'max_depth': 4, 'min_samples_split': 5}\",\"{'max_depth': 4, 'min_samples_split': 10}\"],\"legendgroup\":\"train\",\"marker\":{\"color\":\"#EF553B\",\"pattern\":{\"shape\":\"\"}},\"name\":\"train\",\"offsetgroup\":\"train\",\"orientation\":\"v\",\"showlegend\":true,\"textposition\":\"auto\",\"type\":\"bar\",\"x\":[0,1,2,3,4,5,6,7,8,9,10,11,12,13,14,15],\"xaxis\":\"x\",\"y\":[0.6128789705914183,0.6128789705914183,0.6128789705914183,0.6128789705914183,0.6248124665671024,0.6248124665671024,0.6248124665671024,0.6248124665671024,0.6448273702958173,0.6448273702958173,0.6448273702958173,0.6448273702958173,0.6669564699807365,0.6669564699807365,0.6669564699807365,0.6664591121459205],\"yaxis\":\"y\"}],                        {\"barmode\":\"group\",\"legend\":{\"title\":{\"text\":\"type\"},\"tracegroupgap\":0},\"template\":{\"data\":{\"bar\":[{\"error_x\":{\"color\":\"#2a3f5f\"},\"error_y\":{\"color\":\"#2a3f5f\"},\"marker\":{\"line\":{\"color\":\"#E5ECF6\",\"width\":0.5},\"pattern\":{\"fillmode\":\"overlay\",\"size\":10,\"solidity\":0.2}},\"type\":\"bar\"}],\"barpolar\":[{\"marker\":{\"line\":{\"color\":\"#E5ECF6\",\"width\":0.5},\"pattern\":{\"fillmode\":\"overlay\",\"size\":10,\"solidity\":0.2}},\"type\":\"barpolar\"}],\"carpet\":[{\"aaxis\":{\"endlinecolor\":\"#2a3f5f\",\"gridcolor\":\"white\",\"linecolor\":\"white\",\"minorgridcolor\":\"white\",\"startlinecolor\":\"#2a3f5f\"},\"baxis\":{\"endlinecolor\":\"#2a3f5f\",\"gridcolor\":\"white\",\"linecolor\":\"white\",\"minorgridcolor\":\"white\",\"startlinecolor\":\"#2a3f5f\"},\"type\":\"carpet\"}],\"choropleth\":[{\"colorbar\":{\"outlinewidth\":0,\"ticks\":\"\"},\"type\":\"choropleth\"}],\"contour\":[{\"colorbar\":{\"outlinewidth\":0,\"ticks\":\"\"},\"colorscale\":[[0.0,\"#0d0887\"],[0.1111111111111111,\"#46039f\"],[0.2222222222222222,\"#7201a8\"],[0.3333333333333333,\"#9c179e\"],[0.4444444444444444,\"#bd3786\"],[0.5555555555555556,\"#d8576b\"],[0.6666666666666666,\"#ed7953\"],[0.7777777777777778,\"#fb9f3a\"],[0.8888888888888888,\"#fdca26\"],[1.0,\"#f0f921\"]],\"type\":\"contour\"}],\"contourcarpet\":[{\"colorbar\":{\"outlinewidth\":0,\"ticks\":\"\"},\"type\":\"contourcarpet\"}],\"heatmap\":[{\"colorbar\":{\"outlinewidth\":0,\"ticks\":\"\"},\"colorscale\":[[0.0,\"#0d0887\"],[0.1111111111111111,\"#46039f\"],[0.2222222222222222,\"#7201a8\"],[0.3333333333333333,\"#9c179e\"],[0.4444444444444444,\"#bd3786\"],[0.5555555555555556,\"#d8576b\"],[0.6666666666666666,\"#ed7953\"],[0.7777777777777778,\"#fb9f3a\"],[0.8888888888888888,\"#fdca26\"],[1.0,\"#f0f921\"]],\"type\":\"heatmap\"}],\"heatmapgl\":[{\"colorbar\":{\"outlinewidth\":0,\"ticks\":\"\"},\"colorscale\":[[0.0,\"#0d0887\"],[0.1111111111111111,\"#46039f\"],[0.2222222222222222,\"#7201a8\"],[0.3333333333333333,\"#9c179e\"],[0.4444444444444444,\"#bd3786\"],[0.5555555555555556,\"#d8576b\"],[0.6666666666666666,\"#ed7953\"],[0.7777777777777778,\"#fb9f3a\"],[0.8888888888888888,\"#fdca26\"],[1.0,\"#f0f921\"]],\"type\":\"heatmapgl\"}],\"histogram\":[{\"marker\":{\"pattern\":{\"fillmode\":\"overlay\",\"size\":10,\"solidity\":0.2}},\"type\":\"histogram\"}],\"histogram2d\":[{\"colorbar\":{\"outlinewidth\":0,\"ticks\":\"\"},\"colorscale\":[[0.0,\"#0d0887\"],[0.1111111111111111,\"#46039f\"],[0.2222222222222222,\"#7201a8\"],[0.3333333333333333,\"#9c179e\"],[0.4444444444444444,\"#bd3786\"],[0.5555555555555556,\"#d8576b\"],[0.6666666666666666,\"#ed7953\"],[0.7777777777777778,\"#fb9f3a\"],[0.8888888888888888,\"#fdca26\"],[1.0,\"#f0f921\"]],\"type\":\"histogram2d\"}],\"histogram2dcontour\":[{\"colorbar\":{\"outlinewidth\":0,\"ticks\":\"\"},\"colorscale\":[[0.0,\"#0d0887\"],[0.1111111111111111,\"#46039f\"],[0.2222222222222222,\"#7201a8\"],[0.3333333333333333,\"#9c179e\"],[0.4444444444444444,\"#bd3786\"],[0.5555555555555556,\"#d8576b\"],[0.6666666666666666,\"#ed7953\"],[0.7777777777777778,\"#fb9f3a\"],[0.8888888888888888,\"#fdca26\"],[1.0,\"#f0f921\"]],\"type\":\"histogram2dcontour\"}],\"mesh3d\":[{\"colorbar\":{\"outlinewidth\":0,\"ticks\":\"\"},\"type\":\"mesh3d\"}],\"parcoords\":[{\"line\":{\"colorbar\":{\"outlinewidth\":0,\"ticks\":\"\"}},\"type\":\"parcoords\"}],\"pie\":[{\"automargin\":true,\"type\":\"pie\"}],\"scatter\":[{\"marker\":{\"colorbar\":{\"outlinewidth\":0,\"ticks\":\"\"}},\"type\":\"scatter\"}],\"scatter3d\":[{\"line\":{\"colorbar\":{\"outlinewidth\":0,\"ticks\":\"\"}},\"marker\":{\"colorbar\":{\"outlinewidth\":0,\"ticks\":\"\"}},\"type\":\"scatter3d\"}],\"scattercarpet\":[{\"marker\":{\"colorbar\":{\"outlinewidth\":0,\"ticks\":\"\"}},\"type\":\"scattercarpet\"}],\"scattergeo\":[{\"marker\":{\"colorbar\":{\"outlinewidth\":0,\"ticks\":\"\"}},\"type\":\"scattergeo\"}],\"scattergl\":[{\"marker\":{\"colorbar\":{\"outlinewidth\":0,\"ticks\":\"\"}},\"type\":\"scattergl\"}],\"scattermapbox\":[{\"marker\":{\"colorbar\":{\"outlinewidth\":0,\"ticks\":\"\"}},\"type\":\"scattermapbox\"}],\"scatterpolar\":[{\"marker\":{\"colorbar\":{\"outlinewidth\":0,\"ticks\":\"\"}},\"type\":\"scatterpolar\"}],\"scatterpolargl\":[{\"marker\":{\"colorbar\":{\"outlinewidth\":0,\"ticks\":\"\"}},\"type\":\"scatterpolargl\"}],\"scatterternary\":[{\"marker\":{\"colorbar\":{\"outlinewidth\":0,\"ticks\":\"\"}},\"type\":\"scatterternary\"}],\"surface\":[{\"colorbar\":{\"outlinewidth\":0,\"ticks\":\"\"},\"colorscale\":[[0.0,\"#0d0887\"],[0.1111111111111111,\"#46039f\"],[0.2222222222222222,\"#7201a8\"],[0.3333333333333333,\"#9c179e\"],[0.4444444444444444,\"#bd3786\"],[0.5555555555555556,\"#d8576b\"],[0.6666666666666666,\"#ed7953\"],[0.7777777777777778,\"#fb9f3a\"],[0.8888888888888888,\"#fdca26\"],[1.0,\"#f0f921\"]],\"type\":\"surface\"}],\"table\":[{\"cells\":{\"fill\":{\"color\":\"#EBF0F8\"},\"line\":{\"color\":\"white\"}},\"header\":{\"fill\":{\"color\":\"#C8D4E3\"},\"line\":{\"color\":\"white\"}},\"type\":\"table\"}]},\"layout\":{\"annotationdefaults\":{\"arrowcolor\":\"#2a3f5f\",\"arrowhead\":0,\"arrowwidth\":1},\"autotypenumbers\":\"strict\",\"coloraxis\":{\"colorbar\":{\"outlinewidth\":0,\"ticks\":\"\"}},\"colorscale\":{\"diverging\":[[0,\"#8e0152\"],[0.1,\"#c51b7d\"],[0.2,\"#de77ae\"],[0.3,\"#f1b6da\"],[0.4,\"#fde0ef\"],[0.5,\"#f7f7f7\"],[0.6,\"#e6f5d0\"],[0.7,\"#b8e186\"],[0.8,\"#7fbc41\"],[0.9,\"#4d9221\"],[1,\"#276419\"]],\"sequential\":[[0.0,\"#0d0887\"],[0.1111111111111111,\"#46039f\"],[0.2222222222222222,\"#7201a8\"],[0.3333333333333333,\"#9c179e\"],[0.4444444444444444,\"#bd3786\"],[0.5555555555555556,\"#d8576b\"],[0.6666666666666666,\"#ed7953\"],[0.7777777777777778,\"#fb9f3a\"],[0.8888888888888888,\"#fdca26\"],[1.0,\"#f0f921\"]],\"sequentialminus\":[[0.0,\"#0d0887\"],[0.1111111111111111,\"#46039f\"],[0.2222222222222222,\"#7201a8\"],[0.3333333333333333,\"#9c179e\"],[0.4444444444444444,\"#bd3786\"],[0.5555555555555556,\"#d8576b\"],[0.6666666666666666,\"#ed7953\"],[0.7777777777777778,\"#fb9f3a\"],[0.8888888888888888,\"#fdca26\"],[1.0,\"#f0f921\"]]},\"colorway\":[\"#636efa\",\"#EF553B\",\"#00cc96\",\"#ab63fa\",\"#FFA15A\",\"#19d3f3\",\"#FF6692\",\"#B6E880\",\"#FF97FF\",\"#FECB52\"],\"font\":{\"color\":\"#2a3f5f\"},\"geo\":{\"bgcolor\":\"white\",\"lakecolor\":\"white\",\"landcolor\":\"#E5ECF6\",\"showlakes\":true,\"showland\":true,\"subunitcolor\":\"white\"},\"hoverlabel\":{\"align\":\"left\"},\"hovermode\":\"closest\",\"mapbox\":{\"style\":\"light\"},\"paper_bgcolor\":\"white\",\"plot_bgcolor\":\"#E5ECF6\",\"polar\":{\"angularaxis\":{\"gridcolor\":\"white\",\"linecolor\":\"white\",\"ticks\":\"\"},\"bgcolor\":\"#E5ECF6\",\"radialaxis\":{\"gridcolor\":\"white\",\"linecolor\":\"white\",\"ticks\":\"\"}},\"scene\":{\"xaxis\":{\"backgroundcolor\":\"#E5ECF6\",\"gridcolor\":\"white\",\"gridwidth\":2,\"linecolor\":\"white\",\"showbackground\":true,\"ticks\":\"\",\"zerolinecolor\":\"white\"},\"yaxis\":{\"backgroundcolor\":\"#E5ECF6\",\"gridcolor\":\"white\",\"gridwidth\":2,\"linecolor\":\"white\",\"showbackground\":true,\"ticks\":\"\",\"zerolinecolor\":\"white\"},\"zaxis\":{\"backgroundcolor\":\"#E5ECF6\",\"gridcolor\":\"white\",\"gridwidth\":2,\"linecolor\":\"white\",\"showbackground\":true,\"ticks\":\"\",\"zerolinecolor\":\"white\"}},\"shapedefaults\":{\"line\":{\"color\":\"#2a3f5f\"}},\"ternary\":{\"aaxis\":{\"gridcolor\":\"white\",\"linecolor\":\"white\",\"ticks\":\"\"},\"baxis\":{\"gridcolor\":\"white\",\"linecolor\":\"white\",\"ticks\":\"\"},\"bgcolor\":\"#E5ECF6\",\"caxis\":{\"gridcolor\":\"white\",\"linecolor\":\"white\",\"ticks\":\"\"}},\"title\":{\"x\":0.05},\"xaxis\":{\"automargin\":true,\"gridcolor\":\"white\",\"linecolor\":\"white\",\"ticks\":\"\",\"title\":{\"standoff\":15},\"zerolinecolor\":\"white\",\"zerolinewidth\":2},\"yaxis\":{\"automargin\":true,\"gridcolor\":\"white\",\"linecolor\":\"white\",\"ticks\":\"\",\"title\":{\"standoff\":15},\"zerolinecolor\":\"white\",\"zerolinewidth\":2}}},\"title\":{\"text\":\"Mean accuracy on testing and training set for each parameter combination <br> (Model: Decision Tree, Dataset: Listwise deletion)\"},\"xaxis\":{\"anchor\":\"y\",\"domain\":[0.0,1.0],\"title\":{\"text\":\"Params\"}},\"yaxis\":{\"anchor\":\"x\",\"domain\":[0.0,1.0],\"title\":{\"text\":\"Average accuracy\"}}},                        {\"responsive\": true}                    ).then(function(){\n                            \nvar gd = document.getElementById('43c079ef-3036-41da-bc8b-ed37a17ece2e');\nvar x = new MutationObserver(function (mutations, observer) {{\n        var display = window.getComputedStyle(gd).display;\n        if (!display || display === 'none') {{\n            console.log([gd, 'removed!']);\n            Plotly.purge(gd);\n            observer.disconnect();\n        }}\n}});\n\n// Listen for the removal of the full notebook cells\nvar notebookContainer = gd.closest('#notebook-container');\nif (notebookContainer) {{\n    x.observe(notebookContainer, {childList: true});\n}}\n\n// Listen for the clearing of the current output cell\nvar outputEl = gd.closest('.output');\nif (outputEl) {{\n    x.observe(outputEl, {childList: true});\n}}\n\n                        })                };                });            </script>        </div>"
     },
     "metadata": {},
     "output_type": "display_data"
    }
   ],
   "source": [
    "#Dataset (avec X contenant les feature et y contenant les prédicats) et en 2ème param la méthode utilisée\n",
    "dataset = ({\"X\":df,\"y\":y},\"Listwise deletion\")\n",
    "\n",
    "#Modèle et en 2ème param la méthode utilisée\n",
    "model = (tree.DecisionTreeClassifier(),\"Decision Tree\")\n",
    "\n",
    "#hyper grid pour tester quelques params (je dirais ~3 valeur par params)\n",
    "pgrid = {\"max_depth\": [1, 2, 3, 4],\n",
    "         \"min_samples_split\": [2, 3, 5, 10]}\n",
    "\n",
    "#tada\n",
    "stats = computeModelStats(model,stats,dataset,pgrid)"
   ],
   "metadata": {
    "collapsed": false,
    "pycharm": {
     "name": "#%%\n"
    }
   }
  },
  {
   "cell_type": "markdown",
   "source": [
    "# SVM"
   ],
   "metadata": {
    "collapsed": false,
    "pycharm": {
     "name": "#%% md\n"
    }
   }
  },
  {
   "cell_type": "code",
   "execution_count": 162,
   "outputs": [
    {
     "name": "stdout",
     "output_type": "stream",
     "text": [
      "Fitting 5 folds for each of 14 candidates, totalling 70 fits\n"
     ]
    },
    {
     "data": {
      "application/vnd.plotly.v1+json": {
       "config": {
        "plotlyServerURL": "https://plotly.com"
       },
       "data": [
        {
         "alignmentgroup": "True",
         "customdata": [
          [
           "{'gamma': 0.5, 'C': 1}"
          ],
          [
           "{'gamma': 0.001, 'C': 3}"
          ],
          [
           "{'gamma': 0.01, 'C': 8}"
          ],
          [
           "{'gamma': 0.0001, 'C': 8}"
          ],
          [
           "{'gamma': 0.01, 'C': 1}"
          ],
          [
           "{'gamma': 0.1, 'C': 1}"
          ],
          [
           "{'gamma': 0.5, 'C': 5}"
          ],
          [
           "{'gamma': 0.1, 'C': 8}"
          ],
          [
           "{'gamma': 0.1, 'C': 5}"
          ],
          [
           "{'gamma': 0.01, 'C': 3}"
          ],
          [
           "{'gamma': 0.0001, 'C': 10}"
          ],
          [
           "{'gamma': 0.001, 'C': 1}"
          ],
          [
           "{'gamma': 0.0001, 'C': 1}"
          ],
          [
           "{'gamma': 0.01, 'C': 10}"
          ]
         ],
         "error_y": {
          "array": [
           5.925706455316427E-4,
           0.005800079494920447,
           5.925706455316427E-4,
           0.019060342152632956,
           5.925706455316427E-4,
           5.925706455316427E-4,
           5.925706455316427E-4,
           5.925706455316427E-4,
           5.925706455316427E-4,
           5.925706455316427E-4,
           0.016785421485694337,
           0.004866045147733463,
           0.02119916631702394,
           5.925706455316427E-4
          ]
         },
         "hovertemplate": "<b>%{hovertext}</b><br><br>type=test<br>Params=%{x}<br>Average accuracy=%{y}<br>params=%{customdata[0]}<extra></extra>",
         "hovertext": [
          "{'gamma': 0.5, 'C': 1}",
          "{'gamma': 0.001, 'C': 3}",
          "{'gamma': 0.01, 'C': 8}",
          "{'gamma': 0.0001, 'C': 8}",
          "{'gamma': 0.01, 'C': 1}",
          "{'gamma': 0.1, 'C': 1}",
          "{'gamma': 0.5, 'C': 5}",
          "{'gamma': 0.1, 'C': 8}",
          "{'gamma': 0.1, 'C': 5}",
          "{'gamma': 0.01, 'C': 3}",
          "{'gamma': 0.0001, 'C': 10}",
          "{'gamma': 0.001, 'C': 1}",
          "{'gamma': 0.0001, 'C': 1}",
          "{'gamma': 0.01, 'C': 10}"
         ],
         "legendgroup": "test",
         "marker": {
          "color": "#636efa",
          "pattern": {
           "shape": ""
          }
         },
         "name": "test",
         "offsetgroup": "test",
         "orientation": "v",
         "showlegend": true,
         "textposition": "auto",
         "type": "bar",
         "x": [
          0,
          1,
          2,
          3,
          4,
          5,
          6,
          7,
          8,
          9,
          10,
          11,
          12,
          13
         ],
         "xaxis": "x",
         "y": [
          0.5967186400503685,
          0.5912509413231609,
          0.5967186400503685,
          0.5350493191610187,
          0.5967186400503685,
          0.5967186400503685,
          0.5967186400503685,
          0.5967186400503685,
          0.5967186400503685,
          0.5967186400503685,
          0.5345530412453859,
          0.595228571781292,
          0.5614001950545042,
          0.5967186400503685
         ],
         "yaxis": "y"
        },
        {
         "alignmentgroup": "True",
         "customdata": [
          [
           "{'gamma': 0.5, 'C': 1}"
          ],
          [
           "{'gamma': 0.001, 'C': 3}"
          ],
          [
           "{'gamma': 0.01, 'C': 8}"
          ],
          [
           "{'gamma': 0.0001, 'C': 8}"
          ],
          [
           "{'gamma': 0.01, 'C': 1}"
          ],
          [
           "{'gamma': 0.1, 'C': 1}"
          ],
          [
           "{'gamma': 0.5, 'C': 5}"
          ],
          [
           "{'gamma': 0.1, 'C': 8}"
          ],
          [
           "{'gamma': 0.1, 'C': 5}"
          ],
          [
           "{'gamma': 0.01, 'C': 3}"
          ],
          [
           "{'gamma': 0.0001, 'C': 10}"
          ],
          [
           "{'gamma': 0.001, 'C': 1}"
          ],
          [
           "{'gamma': 0.0001, 'C': 1}"
          ],
          [
           "{'gamma': 0.01, 'C': 10}"
          ]
         ],
         "error_y": {
          "array": [
           0.0,
           0.0,
           0.0,
           0.001452091122598475,
           0.0,
           0.0,
           0.0,
           0.0,
           0.0,
           0.0,
           0.001602518780476449,
           5.55890112492156E-4,
           0.008654681238499235,
           0.0
          ]
         },
         "hovertemplate": "<b>%{hovertext}</b><br><br>type=train<br>Params=%{x}<br>Average accuracy=%{y}<br>params=%{customdata[0]}<extra></extra>",
         "hovertext": [
          "{'gamma': 0.5, 'C': 1}",
          "{'gamma': 0.001, 'C': 3}",
          "{'gamma': 0.01, 'C': 8}",
          "{'gamma': 0.0001, 'C': 8}",
          "{'gamma': 0.01, 'C': 1}",
          "{'gamma': 0.1, 'C': 1}",
          "{'gamma': 0.5, 'C': 5}",
          "{'gamma': 0.1, 'C': 8}",
          "{'gamma': 0.1, 'C': 5}",
          "{'gamma': 0.01, 'C': 3}",
          "{'gamma': 0.0001, 'C': 10}",
          "{'gamma': 0.001, 'C': 1}",
          "{'gamma': 0.0001, 'C': 1}",
          "{'gamma': 0.01, 'C': 10}"
         ],
         "legendgroup": "train",
         "marker": {
          "color": "#EF553B",
          "pattern": {
           "shape": ""
          }
         },
         "name": "train",
         "offsetgroup": "train",
         "orientation": "v",
         "showlegend": true,
         "textposition": "auto",
         "type": "bar",
         "x": [
          0,
          1,
          2,
          3,
          4,
          5,
          6,
          7,
          8,
          9,
          10,
          11,
          12,
          13
         ],
         "xaxis": "x",
         "y": [
          1.0,
          1.0,
          1.0,
          0.9891842063764461,
          1.0,
          1.0,
          1.0,
          1.0,
          1.0,
          1.0,
          0.9935353530668596,
          0.9993784959602238,
          0.8698396612339174,
          1.0
         ],
         "yaxis": "y"
        }
       ],
       "layout": {
        "barmode": "group",
        "legend": {
         "title": {
          "text": "type"
         },
         "tracegroupgap": 0
        },
        "template": {
         "data": {
          "bar": [
           {
            "error_x": {
             "color": "#2a3f5f"
            },
            "error_y": {
             "color": "#2a3f5f"
            },
            "marker": {
             "line": {
              "color": "#E5ECF6",
              "width": 0.5
             },
             "pattern": {
              "fillmode": "overlay",
              "size": 10,
              "solidity": 0.2
             }
            },
            "type": "bar"
           }
          ],
          "barpolar": [
           {
            "marker": {
             "line": {
              "color": "#E5ECF6",
              "width": 0.5
             },
             "pattern": {
              "fillmode": "overlay",
              "size": 10,
              "solidity": 0.2
             }
            },
            "type": "barpolar"
           }
          ],
          "carpet": [
           {
            "aaxis": {
             "endlinecolor": "#2a3f5f",
             "gridcolor": "white",
             "linecolor": "white",
             "minorgridcolor": "white",
             "startlinecolor": "#2a3f5f"
            },
            "baxis": {
             "endlinecolor": "#2a3f5f",
             "gridcolor": "white",
             "linecolor": "white",
             "minorgridcolor": "white",
             "startlinecolor": "#2a3f5f"
            },
            "type": "carpet"
           }
          ],
          "choropleth": [
           {
            "colorbar": {
             "outlinewidth": 0,
             "ticks": ""
            },
            "type": "choropleth"
           }
          ],
          "contour": [
           {
            "colorbar": {
             "outlinewidth": 0,
             "ticks": ""
            },
            "colorscale": [
             [
              0.0,
              "#0d0887"
             ],
             [
              0.1111111111111111,
              "#46039f"
             ],
             [
              0.2222222222222222,
              "#7201a8"
             ],
             [
              0.3333333333333333,
              "#9c179e"
             ],
             [
              0.4444444444444444,
              "#bd3786"
             ],
             [
              0.5555555555555556,
              "#d8576b"
             ],
             [
              0.6666666666666666,
              "#ed7953"
             ],
             [
              0.7777777777777778,
              "#fb9f3a"
             ],
             [
              0.8888888888888888,
              "#fdca26"
             ],
             [
              1.0,
              "#f0f921"
             ]
            ],
            "type": "contour"
           }
          ],
          "contourcarpet": [
           {
            "colorbar": {
             "outlinewidth": 0,
             "ticks": ""
            },
            "type": "contourcarpet"
           }
          ],
          "heatmap": [
           {
            "colorbar": {
             "outlinewidth": 0,
             "ticks": ""
            },
            "colorscale": [
             [
              0.0,
              "#0d0887"
             ],
             [
              0.1111111111111111,
              "#46039f"
             ],
             [
              0.2222222222222222,
              "#7201a8"
             ],
             [
              0.3333333333333333,
              "#9c179e"
             ],
             [
              0.4444444444444444,
              "#bd3786"
             ],
             [
              0.5555555555555556,
              "#d8576b"
             ],
             [
              0.6666666666666666,
              "#ed7953"
             ],
             [
              0.7777777777777778,
              "#fb9f3a"
             ],
             [
              0.8888888888888888,
              "#fdca26"
             ],
             [
              1.0,
              "#f0f921"
             ]
            ],
            "type": "heatmap"
           }
          ],
          "heatmapgl": [
           {
            "colorbar": {
             "outlinewidth": 0,
             "ticks": ""
            },
            "colorscale": [
             [
              0.0,
              "#0d0887"
             ],
             [
              0.1111111111111111,
              "#46039f"
             ],
             [
              0.2222222222222222,
              "#7201a8"
             ],
             [
              0.3333333333333333,
              "#9c179e"
             ],
             [
              0.4444444444444444,
              "#bd3786"
             ],
             [
              0.5555555555555556,
              "#d8576b"
             ],
             [
              0.6666666666666666,
              "#ed7953"
             ],
             [
              0.7777777777777778,
              "#fb9f3a"
             ],
             [
              0.8888888888888888,
              "#fdca26"
             ],
             [
              1.0,
              "#f0f921"
             ]
            ],
            "type": "heatmapgl"
           }
          ],
          "histogram": [
           {
            "marker": {
             "pattern": {
              "fillmode": "overlay",
              "size": 10,
              "solidity": 0.2
             }
            },
            "type": "histogram"
           }
          ],
          "histogram2d": [
           {
            "colorbar": {
             "outlinewidth": 0,
             "ticks": ""
            },
            "colorscale": [
             [
              0.0,
              "#0d0887"
             ],
             [
              0.1111111111111111,
              "#46039f"
             ],
             [
              0.2222222222222222,
              "#7201a8"
             ],
             [
              0.3333333333333333,
              "#9c179e"
             ],
             [
              0.4444444444444444,
              "#bd3786"
             ],
             [
              0.5555555555555556,
              "#d8576b"
             ],
             [
              0.6666666666666666,
              "#ed7953"
             ],
             [
              0.7777777777777778,
              "#fb9f3a"
             ],
             [
              0.8888888888888888,
              "#fdca26"
             ],
             [
              1.0,
              "#f0f921"
             ]
            ],
            "type": "histogram2d"
           }
          ],
          "histogram2dcontour": [
           {
            "colorbar": {
             "outlinewidth": 0,
             "ticks": ""
            },
            "colorscale": [
             [
              0.0,
              "#0d0887"
             ],
             [
              0.1111111111111111,
              "#46039f"
             ],
             [
              0.2222222222222222,
              "#7201a8"
             ],
             [
              0.3333333333333333,
              "#9c179e"
             ],
             [
              0.4444444444444444,
              "#bd3786"
             ],
             [
              0.5555555555555556,
              "#d8576b"
             ],
             [
              0.6666666666666666,
              "#ed7953"
             ],
             [
              0.7777777777777778,
              "#fb9f3a"
             ],
             [
              0.8888888888888888,
              "#fdca26"
             ],
             [
              1.0,
              "#f0f921"
             ]
            ],
            "type": "histogram2dcontour"
           }
          ],
          "mesh3d": [
           {
            "colorbar": {
             "outlinewidth": 0,
             "ticks": ""
            },
            "type": "mesh3d"
           }
          ],
          "parcoords": [
           {
            "line": {
             "colorbar": {
              "outlinewidth": 0,
              "ticks": ""
             }
            },
            "type": "parcoords"
           }
          ],
          "pie": [
           {
            "automargin": true,
            "type": "pie"
           }
          ],
          "scatter": [
           {
            "marker": {
             "colorbar": {
              "outlinewidth": 0,
              "ticks": ""
             }
            },
            "type": "scatter"
           }
          ],
          "scatter3d": [
           {
            "line": {
             "colorbar": {
              "outlinewidth": 0,
              "ticks": ""
             }
            },
            "marker": {
             "colorbar": {
              "outlinewidth": 0,
              "ticks": ""
             }
            },
            "type": "scatter3d"
           }
          ],
          "scattercarpet": [
           {
            "marker": {
             "colorbar": {
              "outlinewidth": 0,
              "ticks": ""
             }
            },
            "type": "scattercarpet"
           }
          ],
          "scattergeo": [
           {
            "marker": {
             "colorbar": {
              "outlinewidth": 0,
              "ticks": ""
             }
            },
            "type": "scattergeo"
           }
          ],
          "scattergl": [
           {
            "marker": {
             "colorbar": {
              "outlinewidth": 0,
              "ticks": ""
             }
            },
            "type": "scattergl"
           }
          ],
          "scattermapbox": [
           {
            "marker": {
             "colorbar": {
              "outlinewidth": 0,
              "ticks": ""
             }
            },
            "type": "scattermapbox"
           }
          ],
          "scatterpolar": [
           {
            "marker": {
             "colorbar": {
              "outlinewidth": 0,
              "ticks": ""
             }
            },
            "type": "scatterpolar"
           }
          ],
          "scatterpolargl": [
           {
            "marker": {
             "colorbar": {
              "outlinewidth": 0,
              "ticks": ""
             }
            },
            "type": "scatterpolargl"
           }
          ],
          "scatterternary": [
           {
            "marker": {
             "colorbar": {
              "outlinewidth": 0,
              "ticks": ""
             }
            },
            "type": "scatterternary"
           }
          ],
          "surface": [
           {
            "colorbar": {
             "outlinewidth": 0,
             "ticks": ""
            },
            "colorscale": [
             [
              0.0,
              "#0d0887"
             ],
             [
              0.1111111111111111,
              "#46039f"
             ],
             [
              0.2222222222222222,
              "#7201a8"
             ],
             [
              0.3333333333333333,
              "#9c179e"
             ],
             [
              0.4444444444444444,
              "#bd3786"
             ],
             [
              0.5555555555555556,
              "#d8576b"
             ],
             [
              0.6666666666666666,
              "#ed7953"
             ],
             [
              0.7777777777777778,
              "#fb9f3a"
             ],
             [
              0.8888888888888888,
              "#fdca26"
             ],
             [
              1.0,
              "#f0f921"
             ]
            ],
            "type": "surface"
           }
          ],
          "table": [
           {
            "cells": {
             "fill": {
              "color": "#EBF0F8"
             },
             "line": {
              "color": "white"
             }
            },
            "header": {
             "fill": {
              "color": "#C8D4E3"
             },
             "line": {
              "color": "white"
             }
            },
            "type": "table"
           }
          ]
         },
         "layout": {
          "annotationdefaults": {
           "arrowcolor": "#2a3f5f",
           "arrowhead": 0,
           "arrowwidth": 1
          },
          "autotypenumbers": "strict",
          "coloraxis": {
           "colorbar": {
            "outlinewidth": 0,
            "ticks": ""
           }
          },
          "colorscale": {
           "diverging": [
            [
             0,
             "#8e0152"
            ],
            [
             0.1,
             "#c51b7d"
            ],
            [
             0.2,
             "#de77ae"
            ],
            [
             0.3,
             "#f1b6da"
            ],
            [
             0.4,
             "#fde0ef"
            ],
            [
             0.5,
             "#f7f7f7"
            ],
            [
             0.6,
             "#e6f5d0"
            ],
            [
             0.7,
             "#b8e186"
            ],
            [
             0.8,
             "#7fbc41"
            ],
            [
             0.9,
             "#4d9221"
            ],
            [
             1,
             "#276419"
            ]
           ],
           "sequential": [
            [
             0.0,
             "#0d0887"
            ],
            [
             0.1111111111111111,
             "#46039f"
            ],
            [
             0.2222222222222222,
             "#7201a8"
            ],
            [
             0.3333333333333333,
             "#9c179e"
            ],
            [
             0.4444444444444444,
             "#bd3786"
            ],
            [
             0.5555555555555556,
             "#d8576b"
            ],
            [
             0.6666666666666666,
             "#ed7953"
            ],
            [
             0.7777777777777778,
             "#fb9f3a"
            ],
            [
             0.8888888888888888,
             "#fdca26"
            ],
            [
             1.0,
             "#f0f921"
            ]
           ],
           "sequentialminus": [
            [
             0.0,
             "#0d0887"
            ],
            [
             0.1111111111111111,
             "#46039f"
            ],
            [
             0.2222222222222222,
             "#7201a8"
            ],
            [
             0.3333333333333333,
             "#9c179e"
            ],
            [
             0.4444444444444444,
             "#bd3786"
            ],
            [
             0.5555555555555556,
             "#d8576b"
            ],
            [
             0.6666666666666666,
             "#ed7953"
            ],
            [
             0.7777777777777778,
             "#fb9f3a"
            ],
            [
             0.8888888888888888,
             "#fdca26"
            ],
            [
             1.0,
             "#f0f921"
            ]
           ]
          },
          "colorway": [
           "#636efa",
           "#EF553B",
           "#00cc96",
           "#ab63fa",
           "#FFA15A",
           "#19d3f3",
           "#FF6692",
           "#B6E880",
           "#FF97FF",
           "#FECB52"
          ],
          "font": {
           "color": "#2a3f5f"
          },
          "geo": {
           "bgcolor": "white",
           "lakecolor": "white",
           "landcolor": "#E5ECF6",
           "showlakes": true,
           "showland": true,
           "subunitcolor": "white"
          },
          "hoverlabel": {
           "align": "left"
          },
          "hovermode": "closest",
          "mapbox": {
           "style": "light"
          },
          "paper_bgcolor": "white",
          "plot_bgcolor": "#E5ECF6",
          "polar": {
           "angularaxis": {
            "gridcolor": "white",
            "linecolor": "white",
            "ticks": ""
           },
           "bgcolor": "#E5ECF6",
           "radialaxis": {
            "gridcolor": "white",
            "linecolor": "white",
            "ticks": ""
           }
          },
          "scene": {
           "xaxis": {
            "backgroundcolor": "#E5ECF6",
            "gridcolor": "white",
            "gridwidth": 2,
            "linecolor": "white",
            "showbackground": true,
            "ticks": "",
            "zerolinecolor": "white"
           },
           "yaxis": {
            "backgroundcolor": "#E5ECF6",
            "gridcolor": "white",
            "gridwidth": 2,
            "linecolor": "white",
            "showbackground": true,
            "ticks": "",
            "zerolinecolor": "white"
           },
           "zaxis": {
            "backgroundcolor": "#E5ECF6",
            "gridcolor": "white",
            "gridwidth": 2,
            "linecolor": "white",
            "showbackground": true,
            "ticks": "",
            "zerolinecolor": "white"
           }
          },
          "shapedefaults": {
           "line": {
            "color": "#2a3f5f"
           }
          },
          "ternary": {
           "aaxis": {
            "gridcolor": "white",
            "linecolor": "white",
            "ticks": ""
           },
           "baxis": {
            "gridcolor": "white",
            "linecolor": "white",
            "ticks": ""
           },
           "bgcolor": "#E5ECF6",
           "caxis": {
            "gridcolor": "white",
            "linecolor": "white",
            "ticks": ""
           }
          },
          "title": {
           "x": 0.05
          },
          "xaxis": {
           "automargin": true,
           "gridcolor": "white",
           "linecolor": "white",
           "ticks": "",
           "title": {
            "standoff": 15
           },
           "zerolinecolor": "white",
           "zerolinewidth": 2
          },
          "yaxis": {
           "automargin": true,
           "gridcolor": "white",
           "linecolor": "white",
           "ticks": "",
           "title": {
            "standoff": 15
           },
           "zerolinecolor": "white",
           "zerolinewidth": 2
          }
         }
        },
        "title": {
         "text": "Mean accuracy on testing and training set for each parameter combination <br> (Model: Scalar vector machine, Dataset: Listwise deletion)"
        },
        "xaxis": {
         "anchor": "y",
         "domain": [
          0.0,
          1.0
         ],
         "title": {
          "text": "Params"
         }
        },
        "yaxis": {
         "anchor": "x",
         "domain": [
          0.0,
          1.0
         ],
         "title": {
          "text": "Average accuracy"
         }
        }
       }
      },
      "text/html": "<div>                            <div id=\"7b7fc3aa-5c68-4a08-923d-3c64e67dbc5e\" class=\"plotly-graph-div\" style=\"height:525px; width:100%;\"></div>            <script type=\"text/javascript\">                require([\"plotly\"], function(Plotly) {                    window.PLOTLYENV=window.PLOTLYENV || {};                                    if (document.getElementById(\"7b7fc3aa-5c68-4a08-923d-3c64e67dbc5e\")) {                    Plotly.newPlot(                        \"7b7fc3aa-5c68-4a08-923d-3c64e67dbc5e\",                        [{\"alignmentgroup\":\"True\",\"customdata\":[[\"{'gamma': 0.5, 'C': 1}\"],[\"{'gamma': 0.001, 'C': 3}\"],[\"{'gamma': 0.01, 'C': 8}\"],[\"{'gamma': 0.0001, 'C': 8}\"],[\"{'gamma': 0.01, 'C': 1}\"],[\"{'gamma': 0.1, 'C': 1}\"],[\"{'gamma': 0.5, 'C': 5}\"],[\"{'gamma': 0.1, 'C': 8}\"],[\"{'gamma': 0.1, 'C': 5}\"],[\"{'gamma': 0.01, 'C': 3}\"],[\"{'gamma': 0.0001, 'C': 10}\"],[\"{'gamma': 0.001, 'C': 1}\"],[\"{'gamma': 0.0001, 'C': 1}\"],[\"{'gamma': 0.01, 'C': 10}\"]],\"error_y\":{\"array\":[0.0005925706455316427,0.005800079494920447,0.0005925706455316427,0.019060342152632956,0.0005925706455316427,0.0005925706455316427,0.0005925706455316427,0.0005925706455316427,0.0005925706455316427,0.0005925706455316427,0.016785421485694337,0.004866045147733463,0.02119916631702394,0.0005925706455316427]},\"hovertemplate\":\"<b>%{hovertext}</b><br><br>type=test<br>Params=%{x}<br>Average accuracy=%{y}<br>params=%{customdata[0]}<extra></extra>\",\"hovertext\":[\"{'gamma': 0.5, 'C': 1}\",\"{'gamma': 0.001, 'C': 3}\",\"{'gamma': 0.01, 'C': 8}\",\"{'gamma': 0.0001, 'C': 8}\",\"{'gamma': 0.01, 'C': 1}\",\"{'gamma': 0.1, 'C': 1}\",\"{'gamma': 0.5, 'C': 5}\",\"{'gamma': 0.1, 'C': 8}\",\"{'gamma': 0.1, 'C': 5}\",\"{'gamma': 0.01, 'C': 3}\",\"{'gamma': 0.0001, 'C': 10}\",\"{'gamma': 0.001, 'C': 1}\",\"{'gamma': 0.0001, 'C': 1}\",\"{'gamma': 0.01, 'C': 10}\"],\"legendgroup\":\"test\",\"marker\":{\"color\":\"#636efa\",\"pattern\":{\"shape\":\"\"}},\"name\":\"test\",\"offsetgroup\":\"test\",\"orientation\":\"v\",\"showlegend\":true,\"textposition\":\"auto\",\"type\":\"bar\",\"x\":[0,1,2,3,4,5,6,7,8,9,10,11,12,13],\"xaxis\":\"x\",\"y\":[0.5967186400503685,0.5912509413231609,0.5967186400503685,0.5350493191610187,0.5967186400503685,0.5967186400503685,0.5967186400503685,0.5967186400503685,0.5967186400503685,0.5967186400503685,0.5345530412453859,0.595228571781292,0.5614001950545042,0.5967186400503685],\"yaxis\":\"y\"},{\"alignmentgroup\":\"True\",\"customdata\":[[\"{'gamma': 0.5, 'C': 1}\"],[\"{'gamma': 0.001, 'C': 3}\"],[\"{'gamma': 0.01, 'C': 8}\"],[\"{'gamma': 0.0001, 'C': 8}\"],[\"{'gamma': 0.01, 'C': 1}\"],[\"{'gamma': 0.1, 'C': 1}\"],[\"{'gamma': 0.5, 'C': 5}\"],[\"{'gamma': 0.1, 'C': 8}\"],[\"{'gamma': 0.1, 'C': 5}\"],[\"{'gamma': 0.01, 'C': 3}\"],[\"{'gamma': 0.0001, 'C': 10}\"],[\"{'gamma': 0.001, 'C': 1}\"],[\"{'gamma': 0.0001, 'C': 1}\"],[\"{'gamma': 0.01, 'C': 10}\"]],\"error_y\":{\"array\":[0.0,0.0,0.0,0.001452091122598475,0.0,0.0,0.0,0.0,0.0,0.0,0.001602518780476449,0.000555890112492156,0.008654681238499235,0.0]},\"hovertemplate\":\"<b>%{hovertext}</b><br><br>type=train<br>Params=%{x}<br>Average accuracy=%{y}<br>params=%{customdata[0]}<extra></extra>\",\"hovertext\":[\"{'gamma': 0.5, 'C': 1}\",\"{'gamma': 0.001, 'C': 3}\",\"{'gamma': 0.01, 'C': 8}\",\"{'gamma': 0.0001, 'C': 8}\",\"{'gamma': 0.01, 'C': 1}\",\"{'gamma': 0.1, 'C': 1}\",\"{'gamma': 0.5, 'C': 5}\",\"{'gamma': 0.1, 'C': 8}\",\"{'gamma': 0.1, 'C': 5}\",\"{'gamma': 0.01, 'C': 3}\",\"{'gamma': 0.0001, 'C': 10}\",\"{'gamma': 0.001, 'C': 1}\",\"{'gamma': 0.0001, 'C': 1}\",\"{'gamma': 0.01, 'C': 10}\"],\"legendgroup\":\"train\",\"marker\":{\"color\":\"#EF553B\",\"pattern\":{\"shape\":\"\"}},\"name\":\"train\",\"offsetgroup\":\"train\",\"orientation\":\"v\",\"showlegend\":true,\"textposition\":\"auto\",\"type\":\"bar\",\"x\":[0,1,2,3,4,5,6,7,8,9,10,11,12,13],\"xaxis\":\"x\",\"y\":[1.0,1.0,1.0,0.9891842063764461,1.0,1.0,1.0,1.0,1.0,1.0,0.9935353530668596,0.9993784959602238,0.8698396612339174,1.0],\"yaxis\":\"y\"}],                        {\"barmode\":\"group\",\"legend\":{\"title\":{\"text\":\"type\"},\"tracegroupgap\":0},\"template\":{\"data\":{\"bar\":[{\"error_x\":{\"color\":\"#2a3f5f\"},\"error_y\":{\"color\":\"#2a3f5f\"},\"marker\":{\"line\":{\"color\":\"#E5ECF6\",\"width\":0.5},\"pattern\":{\"fillmode\":\"overlay\",\"size\":10,\"solidity\":0.2}},\"type\":\"bar\"}],\"barpolar\":[{\"marker\":{\"line\":{\"color\":\"#E5ECF6\",\"width\":0.5},\"pattern\":{\"fillmode\":\"overlay\",\"size\":10,\"solidity\":0.2}},\"type\":\"barpolar\"}],\"carpet\":[{\"aaxis\":{\"endlinecolor\":\"#2a3f5f\",\"gridcolor\":\"white\",\"linecolor\":\"white\",\"minorgridcolor\":\"white\",\"startlinecolor\":\"#2a3f5f\"},\"baxis\":{\"endlinecolor\":\"#2a3f5f\",\"gridcolor\":\"white\",\"linecolor\":\"white\",\"minorgridcolor\":\"white\",\"startlinecolor\":\"#2a3f5f\"},\"type\":\"carpet\"}],\"choropleth\":[{\"colorbar\":{\"outlinewidth\":0,\"ticks\":\"\"},\"type\":\"choropleth\"}],\"contour\":[{\"colorbar\":{\"outlinewidth\":0,\"ticks\":\"\"},\"colorscale\":[[0.0,\"#0d0887\"],[0.1111111111111111,\"#46039f\"],[0.2222222222222222,\"#7201a8\"],[0.3333333333333333,\"#9c179e\"],[0.4444444444444444,\"#bd3786\"],[0.5555555555555556,\"#d8576b\"],[0.6666666666666666,\"#ed7953\"],[0.7777777777777778,\"#fb9f3a\"],[0.8888888888888888,\"#fdca26\"],[1.0,\"#f0f921\"]],\"type\":\"contour\"}],\"contourcarpet\":[{\"colorbar\":{\"outlinewidth\":0,\"ticks\":\"\"},\"type\":\"contourcarpet\"}],\"heatmap\":[{\"colorbar\":{\"outlinewidth\":0,\"ticks\":\"\"},\"colorscale\":[[0.0,\"#0d0887\"],[0.1111111111111111,\"#46039f\"],[0.2222222222222222,\"#7201a8\"],[0.3333333333333333,\"#9c179e\"],[0.4444444444444444,\"#bd3786\"],[0.5555555555555556,\"#d8576b\"],[0.6666666666666666,\"#ed7953\"],[0.7777777777777778,\"#fb9f3a\"],[0.8888888888888888,\"#fdca26\"],[1.0,\"#f0f921\"]],\"type\":\"heatmap\"}],\"heatmapgl\":[{\"colorbar\":{\"outlinewidth\":0,\"ticks\":\"\"},\"colorscale\":[[0.0,\"#0d0887\"],[0.1111111111111111,\"#46039f\"],[0.2222222222222222,\"#7201a8\"],[0.3333333333333333,\"#9c179e\"],[0.4444444444444444,\"#bd3786\"],[0.5555555555555556,\"#d8576b\"],[0.6666666666666666,\"#ed7953\"],[0.7777777777777778,\"#fb9f3a\"],[0.8888888888888888,\"#fdca26\"],[1.0,\"#f0f921\"]],\"type\":\"heatmapgl\"}],\"histogram\":[{\"marker\":{\"pattern\":{\"fillmode\":\"overlay\",\"size\":10,\"solidity\":0.2}},\"type\":\"histogram\"}],\"histogram2d\":[{\"colorbar\":{\"outlinewidth\":0,\"ticks\":\"\"},\"colorscale\":[[0.0,\"#0d0887\"],[0.1111111111111111,\"#46039f\"],[0.2222222222222222,\"#7201a8\"],[0.3333333333333333,\"#9c179e\"],[0.4444444444444444,\"#bd3786\"],[0.5555555555555556,\"#d8576b\"],[0.6666666666666666,\"#ed7953\"],[0.7777777777777778,\"#fb9f3a\"],[0.8888888888888888,\"#fdca26\"],[1.0,\"#f0f921\"]],\"type\":\"histogram2d\"}],\"histogram2dcontour\":[{\"colorbar\":{\"outlinewidth\":0,\"ticks\":\"\"},\"colorscale\":[[0.0,\"#0d0887\"],[0.1111111111111111,\"#46039f\"],[0.2222222222222222,\"#7201a8\"],[0.3333333333333333,\"#9c179e\"],[0.4444444444444444,\"#bd3786\"],[0.5555555555555556,\"#d8576b\"],[0.6666666666666666,\"#ed7953\"],[0.7777777777777778,\"#fb9f3a\"],[0.8888888888888888,\"#fdca26\"],[1.0,\"#f0f921\"]],\"type\":\"histogram2dcontour\"}],\"mesh3d\":[{\"colorbar\":{\"outlinewidth\":0,\"ticks\":\"\"},\"type\":\"mesh3d\"}],\"parcoords\":[{\"line\":{\"colorbar\":{\"outlinewidth\":0,\"ticks\":\"\"}},\"type\":\"parcoords\"}],\"pie\":[{\"automargin\":true,\"type\":\"pie\"}],\"scatter\":[{\"marker\":{\"colorbar\":{\"outlinewidth\":0,\"ticks\":\"\"}},\"type\":\"scatter\"}],\"scatter3d\":[{\"line\":{\"colorbar\":{\"outlinewidth\":0,\"ticks\":\"\"}},\"marker\":{\"colorbar\":{\"outlinewidth\":0,\"ticks\":\"\"}},\"type\":\"scatter3d\"}],\"scattercarpet\":[{\"marker\":{\"colorbar\":{\"outlinewidth\":0,\"ticks\":\"\"}},\"type\":\"scattercarpet\"}],\"scattergeo\":[{\"marker\":{\"colorbar\":{\"outlinewidth\":0,\"ticks\":\"\"}},\"type\":\"scattergeo\"}],\"scattergl\":[{\"marker\":{\"colorbar\":{\"outlinewidth\":0,\"ticks\":\"\"}},\"type\":\"scattergl\"}],\"scattermapbox\":[{\"marker\":{\"colorbar\":{\"outlinewidth\":0,\"ticks\":\"\"}},\"type\":\"scattermapbox\"}],\"scatterpolar\":[{\"marker\":{\"colorbar\":{\"outlinewidth\":0,\"ticks\":\"\"}},\"type\":\"scatterpolar\"}],\"scatterpolargl\":[{\"marker\":{\"colorbar\":{\"outlinewidth\":0,\"ticks\":\"\"}},\"type\":\"scatterpolargl\"}],\"scatterternary\":[{\"marker\":{\"colorbar\":{\"outlinewidth\":0,\"ticks\":\"\"}},\"type\":\"scatterternary\"}],\"surface\":[{\"colorbar\":{\"outlinewidth\":0,\"ticks\":\"\"},\"colorscale\":[[0.0,\"#0d0887\"],[0.1111111111111111,\"#46039f\"],[0.2222222222222222,\"#7201a8\"],[0.3333333333333333,\"#9c179e\"],[0.4444444444444444,\"#bd3786\"],[0.5555555555555556,\"#d8576b\"],[0.6666666666666666,\"#ed7953\"],[0.7777777777777778,\"#fb9f3a\"],[0.8888888888888888,\"#fdca26\"],[1.0,\"#f0f921\"]],\"type\":\"surface\"}],\"table\":[{\"cells\":{\"fill\":{\"color\":\"#EBF0F8\"},\"line\":{\"color\":\"white\"}},\"header\":{\"fill\":{\"color\":\"#C8D4E3\"},\"line\":{\"color\":\"white\"}},\"type\":\"table\"}]},\"layout\":{\"annotationdefaults\":{\"arrowcolor\":\"#2a3f5f\",\"arrowhead\":0,\"arrowwidth\":1},\"autotypenumbers\":\"strict\",\"coloraxis\":{\"colorbar\":{\"outlinewidth\":0,\"ticks\":\"\"}},\"colorscale\":{\"diverging\":[[0,\"#8e0152\"],[0.1,\"#c51b7d\"],[0.2,\"#de77ae\"],[0.3,\"#f1b6da\"],[0.4,\"#fde0ef\"],[0.5,\"#f7f7f7\"],[0.6,\"#e6f5d0\"],[0.7,\"#b8e186\"],[0.8,\"#7fbc41\"],[0.9,\"#4d9221\"],[1,\"#276419\"]],\"sequential\":[[0.0,\"#0d0887\"],[0.1111111111111111,\"#46039f\"],[0.2222222222222222,\"#7201a8\"],[0.3333333333333333,\"#9c179e\"],[0.4444444444444444,\"#bd3786\"],[0.5555555555555556,\"#d8576b\"],[0.6666666666666666,\"#ed7953\"],[0.7777777777777778,\"#fb9f3a\"],[0.8888888888888888,\"#fdca26\"],[1.0,\"#f0f921\"]],\"sequentialminus\":[[0.0,\"#0d0887\"],[0.1111111111111111,\"#46039f\"],[0.2222222222222222,\"#7201a8\"],[0.3333333333333333,\"#9c179e\"],[0.4444444444444444,\"#bd3786\"],[0.5555555555555556,\"#d8576b\"],[0.6666666666666666,\"#ed7953\"],[0.7777777777777778,\"#fb9f3a\"],[0.8888888888888888,\"#fdca26\"],[1.0,\"#f0f921\"]]},\"colorway\":[\"#636efa\",\"#EF553B\",\"#00cc96\",\"#ab63fa\",\"#FFA15A\",\"#19d3f3\",\"#FF6692\",\"#B6E880\",\"#FF97FF\",\"#FECB52\"],\"font\":{\"color\":\"#2a3f5f\"},\"geo\":{\"bgcolor\":\"white\",\"lakecolor\":\"white\",\"landcolor\":\"#E5ECF6\",\"showlakes\":true,\"showland\":true,\"subunitcolor\":\"white\"},\"hoverlabel\":{\"align\":\"left\"},\"hovermode\":\"closest\",\"mapbox\":{\"style\":\"light\"},\"paper_bgcolor\":\"white\",\"plot_bgcolor\":\"#E5ECF6\",\"polar\":{\"angularaxis\":{\"gridcolor\":\"white\",\"linecolor\":\"white\",\"ticks\":\"\"},\"bgcolor\":\"#E5ECF6\",\"radialaxis\":{\"gridcolor\":\"white\",\"linecolor\":\"white\",\"ticks\":\"\"}},\"scene\":{\"xaxis\":{\"backgroundcolor\":\"#E5ECF6\",\"gridcolor\":\"white\",\"gridwidth\":2,\"linecolor\":\"white\",\"showbackground\":true,\"ticks\":\"\",\"zerolinecolor\":\"white\"},\"yaxis\":{\"backgroundcolor\":\"#E5ECF6\",\"gridcolor\":\"white\",\"gridwidth\":2,\"linecolor\":\"white\",\"showbackground\":true,\"ticks\":\"\",\"zerolinecolor\":\"white\"},\"zaxis\":{\"backgroundcolor\":\"#E5ECF6\",\"gridcolor\":\"white\",\"gridwidth\":2,\"linecolor\":\"white\",\"showbackground\":true,\"ticks\":\"\",\"zerolinecolor\":\"white\"}},\"shapedefaults\":{\"line\":{\"color\":\"#2a3f5f\"}},\"ternary\":{\"aaxis\":{\"gridcolor\":\"white\",\"linecolor\":\"white\",\"ticks\":\"\"},\"baxis\":{\"gridcolor\":\"white\",\"linecolor\":\"white\",\"ticks\":\"\"},\"bgcolor\":\"#E5ECF6\",\"caxis\":{\"gridcolor\":\"white\",\"linecolor\":\"white\",\"ticks\":\"\"}},\"title\":{\"x\":0.05},\"xaxis\":{\"automargin\":true,\"gridcolor\":\"white\",\"linecolor\":\"white\",\"ticks\":\"\",\"title\":{\"standoff\":15},\"zerolinecolor\":\"white\",\"zerolinewidth\":2},\"yaxis\":{\"automargin\":true,\"gridcolor\":\"white\",\"linecolor\":\"white\",\"ticks\":\"\",\"title\":{\"standoff\":15},\"zerolinecolor\":\"white\",\"zerolinewidth\":2}}},\"title\":{\"text\":\"Mean accuracy on testing and training set for each parameter combination <br> (Model: Scalar vector machine, Dataset: Listwise deletion)\"},\"xaxis\":{\"anchor\":\"y\",\"domain\":[0.0,1.0],\"title\":{\"text\":\"Params\"}},\"yaxis\":{\"anchor\":\"x\",\"domain\":[0.0,1.0],\"title\":{\"text\":\"Average accuracy\"}}},                        {\"responsive\": true}                    ).then(function(){\n                            \nvar gd = document.getElementById('7b7fc3aa-5c68-4a08-923d-3c64e67dbc5e');\nvar x = new MutationObserver(function (mutations, observer) {{\n        var display = window.getComputedStyle(gd).display;\n        if (!display || display === 'none') {{\n            console.log([gd, 'removed!']);\n            Plotly.purge(gd);\n            observer.disconnect();\n        }}\n}});\n\n// Listen for the removal of the full notebook cells\nvar notebookContainer = gd.closest('#notebook-container');\nif (notebookContainer) {{\n    x.observe(notebookContainer, {childList: true});\n}}\n\n// Listen for the clearing of the current output cell\nvar outputEl = gd.closest('.output');\nif (outputEl) {{\n    x.observe(outputEl, {childList: true});\n}}\n\n                        })                };                });            </script>        </div>"
     },
     "metadata": {},
     "output_type": "display_data"
    }
   ],
   "source": [
    "from sklearn.svm import SVC\n",
    "from scipy.stats import reciprocal,uniform\n",
    "\n",
    "clf_svm = (SVC(gamma=\"auto\"),\"Scalar vector machine\")\n",
    "pgrid_svm = {\"gamma\": [0.5,0.1,0.01,0.001,0.0001], \"C\": [1,3,5,8,10]}\n",
    "stats = computeModelStats(clf_svm,stats,dataset,pgrid_svm,randomizedSearch=14)"
   ],
   "metadata": {
    "collapsed": false,
    "pycharm": {
     "name": "#%%\n"
    }
   }
  },
  {
   "cell_type": "code",
   "execution_count": null,
   "outputs": [
    {
     "name": "stdout",
     "output_type": "stream",
     "text": [
      "Fitting 5 folds for each of 14 candidates, totalling 70 fits\n"
     ]
    }
   ],
   "source": [
    "dataset_scaled = dataset[0][\"X\"].copy(deep=True)\n",
    "for col in dataset_scaled:\n",
    "    dataset_scaled[col]-= dataset_scaled[col].mean()\n",
    "    dataset_scaled[col]/= dataset_scaled[col].std()\n",
    "dataset_scaled = ({\"X\":dataset_scaled,\"y\":y}, \"dataset scaled\")\n",
    "stats = computeModelStats(clf_svm,stats,dataset_scaled,pgrid_svm,randomizedSearch=14)"
   ],
   "metadata": {
    "collapsed": false,
    "pycharm": {
     "name": "#%%\n",
     "is_executing": true
    }
   }
  },
  {
   "cell_type": "code",
   "execution_count": null,
   "outputs": [],
   "source": [
    "def plot_params_incidence(model,dataset,params):\n",
    "    mask1 = stats[\"dataset\"] == dataset[1]\n",
    "    mask2 = stats[\"model\"] == model[1]\n",
    "    mask3 = stats[\"type\"] == \"test\"\n",
    "\n",
    "    df_stats_temp = stats[mask1&mask2&mask3]\n",
    "    df_stats_temp = df_stats_temp.join(pd.json_normalize(df_stats_temp[\"params\"].apply(eval))).sort_values(by=params)\n",
    "\n",
    "    pex.line(df_stats_temp,x=params, labels=params,y=\"mean_score\",title=f\"Mean accuracy on testing depending on hyper prameter values (Model: {model[1]}, Dataset: {dataset[1]}, Params: {params}])\").show()"
   ],
   "metadata": {
    "collapsed": false,
    "pycharm": {
     "name": "#%%\n",
     "is_executing": true
    }
   }
  },
  {
   "cell_type": "code",
   "execution_count": null,
   "outputs": [],
   "source": [
    "plot_params_incidence(clf_svm, dataset_scaled,[\"C\"])"
   ],
   "metadata": {
    "collapsed": false,
    "pycharm": {
     "name": "#%%\n",
     "is_executing": true
    }
   }
  },
  {
   "cell_type": "code",
   "execution_count": null,
   "outputs": [],
   "source": [
    "plot_params_incidence(clf_svm, dataset_scaled,[\"gamma\"])"
   ],
   "metadata": {
    "collapsed": false,
    "pycharm": {
     "name": "#%%\n",
     "is_executing": true
    }
   }
  },
  {
   "cell_type": "markdown",
   "source": [
    "# Linear Regression\n",
    "\n",
    "As we have seen in the exploratory phase it doesnt seem we have any Linear correlation but we're goiing to test"
   ],
   "metadata": {
    "collapsed": false
   }
  },
  {
   "cell_type": "code",
   "execution_count": null,
   "outputs": [],
   "source": [],
   "metadata": {
    "collapsed": false,
    "pycharm": {
     "name": "#%%\n",
     "is_executing": true
    }
   }
  }
 ],
 "metadata": {
  "kernelspec": {
   "display_name": "Python 3",
   "language": "python",
   "name": "python3"
  },
  "language_info": {
   "codemirror_mode": {
    "name": "ipython",
    "version": 2
   },
   "file_extension": ".py",
   "mimetype": "text/x-python",
   "name": "python",
   "nbconvert_exporter": "python",
   "pygments_lexer": "ipython2",
   "version": "2.7.6"
  }
 },
 "nbformat": 4,
 "nbformat_minor": 0
}