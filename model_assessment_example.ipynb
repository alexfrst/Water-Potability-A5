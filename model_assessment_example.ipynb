{
 "cells": [
  {
   "cell_type": "code",
   "execution_count": 23,
   "metadata": {
    "collapsed": true
   },
   "outputs": [],
   "source": [
    "from sklearn.model_selection import StratifiedKFold, GridSearchCV\n",
    "import plotly.express as pex\n",
    "import pandas as pd\n",
    "import sklearn.tree as tree\n",
    "\n",
    "stats = pd.DataFrame()\n",
    "\n",
    "def computeModelStats(model,stats,dataset,hyperParams):\n",
    "    X=dataset[0][\"X\"]\n",
    "    y=dataset[0][\"y\"]\n",
    "\n",
    "    grid_search = GridSearchCV(model[0],cv=StratifiedKFold(n_splits=5),scoring='accuracy',verbose=2, n_jobs=-1, param_grid=hyperParams,return_train_score=True)\n",
    "    grid_search.fit(X,y)\n",
    "    temp_test = pd.DataFrame({ key.replace(\"_test\",\"\"): grid_search.cv_results_ [key] for key in [\"mean_test_score\", \"std_test_score\",\"params\"] })\n",
    "    temp_train = pd.DataFrame({ key.replace(\"_train\",\"\"): grid_search.cv_results_ [key] for key in [\"mean_train_score\", \"std_train_score\",\"params\"]})\n",
    "    temp_train[\"type\"] = \"train\"\n",
    "    temp_test[\"type\"] = \"test\"\n",
    "    temp = temp_test.append(temp_train)\n",
    "    temp[\"dataset\"] = dataset[1]\n",
    "    temp[\"model\"] = model[1]\n",
    "    temp[\"params\"] = temp[\"params\"].astype(str)\n",
    "    stats.append(temp)\n",
    "    print(temp)\n",
    "    fig = pex.bar(temp,y=\"mean_score\",hover_data=[\"params\"],barmode=\"group\",hover_name=\"params\",color=\"type\", title=\"Mean accuracy on testing and training set for each parameter combination\",labels={\"value\": \"Average accuracy\",\"index\": \"Params\"},error_y=\"std_score\")\n",
    "\n",
    "    fig.show()"
   ]
  },
  {
   "cell_type": "code",
   "execution_count": 24,
   "outputs": [],
   "source": [
    "#Chargement du df\n",
    "df = pd.read_csv('drinking_water_potability.csv').dropna(axis=0)\n",
    "y = df[\"Potability\"]\n",
    "#Preprosseing vite fait\n",
    "df.drop(\"Potability\", axis=1,inplace=True)\n"
   ],
   "metadata": {
    "collapsed": false,
    "pycharm": {
     "name": "#%%\n"
    }
   }
  },
  {
   "cell_type": "code",
   "execution_count": 25,
   "outputs": [
    {
     "name": "stdout",
     "output_type": "stream",
     "text": [
      "Fitting 5 folds for each of 16 candidates, totalling 80 fits\n",
      "    mean_score  std_score                                     params   type  \\\n",
      "0     0.601679   0.012278   {'max_depth': 1, 'min_samples_split': 2}   test   \n",
      "1     0.601679   0.012278   {'max_depth': 1, 'min_samples_split': 3}   test   \n",
      "2     0.601679   0.012278   {'max_depth': 1, 'min_samples_split': 5}   test   \n",
      "3     0.601679   0.012278  {'max_depth': 1, 'min_samples_split': 10}   test   \n",
      "4     0.609643   0.022205   {'max_depth': 2, 'min_samples_split': 2}   test   \n",
      "5     0.609643   0.022205   {'max_depth': 2, 'min_samples_split': 3}   test   \n",
      "6     0.609643   0.022205   {'max_depth': 2, 'min_samples_split': 5}   test   \n",
      "7     0.609643   0.022205  {'max_depth': 2, 'min_samples_split': 10}   test   \n",
      "8     0.623577   0.008542   {'max_depth': 3, 'min_samples_split': 2}   test   \n",
      "9     0.623577   0.008542   {'max_depth': 3, 'min_samples_split': 3}   test   \n",
      "10    0.623079   0.008108   {'max_depth': 3, 'min_samples_split': 5}   test   \n",
      "11    0.623079   0.008108  {'max_depth': 3, 'min_samples_split': 10}   test   \n",
      "12    0.614127   0.013712   {'max_depth': 4, 'min_samples_split': 2}   test   \n",
      "13    0.615122   0.013698   {'max_depth': 4, 'min_samples_split': 3}   test   \n",
      "14    0.615122   0.013698   {'max_depth': 4, 'min_samples_split': 5}   test   \n",
      "15    0.609660   0.018581  {'max_depth': 4, 'min_samples_split': 10}   test   \n",
      "0     0.612879   0.008659   {'max_depth': 1, 'min_samples_split': 2}  train   \n",
      "1     0.612879   0.008659   {'max_depth': 1, 'min_samples_split': 3}  train   \n",
      "2     0.612879   0.008659   {'max_depth': 1, 'min_samples_split': 5}  train   \n",
      "3     0.612879   0.008659  {'max_depth': 1, 'min_samples_split': 10}  train   \n",
      "4     0.624812   0.010066   {'max_depth': 2, 'min_samples_split': 2}  train   \n",
      "5     0.624812   0.010066   {'max_depth': 2, 'min_samples_split': 3}  train   \n",
      "6     0.624812   0.010066   {'max_depth': 2, 'min_samples_split': 5}  train   \n",
      "7     0.624812   0.010066  {'max_depth': 2, 'min_samples_split': 10}  train   \n",
      "8     0.644827   0.016047   {'max_depth': 3, 'min_samples_split': 2}  train   \n",
      "9     0.644827   0.016047   {'max_depth': 3, 'min_samples_split': 3}  train   \n",
      "10    0.644827   0.016047   {'max_depth': 3, 'min_samples_split': 5}  train   \n",
      "11    0.644827   0.016047  {'max_depth': 3, 'min_samples_split': 10}  train   \n",
      "12    0.666956   0.017994   {'max_depth': 4, 'min_samples_split': 2}  train   \n",
      "13    0.666956   0.017994   {'max_depth': 4, 'min_samples_split': 3}  train   \n",
      "14    0.666956   0.017994   {'max_depth': 4, 'min_samples_split': 5}  train   \n",
      "15    0.666459   0.018112  {'max_depth': 4, 'min_samples_split': 10}  train   \n",
      "\n",
      "              dataset          model  \n",
      "0   Listwise deletion  Decision Tree  \n",
      "1   Listwise deletion  Decision Tree  \n",
      "2   Listwise deletion  Decision Tree  \n",
      "3   Listwise deletion  Decision Tree  \n",
      "4   Listwise deletion  Decision Tree  \n",
      "5   Listwise deletion  Decision Tree  \n",
      "6   Listwise deletion  Decision Tree  \n",
      "7   Listwise deletion  Decision Tree  \n",
      "8   Listwise deletion  Decision Tree  \n",
      "9   Listwise deletion  Decision Tree  \n",
      "10  Listwise deletion  Decision Tree  \n",
      "11  Listwise deletion  Decision Tree  \n",
      "12  Listwise deletion  Decision Tree  \n",
      "13  Listwise deletion  Decision Tree  \n",
      "14  Listwise deletion  Decision Tree  \n",
      "15  Listwise deletion  Decision Tree  \n",
      "0   Listwise deletion  Decision Tree  \n",
      "1   Listwise deletion  Decision Tree  \n",
      "2   Listwise deletion  Decision Tree  \n",
      "3   Listwise deletion  Decision Tree  \n",
      "4   Listwise deletion  Decision Tree  \n",
      "5   Listwise deletion  Decision Tree  \n",
      "6   Listwise deletion  Decision Tree  \n",
      "7   Listwise deletion  Decision Tree  \n",
      "8   Listwise deletion  Decision Tree  \n",
      "9   Listwise deletion  Decision Tree  \n",
      "10  Listwise deletion  Decision Tree  \n",
      "11  Listwise deletion  Decision Tree  \n",
      "12  Listwise deletion  Decision Tree  \n",
      "13  Listwise deletion  Decision Tree  \n",
      "14  Listwise deletion  Decision Tree  \n",
      "15  Listwise deletion  Decision Tree  \n"
     ]
    },
    {
     "data": {
      "application/vnd.plotly.v1+json": {
       "config": {
        "plotlyServerURL": "https://plotly.com"
       },
       "data": [
        {
         "alignmentgroup": "True",
         "customdata": [
          [
           "{'max_depth': 1, 'min_samples_split': 2}"
          ],
          [
           "{'max_depth': 1, 'min_samples_split': 3}"
          ],
          [
           "{'max_depth': 1, 'min_samples_split': 5}"
          ],
          [
           "{'max_depth': 1, 'min_samples_split': 10}"
          ],
          [
           "{'max_depth': 2, 'min_samples_split': 2}"
          ],
          [
           "{'max_depth': 2, 'min_samples_split': 3}"
          ],
          [
           "{'max_depth': 2, 'min_samples_split': 5}"
          ],
          [
           "{'max_depth': 2, 'min_samples_split': 10}"
          ],
          [
           "{'max_depth': 3, 'min_samples_split': 2}"
          ],
          [
           "{'max_depth': 3, 'min_samples_split': 3}"
          ],
          [
           "{'max_depth': 3, 'min_samples_split': 5}"
          ],
          [
           "{'max_depth': 3, 'min_samples_split': 10}"
          ],
          [
           "{'max_depth': 4, 'min_samples_split': 2}"
          ],
          [
           "{'max_depth': 4, 'min_samples_split': 3}"
          ],
          [
           "{'max_depth': 4, 'min_samples_split': 5}"
          ],
          [
           "{'max_depth': 4, 'min_samples_split': 10}"
          ]
         ],
         "error_y": {
          "array": [
           0.012277907785914245,
           0.012277907785914245,
           0.012277907785914245,
           0.012277907785914245,
           0.0222051573847778,
           0.0222051573847778,
           0.0222051573847778,
           0.0222051573847778,
           0.008542024981830255,
           0.008542024981830255,
           0.00810761911539837,
           0.00810761911539837,
           0.013712133206116427,
           0.013697882030965844,
           0.013697882030965844,
           0.018580867739313674
          ]
         },
         "hovertemplate": "<b>%{hovertext}</b><br><br>type=test<br>Params=%{x}<br>mean_score=%{y}<br>params=%{customdata[0]}<extra></extra>",
         "hovertext": [
          "{'max_depth': 1, 'min_samples_split': 2}",
          "{'max_depth': 1, 'min_samples_split': 3}",
          "{'max_depth': 1, 'min_samples_split': 5}",
          "{'max_depth': 1, 'min_samples_split': 10}",
          "{'max_depth': 2, 'min_samples_split': 2}",
          "{'max_depth': 2, 'min_samples_split': 3}",
          "{'max_depth': 2, 'min_samples_split': 5}",
          "{'max_depth': 2, 'min_samples_split': 10}",
          "{'max_depth': 3, 'min_samples_split': 2}",
          "{'max_depth': 3, 'min_samples_split': 3}",
          "{'max_depth': 3, 'min_samples_split': 5}",
          "{'max_depth': 3, 'min_samples_split': 10}",
          "{'max_depth': 4, 'min_samples_split': 2}",
          "{'max_depth': 4, 'min_samples_split': 3}",
          "{'max_depth': 4, 'min_samples_split': 5}",
          "{'max_depth': 4, 'min_samples_split': 10}"
         ],
         "legendgroup": "test",
         "marker": {
          "color": "#636efa",
          "pattern": {
           "shape": ""
          }
         },
         "name": "test",
         "offsetgroup": "test",
         "orientation": "v",
         "showlegend": true,
         "textposition": "auto",
         "type": "bar",
         "x": [
          0,
          1,
          2,
          3,
          4,
          5,
          6,
          7,
          8,
          9,
          10,
          11,
          12,
          13,
          14,
          15
         ],
         "xaxis": "x",
         "y": [
          0.6016789501623396,
          0.6016789501623396,
          0.6016789501623396,
          0.6016789501623396,
          0.6096428527338493,
          0.6096428527338493,
          0.6096428527338493,
          0.6096428527338493,
          0.6235769045590904,
          0.6235769045590904,
          0.6230793921212794,
          0.6230793921212794,
          0.6141266372850389,
          0.6151216621606607,
          0.6151216621606607,
          0.609660136044344
         ],
         "yaxis": "y"
        },
        {
         "alignmentgroup": "True",
         "customdata": [
          [
           "{'max_depth': 1, 'min_samples_split': 2}"
          ],
          [
           "{'max_depth': 1, 'min_samples_split': 3}"
          ],
          [
           "{'max_depth': 1, 'min_samples_split': 5}"
          ],
          [
           "{'max_depth': 1, 'min_samples_split': 10}"
          ],
          [
           "{'max_depth': 2, 'min_samples_split': 2}"
          ],
          [
           "{'max_depth': 2, 'min_samples_split': 3}"
          ],
          [
           "{'max_depth': 2, 'min_samples_split': 5}"
          ],
          [
           "{'max_depth': 2, 'min_samples_split': 10}"
          ],
          [
           "{'max_depth': 3, 'min_samples_split': 2}"
          ],
          [
           "{'max_depth': 3, 'min_samples_split': 3}"
          ],
          [
           "{'max_depth': 3, 'min_samples_split': 5}"
          ],
          [
           "{'max_depth': 3, 'min_samples_split': 10}"
          ],
          [
           "{'max_depth': 4, 'min_samples_split': 2}"
          ],
          [
           "{'max_depth': 4, 'min_samples_split': 3}"
          ],
          [
           "{'max_depth': 4, 'min_samples_split': 5}"
          ],
          [
           "{'max_depth': 4, 'min_samples_split': 10}"
          ]
         ],
         "error_y": {
          "array": [
           0.008659364991196945,
           0.008659364991196945,
           0.008659364991196945,
           0.008659364991196945,
           0.010066067603943173,
           0.010066067603943173,
           0.010066067603943173,
           0.010066067603943173,
           0.016046847742777454,
           0.016046847742777454,
           0.016046847742777454,
           0.016046847742777454,
           0.017993663973555597,
           0.017993663973555597,
           0.017993663973555597,
           0.018111807667094495
          ]
         },
         "hovertemplate": "<b>%{hovertext}</b><br><br>type=train<br>Params=%{x}<br>mean_score=%{y}<br>params=%{customdata[0]}<extra></extra>",
         "hovertext": [
          "{'max_depth': 1, 'min_samples_split': 2}",
          "{'max_depth': 1, 'min_samples_split': 3}",
          "{'max_depth': 1, 'min_samples_split': 5}",
          "{'max_depth': 1, 'min_samples_split': 10}",
          "{'max_depth': 2, 'min_samples_split': 2}",
          "{'max_depth': 2, 'min_samples_split': 3}",
          "{'max_depth': 2, 'min_samples_split': 5}",
          "{'max_depth': 2, 'min_samples_split': 10}",
          "{'max_depth': 3, 'min_samples_split': 2}",
          "{'max_depth': 3, 'min_samples_split': 3}",
          "{'max_depth': 3, 'min_samples_split': 5}",
          "{'max_depth': 3, 'min_samples_split': 10}",
          "{'max_depth': 4, 'min_samples_split': 2}",
          "{'max_depth': 4, 'min_samples_split': 3}",
          "{'max_depth': 4, 'min_samples_split': 5}",
          "{'max_depth': 4, 'min_samples_split': 10}"
         ],
         "legendgroup": "train",
         "marker": {
          "color": "#EF553B",
          "pattern": {
           "shape": ""
          }
         },
         "name": "train",
         "offsetgroup": "train",
         "orientation": "v",
         "showlegend": true,
         "textposition": "auto",
         "type": "bar",
         "x": [
          0,
          1,
          2,
          3,
          4,
          5,
          6,
          7,
          8,
          9,
          10,
          11,
          12,
          13,
          14,
          15
         ],
         "xaxis": "x",
         "y": [
          0.6128789705914183,
          0.6128789705914183,
          0.6128789705914183,
          0.6128789705914183,
          0.6248124665671024,
          0.6248124665671024,
          0.6248124665671024,
          0.6248124665671024,
          0.6448273702958173,
          0.6448273702958173,
          0.6448273702958173,
          0.6448273702958173,
          0.6669564699807365,
          0.6669564699807365,
          0.6669564699807365,
          0.6664591121459205
         ],
         "yaxis": "y"
        }
       ],
       "layout": {
        "barmode": "group",
        "legend": {
         "title": {
          "text": "type"
         },
         "tracegroupgap": 0
        },
        "template": {
         "data": {
          "bar": [
           {
            "error_x": {
             "color": "#2a3f5f"
            },
            "error_y": {
             "color": "#2a3f5f"
            },
            "marker": {
             "line": {
              "color": "#E5ECF6",
              "width": 0.5
             },
             "pattern": {
              "fillmode": "overlay",
              "size": 10,
              "solidity": 0.2
             }
            },
            "type": "bar"
           }
          ],
          "barpolar": [
           {
            "marker": {
             "line": {
              "color": "#E5ECF6",
              "width": 0.5
             },
             "pattern": {
              "fillmode": "overlay",
              "size": 10,
              "solidity": 0.2
             }
            },
            "type": "barpolar"
           }
          ],
          "carpet": [
           {
            "aaxis": {
             "endlinecolor": "#2a3f5f",
             "gridcolor": "white",
             "linecolor": "white",
             "minorgridcolor": "white",
             "startlinecolor": "#2a3f5f"
            },
            "baxis": {
             "endlinecolor": "#2a3f5f",
             "gridcolor": "white",
             "linecolor": "white",
             "minorgridcolor": "white",
             "startlinecolor": "#2a3f5f"
            },
            "type": "carpet"
           }
          ],
          "choropleth": [
           {
            "colorbar": {
             "outlinewidth": 0,
             "ticks": ""
            },
            "type": "choropleth"
           }
          ],
          "contour": [
           {
            "colorbar": {
             "outlinewidth": 0,
             "ticks": ""
            },
            "colorscale": [
             [
              0.0,
              "#0d0887"
             ],
             [
              0.1111111111111111,
              "#46039f"
             ],
             [
              0.2222222222222222,
              "#7201a8"
             ],
             [
              0.3333333333333333,
              "#9c179e"
             ],
             [
              0.4444444444444444,
              "#bd3786"
             ],
             [
              0.5555555555555556,
              "#d8576b"
             ],
             [
              0.6666666666666666,
              "#ed7953"
             ],
             [
              0.7777777777777778,
              "#fb9f3a"
             ],
             [
              0.8888888888888888,
              "#fdca26"
             ],
             [
              1.0,
              "#f0f921"
             ]
            ],
            "type": "contour"
           }
          ],
          "contourcarpet": [
           {
            "colorbar": {
             "outlinewidth": 0,
             "ticks": ""
            },
            "type": "contourcarpet"
           }
          ],
          "heatmap": [
           {
            "colorbar": {
             "outlinewidth": 0,
             "ticks": ""
            },
            "colorscale": [
             [
              0.0,
              "#0d0887"
             ],
             [
              0.1111111111111111,
              "#46039f"
             ],
             [
              0.2222222222222222,
              "#7201a8"
             ],
             [
              0.3333333333333333,
              "#9c179e"
             ],
             [
              0.4444444444444444,
              "#bd3786"
             ],
             [
              0.5555555555555556,
              "#d8576b"
             ],
             [
              0.6666666666666666,
              "#ed7953"
             ],
             [
              0.7777777777777778,
              "#fb9f3a"
             ],
             [
              0.8888888888888888,
              "#fdca26"
             ],
             [
              1.0,
              "#f0f921"
             ]
            ],
            "type": "heatmap"
           }
          ],
          "heatmapgl": [
           {
            "colorbar": {
             "outlinewidth": 0,
             "ticks": ""
            },
            "colorscale": [
             [
              0.0,
              "#0d0887"
             ],
             [
              0.1111111111111111,
              "#46039f"
             ],
             [
              0.2222222222222222,
              "#7201a8"
             ],
             [
              0.3333333333333333,
              "#9c179e"
             ],
             [
              0.4444444444444444,
              "#bd3786"
             ],
             [
              0.5555555555555556,
              "#d8576b"
             ],
             [
              0.6666666666666666,
              "#ed7953"
             ],
             [
              0.7777777777777778,
              "#fb9f3a"
             ],
             [
              0.8888888888888888,
              "#fdca26"
             ],
             [
              1.0,
              "#f0f921"
             ]
            ],
            "type": "heatmapgl"
           }
          ],
          "histogram": [
           {
            "marker": {
             "pattern": {
              "fillmode": "overlay",
              "size": 10,
              "solidity": 0.2
             }
            },
            "type": "histogram"
           }
          ],
          "histogram2d": [
           {
            "colorbar": {
             "outlinewidth": 0,
             "ticks": ""
            },
            "colorscale": [
             [
              0.0,
              "#0d0887"
             ],
             [
              0.1111111111111111,
              "#46039f"
             ],
             [
              0.2222222222222222,
              "#7201a8"
             ],
             [
              0.3333333333333333,
              "#9c179e"
             ],
             [
              0.4444444444444444,
              "#bd3786"
             ],
             [
              0.5555555555555556,
              "#d8576b"
             ],
             [
              0.6666666666666666,
              "#ed7953"
             ],
             [
              0.7777777777777778,
              "#fb9f3a"
             ],
             [
              0.8888888888888888,
              "#fdca26"
             ],
             [
              1.0,
              "#f0f921"
             ]
            ],
            "type": "histogram2d"
           }
          ],
          "histogram2dcontour": [
           {
            "colorbar": {
             "outlinewidth": 0,
             "ticks": ""
            },
            "colorscale": [
             [
              0.0,
              "#0d0887"
             ],
             [
              0.1111111111111111,
              "#46039f"
             ],
             [
              0.2222222222222222,
              "#7201a8"
             ],
             [
              0.3333333333333333,
              "#9c179e"
             ],
             [
              0.4444444444444444,
              "#bd3786"
             ],
             [
              0.5555555555555556,
              "#d8576b"
             ],
             [
              0.6666666666666666,
              "#ed7953"
             ],
             [
              0.7777777777777778,
              "#fb9f3a"
             ],
             [
              0.8888888888888888,
              "#fdca26"
             ],
             [
              1.0,
              "#f0f921"
             ]
            ],
            "type": "histogram2dcontour"
           }
          ],
          "mesh3d": [
           {
            "colorbar": {
             "outlinewidth": 0,
             "ticks": ""
            },
            "type": "mesh3d"
           }
          ],
          "parcoords": [
           {
            "line": {
             "colorbar": {
              "outlinewidth": 0,
              "ticks": ""
             }
            },
            "type": "parcoords"
           }
          ],
          "pie": [
           {
            "automargin": true,
            "type": "pie"
           }
          ],
          "scatter": [
           {
            "marker": {
             "colorbar": {
              "outlinewidth": 0,
              "ticks": ""
             }
            },
            "type": "scatter"
           }
          ],
          "scatter3d": [
           {
            "line": {
             "colorbar": {
              "outlinewidth": 0,
              "ticks": ""
             }
            },
            "marker": {
             "colorbar": {
              "outlinewidth": 0,
              "ticks": ""
             }
            },
            "type": "scatter3d"
           }
          ],
          "scattercarpet": [
           {
            "marker": {
             "colorbar": {
              "outlinewidth": 0,
              "ticks": ""
             }
            },
            "type": "scattercarpet"
           }
          ],
          "scattergeo": [
           {
            "marker": {
             "colorbar": {
              "outlinewidth": 0,
              "ticks": ""
             }
            },
            "type": "scattergeo"
           }
          ],
          "scattergl": [
           {
            "marker": {
             "colorbar": {
              "outlinewidth": 0,
              "ticks": ""
             }
            },
            "type": "scattergl"
           }
          ],
          "scattermapbox": [
           {
            "marker": {
             "colorbar": {
              "outlinewidth": 0,
              "ticks": ""
             }
            },
            "type": "scattermapbox"
           }
          ],
          "scatterpolar": [
           {
            "marker": {
             "colorbar": {
              "outlinewidth": 0,
              "ticks": ""
             }
            },
            "type": "scatterpolar"
           }
          ],
          "scatterpolargl": [
           {
            "marker": {
             "colorbar": {
              "outlinewidth": 0,
              "ticks": ""
             }
            },
            "type": "scatterpolargl"
           }
          ],
          "scatterternary": [
           {
            "marker": {
             "colorbar": {
              "outlinewidth": 0,
              "ticks": ""
             }
            },
            "type": "scatterternary"
           }
          ],
          "surface": [
           {
            "colorbar": {
             "outlinewidth": 0,
             "ticks": ""
            },
            "colorscale": [
             [
              0.0,
              "#0d0887"
             ],
             [
              0.1111111111111111,
              "#46039f"
             ],
             [
              0.2222222222222222,
              "#7201a8"
             ],
             [
              0.3333333333333333,
              "#9c179e"
             ],
             [
              0.4444444444444444,
              "#bd3786"
             ],
             [
              0.5555555555555556,
              "#d8576b"
             ],
             [
              0.6666666666666666,
              "#ed7953"
             ],
             [
              0.7777777777777778,
              "#fb9f3a"
             ],
             [
              0.8888888888888888,
              "#fdca26"
             ],
             [
              1.0,
              "#f0f921"
             ]
            ],
            "type": "surface"
           }
          ],
          "table": [
           {
            "cells": {
             "fill": {
              "color": "#EBF0F8"
             },
             "line": {
              "color": "white"
             }
            },
            "header": {
             "fill": {
              "color": "#C8D4E3"
             },
             "line": {
              "color": "white"
             }
            },
            "type": "table"
           }
          ]
         },
         "layout": {
          "annotationdefaults": {
           "arrowcolor": "#2a3f5f",
           "arrowhead": 0,
           "arrowwidth": 1
          },
          "autotypenumbers": "strict",
          "coloraxis": {
           "colorbar": {
            "outlinewidth": 0,
            "ticks": ""
           }
          },
          "colorscale": {
           "diverging": [
            [
             0,
             "#8e0152"
            ],
            [
             0.1,
             "#c51b7d"
            ],
            [
             0.2,
             "#de77ae"
            ],
            [
             0.3,
             "#f1b6da"
            ],
            [
             0.4,
             "#fde0ef"
            ],
            [
             0.5,
             "#f7f7f7"
            ],
            [
             0.6,
             "#e6f5d0"
            ],
            [
             0.7,
             "#b8e186"
            ],
            [
             0.8,
             "#7fbc41"
            ],
            [
             0.9,
             "#4d9221"
            ],
            [
             1,
             "#276419"
            ]
           ],
           "sequential": [
            [
             0.0,
             "#0d0887"
            ],
            [
             0.1111111111111111,
             "#46039f"
            ],
            [
             0.2222222222222222,
             "#7201a8"
            ],
            [
             0.3333333333333333,
             "#9c179e"
            ],
            [
             0.4444444444444444,
             "#bd3786"
            ],
            [
             0.5555555555555556,
             "#d8576b"
            ],
            [
             0.6666666666666666,
             "#ed7953"
            ],
            [
             0.7777777777777778,
             "#fb9f3a"
            ],
            [
             0.8888888888888888,
             "#fdca26"
            ],
            [
             1.0,
             "#f0f921"
            ]
           ],
           "sequentialminus": [
            [
             0.0,
             "#0d0887"
            ],
            [
             0.1111111111111111,
             "#46039f"
            ],
            [
             0.2222222222222222,
             "#7201a8"
            ],
            [
             0.3333333333333333,
             "#9c179e"
            ],
            [
             0.4444444444444444,
             "#bd3786"
            ],
            [
             0.5555555555555556,
             "#d8576b"
            ],
            [
             0.6666666666666666,
             "#ed7953"
            ],
            [
             0.7777777777777778,
             "#fb9f3a"
            ],
            [
             0.8888888888888888,
             "#fdca26"
            ],
            [
             1.0,
             "#f0f921"
            ]
           ]
          },
          "colorway": [
           "#636efa",
           "#EF553B",
           "#00cc96",
           "#ab63fa",
           "#FFA15A",
           "#19d3f3",
           "#FF6692",
           "#B6E880",
           "#FF97FF",
           "#FECB52"
          ],
          "font": {
           "color": "#2a3f5f"
          },
          "geo": {
           "bgcolor": "white",
           "lakecolor": "white",
           "landcolor": "#E5ECF6",
           "showlakes": true,
           "showland": true,
           "subunitcolor": "white"
          },
          "hoverlabel": {
           "align": "left"
          },
          "hovermode": "closest",
          "mapbox": {
           "style": "light"
          },
          "paper_bgcolor": "white",
          "plot_bgcolor": "#E5ECF6",
          "polar": {
           "angularaxis": {
            "gridcolor": "white",
            "linecolor": "white",
            "ticks": ""
           },
           "bgcolor": "#E5ECF6",
           "radialaxis": {
            "gridcolor": "white",
            "linecolor": "white",
            "ticks": ""
           }
          },
          "scene": {
           "xaxis": {
            "backgroundcolor": "#E5ECF6",
            "gridcolor": "white",
            "gridwidth": 2,
            "linecolor": "white",
            "showbackground": true,
            "ticks": "",
            "zerolinecolor": "white"
           },
           "yaxis": {
            "backgroundcolor": "#E5ECF6",
            "gridcolor": "white",
            "gridwidth": 2,
            "linecolor": "white",
            "showbackground": true,
            "ticks": "",
            "zerolinecolor": "white"
           },
           "zaxis": {
            "backgroundcolor": "#E5ECF6",
            "gridcolor": "white",
            "gridwidth": 2,
            "linecolor": "white",
            "showbackground": true,
            "ticks": "",
            "zerolinecolor": "white"
           }
          },
          "shapedefaults": {
           "line": {
            "color": "#2a3f5f"
           }
          },
          "ternary": {
           "aaxis": {
            "gridcolor": "white",
            "linecolor": "white",
            "ticks": ""
           },
           "baxis": {
            "gridcolor": "white",
            "linecolor": "white",
            "ticks": ""
           },
           "bgcolor": "#E5ECF6",
           "caxis": {
            "gridcolor": "white",
            "linecolor": "white",
            "ticks": ""
           }
          },
          "title": {
           "x": 0.05
          },
          "xaxis": {
           "automargin": true,
           "gridcolor": "white",
           "linecolor": "white",
           "ticks": "",
           "title": {
            "standoff": 15
           },
           "zerolinecolor": "white",
           "zerolinewidth": 2
          },
          "yaxis": {
           "automargin": true,
           "gridcolor": "white",
           "linecolor": "white",
           "ticks": "",
           "title": {
            "standoff": 15
           },
           "zerolinecolor": "white",
           "zerolinewidth": 2
          }
         }
        },
        "title": {
         "text": "Mean accuracy on testing and training set for each parameter combination"
        },
        "xaxis": {
         "anchor": "y",
         "domain": [
          0.0,
          1.0
         ],
         "title": {
          "text": "Params"
         }
        },
        "yaxis": {
         "anchor": "x",
         "domain": [
          0.0,
          1.0
         ],
         "title": {
          "text": "mean_score"
         }
        }
       }
      },
      "text/html": "<div>                            <div id=\"53895f72-12b6-4624-8536-720c57cc4a0b\" class=\"plotly-graph-div\" style=\"height:525px; width:100%;\"></div>            <script type=\"text/javascript\">                require([\"plotly\"], function(Plotly) {                    window.PLOTLYENV=window.PLOTLYENV || {};                                    if (document.getElementById(\"53895f72-12b6-4624-8536-720c57cc4a0b\")) {                    Plotly.newPlot(                        \"53895f72-12b6-4624-8536-720c57cc4a0b\",                        [{\"alignmentgroup\":\"True\",\"customdata\":[[\"{'max_depth': 1, 'min_samples_split': 2}\"],[\"{'max_depth': 1, 'min_samples_split': 3}\"],[\"{'max_depth': 1, 'min_samples_split': 5}\"],[\"{'max_depth': 1, 'min_samples_split': 10}\"],[\"{'max_depth': 2, 'min_samples_split': 2}\"],[\"{'max_depth': 2, 'min_samples_split': 3}\"],[\"{'max_depth': 2, 'min_samples_split': 5}\"],[\"{'max_depth': 2, 'min_samples_split': 10}\"],[\"{'max_depth': 3, 'min_samples_split': 2}\"],[\"{'max_depth': 3, 'min_samples_split': 3}\"],[\"{'max_depth': 3, 'min_samples_split': 5}\"],[\"{'max_depth': 3, 'min_samples_split': 10}\"],[\"{'max_depth': 4, 'min_samples_split': 2}\"],[\"{'max_depth': 4, 'min_samples_split': 3}\"],[\"{'max_depth': 4, 'min_samples_split': 5}\"],[\"{'max_depth': 4, 'min_samples_split': 10}\"]],\"error_y\":{\"array\":[0.012277907785914245,0.012277907785914245,0.012277907785914245,0.012277907785914245,0.0222051573847778,0.0222051573847778,0.0222051573847778,0.0222051573847778,0.008542024981830255,0.008542024981830255,0.00810761911539837,0.00810761911539837,0.013712133206116427,0.013697882030965844,0.013697882030965844,0.018580867739313674]},\"hovertemplate\":\"<b>%{hovertext}</b><br><br>type=test<br>Params=%{x}<br>mean_score=%{y}<br>params=%{customdata[0]}<extra></extra>\",\"hovertext\":[\"{'max_depth': 1, 'min_samples_split': 2}\",\"{'max_depth': 1, 'min_samples_split': 3}\",\"{'max_depth': 1, 'min_samples_split': 5}\",\"{'max_depth': 1, 'min_samples_split': 10}\",\"{'max_depth': 2, 'min_samples_split': 2}\",\"{'max_depth': 2, 'min_samples_split': 3}\",\"{'max_depth': 2, 'min_samples_split': 5}\",\"{'max_depth': 2, 'min_samples_split': 10}\",\"{'max_depth': 3, 'min_samples_split': 2}\",\"{'max_depth': 3, 'min_samples_split': 3}\",\"{'max_depth': 3, 'min_samples_split': 5}\",\"{'max_depth': 3, 'min_samples_split': 10}\",\"{'max_depth': 4, 'min_samples_split': 2}\",\"{'max_depth': 4, 'min_samples_split': 3}\",\"{'max_depth': 4, 'min_samples_split': 5}\",\"{'max_depth': 4, 'min_samples_split': 10}\"],\"legendgroup\":\"test\",\"marker\":{\"color\":\"#636efa\",\"pattern\":{\"shape\":\"\"}},\"name\":\"test\",\"offsetgroup\":\"test\",\"orientation\":\"v\",\"showlegend\":true,\"textposition\":\"auto\",\"type\":\"bar\",\"x\":[0,1,2,3,4,5,6,7,8,9,10,11,12,13,14,15],\"xaxis\":\"x\",\"y\":[0.6016789501623396,0.6016789501623396,0.6016789501623396,0.6016789501623396,0.6096428527338493,0.6096428527338493,0.6096428527338493,0.6096428527338493,0.6235769045590904,0.6235769045590904,0.6230793921212794,0.6230793921212794,0.6141266372850389,0.6151216621606607,0.6151216621606607,0.609660136044344],\"yaxis\":\"y\"},{\"alignmentgroup\":\"True\",\"customdata\":[[\"{'max_depth': 1, 'min_samples_split': 2}\"],[\"{'max_depth': 1, 'min_samples_split': 3}\"],[\"{'max_depth': 1, 'min_samples_split': 5}\"],[\"{'max_depth': 1, 'min_samples_split': 10}\"],[\"{'max_depth': 2, 'min_samples_split': 2}\"],[\"{'max_depth': 2, 'min_samples_split': 3}\"],[\"{'max_depth': 2, 'min_samples_split': 5}\"],[\"{'max_depth': 2, 'min_samples_split': 10}\"],[\"{'max_depth': 3, 'min_samples_split': 2}\"],[\"{'max_depth': 3, 'min_samples_split': 3}\"],[\"{'max_depth': 3, 'min_samples_split': 5}\"],[\"{'max_depth': 3, 'min_samples_split': 10}\"],[\"{'max_depth': 4, 'min_samples_split': 2}\"],[\"{'max_depth': 4, 'min_samples_split': 3}\"],[\"{'max_depth': 4, 'min_samples_split': 5}\"],[\"{'max_depth': 4, 'min_samples_split': 10}\"]],\"error_y\":{\"array\":[0.008659364991196945,0.008659364991196945,0.008659364991196945,0.008659364991196945,0.010066067603943173,0.010066067603943173,0.010066067603943173,0.010066067603943173,0.016046847742777454,0.016046847742777454,0.016046847742777454,0.016046847742777454,0.017993663973555597,0.017993663973555597,0.017993663973555597,0.018111807667094495]},\"hovertemplate\":\"<b>%{hovertext}</b><br><br>type=train<br>Params=%{x}<br>mean_score=%{y}<br>params=%{customdata[0]}<extra></extra>\",\"hovertext\":[\"{'max_depth': 1, 'min_samples_split': 2}\",\"{'max_depth': 1, 'min_samples_split': 3}\",\"{'max_depth': 1, 'min_samples_split': 5}\",\"{'max_depth': 1, 'min_samples_split': 10}\",\"{'max_depth': 2, 'min_samples_split': 2}\",\"{'max_depth': 2, 'min_samples_split': 3}\",\"{'max_depth': 2, 'min_samples_split': 5}\",\"{'max_depth': 2, 'min_samples_split': 10}\",\"{'max_depth': 3, 'min_samples_split': 2}\",\"{'max_depth': 3, 'min_samples_split': 3}\",\"{'max_depth': 3, 'min_samples_split': 5}\",\"{'max_depth': 3, 'min_samples_split': 10}\",\"{'max_depth': 4, 'min_samples_split': 2}\",\"{'max_depth': 4, 'min_samples_split': 3}\",\"{'max_depth': 4, 'min_samples_split': 5}\",\"{'max_depth': 4, 'min_samples_split': 10}\"],\"legendgroup\":\"train\",\"marker\":{\"color\":\"#EF553B\",\"pattern\":{\"shape\":\"\"}},\"name\":\"train\",\"offsetgroup\":\"train\",\"orientation\":\"v\",\"showlegend\":true,\"textposition\":\"auto\",\"type\":\"bar\",\"x\":[0,1,2,3,4,5,6,7,8,9,10,11,12,13,14,15],\"xaxis\":\"x\",\"y\":[0.6128789705914183,0.6128789705914183,0.6128789705914183,0.6128789705914183,0.6248124665671024,0.6248124665671024,0.6248124665671024,0.6248124665671024,0.6448273702958173,0.6448273702958173,0.6448273702958173,0.6448273702958173,0.6669564699807365,0.6669564699807365,0.6669564699807365,0.6664591121459205],\"yaxis\":\"y\"}],                        {\"barmode\":\"group\",\"legend\":{\"title\":{\"text\":\"type\"},\"tracegroupgap\":0},\"template\":{\"data\":{\"bar\":[{\"error_x\":{\"color\":\"#2a3f5f\"},\"error_y\":{\"color\":\"#2a3f5f\"},\"marker\":{\"line\":{\"color\":\"#E5ECF6\",\"width\":0.5},\"pattern\":{\"fillmode\":\"overlay\",\"size\":10,\"solidity\":0.2}},\"type\":\"bar\"}],\"barpolar\":[{\"marker\":{\"line\":{\"color\":\"#E5ECF6\",\"width\":0.5},\"pattern\":{\"fillmode\":\"overlay\",\"size\":10,\"solidity\":0.2}},\"type\":\"barpolar\"}],\"carpet\":[{\"aaxis\":{\"endlinecolor\":\"#2a3f5f\",\"gridcolor\":\"white\",\"linecolor\":\"white\",\"minorgridcolor\":\"white\",\"startlinecolor\":\"#2a3f5f\"},\"baxis\":{\"endlinecolor\":\"#2a3f5f\",\"gridcolor\":\"white\",\"linecolor\":\"white\",\"minorgridcolor\":\"white\",\"startlinecolor\":\"#2a3f5f\"},\"type\":\"carpet\"}],\"choropleth\":[{\"colorbar\":{\"outlinewidth\":0,\"ticks\":\"\"},\"type\":\"choropleth\"}],\"contour\":[{\"colorbar\":{\"outlinewidth\":0,\"ticks\":\"\"},\"colorscale\":[[0.0,\"#0d0887\"],[0.1111111111111111,\"#46039f\"],[0.2222222222222222,\"#7201a8\"],[0.3333333333333333,\"#9c179e\"],[0.4444444444444444,\"#bd3786\"],[0.5555555555555556,\"#d8576b\"],[0.6666666666666666,\"#ed7953\"],[0.7777777777777778,\"#fb9f3a\"],[0.8888888888888888,\"#fdca26\"],[1.0,\"#f0f921\"]],\"type\":\"contour\"}],\"contourcarpet\":[{\"colorbar\":{\"outlinewidth\":0,\"ticks\":\"\"},\"type\":\"contourcarpet\"}],\"heatmap\":[{\"colorbar\":{\"outlinewidth\":0,\"ticks\":\"\"},\"colorscale\":[[0.0,\"#0d0887\"],[0.1111111111111111,\"#46039f\"],[0.2222222222222222,\"#7201a8\"],[0.3333333333333333,\"#9c179e\"],[0.4444444444444444,\"#bd3786\"],[0.5555555555555556,\"#d8576b\"],[0.6666666666666666,\"#ed7953\"],[0.7777777777777778,\"#fb9f3a\"],[0.8888888888888888,\"#fdca26\"],[1.0,\"#f0f921\"]],\"type\":\"heatmap\"}],\"heatmapgl\":[{\"colorbar\":{\"outlinewidth\":0,\"ticks\":\"\"},\"colorscale\":[[0.0,\"#0d0887\"],[0.1111111111111111,\"#46039f\"],[0.2222222222222222,\"#7201a8\"],[0.3333333333333333,\"#9c179e\"],[0.4444444444444444,\"#bd3786\"],[0.5555555555555556,\"#d8576b\"],[0.6666666666666666,\"#ed7953\"],[0.7777777777777778,\"#fb9f3a\"],[0.8888888888888888,\"#fdca26\"],[1.0,\"#f0f921\"]],\"type\":\"heatmapgl\"}],\"histogram\":[{\"marker\":{\"pattern\":{\"fillmode\":\"overlay\",\"size\":10,\"solidity\":0.2}},\"type\":\"histogram\"}],\"histogram2d\":[{\"colorbar\":{\"outlinewidth\":0,\"ticks\":\"\"},\"colorscale\":[[0.0,\"#0d0887\"],[0.1111111111111111,\"#46039f\"],[0.2222222222222222,\"#7201a8\"],[0.3333333333333333,\"#9c179e\"],[0.4444444444444444,\"#bd3786\"],[0.5555555555555556,\"#d8576b\"],[0.6666666666666666,\"#ed7953\"],[0.7777777777777778,\"#fb9f3a\"],[0.8888888888888888,\"#fdca26\"],[1.0,\"#f0f921\"]],\"type\":\"histogram2d\"}],\"histogram2dcontour\":[{\"colorbar\":{\"outlinewidth\":0,\"ticks\":\"\"},\"colorscale\":[[0.0,\"#0d0887\"],[0.1111111111111111,\"#46039f\"],[0.2222222222222222,\"#7201a8\"],[0.3333333333333333,\"#9c179e\"],[0.4444444444444444,\"#bd3786\"],[0.5555555555555556,\"#d8576b\"],[0.6666666666666666,\"#ed7953\"],[0.7777777777777778,\"#fb9f3a\"],[0.8888888888888888,\"#fdca26\"],[1.0,\"#f0f921\"]],\"type\":\"histogram2dcontour\"}],\"mesh3d\":[{\"colorbar\":{\"outlinewidth\":0,\"ticks\":\"\"},\"type\":\"mesh3d\"}],\"parcoords\":[{\"line\":{\"colorbar\":{\"outlinewidth\":0,\"ticks\":\"\"}},\"type\":\"parcoords\"}],\"pie\":[{\"automargin\":true,\"type\":\"pie\"}],\"scatter\":[{\"marker\":{\"colorbar\":{\"outlinewidth\":0,\"ticks\":\"\"}},\"type\":\"scatter\"}],\"scatter3d\":[{\"line\":{\"colorbar\":{\"outlinewidth\":0,\"ticks\":\"\"}},\"marker\":{\"colorbar\":{\"outlinewidth\":0,\"ticks\":\"\"}},\"type\":\"scatter3d\"}],\"scattercarpet\":[{\"marker\":{\"colorbar\":{\"outlinewidth\":0,\"ticks\":\"\"}},\"type\":\"scattercarpet\"}],\"scattergeo\":[{\"marker\":{\"colorbar\":{\"outlinewidth\":0,\"ticks\":\"\"}},\"type\":\"scattergeo\"}],\"scattergl\":[{\"marker\":{\"colorbar\":{\"outlinewidth\":0,\"ticks\":\"\"}},\"type\":\"scattergl\"}],\"scattermapbox\":[{\"marker\":{\"colorbar\":{\"outlinewidth\":0,\"ticks\":\"\"}},\"type\":\"scattermapbox\"}],\"scatterpolar\":[{\"marker\":{\"colorbar\":{\"outlinewidth\":0,\"ticks\":\"\"}},\"type\":\"scatterpolar\"}],\"scatterpolargl\":[{\"marker\":{\"colorbar\":{\"outlinewidth\":0,\"ticks\":\"\"}},\"type\":\"scatterpolargl\"}],\"scatterternary\":[{\"marker\":{\"colorbar\":{\"outlinewidth\":0,\"ticks\":\"\"}},\"type\":\"scatterternary\"}],\"surface\":[{\"colorbar\":{\"outlinewidth\":0,\"ticks\":\"\"},\"colorscale\":[[0.0,\"#0d0887\"],[0.1111111111111111,\"#46039f\"],[0.2222222222222222,\"#7201a8\"],[0.3333333333333333,\"#9c179e\"],[0.4444444444444444,\"#bd3786\"],[0.5555555555555556,\"#d8576b\"],[0.6666666666666666,\"#ed7953\"],[0.7777777777777778,\"#fb9f3a\"],[0.8888888888888888,\"#fdca26\"],[1.0,\"#f0f921\"]],\"type\":\"surface\"}],\"table\":[{\"cells\":{\"fill\":{\"color\":\"#EBF0F8\"},\"line\":{\"color\":\"white\"}},\"header\":{\"fill\":{\"color\":\"#C8D4E3\"},\"line\":{\"color\":\"white\"}},\"type\":\"table\"}]},\"layout\":{\"annotationdefaults\":{\"arrowcolor\":\"#2a3f5f\",\"arrowhead\":0,\"arrowwidth\":1},\"autotypenumbers\":\"strict\",\"coloraxis\":{\"colorbar\":{\"outlinewidth\":0,\"ticks\":\"\"}},\"colorscale\":{\"diverging\":[[0,\"#8e0152\"],[0.1,\"#c51b7d\"],[0.2,\"#de77ae\"],[0.3,\"#f1b6da\"],[0.4,\"#fde0ef\"],[0.5,\"#f7f7f7\"],[0.6,\"#e6f5d0\"],[0.7,\"#b8e186\"],[0.8,\"#7fbc41\"],[0.9,\"#4d9221\"],[1,\"#276419\"]],\"sequential\":[[0.0,\"#0d0887\"],[0.1111111111111111,\"#46039f\"],[0.2222222222222222,\"#7201a8\"],[0.3333333333333333,\"#9c179e\"],[0.4444444444444444,\"#bd3786\"],[0.5555555555555556,\"#d8576b\"],[0.6666666666666666,\"#ed7953\"],[0.7777777777777778,\"#fb9f3a\"],[0.8888888888888888,\"#fdca26\"],[1.0,\"#f0f921\"]],\"sequentialminus\":[[0.0,\"#0d0887\"],[0.1111111111111111,\"#46039f\"],[0.2222222222222222,\"#7201a8\"],[0.3333333333333333,\"#9c179e\"],[0.4444444444444444,\"#bd3786\"],[0.5555555555555556,\"#d8576b\"],[0.6666666666666666,\"#ed7953\"],[0.7777777777777778,\"#fb9f3a\"],[0.8888888888888888,\"#fdca26\"],[1.0,\"#f0f921\"]]},\"colorway\":[\"#636efa\",\"#EF553B\",\"#00cc96\",\"#ab63fa\",\"#FFA15A\",\"#19d3f3\",\"#FF6692\",\"#B6E880\",\"#FF97FF\",\"#FECB52\"],\"font\":{\"color\":\"#2a3f5f\"},\"geo\":{\"bgcolor\":\"white\",\"lakecolor\":\"white\",\"landcolor\":\"#E5ECF6\",\"showlakes\":true,\"showland\":true,\"subunitcolor\":\"white\"},\"hoverlabel\":{\"align\":\"left\"},\"hovermode\":\"closest\",\"mapbox\":{\"style\":\"light\"},\"paper_bgcolor\":\"white\",\"plot_bgcolor\":\"#E5ECF6\",\"polar\":{\"angularaxis\":{\"gridcolor\":\"white\",\"linecolor\":\"white\",\"ticks\":\"\"},\"bgcolor\":\"#E5ECF6\",\"radialaxis\":{\"gridcolor\":\"white\",\"linecolor\":\"white\",\"ticks\":\"\"}},\"scene\":{\"xaxis\":{\"backgroundcolor\":\"#E5ECF6\",\"gridcolor\":\"white\",\"gridwidth\":2,\"linecolor\":\"white\",\"showbackground\":true,\"ticks\":\"\",\"zerolinecolor\":\"white\"},\"yaxis\":{\"backgroundcolor\":\"#E5ECF6\",\"gridcolor\":\"white\",\"gridwidth\":2,\"linecolor\":\"white\",\"showbackground\":true,\"ticks\":\"\",\"zerolinecolor\":\"white\"},\"zaxis\":{\"backgroundcolor\":\"#E5ECF6\",\"gridcolor\":\"white\",\"gridwidth\":2,\"linecolor\":\"white\",\"showbackground\":true,\"ticks\":\"\",\"zerolinecolor\":\"white\"}},\"shapedefaults\":{\"line\":{\"color\":\"#2a3f5f\"}},\"ternary\":{\"aaxis\":{\"gridcolor\":\"white\",\"linecolor\":\"white\",\"ticks\":\"\"},\"baxis\":{\"gridcolor\":\"white\",\"linecolor\":\"white\",\"ticks\":\"\"},\"bgcolor\":\"#E5ECF6\",\"caxis\":{\"gridcolor\":\"white\",\"linecolor\":\"white\",\"ticks\":\"\"}},\"title\":{\"x\":0.05},\"xaxis\":{\"automargin\":true,\"gridcolor\":\"white\",\"linecolor\":\"white\",\"ticks\":\"\",\"title\":{\"standoff\":15},\"zerolinecolor\":\"white\",\"zerolinewidth\":2},\"yaxis\":{\"automargin\":true,\"gridcolor\":\"white\",\"linecolor\":\"white\",\"ticks\":\"\",\"title\":{\"standoff\":15},\"zerolinecolor\":\"white\",\"zerolinewidth\":2}}},\"title\":{\"text\":\"Mean accuracy on testing and training set for each parameter combination\"},\"xaxis\":{\"anchor\":\"y\",\"domain\":[0.0,1.0],\"title\":{\"text\":\"Params\"}},\"yaxis\":{\"anchor\":\"x\",\"domain\":[0.0,1.0],\"title\":{\"text\":\"mean_score\"}}},                        {\"responsive\": true}                    ).then(function(){\n                            \nvar gd = document.getElementById('53895f72-12b6-4624-8536-720c57cc4a0b');\nvar x = new MutationObserver(function (mutations, observer) {{\n        var display = window.getComputedStyle(gd).display;\n        if (!display || display === 'none') {{\n            console.log([gd, 'removed!']);\n            Plotly.purge(gd);\n            observer.disconnect();\n        }}\n}});\n\n// Listen for the removal of the full notebook cells\nvar notebookContainer = gd.closest('#notebook-container');\nif (notebookContainer) {{\n    x.observe(notebookContainer, {childList: true});\n}}\n\n// Listen for the clearing of the current output cell\nvar outputEl = gd.closest('.output');\nif (outputEl) {{\n    x.observe(outputEl, {childList: true});\n}}\n\n                        })                };                });            </script>        </div>"
     },
     "metadata": {},
     "output_type": "display_data"
    }
   ],
   "source": [
    "#Dataset (avec X contenant les feature et y contenant les prédicats) et en 2ème param la méthode utilisée\n",
    "dataset = ({\"X\":df,\"y\":y},\"Listwise deletion\")\n",
    "\n",
    "#Modèle et en 2ème param la méthode utilisée\n",
    "model = (tree.DecisionTreeClassifier(),\"Decision Tree\")\n",
    "\n",
    "#hyper grid pour tester quelques params (je dirais ~3 valeur par params)\n",
    "pgrid = {\"max_depth\": [1, 2, 3, 4],\n",
    "         \"min_samples_split\": [2, 3, 5, 10]}\n",
    "\n",
    "#tada\n",
    "computeModelStats(model,stats,dataset,pgrid)"
   ],
   "metadata": {
    "collapsed": false,
    "pycharm": {
     "name": "#%%\n"
    }
   }
  },
  {
   "cell_type": "code",
   "execution_count": 25,
   "outputs": [],
   "source": [],
   "metadata": {
    "collapsed": false,
    "pycharm": {
     "name": "#%%\n"
    }
   }
  }
 ],
 "metadata": {
  "kernelspec": {
   "display_name": "Python 3",
   "language": "python",
   "name": "python3"
  },
  "language_info": {
   "codemirror_mode": {
    "name": "ipython",
    "version": 2
   },
   "file_extension": ".py",
   "mimetype": "text/x-python",
   "name": "python",
   "nbconvert_exporter": "python",
   "pygments_lexer": "ipython2",
   "version": "2.7.6"
  }
 },
 "nbformat": 4,
 "nbformat_minor": 0
}